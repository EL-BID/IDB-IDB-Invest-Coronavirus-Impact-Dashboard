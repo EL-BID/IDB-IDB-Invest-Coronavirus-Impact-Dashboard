{
 "cells": [
  {
   "cell_type": "markdown",
   "metadata": {},
   "source": [
    "# Converting orc to csv\n",
    "\n",
    "Converting orc files to csv"
   ]
  },
  {
   "cell_type": "code",
   "execution_count": 1,
   "metadata": {},
   "outputs": [],
   "source": [
    "import os\n",
    "import yaml\n",
    "from glob import glob\n",
    "import pyarrow\n",
    "import pandas as pd\n",
    "from loguru import logger\n",
    "pd.options.display.max_columns = 999"
   ]
  },
  {
   "cell_type": "markdown",
   "metadata": {},
   "source": [
    "## Configuration file"
   ]
  },
  {
   "cell_type": "code",
   "execution_count": 2,
   "metadata": {},
   "outputs": [],
   "source": [
    "config = yaml.load(open(\"config_cities.yaml\"), Loader=yaml.FullLoader)\n",
    "#config"
   ]
  },
  {
   "cell_type": "code",
   "execution_count": 3,
   "metadata": {},
   "outputs": [],
   "source": [
    "countries = [k for k, v in config[\"cities_names\"].items()]\n",
    "cities_lists = [config[\"cities_names\"][k] for k, v in config[\"cities_names\"].items()]\n",
    "cities_configured = [item for sublist in cities_lists for item in sublist]"
   ]
  },
  {
   "cell_type": "markdown",
   "metadata": {},
   "source": [
    "## Functions"
   ]
  },
  {
   "cell_type": "code",
   "execution_count": 12,
   "metadata": {},
   "outputs": [],
   "source": [
    "def fun_orc_to_csv(orc_file, full_path):\n",
    "    \n",
    "    # paths\n",
    "    orc_path = os.path.join(full_path, orc_file)\n",
    "    csv_path = full_path + '/csv/' + orc_file + '.csv'\n",
    "    logger.debug(f\"file: {orc_file}\")\n",
    "    # reading orc file to csv\n",
    "    orc_df = pd.read_orc(orc_path)\n",
    "    orc_df.to_csv(csv_path)\n",
    "    \n",
    "    return orc_file\n",
    "\n",
    "def fun_city_to_csv(city_done, path_write):\n",
    "    path_days = path_write + '/' + city_done + '/grid'\n",
    "    for file in os.listdir(path_days):\n",
    "        \n",
    "        # reading path per city\n",
    "        path_city = path_days + '/' + file + f\"/region_slug={city_done}\"\n",
    "        full_path = os.path.join(path_write, path_city)\n",
    "        logger.info(full_path)\n",
    "        \n",
    "        # all files in city file\n",
    "        all_files = os.listdir(full_path)\n",
    "        \n",
    "        # create csv directory\n",
    "        cmd_mkdir = f\"cd {full_path}; mkdir csv;\"\n",
    "        os.system(cmd_mkdir)\n",
    "        \n",
    "        # converting each orc file\n",
    "        orcs_done = []\n",
    "        for orc_file in all_files:\n",
    "            try:\n",
    "                fun_orc_to_csv(orc_file, full_path)\n",
    "            except:\n",
    "                logger.warning(f\"Not orc_file {orc_file}\")\n",
    "                orc_file = None\n",
    "    \n",
    "            orcs_done.append(orc_file)      \n",
    "        \n",
    "    return \"done!\""
   ]
  },
  {
   "cell_type": "markdown",
   "metadata": {},
   "source": [
    "## Converting"
   ]
  },
  {
   "cell_type": "code",
   "execution_count": 10,
   "metadata": {},
   "outputs": [
    {
     "data": {
      "text/plain": [
       "53"
      ]
     },
     "execution_count": 10,
     "metadata": {},
     "output_type": "execute_result"
    }
   ],
   "source": [
    "path_write = '/home/soniame/shared/spd-sdv-omitnik-waze/corona/allhist/tci_grid'\n",
    "cities_done = os.listdir(path_write)\n",
    "len(cities_done)"
   ]
  },
  {
   "cell_type": "code",
   "execution_count": 11,
   "metadata": {},
   "outputs": [
    {
     "name": "stderr",
     "output_type": "stream",
     "text": [
      "2020-10-28 00:22:07.599 | INFO     | __main__:fun_city_to_csv:8 - /home/soniame/shared/spd-sdv-omitnik-waze/corona/allhist/tci_grid/aguascalientes/grid/2020-10-14-18-02-46_grid/region_slug=aguascalientes\n",
      "2020-10-28 00:22:07.650 | WARNING  | __main__:fun_city_to_csv:23 - Not orc_file .ipynb_checkpoints\n",
      "2020-10-28 00:22:36.468 | WARNING  | __main__:fun_city_to_csv:23 - Not orc_file csv\n"
     ]
    },
    {
     "data": {
      "text/plain": [
       "['done!']"
      ]
     },
     "execution_count": 11,
     "metadata": {},
     "output_type": "execute_result"
    }
   ],
   "source": [
    "#city_done = cities_done[0]\n",
    "[fun_city_to_csv(city_done, path_write) for city_done in cities_done[:1]]"
   ]
  },
  {
   "cell_type": "code",
   "execution_count": null,
   "metadata": {},
   "outputs": [],
   "source": []
  },
  {
   "cell_type": "code",
   "execution_count": null,
   "metadata": {},
   "outputs": [],
   "source": []
  },
  {
   "cell_type": "code",
   "execution_count": null,
   "metadata": {},
   "outputs": [],
   "source": []
  },
  {
   "cell_type": "code",
   "execution_count": null,
   "metadata": {},
   "outputs": [],
   "source": []
  }
 ],
 "metadata": {
  "kernelspec": {
   "display_name": "IDB-IDB-Invest-Coronavirus-Impact-Dashboard",
   "language": "python",
   "name": "idb-idb-invest-coronavirus-impact-dashboard"
  },
  "language_info": {
   "codemirror_mode": {
    "name": "ipython",
    "version": 3
   },
   "file_extension": ".py",
   "mimetype": "text/x-python",
   "name": "python",
   "nbconvert_exporter": "python",
   "pygments_lexer": "ipython3",
   "version": "3.7.9"
  },
  "toc": {
   "base_numbering": 1,
   "nav_menu": {},
   "number_sections": true,
   "sideBar": true,
   "skip_h1_title": false,
   "title_cell": "Table of Contents",
   "title_sidebar": "Contents",
   "toc_cell": false,
   "toc_position": {},
   "toc_section_display": true,
   "toc_window_display": true
  }
 },
 "nbformat": 4,
 "nbformat_minor": 2
}
