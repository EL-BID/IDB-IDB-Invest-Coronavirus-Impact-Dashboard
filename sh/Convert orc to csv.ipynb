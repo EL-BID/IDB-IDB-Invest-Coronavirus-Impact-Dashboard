{
 "cells": [
  {
   "cell_type": "markdown",
   "metadata": {},
   "source": [
    "# Converting orc to csv\n",
    "\n",
    "Converting orc files to csv"
   ]
  },
  {
   "cell_type": "code",
   "execution_count": 19,
   "metadata": {},
   "outputs": [],
   "source": [
    "import os\n",
    "import yaml\n",
    "from glob import glob\n",
    "import pyarrow\n",
    "import pandas as pd\n",
    "from loguru import logger\n",
    "pd.options.display.max_columns = 999"
   ]
  },
  {
   "cell_type": "markdown",
   "metadata": {},
   "source": [
    "## Configuration file"
   ]
  },
  {
   "cell_type": "code",
   "execution_count": 20,
   "metadata": {},
   "outputs": [],
   "source": [
    "config = yaml.load(open(\"config_cities.yaml\"), Loader=yaml.FullLoader)\n",
    "#config"
   ]
  },
  {
   "cell_type": "code",
   "execution_count": 21,
   "metadata": {},
   "outputs": [],
   "source": [
    "countries = [k for k, v in config[\"cities_names\"].items()]\n",
    "cities_lists = [config[\"cities_names\"][k] for k, v in config[\"cities_names\"].items()]\n",
    "cities_configured = [item for sublist in cities_lists for item in sublist]"
   ]
  },
  {
   "cell_type": "markdown",
   "metadata": {},
   "source": [
    "## Functions"
   ]
  },
  {
   "cell_type": "code",
   "execution_count": 22,
   "metadata": {},
   "outputs": [],
   "source": [
    "def fun_orc_to_csv(orc_file, full_path):\n",
    "    \n",
    "    # paths\n",
    "    orc_path = os.path.join(full_path, orc_file)\n",
    "    csv_path = full_path + '/csv/' + orc_file + '.csv'\n",
    "    logger.debug(f\"file: {orc_file}\")\n",
    "    # reading orc file to csv\n",
    "    orc_df = pd.read_orc(orc_path)\n",
    "    orc_df.to_csv(csv_path)\n",
    "    \n",
    "    return orc_file"
   ]
  },
  {
   "cell_type": "code",
   "execution_count": 25,
   "metadata": {},
   "outputs": [],
   "source": [
    "def fun_city_to_csv(city_done, path_write):\n",
    "    path_days = path_write + '/' + city_done + '/grid'\n",
    "    for file in os.listdir(path_days):\n",
    "        \n",
    "        # reading path per city\n",
    "        path_city = path_days + '/' + file + f\"/region_slug={city_done}\"\n",
    "        full_path = os.path.join(path_write, path_city)\n",
    "        logger.info(full_path)\n",
    "        \n",
    "        # all files in city file\n",
    "        all_files = os.listdir(full_path)\n",
    "        \n",
    "        # create csv directory\n",
    "        cmd_mkdir = f\"cd {full_path}; mkdir csv;\"\n",
    "        os.system(cmd_mkdir)\n",
    "        \n",
    "        # converting each orc file\n",
    "        orcs_done = []\n",
    "        for orc_file in all_files:\n",
    "            try:\n",
    "                fun_orc_to_csv(orc_file, full_path)\n",
    "            except:\n",
    "                logger.warning(f\"Not orc_file {orc_file}\")\n",
    "                orc_file = None\n",
    "    \n",
    "            orcs_done.append(orc_file)      \n",
    "        \n",
    "    return \"done!\""
   ]
  },
  {
   "cell_type": "code",
   "execution_count": 26,
   "metadata": {},
   "outputs": [
    {
     "data": {
      "text/plain": [
       "53"
      ]
     },
     "execution_count": 26,
     "metadata": {},
     "output_type": "execute_result"
    }
   ],
   "source": [
    "path_write = '/home/soniame/shared/spd-sdv-omitnik-waze/corona/allhist/tci_grid'\n",
    "cities_done = os.listdir(path_write)\n",
    "len(cities_done)"
   ]
  },
  {
   "cell_type": "code",
   "execution_count": null,
   "metadata": {},
   "outputs": [
    {
     "name": "stderr",
     "output_type": "stream",
     "text": [
      "2020-10-28 00:18:36.387 | INFO     | __main__:fun_orc_to_csv:6 - file: .ipynb_checkpoints\n",
      "2020-10-28 00:18:36.391 | WARNING  | __main__:fun_city_to_csv:23 - Not orc_file .ipynb_checkpoints\n",
      "2020-10-28 00:18:36.392 | INFO     | __main__:fun_orc_to_csv:6 - file: 20201014_220814_00041_k3fpn_06061bd9-17b1-4381-b924-e6c0435043eb\n",
      "2020-10-28 00:18:36.633 | INFO     | __main__:fun_orc_to_csv:6 - file: 20201014_220814_00041_k3fpn_072fd340-f8b5-4c22-bfee-8adf4a5a9bc0\n",
      "2020-10-28 00:18:41.796 | INFO     | __main__:fun_orc_to_csv:6 - file: 20201014_220814_00041_k3fpn_090c7bcf-a46d-459a-bae8-60a341756135\n",
      "2020-10-28 00:18:43.659 | INFO     | __main__:fun_orc_to_csv:6 - file: 20201014_220814_00041_k3fpn_0fe77609-d818-45b1-9a71-262751efd7d5\n",
      "2020-10-28 00:18:47.412 | INFO     | __main__:fun_orc_to_csv:6 - file: 20201014_220814_00041_k3fpn_3714bb0e-6111-4301-9cfa-355e30241fed\n",
      "2020-10-28 00:18:48.037 | INFO     | __main__:fun_orc_to_csv:6 - file: 20201014_220814_00041_k3fpn_53f024cd-d5f7-4bc6-ae4b-b69192490f9e\n",
      "2020-10-28 00:18:49.227 | INFO     | __main__:fun_orc_to_csv:6 - file: 20201014_220814_00041_k3fpn_6d29ff49-08ec-480f-944c-89e2caa56ac0\n",
      "2020-10-28 00:18:49.364 | INFO     | __main__:fun_orc_to_csv:6 - file: 20201014_220814_00041_k3fpn_a245fd33-b578-454c-b6ab-9b24bebf1c82\n",
      "2020-10-28 00:18:55.118 | INFO     | __main__:fun_orc_to_csv:6 - file: 20201014_220814_00041_k3fpn_ab4d0e0c-7c6b-47c5-911a-ae01d725e6cb\n",
      "2020-10-28 00:18:55.498 | INFO     | __main__:fun_orc_to_csv:6 - file: 20201014_220814_00041_k3fpn_bb98cf39-02ce-4b5a-8ceb-51a962631453\n",
      "2020-10-28 00:18:57.530 | WARNING  | __main__:fun_city_to_csv:23 - Not orc_file 20201014_220814_00041_k3fpn_bb98cf39-02ce-4b5a-8ceb-51a962631453\n",
      "2020-10-28 00:18:57.535 | INFO     | __main__:fun_orc_to_csv:6 - file: 20201014_220814_00041_k3fpn_e235e8b3-acfc-4143-b2bb-c12ce1852489\n",
      "2020-10-28 00:18:57.779 | INFO     | __main__:fun_orc_to_csv:6 - file: 20201014_220814_00041_k3fpn_f0ca435a-1060-4751-9980-82535bac0ca1\n",
      "2020-10-28 00:18:59.485 | WARNING  | __main__:fun_city_to_csv:23 - Not orc_file 20201014_220814_00041_k3fpn_f0ca435a-1060-4751-9980-82535bac0ca1\n",
      "2020-10-28 00:18:59.488 | INFO     | __main__:fun_orc_to_csv:6 - file: csv\n",
      "2020-10-28 00:18:59.494 | WARNING  | __main__:fun_city_to_csv:23 - Not orc_file csv\n",
      "2020-10-28 00:18:59.724 | INFO     | __main__:fun_orc_to_csv:6 - file: 20201015_211953_00045_uizkt_20086306-9a53-4bb7-aa47-c575d331664f\n",
      "2020-10-28 00:19:04.759 | INFO     | __main__:fun_orc_to_csv:6 - file: 20201015_211953_00045_uizkt_2237c3a4-8f35-4fd4-bf2f-b038711add50\n",
      "2020-10-28 00:19:11.842 | INFO     | __main__:fun_orc_to_csv:6 - file: 20201015_211953_00045_uizkt_2cdd2a86-3e74-44c5-aabe-654eb70f1850\n",
      "2020-10-28 00:19:13.406 | INFO     | __main__:fun_orc_to_csv:6 - file: 20201015_211953_00045_uizkt_2e15b1a3-c3da-4509-b07a-2b5ffd592313\n",
      "2020-10-28 00:19:13.689 | INFO     | __main__:fun_orc_to_csv:6 - file: 20201015_211953_00045_uizkt_41c422d0-3d4c-48d2-8ffa-38857c3b7331\n",
      "2020-10-28 00:19:15.670 | INFO     | __main__:fun_orc_to_csv:6 - file: 20201015_211953_00045_uizkt_7dd0428d-2fb4-4638-a025-e6bfcd6e7b4f\n",
      "2020-10-28 00:19:16.701 | INFO     | __main__:fun_orc_to_csv:6 - file: 20201015_211953_00045_uizkt_8665e82f-2898-4953-bafa-1cc084fbaa8c\n",
      "2020-10-28 00:19:17.058 | INFO     | __main__:fun_orc_to_csv:6 - file: 20201015_211953_00045_uizkt_9b2258b1-180e-472f-a751-63f27ffa4ae7\n",
      "2020-10-28 00:19:21.982 | WARNING  | __main__:fun_city_to_csv:23 - Not orc_file 20201015_211953_00045_uizkt_9b2258b1-180e-472f-a751-63f27ffa4ae7\n",
      "2020-10-28 00:19:21.986 | INFO     | __main__:fun_orc_to_csv:6 - file: 20201015_211953_00045_uizkt_a5aa7292-b2d5-408f-8743-01382e5cdd26\n",
      "2020-10-28 00:19:25.148 | INFO     | __main__:fun_orc_to_csv:6 - file: 20201015_211953_00045_uizkt_e6337301-9cab-4b51-bf67-d65dddd144fd\n",
      "2020-10-28 00:19:26.400 | INFO     | __main__:fun_orc_to_csv:6 - file: 20201015_205515_00049_4jxv6_1f7f06e4-e34b-418e-b0bd-02b9aab1d07a\n",
      "2020-10-28 00:19:27.042 | WARNING  | __main__:fun_city_to_csv:23 - Not orc_file 20201015_205515_00049_4jxv6_1f7f06e4-e34b-418e-b0bd-02b9aab1d07a\n",
      "2020-10-28 00:19:27.044 | INFO     | __main__:fun_orc_to_csv:6 - file: 20201015_205515_00049_4jxv6_24debbe2-312b-4d17-9a22-6a95df268fad\n",
      "2020-10-28 00:19:29.831 | INFO     | __main__:fun_orc_to_csv:6 - file: 20201015_205515_00049_4jxv6_4df7ef6d-4581-4823-bb31-6d2380b1275c\n",
      "2020-10-28 00:19:35.835 | INFO     | __main__:fun_orc_to_csv:6 - file: 20201015_205515_00049_4jxv6_5b054c3c-425c-4f24-81ec-6e8919825dbb\n",
      "2020-10-28 00:19:43.572 | INFO     | __main__:fun_orc_to_csv:6 - file: 20201015_205515_00049_4jxv6_5d810737-d437-4eed-87a2-831dbdab6385\n"
     ]
    }
   ],
   "source": [
    "#city_done = cities_done[0]\n",
    "[fun_city_to_csv(city_done, path_write) for city_done in cities_done]"
   ]
  },
  {
   "cell_type": "code",
   "execution_count": null,
   "metadata": {},
   "outputs": [],
   "source": []
  },
  {
   "cell_type": "code",
   "execution_count": null,
   "metadata": {},
   "outputs": [],
   "source": []
  },
  {
   "cell_type": "code",
   "execution_count": null,
   "metadata": {},
   "outputs": [],
   "source": []
  },
  {
   "cell_type": "code",
   "execution_count": null,
   "metadata": {},
   "outputs": [],
   "source": []
  }
 ],
 "metadata": {
  "kernelspec": {
   "display_name": "IDB-IDB-Invest-Coronavirus-Impact-Dashboard",
   "language": "python",
   "name": "idb-idb-invest-coronavirus-impact-dashboard"
  },
  "language_info": {
   "codemirror_mode": {
    "name": "ipython",
    "version": 3
   },
   "file_extension": ".py",
   "mimetype": "text/x-python",
   "name": "python",
   "nbconvert_exporter": "python",
   "pygments_lexer": "ipython3",
   "version": "3.7.9"
  },
  "toc": {
   "base_numbering": 1,
   "nav_menu": {},
   "number_sections": true,
   "sideBar": true,
   "skip_h1_title": false,
   "title_cell": "Table of Contents",
   "title_sidebar": "Contents",
   "toc_cell": false,
   "toc_position": {},
   "toc_section_display": true,
   "toc_window_display": false
  }
 },
 "nbformat": 4,
 "nbformat_minor": 2
}
