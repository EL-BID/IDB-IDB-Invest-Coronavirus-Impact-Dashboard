{
 "cells": [
  {
   "cell_type": "markdown",
   "metadata": {},
   "source": [
    "# Converting orc to csv\n",
    "\n",
    "Converting orc files to csv"
   ]
  },
  {
   "cell_type": "code",
   "execution_count": 1,
   "metadata": {},
   "outputs": [],
   "source": [
    "import os\n",
    "import yaml\n",
    "from glob import glob\n",
    "import pyarrow\n",
    "import pandas as pd\n",
    "from loguru import logger\n",
    "pd.options.display.max_columns = 999"
   ]
  },
  {
   "cell_type": "markdown",
   "metadata": {},
   "source": [
    "## Configuration file"
   ]
  },
  {
   "cell_type": "code",
   "execution_count": 2,
   "metadata": {},
   "outputs": [],
   "source": [
    "config = yaml.load(open(\"config_cities.yaml\"), Loader=yaml.FullLoader)\n",
    "#config"
   ]
  },
  {
   "cell_type": "code",
   "execution_count": 3,
   "metadata": {},
   "outputs": [],
   "source": [
    "countries = [k for k, v in config[\"cities_names\"].items()]\n",
    "cities_lists = [config[\"cities_names\"][k] for k, v in config[\"cities_names\"].items()]\n",
    "cities_configured = [item for sublist in cities_lists for item in sublist]"
   ]
  },
  {
   "cell_type": "markdown",
   "metadata": {},
   "source": [
    "## Functions"
   ]
  },
  {
   "cell_type": "code",
   "execution_count": 11,
   "metadata": {},
   "outputs": [],
   "source": [
    "def fun_orc_to_csv(orc_file, full_path):\n",
    "    \n",
    "    # paths\n",
    "    orc_path = os.path.join(full_path, orc_file)\n",
    "    csv_path = full_path + '/csv/' + orc_file + '.csv'\n",
    "    logger.info(f\"file: {orc_file}\")\n",
    "    # reading orc file to csv\n",
    "    orc_df = pd.read_orc(orc_path)\n",
    "    #orc_df.to_csv(csv_path)\n",
    "    \n",
    "    return orc_file"
   ]
  },
  {
   "cell_type": "code",
   "execution_count": 17,
   "metadata": {},
   "outputs": [],
   "source": [
    "def fun_city_to_csv(city_done, path_write):\n",
    "    path_days = path_write + '/' + city_done + '/grid'\n",
    "    for file in os.listdir(path_days):\n",
    "        \n",
    "        # reading path per city\n",
    "        path_city = path_days + '/' + file + f\"/region_slug={city_done}\"\n",
    "        full_path = os.path.join(path_write, path_city)\n",
    "        logger.info(full_path)\n",
    "        # all files in city file\n",
    "        all_files = os.listdir(full_path)\n",
    "        # create csv directory\n",
    "        cmd_mkdir = f\"cd {full_path}; mkdir csv;\"\n",
    "        os.system(cmd_mkdir)\n",
    "        \n",
    "        # converting each orc file\n",
    "        orcs_done = []\n",
    "        for orc_file in all_files:\n",
    "            try:\n",
    "                fun_orc_to_csv(orc_file, full_path)\n",
    "            except:\n",
    "                logger.warning(f\"Not orc_file {orc_file}\")\n",
    "                orc_file = None\n",
    "    \n",
    "            orcs_done.append(orc_file)      \n",
    "        \n",
    "    return \"done!\""
   ]
  },
  {
   "cell_type": "code",
   "execution_count": 18,
   "metadata": {},
   "outputs": [
    {
     "data": {
      "text/plain": [
       "53"
      ]
     },
     "execution_count": 18,
     "metadata": {},
     "output_type": "execute_result"
    }
   ],
   "source": [
    "path_write = '/home/soniame/shared/spd-sdv-omitnik-waze/corona/allhist/tci_grid'\n",
    "cities_done = os.listdir(path_write)\n",
    "len(cities_done)"
   ]
  },
  {
   "cell_type": "code",
   "execution_count": 16,
   "metadata": {},
   "outputs": [
    {
     "name": "stderr",
     "output_type": "stream",
     "text": [
      "2020-10-28 00:14:45.845 | INFO     | __main__:fun_city_to_csv:8 - /home/soniame/shared/spd-sdv-omitnik-waze/corona/allhist/tci_grid/aguascalientes/grid/2020-10-14-18-02-46_grid/region_slug=aguascalientes\n",
      "2020-10-28 00:14:45.896 | INFO     | __main__:fun_orc_to_csv:6 - file: .ipynb_checkpoints\n",
      "2020-10-28 00:14:45.899 | WARNING  | __main__:fun_city_to_csv:21 - Not orc_file .ipynb_checkpoints\n",
      "2020-10-28 00:14:45.902 | INFO     | __main__:fun_orc_to_csv:6 - file: 20201014_220814_00041_k3fpn_06061bd9-17b1-4381-b924-e6c0435043eb\n",
      "2020-10-28 00:14:45.923 | INFO     | __main__:fun_orc_to_csv:6 - file: 20201014_220814_00041_k3fpn_072fd340-f8b5-4c22-bfee-8adf4a5a9bc0\n",
      "2020-10-28 00:14:46.218 | INFO     | __main__:fun_orc_to_csv:6 - file: 20201014_220814_00041_k3fpn_090c7bcf-a46d-459a-bae8-60a341756135\n",
      "2020-10-28 00:14:46.325 | INFO     | __main__:fun_orc_to_csv:6 - file: 20201014_220814_00041_k3fpn_0fe77609-d818-45b1-9a71-262751efd7d5\n",
      "2020-10-28 00:14:46.527 | INFO     | __main__:fun_orc_to_csv:6 - file: 20201014_220814_00041_k3fpn_3714bb0e-6111-4301-9cfa-355e30241fed\n",
      "2020-10-28 00:14:46.564 | INFO     | __main__:fun_orc_to_csv:6 - file: 20201014_220814_00041_k3fpn_53f024cd-d5f7-4bc6-ae4b-b69192490f9e\n",
      "2020-10-28 00:14:46.632 | INFO     | __main__:fun_orc_to_csv:6 - file: 20201014_220814_00041_k3fpn_6d29ff49-08ec-480f-944c-89e2caa56ac0\n",
      "2020-10-28 00:14:46.651 | INFO     | __main__:fun_orc_to_csv:6 - file: 20201014_220814_00041_k3fpn_a245fd33-b578-454c-b6ab-9b24bebf1c82\n",
      "2020-10-28 00:14:46.916 | INFO     | __main__:fun_orc_to_csv:6 - file: 20201014_220814_00041_k3fpn_ab4d0e0c-7c6b-47c5-911a-ae01d725e6cb\n",
      "2020-10-28 00:14:46.946 | INFO     | __main__:fun_orc_to_csv:6 - file: 20201014_220814_00041_k3fpn_bb98cf39-02ce-4b5a-8ceb-51a962631453\n",
      "2020-10-28 00:14:47.173 | INFO     | __main__:fun_orc_to_csv:6 - file: 20201014_220814_00041_k3fpn_e235e8b3-acfc-4143-b2bb-c12ce1852489\n",
      "2020-10-28 00:14:47.197 | INFO     | __main__:fun_orc_to_csv:6 - file: 20201014_220814_00041_k3fpn_f0ca435a-1060-4751-9980-82535bac0ca1\n",
      "2020-10-28 00:14:47.379 | INFO     | __main__:fun_orc_to_csv:6 - file: csv\n",
      "2020-10-28 00:14:47.382 | WARNING  | __main__:fun_city_to_csv:21 - Not orc_file csv\n"
     ]
    },
    {
     "name": "stdout",
     "output_type": "stream",
     "text": [
      "[None, '20201014_220814_00041_k3fpn_06061bd9-17b1-4381-b924-e6c0435043eb', '20201014_220814_00041_k3fpn_072fd340-f8b5-4c22-bfee-8adf4a5a9bc0', '20201014_220814_00041_k3fpn_090c7bcf-a46d-459a-bae8-60a341756135', '20201014_220814_00041_k3fpn_0fe77609-d818-45b1-9a71-262751efd7d5', '20201014_220814_00041_k3fpn_3714bb0e-6111-4301-9cfa-355e30241fed', '20201014_220814_00041_k3fpn_53f024cd-d5f7-4bc6-ae4b-b69192490f9e', '20201014_220814_00041_k3fpn_6d29ff49-08ec-480f-944c-89e2caa56ac0', '20201014_220814_00041_k3fpn_a245fd33-b578-454c-b6ab-9b24bebf1c82', '20201014_220814_00041_k3fpn_ab4d0e0c-7c6b-47c5-911a-ae01d725e6cb', '20201014_220814_00041_k3fpn_bb98cf39-02ce-4b5a-8ceb-51a962631453', '20201014_220814_00041_k3fpn_e235e8b3-acfc-4143-b2bb-c12ce1852489', '20201014_220814_00041_k3fpn_f0ca435a-1060-4751-9980-82535bac0ca1', None]\n"
     ]
    }
   ],
   "source": [
    "#city_done = cities_done[0]\n",
    "[fun_city_to_csv(city_done, path_write) for city_done in cities_done]"
   ]
  },
  {
   "cell_type": "code",
   "execution_count": null,
   "metadata": {},
   "outputs": [],
   "source": []
  },
  {
   "cell_type": "code",
   "execution_count": null,
   "metadata": {},
   "outputs": [],
   "source": []
  },
  {
   "cell_type": "code",
   "execution_count": null,
   "metadata": {},
   "outputs": [],
   "source": []
  },
  {
   "cell_type": "code",
   "execution_count": null,
   "metadata": {},
   "outputs": [],
   "source": []
  }
 ],
 "metadata": {
  "kernelspec": {
   "display_name": "IDB-IDB-Invest-Coronavirus-Impact-Dashboard",
   "language": "python",
   "name": "idb-idb-invest-coronavirus-impact-dashboard"
  },
  "language_info": {
   "codemirror_mode": {
    "name": "ipython",
    "version": 3
   },
   "file_extension": ".py",
   "mimetype": "text/x-python",
   "name": "python",
   "nbconvert_exporter": "python",
   "pygments_lexer": "ipython3",
   "version": "3.7.9"
  },
  "toc": {
   "base_numbering": 1,
   "nav_menu": {},
   "number_sections": true,
   "sideBar": true,
   "skip_h1_title": false,
   "title_cell": "Table of Contents",
   "title_sidebar": "Contents",
   "toc_cell": false,
   "toc_position": {},
   "toc_section_display": true,
   "toc_window_display": false
  }
 },
 "nbformat": 4,
 "nbformat_minor": 2
}
