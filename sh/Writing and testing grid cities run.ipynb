{
 "cells": [
  {
   "cell_type": "markdown",
   "metadata": {},
   "source": [
    "# TCI Grid for cities\n",
    "\n",
    "Running the pipeline for specific cities"
   ]
  },
  {
   "cell_type": "code",
   "execution_count": 29,
   "metadata": {},
   "outputs": [],
   "source": [
    "import os\n",
    "import yaml\n",
    "import itertools\n",
    "from glob import glob"
   ]
  },
  {
   "cell_type": "markdown",
   "metadata": {},
   "source": [
    "## Configuration file"
   ]
  },
  {
   "cell_type": "code",
   "execution_count": 30,
   "metadata": {},
   "outputs": [],
   "source": [
    "config = yaml.load(open(\"config_cities.yaml\"), Loader=yaml.FullLoader)\n",
    "#config"
   ]
  },
  {
   "cell_type": "code",
   "execution_count": 31,
   "metadata": {},
   "outputs": [],
   "source": [
    "countries = [k for k, v in config[\"cities_names\"].items()]\n",
    "cities_lists = [config[\"cities_names\"][k] for k, v in config[\"cities_names\"].items()]\n",
    "cities_configured = [item for sublist in cities_lists for item in sublist]"
   ]
  },
  {
   "cell_type": "markdown",
   "metadata": {},
   "source": [
    "## Evaluation of pipeline"
   ]
  },
  {
   "cell_type": "code",
   "execution_count": 32,
   "metadata": {},
   "outputs": [
    {
     "name": "stdout",
     "output_type": "stream",
     "text": [
      "51\n"
     ]
    }
   ],
   "source": [
    "%%bash\n",
    "ls ~/shared/spd-sdv-omitnik-waze/corona/allhist/tci_grid/ | wc -l"
   ]
  },
  {
   "cell_type": "code",
   "execution_count": 33,
   "metadata": {},
   "outputs": [
    {
     "data": {
      "text/plain": [
       "51"
      ]
     },
     "execution_count": 33,
     "metadata": {},
     "output_type": "execute_result"
    }
   ],
   "source": [
    "path_write = '/home/soniame/shared/spd-sdv-omitnik-waze/corona/allhist/tci_grid'\n",
    "cities_done = os.listdir(path_write)\n",
    "len(cities_done)"
   ]
  },
  {
   "cell_type": "markdown",
   "metadata": {},
   "source": [
    "### Warning!\n",
    "\n",
    "Cities without a result in S3 shared folder"
   ]
  },
  {
   "cell_type": "code",
   "execution_count": 38,
   "metadata": {},
   "outputs": [
    {
     "name": "stdout",
     "output_type": "stream",
     "text": [
      "natal\n",
      "florianopolis\n",
      "montevideo\n"
     ]
    }
   ],
   "source": [
    "cities_missing = list()\n",
    "for city in cities_configured:\n",
    "    if city not in cities_done:\n",
    "        print(city)\n",
    "        cities_missing.append(city)"
   ]
  },
  {
   "cell_type": "code",
   "execution_count": null,
   "metadata": {},
   "outputs": [],
   "source": []
  },
  {
   "cell_type": "markdown",
   "metadata": {},
   "source": [
    "## Testing the pipeline per country"
   ]
  },
  {
   "cell_type": "code",
   "execution_count": 35,
   "metadata": {},
   "outputs": [
    {
     "data": {
      "text/plain": [
       "['Argentina', 'Brasil', 'Chile', 'Colombia', 'Mexico', 'Peru', 'Uruguay']"
      ]
     },
     "execution_count": 35,
     "metadata": {},
     "output_type": "execute_result"
    }
   ],
   "source": [
    "countries"
   ]
  },
  {
   "cell_type": "code",
   "execution_count": 44,
   "metadata": {},
   "outputs": [],
   "source": [
    "def fun_cities_txt(cities_list):\n",
    "    cities_txt = '\" \"'.join(cities_list)\n",
    "\n",
    "    return(cities_txt)\n",
    "\n",
    "def fun_sh_text(cities_txt):\n",
    "    \n",
    "    sh_script = \"\"\"\n",
    "# Running pipeline per city\n",
    "\n",
    "declare -a cities=(\"%s\")\n",
    "\n",
    "for city in ${cities[*]};\n",
    "do \n",
    "    echo $city\n",
    "    python src/entrypoint.py single --config_path='configs/config-grid.yaml' --dependency_graph_path='configs/dependency-graph-grid.yaml' --slug='allhist' --region_def=$city\n",
    "done\n",
    "echo 'All done'\n",
    "    \"\"\" % (cities_txt)\n",
    "    \n",
    "    return(sh_script)"
   ]
  },
  {
   "cell_type": "code",
   "execution_count": 47,
   "metadata": {},
   "outputs": [],
   "source": [
    "def fun_sh_script(country):\n",
    "\n",
    "    sh_text = fun_sh_text(fun_cities_txt(cities_list = config['cities_names'][country]))\n",
    "    \n",
    "    file_name = f\"grid_{country.lower()}.sh\"\n",
    "    file1 = open(file_name, \"w\")\n",
    "    file1.write(sh_text) \n",
    "    file1.close() \n",
    "    \n",
    "    return None"
   ]
  },
  {
   "cell_type": "markdown",
   "metadata": {},
   "source": [
    "### Create bash file per country"
   ]
  },
  {
   "cell_type": "code",
   "execution_count": 48,
   "metadata": {},
   "outputs": [],
   "source": [
    "fun_sh_script(country = 'Mexico')"
   ]
  },
  {
   "cell_type": "markdown",
   "metadata": {},
   "source": [
    "### Create bash file for specific cities"
   ]
  },
  {
   "cell_type": "code",
   "execution_count": 49,
   "metadata": {},
   "outputs": [
    {
     "data": {
      "text/plain": [
       "['natal', 'florianopolis', 'montevideo']"
      ]
     },
     "execution_count": 49,
     "metadata": {},
     "output_type": "execute_result"
    }
   ],
   "source": [
    "cities_missing"
   ]
  },
  {
   "cell_type": "code",
   "execution_count": 51,
   "metadata": {},
   "outputs": [],
   "source": [
    "sh_text = fun_sh_text(fun_cities_txt(cities_missing))\n",
    "\n",
    "file_name = \"grid_missing.sh\"\n",
    "file1 = open(file_name, \"w\")\n",
    "file1.write(sh_text) \n",
    "file1.close() "
   ]
  },
  {
   "cell_type": "code",
   "execution_count": null,
   "metadata": {},
   "outputs": [],
   "source": []
  }
 ],
 "metadata": {
  "kernelspec": {
   "display_name": "IDB-IDB-Invest-Coronavirus-Impact-Dashboard",
   "language": "python",
   "name": "idb-idb-invest-coronavirus-impact-dashboard"
  },
  "language_info": {
   "codemirror_mode": {
    "name": "ipython",
    "version": 3
   },
   "file_extension": ".py",
   "mimetype": "text/x-python",
   "name": "python",
   "nbconvert_exporter": "python",
   "pygments_lexer": "ipython3",
   "version": "3.8.5"
  }
 },
 "nbformat": 4,
 "nbformat_minor": 2
}
