{
 "cells": [
  {
   "cell_type": "code",
   "execution_count": 2,
   "metadata": {},
   "outputs": [
    {
     "data": {
      "text/html": [
       "        <script type=\"text/javascript\">\n",
       "        window.PlotlyConfig = {MathJaxConfig: 'local'};\n",
       "        if (window.MathJax) {MathJax.Hub.Config({SVG: {font: \"STIX-Web\"}});}\n",
       "        if (typeof require !== 'undefined') {\n",
       "        require.undef(\"plotly\");\n",
       "        requirejs.config({\n",
       "            paths: {\n",
       "                'plotly': ['https://cdn.plot.ly/plotly-latest.min']\n",
       "            }\n",
       "        });\n",
       "        require(['plotly'], function(Plotly) {\n",
       "            window._Plotly = Plotly;\n",
       "        });\n",
       "        }\n",
       "        </script>\n",
       "        "
      ]
     },
     "metadata": {},
     "output_type": "display_data"
    },
    {
     "data": {
      "text/html": [
       "        <script type=\"text/javascript\">\n",
       "        window.PlotlyConfig = {MathJaxConfig: 'local'};\n",
       "        if (window.MathJax) {MathJax.Hub.Config({SVG: {font: \"STIX-Web\"}});}\n",
       "        if (typeof require !== 'undefined') {\n",
       "        require.undef(\"plotly\");\n",
       "        requirejs.config({\n",
       "            paths: {\n",
       "                'plotly': ['https://cdn.plot.ly/plotly-latest.min']\n",
       "            }\n",
       "        });\n",
       "        require(['plotly'], function(Plotly) {\n",
       "            window._Plotly = Plotly;\n",
       "        });\n",
       "        }\n",
       "        </script>\n",
       "        "
      ]
     },
     "metadata": {},
     "output_type": "display_data"
    }
   ],
   "source": [
    "# %load first_cell.py\n",
    "import os\n",
    "home = os.environ['HOME']\n",
    "\n",
    "import sys\n",
    "sys.path = sys.path + [f'{home}/.conda/envs/condaenv/lib/python37.zip', \n",
    "                       f'{home}/.conda/envs/condaenv/lib/python3.7', \n",
    "                       f'{home}/.conda/envs/condaenv/lib/python3.7/lib-dynload', \n",
    "                       f'{home}/projects/waze_data_normalization/.env/lib/python3.7/site-packages']\n",
    "\n",
    "\n",
    "\n",
    "%reload_ext autoreload\n",
    "%autoreload 2\n",
    "\n",
    "from paths import RAW_PATH, TREAT_PATH, OUTPUT_PATH, FIGURES_PATH\n",
    "\n",
    "from copy import deepcopy\n",
    "import numpy as np\n",
    "import pandas as pd\n",
    "pd.options.display.max_columns = 999\n",
    "import yaml\n",
    "\n",
    "from pathlib import Path\n",
    "\n",
    "\n",
    "import datetime\n",
    "\n",
    "import warnings\n",
    "warnings.filterwarnings('ignore')\n",
    "\n",
    "# Plotting\n",
    "import plotly\n",
    "import plotly.graph_objs as go\n",
    "import cufflinks as cf\n",
    "plotly.offline.init_notebook_mode(connected=True)\n",
    "\n",
    "cf.go_offline()\n",
    "cf.set_config_file(offline=False, world_readable=True)"
   ]
  },
  {
   "cell_type": "code",
   "execution_count": 3,
   "metadata": {},
   "outputs": [],
   "source": [
    "from src import utils"
   ]
  },
  {
   "cell_type": "code",
   "execution_count": 4,
   "metadata": {},
   "outputs": [],
   "source": [
    "conn = utils.connect_athena(path='../configs/athena.yaml')"
   ]
  },
  {
   "cell_type": "code",
   "execution_count": 21,
   "metadata": {},
   "outputs": [],
   "source": [
    "try:\n",
    "    config_path = os.environ['CONFIG_PATH']\n",
    "except:\n",
    "    config_path = '../configs/20191029-panama_plaza.yaml'\n",
    "    \n",
    "try:\n",
    "    geometry_path = os.environ['GEOMETRY_PATH']\n",
    "except:\n",
    "    geometry_path = '../configs/20191114-medellin.json'"
   ]
  },
  {
   "cell_type": "code",
   "execution_count": 6,
   "metadata": {},
   "outputs": [],
   "source": [
    "config = utils.get_config(config_path)\n",
    "    \n",
    "config['report_data_path'] = Path(f'/home/joaom/shared/spd-sdv-omitnik-waze/preprocessed/{config[\"slug\"]}/{os.environ[\"MILLIS\"]}/support_files/report_data')"
   ]
  },
  {
   "cell_type": "code",
   "execution_count": 10,
   "metadata": {},
   "outputs": [],
   "source": [
    "utils.safe_create_path(config['report_data_path'])\n"
   ]
  },
  {
   "cell_type": "code",
   "execution_count": 7,
   "metadata": {},
   "outputs": [],
   "source": [
    "roadtype_dict = {\n",
    "    1: '1 - freeway',\n",
    "    2: '2 - major highway',\n",
    "    3: '3 - ramp',\n",
    "    4: '4 - minor highway',\n",
    "    5: '5 - primary street',\n",
    "    6: '6 - street',\n",
    "    7: '7 - others'\n",
    "}"
   ]
  },
  {
   "cell_type": "code",
   "execution_count": 8,
   "metadata": {},
   "outputs": [],
   "source": [
    "def query_and_save(query, name, config, conn):\n",
    "    \n",
    "    save_path = config['report_data_path'] / (name + '.csv')\n",
    "    \n",
    "    pd.read_sql_query(query, conn).to_csv(save_path, index=False)\n",
    "    \n",
    "    return save_path"
   ]
  },
  {
   "cell_type": "code",
   "execution_count": 9,
   "metadata": {},
   "outputs": [],
   "source": [
    "#Adds support files folder"
   ]
  },
  {
   "cell_type": "markdown",
   "metadata": {},
   "source": [
    "# Config File"
   ]
  },
  {
   "cell_type": "code",
   "execution_count": 11,
   "metadata": {
    "scrolled": false
   },
   "outputs": [
    {
     "name": "stdout",
     "output_type": "stream",
     "text": [
      "# Query\n",
      "\n",
      "s3_path: s3://iadbprod-public-stata-as-a-service/spd-sdv-omitnik-waze/preprocessed\n",
      "athena_database: spd_sdv_waze_preprocessing\n",
      "slug: panama_plaza\n",
      "raw_database: p-waze-parquet-waze\n",
      "raw_table: jams\n",
      "\n",
      "\n",
      "# Date Ranges\n",
      "\n",
      "road_network: 2019-03-31\n",
      "estimation_period_start: 2018-10-29\n",
      "estimation_period_end: 2018-11-21\n",
      "unbalanced_panel_start: 2018-10-29\n",
      "unbalanced_panel_end: 2019-03-31\n",
      "\n",
      "# Initial Filters\n",
      "\n",
      "initial_filters:\n",
      "    - speed >= 0\n",
      "    # - blockingalertuuid is null # uncomment to filter blocked roads\n",
      "    - length > 0\n",
      "    \n",
      "# Segments Matching Algorithm\n",
      "\n",
      "buffer_size: 2.5 # in meters\n",
      "maximum_angle_difference: 20 # in degrees\n",
      "\n",
      "# Reference Point\n",
      "\n",
      "# If provided, calculates, else None\n",
      "\n",
      "# Paralelization \n",
      "\n",
      "partitioned_query: [4, 16]\n",
      "polygon_resolution: 6 # H3\n",
      "number_of_athena_jobs: 190\n",
      "\n",
      "# Winsorization\n",
      "\n",
      "lower_hard_bound: 10 # km/h\n",
      "upper_hard_bound: 100 # km/h\n",
      "lower_percentile: 0.01\n",
      "upper_percentile: 0.99\n",
      "\n",
      "\n",
      "\n",
      "\n"
     ]
    }
   ],
   "source": [
    "print(open(config_path, 'r').read())"
   ]
  },
  {
   "cell_type": "markdown",
   "metadata": {},
   "source": [
    "# Polygon "
   ]
  },
  {
   "cell_type": "code",
   "execution_count": 22,
   "metadata": {},
   "outputs": [
    {
     "name": "stdout",
     "output_type": "stream",
     "text": [
      "User Guide: https://github.com/keplergl/kepler.gl/blob/master/docs/keplergl-jupyter/user-guide.md\n"
     ]
    },
    {
     "data": {
      "application/vnd.jupyter.widget-view+json": {
       "model_id": "3816c0506a524e488697ada966faa583",
       "version_major": 2,
       "version_minor": 0
      },
      "text/plain": [
       "KeplerGl(data={'polygon': '{\\n   \"type\" : \"FeatureCollection\",\\n   \"features\" : [{\\n      \"type\":\"Feature\",\\n …"
      ]
     },
     "metadata": {},
     "output_type": "display_data"
    }
   ],
   "source": [
    "from keplergl import KeplerGl\n",
    "\n",
    "polygon =  open(geometry_path, 'r').read()\n",
    "\n",
    "    \n",
    "map_1 = KeplerGl(data={\"polygon\": polygon})\n",
    "map_1"
   ]
  },
  {
   "cell_type": "markdown",
   "metadata": {},
   "source": [
    "# Segment Sample Size"
   ]
  },
  {
   "cell_type": "code",
   "execution_count": 33,
   "metadata": {},
   "outputs": [],
   "source": [
    "name = 'roadtype_per_samplesize'\n",
    "\n",
    "query = f\"\"\"\n",
    "select sample_size, roadtype\n",
    "from {config[\"athena_database\"]}.{config[\"slug\"]}_jams_ready_segments_complete\n",
    "\"\"\"\n",
    "\n",
    "save_path = query_and_save(query, name, config, conn)"
   ]
  },
  {
   "cell_type": "code",
   "execution_count": 34,
   "metadata": {},
   "outputs": [],
   "source": [
    "df = pd.read_csv(save_path)\n",
    "df['roadtype_name'] = df['roadtype'].apply(lambda x: roadtype_dict[x])"
   ]
  },
  {
   "cell_type": "markdown",
   "metadata": {},
   "source": [
    "## Distribution of Segment Sample Size"
   ]
  },
  {
   "cell_type": "code",
   "execution_count": 35,
   "metadata": {
    "scrolled": false
   },
   "outputs": [
    {
     "data": {
      "application/vnd.plotly.v1+json": {
       "data": [
        {
         "histfunc": "count",
         "histnorm": "",
         "marker": {
          "color": "rgba(255, 153, 51, 1.0)",
          "line": {
           "color": "#4D5663",
           "width": 1.3
          }
         },
         "name": "sample_size",
         "opacity": 0.8,
         "orientation": "v",
         "type": "histogram",
         "x": []
        }
       ],
       "layout": {
        "barmode": "overlay",
        "legend": {
         "bgcolor": "#F5F6F9",
         "font": {
          "color": "#4D5663"
         }
        },
        "paper_bgcolor": "#F5F6F9",
        "plot_bgcolor": "#F5F6F9",
        "title": "Distribution of Segment Sample Size",
        "titlefont": {
         "color": "#4D5663"
        },
        "xaxis1": {
         "gridcolor": "#E1E5ED",
         "showgrid": true,
         "tickfont": {
          "color": "#4D5663"
         },
         "title": "Sample Size",
         "titlefont": {
          "color": "#4D5663"
         },
         "zerolinecolor": "#E1E5ED"
        },
        "yaxis1": {
         "gridcolor": "#E1E5ED",
         "showgrid": true,
         "tickfont": {
          "color": "#4D5663"
         },
         "title": "Frequency",
         "titlefont": {
          "color": "#4D5663"
         },
         "type": "log",
         "zerolinecolor": "#E1E5ED"
        }
       }
      },
      "text/html": [
       "<div id=\"4eb4b84f-5107-4074-9294-bda292a58e2e\" style=\"height: 525px; width: 100%;\" class=\"plotly-graph-div\"></div><script type=\"text/javascript\">require([\"plotly\"], function(Plotly) { window.PLOTLYENV=window.PLOTLYENV || {};window.PLOTLYENV.BASE_URL=\"https://plot.ly\";Plotly.newPlot(\"4eb4b84f-5107-4074-9294-bda292a58e2e\", [{\"type\": \"histogram\", \"x\": [], \"name\": \"sample_size\", \"marker\": {\"color\": \"rgba(255, 153, 51, 1.0)\", \"line\": {\"width\": 1.3, \"color\": \"#4D5663\"}}, \"orientation\": \"v\", \"opacity\": 0.8, \"histfunc\": \"count\", \"histnorm\": \"\"}], {\"legend\": {\"bgcolor\": \"#F5F6F9\", \"font\": {\"color\": \"#4D5663\"}}, \"paper_bgcolor\": \"#F5F6F9\", \"plot_bgcolor\": \"#F5F6F9\", \"yaxis1\": {\"tickfont\": {\"color\": \"#4D5663\"}, \"gridcolor\": \"#E1E5ED\", \"titlefont\": {\"color\": \"#4D5663\"}, \"zerolinecolor\": \"#E1E5ED\", \"showgrid\": true, \"title\": \"Frequency\", \"type\": \"log\"}, \"xaxis1\": {\"tickfont\": {\"color\": \"#4D5663\"}, \"gridcolor\": \"#E1E5ED\", \"titlefont\": {\"color\": \"#4D5663\"}, \"zerolinecolor\": \"#E1E5ED\", \"showgrid\": true, \"title\": \"Sample Size\"}, \"titlefont\": {\"color\": \"#4D5663\"}, \"title\": \"Distribution of Segment Sample Size\", \"barmode\": \"overlay\"}, {\"showLink\": true, \"linkText\": \"Export to plot.ly\"})});</script>"
      ],
      "text/vnd.plotly.v1+html": [
       "<div id=\"4eb4b84f-5107-4074-9294-bda292a58e2e\" style=\"height: 525px; width: 100%;\" class=\"plotly-graph-div\"></div><script type=\"text/javascript\">require([\"plotly\"], function(Plotly) { window.PLOTLYENV=window.PLOTLYENV || {};window.PLOTLYENV.BASE_URL=\"https://plot.ly\";Plotly.newPlot(\"4eb4b84f-5107-4074-9294-bda292a58e2e\", [{\"type\": \"histogram\", \"x\": [], \"name\": \"sample_size\", \"marker\": {\"color\": \"rgba(255, 153, 51, 1.0)\", \"line\": {\"width\": 1.3, \"color\": \"#4D5663\"}}, \"orientation\": \"v\", \"opacity\": 0.8, \"histfunc\": \"count\", \"histnorm\": \"\"}], {\"legend\": {\"bgcolor\": \"#F5F6F9\", \"font\": {\"color\": \"#4D5663\"}}, \"paper_bgcolor\": \"#F5F6F9\", \"plot_bgcolor\": \"#F5F6F9\", \"yaxis1\": {\"tickfont\": {\"color\": \"#4D5663\"}, \"gridcolor\": \"#E1E5ED\", \"titlefont\": {\"color\": \"#4D5663\"}, \"zerolinecolor\": \"#E1E5ED\", \"showgrid\": true, \"title\": \"Frequency\", \"type\": \"log\"}, \"xaxis1\": {\"tickfont\": {\"color\": \"#4D5663\"}, \"gridcolor\": \"#E1E5ED\", \"titlefont\": {\"color\": \"#4D5663\"}, \"zerolinecolor\": \"#E1E5ED\", \"showgrid\": true, \"title\": \"Sample Size\"}, \"titlefont\": {\"color\": \"#4D5663\"}, \"title\": \"Distribution of Segment Sample Size\", \"barmode\": \"overlay\"}, {\"showLink\": true, \"linkText\": \"Export to plot.ly\"})});</script>"
      ]
     },
     "metadata": {},
     "output_type": "display_data"
    }
   ],
   "source": [
    "df['sample_size'].iplot(\n",
    "    kind='histogram',\n",
    "    title='Distribution of Segment Sample Size',\n",
    "    xTitle='Sample Size',\n",
    "    yTitle='Frequency',\n",
    "    bins=None,\n",
    "    yaxis_type='log',)"
   ]
  },
  {
   "cell_type": "markdown",
   "metadata": {},
   "source": [
    "## Cumulative Distribution of Segment Sample Size"
   ]
  },
  {
   "cell_type": "code",
   "execution_count": 36,
   "metadata": {},
   "outputs": [
    {
     "data": {
      "application/vnd.plotly.v1+json": {
       "data": [
        {
         "line": {
          "color": "rgba(255, 153, 51, 1.0)",
          "dash": "solid",
          "shape": "linear",
          "width": 5
         },
         "mode": "lines",
         "name": "roadtype",
         "text": "",
         "type": "scatter",
         "x": [],
         "y": []
        }
       ],
       "layout": {
        "legend": {
         "bgcolor": "#F5F6F9",
         "font": {
          "color": "#4D5663"
         }
        },
        "paper_bgcolor": "#F5F6F9",
        "plot_bgcolor": "#F5F6F9",
        "title": "Cumulative Distribution of Sample Size for 200k Segments (~20% ss)",
        "titlefont": {
         "color": "#4D5663"
        },
        "xaxis1": {
         "gridcolor": "#E1E5ED",
         "showgrid": true,
         "tickfont": {
          "color": "#4D5663"
         },
         "title": "Sample Size",
         "titlefont": {
          "color": "#4D5663"
         },
         "type": "log",
         "zerolinecolor": "#E1E5ED"
        },
        "yaxis1": {
         "gridcolor": "#E1E5ED",
         "showgrid": true,
         "tickfont": {
          "color": "#4D5663"
         },
         "title": "Cummulative %",
         "titlefont": {
          "color": "#4D5663"
         },
         "zerolinecolor": "#E1E5ED"
        }
       }
      },
      "text/html": [
       "<div id=\"cc5e4225-4b41-44b8-8c59-cf588ecaf135\" style=\"height: 525px; width: 100%;\" class=\"plotly-graph-div\"></div><script type=\"text/javascript\">require([\"plotly\"], function(Plotly) { window.PLOTLYENV=window.PLOTLYENV || {};window.PLOTLYENV.BASE_URL=\"https://plot.ly\";Plotly.newPlot(\"cc5e4225-4b41-44b8-8c59-cf588ecaf135\", [{\"type\": \"scatter\", \"x\": [], \"y\": [], \"name\": \"roadtype\", \"text\": \"\", \"line\": {\"color\": \"rgba(255, 153, 51, 1.0)\", \"width\": 5, \"dash\": \"solid\", \"shape\": \"linear\"}, \"mode\": \"lines\"}], {\"legend\": {\"bgcolor\": \"#F5F6F9\", \"font\": {\"color\": \"#4D5663\"}}, \"paper_bgcolor\": \"#F5F6F9\", \"plot_bgcolor\": \"#F5F6F9\", \"yaxis1\": {\"tickfont\": {\"color\": \"#4D5663\"}, \"gridcolor\": \"#E1E5ED\", \"titlefont\": {\"color\": \"#4D5663\"}, \"zerolinecolor\": \"#E1E5ED\", \"showgrid\": true, \"title\": \"Cummulative %\"}, \"xaxis1\": {\"tickfont\": {\"color\": \"#4D5663\"}, \"gridcolor\": \"#E1E5ED\", \"titlefont\": {\"color\": \"#4D5663\"}, \"zerolinecolor\": \"#E1E5ED\", \"showgrid\": true, \"title\": \"Sample Size\", \"type\": \"log\"}, \"titlefont\": {\"color\": \"#4D5663\"}, \"title\": \"Cumulative Distribution of Sample Size for 200k Segments (~20% ss)\"}, {\"showLink\": true, \"linkText\": \"Export to plot.ly\"})});</script>"
      ],
      "text/vnd.plotly.v1+html": [
       "<div id=\"cc5e4225-4b41-44b8-8c59-cf588ecaf135\" style=\"height: 525px; width: 100%;\" class=\"plotly-graph-div\"></div><script type=\"text/javascript\">require([\"plotly\"], function(Plotly) { window.PLOTLYENV=window.PLOTLYENV || {};window.PLOTLYENV.BASE_URL=\"https://plot.ly\";Plotly.newPlot(\"cc5e4225-4b41-44b8-8c59-cf588ecaf135\", [{\"type\": \"scatter\", \"x\": [], \"y\": [], \"name\": \"roadtype\", \"text\": \"\", \"line\": {\"color\": \"rgba(255, 153, 51, 1.0)\", \"width\": 5, \"dash\": \"solid\", \"shape\": \"linear\"}, \"mode\": \"lines\"}], {\"legend\": {\"bgcolor\": \"#F5F6F9\", \"font\": {\"color\": \"#4D5663\"}}, \"paper_bgcolor\": \"#F5F6F9\", \"plot_bgcolor\": \"#F5F6F9\", \"yaxis1\": {\"tickfont\": {\"color\": \"#4D5663\"}, \"gridcolor\": \"#E1E5ED\", \"titlefont\": {\"color\": \"#4D5663\"}, \"zerolinecolor\": \"#E1E5ED\", \"showgrid\": true, \"title\": \"Cummulative %\"}, \"xaxis1\": {\"tickfont\": {\"color\": \"#4D5663\"}, \"gridcolor\": \"#E1E5ED\", \"titlefont\": {\"color\": \"#4D5663\"}, \"zerolinecolor\": \"#E1E5ED\", \"showgrid\": true, \"title\": \"Sample Size\", \"type\": \"log\"}, \"titlefont\": {\"color\": \"#4D5663\"}, \"title\": \"Cumulative Distribution of Sample Size for 200k Segments (~20% ss)\"}, {\"showLink\": true, \"linkText\": \"Export to plot.ly\"})});</script>"
      ]
     },
     "metadata": {},
     "output_type": "display_data"
    }
   ],
   "source": [
    "df.groupby('sample_size').count().cumsum().divide(len(df) / 100)['roadtype'].iplot(\n",
    "        title='Cumulative Distribution of Sample Size for 200k Segments (~20% ss)',\n",
    "        xTitle='Sample Size',\n",
    "        yTitle='Cummulative %',\n",
    "        width=5,\n",
    "        xaxis_type='log'\n",
    "        )"
   ]
  },
  {
   "cell_type": "markdown",
   "metadata": {},
   "source": [
    "## Distribution of Segment Sample Size per Roadtype"
   ]
  },
  {
   "cell_type": "markdown",
   "metadata": {},
   "source": [
    "## Cumulative Distribution of Segment Sample Size per Roadtype"
   ]
  },
  {
   "cell_type": "code",
   "execution_count": null,
   "metadata": {},
   "outputs": [],
   "source": [
    "df.groupby(['sample_size', 'roadtype_name']).count().reset_index()\\\n",
    "        .pivot(columns='roadtype_name', values='roadtype', index='sample_size')\\\n",
    "        .cumsum().divide(df.groupby('roadtype_name').count()['roadtype'] / 100).iplot( \n",
    "    title='Cumulative Distribution of Segment Sample Size per Roadtype',\n",
    "    xTitle='Sample Size',\n",
    "    yTitle='%',\n",
    "    shape=(3,2),\n",
    "    subplots=True,\n",
    "    shared_xaxes=True,\n",
    "    subplot_titles=True,\n",
    "    legend=False,\n",
    "    xaxis_type='log',\n",
    "    mode='lines', \n",
    "    fill=True,\n",
    "    width=0\n",
    "    )"
   ]
  },
  {
   "cell_type": "markdown",
   "metadata": {},
   "source": [
    "## Share of Roadtype per Segment Sample Size"
   ]
  },
  {
   "cell_type": "code",
   "execution_count": null,
   "metadata": {},
   "outputs": [],
   "source": [
    "df['sample'] = pd.cut(df['sample_size'], bins=range(0, 150000, 1000)).apply(lambda x: x.right)\n",
    "df1 = df.groupby(['sample', 'roadtype_name']).sum().reset_index().pivot(index='sample', columns='roadtype_name', values='sample_size').fillna(0)\n",
    "\n",
    "df1.divide(df1.sum(1), axis='index').multiply(100).iplot( \n",
    "    kind='bar', barmode='stack',\n",
    "    xTitle='Sample Size',\n",
    "    yTitle='% by Road Type',\n",
    "    title='Share of Roadtype per Segment Sample Size')"
   ]
  },
  {
   "cell_type": "markdown",
   "metadata": {},
   "source": [
    "## Roadtype By level"
   ]
  },
  {
   "cell_type": "code",
   "execution_count": null,
   "metadata": {},
   "outputs": [],
   "source": [
    "name = 'roadtype_by_level'\n",
    "\n",
    "query = f\"\"\"\n",
    "select roadtype, level, count(*) as counta\n",
    "from {config[\"athena_database\"]}.{config[\"slug\"]}_jams_ready_estimations_open_final\n",
    "group by roadtype, level\n",
    "\"\"\"\n",
    "\n",
    "save_path = query_and_save(query, name, config, conn)"
   ]
  },
  {
   "cell_type": "code",
   "execution_count": null,
   "metadata": {},
   "outputs": [],
   "source": [
    "df = pd.read_csv(save_path)\n",
    "df['roadtype_name'] = df['roadtype'].apply(lambda x: roadtype_dict[x])"
   ]
  },
  {
   "cell_type": "code",
   "execution_count": null,
   "metadata": {},
   "outputs": [],
   "source": [
    "df.pivot(index='roadtype_name', columns='level', values='counta')\\\n",
    ".divide(df.pivot(index='roadtype_name', columns='level', values='counta').sum(1), 'index').multiply(100)\\\n",
    ".iplot(kind='bar', barmode='stack',\n",
    "        title='Road Type x Level', xTitle='Roadtype', yTitle='Level Proportion (%)')"
   ]
  },
  {
   "cell_type": "markdown",
   "metadata": {},
   "source": [
    "# Accuracy"
   ]
  },
  {
   "cell_type": "markdown",
   "metadata": {},
   "source": [
    "## Accuracy vs. Sample Size of Weighted Freeflow Estimators"
   ]
  },
  {
   "cell_type": "code",
   "execution_count": null,
   "metadata": {},
   "outputs": [],
   "source": [
    "name = 'estimations_accuracy'\n",
    "\n",
    "query = f\"\"\"\n",
    "select sample_size, \n",
    "       avg(avg_accuracy) as freeflow, \n",
    "       avg(roadtype_accuracy) as roadtype_freeflow,\n",
    "       avg(greatest(avg_accuracy, roadtype_accuracy)) as best_freeflow\n",
    "from (\n",
    "    select *\n",
    "    from {config[\"athena_database\"]}.{config[\"slug\"]}_jams_ready_estimations_accuracy)\n",
    "group by sample_size\n",
    "order by sample_size\n",
    "\"\"\"\n",
    "\n",
    "save_path = query_and_save(query, name, config, conn)"
   ]
  },
  {
   "cell_type": "code",
   "execution_count": null,
   "metadata": {},
   "outputs": [],
   "source": [
    "df = pd.read_csv(save_path)"
   ]
  },
  {
   "cell_type": "code",
   "execution_count": null,
   "metadata": {},
   "outputs": [],
   "source": [
    "df.set_index('sample_size').rolling(200).mean().iplot(    \n",
    "    xTitle='Estimation Sample Size',\n",
    "    yTitle='Accuracy of predicting level',\n",
    "    title='Accuracy x Estimation Sample Size w/ Rolling Mean 200 window (Weighted)')"
   ]
  },
  {
   "cell_type": "code",
   "execution_count": null,
   "metadata": {},
   "outputs": [],
   "source": [
    "df.set_index('sample_size').rolling(1000).mean().iplot(    \n",
    "    xTitle='Estimation Sample Size',\n",
    "    yTitle='Accuracy of predicting level',\n",
    "    title='Accuracy x Estimation Sample Size w/ Rolling Mean 1000 window (Weighted)')"
   ]
  },
  {
   "cell_type": "markdown",
   "metadata": {},
   "source": [
    "## Accuracy vs. Sample Size of Weighted Freeflow Estimators By Roadtypes"
   ]
  },
  {
   "cell_type": "code",
   "execution_count": null,
   "metadata": {},
   "outputs": [],
   "source": [
    "name = 'estimations_accuracy_roadtype'\n",
    "\n",
    "query = f\"\"\"\n",
    "select sample_size, roadtype, \n",
    "avg_accuracy as freeflow, roadtype_accuracy as roadtype_freeflow, best_accuracy as best_freeflow\n",
    "from {config[\"athena_database\"]}.{config[\"slug\"]}_jams_ready_estimations_accuracy_roadtype\n",
    "order by sample_size\n",
    "\"\"\"\n",
    "\n",
    "save_path = query_and_save(query, name, config, conn)"
   ]
  },
  {
   "cell_type": "code",
   "execution_count": null,
   "metadata": {},
   "outputs": [],
   "source": [
    "df = pd.read_csv(save_path)\n",
    "# df['roadtype_name'] = df['roadtype'].apply(lambda x: roadtype_dict[x])"
   ]
  },
  {
   "cell_type": "code",
   "execution_count": null,
   "metadata": {},
   "outputs": [],
   "source": [
    "rolling = list(map(int, df.query('sample_size < 100000').groupby('roadtype').count()['sample_size'].divide(10)))\n",
    "groups = list(map(str, np.sort(df['roadtype'].unique())))\n",
    "\n",
    "# Adds figures\n",
    "figs = [df.query(f\"roadtype == '{group}'\")\\\n",
    "        .query('sample_size < 100000')\\\n",
    "        .set_index('sample_size')\\\n",
    "        .drop(['roadtype'], 1)\\\n",
    "        .rolling(rolling[i]).mean()\\\n",
    "        .figure()\n",
    "     for i, group in enumerate(groups)]\n",
    "\n",
    "# Add legend group to same traces \n",
    "for i in range(len(groups)):\n",
    "    for j in range(len(figs[i]['data'])):\n",
    "        figs[i]['data'][j]['legendgroup'] = str(j)\n",
    "        figs[i]['data'][j]['showlegend'] = i == 0\n",
    "\n",
    "# Instantiate figure as subplot\n",
    "figure = cf.subplots(figs, shape=(len(groups), 1), \n",
    "                     subplot_titles=[ 'Roadtype ' + roadtype_dict[int(group)] + f' (Rolling Window {rolling[i]})' \n",
    "                                     for i, group in enumerate(groups)], \n",
    "                     vertical_spacing=0.05)\n",
    "\n",
    "# Adjust height and add overall title\n",
    "figure['layout']['height'] = len(groups) * 300\n",
    "figure['layout']['title'] = 'Accuracy x Sample Size by Level (Weighted)'\n",
    "\n",
    "\n",
    "# Edits layout of each subplot\n",
    "for i in range(1, len(groups) + 1):\n",
    "    \n",
    "    if i == 1:\n",
    "        i = ''\n",
    "        \n",
    "    figure['layout'][f'yaxis{i}']['title'] = 'Accuracy'\n",
    "    figure['layout'][f'yaxis{i}']['range'] = [0.2, 1]"
   ]
  },
  {
   "cell_type": "code",
   "execution_count": null,
   "metadata": {
    "scrolled": false
   },
   "outputs": [],
   "source": [
    "plotly.offline.iplot(figure)"
   ]
  },
  {
   "cell_type": "markdown",
   "metadata": {},
   "source": [
    "## Accuracy vs. Sample Size of Weighted Freeflow Estimators By Level"
   ]
  },
  {
   "cell_type": "code",
   "execution_count": null,
   "metadata": {},
   "outputs": [],
   "source": [
    "name = 'estimations_accuracy_level'\n",
    "\n",
    "query = f\"\"\"\n",
    "select sample_size, level_group, \n",
    "avg_accuracy as freeflow, roadtype_accuracy as roadtype_freeflow, best_accuracy as best_freeflow\n",
    "from {config[\"athena_database\"]}.{config[\"slug\"]}_jams_ready_estimations_accuracy_level\n",
    "order by sample_size\n",
    "\"\"\"\n",
    "\n",
    "save_path = query_and_save(query, name, config, conn)"
   ]
  },
  {
   "cell_type": "code",
   "execution_count": null,
   "metadata": {},
   "outputs": [],
   "source": [
    "df = pd.read_csv(save_path)"
   ]
  },
  {
   "cell_type": "code",
   "execution_count": null,
   "metadata": {},
   "outputs": [],
   "source": [
    "rolling = list(map(int, df.query('sample_size < 100000').groupby('level_group').count()['sample_size'].divide(10)))\n",
    "groups = ['1', '2', '3', '4', '2-3-4', '3-4']\n",
    "\n",
    "# Adds figures\n",
    "figs = [df.query(f\"level_group == '{group}'\")\\\n",
    "        .query('sample_size < 100000')\\\n",
    "        .set_index('sample_size')\\\n",
    "        .drop(['level_group'], 1)\\\n",
    "        .rolling(rolling[i]).mean()\\\n",
    "        .figure()\n",
    "     for i, group in enumerate(groups)]\n",
    "\n",
    "# Add legend group to same traces \n",
    "for i in range(len(groups)):\n",
    "    for j in range(len(figs[i]['data'])):\n",
    "        figs[i]['data'][j]['legendgroup'] = str(j)\n",
    "        figs[i]['data'][j]['showlegend'] = i == 0\n",
    "\n",
    "# Instantiate figure as subplot\n",
    "figure = cf.subplots(figs, shape=(len(groups), 1), \n",
    "                     subplot_titles=[ 'level_group ' + group + f' (Rolling Window {rolling[i]})' \n",
    "                                     for i, group in enumerate(groups)], \n",
    "                     vertical_spacing=0.05)\n",
    "\n",
    "# Adjust height and add overall title\n",
    "figure['layout']['height'] = len(groups) * 300\n",
    "figure['layout']['title'] = 'Accuracy x Sample Size by Level (Weighted)'\n",
    "\n",
    "\n",
    "# Edits layout of each subplot\n",
    "for i in range(1, len(groups) + 1):\n",
    "    \n",
    "    if i == 1:\n",
    "        i = ''\n",
    "        \n",
    "\n",
    "    figure['layout'][f'yaxis{i}']['title'] = 'Accuracy'\n",
    "    figure['layout'][f'yaxis{i}']['range'] = [0.2, 1]"
   ]
  },
  {
   "cell_type": "code",
   "execution_count": null,
   "metadata": {},
   "outputs": [],
   "source": [
    "plotly.offline.iplot(figure)"
   ]
  },
  {
   "cell_type": "markdown",
   "metadata": {},
   "source": [
    "# Freeflow"
   ]
  },
  {
   "cell_type": "markdown",
   "metadata": {},
   "source": [
    "## Distribution of Freeflow"
   ]
  },
  {
   "cell_type": "code",
   "execution_count": null,
   "metadata": {},
   "outputs": [],
   "source": [
    "name = 'freeflow'\n",
    "\n",
    "query = f\"\"\"\n",
    "select freeflow\n",
    "from {config[\"athena_database\"]}.{config[\"slug\"]}_jams_ready_segments_complete\n",
    "limit 200000\n",
    "\"\"\"\n",
    "\n",
    "save_path = query_and_save(query, name, config, conn)"
   ]
  },
  {
   "cell_type": "code",
   "execution_count": null,
   "metadata": {},
   "outputs": [],
   "source": [
    "name = 'population_size'\n",
    "\n",
    "query = f\"\"\"\n",
    "select count(freeflow)\n",
    "from {config[\"athena_database\"]}.{config[\"slug\"]}_jams_ready_segments_complete\n",
    "\"\"\"\n",
    "\n",
    "population = pd.read_csv(query_and_save(query, name, config, conn)).values[0][0]"
   ]
  },
  {
   "cell_type": "code",
   "execution_count": null,
   "metadata": {},
   "outputs": [],
   "source": [
    "query"
   ]
  },
  {
   "cell_type": "code",
   "execution_count": null,
   "metadata": {},
   "outputs": [],
   "source": [
    "df = pd.read_csv(save_path)\n",
    "sample_size_share = round(len(df) / population * 100, 0)\n",
    "df.iplot(kind='histogram',\n",
    "        title=f'Distribution of Freeflow for {round(len(df) / 1000, 0)}k Segments (~{sample_size_share}% ss)',\n",
    "        xTitle='Freeflow Speed (km/h)',\n",
    "        yTitle='Frequency'\n",
    "        )"
   ]
  },
  {
   "cell_type": "code",
   "execution_count": null,
   "metadata": {},
   "outputs": [],
   "source": [
    "df['qtt'] = 1\n",
    "df.set_index('freeflow').sort_index().cumsum().divide(df.sum()['qtt']).iplot(\n",
    "        title=f'Cumulative Distribution of Freeflow for {round(len(df) / 1000, 0)}k Segments (~{sample_size_share}% ss)',\n",
    "        xTitle='Freeflow Speed (km/h)',\n",
    "        yTitle='Cummulative %',\n",
    "        width=5\n",
    "        )"
   ]
  },
  {
   "cell_type": "markdown",
   "metadata": {},
   "source": [
    "## Freeflow Estimation and Roadtype"
   ]
  },
  {
   "cell_type": "code",
   "execution_count": null,
   "metadata": {},
   "outputs": [],
   "source": [
    "name = 'freeflow_by_roadtype_distribution'\n",
    "\n",
    "query = f\"\"\"\n",
    "select roadtype, freeflow freeflow\n",
    "from {config[\"athena_database\"]}.{config[\"slug\"]}_jams_ready_segments_complete\n",
    "limit 200000\n",
    "\"\"\"\n",
    "\n",
    "save_path = query_and_save(query, name, config, conn)"
   ]
  },
  {
   "cell_type": "code",
   "execution_count": null,
   "metadata": {},
   "outputs": [],
   "source": [
    "df = pd.read_csv(save_path)\n",
    "df['roadtype_name'] = df['roadtype'].apply(lambda x: roadtype_dict[x])"
   ]
  },
  {
   "cell_type": "markdown",
   "metadata": {},
   "source": [
    "## Probability Distribution of Freeflow by Roadtype"
   ]
  },
  {
   "cell_type": "code",
   "execution_count": null,
   "metadata": {},
   "outputs": [],
   "source": [
    "df.pivot(columns='roadtype_name', values='freeflow')\\\n",
    "    .iplot(kind='histogram', histnorm='probability',\n",
    "          title=f'Probability Distribution of Freeflows By Roadtype for {round(len(df) / 1000, 0)}k Segments (~{sample_size_share}% ss)',\n",
    "          yTitle='Probabilty', xTitle='Estimated Freeflow',\n",
    "          )"
   ]
  },
  {
   "cell_type": "markdown",
   "metadata": {},
   "source": [
    "## Cumulative distribution of Freeflow by Roadtype"
   ]
  },
  {
   "cell_type": "code",
   "execution_count": null,
   "metadata": {},
   "outputs": [],
   "source": [
    "df.groupby(['freeflow', 'roadtype_name']).count().reset_index()\\\n",
    ".pivot(columns='roadtype_name', values='roadtype', index='freeflow')\\\n",
    ".cumsum().divide(df.groupby('roadtype_name').count()['roadtype'] / 100).iplot( \n",
    "    title='Cumulative distribution of Freeflow by Roadtype',\n",
    "#     xTitle='Sample Size',\n",
    "    yTitle='%',\n",
    "    shape=(3,2),\n",
    "    subplots=True,\n",
    "#     shared_xaxes=True,\n",
    "    subplot_titles=True,\n",
    "    legend=False,\n",
    "    mode='lines', \n",
    "    fill=True,\n",
    "    width=0,\n",
    "    xrange=[0,100]\n",
    "    )"
   ]
  },
  {
   "cell_type": "markdown",
   "metadata": {},
   "source": [
    "# Best Freeflow"
   ]
  },
  {
   "cell_type": "markdown",
   "metadata": {},
   "source": [
    "## Distribution of  Best Freeflow"
   ]
  },
  {
   "cell_type": "code",
   "execution_count": null,
   "metadata": {},
   "outputs": [],
   "source": [
    "name = 'best_freeflow'\n",
    "\n",
    "query = f\"\"\"\n",
    "select best_freeflow as freeflow\n",
    "from {config[\"athena_database\"]}.{config[\"slug\"]}_jams_ready_segments_complete\n",
    "limit 200000\n",
    "\"\"\"\n",
    "\n",
    "save_path = query_and_save(query, name, config, conn)"
   ]
  },
  {
   "cell_type": "code",
   "execution_count": null,
   "metadata": {},
   "outputs": [],
   "source": [
    "name = 'population_size'\n",
    "\n",
    "query = f\"\"\"\n",
    "select count(best_freeflow)\n",
    "from {config[\"athena_database\"]}.{config[\"slug\"]}_jams_ready_segments_complete\n",
    "\"\"\"\n",
    "\n",
    "population = pd.read_csv(query_and_save(query, name, config, conn)).values[0][0]"
   ]
  },
  {
   "cell_type": "code",
   "execution_count": null,
   "metadata": {},
   "outputs": [],
   "source": [
    "query"
   ]
  },
  {
   "cell_type": "code",
   "execution_count": null,
   "metadata": {},
   "outputs": [],
   "source": [
    "df = pd.read_csv(save_path)\n",
    "sample_size_share = round(len(df) / population * 100, 0)\n",
    "df.iplot(kind='histogram',\n",
    "        title=f'Distribution of Freeflow for {round(len(df) / 1000, 0)}k Segments (~{sample_size_share}% ss)',\n",
    "        xTitle='Freeflow Speed (km/h)',\n",
    "        yTitle='Frequency'\n",
    "        )"
   ]
  },
  {
   "cell_type": "code",
   "execution_count": null,
   "metadata": {},
   "outputs": [],
   "source": [
    "df['qtt'] = 1\n",
    "df.set_index('freeflow').sort_index().cumsum().divide(df.sum()['qtt']).iplot(\n",
    "        title=f'Cumulative Distribution of Best Freeflow for {round(len(df) / 1000, 0)}k Segments (~{sample_size_share}% ss)',\n",
    "        xTitle='Freeflow Speed (km/h)',\n",
    "        yTitle='Cummulative %',\n",
    "        width=5\n",
    "        )"
   ]
  },
  {
   "cell_type": "markdown",
   "metadata": {},
   "source": [
    "## Freeflow Estimation and Roadtype"
   ]
  },
  {
   "cell_type": "code",
   "execution_count": null,
   "metadata": {},
   "outputs": [],
   "source": [
    "name = 'best_freeflow_by_roadtype_distribution'\n",
    "\n",
    "query = f\"\"\"\n",
    "select roadtype, best_freeflow freeflow\n",
    "from {config[\"athena_database\"]}.{config[\"slug\"]}_jams_ready_segments_complete\n",
    "limit 200000\n",
    "\"\"\"\n",
    "\n",
    "save_path = query_and_save(query, name, config, conn)"
   ]
  },
  {
   "cell_type": "code",
   "execution_count": null,
   "metadata": {},
   "outputs": [],
   "source": [
    "df = pd.read_csv(save_path)\n",
    "df['roadtype_name'] = df['roadtype'].apply(lambda x: roadtype_dict[x])"
   ]
  },
  {
   "cell_type": "markdown",
   "metadata": {},
   "source": [
    "## Probability Distribution of Freeflow by Roadtype"
   ]
  },
  {
   "cell_type": "code",
   "execution_count": null,
   "metadata": {},
   "outputs": [],
   "source": [
    "df.pivot(columns='roadtype_name', values='freeflow')\\\n",
    "    .iplot(kind='histogram', histnorm='probability',\n",
    "          title=f'Probability Distribution of Best Freeflow By Roadtype for {round(len(df) / 1000, 0)}k Segments (~{sample_size_share}% ss)',\n",
    "          yTitle='Probabilty', xTitle='Estimated Freeflow',\n",
    "          )"
   ]
  },
  {
   "cell_type": "markdown",
   "metadata": {},
   "source": [
    "## Cumulative distribution of Freeflow by Roadtype"
   ]
  },
  {
   "cell_type": "code",
   "execution_count": null,
   "metadata": {},
   "outputs": [],
   "source": [
    "df.groupby(['freeflow', 'roadtype_name']).count().reset_index()\\\n",
    ".pivot(columns='roadtype_name', values='roadtype', index='freeflow')\\\n",
    ".cumsum().divide(df.groupby('roadtype_name').count()['roadtype'] / 100).iplot( \n",
    "    title='Cumulative distribution of Best Freeflow by Roadtype',\n",
    "#     xTitle='Sample Size',\n",
    "    yTitle='%',\n",
    "    shape=(3,2),\n",
    "    subplots=True,\n",
    "#     shared_xaxes=True,\n",
    "    subplot_titles=True,\n",
    "    legend=False,\n",
    "    mode='lines', \n",
    "    fill=True,\n",
    "    width=0,\n",
    "    xrange=[0,100]\n",
    "    )"
   ]
  },
  {
   "cell_type": "markdown",
   "metadata": {},
   "source": [
    "## Central Statistics By Roadtype"
   ]
  },
  {
   "cell_type": "code",
   "execution_count": null,
   "metadata": {},
   "outputs": [],
   "source": [
    "name = 'freeflow_roadtype_average'\n",
    "\n",
    "query = f\"\"\"\n",
    "select roadtype, avg(freeflow) as avg, \n",
    "                 approx_percentile(freeflow, 0.5) as median\n",
    "from {config[\"athena_database\"]}.{config[\"slug\"]}_jams_ready_segments_complete\n",
    "group by roadtype\n",
    "\"\"\"\n",
    "\n",
    "save_path = query_and_save(query, name, config, conn)"
   ]
  },
  {
   "cell_type": "code",
   "execution_count": null,
   "metadata": {},
   "outputs": [],
   "source": [
    "df = pd.read_csv(save_path)\n",
    "df['roadtype_name'] = df['roadtype'].apply(lambda x: roadtype_dict[x])"
   ]
  },
  {
   "cell_type": "code",
   "execution_count": null,
   "metadata": {},
   "outputs": [],
   "source": [
    "df.sort_values(by='roadtype')[['roadtype_name', 'avg', 'median']]"
   ]
  }
 ],
 "metadata": {
  "kernelspec": {
   "display_name": "Python 3",
   "language": "python",
   "name": "python3"
  },
  "language_info": {
   "codemirror_mode": {
    "name": "ipython",
    "version": 3
   },
   "file_extension": ".py",
   "mimetype": "text/x-python",
   "name": "python",
   "nbconvert_exporter": "python",
   "pygments_lexer": "ipython3",
   "version": "3.7.0"
  },
  "toc": {
   "base_numbering": 1,
   "nav_menu": {},
   "number_sections": true,
   "sideBar": true,
   "skip_h1_title": false,
   "title_cell": "Table of Contents",
   "title_sidebar": "Contents",
   "toc_cell": false,
   "toc_position": {},
   "toc_section_display": true,
   "toc_window_display": false
  },
  "widgets": {
   "application/vnd.jupyter.widget-state+json": {
    "state": {
     "9ae85a65cb6f4c40b6f9f7a001e44d42": {
      "model_module": "@jupyter-widgets/base",
      "model_module_version": "1.2.0",
      "model_name": "LayoutModel",
      "state": {
       "_model_module": "@jupyter-widgets/base",
       "_model_module_version": "1.2.0",
       "_model_name": "LayoutModel",
       "_view_count": null,
       "_view_module": "@jupyter-widgets/base",
       "_view_module_version": "1.2.0",
       "_view_name": "LayoutView",
       "align_content": null,
       "align_items": null,
       "align_self": null,
       "border": null,
       "bottom": null,
       "display": null,
       "flex": null,
       "flex_flow": null,
       "grid_area": null,
       "grid_auto_columns": null,
       "grid_auto_flow": null,
       "grid_auto_rows": null,
       "grid_column": null,
       "grid_gap": null,
       "grid_row": null,
       "grid_template_areas": null,
       "grid_template_columns": null,
       "grid_template_rows": null,
       "height": null,
       "justify_content": null,
       "justify_items": null,
       "left": null,
       "margin": null,
       "max_height": null,
       "max_width": null,
       "min_height": null,
       "min_width": null,
       "object_fit": null,
       "object_position": null,
       "order": null,
       "overflow": null,
       "overflow_x": null,
       "overflow_y": null,
       "padding": null,
       "right": null,
       "top": null,
       "visibility": null,
       "width": null
      }
     },
     "bbdc8884793f48cca445db16340fe315": {
      "model_module": "keplergl-jupyter",
      "model_module_version": "^0.1.0",
      "model_name": "KeplerGlModal",
      "state": {
       "_dom_classes": [],
       "_model_module": "keplergl-jupyter",
       "_model_module_version": "^0.1.0",
       "_model_name": "KeplerGlModal",
       "_view_count": null,
       "_view_module": "keplergl-jupyter",
       "_view_module_version": "^0.1.0",
       "_view_name": "KeplerGlView",
       "config": {},
       "data": {
        "polygon": "    {\n  \"type\": \"FeatureCollection\",\n  \"features\": [\n    {\n      \"type\": \"Feature\",\n      \"properties\": {},\n      \"geometry\": {\n        \"type\": \"Polygon\",\n        \"coordinates\": [\n          [\n            [\n              -77.19818115234375,\n              -11.657616310322421\n            ],\n            [\n              -77.23388671874999,\n              -11.76519248759794\n            ],\n            [\n              -77.178955078125,\n              -11.988278484166846\n            ],\n            [\n              -77.21466064453125,\n              -12.087667262738686\n            ],\n            [\n              -77.069091796875,\n              -12.211180191503997\n            ],\n            [\n              -76.7724609375,\n              -12.549201653263557\n            ],\n            [\n              -76.60491943359375,\n              -12.248759676234734\n            ],\n            [\n              -76.66259765625,\n              -12.117208173460048\n            ],\n            [\n              -76.66259765625,\n              -12.044692844011104\n            ],\n            [\n              -76.6131591796875,\n              -11.950662353621922\n            ],\n            [\n              -76.717529296875,\n              -11.85391119291692\n            ],\n            [\n              -76.89056396484375,\n              -11.937226753541449\n            ],\n            [\n              -76.849365234375,\n              -11.851223169778889\n            ],\n            [\n              -76.7999267578125,\n              -11.81089965027739\n            ],\n            [\n              -76.7999267578125,\n              -11.722167042552465\n            ],\n            [\n              -76.94000244140625,\n              -11.724856329545043\n            ],\n            [\n              -76.97845458984375,\n              -11.617264476509593\n            ],\n            [\n              -77.06085205078125,\n              -11.544616463449655\n            ],\n            [\n              -77.19818115234375,\n              -11.657616310322421\n            ]\n          ]\n        ]\n      }\n    }\n  ]\n}\n"
       },
       "height": 400,
       "layout": "IPY_MODEL_9ae85a65cb6f4c40b6f9f7a001e44d42",
       "value": "Hello World!"
      }
     }
    },
    "version_major": 2,
    "version_minor": 0
   }
  }
 },
 "nbformat": 4,
 "nbformat_minor": 2
}
