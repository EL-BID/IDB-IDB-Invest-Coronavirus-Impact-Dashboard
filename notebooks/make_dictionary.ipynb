{
 "cells": [
  {
   "cell_type": "code",
   "execution_count": 1,
   "metadata": {},
   "outputs": [],
   "source": [
    "# %load first_cell.py\n",
    "%reload_ext autoreload\n",
    "%autoreload 2\n",
    "from pathlib import Path\n",
    "home = str(Path.home())\n",
    "\n",
    "import sys\n",
    "sys.path = sys.path + [f'{home}/.conda/envs/norm_env/lib/python37.zip', \n",
    "                       f'{home}/.conda/envs/norm_env/lib/python3.7', \n",
    "                       f'{home}/.conda/envs/norm_env/lib/python3.7/lib-dynload', \n",
    "                       f'{home}/.conda/envs/norm_env/lib/python3.7/site-packages']\n",
    "sys.prefix = '/home/soniame/.conda/envs/norm_env'\n",
    "\n",
    "from paths import RAW_PATH, TREAT_PATH, OUTPUT_PATH, FIGURES_PATH\n",
    "\n",
    "from copy import deepcopy\n",
    "import numpy as np\n",
    "import pandas as pd\n",
    "pd.options.display.max_columns = 999\n",
    "import yaml\n",
    "import datetime\n",
    "\n",
    "import warnings\n",
    "warnings.filterwarnings('ignore')"
   ]
  },
  {
   "cell_type": "code",
   "execution_count": 2,
   "metadata": {},
   "outputs": [],
   "source": [
    "from src import utils\n",
    "conn = utils.connect_athena(path='../configs/athena.yaml')"
   ]
  },
  {
   "cell_type": "code",
   "execution_count": 3,
   "metadata": {},
   "outputs": [],
   "source": [
    "from tabulate import tabulate"
   ]
  },
  {
   "cell_type": "code",
   "execution_count": 4,
   "metadata": {},
   "outputs": [],
   "source": [
    "def extract_dictionary(database_name, table_name):\n",
    "    df = pd.read_sql_query(f\"\"\"\n",
    "        select * \n",
    "        from information_schema.columns\n",
    "        where table_schema = '{database_name}' and table_name = '{table_name}';\n",
    "        \"\"\", conn)\n",
    "    \n",
    "    return(df)\n",
    "\n",
    "def write_dictionary_md(df, f):\n",
    "\n",
    "    df['Description'] = ''\n",
    "    \n",
    "    print('\\n', file=f)\n",
    "    print('Database: ' + df.table_schema[1], file=f)\n",
    "    print('Table: ' + df.table_name[1] + '\\n', file=f)\n",
    "    print(tabulate(df[['column_name', 'Description', 'data_type']].set_index('column_name'), \n",
    "                   tablefmt=\"pipe\", headers=\"keys\"), file=f)\n",
    "    print('\\n', file=f)"
   ]
  },
  {
   "cell_type": "code",
   "execution_count": 32,
   "metadata": {},
   "outputs": [],
   "source": [
    "with open('../docs/Data Dictionary Internal.md', 'w') as f:\n",
    "    write_dictionary_md(\n",
    "        extract_dictionary(database_name = 'pwazetransformeddb', \n",
    "                           table_name = 'jams'), f)\n",
    "    write_dictionary_md(\n",
    "        extract_dictionary(database_name = 'spd_sdv_waze_corona', \n",
    "                           table_name = 'prod_daily_daily_index'), f)\n",
    "    write_dictionary_md(\n",
    "        extract_dictionary(database_name = 'spd_sdv_waze_corona', \n",
    "                           table_name = 'prod_daily_weekly_index'), f)\n"
   ]
  },
  {
   "cell_type": "code",
   "execution_count": null,
   "metadata": {},
   "outputs": [],
   "source": []
  }
 ],
 "metadata": {
  "kernelspec": {
   "display_name": "IDB-IDB-Invest-Coronavirus-Impact-Dashboard",
   "language": "python",
   "name": "idb-idb-invest-coronavirus-impact-dashboard"
  },
  "language_info": {
   "codemirror_mode": {
    "name": "ipython",
    "version": 3
   },
   "file_extension": ".py",
   "mimetype": "text/x-python",
   "name": "python",
   "nbconvert_exporter": "python",
   "pygments_lexer": "ipython3",
   "version": "3.7.9"
  }
 },
 "nbformat": 4,
 "nbformat_minor": 2
}
