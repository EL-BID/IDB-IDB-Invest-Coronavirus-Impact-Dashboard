{
 "cells": [
  {
   "cell_type": "code",
   "execution_count": 2,
   "metadata": {},
   "outputs": [
    {
     "data": {
      "text/html": [
       "        <script type=\"text/javascript\">\n",
       "        window.PlotlyConfig = {MathJaxConfig: 'local'};\n",
       "        if (window.MathJax) {MathJax.Hub.Config({SVG: {font: \"STIX-Web\"}});}\n",
       "        if (typeof require !== 'undefined') {\n",
       "        require.undef(\"plotly\");\n",
       "        requirejs.config({\n",
       "            paths: {\n",
       "                'plotly': ['https://cdn.plot.ly/plotly-latest.min']\n",
       "            }\n",
       "        });\n",
       "        require(['plotly'], function(Plotly) {\n",
       "            window._Plotly = Plotly;\n",
       "        });\n",
       "        }\n",
       "        </script>\n",
       "        "
      ]
     },
     "metadata": {},
     "output_type": "display_data"
    },
    {
     "data": {
      "text/html": [
       "        <script type=\"text/javascript\">\n",
       "        window.PlotlyConfig = {MathJaxConfig: 'local'};\n",
       "        if (window.MathJax) {MathJax.Hub.Config({SVG: {font: \"STIX-Web\"}});}\n",
       "        if (typeof require !== 'undefined') {\n",
       "        require.undef(\"plotly\");\n",
       "        requirejs.config({\n",
       "            paths: {\n",
       "                'plotly': ['https://cdn.plot.ly/plotly-latest.min']\n",
       "            }\n",
       "        });\n",
       "        require(['plotly'], function(Plotly) {\n",
       "            window._Plotly = Plotly;\n",
       "        });\n",
       "        }\n",
       "        </script>\n",
       "        "
      ]
     },
     "metadata": {},
     "output_type": "display_data"
    }
   ],
   "source": [
    "# %load first_cell.py\n",
    "%reload_ext autoreload\n",
    "%autoreload 2\n",
    "from pathlib import Path\n",
    "home = str(Path.home())\n",
    "\n",
    "import sys\n",
    "sys.path = sys.path + [f'{home}/.conda/envs/norm_env/lib/python37.zip', \n",
    "                       f'{home}/.conda/envs/norm_env/lib/python3.7', \n",
    "                       f'{home}/.conda/envs/norm_env/lib/python3.7/lib-dynload', \n",
    "                       f'{home}/.conda/envs/norm_env/lib/python3.7/site-packages',\n",
    "                     '../src']\n",
    "sys.prefix = '/home/joaom/.conda/envs/norm_env'\n",
    "\n",
    "from paths import RAW_PATH, TREAT_PATH, OUTPUT_PATH, FIGURES_PATH\n",
    "\n",
    "from copy import deepcopy\n",
    "import numpy as np\n",
    "import pandas as pd\n",
    "pd.options.display.max_columns = 999\n",
    "import yaml\n",
    "import matplotlib.pyplot as plt \n",
    "import datetime\n",
    "\n",
    "import warnings\n",
    "warnings.filterwarnings('ignore')\n",
    "\n",
    "# Plotting\n",
    "import plotly\n",
    "import plotly.graph_objs as go\n",
    "import cufflinks as cf\n",
    "plotly.offline.init_notebook_mode(connected=True)\n",
    "\n",
    "def iplottitle(title, width=40):\n",
    "    return '<br>'.join(textwrap.wrap(title, width))\n",
    "\n",
    "# Setting cufflinks\n",
    "import textwrap\n",
    "import cufflinks as cf\n",
    "cf.go_offline()\n",
    "cf.set_config_file(offline=False, world_readable=True)\n",
    "import yaml\n",
    "from jinja2 import Template\n",
    "cf.themes.THEMES['custom'] = yaml.load(open('cufflinks_template.yaml', 'r'))"
   ]
  },
  {
   "cell_type": "code",
   "execution_count": 3,
   "metadata": {},
   "outputs": [],
   "source": [
    "from shapely import wkt\n",
    "import geopandas as gpd\n",
    "from rdp import rdp\n",
    "import unicodedata"
   ]
  },
  {
   "cell_type": "code",
   "execution_count": 4,
   "metadata": {},
   "outputs": [],
   "source": [
    "columns_order = [\n",
    "    'country_name',\n",
    "    'country_iso',\n",
    "    'region_slug',\n",
    "    'region_name',\n",
    "    'region_type',\n",
    "    'dashboard',\n",
    "    'population',\n",
    "    'timezone',\n",
    "    'region_shapefile_wkt'\n",
    "]"
   ]
  },
  {
   "cell_type": "code",
   "execution_count": 5,
   "metadata": {},
   "outputs": [],
   "source": [
    "def valid_wkt(x):\n",
    "    \n",
    "    try:\n",
    "        wkt.loads(x)\n",
    "        return True\n",
    "    except Exception as e:\n",
    "        print(e)\n",
    "        return False"
   ]
  },
  {
   "cell_type": "code",
   "execution_count": 7,
   "metadata": {},
   "outputs": [],
   "source": [
    "def check_length(df, threshold=50000):\n",
    "    \n",
    "    return all(df['region_shapefile_wkt'].apply(lambda x: len(x.to_wkt()) < threshold))\n",
    "        "
   ]
  },
  {
   "cell_type": "code",
   "execution_count": 225,
   "metadata": {},
   "outputs": [],
   "source": [
    "def simplify(df, delta=0.001):\n",
    "    \n",
    "    while not check_length(df):\n",
    "        df['region_shapefile_wkt'] = df['region_shapefile_wkt'].apply(lambda x: x.simplify(delta, False))\n",
    "        delta = delta + 0.05\n",
    "\n",
    "    return df"
   ]
  },
  {
   "cell_type": "code",
   "execution_count": 9,
   "metadata": {},
   "outputs": [],
   "source": [
    "def make_region_slug(df, slug_preffix):\n",
    "    \n",
    "    df['region_slug'] = df['region_name'].apply(lambda x: (slug_preffix + x.lower()).replace(' ', '_'))\n",
    "    return df"
   ]
  },
  {
   "cell_type": "code",
   "execution_count": 26,
   "metadata": {},
   "outputs": [],
   "source": [
    "def add_other_columns(df, columns_values):\n",
    "\n",
    "    for name, value in columns_values.items():\n",
    "        df[name] = value\n",
    "    return df"
   ]
  },
  {
   "cell_type": "code",
   "execution_count": 72,
   "metadata": {},
   "outputs": [],
   "source": [
    "def remove_accents(input_str):\n",
    "    return unicodedata.normalize('NFKD', input_str).encode('ASCII', 'ignore').decode('ASCII')\n",
    "\n",
    "def remove_all_accents(df, columns_accents=['region_slug', 'region_name']):\n",
    "\n",
    "    for c in df.columns:\n",
    "        try:\n",
    "            df[c] = df[c].apply(lambda x: remove_accents(x))\n",
    "        except:\n",
    "            pass\n",
    "    return df"
   ]
  },
  {
   "cell_type": "code",
   "execution_count": 77,
   "metadata": {},
   "outputs": [],
   "source": [
    "def save_df(df, columns_order, name):\n",
    "    df[columns_order].to_csv(OUTPUT_PATH / 'regions' / f'{name}.csv', index=False)"
   ]
  },
  {
   "cell_type": "markdown",
   "metadata": {},
   "source": [
    "# Comunas Chile"
   ]
  },
  {
   "cell_type": "markdown",
   "metadata": {},
   "source": [
    "## Read and Filter file"
   ]
  },
  {
   "cell_type": "code",
   "execution_count": 226,
   "metadata": {},
   "outputs": [],
   "source": [
    "df = gpd.read_file(RAW_PATH / 'regions' / 'comunas_shape')"
   ]
  },
  {
   "cell_type": "code",
   "execution_count": 227,
   "metadata": {},
   "outputs": [],
   "source": [
    "df = df.to_crs(\"epsg:4326\")"
   ]
  },
  {
   "cell_type": "code",
   "execution_count": 228,
   "metadata": {},
   "outputs": [],
   "source": [
    "# df = pd.read_excel(RAW_PATH / 'regions' / 'Comunas_Santiago_Chile_WKT.xlsx')\n",
    "pop = pd.read_excel(RAW_PATH / 'regions' / 'Poblacion_comuna_censo201.xlsx')"
   ]
  },
  {
   "cell_type": "code",
   "execution_count": 229,
   "metadata": {},
   "outputs": [],
   "source": [
    "df['NOM_COM']  = df['NOM_COM'].apply(lambda x: x.upper())"
   ]
  },
  {
   "cell_type": "code",
   "execution_count": 230,
   "metadata": {},
   "outputs": [
    {
     "data": {
      "text/html": [
       "<div>\n",
       "<style scoped>\n",
       "    .dataframe tbody tr th:only-of-type {\n",
       "        vertical-align: middle;\n",
       "    }\n",
       "\n",
       "    .dataframe tbody tr th {\n",
       "        vertical-align: top;\n",
       "    }\n",
       "\n",
       "    .dataframe thead th {\n",
       "        text-align: right;\n",
       "    }\n",
       "</style>\n",
       "<table border=\"1\" class=\"dataframe\">\n",
       "  <thead>\n",
       "    <tr style=\"text-align: right;\">\n",
       "      <th></th>\n",
       "      <th>NOMBRE COMUNA</th>\n",
       "      <th>Codigo_Comuna</th>\n",
       "      <th>Hombres</th>\n",
       "      <th>Mujeres</th>\n",
       "      <th>TOTAL</th>\n",
       "    </tr>\n",
       "  </thead>\n",
       "  <tbody>\n",
       "    <tr>\n",
       "      <th>131</th>\n",
       "      <td>ISLA DE MAIPO</td>\n",
       "      <td>13603</td>\n",
       "      <td>18051</td>\n",
       "      <td>18168</td>\n",
       "      <td>36219</td>\n",
       "    </tr>\n",
       "  </tbody>\n",
       "</table>\n",
       "</div>"
      ],
      "text/plain": [
       "     NOMBRE COMUNA  Codigo_Comuna  Hombres  Mujeres  TOTAL\n",
       "131  ISLA DE MAIPO          13603    18051    18168  36219"
      ]
     },
     "execution_count": 230,
     "metadata": {},
     "output_type": "execute_result"
    }
   ],
   "source": [
    "pop[pop['NOMBRE COMUNA'] == 'ISLA DE MAIPO']"
   ]
  },
  {
   "cell_type": "code",
   "execution_count": 231,
   "metadata": {},
   "outputs": [],
   "source": [
    "df = df.merge(pop[['NOMBRE COMUNA', 'TOTAL']], right_on='NOMBRE COMUNA', left_on='NOM_COM')"
   ]
  },
  {
   "cell_type": "code",
   "execution_count": 232,
   "metadata": {},
   "outputs": [
    {
     "data": {
      "text/plain": [
       "Index(['NOM_REG', 'NOM_PROV', 'NOM_COM', 'SHAPE_LENG', 'DIS_ELEC', 'CIR_SENA',\n",
       "       'COD_COMUNA', 'SHAPE_Le_1', 'SHAPE_Area', 'geometry', 'NOMBRE COMUNA',\n",
       "       'TOTAL'],\n",
       "      dtype='object')"
      ]
     },
     "execution_count": 232,
     "metadata": {},
     "output_type": "execute_result"
    }
   ],
   "source": [
    "df.columns"
   ]
  },
  {
   "cell_type": "code",
   "execution_count": 233,
   "metadata": {},
   "outputs": [],
   "source": [
    "df = df[['geometry', 'NOM_COM', 'TOTAL']].rename(columns={'geometry': 'region_shapefile_wkt', 'NOM_COM': 'region_name',\n",
    "                                                    'TOTAL': 'population'})"
   ]
  },
  {
   "cell_type": "markdown",
   "metadata": {},
   "source": [
    "## Check for invalid WKTs\n",
    "\n"
   ]
  },
  {
   "cell_type": "code",
   "execution_count": 234,
   "metadata": {
    "scrolled": true
   },
   "outputs": [],
   "source": [
    "# not_valid = df[~df['region_shapefile_wkt'].apply(valid_wkt)]\n",
    "# df = df[df['region_shapefile_wkt'].apply(valid_wkt)]\n",
    "# not_valid.to_csv(TREAT_PATH / 'comunas_invalid_wkt.csv')"
   ]
  },
  {
   "cell_type": "markdown",
   "metadata": {},
   "source": [
    "## Simplify WKTs"
   ]
  },
  {
   "cell_type": "code",
   "execution_count": 235,
   "metadata": {},
   "outputs": [],
   "source": [
    "df = simplify(df)"
   ]
  },
  {
   "cell_type": "markdown",
   "metadata": {},
   "source": [
    "## Make region_slug"
   ]
  },
  {
   "cell_type": "code",
   "execution_count": 236,
   "metadata": {},
   "outputs": [],
   "source": [
    "df = make_region_slug(df, 'ch_comunas_')"
   ]
  },
  {
   "cell_type": "markdown",
   "metadata": {},
   "source": [
    "## Add remaining columns"
   ]
  },
  {
   "cell_type": "code",
   "execution_count": 237,
   "metadata": {},
   "outputs": [],
   "source": [
    "columns_values = {\n",
    "    'country_name': 'Chile',\n",
    "    'country_iso': 'CL',\n",
    "    'region_type': 'submetro',\n",
    "    'dashboard': 'FALSE',\n",
    "    'timezone': 'America/Santiago'\n",
    "}\n",
    "for name, value in columns_values.items():\n",
    "    df[name] = value"
   ]
  },
  {
   "cell_type": "markdown",
   "metadata": {},
   "source": [
    "## Make sure there is no accents"
   ]
  },
  {
   "cell_type": "code",
   "execution_count": 238,
   "metadata": {},
   "outputs": [],
   "source": [
    "columns_accents = ['region_slug', 'region_name']\n",
    "for c in columns_accents:\n",
    "    df[c] = df[c].apply(lambda x: remove_accents(x))"
   ]
  },
  {
   "cell_type": "code",
   "execution_count": 245,
   "metadata": {},
   "outputs": [],
   "source": [
    "df['region_shapefile_wkt'] = df['region_shapefile_wkt'].apply(str)"
   ]
  },
  {
   "cell_type": "code",
   "execution_count": 246,
   "metadata": {},
   "outputs": [],
   "source": [
    "df[columns_order].to_csv(OUTPUT_PATH / 'regions' / 'chile_comunas.csv', index=False)"
   ]
  },
  {
   "cell_type": "code",
   "execution_count": 244,
   "metadata": {},
   "outputs": [],
   "source": []
  },
  {
   "cell_type": "code",
   "execution_count": 247,
   "metadata": {},
   "outputs": [
    {
     "data": {
      "text/html": [
       "<div>\n",
       "<style scoped>\n",
       "    .dataframe tbody tr th:only-of-type {\n",
       "        vertical-align: middle;\n",
       "    }\n",
       "\n",
       "    .dataframe tbody tr th {\n",
       "        vertical-align: top;\n",
       "    }\n",
       "\n",
       "    .dataframe thead th {\n",
       "        text-align: right;\n",
       "    }\n",
       "</style>\n",
       "<table border=\"1\" class=\"dataframe\">\n",
       "  <thead>\n",
       "    <tr style=\"text-align: right;\">\n",
       "      <th></th>\n",
       "      <th>region_shapefile_wkt</th>\n",
       "      <th>region_name</th>\n",
       "      <th>population</th>\n",
       "      <th>region_slug</th>\n",
       "      <th>country_name</th>\n",
       "      <th>country_iso</th>\n",
       "      <th>region_type</th>\n",
       "      <th>dashboard</th>\n",
       "      <th>timezone</th>\n",
       "    </tr>\n",
       "  </thead>\n",
       "  <tbody>\n",
       "    <tr>\n",
       "      <th>0</th>\n",
       "      <td>POLYGON ((-71.26653727615358 -33.4100898105313...</td>\n",
       "      <td>MARIA PINTO</td>\n",
       "      <td>13590</td>\n",
       "      <td>ch_comunas_maria_pinto</td>\n",
       "      <td>Chile</td>\n",
       "      <td>CL</td>\n",
       "      <td>submetro</td>\n",
       "      <td>FALSE</td>\n",
       "      <td>America/Santiago</td>\n",
       "    </tr>\n",
       "    <tr>\n",
       "      <th>1</th>\n",
       "      <td>POLYGON ((-71.5386268365253 -33.76415338666177...</td>\n",
       "      <td>SAN PEDRO</td>\n",
       "      <td>9726</td>\n",
       "      <td>ch_comunas_san_pedro</td>\n",
       "      <td>Chile</td>\n",
       "      <td>CL</td>\n",
       "      <td>submetro</td>\n",
       "      <td>FALSE</td>\n",
       "      <td>America/Santiago</td>\n",
       "    </tr>\n",
       "    <tr>\n",
       "      <th>2</th>\n",
       "      <td>POLYGON ((-70.6573023154117 -33.40478555612682...</td>\n",
       "      <td>INDEPENDENCIA</td>\n",
       "      <td>100281</td>\n",
       "      <td>ch_comunas_independencia</td>\n",
       "      <td>Chile</td>\n",
       "      <td>CL</td>\n",
       "      <td>submetro</td>\n",
       "      <td>FALSE</td>\n",
       "      <td>America/Santiago</td>\n",
       "    </tr>\n",
       "    <tr>\n",
       "      <th>3</th>\n",
       "      <td>POLYGON ((-70.43946260195776 -33.4920620816655...</td>\n",
       "      <td>LA FLORIDA</td>\n",
       "      <td>366916</td>\n",
       "      <td>ch_comunas_la_florida</td>\n",
       "      <td>Chile</td>\n",
       "      <td>CL</td>\n",
       "      <td>submetro</td>\n",
       "      <td>FALSE</td>\n",
       "      <td>America/Santiago</td>\n",
       "    </tr>\n",
       "    <tr>\n",
       "      <th>4</th>\n",
       "      <td>POLYGON ((-70.47723513261619 -33.3695027096460...</td>\n",
       "      <td>LO BARNECHEA</td>\n",
       "      <td>105833</td>\n",
       "      <td>ch_comunas_lo_barnechea</td>\n",
       "      <td>Chile</td>\n",
       "      <td>CL</td>\n",
       "      <td>submetro</td>\n",
       "      <td>FALSE</td>\n",
       "      <td>America/Santiago</td>\n",
       "    </tr>\n",
       "  </tbody>\n",
       "</table>\n",
       "</div>"
      ],
      "text/plain": [
       "                                region_shapefile_wkt    region_name  \\\n",
       "0  POLYGON ((-71.26653727615358 -33.4100898105313...    MARIA PINTO   \n",
       "1  POLYGON ((-71.5386268365253 -33.76415338666177...      SAN PEDRO   \n",
       "2  POLYGON ((-70.6573023154117 -33.40478555612682...  INDEPENDENCIA   \n",
       "3  POLYGON ((-70.43946260195776 -33.4920620816655...     LA FLORIDA   \n",
       "4  POLYGON ((-70.47723513261619 -33.3695027096460...   LO BARNECHEA   \n",
       "\n",
       "   population               region_slug country_name country_iso region_type  \\\n",
       "0       13590    ch_comunas_maria_pinto        Chile          CL    submetro   \n",
       "1        9726      ch_comunas_san_pedro        Chile          CL    submetro   \n",
       "2      100281  ch_comunas_independencia        Chile          CL    submetro   \n",
       "3      366916     ch_comunas_la_florida        Chile          CL    submetro   \n",
       "4      105833   ch_comunas_lo_barnechea        Chile          CL    submetro   \n",
       "\n",
       "  dashboard          timezone  \n",
       "0     FALSE  America/Santiago  \n",
       "1     FALSE  America/Santiago  \n",
       "2     FALSE  America/Santiago  \n",
       "3     FALSE  America/Santiago  \n",
       "4     FALSE  America/Santiago  "
      ]
     },
     "execution_count": 247,
     "metadata": {},
     "output_type": "execute_result"
    }
   ],
   "source": [
    "df.head()"
   ]
  },
  {
   "cell_type": "markdown",
   "metadata": {},
   "source": [
    "# Brazilian States"
   ]
  },
  {
   "cell_type": "code",
   "execution_count": 175,
   "metadata": {},
   "outputs": [],
   "source": [
    "columns_values = {\n",
    "    'country_name': 'Brasil',\n",
    "    'country_iso': 'BR',\n",
    "    'region_type': 'state',\n",
    "    'dashboard': 'FALSE',\n",
    "    'timezone': None,\n",
    "    'population': None\n",
    "}"
   ]
  },
  {
   "cell_type": "markdown",
   "metadata": {},
   "source": [
    "## Download data"
   ]
  },
  {
   "cell_type": "code",
   "execution_count": 176,
   "metadata": {},
   "outputs": [],
   "source": [
    "df = pd.read_csv(RAW_PATH / 'regions' / 'states_brasil.csv')"
   ]
  },
  {
   "cell_type": "code",
   "execution_count": 177,
   "metadata": {},
   "outputs": [],
   "source": [
    "df = df[['name_state', 'geometry']]\n",
    "df.columns = ['region_name', 'region_shapefile_wkt']"
   ]
  },
  {
   "cell_type": "code",
   "execution_count": 178,
   "metadata": {},
   "outputs": [],
   "source": [
    "df['region_shapefile_wkt'] = df['region_shapefile_wkt'].apply(wkt.loads)"
   ]
  },
  {
   "cell_type": "code",
   "execution_count": 179,
   "metadata": {},
   "outputs": [],
   "source": [
    "df = simplify(df)"
   ]
  },
  {
   "cell_type": "code",
   "execution_count": 180,
   "metadata": {},
   "outputs": [],
   "source": [
    "df = make_region_slug(df, 'br_states_')"
   ]
  },
  {
   "cell_type": "code",
   "execution_count": 181,
   "metadata": {},
   "outputs": [],
   "source": [
    "df = add_other_columns(df, columns_values)"
   ]
  },
  {
   "cell_type": "code",
   "execution_count": 182,
   "metadata": {},
   "outputs": [],
   "source": [
    "df = remove_all_accents(df)"
   ]
  },
  {
   "cell_type": "code",
   "execution_count": 183,
   "metadata": {},
   "outputs": [],
   "source": [
    "save_df(df, columns_order, name='br_states')"
   ]
  },
  {
   "cell_type": "code",
   "execution_count": 184,
   "metadata": {},
   "outputs": [
    {
     "data": {
      "text/html": [
       "<div>\n",
       "<style scoped>\n",
       "    .dataframe tbody tr th:only-of-type {\n",
       "        vertical-align: middle;\n",
       "    }\n",
       "\n",
       "    .dataframe tbody tr th {\n",
       "        vertical-align: top;\n",
       "    }\n",
       "\n",
       "    .dataframe thead th {\n",
       "        text-align: right;\n",
       "    }\n",
       "</style>\n",
       "<table border=\"1\" class=\"dataframe\">\n",
       "  <thead>\n",
       "    <tr style=\"text-align: right;\">\n",
       "      <th></th>\n",
       "      <th>region_name</th>\n",
       "      <th>region_shapefile_wkt</th>\n",
       "      <th>region_slug</th>\n",
       "      <th>country_name</th>\n",
       "      <th>country_iso</th>\n",
       "      <th>region_type</th>\n",
       "      <th>dashboard</th>\n",
       "      <th>timezone</th>\n",
       "      <th>population</th>\n",
       "    </tr>\n",
       "  </thead>\n",
       "  <tbody>\n",
       "    <tr>\n",
       "      <th>0</th>\n",
       "      <td>Rondonia</td>\n",
       "      <td>POLYGON ((-63.32720817710296 -7.97672029882056...</td>\n",
       "      <td>br_states_rondonia</td>\n",
       "      <td>Brasil</td>\n",
       "      <td>BR</td>\n",
       "      <td>state</td>\n",
       "      <td>FALSE</td>\n",
       "      <td>None</td>\n",
       "      <td>None</td>\n",
       "    </tr>\n",
       "    <tr>\n",
       "      <th>1</th>\n",
       "      <td>Acre</td>\n",
       "      <td>POLYGON ((-73.18252539408962 -7.33549646429577...</td>\n",
       "      <td>br_states_acre</td>\n",
       "      <td>Brasil</td>\n",
       "      <td>BR</td>\n",
       "      <td>state</td>\n",
       "      <td>FALSE</td>\n",
       "      <td>None</td>\n",
       "      <td>None</td>\n",
       "    </tr>\n",
       "    <tr>\n",
       "      <th>2</th>\n",
       "      <td>Amazonas</td>\n",
       "      <td>POLYGON ((-67.32608847052386 2.029713905720171...</td>\n",
       "      <td>br_states_amazonas</td>\n",
       "      <td>Brasil</td>\n",
       "      <td>BR</td>\n",
       "      <td>state</td>\n",
       "      <td>FALSE</td>\n",
       "      <td>None</td>\n",
       "      <td>None</td>\n",
       "    </tr>\n",
       "    <tr>\n",
       "      <th>3</th>\n",
       "      <td>Roraima</td>\n",
       "      <td>POLYGON ((-60.20050657607426 5.264343437750694...</td>\n",
       "      <td>br_states_roraima</td>\n",
       "      <td>Brasil</td>\n",
       "      <td>BR</td>\n",
       "      <td>state</td>\n",
       "      <td>FALSE</td>\n",
       "      <td>None</td>\n",
       "      <td>None</td>\n",
       "    </tr>\n",
       "    <tr>\n",
       "      <th>4</th>\n",
       "      <td>Para</td>\n",
       "      <td>POLYGON ((-54.95430669626876 2.583692423482197...</td>\n",
       "      <td>br_states_para</td>\n",
       "      <td>Brasil</td>\n",
       "      <td>BR</td>\n",
       "      <td>state</td>\n",
       "      <td>FALSE</td>\n",
       "      <td>None</td>\n",
       "      <td>None</td>\n",
       "    </tr>\n",
       "  </tbody>\n",
       "</table>\n",
       "</div>"
      ],
      "text/plain": [
       "  region_name                               region_shapefile_wkt  \\\n",
       "0    Rondonia  POLYGON ((-63.32720817710296 -7.97672029882056...   \n",
       "1        Acre  POLYGON ((-73.18252539408962 -7.33549646429577...   \n",
       "2    Amazonas  POLYGON ((-67.32608847052386 2.029713905720171...   \n",
       "3     Roraima  POLYGON ((-60.20050657607426 5.264343437750694...   \n",
       "4        Para  POLYGON ((-54.95430669626876 2.583692423482197...   \n",
       "\n",
       "          region_slug country_name country_iso region_type dashboard timezone  \\\n",
       "0  br_states_rondonia       Brasil          BR       state     FALSE     None   \n",
       "1      br_states_acre       Brasil          BR       state     FALSE     None   \n",
       "2  br_states_amazonas       Brasil          BR       state     FALSE     None   \n",
       "3   br_states_roraima       Brasil          BR       state     FALSE     None   \n",
       "4      br_states_para       Brasil          BR       state     FALSE     None   \n",
       "\n",
       "  population  \n",
       "0       None  \n",
       "1       None  \n",
       "2       None  \n",
       "3       None  \n",
       "4       None  "
      ]
     },
     "execution_count": 184,
     "metadata": {},
     "output_type": "execute_result"
    }
   ],
   "source": [
    "df.head()"
   ]
  },
  {
   "cell_type": "code",
   "execution_count": null,
   "metadata": {},
   "outputs": [],
   "source": []
  }
 ],
 "metadata": {
  "kernelspec": {
   "display_name": "Python 3",
   "language": "python",
   "name": "python3"
  },
  "language_info": {
   "codemirror_mode": {
    "name": "ipython",
    "version": 3
   },
   "file_extension": ".py",
   "mimetype": "text/x-python",
   "name": "python",
   "nbconvert_exporter": "python",
   "pygments_lexer": "ipython3",
   "version": "3.7.0"
  },
  "toc": {
   "base_numbering": 1,
   "nav_menu": {},
   "number_sections": true,
   "sideBar": true,
   "skip_h1_title": false,
   "title_cell": "Table of Contents",
   "title_sidebar": "Contents",
   "toc_cell": false,
   "toc_position": {},
   "toc_section_display": true,
   "toc_window_display": false
  }
 },
 "nbformat": 4,
 "nbformat_minor": 2
}
