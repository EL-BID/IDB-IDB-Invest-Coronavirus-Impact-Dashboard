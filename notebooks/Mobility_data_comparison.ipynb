{
 "cells": [
  {
   "cell_type": "markdown",
   "metadata": {},
   "source": [
    "# Comparison of data\n",
    "\n",
    "\n",
    "by soniame@iadb.org\n",
    "\n",
    "- **IDB COVID Impact Dashboard**\n",
    "\n",
    "Database: `spd_sdv_waze_corona.prod_daily_daily_index`\n",
    "\n",
    "\n",
    "- **Google COVID-19 Mobility Report**\n",
    "\n",
    "CSV: [Google link](https://www.google.com/covid19/mobility/)\n",
    "\n",
    "Baseline: median value for the corresponding day of week during a 5 week period from January 3rd, 2020 to February 6th, 2020. \n",
    "\n",
    "- **Waze driven kilometers** driven kilometers percent change from baseline. \n",
    "\n",
    "CSV: [Waze link](https://www.waze.com/covid19)\n",
    "\n",
    "Baseline: average value for the corresponding day of week during a 2 week period from February 11th, 2020 to February 25th, 2020."
   ]
  },
  {
   "cell_type": "code",
   "execution_count": 2,
   "metadata": {},
   "outputs": [
    {
     "data": {
      "text/html": [
       "        <script type=\"text/javascript\">\n",
       "        window.PlotlyConfig = {MathJaxConfig: 'local'};\n",
       "        if (window.MathJax) {MathJax.Hub.Config({SVG: {font: \"STIX-Web\"}});}\n",
       "        if (typeof require !== 'undefined') {\n",
       "        require.undef(\"plotly\");\n",
       "        requirejs.config({\n",
       "            paths: {\n",
       "                'plotly': ['https://cdn.plot.ly/plotly-latest.min']\n",
       "            }\n",
       "        });\n",
       "        require(['plotly'], function(Plotly) {\n",
       "            window._Plotly = Plotly;\n",
       "        });\n",
       "        }\n",
       "        </script>\n",
       "        "
      ]
     },
     "metadata": {},
     "output_type": "display_data"
    },
    {
     "data": {
      "text/html": [
       "        <script type=\"text/javascript\">\n",
       "        window.PlotlyConfig = {MathJaxConfig: 'local'};\n",
       "        if (window.MathJax) {MathJax.Hub.Config({SVG: {font: \"STIX-Web\"}});}\n",
       "        if (typeof require !== 'undefined') {\n",
       "        require.undef(\"plotly\");\n",
       "        requirejs.config({\n",
       "            paths: {\n",
       "                'plotly': ['https://cdn.plot.ly/plotly-latest.min']\n",
       "            }\n",
       "        });\n",
       "        require(['plotly'], function(Plotly) {\n",
       "            window._Plotly = Plotly;\n",
       "        });\n",
       "        }\n",
       "        </script>\n",
       "        "
      ]
     },
     "metadata": {},
     "output_type": "display_data"
    }
   ],
   "source": [
    "# %load first_cell.py\n",
    "%reload_ext autoreload\n",
    "%autoreload 2\n",
    "from pathlib import Path\n",
    "home = str(Path.home())\n",
    "\n",
    "import sys\n",
    "sys.path = sys.path + [f'{home}/.conda/envs/norm_env/lib/python37.zip', \n",
    "                       f'{home}/.conda/envs/norm_env/lib/python3.7', \n",
    "                       f'{home}/.conda/envs/norm_env/lib/python3.7/lib-dynload', \n",
    "                       f'{home}/.conda/envs/norm_env/lib/python3.7/site-packages']\n",
    "sys.prefix = '/home/soniame/.conda/envs/norm_env'\n",
    "\n",
    "from paths import RAW_PATH, TREAT_PATH, OUTPUT_PATH, FIGURES_PATH\n",
    "\n",
    "from copy import deepcopy\n",
    "import numpy as np\n",
    "import pandas as pd\n",
    "pd.options.display.max_columns = 999\n",
    "import yaml\n",
    "import matplotlib.pyplot as plt \n",
    "import datetime\n",
    "\n",
    "import warnings\n",
    "warnings.filterwarnings('ignore')\n",
    "\n",
    "# Plotting\n",
    "import plotly\n",
    "import plotly.graph_objs as go\n",
    "import cufflinks as cf\n",
    "plotly.offline.init_notebook_mode(connected=True)\n",
    "\n",
    "def iplottitle(title, width=40):\n",
    "    return '<br>'.join(textwrap.wrap(title, width))\n",
    "import seaborn as sns\n",
    "import matplotlib.pyplot as plt\n",
    "sns.set(style=\"white\", rc={\"axes.facecolor\": (0, 0, 0, 0)})\n",
    "\n",
    "import plotnine as p9\n",
    "from mizani.breaks import date_breaks\n",
    "from mizani.formatters import date_format\n",
    "p9.theme_set(p9.theme_linedraw()) # default theme\n",
    "\n",
    "# Setting cufflinks\n",
    "import textwrap\n",
    "import cufflinks as cf\n",
    "cf.go_offline()\n",
    "cf.set_config_file(offline=False, world_readable=True)\n",
    "import yaml\n",
    "from jinja2 import Template\n",
    "cf.themes.THEMES['custom'] = yaml.load(open('cufflinks_template.yaml', 'r'))\n",
    "\n",
    "# Manipulation \n",
    "from siuba import *"
   ]
  },
  {
   "cell_type": "code",
   "execution_count": 3,
   "metadata": {},
   "outputs": [],
   "source": [
    "from src import utils\n",
    "conn = utils.connect_athena(path='../configs/athena.yaml')"
   ]
  },
  {
   "cell_type": "code",
   "execution_count": 4,
   "metadata": {},
   "outputs": [],
   "source": [
    "iso_codes = pd.read_sql_query(\"\"\"\n",
    "select \n",
    "    distinct country_iso_code, country_name\n",
    "from spd_sdv_waze_corona.prod_daily_daily_index\n",
    "\"\"\", conn)"
   ]
  },
  {
   "cell_type": "code",
   "execution_count": 5,
   "metadata": {},
   "outputs": [
    {
     "data": {
      "text/plain": [
       "20"
      ]
     },
     "execution_count": 5,
     "metadata": {},
     "output_type": "execute_result"
    }
   ],
   "source": [
    "len(iso_codes.country_iso_code.to_list())"
   ]
  },
  {
   "cell_type": "code",
   "execution_count": 6,
   "metadata": {},
   "outputs": [],
   "source": [
    "#iso_codes.sort_values('country_iso_code')"
   ]
  },
  {
   "cell_type": "markdown",
   "metadata": {},
   "source": [
    "## Country level"
   ]
  },
  {
   "cell_type": "markdown",
   "metadata": {},
   "source": [
    "### Load data (country level)\n",
    "\n",
    "Loading data per country. "
   ]
  },
  {
   "cell_type": "markdown",
   "metadata": {},
   "source": [
    "#### Waze dashboard"
   ]
  },
  {
   "cell_type": "code",
   "execution_count": 7,
   "metadata": {},
   "outputs": [],
   "source": [
    "df_dash = pd.read_sql_query(\"\"\"\n",
    "select \n",
    "    *,\n",
    "    (date_parse(concat(cast(year as varchar), ' ', cast(month as varchar), ' ', cast(day as varchar)), '%Y %m %e')) as date\n",
    "from spd_sdv_waze_corona.prod_daily_daily_index\n",
    "where region_type = 'country';\n",
    "\"\"\", conn)\n",
    "# Bolivia"
   ]
  },
  {
   "cell_type": "code",
   "execution_count": 8,
   "metadata": {},
   "outputs": [],
   "source": [
    "#tab = (df_dash \n",
    "# >> group_by('country_iso_code', 'country_name', 'region_slug')\n",
    "# >> summarize(min_date = _.date.min(),\n",
    "#             max_date = _.date.max(),\n",
    "#             n_obs = _.date.count())\n",
    "# >> ungroup()\n",
    "#)\n",
    "#tab.to_csv('~/private/projects/google_mob_country_list.csv')\n",
    "#tab"
   ]
  },
  {
   "cell_type": "code",
   "execution_count": 9,
   "metadata": {},
   "outputs": [
    {
     "name": "stdout",
     "output_type": "stream",
     "text": [
      "20\n",
      "19\n"
     ]
    },
    {
     "data": {
      "text/plain": [
       "array(['AR', 'BB', 'BR', 'CL', 'CO', 'CR', 'DO', 'EC', 'GT', 'HN', 'JM',\n",
       "       'MX', 'NI', 'PA', 'PE', 'PY', 'SV', 'TT', 'UY'], dtype=object)"
      ]
     },
     "execution_count": 9,
     "metadata": {},
     "output_type": "execute_result"
    }
   ],
   "source": [
    "print(len(iso_codes.country_iso_code.to_list()))\n",
    "#df_dash.head()\n",
    "print(len(df_dash.country_iso_code.unique())) # Bolivia is missing\n",
    "df_dash.sort_values('country_iso_code').country_iso_code.unique()"
   ]
  },
  {
   "cell_type": "code",
   "execution_count": 10,
   "metadata": {},
   "outputs": [
    {
     "name": "stdout",
     "output_type": "stream",
     "text": [
      "(8828, 20)\n",
      "19\n"
     ]
    },
    {
     "data": {
      "text/plain": [
       "array(['El Salvador', 'Mexico', 'Honduras', 'Dominican Republic',\n",
       "       'Uruguay', 'Colombia', 'Panama', 'Nicaragua', 'Barbados',\n",
       "       'Guatemala', 'Costa Rica', 'Ecuador', 'Jamaica', 'Peru',\n",
       "       'Argentina', 'Brazil', 'Paraguay', 'Trinidad and Tobago', 'Chile'],\n",
       "      dtype=object)"
      ]
     },
     "execution_count": 10,
     "metadata": {},
     "output_type": "execute_result"
    }
   ],
   "source": [
    "#df_dash.columns.tolist()\n",
    "print(df_dash.shape)\n",
    "print(len(df_dash.country_name.unique()))\n",
    "df_dash.country_name.unique()"
   ]
  },
  {
   "cell_type": "markdown",
   "metadata": {},
   "source": [
    "#### Waze driven km"
   ]
  },
  {
   "cell_type": "code",
   "execution_count": 11,
   "metadata": {},
   "outputs": [
    {
     "name": "stderr",
     "output_type": "stream",
     "text": [
      "b'Skipping line 19249: expected 3 fields, saw 4\\nSkipping line 21046: expected 3 fields, saw 4\\nSkipping line 21487: expected 3 fields, saw 4\\n'\n"
     ]
    },
    {
     "data": {
      "text/html": [
       "<div>\n",
       "<style scoped>\n",
       "    .dataframe tbody tr th:only-of-type {\n",
       "        vertical-align: middle;\n",
       "    }\n",
       "\n",
       "    .dataframe tbody tr th {\n",
       "        vertical-align: top;\n",
       "    }\n",
       "\n",
       "    .dataframe thead th {\n",
       "        text-align: right;\n",
       "    }\n",
       "</style>\n",
       "<table border=\"1\" class=\"dataframe\">\n",
       "  <thead>\n",
       "    <tr style=\"text-align: right;\">\n",
       "      <th></th>\n",
       "      <th>date</th>\n",
       "      <th>country</th>\n",
       "      <th>pc_driven_miles</th>\n",
       "    </tr>\n",
       "  </thead>\n",
       "  <tbody>\n",
       "    <tr>\n",
       "      <th>0</th>\n",
       "      <td>Jun 29, 2021</td>\n",
       "      <td>Malaysia</td>\n",
       "      <td>-0.49</td>\n",
       "    </tr>\n",
       "    <tr>\n",
       "      <th>1</th>\n",
       "      <td>Jun 29, 2021</td>\n",
       "      <td>Argentina</td>\n",
       "      <td>-0.41</td>\n",
       "    </tr>\n",
       "    <tr>\n",
       "      <th>2</th>\n",
       "      <td>Jun 29, 2021</td>\n",
       "      <td>Indonesia</td>\n",
       "      <td>-0.40</td>\n",
       "    </tr>\n",
       "  </tbody>\n",
       "</table>\n",
       "</div>"
      ],
      "text/plain": [
       "           date    country  pc_driven_miles\n",
       "0  Jun 29, 2021   Malaysia            -0.49\n",
       "1  Jun 29, 2021  Argentina            -0.41\n",
       "2  Jun 29, 2021  Indonesia            -0.40"
      ]
     },
     "execution_count": 11,
     "metadata": {},
     "output_type": "execute_result"
    }
   ],
   "source": [
    "df_waze = pd.read_csv(\"/home/soniame/shared/spd-sdv-omitnik-waze/corona/mobility/Waze _ COVID-19 Impact Dashboard_Country-Level Data_Table.csv\", \n",
    "                      error_bad_lines=False)\n",
    "df_waze.columns = ['date', 'country', 'pc_driven_miles']\n",
    "df_waze.head(3)"
   ]
  },
  {
   "cell_type": "code",
   "execution_count": 12,
   "metadata": {},
   "outputs": [
    {
     "name": "stdout",
     "output_type": "stream",
     "text": [
      "(4877, 4)\n"
     ]
    },
    {
     "data": {
      "text/html": [
       "<div>\n",
       "<style scoped>\n",
       "    .dataframe tbody tr th:only-of-type {\n",
       "        vertical-align: middle;\n",
       "    }\n",
       "\n",
       "    .dataframe tbody tr th {\n",
       "        vertical-align: top;\n",
       "    }\n",
       "\n",
       "    .dataframe thead th {\n",
       "        text-align: right;\n",
       "    }\n",
       "</style>\n",
       "<table border=\"1\" class=\"dataframe\">\n",
       "  <thead>\n",
       "    <tr style=\"text-align: right;\">\n",
       "      <th></th>\n",
       "      <th>date</th>\n",
       "      <th>country</th>\n",
       "      <th>pc_driven_miles</th>\n",
       "      <th>exists</th>\n",
       "    </tr>\n",
       "  </thead>\n",
       "  <tbody>\n",
       "    <tr>\n",
       "      <th>1</th>\n",
       "      <td>2021-06-29</td>\n",
       "      <td>Argentina</td>\n",
       "      <td>59.0</td>\n",
       "      <td>True</td>\n",
       "    </tr>\n",
       "    <tr>\n",
       "      <th>5</th>\n",
       "      <td>2021-06-29</td>\n",
       "      <td>Uruguay</td>\n",
       "      <td>68.0</td>\n",
       "      <td>True</td>\n",
       "    </tr>\n",
       "    <tr>\n",
       "      <th>7</th>\n",
       "      <td>2021-06-29</td>\n",
       "      <td>Peru</td>\n",
       "      <td>72.0</td>\n",
       "      <td>True</td>\n",
       "    </tr>\n",
       "    <tr>\n",
       "      <th>9</th>\n",
       "      <td>2021-06-29</td>\n",
       "      <td>Mexico</td>\n",
       "      <td>76.0</td>\n",
       "      <td>True</td>\n",
       "    </tr>\n",
       "    <tr>\n",
       "      <th>13</th>\n",
       "      <td>2021-06-29</td>\n",
       "      <td>Costa Rica</td>\n",
       "      <td>86.0</td>\n",
       "      <td>True</td>\n",
       "    </tr>\n",
       "  </tbody>\n",
       "</table>\n",
       "</div>"
      ],
      "text/plain": [
       "         date     country  pc_driven_miles  exists\n",
       "1  2021-06-29   Argentina             59.0    True\n",
       "5  2021-06-29     Uruguay             68.0    True\n",
       "7  2021-06-29        Peru             72.0    True\n",
       "9  2021-06-29      Mexico             76.0    True\n",
       "13 2021-06-29  Costa Rica             86.0    True"
      ]
     },
     "execution_count": 12,
     "metadata": {},
     "output_type": "execute_result"
    }
   ],
   "source": [
    "df_waze['date'] = df_waze.date.apply(lambda x : datetime.datetime.strptime(x, '%b %d, %Y'))\n",
    "df_waze['exists'] = df_waze.country.isin([ 'Argentina','Brazil', 'Chile', 'Colombia', 'Costa Rica',  \n",
    "                                          'Ecuador', 'Guatemala',  'Mexico',  'Peru', 'Uruguay']) \n",
    "df_waze = df_waze.siu_filter(_.exists).siu_mutate(pc_driven_miles=100*(_.pc_driven_miles + 1 ))      \n",
    "print(df_waze.shape)\n",
    "df_waze.head()"
   ]
  },
  {
   "cell_type": "markdown",
   "metadata": {},
   "source": [
    "Missing countries: Panama, Honduras, Trinidad and Tobago, Dominican Republic, Paraguay, Barbados, El Salvador, Jamaica, Nicaragua"
   ]
  },
  {
   "cell_type": "code",
   "execution_count": 13,
   "metadata": {},
   "outputs": [],
   "source": [
    "#tab = (df_waze \n",
    "# >> group_by('country')\n",
    "# >> summarize(min_date = _.date.min(),\n",
    "#             max_date = _.date.max(),\n",
    "#             n_obs = _.date.count())\n",
    "# >> ungroup()\n",
    "#)\n",
    "##tab.to_csv('~/private/projects/google_mob_country_list.csv')\n",
    "#tab"
   ]
  },
  {
   "cell_type": "code",
   "execution_count": 14,
   "metadata": {},
   "outputs": [
    {
     "name": "stdout",
     "output_type": "stream",
     "text": [
      "Countries: 10\n"
     ]
    },
    {
     "data": {
      "text/plain": [
       "array(['Argentina', 'Uruguay', 'Peru', 'Mexico', 'Costa Rica', 'Ecuador',\n",
       "       'Brazil', 'Guatemala', 'Colombia', 'Chile'], dtype=object)"
      ]
     },
     "execution_count": 14,
     "metadata": {},
     "output_type": "execute_result"
    }
   ],
   "source": [
    "print('Countries: ' + str(len(df_waze.country.unique())) )\n",
    "df_waze.country.unique()"
   ]
  },
  {
   "cell_type": "markdown",
   "metadata": {},
   "source": [
    "Turn baseline from 2020-03-02 to 2020-03-08 per day of week"
   ]
  },
  {
   "cell_type": "code",
   "execution_count": 15,
   "metadata": {},
   "outputs": [
    {
     "data": {
      "text/html": [
       "<div>\n",
       "<style scoped>\n",
       "    .dataframe tbody tr th:only-of-type {\n",
       "        vertical-align: middle;\n",
       "    }\n",
       "\n",
       "    .dataframe tbody tr th {\n",
       "        vertical-align: top;\n",
       "    }\n",
       "\n",
       "    .dataframe thead th {\n",
       "        text-align: right;\n",
       "    }\n",
       "</style>\n",
       "<table border=\"1\" class=\"dataframe\">\n",
       "  <thead>\n",
       "    <tr style=\"text-align: right;\">\n",
       "      <th></th>\n",
       "      <th>country</th>\n",
       "      <th>date</th>\n",
       "      <th>pc_driven_miles</th>\n",
       "      <th>dow</th>\n",
       "    </tr>\n",
       "  </thead>\n",
       "  <tbody>\n",
       "    <tr>\n",
       "      <th>1</th>\n",
       "      <td>Argentina</td>\n",
       "      <td>2021-06-29</td>\n",
       "      <td>59.0</td>\n",
       "      <td>2</td>\n",
       "    </tr>\n",
       "    <tr>\n",
       "      <th>5</th>\n",
       "      <td>Uruguay</td>\n",
       "      <td>2021-06-29</td>\n",
       "      <td>68.0</td>\n",
       "      <td>2</td>\n",
       "    </tr>\n",
       "  </tbody>\n",
       "</table>\n",
       "</div>"
      ],
      "text/plain": [
       "     country       date  pc_driven_miles dow\n",
       "1  Argentina 2021-06-29             59.0   2\n",
       "5    Uruguay 2021-06-29             68.0   2"
      ]
     },
     "execution_count": 15,
     "metadata": {},
     "output_type": "execute_result"
    }
   ],
   "source": [
    "df_waze = df_waze \\\n",
    "              .siu_select('country', 'date', \n",
    "                          'pc_driven_miles')\n",
    "df_waze['dow'] = df_waze.date.apply(lambda x : datetime.datetime.strftime(x, '%w'))  \n",
    "df_waze.head(2)"
   ]
  },
  {
   "cell_type": "code",
   "execution_count": 16,
   "metadata": {},
   "outputs": [
    {
     "data": {
      "text/html": [
       "<div>\n",
       "<style scoped>\n",
       "    .dataframe tbody tr th:only-of-type {\n",
       "        vertical-align: middle;\n",
       "    }\n",
       "\n",
       "    .dataframe tbody tr th {\n",
       "        vertical-align: top;\n",
       "    }\n",
       "\n",
       "    .dataframe thead th {\n",
       "        text-align: right;\n",
       "    }\n",
       "</style>\n",
       "<table border=\"1\" class=\"dataframe\">\n",
       "  <thead>\n",
       "    <tr style=\"text-align: right;\">\n",
       "      <th></th>\n",
       "      <th>country</th>\n",
       "      <th>pc_driven_miles_baseline</th>\n",
       "      <th>dow</th>\n",
       "    </tr>\n",
       "  </thead>\n",
       "  <tbody>\n",
       "    <tr>\n",
       "      <th>21125</th>\n",
       "      <td>Chile</td>\n",
       "      <td>65.0</td>\n",
       "      <td>0</td>\n",
       "    </tr>\n",
       "    <tr>\n",
       "      <th>21128</th>\n",
       "      <td>Argentina</td>\n",
       "      <td>84.0</td>\n",
       "      <td>0</td>\n",
       "    </tr>\n",
       "  </tbody>\n",
       "</table>\n",
       "</div>"
      ],
      "text/plain": [
       "         country  pc_driven_miles_baseline dow\n",
       "21125      Chile                      65.0   0\n",
       "21128  Argentina                      84.0   0"
      ]
     },
     "execution_count": 16,
     "metadata": {},
     "output_type": "execute_result"
    }
   ],
   "source": [
    "df_waze_base = df_waze[(df_waze.date >= '2020-03-02') & (df_waze.date <= '2020-03-08')] \\\n",
    "    .drop('date', 1) \\\n",
    "    .rename(columns = {'pc_driven_miles':'pc_driven_miles_baseline'})\n",
    "df_waze_base.head(2)"
   ]
  },
  {
   "cell_type": "code",
   "execution_count": 17,
   "metadata": {},
   "outputs": [],
   "source": [
    "df_waze_rebase = df_waze.merge(df_waze_base)\n",
    "df_waze_rebase['pc_driven_miles'] = 100*(df_waze_rebase['pc_driven_miles']- df_waze_rebase['pc_driven_miles_baseline'])/df_waze_rebase['pc_driven_miles_baseline']\n",
    "df_waze_rebase.head()\n",
    "df_waze = df_waze_rebase.drop(['pc_driven_miles_baseline'], 1)"
   ]
  },
  {
   "cell_type": "code",
   "execution_count": 18,
   "metadata": {},
   "outputs": [],
   "source": [
    "gg1 = (p9.ggplot(df_waze_rebase, \n",
    "           p9.aes(x='dow', y ='pc_driven_miles_baseline')) \n",
    " + p9.geom_point()\n",
    " + p9.facet_wrap('country', scales='free_y') \n",
    " + p9.labs(title='Driven miles per country for base period')\n",
    " + p9.theme(figure_size = (11, 11),\n",
    "            axis_text_x=p9.element_text(rotation=90, hjust=1), \n",
    "            legend_position='top')\n",
    ") \n",
    "gg2 = (p9.ggplot(df_waze, \n",
    "           p9.aes(x='date', y ='pc_driven_miles', color = 'dow')) \n",
    " + p9.geom_point()\n",
    " + p9.facet_wrap('country', scales='free_y') \n",
    " + p9.labs(title='Driven miles per country')\n",
    " + p9.theme(figure_size = (11, 11),\n",
    "            axis_text_x=p9.element_text(rotation=90, hjust=1), \n",
    "            legend_position='top')\n",
    ") "
   ]
  },
  {
   "cell_type": "code",
   "execution_count": 19,
   "metadata": {},
   "outputs": [],
   "source": [
    "#gg2"
   ]
  },
  {
   "cell_type": "code",
   "execution_count": 20,
   "metadata": {},
   "outputs": [],
   "source": [
    "#df_waze.head(2)"
   ]
  },
  {
   "cell_type": "code",
   "execution_count": null,
   "metadata": {},
   "outputs": [],
   "source": []
  },
  {
   "cell_type": "markdown",
   "metadata": {},
   "source": [
    "#### Google mobility"
   ]
  },
  {
   "cell_type": "code",
   "execution_count": null,
   "metadata": {},
   "outputs": [],
   "source": [
    "df_goo = pd.read_csv(\"~/shared/spd-sdv-omitnik-waze/corona/mobility/Global_Mobility_Report.csv\")  \n",
    "#df_goo = df_goo[(df_goo.date != '-5') | (df_goo.date.isna() == False) | (df_goo.date == 'nan')]\n"
   ]
  },
  {
   "cell_type": "code",
   "execution_count": 29,
   "metadata": {},
   "outputs": [
    {
     "ename": "MemoryError",
     "evalue": "Unable to allocate 362. MiB for an array with shape (8, 5937908) and data type object",
     "output_type": "error",
     "traceback": [
      "\u001b[0;31m---------------------------------------------------------------------------\u001b[0m",
      "\u001b[0;31mMemoryError\u001b[0m                               Traceback (most recent call last)",
      "\u001b[0;32m<ipython-input-29-28df0a14bbb4>\u001b[0m in \u001b[0;36m<module>\u001b[0;34m\u001b[0m\n\u001b[0;32m----> 1\u001b[0;31m \u001b[0mdf_goo\u001b[0m \u001b[0;34m=\u001b[0m \u001b[0mdf_goo\u001b[0m\u001b[0;34m[\u001b[0m\u001b[0;34m(\u001b[0m\u001b[0mdf_goo\u001b[0m\u001b[0;34m.\u001b[0m\u001b[0mdate\u001b[0m \u001b[0;34m!=\u001b[0m \u001b[0;34m'-5'\u001b[0m\u001b[0;34m)\u001b[0m  \u001b[0;34m]\u001b[0m\u001b[0;34m\u001b[0m\u001b[0;34m\u001b[0m\u001b[0m\n\u001b[0m\u001b[1;32m      2\u001b[0m \u001b[0mdf_goo\u001b[0m\u001b[0;34m.\u001b[0m\u001b[0msort_values\u001b[0m\u001b[0;34m(\u001b[0m\u001b[0;34m'date'\u001b[0m\u001b[0;34m)\u001b[0m\u001b[0;34m.\u001b[0m\u001b[0mtail\u001b[0m\u001b[0;34m(\u001b[0m\u001b[0;34m)\u001b[0m\u001b[0;34m\u001b[0m\u001b[0;34m\u001b[0m\u001b[0m\n\u001b[1;32m      3\u001b[0m \u001b[0;31m#df_goo[(df_goo.date == 'nan')]\u001b[0m\u001b[0;34m\u001b[0m\u001b[0;34m\u001b[0m\u001b[0;34m\u001b[0m\u001b[0m\n",
      "\u001b[0;32m~/.conda/envs/IDB-IDB-Invest-Coronavirus-Impact-Dashboard/lib/python3.7/site-packages/pandas/core/frame.py\u001b[0m in \u001b[0;36m__getitem__\u001b[0;34m(self, key)\u001b[0m\n\u001b[1;32m   2789\u001b[0m         \u001b[0;31m# Do we have a (boolean) 1d indexer?\u001b[0m\u001b[0;34m\u001b[0m\u001b[0;34m\u001b[0m\u001b[0;34m\u001b[0m\u001b[0m\n\u001b[1;32m   2790\u001b[0m         \u001b[0;32mif\u001b[0m \u001b[0mcom\u001b[0m\u001b[0;34m.\u001b[0m\u001b[0mis_bool_indexer\u001b[0m\u001b[0;34m(\u001b[0m\u001b[0mkey\u001b[0m\u001b[0;34m)\u001b[0m\u001b[0;34m:\u001b[0m\u001b[0;34m\u001b[0m\u001b[0;34m\u001b[0m\u001b[0m\n\u001b[0;32m-> 2791\u001b[0;31m             \u001b[0;32mreturn\u001b[0m \u001b[0mself\u001b[0m\u001b[0;34m.\u001b[0m\u001b[0m_getitem_bool_array\u001b[0m\u001b[0;34m(\u001b[0m\u001b[0mkey\u001b[0m\u001b[0;34m)\u001b[0m\u001b[0;34m\u001b[0m\u001b[0;34m\u001b[0m\u001b[0m\n\u001b[0m\u001b[1;32m   2792\u001b[0m \u001b[0;34m\u001b[0m\u001b[0m\n\u001b[1;32m   2793\u001b[0m         \u001b[0;31m# We are left with two options: a single key, and a collection of keys,\u001b[0m\u001b[0;34m\u001b[0m\u001b[0;34m\u001b[0m\u001b[0;34m\u001b[0m\u001b[0m\n",
      "\u001b[0;32m~/.conda/envs/IDB-IDB-Invest-Coronavirus-Impact-Dashboard/lib/python3.7/site-packages/pandas/core/frame.py\u001b[0m in \u001b[0;36m_getitem_bool_array\u001b[0;34m(self, key)\u001b[0m\n\u001b[1;32m   2843\u001b[0m         \u001b[0mkey\u001b[0m \u001b[0;34m=\u001b[0m \u001b[0mcheck_bool_indexer\u001b[0m\u001b[0;34m(\u001b[0m\u001b[0mself\u001b[0m\u001b[0;34m.\u001b[0m\u001b[0mindex\u001b[0m\u001b[0;34m,\u001b[0m \u001b[0mkey\u001b[0m\u001b[0;34m)\u001b[0m\u001b[0;34m\u001b[0m\u001b[0;34m\u001b[0m\u001b[0m\n\u001b[1;32m   2844\u001b[0m         \u001b[0mindexer\u001b[0m \u001b[0;34m=\u001b[0m \u001b[0mkey\u001b[0m\u001b[0;34m.\u001b[0m\u001b[0mnonzero\u001b[0m\u001b[0;34m(\u001b[0m\u001b[0;34m)\u001b[0m\u001b[0;34m[\u001b[0m\u001b[0;36m0\u001b[0m\u001b[0;34m]\u001b[0m\u001b[0;34m\u001b[0m\u001b[0;34m\u001b[0m\u001b[0m\n\u001b[0;32m-> 2845\u001b[0;31m         \u001b[0;32mreturn\u001b[0m \u001b[0mself\u001b[0m\u001b[0;34m.\u001b[0m\u001b[0m_take_with_is_copy\u001b[0m\u001b[0;34m(\u001b[0m\u001b[0mindexer\u001b[0m\u001b[0;34m,\u001b[0m \u001b[0maxis\u001b[0m\u001b[0;34m=\u001b[0m\u001b[0;36m0\u001b[0m\u001b[0;34m)\u001b[0m\u001b[0;34m\u001b[0m\u001b[0;34m\u001b[0m\u001b[0m\n\u001b[0m\u001b[1;32m   2846\u001b[0m \u001b[0;34m\u001b[0m\u001b[0m\n\u001b[1;32m   2847\u001b[0m     \u001b[0;32mdef\u001b[0m \u001b[0m_getitem_multilevel\u001b[0m\u001b[0;34m(\u001b[0m\u001b[0mself\u001b[0m\u001b[0;34m,\u001b[0m \u001b[0mkey\u001b[0m\u001b[0;34m)\u001b[0m\u001b[0;34m:\u001b[0m\u001b[0;34m\u001b[0m\u001b[0;34m\u001b[0m\u001b[0m\n",
      "\u001b[0;32m~/.conda/envs/IDB-IDB-Invest-Coronavirus-Impact-Dashboard/lib/python3.7/site-packages/pandas/core/generic.py\u001b[0m in \u001b[0;36m_take_with_is_copy\u001b[0;34m(self, indices, axis, **kwargs)\u001b[0m\n\u001b[1;32m   3407\u001b[0m         \u001b[0mSee\u001b[0m \u001b[0mthe\u001b[0m \u001b[0mdocstring\u001b[0m \u001b[0mof\u001b[0m\u001b[0;31m \u001b[0m\u001b[0;31m`\u001b[0m\u001b[0mtake\u001b[0m\u001b[0;31m`\u001b[0m \u001b[0;32mfor\u001b[0m \u001b[0mfull\u001b[0m \u001b[0mexplanation\u001b[0m \u001b[0mof\u001b[0m \u001b[0mthe\u001b[0m \u001b[0mparameters\u001b[0m\u001b[0;34m.\u001b[0m\u001b[0;34m\u001b[0m\u001b[0;34m\u001b[0m\u001b[0m\n\u001b[1;32m   3408\u001b[0m         \"\"\"\n\u001b[0;32m-> 3409\u001b[0;31m         \u001b[0mresult\u001b[0m \u001b[0;34m=\u001b[0m \u001b[0mself\u001b[0m\u001b[0;34m.\u001b[0m\u001b[0mtake\u001b[0m\u001b[0;34m(\u001b[0m\u001b[0mindices\u001b[0m\u001b[0;34m=\u001b[0m\u001b[0mindices\u001b[0m\u001b[0;34m,\u001b[0m \u001b[0maxis\u001b[0m\u001b[0;34m=\u001b[0m\u001b[0maxis\u001b[0m\u001b[0;34m,\u001b[0m \u001b[0;34m**\u001b[0m\u001b[0mkwargs\u001b[0m\u001b[0;34m)\u001b[0m\u001b[0;34m\u001b[0m\u001b[0;34m\u001b[0m\u001b[0m\n\u001b[0m\u001b[1;32m   3410\u001b[0m         \u001b[0;31m# Maybe set copy if we didn't actually change the index.\u001b[0m\u001b[0;34m\u001b[0m\u001b[0;34m\u001b[0m\u001b[0;34m\u001b[0m\u001b[0m\n\u001b[1;32m   3411\u001b[0m         \u001b[0;32mif\u001b[0m \u001b[0;32mnot\u001b[0m \u001b[0mresult\u001b[0m\u001b[0;34m.\u001b[0m\u001b[0m_get_axis\u001b[0m\u001b[0;34m(\u001b[0m\u001b[0maxis\u001b[0m\u001b[0;34m)\u001b[0m\u001b[0;34m.\u001b[0m\u001b[0mequals\u001b[0m\u001b[0;34m(\u001b[0m\u001b[0mself\u001b[0m\u001b[0;34m.\u001b[0m\u001b[0m_get_axis\u001b[0m\u001b[0;34m(\u001b[0m\u001b[0maxis\u001b[0m\u001b[0;34m)\u001b[0m\u001b[0;34m)\u001b[0m\u001b[0;34m:\u001b[0m\u001b[0;34m\u001b[0m\u001b[0;34m\u001b[0m\u001b[0m\n",
      "\u001b[0;32m~/.conda/envs/IDB-IDB-Invest-Coronavirus-Impact-Dashboard/lib/python3.7/site-packages/pandas/core/generic.py\u001b[0m in \u001b[0;36mtake\u001b[0;34m(self, indices, axis, is_copy, **kwargs)\u001b[0m\n\u001b[1;32m   3393\u001b[0m \u001b[0;34m\u001b[0m\u001b[0m\n\u001b[1;32m   3394\u001b[0m         new_data = self._data.take(\n\u001b[0;32m-> 3395\u001b[0;31m             \u001b[0mindices\u001b[0m\u001b[0;34m,\u001b[0m \u001b[0maxis\u001b[0m\u001b[0;34m=\u001b[0m\u001b[0mself\u001b[0m\u001b[0;34m.\u001b[0m\u001b[0m_get_block_manager_axis\u001b[0m\u001b[0;34m(\u001b[0m\u001b[0maxis\u001b[0m\u001b[0;34m)\u001b[0m\u001b[0;34m,\u001b[0m \u001b[0mverify\u001b[0m\u001b[0;34m=\u001b[0m\u001b[0;32mTrue\u001b[0m\u001b[0;34m\u001b[0m\u001b[0;34m\u001b[0m\u001b[0m\n\u001b[0m\u001b[1;32m   3396\u001b[0m         )\n\u001b[1;32m   3397\u001b[0m         \u001b[0;32mreturn\u001b[0m \u001b[0mself\u001b[0m\u001b[0;34m.\u001b[0m\u001b[0m_constructor\u001b[0m\u001b[0;34m(\u001b[0m\u001b[0mnew_data\u001b[0m\u001b[0;34m)\u001b[0m\u001b[0;34m.\u001b[0m\u001b[0m__finalize__\u001b[0m\u001b[0;34m(\u001b[0m\u001b[0mself\u001b[0m\u001b[0;34m)\u001b[0m\u001b[0;34m\u001b[0m\u001b[0;34m\u001b[0m\u001b[0m\n",
      "\u001b[0;32m~/.conda/envs/IDB-IDB-Invest-Coronavirus-Impact-Dashboard/lib/python3.7/site-packages/pandas/core/internals/managers.py\u001b[0m in \u001b[0;36mtake\u001b[0;34m(self, indexer, axis, verify, convert)\u001b[0m\n\u001b[1;32m   1392\u001b[0m         \u001b[0mnew_labels\u001b[0m \u001b[0;34m=\u001b[0m \u001b[0mself\u001b[0m\u001b[0;34m.\u001b[0m\u001b[0maxes\u001b[0m\u001b[0;34m[\u001b[0m\u001b[0maxis\u001b[0m\u001b[0;34m]\u001b[0m\u001b[0;34m.\u001b[0m\u001b[0mtake\u001b[0m\u001b[0;34m(\u001b[0m\u001b[0mindexer\u001b[0m\u001b[0;34m)\u001b[0m\u001b[0;34m\u001b[0m\u001b[0;34m\u001b[0m\u001b[0m\n\u001b[1;32m   1393\u001b[0m         return self.reindex_indexer(\n\u001b[0;32m-> 1394\u001b[0;31m             \u001b[0mnew_axis\u001b[0m\u001b[0;34m=\u001b[0m\u001b[0mnew_labels\u001b[0m\u001b[0;34m,\u001b[0m \u001b[0mindexer\u001b[0m\u001b[0;34m=\u001b[0m\u001b[0mindexer\u001b[0m\u001b[0;34m,\u001b[0m \u001b[0maxis\u001b[0m\u001b[0;34m=\u001b[0m\u001b[0maxis\u001b[0m\u001b[0;34m,\u001b[0m \u001b[0mallow_dups\u001b[0m\u001b[0;34m=\u001b[0m\u001b[0;32mTrue\u001b[0m\u001b[0;34m\u001b[0m\u001b[0;34m\u001b[0m\u001b[0m\n\u001b[0m\u001b[1;32m   1395\u001b[0m         )\n\u001b[1;32m   1396\u001b[0m \u001b[0;34m\u001b[0m\u001b[0m\n",
      "\u001b[0;32m~/.conda/envs/IDB-IDB-Invest-Coronavirus-Impact-Dashboard/lib/python3.7/site-packages/pandas/core/internals/managers.py\u001b[0m in \u001b[0;36mreindex_indexer\u001b[0;34m(self, new_axis, indexer, axis, fill_value, allow_dups, copy)\u001b[0m\n\u001b[1;32m   1265\u001b[0m                     ),\n\u001b[1;32m   1266\u001b[0m                 )\n\u001b[0;32m-> 1267\u001b[0;31m                 \u001b[0;32mfor\u001b[0m \u001b[0mblk\u001b[0m \u001b[0;32min\u001b[0m \u001b[0mself\u001b[0m\u001b[0;34m.\u001b[0m\u001b[0mblocks\u001b[0m\u001b[0;34m\u001b[0m\u001b[0;34m\u001b[0m\u001b[0m\n\u001b[0m\u001b[1;32m   1268\u001b[0m             ]\n\u001b[1;32m   1269\u001b[0m \u001b[0;34m\u001b[0m\u001b[0m\n",
      "\u001b[0;32m~/.conda/envs/IDB-IDB-Invest-Coronavirus-Impact-Dashboard/lib/python3.7/site-packages/pandas/core/internals/managers.py\u001b[0m in \u001b[0;36m<listcomp>\u001b[0;34m(.0)\u001b[0m\n\u001b[1;32m   1265\u001b[0m                     ),\n\u001b[1;32m   1266\u001b[0m                 )\n\u001b[0;32m-> 1267\u001b[0;31m                 \u001b[0;32mfor\u001b[0m \u001b[0mblk\u001b[0m \u001b[0;32min\u001b[0m \u001b[0mself\u001b[0m\u001b[0;34m.\u001b[0m\u001b[0mblocks\u001b[0m\u001b[0;34m\u001b[0m\u001b[0;34m\u001b[0m\u001b[0m\n\u001b[0m\u001b[1;32m   1268\u001b[0m             ]\n\u001b[1;32m   1269\u001b[0m \u001b[0;34m\u001b[0m\u001b[0m\n",
      "\u001b[0;32m~/.conda/envs/IDB-IDB-Invest-Coronavirus-Impact-Dashboard/lib/python3.7/site-packages/pandas/core/internals/blocks.py\u001b[0m in \u001b[0;36mtake_nd\u001b[0;34m(self, indexer, axis, new_mgr_locs, fill_tuple)\u001b[0m\n\u001b[1;32m   1295\u001b[0m \u001b[0;34m\u001b[0m\u001b[0m\n\u001b[1;32m   1296\u001b[0m         new_values = algos.take_nd(\n\u001b[0;32m-> 1297\u001b[0;31m             \u001b[0mvalues\u001b[0m\u001b[0;34m,\u001b[0m \u001b[0mindexer\u001b[0m\u001b[0;34m,\u001b[0m \u001b[0maxis\u001b[0m\u001b[0;34m=\u001b[0m\u001b[0maxis\u001b[0m\u001b[0;34m,\u001b[0m \u001b[0mallow_fill\u001b[0m\u001b[0;34m=\u001b[0m\u001b[0mallow_fill\u001b[0m\u001b[0;34m,\u001b[0m \u001b[0mfill_value\u001b[0m\u001b[0;34m=\u001b[0m\u001b[0mfill_value\u001b[0m\u001b[0;34m\u001b[0m\u001b[0;34m\u001b[0m\u001b[0m\n\u001b[0m\u001b[1;32m   1298\u001b[0m         )\n\u001b[1;32m   1299\u001b[0m \u001b[0;34m\u001b[0m\u001b[0m\n",
      "\u001b[0;32m~/.conda/envs/IDB-IDB-Invest-Coronavirus-Impact-Dashboard/lib/python3.7/site-packages/pandas/core/algorithms.py\u001b[0m in \u001b[0;36mtake_nd\u001b[0;34m(arr, indexer, axis, out, fill_value, allow_fill)\u001b[0m\n\u001b[1;32m   1655\u001b[0m             \u001b[0mout\u001b[0m \u001b[0;34m=\u001b[0m \u001b[0mnp\u001b[0m\u001b[0;34m.\u001b[0m\u001b[0mempty\u001b[0m\u001b[0;34m(\u001b[0m\u001b[0mout_shape\u001b[0m\u001b[0;34m,\u001b[0m \u001b[0mdtype\u001b[0m\u001b[0;34m=\u001b[0m\u001b[0mdtype\u001b[0m\u001b[0;34m,\u001b[0m \u001b[0morder\u001b[0m\u001b[0;34m=\u001b[0m\u001b[0;34m\"F\"\u001b[0m\u001b[0;34m)\u001b[0m\u001b[0;34m\u001b[0m\u001b[0;34m\u001b[0m\u001b[0m\n\u001b[1;32m   1656\u001b[0m         \u001b[0;32melse\u001b[0m\u001b[0;34m:\u001b[0m\u001b[0;34m\u001b[0m\u001b[0;34m\u001b[0m\u001b[0m\n\u001b[0;32m-> 1657\u001b[0;31m             \u001b[0mout\u001b[0m \u001b[0;34m=\u001b[0m \u001b[0mnp\u001b[0m\u001b[0;34m.\u001b[0m\u001b[0mempty\u001b[0m\u001b[0;34m(\u001b[0m\u001b[0mout_shape\u001b[0m\u001b[0;34m,\u001b[0m \u001b[0mdtype\u001b[0m\u001b[0;34m=\u001b[0m\u001b[0mdtype\u001b[0m\u001b[0;34m)\u001b[0m\u001b[0;34m\u001b[0m\u001b[0;34m\u001b[0m\u001b[0m\n\u001b[0m\u001b[1;32m   1658\u001b[0m \u001b[0;34m\u001b[0m\u001b[0m\n\u001b[1;32m   1659\u001b[0m     func = _get_take_nd_function(\n",
      "\u001b[0;31mMemoryError\u001b[0m: Unable to allocate 362. MiB for an array with shape (8, 5937908) and data type object"
     ]
    }
   ],
   "source": [
    "df_goo = df_goo[(df_goo.date != '-5')  ]\n",
    "df_goo.sort_values('date').tail()\n",
    "#df_goo[(df_goo.date == 'nan')]"
   ]
  },
  {
   "cell_type": "code",
   "execution_count": 44,
   "metadata": {},
   "outputs": [
    {
     "ename": "TypeError",
     "evalue": "strptime() argument 1 must be str, not float",
     "output_type": "error",
     "traceback": [
      "\u001b[0;31m---------------------------------------------------------------------------\u001b[0m",
      "\u001b[0;31mTypeError\u001b[0m                                 Traceback (most recent call last)",
      "\u001b[0;32m<ipython-input-44-e770b7b5dbfc>\u001b[0m in \u001b[0;36m<module>\u001b[0;34m\u001b[0m\n\u001b[1;32m      1\u001b[0m \u001b[0mdf_goo\u001b[0m\u001b[0;34m[\u001b[0m\u001b[0;34m'inregion'\u001b[0m\u001b[0;34m]\u001b[0m \u001b[0;34m=\u001b[0m \u001b[0mdf_goo\u001b[0m\u001b[0;34m.\u001b[0m\u001b[0mcountry_region_code\u001b[0m\u001b[0;34m.\u001b[0m\u001b[0misin\u001b[0m\u001b[0;34m(\u001b[0m\u001b[0miso_codes\u001b[0m\u001b[0;34m.\u001b[0m\u001b[0mcountry_iso_code\u001b[0m\u001b[0;34m.\u001b[0m\u001b[0mto_list\u001b[0m\u001b[0;34m(\u001b[0m\u001b[0;34m)\u001b[0m\u001b[0;34m)\u001b[0m\u001b[0;34m\u001b[0m\u001b[0;34m\u001b[0m\u001b[0m\n\u001b[0;32m----> 2\u001b[0;31m \u001b[0mdf_goo\u001b[0m\u001b[0;34m[\u001b[0m\u001b[0;34m'date'\u001b[0m\u001b[0;34m]\u001b[0m \u001b[0;34m=\u001b[0m \u001b[0mdf_goo\u001b[0m\u001b[0;34m.\u001b[0m\u001b[0mdate\u001b[0m\u001b[0;34m.\u001b[0m\u001b[0mapply\u001b[0m\u001b[0;34m(\u001b[0m\u001b[0;32mlambda\u001b[0m \u001b[0mx\u001b[0m \u001b[0;34m:\u001b[0m \u001b[0mdatetime\u001b[0m\u001b[0;34m.\u001b[0m\u001b[0mdatetime\u001b[0m\u001b[0;34m.\u001b[0m\u001b[0mstrptime\u001b[0m\u001b[0;34m(\u001b[0m\u001b[0mx\u001b[0m\u001b[0;34m,\u001b[0m \u001b[0;34m'%Y-%m-%d'\u001b[0m\u001b[0;34m)\u001b[0m\u001b[0;34m)\u001b[0m\u001b[0;34m\u001b[0m\u001b[0;34m\u001b[0m\u001b[0m\n\u001b[0m\u001b[1;32m      3\u001b[0m \u001b[0mdf_goo\u001b[0m \u001b[0;34m=\u001b[0m \u001b[0mdf_goo\u001b[0m\u001b[0;31m \u001b[0m\u001b[0;31m\\\u001b[0m\u001b[0;34m\u001b[0m\u001b[0;34m\u001b[0m\u001b[0m\n\u001b[1;32m      4\u001b[0m     \u001b[0;34m.\u001b[0m\u001b[0msiu_filter\u001b[0m\u001b[0;34m(\u001b[0m\u001b[0m_\u001b[0m\u001b[0;34m.\u001b[0m\u001b[0minregion\u001b[0m\u001b[0;34m)\u001b[0m\u001b[0;31m \u001b[0m\u001b[0;31m\\\u001b[0m\u001b[0;34m\u001b[0m\u001b[0;34m\u001b[0m\u001b[0m\n\u001b[1;32m      5\u001b[0m     \u001b[0;34m.\u001b[0m\u001b[0msiu_filter\u001b[0m\u001b[0;34m(\u001b[0m \u001b[0m_\u001b[0m\u001b[0;34m.\u001b[0m\u001b[0msub_region_1\u001b[0m\u001b[0;34m.\u001b[0m\u001b[0misnull\u001b[0m\u001b[0;34m(\u001b[0m\u001b[0;34m)\u001b[0m\u001b[0;34m,\u001b[0m \u001b[0m_\u001b[0m\u001b[0;34m.\u001b[0m\u001b[0mmetro_area\u001b[0m\u001b[0;34m.\u001b[0m\u001b[0misnull\u001b[0m\u001b[0;34m(\u001b[0m\u001b[0;34m)\u001b[0m\u001b[0;34m)\u001b[0m\u001b[0;34m\u001b[0m\u001b[0;34m\u001b[0m\u001b[0m\n",
      "\u001b[0;32m~/.conda/envs/IDB-IDB-Invest-Coronavirus-Impact-Dashboard/lib/python3.7/site-packages/pandas/core/series.py\u001b[0m in \u001b[0;36mapply\u001b[0;34m(self, func, convert_dtype, args, **kwds)\u001b[0m\n\u001b[1;32m   3846\u001b[0m             \u001b[0;32melse\u001b[0m\u001b[0;34m:\u001b[0m\u001b[0;34m\u001b[0m\u001b[0;34m\u001b[0m\u001b[0m\n\u001b[1;32m   3847\u001b[0m                 \u001b[0mvalues\u001b[0m \u001b[0;34m=\u001b[0m \u001b[0mself\u001b[0m\u001b[0;34m.\u001b[0m\u001b[0mastype\u001b[0m\u001b[0;34m(\u001b[0m\u001b[0mobject\u001b[0m\u001b[0;34m)\u001b[0m\u001b[0;34m.\u001b[0m\u001b[0mvalues\u001b[0m\u001b[0;34m\u001b[0m\u001b[0;34m\u001b[0m\u001b[0m\n\u001b[0;32m-> 3848\u001b[0;31m                 \u001b[0mmapped\u001b[0m \u001b[0;34m=\u001b[0m \u001b[0mlib\u001b[0m\u001b[0;34m.\u001b[0m\u001b[0mmap_infer\u001b[0m\u001b[0;34m(\u001b[0m\u001b[0mvalues\u001b[0m\u001b[0;34m,\u001b[0m \u001b[0mf\u001b[0m\u001b[0;34m,\u001b[0m \u001b[0mconvert\u001b[0m\u001b[0;34m=\u001b[0m\u001b[0mconvert_dtype\u001b[0m\u001b[0;34m)\u001b[0m\u001b[0;34m\u001b[0m\u001b[0;34m\u001b[0m\u001b[0m\n\u001b[0m\u001b[1;32m   3849\u001b[0m \u001b[0;34m\u001b[0m\u001b[0m\n\u001b[1;32m   3850\u001b[0m         \u001b[0;32mif\u001b[0m \u001b[0mlen\u001b[0m\u001b[0;34m(\u001b[0m\u001b[0mmapped\u001b[0m\u001b[0;34m)\u001b[0m \u001b[0;32mand\u001b[0m \u001b[0misinstance\u001b[0m\u001b[0;34m(\u001b[0m\u001b[0mmapped\u001b[0m\u001b[0;34m[\u001b[0m\u001b[0;36m0\u001b[0m\u001b[0;34m]\u001b[0m\u001b[0;34m,\u001b[0m \u001b[0mSeries\u001b[0m\u001b[0;34m)\u001b[0m\u001b[0;34m:\u001b[0m\u001b[0;34m\u001b[0m\u001b[0;34m\u001b[0m\u001b[0m\n",
      "\u001b[0;32mpandas/_libs/lib.pyx\u001b[0m in \u001b[0;36mpandas._libs.lib.map_infer\u001b[0;34m()\u001b[0m\n",
      "\u001b[0;32m<ipython-input-44-e770b7b5dbfc>\u001b[0m in \u001b[0;36m<lambda>\u001b[0;34m(x)\u001b[0m\n\u001b[1;32m      1\u001b[0m \u001b[0mdf_goo\u001b[0m\u001b[0;34m[\u001b[0m\u001b[0;34m'inregion'\u001b[0m\u001b[0;34m]\u001b[0m \u001b[0;34m=\u001b[0m \u001b[0mdf_goo\u001b[0m\u001b[0;34m.\u001b[0m\u001b[0mcountry_region_code\u001b[0m\u001b[0;34m.\u001b[0m\u001b[0misin\u001b[0m\u001b[0;34m(\u001b[0m\u001b[0miso_codes\u001b[0m\u001b[0;34m.\u001b[0m\u001b[0mcountry_iso_code\u001b[0m\u001b[0;34m.\u001b[0m\u001b[0mto_list\u001b[0m\u001b[0;34m(\u001b[0m\u001b[0;34m)\u001b[0m\u001b[0;34m)\u001b[0m\u001b[0;34m\u001b[0m\u001b[0;34m\u001b[0m\u001b[0m\n\u001b[0;32m----> 2\u001b[0;31m \u001b[0mdf_goo\u001b[0m\u001b[0;34m[\u001b[0m\u001b[0;34m'date'\u001b[0m\u001b[0;34m]\u001b[0m \u001b[0;34m=\u001b[0m \u001b[0mdf_goo\u001b[0m\u001b[0;34m.\u001b[0m\u001b[0mdate\u001b[0m\u001b[0;34m.\u001b[0m\u001b[0mapply\u001b[0m\u001b[0;34m(\u001b[0m\u001b[0;32mlambda\u001b[0m \u001b[0mx\u001b[0m \u001b[0;34m:\u001b[0m \u001b[0mdatetime\u001b[0m\u001b[0;34m.\u001b[0m\u001b[0mdatetime\u001b[0m\u001b[0;34m.\u001b[0m\u001b[0mstrptime\u001b[0m\u001b[0;34m(\u001b[0m\u001b[0mx\u001b[0m\u001b[0;34m,\u001b[0m \u001b[0;34m'%Y-%m-%d'\u001b[0m\u001b[0;34m)\u001b[0m\u001b[0;34m)\u001b[0m\u001b[0;34m\u001b[0m\u001b[0;34m\u001b[0m\u001b[0m\n\u001b[0m\u001b[1;32m      3\u001b[0m \u001b[0mdf_goo\u001b[0m \u001b[0;34m=\u001b[0m \u001b[0mdf_goo\u001b[0m\u001b[0;31m \u001b[0m\u001b[0;31m\\\u001b[0m\u001b[0;34m\u001b[0m\u001b[0;34m\u001b[0m\u001b[0m\n\u001b[1;32m      4\u001b[0m     \u001b[0;34m.\u001b[0m\u001b[0msiu_filter\u001b[0m\u001b[0;34m(\u001b[0m\u001b[0m_\u001b[0m\u001b[0;34m.\u001b[0m\u001b[0minregion\u001b[0m\u001b[0;34m)\u001b[0m\u001b[0;31m \u001b[0m\u001b[0;31m\\\u001b[0m\u001b[0;34m\u001b[0m\u001b[0;34m\u001b[0m\u001b[0m\n\u001b[1;32m      5\u001b[0m     \u001b[0;34m.\u001b[0m\u001b[0msiu_filter\u001b[0m\u001b[0;34m(\u001b[0m \u001b[0m_\u001b[0m\u001b[0;34m.\u001b[0m\u001b[0msub_region_1\u001b[0m\u001b[0;34m.\u001b[0m\u001b[0misnull\u001b[0m\u001b[0;34m(\u001b[0m\u001b[0;34m)\u001b[0m\u001b[0;34m,\u001b[0m \u001b[0m_\u001b[0m\u001b[0;34m.\u001b[0m\u001b[0mmetro_area\u001b[0m\u001b[0;34m.\u001b[0m\u001b[0misnull\u001b[0m\u001b[0;34m(\u001b[0m\u001b[0;34m)\u001b[0m\u001b[0;34m)\u001b[0m\u001b[0;34m\u001b[0m\u001b[0;34m\u001b[0m\u001b[0m\n",
      "\u001b[0;31mTypeError\u001b[0m: strptime() argument 1 must be str, not float"
     ]
    }
   ],
   "source": [
    "df_goo['inregion'] = df_goo.country_region_code.isin(iso_codes.country_iso_code.to_list())\n",
    "df_goo['date'] = df_goo.date.apply(lambda x : datetime.datetime.strptime(x, '%Y-%m-%d'))\n",
    "df_goo = df_goo \\\n",
    "    .siu_filter(_.inregion) \\\n",
    "    .siu_filter( _.sub_region_1.isnull(), _.metro_area.isnull())   \n",
    "print(df_goo.shape)\n"
   ]
  },
  {
   "cell_type": "code",
   "execution_count": null,
   "metadata": {},
   "outputs": [],
   "source": [
    "tab = (df_goo \n",
    " >> group_by('country_region_code', 'country_region')\n",
    " >> summarize(min_date = _.date.min(),\n",
    "             max_date = _.date.max(),\n",
    "             n_obs = _.date.count())\n",
    " >> ungroup()\n",
    ")\n",
    "#tab"
   ]
  },
  {
   "cell_type": "code",
   "execution_count": null,
   "metadata": {},
   "outputs": [],
   "source": [
    "#df_goo[(df_goo.date == '2020-03-09') & (df_goo.country_region_code == 'AR')]"
   ]
  },
  {
   "cell_type": "code",
   "execution_count": null,
   "metadata": {},
   "outputs": [],
   "source": [
    "print(len(df_goo.country_region_code.unique()))\n",
    "df_goo.country_region_code.unique()"
   ]
  },
  {
   "cell_type": "code",
   "execution_count": null,
   "metadata": {},
   "outputs": [],
   "source": [
    "#df_goo.dtypes\n",
    "#df_goo.columns"
   ]
  },
  {
   "cell_type": "markdown",
   "metadata": {},
   "source": [
    "Turn baseline from 2020-03-02 to 2020-03-08 per day of week"
   ]
  },
  {
   "cell_type": "code",
   "execution_count": null,
   "metadata": {},
   "outputs": [],
   "source": [
    "df_goo = df_goo \\\n",
    "              .siu_select('country_region_code', 'date', \n",
    "                          'transit_stations_percent_change_from_baseline',\n",
    "                          'workplaces_percent_change_from_baseline') \\\n",
    "            .siu_mutate(transit_stations_percent_change_from_baseline = (_.transit_stations_percent_change_from_baseline + 100 ),\n",
    "                       workplaces_percent_change_from_baseline = (_.workplaces_percent_change_from_baseline + 100 ))      \n",
    "df_goo['dow'] = df_goo.date.apply(lambda x : datetime.datetime.strftime(x, '%w'))  "
   ]
  },
  {
   "cell_type": "code",
   "execution_count": null,
   "metadata": {},
   "outputs": [],
   "source": [
    "#df_goo[(df_goo.dow == '0') & (df_goo.country_region_code == 'AR') & (df_goo.date >= '2020-03-02')][0:50]"
   ]
  },
  {
   "cell_type": "code",
   "execution_count": null,
   "metadata": {},
   "outputs": [],
   "source": [
    "df_goo_base = df_goo[(df_goo.date >= '2020-03-02') & (df_goo.date <= '2020-03-08')] \\\n",
    "    .drop('date', 1) \\\n",
    "    .rename(columns = {'transit_stations_percent_change_from_baseline':'transit_baseline',\n",
    "                      'workplaces_percent_change_from_baseline':'workplace_baseline'})\n",
    "df_goo_base.head(2)\n",
    "df_goo_base[(df_goo_base.country_region_code == 'AR') ]"
   ]
  },
  {
   "cell_type": "code",
   "execution_count": null,
   "metadata": {},
   "outputs": [],
   "source": [
    "# Rebase percentage change to dow from 2020-03-02 to 2020-03-08\n",
    "df_goo_rebase = df_goo.merge(df_goo_base)\n",
    "df_goo_rebase['transit_stations_percent_change_from_baseline_rb'] = 100*(df_goo_rebase['transit_stations_percent_change_from_baseline']-df_goo_rebase['transit_baseline'])/df_goo_rebase['transit_baseline']\n",
    "df_goo_rebase['workplaces_percent_change_from_baseline_rb'] = 100*(df_goo_rebase['workplaces_percent_change_from_baseline']- df_goo_rebase['workplace_baseline'])/df_goo_rebase['workplace_baseline']\n",
    "df_goo_rebase.head()\n",
    "df_goo = df_goo_rebase.drop(['workplace_baseline', 'transit_baseline'], 1)\n"
   ]
  },
  {
   "cell_type": "code",
   "execution_count": null,
   "metadata": {},
   "outputs": [],
   "source": [
    "print(df_goo_rebase.shape)\n",
    "#df_goo_rebase[(df_goo_rebase.date >= '2020-03-09')  & (df_goo_rebase.date <= '2020-03-15') & (df_goo_rebase.country_region_code == 'AR')]"
   ]
  },
  {
   "cell_type": "code",
   "execution_count": null,
   "metadata": {},
   "outputs": [],
   "source": [
    "gg1 = (p9.ggplot(df_goo_base, \n",
    "           p9.aes(x='dow', y ='workplace_baseline')) \n",
    " + p9.geom_point()\n",
    " + p9.facet_wrap('country_region_code', scales='free_y') \n",
    " + p9.labs(title='Workplace per country for base period')\n",
    " + p9.theme(figure_size = (11, 11),\n",
    "            axis_text_x=p9.element_text(rotation=90, hjust=1), \n",
    "            legend_position='top')\n",
    ") \n",
    "gg2 = (p9.ggplot(df_goo, \n",
    "           p9.aes(x='date', y ='workplaces_percent_change_from_baseline_rb', color = 'dow')) \n",
    " + p9.geom_point()\n",
    " + p9.facet_wrap('country_region_code', scales='free_y') \n",
    " + p9.labs(title='Workplace per country')\n",
    " + p9.theme(figure_size = (11, 11),\n",
    "            axis_text_x=p9.element_text(rotation=90, hjust=1), \n",
    "            legend_position='top')\n",
    ") \n",
    "#print(gg2)"
   ]
  },
  {
   "cell_type": "code",
   "execution_count": null,
   "metadata": {},
   "outputs": [],
   "source": [
    "df_goo[(df_goo.date >= '2020-03-09') & (df_goo.date <= '2020-03-15') & (df_goo.country_region_code == 'AR')]"
   ]
  },
  {
   "cell_type": "code",
   "execution_count": null,
   "metadata": {},
   "outputs": [],
   "source": []
  },
  {
   "cell_type": "markdown",
   "metadata": {},
   "source": [
    "### Comparison"
   ]
  },
  {
   "cell_type": "code",
   "execution_count": null,
   "metadata": {},
   "outputs": [],
   "source": [
    "df = (df_dash \\\n",
    "     .siu_select('region_slug', 'country_name', 'country_iso_code', 'date', 'tcp') \n",
    " >> left_join(_, \n",
    "          df_waze \\\n",
    "              .siu_select('country', 'date', 'pc_driven_miles') \\\n",
    "              .siu_rename(country_name='country'), \n",
    "              on=['country_name', 'date']) \n",
    " >> left_join(_, \n",
    "          df_goo \\\n",
    "              .siu_select('country_region_code', 'date', \n",
    "                          'transit_stations_percent_change_from_baseline_rb',\n",
    "                          'workplaces_percent_change_from_baseline_rb') \\\n",
    "              .siu_rename(country_iso_code='country_region_code',\n",
    "                          workplace='workplaces_percent_change_from_baseline_rb',\n",
    "                          transit='transit_stations_percent_change_from_baseline_rb'), \n",
    "              on=['country_iso_code', 'date'])\n",
    "# >> left_join(_, \n",
    "#         df_max \\\n",
    "#              .siu_select('date', 'region_slug', 'tcp_clean'),\n",
    "#              on=['region_slug', 'date'])\n",
    " >> gather('measure', 'value', _[\"tcp\", \"pc_driven_miles\", 'workplace', \"transit\", 'tcp']) \n",
    ")\n",
    "df.dtypes\n",
    "df.head(2)"
   ]
  },
  {
   "cell_type": "code",
   "execution_count": null,
   "metadata": {
    "scrolled": true
   },
   "outputs": [],
   "source": [
    "(p9.ggplot(df.siu_filter(_.measure != 'tcp',\n",
    "                        #_.measure != 'transit',\n",
    "                         #_.date >= '2020-03-09',\n",
    "                         #_.date <= '2020-03-16'\n",
    "                        ), \n",
    "           p9.aes(x='date', y ='value', color = 'measure')) \n",
    " + p9.geom_line(alpha = .7)\n",
    " + p9.facet_wrap('country_name', scales='free_y') \n",
    " + p9.labs(title='Percent change per country')\n",
    " + p9.theme(figure_size = (11, 11),\n",
    "            axis_text_x=p9.element_text(rotation=90, hjust=1), \n",
    "            legend_position='top')\n",
    ") "
   ]
  },
  {
   "cell_type": "code",
   "execution_count": null,
   "metadata": {},
   "outputs": [],
   "source": [
    "#df.siu_filter(_.country_name=='Mexico', _.measure == 'tcp').head()"
   ]
  },
  {
   "cell_type": "code",
   "execution_count": null,
   "metadata": {},
   "outputs": [],
   "source": [
    "df_country = df"
   ]
  },
  {
   "cell_type": "code",
   "execution_count": null,
   "metadata": {},
   "outputs": [],
   "source": []
  },
  {
   "cell_type": "markdown",
   "metadata": {},
   "source": [
    "## City level"
   ]
  },
  {
   "cell_type": "markdown",
   "metadata": {},
   "source": [
    "### Load data (city level)"
   ]
  },
  {
   "cell_type": "code",
   "execution_count": null,
   "metadata": {},
   "outputs": [],
   "source": [
    "cities_names = (pd.read_csv('../docs/city_names_dictionary.csv') \n",
    "    >> filter(_.country_iso_code__dash.isnull() == False)\n",
    ")\n",
    "cities_names.head(2)"
   ]
  },
  {
   "cell_type": "markdown",
   "metadata": {},
   "source": [
    "#### Waze dashboard"
   ]
  },
  {
   "cell_type": "code",
   "execution_count": null,
   "metadata": {},
   "outputs": [],
   "source": [
    "df_dash = pd.read_sql_query(\"\"\"\n",
    "select \n",
    "    *,\n",
    "    (date_parse(concat(cast(year as varchar), ' ', cast(month as varchar), ' ', cast(day as varchar)), '%Y %m %e')) as date\n",
    "from spd_sdv_waze_corona.prod_daily_daily_index\n",
    "where region_type = 'city';\n",
    "\"\"\", conn)"
   ]
  },
  {
   "cell_type": "code",
   "execution_count": null,
   "metadata": {},
   "outputs": [],
   "source": [
    "df_dash.shape"
   ]
  },
  {
   "cell_type": "code",
   "execution_count": null,
   "metadata": {},
   "outputs": [],
   "source": [
    "tab = (df_dash \n",
    " >> group_by('country_iso_code', 'country_name', 'region_slug', 'region_name')\n",
    " >> summarize(min_date = _.date.min(),\n",
    "             max_date = _.date.max(),\n",
    "             n_obs = _.date.count())\n",
    " >> ungroup()\n",
    ")\n",
    "tab.to_csv('~/private/projects/dash_mob_city_list.csv')\n",
    "tab"
   ]
  },
  {
   "cell_type": "code",
   "execution_count": null,
   "metadata": {},
   "outputs": [],
   "source": [
    "print(len(df_dash.region_name.unique())) # Bolivia is missing\n",
    "df_dash.sort_values('region_name').region_name.unique()\n",
    "df_dash.sort_values('region_slug').region_slug.unique()"
   ]
  },
  {
   "cell_type": "code",
   "execution_count": null,
   "metadata": {},
   "outputs": [],
   "source": []
  },
  {
   "cell_type": "markdown",
   "metadata": {},
   "source": [
    "#### Waze driven km"
   ]
  },
  {
   "cell_type": "code",
   "execution_count": null,
   "metadata": {},
   "outputs": [],
   "source": [
    "df_waze = pd.read_csv(\"/home/soniame/shared/spd-sdv-omitnik-waze/corona/mobility/Waze _ COVID-19 Impact Dashboard_City-Level Data_Table.csv\")\n",
    "df_waze.sort_values('Country').Country.unique()"
   ]
  },
  {
   "cell_type": "code",
   "execution_count": null,
   "metadata": {},
   "outputs": [],
   "source": [
    "df_waze = pd.read_csv(\"/home/soniame/shared/spd-sdv-omitnik-waze/corona/mobility/Waze _ COVID-19 Impact Dashboard_City-Level Data_Table.csv\")\n",
    "df_waze.columns = ['date', 'city', 'country', 'pc_driven_miles']\n",
    "df_waze['date'] = df_waze.date.apply(lambda x : datetime.datetime.strptime(x, '%b %d, %Y'))\n",
    "df_waze['exists'] = df_waze.country.isin([ 'Argentina','Brazil', 'Chile', 'Colombia', 'Costa Rica',  \n",
    "                                          'Ecuador', 'Guatemala',  'Mexico',  'Peru', 'Uruguay']) \n",
    "df_waze = df_waze.siu_filter(_.exists).siu_mutate(pc_driven_miles=100*(_.pc_driven_miles+1))      "
   ]
  },
  {
   "cell_type": "code",
   "execution_count": null,
   "metadata": {},
   "outputs": [],
   "source": [
    "tab = (df_waze \n",
    " >> group_by('country', 'city')\n",
    " >> summarize(min_date = _.date.min(),\n",
    "             max_date = _.date.max(),\n",
    "             n_obs = _.date.count())\n",
    " >> ungroup()\n",
    ")\n",
    "tab.to_csv('~/private/projects/waze_mob_city_list.csv')\n",
    "tab.head()"
   ]
  },
  {
   "cell_type": "code",
   "execution_count": null,
   "metadata": {},
   "outputs": [],
   "source": [
    "print(len(df_waze.city.unique())) # Bolivia is missing\n",
    "df_waze.sort_values('city').city.unique()"
   ]
  },
  {
   "cell_type": "code",
   "execution_count": null,
   "metadata": {},
   "outputs": [],
   "source": [
    "df_waze.head(3)"
   ]
  },
  {
   "cell_type": "markdown",
   "metadata": {},
   "source": [
    "Turn baseline from 2020-03-02 to 2020-03-08 per day of week"
   ]
  },
  {
   "cell_type": "code",
   "execution_count": null,
   "metadata": {},
   "outputs": [],
   "source": [
    "df_waze = df_waze \\\n",
    "              .siu_select('city', 'country', 'date', \n",
    "                          'pc_driven_miles')\n",
    "df_waze['dow'] = df_waze.date.apply(lambda x : datetime.datetime.strftime(x, '%w'))  \n",
    "df_waze.head(2)"
   ]
  },
  {
   "cell_type": "code",
   "execution_count": null,
   "metadata": {},
   "outputs": [],
   "source": [
    "df_waze_base = df_waze[(df_waze.date >= '2020-03-02') & (df_waze.date <= '2020-03-08')] \\\n",
    "    .drop('date', 1) \\\n",
    "    .rename(columns = {'pc_driven_miles':'pc_driven_miles_baseline'})\n",
    "df_waze_base.head(2)"
   ]
  },
  {
   "cell_type": "code",
   "execution_count": null,
   "metadata": {},
   "outputs": [],
   "source": [
    "df_waze_rebase = df_waze.merge(df_waze_base)\n",
    "df_waze_rebase['pc_driven_miles'] = 100*(df_waze_rebase['pc_driven_miles']- df_waze_rebase['pc_driven_miles_baseline'])/df_waze_rebase['pc_driven_miles_baseline']\n",
    "print(df_waze.shape)\n",
    "print(df_waze_rebase.shape)\n",
    "df_waze_rebase.head()\n",
    "df_waze = df_waze_rebase.drop(['pc_driven_miles_baseline'], 1)"
   ]
  },
  {
   "cell_type": "code",
   "execution_count": null,
   "metadata": {},
   "outputs": [],
   "source": [
    "df_waze.head(2)"
   ]
  },
  {
   "cell_type": "code",
   "execution_count": null,
   "metadata": {},
   "outputs": [],
   "source": []
  },
  {
   "cell_type": "markdown",
   "metadata": {},
   "source": [
    "#### Google mobility"
   ]
  },
  {
   "cell_type": "code",
   "execution_count": null,
   "metadata": {},
   "outputs": [],
   "source": [
    "df_goo = pd.read_csv(\"~/shared/spd-sdv-omitnik-waze/corona/mobility/Global_Mobility_Report.csv\")  \n"
   ]
  },
  {
   "cell_type": "code",
   "execution_count": null,
   "metadata": {},
   "outputs": [],
   "source": [
    "df_goo['inregion']=df_goo.country_region_code.isin(iso_codes.country_iso_code.to_list())\n",
    "df_goo['date'] = df_goo.date.apply(lambda x : datetime.datetime.strptime(x, '%Y-%m-%d'))\n",
    "df_goo = df_goo \\\n",
    "    .siu_filter(_.inregion) \\\n",
    "    .siu_filter( _.sub_region_1.isnull()==False)#, _.metro_area.isnull())\n",
    "df_goo.sub_region_2=df_goo.sub_region_2.fillna('None')\n",
    "df_goo.metro_area=df_goo.metro_area.fillna('None')\n",
    "print(df_goo.shape)"
   ]
  },
  {
   "cell_type": "code",
   "execution_count": null,
   "metadata": {},
   "outputs": [],
   "source": [
    "tab = (df_goo \n",
    " >> group_by('country_region_code', 'country_region', 'sub_region_1', 'sub_region_2', 'metro_area')\n",
    " >> summarize(min_date = _.date.min(),\n",
    "             max_date = _.date.max(),\n",
    "             n_obs = _.date.count())\n",
    " >> ungroup()\n",
    ")\n",
    "tab.to_csv('~/private/projects/google_mob_city_list.csv')\n",
    "tab.head(2)"
   ]
  },
  {
   "cell_type": "code",
   "execution_count": null,
   "metadata": {},
   "outputs": [],
   "source": [
    "df_goo.head(2)"
   ]
  },
  {
   "cell_type": "code",
   "execution_count": null,
   "metadata": {},
   "outputs": [],
   "source": [
    "tab.shape"
   ]
  },
  {
   "cell_type": "code",
   "execution_count": null,
   "metadata": {},
   "outputs": [],
   "source": [
    "df_goo = df_goo \\\n",
    "              .siu_select('country_region_code', 'country_region',\n",
    "                          'sub_region_1', 'sub_region_2', \n",
    "                          'date', \n",
    "                          'transit_stations_percent_change_from_baseline',\n",
    "                          'workplaces_percent_change_from_baseline') \\\n",
    "            .siu_mutate(transit_stations_percent_change_from_baseline = (_.transit_stations_percent_change_from_baseline + 100 ),\n",
    "                       workplaces_percent_change_from_baseline = (_.workplaces_percent_change_from_baseline + 100 ))      \n",
    "df_goo['dow'] = df_goo.date.apply(lambda x : datetime.datetime.strftime(x, '%w'))  "
   ]
  },
  {
   "cell_type": "code",
   "execution_count": null,
   "metadata": {},
   "outputs": [],
   "source": [
    "df_goo_base = df_goo[(df_goo.date >= '2020-03-09') & (df_goo.date <= '2020-03-15')] \\\n",
    "    .drop('date', 1) \\\n",
    "    .rename(columns = {'transit_stations_percent_change_from_baseline':'transit_baseline',\n",
    "                      'workplaces_percent_change_from_baseline':'workplace_baseline'})\n",
    "df_goo_base.head(2)\n",
    "#df_goo_base[(df_goo_base.country_region_code == 'AR') ]"
   ]
  },
  {
   "cell_type": "code",
   "execution_count": null,
   "metadata": {},
   "outputs": [],
   "source": [
    "df_goo_rebase = df_goo.merge(df_goo_base)\n",
    "df_goo_rebase['transit_stations_percent_change_from_baseline_rb'] = 100*(df_goo_rebase['transit_stations_percent_change_from_baseline']-df_goo_rebase['transit_baseline'])/df_goo_rebase['transit_baseline']\n",
    "df_goo_rebase['workplaces_percent_change_from_baseline_rb'] = 100*(df_goo_rebase['workplaces_percent_change_from_baseline']- df_goo_rebase['workplace_baseline'])/df_goo_rebase['workplace_baseline']\n",
    "print(df_goo.shape)\n",
    "print(df_goo_rebase.shape)\n",
    "df_goo_rebase.head()\n",
    "df_goo = df_goo_rebase.drop(['workplace_baseline', 'transit_baseline'], 1)\n"
   ]
  },
  {
   "cell_type": "code",
   "execution_count": null,
   "metadata": {},
   "outputs": [],
   "source": []
  },
  {
   "cell_type": "markdown",
   "metadata": {},
   "source": [
    "### Comparison"
   ]
  },
  {
   "cell_type": "markdown",
   "metadata": {},
   "source": [
    "Comparing all sources per region slug."
   ]
  },
  {
   "cell_type": "code",
   "execution_count": null,
   "metadata": {},
   "outputs": [],
   "source": [
    "df_goo.head(1)"
   ]
  },
  {
   "cell_type": "code",
   "execution_count": null,
   "metadata": {},
   "outputs": [],
   "source": [
    "cities_names.head()"
   ]
  },
  {
   "cell_type": "code",
   "execution_count": null,
   "metadata": {},
   "outputs": [],
   "source": [
    "df=df_dash \\\n",
    ".siu_select('country_iso_code', 'country_name', 'region_slug', 'region_name', 'date', 'tcp') \\\n",
    ".add_suffix('__dash') \\\n",
    ".merge(cities_names, how='inner') \\\n",
    ".merge(df_waze.add_suffix('__waze'), \n",
    "       how='left', \n",
    "       left_on=['country__waze','city__waze', 'date__dash'],\n",
    "       right_on = ['country__waze','city__waze', 'date__waze']) \\\n",
    ".merge(df_goo.add_suffix('__goo'), \n",
    "       how='left', \n",
    "       left_on=['country_region_code__goo','country_region__goo', \n",
    "                'sub_region_1__goo', 'sub_region_2__goo', 'date__dash'],\n",
    "       right_on =['country_region_code__goo','country_region__goo', \n",
    "               'sub_region_1__goo', 'sub_region_2__goo', 'date__goo']) \\\n",
    ".siu_rename(transit__goo='transit_stations_percent_change_from_baseline_rb__goo',\n",
    "           workplace__goo='workplaces_percent_change_from_baseline_rb__goo') \\\n",
    ".siu_select('country_iso_code__dash', 'country_name__dash', 'region_slug__dash', \n",
    "        'date__dash', 'tcp__dash', 'pc_driven_miles__waze',\n",
    "           'transit__goo', 'workplace__goo') \\\n",
    ".siu_gather('measure', 'value', _[\"tcp__dash\":\"workplace__goo\"]) \n",
    "\n"
   ]
  },
  {
   "cell_type": "code",
   "execution_count": null,
   "metadata": {},
   "outputs": [],
   "source": [
    "print(df.shape)"
   ]
  },
  {
   "cell_type": "code",
   "execution_count": null,
   "metadata": {},
   "outputs": [],
   "source": [
    "print(df_dash.shape)\n",
    "print(df_waze.shape)\n",
    "print(df_goo.shape)\n",
    "print(df.shape)\n",
    "df.country_iso_code__dash.unique()"
   ]
  },
  {
   "cell_type": "code",
   "execution_count": null,
   "metadata": {},
   "outputs": [],
   "source": [
    "(p9.ggplot(df.siu_filter(_.country_iso_code__dash == 'MX', _.value <100), \n",
    "           p9.aes(x='date__dash', y ='value', color = 'measure')) \n",
    " + p9.geom_line()\n",
    " + p9.facet_wrap(['country_iso_code__dash', 'region_slug__dash'], scales='free_y', ncol= 3) \n",
    " + p9.theme(figure_size = (10, 10),\n",
    "            axis_text_x=p9.element_text(rotation=90, hjust=1), \n",
    "            legend_position='top')\n",
    " + p9.labs(title='Observed measure per city')\n",
    ") "
   ]
  },
  {
   "cell_type": "code",
   "execution_count": null,
   "metadata": {},
   "outputs": [],
   "source": [
    "df_region=df"
   ]
  },
  {
   "cell_type": "code",
   "execution_count": null,
   "metadata": {},
   "outputs": [],
   "source": []
  },
  {
   "cell_type": "markdown",
   "metadata": {},
   "source": [
    "#### Rescaled percentage change to common week 2020-03-23\n",
    "\n",
    "Modified baseline: avergae percentage for the week period from March 23th, 2020 to March 29th, 2020. "
   ]
  },
  {
   "cell_type": "code",
   "execution_count": null,
   "metadata": {},
   "outputs": [],
   "source": [
    "df_mean = (df\n",
    " >> filter(_.date__dash >= '2020-03-02', _.date__dash <= '2020-03-08')\n",
    " >> group_by('region_slug__dash', 'measure')\n",
    " >> summarize(mean_val = _.value.mean())\n",
    " >> ungroup()\n",
    ")\n",
    "df_re = (df.merge(df_mean.reset_index(), on=['region_slug__dash', 'measure'], how='left')\n",
    " >> mutate(value_rescaled = -100*_.value/_.mean_val)\n",
    ")\n",
    "df_re.country_iso_code__dash.unique()"
   ]
  },
  {
   "cell_type": "code",
   "execution_count": null,
   "metadata": {},
   "outputs": [],
   "source": [
    "(p9.ggplot(df_re.siu_filter(_.country_iso_code__dash == 'MX', \n",
    "                            #_.region_slug__dash =='mexicocity',\n",
    "                            #_.value_rescaled < 300,\n",
    "                            #_.measure!='workplace__goo', _.measure!='transit__goo',\n",
    "                            # _.date__dash >= '2020-11-01', _.date__dash < '2020-12-01'\n",
    "                           ), \n",
    "           p9.aes(x='date__dash', y ='value_rescaled', color = 'measure')) \n",
    " + p9.geom_line()\n",
    " + p9.facet_wrap(['country_iso_code__dash', 'region_slug__dash'], scales='free_y', ncol= 3) \n",
    " + p9.labs(title='Rescaled baseline')\n",
    " + p9.theme(figure_size = (10, 10),\n",
    "            axis_text_x=p9.element_text(rotation=90, hjust=1), \n",
    "            legend_position='top')\n",
    ") "
   ]
  },
  {
   "cell_type": "markdown",
   "metadata": {},
   "source": [
    "#### Moving average smoothing\n",
    "\n",
    "Rolling average with previous seven days."
   ]
  },
  {
   "cell_type": "code",
   "execution_count": null,
   "metadata": {},
   "outputs": [],
   "source": [
    "df_sao = df_re.siu_filter(_.country_iso_code__dash == 'MX', \n",
    "                            #_.region_slug__dash =='riodejaneiro',\n",
    "                            #_.value_rescaled < 300,\n",
    "                            #_.measure!='workplace__goo', _.measure!='transit__goo',\n",
    "                            # _.date__dash >= '2020-11-01', _.date__dash < '2020-12-01'\n",
    "                           )\n",
    "#df_sao.head()"
   ]
  },
  {
   "cell_type": "code",
   "execution_count": null,
   "metadata": {},
   "outputs": [],
   "source": [
    "df_ma = (df_sao\n",
    " >> arrange('region_slug__dash', 'measure', 'date__dash')\n",
    " >> group_by('region_slug__dash', 'measure')\n",
    " >> mutate(value_rescaled_ma = _.value_rescaled.rolling(7).mean())\n",
    " >> ungroup()\n",
    ")\n",
    "df_ma.head()"
   ]
  },
  {
   "cell_type": "code",
   "execution_count": null,
   "metadata": {},
   "outputs": [],
   "source": [
    "(p9.ggplot(df_ma, \n",
    "           p9.aes(x='date__dash', y ='value_rescaled_ma', color = 'measure')) \n",
    " + p9.geom_line()\n",
    " + p9.facet_wrap(['country_iso_code__dash', 'region_slug__dash'], scales='free_y', ncol= 3)\n",
    " + p9.labs(title='Ppercent change smooth')\n",
    " + p9.theme(figure_size = (10, 10),\n",
    "            axis_text_x=p9.element_text(rotation=90, hjust=1), \n",
    "            legend_position='top')\n",
    ") "
   ]
  },
  {
   "cell_type": "code",
   "execution_count": null,
   "metadata": {},
   "outputs": [],
   "source": [
    "#df.siu_filter(_.region_slug__dash=='arequipa', _.date__dash >= '2020-03-23', _.date__dash <= '2020-03-29').value\n",
    "#df_mean.siu_filter(_.region_slug__dash=='arequipa')\n",
    "#df_waze.siu_filter(_.city=='Arequipa', _.date >= '2020-03-23', _.date <= '2020-03-29')"
   ]
  },
  {
   "cell_type": "code",
   "execution_count": null,
   "metadata": {},
   "outputs": [],
   "source": []
  },
  {
   "cell_type": "markdown",
   "metadata": {},
   "source": [
    "## Country + City"
   ]
  },
  {
   "cell_type": "markdown",
   "metadata": {},
   "source": [
    "#### create DF union"
   ]
  },
  {
   "cell_type": "code",
   "execution_count": null,
   "metadata": {},
   "outputs": [],
   "source": [
    "df_union = pd.concat([df_country, \n",
    "                     df_region.rename(columns={'country_iso_code__dash':'country_iso_code',\n",
    "                          'country_name__dash':'country_name',\n",
    "                          'region_slug__dash':'region_slug',\n",
    "                          'date__dash':'date'})])\n",
    "print(df.shape)\n",
    "df_union.head()"
   ]
  },
  {
   "cell_type": "code",
   "execution_count": null,
   "metadata": {},
   "outputs": [],
   "source": [
    "df_union.measure[df_union.measure == 'pc_driven_miles'] = 'pc_driven_miles__waze'\n",
    "df_union.measure[df_union.measure == 'tcp'] = 'tcp__dash'\n",
    "df_union.measure[df_union.measure == 'transit'] = 'transit__goo'\n",
    "df_union.measure[df_union.measure == 'workplace'] = 'workplace__goo'"
   ]
  },
  {
   "cell_type": "code",
   "execution_count": null,
   "metadata": {},
   "outputs": [],
   "source": [
    "df_union.measure.unique()"
   ]
  },
  {
   "cell_type": "code",
   "execution_count": null,
   "metadata": {},
   "outputs": [],
   "source": [
    "df_union.siu_spread(\"measure\", \"value\").to_csv(\"/home/soniame/shared/spd-sdv-omitnik-waze/corona/mobility/region_city_union.csv\")\n"
   ]
  },
  {
   "cell_type": "code",
   "execution_count": null,
   "metadata": {},
   "outputs": [],
   "source": [
    "len(df_union.region_slug.unique())"
   ]
  },
  {
   "cell_type": "markdown",
   "metadata": {},
   "source": [
    "#### Read data frame union"
   ]
  },
  {
   "cell_type": "code",
   "execution_count": null,
   "metadata": {},
   "outputs": [],
   "source": [
    "#df_union.siu_spread(\"measure\", \"value\").to_csv(\"/home/soniame/shared/spd-sdv-omitnik-waze/corona/mobility/region_city_union.csv\")\n",
    "df_union = pd.read_csv(\"/home/soniame/shared/spd-sdv-omitnik-waze/corona/mobility/region_city_union.csv\").drop('Unnamed: 0', axis=1)\n",
    "df_union.head()"
   ]
  },
  {
   "cell_type": "code",
   "execution_count": null,
   "metadata": {},
   "outputs": [],
   "source": [
    "df_union.describe()"
   ]
  },
  {
   "cell_type": "markdown",
   "metadata": {},
   "source": [
    "reading daily data"
   ]
  },
  {
   "cell_type": "code",
   "execution_count": null,
   "metadata": {},
   "outputs": [],
   "source": [
    "df_mobility = df_union#.siu_spread(\"measure\", \"value\")\n",
    "df_mobility['date'] = df_mobility.date.astype(str)\n",
    "\n",
    "#df_daily = pd.read_csv(\"/home/soniame/shared/spd-sdv-omitnik-waze/corona/cleaning/daily/daily_daily_index_max.csv\")\n",
    "#df_daily = df_max[['date', 'region_slug', 'tci_observed', 'tcp_observed', 'tci_clean', 'tcp_clean']] \\\n",
    "#    .rename(columns = {'tci_clean':'tci_cleaned', \n",
    "#                       'tcp_clean':'tcp_cleaned'}) \n",
    "\n",
    "df_daily = pd.read_csv(\"/home/soniame/private/daily_index_index.csv\")\n",
    "df_daily.head()"
   ]
  },
  {
   "cell_type": "code",
   "execution_count": null,
   "metadata": {},
   "outputs": [],
   "source": [
    "print(df_daily.columns)\n",
    "print(df_mobility.columns)"
   ]
  },
  {
   "cell_type": "code",
   "execution_count": null,
   "metadata": {},
   "outputs": [],
   "source": [
    "df_mobility_clean = df_daily.merge(df_mobility, \n",
    "                                 how = 'left')\n",
    "df_mobility_clean.head(2)"
   ]
  },
  {
   "cell_type": "code",
   "execution_count": null,
   "metadata": {},
   "outputs": [],
   "source": [
    "print(df_union.shape)\n",
    "print(df_mobility.shape)\n",
    "print(df_daily.shape)\n",
    "print(df_mobility_clean.shape)"
   ]
  },
  {
   "cell_type": "code",
   "execution_count": null,
   "metadata": {},
   "outputs": [],
   "source": [
    "print(sum(df_mobility_clean.pc_driven_miles__waze.isna())/len(df_mobility_clean.tcp__dash))\n",
    "print(sum(df_mobility_clean.transit__goo.isna())/len(df_mobility_clean.tcp__dash))\n",
    "print(sum(df_mobility_clean.workplace__goo.isna())/len(df_mobility_clean.tcp__dash))\n",
    "print(sum(df_mobility_clean.tcp__dash.isna())/len(df_mobility_clean.tcp__dash))\n",
    "df_mobility_clean.head(2)"
   ]
  },
  {
   "cell_type": "code",
   "execution_count": null,
   "metadata": {},
   "outputs": [],
   "source": [
    "df_mobility_clean.to_csv(\"/home/soniame/private/smooth/daily_index_index_movility.csv\")"
   ]
  },
  {
   "cell_type": "code",
   "execution_count": null,
   "metadata": {},
   "outputs": [],
   "source": [
    "df_mobility_clean[df_mobility_clean.workplace__goo.isna() == False].region_slug.unique()"
   ]
  },
  {
   "cell_type": "code",
   "execution_count": null,
   "metadata": {},
   "outputs": [],
   "source": [
    "print(len(df_mobility_clean[df_mobility_clean.workplace__goo.isna() == False].region_slug.unique()))\n",
    "df_mobility_clean[df_mobility_clean.workplace__goo.isna() == False].region_slug.unique()"
   ]
  },
  {
   "cell_type": "code",
   "execution_count": null,
   "metadata": {},
   "outputs": [],
   "source": [
    "print(len(df_mobility_clean[df_mobility_clean.pc_driven_miles__waze.isna() == False].region_slug.unique()))\n",
    "df_mobility_clean[df_mobility_clean.pc_driven_miles__waze.isna() == False].region_slug.unique()\n"
   ]
  },
  {
   "cell_type": "code",
   "execution_count": null,
   "metadata": {},
   "outputs": [],
   "source": [
    "df_mobility_clean.head(2)"
   ]
  },
  {
   "cell_type": "code",
   "execution_count": null,
   "metadata": {},
   "outputs": [],
   "source": [
    "(p9.ggplot(df_mobility_clean.siu_filter(_.region_slug =='country_mexico'), \n",
    "           p9.aes(x='date', y ='tcp_observed', group= 'region_slug')) \n",
    " + p9.geom_line()\n",
    " + p9.geom_line(p9.aes(y = 'tcp_cleaned'), color = 'gray')\n",
    " + p9.geom_line(p9.aes(y = 'tcp_cleaned_ls_20X'), color = 'red')\n",
    " + p9.geom_line(p9.aes(y = 'tcp_cleaned_ls_10X'), color = 'orange')\n",
    " +  p9.geom_line(p9.aes(y = 'tcp_cleaned_ls_15X'), color = 'blue')\n",
    " + p9.geom_line(p9.aes(y = 'tcp_cleaned_ls_OFF'), color = 'green')\n",
    " #+ p9.geom_line(p9.aes(y = 'workplace__goo'), color = 'red')\n",
    " #+ p9.geom_line(p9.aes(y = 'pc_driven_miles__waze'), color = 'blue')\n",
    " + p9.facet_wrap(['region_slug'], scales='free_y', ncol= 3) \n",
    " + p9.labs(title='Mobility')\n",
    " + p9.theme(figure_size = (10, 6),\n",
    "            axis_text_x=p9.element_text(rotation=90, hjust=1, size = 3), \n",
    "            legend_position='top')\n",
    ") "
   ]
  },
  {
   "cell_type": "markdown",
   "metadata": {},
   "source": [
    "#### Daily in long format"
   ]
  },
  {
   "cell_type": "code",
   "execution_count": null,
   "metadata": {},
   "outputs": [],
   "source": [
    "df_daily_long = (df_mobility_clean \n",
    " >> select('date', 'region_slug', \n",
    "           'tci_observed',  'tci_cleaned', \n",
    "           'tci_cleaned_ls_4X', 'tci_cleaned_ls_20X', \n",
    "           'tci_cleaned_ls_10X', 'tci_cleaned_ls_15X',\n",
    "           'tci_cleaned_ls_OFF', 'tci_cleaned_ls_MIX',\n",
    "           'tcp_observed', 'tcp_cleaned', \n",
    "           'tcp_cleaned_ls_4X', 'tcp_cleaned_ls_20X', \n",
    "           'tcp_cleaned_ls_OFF', 'tcp_cleaned_ls_MIX', \n",
    "           'tci_cleaned_ls_10X', 'tci_cleaned_ls_15X',\n",
    "           'pc_driven_miles__waze',\n",
    "           'workplace__goo')\n",
    " >> gather('measure', 'value', _[\"tci_observed\":\"workplace__goo\"])\n",
    ")\n",
    "\n",
    "df_daily_long['type'] = 'TCP'\n",
    "tci_exist = df_daily_long['measure'].isin(['tci_observed',  'tci_cleaned', \n",
    "           'tci_cleaned_ls_4X', 'tci_cleaned_ls_20X', \n",
    "           'tci_cleaned_ls_10X', 'tci_cleaned_ls_15X',\n",
    "           'tci_cleaned_ls_OFF', 'tci_cleaned_ls_MIX'])\n",
    "df_daily_long['type'][tci_exist] = 'TCI'\n",
    "\n",
    "print(df_daily_long.type.unique())\n",
    "print(df_daily_long.measure.unique())\n",
    "head(df_daily_long)"
   ]
  },
  {
   "cell_type": "code",
   "execution_count": null,
   "metadata": {},
   "outputs": [],
   "source": [
    "df_daily_long.to_csv(\"/home/soniame/private/daily_daily_index_long.csv\")"
   ]
  },
  {
   "cell_type": "code",
   "execution_count": null,
   "metadata": {},
   "outputs": [],
   "source": []
  },
  {
   "cell_type": "code",
   "execution_count": null,
   "metadata": {},
   "outputs": [],
   "source": [
    "\n"
   ]
  },
  {
   "cell_type": "code",
   "execution_count": null,
   "metadata": {},
   "outputs": [],
   "source": []
  },
  {
   "cell_type": "code",
   "execution_count": null,
   "metadata": {},
   "outputs": [],
   "source": []
  }
 ],
 "metadata": {
  "kernelspec": {
   "display_name": "IDB-IDB-Invest-Coronavirus-Impact-Dashboard",
   "language": "python",
   "name": "idb-idb-invest-coronavirus-impact-dashboard"
  },
  "language_info": {
   "codemirror_mode": {
    "name": "ipython",
    "version": 3
   },
   "file_extension": ".py",
   "mimetype": "text/x-python",
   "name": "python",
   "nbconvert_exporter": "python",
   "pygments_lexer": "ipython3",
   "version": "3.7.10"
  },
  "toc": {
   "base_numbering": 1,
   "nav_menu": {},
   "number_sections": true,
   "sideBar": true,
   "skip_h1_title": false,
   "title_cell": "Table of Contents",
   "title_sidebar": "Contents",
   "toc_cell": false,
   "toc_position": {},
   "toc_section_display": true,
   "toc_window_display": true
  }
 },
 "nbformat": 4,
 "nbformat_minor": 2
}
