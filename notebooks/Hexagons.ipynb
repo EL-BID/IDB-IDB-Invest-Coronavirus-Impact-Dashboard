{
 "cells": [
  {
   "cell_type": "code",
   "execution_count": 1,
   "metadata": {},
   "outputs": [
    {
     "data": {
      "text/html": [
       "        <script type=\"text/javascript\">\n",
       "        window.PlotlyConfig = {MathJaxConfig: 'local'};\n",
       "        if (window.MathJax) {MathJax.Hub.Config({SVG: {font: \"STIX-Web\"}});}\n",
       "        if (typeof require !== 'undefined') {\n",
       "        require.undef(\"plotly\");\n",
       "        requirejs.config({\n",
       "            paths: {\n",
       "                'plotly': ['https://cdn.plot.ly/plotly-latest.min']\n",
       "            }\n",
       "        });\n",
       "        require(['plotly'], function(Plotly) {\n",
       "            window._Plotly = Plotly;\n",
       "        });\n",
       "        }\n",
       "        </script>\n",
       "        "
      ]
     },
     "metadata": {},
     "output_type": "display_data"
    },
    {
     "data": {
      "text/html": [
       "        <script type=\"text/javascript\">\n",
       "        window.PlotlyConfig = {MathJaxConfig: 'local'};\n",
       "        if (window.MathJax) {MathJax.Hub.Config({SVG: {font: \"STIX-Web\"}});}\n",
       "        if (typeof require !== 'undefined') {\n",
       "        require.undef(\"plotly\");\n",
       "        requirejs.config({\n",
       "            paths: {\n",
       "                'plotly': ['https://cdn.plot.ly/plotly-latest.min']\n",
       "            }\n",
       "        });\n",
       "        require(['plotly'], function(Plotly) {\n",
       "            window._Plotly = Plotly;\n",
       "        });\n",
       "        }\n",
       "        </script>\n",
       "        "
      ]
     },
     "metadata": {},
     "output_type": "display_data"
    }
   ],
   "source": [
    "# %load first_cell.py\n",
    "%reload_ext autoreload\n",
    "%autoreload 2\n",
    "from pathlib import Path\n",
    "home = str(Path.home())\n",
    "\n",
    "import sys\n",
    "sys.path = sys.path + [f'{home}/.conda/envs/norm_env/lib/python37.zip', \n",
    "                       f'{home}/.conda/envs/norm_env/lib/python3.7', \n",
    "                       f'{home}/.conda/envs/norm_env/lib/python3.7/lib-dynload', \n",
    "                       f'{home}/.conda/envs/norm_env/lib/python3.7/site-packages',\n",
    "                     '../src']\n",
    "sys.prefix = '/home/joaom/.conda/envs/norm_env'\n",
    "\n",
    "from paths import RAW_PATH, TREAT_PATH, OUTPUT_PATH, FIGURES_PATH\n",
    "\n",
    "from copy import deepcopy\n",
    "import numpy as np\n",
    "import pandas as pd\n",
    "pd.options.display.max_columns = 999\n",
    "import yaml\n",
    "import matplotlib.pyplot as plt \n",
    "import datetime\n",
    "\n",
    "import warnings\n",
    "warnings.filterwarnings('ignore')\n",
    "\n",
    "# Plotting\n",
    "import plotly\n",
    "import plotly.graph_objs as go\n",
    "import cufflinks as cf\n",
    "plotly.offline.init_notebook_mode(connected=True)\n",
    "\n",
    "def iplottitle(title, width=40):\n",
    "    return '<br>'.join(textwrap.wrap(title, width))\n",
    "\n",
    "# Setting cufflinks\n",
    "import textwrap\n",
    "import cufflinks as cf\n",
    "cf.go_offline()\n",
    "cf.set_config_file(offline=False, world_readable=True)\n",
    "import yaml\n",
    "from jinja2 import Template\n",
    "cf.themes.THEMES['custom'] = yaml.load(open('cufflinks_template.yaml', 'r'))"
   ]
  },
  {
   "cell_type": "code",
   "execution_count": 1,
   "metadata": {},
   "outputs": [],
   "source": [
    "from pathlib import Path\n",
    "home = str(Path.home())\n",
    "import sys\n",
    "sys.path =  [f'{home}/.conda/envs/norm_env/lib/python37.zip', \n",
    "                       f'{home}/.conda/envs/norm_env/lib/python3.7', \n",
    "                       f'{home}/.conda/envs/norm_env/lib/python3.7/lib-dynload', \n",
    "                       f'{home}/.conda/envs/norm_env/lib/python3.7/site-packages']"
   ]
  },
  {
   "cell_type": "code",
   "execution_count": 2,
   "metadata": {},
   "outputs": [],
   "source": [
    "import awswrangler as wr\n",
    "import pandas as pd\n",
    "import boto3"
   ]
  },
  {
   "cell_type": "code",
   "execution_count": 4,
   "metadata": {},
   "outputs": [],
   "source": [
    "from h3 import h3\n",
    "from shapely import wkt\n",
    "import geojson\n",
    "from copy import deepcopy"
   ]
  },
  {
   "cell_type": "code",
   "execution_count": 5,
   "metadata": {},
   "outputs": [],
   "source": [
    "metadata = pd.read_csv('http://tiny.cc/idb-traffic-metadata')"
   ]
  },
  {
   "cell_type": "code",
   "execution_count": 6,
   "metadata": {},
   "outputs": [],
   "source": [
    "def wkt_to_geojson(s):\n",
    "    return geojson.Feature(geometry=wkt.loads(s), properties={}).geometry\n",
    "\n",
    "def to_wkt(x):\n",
    "    x = x + [x[0]]\n",
    "    return \"polygon\" + str(x).replace(\"], [\", \",\").replace(\", \", \" \").replace(\n",
    "        \"[\", \"(\"\n",
    "    ).replace(\"]\", \")\")"
   ]
  },
  {
   "cell_type": "code",
   "execution_count": 7,
   "metadata": {},
   "outputs": [],
   "source": [
    "metadata['geojson'] = metadata['region_shapefile_wkt'].apply(wkt_to_geojson)"
   ]
  },
  {
   "cell_type": "code",
   "execution_count": 11,
   "metadata": {},
   "outputs": [],
   "source": [
    "def get_cells(m):\n",
    "\n",
    "    df = pd.DataFrame()\n",
    "    for resolution in [9, 10]:\n",
    "\n",
    "        temp = pd.Series(list(h3.polyfill(m['geojson'], resolution)), name='id').to_frame()\n",
    "        temp['resolution'] = resolution\n",
    "        temp['wkt'] = temp['id'].apply(lambda x: to_wkt(h3.h3_to_geo_boundary(x)))\n",
    "\n",
    "        df = pd.concat([df, deepcopy(temp)])\n",
    "    \n",
    "    df['region_slug'] = m['region_slug']\n",
    "    \n",
    "    return df"
   ]
  },
  {
   "cell_type": "code",
   "execution_count": 20,
   "metadata": {},
   "outputs": [
    {
     "data": {
      "text/html": [
       "<div>\n",
       "<style scoped>\n",
       "    .dataframe tbody tr th:only-of-type {\n",
       "        vertical-align: middle;\n",
       "    }\n",
       "\n",
       "    .dataframe tbody tr th {\n",
       "        vertical-align: top;\n",
       "    }\n",
       "\n",
       "    .dataframe thead th {\n",
       "        text-align: right;\n",
       "    }\n",
       "</style>\n",
       "<table border=\"1\" class=\"dataframe\">\n",
       "  <thead>\n",
       "    <tr style=\"text-align: right;\">\n",
       "      <th></th>\n",
       "      <th>id</th>\n",
       "      <th>resolution</th>\n",
       "      <th>wkt</th>\n",
       "      <th>region_slug</th>\n",
       "    </tr>\n",
       "  </thead>\n",
       "  <tbody>\n",
       "    <tr>\n",
       "      <th>0</th>\n",
       "      <td>89e76d6a88bffff</td>\n",
       "      <td>9</td>\n",
       "      <td>polygon((-74.08429571498272 4.7927174574629205...</td>\n",
       "      <td>bogota</td>\n",
       "    </tr>\n",
       "    <tr>\n",
       "      <th>1</th>\n",
       "      <td>89e76d61d03ffff</td>\n",
       "      <td>9</td>\n",
       "      <td>polygon((-74.13635652830591 4.558247415568863,...</td>\n",
       "      <td>bogota</td>\n",
       "    </tr>\n",
       "    <tr>\n",
       "      <th>2</th>\n",
       "      <td>89e76d60177ffff</td>\n",
       "      <td>9</td>\n",
       "      <td>polygon((-74.17124504644951 4.540162300852441,...</td>\n",
       "      <td>bogota</td>\n",
       "    </tr>\n",
       "    <tr>\n",
       "      <th>3</th>\n",
       "      <td>89e76d61ba3ffff</td>\n",
       "      <td>9</td>\n",
       "      <td>polygon((-74.10088594151274 4.539676375219948,...</td>\n",
       "      <td>bogota</td>\n",
       "    </tr>\n",
       "    <tr>\n",
       "      <th>4</th>\n",
       "      <td>89e76d6032fffff</td>\n",
       "      <td>9</td>\n",
       "      <td>polygon((-74.15107139611781 4.561932780482447,...</td>\n",
       "      <td>bogota</td>\n",
       "    </tr>\n",
       "    <tr>\n",
       "      <th>...</th>\n",
       "      <td>...</td>\n",
       "      <td>...</td>\n",
       "      <td>...</td>\n",
       "      <td>...</td>\n",
       "    </tr>\n",
       "    <tr>\n",
       "      <th>14007</th>\n",
       "      <td>8ae76d61b177fff</td>\n",
       "      <td>10</td>\n",
       "      <td>polygon((-74.09825581732875 4.558449088749691,...</td>\n",
       "      <td>bogota</td>\n",
       "    </tr>\n",
       "    <tr>\n",
       "      <th>14008</th>\n",
       "      <td>8ae76d683b77fff</td>\n",
       "      <td>10</td>\n",
       "      <td>polygon((-74.02709614183726 4.88643735217781,-...</td>\n",
       "      <td>bogota</td>\n",
       "    </tr>\n",
       "    <tr>\n",
       "      <th>14009</th>\n",
       "      <td>8ae76d6e458ffff</td>\n",
       "      <td>10</td>\n",
       "      <td>polygon((-74.10758979503686 4.462549582878939,...</td>\n",
       "      <td>bogota</td>\n",
       "    </tr>\n",
       "    <tr>\n",
       "      <th>14010</th>\n",
       "      <td>8ae76d6f50affff</td>\n",
       "      <td>10</td>\n",
       "      <td>polygon((-74.07174978024169 4.524482695069525,...</td>\n",
       "      <td>bogota</td>\n",
       "    </tr>\n",
       "    <tr>\n",
       "      <th>14011</th>\n",
       "      <td>8ae76d681867fff</td>\n",
       "      <td>10</td>\n",
       "      <td>polygon((-74.04807231035784 4.861661244741628,...</td>\n",
       "      <td>bogota</td>\n",
       "    </tr>\n",
       "  </tbody>\n",
       "</table>\n",
       "<p>16011 rows × 4 columns</p>\n",
       "</div>"
      ],
      "text/plain": [
       "                    id  resolution  \\\n",
       "0      89e76d6a88bffff           9   \n",
       "1      89e76d61d03ffff           9   \n",
       "2      89e76d60177ffff           9   \n",
       "3      89e76d61ba3ffff           9   \n",
       "4      89e76d6032fffff           9   \n",
       "...                ...         ...   \n",
       "14007  8ae76d61b177fff          10   \n",
       "14008  8ae76d683b77fff          10   \n",
       "14009  8ae76d6e458ffff          10   \n",
       "14010  8ae76d6f50affff          10   \n",
       "14011  8ae76d681867fff          10   \n",
       "\n",
       "                                                     wkt region_slug  \n",
       "0      polygon((-74.08429571498272 4.7927174574629205...      bogota  \n",
       "1      polygon((-74.13635652830591 4.558247415568863,...      bogota  \n",
       "2      polygon((-74.17124504644951 4.540162300852441,...      bogota  \n",
       "3      polygon((-74.10088594151274 4.539676375219948,...      bogota  \n",
       "4      polygon((-74.15107139611781 4.561932780482447,...      bogota  \n",
       "...                                                  ...         ...  \n",
       "14007  polygon((-74.09825581732875 4.558449088749691,...      bogota  \n",
       "14008  polygon((-74.02709614183726 4.88643735217781,-...      bogota  \n",
       "14009  polygon((-74.10758979503686 4.462549582878939,...      bogota  \n",
       "14010  polygon((-74.07174978024169 4.524482695069525,...      bogota  \n",
       "14011  polygon((-74.04807231035784 4.861661244741628,...      bogota  \n",
       "\n",
       "[16011 rows x 4 columns]"
      ]
     },
     "execution_count": 20,
     "metadata": {},
     "output_type": "execute_result"
    }
   ],
   "source": [
    "m = metadata.query('region_slug == \"bogota\"').iloc[0]\n",
    "get_cells(m)"
   ]
  },
  {
   "cell_type": "code",
   "execution_count": 21,
   "metadata": {},
   "outputs": [],
   "source": [
    "config = dict(\n",
    "    athena_database='spd_sdv_waze_corona',\n",
    "    bucket='iadbprod-public-stata-as-a-service',\n",
    "    prefix='spd-sdv-omitnik-waze/corona',\n",
    "    raw_table='grid',\n",
    "    name='test_grid',\n",
    "    slug='dev',\n",
    "    mode='overwrite_partitions'\n",
    ")"
   ]
  },
  {
   "cell_type": "code",
   "execution_count": 22,
   "metadata": {},
   "outputs": [],
   "source": [
    "res = wr.s3.to_parquet(\n",
    "    df=get_cells(m),\n",
    "    path=\"s3://{bucket}/{prefix}/{slug}/{raw_table}/{name}\".format(**config),\n",
    "    dataset=True,\n",
    "    database=config[\"athena_database\"],\n",
    "    table=\"{slug}_{raw_table}_{name}\".format(**config),\n",
    "    mode=config[\"mode\"],\n",
    "    partition_cols=[\"region_slug\"],\n",
    "    boto3_session=boto3.Session(region_name=\"us-east-1\"),\n",
    ")"
   ]
  },
  {
   "cell_type": "code",
   "execution_count": null,
   "metadata": {},
   "outputs": [],
   "source": [
    "query = \"\"\"\n",
    "with t as (\n",
    "      select \n",
    "            length,\n",
    "            year(retrievaltime) as year,\n",
    "            month(retrievaltime) as month,\n",
    "            day(retrievaltime) as day,\n",
    "            day_of_week(retrievaltime) as dow,\n",
    "                        date_parse(format_datetime(date_add('minute', \n",
    "                                                                                cast(date_diff('minute',\n",
    "                                                                                        timestamp '2015-01-01 00:00:00', retrievaltime) / 5 as bigint) * 5,\n",
    "                                                                                        timestamp '2015-01-01 00:00:00'), 'H:m'), '%H:%i') as time,\n",
    "                        row_number() over (partition by uuid, year(retrievaltime), month(retrievaltime), day(retrievaltime),\n",
    "                                                                        date_parse(format_datetime(date_add('minute', \n",
    "                                                                                cast(date_diff('minute',\n",
    "                                                                                        timestamp '2015-01-01 00:00:00', retrievaltime) / 5 as bigint) * 5,\n",
    "                                          timestamp '2015-01-01 00:00:00'), 'H:m'), '%H:%i') order by retrievaltime) n_row\n",
    "      from spd_sdv_waze_corona.dev_daily_daily_raw\n",
    "      where \n",
    "         \n",
    "            country = 'CO' and\n",
    "                st_intersects(\n",
    "              st_polygon('Polygon ((-74.04208330493199242 4.93291779846285294, -74.01708330657054091 4.93291779846285294, -74.01708330657054091 4.92458446456020482, -74.00874997378338094 4.92458446456020482, -74.00874997378338094 4.90791779675490858, -74.01708330657054091 4.90791779675490858, -74.01708330657054091 4.89958446285226046, -74.02541663935770089 4.89958446285226046, -74.02541663935770089 4.88291779504697132, -74.01708330657054091 4.88291779504697132, -74.01708330657054091 4.84958445943637884, -74.02541663935770089 4.84958445943637884, -74.02541663935770089 4.84125112553373071, -74.03374997214484665 4.84125112553373071, -74.03374997214484665 4.83291779163108259, -74.01708330657054091 4.83291779163108259, -74.01708330657054091 4.82458445772843447, -74.00874997378338094 4.82458445772843447, -74.00874997378338094 4.81625112382578635, -74.00041664099623517 4.81625112382578635, -74.00041664099623517 4.80791778992314534, -74.00874997378338094 4.80791778992314534, -74.00874997378338094 4.79125112211784909, -74.01708330657054091 4.79125112211784909, -74.01708330657054091 4.78291778821520097, -74.00874997378338094 4.78291778821520097, -74.00874997378338094 4.77458445431255285, -74.01708330657054091 4.77458445431255285, -74.01708330657054091 4.76625112040990473, -74.00874997378338094 4.76625112040990473, -74.00874997378338094 4.73291778479931935, -74.00041664099623517 4.73291778479931935, -74.00041664099623517 4.72458445089667123, -74.00874997378338094 4.72458445089667123, -74.00874997378338094 4.69125111528607874, -74.00041664099623517 4.69125111528607874, -74.00041664099623517 4.66625111357813438, -74.00874997378338094 4.66625111357813438, -74.00874997378338094 4.65791777967549336, -74.01708330657054091 4.65791777967549336, -74.01708330657054091 4.64958444577284524, -74.02541663935770089 4.64958444577284524, -74.02541663935770089 4.64125111187019712, -74.00874997378338094 4.64125111187019712, -74.00874997378338094 4.61625111016225276, -74.01708330657054091 4.61625111016225276, -74.01708330657054091 4.60791777625960464, -74.02541663935770089 4.60791777625960464, -74.02541663935770089 4.57458444064901926, -74.01708330657054091 4.57458444064901926, -74.01708330657054091 4.56625110674637114, -74.02541663935770089 4.56625110674637114, -74.02541663935770089 4.55791777284372301, -74.03374997214484665 4.55791777284372301, -74.03374997214484665 4.54958443894107489, -74.04208330493199242 4.54958443894107489, -74.04208330493199242 4.54125110503842677, -74.05041663771915239 4.54125110503842677, -74.05041663771915239 4.53291777113577865, -74.05874997050631237 4.53291777113577865, -74.05874997050631237 4.49958443552519327, -74.06708330329345813 4.49958443552519327, -74.06708330329345813 4.48291776771989703, -74.07541663608060389 4.48291776771989703, -74.07541663608060389 4.46625109991460079, -74.08374996886777808 4.46625109991460079, -74.08374996886777808 4.45791776601195266, -74.12541663280353532 4.45791776601195266, -74.12541663280353532 4.44958443210930454, -74.13374996559068109 4.44958443210930454, -74.13374996559068109 4.45791776601195266, -74.15041663116500104 4.45791776601195266, -74.15041663116500104 4.46625109991460079, -74.1587499639521468 4.46625109991460079, -74.1587499639521468 4.48291776771989703, -74.16708329673930677 4.48291776771989703, -74.16708329673930677 4.49125110162254515, -74.17541662952646675 4.49125110162254515, -74.17541662952646675 4.50791776942784139, -74.18374996231361251 4.50791776942784139, -74.18374996231361251 4.51625110333048951, -74.19208329510075828 4.51625110333048951, -74.19208329510075828 4.54125110503842677, -74.21708329346222399 4.54125110503842677, -74.21708329346222399 4.53291777113577865, -74.22541662624938397 4.53291777113577865, -74.22541662624938397 4.52458443723313053, -74.25874995739800966 4.52458443723313053, -74.25874995739800966 4.53291777113577865, -74.28374995575946116 4.53291777113577865, -74.28374995575946116 4.54125110503842677, -74.29208328854662113 4.54125110503842677, -74.29208328854662113 4.55791777284372301, -74.28374995575946116 4.55791777284372301, -74.28374995575946116 4.56625110674637114, -74.27541662297230118 4.56625110674637114, -74.27541662297230118 4.57458444064901926, -74.28374995575946116 4.57458444064901926, -74.28374995575946116 4.58291777455166738, -74.29208328854662113 4.58291777455166738, -74.29208328854662113 4.5912511084543155, -74.28374995575946116 4.5912511084543155, -74.28374995575946116 4.59958444235695652, -74.26708329018515542 4.59958444235695652, -74.26708329018515542 4.60791777625960464, -74.25874995739800966 4.60791777625960464, -74.25874995739800966 4.61625111016225276, -74.25041662461083547 4.61625111016225276, -74.25041662461083547 4.62458444406490088, -74.23374995903654394 4.62458444406490088, -74.23374995903654394 4.632917777967549, -74.22541662624938397 4.632917777967549, -74.22541662624938397 4.64958444577284524, -74.21708329346222399 4.64958444577284524, -74.21708329346222399 4.65791777967549336, -74.20041662788793246 4.65791777967549336, -74.20041662788793246 4.66625111357813438, -74.18374996231361251 4.66625111357813438, -74.18374996231361251 4.68291778138343062, -74.19208329510075828 4.68291778138343062, -74.19208329510075828 4.69125111528607874, -74.20041662788793246 4.69125111528607874, -74.20041662788793246 4.68291778138343062, -74.20874996067507823 4.68291778138343062, -74.20874996067507823 4.69125111528607874, -74.24208329182368971 4.69125111528607874, -74.24208329182368971 4.69958444918872686, -74.25041662461083547 4.69958444918872686, -74.25041662461083547 4.70791778309137499, -74.25874995739800966 4.70791778309137499, -74.25874995739800966 4.71625111699402311, -74.28374995575946116 4.71625111699402311, -74.28374995575946116 4.72458445089667123, -74.29208328854662113 4.72458445089667123, -74.29208328854662113 4.74125111870196037, -74.28374995575946116 4.74125111870196037, -74.28374995575946116 4.74958445260460849, -74.25041662461083547 4.74958445260460849, -74.25041662461083547 4.74125111870196037, -74.24208329182368971 4.74125111870196037, -74.24208329182368971 4.73291778479931935, -74.22541662624938397 4.73291778479931935, -74.22541662624938397 4.74125111870196037, -74.20041662788793246 4.74125111870196037, -74.20041662788793246 4.73291778479931935, -74.19208329510075828 4.73291778479931935, -74.19208329510075828 4.72458445089667123, -74.18374996231361251 4.72458445089667123, -74.18374996231361251 4.71625111699402311, -74.16708329673930677 4.71625111699402311, -74.16708329673930677 4.72458445089667123, -74.1587499639521468 4.72458445089667123, -74.1587499639521468 4.73291778479931935, -74.15041663116500104 4.73291778479931935, -74.15041663116500104 4.74125111870196037, -74.14208329837785527 4.74125111870196037, -74.14208329837785527 4.74958445260460849, -74.13374996559068109 4.74958445260460849, -74.13374996559068109 4.76625112040990473, -74.12541663280353532 4.76625112040990473, -74.12541663280353532 4.77458445431255285, -74.11708330001638956 4.77458445431255285, -74.11708330001638956 4.79125112211784909, -74.10874996722922958 4.79125112211784909, -74.10874996722922958 4.79958445602049721, -74.09208330165492384 4.79958445602049721, -74.09208330165492384 4.80791778992314534, -74.08374996886777808 4.80791778992314534, -74.08374996886777808 4.81625112382578635, -74.09208330165492384 4.81625112382578635, -74.09208330165492384 4.83291779163108259, -74.08374996886777808 4.83291779163108259, -74.08374996886777808 4.84958445943637884, -74.09208330165492384 4.84958445943637884, -74.09208330165492384 4.86625112724167508, -74.08374996886777808 4.86625112724167508, -74.08374996886777808 4.88291779504697132, -74.07541663608060389 4.88291779504697132, -74.07541663608060389 4.89125112894961234, -74.06708330329345813 4.89125112894961234, -74.06708330329345813 4.89958446285226046, -74.05874997050631237 4.89958446285226046, -74.05874997050631237 4.90791779675490858, -74.05041663771915239 4.90791779675490858, -74.05041663771915239 4.92458446456020482, -74.04208330493199242 4.92458446456020482, -74.04208330493199242 4.93291779846285294))'),\n",
    "              st_line(line))\n",
    "      \n",
    "                  )\n",
    "select \n",
    "        year,\n",
    "        month, \n",
    "        dow, \n",
    "        day, \n",
    "        sum(length) as sum_length\n",
    "from t\n",
    "where n_row = 1\n",
    "group by  year, month, dow, day\n",
    "\"\"\""
   ]
  },
  {
   "cell_type": "code",
   "execution_count": 23,
   "metadata": {},
   "outputs": [
    {
     "ename": "HTTPError",
     "evalue": "HTTP Error 403: FORBIDDEN",
     "output_type": "error",
     "traceback": [
      "\u001b[0;31m---------------------------------------------------------------------------\u001b[0m",
      "\u001b[0;31mHTTPError\u001b[0m                                 Traceback (most recent call last)",
      "\u001b[0;32m<ipython-input-23-d1f72dbe1c50>\u001b[0m in \u001b[0;36m<module>\u001b[0;34m()\u001b[0m\n\u001b[0;32m----> 1\u001b[0;31m \u001b[0mpd\u001b[0m\u001b[0;34m.\u001b[0m\u001b[0mread_csv\u001b[0m\u001b[0;34m(\u001b[0m\u001b[0;34m'https://idbg.sharepoint.com/sites/CoronavirusImpactDashboard/Shared%20Documents/General/Dashboard/Data%20Raw/Public%20Transport/S%C3%A3o%20Paulo/sp_busridership_baselineJanuary.csv'\u001b[0m\u001b[0;34m)\u001b[0m\u001b[0;34m\u001b[0m\u001b[0m\n\u001b[0m",
      "\u001b[0;32m~/.conda/envs/norm_env/lib/python3.7/site-packages/pandas/io/parsers.py\u001b[0m in \u001b[0;36mparser_f\u001b[0;34m(filepath_or_buffer, sep, delimiter, header, names, index_col, usecols, squeeze, prefix, mangle_dupe_cols, dtype, engine, converters, true_values, false_values, skipinitialspace, skiprows, skipfooter, nrows, na_values, keep_default_na, na_filter, verbose, skip_blank_lines, parse_dates, infer_datetime_format, keep_date_col, date_parser, dayfirst, cache_dates, iterator, chunksize, compression, thousands, decimal, lineterminator, quotechar, quoting, doublequote, escapechar, comment, encoding, dialect, error_bad_lines, warn_bad_lines, delim_whitespace, low_memory, memory_map, float_precision)\u001b[0m\n\u001b[1;32m    674\u001b[0m         )\n\u001b[1;32m    675\u001b[0m \u001b[0;34m\u001b[0m\u001b[0m\n\u001b[0;32m--> 676\u001b[0;31m         \u001b[0;32mreturn\u001b[0m \u001b[0m_read\u001b[0m\u001b[0;34m(\u001b[0m\u001b[0mfilepath_or_buffer\u001b[0m\u001b[0;34m,\u001b[0m \u001b[0mkwds\u001b[0m\u001b[0;34m)\u001b[0m\u001b[0;34m\u001b[0m\u001b[0m\n\u001b[0m\u001b[1;32m    677\u001b[0m \u001b[0;34m\u001b[0m\u001b[0m\n\u001b[1;32m    678\u001b[0m     \u001b[0mparser_f\u001b[0m\u001b[0;34m.\u001b[0m\u001b[0m__name__\u001b[0m \u001b[0;34m=\u001b[0m \u001b[0mname\u001b[0m\u001b[0;34m\u001b[0m\u001b[0m\n",
      "\u001b[0;32m~/.conda/envs/norm_env/lib/python3.7/site-packages/pandas/io/parsers.py\u001b[0m in \u001b[0;36m_read\u001b[0;34m(filepath_or_buffer, kwds)\u001b[0m\n\u001b[1;32m    429\u001b[0m     \u001b[0;31m# See https://github.com/python/mypy/issues/1297\u001b[0m\u001b[0;34m\u001b[0m\u001b[0;34m\u001b[0m\u001b[0m\n\u001b[1;32m    430\u001b[0m     fp_or_buf, _, compression, should_close = get_filepath_or_buffer(\n\u001b[0;32m--> 431\u001b[0;31m         \u001b[0mfilepath_or_buffer\u001b[0m\u001b[0;34m,\u001b[0m \u001b[0mencoding\u001b[0m\u001b[0;34m,\u001b[0m \u001b[0mcompression\u001b[0m\u001b[0;34m\u001b[0m\u001b[0m\n\u001b[0m\u001b[1;32m    432\u001b[0m     )\n\u001b[1;32m    433\u001b[0m     \u001b[0mkwds\u001b[0m\u001b[0;34m[\u001b[0m\u001b[0;34m\"compression\"\u001b[0m\u001b[0;34m]\u001b[0m \u001b[0;34m=\u001b[0m \u001b[0mcompression\u001b[0m\u001b[0;34m\u001b[0m\u001b[0m\n",
      "\u001b[0;32m~/.conda/envs/norm_env/lib/python3.7/site-packages/pandas/io/common.py\u001b[0m in \u001b[0;36mget_filepath_or_buffer\u001b[0;34m(filepath_or_buffer, encoding, compression, mode)\u001b[0m\n\u001b[1;32m    170\u001b[0m \u001b[0;34m\u001b[0m\u001b[0m\n\u001b[1;32m    171\u001b[0m     \u001b[0;32mif\u001b[0m \u001b[0misinstance\u001b[0m\u001b[0;34m(\u001b[0m\u001b[0mfilepath_or_buffer\u001b[0m\u001b[0;34m,\u001b[0m \u001b[0mstr\u001b[0m\u001b[0;34m)\u001b[0m \u001b[0;32mand\u001b[0m \u001b[0mis_url\u001b[0m\u001b[0;34m(\u001b[0m\u001b[0mfilepath_or_buffer\u001b[0m\u001b[0;34m)\u001b[0m\u001b[0;34m:\u001b[0m\u001b[0;34m\u001b[0m\u001b[0m\n\u001b[0;32m--> 172\u001b[0;31m         \u001b[0mreq\u001b[0m \u001b[0;34m=\u001b[0m \u001b[0murlopen\u001b[0m\u001b[0;34m(\u001b[0m\u001b[0mfilepath_or_buffer\u001b[0m\u001b[0;34m)\u001b[0m\u001b[0;34m\u001b[0m\u001b[0m\n\u001b[0m\u001b[1;32m    173\u001b[0m         \u001b[0mcontent_encoding\u001b[0m \u001b[0;34m=\u001b[0m \u001b[0mreq\u001b[0m\u001b[0;34m.\u001b[0m\u001b[0mheaders\u001b[0m\u001b[0;34m.\u001b[0m\u001b[0mget\u001b[0m\u001b[0;34m(\u001b[0m\u001b[0;34m\"Content-Encoding\"\u001b[0m\u001b[0;34m,\u001b[0m \u001b[0;32mNone\u001b[0m\u001b[0;34m)\u001b[0m\u001b[0;34m\u001b[0m\u001b[0m\n\u001b[1;32m    174\u001b[0m         \u001b[0;32mif\u001b[0m \u001b[0mcontent_encoding\u001b[0m \u001b[0;34m==\u001b[0m \u001b[0;34m\"gzip\"\u001b[0m\u001b[0;34m:\u001b[0m\u001b[0;34m\u001b[0m\u001b[0m\n",
      "\u001b[0;32m~/.conda/envs/norm_env/lib/python3.7/site-packages/pandas/io/common.py\u001b[0m in \u001b[0;36murlopen\u001b[0;34m(*args, **kwargs)\u001b[0m\n\u001b[1;32m    139\u001b[0m     \u001b[0;32mimport\u001b[0m \u001b[0murllib\u001b[0m\u001b[0;34m.\u001b[0m\u001b[0mrequest\u001b[0m\u001b[0;34m\u001b[0m\u001b[0m\n\u001b[1;32m    140\u001b[0m \u001b[0;34m\u001b[0m\u001b[0m\n\u001b[0;32m--> 141\u001b[0;31m     \u001b[0;32mreturn\u001b[0m \u001b[0murllib\u001b[0m\u001b[0;34m.\u001b[0m\u001b[0mrequest\u001b[0m\u001b[0;34m.\u001b[0m\u001b[0murlopen\u001b[0m\u001b[0;34m(\u001b[0m\u001b[0;34m*\u001b[0m\u001b[0margs\u001b[0m\u001b[0;34m,\u001b[0m \u001b[0;34m**\u001b[0m\u001b[0mkwargs\u001b[0m\u001b[0;34m)\u001b[0m\u001b[0;34m\u001b[0m\u001b[0m\n\u001b[0m\u001b[1;32m    142\u001b[0m \u001b[0;34m\u001b[0m\u001b[0m\n\u001b[1;32m    143\u001b[0m \u001b[0;34m\u001b[0m\u001b[0m\n",
      "\u001b[0;32m/opt/conda/lib/python3.7/urllib/request.py\u001b[0m in \u001b[0;36murlopen\u001b[0;34m(url, data, timeout, cafile, capath, cadefault, context)\u001b[0m\n\u001b[1;32m    220\u001b[0m     \u001b[0;32melse\u001b[0m\u001b[0;34m:\u001b[0m\u001b[0;34m\u001b[0m\u001b[0m\n\u001b[1;32m    221\u001b[0m         \u001b[0mopener\u001b[0m \u001b[0;34m=\u001b[0m \u001b[0m_opener\u001b[0m\u001b[0;34m\u001b[0m\u001b[0m\n\u001b[0;32m--> 222\u001b[0;31m     \u001b[0;32mreturn\u001b[0m \u001b[0mopener\u001b[0m\u001b[0;34m.\u001b[0m\u001b[0mopen\u001b[0m\u001b[0;34m(\u001b[0m\u001b[0murl\u001b[0m\u001b[0;34m,\u001b[0m \u001b[0mdata\u001b[0m\u001b[0;34m,\u001b[0m \u001b[0mtimeout\u001b[0m\u001b[0;34m)\u001b[0m\u001b[0;34m\u001b[0m\u001b[0m\n\u001b[0m\u001b[1;32m    223\u001b[0m \u001b[0;34m\u001b[0m\u001b[0m\n\u001b[1;32m    224\u001b[0m \u001b[0;32mdef\u001b[0m \u001b[0minstall_opener\u001b[0m\u001b[0;34m(\u001b[0m\u001b[0mopener\u001b[0m\u001b[0;34m)\u001b[0m\u001b[0;34m:\u001b[0m\u001b[0;34m\u001b[0m\u001b[0m\n",
      "\u001b[0;32m/opt/conda/lib/python3.7/urllib/request.py\u001b[0m in \u001b[0;36mopen\u001b[0;34m(self, fullurl, data, timeout)\u001b[0m\n\u001b[1;32m    529\u001b[0m         \u001b[0;32mfor\u001b[0m \u001b[0mprocessor\u001b[0m \u001b[0;32min\u001b[0m \u001b[0mself\u001b[0m\u001b[0;34m.\u001b[0m\u001b[0mprocess_response\u001b[0m\u001b[0;34m.\u001b[0m\u001b[0mget\u001b[0m\u001b[0;34m(\u001b[0m\u001b[0mprotocol\u001b[0m\u001b[0;34m,\u001b[0m \u001b[0;34m[\u001b[0m\u001b[0;34m]\u001b[0m\u001b[0;34m)\u001b[0m\u001b[0;34m:\u001b[0m\u001b[0;34m\u001b[0m\u001b[0m\n\u001b[1;32m    530\u001b[0m             \u001b[0mmeth\u001b[0m \u001b[0;34m=\u001b[0m \u001b[0mgetattr\u001b[0m\u001b[0;34m(\u001b[0m\u001b[0mprocessor\u001b[0m\u001b[0;34m,\u001b[0m \u001b[0mmeth_name\u001b[0m\u001b[0;34m)\u001b[0m\u001b[0;34m\u001b[0m\u001b[0m\n\u001b[0;32m--> 531\u001b[0;31m             \u001b[0mresponse\u001b[0m \u001b[0;34m=\u001b[0m \u001b[0mmeth\u001b[0m\u001b[0;34m(\u001b[0m\u001b[0mreq\u001b[0m\u001b[0;34m,\u001b[0m \u001b[0mresponse\u001b[0m\u001b[0;34m)\u001b[0m\u001b[0;34m\u001b[0m\u001b[0m\n\u001b[0m\u001b[1;32m    532\u001b[0m \u001b[0;34m\u001b[0m\u001b[0m\n\u001b[1;32m    533\u001b[0m         \u001b[0;32mreturn\u001b[0m \u001b[0mresponse\u001b[0m\u001b[0;34m\u001b[0m\u001b[0m\n",
      "\u001b[0;32m/opt/conda/lib/python3.7/urllib/request.py\u001b[0m in \u001b[0;36mhttp_response\u001b[0;34m(self, request, response)\u001b[0m\n\u001b[1;32m    639\u001b[0m         \u001b[0;32mif\u001b[0m \u001b[0;32mnot\u001b[0m \u001b[0;34m(\u001b[0m\u001b[0;36m200\u001b[0m \u001b[0;34m<=\u001b[0m \u001b[0mcode\u001b[0m \u001b[0;34m<\u001b[0m \u001b[0;36m300\u001b[0m\u001b[0;34m)\u001b[0m\u001b[0;34m:\u001b[0m\u001b[0;34m\u001b[0m\u001b[0m\n\u001b[1;32m    640\u001b[0m             response = self.parent.error(\n\u001b[0;32m--> 641\u001b[0;31m                 'http', request, response, code, msg, hdrs)\n\u001b[0m\u001b[1;32m    642\u001b[0m \u001b[0;34m\u001b[0m\u001b[0m\n\u001b[1;32m    643\u001b[0m         \u001b[0;32mreturn\u001b[0m \u001b[0mresponse\u001b[0m\u001b[0;34m\u001b[0m\u001b[0m\n",
      "\u001b[0;32m/opt/conda/lib/python3.7/urllib/request.py\u001b[0m in \u001b[0;36merror\u001b[0;34m(self, proto, *args)\u001b[0m\n\u001b[1;32m    567\u001b[0m         \u001b[0;32mif\u001b[0m \u001b[0mhttp_err\u001b[0m\u001b[0;34m:\u001b[0m\u001b[0;34m\u001b[0m\u001b[0m\n\u001b[1;32m    568\u001b[0m             \u001b[0margs\u001b[0m \u001b[0;34m=\u001b[0m \u001b[0;34m(\u001b[0m\u001b[0mdict\u001b[0m\u001b[0;34m,\u001b[0m \u001b[0;34m'default'\u001b[0m\u001b[0;34m,\u001b[0m \u001b[0;34m'http_error_default'\u001b[0m\u001b[0;34m)\u001b[0m \u001b[0;34m+\u001b[0m \u001b[0morig_args\u001b[0m\u001b[0;34m\u001b[0m\u001b[0m\n\u001b[0;32m--> 569\u001b[0;31m             \u001b[0;32mreturn\u001b[0m \u001b[0mself\u001b[0m\u001b[0;34m.\u001b[0m\u001b[0m_call_chain\u001b[0m\u001b[0;34m(\u001b[0m\u001b[0;34m*\u001b[0m\u001b[0margs\u001b[0m\u001b[0;34m)\u001b[0m\u001b[0;34m\u001b[0m\u001b[0m\n\u001b[0m\u001b[1;32m    570\u001b[0m \u001b[0;34m\u001b[0m\u001b[0m\n\u001b[1;32m    571\u001b[0m \u001b[0;31m# XXX probably also want an abstract factory that knows when it makes\u001b[0m\u001b[0;34m\u001b[0m\u001b[0;34m\u001b[0m\u001b[0m\n",
      "\u001b[0;32m/opt/conda/lib/python3.7/urllib/request.py\u001b[0m in \u001b[0;36m_call_chain\u001b[0;34m(self, chain, kind, meth_name, *args)\u001b[0m\n\u001b[1;32m    501\u001b[0m         \u001b[0;32mfor\u001b[0m \u001b[0mhandler\u001b[0m \u001b[0;32min\u001b[0m \u001b[0mhandlers\u001b[0m\u001b[0;34m:\u001b[0m\u001b[0;34m\u001b[0m\u001b[0m\n\u001b[1;32m    502\u001b[0m             \u001b[0mfunc\u001b[0m \u001b[0;34m=\u001b[0m \u001b[0mgetattr\u001b[0m\u001b[0;34m(\u001b[0m\u001b[0mhandler\u001b[0m\u001b[0;34m,\u001b[0m \u001b[0mmeth_name\u001b[0m\u001b[0;34m)\u001b[0m\u001b[0;34m\u001b[0m\u001b[0m\n\u001b[0;32m--> 503\u001b[0;31m             \u001b[0mresult\u001b[0m \u001b[0;34m=\u001b[0m \u001b[0mfunc\u001b[0m\u001b[0;34m(\u001b[0m\u001b[0;34m*\u001b[0m\u001b[0margs\u001b[0m\u001b[0;34m)\u001b[0m\u001b[0;34m\u001b[0m\u001b[0m\n\u001b[0m\u001b[1;32m    504\u001b[0m             \u001b[0;32mif\u001b[0m \u001b[0mresult\u001b[0m \u001b[0;32mis\u001b[0m \u001b[0;32mnot\u001b[0m \u001b[0;32mNone\u001b[0m\u001b[0;34m:\u001b[0m\u001b[0;34m\u001b[0m\u001b[0m\n\u001b[1;32m    505\u001b[0m                 \u001b[0;32mreturn\u001b[0m \u001b[0mresult\u001b[0m\u001b[0;34m\u001b[0m\u001b[0m\n",
      "\u001b[0;32m/opt/conda/lib/python3.7/urllib/request.py\u001b[0m in \u001b[0;36mhttp_error_default\u001b[0;34m(self, req, fp, code, msg, hdrs)\u001b[0m\n\u001b[1;32m    647\u001b[0m \u001b[0;32mclass\u001b[0m \u001b[0mHTTPDefaultErrorHandler\u001b[0m\u001b[0;34m(\u001b[0m\u001b[0mBaseHandler\u001b[0m\u001b[0;34m)\u001b[0m\u001b[0;34m:\u001b[0m\u001b[0;34m\u001b[0m\u001b[0m\n\u001b[1;32m    648\u001b[0m     \u001b[0;32mdef\u001b[0m \u001b[0mhttp_error_default\u001b[0m\u001b[0;34m(\u001b[0m\u001b[0mself\u001b[0m\u001b[0;34m,\u001b[0m \u001b[0mreq\u001b[0m\u001b[0;34m,\u001b[0m \u001b[0mfp\u001b[0m\u001b[0;34m,\u001b[0m \u001b[0mcode\u001b[0m\u001b[0;34m,\u001b[0m \u001b[0mmsg\u001b[0m\u001b[0;34m,\u001b[0m \u001b[0mhdrs\u001b[0m\u001b[0;34m)\u001b[0m\u001b[0;34m:\u001b[0m\u001b[0;34m\u001b[0m\u001b[0m\n\u001b[0;32m--> 649\u001b[0;31m         \u001b[0;32mraise\u001b[0m \u001b[0mHTTPError\u001b[0m\u001b[0;34m(\u001b[0m\u001b[0mreq\u001b[0m\u001b[0;34m.\u001b[0m\u001b[0mfull_url\u001b[0m\u001b[0;34m,\u001b[0m \u001b[0mcode\u001b[0m\u001b[0;34m,\u001b[0m \u001b[0mmsg\u001b[0m\u001b[0;34m,\u001b[0m \u001b[0mhdrs\u001b[0m\u001b[0;34m,\u001b[0m \u001b[0mfp\u001b[0m\u001b[0;34m)\u001b[0m\u001b[0;34m\u001b[0m\u001b[0m\n\u001b[0m\u001b[1;32m    650\u001b[0m \u001b[0;34m\u001b[0m\u001b[0m\n\u001b[1;32m    651\u001b[0m \u001b[0;32mclass\u001b[0m \u001b[0mHTTPRedirectHandler\u001b[0m\u001b[0;34m(\u001b[0m\u001b[0mBaseHandler\u001b[0m\u001b[0;34m)\u001b[0m\u001b[0;34m:\u001b[0m\u001b[0;34m\u001b[0m\u001b[0m\n",
      "\u001b[0;31mHTTPError\u001b[0m: HTTP Error 403: FORBIDDEN"
     ]
    }
   ],
   "source": [
    "pd.read_csv('https://idbg.sharepoint.com/sites/CoronavirusImpactDashboard/Shared%20Documents/General/Dashboard/Data%20Raw/Public%20Transport/S%C3%A3o%20Paulo/sp_busridership_baselineJanuary.csv')"
   ]
  },
  {
   "cell_type": "code",
   "execution_count": 24,
   "metadata": {},
   "outputs": [],
   "source": [
    "daily = pd.read_csv('http://tiny.cc/idb-traffic-daily')"
   ]
  },
  {
   "cell_type": "code",
   "execution_count": 31,
   "metadata": {},
   "outputs": [
    {
     "data": {
      "text/plain": [
       "array(['Acre', 'Alagoas', 'Amapa', 'Amazonas', 'Bahia', 'Ceara',\n",
       "       'Distrito Federal', 'Espirito Santo', 'Goias', 'Maranhao',\n",
       "       'Mato Grosso', 'Minas Gerais', 'Para', 'Pernambuco', 'Piaui',\n",
       "       'Rio De Janeiro', 'Rio Grande Do Norte', 'Rio Grande Do Sul',\n",
       "       'Rondonia', 'Roraima', 'Santa Catarina', 'Sao Paulo', 'Sergipe',\n",
       "       'Tocantins'], dtype=object)"
      ]
     },
     "execution_count": 31,
     "metadata": {},
     "output_type": "execute_result"
    }
   ],
   "source": [
    "a = daily.query('region_type == \"state\"')['region_name'].unique()\n",
    "a.sort()\n",
    "a"
   ]
  },
  {
   "cell_type": "code",
   "execution_count": null,
   "metadata": {},
   "outputs": [],
   "source": [
    "metadata.query('region_type == \"state\"')"
   ]
  },
  {
   "cell_type": "code",
   "execution_count": null,
   "metadata": {},
   "outputs": [],
   "source": []
  }
 ],
 "metadata": {
  "kernelspec": {
   "display_name": "Python 3",
   "language": "python",
   "name": "python3"
  },
  "language_info": {
   "codemirror_mode": {
    "name": "ipython",
    "version": 3
   },
   "file_extension": ".py",
   "mimetype": "text/x-python",
   "name": "python",
   "nbconvert_exporter": "python",
   "pygments_lexer": "ipython3",
   "version": "3.7.0"
  },
  "toc": {
   "base_numbering": 1,
   "nav_menu": {},
   "number_sections": true,
   "sideBar": true,
   "skip_h1_title": false,
   "title_cell": "Table of Contents",
   "title_sidebar": "Contents",
   "toc_cell": false,
   "toc_position": {},
   "toc_section_display": true,
   "toc_window_display": false
  }
 },
 "nbformat": 4,
 "nbformat_minor": 2
}
