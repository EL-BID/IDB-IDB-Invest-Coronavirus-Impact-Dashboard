{
 "cells": [
  {
   "cell_type": "code",
   "execution_count": null,
   "metadata": {},
   "outputs": [],
   "source": [
    "# %load first_cell.py\n",
    "%reload_ext autoreload\n",
    "%autoreload 2\n",
    "from pathlib import Path\n",
    "home = str(Path.home())\n",
    "\n",
    "import sys\n",
    "sys.path = sys.path + [f'{home}/.conda/envs/norm_env/lib/python37.zip', \n",
    "                       f'{home}/.conda/envs/norm_env/lib/python3.7', \n",
    "                       f'{home}/.conda/envs/norm_env/lib/python3.7/lib-dynload', \n",
    "                       f'{home}/.conda/envs/norm_env/lib/python3.7/site-packages',\n",
    "                      '../src']\n",
    "sys.prefix = '/home/joaom/.conda/envs/norm_env'\n",
    "\n",
    "from paths import RAW_PATH, TREAT_PATH, OUTPUT_PATH, FIGURES_PATH\n",
    "\n",
    "from copy import deepcopy\n",
    "import numpy as np\n",
    "import pandas as pd\n",
    "pd.options.display.max_columns = 999\n",
    "import yaml\n",
    "import matplotlib.pyplot as plt \n",
    "import datetime\n",
    "\n",
    "import warnings\n",
    "warnings.filterwarnings('ignore')\n",
    "\n",
    "# Plotting\n",
    "import plotly\n",
    "import plotly.graph_objs as go\n",
    "import cufflinks as cf\n",
    "plotly.offline.init_notebook_mode(connected=True)\n",
    "\n",
    "def iplottitle(title, width=40):\n",
    "    return '<br>'.join(textwrap.wrap(title, width))\n",
    "\n",
    "# Setting cufflinks\n",
    "import textwrap\n",
    "import cufflinks as cf\n",
    "cf.go_offline()\n",
    "cf.set_config_file(offline=False, world_readable=True)\n",
    "import yaml\n",
    "from jinja2 import Template\n",
    "cf.themes.THEMES['custom'] = yaml.load(open('cufflinks_template.yaml', 'r'))"
   ]
  },
  {
   "cell_type": "code",
   "execution_count": null,
   "metadata": {},
   "outputs": [],
   "source": [
    "from src import utils\n",
    "from datetime import datetime\n",
    "conn = utils.connect_athena(path='../configs/athena.yaml')"
   ]
  },
  {
   "cell_type": "code",
   "execution_count": null,
   "metadata": {},
   "outputs": [],
   "source": [
    "from tqdm import tqdm_notebook"
   ]
  },
  {
   "cell_type": "code",
   "execution_count": null,
   "metadata": {},
   "outputs": [],
   "source": [
    "query = \"\"\"\n",
    "select *\n",
    "from spd_sdv_waze_corona.allhist_grid_grid\n",
    "where region_slug = '{}'\n",
    "and year = {}\n",
    "and month = {}\n",
    "\"\"\"\n",
    "\n",
    "raw_path = Path('/home/joaom/shared/spd-sdv-omitnik-waze/corona/outputs/')"
   ]
  },
  {
   "cell_type": "code",
   "execution_count": null,
   "metadata": {},
   "outputs": [],
   "source": [
    "combinations = pd.read_sql_query(\"\"\"\n",
    "select distinct region_slug, year, month, day\n",
    "from spd_sdv_waze_corona.allhist_grid_grid\n",
    "\"\"\", conn)"
   ]
  },
  {
   "cell_type": "code",
   "execution_count": null,
   "metadata": {},
   "outputs": [],
   "source": [
    "combinations['date'] = combinations.apply(lambda x: pd.Timestamp(year=x['year'], month=x['month'], day=x['day']),1)"
   ]
  },
  {
   "cell_type": "code",
   "execution_count": null,
   "metadata": {},
   "outputs": [],
   "source": [
    "combinations.groupby('region_slug').agg(['max', 'min'])"
   ]
  },
  {
   "cell_type": "code",
   "execution_count": null,
   "metadata": {},
   "outputs": [],
   "source": [
    "for r in combinations['region_slug'].unique():\n",
    "    (raw_path / r).mkdir(exist_ok=True)"
   ]
  },
  {
   "cell_type": "code",
   "execution_count": null,
   "metadata": {},
   "outputs": [],
   "source": [
    "list(combinations.to_records(index=False))"
   ]
  },
  {
   "cell_type": "code",
   "execution_count": null,
   "metadata": {},
   "outputs": [
    {
     "data": {
      "application/vnd.jupyter.widget-view+json": {
       "model_id": "b29a7e6e6e284dbfaf96f561e077177e",
       "version_major": 2,
       "version_minor": 0
      },
      "text/plain": [
       "HBox(children=(IntProgress(value=0, max=74), HTML(value='')))"
      ]
     },
     "metadata": {},
     "output_type": "display_data"
    }
   ],
   "source": [
    "for region_slug, year, month in tqdm_notebook(list(combinations.drop_duplicates(subset=['region_slug', 'year', 'month'])\n",
    "                                                   [['region_slug', 'year', 'month']]\n",
    "                                                   .to_records(index=False))):\n",
    "    \n",
    "    if year == 2020:\n",
    "        print(query.format(region_slug, year, month))\n",
    "        df = pd.read_sql_query(query.format(region_slug, year, month), conn)\n",
    "        \n",
    "        for day in tqdm_notebook(list(combinations.query(f'year == \"{year}\"')\n",
    "                                      .query(f'month == \"{month}\"')['day'].unique())):\n",
    "            \n",
    "    \n",
    "            to_save = raw_path / region_slug / ('-'.join([str(x) for x in [year, month, day]]) + '.csv')\n",
    "        \n",
    "            print(to_save)\n",
    "\n",
    "            df.query('day == \"{day}\"').to_csv(to_save, index=False, sep='|')"
   ]
  },
  {
   "cell_type": "code",
   "execution_count": null,
   "metadata": {},
   "outputs": [],
   "source": []
  }
 ],
 "metadata": {
  "kernelspec": {
   "display_name": "Python 3",
   "language": "python",
   "name": "python3"
  },
  "language_info": {
   "codemirror_mode": {
    "name": "ipython",
    "version": 3
   },
   "file_extension": ".py",
   "mimetype": "text/x-python",
   "name": "python",
   "nbconvert_exporter": "python",
   "pygments_lexer": "ipython3",
   "version": "3.7.0"
  },
  "toc": {
   "base_numbering": 1,
   "nav_menu": {},
   "number_sections": true,
   "sideBar": true,
   "skip_h1_title": false,
   "title_cell": "Table of Contents",
   "title_sidebar": "Contents",
   "toc_cell": false,
   "toc_position": {},
   "toc_section_display": true,
   "toc_window_display": false
  }
 },
 "nbformat": 4,
 "nbformat_minor": 2
}
