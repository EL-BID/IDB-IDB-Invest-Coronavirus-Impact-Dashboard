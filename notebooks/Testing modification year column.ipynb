{
 "cells": [
  {
   "cell_type": "markdown",
   "metadata": {},
   "source": [
    "# Dataframes evaluation\n",
    "\n",
    "Reviewing characteristics from data frames"
   ]
  },
  {
   "cell_type": "code",
   "execution_count": 1,
   "metadata": {},
   "outputs": [],
   "source": [
    "# Manipulation \n",
    "import pandas as pd\n",
    "from siuba import *"
   ]
  },
  {
   "cell_type": "code",
   "execution_count": null,
   "metadata": {},
   "outputs": [],
   "source": []
  },
  {
   "cell_type": "markdown",
   "metadata": {},
   "source": [
    "## Copying `master` data"
   ]
  },
  {
   "cell_type": "code",
   "execution_count": 4,
   "metadata": {},
   "outputs": [
    {
     "name": "stdout",
     "output_type": "stream",
     "text": [
      "\n",
      " --private -- \n",
      "\n",
      "daily\n",
      "weekly\n",
      "\n",
      " --public -- \n",
      "\n",
      "daily\n",
      "weekly\n"
     ]
    }
   ],
   "source": [
    "# Backup df - only run once to copy master version\n",
    "\n",
    "def copy_csv(version, freq):    \n",
    "\n",
    "    df = pd.read_csv(f\"~/shared/spd-sdv-omitnik-waze/corona/prod/{version}/daily/write_index/write_index_{freq}.csv\", \n",
    "                sep = \"|\")\n",
    "    df.to_csv(f'~/private/tests/{version}_{freq}.csv', sep = \"|\", )\n",
    "\n",
    "for version in ['private', 'public']:\n",
    "    print('\\n --' + version + ' -- \\n')\n",
    "    for freq in ['daily', 'weekly']:\n",
    "        print(freq)\n",
    "        #copy_csv(version, freq)"
   ]
  },
  {
   "cell_type": "code",
   "execution_count": 2,
   "metadata": {},
   "outputs": [],
   "source": [
    "def read_data(path):\n",
    "    df = pd.read_csv(path, sep = \"|\")\n",
    "    print(df.shape)\n",
    "    print(df.last_updated_utc.unique())\n",
    "    print(len(df.columns))\n",
    "\n",
    "    cols_pub = df.columns\n",
    "    return(cols_pub)"
   ]
  },
  {
   "cell_type": "markdown",
   "metadata": {},
   "source": [
    "### Branch `master` pipeline"
   ]
  },
  {
   "cell_type": "markdown",
   "metadata": {},
   "source": [
    "## Public"
   ]
  },
  {
   "cell_type": "code",
   "execution_count": 31,
   "metadata": {},
   "outputs": [
    {
     "name": "stdout",
     "output_type": "stream",
     "text": [
      "(35223, 19)\n",
      "['2021-02-05 22:10:30.904' '2021-02-05 22:10:30.9097'\n",
      " '2021-02-07 22:34:50.197']\n",
      "19\n"
     ]
    },
    {
     "data": {
      "text/plain": [
       "Index(['Unnamed: 0', 'last_updated_utc', 'region_slug', 'region_name',\n",
       "       'country_name', 'country_iso_code', 'country_idb_code', 'region_type',\n",
       "       'population', 'timezone', 'year', 'month', 'day', 'dow', 'observed',\n",
       "       'expected_2020', 'ratio_20', 'tci', 'dashboard'],\n",
       "      dtype='object')"
      ]
     },
     "execution_count": 31,
     "metadata": {},
     "output_type": "execute_result"
    }
   ],
   "source": [
    "read_data(path = \"~/private/tests/public_daily.csv\")"
   ]
  },
  {
   "cell_type": "code",
   "execution_count": 10,
   "metadata": {},
   "outputs": [
    {
     "name": "stdout",
     "output_type": "stream",
     "text": [
      "(36288, 15)\n",
      "['2021-02-09 04:04:03.197']\n",
      "15\n"
     ]
    },
    {
     "data": {
      "text/plain": [
       "Index(['last_updated_utc', 'region_slug', 'region_name', 'country_name',\n",
       "       'country_iso_code', 'country_idb_code', 'region_type', 'population',\n",
       "       'timezone', 'year', 'month', 'day', 'dow', 'ratio_20', 'tcp'],\n",
       "      dtype='object')"
      ]
     },
     "execution_count": 10,
     "metadata": {},
     "output_type": "execute_result"
    }
   ],
   "source": [
    "read_data(path = \"~/shared/spd-sdv-omitnik-waze/corona/prod/public/daily/write_index/daily.csv\")"
   ]
  },
  {
   "cell_type": "code",
   "execution_count": 11,
   "metadata": {},
   "outputs": [
    {
     "name": "stdout",
     "output_type": "stream",
     "text": [
      "(39312, 17)\n",
      "['2021-02-09 04:03:37.260']\n",
      "17\n"
     ]
    },
    {
     "data": {
      "text/plain": [
       "Index(['last_updated_utc', 'region_slug', 'region_name', 'country_name',\n",
       "       'country_iso_code', 'country_idb_code', 'region_type', 'population',\n",
       "       'timezone', 'week_number', 'min_year', 'min_month', 'min_day',\n",
       "       'max_month', 'max_day', 'ratio_20', 'tcp'],\n",
       "      dtype='object')"
      ]
     },
     "execution_count": 11,
     "metadata": {},
     "output_type": "execute_result"
    }
   ],
   "source": [
    "read_data(path = \"~/shared/spd-sdv-omitnik-waze/corona/prod/public/daily/write_index/weekly.csv\")"
   ]
  },
  {
   "cell_type": "markdown",
   "metadata": {},
   "source": [
    "## Private"
   ]
  },
  {
   "cell_type": "code",
   "execution_count": 8,
   "metadata": {},
   "outputs": [
    {
     "name": "stdout",
     "output_type": "stream",
     "text": [
      "(36180, 15)\n",
      "['2021-02-07 22:34:50.197']\n",
      "15\n"
     ]
    },
    {
     "data": {
      "text/plain": [
       "Index(['Unnamed: 0', 'last_updated_utc', 'region_slug', 'region_name',\n",
       "       'country_name', 'country_iso_code', 'country_idb_code', 'region_type',\n",
       "       'population', 'timezone', 'month', 'day', 'dow', 'ratio_20', 'tci'],\n",
       "      dtype='object')"
      ]
     },
     "execution_count": 8,
     "metadata": {},
     "output_type": "execute_result"
    }
   ],
   "source": [
    "read_data(path = \"~/private/tests/private_daily.csv\")"
   ]
  },
  {
   "cell_type": "code",
   "execution_count": 7,
   "metadata": {},
   "outputs": [
    {
     "name": "stdout",
     "output_type": "stream",
     "text": [
      "(36288, 18)\n",
      "['2021-02-09 04:04:03.197']\n",
      "18\n"
     ]
    },
    {
     "data": {
      "text/plain": [
       "Index(['last_updated_utc', 'region_slug', 'region_name', 'country_name',\n",
       "       'country_iso_code', 'country_idb_code', 'region_type', 'population',\n",
       "       'timezone', 'year', 'month', 'day', 'dow', 'observed', 'expected_2020',\n",
       "       'ratio_20', 'tcp', 'dashboard'],\n",
       "      dtype='object')"
      ]
     },
     "execution_count": 7,
     "metadata": {},
     "output_type": "execute_result"
    }
   ],
   "source": [
    "read_data(path = \"~/shared/spd-sdv-omitnik-waze/corona/prod/private/daily/write_index/daily.csv\")"
   ]
  },
  {
   "cell_type": "code",
   "execution_count": 9,
   "metadata": {},
   "outputs": [
    {
     "name": "stdout",
     "output_type": "stream",
     "text": [
      "(39312, 20)\n",
      "['2021-02-09 04:03:37.260']\n",
      "20\n"
     ]
    },
    {
     "data": {
      "text/plain": [
       "Index(['last_updated_utc', 'region_slug', 'region_name', 'country_name',\n",
       "       'country_iso_code', 'country_idb_code', 'region_type', 'population',\n",
       "       'timezone', 'week_number', 'min_year', 'min_month', 'min_day',\n",
       "       'max_month', 'max_day', 'observed', 'expected_2020', 'ratio_20', 'tcp',\n",
       "       'dashboard'],\n",
       "      dtype='object')"
      ]
     },
     "execution_count": 9,
     "metadata": {},
     "output_type": "execute_result"
    }
   ],
   "source": [
    "read_data(path = \"~/shared/spd-sdv-omitnik-waze/corona/prod/private/daily/write_index/weekly.csv\")"
   ]
  },
  {
   "cell_type": "code",
   "execution_count": null,
   "metadata": {},
   "outputs": [],
   "source": []
  },
  {
   "cell_type": "code",
   "execution_count": null,
   "metadata": {},
   "outputs": [],
   "source": []
  },
  {
   "cell_type": "code",
   "execution_count": null,
   "metadata": {},
   "outputs": [],
   "source": []
  },
  {
   "cell_type": "code",
   "execution_count": null,
   "metadata": {},
   "outputs": [],
   "source": []
  }
 ],
 "metadata": {
  "kernelspec": {
   "display_name": "IDB-IDB-Invest-Coronavirus-Impact-Dashboard",
   "language": "python",
   "name": "idb-idb-invest-coronavirus-impact-dashboard"
  },
  "language_info": {
   "codemirror_mode": {
    "name": "ipython",
    "version": 3
   },
   "file_extension": ".py",
   "mimetype": "text/x-python",
   "name": "python",
   "nbconvert_exporter": "python",
   "pygments_lexer": "ipython3",
   "version": "3.7.9"
  }
 },
 "nbformat": 4,
 "nbformat_minor": 2
}
