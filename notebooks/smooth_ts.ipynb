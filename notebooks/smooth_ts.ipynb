{
 "cells": [
  {
   "cell_type": "markdown",
   "metadata": {},
   "source": [
    "# Cleaning anomalies in time series per region slug\n",
    "\n"
   ]
  },
  {
   "cell_type": "markdown",
   "metadata": {},
   "source": [
    "## Load  libraries"
   ]
  },
  {
   "cell_type": "code",
   "execution_count": 3,
   "metadata": {},
   "outputs": [],
   "source": [
    "# %load first_cell.py\n",
    "%reload_ext autoreload\n",
    "%autoreload 2\n",
    "from pathlib import Path\n",
    "home = str(Path.home())\n",
    "\n",
    "import sys\n",
    "sys.path = sys.path + [f'{home}/.conda/envs/norm_env/lib/python37.zip', \n",
    "                       f'{home}/.conda/envs/norm_env/lib/python3.7', \n",
    "                       f'{home}/.conda/envs/norm_env/lib/python3.7/lib-dynload', \n",
    "                       f'{home}/.conda/envs/norm_env/lib/python3.7/site-packages']\n",
    "sys.prefix = '/home/soniame/.conda/envs/norm_env'\n",
    "\n",
    "from paths import RAW_PATH, TREAT_PATH, OUTPUT_PATH, FIGURES_PATH"
   ]
  },
  {
   "cell_type": "code",
   "execution_count": 4,
   "metadata": {},
   "outputs": [],
   "source": [
    "import pandas as pd"
   ]
  },
  {
   "cell_type": "markdown",
   "metadata": {},
   "source": [
    "#### Run single"
   ]
  },
  {
   "cell_type": "code",
   "execution_count": null,
   "metadata": {},
   "outputs": [],
   "source": [
    "from src.runners.clean import _run_single "
   ]
  },
  {
   "cell_type": "code",
   "execution_count": null,
   "metadata": {},
   "outputs": [],
   "source": [
    "daily, weekly = _run_single(region_slug='aguascalientes', \n",
    "                            anomaly_vote_minimun_s1=1, \n",
    "                            anomaly_vote_minimun_s2=1, \n",
    "                            c_metric = 'max', \n",
    "                            print_report = False, \n",
    "                            print_plot = False)"
   ]
  },
  {
   "cell_type": "code",
   "execution_count": null,
   "metadata": {},
   "outputs": [],
   "source": [
    "#daily[daily.date > '2020-05-19']"
   ]
  },
  {
   "cell_type": "code",
   "execution_count": null,
   "metadata": {},
   "outputs": [],
   "source": [
    "import plotnine as p9\n",
    "p9.theme_set(p9.theme_linedraw()) # default theme"
   ]
  },
  {
   "cell_type": "code",
   "execution_count": null,
   "metadata": {},
   "outputs": [],
   "source": [
    "daily.head(3)\n",
    "gg = (p9.ggplot(daily[daily.date > '2021-01-01'], p9.aes(x = 'date', y='tcp')) \n",
    " + p9.geom_line(size= 1, alpha = .7)\n",
    " + p9.geom_line(p9.aes( y='tcp_clean'), color = 'red', size= 1, alpha = .7)\n",
    " + p9.theme(figure_size=(6, 3),\n",
    "            axis_text_x=p9.element_text(size = 7)) )\n",
    "gg "
   ]
  },
  {
   "cell_type": "code",
   "execution_count": null,
   "metadata": {},
   "outputs": [],
   "source": [
    "daily.head(3)\n",
    "gg = (p9.ggplot(daily, p9.aes(x = 'date', y='tcp')) \n",
    " + p9.geom_line(size= 1, alpha = .7)\n",
    " + p9.theme(figure_size=(6, 3),\n",
    "            axis_text_x=p9.element_text(size = 7)) )\n",
    "gg "
   ]
  },
  {
   "cell_type": "code",
   "execution_count": null,
   "metadata": {
    "scrolled": true
   },
   "outputs": [],
   "source": [
    "weekly.head(3)\n",
    "gg = (p9.ggplot(weekly[weekly.date_min > '2021-01-01'], p9.aes(x = 'date_min', y='tcp')) \n",
    " + p9.geom_line() \n",
    " + p9.geom_line(p9.aes( y='tcp_clean'), color = 'red')\n",
    " + p9.theme(figure_size=(6, 3),\n",
    "            axis_text_x=p9.element_text(size = 7)) )\n",
    "gg"
   ]
  },
  {
   "cell_type": "code",
   "execution_count": null,
   "metadata": {},
   "outputs": [],
   "source": [
    "print(daily.date.min())\n",
    "print(daily.date.max())\n",
    "print(weekly.week.max())"
   ]
  },
  {
   "cell_type": "markdown",
   "metadata": {},
   "source": [
    "#### Run by batch"
   ]
  },
  {
   "cell_type": "code",
   "execution_count": null,
   "metadata": {},
   "outputs": [],
   "source": [
    "from src.runners.clean import _run_batch "
   ]
  },
  {
   "cell_type": "code",
   "execution_count": null,
   "metadata": {},
   "outputs": [],
   "source": [
    "_run_batch(athena_path = \"/home/soniame/shared/spd-sdv-omitnik-waze/corona\", \n",
    "          c_metric = 'max',\n",
    "          f_metric = 20)"
   ]
  },
  {
   "cell_type": "code",
   "execution_count": null,
   "metadata": {},
   "outputs": [],
   "source": []
  },
  {
   "cell_type": "markdown",
   "metadata": {},
   "source": [
    "## Results Batch"
   ]
  },
  {
   "cell_type": "code",
   "execution_count": null,
   "metadata": {},
   "outputs": [],
   "source": [
    "import pandas as pd\n",
    "from siuba import *"
   ]
  },
  {
   "cell_type": "code",
   "execution_count": null,
   "metadata": {},
   "outputs": [],
   "source": []
  },
  {
   "cell_type": "markdown",
   "metadata": {},
   "source": [
    "### Daily"
   ]
  },
  {
   "cell_type": "markdown",
   "metadata": {},
   "source": [
    "#### Experiments of parameters"
   ]
  },
  {
   "cell_type": "markdown",
   "metadata": {},
   "source": [
    "Experiments with different parameters to test level shift and outliers"
   ]
  },
  {
   "cell_type": "code",
   "execution_count": null,
   "metadata": {},
   "outputs": [],
   "source": [
    "df_list = list()\n",
    "for k in range(7):\n",
    "    file = ['ls1', 'ls4', 'ls10', 'ls15', 'ls20', 'ls100', 'lsmix'][k]\n",
    "    print(file)\n",
    "    metric = ['', '_ls_4X', '_ls_10X', '_ls_15X', '_ls_20X', '_ls_OFF', '_ls_MIX'][k]\n",
    "    \n",
    "    df = pd.read_csv(f\"/home/soniame/shared/spd-sdv-omitnik-waze/corona/cleaning/daily/daily_daily_index_max_{file}.csv\")\n",
    "    df = df[['date', 'region_slug', 'tci_observed', 'tcp_observed', 'tci_clean', 'tcp_clean']] \\\n",
    "        .rename(columns = {'tci_clean':f'tci_cleaned{metric}', \n",
    "                           'tcp_clean':f'tcp_cleaned{metric}'}) \n",
    "    print(df.shape)\n",
    "    df_list.append(df)\n",
    "    \n",
    "from functools import reduce\n",
    "df_union = reduce(lambda x, y: pd.merge(x, y, on = ['date', 'region_slug', 'tci_observed', 'tcp_observed']), df_list)\n",
    "print(df_union.shape)\n",
    "print(df_union.date.max())\n",
    "df_union.head(2)    "
   ]
  },
  {
   "cell_type": "markdown",
   "metadata": {},
   "source": [
    "#### Export to csv"
   ]
  },
  {
   "cell_type": "code",
   "execution_count": null,
   "metadata": {},
   "outputs": [],
   "source": [
    "df_union.describe()"
   ]
  },
  {
   "cell_type": "code",
   "execution_count": null,
   "metadata": {},
   "outputs": [],
   "source": [
    "df_union.to_csv(\"/home/soniame/private/daily_index_index.csv\", index=False)"
   ]
  },
  {
   "cell_type": "code",
   "execution_count": null,
   "metadata": {},
   "outputs": [],
   "source": [
    "#print(df_union.date.max())\n",
    "#df_union[df_union.region_slug == 'lima'].tail()"
   ]
  },
  {
   "cell_type": "code",
   "execution_count": null,
   "metadata": {},
   "outputs": [],
   "source": [
    "import plotnine as p9\n",
    "gg = (p9.ggplot(df_union[df_union.region_slug == 'country_mexico'],\n",
    "                    p9.aes(x = 'date', y='tci_observed', group = 'region_slug')) \n",
    " + p9.geom_line() \n",
    " + p9.geom_line(p9.aes(y = 'tci_cleaned'), color = 'gray')\n",
    " + p9.geom_line(p9.aes(y = 'tci_cleaned_ls_20X'), color = 'red')\n",
    " + p9.geom_line(p9.aes(y = 'tci_cleaned_ls_4X'), color = 'blue')\n",
    " + p9.geom_line(p9.aes(y = 'tci_cleaned_ls_OFF'), color = 'green')\n",
    " + p9.geom_line(p9.aes(y = 'tci_cleaned_ls_MIX'), color = 'orange')\n",
    " + p9.geom_line(p9.aes( y='tci_cleaned'), color = 'blue'))\n",
    "#gg"
   ]
  },
  {
   "cell_type": "code",
   "execution_count": null,
   "metadata": {},
   "outputs": [],
   "source": []
  },
  {
   "cell_type": "markdown",
   "metadata": {},
   "source": [
    "#### Athena historic"
   ]
  },
  {
   "cell_type": "code",
   "execution_count": 7,
   "metadata": {},
   "outputs": [],
   "source": [
    "df_union_daily = pd.read_csv(\"/home/soniame/private/daily_index_index-202105.csv\", index_col=0) \\\n",
    "    [['date', 'region_slug', \n",
    "      'tci_observed', 'tcp_observed', \n",
    "      'tci_cleaned_ls_20X', 'tcp_cleaned_ls_20X']] \\\n",
    "    .rename(columns = {'tci_cleaned_ls_20X':'tci_smoothed', \n",
    "                       'tcp_cleaned_ls_20X':'tcp_smoothed'}) \n",
    "#df_union_weekly.head(2)\n",
    "\n",
    "import boto3\n",
    "import awswrangler as wr\n",
    "from src import utils\n",
    "conn = utils.connect_athena(path='../configs/athena.yaml')\n",
    "\n",
    "s3_path = \"s3://iadbprod-public-stata-as-a-service/spd-sdv-omitnik-waze/corona\"\n",
    "res = wr.s3.to_parquet(\n",
    "        df=df_union_daily,\n",
    "        path=f\"{s3_path}/athena/prod/smooth/prod_daily_daily_smooth_historical\",\n",
    "        dataset=True,\n",
    "        database='spd_sdv_waze_corona',\n",
    "        table='prod_daily_daily_smooth_historical',\n",
    "        mode=\"overwrite\",\n",
    "        boto3_session=boto3.Session(region_name=\"us-east-1\"),\n",
    "    )"
   ]
  },
  {
   "cell_type": "code",
   "execution_count": null,
   "metadata": {},
   "outputs": [],
   "source": []
  },
  {
   "cell_type": "markdown",
   "metadata": {},
   "source": [
    "#### Export update \n"
   ]
  },
  {
   "cell_type": "code",
   "execution_count": null,
   "metadata": {},
   "outputs": [],
   "source": [
    "df_prev = pd.read_sql_query(f\"\"\"\n",
    "    select \n",
    "        date, region_slug, tci_observed, tcp_observed,  tci_smooth, tcp_smooth\n",
    "    from spd_sdv_waze_corona.prod_daily_daily_smooth_historical\"\"\", conn)\n",
    "df_new = pd.read_csv(f\"/home/soniame/shared/spd-sdv-omitnik-waze/corona/cleaning/daily/daily_daily_index_max_ls20.csv\")\n",
    "df_new = df_new[df_new.date > df_prev.date.max()][['date', 'region_slug', \n",
    "                                        'tci_observed', 'tcp_observed', \n",
    "                                        'tcp_smooth', 'tci_smooth']]\n",
    "\n",
    "df_daily_update = pd.concat([df_prev, df_new])\n",
    "df_daily_update.to_csv(\"/home/soniame/private/daily_index_index_update.csv\", index=False)\n",
    "df_daily_update.head(2)\n",
    "\n",
    "print(df_daily_update.date.max())\n",
    "print(df_prev.date.max())\n",
    "print(df_new.date.max())"
   ]
  },
  {
   "cell_type": "code",
   "execution_count": null,
   "metadata": {},
   "outputs": [],
   "source": [
    "import plotnine as p9\n",
    "gg = (p9.ggplot(df_daily_update[df_daily_update.region_slug == 'buenosaires'],\n",
    "                    p9.aes(x = 'date', y='tci_observed', group = 'region_slug')) \n",
    " + p9.geom_line() \n",
    " + p9.geom_line(p9.aes(y = 'tci_smooth'), color = 'red'))\n",
    "#gg"
   ]
  },
  {
   "cell_type": "markdown",
   "metadata": {},
   "source": [
    "#### Long format"
   ]
  },
  {
   "cell_type": "code",
   "execution_count": null,
   "metadata": {},
   "outputs": [],
   "source": [
    "from siuba import *\n",
    "df_update_long = (df_daily_update \n",
    " >> gather('measure', 'value', _[\"tci_observed\":\"tcp_smooth\"])\n",
    ")\n",
    "df_update_long['type'] = 'TCP'\n",
    "tci_exist = df_update_long['measure'].isin(['tci_observed',  'tci_smoothed'])\n",
    "df_update_long['type'][tci_exist] = 'TCI'\n",
    "\n",
    "df_prev_long = pd.read_csv(f\"/home/soniame/private/daily_daily_index_long-202105.csv\", index_col=0)\n",
    "df_prev_long = df_prev_long[df_prev_long.measure.isin(['tci_observed',  'tcp_observed', 'tci_cleaned', 'tcp_cleaned']) == False]\n",
    "\n",
    "print(df_prev_long.measure.unique())\n",
    "\n",
    "df_daily_long = pd.concat([df_prev_long, df_update_long])\n",
    "df_daily_long.measure.unique()"
   ]
  },
  {
   "cell_type": "code",
   "execution_count": null,
   "metadata": {},
   "outputs": [],
   "source": [
    "df_daily_long.to_csv(\"/home/soniame/private/daily_daily_index_long.csv\")"
   ]
  },
  {
   "cell_type": "code",
   "execution_count": null,
   "metadata": {},
   "outputs": [],
   "source": [
    "gg = (p9.ggplot(df_daily_long[df_daily_long.region_slug == 'country_argentina'],\n",
    "                    p9.aes(x = 'date', y='value', \n",
    "                           colour = 'measure', group = 'measure')) \n",
    " + p9.geom_line() )\n",
    "#gg"
   ]
  },
  {
   "cell_type": "code",
   "execution_count": null,
   "metadata": {},
   "outputs": [],
   "source": [
    "df_daily_long.head()"
   ]
  },
  {
   "cell_type": "code",
   "execution_count": null,
   "metadata": {},
   "outputs": [],
   "source": [
    "gg = (p9.ggplot(df_daily_long[(df_daily_long.region_slug == 'country_peru') & \n",
    "                              (df_daily_long.type == 'TCI') & \n",
    "                              (df_daily_long.date > '2021-02-01') &\n",
    "                              (df_daily_long.measure.isin(['tci_observed', 'tci_smoothed']))],\n",
    "                    p9.aes(x = 'date', y='value', \n",
    "                           colour = 'measure', group = 'measure')) \n",
    " + p9.geom_line()\n",
    " + p9.facet_wrap('region_slug')\n",
    " + p9.theme(axis_text_x=p9.element_text(angle=90),\n",
    "                figure_size=(10, 5) )\n",
    ")\n",
    "gg"
   ]
  },
  {
   "cell_type": "code",
   "execution_count": null,
   "metadata": {},
   "outputs": [],
   "source": []
  },
  {
   "cell_type": "markdown",
   "metadata": {},
   "source": [
    "### Weekly"
   ]
  },
  {
   "cell_type": "markdown",
   "metadata": {},
   "source": [
    "#### Experiments of parameters"
   ]
  },
  {
   "cell_type": "code",
   "execution_count": null,
   "metadata": {},
   "outputs": [],
   "source": [
    "df_list = list()\n",
    "for k in range(7):\n",
    "    file = ['ls1', 'ls4', 'ls10', 'ls15', 'ls20', 'ls100', 'lsmix'][k]\n",
    "    print(file)\n",
    "    metric = ['', '_ls_4X', '_ls_10X', '_ls_15X', '_ls_20X', '_ls_OFF', '_ls_MIX'][k]\n",
    "    \n",
    "    df = pd.read_csv(f\"/home/soniame/shared/spd-sdv-omitnik-waze/corona/cleaning/weekly/weekly_weekly_index_max_{file}.csv\")\n",
    "    df = df[['week', 'days_num', 'date_min', 'region_slug', \n",
    "             'tci_observed', 'tcp_observed', 'tci_clean', 'tcp_clean']] \\\n",
    "        .rename(columns = {'tci_clean':f'tci_cleaned{metric}', \n",
    "                           'tcp_clean':f'tcp_cleaned{metric}'}) \n",
    "    print(df.shape)\n",
    "    df_list.append(df)\n",
    "    \n",
    "from functools import reduce\n",
    "df_union = reduce(lambda x, y: pd.merge(x, y, on = ['week', 'days_num', 'region_slug', 'date_min', 'tci_observed', 'tcp_observed']), df_list)\n",
    "print(df_union.shape)\n",
    "df_union.head(2)    "
   ]
  },
  {
   "cell_type": "markdown",
   "metadata": {},
   "source": [
    "##### Long format experiments"
   ]
  },
  {
   "cell_type": "code",
   "execution_count": null,
   "metadata": {},
   "outputs": [],
   "source": [
    "df_weekly = pd.read_csv(\"/home/soniame/private/weekly_weekly_index.csv\")\n",
    "df_weekly.head(2)"
   ]
  },
  {
   "cell_type": "code",
   "execution_count": null,
   "metadata": {},
   "outputs": [],
   "source": [
    "df_weekly_long = (df_weekly \n",
    " >> select('week', 'days_num', 'date_min', 'region_slug', \n",
    "           'tci_observed',  'tci_cleaned', \n",
    "           'tci_cleaned_ls_4X', 'tci_cleaned_ls_20X',\n",
    "           'tci_cleaned_ls_10X', 'tci_cleaned_ls_15X',\n",
    "           'tci_cleaned_ls_OFF', 'tci_cleaned_ls_MIX',\n",
    "           'tcp_observed', 'tcp_cleaned', \n",
    "           'tcp_cleaned_ls_4X', 'tcp_cleaned_ls_20X', \n",
    "           'tci_cleaned_ls_10X', 'tci_cleaned_ls_15X',\n",
    "           'tcp_cleaned_ls_OFF', 'tcp_cleaned_ls_MIX')\n",
    " >> gather('measure', 'value', _[\"tci_observed\":\"tcp_cleaned_ls_MIX\"])\n",
    " >> mutate(type = 'TCP')\n",
    ")\n",
    "tci_exist = df_weekly_long['measure'].isin(['tci_observed',  'tci_cleaned', \n",
    "           'tci_cleaned_ls_4X', 'tci_cleaned_ls_20X', \n",
    "           'tci_cleaned_ls_10X', 'tci_cleaned_ls_15X',\n",
    "           'tci_cleaned_ls_OFF', 'tci_cleaned_ls_MIX'])\n",
    "df_weekly_long['type'][tci_exist] = 'TCI'\n",
    "\n",
    "print(df_weekly_long.type.unique())\n",
    "print(df_weekly_long.measure.unique())\n",
    "head(df_weekly_long)"
   ]
  },
  {
   "cell_type": "code",
   "execution_count": null,
   "metadata": {},
   "outputs": [],
   "source": [
    "#df_weekly_long.to_csv(\"/home/soniame/private/weekly_weekly_index_long-202105.csv\")"
   ]
  },
  {
   "cell_type": "markdown",
   "metadata": {},
   "source": [
    "#### Export to csv"
   ]
  },
  {
   "cell_type": "code",
   "execution_count": null,
   "metadata": {},
   "outputs": [],
   "source": [
    "df_union.describe()"
   ]
  },
  {
   "cell_type": "code",
   "execution_count": null,
   "metadata": {},
   "outputs": [],
   "source": [
    "print(df_union.week.max())\n",
    "print(df_union.date_min.max())\n",
    "df_union.head()"
   ]
  },
  {
   "cell_type": "code",
   "execution_count": null,
   "metadata": {},
   "outputs": [],
   "source": [
    "df_union.to_csv(\"/home/soniame/private/weekly_weekly_index.csv\", index=False)"
   ]
  },
  {
   "cell_type": "code",
   "execution_count": null,
   "metadata": {},
   "outputs": [],
   "source": [
    "gg = (p9.ggplot(df_union[df_union.region_slug == 'kingston'],\n",
    "                    p9.aes(x = 'week', y='tci_observed', group = 'region_slug')) \n",
    " + p9.geom_line() \n",
    " + p9.geom_line(p9.aes( y='tci_cleaned'), color = 'blue'))\n",
    "#gg"
   ]
  },
  {
   "cell_type": "code",
   "execution_count": null,
   "metadata": {},
   "outputs": [],
   "source": []
  },
  {
   "cell_type": "markdown",
   "metadata": {},
   "source": [
    "#### Athena historic"
   ]
  },
  {
   "cell_type": "code",
   "execution_count": 8,
   "metadata": {},
   "outputs": [],
   "source": [
    "df_union_weekly = pd.read_csv(\"/home/soniame/private/weekly_weekly_index-202105.csv\", index_col=0) \\\n",
    "    [['date_min', 'region_slug', \n",
    "      'tci_observed', 'tcp_observed', \n",
    "      'tci_cleaned_ls_20X', 'tcp_cleaned_ls_20X']] \\\n",
    "    .rename(columns = {'tci_cleaned_ls_20X':'tci_smoothed', \n",
    "                       'tcp_cleaned_ls_20X':'tcp_smoothed'}) \n",
    "#df_union_weekly.head(2)\n",
    "\n",
    "import boto3\n",
    "import awswrangler as wr\n",
    "from src import utils\n",
    "conn = utils.connect_athena(path='../configs/athena.yaml')\n",
    "\n",
    "s3_path = \"s3://iadbprod-public-stata-as-a-service/spd-sdv-omitnik-waze/corona\"\n",
    "res = wr.s3.to_parquet(\n",
    "        df=df_union_weekly,\n",
    "        path=f\"{s3_path}/athena/prod/smooth/prod_daily_weekly_smooth_historical\",\n",
    "        dataset=True,\n",
    "        database='spd_sdv_waze_corona',\n",
    "        table='prod_daily_weekly_smooth_historical',\n",
    "        mode=\"overwrite\",\n",
    "        boto3_session=boto3.Session(region_name=\"us-east-1\"),\n",
    "    )"
   ]
  },
  {
   "cell_type": "code",
   "execution_count": null,
   "metadata": {},
   "outputs": [],
   "source": []
  },
  {
   "cell_type": "markdown",
   "metadata": {},
   "source": [
    "#### Export update"
   ]
  },
  {
   "cell_type": "code",
   "execution_count": null,
   "metadata": {},
   "outputs": [],
   "source": [
    "df_prev = pd.read_sql_query(f\"\"\"\n",
    "    select \n",
    "        date_min, region_slug, tci_observed, tcp_observed,  tci_smooth, tcp_smooth\n",
    "    from spd_sdv_waze_corona.prod_daily_weekly_smooth_historical\"\"\", conn)\n",
    "\n",
    "df_prev.date_min.max()\n",
    "df_prev.head(2)\n",
    "\n",
    "df_new = pd.read_csv(f\"/home/soniame/shared/spd-sdv-omitnik-waze/corona/cleaning/weekly/weekly_weekly_index_max_ls20.csv\")\n",
    "df_new = df_new[df_new.date_min > df_prev.date_min.max()][['date_min', 'region_slug', \n",
    "                                        'tci_observed', 'tcp_observed', \n",
    "                                        'tcp_clean', 'tci_clean']] \\\n",
    "    .rename(columns = {'tcp_clean':'tcp_smooth', 'tci_clean':'tci_smooth'})\n",
    "df_new.head(2)\n",
    "\n",
    "df_weekly_update = pd.concat([df_prev, df_new])\n",
    "df_weekly_update.to_csv(\"/home/soniame/private/weekly_index_index_update.csv\", index=False)\n",
    "df_weekly_update.head(2)\n",
    "\n",
    "print(df_weekly_update.date_min.max())\n",
    "print(df_prev.date_min.max())\n",
    "print(df_new.date_min.max())"
   ]
  },
  {
   "cell_type": "code",
   "execution_count": null,
   "metadata": {},
   "outputs": [],
   "source": [
    "import plotnine as p9\n",
    "gg = (p9.ggplot(df_weekly_update[df_weekly_update.region_slug == 'country_argentina'],\n",
    "                    p9.aes(x = 'date_min', y='tci_observed', group = 'region_slug')) \n",
    " + p9.geom_line() \n",
    " + p9.geom_line(p9.aes(y = 'tci_smooth'), color = 'red'))\n",
    "#gg"
   ]
  },
  {
   "cell_type": "code",
   "execution_count": null,
   "metadata": {},
   "outputs": [],
   "source": []
  },
  {
   "cell_type": "markdown",
   "metadata": {},
   "source": [
    "#### Long format "
   ]
  },
  {
   "cell_type": "code",
   "execution_count": null,
   "metadata": {},
   "outputs": [],
   "source": [
    "from siuba import *\n",
    "df_update_long = (df_weekly_update \n",
    " >> gather('measure', 'value', _[\"tci_observed\":\"tcp_smooth\"])\n",
    ")\n",
    "\n",
    "df_update_long\n",
    "df_update_long['type'] = 'TCP'\n",
    "tci_exist = df_update_long['measure'].isin(['tci_observed',  'tci_smooth'])\n",
    "df_update_long['type'][tci_exist] = 'TCI'\n",
    "\n",
    "#df_update_long.head()\n",
    "df_prev_long = pd.read_csv(f\"/home/soniame/private/weekly_weekly_index_long-202105.csv\", index_col=0)\n",
    "df_prev_long = df_prev_long[df_prev_long.measure.isin(['tci_observed',  'tcp_observed', 'tci_cleaned', 'tcp_cleaned']) == False]\n",
    "print(df_prev_long.measure.unique())\n",
    "\n",
    "df_weekly_long = pd.concat([df_prev_long, df_update_long])\n",
    "df_weekly_long.measure.unique()"
   ]
  },
  {
   "cell_type": "code",
   "execution_count": null,
   "metadata": {},
   "outputs": [],
   "source": [
    "df_weekly_long.to_csv(\"/home/soniame/private/weekly_weekly_index_long.csv\")"
   ]
  },
  {
   "cell_type": "code",
   "execution_count": null,
   "metadata": {},
   "outputs": [],
   "source": [
    "gg = (p9.ggplot(df_weekly_long[df_weekly_long.region_slug == 'country_argentina'],\n",
    "                    p9.aes(x = 'date_min', y='value', \n",
    "                           colour = 'measure', group = 'measure')) \n",
    " + p9.geom_line() )\n",
    "#gg"
   ]
  },
  {
   "cell_type": "code",
   "execution_count": null,
   "metadata": {},
   "outputs": [],
   "source": [
    "gg = (p9.ggplot(df_weekly_long[(df_weekly_long.region_slug == 'country_argentina') & \n",
    "                              (df_weekly_long.type == 'TCI') & \n",
    "                              (df_weekly_long.date_min > '2021-02-01') &\n",
    "                              (df_weekly_long.measure.isin(['tci_observed', 'tci_smooth']))],\n",
    "                    p9.aes(x = 'date_min', y='value', \n",
    "                           colour = 'measure', group = 'measure')) \n",
    " + p9.geom_line()\n",
    " + p9.theme(axis_text_x=p9.element_text(angle=90),\n",
    "                figure_size=(8, 6) )\n",
    ")\n",
    "gg"
   ]
  },
  {
   "cell_type": "code",
   "execution_count": null,
   "metadata": {},
   "outputs": [],
   "source": []
  }
 ],
 "metadata": {
  "kernelspec": {
   "display_name": "IDB-IDB-Invest-Coronavirus-Impact-Dashboard",
   "language": "python",
   "name": "idb-idb-invest-coronavirus-impact-dashboard"
  },
  "language_info": {
   "codemirror_mode": {
    "name": "ipython",
    "version": 3
   },
   "file_extension": ".py",
   "mimetype": "text/x-python",
   "name": "python",
   "nbconvert_exporter": "python",
   "pygments_lexer": "ipython3",
   "version": "3.7.10"
  },
  "toc": {
   "base_numbering": 1,
   "nav_menu": {},
   "number_sections": true,
   "sideBar": true,
   "skip_h1_title": false,
   "title_cell": "Table of Contents",
   "title_sidebar": "Contents",
   "toc_cell": false,
   "toc_position": {
    "height": "calc(100% - 180px)",
    "left": "10px",
    "top": "150px",
    "width": "201px"
   },
   "toc_section_display": true,
   "toc_window_display": true
  }
 },
 "nbformat": 4,
 "nbformat_minor": 2
}
