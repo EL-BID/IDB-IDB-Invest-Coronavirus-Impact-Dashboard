{
 "cells": [
  {
   "cell_type": "markdown",
   "metadata": {},
   "source": [
    "# Split lines into grid"
   ]
  },
  {
   "cell_type": "code",
   "execution_count": 2,
   "metadata": {},
   "outputs": [
    {
     "data": {
      "text/plain": [
       "'202109101909'"
      ]
     },
     "execution_count": 2,
     "metadata": {},
     "output_type": "execute_result"
    }
   ],
   "source": [
    "# %load first_cell.py\n",
    "%reload_ext autoreload\n",
    "%autoreload 2\n",
    "from pathlib import Path\n",
    "import os\n",
    "\n",
    "# system paths\n",
    "import sys\n",
    "home = str(Path.home())\n",
    "sys.path = sys.path + [f'{home}/.conda/envs/norm_env/lib/python37.zip', \n",
    "                       f'{home}/.conda/envs/norm_env/lib/python3.7', \n",
    "                       f'{home}/.conda/envs/norm_env/lib/python3.7/lib-dynload', \n",
    "                       f'{home}/.conda/envs/norm_env/lib/python3.7/site-packages']\n",
    "sys.prefix = '/home/soniame/.conda/envs/norm_env'\n",
    "from paths import RAW_PATH, TREAT_PATH, OUTPUT_PATH, FIGURES_PATH\n",
    "\n",
    "# aws connection*\n",
    "import boto3\n",
    "import awswrangler as wr\n",
    "\n",
    "# local libraries\n",
    "from src import utils\n",
    "\n",
    "# analysis libraries\n",
    "from datetime import datetime, timedelta\n",
    "import pandas as pd\n",
    "import numpy as np\n",
    "import geopandas as gpd\n",
    "import random\n",
    "import itertools\n",
    "\n",
    "import matplotlib.pyplot as plt\n",
    "\n",
    "from shapely.geometry import box, Polygon, MultiPolygon, LineString, GeometryCollection, shape\n",
    "from shapely import wkt\n",
    "from shapely.ops import transform\n",
    "from babelgrid import Babel\n",
    "\n",
    "from multiprocessing.pool import Pool\n",
    "from functools import partial\n",
    "\n",
    "from loguru import logger\n",
    "\n",
    "cm = str(datetime.today().strftime(\"%Y%m%d%H%m\"))\n",
    "cm"
   ]
  },
  {
   "cell_type": "code",
   "execution_count": null,
   "metadata": {},
   "outputs": [],
   "source": []
  },
  {
   "cell_type": "markdown",
   "metadata": {},
   "source": [
    "## Sample dates\n",
    "\n",
    "Executing 50 dates to sample from jams data set"
   ]
  },
  {
   "cell_type": "code",
   "execution_count": null,
   "metadata": {},
   "outputs": [],
   "source": [
    "from src.runners.sample_jams import _sample_dates"
   ]
  },
  {
   "cell_type": "code",
   "execution_count": null,
   "metadata": {},
   "outputs": [],
   "source": [
    "df = _sample_dates(start_date = '2019-01-01', end_date = '2021-08-12')"
   ]
  },
  {
   "cell_type": "code",
   "execution_count": null,
   "metadata": {},
   "outputs": [],
   "source": [
    "print(df.date_filter[0])"
   ]
  },
  {
   "cell_type": "code",
   "execution_count": null,
   "metadata": {},
   "outputs": [],
   "source": []
  },
  {
   "cell_type": "markdown",
   "metadata": {},
   "source": [
    "## Sample lines counts\n",
    "\n",
    "Run a query to download unique lines and number of appearance. \n",
    "\n",
    "- Lines 21,904,128\n",
    "- Jams 507,139,112\n",
    "- 50 weekdays sampled\n",
    "\n",
    "Data is split in 6 groups to run each intersection with grids. Function `_split_groups()`. Each split contains 3,650,688 lines."
   ]
  },
  {
   "cell_type": "code",
   "execution_count": 3,
   "metadata": {},
   "outputs": [],
   "source": [
    "from src.runners.split_polygon import _get_lines"
   ]
  },
  {
   "cell_type": "code",
   "execution_count": null,
   "metadata": {},
   "outputs": [],
   "source": [
    "df_lines = _get_lines(update_data = False)"
   ]
  },
  {
   "cell_type": "code",
   "execution_count": null,
   "metadata": {},
   "outputs": [],
   "source": [
    "print(df_lines.shape)\n",
    "print(sum(df_lines.count_lines))\n",
    "df_lines.head(3)"
   ]
  },
  {
   "cell_type": "code",
   "execution_count": null,
   "metadata": {},
   "outputs": [],
   "source": [
    "from siuba import group_by, summarize, _\n",
    "(df_lines\n",
    "  >> group_by(_.split)\n",
    "  >> summarize(lines = _.line_wkt.count())\n",
    "  )"
   ]
  },
  {
   "cell_type": "code",
   "execution_count": null,
   "metadata": {},
   "outputs": [],
   "source": []
  },
  {
   "cell_type": "code",
   "execution_count": null,
   "metadata": {},
   "outputs": [],
   "source": []
  },
  {
   "cell_type": "markdown",
   "metadata": {},
   "source": [
    "## Coarse grid split"
   ]
  },
  {
   "cell_type": "code",
   "execution_count": null,
   "metadata": {},
   "outputs": [],
   "source": [
    "from src.runners import split_polygon"
   ]
  },
  {
   "cell_type": "code",
   "execution_count": null,
   "metadata": {
    "scrolled": true
   },
   "outputs": [],
   "source": [
    "# Plotting H3 cells\n",
    "\n",
    "# H3 cells grid\n",
    "tiles = Babel('h3').polyfill(geometry, resolution=1)\n",
    "# S2 cells grid\n",
    "#tiles = Babel('s2').polyfill(geometry, resolution=4)\n",
    "len(tiles)\n",
    "\n",
    "if False:\n",
    "    tiles_gdf = gpd.GeoDataFrame([t.to_dict() for t in tiles], geometry='shapely')\n",
    "    df = tiles_gdf\n",
    "    m = folium.Map(location=[40.70, -73.94], zoom_start=2, tiles='CartoDB positron')\n",
    "    for _, r in df.iterrows():\n",
    "        # Without simplifying the representation of each borough,\n",
    "        # the map might not be displayed\n",
    "        sim_geo = gpd.GeoSeries(r['shapely']).simplify(tolerance=0.001)\n",
    "        geo_j = sim_geo.to_json()\n",
    "        geo_j = folium.GeoJson(data=geo_j,\n",
    "                               style_function=lambda x: {'fillColor': 'orange'})\n",
    "        geo_j.add_to(m)\n",
    "    m"
   ]
  },
  {
   "cell_type": "code",
   "execution_count": null,
   "metadata": {},
   "outputs": [],
   "source": [
    "tiles[0].geometry.wkt"
   ]
  },
  {
   "cell_type": "code",
   "execution_count": null,
   "metadata": {},
   "outputs": [],
   "source": [
    "# Run this in 6 separated instances \n",
    "logger.warning('Better to run it from terminal in different instances')\n",
    "# df_coarse_split = _create_coarse_grid(df_lines, tiles, split = )"
   ]
  },
  {
   "cell_type": "code",
   "execution_count": null,
   "metadata": {},
   "outputs": [],
   "source": []
  },
  {
   "cell_type": "markdown",
   "metadata": {},
   "source": [
    "### Coarse grid union\n",
    "\n",
    "Union of results from parallelization in 6 instances. \n",
    "\n",
    "- Cells: 57\n",
    "- Lines: 22,214,341\n",
    "- Run time per instance: 3 hrs."
   ]
  },
  {
   "cell_type": "code",
   "execution_count": null,
   "metadata": {},
   "outputs": [],
   "source": [
    "from src.runners.split_polygon import _coarse_union"
   ]
  },
  {
   "cell_type": "code",
   "execution_count": null,
   "metadata": {},
   "outputs": [],
   "source": [
    "mypath = \"/home/soniame/private/projects/corona_geo_id/coarse_grid/\"\n",
    "csv_files = [os.path.join(mypath, x) for x in os.listdir(mypath)]"
   ]
  },
  {
   "cell_type": "code",
   "execution_count": null,
   "metadata": {},
   "outputs": [],
   "source": [
    "# Sample: union of lines\n",
    "csv_files = ['/home/soniame/private/projects/corona_geo_id/coarse_grid/coarse_id.csv',\n",
    " '/home/soniame/private/projects/corona_geo_id/coarse_grid/coarse_id_new_1.csv',\n",
    " '/home/soniame/private/projects/corona_geo_id/coarse_grid/coarse_id_new_2.csv',\n",
    " '/home/soniame/private/projects/corona_geo_id/coarse_grid/coarse_id_new_3.csv',\n",
    " '/home/soniame/private/projects/corona_geo_id/coarse_grid/coarse_id_new_4.csv',\n",
    " '/home/soniame/private/projects/corona_geo_id/coarse_grid/coarse_id_new_5.csv',\n",
    " '/home/soniame/private/projects/corona_geo_id/coarse_grid/coarse_id_new_6.csv']\n",
    "csv_files\n",
    "df_coarse = _coarse_union(csv_files)"
   ]
  },
  {
   "cell_type": "code",
   "execution_count": null,
   "metadata": {},
   "outputs": [],
   "source": [
    "# Export to csv \n",
    "coarse_path = '/home/soniame/shared/spd-sdv-omitnik-waze/corona/geo_partition/coarse_id/coarse_grid_sample.csv'\n",
    "df_coarse.to_csv(coarse_path, index = False)"
   ]
  },
  {
   "cell_type": "code",
   "execution_count": null,
   "metadata": {},
   "outputs": [],
   "source": []
  },
  {
   "cell_type": "markdown",
   "metadata": {},
   "source": [
    "### Coarse grid distribution"
   ]
  },
  {
   "cell_type": "code",
   "execution_count": null,
   "metadata": {},
   "outputs": [],
   "source": [
    "coarse_path = '/home/soniame/shared/spd-sdv-omitnik-waze/corona/geo_partition/coarse_id/coarse_grid_sample.csv'\n",
    "df_coarse_R1 = pd.read_csv(coarse_path)\n",
    "df_coarse_R1 = df_coarse_R1.rename(columns = {'line':'line_wkt'})"
   ]
  },
  {
   "cell_type": "code",
   "execution_count": null,
   "metadata": {},
   "outputs": [],
   "source": [
    "print(df_coarse_R1.shape)\n",
    "print(df_coarse_R1.coarse_wkt.nunique())\n",
    "print(df_coarse_R1.line_wkt.nunique())\n",
    "# df_coarse_R1.head()"
   ]
  },
  {
   "cell_type": "code",
   "execution_count": null,
   "metadata": {},
   "outputs": [],
   "source": [
    "# Union de coarse y merge con count of jams\n",
    "df_merge = df_coarse_R1.merge(df_lines, how = 'left', on = 'line_wkt')\n",
    "print(df_merge.shape)\n",
    "df_merge.head()"
   ]
  },
  {
   "cell_type": "code",
   "execution_count": null,
   "metadata": {},
   "outputs": [],
   "source": [
    "from siuba import group_by, ungroup, arrange, summarize, _\n",
    "\n",
    "# Table of distribution pero H3 Cell\n",
    "tab = (df_merge\n",
    "  >> group_by(_.coarse_wkt)\n",
    "  >> summarize(lines = _.line_wkt.count(),\n",
    "               jams  = _.count_lines.sum())\n",
    "  >> ungroup()\n",
    "  >> arrange(-_.lines)\n",
    "  )\n",
    "tab.head()"
   ]
  },
  {
   "cell_type": "code",
   "execution_count": null,
   "metadata": {},
   "outputs": [],
   "source": [
    "# Export to csv \n",
    "tab.to_csv('/home/soniame/shared/spd-sdv-omitnik-waze/corona/geo_partition/figures/coarse_grid_distribution.csv', index = False)"
   ]
  },
  {
   "cell_type": "code",
   "execution_count": null,
   "metadata": {},
   "outputs": [],
   "source": []
  },
  {
   "cell_type": "markdown",
   "metadata": {},
   "source": [
    "Plots"
   ]
  },
  {
   "cell_type": "code",
   "execution_count": null,
   "metadata": {},
   "outputs": [],
   "source": [
    "tab = pd.read_csv('/home/soniame/shared/spd-sdv-omitnik-waze/corona/geo_partition/figures/coarse_grid_distribution.csv')"
   ]
  },
  {
   "cell_type": "code",
   "execution_count": null,
   "metadata": {},
   "outputs": [],
   "source": [
    "tab['geometry'] = gpd.GeoSeries.from_wkt(tab['coarse_wkt'])\n",
    "tab = gpd.GeoDataFrame(tab, geometry='geometry')\n",
    "fig, ax = plt.subplots(1, 1)\n",
    "tab.plot(column='lines', ax=ax, \n",
    "         legend=True, cmap='OrRd')\n",
    "plt.title('Coarse Grid 1 - Number of lines')\n",
    "plt.savefig('/home/soniame/shared/spd-sdv-omitnik-waze/corona/geo_partition/figures/coarse_map_LinesR1.pdf')"
   ]
  },
  {
   "cell_type": "code",
   "execution_count": null,
   "metadata": {},
   "outputs": [],
   "source": [
    "tab['geometry'] = gpd.GeoSeries.from_wkt(tab['coarse_wkt'])\n",
    "tab = gpd.GeoDataFrame(tab, geometry='geometry')\n",
    "fig, ax = plt.subplots(1, 1)\n",
    "tab.plot(column='jams', ax=ax, \n",
    "         legend=True, cmap='OrRd')\n",
    "plt.title('Coarse Grid 1 - Number of Jams')\n",
    "plt.savefig('/home/soniame/shared/spd-sdv-omitnik-waze/corona/geo_partition/figures/coarse_map_JamsR1.pdf')"
   ]
  },
  {
   "cell_type": "code",
   "execution_count": null,
   "metadata": {},
   "outputs": [],
   "source": [
    "plt.scatter(tab.jams, tab.lines)"
   ]
  },
  {
   "cell_type": "code",
   "execution_count": null,
   "metadata": {},
   "outputs": [],
   "source": []
  },
  {
   "cell_type": "markdown",
   "metadata": {},
   "source": [
    "### Coarse grid union Big Polygons (R2)\n",
    "\n",
    "Union of results from parallelization in 6 instances. \n",
    "\n",
    "- Cells: \n",
    "- Lines: 22,214,341\n",
    "- Run time per polygon: 2 hrs."
   ]
  },
  {
   "cell_type": "code",
   "execution_count": null,
   "metadata": {},
   "outputs": [],
   "source": [
    "from src.runners.split_polygon import _new_res_coarse_grid\n",
    "from siuba import group_by, ungroup, arrange, summarize, _"
   ]
  },
  {
   "cell_type": "code",
   "execution_count": null,
   "metadata": {},
   "outputs": [],
   "source": [
    "# Ran in terminal\n",
    "logger.warning(\"Only run to update resolution 2\")\n",
    "# _new_res_coarse_grid()"
   ]
  },
  {
   "cell_type": "code",
   "execution_count": null,
   "metadata": {},
   "outputs": [],
   "source": [
    "from src.runners.split_polygon import _coarse_union\n",
    "mypath = \"/home/soniame/private/projects/corona_geo_id/coarse_grid/\"\n",
    "csv_files = [os.path.join(mypath, x) for x in os.listdir(mypath)]"
   ]
  },
  {
   "cell_type": "code",
   "execution_count": null,
   "metadata": {},
   "outputs": [],
   "source": [
    "# Sample: union of lines for resolution 2\n",
    "csv_files = [\n",
    " '/home/soniame/private/projects/corona_geo_id/coarse_grid/coarse_id_new_R2_1.csv',\n",
    " '/home/soniame/private/projects/corona_geo_id/coarse_grid/coarse_id_new_R2_2.csv',\n",
    " '/home/soniame/private/projects/corona_geo_id/coarse_grid/coarse_id_new_R2_3.csv',\n",
    " '/home/soniame/private/projects/corona_geo_id/coarse_grid/coarse_id_new_R2_4.csv',\n",
    " '/home/soniame/private/projects/corona_geo_id/coarse_grid/coarse_id_new_R2_5.csv',\n",
    " '/home/soniame/private/projects/corona_geo_id/coarse_grid/coarse_id_new_R2_6.csv']\n",
    "csv_files\n",
    "df_coarse_R2 = _coarse_union(csv_files)\n",
    "df_coarse_R2 = df_coarse_R2.rename(columns={'coarse_wkt':'coarse_wkt_2', 'line':'line_wkt'})"
   ]
  },
  {
   "cell_type": "code",
   "execution_count": null,
   "metadata": {},
   "outputs": [],
   "source": [
    "print(len(df_coarse_R2))\n",
    "print(len(df_coarse_R1))\n",
    "print(len(df_lines))"
   ]
  },
  {
   "cell_type": "code",
   "execution_count": null,
   "metadata": {},
   "outputs": [],
   "source": [
    "df_coarse_R2.head()"
   ]
  },
  {
   "cell_type": "code",
   "execution_count": null,
   "metadata": {},
   "outputs": [],
   "source": [
    "tab = pd.read_csv('/home/soniame/shared/spd-sdv-omitnik-waze/corona/geo_partition/figures/coarse_grid_distribution.csv')\n",
    "bp = tab.sort_values('lines', ascending=False)[:6][['coarse_wkt']]\n",
    "bp['bp'] = [1, 2, 3, 4, 5, 6]"
   ]
  },
  {
   "cell_type": "code",
   "execution_count": null,
   "metadata": {},
   "outputs": [],
   "source": [
    "# Union of previous coarse_wkt, big polygons and line jams\n",
    "# Merge of coarse wkt R1 and R2\n",
    "df_coarse_R = df_lines.\\\n",
    "     merge(df_coarse_R1, how = 'left', on = 'line_wkt'). \\\n",
    "     merge(df_coarse_R2, how = 'left', on = 'line_wkt'). \\\n",
    "     merge(bp, how = 'left', on = 'coarse_wkt'). \\\n",
    "     drop_duplicates()\n",
    " \n",
    "print(len(df_coarse_R))\n",
    "#df_coarse_R.head()"
   ]
  },
  {
   "cell_type": "code",
   "execution_count": null,
   "metadata": {},
   "outputs": [],
   "source": [
    "# Replace nulls for values\n",
    "df_coarse_R['coarse_wkt_R'] = np.where(df_coarse_R['bp'].isna(), \n",
    "                                       df_coarse_R['coarse_wkt'], \n",
    "                                       df_coarse_R['coarse_wkt_2'])\n",
    "print(sum(df_coarse_R['coarse_wkt_R'].isna()))\n",
    "\n",
    "df_coarse_R['coarse_wkt_R'] = np.where(df_coarse_R['coarse_wkt_R'].isna(), \n",
    "                                       '(MISSING)', \n",
    "                                       df_coarse_R['coarse_wkt_R'])\n",
    "print(sum(df_coarse_R['coarse_wkt_R'].isna()))"
   ]
  },
  {
   "cell_type": "code",
   "execution_count": null,
   "metadata": {},
   "outputs": [],
   "source": [
    "# Table of distribution pero wkt union\n",
    "#df_dist = (df_coarse_R\n",
    "#  >> group_by(_.coarse_wkt_R)\n",
    "#  >> summarize(lines = _.line_wkt.count(),\n",
    "#               jams  = _.count_lines.sum(), \n",
    "#               bp = _.bp.max())\n",
    "#  >> ungroup()\n",
    "#  >> arrange(-_.lines)\n",
    "#  )\n",
    "#min_wkt = str(df_dist.sort_values('lines', ascending=True)[:1].coarse_wkt_R)"
   ]
  },
  {
   "cell_type": "code",
   "execution_count": null,
   "metadata": {},
   "outputs": [],
   "source": [
    "# Export to csv \n",
    "coarse_R_path = '/home/soniame/shared/spd-sdv-omitnik-waze/corona/geo_partition/coarse_id/coarse_grid_sample_R2.csv'\n",
    "df_coarse_R[['line_wkt', 'count_lines', 'bp', 'coarse_wkt_R']].to_csv(coarse_R_path, index = False)"
   ]
  },
  {
   "cell_type": "code",
   "execution_count": null,
   "metadata": {},
   "outputs": [],
   "source": []
  },
  {
   "cell_type": "markdown",
   "metadata": {},
   "source": [
    "### Coarse grid distribution Big Polygons"
   ]
  },
  {
   "cell_type": "code",
   "execution_count": null,
   "metadata": {},
   "outputs": [],
   "source": [
    "from siuba import group_by, ungroup, arrange, summarize, _"
   ]
  },
  {
   "cell_type": "code",
   "execution_count": null,
   "metadata": {},
   "outputs": [],
   "source": [
    "df_coarse_R = pd.read_csv(coarse_R_path)"
   ]
  },
  {
   "cell_type": "code",
   "execution_count": null,
   "metadata": {},
   "outputs": [],
   "source": [
    "print(df_coarse_R.shape)\n",
    "print(df_coarse_R.coarse_wkt_R.nunique())\n",
    "print(df_coarse_R.line_wkt.nunique())\n",
    "df_coarse_R.head()"
   ]
  },
  {
   "cell_type": "code",
   "execution_count": null,
   "metadata": {},
   "outputs": [],
   "source": [
    "# Table of distribution pero wkt union\n",
    "tab = (df_coarse_R\n",
    "  >> group_by(_.coarse_wkt_R)\n",
    "  >> summarize(lines = _.line_wkt.count(),\n",
    "               jams  = _.count_lines.sum(), \n",
    "               bp = _.bp.max())\n",
    "  >> ungroup()\n",
    "  >> arrange(-_.lines)\n",
    "  )"
   ]
  },
  {
   "cell_type": "code",
   "execution_count": null,
   "metadata": {},
   "outputs": [],
   "source": [
    "# Export to csv \n",
    "tab.to_csv('/home/soniame/shared/spd-sdv-omitnik-waze/corona/geo_partition/figures/coarse_grid_distribution_R.csv', index = False)"
   ]
  },
  {
   "cell_type": "code",
   "execution_count": null,
   "metadata": {},
   "outputs": [],
   "source": []
  },
  {
   "cell_type": "markdown",
   "metadata": {},
   "source": [
    "Plots"
   ]
  },
  {
   "cell_type": "code",
   "execution_count": null,
   "metadata": {},
   "outputs": [],
   "source": [
    "tab = pd.read_csv('/home/soniame/shared/spd-sdv-omitnik-waze/corona/geo_partition/figures/coarse_grid_distribution_R.csv')"
   ]
  },
  {
   "cell_type": "code",
   "execution_count": null,
   "metadata": {},
   "outputs": [],
   "source": [
    "tab = tab[tab.coarse_wkt_R != '(MISSING)']\n",
    "tab['geometry'] = gpd.GeoSeries.from_wkt(tab['coarse_wkt_R'])\n",
    "tab = gpd.GeoDataFrame(tab, geometry='geometry')\n",
    "fig, ax = plt.subplots(1, 1)\n",
    "tab.plot(column='lines', ax=ax, \n",
    "         legend=True, cmap='OrRd')\n",
    "plt.title('Coarse Grid 1 - Number of lines')\n",
    "plt.savefig('/home/soniame/shared/spd-sdv-omitnik-waze/corona/geo_partition/figures/coarse_map_LinesR2.pdf')"
   ]
  },
  {
   "cell_type": "code",
   "execution_count": null,
   "metadata": {},
   "outputs": [],
   "source": [
    "fig, ax = plt.subplots(1, 1)\n",
    "tab.plot(column='jams', ax=ax, \n",
    "         legend=True, cmap='OrRd')\n",
    "plt.title('Coarse Grid 1 - Number of Jams')\n",
    "plt.savefig('/home/soniame/shared/spd-sdv-omitnik-waze/corona/geo_partition/figures/coarse_map_JamsR2.pdf')"
   ]
  },
  {
   "cell_type": "code",
   "execution_count": null,
   "metadata": {},
   "outputs": [],
   "source": []
  },
  {
   "cell_type": "markdown",
   "metadata": {},
   "source": [
    "## Creating squares"
   ]
  },
  {
   "cell_type": "code",
   "execution_count": null,
   "metadata": {},
   "outputs": [],
   "source": [
    "from src.runners import split_polygon"
   ]
  },
  {
   "cell_type": "code",
   "execution_count": null,
   "metadata": {},
   "outputs": [],
   "source": [
    "from shapely.geometry import box, Polygon, MultiPolygon, GeometryCollection\n",
    "from shapely.wkt import loads"
   ]
  },
  {
   "cell_type": "code",
   "execution_count": null,
   "metadata": {},
   "outputs": [],
   "source": [
    "# - Example \n",
    "# polygon = 'POLYGON((2.0117187499999822 44.38657313925715,-19.433593750000018 19.207272119703983,19.414062499999982 6.904449621538131,64.94140624999999 -3.096801256840523,81.46484374999999 37.21269961002643,45.78124999999998 24.106495997107682,53.69140624999998 51.22054369437158,3.7695312499999822 37.07257833232809,2.0117187499999822 44.38657313925715))'\n",
    "# - Latin America \n",
    "# polygon = 'POLYGON ((-127.265625 34.30714385628804, -128.671875 -56.94497418085159, -28.4765625 -57.70414723434192, -29.8828125 16.97274101999902, -84.72656249999999 25.48295117535531, -116.71874999999999 35.746512259918504, -127.265625 34.30714385628804))'\n",
    "# - Triángulo \n",
    "# polygon = Polygon([(0, 0), (5, 5), (5, 0)])\n",
    "# - Peru\n",
    "# polygon = 'POLYGON ((-77.10205078124999 -13.004557745339769, -72.158203125 -13.004557745339769, -72.158203125 -8.90678000752024, -77.10205078124999 -8.90678000752024, -77.10205078124999 -13.004557745339769))'\n",
    "# - Latin america BID\n",
    "polygon = 'POLYGON((-129.454 37.238,-90.781 27.311,-67.117 20.333,-68.721 17.506,-23.765 -9.114,-65.601 -60.714,-126.421 -23.479,-129.454 37.238))'\n",
    "geometry = wkt.loads(polygon)\n",
    "print(geometry.area)\n",
    "#geometry"
   ]
  },
  {
   "cell_type": "code",
   "execution_count": null,
   "metadata": {},
   "outputs": [],
   "source": [
    "#df_lines = split_polygon._get_lines()"
   ]
  },
  {
   "cell_type": "code",
   "execution_count": null,
   "metadata": {},
   "outputs": [],
   "source": [
    "df_coarse = split_polygon._get_coarse_grid()"
   ]
  },
  {
   "cell_type": "code",
   "execution_count": null,
   "metadata": {},
   "outputs": [],
   "source": [
    "df_dist = split_polygon._get_dist_table()"
   ]
  },
  {
   "cell_type": "code",
   "execution_count": null,
   "metadata": {},
   "outputs": [],
   "source": [
    "print(len(df_coarse))\n",
    "print(len(df_dist))"
   ]
  },
  {
   "cell_type": "code",
   "execution_count": null,
   "metadata": {},
   "outputs": [],
   "source": [
    "df_coarse.head()"
   ]
  },
  {
   "cell_type": "code",
   "execution_count": null,
   "metadata": {},
   "outputs": [],
   "source": [
    "# Lines \n",
    "# df_lines = _get_lines()\n",
    "# if split != 0:\n",
    "#     logger.debug(f\"Split: {split}\")\n",
    "#     df_lines = df_lines[df_lines.split == split]\n",
    "# if update_coarse_grid:\n",
    "#    df_coarse = _create_coarse_grid(df_lines, tiles, split)\n",
    "# else:"
   ]
  },
  {
   "cell_type": "code",
   "execution_count": null,
   "metadata": {},
   "outputs": [],
   "source": [
    "_threshold_density_func(geometry, .01, df_dist, df_coarse)"
   ]
  },
  {
   "cell_type": "code",
   "execution_count": null,
   "metadata": {},
   "outputs": [],
   "source": [
    "print(df_dist.shape)\n",
    "print(df_coarse.shape)"
   ]
  },
  {
   "cell_type": "code",
   "execution_count": null,
   "metadata": {},
   "outputs": [],
   "source": [
    "df_coarse[df_coarse.coarse_wkt_R == '(MISSING)'].to_csv(\"/home/soniame/shared/spd-sdv-omitnik-waze/corona/geo_partition/figures/missing_ids.csv\")"
   ]
  },
  {
   "cell_type": "code",
   "execution_count": null,
   "metadata": {},
   "outputs": [],
   "source": [
    "df_coarse[df_coarse.coarse_wkt_R == '(MISSING)'].head()"
   ]
  },
  {
   "cell_type": "code",
   "execution_count": null,
   "metadata": {},
   "outputs": [],
   "source": []
  },
  {
   "cell_type": "markdown",
   "metadata": {},
   "source": [
    "## Lines intersection per square\n",
    "\n"
   ]
  },
  {
   "cell_type": "code",
   "execution_count": null,
   "metadata": {},
   "outputs": [],
   "source": [
    "mypath = \"/home/soniame/shared/spd-sdv-omitnik-waze/corona/geo_partition/geo_id/\"\n",
    "geo_id_path = max([os.path.join(mypath, x) for x in os.listdir(mypath)])\n",
    "df_geo_id = pd.read_csv(geo_id_path)\n",
    "len(df_geo_id.geometry.unique())\n",
    "#df_geo_id.head()"
   ]
  },
  {
   "cell_type": "code",
   "execution_count": null,
   "metadata": {},
   "outputs": [],
   "source": []
  },
  {
   "cell_type": "code",
   "execution_count": null,
   "metadata": {},
   "outputs": [],
   "source": [
    "geopath = \"/home/soniame/private/projects/corona_geo_id/geo_id/\"\n",
    "geo_id_path = [os.path.join(geopath, x) for x in os.listdir(geopath)][1:]\n",
    "df_geo_lines = pd.DataFrame()\n",
    "for pth in geo_id_path:\n",
    "    print(pth)\n",
    "    df_geo_lines = df_geo_lines.append(pd.read_csv(pth))\n",
    "df_geo_lines = df_geo_lines \\\n",
    "    .rename(columns = {'wkt_def':'line_wkt', 'geom_def':'geo_id'})    \n",
    "    "
   ]
  },
  {
   "cell_type": "code",
   "execution_count": null,
   "metadata": {},
   "outputs": [],
   "source": [
    "print(df_geo_lines.shape)\n",
    "print(df_geo_lines.geo_id.nunique())\n",
    "print(df_geo_lines.line_wkt.nunique())"
   ]
  },
  {
   "cell_type": "code",
   "execution_count": null,
   "metadata": {},
   "outputs": [],
   "source": [
    "df = df_geo_lines.merge(df_coarse[['line_wkt', 'count_lines']].rename(columns = {'count_lines':'jams'}))\n",
    "df.head()"
   ]
  },
  {
   "cell_type": "code",
   "execution_count": null,
   "metadata": {},
   "outputs": [],
   "source": [
    "df_coarse.line_wkt.nunique()"
   ]
  },
  {
   "cell_type": "code",
   "execution_count": null,
   "metadata": {},
   "outputs": [],
   "source": []
  },
  {
   "cell_type": "markdown",
   "metadata": {},
   "source": [
    "### Distribution of lines/jams per square"
   ]
  },
  {
   "cell_type": "code",
   "execution_count": null,
   "metadata": {},
   "outputs": [],
   "source": [
    "from siuba import group_by, ungroup, arrange, summarize, _\n",
    "import geopandas as gpd\n",
    "import folium"
   ]
  },
  {
   "cell_type": "code",
   "execution_count": null,
   "metadata": {},
   "outputs": [],
   "source": [
    "tab = (df\n",
    "  >> group_by(_.geo_id)\n",
    "  >> summarize(lines = _.line_wkt.count(), \n",
    "               jams = _.jams.sum())\n",
    "  >> ungroup()\n",
    "  >> arrange(\"jams\")\n",
    "  )\n",
    "tab['geometry'] = gpd.GeoSeries.from_wkt(tab['geo_id'])\n",
    "tab = gpd.GeoDataFrame(tab, geometry='geometry')\n",
    "\n",
    "tab.head()"
   ]
  },
  {
   "cell_type": "code",
   "execution_count": null,
   "metadata": {},
   "outputs": [],
   "source": [
    "tab.to_csv(\"/home/soniame/shared/spd-sdv-omitnik-waze/corona/geo_partition/figures/geo_lines_distribution.csv\", index=False)"
   ]
  },
  {
   "cell_type": "code",
   "execution_count": null,
   "metadata": {},
   "outputs": [],
   "source": [
    "import matplotlib.pyplot as plt\n",
    "import contextily as ctx\n",
    "tab.crs = \"EPSG:4326\"\n",
    "df_wm = tab.to_crs(epsg=3857)\n",
    "ax = df_wm.plot(figsize=(10, 10), alpha=0.5, edgecolor='k', \n",
    "                column='jams',legend=True, cmap='OrRd')\n",
    "ctx.add_basemap(ax)"
   ]
  },
  {
   "cell_type": "code",
   "execution_count": null,
   "metadata": {
    "scrolled": true
   },
   "outputs": [],
   "source": [
    "df = tab\n",
    "m = folium.Map(location=[-24.1792320824178, -60.97559398552432], zoom_start=2, tiles='CartoDB positron')\n",
    "for _, r in df.iterrows():\n",
    "    # Without simplifying the representation of each borough,\n",
    "    # the map might not be displayed\n",
    "    sim_geo = gpd.GeoSeries(r['geometry']).simplify(tolerance=0.001)\n",
    "    geo_j = sim_geo.to_json()\n",
    "    geo_j = folium.GeoJson(data=geo_j,\n",
    "                           style_function=lambda x: {'fillColor': 'orange'})\n",
    "    folium.Popup(r['lines']).add_to(geo_j)\n",
    "    geo_j.add_to(m)\n",
    "#m"
   ]
  },
  {
   "cell_type": "code",
   "execution_count": null,
   "metadata": {},
   "outputs": [],
   "source": []
  },
  {
   "cell_type": "code",
   "execution_count": null,
   "metadata": {},
   "outputs": [],
   "source": []
  }
 ],
 "metadata": {
  "kernelspec": {
   "display_name": "waze_coronavirus",
   "language": "python",
   "name": "waze_coronavirus"
  },
  "language_info": {
   "codemirror_mode": {
    "name": "ipython",
    "version": 3
   },
   "file_extension": ".py",
   "mimetype": "text/x-python",
   "name": "python",
   "nbconvert_exporter": "python",
   "pygments_lexer": "ipython3",
   "version": "3.7.11"
  },
  "toc": {
   "base_numbering": 1,
   "nav_menu": {},
   "number_sections": true,
   "sideBar": true,
   "skip_h1_title": false,
   "title_cell": "Table of Contents",
   "title_sidebar": "Contents",
   "toc_cell": false,
   "toc_position": {
    "height": "calc(100% - 180px)",
    "left": "10px",
    "top": "150px",
    "width": "240.797px"
   },
   "toc_section_display": true,
   "toc_window_display": true
  }
 },
 "nbformat": 4,
 "nbformat_minor": 2
}
