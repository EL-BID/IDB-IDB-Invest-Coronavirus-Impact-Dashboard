{
 "cells": [
  {
   "cell_type": "code",
   "execution_count": 56,
   "metadata": {},
   "outputs": [],
   "source": [
    "# %load first_cell.py\n",
    "%reload_ext autoreload\n",
    "%autoreload 2\n",
    "from pathlib import Path\n",
    "\n",
    "# system paths\n",
    "import sys\n",
    "home = str(Path.home())\n",
    "sys.path = sys.path + [f'{home}/.conda/envs/norm_env/lib/python37.zip', \n",
    "                       f'{home}/.conda/envs/norm_env/lib/python3.7', \n",
    "                       f'{home}/.conda/envs/norm_env/lib/python3.7/lib-dynload', \n",
    "                       f'{home}/.conda/envs/norm_env/lib/python3.7/site-packages']\n",
    "sys.prefix = '/home/soniame/.conda/envs/norm_env'\n",
    "from paths import RAW_PATH, TREAT_PATH, OUTPUT_PATH, FIGURES_PATH\n",
    "\n",
    "# aws connection\n",
    "import boto3\n",
    "import awswrangler as wr\n",
    "\n",
    "# local libraries\n",
    "from src import utils\n",
    "\n",
    "# analysis libraries\n",
    "from datetime import datetime\n",
    "import pandas as pd\n",
    "import geopandas as gpd\n",
    "import osmpy\n",
    "from shapely.geometry import box, Polygon, MultiPolygon, LineString, GeometryCollection, shape\n",
    "from shapely import wkt\n",
    "from shapely.ops import transform\n",
    "import shapely\n",
    "\n",
    "cm = str(datetime.today().strftime(\"%Y%m%d%H%m\"))"
   ]
  },
  {
   "cell_type": "code",
   "execution_count": 82,
   "metadata": {},
   "outputs": [
    {
     "name": "stdout",
     "output_type": "stream",
     "text": [
      "[(4.0, -2.0000000000000004)]\n"
     ]
    },
    {
     "data": {
      "text/plain": [
       "False"
      ]
     },
     "execution_count": 82,
     "metadata": {},
     "output_type": "execute_result"
    }
   ],
   "source": [
    "# EJEMPLO\n",
    "# polygon = [(4.0, -2.0), (5.0, -2.0), (4.0, -3.0), (3.0, -3.0), (4.0, -2.0)]\n",
    "# shapely_poly = shapely.geometry.Polygon(polygon)\n",
    "# \n",
    "# line = [(4.0, -2.0000000000000004), (2.0, -1.1102230246251565e-15)]\n",
    "# shapely_line = shapely.geometry.LineString(line)\n",
    "# \n",
    "# intersection_line = list(shapely_poly.intersection(shapely_line).coords)\n",
    "# print(intersection_line)\n",
    "# #shapely_poly.intersection(shapely_line)\n",
    "# shapely_poly.intersection(shapely_line).is_empty"
   ]
  },
  {
   "cell_type": "code",
   "execution_count": 202,
   "metadata": {},
   "outputs": [
    {
     "name": "stdout",
     "output_type": "stream",
     "text": [
      "(1175153, 2)\n"
     ]
    },
    {
     "data": {
      "text/plain": [
       "0    LINESTRING(-75.097855 4.448101, -75.098718 4.4...\n",
       "1    LINESTRING(-100.921694 22.14878, -100.921864 2...\n",
       "2    LINESTRING(-84.073469 9.962173, -84.073921 9.9...\n",
       "3    LINESTRING(-101.001843 22.19166, -101.002284 2...\n",
       "4    LINESTRING(-75.554978 6.3126, -75.554667 6.313...\n",
       "Name: line_wkt, dtype: object"
      ]
     },
     "execution_count": 202,
     "metadata": {},
     "output_type": "execute_result"
    }
   ],
   "source": [
    "conn = utils.connect_athena(path='../configs/athena.yaml')\n",
    "qry = f\"\"\"\n",
    "    select line_wkt, count(line_wkt) as count_lines\n",
    "    from spd_sdv_waze_corona.raw_copy_jams\n",
    "    group by line_wkt\"\"\"\n",
    "df_lines = pd.read_sql_query(qry, conn)\n",
    "df_lines.to_csv('/home/soniame/private/line_wkt_count_202010701.csv')\n",
    "print(df_lines.shape)\n",
    "df_lines.line_wkt.head()"
   ]
  },
  {
   "cell_type": "code",
   "execution_count": 204,
   "metadata": {},
   "outputs": [
    {
     "data": {
      "text/html": [
       "<div>\n",
       "<style scoped>\n",
       "    .dataframe tbody tr th:only-of-type {\n",
       "        vertical-align: middle;\n",
       "    }\n",
       "\n",
       "    .dataframe tbody tr th {\n",
       "        vertical-align: top;\n",
       "    }\n",
       "\n",
       "    .dataframe thead th {\n",
       "        text-align: right;\n",
       "    }\n",
       "</style>\n",
       "<table border=\"1\" class=\"dataframe\">\n",
       "  <thead>\n",
       "    <tr style=\"text-align: right;\">\n",
       "      <th></th>\n",
       "      <th>line_wkt</th>\n",
       "      <th>count_lines</th>\n",
       "    </tr>\n",
       "  </thead>\n",
       "  <tbody>\n",
       "    <tr>\n",
       "      <th>0</th>\n",
       "      <td>LINESTRING(-75.097855 4.448101, -75.098718 4.4...</td>\n",
       "      <td>72</td>\n",
       "    </tr>\n",
       "    <tr>\n",
       "      <th>1</th>\n",
       "      <td>LINESTRING(-100.921694 22.14878, -100.921864 2...</td>\n",
       "      <td>1</td>\n",
       "    </tr>\n",
       "    <tr>\n",
       "      <th>2</th>\n",
       "      <td>LINESTRING(-84.073469 9.962173, -84.073921 9.9...</td>\n",
       "      <td>237</td>\n",
       "    </tr>\n",
       "    <tr>\n",
       "      <th>3</th>\n",
       "      <td>LINESTRING(-101.001843 22.19166, -101.002284 2...</td>\n",
       "      <td>720</td>\n",
       "    </tr>\n",
       "    <tr>\n",
       "      <th>4</th>\n",
       "      <td>LINESTRING(-75.554978 6.3126, -75.554667 6.313...</td>\n",
       "      <td>720</td>\n",
       "    </tr>\n",
       "  </tbody>\n",
       "</table>\n",
       "</div>"
      ],
      "text/plain": [
       "                                            line_wkt  count_lines\n",
       "0  LINESTRING(-75.097855 4.448101, -75.098718 4.4...           72\n",
       "1  LINESTRING(-100.921694 22.14878, -100.921864 2...            1\n",
       "2  LINESTRING(-84.073469 9.962173, -84.073921 9.9...          237\n",
       "3  LINESTRING(-101.001843 22.19166, -101.002284 2...          720\n",
       "4  LINESTRING(-75.554978 6.3126, -75.554667 6.313...          720"
      ]
     },
     "execution_count": 204,
     "metadata": {},
     "output_type": "execute_result"
    }
   ],
   "source": [
    "df_lines.head()"
   ]
  },
  {
   "cell_type": "code",
   "execution_count": 173,
   "metadata": {},
   "outputs": [
    {
     "name": "stdout",
     "output_type": "stream",
     "text": [
      "5970.269755\n"
     ]
    },
    {
     "data": {
      "image/svg+xml": [
       "<svg xmlns=\"http://www.w3.org/2000/svg\" xmlns:xlink=\"http://www.w3.org/1999/xlink\" width=\"114.14412000000002\" height=\"106.40711999999999\" viewBox=\"-133.68156000000002 -64.94156 114.14412000000002 106.40711999999999\" preserveAspectRatio=\"xMinYMin meet\"><g transform=\"matrix(1,0,0,-1,0,-23.476)\"><path fill-rule=\"evenodd\" fill=\"#66cc99\" stroke=\"#555555\" stroke-width=\"2.0\" opacity=\"0.6\" d=\"M -129.454,37.238 L -90.781,27.311 L -67.117,20.333 L -68.721,17.506 L -23.765,-9.114 L -65.601,-60.714 L -126.421,-23.479 L -129.454,37.238 z\" /></g></svg>"
      ],
      "text/plain": [
       "<shapely.geometry.polygon.Polygon at 0x7f40d787fd90>"
      ]
     },
     "execution_count": 173,
     "metadata": {},
     "output_type": "execute_result"
    }
   ],
   "source": [
    "# - Example \n",
    "# polygon = 'POLYGON((2.0117187499999822 44.38657313925715,-19.433593750000018 19.207272119703983,19.414062499999982 6.904449621538131,64.94140624999999 -3.096801256840523,81.46484374999999 37.21269961002643,45.78124999999998 24.106495997107682,53.69140624999998 51.22054369437158,3.7695312499999822 37.07257833232809,2.0117187499999822 44.38657313925715))'\n",
    "# - Latin America \n",
    "# polygon = 'POLYGON ((-127.265625 34.30714385628804, -128.671875 -56.94497418085159, -28.4765625 -57.70414723434192, -29.8828125 16.97274101999902, -84.72656249999999 25.48295117535531, -116.71874999999999 35.746512259918504, -127.265625 34.30714385628804))'\n",
    "# - Triángulo \n",
    "# polygon = Polygon([(0, 0), (5, 5), (5, 0)])\n",
    "# - Peru\n",
    "# polygon = 'POLYGON ((-77.10205078124999 -13.004557745339769, -72.158203125 -13.004557745339769, -72.158203125 -8.90678000752024, -77.10205078124999 -8.90678000752024, -77.10205078124999 -13.004557745339769))'\n",
    "# - Latin america BID\n",
    "polygon = 'POLYGON((-129.454 37.238,-90.781 27.311,-67.117 20.333,-68.721 17.506,-23.765 -9.114,-65.601 -60.714,-126.421 -23.479,-129.454 37.238))'\n",
    "geometry = wkt.loads(polygon)\n",
    "print(geometry.area)\n",
    "geometry"
   ]
  },
  {
   "cell_type": "code",
   "execution_count": 185,
   "metadata": {},
   "outputs": [],
   "source": [
    "from shapely.geometry import box, Polygon, MultiPolygon, GeometryCollection\n",
    "from shapely.wkt import loads\n",
    "\n",
    "def intersection_func(line, geometry):\n",
    "    line_wkt = wkt.loads(line)\n",
    "    result = geometry.intersection(line_wkt).is_empty == False\n",
    "    return(int(result))\n",
    "\n",
    "def threshold_density_func(geometry, threshold_value):\n",
    "    \"\"\"Compares the threshold values with the number of lines\"\"\"\n",
    "    \n",
    "    print('Running')\n",
    "    \n",
    "    times = [intersection_func(line, geometry) for line in df_lines.line_wkt]\n",
    "    intersection = sum(times)\n",
    "    total = len(times)\n",
    "    \n",
    "    print(intersection)\n",
    "    print(total)\n",
    "    print(intersection/total)\n",
    "    \n",
    "    return (intersection/total) < (threshold_value/total)"
   ]
  },
  {
   "cell_type": "code",
   "execution_count": 188,
   "metadata": {},
   "outputs": [
    {
     "data": {
      "text/plain": [
       "1175153"
      ]
     },
     "execution_count": 188,
     "metadata": {},
     "output_type": "execute_result"
    }
   ],
   "source": [
    "len(df_lines.line_wkt)"
   ]
  },
  {
   "cell_type": "code",
   "execution_count": 187,
   "metadata": {},
   "outputs": [
    {
     "name": "stdout",
     "output_type": "stream",
     "text": [
      "Running\n",
      "1170476\n",
      "1175153\n",
      "0.9960200927028225\n",
      "Running\n",
      "367714\n",
      "1175153\n",
      "0.31290734057607816\n",
      "Running\n",
      "31399\n",
      "1175153\n",
      "0.02671907402695649\n",
      "Running\n",
      "336321\n",
      "1175153\n",
      "0.2861933722672707\n",
      "Running\n",
      "45197\n",
      "1175153\n",
      "0.03846052386370115\n",
      "Running\n",
      "291175\n",
      "1175153\n",
      "0.24777624700783643\n",
      "Running\n",
      "67368\n",
      "1175153\n",
      "0.05732700337743256\n",
      "Running\n",
      "223813\n",
      "1175153\n",
      "0.1904543493485529\n",
      "Running\n",
      "188729\n",
      "1175153\n",
      "0.1605995134250604\n",
      "Running\n",
      "154887\n",
      "1175153\n",
      "0.13180156115841937\n",
      "Running\n",
      "122968\n",
      "1175153\n",
      "0.10463999155854599\n",
      "Running\n",
      "78\n",
      "1175153\n",
      "6.637433593753324e-05\n",
      "Running\n",
      "122891\n",
      "1175153\n",
      "0.1045744681756333\n",
      "Running\n",
      "18266\n",
      "1175153\n",
      "0.015543507951730541\n",
      "Running\n",
      "104689\n",
      "1175153\n",
      "0.08908542121749254\n",
      "Running\n",
      "31959\n",
      "1175153\n",
      "0.027195607720866984\n",
      "Running\n",
      "33912\n",
      "1175153\n",
      "0.028857518978379838\n",
      "Running\n",
      "35160\n",
      "1175153\n",
      "0.029919508353380368\n",
      "Running\n",
      "802919\n",
      "1175153\n",
      "0.6832463517516443\n",
      "Running\n",
      "495652\n",
      "1175153\n",
      "0.42177656866807983\n",
      "Running\n",
      "177026\n",
      "1175153\n",
      "0.15064081017535588\n",
      "Running\n",
      "7703\n",
      "1175153\n",
      "0.006554891150343828\n",
      "Running\n",
      "169334\n",
      "1175153\n",
      "0.1440952795082853\n",
      "Running\n",
      "87319\n",
      "1175153\n",
      "0.07430436717601878\n",
      "Running\n",
      "82028\n",
      "1175153\n",
      "0.06980197472158944\n",
      "Running\n",
      "318688\n",
      "1175153\n",
      "0.271188517580264\n",
      "Running\n",
      "41\n",
      "1175153\n",
      "3.488907401844696e-05\n",
      "Running\n",
      "318647\n",
      "1175153\n",
      "0.2711536285062456\n",
      "Running\n",
      "300410\n",
      "1175153\n",
      "0.2556347981922354\n",
      "Running\n",
      "52712\n",
      "1175153\n",
      "0.044855435845375026\n",
      "Running\n",
      "247714\n",
      "1175153\n",
      "0.2107929775952578\n",
      "Running\n",
      "43721\n",
      "1175153\n",
      "0.037204517199037064\n",
      "Running\n",
      "204096\n",
      "1175153\n",
      "0.1736761085577793\n",
      "Running\n",
      "158801\n",
      "1175153\n",
      "0.13513219129764378\n",
      "Running\n",
      "117008\n",
      "1175153\n",
      "0.09956831153049858\n",
      "Running\n",
      "2158\n",
      "1175153\n",
      "0.0018363566276050863\n",
      "Running\n",
      "114912\n",
      "1175153\n",
      "0.09778471399043359\n",
      "Running\n",
      "13375\n",
      "1175153\n",
      "0.01138149670723727\n",
      "Running\n",
      "101670\n",
      "1175153\n",
      "0.08651639403550006\n",
      "Running\n",
      "41816\n",
      "1175153\n",
      "0.03558345168671654\n",
      "Running\n",
      "45341\n",
      "1175153\n",
      "0.038583061099278136\n",
      "Running\n",
      "18426\n",
      "1175153\n",
      "0.015679660435704967\n",
      "Running\n",
      "307323\n",
      "1175153\n",
      "0.2615174364529555\n",
      "Running\n",
      "192399\n",
      "1175153\n",
      "0.16372251102622382\n",
      "Running\n",
      "34321\n",
      "1175153\n",
      "0.029205558765539465\n",
      "Running\n",
      "158080\n",
      "1175153\n",
      "0.13451865416673403\n",
      "Running\n",
      "154498\n",
      "1175153\n",
      "0.13147054043175654\n",
      "Running\n",
      "123141\n",
      "1175153\n",
      "0.10478720643184335\n",
      "Running\n",
      "120972\n",
      "1175153\n",
      "0.10294148932096502\n",
      "Running\n",
      "97257\n",
      "1175153\n",
      "0.08276113833688038\n",
      "Running\n",
      "23750\n",
      "1175153\n",
      "0.02021013433995403\n",
      "Running\n",
      "2171\n",
      "1175153\n",
      "0.0018474190169280086\n",
      "Running\n",
      "31357\n",
      "1175153\n",
      "0.026683333999913204\n",
      "Running\n",
      "3582\n",
      "1175153\n",
      "0.003048113734977488\n",
      "Running\n",
      "114942\n",
      "1175153\n",
      "0.09781024258117879\n",
      "Running\n",
      "84096\n",
      "1175153\n",
      "0.07156174557695892\n",
      "Running\n",
      "30868\n",
      "1175153\n",
      "0.02626721797076636\n"
     ]
    }
   ],
   "source": [
    "result = osmpy.core.katana(geometry, \n",
    "                           threshold_func = threshold_density_func, \n",
    "                           threshold_value = 110000, \n",
    "                           count = 100)"
   ]
  },
  {
   "cell_type": "code",
   "execution_count": 191,
   "metadata": {},
   "outputs": [
    {
     "data": {
      "text/plain": [
       "29"
      ]
     },
     "execution_count": 191,
     "metadata": {},
     "output_type": "execute_result"
    }
   ],
   "source": [
    "len(result)"
   ]
  },
  {
   "cell_type": "code",
   "execution_count": 190,
   "metadata": {},
   "outputs": [
    {
     "name": "stderr",
     "output_type": "stream",
     "text": [
      "INFO|%|s\n"
     ]
    },
    {
     "data": {
      "image/svg+xml": [
       "<svg xmlns=\"http://www.w3.org/2000/svg\" xmlns:xlink=\"http://www.w3.org/1999/xlink\" width=\"114.14412000000002\" height=\"106.40711999999999\" viewBox=\"-133.68156000000002 -64.94156 114.14412000000002 106.40711999999999\" preserveAspectRatio=\"xMinYMin meet\"><g transform=\"matrix(1,0,0,-1,0,-23.476)\"><g><path fill-rule=\"evenodd\" fill=\"#ff3333\" stroke=\"#555555\" stroke-width=\"2.0\" opacity=\"0.6\" d=\"M -76.6095,-8.368208011344954 L -76.6095,-53.97441602268991 L -126.421,-23.479 L -127.17583031278869,-8.368208011344954 L -76.6095,-8.368208011344954 z\" /><path fill-rule=\"evenodd\" fill=\"#ff3333\" stroke=\"#555555\" stroke-width=\"2.0\" opacity=\"0.6\" d=\"M -129.454,37.238 L -103.03175,30.455653770072143 L -103.03175,-8.368208011344954 L -127.17583031278869,-8.368208011344954 L -129.454,37.238 z\" /><path fill-rule=\"evenodd\" fill=\"#ff3333\" stroke=\"#555555\" stroke-width=\"2.0\" opacity=\"0.6\" d=\"M -76.6095,11.043722879363592 L -76.6095,-8.368208011344954 L -103.03175,-8.368208011344954 L -103.03175,11.043722879363592 L -76.6095,11.043722879363592 z\" /><path fill-rule=\"evenodd\" fill=\"#ff3333\" stroke=\"#555555\" stroke-width=\"2.0\" opacity=\"0.6\" d=\"M -96.4261875,11.043722879363592 L -103.03175,11.043722879363592 L -103.03175,15.89670560204073 L -96.4261875,15.89670560204073 L -96.4261875,11.043722879363592 z\" /><path fill-rule=\"evenodd\" fill=\"#ff3333\" stroke=\"#555555\" stroke-width=\"2.0\" opacity=\"0.6\" d=\"M -103.03175,15.89670560204073 L -103.03175,20.749688324717866 L -99.72896875,20.749688324717866 L -99.72896875,15.89670560204073 L -103.03175,15.89670560204073 z\" /><path fill-rule=\"evenodd\" fill=\"#ff3333\" stroke=\"#555555\" stroke-width=\"2.0\" opacity=\"0.6\" d=\"M -99.72896875,20.749688324717866 L -96.4261875,20.749688324717866 L -96.4261875,15.89670560204073 L -99.72896875,15.89670560204073 L -99.72896875,20.749688324717866 z\" /><path fill-rule=\"evenodd\" fill=\"#ff3333\" stroke=\"#555555\" stroke-width=\"2.0\" opacity=\"0.6\" d=\"M -89.820625,20.749688324717866 L -89.820625,11.043722879363592 L -96.4261875,11.043722879363592 L -96.4261875,20.749688324717866 L -89.820625,20.749688324717866 z\" /><path fill-rule=\"evenodd\" fill=\"#ff3333\" stroke=\"#555555\" stroke-width=\"2.0\" opacity=\"0.6\" d=\"M -103.03175,30.455653770072143 L -90.781,27.311 L -89.820625,27.027806256338742 L -89.820625,20.749688324717866 L -103.03175,20.749688324717866 L -103.03175,30.455653770072143 z\" /><path fill-rule=\"evenodd\" fill=\"#ff3333\" stroke=\"#555555\" stroke-width=\"2.0\" opacity=\"0.6\" d=\"M -89.820625,27.027806256338742 L -76.6095,23.132132226166327 L -76.6095,11.043722879363592 L -89.820625,11.043722879363592 L -89.820625,27.027806256338742 z\" /><path fill-rule=\"evenodd\" fill=\"#ff3333\" stroke=\"#555555\" stroke-width=\"2.0\" opacity=\"0.6\" d=\"M -54.110158973769884,-46.541340162695434 L -65.601,-60.714 L -76.6095,-53.97441602268991 L -76.6095,-39.752466943458415 L -54.110158973769884,-39.752466943458415 L -54.110158973769884,-46.541340162695434 z\" /><path fill-rule=\"evenodd\" fill=\"#ff3333\" stroke=\"#555555\" stroke-width=\"2.0\" opacity=\"0.6\" d=\"M -76.6095,-39.752466943458415 L -76.6095,-18.790933886916832 L -65.35982948688493,-18.790933886916832 L -65.35982948688493,-39.752466943458415 L -76.6095,-39.752466943458415 z\" /><path fill-rule=\"evenodd\" fill=\"#ff3333\" stroke=\"#555555\" stroke-width=\"2.0\" opacity=\"0.6\" d=\"M -65.35982948688493,-18.790933886916832 L -54.110158973769884,-18.790933886916832 L -54.110158973769884,-39.752466943458415 L -65.35982948688493,-39.752466943458415 L -65.35982948688493,-18.790933886916832 z\" /><path fill-rule=\"evenodd\" fill=\"#ff3333\" stroke=\"#555555\" stroke-width=\"2.0\" opacity=\"0.6\" d=\"M -42.86048846065483,-32.66613702480613 L -54.110158973769884,-46.541340162695434 L -54.110158973769884,-32.66613702480613 L -42.86048846065483,-32.66613702480613 z\" /><path fill-rule=\"evenodd\" fill=\"#ff3333\" stroke=\"#555555\" stroke-width=\"2.0\" opacity=\"0.6\" d=\"M -42.860488460654835,-32.66613702480613 L -54.110158973769884,-32.66613702480613 L -54.110158973769884,-25.728535455861483 L -42.860488460654835,-25.728535455861483 L -42.860488460654835,-32.66613702480613 z\" /><path fill-rule=\"evenodd\" fill=\"#ff3333\" stroke=\"#555555\" stroke-width=\"2.0\" opacity=\"0.6\" d=\"M -54.110158973769884,-25.728535455861483 L -54.110158973769884,-18.790933886916832 L -48.48532371721236,-18.790933886916832 L -48.48532371721236,-25.728535455861483 L -54.110158973769884,-25.728535455861483 z\" /><path fill-rule=\"evenodd\" fill=\"#ff3333\" stroke=\"#555555\" stroke-width=\"2.0\" opacity=\"0.6\" d=\"M -45.6729060889336,-25.728535455861483 L -48.48532371721236,-25.728535455861483 L -48.48532371721236,-23.994135063625322 L -45.6729060889336,-23.994135063625322 L -45.6729060889336,-25.728535455861483 z\" /><path fill-rule=\"evenodd\" fill=\"#ff3333\" stroke=\"#555555\" stroke-width=\"2.0\" opacity=\"0.6\" d=\"M -48.48532371721236,-23.994135063625322 L -48.48532371721236,-22.259734671389158 L -47.07911490307298,-22.259734671389158 L -47.07911490307298,-23.994135063625322 L -48.48532371721236,-23.994135063625322 z\" /><path fill-rule=\"evenodd\" fill=\"#ff3333\" stroke=\"#555555\" stroke-width=\"2.0\" opacity=\"0.6\" d=\"M -47.07911490307298,-22.259734671389158 L -45.6729060889336,-22.259734671389158 L -45.6729060889336,-23.994135063625322 L -47.07911490307298,-23.994135063625322 L -47.07911490307298,-22.259734671389158 z\" /><path fill-rule=\"evenodd\" fill=\"#ff3333\" stroke=\"#555555\" stroke-width=\"2.0\" opacity=\"0.6\" d=\"M -42.860488460654835,-22.259734671389158 L -42.860488460654835,-25.728535455861483 L -45.6729060889336,-25.728535455861483 L -45.6729060889336,-22.259734671389158 L -42.860488460654835,-22.259734671389158 z\" /><path fill-rule=\"evenodd\" fill=\"#ff3333\" stroke=\"#555555\" stroke-width=\"2.0\" opacity=\"0.6\" d=\"M -48.48532371721236,-18.790933886916832 L -42.860488460654835,-18.790933886916832 L -42.860488460654835,-22.259734671389158 L -48.48532371721236,-22.259734671389158 L -48.48532371721236,-18.790933886916832 z\" /><path fill-rule=\"evenodd\" fill=\"#ff3333\" stroke=\"#555555\" stroke-width=\"2.0\" opacity=\"0.6\" d=\"M -31.61081794753978,-18.790933886916832 L -42.86048846065483,-32.66613702480613 L -42.860488460654835,-32.66613702480613 L -42.860488460654835,-18.790933886916832 L -31.61081794753978,-18.790933886916832 z\" /><path fill-rule=\"evenodd\" fill=\"#ff3333\" stroke=\"#555555\" stroke-width=\"2.0\" opacity=\"0.6\" d=\"M -50.18725,2.1705991696247473 L -50.18725,-18.790933886916832 L -76.6095,-18.790933886916832 L -76.6095,2.1705991696247473 L -50.18725,2.1705991696247473 z\" /><path fill-rule=\"evenodd\" fill=\"#ff3333\" stroke=\"#555555\" stroke-width=\"2.0\" opacity=\"0.6\" d=\"M -70.0039375,2.1705991696247473 L -76.6095,2.1705991696247473 L -76.6095,7.410982433760142 L -70.0039375,7.410982433760142 L -70.0039375,2.1705991696247473 z\" /><path fill-rule=\"evenodd\" fill=\"#ff3333\" stroke=\"#555555\" stroke-width=\"2.0\" opacity=\"0.6\" d=\"M -76.6095,7.410982433760142 L -76.6095,12.651365697895537 L -70.0039375,12.651365697895537 L -70.0039375,7.410982433760142 L -76.6095,7.410982433760142 z\" /><path fill-rule=\"evenodd\" fill=\"#ff3333\" stroke=\"#555555\" stroke-width=\"2.0\" opacity=\"0.6\" d=\"M -63.398375,12.651365697895537 L -63.398375,2.1705991696247473 L -70.0039375,2.1705991696247473 L -70.0039375,12.651365697895537 L -63.398375,12.651365697895537 z\" /><path fill-rule=\"evenodd\" fill=\"#ff3333\" stroke=\"#555555\" stroke-width=\"2.0\" opacity=\"0.6\" d=\"M -76.6095,23.132132226166327 L -67.117,20.333 L -68.721,17.506 L -63.398375,14.354289939051515 L -63.398375,12.651365697895537 L -76.6095,12.651365697895537 L -76.6095,23.132132226166327 z\" /><path fill-rule=\"evenodd\" fill=\"#ff3333\" stroke=\"#555555\" stroke-width=\"2.0\" opacity=\"0.6\" d=\"M -63.398375,14.354289939051515 L -50.18725,6.531526626034342 L -50.18725,2.1705991696247473 L -63.398375,2.1705991696247473 L -63.398375,14.354289939051515 z\" /><path fill-rule=\"evenodd\" fill=\"#ff3333\" stroke=\"#555555\" stroke-width=\"2.0\" opacity=\"0.6\" d=\"M -50.18725,6.531526626034342 L -36.976124999999996,-1.2912366869828316 L -36.976124999999996,-18.790933886916832 L -50.18725,-18.790933886916832 L -50.18725,6.531526626034342 z\" /><path fill-rule=\"evenodd\" fill=\"#ff3333\" stroke=\"#555555\" stroke-width=\"2.0\" opacity=\"0.6\" d=\"M -36.976124999999996,-1.2912366869828316 L -23.765,-9.114 L -31.61081794753978,-18.790933886916832 L -36.976124999999996,-18.790933886916832 L -36.976124999999996,-1.2912366869828316 z\" /></g></g></svg>"
      ],
      "text/plain": [
       "<shapely.geometry.multipolygon.MultiPolygon at 0x7f40d78df6d0>"
      ]
     },
     "execution_count": 190,
     "metadata": {},
     "output_type": "execute_result"
    }
   ],
   "source": [
    "multipolygon = MultiPolygon(result)\n",
    "multipolygon"
   ]
  },
  {
   "cell_type": "code",
   "execution_count": 197,
   "metadata": {},
   "outputs": [],
   "source": [
    "grid = list()\n",
    "for polygon in MultiPolygon(result):  # same for multipolygon.geoms\n",
    "    grid.append(str(polygon))"
   ]
  },
  {
   "cell_type": "code",
   "execution_count": 198,
   "metadata": {},
   "outputs": [
    {
     "name": "stdout",
     "output_type": "stream",
     "text": [
      "2021073017071627679286\n"
     ]
    }
   ],
   "source": [
    "cm = str(datetime.today().strftime(\"%Y%m%d%H%m%s\"))\n",
    "print(cm)"
   ]
  },
  {
   "cell_type": "code",
   "execution_count": 199,
   "metadata": {},
   "outputs": [
    {
     "name": "stderr",
     "output_type": "stream",
     "text": [
      "/home/soniame/.conda/envs/waze_coronavirus/lib/python3.7/site-packages/geopandas/geodataframe.py:1321: UserWarning: Geometry column does not contain geometry.\n",
      "  warnings.warn(\"Geometry column does not contain geometry.\")\n"
     ]
    }
   ],
   "source": [
    "outdf = gpd.GeoDataFrame(columns=['geometry'])\n",
    "outdf['geometry'] = grid\n",
    "outdf.to_csv(f\"~/private/projects/geo_grid_area_{cm}.csv\")"
   ]
  },
  {
   "cell_type": "code",
   "execution_count": 217,
   "metadata": {},
   "outputs": [],
   "source": [
    "def intersection_line(line, geometry):\n",
    "    #print(line)\n",
    "    line_wkt = wkt.loads(str(line))\n",
    "    result = geometry.intersection(line_wkt)\n",
    "    \n",
    "    return(result)"
   ]
  },
  {
   "cell_type": "code",
   "execution_count": 280,
   "metadata": {},
   "outputs": [
    {
     "data": {
      "text/html": [
       "<div>\n",
       "<style scoped>\n",
       "    .dataframe tbody tr th:only-of-type {\n",
       "        vertical-align: middle;\n",
       "    }\n",
       "\n",
       "    .dataframe tbody tr th {\n",
       "        vertical-align: top;\n",
       "    }\n",
       "\n",
       "    .dataframe thead th {\n",
       "        text-align: right;\n",
       "    }\n",
       "</style>\n",
       "<table border=\"1\" class=\"dataframe\">\n",
       "  <thead>\n",
       "    <tr style=\"text-align: right;\">\n",
       "      <th></th>\n",
       "      <th>line_wkt</th>\n",
       "      <th>count_lines</th>\n",
       "      <th>geo_id</th>\n",
       "    </tr>\n",
       "  </thead>\n",
       "  <tbody>\n",
       "    <tr>\n",
       "      <th>0</th>\n",
       "      <td>LINESTRING(-75.097855 4.448101, -75.098718 4.4...</td>\n",
       "      <td>72</td>\n",
       "      <td></td>\n",
       "    </tr>\n",
       "    <tr>\n",
       "      <th>1</th>\n",
       "      <td>LINESTRING(-100.921694 22.14878, -100.921864 2...</td>\n",
       "      <td>1</td>\n",
       "      <td></td>\n",
       "    </tr>\n",
       "    <tr>\n",
       "      <th>2</th>\n",
       "      <td>LINESTRING(-84.073469 9.962173, -84.073921 9.9...</td>\n",
       "      <td>237</td>\n",
       "      <td></td>\n",
       "    </tr>\n",
       "    <tr>\n",
       "      <th>3</th>\n",
       "      <td>LINESTRING(-101.001843 22.19166, -101.002284 2...</td>\n",
       "      <td>720</td>\n",
       "      <td></td>\n",
       "    </tr>\n",
       "    <tr>\n",
       "      <th>4</th>\n",
       "      <td>LINESTRING(-75.554978 6.3126, -75.554667 6.313...</td>\n",
       "      <td>720</td>\n",
       "      <td></td>\n",
       "    </tr>\n",
       "  </tbody>\n",
       "</table>\n",
       "</div>"
      ],
      "text/plain": [
       "                                            line_wkt  count_lines geo_id\n",
       "0  LINESTRING(-75.097855 4.448101, -75.098718 4.4...           72       \n",
       "1  LINESTRING(-100.921694 22.14878, -100.921864 2...            1       \n",
       "2  LINESTRING(-84.073469 9.962173, -84.073921 9.9...          237       \n",
       "3  LINESTRING(-101.001843 22.19166, -101.002284 2...          720       \n",
       "4  LINESTRING(-75.554978 6.3126, -75.554667 6.313...          720       "
      ]
     },
     "execution_count": 280,
     "metadata": {},
     "output_type": "execute_result"
    }
   ],
   "source": [
    "df_lines['geo_id'] = \"\"\n",
    "df_lines.head()"
   ]
  },
  {
   "cell_type": "code",
   "execution_count": null,
   "metadata": {},
   "outputs": [
    {
     "name": "stdout",
     "output_type": "stream",
     "text": [
      "POLYGON ((-76.6095 -8.368208011344954, -76.6095 -53.97441602268991, -126.421 -23.479, -127.1758303127887 -8.368208011344954, -76.6095 -8.368208011344954))\n",
      "1175153\n",
      "POLYGON ((-129.454 37.238, -103.03175 30.45565377007214, -103.03175 -8.368208011344954, -127.1758303127887 -8.368208011344954, -129.454 37.238))\n",
      "1143754\n"
     ]
    }
   ],
   "source": [
    "\n",
    "for polygon in outdf.geometry[:2]:\n",
    "    print(polygon)\n",
    "    \n",
    "    #polygon = outdf.geometry[0]    \n",
    "    \n",
    "    geometry = wkt.loads(polygon)\n",
    "    lines = df_lines[df_lines['geo_id'] == ''].line_wkt\n",
    "    if len(lines) > 0:\n",
    "        print(len(lines))\n",
    "        intersect = [intersection_func(line, geometry) for line in df_lines.line_wkt]\n",
    "        df_lines.loc[[x > 0 for x in intersect], 'geo_id'] = polygon\n",
    "    "
   ]
  },
  {
   "cell_type": "code",
   "execution_count": 268,
   "metadata": {},
   "outputs": [
    {
     "data": {
      "text/plain": [
       "1175153"
      ]
     },
     "execution_count": 268,
     "metadata": {},
     "output_type": "execute_result"
    }
   ],
   "source": []
  },
  {
   "cell_type": "code",
   "execution_count": 278,
   "metadata": {},
   "outputs": [
    {
     "data": {
      "text/html": [
       "<div>\n",
       "<style scoped>\n",
       "    .dataframe tbody tr th:only-of-type {\n",
       "        vertical-align: middle;\n",
       "    }\n",
       "\n",
       "    .dataframe tbody tr th {\n",
       "        vertical-align: top;\n",
       "    }\n",
       "\n",
       "    .dataframe thead th {\n",
       "        text-align: right;\n",
       "    }\n",
       "</style>\n",
       "<table border=\"1\" class=\"dataframe\">\n",
       "  <thead>\n",
       "    <tr style=\"text-align: right;\">\n",
       "      <th></th>\n",
       "      <th>line_wkt</th>\n",
       "      <th>count_lines</th>\n",
       "      <th>geo_id</th>\n",
       "    </tr>\n",
       "  </thead>\n",
       "  <tbody>\n",
       "    <tr>\n",
       "      <th>108</th>\n",
       "      <td>LINESTRING(-77.067473 -12.054452, -77.066647 -...</td>\n",
       "      <td>4</td>\n",
       "      <td>POLYGON ((-76.6095 -8.368208011344954, -76.609...</td>\n",
       "    </tr>\n",
       "    <tr>\n",
       "      <th>110</th>\n",
       "      <td>LINESTRING(-76.90705 -12.037244, -76.906877 -1...</td>\n",
       "      <td>85</td>\n",
       "      <td>POLYGON ((-76.6095 -8.368208011344954, -76.609...</td>\n",
       "    </tr>\n",
       "    <tr>\n",
       "      <th>114</th>\n",
       "      <td>LINESTRING(-77.039555 -12.04849, -77.040325 -1...</td>\n",
       "      <td>6</td>\n",
       "      <td>POLYGON ((-76.6095 -8.368208011344954, -76.609...</td>\n",
       "    </tr>\n",
       "    <tr>\n",
       "      <th>116</th>\n",
       "      <td>LINESTRING(-76.661292 -11.923681, -76.661081 -...</td>\n",
       "      <td>5</td>\n",
       "      <td>POLYGON ((-76.6095 -8.368208011344954, -76.609...</td>\n",
       "    </tr>\n",
       "    <tr>\n",
       "      <th>382</th>\n",
       "      <td>LINESTRING(-77.043377 -12.070872, -77.043093 -...</td>\n",
       "      <td>720</td>\n",
       "      <td>POLYGON ((-76.6095 -8.368208011344954, -76.609...</td>\n",
       "    </tr>\n",
       "    <tr>\n",
       "      <th>...</th>\n",
       "      <td>...</td>\n",
       "      <td>...</td>\n",
       "      <td>...</td>\n",
       "    </tr>\n",
       "    <tr>\n",
       "      <th>1175063</th>\n",
       "      <td>LINESTRING(-77.041247 -11.918238, -77.041167 -...</td>\n",
       "      <td>1</td>\n",
       "      <td>POLYGON ((-76.6095 -8.368208011344954, -76.609...</td>\n",
       "    </tr>\n",
       "    <tr>\n",
       "      <th>1175065</th>\n",
       "      <td>LINESTRING(-77.005402 -11.985124, -77.005618 -...</td>\n",
       "      <td>1</td>\n",
       "      <td>POLYGON ((-76.6095 -8.368208011344954, -76.609...</td>\n",
       "    </tr>\n",
       "    <tr>\n",
       "      <th>1175100</th>\n",
       "      <td>LINESTRING(-77.070527 -11.949255, -77.070295 -...</td>\n",
       "      <td>1</td>\n",
       "      <td>POLYGON ((-76.6095 -8.368208011344954, -76.609...</td>\n",
       "    </tr>\n",
       "    <tr>\n",
       "      <th>1175126</th>\n",
       "      <td>LINESTRING(-77.114541 -12.056617, -77.114588 -...</td>\n",
       "      <td>1</td>\n",
       "      <td>POLYGON ((-76.6095 -8.368208011344954, -76.609...</td>\n",
       "    </tr>\n",
       "    <tr>\n",
       "      <th>1175136</th>\n",
       "      <td>LINESTRING(-76.970484 -12.026832, -76.968508 -...</td>\n",
       "      <td>1</td>\n",
       "      <td>POLYGON ((-76.6095 -8.368208011344954, -76.609...</td>\n",
       "    </tr>\n",
       "  </tbody>\n",
       "</table>\n",
       "<p>31399 rows × 3 columns</p>\n",
       "</div>"
      ],
      "text/plain": [
       "                                                  line_wkt  count_lines  \\\n",
       "108      LINESTRING(-77.067473 -12.054452, -77.066647 -...            4   \n",
       "110      LINESTRING(-76.90705 -12.037244, -76.906877 -1...           85   \n",
       "114      LINESTRING(-77.039555 -12.04849, -77.040325 -1...            6   \n",
       "116      LINESTRING(-76.661292 -11.923681, -76.661081 -...            5   \n",
       "382      LINESTRING(-77.043377 -12.070872, -77.043093 -...          720   \n",
       "...                                                    ...          ...   \n",
       "1175063  LINESTRING(-77.041247 -11.918238, -77.041167 -...            1   \n",
       "1175065  LINESTRING(-77.005402 -11.985124, -77.005618 -...            1   \n",
       "1175100  LINESTRING(-77.070527 -11.949255, -77.070295 -...            1   \n",
       "1175126  LINESTRING(-77.114541 -12.056617, -77.114588 -...            1   \n",
       "1175136  LINESTRING(-76.970484 -12.026832, -76.968508 -...            1   \n",
       "\n",
       "                                                    geo_id  \n",
       "108      POLYGON ((-76.6095 -8.368208011344954, -76.609...  \n",
       "110      POLYGON ((-76.6095 -8.368208011344954, -76.609...  \n",
       "114      POLYGON ((-76.6095 -8.368208011344954, -76.609...  \n",
       "116      POLYGON ((-76.6095 -8.368208011344954, -76.609...  \n",
       "382      POLYGON ((-76.6095 -8.368208011344954, -76.609...  \n",
       "...                                                    ...  \n",
       "1175063  POLYGON ((-76.6095 -8.368208011344954, -76.609...  \n",
       "1175065  POLYGON ((-76.6095 -8.368208011344954, -76.609...  \n",
       "1175100  POLYGON ((-76.6095 -8.368208011344954, -76.609...  \n",
       "1175126  POLYGON ((-76.6095 -8.368208011344954, -76.609...  \n",
       "1175136  POLYGON ((-76.6095 -8.368208011344954, -76.609...  \n",
       "\n",
       "[31399 rows x 3 columns]"
      ]
     },
     "execution_count": 278,
     "metadata": {},
     "output_type": "execute_result"
    }
   ],
   "source": []
  },
  {
   "cell_type": "code",
   "execution_count": 276,
   "metadata": {},
   "outputs": [
    {
     "data": {
      "text/html": [
       "<div>\n",
       "<style scoped>\n",
       "    .dataframe tbody tr th:only-of-type {\n",
       "        vertical-align: middle;\n",
       "    }\n",
       "\n",
       "    .dataframe tbody tr th {\n",
       "        vertical-align: top;\n",
       "    }\n",
       "\n",
       "    .dataframe thead th {\n",
       "        text-align: right;\n",
       "    }\n",
       "</style>\n",
       "<table border=\"1\" class=\"dataframe\">\n",
       "  <thead>\n",
       "    <tr style=\"text-align: right;\">\n",
       "      <th></th>\n",
       "      <th>line_wkt</th>\n",
       "      <th>count_lines</th>\n",
       "      <th>geo_id</th>\n",
       "    </tr>\n",
       "  </thead>\n",
       "  <tbody>\n",
       "    <tr>\n",
       "      <th>0</th>\n",
       "      <td>LINESTRING(-75.097855 4.448101, -75.098718 4.4...</td>\n",
       "      <td>72</td>\n",
       "      <td></td>\n",
       "    </tr>\n",
       "    <tr>\n",
       "      <th>1</th>\n",
       "      <td>LINESTRING(-100.921694 22.14878, -100.921864 2...</td>\n",
       "      <td>1</td>\n",
       "      <td></td>\n",
       "    </tr>\n",
       "    <tr>\n",
       "      <th>2</th>\n",
       "      <td>LINESTRING(-84.073469 9.962173, -84.073921 9.9...</td>\n",
       "      <td>237</td>\n",
       "      <td></td>\n",
       "    </tr>\n",
       "    <tr>\n",
       "      <th>3</th>\n",
       "      <td>LINESTRING(-101.001843 22.19166, -101.002284 2...</td>\n",
       "      <td>720</td>\n",
       "      <td></td>\n",
       "    </tr>\n",
       "    <tr>\n",
       "      <th>4</th>\n",
       "      <td>LINESTRING(-75.554978 6.3126, -75.554667 6.313...</td>\n",
       "      <td>720</td>\n",
       "      <td></td>\n",
       "    </tr>\n",
       "    <tr>\n",
       "      <th>...</th>\n",
       "      <td>...</td>\n",
       "      <td>...</td>\n",
       "      <td>...</td>\n",
       "    </tr>\n",
       "    <tr>\n",
       "      <th>1175148</th>\n",
       "      <td>LINESTRING(-99.247749 19.457225, -99.248203 19...</td>\n",
       "      <td>1</td>\n",
       "      <td></td>\n",
       "    </tr>\n",
       "    <tr>\n",
       "      <th>1175149</th>\n",
       "      <td>LINESTRING(-76.176653 -13.571443, -76.176437 -...</td>\n",
       "      <td>1</td>\n",
       "      <td></td>\n",
       "    </tr>\n",
       "    <tr>\n",
       "      <th>1175150</th>\n",
       "      <td>LINESTRING(-63.154796 -17.7774, -63.154864 -17...</td>\n",
       "      <td>1</td>\n",
       "      <td></td>\n",
       "    </tr>\n",
       "    <tr>\n",
       "      <th>1175151</th>\n",
       "      <td>LINESTRING(-46.750772 -23.26417, -46.750684 -2...</td>\n",
       "      <td>1</td>\n",
       "      <td></td>\n",
       "    </tr>\n",
       "    <tr>\n",
       "      <th>1175152</th>\n",
       "      <td>LINESTRING(-74.124524 4.742406, -74.123598 4.7...</td>\n",
       "      <td>1</td>\n",
       "      <td></td>\n",
       "    </tr>\n",
       "  </tbody>\n",
       "</table>\n",
       "<p>1175153 rows × 3 columns</p>\n",
       "</div>"
      ],
      "text/plain": [
       "                                                  line_wkt  count_lines geo_id\n",
       "0        LINESTRING(-75.097855 4.448101, -75.098718 4.4...           72       \n",
       "1        LINESTRING(-100.921694 22.14878, -100.921864 2...            1       \n",
       "2        LINESTRING(-84.073469 9.962173, -84.073921 9.9...          237       \n",
       "3        LINESTRING(-101.001843 22.19166, -101.002284 2...          720       \n",
       "4        LINESTRING(-75.554978 6.3126, -75.554667 6.313...          720       \n",
       "...                                                    ...          ...    ...\n",
       "1175148  LINESTRING(-99.247749 19.457225, -99.248203 19...            1       \n",
       "1175149  LINESTRING(-76.176653 -13.571443, -76.176437 -...            1       \n",
       "1175150  LINESTRING(-63.154796 -17.7774, -63.154864 -17...            1       \n",
       "1175151  LINESTRING(-46.750772 -23.26417, -46.750684 -2...            1       \n",
       "1175152  LINESTRING(-74.124524 4.742406, -74.123598 4.7...            1       \n",
       "\n",
       "[1175153 rows x 3 columns]"
      ]
     },
     "execution_count": 276,
     "metadata": {},
     "output_type": "execute_result"
    }
   ],
   "source": []
  },
  {
   "cell_type": "code",
   "execution_count": null,
   "metadata": {},
   "outputs": [],
   "source": []
  }
 ],
 "metadata": {
  "kernelspec": {
   "display_name": "waze_coronavirus",
   "language": "python",
   "name": "waze_coronavirus"
  },
  "language_info": {
   "codemirror_mode": {
    "name": "ipython",
    "version": 3
   },
   "file_extension": ".py",
   "mimetype": "text/x-python",
   "name": "python",
   "nbconvert_exporter": "python",
   "pygments_lexer": "ipython3",
   "version": "3.7.10"
  },
  "toc": {
   "base_numbering": 1,
   "nav_menu": {},
   "number_sections": true,
   "sideBar": true,
   "skip_h1_title": false,
   "title_cell": "Table of Contents",
   "title_sidebar": "Contents",
   "toc_cell": false,
   "toc_position": {},
   "toc_section_display": true,
   "toc_window_display": false
  }
 },
 "nbformat": 4,
 "nbformat_minor": 2
}
