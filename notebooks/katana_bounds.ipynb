{
 "cells": [
  {
   "cell_type": "code",
   "execution_count": 109,
   "metadata": {},
   "outputs": [],
   "source": [
    "# %load first_cell.py\n",
    "%reload_ext autoreload\n",
    "%autoreload 2\n",
    "from pathlib import Path\n",
    "\n",
    "# system paths\n",
    "import sys\n",
    "home = str(Path.home())\n",
    "sys.path = sys.path + [f'{home}/.conda/envs/norm_env/lib/python37.zip', \n",
    "                       f'{home}/.conda/envs/norm_env/lib/python3.7', \n",
    "                       f'{home}/.conda/envs/norm_env/lib/python3.7/lib-dynload', \n",
    "                       f'{home}/.conda/envs/norm_env/lib/python3.7/site-packages']\n",
    "sys.prefix = '/home/soniame/.conda/envs/norm_env'\n",
    "from paths import RAW_PATH, TREAT_PATH, OUTPUT_PATH, FIGURES_PATH\n",
    "\n",
    "# aws connection\n",
    "import boto3\n",
    "import awswrangler as wr\n",
    "\n",
    "# local libraries\n",
    "from src import utils\n",
    "\n",
    "# analysis libraries\n",
    "from datetime import datetime\n",
    "import pandas as pd\n",
    "import osmpy\n",
    "from shapely.geometry import box, Polygon, MultiPolygon, GeometryCollection, shape\n",
    "from shapely import wkt\n",
    "from shapely.ops import transform\n",
    "import shapely\n",
    "\n",
    "cm = str(datetime.today().strftime(\"%Y%m%d%H%m\"))"
   ]
  },
  {
   "cell_type": "code",
   "execution_count": 2,
   "metadata": {},
   "outputs": [
    {
     "name": "stderr",
     "output_type": "stream",
     "text": [
      "../src/utils.py:159: YAMLLoadWarning: calling yaml.load() without Loader=... is deprecated, as the default Loader is unsafe. Please read https://msg.pyyaml.org/load for full details.\n",
      "  athena_config = yaml.load(open(path, \"r\"))\n"
     ]
    }
   ],
   "source": [
    "conn = utils.connect_athena(path='../configs/athena.yaml')"
   ]
  },
  {
   "cell_type": "code",
   "execution_count": 3,
   "metadata": {},
   "outputs": [],
   "source": [
    "df_sample = pd.read_sql_query(f\"\"\"\n",
    "    select *\n",
    "    from spd_sdv_waze_corona.raw_copy_jams\n",
    "    limit 100\"\"\", conn)"
   ]
  },
  {
   "cell_type": "code",
   "execution_count": 41,
   "metadata": {},
   "outputs": [],
   "source": [
    "#polygon = 'POLYGON((2.0117187499999822 44.38657313925715,-19.433593750000018 19.207272119703983,19.414062499999982 6.904449621538131,64.94140624999999 -3.096801256840523,81.46484374999999 37.21269961002643,45.78124999999998 24.106495997107682,53.69140624999998 51.22054369437158,3.7695312499999822 37.07257833232809,2.0117187499999822 44.38657313925715))'\n",
    "#geometry = wkt.loads(polygon)\n",
    "#geometry"
   ]
  },
  {
   "cell_type": "code",
   "execution_count": 88,
   "metadata": {},
   "outputs": [
    {
     "name": "stdout",
     "output_type": "stream",
     "text": [
      "12.5\n"
     ]
    }
   ],
   "source": [
    "polygon = Polygon([(0, 0), (5, 5), (5, 0)])\n",
    "print(polygon.area)"
   ]
  },
  {
   "cell_type": "code",
   "execution_count": 99,
   "metadata": {},
   "outputs": [],
   "source": [
    "geometry = polygon\n",
    "result = osmpy.core.katana(geometry, \n",
    "                           threshold_func = osmpy.core.threshold_func, \n",
    "                           threshold_value = 50, \n",
    "                           count = 30)\n",
    "multipolygon = MultiPolygon(result)"
   ]
  },
  {
   "cell_type": "code",
   "execution_count": 98,
   "metadata": {},
   "outputs": [
    {
     "name": "stderr",
     "output_type": "stream",
     "text": [
      "INFO|%|s\n"
     ]
    },
    {
     "name": "stdout",
     "output_type": "stream",
     "text": [
      "16\n"
     ]
    },
    {
     "data": {
      "image/svg+xml": [
       "<svg xmlns=\"http://www.w3.org/2000/svg\" xmlns:xlink=\"http://www.w3.org/1999/xlink\" width=\"100.0\" height=\"100.0\" viewBox=\"4.675 4.675 0.33750000000000036 0.33750000000000036\" preserveAspectRatio=\"xMinYMin meet\"><g transform=\"matrix(1,0,0,-1,0,9.6875)\"><g><path fill-rule=\"evenodd\" fill=\"#ff3333\" stroke=\"#555555\" stroke-width=\"0.006750000000000007\" opacity=\"0.6\" d=\"M 4.6875,4.6875 L 4.765625,4.765625 L 4.765625,4.6875 L 4.6875,4.6875 z\" /><path fill-rule=\"evenodd\" fill=\"#ff3333\" stroke=\"#555555\" stroke-width=\"0.006750000000000007\" opacity=\"0.6\" d=\"M 4.84375,4.7265625 L 4.84375,4.6875 L 4.765625,4.6875 L 4.765625,4.7265625 L 4.84375,4.7265625 z\" /><path fill-rule=\"evenodd\" fill=\"#ff3333\" stroke=\"#555555\" stroke-width=\"0.006750000000000007\" opacity=\"0.6\" d=\"M 4.765625,4.765625 L 4.84375,4.765625 L 4.84375,4.7265625 L 4.765625,4.7265625 L 4.765625,4.765625 z\" /><path fill-rule=\"evenodd\" fill=\"#ff3333\" stroke=\"#555555\" stroke-width=\"0.006750000000000007\" opacity=\"0.6\" d=\"M 4.765625,4.765625 L 4.84375,4.84375 L 4.84375,4.765625 L 4.765625,4.765625 z\" /><path fill-rule=\"evenodd\" fill=\"#ff3333\" stroke=\"#555555\" stroke-width=\"0.006750000000000007\" opacity=\"0.6\" d=\"M 4.921875,4.6875 L 4.84375,4.6875 L 4.84375,4.7265625 L 4.921875,4.7265625 L 4.921875,4.6875 z\" /><path fill-rule=\"evenodd\" fill=\"#ff3333\" stroke=\"#555555\" stroke-width=\"0.006750000000000007\" opacity=\"0.6\" d=\"M 4.84375,4.7265625 L 4.84375,4.765625 L 4.921875,4.765625 L 4.921875,4.7265625 L 4.84375,4.7265625 z\" /><path fill-rule=\"evenodd\" fill=\"#ff3333\" stroke=\"#555555\" stroke-width=\"0.006750000000000007\" opacity=\"0.6\" d=\"M 5.0,4.7265625 L 5.0,4.6875 L 4.921875,4.6875 L 4.921875,4.7265625 L 5.0,4.7265625 z\" /><path fill-rule=\"evenodd\" fill=\"#ff3333\" stroke=\"#555555\" stroke-width=\"0.006750000000000007\" opacity=\"0.6\" d=\"M 5.0,4.765625 L 5.0,4.7265625 L 4.921875,4.7265625 L 4.921875,4.765625 L 5.0,4.765625 z\" /><path fill-rule=\"evenodd\" fill=\"#ff3333\" stroke=\"#555555\" stroke-width=\"0.006750000000000007\" opacity=\"0.6\" d=\"M 4.921875,4.8046875 L 4.921875,4.765625 L 4.84375,4.765625 L 4.84375,4.8046875 L 4.921875,4.8046875 z\" /><path fill-rule=\"evenodd\" fill=\"#ff3333\" stroke=\"#555555\" stroke-width=\"0.006750000000000007\" opacity=\"0.6\" d=\"M 4.84375,4.84375 L 4.921875,4.84375 L 4.921875,4.8046875 L 4.84375,4.8046875 L 4.84375,4.84375 z\" /><path fill-rule=\"evenodd\" fill=\"#ff3333\" stroke=\"#555555\" stroke-width=\"0.006750000000000007\" opacity=\"0.6\" d=\"M 5.0,4.8046875 L 5.0,4.765625 L 4.921875,4.765625 L 4.921875,4.8046875 L 5.0,4.8046875 z\" /><path fill-rule=\"evenodd\" fill=\"#ff3333\" stroke=\"#555555\" stroke-width=\"0.006750000000000007\" opacity=\"0.6\" d=\"M 4.921875,4.84375 L 5.0,4.84375 L 5.0,4.8046875 L 4.921875,4.8046875 L 4.921875,4.84375 z\" /><path fill-rule=\"evenodd\" fill=\"#ff3333\" stroke=\"#555555\" stroke-width=\"0.006750000000000007\" opacity=\"0.6\" d=\"M 4.84375,4.84375 L 4.921875,4.921875 L 4.921875,4.84375 L 4.84375,4.84375 z\" /><path fill-rule=\"evenodd\" fill=\"#ff3333\" stroke=\"#555555\" stroke-width=\"0.006750000000000007\" opacity=\"0.6\" d=\"M 5.0,4.8828125 L 5.0,4.84375 L 4.921875,4.84375 L 4.921875,4.8828125 L 5.0,4.8828125 z\" /><path fill-rule=\"evenodd\" fill=\"#ff3333\" stroke=\"#555555\" stroke-width=\"0.006750000000000007\" opacity=\"0.6\" d=\"M 4.921875,4.921875 L 5.0,4.921875 L 5.0,4.8828125 L 4.921875,4.8828125 L 4.921875,4.921875 z\" /><path fill-rule=\"evenodd\" fill=\"#ff3333\" stroke=\"#555555\" stroke-width=\"0.006750000000000007\" opacity=\"0.6\" d=\"M 4.921875,4.921875 L 5.0,5.0 L 5.0,4.921875 L 4.921875,4.921875 z\" /></g></g></svg>"
      ],
      "text/plain": [
       "<shapely.geometry.multipolygon.MultiPolygon at 0x7f36c457a950>"
      ]
     },
     "execution_count": 98,
     "metadata": {},
     "output_type": "execute_result"
    }
   ],
   "source": [
    "print(len(multipolygon.geoms))\n",
    "multipolygon"
   ]
  },
  {
   "cell_type": "code",
   "execution_count": 100,
   "metadata": {},
   "outputs": [
    {
     "data": {
      "text/plain": [
       "['POLYGON ((4.6875 4.6875, 4.765625 4.765625, 4.765625 4.6875, 4.6875 4.6875))',\n",
       " 'POLYGON ((4.84375 4.7265625, 4.84375 4.6875, 4.765625 4.6875, 4.765625 4.7265625, 4.84375 4.7265625))',\n",
       " 'POLYGON ((4.765625 4.765625, 4.84375 4.765625, 4.84375 4.7265625, 4.765625 4.7265625, 4.765625 4.765625))',\n",
       " 'POLYGON ((4.765625 4.765625, 4.84375 4.84375, 4.84375 4.765625, 4.765625 4.765625))',\n",
       " 'POLYGON ((4.921875 4.6875, 4.84375 4.6875, 4.84375 4.7265625, 4.921875 4.7265625, 4.921875 4.6875))',\n",
       " 'POLYGON ((4.84375 4.7265625, 4.84375 4.765625, 4.921875 4.765625, 4.921875 4.7265625, 4.84375 4.7265625))',\n",
       " 'POLYGON ((5 4.7265625, 5 4.6875, 4.921875 4.6875, 4.921875 4.7265625, 5 4.7265625))',\n",
       " 'POLYGON ((5 4.765625, 5 4.7265625, 4.921875 4.7265625, 4.921875 4.765625, 5 4.765625))',\n",
       " 'POLYGON ((4.921875 4.8046875, 4.921875 4.765625, 4.84375 4.765625, 4.84375 4.8046875, 4.921875 4.8046875))',\n",
       " 'POLYGON ((4.84375 4.84375, 4.921875 4.84375, 4.921875 4.8046875, 4.84375 4.8046875, 4.84375 4.84375))',\n",
       " 'POLYGON ((5 4.8046875, 5 4.765625, 4.921875 4.765625, 4.921875 4.8046875, 5 4.8046875))',\n",
       " 'POLYGON ((4.921875 4.84375, 5 4.84375, 5 4.8046875, 4.921875 4.8046875, 4.921875 4.84375))',\n",
       " 'POLYGON ((4.84375 4.84375, 4.921875 4.921875, 4.921875 4.84375, 4.84375 4.84375))',\n",
       " 'POLYGON ((5 4.8828125, 5 4.84375, 4.921875 4.84375, 4.921875 4.8828125, 5 4.8828125))',\n",
       " 'POLYGON ((4.921875 4.921875, 5 4.921875, 5 4.8828125, 4.921875 4.8828125, 4.921875 4.921875))',\n",
       " 'POLYGON ((4.921875 4.921875, 5 5, 5 4.921875, 4.921875 4.921875))']"
      ]
     },
     "execution_count": 100,
     "metadata": {},
     "output_type": "execute_result"
    }
   ],
   "source": [
    "grid = list()\n",
    "for polygon in multipolygon:  # same for multipolygon.geoms\n",
    "    grid.append(str(polygon))"
   ]
  },
  {
   "cell_type": "code",
   "execution_count": 96,
   "metadata": {},
   "outputs": [],
   "source": [
    "outdf = gpd.GeoDataFrame(columns=['geometry'])\n",
    "outdf['geometry'] = grid\n",
    "outdf.to_csv(\"/home/soniame/private/testing/geo_grid_area_{cm}.csv\")"
   ]
  },
  {
   "cell_type": "code",
   "execution_count": null,
   "metadata": {},
   "outputs": [],
   "source": []
  }
 ],
 "metadata": {
  "kernelspec": {
   "display_name": "waze_coronavirus",
   "language": "python",
   "name": "waze_coronavirus"
  },
  "language_info": {
   "codemirror_mode": {
    "name": "ipython",
    "version": 3
   },
   "file_extension": ".py",
   "mimetype": "text/x-python",
   "name": "python",
   "nbconvert_exporter": "python",
   "pygments_lexer": "ipython3",
   "version": "3.7.10"
  },
  "toc": {
   "base_numbering": 1,
   "nav_menu": {},
   "number_sections": true,
   "sideBar": true,
   "skip_h1_title": false,
   "title_cell": "Table of Contents",
   "title_sidebar": "Contents",
   "toc_cell": false,
   "toc_position": {},
   "toc_section_display": true,
   "toc_window_display": false
  }
 },
 "nbformat": 4,
 "nbformat_minor": 2
}
