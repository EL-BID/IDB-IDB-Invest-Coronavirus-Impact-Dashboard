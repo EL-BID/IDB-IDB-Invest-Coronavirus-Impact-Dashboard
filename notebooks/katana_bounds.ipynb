{
 "cells": [
  {
   "cell_type": "markdown",
   "metadata": {},
   "source": [
    "# Split lines into grid"
   ]
  },
  {
   "cell_type": "code",
   "execution_count": 2,
   "metadata": {},
   "outputs": [
    {
     "data": {
      "text/plain": [
       "'202109091309'"
      ]
     },
     "execution_count": 2,
     "metadata": {},
     "output_type": "execute_result"
    }
   ],
   "source": [
    "# %load first_cell.py\n",
    "%reload_ext autoreload\n",
    "%autoreload 2\n",
    "from pathlib import Path\n",
    "import os\n",
    "\n",
    "# system paths\n",
    "import sys\n",
    "home = str(Path.home())\n",
    "sys.path = sys.path + [f'{home}/.conda/envs/norm_env/lib/python37.zip', \n",
    "                       f'{home}/.conda/envs/norm_env/lib/python3.7', \n",
    "                       f'{home}/.conda/envs/norm_env/lib/python3.7/lib-dynload', \n",
    "                       f'{home}/.conda/envs/norm_env/lib/python3.7/site-packages']\n",
    "sys.prefix = '/home/soniame/.conda/envs/norm_env'\n",
    "from paths import RAW_PATH, TREAT_PATH, OUTPUT_PATH, FIGURES_PATH\n",
    "\n",
    "# aws connection*\n",
    "import boto3\n",
    "import awswrangler as wr\n",
    "\n",
    "# local libraries\n",
    "from src import utils\n",
    "\n",
    "# analysis libraries\n",
    "from datetime import datetime, timedelta\n",
    "import pandas as pd\n",
    "import numpy as np\n",
    "import geopandas as gpd\n",
    "import random\n",
    "import itertools\n",
    "\n",
    "import matplotlib.pyplot as plt\n",
    "\n",
    "from shapely.geometry import box, Polygon, MultiPolygon, LineString, GeometryCollection, shape\n",
    "from shapely import wkt\n",
    "from shapely.ops import transform\n",
    "from babelgrid import Babel\n",
    "\n",
    "from multiprocessing.pool import Pool\n",
    "from functools import partial\n",
    "\n",
    "from loguru import logger\n",
    "\n",
    "cm = str(datetime.today().strftime(\"%Y%m%d%H%m\"))\n",
    "cm"
   ]
  },
  {
   "cell_type": "code",
   "execution_count": null,
   "metadata": {},
   "outputs": [],
   "source": []
  },
  {
   "cell_type": "markdown",
   "metadata": {},
   "source": [
    "## Sample dates\n",
    "\n",
    "Executing 50 dates to sample from jams data set"
   ]
  },
  {
   "cell_type": "code",
   "execution_count": 2,
   "metadata": {},
   "outputs": [],
   "source": [
    "from src.runners.sample_jams import _sample_dates"
   ]
  },
  {
   "cell_type": "code",
   "execution_count": null,
   "metadata": {},
   "outputs": [],
   "source": [
    "df = _sample_dates(start_date = '2019-01-01', end_date = '2021-08-12')"
   ]
  },
  {
   "cell_type": "code",
   "execution_count": null,
   "metadata": {},
   "outputs": [],
   "source": [
    "print(df.date_filter[0])"
   ]
  },
  {
   "cell_type": "code",
   "execution_count": null,
   "metadata": {},
   "outputs": [],
   "source": []
  },
  {
   "cell_type": "markdown",
   "metadata": {},
   "source": [
    "## Sample lines counts\n",
    "\n",
    "Run a query to download unique lines and number of appearance. \n",
    "\n",
    "- Lines 21,904,128\n",
    "- Jams 507,139,112\n",
    "- 50 weekdays sampled\n",
    "\n",
    "Data is split in 6 groups to run each intersection with grids. Function `_split_groups()`. Each split contains 3,650,688 lines."
   ]
  },
  {
   "cell_type": "code",
   "execution_count": null,
   "metadata": {},
   "outputs": [],
   "source": [
    "from src.runners.split_polygon import _get_lines"
   ]
  },
  {
   "cell_type": "code",
   "execution_count": null,
   "metadata": {},
   "outputs": [],
   "source": [
    "df_lines = _get_lines(update_data = False)"
   ]
  },
  {
   "cell_type": "code",
   "execution_count": null,
   "metadata": {},
   "outputs": [],
   "source": [
    "print(df_lines.shape)\n",
    "print(sum(df_lines.count_lines))\n",
    "df_lines.head(3)"
   ]
  },
  {
   "cell_type": "code",
   "execution_count": null,
   "metadata": {},
   "outputs": [],
   "source": [
    "from siuba import group_by, summarize, _\n",
    "(df_lines\n",
    "  >> group_by(_.split)\n",
    "  >> summarize(lines = _.line_wkt.count())\n",
    "  )"
   ]
  },
  {
   "cell_type": "code",
   "execution_count": null,
   "metadata": {},
   "outputs": [],
   "source": []
  },
  {
   "cell_type": "code",
   "execution_count": null,
   "metadata": {},
   "outputs": [],
   "source": []
  },
  {
   "cell_type": "markdown",
   "metadata": {},
   "source": [
    "## Coarse grid split"
   ]
  },
  {
   "cell_type": "code",
   "execution_count": null,
   "metadata": {},
   "outputs": [],
   "source": [
    "from src.runners import split_polygon"
   ]
  },
  {
   "cell_type": "code",
   "execution_count": null,
   "metadata": {
    "scrolled": true
   },
   "outputs": [],
   "source": [
    "# Plotting H3 cells\n",
    "\n",
    "# H3 cells grid\n",
    "tiles = Babel('h3').polyfill(geometry, resolution=1)\n",
    "# S2 cells grid\n",
    "#tiles = Babel('s2').polyfill(geometry, resolution=4)\n",
    "len(tiles)\n",
    "\n",
    "if False:\n",
    "    tiles_gdf = gpd.GeoDataFrame([t.to_dict() for t in tiles], geometry='shapely')\n",
    "    df = tiles_gdf\n",
    "    m = folium.Map(location=[40.70, -73.94], zoom_start=2, tiles='CartoDB positron')\n",
    "    for _, r in df.iterrows():\n",
    "        # Without simplifying the representation of each borough,\n",
    "        # the map might not be displayed\n",
    "        sim_geo = gpd.GeoSeries(r['shapely']).simplify(tolerance=0.001)\n",
    "        geo_j = sim_geo.to_json()\n",
    "        geo_j = folium.GeoJson(data=geo_j,\n",
    "                               style_function=lambda x: {'fillColor': 'orange'})\n",
    "        geo_j.add_to(m)\n",
    "    m"
   ]
  },
  {
   "cell_type": "code",
   "execution_count": null,
   "metadata": {},
   "outputs": [],
   "source": [
    "tiles[0].geometry.wkt"
   ]
  },
  {
   "cell_type": "code",
   "execution_count": null,
   "metadata": {},
   "outputs": [],
   "source": [
    "# Run this in 6 separated instances \n",
    "logger.warning('Better to run it from terminal in different instances')\n",
    "# df_coarse_split = _create_coarse_grid(df_lines, tiles, split = )"
   ]
  },
  {
   "cell_type": "code",
   "execution_count": null,
   "metadata": {},
   "outputs": [],
   "source": []
  },
  {
   "cell_type": "markdown",
   "metadata": {},
   "source": [
    "### Coarse grid union\n",
    "\n",
    "Union of results from parallelization in 6 instances. \n",
    "\n",
    "- Cells: 57\n",
    "- Lines: 22,214,341\n",
    "- Run time per instance: 3 hrs."
   ]
  },
  {
   "cell_type": "code",
   "execution_count": null,
   "metadata": {},
   "outputs": [],
   "source": [
    "from src.runners.split_polygon import _coarse_union"
   ]
  },
  {
   "cell_type": "code",
   "execution_count": null,
   "metadata": {},
   "outputs": [],
   "source": [
    "mypath = \"/home/soniame/private/projects/corona_geo_id/coarse_grid/\"\n",
    "csv_files = [os.path.join(mypath, x) for x in os.listdir(mypath)]"
   ]
  },
  {
   "cell_type": "code",
   "execution_count": null,
   "metadata": {},
   "outputs": [],
   "source": [
    "# Sample: union of lines\n",
    "csv_files = ['/home/soniame/private/projects/corona_geo_id/coarse_grid/coarse_id.csv',\n",
    " '/home/soniame/private/projects/corona_geo_id/coarse_grid/coarse_id_new_1.csv',\n",
    " '/home/soniame/private/projects/corona_geo_id/coarse_grid/coarse_id_new_2.csv',\n",
    " '/home/soniame/private/projects/corona_geo_id/coarse_grid/coarse_id_new_3.csv',\n",
    " '/home/soniame/private/projects/corona_geo_id/coarse_grid/coarse_id_new_4.csv',\n",
    " '/home/soniame/private/projects/corona_geo_id/coarse_grid/coarse_id_new_5.csv',\n",
    " '/home/soniame/private/projects/corona_geo_id/coarse_grid/coarse_id_new_6.csv']\n",
    "csv_files\n",
    "df_coarse = _coarse_union(csv_files)"
   ]
  },
  {
   "cell_type": "code",
   "execution_count": null,
   "metadata": {},
   "outputs": [],
   "source": [
    "# Export to csv \n",
    "coarse_path = '/home/soniame/shared/spd-sdv-omitnik-waze/corona/geo_partition/coarse_id/coarse_grid_sample.csv'\n",
    "df_coarse.to_csv(coarse_path, index = False)"
   ]
  },
  {
   "cell_type": "code",
   "execution_count": null,
   "metadata": {},
   "outputs": [],
   "source": []
  },
  {
   "cell_type": "markdown",
   "metadata": {},
   "source": [
    "### Coarse grid distribution"
   ]
  },
  {
   "cell_type": "code",
   "execution_count": null,
   "metadata": {},
   "outputs": [],
   "source": [
    "coarse_path = '/home/soniame/shared/spd-sdv-omitnik-waze/corona/geo_partition/coarse_id/coarse_grid_sample.csv'\n",
    "df_coarse_R1 = pd.read_csv(coarse_path)\n",
    "df_coarse_R1 = df_coarse_R1.rename(columns = {'line':'line_wkt'})"
   ]
  },
  {
   "cell_type": "code",
   "execution_count": null,
   "metadata": {},
   "outputs": [],
   "source": [
    "print(df_coarse_R1.shape)\n",
    "print(df_coarse_R1.coarse_wkt.nunique())\n",
    "print(df_coarse_R1.line_wkt.nunique())\n",
    "# df_coarse_R1.head()"
   ]
  },
  {
   "cell_type": "code",
   "execution_count": null,
   "metadata": {},
   "outputs": [],
   "source": [
    "# Union de coarse y merge con count of jams\n",
    "df_merge = df_coarse_R1.merge(df_lines, how = 'left', on = 'line_wkt')\n",
    "print(df_merge.shape)\n",
    "df_merge.head()"
   ]
  },
  {
   "cell_type": "code",
   "execution_count": null,
   "metadata": {},
   "outputs": [],
   "source": [
    "from siuba import group_by, ungroup, arrange, summarize, _\n",
    "\n",
    "# Table of distribution pero H3 Cell\n",
    "tab = (df_merge\n",
    "  >> group_by(_.coarse_wkt)\n",
    "  >> summarize(lines = _.line_wkt.count(),\n",
    "               jams  = _.count_lines.sum())\n",
    "  >> ungroup()\n",
    "  >> arrange(-_.lines)\n",
    "  )\n",
    "tab.head()"
   ]
  },
  {
   "cell_type": "code",
   "execution_count": null,
   "metadata": {},
   "outputs": [],
   "source": [
    "# Export to csv \n",
    "tab.to_csv('/home/soniame/shared/spd-sdv-omitnik-waze/corona/geo_partition/figures/coarse_grid_distribution.csv', index = False)"
   ]
  },
  {
   "cell_type": "code",
   "execution_count": null,
   "metadata": {},
   "outputs": [],
   "source": []
  },
  {
   "cell_type": "markdown",
   "metadata": {},
   "source": [
    "Plots"
   ]
  },
  {
   "cell_type": "code",
   "execution_count": null,
   "metadata": {},
   "outputs": [],
   "source": [
    "tab = pd.read_csv('/home/soniame/shared/spd-sdv-omitnik-waze/corona/geo_partition/figures/coarse_grid_distribution.csv')"
   ]
  },
  {
   "cell_type": "code",
   "execution_count": null,
   "metadata": {},
   "outputs": [],
   "source": [
    "tab['geometry'] = gpd.GeoSeries.from_wkt(tab['coarse_wkt'])\n",
    "tab = gpd.GeoDataFrame(tab, geometry='geometry')\n",
    "fig, ax = plt.subplots(1, 1)\n",
    "tab.plot(column='lines', ax=ax, \n",
    "         legend=True, cmap='OrRd')\n",
    "plt.title('Coarse Grid 1 - Number of lines')\n",
    "plt.savefig('/home/soniame/shared/spd-sdv-omitnik-waze/corona/geo_partition/figures/coarse_map_LinesR1.pdf')"
   ]
  },
  {
   "cell_type": "code",
   "execution_count": null,
   "metadata": {},
   "outputs": [],
   "source": [
    "tab['geometry'] = gpd.GeoSeries.from_wkt(tab['coarse_wkt'])\n",
    "tab = gpd.GeoDataFrame(tab, geometry='geometry')\n",
    "fig, ax = plt.subplots(1, 1)\n",
    "tab.plot(column='jams', ax=ax, \n",
    "         legend=True, cmap='OrRd')\n",
    "plt.title('Coarse Grid 1 - Number of Jams')\n",
    "plt.savefig('/home/soniame/shared/spd-sdv-omitnik-waze/corona/geo_partition/figures/coarse_map_JamsR1.pdf')"
   ]
  },
  {
   "cell_type": "code",
   "execution_count": null,
   "metadata": {},
   "outputs": [],
   "source": [
    "plt.scatter(tab.jams, tab.lines)"
   ]
  },
  {
   "cell_type": "code",
   "execution_count": null,
   "metadata": {},
   "outputs": [],
   "source": []
  },
  {
   "cell_type": "markdown",
   "metadata": {},
   "source": [
    "### Coarse grid union Big Polygons (R2)\n",
    "\n",
    "Union of results from parallelization in 6 instances. \n",
    "\n",
    "- Cells: \n",
    "- Lines: 22,214,341\n",
    "- Run time per polygon: 2 hrs."
   ]
  },
  {
   "cell_type": "code",
   "execution_count": null,
   "metadata": {},
   "outputs": [],
   "source": [
    "from src.runners.split_polygon import _new_res_coarse_grid\n",
    "from siuba import group_by, ungroup, arrange, summarize, _"
   ]
  },
  {
   "cell_type": "code",
   "execution_count": null,
   "metadata": {},
   "outputs": [],
   "source": [
    "# Ran in terminal\n",
    "logger.warning(\"Only run to update resolution 2\")\n",
    "# _new_res_coarse_grid()"
   ]
  },
  {
   "cell_type": "code",
   "execution_count": null,
   "metadata": {},
   "outputs": [],
   "source": [
    "from src.runners.split_polygon import _coarse_union\n",
    "mypath = \"/home/soniame/private/projects/corona_geo_id/coarse_grid/\"\n",
    "csv_files = [os.path.join(mypath, x) for x in os.listdir(mypath)]"
   ]
  },
  {
   "cell_type": "code",
   "execution_count": null,
   "metadata": {},
   "outputs": [],
   "source": [
    "# Sample: union of lines for resolution 2\n",
    "csv_files = [\n",
    " '/home/soniame/private/projects/corona_geo_id/coarse_grid/coarse_id_new_R2_1.csv',\n",
    " '/home/soniame/private/projects/corona_geo_id/coarse_grid/coarse_id_new_R2_2.csv',\n",
    " '/home/soniame/private/projects/corona_geo_id/coarse_grid/coarse_id_new_R2_3.csv',\n",
    " '/home/soniame/private/projects/corona_geo_id/coarse_grid/coarse_id_new_R2_4.csv',\n",
    " '/home/soniame/private/projects/corona_geo_id/coarse_grid/coarse_id_new_R2_5.csv',\n",
    " '/home/soniame/private/projects/corona_geo_id/coarse_grid/coarse_id_new_R2_6.csv']\n",
    "csv_files\n",
    "df_coarse_R2 = _coarse_union(csv_files)\n",
    "df_coarse_R2 = df_coarse_R2.rename(columns={'coarse_wkt':'coarse_wkt_2', 'line':'line_wkt'})"
   ]
  },
  {
   "cell_type": "code",
   "execution_count": null,
   "metadata": {},
   "outputs": [],
   "source": [
    "print(len(df_coarse_R2))\n",
    "print(len(df_coarse_R1))\n",
    "print(len(df_lines))"
   ]
  },
  {
   "cell_type": "code",
   "execution_count": null,
   "metadata": {},
   "outputs": [],
   "source": [
    "df_coarse_R2.head()"
   ]
  },
  {
   "cell_type": "code",
   "execution_count": null,
   "metadata": {},
   "outputs": [],
   "source": [
    "tab = pd.read_csv('/home/soniame/shared/spd-sdv-omitnik-waze/corona/geo_partition/figures/coarse_grid_distribution.csv')\n",
    "bp = tab.sort_values('lines', ascending=False)[:6][['coarse_wkt']]\n",
    "bp['bp'] = [1, 2, 3, 4, 5, 6]"
   ]
  },
  {
   "cell_type": "code",
   "execution_count": null,
   "metadata": {},
   "outputs": [],
   "source": [
    "# Union of previous coarse_wkt, big polygons and line jams\n",
    "# Merge of coarse wkt R1 and R2\n",
    "df_coarse_R = df_lines.\\\n",
    "     merge(df_coarse_R1, how = 'left', on = 'line_wkt'). \\\n",
    "     merge(df_coarse_R2, how = 'left', on = 'line_wkt'). \\\n",
    "     merge(bp, how = 'left', on = 'coarse_wkt'). \\\n",
    "     drop_duplicates()\n",
    " \n",
    "print(len(df_coarse_R))\n",
    "#df_coarse_R.head()"
   ]
  },
  {
   "cell_type": "code",
   "execution_count": null,
   "metadata": {},
   "outputs": [],
   "source": [
    "# Replace nulls for values\n",
    "df_coarse_R['coarse_wkt_R'] = np.where(df_coarse_R['bp'].isna(), \n",
    "                                       df_coarse_R['coarse_wkt'], \n",
    "                                       df_coarse_R['coarse_wkt_2'])\n",
    "print(sum(df_coarse_R['coarse_wkt_R'].isna()))\n",
    "\n",
    "df_coarse_R['coarse_wkt_R'] = np.where(df_coarse_R['coarse_wkt_R'].isna(), \n",
    "                                       '(MISSING)', \n",
    "                                       df_coarse_R['coarse_wkt_R'])\n",
    "print(sum(df_coarse_R['coarse_wkt_R'].isna()))"
   ]
  },
  {
   "cell_type": "code",
   "execution_count": null,
   "metadata": {},
   "outputs": [],
   "source": [
    "# Table of distribution pero wkt union\n",
    "#df_dist = (df_coarse_R\n",
    "#  >> group_by(_.coarse_wkt_R)\n",
    "#  >> summarize(lines = _.line_wkt.count(),\n",
    "#               jams  = _.count_lines.sum(), \n",
    "#               bp = _.bp.max())\n",
    "#  >> ungroup()\n",
    "#  >> arrange(-_.lines)\n",
    "#  )\n",
    "#min_wkt = str(df_dist.sort_values('lines', ascending=True)[:1].coarse_wkt_R)"
   ]
  },
  {
   "cell_type": "code",
   "execution_count": null,
   "metadata": {},
   "outputs": [],
   "source": [
    "# Export to csv \n",
    "coarse_R_path = '/home/soniame/shared/spd-sdv-omitnik-waze/corona/geo_partition/coarse_id/coarse_grid_sample_R2.csv'\n",
    "df_coarse_R[['line_wkt', 'count_lines', 'bp', 'coarse_wkt_R']].to_csv(coarse_R_path, index = False)"
   ]
  },
  {
   "cell_type": "code",
   "execution_count": null,
   "metadata": {},
   "outputs": [],
   "source": []
  },
  {
   "cell_type": "markdown",
   "metadata": {},
   "source": [
    "### Coarse grid distribution Big Polygons"
   ]
  },
  {
   "cell_type": "code",
   "execution_count": null,
   "metadata": {},
   "outputs": [],
   "source": [
    "from siuba import group_by, ungroup, arrange, summarize, _"
   ]
  },
  {
   "cell_type": "code",
   "execution_count": null,
   "metadata": {},
   "outputs": [],
   "source": [
    "df_coarse_R = pd.read_csv(coarse_R_path)"
   ]
  },
  {
   "cell_type": "code",
   "execution_count": null,
   "metadata": {},
   "outputs": [],
   "source": [
    "print(df_coarse_R.shape)\n",
    "print(df_coarse_R.coarse_wkt_R.nunique())\n",
    "print(df_coarse_R.line_wkt.nunique())\n",
    "df_coarse_R.head()"
   ]
  },
  {
   "cell_type": "code",
   "execution_count": null,
   "metadata": {},
   "outputs": [],
   "source": [
    "# Table of distribution pero wkt union\n",
    "tab = (df_coarse_R\n",
    "  >> group_by(_.coarse_wkt_R)\n",
    "  >> summarize(lines = _.line_wkt.count(),\n",
    "               jams  = _.count_lines.sum(), \n",
    "               bp = _.bp.max())\n",
    "  >> ungroup()\n",
    "  >> arrange(-_.lines)\n",
    "  )"
   ]
  },
  {
   "cell_type": "code",
   "execution_count": null,
   "metadata": {},
   "outputs": [],
   "source": [
    "# Export to csv \n",
    "tab.to_csv('/home/soniame/shared/spd-sdv-omitnik-waze/corona/geo_partition/figures/coarse_grid_distribution_R.csv', index = False)"
   ]
  },
  {
   "cell_type": "code",
   "execution_count": null,
   "metadata": {},
   "outputs": [],
   "source": []
  },
  {
   "cell_type": "markdown",
   "metadata": {},
   "source": [
    "Plots"
   ]
  },
  {
   "cell_type": "code",
   "execution_count": null,
   "metadata": {},
   "outputs": [],
   "source": [
    "tab = pd.read_csv('/home/soniame/shared/spd-sdv-omitnik-waze/corona/geo_partition/figures/coarse_grid_distribution_R.csv')"
   ]
  },
  {
   "cell_type": "code",
   "execution_count": null,
   "metadata": {},
   "outputs": [],
   "source": [
    "tab = tab[tab.coarse_wkt_R != '(MISSING)']\n",
    "tab['geometry'] = gpd.GeoSeries.from_wkt(tab['coarse_wkt_R'])\n",
    "tab = gpd.GeoDataFrame(tab, geometry='geometry')\n",
    "fig, ax = plt.subplots(1, 1)\n",
    "tab.plot(column='lines', ax=ax, \n",
    "         legend=True, cmap='OrRd')\n",
    "plt.title('Coarse Grid 1 - Number of lines')\n",
    "plt.savefig('/home/soniame/shared/spd-sdv-omitnik-waze/corona/geo_partition/figures/coarse_map_LinesR2.pdf')"
   ]
  },
  {
   "cell_type": "code",
   "execution_count": null,
   "metadata": {},
   "outputs": [],
   "source": [
    "fig, ax = plt.subplots(1, 1)\n",
    "tab.plot(column='jams', ax=ax, \n",
    "         legend=True, cmap='OrRd')\n",
    "plt.title('Coarse Grid 1 - Number of Jams')\n",
    "plt.savefig('/home/soniame/shared/spd-sdv-omitnik-waze/corona/geo_partition/figures/coarse_map_JamsR2.pdf')"
   ]
  },
  {
   "cell_type": "code",
   "execution_count": null,
   "metadata": {},
   "outputs": [],
   "source": []
  },
  {
   "cell_type": "markdown",
   "metadata": {},
   "source": [
    "## Creating squares"
   ]
  },
  {
   "cell_type": "code",
   "execution_count": 8,
   "metadata": {},
   "outputs": [],
   "source": [
    "from src.runners import split_polygon"
   ]
  },
  {
   "cell_type": "code",
   "execution_count": null,
   "metadata": {},
   "outputs": [],
   "source": [
    "from shapely.geometry import box, Polygon, MultiPolygon, GeometryCollection\n",
    "from shapely.wkt import loads"
   ]
  },
  {
   "cell_type": "code",
   "execution_count": null,
   "metadata": {},
   "outputs": [],
   "source": [
    "# - Example \n",
    "# polygon = 'POLYGON((2.0117187499999822 44.38657313925715,-19.433593750000018 19.207272119703983,19.414062499999982 6.904449621538131,64.94140624999999 -3.096801256840523,81.46484374999999 37.21269961002643,45.78124999999998 24.106495997107682,53.69140624999998 51.22054369437158,3.7695312499999822 37.07257833232809,2.0117187499999822 44.38657313925715))'\n",
    "# - Latin America \n",
    "# polygon = 'POLYGON ((-127.265625 34.30714385628804, -128.671875 -56.94497418085159, -28.4765625 -57.70414723434192, -29.8828125 16.97274101999902, -84.72656249999999 25.48295117535531, -116.71874999999999 35.746512259918504, -127.265625 34.30714385628804))'\n",
    "# - Triángulo \n",
    "# polygon = Polygon([(0, 0), (5, 5), (5, 0)])\n",
    "# - Peru\n",
    "# polygon = 'POLYGON ((-77.10205078124999 -13.004557745339769, -72.158203125 -13.004557745339769, -72.158203125 -8.90678000752024, -77.10205078124999 -8.90678000752024, -77.10205078124999 -13.004557745339769))'\n",
    "# - Latin america BID\n",
    "polygon = 'POLYGON((-129.454 37.238,-90.781 27.311,-67.117 20.333,-68.721 17.506,-23.765 -9.114,-65.601 -60.714,-126.421 -23.479,-129.454 37.238))'\n",
    "geometry = wkt.loads(polygon)\n",
    "print(geometry.area)\n",
    "#geometry"
   ]
  },
  {
   "cell_type": "code",
   "execution_count": null,
   "metadata": {},
   "outputs": [],
   "source": [
    "#df_lines = split_polygon._get_lines()"
   ]
  },
  {
   "cell_type": "code",
   "execution_count": 9,
   "metadata": {},
   "outputs": [
    {
     "name": "stderr",
     "output_type": "stream",
     "text": [
      "2021-09-09 14:11:08.557 | INFO     | src.runners.split_polygon:_get_coarse_grid:189 - Get coarse grid\n",
      "2021-09-09 14:11:08.558 | DEBUG    | src.runners.split_polygon:_get_coarse_grid:191 - From /home/soniame/shared/spd-sdv-omitnik-waze/corona/geo_partition/coarse_id/coarse_grid_sample_R2.csv\n",
      "2021-09-09 14:15:38.372 | DEBUG    | src.runners.split_polygon:_get_coarse_grid:195 - L: 21904128\n"
     ]
    }
   ],
   "source": [
    "df_coarse = split_polygon._get_coarse_grid()"
   ]
  },
  {
   "cell_type": "code",
   "execution_count": null,
   "metadata": {},
   "outputs": [],
   "source": [
    "df_dist = split_polygon._get_dist_table()"
   ]
  },
  {
   "cell_type": "code",
   "execution_count": null,
   "metadata": {},
   "outputs": [],
   "source": [
    "print(len(df_coarse))\n",
    "print(len(df_dist))"
   ]
  },
  {
   "cell_type": "code",
   "execution_count": null,
   "metadata": {},
   "outputs": [],
   "source": [
    "df_coarse.head()"
   ]
  },
  {
   "cell_type": "code",
   "execution_count": null,
   "metadata": {},
   "outputs": [],
   "source": [
    "# Lines \n",
    "# df_lines = _get_lines()\n",
    "# if split != 0:\n",
    "#     logger.debug(f\"Split: {split}\")\n",
    "#     df_lines = df_lines[df_lines.split == split]\n",
    "# if update_coarse_grid:\n",
    "#    df_coarse = _create_coarse_grid(df_lines, tiles, split)\n",
    "# else:"
   ]
  },
  {
   "cell_type": "code",
   "execution_count": null,
   "metadata": {},
   "outputs": [],
   "source": [
    "_threshold_density_func(geometry, .01, df_dist, df_coarse)"
   ]
  },
  {
   "cell_type": "code",
   "execution_count": null,
   "metadata": {},
   "outputs": [],
   "source": [
    "print(df_dist.shape)\n",
    "print(df_coarse.shape)"
   ]
  },
  {
   "cell_type": "code",
   "execution_count": null,
   "metadata": {},
   "outputs": [],
   "source": [
    "df_coarse[df_coarse.coarse_wkt_R == '(MISSING)'].to_csv(\"/home/soniame/shared/spd-sdv-omitnik-waze/corona/geo_partition/figures/missing_ids.csv\")"
   ]
  },
  {
   "cell_type": "code",
   "execution_count": null,
   "metadata": {},
   "outputs": [],
   "source": [
    "df_coarse[df_coarse.coarse_wkt_R == '(MISSING)'].head()"
   ]
  },
  {
   "cell_type": "code",
   "execution_count": null,
   "metadata": {},
   "outputs": [],
   "source": []
  },
  {
   "cell_type": "markdown",
   "metadata": {},
   "source": [
    "## Lines intersection per square\n",
    "\n"
   ]
  },
  {
   "cell_type": "code",
   "execution_count": 3,
   "metadata": {},
   "outputs": [
    {
     "data": {
      "text/plain": [
       "364"
      ]
     },
     "execution_count": 3,
     "metadata": {},
     "output_type": "execute_result"
    }
   ],
   "source": [
    "mypath = \"/home/soniame/shared/spd-sdv-omitnik-waze/corona/geo_partition/geo_id/\"\n",
    "geo_id_path = max([os.path.join(mypath, x) for x in os.listdir(mypath)])\n",
    "df_geo_id = pd.read_csv(geo_id_path)\n",
    "len(df_geo_id.geometry.unique())\n",
    "#df_geo_id.head()"
   ]
  },
  {
   "cell_type": "code",
   "execution_count": null,
   "metadata": {},
   "outputs": [],
   "source": []
  },
  {
   "cell_type": "code",
   "execution_count": 4,
   "metadata": {},
   "outputs": [
    {
     "name": "stdout",
     "output_type": "stream",
     "text": [
      "/home/soniame/private/projects/corona_geo_id/geo_id/results_0.csv\n",
      "/home/soniame/private/projects/corona_geo_id/geo_id/results_1.csv\n",
      "/home/soniame/private/projects/corona_geo_id/geo_id/results_10.csv\n",
      "/home/soniame/private/projects/corona_geo_id/geo_id/results_100.csv\n",
      "/home/soniame/private/projects/corona_geo_id/geo_id/results_101.csv\n",
      "/home/soniame/private/projects/corona_geo_id/geo_id/results_102.csv\n",
      "/home/soniame/private/projects/corona_geo_id/geo_id/results_103.csv\n",
      "/home/soniame/private/projects/corona_geo_id/geo_id/results_104.csv\n",
      "/home/soniame/private/projects/corona_geo_id/geo_id/results_105.csv\n",
      "/home/soniame/private/projects/corona_geo_id/geo_id/results_106.csv\n",
      "/home/soniame/private/projects/corona_geo_id/geo_id/results_107.csv\n",
      "/home/soniame/private/projects/corona_geo_id/geo_id/results_108.csv\n",
      "/home/soniame/private/projects/corona_geo_id/geo_id/results_109.csv\n",
      "/home/soniame/private/projects/corona_geo_id/geo_id/results_11.csv\n",
      "/home/soniame/private/projects/corona_geo_id/geo_id/results_110.csv\n",
      "/home/soniame/private/projects/corona_geo_id/geo_id/results_111.csv\n",
      "/home/soniame/private/projects/corona_geo_id/geo_id/results_112.csv\n",
      "/home/soniame/private/projects/corona_geo_id/geo_id/results_113.csv\n",
      "/home/soniame/private/projects/corona_geo_id/geo_id/results_114.csv\n",
      "/home/soniame/private/projects/corona_geo_id/geo_id/results_115.csv\n",
      "/home/soniame/private/projects/corona_geo_id/geo_id/results_116.csv\n",
      "/home/soniame/private/projects/corona_geo_id/geo_id/results_117.csv\n",
      "/home/soniame/private/projects/corona_geo_id/geo_id/results_118.csv\n",
      "/home/soniame/private/projects/corona_geo_id/geo_id/results_119.csv\n",
      "/home/soniame/private/projects/corona_geo_id/geo_id/results_12.csv\n",
      "/home/soniame/private/projects/corona_geo_id/geo_id/results_120.csv\n",
      "/home/soniame/private/projects/corona_geo_id/geo_id/results_121.csv\n",
      "/home/soniame/private/projects/corona_geo_id/geo_id/results_122.csv\n",
      "/home/soniame/private/projects/corona_geo_id/geo_id/results_123.csv\n",
      "/home/soniame/private/projects/corona_geo_id/geo_id/results_124.csv\n",
      "/home/soniame/private/projects/corona_geo_id/geo_id/results_125.csv\n",
      "/home/soniame/private/projects/corona_geo_id/geo_id/results_126.csv\n",
      "/home/soniame/private/projects/corona_geo_id/geo_id/results_127.csv\n",
      "/home/soniame/private/projects/corona_geo_id/geo_id/results_128.csv\n",
      "/home/soniame/private/projects/corona_geo_id/geo_id/results_129.csv\n",
      "/home/soniame/private/projects/corona_geo_id/geo_id/results_13.csv\n",
      "/home/soniame/private/projects/corona_geo_id/geo_id/results_130.csv\n",
      "/home/soniame/private/projects/corona_geo_id/geo_id/results_131.csv\n",
      "/home/soniame/private/projects/corona_geo_id/geo_id/results_132.csv\n",
      "/home/soniame/private/projects/corona_geo_id/geo_id/results_133.csv\n",
      "/home/soniame/private/projects/corona_geo_id/geo_id/results_134.csv\n",
      "/home/soniame/private/projects/corona_geo_id/geo_id/results_135.csv\n",
      "/home/soniame/private/projects/corona_geo_id/geo_id/results_136.csv\n",
      "/home/soniame/private/projects/corona_geo_id/geo_id/results_137.csv\n",
      "/home/soniame/private/projects/corona_geo_id/geo_id/results_138.csv\n",
      "/home/soniame/private/projects/corona_geo_id/geo_id/results_139.csv\n",
      "/home/soniame/private/projects/corona_geo_id/geo_id/results_14.csv\n",
      "/home/soniame/private/projects/corona_geo_id/geo_id/results_140.csv\n",
      "/home/soniame/private/projects/corona_geo_id/geo_id/results_141.csv\n",
      "/home/soniame/private/projects/corona_geo_id/geo_id/results_142.csv\n",
      "/home/soniame/private/projects/corona_geo_id/geo_id/results_143.csv\n",
      "/home/soniame/private/projects/corona_geo_id/geo_id/results_144.csv\n",
      "/home/soniame/private/projects/corona_geo_id/geo_id/results_145.csv\n",
      "/home/soniame/private/projects/corona_geo_id/geo_id/results_146.csv\n",
      "/home/soniame/private/projects/corona_geo_id/geo_id/results_147.csv\n",
      "/home/soniame/private/projects/corona_geo_id/geo_id/results_148.csv\n",
      "/home/soniame/private/projects/corona_geo_id/geo_id/results_149.csv\n",
      "/home/soniame/private/projects/corona_geo_id/geo_id/results_15.csv\n",
      "/home/soniame/private/projects/corona_geo_id/geo_id/results_150.csv\n",
      "/home/soniame/private/projects/corona_geo_id/geo_id/results_151.csv\n",
      "/home/soniame/private/projects/corona_geo_id/geo_id/results_152.csv\n",
      "/home/soniame/private/projects/corona_geo_id/geo_id/results_153.csv\n",
      "/home/soniame/private/projects/corona_geo_id/geo_id/results_154.csv\n",
      "/home/soniame/private/projects/corona_geo_id/geo_id/results_155.csv\n",
      "/home/soniame/private/projects/corona_geo_id/geo_id/results_156.csv\n",
      "/home/soniame/private/projects/corona_geo_id/geo_id/results_157.csv\n",
      "/home/soniame/private/projects/corona_geo_id/geo_id/results_158.csv\n",
      "/home/soniame/private/projects/corona_geo_id/geo_id/results_159.csv\n",
      "/home/soniame/private/projects/corona_geo_id/geo_id/results_16.csv\n",
      "/home/soniame/private/projects/corona_geo_id/geo_id/results_160.csv\n",
      "/home/soniame/private/projects/corona_geo_id/geo_id/results_161.csv\n",
      "/home/soniame/private/projects/corona_geo_id/geo_id/results_162.csv\n",
      "/home/soniame/private/projects/corona_geo_id/geo_id/results_163.csv\n",
      "/home/soniame/private/projects/corona_geo_id/geo_id/results_164.csv\n",
      "/home/soniame/private/projects/corona_geo_id/geo_id/results_165.csv\n",
      "/home/soniame/private/projects/corona_geo_id/geo_id/results_166.csv\n",
      "/home/soniame/private/projects/corona_geo_id/geo_id/results_167.csv\n",
      "/home/soniame/private/projects/corona_geo_id/geo_id/results_168.csv\n",
      "/home/soniame/private/projects/corona_geo_id/geo_id/results_169.csv\n",
      "/home/soniame/private/projects/corona_geo_id/geo_id/results_17.csv\n",
      "/home/soniame/private/projects/corona_geo_id/geo_id/results_170.csv\n",
      "/home/soniame/private/projects/corona_geo_id/geo_id/results_171.csv\n",
      "/home/soniame/private/projects/corona_geo_id/geo_id/results_172.csv\n",
      "/home/soniame/private/projects/corona_geo_id/geo_id/results_173.csv\n",
      "/home/soniame/private/projects/corona_geo_id/geo_id/results_174.csv\n",
      "/home/soniame/private/projects/corona_geo_id/geo_id/results_175.csv\n",
      "/home/soniame/private/projects/corona_geo_id/geo_id/results_176.csv\n",
      "/home/soniame/private/projects/corona_geo_id/geo_id/results_177.csv\n",
      "/home/soniame/private/projects/corona_geo_id/geo_id/results_178.csv\n",
      "/home/soniame/private/projects/corona_geo_id/geo_id/results_179.csv\n",
      "/home/soniame/private/projects/corona_geo_id/geo_id/results_18.csv\n",
      "/home/soniame/private/projects/corona_geo_id/geo_id/results_180.csv\n",
      "/home/soniame/private/projects/corona_geo_id/geo_id/results_181.csv\n",
      "/home/soniame/private/projects/corona_geo_id/geo_id/results_182.csv\n",
      "/home/soniame/private/projects/corona_geo_id/geo_id/results_183.csv\n",
      "/home/soniame/private/projects/corona_geo_id/geo_id/results_184.csv\n",
      "/home/soniame/private/projects/corona_geo_id/geo_id/results_185.csv\n",
      "/home/soniame/private/projects/corona_geo_id/geo_id/results_186.csv\n",
      "/home/soniame/private/projects/corona_geo_id/geo_id/results_187.csv\n",
      "/home/soniame/private/projects/corona_geo_id/geo_id/results_188.csv\n",
      "/home/soniame/private/projects/corona_geo_id/geo_id/results_189.csv\n",
      "/home/soniame/private/projects/corona_geo_id/geo_id/results_19.csv\n",
      "/home/soniame/private/projects/corona_geo_id/geo_id/results_190.csv\n",
      "/home/soniame/private/projects/corona_geo_id/geo_id/results_191.csv\n",
      "/home/soniame/private/projects/corona_geo_id/geo_id/results_192.csv\n",
      "/home/soniame/private/projects/corona_geo_id/geo_id/results_193.csv\n",
      "/home/soniame/private/projects/corona_geo_id/geo_id/results_194.csv\n",
      "/home/soniame/private/projects/corona_geo_id/geo_id/results_195.csv\n",
      "/home/soniame/private/projects/corona_geo_id/geo_id/results_196.csv\n",
      "/home/soniame/private/projects/corona_geo_id/geo_id/results_197.csv\n",
      "/home/soniame/private/projects/corona_geo_id/geo_id/results_198.csv\n",
      "/home/soniame/private/projects/corona_geo_id/geo_id/results_199.csv\n",
      "/home/soniame/private/projects/corona_geo_id/geo_id/results_2.csv\n",
      "/home/soniame/private/projects/corona_geo_id/geo_id/results_20.csv\n",
      "/home/soniame/private/projects/corona_geo_id/geo_id/results_200.csv\n",
      "/home/soniame/private/projects/corona_geo_id/geo_id/results_201.csv\n",
      "/home/soniame/private/projects/corona_geo_id/geo_id/results_202.csv\n",
      "/home/soniame/private/projects/corona_geo_id/geo_id/results_203.csv\n",
      "/home/soniame/private/projects/corona_geo_id/geo_id/results_204.csv\n",
      "/home/soniame/private/projects/corona_geo_id/geo_id/results_205.csv\n",
      "/home/soniame/private/projects/corona_geo_id/geo_id/results_206.csv\n"
     ]
    },
    {
     "name": "stdout",
     "output_type": "stream",
     "text": [
      "/home/soniame/private/projects/corona_geo_id/geo_id/results_207.csv\n",
      "/home/soniame/private/projects/corona_geo_id/geo_id/results_208.csv\n",
      "/home/soniame/private/projects/corona_geo_id/geo_id/results_209.csv\n",
      "/home/soniame/private/projects/corona_geo_id/geo_id/results_21.csv\n",
      "/home/soniame/private/projects/corona_geo_id/geo_id/results_210.csv\n",
      "/home/soniame/private/projects/corona_geo_id/geo_id/results_211.csv\n",
      "/home/soniame/private/projects/corona_geo_id/geo_id/results_212.csv\n",
      "/home/soniame/private/projects/corona_geo_id/geo_id/results_213.csv\n",
      "/home/soniame/private/projects/corona_geo_id/geo_id/results_214.csv\n",
      "/home/soniame/private/projects/corona_geo_id/geo_id/results_215.csv\n",
      "/home/soniame/private/projects/corona_geo_id/geo_id/results_216.csv\n",
      "/home/soniame/private/projects/corona_geo_id/geo_id/results_217.csv\n",
      "/home/soniame/private/projects/corona_geo_id/geo_id/results_218.csv\n",
      "/home/soniame/private/projects/corona_geo_id/geo_id/results_219.csv\n",
      "/home/soniame/private/projects/corona_geo_id/geo_id/results_22.csv\n",
      "/home/soniame/private/projects/corona_geo_id/geo_id/results_220.csv\n",
      "/home/soniame/private/projects/corona_geo_id/geo_id/results_221.csv\n",
      "/home/soniame/private/projects/corona_geo_id/geo_id/results_222.csv\n",
      "/home/soniame/private/projects/corona_geo_id/geo_id/results_223.csv\n",
      "/home/soniame/private/projects/corona_geo_id/geo_id/results_224.csv\n",
      "/home/soniame/private/projects/corona_geo_id/geo_id/results_225.csv\n",
      "/home/soniame/private/projects/corona_geo_id/geo_id/results_226.csv\n",
      "/home/soniame/private/projects/corona_geo_id/geo_id/results_227.csv\n",
      "/home/soniame/private/projects/corona_geo_id/geo_id/results_228.csv\n",
      "/home/soniame/private/projects/corona_geo_id/geo_id/results_229.csv\n",
      "/home/soniame/private/projects/corona_geo_id/geo_id/results_23.csv\n",
      "/home/soniame/private/projects/corona_geo_id/geo_id/results_230.csv\n",
      "/home/soniame/private/projects/corona_geo_id/geo_id/results_231.csv\n",
      "/home/soniame/private/projects/corona_geo_id/geo_id/results_232.csv\n",
      "/home/soniame/private/projects/corona_geo_id/geo_id/results_233.csv\n",
      "/home/soniame/private/projects/corona_geo_id/geo_id/results_234.csv\n",
      "/home/soniame/private/projects/corona_geo_id/geo_id/results_235.csv\n",
      "/home/soniame/private/projects/corona_geo_id/geo_id/results_236.csv\n",
      "/home/soniame/private/projects/corona_geo_id/geo_id/results_237.csv\n",
      "/home/soniame/private/projects/corona_geo_id/geo_id/results_238.csv\n",
      "/home/soniame/private/projects/corona_geo_id/geo_id/results_239.csv\n",
      "/home/soniame/private/projects/corona_geo_id/geo_id/results_24.csv\n",
      "/home/soniame/private/projects/corona_geo_id/geo_id/results_240.csv\n",
      "/home/soniame/private/projects/corona_geo_id/geo_id/results_241.csv\n",
      "/home/soniame/private/projects/corona_geo_id/geo_id/results_242.csv\n",
      "/home/soniame/private/projects/corona_geo_id/geo_id/results_243.csv\n",
      "/home/soniame/private/projects/corona_geo_id/geo_id/results_244.csv\n",
      "/home/soniame/private/projects/corona_geo_id/geo_id/results_245.csv\n",
      "/home/soniame/private/projects/corona_geo_id/geo_id/results_246.csv\n",
      "/home/soniame/private/projects/corona_geo_id/geo_id/results_247.csv\n",
      "/home/soniame/private/projects/corona_geo_id/geo_id/results_248.csv\n",
      "/home/soniame/private/projects/corona_geo_id/geo_id/results_249.csv\n",
      "/home/soniame/private/projects/corona_geo_id/geo_id/results_25.csv\n",
      "/home/soniame/private/projects/corona_geo_id/geo_id/results_250.csv\n",
      "/home/soniame/private/projects/corona_geo_id/geo_id/results_251.csv\n",
      "/home/soniame/private/projects/corona_geo_id/geo_id/results_252.csv\n",
      "/home/soniame/private/projects/corona_geo_id/geo_id/results_253.csv\n",
      "/home/soniame/private/projects/corona_geo_id/geo_id/results_254.csv\n",
      "/home/soniame/private/projects/corona_geo_id/geo_id/results_255.csv\n",
      "/home/soniame/private/projects/corona_geo_id/geo_id/results_256.csv\n",
      "/home/soniame/private/projects/corona_geo_id/geo_id/results_257.csv\n",
      "/home/soniame/private/projects/corona_geo_id/geo_id/results_258.csv\n",
      "/home/soniame/private/projects/corona_geo_id/geo_id/results_259.csv\n",
      "/home/soniame/private/projects/corona_geo_id/geo_id/results_26.csv\n",
      "/home/soniame/private/projects/corona_geo_id/geo_id/results_260.csv\n",
      "/home/soniame/private/projects/corona_geo_id/geo_id/results_261.csv\n",
      "/home/soniame/private/projects/corona_geo_id/geo_id/results_262.csv\n",
      "/home/soniame/private/projects/corona_geo_id/geo_id/results_263.csv\n",
      "/home/soniame/private/projects/corona_geo_id/geo_id/results_264.csv\n",
      "/home/soniame/private/projects/corona_geo_id/geo_id/results_265.csv\n",
      "/home/soniame/private/projects/corona_geo_id/geo_id/results_266.csv\n",
      "/home/soniame/private/projects/corona_geo_id/geo_id/results_267.csv\n",
      "/home/soniame/private/projects/corona_geo_id/geo_id/results_268.csv\n",
      "/home/soniame/private/projects/corona_geo_id/geo_id/results_269.csv\n",
      "/home/soniame/private/projects/corona_geo_id/geo_id/results_27.csv\n",
      "/home/soniame/private/projects/corona_geo_id/geo_id/results_270.csv\n",
      "/home/soniame/private/projects/corona_geo_id/geo_id/results_271.csv\n",
      "/home/soniame/private/projects/corona_geo_id/geo_id/results_272.csv\n",
      "/home/soniame/private/projects/corona_geo_id/geo_id/results_273.csv\n",
      "/home/soniame/private/projects/corona_geo_id/geo_id/results_274.csv\n",
      "/home/soniame/private/projects/corona_geo_id/geo_id/results_275.csv\n",
      "/home/soniame/private/projects/corona_geo_id/geo_id/results_276.csv\n",
      "/home/soniame/private/projects/corona_geo_id/geo_id/results_277.csv\n",
      "/home/soniame/private/projects/corona_geo_id/geo_id/results_278.csv\n",
      "/home/soniame/private/projects/corona_geo_id/geo_id/results_279.csv\n",
      "/home/soniame/private/projects/corona_geo_id/geo_id/results_28.csv\n",
      "/home/soniame/private/projects/corona_geo_id/geo_id/results_280.csv\n",
      "/home/soniame/private/projects/corona_geo_id/geo_id/results_281.csv\n",
      "/home/soniame/private/projects/corona_geo_id/geo_id/results_282.csv\n",
      "/home/soniame/private/projects/corona_geo_id/geo_id/results_283.csv\n",
      "/home/soniame/private/projects/corona_geo_id/geo_id/results_284.csv\n",
      "/home/soniame/private/projects/corona_geo_id/geo_id/results_285.csv\n",
      "/home/soniame/private/projects/corona_geo_id/geo_id/results_286.csv\n",
      "/home/soniame/private/projects/corona_geo_id/geo_id/results_287.csv\n",
      "/home/soniame/private/projects/corona_geo_id/geo_id/results_288.csv\n",
      "/home/soniame/private/projects/corona_geo_id/geo_id/results_289.csv\n",
      "/home/soniame/private/projects/corona_geo_id/geo_id/results_29.csv\n",
      "/home/soniame/private/projects/corona_geo_id/geo_id/results_290.csv\n",
      "/home/soniame/private/projects/corona_geo_id/geo_id/results_291.csv\n",
      "/home/soniame/private/projects/corona_geo_id/geo_id/results_292.csv\n",
      "/home/soniame/private/projects/corona_geo_id/geo_id/results_293.csv\n",
      "/home/soniame/private/projects/corona_geo_id/geo_id/results_294.csv\n",
      "/home/soniame/private/projects/corona_geo_id/geo_id/results_295.csv\n",
      "/home/soniame/private/projects/corona_geo_id/geo_id/results_296.csv\n",
      "/home/soniame/private/projects/corona_geo_id/geo_id/results_297.csv\n",
      "/home/soniame/private/projects/corona_geo_id/geo_id/results_298.csv\n",
      "/home/soniame/private/projects/corona_geo_id/geo_id/results_299.csv\n",
      "/home/soniame/private/projects/corona_geo_id/geo_id/results_3.csv\n",
      "/home/soniame/private/projects/corona_geo_id/geo_id/results_30.csv\n",
      "/home/soniame/private/projects/corona_geo_id/geo_id/results_300.csv\n",
      "/home/soniame/private/projects/corona_geo_id/geo_id/results_301.csv\n",
      "/home/soniame/private/projects/corona_geo_id/geo_id/results_302.csv\n",
      "/home/soniame/private/projects/corona_geo_id/geo_id/results_303.csv\n",
      "/home/soniame/private/projects/corona_geo_id/geo_id/results_304.csv\n",
      "/home/soniame/private/projects/corona_geo_id/geo_id/results_305.csv\n",
      "/home/soniame/private/projects/corona_geo_id/geo_id/results_306.csv\n",
      "/home/soniame/private/projects/corona_geo_id/geo_id/results_307.csv\n",
      "/home/soniame/private/projects/corona_geo_id/geo_id/results_308.csv\n",
      "/home/soniame/private/projects/corona_geo_id/geo_id/results_309.csv\n",
      "/home/soniame/private/projects/corona_geo_id/geo_id/results_31.csv\n",
      "/home/soniame/private/projects/corona_geo_id/geo_id/results_310.csv\n",
      "/home/soniame/private/projects/corona_geo_id/geo_id/results_311.csv\n",
      "/home/soniame/private/projects/corona_geo_id/geo_id/results_312.csv\n",
      "/home/soniame/private/projects/corona_geo_id/geo_id/results_313.csv\n",
      "/home/soniame/private/projects/corona_geo_id/geo_id/results_314.csv\n",
      "/home/soniame/private/projects/corona_geo_id/geo_id/results_315.csv\n"
     ]
    },
    {
     "name": "stdout",
     "output_type": "stream",
     "text": [
      "/home/soniame/private/projects/corona_geo_id/geo_id/results_316.csv\n",
      "/home/soniame/private/projects/corona_geo_id/geo_id/results_317.csv\n",
      "/home/soniame/private/projects/corona_geo_id/geo_id/results_318.csv\n",
      "/home/soniame/private/projects/corona_geo_id/geo_id/results_319.csv\n",
      "/home/soniame/private/projects/corona_geo_id/geo_id/results_32.csv\n",
      "/home/soniame/private/projects/corona_geo_id/geo_id/results_320.csv\n",
      "/home/soniame/private/projects/corona_geo_id/geo_id/results_321.csv\n",
      "/home/soniame/private/projects/corona_geo_id/geo_id/results_322.csv\n",
      "/home/soniame/private/projects/corona_geo_id/geo_id/results_323.csv\n",
      "/home/soniame/private/projects/corona_geo_id/geo_id/results_324.csv\n",
      "/home/soniame/private/projects/corona_geo_id/geo_id/results_325.csv\n",
      "/home/soniame/private/projects/corona_geo_id/geo_id/results_326.csv\n",
      "/home/soniame/private/projects/corona_geo_id/geo_id/results_327.csv\n",
      "/home/soniame/private/projects/corona_geo_id/geo_id/results_328.csv\n",
      "/home/soniame/private/projects/corona_geo_id/geo_id/results_329.csv\n",
      "/home/soniame/private/projects/corona_geo_id/geo_id/results_33.csv\n",
      "/home/soniame/private/projects/corona_geo_id/geo_id/results_330.csv\n",
      "/home/soniame/private/projects/corona_geo_id/geo_id/results_331.csv\n",
      "/home/soniame/private/projects/corona_geo_id/geo_id/results_332.csv\n",
      "/home/soniame/private/projects/corona_geo_id/geo_id/results_333.csv\n",
      "/home/soniame/private/projects/corona_geo_id/geo_id/results_334.csv\n",
      "/home/soniame/private/projects/corona_geo_id/geo_id/results_335.csv\n",
      "/home/soniame/private/projects/corona_geo_id/geo_id/results_336.csv\n",
      "/home/soniame/private/projects/corona_geo_id/geo_id/results_337.csv\n",
      "/home/soniame/private/projects/corona_geo_id/geo_id/results_338.csv\n",
      "/home/soniame/private/projects/corona_geo_id/geo_id/results_339.csv\n",
      "/home/soniame/private/projects/corona_geo_id/geo_id/results_34.csv\n",
      "/home/soniame/private/projects/corona_geo_id/geo_id/results_340.csv\n",
      "/home/soniame/private/projects/corona_geo_id/geo_id/results_341.csv\n",
      "/home/soniame/private/projects/corona_geo_id/geo_id/results_342.csv\n",
      "/home/soniame/private/projects/corona_geo_id/geo_id/results_343.csv\n",
      "/home/soniame/private/projects/corona_geo_id/geo_id/results_344.csv\n",
      "/home/soniame/private/projects/corona_geo_id/geo_id/results_345.csv\n",
      "/home/soniame/private/projects/corona_geo_id/geo_id/results_346.csv\n",
      "/home/soniame/private/projects/corona_geo_id/geo_id/results_347.csv\n",
      "/home/soniame/private/projects/corona_geo_id/geo_id/results_348.csv\n",
      "/home/soniame/private/projects/corona_geo_id/geo_id/results_349.csv\n",
      "/home/soniame/private/projects/corona_geo_id/geo_id/results_35.csv\n",
      "/home/soniame/private/projects/corona_geo_id/geo_id/results_350.csv\n",
      "/home/soniame/private/projects/corona_geo_id/geo_id/results_351.csv\n",
      "/home/soniame/private/projects/corona_geo_id/geo_id/results_352.csv\n",
      "/home/soniame/private/projects/corona_geo_id/geo_id/results_353.csv\n",
      "/home/soniame/private/projects/corona_geo_id/geo_id/results_354.csv\n",
      "/home/soniame/private/projects/corona_geo_id/geo_id/results_355.csv\n",
      "/home/soniame/private/projects/corona_geo_id/geo_id/results_356.csv\n",
      "/home/soniame/private/projects/corona_geo_id/geo_id/results_357.csv\n",
      "/home/soniame/private/projects/corona_geo_id/geo_id/results_358.csv\n",
      "/home/soniame/private/projects/corona_geo_id/geo_id/results_359.csv\n",
      "/home/soniame/private/projects/corona_geo_id/geo_id/results_36.csv\n",
      "/home/soniame/private/projects/corona_geo_id/geo_id/results_360.csv\n",
      "/home/soniame/private/projects/corona_geo_id/geo_id/results_361.csv\n",
      "/home/soniame/private/projects/corona_geo_id/geo_id/results_362.csv\n",
      "/home/soniame/private/projects/corona_geo_id/geo_id/results_363.csv\n",
      "/home/soniame/private/projects/corona_geo_id/geo_id/results_37.csv\n",
      "/home/soniame/private/projects/corona_geo_id/geo_id/results_38.csv\n",
      "/home/soniame/private/projects/corona_geo_id/geo_id/results_39.csv\n",
      "/home/soniame/private/projects/corona_geo_id/geo_id/results_4.csv\n",
      "/home/soniame/private/projects/corona_geo_id/geo_id/results_40.csv\n",
      "/home/soniame/private/projects/corona_geo_id/geo_id/results_41.csv\n",
      "/home/soniame/private/projects/corona_geo_id/geo_id/results_42.csv\n",
      "/home/soniame/private/projects/corona_geo_id/geo_id/results_43.csv\n",
      "/home/soniame/private/projects/corona_geo_id/geo_id/results_44.csv\n",
      "/home/soniame/private/projects/corona_geo_id/geo_id/results_45.csv\n",
      "/home/soniame/private/projects/corona_geo_id/geo_id/results_46.csv\n",
      "/home/soniame/private/projects/corona_geo_id/geo_id/results_47.csv\n",
      "/home/soniame/private/projects/corona_geo_id/geo_id/results_48.csv\n",
      "/home/soniame/private/projects/corona_geo_id/geo_id/results_49.csv\n",
      "/home/soniame/private/projects/corona_geo_id/geo_id/results_5.csv\n",
      "/home/soniame/private/projects/corona_geo_id/geo_id/results_50.csv\n",
      "/home/soniame/private/projects/corona_geo_id/geo_id/results_51.csv\n",
      "/home/soniame/private/projects/corona_geo_id/geo_id/results_52.csv\n",
      "/home/soniame/private/projects/corona_geo_id/geo_id/results_53.csv\n",
      "/home/soniame/private/projects/corona_geo_id/geo_id/results_54.csv\n",
      "/home/soniame/private/projects/corona_geo_id/geo_id/results_55.csv\n",
      "/home/soniame/private/projects/corona_geo_id/geo_id/results_56.csv\n",
      "/home/soniame/private/projects/corona_geo_id/geo_id/results_57.csv\n",
      "/home/soniame/private/projects/corona_geo_id/geo_id/results_58.csv\n",
      "/home/soniame/private/projects/corona_geo_id/geo_id/results_59.csv\n",
      "/home/soniame/private/projects/corona_geo_id/geo_id/results_6.csv\n",
      "/home/soniame/private/projects/corona_geo_id/geo_id/results_60.csv\n",
      "/home/soniame/private/projects/corona_geo_id/geo_id/results_61.csv\n",
      "/home/soniame/private/projects/corona_geo_id/geo_id/results_62.csv\n",
      "/home/soniame/private/projects/corona_geo_id/geo_id/results_63.csv\n",
      "/home/soniame/private/projects/corona_geo_id/geo_id/results_64.csv\n",
      "/home/soniame/private/projects/corona_geo_id/geo_id/results_65.csv\n",
      "/home/soniame/private/projects/corona_geo_id/geo_id/results_66.csv\n",
      "/home/soniame/private/projects/corona_geo_id/geo_id/results_67.csv\n",
      "/home/soniame/private/projects/corona_geo_id/geo_id/results_68.csv\n",
      "/home/soniame/private/projects/corona_geo_id/geo_id/results_69.csv\n",
      "/home/soniame/private/projects/corona_geo_id/geo_id/results_7.csv\n",
      "/home/soniame/private/projects/corona_geo_id/geo_id/results_70.csv\n",
      "/home/soniame/private/projects/corona_geo_id/geo_id/results_71.csv\n",
      "/home/soniame/private/projects/corona_geo_id/geo_id/results_72.csv\n",
      "/home/soniame/private/projects/corona_geo_id/geo_id/results_73.csv\n",
      "/home/soniame/private/projects/corona_geo_id/geo_id/results_74.csv\n",
      "/home/soniame/private/projects/corona_geo_id/geo_id/results_75.csv\n",
      "/home/soniame/private/projects/corona_geo_id/geo_id/results_76.csv\n",
      "/home/soniame/private/projects/corona_geo_id/geo_id/results_77.csv\n",
      "/home/soniame/private/projects/corona_geo_id/geo_id/results_78.csv\n",
      "/home/soniame/private/projects/corona_geo_id/geo_id/results_79.csv\n",
      "/home/soniame/private/projects/corona_geo_id/geo_id/results_8.csv\n",
      "/home/soniame/private/projects/corona_geo_id/geo_id/results_80.csv\n",
      "/home/soniame/private/projects/corona_geo_id/geo_id/results_81.csv\n",
      "/home/soniame/private/projects/corona_geo_id/geo_id/results_82.csv\n",
      "/home/soniame/private/projects/corona_geo_id/geo_id/results_83.csv\n",
      "/home/soniame/private/projects/corona_geo_id/geo_id/results_84.csv\n",
      "/home/soniame/private/projects/corona_geo_id/geo_id/results_85.csv\n",
      "/home/soniame/private/projects/corona_geo_id/geo_id/results_86.csv\n",
      "/home/soniame/private/projects/corona_geo_id/geo_id/results_87.csv\n",
      "/home/soniame/private/projects/corona_geo_id/geo_id/results_88.csv\n",
      "/home/soniame/private/projects/corona_geo_id/geo_id/results_89.csv\n",
      "/home/soniame/private/projects/corona_geo_id/geo_id/results_9.csv\n",
      "/home/soniame/private/projects/corona_geo_id/geo_id/results_90.csv\n",
      "/home/soniame/private/projects/corona_geo_id/geo_id/results_91.csv\n",
      "/home/soniame/private/projects/corona_geo_id/geo_id/results_92.csv\n",
      "/home/soniame/private/projects/corona_geo_id/geo_id/results_93.csv\n",
      "/home/soniame/private/projects/corona_geo_id/geo_id/results_94.csv\n",
      "/home/soniame/private/projects/corona_geo_id/geo_id/results_95.csv\n",
      "/home/soniame/private/projects/corona_geo_id/geo_id/results_96.csv\n",
      "/home/soniame/private/projects/corona_geo_id/geo_id/results_97.csv\n",
      "/home/soniame/private/projects/corona_geo_id/geo_id/results_98.csv\n",
      "/home/soniame/private/projects/corona_geo_id/geo_id/results_99.csv\n"
     ]
    }
   ],
   "source": [
    "geopath = \"/home/soniame/private/projects/corona_geo_id/geo_id/\"\n",
    "geo_id_path = [os.path.join(geopath, x) for x in os.listdir(geopath)][1:]\n",
    "df_geo_lines = pd.DataFrame()\n",
    "for pth in geo_id_path:\n",
    "    print(pth)\n",
    "    df_geo_lines = df_geo_lines.append(pd.read_csv(pth))\n",
    "df_geo_lines = df_geo_lines \\\n",
    "    .rename(columns = {'wkt_def':'line_wkt', 'geom_def':'geo_id'})    \n",
    "    "
   ]
  },
  {
   "cell_type": "code",
   "execution_count": 5,
   "metadata": {},
   "outputs": [
    {
     "name": "stdout",
     "output_type": "stream",
     "text": [
      "(21052514, 3)\n",
      "259\n",
      "20951328\n"
     ]
    }
   ],
   "source": [
    "print(df_geo_lines.shape)\n",
    "print(df_geo_lines.geo_id.nunique())\n",
    "print(df_geo_lines.line_wkt.nunique())"
   ]
  },
  {
   "cell_type": "code",
   "execution_count": 17,
   "metadata": {},
   "outputs": [
    {
     "data": {
      "text/html": [
       "<div>\n",
       "<style scoped>\n",
       "    .dataframe tbody tr th:only-of-type {\n",
       "        vertical-align: middle;\n",
       "    }\n",
       "\n",
       "    .dataframe tbody tr th {\n",
       "        vertical-align: top;\n",
       "    }\n",
       "\n",
       "    .dataframe thead th {\n",
       "        text-align: right;\n",
       "    }\n",
       "</style>\n",
       "<table border=\"1\" class=\"dataframe\">\n",
       "  <thead>\n",
       "    <tr style=\"text-align: right;\">\n",
       "      <th></th>\n",
       "      <th>Unnamed: 0</th>\n",
       "      <th>line_wkt</th>\n",
       "      <th>geo_id</th>\n",
       "      <th>jams</th>\n",
       "    </tr>\n",
       "  </thead>\n",
       "  <tbody>\n",
       "    <tr>\n",
       "      <th>0</th>\n",
       "      <td>0</td>\n",
       "      <td>linestring (-109.404333 -27.170733,-109.403996...</td>\n",
       "      <td>POLYGON ((-101.8926651563943 -38.4956482719772...</td>\n",
       "      <td>2</td>\n",
       "    </tr>\n",
       "    <tr>\n",
       "      <th>1</th>\n",
       "      <td>1</td>\n",
       "      <td>linestring (-109.423645 -27.143605,-109.423569...</td>\n",
       "      <td>POLYGON ((-101.8926651563943 -38.4956482719772...</td>\n",
       "      <td>9</td>\n",
       "    </tr>\n",
       "    <tr>\n",
       "      <th>2</th>\n",
       "      <td>2</td>\n",
       "      <td>linestring (-109.424416 -27.148442,-109.422259...</td>\n",
       "      <td>POLYGON ((-101.8926651563943 -38.4956482719772...</td>\n",
       "      <td>3</td>\n",
       "    </tr>\n",
       "    <tr>\n",
       "      <th>3</th>\n",
       "      <td>3</td>\n",
       "      <td>linestring (-109.425166 -27.146246,-109.425558...</td>\n",
       "      <td>POLYGON ((-101.8926651563943 -38.4956482719772...</td>\n",
       "      <td>18</td>\n",
       "    </tr>\n",
       "    <tr>\n",
       "      <th>4</th>\n",
       "      <td>4</td>\n",
       "      <td>LINESTRING(-109.427095 -27.143561, -109.427637...</td>\n",
       "      <td>POLYGON ((-101.8926651563943 -38.4956482719772...</td>\n",
       "      <td>10</td>\n",
       "    </tr>\n",
       "  </tbody>\n",
       "</table>\n",
       "</div>"
      ],
      "text/plain": [
       "  Unnamed: 0                                           line_wkt  \\\n",
       "0          0  linestring (-109.404333 -27.170733,-109.403996...   \n",
       "1          1  linestring (-109.423645 -27.143605,-109.423569...   \n",
       "2          2  linestring (-109.424416 -27.148442,-109.422259...   \n",
       "3          3  linestring (-109.425166 -27.146246,-109.425558...   \n",
       "4          4  LINESTRING(-109.427095 -27.143561, -109.427637...   \n",
       "\n",
       "                                              geo_id  jams  \n",
       "0  POLYGON ((-101.8926651563943 -38.4956482719772...     2  \n",
       "1  POLYGON ((-101.8926651563943 -38.4956482719772...     9  \n",
       "2  POLYGON ((-101.8926651563943 -38.4956482719772...     3  \n",
       "3  POLYGON ((-101.8926651563943 -38.4956482719772...    18  \n",
       "4  POLYGON ((-101.8926651563943 -38.4956482719772...    10  "
      ]
     },
     "execution_count": 17,
     "metadata": {},
     "output_type": "execute_result"
    }
   ],
   "source": [
    "df = df_geo_lines.merge(df_coarse[['line_wkt', 'count_lines']].rename(columns = {'count_lines':'jams'}))\n",
    "df.head()"
   ]
  },
  {
   "cell_type": "code",
   "execution_count": null,
   "metadata": {},
   "outputs": [],
   "source": []
  },
  {
   "cell_type": "markdown",
   "metadata": {},
   "source": [
    "### Distribution of lines/jams per square"
   ]
  },
  {
   "cell_type": "code",
   "execution_count": 6,
   "metadata": {},
   "outputs": [],
   "source": [
    "from siuba import group_by, ungroup, arrange, summarize, _\n",
    "import geopandas as gpd\n",
    "import folium"
   ]
  },
  {
   "cell_type": "code",
   "execution_count": 19,
   "metadata": {},
   "outputs": [
    {
     "data": {
      "text/html": [
       "<div>\n",
       "<style scoped>\n",
       "    .dataframe tbody tr th:only-of-type {\n",
       "        vertical-align: middle;\n",
       "    }\n",
       "\n",
       "    .dataframe tbody tr th {\n",
       "        vertical-align: top;\n",
       "    }\n",
       "\n",
       "    .dataframe thead th {\n",
       "        text-align: right;\n",
       "    }\n",
       "</style>\n",
       "<table border=\"1\" class=\"dataframe\">\n",
       "  <thead>\n",
       "    <tr style=\"text-align: right;\">\n",
       "      <th></th>\n",
       "      <th>geo_id</th>\n",
       "      <th>lines</th>\n",
       "      <th>jams</th>\n",
       "      <th>geometry</th>\n",
       "    </tr>\n",
       "  </thead>\n",
       "  <tbody>\n",
       "    <tr>\n",
       "      <th>199</th>\n",
       "      <td>POLYGON ((-73.30671875 -8.310167358646043, -70...</td>\n",
       "      <td>3</td>\n",
       "      <td>101</td>\n",
       "      <td>POLYGON ((-73.30672 -8.31017, -70.00394 -8.310...</td>\n",
       "    </tr>\n",
       "    <tr>\n",
       "      <th>201</th>\n",
       "      <td>POLYGON ((-73.30671875 2.170599169624747, -70....</td>\n",
       "      <td>5</td>\n",
       "      <td>9</td>\n",
       "      <td>POLYGON ((-73.30672 2.17060, -70.00394 2.17060...</td>\n",
       "    </tr>\n",
       "    <tr>\n",
       "      <th>232</th>\n",
       "      <td>POLYGON ((-83.2150625 -8.368208011344954, -89....</td>\n",
       "      <td>7</td>\n",
       "      <td>15</td>\n",
       "      <td>POLYGON ((-83.21506 -8.36821, -89.82063 -8.368...</td>\n",
       "    </tr>\n",
       "    <tr>\n",
       "      <th>129</th>\n",
       "      <td>POLYGON ((-56.7928125 -8.310167358646043, -60....</td>\n",
       "      <td>8</td>\n",
       "      <td>106</td>\n",
       "      <td>POLYGON ((-56.79281 -8.31017, -60.09559 -8.310...</td>\n",
       "    </tr>\n",
       "    <tr>\n",
       "      <th>181</th>\n",
       "      <td>POLYGON ((-68.1722471151637 -39.75246694345842...</td>\n",
       "      <td>15</td>\n",
       "      <td>686</td>\n",
       "      <td>POLYGON ((-68.17225 -39.75247, -65.35983 -39.7...</td>\n",
       "    </tr>\n",
       "  </tbody>\n",
       "</table>\n",
       "</div>"
      ],
      "text/plain": [
       "                                                geo_id  lines  jams  \\\n",
       "199  POLYGON ((-73.30671875 -8.310167358646043, -70...      3   101   \n",
       "201  POLYGON ((-73.30671875 2.170599169624747, -70....      5     9   \n",
       "232  POLYGON ((-83.2150625 -8.368208011344954, -89....      7    15   \n",
       "129  POLYGON ((-56.7928125 -8.310167358646043, -60....      8   106   \n",
       "181  POLYGON ((-68.1722471151637 -39.75246694345842...     15   686   \n",
       "\n",
       "                                              geometry  \n",
       "199  POLYGON ((-73.30672 -8.31017, -70.00394 -8.310...  \n",
       "201  POLYGON ((-73.30672 2.17060, -70.00394 2.17060...  \n",
       "232  POLYGON ((-83.21506 -8.36821, -89.82063 -8.368...  \n",
       "129  POLYGON ((-56.79281 -8.31017, -60.09559 -8.310...  \n",
       "181  POLYGON ((-68.17225 -39.75247, -65.35983 -39.7...  "
      ]
     },
     "execution_count": 19,
     "metadata": {},
     "output_type": "execute_result"
    }
   ],
   "source": [
    "tab = (df\n",
    "  >> group_by(_.geo_id)\n",
    "  >> summarize(lines = _.line_wkt.count(), \n",
    "               jams = _.jams.sum())\n",
    "  >> ungroup()\n",
    "  >> arrange(\"lines\")\n",
    "  )\n",
    "tab['geometry'] = gpd.GeoSeries.from_wkt(tab['geo_id'])\n",
    "tab = gpd.GeoDataFrame(tab, geometry='geometry')\n",
    "\n",
    "tab.head()"
   ]
  },
  {
   "cell_type": "code",
   "execution_count": 20,
   "metadata": {},
   "outputs": [],
   "source": [
    "tab.to_csv(\"/home/soniame/shared/spd-sdv-omitnik-waze/corona/geo_partition/figures/geo_lines_distribution.csv\")"
   ]
  },
  {
   "cell_type": "code",
   "execution_count": 43,
   "metadata": {},
   "outputs": [
    {
     "data": {
      "text/plain": [
       "<AxesSubplot:>"
      ]
     },
     "execution_count": 43,
     "metadata": {},
     "output_type": "execute_result"
    },
    {
     "data": {
      "image/png": "[encoded data removed]",
      "text/plain": [
       "<Figure size 432x288 with 2 Axes>"
      ]
     },
     "metadata": {
      "needs_background": "light"
     },
     "output_type": "display_data"
    }
   ],
   "source": [
    "import matplotlib.pyplot as plt\n",
    "fig, ax = plt.subplots(1, 1)\n",
    "tab.plot(column='jams', ax=ax, legend=True, cmap='OrRd')"
   ]
  },
  {
   "cell_type": "code",
   "execution_count": 45,
   "metadata": {},
   "outputs": [],
   "source": [
    "tab.crs = \"EPSG:4326\""
   ]
  },
  {
   "cell_type": "code",
   "execution_count": 49,
   "metadata": {},
   "outputs": [
    {
     "data": {
      "image/png": "[encoded data removed]",
      "text/plain": [
       "<Figure size 720x720 with 2 Axes>"
      ]
     },
     "metadata": {
      "needs_background": "light"
     },
     "output_type": "display_data"
    }
   ],
   "source": [
    "import contextily as ctx\n",
    "df_wm = tab.to_crs(epsg=3857)\n",
    "ax = df_wm.plot(figsize=(10, 10), alpha=0.5, edgecolor='k', \n",
    "                column='jams',legend=True, cmap='OrRd')\n",
    "ctx.add_basemap(ax)"
   ]
  },
  {
   "cell_type": "code",
   "execution_count": 47,
   "metadata": {
    "scrolled": true
   },
   "outputs": [],
   "source": [
    "df = tab\n",
    "m = folium.Map(location=[-24.1792320824178, -60.97559398552432], zoom_start=2, tiles='CartoDB positron')\n",
    "for _, r in df.iterrows():\n",
    "    # Without simplifying the representation of each borough,\n",
    "    # the map might not be displayed\n",
    "    sim_geo = gpd.GeoSeries(r['geometry']).simplify(tolerance=0.001)\n",
    "    geo_j = sim_geo.to_json()\n",
    "    geo_j = folium.GeoJson(data=geo_j,\n",
    "                           style_function=lambda x: {'fillColor': 'orange'})\n",
    "    folium.Popup(r['lines']).add_to(geo_j)\n",
    "    geo_j.add_to(m)\n",
    "#m"
   ]
  },
  {
   "cell_type": "code",
   "execution_count": null,
   "metadata": {},
   "outputs": [],
   "source": []
  },
  {
   "cell_type": "code",
   "execution_count": 31,
   "metadata": {},
   "outputs": [
    {
     "data": {
      "text/plain": [
       "'POLYGON ((-27.06778125 -7.158309171745708, -23.765 -9.114000000000001, -24.51665775319444 -10.04108528694983, -27.06778125 -10.04108528694983, -27.06778125 -7.158309171745708))'"
      ]
     },
     "execution_count": 31,
     "metadata": {},
     "output_type": "execute_result"
    }
   ],
   "source": [
    "df_geo_id.geometry[363]"
   ]
  },
  {
   "cell_type": "code",
   "execution_count": null,
   "metadata": {},
   "outputs": [],
   "source": []
  }
 ],
 "metadata": {
  "kernelspec": {
   "display_name": "waze_coronavirus",
   "language": "python",
   "name": "waze_coronavirus"
  },
  "language_info": {
   "codemirror_mode": {
    "name": "ipython",
    "version": 3
   },
   "file_extension": ".py",
   "mimetype": "text/x-python",
   "name": "python",
   "nbconvert_exporter": "python",
   "pygments_lexer": "ipython3",
   "version": "3.7.11"
  },
  "toc": {
   "base_numbering": 1,
   "nav_menu": {},
   "number_sections": true,
   "sideBar": true,
   "skip_h1_title": false,
   "title_cell": "Table of Contents",
   "title_sidebar": "Contents",
   "toc_cell": false,
   "toc_position": {
    "height": "calc(100% - 180px)",
    "left": "10px",
    "top": "150px",
    "width": "240.797px"
   },
   "toc_section_display": true,
   "toc_window_display": true
  }
 },
 "nbformat": 4,
 "nbformat_minor": 2
}
