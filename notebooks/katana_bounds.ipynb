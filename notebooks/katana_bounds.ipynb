{
 "cells": [
  {
   "cell_type": "code",
   "execution_count": 56,
   "metadata": {},
   "outputs": [],
   "source": [
    "# %load first_cell.py\n",
    "%reload_ext autoreload\n",
    "%autoreload 2\n",
    "from pathlib import Path\n",
    "\n",
    "# system paths\n",
    "import sys\n",
    "home = str(Path.home())\n",
    "sys.path = sys.path + [f'{home}/.conda/envs/norm_env/lib/python37.zip', \n",
    "                       f'{home}/.conda/envs/norm_env/lib/python3.7', \n",
    "                       f'{home}/.conda/envs/norm_env/lib/python3.7/lib-dynload', \n",
    "                       f'{home}/.conda/envs/norm_env/lib/python3.7/site-packages']\n",
    "sys.prefix = '/home/soniame/.conda/envs/norm_env'\n",
    "from paths import RAW_PATH, TREAT_PATH, OUTPUT_PATH, FIGURES_PATH\n",
    "\n",
    "# aws connection\n",
    "import boto3\n",
    "import awswrangler as wr\n",
    "\n",
    "# local libraries\n",
    "from src import utils\n",
    "\n",
    "# analysis libraries\n",
    "from datetime import datetime\n",
    "import pandas as pd\n",
    "import geopandas as gpd\n",
    "import osmpy\n",
    "from shapely.geometry import box, Polygon, MultiPolygon, LineString, GeometryCollection, shape\n",
    "from shapely import wkt\n",
    "from shapely.ops import transform\n",
    "import shapely\n",
    "\n",
    "cm = str(datetime.today().strftime(\"%Y%m%d%H%m\"))"
   ]
  },
  {
   "cell_type": "code",
   "execution_count": 82,
   "metadata": {},
   "outputs": [
    {
     "name": "stdout",
     "output_type": "stream",
     "text": [
      "[(4.0, -2.0000000000000004)]\n"
     ]
    },
    {
     "data": {
      "text/plain": [
       "False"
      ]
     },
     "execution_count": 82,
     "metadata": {},
     "output_type": "execute_result"
    }
   ],
   "source": [
    "# EJEMPLO\n",
    "# polygon = [(4.0, -2.0), (5.0, -2.0), (4.0, -3.0), (3.0, -3.0), (4.0, -2.0)]\n",
    "# shapely_poly = shapely.geometry.Polygon(polygon)\n",
    "# \n",
    "# line = [(4.0, -2.0000000000000004), (2.0, -1.1102230246251565e-15)]\n",
    "# shapely_line = shapely.geometry.LineString(line)\n",
    "# \n",
    "# intersection_line = list(shapely_poly.intersection(shapely_line).coords)\n",
    "# print(intersection_line)\n",
    "# #shapely_poly.intersection(shapely_line)\n",
    "# shapely_poly.intersection(shapely_line).is_empty"
   ]
  },
  {
   "cell_type": "code",
   "execution_count": 152,
   "metadata": {},
   "outputs": [
    {
     "name": "stderr",
     "output_type": "stream",
     "text": [
      "../src/utils.py:159: YAMLLoadWarning: calling yaml.load() without Loader=... is deprecated, as the default Loader is unsafe. Please read https://msg.pyyaml.org/load for full details.\n",
      "  athena_config = yaml.load(open(path, \"r\"))\n"
     ]
    },
    {
     "name": "stdout",
     "output_type": "stream",
     "text": [
      "(1175153, 1)\n"
     ]
    },
    {
     "data": {
      "text/plain": [
       "0    LINESTRING(-58.373466 -34.61024, -58.372053 -3...\n",
       "1    LINESTRING(-54.345238 -34.494133, -54.346139 -...\n",
       "2    LINESTRING(-35.198845 -5.855827, -35.199177 -5...\n",
       "3    LINESTRING(-38.334909 -10.370219, -38.328788 -...\n",
       "4    LINESTRING(-58.734996 -34.506163, -58.733279 -...\n",
       "Name: line_wkt, dtype: object"
      ]
     },
     "execution_count": 152,
     "metadata": {},
     "output_type": "execute_result"
    }
   ],
   "source": [
    "conn = utils.connect_athena(path='../configs/athena.yaml')\n",
    "qry = f\"\"\"\n",
    "    select distinct line_wkt\n",
    "    from spd_sdv_waze_corona.raw_copy_jams\"\"\"\n",
    "# df_lines = pd.read_sql_query(qry, conn)\n",
    "# df_lines.to_csv('/home/soniame/private/line_wkt_202010701.csv')\n",
    "print(df_lines.shape)\n",
    "df_lines.line_wkt.head()"
   ]
  },
  {
   "cell_type": "code",
   "execution_count": 156,
   "metadata": {},
   "outputs": [
    {
     "data": {
      "text/plain": [
       "1175153"
      ]
     },
     "execution_count": 156,
     "metadata": {},
     "output_type": "execute_result"
    }
   ],
   "source": []
  },
  {
   "cell_type": "code",
   "execution_count": 173,
   "metadata": {},
   "outputs": [
    {
     "name": "stdout",
     "output_type": "stream",
     "text": [
      "5970.269755\n"
     ]
    },
    {
     "data": {
      "image/svg+xml": [
       "<svg xmlns=\"http://www.w3.org/2000/svg\" xmlns:xlink=\"http://www.w3.org/1999/xlink\" width=\"114.14412000000002\" height=\"106.40711999999999\" viewBox=\"-133.68156000000002 -64.94156 114.14412000000002 106.40711999999999\" preserveAspectRatio=\"xMinYMin meet\"><g transform=\"matrix(1,0,0,-1,0,-23.476)\"><path fill-rule=\"evenodd\" fill=\"#66cc99\" stroke=\"#555555\" stroke-width=\"2.0\" opacity=\"0.6\" d=\"M -129.454,37.238 L -90.781,27.311 L -67.117,20.333 L -68.721,17.506 L -23.765,-9.114 L -65.601,-60.714 L -126.421,-23.479 L -129.454,37.238 z\" /></g></svg>"
      ],
      "text/plain": [
       "<shapely.geometry.polygon.Polygon at 0x7f40d787fd90>"
      ]
     },
     "execution_count": 173,
     "metadata": {},
     "output_type": "execute_result"
    }
   ],
   "source": [
    "# - Example \n",
    "# polygon = 'POLYGON((2.0117187499999822 44.38657313925715,-19.433593750000018 19.207272119703983,19.414062499999982 6.904449621538131,64.94140624999999 -3.096801256840523,81.46484374999999 37.21269961002643,45.78124999999998 24.106495997107682,53.69140624999998 51.22054369437158,3.7695312499999822 37.07257833232809,2.0117187499999822 44.38657313925715))'\n",
    "# - Latin America \n",
    "# polygon = 'POLYGON ((-127.265625 34.30714385628804, -128.671875 -56.94497418085159, -28.4765625 -57.70414723434192, -29.8828125 16.97274101999902, -84.72656249999999 25.48295117535531, -116.71874999999999 35.746512259918504, -127.265625 34.30714385628804))'\n",
    "# - Triángulo \n",
    "# polygon = Polygon([(0, 0), (5, 5), (5, 0)])\n",
    "# - Peru\n",
    "# polygon = 'POLYGON ((-77.10205078124999 -13.004557745339769, -72.158203125 -13.004557745339769, -72.158203125 -8.90678000752024, -77.10205078124999 -8.90678000752024, -77.10205078124999 -13.004557745339769))'\n",
    "# - Latin america BID\n",
    "polygon = 'POLYGON((-129.454 37.238,-90.781 27.311,-67.117 20.333,-68.721 17.506,-23.765 -9.114,-65.601 -60.714,-126.421 -23.479,-129.454 37.238))'\n",
    "geometry = wkt.loads(polygon)\n",
    "print(geometry.area)\n",
    "geometry"
   ]
  },
  {
   "cell_type": "code",
   "execution_count": 176,
   "metadata": {},
   "outputs": [],
   "source": [
    "from shapely.geometry import box, Polygon, MultiPolygon, GeometryCollection\n",
    "from shapely.wkt import loads\n",
    "\n",
    "def intersection_func(line, geometry):\n",
    "    line_wkt = wkt.loads(line)\n",
    "    result = geometry.intersection(line_wkt).is_empty == False\n",
    "    return(int(result))\n",
    "\n",
    "def threshold_density_func(geometry, threshold_value):\n",
    "    \"\"\"Compares the threshold values with the number of lines\"\"\"\n",
    "    \n",
    "    print('Running')\n",
    "    \n",
    "    times = [intersection_func(line, geometry) for line in df_lines.line_wkt]\n",
    "    intersection = sum(times)\n",
    "    total = len(times)\n",
    "    \n",
    "    print(intersection)\n",
    "    print(total)\n",
    "    print(intersection/total)\n",
    "    \n",
    "    return (intersection/total) < (threshold_value/total)"
   ]
  },
  {
   "cell_type": "code",
   "execution_count": null,
   "metadata": {},
   "outputs": [],
   "source": [
    "\n",
    "times = [intersection_func(line, geometry) for line in df_lines.line_wkt]\n",
    "intersection = sum(times)\n",
    "total = len(times)\n",
    "\n",
    "print(intersection)\n",
    "print(total)\n",
    "print(intersection/total)\n",
    "\n"
   ]
  },
  {
   "cell_type": "code",
   "execution_count": null,
   "metadata": {},
   "outputs": [],
   "source": []
  },
  {
   "cell_type": "code",
   "execution_count": null,
   "metadata": {},
   "outputs": [],
   "source": []
  },
  {
   "cell_type": "code",
   "execution_count": 158,
   "metadata": {},
   "outputs": [
    {
     "name": "stdout",
     "output_type": "stream",
     "text": [
      "Running\n",
      "0\n",
      "1175153\n"
     ]
    },
    {
     "ename": "NameError",
     "evalue": "name 'interesection' is not defined",
     "output_type": "error",
     "traceback": [
      "\u001b[0;31m---------------------------------------------------------------------------\u001b[0m",
      "\u001b[0;31mNameError\u001b[0m                                 Traceback (most recent call last)",
      "\u001b[0;32m/tmp/ipykernel_26002/343656273.py\u001b[0m in \u001b[0;36m<module>\u001b[0;34m\u001b[0m\n\u001b[1;32m      2\u001b[0m                            \u001b[0mthreshold_func\u001b[0m \u001b[0;34m=\u001b[0m \u001b[0mthreshold_density_func\u001b[0m\u001b[0;34m,\u001b[0m\u001b[0;34m\u001b[0m\u001b[0;34m\u001b[0m\u001b[0m\n\u001b[1;32m      3\u001b[0m                            \u001b[0mthreshold_value\u001b[0m \u001b[0;34m=\u001b[0m \u001b[0;36m110000\u001b[0m\u001b[0;34m,\u001b[0m\u001b[0;34m\u001b[0m\u001b[0;34m\u001b[0m\u001b[0m\n\u001b[0;32m----> 4\u001b[0;31m                            count = 100)\n\u001b[0m",
      "\u001b[0;32m~/.conda/envs/waze_coronavirus/lib/python3.7/site-packages/osmpy/core.py\u001b[0m in \u001b[0;36mkatana\u001b[0;34m(geometry, threshold_func, threshold_value, count)\u001b[0m\n\u001b[1;32m     52\u001b[0m     \u001b[0mwidth\u001b[0m \u001b[0;34m=\u001b[0m \u001b[0mbounds\u001b[0m\u001b[0;34m[\u001b[0m\u001b[0;36m2\u001b[0m\u001b[0;34m]\u001b[0m \u001b[0;34m-\u001b[0m \u001b[0mbounds\u001b[0m\u001b[0;34m[\u001b[0m\u001b[0;36m0\u001b[0m\u001b[0;34m]\u001b[0m\u001b[0;34m\u001b[0m\u001b[0;34m\u001b[0m\u001b[0m\n\u001b[1;32m     53\u001b[0m     \u001b[0mheight\u001b[0m \u001b[0;34m=\u001b[0m \u001b[0mbounds\u001b[0m\u001b[0;34m[\u001b[0m\u001b[0;36m3\u001b[0m\u001b[0;34m]\u001b[0m \u001b[0;34m-\u001b[0m \u001b[0mbounds\u001b[0m\u001b[0;34m[\u001b[0m\u001b[0;36m1\u001b[0m\u001b[0;34m]\u001b[0m\u001b[0;34m\u001b[0m\u001b[0;34m\u001b[0m\u001b[0m\n\u001b[0;32m---> 54\u001b[0;31m     \u001b[0;32mif\u001b[0m \u001b[0mthreshold_func\u001b[0m\u001b[0;34m(\u001b[0m\u001b[0mgeometry\u001b[0m\u001b[0;34m,\u001b[0m \u001b[0mthreshold_value\u001b[0m\u001b[0;34m)\u001b[0m \u001b[0;32mor\u001b[0m \u001b[0mcount\u001b[0m \u001b[0;34m==\u001b[0m \u001b[0;36m250\u001b[0m\u001b[0;34m:\u001b[0m\u001b[0;34m\u001b[0m\u001b[0;34m\u001b[0m\u001b[0m\n\u001b[0m\u001b[1;32m     55\u001b[0m         \u001b[0;31m# either the polygon is smaller than the threshold, or the maximum\u001b[0m\u001b[0;34m\u001b[0m\u001b[0;34m\u001b[0m\u001b[0;34m\u001b[0m\u001b[0m\n\u001b[1;32m     56\u001b[0m         \u001b[0;31m# number of recursions has been reached\u001b[0m\u001b[0;34m\u001b[0m\u001b[0;34m\u001b[0m\u001b[0;34m\u001b[0m\u001b[0m\n",
      "\u001b[0;32m/tmp/ipykernel_26002/1604452995.py\u001b[0m in \u001b[0;36mthreshold_density_func\u001b[0;34m(geometry, threshold_value)\u001b[0m\n\u001b[1;32m     18\u001b[0m     \u001b[0mprint\u001b[0m\u001b[0;34m(\u001b[0m\u001b[0mintersection\u001b[0m\u001b[0;34m)\u001b[0m\u001b[0;34m\u001b[0m\u001b[0;34m\u001b[0m\u001b[0m\n\u001b[1;32m     19\u001b[0m     \u001b[0mprint\u001b[0m\u001b[0;34m(\u001b[0m\u001b[0mtotal\u001b[0m\u001b[0;34m)\u001b[0m\u001b[0;34m\u001b[0m\u001b[0;34m\u001b[0m\u001b[0m\n\u001b[0;32m---> 20\u001b[0;31m     \u001b[0mprint\u001b[0m\u001b[0;34m(\u001b[0m\u001b[0minteresection\u001b[0m\u001b[0;34m/\u001b[0m\u001b[0mtotal\u001b[0m\u001b[0;34m)\u001b[0m\u001b[0;34m\u001b[0m\u001b[0;34m\u001b[0m\u001b[0m\n\u001b[0m\u001b[1;32m     21\u001b[0m \u001b[0;34m\u001b[0m\u001b[0m\n\u001b[1;32m     22\u001b[0m     \u001b[0;32mreturn\u001b[0m \u001b[0;34m(\u001b[0m\u001b[0minteresection\u001b[0m\u001b[0;34m/\u001b[0m\u001b[0mtotal\u001b[0m\u001b[0;34m)\u001b[0m \u001b[0;34m<\u001b[0m \u001b[0;34m(\u001b[0m\u001b[0mthreshold_value\u001b[0m\u001b[0;34m/\u001b[0m\u001b[0mtotal\u001b[0m\u001b[0;34m)\u001b[0m\u001b[0;34m\u001b[0m\u001b[0;34m\u001b[0m\u001b[0m\n",
      "\u001b[0;31mNameError\u001b[0m: name 'interesection' is not defined"
     ]
    }
   ],
   "source": [
    "result = osmpy.core.katana(geometry, \n",
    "                           threshold_func = threshold_density_func, \n",
    "                           threshold_value = 110000, \n",
    "                           count = 100)"
   ]
  },
  {
   "cell_type": "code",
   "execution_count": 137,
   "metadata": {},
   "outputs": [
    {
     "data": {
      "text/plain": [
       "[<shapely.geometry.polygon.Polygon at 0x7f40d7ae38d0>,\n",
       " <shapely.geometry.polygon.Polygon at 0x7f40d7ae3e50>,\n",
       " <shapely.geometry.polygon.Polygon at 0x7f40d7ae3550>,\n",
       " <shapely.geometry.polygon.Polygon at 0x7f40d7ae3510>]"
      ]
     },
     "execution_count": 137,
     "metadata": {},
     "output_type": "execute_result"
    }
   ],
   "source": [
    "result"
   ]
  },
  {
   "cell_type": "code",
   "execution_count": 138,
   "metadata": {},
   "outputs": [
    {
     "name": "stderr",
     "output_type": "stream",
     "text": [
      "INFO|%|s\n"
     ]
    },
    {
     "data": {
      "image/svg+xml": [
       "<svg xmlns=\"http://www.w3.org/2000/svg\" xmlns:xlink=\"http://www.w3.org/1999/xlink\" width=\"100.0\" height=\"100.0\" viewBox=\"-77.29980468749999 -13.202311651589769 5.339355468749986 4.493285550319529\" preserveAspectRatio=\"xMinYMin meet\"><g transform=\"matrix(1,0,0,-1,0,-21.911337752860007)\"><g><path fill-rule=\"evenodd\" fill=\"#ff3333\" stroke=\"#555555\" stroke-width=\"0.10678710937499972\" opacity=\"0.6\" d=\"M -74.630126953125,-13.004557745339769 L -77.10205078124999,-13.004557745339769 L -77.10205078124999,-10.955668876430003 L -74.630126953125,-10.955668876430003 L -74.630126953125,-13.004557745339769 z\" /><path fill-rule=\"evenodd\" fill=\"#ff3333\" stroke=\"#555555\" stroke-width=\"0.10678710937499972\" opacity=\"0.6\" d=\"M -77.10205078124999,-10.955668876430003 L -77.10205078124999,-8.90678000752024 L -74.630126953125,-8.90678000752024 L -74.630126953125,-10.955668876430003 L -77.10205078124999,-10.955668876430003 z\" /><path fill-rule=\"evenodd\" fill=\"#ff3333\" stroke=\"#555555\" stroke-width=\"0.10678710937499972\" opacity=\"0.6\" d=\"M -72.158203125,-13.004557745339769 L -74.630126953125,-13.004557745339769 L -74.630126953125,-10.955668876430003 L -72.158203125,-10.955668876430003 L -72.158203125,-13.004557745339769 z\" /><path fill-rule=\"evenodd\" fill=\"#ff3333\" stroke=\"#555555\" stroke-width=\"0.10678710937499972\" opacity=\"0.6\" d=\"M -74.630126953125,-10.955668876430003 L -74.630126953125,-8.90678000752024 L -72.158203125,-8.90678000752024 L -72.158203125,-10.955668876430003 L -74.630126953125,-10.955668876430003 z\" /></g></g></svg>"
      ],
      "text/plain": [
       "<shapely.geometry.multipolygon.MultiPolygon at 0x7f40b22c4d10>"
      ]
     },
     "execution_count": 138,
     "metadata": {},
     "output_type": "execute_result"
    }
   ],
   "source": [
    "multipolygon = MultiPolygon(result)\n",
    "multipolygon"
   ]
  },
  {
   "cell_type": "code",
   "execution_count": 139,
   "metadata": {},
   "outputs": [
    {
     "name": "stderr",
     "output_type": "stream",
     "text": [
      "INFO|%|s\n"
     ]
    },
    {
     "name": "stdout",
     "output_type": "stream",
     "text": [
      "4\n"
     ]
    },
    {
     "data": {
      "image/svg+xml": [
       "<svg xmlns=\"http://www.w3.org/2000/svg\" xmlns:xlink=\"http://www.w3.org/1999/xlink\" width=\"100.0\" height=\"100.0\" viewBox=\"-77.29980468749999 -13.202311651589769 5.339355468749986 4.493285550319529\" preserveAspectRatio=\"xMinYMin meet\"><g transform=\"matrix(1,0,0,-1,0,-21.911337752860007)\"><g><path fill-rule=\"evenodd\" fill=\"#ff3333\" stroke=\"#555555\" stroke-width=\"0.10678710937499972\" opacity=\"0.6\" d=\"M -74.630126953125,-13.004557745339769 L -77.10205078124999,-13.004557745339769 L -77.10205078124999,-10.955668876430003 L -74.630126953125,-10.955668876430003 L -74.630126953125,-13.004557745339769 z\" /><path fill-rule=\"evenodd\" fill=\"#ff3333\" stroke=\"#555555\" stroke-width=\"0.10678710937499972\" opacity=\"0.6\" d=\"M -77.10205078124999,-10.955668876430003 L -77.10205078124999,-8.90678000752024 L -74.630126953125,-8.90678000752024 L -74.630126953125,-10.955668876430003 L -77.10205078124999,-10.955668876430003 z\" /><path fill-rule=\"evenodd\" fill=\"#ff3333\" stroke=\"#555555\" stroke-width=\"0.10678710937499972\" opacity=\"0.6\" d=\"M -72.158203125,-13.004557745339769 L -74.630126953125,-13.004557745339769 L -74.630126953125,-10.955668876430003 L -72.158203125,-10.955668876430003 L -72.158203125,-13.004557745339769 z\" /><path fill-rule=\"evenodd\" fill=\"#ff3333\" stroke=\"#555555\" stroke-width=\"0.10678710937499972\" opacity=\"0.6\" d=\"M -74.630126953125,-10.955668876430003 L -74.630126953125,-8.90678000752024 L -72.158203125,-8.90678000752024 L -72.158203125,-10.955668876430003 L -74.630126953125,-10.955668876430003 z\" /></g></g></svg>"
      ],
      "text/plain": [
       "<shapely.geometry.multipolygon.MultiPolygon at 0x7f40b22c4d10>"
      ]
     },
     "execution_count": 139,
     "metadata": {},
     "output_type": "execute_result"
    }
   ],
   "source": [
    "print(len(MultiPolygon(result).geoms))\n",
    "multipolygon"
   ]
  },
  {
   "cell_type": "code",
   "execution_count": 8,
   "metadata": {},
   "outputs": [],
   "source": [
    "grid = list()\n",
    "for polygon in MultiPolygon(result):  # same for multipolygon.geoms\n",
    "    grid.append(str(polygon))"
   ]
  },
  {
   "cell_type": "code",
   "execution_count": 17,
   "metadata": {},
   "outputs": [],
   "source": [
    "outdf = gpd.GeoDataFrame(columns=['geometry'])\n",
    "outdf['geometry'] = grid\n",
    "outdf.to_csv(f\"~/private/projects/geo_grid_area_{cm}.csv\")"
   ]
  },
  {
   "cell_type": "code",
   "execution_count": null,
   "metadata": {},
   "outputs": [],
   "source": []
  }
 ],
 "metadata": {
  "kernelspec": {
   "display_name": "waze_coronavirus",
   "language": "python",
   "name": "waze_coronavirus"
  },
  "language_info": {
   "codemirror_mode": {
    "name": "ipython",
    "version": 3
   },
   "file_extension": ".py",
   "mimetype": "text/x-python",
   "name": "python",
   "nbconvert_exporter": "python",
   "pygments_lexer": "ipython3",
   "version": "3.7.10"
  },
  "toc": {
   "base_numbering": 1,
   "nav_menu": {},
   "number_sections": true,
   "sideBar": true,
   "skip_h1_title": false,
   "title_cell": "Table of Contents",
   "title_sidebar": "Contents",
   "toc_cell": false,
   "toc_position": {},
   "toc_section_display": true,
   "toc_window_display": false
  }
 },
 "nbformat": 4,
 "nbformat_minor": 2
}
