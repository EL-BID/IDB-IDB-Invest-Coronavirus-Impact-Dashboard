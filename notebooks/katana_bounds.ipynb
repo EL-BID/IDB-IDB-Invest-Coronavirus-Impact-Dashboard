{
 "cells": [
  {
   "cell_type": "markdown",
   "metadata": {},
   "source": [
    "# Split lines into grid"
   ]
  },
  {
   "cell_type": "code",
   "execution_count": 4,
   "metadata": {},
   "outputs": [
    {
     "data": {
      "text/plain": [
       "'202108171308'"
      ]
     },
     "execution_count": 4,
     "metadata": {},
     "output_type": "execute_result"
    }
   ],
   "source": [
    "# %load first_cell.py\n",
    "%reload_ext autoreload\n",
    "%autoreload 2\n",
    "from pathlib import Path\n",
    "import os\n",
    "\n",
    "# system paths\n",
    "import sys\n",
    "home = str(Path.home())\n",
    "sys.path = sys.path + [f'{home}/.conda/envs/norm_env/lib/python37.zip', \n",
    "                       f'{home}/.conda/envs/norm_env/lib/python3.7', \n",
    "                       f'{home}/.conda/envs/norm_env/lib/python3.7/lib-dynload', \n",
    "                       f'{home}/.conda/envs/norm_env/lib/python3.7/site-packages']\n",
    "sys.prefix = '/home/soniame/.conda/envs/norm_env'\n",
    "from paths import RAW_PATH, TREAT_PATH, OUTPUT_PATH, FIGURES_PATH\n",
    "\n",
    "# aws connection*\n",
    "import boto3\n",
    "import awswrangler as wr\n",
    "\n",
    "# local libraries\n",
    "from src import utils\n",
    "\n",
    "# analysis libraries\n",
    "from datetime import datetime, timedelta\n",
    "import pandas as pd\n",
    "import numpy as np\n",
    "import geopandas as gpd\n",
    "import random\n",
    "import itertools\n",
    "\n",
    "import matplotlib.pyplot as plt\n",
    "\n",
    "from shapely.geometry import box, Polygon, MultiPolygon, LineString, GeometryCollection, shape\n",
    "from shapely import wkt\n",
    "from shapely.ops import transform\n",
    "from babelgrid import Babel\n",
    "\n",
    "from multiprocessing.pool import Pool\n",
    "from functools import partial\n",
    "\n",
    "from loguru import logger\n",
    "\n",
    "cm = str(datetime.today().strftime(\"%Y%m%d%H%m\"))\n",
    "cm"
   ]
  },
  {
   "cell_type": "markdown",
   "metadata": {},
   "source": [
    "## Sample dates\n",
    "\n"
   ]
  },
  {
   "cell_type": "code",
   "execution_count": 3,
   "metadata": {},
   "outputs": [],
   "source": [
    "from src.runners.sample_jams import _sample_dates"
   ]
  },
  {
   "cell_type": "code",
   "execution_count": 4,
   "metadata": {},
   "outputs": [
    {
     "name": "stderr",
     "output_type": "stream",
     "text": [
      "2021-08-16 17:11:46.960 | DEBUG    | src.runners.sample_jams:_sample_dates:64 -            date\n",
      "dow            \n",
      "Friday       10\n",
      "Monday       10\n",
      "Thursday     10\n",
      "Tuesday      10\n",
      "Wednesday    10\n",
      "2021-08-16 17:11:46.965 | DEBUG    | src.runners.sample_jams:_sample_dates:65 -       dow\n",
      "year     \n",
      "2019   19\n",
      "2020   19\n",
      "2021   12\n"
     ]
    }
   ],
   "source": [
    "df = _sample_dates(start_date = '2019-01-01', end_date = '2021-08-12')\n"
   ]
  },
  {
   "cell_type": "code",
   "execution_count": null,
   "metadata": {},
   "outputs": [],
   "source": [
    "print(df.date_filter[0])"
   ]
  },
  {
   "cell_type": "code",
   "execution_count": null,
   "metadata": {},
   "outputs": [],
   "source": []
  },
  {
   "cell_type": "markdown",
   "metadata": {},
   "source": [
    "## Download sample\n",
    "\n",
    "Query Athena once to download lines count to calculate jams"
   ]
  },
  {
   "cell_type": "code",
   "execution_count": 89,
   "metadata": {},
   "outputs": [],
   "source": [
    "from src.runners import split_polygon"
   ]
  },
  {
   "cell_type": "code",
   "execution_count": 95,
   "metadata": {},
   "outputs": [
    {
     "name": "stdout",
     "output_type": "stream",
     "text": [
      "(21904128, 3)\n"
     ]
    }
   ],
   "source": [
    "# Download data from Athena\n",
    "update_data = False\n",
    "if update_data:\n",
    "    conn = utils.connect_athena(path='../configs/athena.yaml')\n",
    "    qry = f\"\"\"\n",
    "        select line_wkt, count(line_wkt) as count_lines\n",
    "        from spd_sdv_waze_corona.raw_sample_jams\n",
    "        group by line_wkt\"\"\"\n",
    "    df_lines = pd.read_sql_query(qry, conn)\n",
    "    \n",
    "    # split lines\n",
    "    df_lines = _split_groups(df_lines)\n",
    "    df_lines.to_csv('/home/soniame/private/projects/corona_geo_id/lines/line_wkt_count_202010712.csv', index=False)\n",
    "\n",
    "\n",
    "# Read current table\n",
    "df_lines = pd.read_csv('/home/soniame/private/projects/corona_geo_id/lines/line_wkt_count_202010712.csv')\n",
    "print(df_lines.shape)"
   ]
  },
  {
   "cell_type": "code",
   "execution_count": 97,
   "metadata": {},
   "outputs": [
    {
     "name": "stdout",
     "output_type": "stream",
     "text": [
      "(21904128, 3)\n"
     ]
    },
    {
     "data": {
      "text/html": [
       "<div>\n",
       "<style scoped>\n",
       "    .dataframe tbody tr th:only-of-type {\n",
       "        vertical-align: middle;\n",
       "    }\n",
       "\n",
       "    .dataframe tbody tr th {\n",
       "        vertical-align: top;\n",
       "    }\n",
       "\n",
       "    .dataframe thead th {\n",
       "        text-align: right;\n",
       "    }\n",
       "</style>\n",
       "<table border=\"1\" class=\"dataframe\">\n",
       "  <thead>\n",
       "    <tr style=\"text-align: right;\">\n",
       "      <th></th>\n",
       "      <th>line_wkt</th>\n",
       "      <th>count_lines</th>\n",
       "      <th>split</th>\n",
       "    </tr>\n",
       "  </thead>\n",
       "  <tbody>\n",
       "    <tr>\n",
       "      <th>0</th>\n",
       "      <td>linestring (-35.232974 -5.731801,-35.233194 -5...</td>\n",
       "      <td>26</td>\n",
       "      <td>1</td>\n",
       "    </tr>\n",
       "    <tr>\n",
       "      <th>1</th>\n",
       "      <td>linestring (-103.34963 20.733682,-103.350022 2...</td>\n",
       "      <td>84</td>\n",
       "      <td>1</td>\n",
       "    </tr>\n",
       "    <tr>\n",
       "      <th>2</th>\n",
       "      <td>linestring (-103.270292 20.663531,-103.270276 ...</td>\n",
       "      <td>83</td>\n",
       "      <td>1</td>\n",
       "    </tr>\n",
       "  </tbody>\n",
       "</table>\n",
       "</div>"
      ],
      "text/plain": [
       "                                            line_wkt  count_lines  split\n",
       "0  linestring (-35.232974 -5.731801,-35.233194 -5...           26      1\n",
       "1  linestring (-103.34963 20.733682,-103.350022 2...           84      1\n",
       "2  linestring (-103.270292 20.663531,-103.270276 ...           83      1"
      ]
     },
     "execution_count": 97,
     "metadata": {},
     "output_type": "execute_result"
    }
   ],
   "source": [
    "print(df_lines.shape)\n",
    "df_lines.head(3)"
   ]
  },
  {
   "cell_type": "code",
   "execution_count": 108,
   "metadata": {},
   "outputs": [
    {
     "data": {
      "text/html": [
       "<div>\n",
       "<style scoped>\n",
       "    .dataframe tbody tr th:only-of-type {\n",
       "        vertical-align: middle;\n",
       "    }\n",
       "\n",
       "    .dataframe tbody tr th {\n",
       "        vertical-align: top;\n",
       "    }\n",
       "\n",
       "    .dataframe thead th {\n",
       "        text-align: right;\n",
       "    }\n",
       "</style>\n",
       "<table border=\"1\" class=\"dataframe\">\n",
       "  <thead>\n",
       "    <tr style=\"text-align: right;\">\n",
       "      <th></th>\n",
       "      <th>split</th>\n",
       "      <th>lines</th>\n",
       "    </tr>\n",
       "  </thead>\n",
       "  <tbody>\n",
       "    <tr>\n",
       "      <th>0</th>\n",
       "      <td>1</td>\n",
       "      <td>3650688</td>\n",
       "    </tr>\n",
       "    <tr>\n",
       "      <th>1</th>\n",
       "      <td>2</td>\n",
       "      <td>3650688</td>\n",
       "    </tr>\n",
       "    <tr>\n",
       "      <th>2</th>\n",
       "      <td>3</td>\n",
       "      <td>3650688</td>\n",
       "    </tr>\n",
       "    <tr>\n",
       "      <th>3</th>\n",
       "      <td>4</td>\n",
       "      <td>3650688</td>\n",
       "    </tr>\n",
       "    <tr>\n",
       "      <th>4</th>\n",
       "      <td>5</td>\n",
       "      <td>3650688</td>\n",
       "    </tr>\n",
       "    <tr>\n",
       "      <th>5</th>\n",
       "      <td>6</td>\n",
       "      <td>3650688</td>\n",
       "    </tr>\n",
       "  </tbody>\n",
       "</table>\n",
       "</div>"
      ],
      "text/plain": [
       "   split    lines\n",
       "0      1  3650688\n",
       "1      2  3650688\n",
       "2      3  3650688\n",
       "3      4  3650688\n",
       "4      5  3650688\n",
       "5      6  3650688"
      ]
     },
     "execution_count": 108,
     "metadata": {},
     "output_type": "execute_result"
    }
   ],
   "source": [
    "from siuba import group_by, summarize, _\n",
    "(df_lines\n",
    "  >> group_by(_.split)\n",
    "  >> summarize(lines = _.line_wkt.count())\n",
    "  )"
   ]
  },
  {
   "cell_type": "code",
   "execution_count": null,
   "metadata": {},
   "outputs": [],
   "source": []
  },
  {
   "cell_type": "code",
   "execution_count": null,
   "metadata": {},
   "outputs": [],
   "source": []
  },
  {
   "cell_type": "markdown",
   "metadata": {},
   "source": [
    "## Polygons definitions"
   ]
  },
  {
   "cell_type": "code",
   "execution_count": 9,
   "metadata": {},
   "outputs": [
    {
     "name": "stdout",
     "output_type": "stream",
     "text": [
      "5970.269755\n"
     ]
    },
    {
     "data": {
      "image/svg+xml": [
       "<svg xmlns=\"http://www.w3.org/2000/svg\" xmlns:xlink=\"http://www.w3.org/1999/xlink\" width=\"114.14412000000002\" height=\"106.40711999999999\" viewBox=\"-133.68156000000002 -64.94156 114.14412000000002 106.40711999999999\" preserveAspectRatio=\"xMinYMin meet\"><g transform=\"matrix(1,0,0,-1,0,-23.476)\"><path fill-rule=\"evenodd\" fill=\"#66cc99\" stroke=\"#555555\" stroke-width=\"2.0\" opacity=\"0.6\" d=\"M -129.454,37.238 L -90.781,27.311 L -67.117,20.333 L -68.721,17.506 L -23.765,-9.114 L -65.601,-60.714 L -126.421,-23.479 L -129.454,37.238 z\" /></g></svg>"
      ],
      "text/plain": [
       "<shapely.geometry.polygon.Polygon at 0x7f7e07cd4a90>"
      ]
     },
     "execution_count": 9,
     "metadata": {},
     "output_type": "execute_result"
    }
   ],
   "source": [
    "# - Example \n",
    "# polygon = 'POLYGON((2.0117187499999822 44.38657313925715,-19.433593750000018 19.207272119703983,19.414062499999982 6.904449621538131,64.94140624999999 -3.096801256840523,81.46484374999999 37.21269961002643,45.78124999999998 24.106495997107682,53.69140624999998 51.22054369437158,3.7695312499999822 37.07257833232809,2.0117187499999822 44.38657313925715))'\n",
    "# - Latin America \n",
    "# polygon = 'POLYGON ((-127.265625 34.30714385628804, -128.671875 -56.94497418085159, -28.4765625 -57.70414723434192, -29.8828125 16.97274101999902, -84.72656249999999 25.48295117535531, -116.71874999999999 35.746512259918504, -127.265625 34.30714385628804))'\n",
    "# - Triángulo \n",
    "# polygon = Polygon([(0, 0), (5, 5), (5, 0)])\n",
    "# - Peru\n",
    "# polygon = 'POLYGON ((-77.10205078124999 -13.004557745339769, -72.158203125 -13.004557745339769, -72.158203125 -8.90678000752024, -77.10205078124999 -8.90678000752024, -77.10205078124999 -13.004557745339769))'\n",
    "# - Latin america BID\n",
    "polygon = 'POLYGON((-129.454 37.238,-90.781 27.311,-67.117 20.333,-68.721 17.506,-23.765 -9.114,-65.601 -60.714,-126.421 -23.479,-129.454 37.238))'\n",
    "geometry = wkt.loads(polygon)\n",
    "print(geometry.area)\n",
    "geometry"
   ]
  },
  {
   "cell_type": "code",
   "execution_count": null,
   "metadata": {},
   "outputs": [],
   "source": []
  },
  {
   "cell_type": "markdown",
   "metadata": {},
   "source": [
    "## Coarse grid split"
   ]
  },
  {
   "cell_type": "code",
   "execution_count": 6,
   "metadata": {},
   "outputs": [],
   "source": [
    "from src.runners import split_polygon"
   ]
  },
  {
   "cell_type": "code",
   "execution_count": 7,
   "metadata": {
    "scrolled": true
   },
   "outputs": [],
   "source": [
    "# H3 cells grid\n",
    "tiles = Babel('h3').polyfill(geometry, resolution=1)\n",
    "# S2 cells grid\n",
    "#tiles = Babel('s2').polyfill(geometry, resolution=4)\n",
    "len(tiles)\n",
    "\n",
    "if False:\n",
    "    tiles_gdf = gpd.GeoDataFrame([t.to_dict() for t in tiles], geometry='shapely')\n",
    "    df = tiles_gdf\n",
    "    m = folium.Map(location=[40.70, -73.94], zoom_start=2, tiles='CartoDB positron')\n",
    "    for _, r in df.iterrows():\n",
    "        # Without simplifying the representation of each borough,\n",
    "        # the map might not be displayed\n",
    "        sim_geo = gpd.GeoSeries(r['shapely']).simplify(tolerance=0.001)\n",
    "        geo_j = sim_geo.to_json()\n",
    "        geo_j = folium.GeoJson(data=geo_j,\n",
    "                               style_function=lambda x: {'fillColor': 'orange'})\n",
    "        geo_j.add_to(m)\n",
    "    m"
   ]
  },
  {
   "cell_type": "code",
   "execution_count": 13,
   "metadata": {},
   "outputs": [
    {
     "data": {
      "text/plain": [
       "'POLYGON ((-55.1640042079650925 -36.6429358436080577, -52.6054858825439382 -33.9363061513190800, -54.8549024329454653 -30.5120297313577140, -59.4966061400419974 -29.8929853386935527, -61.8827346387927903 -33.4390244823261540, -59.7881757300352632 -36.3948270591191658, -58.3098460295978711 -36.2052826524870781, -55.1640042079650925 -36.6429358436080577))'"
      ]
     },
     "execution_count": 13,
     "metadata": {},
     "output_type": "execute_result"
    }
   ],
   "source": [
    "tiles[0].geometry.wkt"
   ]
  },
  {
   "cell_type": "code",
   "execution_count": null,
   "metadata": {},
   "outputs": [],
   "source": [
    "#df_coars_split = _create_coarse_grid(df_lines, tiles, split)"
   ]
  },
  {
   "cell_type": "code",
   "execution_count": null,
   "metadata": {},
   "outputs": [],
   "source": []
  },
  {
   "cell_type": "markdown",
   "metadata": {},
   "source": [
    "### Coarse grid distribution\n",
    "\n",
    "Union of files"
   ]
  },
  {
   "cell_type": "code",
   "execution_count": 20,
   "metadata": {},
   "outputs": [
    {
     "name": "stdout",
     "output_type": "stream",
     "text": [
      "(1175153, 2)\n"
     ]
    },
    {
     "data": {
      "text/html": [
       "<div>\n",
       "<style scoped>\n",
       "    .dataframe tbody tr th:only-of-type {\n",
       "        vertical-align: middle;\n",
       "    }\n",
       "\n",
       "    .dataframe tbody tr th {\n",
       "        vertical-align: top;\n",
       "    }\n",
       "\n",
       "    .dataframe thead th {\n",
       "        text-align: right;\n",
       "    }\n",
       "</style>\n",
       "<table border=\"1\" class=\"dataframe\">\n",
       "  <thead>\n",
       "    <tr style=\"text-align: right;\">\n",
       "      <th></th>\n",
       "      <th>line_wkt</th>\n",
       "      <th>coarse_wkt</th>\n",
       "    </tr>\n",
       "  </thead>\n",
       "  <tbody>\n",
       "    <tr>\n",
       "      <th>0</th>\n",
       "      <td>LINESTRING(-75.097855 4.448101, -75.098718 4.4...</td>\n",
       "      <td>POLYGON ((-77.4406988355037527 5.5631423675199...</td>\n",
       "    </tr>\n",
       "    <tr>\n",
       "      <th>1</th>\n",
       "      <td>LINESTRING(-100.921694 22.14878, -100.921864 2...</td>\n",
       "      <td>POLYGON ((-99.0040860771203626 15.551320300550...</td>\n",
       "    </tr>\n",
       "    <tr>\n",
       "      <th>2</th>\n",
       "      <td>LINESTRING(-84.073469 9.962173, -84.073921 9.9...</td>\n",
       "      <td>POLYGON ((-89.8649065476102322 14.465456015426...</td>\n",
       "    </tr>\n",
       "    <tr>\n",
       "      <th>3</th>\n",
       "      <td>LINESTRING(-101.001843 22.19166, -101.002284 2...</td>\n",
       "      <td>POLYGON ((-99.0040860771203626 15.551320300550...</td>\n",
       "    </tr>\n",
       "    <tr>\n",
       "      <th>4</th>\n",
       "      <td>LINESTRING(-75.554978 6.3126, -75.554667 6.313...</td>\n",
       "      <td>POLYGON ((-76.7016783072784705 12.819508275225...</td>\n",
       "    </tr>\n",
       "  </tbody>\n",
       "</table>\n",
       "</div>"
      ],
      "text/plain": [
       "                                            line_wkt  \\\n",
       "0  LINESTRING(-75.097855 4.448101, -75.098718 4.4...   \n",
       "1  LINESTRING(-100.921694 22.14878, -100.921864 2...   \n",
       "2  LINESTRING(-84.073469 9.962173, -84.073921 9.9...   \n",
       "3  LINESTRING(-101.001843 22.19166, -101.002284 2...   \n",
       "4  LINESTRING(-75.554978 6.3126, -75.554667 6.313...   \n",
       "\n",
       "                                          coarse_wkt  \n",
       "0  POLYGON ((-77.4406988355037527 5.5631423675199...  \n",
       "1  POLYGON ((-99.0040860771203626 15.551320300550...  \n",
       "2  POLYGON ((-89.8649065476102322 14.465456015426...  \n",
       "3  POLYGON ((-99.0040860771203626 15.551320300550...  \n",
       "4  POLYGON ((-76.7016783072784705 12.819508275225...  "
      ]
     },
     "execution_count": 20,
     "metadata": {},
     "output_type": "execute_result"
    }
   ],
   "source": [
    "mypath = \"/home/soniame/private/projects/corona_geo_id/coarse_grid/\"\n",
    "csv_files = [os.path.join(mypath, x) for x in os.listdir(mypath)]\n",
    "csv_files = [csv_files[x] for x in [0, 2, 3, 4, 5, 6, 7]]\n",
    "csv_files"
   ]
  },
  {
   "cell_type": "code",
   "execution_count": 31,
   "metadata": {},
   "outputs": [
    {
     "data": {
      "text/plain": [
       "['/home/soniame/private/projects/corona_geo_id/coarse_grid/coarse_id.csv',\n",
       " '/home/soniame/private/projects/corona_geo_id/coarse_grid/coarse_id_new_1.csv',\n",
       " '/home/soniame/private/projects/corona_geo_id/coarse_grid/coarse_id_new_2.csv',\n",
       " '/home/soniame/private/projects/corona_geo_id/coarse_grid/coarse_id_new_3.csv',\n",
       " '/home/soniame/private/projects/corona_geo_id/coarse_grid/coarse_id_new_4.csv',\n",
       " '/home/soniame/private/projects/corona_geo_id/coarse_grid/coarse_id_new_5.csv',\n",
       " '/home/soniame/private/projects/corona_geo_id/coarse_grid/coarse_id_new_6.csv']"
      ]
     },
     "execution_count": 31,
     "metadata": {},
     "output_type": "execute_result"
    }
   ],
   "source": [
    "csv_files"
   ]
  },
  {
   "cell_type": "code",
   "execution_count": 34,
   "metadata": {},
   "outputs": [
    {
     "name": "stderr",
     "output_type": "stream",
     "text": [
      "2021-08-17 13:20:10.614 | DEBUG    | __main__:<module>:3 - /home/soniame/private/projects/corona_geo_id/coarse_grid/coarse_id.csv\n",
      "2021-08-17 13:20:16.031 | DEBUG    | __main__:<module>:6 - 1175153\n",
      "2021-08-17 13:20:17.472 | DEBUG    | __main__:<module>:7 - 1175153\n",
      "2021-08-17 13:20:17.473 | DEBUG    | __main__:<module>:3 - /home/soniame/private/projects/corona_geo_id/coarse_grid/coarse_id_new_1.csv\n",
      "2021-08-17 13:20:48.613 | DEBUG    | __main__:<module>:6 - 4674158\n",
      "2021-08-17 13:20:57.730 | DEBUG    | __main__:<module>:7 - 4670342\n",
      "2021-08-17 13:20:57.731 | DEBUG    | __main__:<module>:3 - /home/soniame/private/projects/corona_geo_id/coarse_grid/coarse_id_new_2.csv\n",
      "2021-08-17 13:21:31.723 | DEBUG    | __main__:<module>:6 - 8189099\n",
      "2021-08-17 13:21:50.237 | DEBUG    | __main__:<module>:7 - 8181081\n",
      "2021-08-17 13:21:50.238 | DEBUG    | __main__:<module>:3 - /home/soniame/private/projects/corona_geo_id/coarse_grid/coarse_id_new_3.csv\n",
      "2021-08-17 13:22:25.592 | DEBUG    | __main__:<module>:6 - 11708245\n",
      "2021-08-17 13:22:49.640 | DEBUG    | __main__:<module>:7 - 11696148\n",
      "2021-08-17 13:22:49.641 | DEBUG    | __main__:<module>:3 - /home/soniame/private/projects/corona_geo_id/coarse_grid/coarse_id_new_4.csv\n",
      "2021-08-17 13:23:24.982 | DEBUG    | __main__:<module>:6 - 15176060\n",
      "2021-08-17 13:24:03.524 | DEBUG    | __main__:<module>:7 - 15157023\n",
      "2021-08-17 13:24:03.525 | DEBUG    | __main__:<module>:3 - /home/soniame/private/projects/corona_geo_id/coarse_grid/coarse_id_new_5.csv\n",
      "2021-08-17 13:24:47.753 | DEBUG    | __main__:<module>:6 - 18688096\n",
      "2021-08-17 13:25:32.729 | DEBUG    | __main__:<module>:7 - 18663890\n",
      "2021-08-17 13:25:32.730 | DEBUG    | __main__:<module>:3 - /home/soniame/private/projects/corona_geo_id/coarse_grid/coarse_id_new_6.csv\n",
      "2021-08-17 13:26:20.280 | DEBUG    | __main__:<module>:6 - 22242051\n",
      "2021-08-17 13:27:11.431 | DEBUG    | __main__:<module>:7 - 22214341\n"
     ]
    }
   ],
   "source": [
    "df_coarse = pd.DataFrame()\n",
    "for path_file in csv_files:\n",
    "    logger.debug(path_file)\n",
    "    #data_file = pd.read_csv(path_file)\n",
    "    df_coarse = df_coarse.append(data_file)\n",
    "    logger.debug(len(df_coarse))\n",
    "    logger.debug(len(df_coarse.drop_duplicates()))"
   ]
  },
  {
   "cell_type": "code",
   "execution_count": 37,
   "metadata": {},
   "outputs": [
    {
     "name": "stdout",
     "output_type": "stream",
     "text": [
      "(22242051, 2)\n",
      "(22214341, 2)\n"
     ]
    },
    {
     "data": {
      "text/html": [
       "<div>\n",
       "<style scoped>\n",
       "    .dataframe tbody tr th:only-of-type {\n",
       "        vertical-align: middle;\n",
       "    }\n",
       "\n",
       "    .dataframe tbody tr th {\n",
       "        vertical-align: top;\n",
       "    }\n",
       "\n",
       "    .dataframe thead th {\n",
       "        text-align: right;\n",
       "    }\n",
       "</style>\n",
       "<table border=\"1\" class=\"dataframe\">\n",
       "  <thead>\n",
       "    <tr style=\"text-align: right;\">\n",
       "      <th></th>\n",
       "      <th>line</th>\n",
       "      <th>coarse_wkt</th>\n",
       "    </tr>\n",
       "  </thead>\n",
       "  <tbody>\n",
       "    <tr>\n",
       "      <th>0</th>\n",
       "      <td>LINESTRING(-75.097855 4.448101, -75.098718 4.4...</td>\n",
       "      <td>POLYGON ((-77.4406988355037527 5.5631423675199...</td>\n",
       "    </tr>\n",
       "  </tbody>\n",
       "</table>\n",
       "</div>"
      ],
      "text/plain": [
       "                                                line  \\\n",
       "0  LINESTRING(-75.097855 4.448101, -75.098718 4.4...   \n",
       "\n",
       "                                          coarse_wkt  \n",
       "0  POLYGON ((-77.4406988355037527 5.5631423675199...  "
      ]
     },
     "execution_count": 37,
     "metadata": {},
     "output_type": "execute_result"
    }
   ],
   "source": [
    "print(df_coarse.shape)\n",
    "#print(df_coarse.drop_duplicates().shape)\n",
    "df_coarse.head(1)"
   ]
  },
  {
   "cell_type": "code",
   "execution_count": 39,
   "metadata": {},
   "outputs": [],
   "source": [
    "df_coarse.to_csv('/home/soniame/shared/spd-sdv-omitnik-waze/corona/geo_partition/coarse_id/coarse_grid_sample.csv', index = False)\n"
   ]
  },
  {
   "cell_type": "code",
   "execution_count": 42,
   "metadata": {},
   "outputs": [],
   "source": [
    "from siuba import group_by, ungroup, arrange, summarize, _"
   ]
  },
  {
   "cell_type": "code",
   "execution_count": 51,
   "metadata": {},
   "outputs": [
    {
     "data": {
      "text/html": [
       "<div>\n",
       "<style scoped>\n",
       "    .dataframe tbody tr th:only-of-type {\n",
       "        vertical-align: middle;\n",
       "    }\n",
       "\n",
       "    .dataframe tbody tr th {\n",
       "        vertical-align: top;\n",
       "    }\n",
       "\n",
       "    .dataframe thead th {\n",
       "        text-align: right;\n",
       "    }\n",
       "</style>\n",
       "<table border=\"1\" class=\"dataframe\">\n",
       "  <thead>\n",
       "    <tr style=\"text-align: right;\">\n",
       "      <th></th>\n",
       "      <th>coarse_wkt</th>\n",
       "      <th>lines</th>\n",
       "    </tr>\n",
       "  </thead>\n",
       "  <tbody>\n",
       "    <tr>\n",
       "      <th>39</th>\n",
       "      <td>POLYGON ((-75.0277174687797981 -48.66996537978...</td>\n",
       "      <td>3</td>\n",
       "    </tr>\n",
       "    <tr>\n",
       "      <th>52</th>\n",
       "      <td>POLYGON ((-91.1200710613694156 7.0595086138102...</td>\n",
       "      <td>53</td>\n",
       "    </tr>\n",
       "    <tr>\n",
       "      <th>33</th>\n",
       "      <td>POLYGON ((-71.0160747003524904 0.9012742714960...</td>\n",
       "      <td>58</td>\n",
       "    </tr>\n",
       "    <tr>\n",
       "      <th>1</th>\n",
       "      <td>POLYGON ((-107.5508918258564961 -29.3304117185...</td>\n",
       "      <td>206</td>\n",
       "    </tr>\n",
       "    <tr>\n",
       "      <th>48</th>\n",
       "      <td>POLYGON ((-83.8912484679536021 21.244199241429...</td>\n",
       "      <td>753</td>\n",
       "    </tr>\n",
       "  </tbody>\n",
       "</table>\n",
       "</div>"
      ],
      "text/plain": [
       "                                           coarse_wkt  lines\n",
       "39  POLYGON ((-75.0277174687797981 -48.66996537978...      3\n",
       "52  POLYGON ((-91.1200710613694156 7.0595086138102...     53\n",
       "33  POLYGON ((-71.0160747003524904 0.9012742714960...     58\n",
       "1   POLYGON ((-107.5508918258564961 -29.3304117185...    206\n",
       "48  POLYGON ((-83.8912484679536021 21.244199241429...    753"
      ]
     },
     "execution_count": 51,
     "metadata": {},
     "output_type": "execute_result"
    }
   ],
   "source": [
    "tab = (df_coarse\n",
    "  >> group_by(_.coarse_wkt)\n",
    "  >> summarize(lines = _.line.count())\n",
    "  >> ungroup()\n",
    "  >> arrange(\"lines\")\n",
    "  )\n",
    "tab.to_csv('/home/soniame/private/projects/corona_geo_id/coarse_grid_distribution.csv', index = False)\n",
    "tab.head()"
   ]
  },
  {
   "cell_type": "code",
   "execution_count": 52,
   "metadata": {},
   "outputs": [
    {
     "data": {
      "text/plain": [
       "<AxesSubplot:>"
      ]
     },
     "execution_count": 52,
     "metadata": {},
     "output_type": "execute_result"
    },
    {
     "data": {
      "image/png": "[encoded data removed]",
      "text/plain": [
       "<Figure size 432x288 with 2 Axes>"
      ]
     },
     "metadata": {
      "needs_background": "light"
     },
     "output_type": "display_data"
    }
   ],
   "source": [
    "tab['geometry'] = gpd.GeoSeries.from_wkt(tab['coarse_wkt'])\n",
    "tab = gpd.GeoDataFrame(tab, geometry='geometry')\n",
    "fig, ax = plt.subplots(1, 1)\n",
    "tab.plot(column='lines', ax=ax, legend=True, cmap='OrRd')"
   ]
  },
  {
   "cell_type": "code",
   "execution_count": 53,
   "metadata": {},
   "outputs": [
    {
     "data": {
      "text/plain": [
       "21556552"
      ]
     },
     "execution_count": 53,
     "metadata": {},
     "output_type": "execute_result"
    }
   ],
   "source": [
    "sum(tab.lines)"
   ]
  },
  {
   "cell_type": "code",
   "execution_count": 54,
   "metadata": {},
   "outputs": [
    {
     "data": {
      "text/plain": [
       "<AxesSubplot:>"
      ]
     },
     "execution_count": 54,
     "metadata": {},
     "output_type": "execute_result"
    },
    {
     "data": {
      "image/png": "[encoded data removed]",
      "text/plain": [
       "<Figure size 432x288 with 2 Axes>"
      ]
     },
     "metadata": {
      "needs_background": "light"
     },
     "output_type": "display_data"
    }
   ],
   "source": [
    "fig, ax = plt.subplots(1, 1)\n",
    "tab[tab.lines > 40000].plot(column='lines', ax=ax, legend=True, cmap='OrRd')"
   ]
  },
  {
   "cell_type": "code",
   "execution_count": 58,
   "metadata": {},
   "outputs": [
    {
     "data": {
      "text/html": [
       "<div>\n",
       "<style scoped>\n",
       "    .dataframe tbody tr th:only-of-type {\n",
       "        vertical-align: middle;\n",
       "    }\n",
       "\n",
       "    .dataframe tbody tr th {\n",
       "        vertical-align: top;\n",
       "    }\n",
       "\n",
       "    .dataframe thead th {\n",
       "        text-align: right;\n",
       "    }\n",
       "</style>\n",
       "<table border=\"1\" class=\"dataframe\">\n",
       "  <thead>\n",
       "    <tr style=\"text-align: right;\">\n",
       "      <th></th>\n",
       "      <th>coarse_wkt</th>\n",
       "      <th>lines</th>\n",
       "      <th>geometry</th>\n",
       "    </tr>\n",
       "  </thead>\n",
       "  <tbody>\n",
       "    <tr>\n",
       "      <th>27</th>\n",
       "      <td>POLYGON ((-66.0686687401664443 -26.76621154586...</td>\n",
       "      <td>105337</td>\n",
       "      <td>POLYGON ((-66.06867 -26.76621, -68.71005 -30.4...</td>\n",
       "    </tr>\n",
       "    <tr>\n",
       "      <th>15</th>\n",
       "      <td>POLYGON ((-54.2561321071597078 -16.17186843503...</td>\n",
       "      <td>106294</td>\n",
       "      <td>POLYGON ((-54.25613 -16.17187, -51.77643 -12.3...</td>\n",
       "    </tr>\n",
       "    <tr>\n",
       "      <th>21</th>\n",
       "      <td>POLYGON ((-60.1658682739931479 3.8426199422059...</td>\n",
       "      <td>112649</td>\n",
       "      <td>POLYGON ((-60.16587 3.84262, -57.84643 7.69421...</td>\n",
       "    </tr>\n",
       "    <tr>\n",
       "      <th>22</th>\n",
       "      <td>POLYGON ((-60.5030941550654191 -3.948691453337...</td>\n",
       "      <td>113786</td>\n",
       "      <td>POLYGON ((-60.50309 -3.94869, -58.16364 -0.079...</td>\n",
       "    </tr>\n",
       "    <tr>\n",
       "      <th>36</th>\n",
       "      <td>POLYGON ((-72.9313306780946959 -22.96503060101...</td>\n",
       "      <td>119558</td>\n",
       "      <td>POLYGON ((-72.93133 -22.96503, -75.76857 -26.6...</td>\n",
       "    </tr>\n",
       "    <tr>\n",
       "      <th>2</th>\n",
       "      <td>POLYGON ((-113.4604482690629794 24.67163376752...</td>\n",
       "      <td>122193</td>\n",
       "      <td>POLYGON ((-113.46045 24.67163, -110.66262 28.7...</td>\n",
       "    </tr>\n",
       "    <tr>\n",
       "      <th>35</th>\n",
       "      <td>POLYGON ((-72.2573756680189803 -15.06330111473...</td>\n",
       "      <td>146611</td>\n",
       "      <td>POLYGON ((-72.25738 -15.06330, -75.00137 -18.9...</td>\n",
       "    </tr>\n",
       "    <tr>\n",
       "      <th>16</th>\n",
       "      <td>POLYGON ((-54.5523414277876597 -23.65724185228...</td>\n",
       "      <td>148721</td>\n",
       "      <td>POLYGON ((-54.55234 -23.65724, -52.04678 -20.1...</td>\n",
       "    </tr>\n",
       "    <tr>\n",
       "      <th>43</th>\n",
       "      <td>POLYGON ((-78.2181639802643360 -2.264143373647...</td>\n",
       "      <td>164206</td>\n",
       "      <td>POLYGON ((-78.21816 -2.26414, -80.99438 -6.061...</td>\n",
       "    </tr>\n",
       "    <tr>\n",
       "      <th>0</th>\n",
       "      <td>POLYGON ((-105.9464354776156654 20.21267872597...</td>\n",
       "      <td>167423</td>\n",
       "      <td>POLYGON ((-105.94644 20.21268, -103.01163 24.1...</td>\n",
       "    </tr>\n",
       "    <tr>\n",
       "      <th>8</th>\n",
       "      <td>POLYGON ((-46.8004873815631584 -4.422917404204...</td>\n",
       "      <td>195072</td>\n",
       "      <td>POLYGON ((-46.80049 -4.42292, -44.32295 -0.356...</td>\n",
       "    </tr>\n",
       "    <tr>\n",
       "      <th>49</th>\n",
       "      <td>POLYGON ((-84.7733065682320301 2.5046046873156...</td>\n",
       "      <td>213364</td>\n",
       "      <td>POLYGON ((-84.77331 2.50460, -87.59400 -1.1964...</td>\n",
       "    </tr>\n",
       "    <tr>\n",
       "      <th>50</th>\n",
       "      <td>POLYGON ((-85.6310685642679772 13.836853809820...</td>\n",
       "      <td>227680</td>\n",
       "      <td>POLYGON ((-85.63107 13.83685, -82.72794 17.133...</td>\n",
       "    </tr>\n",
       "    <tr>\n",
       "      <th>17</th>\n",
       "      <td>POLYGON ((-54.8549024329454653 -30.51202973135...</td>\n",
       "      <td>341147</td>\n",
       "      <td>POLYGON ((-54.85490 -30.51203, -52.32307 -27.4...</td>\n",
       "    </tr>\n",
       "    <tr>\n",
       "      <th>47</th>\n",
       "      <td>POLYGON ((-83.8436850484584397 10.069625269478...</td>\n",
       "      <td>360271</td>\n",
       "      <td>POLYGON ((-83.84369 10.06963, -86.58999 6.6051...</td>\n",
       "    </tr>\n",
       "    <tr>\n",
       "      <th>29</th>\n",
       "      <td>POLYGON ((-67.4925053768322698 -44.17972718268...</td>\n",
       "      <td>376971</td>\n",
       "      <td>POLYGON ((-67.49251 -44.17973, -66.10309 -40.3...</td>\n",
       "    </tr>\n",
       "    <tr>\n",
       "      <th>55</th>\n",
       "      <td>POLYGON ((-97.9056342663465813 23.589794368093...</td>\n",
       "      <td>411329</td>\n",
       "      <td>POLYGON ((-97.90563 23.58979, -94.74357 27.264...</td>\n",
       "    </tr>\n",
       "    <tr>\n",
       "      <th>6</th>\n",
       "      <td>POLYGON ((-39.8302754647452204 -16.77921462619...</td>\n",
       "      <td>418245</td>\n",
       "      <td>POLYGON ((-39.83028 -16.77921, -37.34849 -12.7...</td>\n",
       "    </tr>\n",
       "    <tr>\n",
       "      <th>5</th>\n",
       "      <td>POLYGON ((-39.6951551575456918 -8.696743780394...</td>\n",
       "      <td>538997</td>\n",
       "      <td>POLYGON ((-39.69516 -8.69674, -37.24314 -4.606...</td>\n",
       "    </tr>\n",
       "    <tr>\n",
       "      <th>54</th>\n",
       "      <td>POLYGON ((-92.7482636781767127 10.965445078249...</td>\n",
       "      <td>541723</td>\n",
       "      <td>POLYGON ((-92.74826 10.96545, -89.86491 14.465...</td>\n",
       "    </tr>\n",
       "    <tr>\n",
       "      <th>45</th>\n",
       "      <td>POLYGON ((-79.0368438091693264 -10.41068377060...</td>\n",
       "      <td>567927</td>\n",
       "      <td>POLYGON ((-79.03684 -10.41068, -81.89888 -14.2...</td>\n",
       "    </tr>\n",
       "    <tr>\n",
       "      <th>10</th>\n",
       "      <td>POLYGON ((-47.2359427274676662 -20.47004190505...</td>\n",
       "      <td>623302</td>\n",
       "      <td>POLYGON ((-47.23594 -20.47004, -44.70061 -16.6...</td>\n",
       "    </tr>\n",
       "    <tr>\n",
       "      <th>12</th>\n",
       "      <td>POLYGON ((-47.6916225419579831 -34.33115860097...</td>\n",
       "      <td>629457</td>\n",
       "      <td>POLYGON ((-47.69162 -34.33116, -45.09602 -31.2...</td>\n",
       "    </tr>\n",
       "    <tr>\n",
       "      <th>51</th>\n",
       "      <td>POLYGON ((-89.8649065476102322 14.465456015426...</td>\n",
       "      <td>728054</td>\n",
       "      <td>POLYGON ((-89.86491 14.46546, -92.74826 10.965...</td>\n",
       "    </tr>\n",
       "    <tr>\n",
       "      <th>3</th>\n",
       "      <td>POLYGON ((-32.5775356729615666 -12.75415506823...</td>\n",
       "      <td>732431</td>\n",
       "      <td>POLYGON ((-32.57754 -12.75416, -30.22513 -8.70...</td>\n",
       "    </tr>\n",
       "    <tr>\n",
       "      <th>41</th>\n",
       "      <td>POLYGON ((-76.7016783072784705 12.819508275225...</td>\n",
       "      <td>762546</td>\n",
       "      <td>POLYGON ((-76.70168 12.81951, -79.31740 9.5536...</td>\n",
       "    </tr>\n",
       "    <tr>\n",
       "      <th>18</th>\n",
       "      <td>POLYGON ((-55.1640042079650925 -36.64293584360...</td>\n",
       "      <td>1201619</td>\n",
       "      <td>POLYGON ((-55.16400 -36.64294, -52.60549 -33.9...</td>\n",
       "    </tr>\n",
       "    <tr>\n",
       "      <th>38</th>\n",
       "      <td>POLYGON ((-73.6447470862836440 -30.42847490174...</td>\n",
       "      <td>1221259</td>\n",
       "      <td>POLYGON ((-73.64475 -30.42847, -76.58061 -33.8...</td>\n",
       "    </tr>\n",
       "    <tr>\n",
       "      <th>42</th>\n",
       "      <td>POLYGON ((-77.4406988355037527 5.5631423675199...</td>\n",
       "      <td>1283647</td>\n",
       "      <td>POLYGON ((-77.44070 5.56314, -80.13486 1.97592...</td>\n",
       "    </tr>\n",
       "    <tr>\n",
       "      <th>7</th>\n",
       "      <td>POLYGON ((-39.9686027998393953 -24.39927692648...</td>\n",
       "      <td>1828350</td>\n",
       "      <td>POLYGON ((-39.96860 -24.39928, -37.45634 -20.6...</td>\n",
       "    </tr>\n",
       "    <tr>\n",
       "      <th>56</th>\n",
       "      <td>POLYGON ((-99.0040860771203626 15.551320300550...</td>\n",
       "      <td>2775396</td>\n",
       "      <td>POLYGON ((-99.00409 15.55132, -96.05021 19.269...</td>\n",
       "    </tr>\n",
       "    <tr>\n",
       "      <th>11</th>\n",
       "      <td>POLYGON ((-47.4611710082754144 -27.76004373820...</td>\n",
       "      <td>3568141</td>\n",
       "      <td>POLYGON ((-47.46117 -27.76004, -44.89602 -24.3...</td>\n",
       "    </tr>\n",
       "  </tbody>\n",
       "</table>\n",
       "</div>"
      ],
      "text/plain": [
       "                                           coarse_wkt    lines  \\\n",
       "27  POLYGON ((-66.0686687401664443 -26.76621154586...   105337   \n",
       "15  POLYGON ((-54.2561321071597078 -16.17186843503...   106294   \n",
       "21  POLYGON ((-60.1658682739931479 3.8426199422059...   112649   \n",
       "22  POLYGON ((-60.5030941550654191 -3.948691453337...   113786   \n",
       "36  POLYGON ((-72.9313306780946959 -22.96503060101...   119558   \n",
       "2   POLYGON ((-113.4604482690629794 24.67163376752...   122193   \n",
       "35  POLYGON ((-72.2573756680189803 -15.06330111473...   146611   \n",
       "16  POLYGON ((-54.5523414277876597 -23.65724185228...   148721   \n",
       "43  POLYGON ((-78.2181639802643360 -2.264143373647...   164206   \n",
       "0   POLYGON ((-105.9464354776156654 20.21267872597...   167423   \n",
       "8   POLYGON ((-46.8004873815631584 -4.422917404204...   195072   \n",
       "49  POLYGON ((-84.7733065682320301 2.5046046873156...   213364   \n",
       "50  POLYGON ((-85.6310685642679772 13.836853809820...   227680   \n",
       "17  POLYGON ((-54.8549024329454653 -30.51202973135...   341147   \n",
       "47  POLYGON ((-83.8436850484584397 10.069625269478...   360271   \n",
       "29  POLYGON ((-67.4925053768322698 -44.17972718268...   376971   \n",
       "55  POLYGON ((-97.9056342663465813 23.589794368093...   411329   \n",
       "6   POLYGON ((-39.8302754647452204 -16.77921462619...   418245   \n",
       "5   POLYGON ((-39.6951551575456918 -8.696743780394...   538997   \n",
       "54  POLYGON ((-92.7482636781767127 10.965445078249...   541723   \n",
       "45  POLYGON ((-79.0368438091693264 -10.41068377060...   567927   \n",
       "10  POLYGON ((-47.2359427274676662 -20.47004190505...   623302   \n",
       "12  POLYGON ((-47.6916225419579831 -34.33115860097...   629457   \n",
       "51  POLYGON ((-89.8649065476102322 14.465456015426...   728054   \n",
       "3   POLYGON ((-32.5775356729615666 -12.75415506823...   732431   \n",
       "41  POLYGON ((-76.7016783072784705 12.819508275225...   762546   \n",
       "18  POLYGON ((-55.1640042079650925 -36.64293584360...  1201619   \n",
       "38  POLYGON ((-73.6447470862836440 -30.42847490174...  1221259   \n",
       "42  POLYGON ((-77.4406988355037527 5.5631423675199...  1283647   \n",
       "7   POLYGON ((-39.9686027998393953 -24.39927692648...  1828350   \n",
       "56  POLYGON ((-99.0040860771203626 15.551320300550...  2775396   \n",
       "11  POLYGON ((-47.4611710082754144 -27.76004373820...  3568141   \n",
       "\n",
       "                                             geometry  \n",
       "27  POLYGON ((-66.06867 -26.76621, -68.71005 -30.4...  \n",
       "15  POLYGON ((-54.25613 -16.17187, -51.77643 -12.3...  \n",
       "21  POLYGON ((-60.16587 3.84262, -57.84643 7.69421...  \n",
       "22  POLYGON ((-60.50309 -3.94869, -58.16364 -0.079...  \n",
       "36  POLYGON ((-72.93133 -22.96503, -75.76857 -26.6...  \n",
       "2   POLYGON ((-113.46045 24.67163, -110.66262 28.7...  \n",
       "35  POLYGON ((-72.25738 -15.06330, -75.00137 -18.9...  \n",
       "16  POLYGON ((-54.55234 -23.65724, -52.04678 -20.1...  \n",
       "43  POLYGON ((-78.21816 -2.26414, -80.99438 -6.061...  \n",
       "0   POLYGON ((-105.94644 20.21268, -103.01163 24.1...  \n",
       "8   POLYGON ((-46.80049 -4.42292, -44.32295 -0.356...  \n",
       "49  POLYGON ((-84.77331 2.50460, -87.59400 -1.1964...  \n",
       "50  POLYGON ((-85.63107 13.83685, -82.72794 17.133...  \n",
       "17  POLYGON ((-54.85490 -30.51203, -52.32307 -27.4...  \n",
       "47  POLYGON ((-83.84369 10.06963, -86.58999 6.6051...  \n",
       "29  POLYGON ((-67.49251 -44.17973, -66.10309 -40.3...  \n",
       "55  POLYGON ((-97.90563 23.58979, -94.74357 27.264...  \n",
       "6   POLYGON ((-39.83028 -16.77921, -37.34849 -12.7...  \n",
       "5   POLYGON ((-39.69516 -8.69674, -37.24314 -4.606...  \n",
       "54  POLYGON ((-92.74826 10.96545, -89.86491 14.465...  \n",
       "45  POLYGON ((-79.03684 -10.41068, -81.89888 -14.2...  \n",
       "10  POLYGON ((-47.23594 -20.47004, -44.70061 -16.6...  \n",
       "12  POLYGON ((-47.69162 -34.33116, -45.09602 -31.2...  \n",
       "51  POLYGON ((-89.86491 14.46546, -92.74826 10.965...  \n",
       "3   POLYGON ((-32.57754 -12.75416, -30.22513 -8.70...  \n",
       "41  POLYGON ((-76.70168 12.81951, -79.31740 9.5536...  \n",
       "18  POLYGON ((-55.16400 -36.64294, -52.60549 -33.9...  \n",
       "38  POLYGON ((-73.64475 -30.42847, -76.58061 -33.8...  \n",
       "42  POLYGON ((-77.44070 5.56314, -80.13486 1.97592...  \n",
       "7   POLYGON ((-39.96860 -24.39928, -37.45634 -20.6...  \n",
       "56  POLYGON ((-99.00409 15.55132, -96.05021 19.269...  \n",
       "11  POLYGON ((-47.46117 -27.76004, -44.89602 -24.3...  "
      ]
     },
     "execution_count": 58,
     "metadata": {},
     "output_type": "execute_result"
    }
   ],
   "source": [
    "tab[tab.lines > 100000]"
   ]
  },
  {
   "cell_type": "code",
   "execution_count": null,
   "metadata": {},
   "outputs": [],
   "source": []
  },
  {
   "cell_type": "code",
   "execution_count": null,
   "metadata": {},
   "outputs": [],
   "source": []
  },
  {
   "cell_type": "markdown",
   "metadata": {},
   "source": [
    "## Creating squares"
   ]
  },
  {
   "cell_type": "code",
   "execution_count": 73,
   "metadata": {},
   "outputs": [],
   "source": [
    "from src.runners import split_polygon"
   ]
  },
  {
   "cell_type": "code",
   "execution_count": 67,
   "metadata": {},
   "outputs": [],
   "source": [
    "from shapely.geometry import box, Polygon, MultiPolygon, GeometryCollection\n",
    "from shapely.wkt import loads"
   ]
  },
  {
   "cell_type": "code",
   "execution_count": 72,
   "metadata": {},
   "outputs": [
    {
     "name": "stderr",
     "output_type": "stream",
     "text": [
      "2021-08-17 17:25:44.593 | INFO     | src.runners.split_polygon:_get_lines:36 - Lines\n",
      "2021-08-17 17:25:44.594 | DEBUG    | src.runners.split_polygon:_get_lines:51 - Reading lines\n",
      "2021-08-17 17:27:55.475 | DEBUG    | src.runners.split_polygon:_get_lines:54 - Lines: 21904128\n"
     ]
    }
   ],
   "source": [
    "df_lines = split_polygon._get_lines()"
   ]
  },
  {
   "cell_type": "code",
   "execution_count": 74,
   "metadata": {},
   "outputs": [],
   "source": [
    "df_coarse = split_polygon._get_coarse_grid()"
   ]
  },
  {
   "cell_type": "code",
   "execution_count": 77,
   "metadata": {},
   "outputs": [],
   "source": [
    "df_dist   = pd.read_csv('/home/soniame/private/projects/corona_geo_id/coarse_grid_distribution.csv')"
   ]
  },
  {
   "cell_type": "code",
   "execution_count": null,
   "metadata": {},
   "outputs": [],
   "source": [
    "print(len(df_lines.line_wkt))\n",
    "print(len(df_coarse.coarse_wkt))\n",
    "print(len(df_dist))"
   ]
  },
  {
   "cell_type": "code",
   "execution_count": null,
   "metadata": {},
   "outputs": [],
   "source": [
    "df_coarse.head()"
   ]
  },
  {
   "cell_type": "code",
   "execution_count": 86,
   "metadata": {},
   "outputs": [
    {
     "data": {
      "text/plain": [
       "56    POLYGON ((-47.4611710082754144 -27.76004373820...\n",
       "Name: coarse_wkt, dtype: object"
      ]
     },
     "execution_count": 86,
     "metadata": {},
     "output_type": "execute_result"
    }
   ],
   "source": [
    "df_coarse. df_dist.coarse_wkt[df_dist.lines == max(df_dist.lines)]"
   ]
  },
  {
   "cell_type": "code",
   "execution_count": null,
   "metadata": {},
   "outputs": [],
   "source": [
    "result = katana(geometry, \n",
    "                threshold_func = threshold_density_func, \n",
    "                threshold_value = 110000, \n",
    "                count = 100)"
   ]
  },
  {
   "cell_type": "code",
   "execution_count": null,
   "metadata": {},
   "outputs": [],
   "source": [
    "len(result)"
   ]
  },
  {
   "cell_type": "code",
   "execution_count": null,
   "metadata": {},
   "outputs": [],
   "source": [
    "multipolygon = MultiPolygon(result)\n",
    "multipolygon"
   ]
  },
  {
   "cell_type": "code",
   "execution_count": null,
   "metadata": {},
   "outputs": [],
   "source": [
    "grid = list()\n",
    "for polygon in MultiPolygon(result):  # same for multipolygon.geoms\n",
    "    grid.append(str(polygon))"
   ]
  },
  {
   "cell_type": "code",
   "execution_count": null,
   "metadata": {},
   "outputs": [],
   "source": [
    "cm = str(datetime.today().strftime(\"%Y%m%d%H%m%s\"))\n",
    "print(cm)"
   ]
  },
  {
   "cell_type": "code",
   "execution_count": null,
   "metadata": {},
   "outputs": [],
   "source": [
    "outdf = gpd.GeoDataFrame(columns=['geometry'])\n",
    "outdf['geometry'] = grid\n",
    "outdf.to_csv(f\"~/private/geo_id_polygon/geo_grid_area_{cm}.csv\")"
   ]
  },
  {
   "cell_type": "code",
   "execution_count": null,
   "metadata": {},
   "outputs": [],
   "source": []
  },
  {
   "cell_type": "markdown",
   "metadata": {},
   "source": [
    "## Lines intersection per square\n",
    "\n"
   ]
  },
  {
   "cell_type": "code",
   "execution_count": null,
   "metadata": {},
   "outputs": [],
   "source": [
    "def intersection_line(line, geometry):\n",
    "    #print(line)\n",
    "    line_wkt = wkt.loads(str(line))\n",
    "    result = geometry.intersection(line_wkt)\n",
    "    \n",
    "    return(result)"
   ]
  },
  {
   "cell_type": "code",
   "execution_count": null,
   "metadata": {},
   "outputs": [],
   "source": [
    "df_lines['geo_id'] = \"\"\n",
    "#df_lines.head()"
   ]
  },
  {
   "cell_type": "code",
   "execution_count": null,
   "metadata": {},
   "outputs": [],
   "source": [
    "for polygon in outdf.geometry:\n",
    "    print(polygon)\n",
    "    \n",
    "    geometry = wkt.loads(polygon)\n",
    "    lines = df_lines[df_lines['geo_id'] == ''].line_wkt\n",
    "    if len(lines) > 0:\n",
    "        # print(len(lines))\n",
    "        intersect = [intersection_func(line, geometry) for line in df_lines.line_wkt]\n",
    "        df_lines.loc[[x > 0 for x in intersect], 'geo_id'] = polygon\n",
    "    "
   ]
  },
  {
   "cell_type": "code",
   "execution_count": null,
   "metadata": {},
   "outputs": [],
   "source": [
    "# Export \n",
    "df_lines.to_csv(f\"~/private/geo_id_polygon/line_wkt_area_geo_id_{cm}.csv\", index = False)"
   ]
  },
  {
   "cell_type": "code",
   "execution_count": null,
   "metadata": {},
   "outputs": [],
   "source": []
  },
  {
   "cell_type": "markdown",
   "metadata": {},
   "source": [
    "### Distribution of lines/jams per square"
   ]
  },
  {
   "cell_type": "code",
   "execution_count": null,
   "metadata": {},
   "outputs": [],
   "source": [
    "from siuba import group_by, ungroup, arrange, summarize, _\n",
    "import geopandas as gpd\n",
    "import folium"
   ]
  },
  {
   "cell_type": "code",
   "execution_count": null,
   "metadata": {},
   "outputs": [],
   "source": [
    "#df_geo_id = pd.read_csv(f\"/home/soniame/private/projects/corona_geo_id/intersection/geo_grid_area_geo_id_2021073017071627679286.csv\")\n",
    "print(df_geo_id.shape)\n",
    "df_geo_id.head()"
   ]
  },
  {
   "cell_type": "code",
   "execution_count": null,
   "metadata": {},
   "outputs": [],
   "source": [
    "tab = (df_geo_id\n",
    "  >> group_by(_.geo_id)\n",
    "  >> summarize(lines = _.line_wkt.count())\n",
    "  >> ungroup()\n",
    "  >> arrange(\"lines\")\n",
    "  )\n",
    "tab['geometry'] = gpd.GeoSeries.from_wkt(tab['geo_id'])\n",
    "tab = gpd.GeoDataFrame(tab, geometry='geometry')\n",
    "\n",
    "tab.head()"
   ]
  },
  {
   "cell_type": "code",
   "execution_count": null,
   "metadata": {},
   "outputs": [],
   "source": [
    "import matplotlib.pyplot as plt\n",
    "fig, ax = plt.subplots(1, 1)\n",
    "tab.plot(column='lines', ax=ax, legend=True, cmap='OrRd')"
   ]
  },
  {
   "cell_type": "code",
   "execution_count": null,
   "metadata": {
    "scrolled": true
   },
   "outputs": [],
   "source": [
    "df = tab\n",
    "m = folium.Map(location=[40.70, -73.94], zoom_start=10, tiles='CartoDB positron')\n",
    "for _, r in df.iterrows():\n",
    "    # Without simplifying the representation of each borough,\n",
    "    # the map might not be displayed\n",
    "    sim_geo = gpd.GeoSeries(r['geometry']).simplify(tolerance=0.001)\n",
    "    geo_j = sim_geo.to_json()\n",
    "    geo_j = folium.GeoJson(data=geo_j,\n",
    "                           style_function=lambda x: {'fillColor': 'orange'})\n",
    "    folium.Popup(r['lines']).add_to(geo_j)\n",
    "    geo_j.add_to(m)\n",
    "m"
   ]
  },
  {
   "cell_type": "code",
   "execution_count": null,
   "metadata": {},
   "outputs": [],
   "source": [
    "#centroid = tiles[0].geometry.centroid\n",
    "#m = folium.Map(location=(centroid.latitude, centroid.longitude))\n"
   ]
  },
  {
   "cell_type": "code",
   "execution_count": null,
   "metadata": {},
   "outputs": [],
   "source": [
    "for tile in tiles:\n",
    "    folium.GeoJson(tile.geometry.geojson).add_to(m)\n",
    "m"
   ]
  },
  {
   "cell_type": "code",
   "execution_count": null,
   "metadata": {},
   "outputs": [],
   "source": []
  }
 ],
 "metadata": {
  "kernelspec": {
   "display_name": "waze_coronavirus",
   "language": "python",
   "name": "waze_coronavirus"
  },
  "language_info": {
   "codemirror_mode": {
    "name": "ipython",
    "version": 3
   },
   "file_extension": ".py",
   "mimetype": "text/x-python",
   "name": "python",
   "nbconvert_exporter": "python",
   "pygments_lexer": "ipython3",
   "version": "3.7.11"
  },
  "toc": {
   "base_numbering": 1,
   "nav_menu": {},
   "number_sections": true,
   "sideBar": true,
   "skip_h1_title": false,
   "title_cell": "Table of Contents",
   "title_sidebar": "Contents",
   "toc_cell": false,
   "toc_position": {
    "height": "calc(100% - 180px)",
    "left": "10px",
    "top": "150px",
    "width": "240.797px"
   },
   "toc_section_display": true,
   "toc_window_display": true
  }
 },
 "nbformat": 4,
 "nbformat_minor": 2
}
