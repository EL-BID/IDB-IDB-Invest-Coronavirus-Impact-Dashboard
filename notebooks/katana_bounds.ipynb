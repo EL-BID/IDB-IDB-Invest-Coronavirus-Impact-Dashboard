{
 "cells": [
  {
   "cell_type": "markdown",
   "metadata": {},
   "source": [
    "# Split lines into grid"
   ]
  },
  {
   "cell_type": "code",
   "execution_count": 106,
   "metadata": {},
   "outputs": [
    {
     "data": {
      "text/plain": [
       "'202108161808'"
      ]
     },
     "execution_count": 106,
     "metadata": {},
     "output_type": "execute_result"
    }
   ],
   "source": [
    "# %load first_cell.py\n",
    "%reload_ext autoreload\n",
    "%autoreload 2\n",
    "from pathlib import Path\n",
    "\n",
    "# system paths\n",
    "import sys\n",
    "home = str(Path.home())\n",
    "sys.path = sys.path + [f'{home}/.conda/envs/norm_env/lib/python37.zip', \n",
    "                       f'{home}/.conda/envs/norm_env/lib/python3.7', \n",
    "                       f'{home}/.conda/envs/norm_env/lib/python3.7/lib-dynload', \n",
    "                       f'{home}/.conda/envs/norm_env/lib/python3.7/site-packages']\n",
    "sys.prefix = '/home/soniame/.conda/envs/norm_env'\n",
    "from paths import RAW_PATH, TREAT_PATH, OUTPUT_PATH, FIGURES_PATH\n",
    "\n",
    "# aws connection*\n",
    "import boto3\n",
    "import awswrangler as wr\n",
    "\n",
    "# local libraries\n",
    "from src import utils\n",
    "\n",
    "# analysis libraries\n",
    "from datetime import datetime, timedelta\n",
    "import pandas as pd\n",
    "import numpy as np\n",
    "import geopandas as gpd\n",
    "import random\n",
    "import itertools\n",
    "\n",
    "import matplotlib.pyplot as plt\n",
    "\n",
    "from shapely.geometry import box, Polygon, MultiPolygon, LineString, GeometryCollection, shape\n",
    "from shapely import wkt\n",
    "from shapely.ops import transform\n",
    "from babelgrid import Babel\n",
    "\n",
    "from multiprocessing.pool import Pool\n",
    "from functools import partial\n",
    "\n",
    "from loguru import logger\n",
    "\n",
    "cm = str(datetime.today().strftime(\"%Y%m%d%H%m\"))\n",
    "cm"
   ]
  },
  {
   "cell_type": "markdown",
   "metadata": {},
   "source": [
    "## Sample dates\n",
    "\n"
   ]
  },
  {
   "cell_type": "code",
   "execution_count": 3,
   "metadata": {},
   "outputs": [],
   "source": [
    "from src.runners.sample_jams import _sample_dates"
   ]
  },
  {
   "cell_type": "code",
   "execution_count": 4,
   "metadata": {},
   "outputs": [
    {
     "name": "stderr",
     "output_type": "stream",
     "text": [
      "2021-08-16 17:11:46.960 | DEBUG    | src.runners.sample_jams:_sample_dates:64 -            date\n",
      "dow            \n",
      "Friday       10\n",
      "Monday       10\n",
      "Thursday     10\n",
      "Tuesday      10\n",
      "Wednesday    10\n",
      "2021-08-16 17:11:46.965 | DEBUG    | src.runners.sample_jams:_sample_dates:65 -       dow\n",
      "year     \n",
      "2019   19\n",
      "2020   19\n",
      "2021   12\n"
     ]
    }
   ],
   "source": [
    "df = _sample_dates(start_date = '2019-01-01', end_date = '2021-08-12')\n"
   ]
  },
  {
   "cell_type": "code",
   "execution_count": null,
   "metadata": {},
   "outputs": [],
   "source": [
    "print(df.date_filter[0])"
   ]
  },
  {
   "cell_type": "code",
   "execution_count": null,
   "metadata": {},
   "outputs": [],
   "source": []
  },
  {
   "cell_type": "markdown",
   "metadata": {},
   "source": [
    "## Download sample\n",
    "\n",
    "Query Athena once to download lines count to calculate jams"
   ]
  },
  {
   "cell_type": "code",
   "execution_count": 89,
   "metadata": {},
   "outputs": [],
   "source": [
    "from src.runners import split_polygon"
   ]
  },
  {
   "cell_type": "code",
   "execution_count": 95,
   "metadata": {},
   "outputs": [
    {
     "name": "stdout",
     "output_type": "stream",
     "text": [
      "(21904128, 3)\n"
     ]
    }
   ],
   "source": [
    "# Download data from Athena\n",
    "update_data = False\n",
    "if update_data:\n",
    "    conn = utils.connect_athena(path='../configs/athena.yaml')\n",
    "    qry = f\"\"\"\n",
    "        select line_wkt, count(line_wkt) as count_lines\n",
    "        from spd_sdv_waze_corona.raw_sample_jams\n",
    "        group by line_wkt\"\"\"\n",
    "    df_lines = pd.read_sql_query(qry, conn)\n",
    "    \n",
    "    # split lines\n",
    "    df_lines = _split_groups(df_lines)\n",
    "    df_lines.to_csv('/home/soniame/private/projects/corona_geo_id/lines/line_wkt_count_202010712.csv', index=False)\n",
    "\n",
    "\n",
    "# Read current table\n",
    "df_lines = pd.read_csv('/home/soniame/private/projects/corona_geo_id/lines/line_wkt_count_202010712.csv')\n",
    "print(df_lines.shape)"
   ]
  },
  {
   "cell_type": "code",
   "execution_count": 97,
   "metadata": {},
   "outputs": [
    {
     "name": "stdout",
     "output_type": "stream",
     "text": [
      "(21904128, 3)\n"
     ]
    },
    {
     "data": {
      "text/html": [
       "<div>\n",
       "<style scoped>\n",
       "    .dataframe tbody tr th:only-of-type {\n",
       "        vertical-align: middle;\n",
       "    }\n",
       "\n",
       "    .dataframe tbody tr th {\n",
       "        vertical-align: top;\n",
       "    }\n",
       "\n",
       "    .dataframe thead th {\n",
       "        text-align: right;\n",
       "    }\n",
       "</style>\n",
       "<table border=\"1\" class=\"dataframe\">\n",
       "  <thead>\n",
       "    <tr style=\"text-align: right;\">\n",
       "      <th></th>\n",
       "      <th>line_wkt</th>\n",
       "      <th>count_lines</th>\n",
       "      <th>split</th>\n",
       "    </tr>\n",
       "  </thead>\n",
       "  <tbody>\n",
       "    <tr>\n",
       "      <th>0</th>\n",
       "      <td>linestring (-35.232974 -5.731801,-35.233194 -5...</td>\n",
       "      <td>26</td>\n",
       "      <td>1</td>\n",
       "    </tr>\n",
       "    <tr>\n",
       "      <th>1</th>\n",
       "      <td>linestring (-103.34963 20.733682,-103.350022 2...</td>\n",
       "      <td>84</td>\n",
       "      <td>1</td>\n",
       "    </tr>\n",
       "    <tr>\n",
       "      <th>2</th>\n",
       "      <td>linestring (-103.270292 20.663531,-103.270276 ...</td>\n",
       "      <td>83</td>\n",
       "      <td>1</td>\n",
       "    </tr>\n",
       "  </tbody>\n",
       "</table>\n",
       "</div>"
      ],
      "text/plain": [
       "                                            line_wkt  count_lines  split\n",
       "0  linestring (-35.232974 -5.731801,-35.233194 -5...           26      1\n",
       "1  linestring (-103.34963 20.733682,-103.350022 2...           84      1\n",
       "2  linestring (-103.270292 20.663531,-103.270276 ...           83      1"
      ]
     },
     "execution_count": 97,
     "metadata": {},
     "output_type": "execute_result"
    }
   ],
   "source": [
    "print(df_lines.shape)\n",
    "df_lines.head(3)\n",
    "3650688"
   ]
  },
  {
   "cell_type": "code",
   "execution_count": 107,
   "metadata": {},
   "outputs": [
    {
     "data": {
      "text/html": [
       "<div>\n",
       "<style scoped>\n",
       "    .dataframe tbody tr th:only-of-type {\n",
       "        vertical-align: middle;\n",
       "    }\n",
       "\n",
       "    .dataframe tbody tr th {\n",
       "        vertical-align: top;\n",
       "    }\n",
       "\n",
       "    .dataframe thead th {\n",
       "        text-align: right;\n",
       "    }\n",
       "</style>\n",
       "<table border=\"1\" class=\"dataframe\">\n",
       "  <thead>\n",
       "    <tr style=\"text-align: right;\">\n",
       "      <th></th>\n",
       "      <th>split</th>\n",
       "      <th>lines</th>\n",
       "    </tr>\n",
       "  </thead>\n",
       "  <tbody>\n",
       "    <tr>\n",
       "      <th>0</th>\n",
       "      <td>1</td>\n",
       "      <td>3650688</td>\n",
       "    </tr>\n",
       "    <tr>\n",
       "      <th>1</th>\n",
       "      <td>2</td>\n",
       "      <td>3650688</td>\n",
       "    </tr>\n",
       "    <tr>\n",
       "      <th>2</th>\n",
       "      <td>3</td>\n",
       "      <td>3650688</td>\n",
       "    </tr>\n",
       "    <tr>\n",
       "      <th>3</th>\n",
       "      <td>4</td>\n",
       "      <td>3650688</td>\n",
       "    </tr>\n",
       "    <tr>\n",
       "      <th>4</th>\n",
       "      <td>5</td>\n",
       "      <td>3650688</td>\n",
       "    </tr>\n",
       "    <tr>\n",
       "      <th>5</th>\n",
       "      <td>6</td>\n",
       "      <td>3650688</td>\n",
       "    </tr>\n",
       "  </tbody>\n",
       "</table>\n",
       "</div>"
      ],
      "text/plain": [
       "   split    lines\n",
       "0      1  3650688\n",
       "1      2  3650688\n",
       "2      3  3650688\n",
       "3      4  3650688\n",
       "4      5  3650688\n",
       "5      6  3650688"
      ]
     },
     "execution_count": 107,
     "metadata": {},
     "output_type": "execute_result"
    }
   ],
   "source": [
    "from siuba import group_by, summarize, _\n",
    "(df_lines\n",
    "  >> group_by(_.split)\n",
    "  >> summarize(lines = _.line_wkt.count())\n",
    "  )"
   ]
  },
  {
   "cell_type": "code",
   "execution_count": null,
   "metadata": {},
   "outputs": [],
   "source": []
  },
  {
   "cell_type": "markdown",
   "metadata": {},
   "source": [
    "## Polygons definitions"
   ]
  },
  {
   "cell_type": "code",
   "execution_count": 9,
   "metadata": {},
   "outputs": [
    {
     "name": "stdout",
     "output_type": "stream",
     "text": [
      "5970.269755\n"
     ]
    },
    {
     "data": {
      "image/svg+xml": [
       "<svg xmlns=\"http://www.w3.org/2000/svg\" xmlns:xlink=\"http://www.w3.org/1999/xlink\" width=\"114.14412000000002\" height=\"106.40711999999999\" viewBox=\"-133.68156000000002 -64.94156 114.14412000000002 106.40711999999999\" preserveAspectRatio=\"xMinYMin meet\"><g transform=\"matrix(1,0,0,-1,0,-23.476)\"><path fill-rule=\"evenodd\" fill=\"#66cc99\" stroke=\"#555555\" stroke-width=\"2.0\" opacity=\"0.6\" d=\"M -129.454,37.238 L -90.781,27.311 L -67.117,20.333 L -68.721,17.506 L -23.765,-9.114 L -65.601,-60.714 L -126.421,-23.479 L -129.454,37.238 z\" /></g></svg>"
      ],
      "text/plain": [
       "<shapely.geometry.polygon.Polygon at 0x7f7e07cd4a90>"
      ]
     },
     "execution_count": 9,
     "metadata": {},
     "output_type": "execute_result"
    }
   ],
   "source": [
    "# - Example \n",
    "# polygon = 'POLYGON((2.0117187499999822 44.38657313925715,-19.433593750000018 19.207272119703983,19.414062499999982 6.904449621538131,64.94140624999999 -3.096801256840523,81.46484374999999 37.21269961002643,45.78124999999998 24.106495997107682,53.69140624999998 51.22054369437158,3.7695312499999822 37.07257833232809,2.0117187499999822 44.38657313925715))'\n",
    "# - Latin America \n",
    "# polygon = 'POLYGON ((-127.265625 34.30714385628804, -128.671875 -56.94497418085159, -28.4765625 -57.70414723434192, -29.8828125 16.97274101999902, -84.72656249999999 25.48295117535531, -116.71874999999999 35.746512259918504, -127.265625 34.30714385628804))'\n",
    "# - Triángulo \n",
    "# polygon = Polygon([(0, 0), (5, 5), (5, 0)])\n",
    "# - Peru\n",
    "# polygon = 'POLYGON ((-77.10205078124999 -13.004557745339769, -72.158203125 -13.004557745339769, -72.158203125 -8.90678000752024, -77.10205078124999 -8.90678000752024, -77.10205078124999 -13.004557745339769))'\n",
    "# - Latin america BID\n",
    "polygon = 'POLYGON((-129.454 37.238,-90.781 27.311,-67.117 20.333,-68.721 17.506,-23.765 -9.114,-65.601 -60.714,-126.421 -23.479,-129.454 37.238))'\n",
    "geometry = wkt.loads(polygon)\n",
    "print(geometry.area)\n",
    "geometry"
   ]
  },
  {
   "cell_type": "code",
   "execution_count": null,
   "metadata": {},
   "outputs": [],
   "source": []
  },
  {
   "cell_type": "markdown",
   "metadata": {},
   "source": [
    "## Coarse grid"
   ]
  },
  {
   "cell_type": "code",
   "execution_count": 6,
   "metadata": {},
   "outputs": [],
   "source": [
    "from src.runners import split_polygon"
   ]
  },
  {
   "cell_type": "code",
   "execution_count": 7,
   "metadata": {
    "scrolled": true
   },
   "outputs": [],
   "source": [
    "# H3 cells grid\n",
    "tiles = Babel('h3').polyfill(geometry, resolution=1)\n",
    "# S2 cells grid\n",
    "#tiles = Babel('s2').polyfill(geometry, resolution=4)\n",
    "len(tiles)\n",
    "\n",
    "if False:\n",
    "    tiles_gdf = gpd.GeoDataFrame([t.to_dict() for t in tiles], geometry='shapely')\n",
    "    df = tiles_gdf\n",
    "    m = folium.Map(location=[40.70, -73.94], zoom_start=2, tiles='CartoDB positron')\n",
    "    for _, r in df.iterrows():\n",
    "        # Without simplifying the representation of each borough,\n",
    "        # the map might not be displayed\n",
    "        sim_geo = gpd.GeoSeries(r['shapely']).simplify(tolerance=0.001)\n",
    "        geo_j = sim_geo.to_json()\n",
    "        geo_j = folium.GeoJson(data=geo_j,\n",
    "                               style_function=lambda x: {'fillColor': 'orange'})\n",
    "        geo_j.add_to(m)\n",
    "    m"
   ]
  },
  {
   "cell_type": "code",
   "execution_count": 13,
   "metadata": {},
   "outputs": [
    {
     "data": {
      "text/plain": [
       "'POLYGON ((-55.1640042079650925 -36.6429358436080577, -52.6054858825439382 -33.9363061513190800, -54.8549024329454653 -30.5120297313577140, -59.4966061400419974 -29.8929853386935527, -61.8827346387927903 -33.4390244823261540, -59.7881757300352632 -36.3948270591191658, -58.3098460295978711 -36.2052826524870781, -55.1640042079650925 -36.6429358436080577))'"
      ]
     },
     "execution_count": 13,
     "metadata": {},
     "output_type": "execute_result"
    }
   ],
   "source": [
    "tiles[0].geometry.wkt"
   ]
  },
  {
   "cell_type": "code",
   "execution_count": 8,
   "metadata": {},
   "outputs": [],
   "source": [
    "prev = pd.read_csv(\"/home/soniame/private/projects/corona_geo_id/coarse_grid/coarse_id.csv\"). \\\n",
    "    rename(columns = {'line':'line_wkt'})\n",
    "\n",
    "#    df_coarse.to_csv(\"/home/soniame/private/projects/corona_geo_id/coarse_grid/coarse_id_new.csv\", index = False)"
   ]
  },
  {
   "cell_type": "code",
   "execution_count": 20,
   "metadata": {},
   "outputs": [
    {
     "name": "stdout",
     "output_type": "stream",
     "text": [
      "(1175153, 2)\n"
     ]
    },
    {
     "data": {
      "text/html": [
       "<div>\n",
       "<style scoped>\n",
       "    .dataframe tbody tr th:only-of-type {\n",
       "        vertical-align: middle;\n",
       "    }\n",
       "\n",
       "    .dataframe tbody tr th {\n",
       "        vertical-align: top;\n",
       "    }\n",
       "\n",
       "    .dataframe thead th {\n",
       "        text-align: right;\n",
       "    }\n",
       "</style>\n",
       "<table border=\"1\" class=\"dataframe\">\n",
       "  <thead>\n",
       "    <tr style=\"text-align: right;\">\n",
       "      <th></th>\n",
       "      <th>line_wkt</th>\n",
       "      <th>coarse_wkt</th>\n",
       "    </tr>\n",
       "  </thead>\n",
       "  <tbody>\n",
       "    <tr>\n",
       "      <th>0</th>\n",
       "      <td>LINESTRING(-75.097855 4.448101, -75.098718 4.4...</td>\n",
       "      <td>POLYGON ((-77.4406988355037527 5.5631423675199...</td>\n",
       "    </tr>\n",
       "    <tr>\n",
       "      <th>1</th>\n",
       "      <td>LINESTRING(-100.921694 22.14878, -100.921864 2...</td>\n",
       "      <td>POLYGON ((-99.0040860771203626 15.551320300550...</td>\n",
       "    </tr>\n",
       "    <tr>\n",
       "      <th>2</th>\n",
       "      <td>LINESTRING(-84.073469 9.962173, -84.073921 9.9...</td>\n",
       "      <td>POLYGON ((-89.8649065476102322 14.465456015426...</td>\n",
       "    </tr>\n",
       "    <tr>\n",
       "      <th>3</th>\n",
       "      <td>LINESTRING(-101.001843 22.19166, -101.002284 2...</td>\n",
       "      <td>POLYGON ((-99.0040860771203626 15.551320300550...</td>\n",
       "    </tr>\n",
       "    <tr>\n",
       "      <th>4</th>\n",
       "      <td>LINESTRING(-75.554978 6.3126, -75.554667 6.313...</td>\n",
       "      <td>POLYGON ((-76.7016783072784705 12.819508275225...</td>\n",
       "    </tr>\n",
       "  </tbody>\n",
       "</table>\n",
       "</div>"
      ],
      "text/plain": [
       "                                            line_wkt  \\\n",
       "0  LINESTRING(-75.097855 4.448101, -75.098718 4.4...   \n",
       "1  LINESTRING(-100.921694 22.14878, -100.921864 2...   \n",
       "2  LINESTRING(-84.073469 9.962173, -84.073921 9.9...   \n",
       "3  LINESTRING(-101.001843 22.19166, -101.002284 2...   \n",
       "4  LINESTRING(-75.554978 6.3126, -75.554667 6.313...   \n",
       "\n",
       "                                          coarse_wkt  \n",
       "0  POLYGON ((-77.4406988355037527 5.5631423675199...  \n",
       "1  POLYGON ((-99.0040860771203626 15.551320300550...  \n",
       "2  POLYGON ((-89.8649065476102322 14.465456015426...  \n",
       "3  POLYGON ((-99.0040860771203626 15.551320300550...  \n",
       "4  POLYGON ((-76.7016783072784705 12.819508275225...  "
      ]
     },
     "execution_count": 20,
     "metadata": {},
     "output_type": "execute_result"
    }
   ],
   "source": [
    "print(prev.shape)\n",
    "prev.head()"
   ]
  },
  {
   "cell_type": "code",
   "execution_count": 23,
   "metadata": {},
   "outputs": [
    {
     "name": "stdout",
     "output_type": "stream",
     "text": [
      "(21904128, 2)\n",
      "(21904128, 3)\n"
     ]
    },
    {
     "data": {
      "text/html": [
       "<div>\n",
       "<style scoped>\n",
       "    .dataframe tbody tr th:only-of-type {\n",
       "        vertical-align: middle;\n",
       "    }\n",
       "\n",
       "    .dataframe tbody tr th {\n",
       "        vertical-align: top;\n",
       "    }\n",
       "\n",
       "    .dataframe thead th {\n",
       "        text-align: right;\n",
       "    }\n",
       "</style>\n",
       "<table border=\"1\" class=\"dataframe\">\n",
       "  <thead>\n",
       "    <tr style=\"text-align: right;\">\n",
       "      <th></th>\n",
       "      <th>line_wkt</th>\n",
       "      <th>count_lines</th>\n",
       "      <th>coarse_wkt</th>\n",
       "    </tr>\n",
       "  </thead>\n",
       "  <tbody>\n",
       "    <tr>\n",
       "      <th>0</th>\n",
       "      <td>linestring (-35.232974 -5.731801,-35.233194 -5...</td>\n",
       "      <td>26</td>\n",
       "      <td>NaN</td>\n",
       "    </tr>\n",
       "    <tr>\n",
       "      <th>1</th>\n",
       "      <td>linestring (-103.34963 20.733682,-103.350022 2...</td>\n",
       "      <td>84</td>\n",
       "      <td>NaN</td>\n",
       "    </tr>\n",
       "    <tr>\n",
       "      <th>2</th>\n",
       "      <td>linestring (-103.270292 20.663531,-103.270276 ...</td>\n",
       "      <td>83</td>\n",
       "      <td>NaN</td>\n",
       "    </tr>\n",
       "    <tr>\n",
       "      <th>3</th>\n",
       "      <td>linestring (-99.14832 19.479112,-99.148334 19....</td>\n",
       "      <td>577</td>\n",
       "      <td>NaN</td>\n",
       "    </tr>\n",
       "    <tr>\n",
       "      <th>4</th>\n",
       "      <td>linestring (-47.221241 -22.858412,-47.221295 -...</td>\n",
       "      <td>71</td>\n",
       "      <td>NaN</td>\n",
       "    </tr>\n",
       "  </tbody>\n",
       "</table>\n",
       "</div>"
      ],
      "text/plain": [
       "                                            line_wkt  count_lines coarse_wkt\n",
       "0  linestring (-35.232974 -5.731801,-35.233194 -5...           26        NaN\n",
       "1  linestring (-103.34963 20.733682,-103.350022 2...           84        NaN\n",
       "2  linestring (-103.270292 20.663531,-103.270276 ...           83        NaN\n",
       "3  linestring (-99.14832 19.479112,-99.148334 19....          577        NaN\n",
       "4  linestring (-47.221241 -22.858412,-47.221295 -...           71        NaN"
      ]
     },
     "execution_count": 23,
     "metadata": {},
     "output_type": "execute_result"
    }
   ],
   "source": [
    "print(df_lines.shape)\n",
    "print(df_merge.shape)\n",
    "df_merge.head()"
   ]
  },
  {
   "cell_type": "code",
   "execution_count": null,
   "metadata": {},
   "outputs": [],
   "source": [
    "lines = df_lines.line_wkt[:100]\n"
   ]
  },
  {
   "cell_type": "code",
   "execution_count": null,
   "metadata": {},
   "outputs": [],
   "source": [
    "prev.line[:5]"
   ]
  },
  {
   "cell_type": "code",
   "execution_count": null,
   "metadata": {},
   "outputs": [],
   "source": [
    "line = prev.line[0]"
   ]
  },
  {
   "cell_type": "code",
   "execution_count": null,
   "metadata": {},
   "outputs": [],
   "source": [
    "sum(line == prev.line)"
   ]
  },
  {
   "cell_type": "code",
   "execution_count": null,
   "metadata": {},
   "outputs": [],
   "source": [
    "# Partial processing\n",
    "with Pool(10) as p:\n",
    "    r = p.map(partial(line_to_coarse, tiles = tiles), df_lines.line_wkt[:5])\n",
    "    \n",
    "df_coarse = pd.DataFrame(r)    "
   ]
  },
  {
   "cell_type": "code",
   "execution_count": null,
   "metadata": {},
   "outputs": [],
   "source": [
    "df_coarse"
   ]
  },
  {
   "cell_type": "markdown",
   "metadata": {},
   "source": [
    "### Coarse grid distribution"
   ]
  },
  {
   "cell_type": "code",
   "execution_count": null,
   "metadata": {},
   "outputs": [],
   "source": [
    "df_coarse = pd.read_csv(\"/home/soniame/private/projects/corona_geo_id/coarse_grid/coarse_id.csv\")"
   ]
  },
  {
   "cell_type": "code",
   "execution_count": null,
   "metadata": {},
   "outputs": [],
   "source": [
    "print(len(df_coarse))\n",
    "print(len(df_coarse.drop_duplicates()))\n",
    "df_coarse.head(1)"
   ]
  },
  {
   "cell_type": "code",
   "execution_count": null,
   "metadata": {},
   "outputs": [],
   "source": [
    "from siuba import group_by, ungroup, arrange, summarize, _"
   ]
  },
  {
   "cell_type": "code",
   "execution_count": null,
   "metadata": {},
   "outputs": [],
   "source": [
    "tab = (df_coarse\n",
    "  >> group_by(_.coarse_wkt)\n",
    "  >> summarize(lines = _.line.count())\n",
    "  >> ungroup()\n",
    "  >> arrange(\"lines\")\n",
    "  )\n",
    "tab.to_csv('/home/soniame/private/projects/corona_geo_id/coarse_grid_distribution.csv', index = False)\n",
    "tab.head()"
   ]
  },
  {
   "cell_type": "code",
   "execution_count": null,
   "metadata": {},
   "outputs": [],
   "source": [
    "tab['geometry'] = gpd.GeoSeries.from_wkt(tab['coarse_wkt'])\n",
    "tab = gpd.GeoDataFrame(tab, geometry='geometry')\n",
    "fig, ax = plt.subplots(1, 1)\n",
    "tab.plot(column='lines', ax=ax, legend=True, cmap='OrRd')"
   ]
  },
  {
   "cell_type": "code",
   "execution_count": null,
   "metadata": {},
   "outputs": [],
   "source": [
    "fig, ax = plt.subplots(1, 1)\n",
    "tab[tab.lines > 40000].plot(column='lines', ax=ax, legend=True, cmap='OrRd')"
   ]
  },
  {
   "cell_type": "code",
   "execution_count": null,
   "metadata": {},
   "outputs": [],
   "source": [
    "tab[tab.lines > 40000]"
   ]
  },
  {
   "cell_type": "code",
   "execution_count": null,
   "metadata": {},
   "outputs": [],
   "source": []
  },
  {
   "cell_type": "markdown",
   "metadata": {},
   "source": [
    "## MultiLineString geometry\n",
    "\n",
    "Testing the creation of MultiLineString"
   ]
  },
  {
   "cell_type": "code",
   "execution_count": null,
   "metadata": {},
   "outputs": [],
   "source": [
    "from shapely.geometry import MultiLineString\n",
    "#line_a = LineString(wkt.loads(line))\n",
    "lines = [LineString(wkt.loads(line)) for line in df_lines.line_wkt]"
   ]
  },
  {
   "cell_type": "code",
   "execution_count": null,
   "metadata": {},
   "outputs": [],
   "source": [
    "len(lines)\n",
    "multi_line = MultiLineString(lines)\n",
    "print(multi_line.length)\n",
    "multi_line"
   ]
  },
  {
   "cell_type": "code",
   "execution_count": null,
   "metadata": {},
   "outputs": [],
   "source": [
    "result = geometry.intersection(multi_line)"
   ]
  },
  {
   "cell_type": "code",
   "execution_count": null,
   "metadata": {},
   "outputs": [],
   "source": [
    "times = [intersection_func(line, geometry) for line in df_lines.line_wkt[:5]]\n",
    "total_lines = df_lines.count_lines\n",
    "intersection = sum([times[x]*total_lines[x] for x in range(len(total))])\n",
    "intersection"
   ]
  },
  {
   "cell_type": "markdown",
   "metadata": {},
   "source": [
    "## Creating squares"
   ]
  },
  {
   "cell_type": "code",
   "execution_count": null,
   "metadata": {},
   "outputs": [],
   "source": [
    "from shapely.geometry import box, Polygon, MultiPolygon, GeometryCollection\n",
    "from shapely.wkt import loads"
   ]
  },
  {
   "cell_type": "code",
   "execution_count": null,
   "metadata": {},
   "outputs": [],
   "source": [
    "\n",
    "\n",
    "def intersection_func(line, geometry):\n",
    "    result = geometry.intersection(wkt.loads(line)).is_empty == False\n",
    "    return(int(result))\n",
    "\n",
    "def threshold_density_func(geometry, threshold_value, lines, jams):\n",
    "    \"\"\"Compares the threshold values with the number of lines\"\"\"\n",
    "    \n",
    "    print('Running')\n",
    "    \n",
    "    # Intersection of lines within square\n",
    "    times = [intersection_func(line, geometry) for line in lines]\n",
    "    jams = jams\n",
    "    \n",
    "    # Total lines in square\n",
    "    intersection = sum([times[x]*jams[x] for x in range(len(total))])\n",
    "    total = sum(total_lines)\n",
    "    \n",
    "    print(f\"Intersection {intersection}\")\n",
    "    print(f\"Total lines {total}\")\n",
    "    print(f\"Proportion {intersection/total}\")\n",
    "    \n",
    "    return (intersection/total) < (threshold_value/total)"
   ]
  },
  {
   "cell_type": "code",
   "execution_count": null,
   "metadata": {},
   "outputs": [],
   "source": [
    "print(len(df_lines.line_wkt))\n",
    "print(len(df_coarse.coarse_wkt))"
   ]
  },
  {
   "cell_type": "code",
   "execution_count": null,
   "metadata": {},
   "outputs": [],
   "source": [
    "df_coarse.coarse_wkt.nunique()"
   ]
  },
  {
   "cell_type": "code",
   "execution_count": null,
   "metadata": {},
   "outputs": [],
   "source": [
    "result = katana(geometry, \n",
    "                threshold_func = threshold_density_func, \n",
    "                threshold_value = 110000, \n",
    "                count = 100)"
   ]
  },
  {
   "cell_type": "code",
   "execution_count": null,
   "metadata": {},
   "outputs": [],
   "source": [
    "len(result)"
   ]
  },
  {
   "cell_type": "code",
   "execution_count": null,
   "metadata": {},
   "outputs": [],
   "source": [
    "multipolygon = MultiPolygon(result)\n",
    "multipolygon"
   ]
  },
  {
   "cell_type": "code",
   "execution_count": null,
   "metadata": {},
   "outputs": [],
   "source": [
    "grid = list()\n",
    "for polygon in MultiPolygon(result):  # same for multipolygon.geoms\n",
    "    grid.append(str(polygon))"
   ]
  },
  {
   "cell_type": "code",
   "execution_count": null,
   "metadata": {},
   "outputs": [],
   "source": [
    "cm = str(datetime.today().strftime(\"%Y%m%d%H%m%s\"))\n",
    "print(cm)"
   ]
  },
  {
   "cell_type": "code",
   "execution_count": null,
   "metadata": {},
   "outputs": [],
   "source": [
    "outdf = gpd.GeoDataFrame(columns=['geometry'])\n",
    "outdf['geometry'] = grid\n",
    "outdf.to_csv(f\"~/private/geo_id_polygon/geo_grid_area_{cm}.csv\")"
   ]
  },
  {
   "cell_type": "code",
   "execution_count": null,
   "metadata": {},
   "outputs": [],
   "source": []
  },
  {
   "cell_type": "markdown",
   "metadata": {},
   "source": [
    "## Lines intersection per square\n",
    "\n"
   ]
  },
  {
   "cell_type": "code",
   "execution_count": null,
   "metadata": {},
   "outputs": [],
   "source": [
    "def intersection_line(line, geometry):\n",
    "    #print(line)\n",
    "    line_wkt = wkt.loads(str(line))\n",
    "    result = geometry.intersection(line_wkt)\n",
    "    \n",
    "    return(result)"
   ]
  },
  {
   "cell_type": "code",
   "execution_count": null,
   "metadata": {},
   "outputs": [],
   "source": [
    "df_lines['geo_id'] = \"\"\n",
    "#df_lines.head()"
   ]
  },
  {
   "cell_type": "code",
   "execution_count": null,
   "metadata": {},
   "outputs": [],
   "source": [
    "for polygon in outdf.geometry:\n",
    "    print(polygon)\n",
    "    \n",
    "    geometry = wkt.loads(polygon)\n",
    "    lines = df_lines[df_lines['geo_id'] == ''].line_wkt\n",
    "    if len(lines) > 0:\n",
    "        # print(len(lines))\n",
    "        intersect = [intersection_func(line, geometry) for line in df_lines.line_wkt]\n",
    "        df_lines.loc[[x > 0 for x in intersect], 'geo_id'] = polygon\n",
    "    "
   ]
  },
  {
   "cell_type": "code",
   "execution_count": null,
   "metadata": {},
   "outputs": [],
   "source": [
    "# Export \n",
    "df_lines.to_csv(f\"~/private/geo_id_polygon/line_wkt_area_geo_id_{cm}.csv\", index = False)"
   ]
  },
  {
   "cell_type": "code",
   "execution_count": null,
   "metadata": {},
   "outputs": [],
   "source": []
  },
  {
   "cell_type": "markdown",
   "metadata": {},
   "source": [
    "### Distribution of lines/jams per square"
   ]
  },
  {
   "cell_type": "code",
   "execution_count": null,
   "metadata": {},
   "outputs": [],
   "source": [
    "from siuba import group_by, ungroup, arrange, summarize, _\n",
    "import geopandas as gpd\n",
    "import folium"
   ]
  },
  {
   "cell_type": "code",
   "execution_count": null,
   "metadata": {},
   "outputs": [],
   "source": [
    "#df_geo_id = pd.read_csv(f\"/home/soniame/private/projects/corona_geo_id/intersection/geo_grid_area_geo_id_2021073017071627679286.csv\")\n",
    "print(df_geo_id.shape)\n",
    "df_geo_id.head()"
   ]
  },
  {
   "cell_type": "code",
   "execution_count": null,
   "metadata": {},
   "outputs": [],
   "source": [
    "tab = (df_geo_id\n",
    "  >> group_by(_.geo_id)\n",
    "  >> summarize(lines = _.line_wkt.count())\n",
    "  >> ungroup()\n",
    "  >> arrange(\"lines\")\n",
    "  )\n",
    "tab['geometry'] = gpd.GeoSeries.from_wkt(tab['geo_id'])\n",
    "tab = gpd.GeoDataFrame(tab, geometry='geometry')\n",
    "\n",
    "tab.head()"
   ]
  },
  {
   "cell_type": "code",
   "execution_count": null,
   "metadata": {},
   "outputs": [],
   "source": [
    "import matplotlib.pyplot as plt\n",
    "fig, ax = plt.subplots(1, 1)\n",
    "tab.plot(column='lines', ax=ax, legend=True, cmap='OrRd')"
   ]
  },
  {
   "cell_type": "code",
   "execution_count": null,
   "metadata": {
    "scrolled": true
   },
   "outputs": [],
   "source": [
    "df = tab\n",
    "m = folium.Map(location=[40.70, -73.94], zoom_start=10, tiles='CartoDB positron')\n",
    "for _, r in df.iterrows():\n",
    "    # Without simplifying the representation of each borough,\n",
    "    # the map might not be displayed\n",
    "    sim_geo = gpd.GeoSeries(r['geometry']).simplify(tolerance=0.001)\n",
    "    geo_j = sim_geo.to_json()\n",
    "    geo_j = folium.GeoJson(data=geo_j,\n",
    "                           style_function=lambda x: {'fillColor': 'orange'})\n",
    "    folium.Popup(r['lines']).add_to(geo_j)\n",
    "    geo_j.add_to(m)\n",
    "m"
   ]
  },
  {
   "cell_type": "code",
   "execution_count": null,
   "metadata": {},
   "outputs": [],
   "source": [
    "#centroid = tiles[0].geometry.centroid\n",
    "#m = folium.Map(location=(centroid.latitude, centroid.longitude))\n"
   ]
  },
  {
   "cell_type": "code",
   "execution_count": null,
   "metadata": {},
   "outputs": [],
   "source": [
    "for tile in tiles:\n",
    "    folium.GeoJson(tile.geometry.geojson).add_to(m)\n",
    "m"
   ]
  },
  {
   "cell_type": "code",
   "execution_count": null,
   "metadata": {},
   "outputs": [],
   "source": []
  }
 ],
 "metadata": {
  "kernelspec": {
   "display_name": "waze_coronavirus",
   "language": "python",
   "name": "waze_coronavirus"
  },
  "language_info": {
   "codemirror_mode": {
    "name": "ipython",
    "version": 3
   },
   "file_extension": ".py",
   "mimetype": "text/x-python",
   "name": "python",
   "nbconvert_exporter": "python",
   "pygments_lexer": "ipython3",
   "version": "3.7.11"
  },
  "toc": {
   "base_numbering": 1,
   "nav_menu": {},
   "number_sections": true,
   "sideBar": true,
   "skip_h1_title": false,
   "title_cell": "Table of Contents",
   "title_sidebar": "Contents",
   "toc_cell": false,
   "toc_position": {},
   "toc_section_display": true,
   "toc_window_display": true
  }
 },
 "nbformat": 4,
 "nbformat_minor": 2
}
