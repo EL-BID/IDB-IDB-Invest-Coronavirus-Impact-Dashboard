{
 "cells": [
  {
   "cell_type": "markdown",
   "metadata": {},
   "source": [
    "# Create lines\n",
    "\n"
   ]
  },
  {
   "cell_type": "code",
   "execution_count": 2,
   "metadata": {},
   "outputs": [
    {
     "data": {
      "text/plain": [
       "'202108051508'"
      ]
     },
     "execution_count": 2,
     "metadata": {},
     "output_type": "execute_result"
    }
   ],
   "source": [
    "# %load first_cell.py\n",
    "%reload_ext autoreload\n",
    "%autoreload 2\n",
    "from pathlib import Path\n",
    "\n",
    "# system paths\n",
    "import sys\n",
    "home = str(Path.home())\n",
    "sys.path = sys.path + [f'{home}/.conda/envs/norm_env/lib/python37.zip', \n",
    "                       f'{home}/.conda/envs/norm_env/lib/python3.7', \n",
    "                       f'{home}/.conda/envs/norm_env/lib/python3.7/lib-dynload', \n",
    "                       f'{home}/.conda/envs/norm_env/lib/python3.7/site-packages']\n",
    "sys.prefix = '/home/soniame/.conda/envs/norm_env'\n",
    "from paths import RAW_PATH, TREAT_PATH, OUTPUT_PATH, FIGURES_PATH\n",
    "\n",
    "# aws connection\n",
    "import boto3\n",
    "import awswrangler as wr\n",
    "\n",
    "# local libraries\n",
    "from src import utils\n",
    "\n",
    "# analysis libraries\n",
    "from datetime import datetime\n",
    "import pandas as pd\n",
    "import geopandas as gpd\n",
    "\n",
    "from shapely.geometry import box, Polygon, MultiPolygon, LineString, GeometryCollection, shape\n",
    "from shapely import wkt\n",
    "from shapely.ops import transform\n",
    "import shapely\n",
    "\n",
    "from loguru import logger\n",
    "\n",
    "cm = str(datetime.today().strftime(\"%Y%m%d%H%m\"))\n",
    "cm"
   ]
  },
  {
   "cell_type": "code",
   "execution_count": null,
   "metadata": {},
   "outputs": [],
   "source": []
  },
  {
   "cell_type": "markdown",
   "metadata": {},
   "source": [
    "## Download sample\n",
    "\n",
    "Query Athena once to download lines count to calculate jams"
   ]
  },
  {
   "cell_type": "code",
   "execution_count": 22,
   "metadata": {},
   "outputs": [
    {
     "name": "stdout",
     "output_type": "stream",
     "text": [
      "(1175153, 3)\n"
     ]
    }
   ],
   "source": [
    "# Download data from Athena\n",
    "update_data = False\n",
    "if update_data:\n",
    "    conn = utils.connect_athena(path='../configs/athena.yaml')\n",
    "    qry = f\"\"\"\n",
    "        select line_wkt, count(line_wkt) as count_lines\n",
    "        from spd_sdv_waze_corona.raw_copy_jams\n",
    "        group by line_wkt\"\"\"\n",
    "    #df_lines = pd.read_sql_query(qry, conn)\n",
    "# df_lines.to_csv('/home/soniame/private/line_wkt_count_202010701.csv', index=False)\n",
    "\n",
    "# Read current table\n",
    "df_lines = pd.read_csv('/home/soniame/private/projects/corona_geo_id/lines/line_wkt_count_202010701.csv')\n",
    "print(df_lines.shape)"
   ]
  },
  {
   "cell_type": "code",
   "execution_count": 24,
   "metadata": {},
   "outputs": [
    {
     "data": {
      "text/html": [
       "<div>\n",
       "<style scoped>\n",
       "    .dataframe tbody tr th:only-of-type {\n",
       "        vertical-align: middle;\n",
       "    }\n",
       "\n",
       "    .dataframe tbody tr th {\n",
       "        vertical-align: top;\n",
       "    }\n",
       "\n",
       "    .dataframe thead th {\n",
       "        text-align: right;\n",
       "    }\n",
       "</style>\n",
       "<table border=\"1\" class=\"dataframe\">\n",
       "  <thead>\n",
       "    <tr style=\"text-align: right;\">\n",
       "      <th></th>\n",
       "      <th>Unnamed: 0</th>\n",
       "      <th>line_wkt</th>\n",
       "      <th>count_lines</th>\n",
       "    </tr>\n",
       "  </thead>\n",
       "  <tbody>\n",
       "    <tr>\n",
       "      <th>0</th>\n",
       "      <td>0</td>\n",
       "      <td>LINESTRING(-75.097855 4.448101, -75.098718 4.4...</td>\n",
       "      <td>72</td>\n",
       "    </tr>\n",
       "    <tr>\n",
       "      <th>1</th>\n",
       "      <td>1</td>\n",
       "      <td>LINESTRING(-100.921694 22.14878, -100.921864 2...</td>\n",
       "      <td>1</td>\n",
       "    </tr>\n",
       "    <tr>\n",
       "      <th>2</th>\n",
       "      <td>2</td>\n",
       "      <td>LINESTRING(-84.073469 9.962173, -84.073921 9.9...</td>\n",
       "      <td>237</td>\n",
       "    </tr>\n",
       "  </tbody>\n",
       "</table>\n",
       "</div>"
      ],
      "text/plain": [
       "   Unnamed: 0                                           line_wkt  count_lines\n",
       "0           0  LINESTRING(-75.097855 4.448101, -75.098718 4.4...           72\n",
       "1           1  LINESTRING(-100.921694 22.14878, -100.921864 2...            1\n",
       "2           2  LINESTRING(-84.073469 9.962173, -84.073921 9.9...          237"
      ]
     },
     "execution_count": 24,
     "metadata": {},
     "output_type": "execute_result"
    }
   ],
   "source": [
    "df_lines.head(3)"
   ]
  },
  {
   "cell_type": "code",
   "execution_count": null,
   "metadata": {},
   "outputs": [],
   "source": []
  },
  {
   "cell_type": "markdown",
   "metadata": {},
   "source": [
    "## Polygons definitions"
   ]
  },
  {
   "cell_type": "code",
   "execution_count": 25,
   "metadata": {},
   "outputs": [
    {
     "name": "stdout",
     "output_type": "stream",
     "text": [
      "5970.269755\n"
     ]
    },
    {
     "data": {
      "image/svg+xml": [
       "<svg xmlns=\"http://www.w3.org/2000/svg\" xmlns:xlink=\"http://www.w3.org/1999/xlink\" width=\"114.14412000000002\" height=\"106.40711999999999\" viewBox=\"-133.68156000000002 -64.94156 114.14412000000002 106.40711999999999\" preserveAspectRatio=\"xMinYMin meet\"><g transform=\"matrix(1,0,0,-1,0,-23.476)\"><path fill-rule=\"evenodd\" fill=\"#66cc99\" stroke=\"#555555\" stroke-width=\"2.0\" opacity=\"0.6\" d=\"M -129.454,37.238 L -90.781,27.311 L -67.117,20.333 L -68.721,17.506 L -23.765,-9.114 L -65.601,-60.714 L -126.421,-23.479 L -129.454,37.238 z\" /></g></svg>"
      ],
      "text/plain": [
       "<shapely.geometry.polygon.Polygon at 0x7fcf3a568fd0>"
      ]
     },
     "execution_count": 25,
     "metadata": {},
     "output_type": "execute_result"
    }
   ],
   "source": [
    "# - Example \n",
    "# polygon = 'POLYGON((2.0117187499999822 44.38657313925715,-19.433593750000018 19.207272119703983,19.414062499999982 6.904449621538131,64.94140624999999 -3.096801256840523,81.46484374999999 37.21269961002643,45.78124999999998 24.106495997107682,53.69140624999998 51.22054369437158,3.7695312499999822 37.07257833232809,2.0117187499999822 44.38657313925715))'\n",
    "# - Latin America \n",
    "# polygon = 'POLYGON ((-127.265625 34.30714385628804, -128.671875 -56.94497418085159, -28.4765625 -57.70414723434192, -29.8828125 16.97274101999902, -84.72656249999999 25.48295117535531, -116.71874999999999 35.746512259918504, -127.265625 34.30714385628804))'\n",
    "# - Triángulo \n",
    "# polygon = Polygon([(0, 0), (5, 5), (5, 0)])\n",
    "# - Peru\n",
    "# polygon = 'POLYGON ((-77.10205078124999 -13.004557745339769, -72.158203125 -13.004557745339769, -72.158203125 -8.90678000752024, -77.10205078124999 -8.90678000752024, -77.10205078124999 -13.004557745339769))'\n",
    "# - Latin america BID\n",
    "polygon = 'POLYGON((-129.454 37.238,-90.781 27.311,-67.117 20.333,-68.721 17.506,-23.765 -9.114,-65.601 -60.714,-126.421 -23.479,-129.454 37.238))'\n",
    "geometry = wkt.loads(polygon)\n",
    "print(geometry.area)\n",
    "geometry"
   ]
  },
  {
   "cell_type": "code",
   "execution_count": null,
   "metadata": {},
   "outputs": [],
   "source": []
  },
  {
   "cell_type": "markdown",
   "metadata": {},
   "source": [
    "## Coarse grid"
   ]
  },
  {
   "cell_type": "code",
   "execution_count": 29,
   "metadata": {},
   "outputs": [
    {
     "data": {
      "text/plain": [
       "109"
      ]
     },
     "execution_count": 29,
     "metadata": {},
     "output_type": "execute_result"
    }
   ],
   "source": [
    "from babelgrid import Babel\n",
    "\n",
    "tiles = Babel('h3').polyfill(geometry, resolution=1)\n",
    "len(tiles)"
   ]
  },
  {
   "cell_type": "code",
   "execution_count": 30,
   "metadata": {},
   "outputs": [
    {
     "data": {
      "text/plain": [
       "<AxesSubplot:>"
      ]
     },
     "execution_count": 30,
     "metadata": {},
     "output_type": "execute_result"
    },
    {
     "data": {
      "image/png": "[encoded data removed]",
      "text/plain": [
       "<Figure size 432x288 with 1 Axes>"
      ]
     },
     "metadata": {
      "needs_background": "light"
     },
     "output_type": "display_data"
    }
   ],
   "source": [
    "tiles_gdf = gpd.GeoDataFrame([t.to_dict() for t in tiles], geometry='shapely')\n",
    "tiles_gdf.plot()"
   ]
  },
  {
   "cell_type": "code",
   "execution_count": 49,
   "metadata": {},
   "outputs": [
    {
     "name": "stdout",
     "output_type": "stream",
     "text": [
      "1175153\n",
      "False\n",
      "False\n",
      "False\n",
      "False\n",
      "False\n",
      "False\n",
      "False\n",
      "False\n",
      "False\n",
      "False\n",
      "False\n",
      "False\n",
      "False\n",
      "False\n",
      "False\n",
      "False\n",
      "False\n",
      "False\n",
      "False\n",
      "False\n",
      "False\n",
      "False\n",
      "False\n",
      "False\n",
      "False\n",
      "False\n",
      "False\n",
      "False\n",
      "False\n",
      "False\n",
      "False\n",
      "False\n",
      "False\n",
      "False\n",
      "False\n",
      "False\n",
      "False\n",
      "False\n",
      "False\n",
      "False\n",
      "False\n",
      "False\n",
      "False\n",
      "False\n",
      "False\n",
      "False\n",
      "False\n",
      "False\n",
      "False\n",
      "False\n",
      "False\n",
      "False\n",
      "False\n",
      "False\n",
      "False\n",
      "False\n",
      "False\n",
      "False\n",
      "False\n",
      "False\n",
      "False\n",
      "False\n",
      "False\n",
      "False\n",
      "False\n",
      "False\n",
      "False\n",
      "False\n",
      "False\n",
      "False\n",
      "False\n",
      "False\n",
      "False\n",
      "False\n",
      "False\n",
      "False\n",
      "False\n",
      "False\n",
      "False\n",
      "False\n",
      "False\n",
      "False\n",
      "False\n",
      "False\n",
      "False\n",
      "False\n",
      "False\n",
      "False\n",
      "False\n",
      "False\n",
      "False\n",
      "False\n",
      "False\n",
      "False\n",
      "False\n",
      "False\n",
      "False\n",
      "False\n",
      "False\n",
      "False\n",
      "False\n",
      "False\n",
      "False\n",
      "False\n",
      "True\n",
      "False\n",
      "False\n",
      "False\n",
      "False\n"
     ]
    }
   ],
   "source": [
    "print(len(df_lines.line_wkt))\n",
    "\n",
    "for line in df_lines.line_wkt[:1]:\n",
    "    for tile in tiles:\n",
    "        geometry = tile.geometry.shapely\n",
    "        print(geometry.intersection(wkt.loads(line)).is_empty == False)"
   ]
  },
  {
   "cell_type": "code",
   "execution_count": 42,
   "metadata": {},
   "outputs": [
    {
     "data": {
      "text/plain": [
       "True"
      ]
     },
     "execution_count": 42,
     "metadata": {},
     "output_type": "execute_result"
    }
   ],
   "source": [
    "\n"
   ]
  },
  {
   "cell_type": "code",
   "execution_count": null,
   "metadata": {},
   "outputs": [],
   "source": []
  },
  {
   "cell_type": "code",
   "execution_count": null,
   "metadata": {},
   "outputs": [],
   "source": []
  },
  {
   "cell_type": "markdown",
   "metadata": {},
   "source": [
    "## MultiLineString geometry\n",
    "\n",
    "Testing the creation of MultiLineString"
   ]
  },
  {
   "cell_type": "code",
   "execution_count": 78,
   "metadata": {},
   "outputs": [],
   "source": [
    "from shapely.geometry import MultiLineString\n",
    "#line_a = LineString(wkt.loads(line))\n",
    "lines = [LineString(wkt.loads(line)) for line in df_lines.line_wkt]"
   ]
  },
  {
   "cell_type": "code",
   "execution_count": 85,
   "metadata": {},
   "outputs": [],
   "source": [
    "len(lines)\n",
    "multi_line = MultiLineString(lines)\n",
    "print(multi_line.length)\n",
    "multi_line"
   ]
  },
  {
   "cell_type": "code",
   "execution_count": null,
   "metadata": {},
   "outputs": [],
   "source": [
    "result = geometry.intersection(multi_line)"
   ]
  },
  {
   "cell_type": "code",
   "execution_count": 34,
   "metadata": {},
   "outputs": [
    {
     "data": {
      "text/plain": [
       "0"
      ]
     },
     "execution_count": 34,
     "metadata": {},
     "output_type": "execute_result"
    }
   ],
   "source": [
    "times = [intersection_func(line, geometry) for line in df_lines.line_wkt[:5]]\n",
    "total_lines = df_lines.count_lines\n",
    "intersection = sum([times[x]*total_lines[x] for x in range(len(total))])\n",
    "intersection"
   ]
  },
  {
   "cell_type": "markdown",
   "metadata": {},
   "source": [
    "## Creating squares"
   ]
  },
  {
   "cell_type": "code",
   "execution_count": null,
   "metadata": {},
   "outputs": [],
   "source": []
  },
  {
   "cell_type": "code",
   "execution_count": 24,
   "metadata": {},
   "outputs": [],
   "source": [
    "from shapely.geometry import box, Polygon, MultiPolygon, GeometryCollection\n",
    "from shapely.wkt import loads\n",
    "\n",
    "def intersection_func(line, geometry):\n",
    "    result = geometry.intersection(wkt.loads(line)).is_empty == False\n",
    "    return(int(result))\n",
    "\n",
    "def threshold_density_func(geometry, threshold_value):\n",
    "    \"\"\"Compares the threshold values with the number of lines\"\"\"\n",
    "    \n",
    "    print('Running')\n",
    "    \n",
    "    # Intersection of lines within square\n",
    "    times = [intersection_func(line, geometry) for line in df_lines.line_wkt]\n",
    "    total_lines = df_lines.count_lines\n",
    "    \n",
    "    # Total lines in square\n",
    "    intersection = sum([times[x]*total_lines[x] for x in range(len(total))])\n",
    "    total = sum(total_lines)\n",
    "    \n",
    "    print(f\"Intersection {intersection}\")\n",
    "    print(f\"Total lines {total}\")\n",
    "    print(f\"Proportion {intersection/total}\")\n",
    "    \n",
    "    return (intersection/total) < (threshold_value/total)"
   ]
  },
  {
   "cell_type": "code",
   "execution_count": 10,
   "metadata": {},
   "outputs": [
    {
     "data": {
      "text/plain": [
       "1175153"
      ]
     },
     "execution_count": 10,
     "metadata": {},
     "output_type": "execute_result"
    }
   ],
   "source": [
    "len(df_lines.line_wkt)"
   ]
  },
  {
   "cell_type": "code",
   "execution_count": 187,
   "metadata": {},
   "outputs": [
    {
     "name": "stdout",
     "output_type": "stream",
     "text": [
      "Running\n",
      "1170476\n",
      "1175153\n",
      "0.9960200927028225\n",
      "Running\n",
      "367714\n",
      "1175153\n",
      "0.31290734057607816\n",
      "Running\n",
      "31399\n",
      "1175153\n",
      "0.02671907402695649\n",
      "Running\n",
      "336321\n",
      "1175153\n",
      "0.2861933722672707\n",
      "Running\n",
      "45197\n",
      "1175153\n",
      "0.03846052386370115\n",
      "Running\n",
      "291175\n",
      "1175153\n",
      "0.24777624700783643\n",
      "Running\n",
      "67368\n",
      "1175153\n",
      "0.05732700337743256\n",
      "Running\n",
      "223813\n",
      "1175153\n",
      "0.1904543493485529\n",
      "Running\n",
      "188729\n",
      "1175153\n",
      "0.1605995134250604\n",
      "Running\n",
      "154887\n",
      "1175153\n",
      "0.13180156115841937\n",
      "Running\n",
      "122968\n",
      "1175153\n",
      "0.10463999155854599\n",
      "Running\n",
      "78\n",
      "1175153\n",
      "6.637433593753324e-05\n",
      "Running\n",
      "122891\n",
      "1175153\n",
      "0.1045744681756333\n",
      "Running\n",
      "18266\n",
      "1175153\n",
      "0.015543507951730541\n",
      "Running\n",
      "104689\n",
      "1175153\n",
      "0.08908542121749254\n",
      "Running\n",
      "31959\n",
      "1175153\n",
      "0.027195607720866984\n",
      "Running\n",
      "33912\n",
      "1175153\n",
      "0.028857518978379838\n",
      "Running\n",
      "35160\n",
      "1175153\n",
      "0.029919508353380368\n",
      "Running\n",
      "802919\n",
      "1175153\n",
      "0.6832463517516443\n",
      "Running\n",
      "495652\n",
      "1175153\n",
      "0.42177656866807983\n",
      "Running\n",
      "177026\n",
      "1175153\n",
      "0.15064081017535588\n",
      "Running\n",
      "7703\n",
      "1175153\n",
      "0.006554891150343828\n",
      "Running\n",
      "169334\n",
      "1175153\n",
      "0.1440952795082853\n",
      "Running\n",
      "87319\n",
      "1175153\n",
      "0.07430436717601878\n",
      "Running\n",
      "82028\n",
      "1175153\n",
      "0.06980197472158944\n",
      "Running\n",
      "318688\n",
      "1175153\n",
      "0.271188517580264\n",
      "Running\n",
      "41\n",
      "1175153\n",
      "3.488907401844696e-05\n",
      "Running\n",
      "318647\n",
      "1175153\n",
      "0.2711536285062456\n",
      "Running\n",
      "300410\n",
      "1175153\n",
      "0.2556347981922354\n",
      "Running\n",
      "52712\n",
      "1175153\n",
      "0.044855435845375026\n",
      "Running\n",
      "247714\n",
      "1175153\n",
      "0.2107929775952578\n",
      "Running\n",
      "43721\n",
      "1175153\n",
      "0.037204517199037064\n",
      "Running\n",
      "204096\n",
      "1175153\n",
      "0.1736761085577793\n",
      "Running\n",
      "158801\n",
      "1175153\n",
      "0.13513219129764378\n",
      "Running\n",
      "117008\n",
      "1175153\n",
      "0.09956831153049858\n",
      "Running\n",
      "2158\n",
      "1175153\n",
      "0.0018363566276050863\n",
      "Running\n",
      "114912\n",
      "1175153\n",
      "0.09778471399043359\n",
      "Running\n",
      "13375\n",
      "1175153\n",
      "0.01138149670723727\n",
      "Running\n",
      "101670\n",
      "1175153\n",
      "0.08651639403550006\n",
      "Running\n",
      "41816\n",
      "1175153\n",
      "0.03558345168671654\n",
      "Running\n",
      "45341\n",
      "1175153\n",
      "0.038583061099278136\n",
      "Running\n",
      "18426\n",
      "1175153\n",
      "0.015679660435704967\n",
      "Running\n",
      "307323\n",
      "1175153\n",
      "0.2615174364529555\n",
      "Running\n",
      "192399\n",
      "1175153\n",
      "0.16372251102622382\n",
      "Running\n",
      "34321\n",
      "1175153\n",
      "0.029205558765539465\n",
      "Running\n",
      "158080\n",
      "1175153\n",
      "0.13451865416673403\n",
      "Running\n",
      "154498\n",
      "1175153\n",
      "0.13147054043175654\n",
      "Running\n",
      "123141\n",
      "1175153\n",
      "0.10478720643184335\n",
      "Running\n",
      "120972\n",
      "1175153\n",
      "0.10294148932096502\n",
      "Running\n",
      "97257\n",
      "1175153\n",
      "0.08276113833688038\n",
      "Running\n",
      "23750\n",
      "1175153\n",
      "0.02021013433995403\n",
      "Running\n",
      "2171\n",
      "1175153\n",
      "0.0018474190169280086\n",
      "Running\n",
      "31357\n",
      "1175153\n",
      "0.026683333999913204\n",
      "Running\n",
      "3582\n",
      "1175153\n",
      "0.003048113734977488\n",
      "Running\n",
      "114942\n",
      "1175153\n",
      "0.09781024258117879\n",
      "Running\n",
      "84096\n",
      "1175153\n",
      "0.07156174557695892\n",
      "Running\n",
      "30868\n",
      "1175153\n",
      "0.02626721797076636\n"
     ]
    }
   ],
   "source": [
    "result = osmpy.core.katana(geometry, \n",
    "                           threshold_func = threshold_density_func, \n",
    "                           threshold_value = 110000, \n",
    "                           count = 100)"
   ]
  },
  {
   "cell_type": "code",
   "execution_count": 191,
   "metadata": {},
   "outputs": [
    {
     "data": {
      "text/plain": [
       "29"
      ]
     },
     "execution_count": 191,
     "metadata": {},
     "output_type": "execute_result"
    }
   ],
   "source": [
    "len(result)"
   ]
  },
  {
   "cell_type": "code",
   "execution_count": 190,
   "metadata": {},
   "outputs": [
    {
     "name": "stderr",
     "output_type": "stream",
     "text": [
      "INFO|%|s\n"
     ]
    },
    {
     "data": {
      "image/svg+xml": [
       "<svg xmlns=\"http://www.w3.org/2000/svg\" xmlns:xlink=\"http://www.w3.org/1999/xlink\" width=\"114.14412000000002\" height=\"106.40711999999999\" viewBox=\"-133.68156000000002 -64.94156 114.14412000000002 106.40711999999999\" preserveAspectRatio=\"xMinYMin meet\"><g transform=\"matrix(1,0,0,-1,0,-23.476)\"><g><path fill-rule=\"evenodd\" fill=\"#ff3333\" stroke=\"#555555\" stroke-width=\"2.0\" opacity=\"0.6\" d=\"M -76.6095,-8.368208011344954 L -76.6095,-53.97441602268991 L -126.421,-23.479 L -127.17583031278869,-8.368208011344954 L -76.6095,-8.368208011344954 z\" /><path fill-rule=\"evenodd\" fill=\"#ff3333\" stroke=\"#555555\" stroke-width=\"2.0\" opacity=\"0.6\" d=\"M -129.454,37.238 L -103.03175,30.455653770072143 L -103.03175,-8.368208011344954 L -127.17583031278869,-8.368208011344954 L -129.454,37.238 z\" /><path fill-rule=\"evenodd\" fill=\"#ff3333\" stroke=\"#555555\" stroke-width=\"2.0\" opacity=\"0.6\" d=\"M -76.6095,11.043722879363592 L -76.6095,-8.368208011344954 L -103.03175,-8.368208011344954 L -103.03175,11.043722879363592 L -76.6095,11.043722879363592 z\" /><path fill-rule=\"evenodd\" fill=\"#ff3333\" stroke=\"#555555\" stroke-width=\"2.0\" opacity=\"0.6\" d=\"M -96.4261875,11.043722879363592 L -103.03175,11.043722879363592 L -103.03175,15.89670560204073 L -96.4261875,15.89670560204073 L -96.4261875,11.043722879363592 z\" /><path fill-rule=\"evenodd\" fill=\"#ff3333\" stroke=\"#555555\" stroke-width=\"2.0\" opacity=\"0.6\" d=\"M -103.03175,15.89670560204073 L -103.03175,20.749688324717866 L -99.72896875,20.749688324717866 L -99.72896875,15.89670560204073 L -103.03175,15.89670560204073 z\" /><path fill-rule=\"evenodd\" fill=\"#ff3333\" stroke=\"#555555\" stroke-width=\"2.0\" opacity=\"0.6\" d=\"M -99.72896875,20.749688324717866 L -96.4261875,20.749688324717866 L -96.4261875,15.89670560204073 L -99.72896875,15.89670560204073 L -99.72896875,20.749688324717866 z\" /><path fill-rule=\"evenodd\" fill=\"#ff3333\" stroke=\"#555555\" stroke-width=\"2.0\" opacity=\"0.6\" d=\"M -89.820625,20.749688324717866 L -89.820625,11.043722879363592 L -96.4261875,11.043722879363592 L -96.4261875,20.749688324717866 L -89.820625,20.749688324717866 z\" /><path fill-rule=\"evenodd\" fill=\"#ff3333\" stroke=\"#555555\" stroke-width=\"2.0\" opacity=\"0.6\" d=\"M -103.03175,30.455653770072143 L -90.781,27.311 L -89.820625,27.027806256338742 L -89.820625,20.749688324717866 L -103.03175,20.749688324717866 L -103.03175,30.455653770072143 z\" /><path fill-rule=\"evenodd\" fill=\"#ff3333\" stroke=\"#555555\" stroke-width=\"2.0\" opacity=\"0.6\" d=\"M -89.820625,27.027806256338742 L -76.6095,23.132132226166327 L -76.6095,11.043722879363592 L -89.820625,11.043722879363592 L -89.820625,27.027806256338742 z\" /><path fill-rule=\"evenodd\" fill=\"#ff3333\" stroke=\"#555555\" stroke-width=\"2.0\" opacity=\"0.6\" d=\"M -54.110158973769884,-46.541340162695434 L -65.601,-60.714 L -76.6095,-53.97441602268991 L -76.6095,-39.752466943458415 L -54.110158973769884,-39.752466943458415 L -54.110158973769884,-46.541340162695434 z\" /><path fill-rule=\"evenodd\" fill=\"#ff3333\" stroke=\"#555555\" stroke-width=\"2.0\" opacity=\"0.6\" d=\"M -76.6095,-39.752466943458415 L -76.6095,-18.790933886916832 L -65.35982948688493,-18.790933886916832 L -65.35982948688493,-39.752466943458415 L -76.6095,-39.752466943458415 z\" /><path fill-rule=\"evenodd\" fill=\"#ff3333\" stroke=\"#555555\" stroke-width=\"2.0\" opacity=\"0.6\" d=\"M -65.35982948688493,-18.790933886916832 L -54.110158973769884,-18.790933886916832 L -54.110158973769884,-39.752466943458415 L -65.35982948688493,-39.752466943458415 L -65.35982948688493,-18.790933886916832 z\" /><path fill-rule=\"evenodd\" fill=\"#ff3333\" stroke=\"#555555\" stroke-width=\"2.0\" opacity=\"0.6\" d=\"M -42.86048846065483,-32.66613702480613 L -54.110158973769884,-46.541340162695434 L -54.110158973769884,-32.66613702480613 L -42.86048846065483,-32.66613702480613 z\" /><path fill-rule=\"evenodd\" fill=\"#ff3333\" stroke=\"#555555\" stroke-width=\"2.0\" opacity=\"0.6\" d=\"M -42.860488460654835,-32.66613702480613 L -54.110158973769884,-32.66613702480613 L -54.110158973769884,-25.728535455861483 L -42.860488460654835,-25.728535455861483 L -42.860488460654835,-32.66613702480613 z\" /><path fill-rule=\"evenodd\" fill=\"#ff3333\" stroke=\"#555555\" stroke-width=\"2.0\" opacity=\"0.6\" d=\"M -54.110158973769884,-25.728535455861483 L -54.110158973769884,-18.790933886916832 L -48.48532371721236,-18.790933886916832 L -48.48532371721236,-25.728535455861483 L -54.110158973769884,-25.728535455861483 z\" /><path fill-rule=\"evenodd\" fill=\"#ff3333\" stroke=\"#555555\" stroke-width=\"2.0\" opacity=\"0.6\" d=\"M -45.6729060889336,-25.728535455861483 L -48.48532371721236,-25.728535455861483 L -48.48532371721236,-23.994135063625322 L -45.6729060889336,-23.994135063625322 L -45.6729060889336,-25.728535455861483 z\" /><path fill-rule=\"evenodd\" fill=\"#ff3333\" stroke=\"#555555\" stroke-width=\"2.0\" opacity=\"0.6\" d=\"M -48.48532371721236,-23.994135063625322 L -48.48532371721236,-22.259734671389158 L -47.07911490307298,-22.259734671389158 L -47.07911490307298,-23.994135063625322 L -48.48532371721236,-23.994135063625322 z\" /><path fill-rule=\"evenodd\" fill=\"#ff3333\" stroke=\"#555555\" stroke-width=\"2.0\" opacity=\"0.6\" d=\"M -47.07911490307298,-22.259734671389158 L -45.6729060889336,-22.259734671389158 L -45.6729060889336,-23.994135063625322 L -47.07911490307298,-23.994135063625322 L -47.07911490307298,-22.259734671389158 z\" /><path fill-rule=\"evenodd\" fill=\"#ff3333\" stroke=\"#555555\" stroke-width=\"2.0\" opacity=\"0.6\" d=\"M -42.860488460654835,-22.259734671389158 L -42.860488460654835,-25.728535455861483 L -45.6729060889336,-25.728535455861483 L -45.6729060889336,-22.259734671389158 L -42.860488460654835,-22.259734671389158 z\" /><path fill-rule=\"evenodd\" fill=\"#ff3333\" stroke=\"#555555\" stroke-width=\"2.0\" opacity=\"0.6\" d=\"M -48.48532371721236,-18.790933886916832 L -42.860488460654835,-18.790933886916832 L -42.860488460654835,-22.259734671389158 L -48.48532371721236,-22.259734671389158 L -48.48532371721236,-18.790933886916832 z\" /><path fill-rule=\"evenodd\" fill=\"#ff3333\" stroke=\"#555555\" stroke-width=\"2.0\" opacity=\"0.6\" d=\"M -31.61081794753978,-18.790933886916832 L -42.86048846065483,-32.66613702480613 L -42.860488460654835,-32.66613702480613 L -42.860488460654835,-18.790933886916832 L -31.61081794753978,-18.790933886916832 z\" /><path fill-rule=\"evenodd\" fill=\"#ff3333\" stroke=\"#555555\" stroke-width=\"2.0\" opacity=\"0.6\" d=\"M -50.18725,2.1705991696247473 L -50.18725,-18.790933886916832 L -76.6095,-18.790933886916832 L -76.6095,2.1705991696247473 L -50.18725,2.1705991696247473 z\" /><path fill-rule=\"evenodd\" fill=\"#ff3333\" stroke=\"#555555\" stroke-width=\"2.0\" opacity=\"0.6\" d=\"M -70.0039375,2.1705991696247473 L -76.6095,2.1705991696247473 L -76.6095,7.410982433760142 L -70.0039375,7.410982433760142 L -70.0039375,2.1705991696247473 z\" /><path fill-rule=\"evenodd\" fill=\"#ff3333\" stroke=\"#555555\" stroke-width=\"2.0\" opacity=\"0.6\" d=\"M -76.6095,7.410982433760142 L -76.6095,12.651365697895537 L -70.0039375,12.651365697895537 L -70.0039375,7.410982433760142 L -76.6095,7.410982433760142 z\" /><path fill-rule=\"evenodd\" fill=\"#ff3333\" stroke=\"#555555\" stroke-width=\"2.0\" opacity=\"0.6\" d=\"M -63.398375,12.651365697895537 L -63.398375,2.1705991696247473 L -70.0039375,2.1705991696247473 L -70.0039375,12.651365697895537 L -63.398375,12.651365697895537 z\" /><path fill-rule=\"evenodd\" fill=\"#ff3333\" stroke=\"#555555\" stroke-width=\"2.0\" opacity=\"0.6\" d=\"M -76.6095,23.132132226166327 L -67.117,20.333 L -68.721,17.506 L -63.398375,14.354289939051515 L -63.398375,12.651365697895537 L -76.6095,12.651365697895537 L -76.6095,23.132132226166327 z\" /><path fill-rule=\"evenodd\" fill=\"#ff3333\" stroke=\"#555555\" stroke-width=\"2.0\" opacity=\"0.6\" d=\"M -63.398375,14.354289939051515 L -50.18725,6.531526626034342 L -50.18725,2.1705991696247473 L -63.398375,2.1705991696247473 L -63.398375,14.354289939051515 z\" /><path fill-rule=\"evenodd\" fill=\"#ff3333\" stroke=\"#555555\" stroke-width=\"2.0\" opacity=\"0.6\" d=\"M -50.18725,6.531526626034342 L -36.976124999999996,-1.2912366869828316 L -36.976124999999996,-18.790933886916832 L -50.18725,-18.790933886916832 L -50.18725,6.531526626034342 z\" /><path fill-rule=\"evenodd\" fill=\"#ff3333\" stroke=\"#555555\" stroke-width=\"2.0\" opacity=\"0.6\" d=\"M -36.976124999999996,-1.2912366869828316 L -23.765,-9.114 L -31.61081794753978,-18.790933886916832 L -36.976124999999996,-18.790933886916832 L -36.976124999999996,-1.2912366869828316 z\" /></g></g></svg>"
      ],
      "text/plain": [
       "<shapely.geometry.multipolygon.MultiPolygon at 0x7f40d78df6d0>"
      ]
     },
     "execution_count": 190,
     "metadata": {},
     "output_type": "execute_result"
    }
   ],
   "source": [
    "multipolygon = MultiPolygon(result)\n",
    "multipolygon"
   ]
  },
  {
   "cell_type": "code",
   "execution_count": 197,
   "metadata": {},
   "outputs": [],
   "source": [
    "grid = list()\n",
    "for polygon in MultiPolygon(result):  # same for multipolygon.geoms\n",
    "    grid.append(str(polygon))"
   ]
  },
  {
   "cell_type": "code",
   "execution_count": 198,
   "metadata": {},
   "outputs": [
    {
     "name": "stdout",
     "output_type": "stream",
     "text": [
      "2021073017071627679286\n"
     ]
    }
   ],
   "source": [
    "cm = str(datetime.today().strftime(\"%Y%m%d%H%m%s\"))\n",
    "print(cm)"
   ]
  },
  {
   "cell_type": "code",
   "execution_count": 199,
   "metadata": {},
   "outputs": [
    {
     "name": "stderr",
     "output_type": "stream",
     "text": [
      "/home/soniame/.conda/envs/waze_coronavirus/lib/python3.7/site-packages/geopandas/geodataframe.py:1321: UserWarning: Geometry column does not contain geometry.\n",
      "  warnings.warn(\"Geometry column does not contain geometry.\")\n"
     ]
    }
   ],
   "source": [
    "outdf = gpd.GeoDataFrame(columns=['geometry'])\n",
    "outdf['geometry'] = grid\n",
    "outdf.to_csv(f\"~/private/geo_id_polygon/geo_grid_area_{cm}.csv\")"
   ]
  },
  {
   "cell_type": "code",
   "execution_count": null,
   "metadata": {},
   "outputs": [],
   "source": []
  },
  {
   "cell_type": "markdown",
   "metadata": {},
   "source": [
    "## Lines intersection per square\n",
    "\n"
   ]
  },
  {
   "cell_type": "code",
   "execution_count": 217,
   "metadata": {},
   "outputs": [],
   "source": [
    "def intersection_line(line, geometry):\n",
    "    #print(line)\n",
    "    line_wkt = wkt.loads(str(line))\n",
    "    result = geometry.intersection(line_wkt)\n",
    "    \n",
    "    return(result)"
   ]
  },
  {
   "cell_type": "code",
   "execution_count": 280,
   "metadata": {},
   "outputs": [
    {
     "data": {
      "text/html": [
       "<div>\n",
       "<style scoped>\n",
       "    .dataframe tbody tr th:only-of-type {\n",
       "        vertical-align: middle;\n",
       "    }\n",
       "\n",
       "    .dataframe tbody tr th {\n",
       "        vertical-align: top;\n",
       "    }\n",
       "\n",
       "    .dataframe thead th {\n",
       "        text-align: right;\n",
       "    }\n",
       "</style>\n",
       "<table border=\"1\" class=\"dataframe\">\n",
       "  <thead>\n",
       "    <tr style=\"text-align: right;\">\n",
       "      <th></th>\n",
       "      <th>line_wkt</th>\n",
       "      <th>count_lines</th>\n",
       "      <th>geo_id</th>\n",
       "    </tr>\n",
       "  </thead>\n",
       "  <tbody>\n",
       "    <tr>\n",
       "      <th>0</th>\n",
       "      <td>LINESTRING(-75.097855 4.448101, -75.098718 4.4...</td>\n",
       "      <td>72</td>\n",
       "      <td></td>\n",
       "    </tr>\n",
       "    <tr>\n",
       "      <th>1</th>\n",
       "      <td>LINESTRING(-100.921694 22.14878, -100.921864 2...</td>\n",
       "      <td>1</td>\n",
       "      <td></td>\n",
       "    </tr>\n",
       "    <tr>\n",
       "      <th>2</th>\n",
       "      <td>LINESTRING(-84.073469 9.962173, -84.073921 9.9...</td>\n",
       "      <td>237</td>\n",
       "      <td></td>\n",
       "    </tr>\n",
       "    <tr>\n",
       "      <th>3</th>\n",
       "      <td>LINESTRING(-101.001843 22.19166, -101.002284 2...</td>\n",
       "      <td>720</td>\n",
       "      <td></td>\n",
       "    </tr>\n",
       "    <tr>\n",
       "      <th>4</th>\n",
       "      <td>LINESTRING(-75.554978 6.3126, -75.554667 6.313...</td>\n",
       "      <td>720</td>\n",
       "      <td></td>\n",
       "    </tr>\n",
       "  </tbody>\n",
       "</table>\n",
       "</div>"
      ],
      "text/plain": [
       "                                            line_wkt  count_lines geo_id\n",
       "0  LINESTRING(-75.097855 4.448101, -75.098718 4.4...           72       \n",
       "1  LINESTRING(-100.921694 22.14878, -100.921864 2...            1       \n",
       "2  LINESTRING(-84.073469 9.962173, -84.073921 9.9...          237       \n",
       "3  LINESTRING(-101.001843 22.19166, -101.002284 2...          720       \n",
       "4  LINESTRING(-75.554978 6.3126, -75.554667 6.313...          720       "
      ]
     },
     "execution_count": 280,
     "metadata": {},
     "output_type": "execute_result"
    }
   ],
   "source": [
    "df_lines['geo_id'] = \"\"\n",
    "#df_lines.head()"
   ]
  },
  {
   "cell_type": "code",
   "execution_count": 291,
   "metadata": {},
   "outputs": [
    {
     "name": "stdout",
     "output_type": "stream",
     "text": [
      "POLYGON ((-76.6095 -8.368208011344954, -76.6095 -53.97441602268991, -126.421 -23.479, -127.1758303127887 -8.368208011344954, -76.6095 -8.368208011344954))\n",
      "1098557\n",
      "POLYGON ((-129.454 37.238, -103.03175 30.45565377007214, -103.03175 -8.368208011344954, -127.1758303127887 -8.368208011344954, -129.454 37.238))\n",
      "1098557\n",
      "POLYGON ((-76.6095 11.04372287936359, -76.6095 -8.368208011344954, -103.03175 -8.368208011344954, -103.03175 11.04372287936359, -76.6095 11.04372287936359))\n",
      "1098557\n",
      "POLYGON ((-96.4261875 11.04372287936359, -103.03175 11.04372287936359, -103.03175 15.89670560204073, -96.4261875 15.89670560204073, -96.4261875 11.04372287936359))\n",
      "1031195\n",
      "POLYGON ((-103.03175 15.89670560204073, -103.03175 20.74968832471787, -99.72896875000001 20.74968832471787, -99.72896875000001 15.89670560204073, -103.03175 15.89670560204073))\n",
      "1031117\n",
      "POLYGON ((-99.72896875000001 20.74968832471787, -96.4261875 20.74968832471787, -96.4261875 15.89670560204073, -99.72896875000001 15.89670560204073, -99.72896875000001 20.74968832471787))\n",
      "1012897\n",
      "POLYGON ((-89.82062500000001 20.74968832471787, -89.82062500000001 11.04372287936359, -96.4261875 11.04372287936359, -96.4261875 20.74968832471787, -89.82062500000001 20.74968832471787))\n",
      "908273\n",
      "POLYGON ((-103.03175 30.45565377007214, -90.78100000000001 27.311, -89.82062500000001 27.02780625633874, -89.82062500000001 20.74968832471787, -103.03175 20.74968832471787, -103.03175 30.45565377007214))\n",
      "876354\n",
      "POLYGON ((-89.82062500000001 27.02780625633874, -76.6095 23.13213222616633, -76.6095 11.04372287936359, -89.82062500000001 11.04372287936359, -89.82062500000001 27.02780625633874))\n",
      "842517\n",
      "POLYGON ((-54.11015897376988 -46.54134016269543, -65.601 -60.714, -76.6095 -53.97441602268991, -76.6095 -39.75246694345842, -54.11015897376988 -39.75246694345842, -54.11015897376988 -46.54134016269543))\n",
      "807439\n",
      "POLYGON ((-76.6095 -39.75246694345842, -76.6095 -18.79093388691683, -65.35982948688493 -18.79093388691683, -65.35982948688493 -39.75246694345842, -76.6095 -39.75246694345842))\n",
      "799736\n",
      "POLYGON ((-65.35982948688493 -18.79093388691683, -54.11015897376988 -18.79093388691683, -54.11015897376988 -39.75246694345842, -65.35982948688493 -39.75246694345842, -65.35982948688493 -18.79093388691683))\n",
      "712428\n",
      "POLYGON ((-42.86048846065483 -32.66613702480613, -54.11015897376988 -46.54134016269543, -54.11015897376988 -32.66613702480613, -42.86048846065483 -32.66613702480613))\n",
      "630413\n",
      "POLYGON ((-42.86048846065484 -32.66613702480613, -54.11015897376988 -32.66613702480613, -54.11015897376988 -25.72853545586148, -42.86048846065484 -25.72853545586148, -42.86048846065484 -32.66613702480613))\n",
      "630372\n",
      "POLYGON ((-54.11015897376988 -25.72853545586148, -54.11015897376988 -18.79093388691683, -48.48532371721236 -18.79093388691683, -48.48532371721236 -25.72853545586148, -54.11015897376988 -25.72853545586148))\n",
      "577685\n",
      "POLYGON ((-45.6729060889336 -25.72853545586148, -48.48532371721236 -25.72853545586148, -48.48532371721236 -23.99413506362532, -45.6729060889336 -23.99413506362532, -45.6729060889336 -25.72853545586148))\n",
      "534017\n",
      "POLYGON ((-48.48532371721236 -23.99413506362532, -48.48532371721236 -22.25973467138916, -47.07911490307298 -22.25973467138916, -47.07911490307298 -23.99413506362532, -48.48532371721236 -23.99413506362532))\n",
      "531868\n",
      "POLYGON ((-47.07911490307298 -22.25973467138916, -45.6729060889336 -22.25973467138916, -45.6729060889336 -23.99413506362532, -47.07911490307298 -23.99413506362532, -47.07911490307298 -22.25973467138916))\n",
      "518534\n",
      "POLYGON ((-42.86048846065484 -22.25973467138916, -42.86048846065484 -25.72853545586148, -45.6729060889336 -25.72853545586148, -45.6729060889336 -22.25973467138916, -42.86048846065484 -22.25973467138916))\n",
      "417055\n",
      "POLYGON ((-48.48532371721236 -18.79093388691683, -42.86048846065484 -18.79093388691683, -42.86048846065484 -22.25973467138916, -48.48532371721236 -22.25973467138916, -48.48532371721236 -18.79093388691683))\n",
      "375262\n",
      "POLYGON ((-31.61081794753978 -18.79093388691683, -42.86048846065483 -32.66613702480613, -42.86048846065484 -32.66613702480613, -42.86048846065484 -18.79093388691683, -31.61081794753978 -18.79093388691683))\n",
      "330024\n",
      "POLYGON ((-50.18725 2.170599169624747, -50.18725 -18.79093388691683, -76.6095 -18.79093388691683, -76.6095 2.170599169624747, -50.18725 2.170599169624747))\n",
      "311787\n",
      "POLYGON ((-70.00393750000001 2.170599169624747, -76.6095 2.170599169624747, -76.6095 7.410982433760142, -70.00393750000001 7.410982433760142, -70.00393750000001 2.170599169624747))\n",
      "277525\n",
      "POLYGON ((-76.6095 7.410982433760142, -76.6095 12.65136569789554, -70.00393750000001 12.65136569789554, -70.00393750000001 7.410982433760142, -76.6095 7.410982433760142))\n",
      "180371\n",
      "POLYGON ((-63.398375 12.65136569789554, -63.398375 2.170599169624747, -70.00393750000001 2.170599169624747, -70.00393750000001 12.65136569789554, -63.398375 12.65136569789554))\n",
      "156666\n",
      "POLYGON ((-76.6095 23.13213222616633, -67.117 20.333, -68.721 17.506, -63.398375 14.35428993905152, -63.398375 12.65136569789554, -76.6095 12.65136569789554, -76.6095 23.13213222616633))\n",
      "154497\n",
      "POLYGON ((-63.398375 14.35428993905152, -50.18725 6.531526626034342, -50.18725 2.170599169624747, -63.398375 2.170599169624747, -63.398375 14.35428993905152))\n",
      "123140\n",
      "POLYGON ((-50.18725 6.531526626034342, -36.976125 -1.291236686982832, -36.976125 -18.79093388691683, -50.18725 -18.79093388691683, -50.18725 6.531526626034342))\n",
      "119558\n",
      "POLYGON ((-36.976125 -1.291236686982832, -23.765 -9.114000000000001, -31.61081794753978 -18.79093388691683, -36.976125 -18.79093388691683, -36.976125 -1.291236686982832))\n",
      "35523\n"
     ]
    }
   ],
   "source": [
    "for polygon in outdf.geometry:\n",
    "    print(polygon)\n",
    "    \n",
    "    geometry = wkt.loads(polygon)\n",
    "    lines = df_lines[df_lines['geo_id'] == ''].line_wkt\n",
    "    if len(lines) > 0:\n",
    "        # print(len(lines))\n",
    "        intersect = [intersection_func(line, geometry) for line in df_lines.line_wkt]\n",
    "        df_lines.loc[[x > 0 for x in intersect], 'geo_id'] = polygon\n",
    "    "
   ]
  },
  {
   "cell_type": "code",
   "execution_count": 4,
   "metadata": {},
   "outputs": [],
   "source": [
    "# Export \n",
    "df_lines.to_csv(f\"~/private/geo_id_polygon/line_wkt_area_geo_id_{cm}.csv\", index = False)"
   ]
  },
  {
   "cell_type": "code",
   "execution_count": null,
   "metadata": {},
   "outputs": [],
   "source": []
  },
  {
   "cell_type": "markdown",
   "metadata": {},
   "source": [
    "## Distribution of lines/jams per square"
   ]
  },
  {
   "cell_type": "code",
   "execution_count": 23,
   "metadata": {},
   "outputs": [],
   "source": [
    "from siuba import group_by, ungroup, arrange, summarize, _\n",
    "import geopandas as gpd\n",
    "import folium"
   ]
  },
  {
   "cell_type": "code",
   "execution_count": 8,
   "metadata": {},
   "outputs": [
    {
     "name": "stdout",
     "output_type": "stream",
     "text": [
      "(1175153, 4)\n"
     ]
    },
    {
     "data": {
      "text/html": [
       "<div>\n",
       "<style scoped>\n",
       "    .dataframe tbody tr th:only-of-type {\n",
       "        vertical-align: middle;\n",
       "    }\n",
       "\n",
       "    .dataframe tbody tr th {\n",
       "        vertical-align: top;\n",
       "    }\n",
       "\n",
       "    .dataframe thead th {\n",
       "        text-align: right;\n",
       "    }\n",
       "</style>\n",
       "<table border=\"1\" class=\"dataframe\">\n",
       "  <thead>\n",
       "    <tr style=\"text-align: right;\">\n",
       "      <th></th>\n",
       "      <th>Unnamed: 0</th>\n",
       "      <th>line_wkt</th>\n",
       "      <th>count_lines</th>\n",
       "      <th>geo_id</th>\n",
       "    </tr>\n",
       "  </thead>\n",
       "  <tbody>\n",
       "    <tr>\n",
       "      <th>0</th>\n",
       "      <td>0</td>\n",
       "      <td>LINESTRING(-75.097855 4.448101, -75.098718 4.4...</td>\n",
       "      <td>72</td>\n",
       "      <td>POLYGON ((-70.00393750000001 2.170599169624747...</td>\n",
       "    </tr>\n",
       "    <tr>\n",
       "      <th>1</th>\n",
       "      <td>1</td>\n",
       "      <td>LINESTRING(-100.921694 22.14878, -100.921864 2...</td>\n",
       "      <td>1</td>\n",
       "      <td>POLYGON ((-103.03175 30.45565377007214, -90.78...</td>\n",
       "    </tr>\n",
       "    <tr>\n",
       "      <th>2</th>\n",
       "      <td>2</td>\n",
       "      <td>LINESTRING(-84.073469 9.962173, -84.073921 9.9...</td>\n",
       "      <td>237</td>\n",
       "      <td>POLYGON ((-76.6095 11.04372287936359, -76.6095...</td>\n",
       "    </tr>\n",
       "    <tr>\n",
       "      <th>3</th>\n",
       "      <td>3</td>\n",
       "      <td>LINESTRING(-101.001843 22.19166, -101.002284 2...</td>\n",
       "      <td>720</td>\n",
       "      <td>POLYGON ((-103.03175 30.45565377007214, -90.78...</td>\n",
       "    </tr>\n",
       "    <tr>\n",
       "      <th>4</th>\n",
       "      <td>4</td>\n",
       "      <td>LINESTRING(-75.554978 6.3126, -75.554667 6.313...</td>\n",
       "      <td>720</td>\n",
       "      <td>POLYGON ((-70.00393750000001 2.170599169624747...</td>\n",
       "    </tr>\n",
       "  </tbody>\n",
       "</table>\n",
       "</div>"
      ],
      "text/plain": [
       "   Unnamed: 0                                           line_wkt  count_lines  \\\n",
       "0           0  LINESTRING(-75.097855 4.448101, -75.098718 4.4...           72   \n",
       "1           1  LINESTRING(-100.921694 22.14878, -100.921864 2...            1   \n",
       "2           2  LINESTRING(-84.073469 9.962173, -84.073921 9.9...          237   \n",
       "3           3  LINESTRING(-101.001843 22.19166, -101.002284 2...          720   \n",
       "4           4  LINESTRING(-75.554978 6.3126, -75.554667 6.313...          720   \n",
       "\n",
       "                                              geo_id  \n",
       "0  POLYGON ((-70.00393750000001 2.170599169624747...  \n",
       "1  POLYGON ((-103.03175 30.45565377007214, -90.78...  \n",
       "2  POLYGON ((-76.6095 11.04372287936359, -76.6095...  \n",
       "3  POLYGON ((-103.03175 30.45565377007214, -90.78...  \n",
       "4  POLYGON ((-70.00393750000001 2.170599169624747...  "
      ]
     },
     "execution_count": 8,
     "metadata": {},
     "output_type": "execute_result"
    }
   ],
   "source": [
    "#df_geo_id = pd.read_csv(f\"/home/soniame/private/projects/corona_geo_id/intersection/geo_grid_area_geo_id_2021073017071627679286.csv\")\n",
    "print(df_geo_id.shape)\n",
    "df_geo_id.head()"
   ]
  },
  {
   "cell_type": "code",
   "execution_count": 38,
   "metadata": {},
   "outputs": [
    {
     "data": {
      "text/html": [
       "<div>\n",
       "<style scoped>\n",
       "    .dataframe tbody tr th:only-of-type {\n",
       "        vertical-align: middle;\n",
       "    }\n",
       "\n",
       "    .dataframe tbody tr th {\n",
       "        vertical-align: top;\n",
       "    }\n",
       "\n",
       "    .dataframe thead th {\n",
       "        text-align: right;\n",
       "    }\n",
       "</style>\n",
       "<table border=\"1\" class=\"dataframe\">\n",
       "  <thead>\n",
       "    <tr style=\"text-align: right;\">\n",
       "      <th></th>\n",
       "      <th>geo_id</th>\n",
       "      <th>lines</th>\n",
       "      <th>geometry</th>\n",
       "    </tr>\n",
       "  </thead>\n",
       "  <tbody>\n",
       "    <tr>\n",
       "      <th>5</th>\n",
       "      <td>POLYGON ((-42.86048846065483 -32.6661370248061...</td>\n",
       "      <td>41</td>\n",
       "      <td>POLYGON ((-42.86049 -32.66614, -54.11016 -46.5...</td>\n",
       "    </tr>\n",
       "    <tr>\n",
       "      <th>27</th>\n",
       "      <td>POLYGON ((-96.4261875 11.04372287936359, -103....</td>\n",
       "      <td>77</td>\n",
       "      <td>POLYGON ((-96.42619 11.04372, -103.03175 11.04...</td>\n",
       "    </tr>\n",
       "    <tr>\n",
       "      <th>8</th>\n",
       "      <td>POLYGON ((-45.6729060889336 -25.72853545586148...</td>\n",
       "      <td>2096</td>\n",
       "      <td>POLYGON ((-45.67291 -25.72854, -48.48532 -25.7...</td>\n",
       "    </tr>\n",
       "    <tr>\n",
       "      <th>16</th>\n",
       "      <td>POLYGON ((-63.398375 12.65136569789554, -63.39...</td>\n",
       "      <td>2171</td>\n",
       "      <td>POLYGON ((-63.39838 12.65137, -63.39838 2.1706...</td>\n",
       "    </tr>\n",
       "    <tr>\n",
       "      <th>17</th>\n",
       "      <td>POLYGON ((-63.398375 14.35428993905152, -50.18...</td>\n",
       "      <td>3582</td>\n",
       "      <td>POLYGON ((-63.39838 14.35429, -50.18725 6.5315...</td>\n",
       "    </tr>\n",
       "  </tbody>\n",
       "</table>\n",
       "</div>"
      ],
      "text/plain": [
       "                                               geo_id  lines  \\\n",
       "5   POLYGON ((-42.86048846065483 -32.6661370248061...     41   \n",
       "27  POLYGON ((-96.4261875 11.04372287936359, -103....     77   \n",
       "8   POLYGON ((-45.6729060889336 -25.72853545586148...   2096   \n",
       "16  POLYGON ((-63.398375 12.65136569789554, -63.39...   2171   \n",
       "17  POLYGON ((-63.398375 14.35428993905152, -50.18...   3582   \n",
       "\n",
       "                                             geometry  \n",
       "5   POLYGON ((-42.86049 -32.66614, -54.11016 -46.5...  \n",
       "27  POLYGON ((-96.42619 11.04372, -103.03175 11.04...  \n",
       "8   POLYGON ((-45.67291 -25.72854, -48.48532 -25.7...  \n",
       "16  POLYGON ((-63.39838 12.65137, -63.39838 2.1706...  \n",
       "17  POLYGON ((-63.39838 14.35429, -50.18725 6.5315...  "
      ]
     },
     "execution_count": 38,
     "metadata": {},
     "output_type": "execute_result"
    }
   ],
   "source": [
    "tab = (df_geo_id\n",
    "  >> group_by(_.geo_id)\n",
    "  >> summarize(lines = _.line_wkt.count())\n",
    "  >> ungroup()\n",
    "  >> arrange(\"lines\")\n",
    "  )\n",
    "tab['geometry'] = gpd.GeoSeries.from_wkt(tab['geo_id'])\n",
    "tab = gpd.GeoDataFrame(tab, geometry='geometry')\n",
    "\n",
    "tab.head()"
   ]
  },
  {
   "cell_type": "code",
   "execution_count": 46,
   "metadata": {},
   "outputs": [
    {
     "data": {
      "text/plain": [
       "<AxesSubplot:>"
      ]
     },
     "execution_count": 46,
     "metadata": {},
     "output_type": "execute_result"
    },
    {
     "data": {
      "image/png": "[encoded data removed]",
      "text/plain": [
       "<Figure size 432x288 with 2 Axes>"
      ]
     },
     "metadata": {
      "needs_background": "light"
     },
     "output_type": "display_data"
    }
   ],
   "source": [
    "import matplotlib.pyplot as plt\n",
    "fig, ax = plt.subplots(1, 1)\n",
    "tab.plot(column='lines', ax=ax, legend=True, cmap='OrRd')"
   ]
  },
  {
   "cell_type": "code",
   "execution_count": 49,
   "metadata": {
    "scrolled": true
   },
   "outputs": [
    {
     "data": {
      "text/html": [
       "<div style=\"width:100%;\"><div style=\"position:relative;width:100%;height:0;padding-bottom:60%;\"><span style=\"color:#565656\">Make this Notebook Trusted to load map: File -> Trust Notebook</span><iframe src=\"about:blank\" style=\"position:absolute;width:100%;height:100%;left:0;top:0;border:none !important;\" data-html=%3C%21DOCTYPE%20html%3E%0A%3Chead%3E%20%20%20%20%0A%20%20%20%20%3Cmeta%20http-equiv%3D%22content-type%22%20content%3D%22text/html%3B%20charset%3DUTF-8%22%20/%3E%0A%20%20%20%20%0A%20%20%20%20%20%20%20%20%3Cscript%3E%0A%20%20%20%20%20%20%20%20%20%20%20%20L_NO_TOUCH%20%3D%20false%3B%0A%20%20%20%20%20%20%20%20%20%20%20%20L_DISABLE_3D%20%3D%20false%3B%0A%20%20%20%20%20%20%20%20%3C/script%3E%0A%20%20%20%20%0A%20%20%20%20%3Cstyle%3Ehtml%2C%20body%20%7Bwidth%3A%20100%25%3Bheight%3A%20100%25%3Bmargin%3A%200%3Bpadding%3A%200%3B%7D%3C/style%3E%0A%20%20%20%20%3Cstyle%3E%23map%20%7Bposition%3Aabsolute%3Btop%3A0%3Bbottom%3A0%3Bright%3A0%3Bleft%3A0%3B%7D%3C/style%3E%0A%20%20%20%20%3Cscript%20src%3D%22https%3A//cdn.jsdelivr.net/npm/leaflet%401.6.0/dist/leaflet.js%22%3E%3C/script%3E%0A%20%20%20%20%3Cscript%20src%3D%22https%3A//code.jquery.com/jquery-1.12.4.min.js%22%3E%3C/script%3E%0A%20%20%20%20%3Cscript%20src%3D%22https%3A//maxcdn.bootstrapcdn.com/bootstrap/3.2.0/js/bootstrap.min.js%22%3E%3C/script%3E%0A%20%20%20%20%3Cscript%20src%3D%22https%3A//cdnjs.cloudflare.com/ajax/libs/Leaflet.awesome-markers/2.0.2/leaflet.awesome-markers.js%22%3E%3C/script%3E%0A%20%20%20%20%3Clink%20rel%3D%22stylesheet%22%20href%3D%22https%3A//cdn.jsdelivr.net/npm/leaflet%401.6.0/dist/leaflet.css%22/%3E%0A%20%20%20%20%3Clink%20rel%3D%22stylesheet%22%20href%3D%22https%3A//maxcdn.bootstrapcdn.com/bootstrap/3.2.0/css/bootstrap.min.css%22/%3E%0A%20%20%20%20%3Clink%20rel%3D%22stylesheet%22%20href%3D%22https%3A//maxcdn.bootstrapcdn.com/bootstrap/3.2.0/css/bootstrap-theme.min.css%22/%3E%0A%20%20%20%20%3Clink%20rel%3D%22stylesheet%22%20href%3D%22https%3A//maxcdn.bootstrapcdn.com/font-awesome/4.6.3/css/font-awesome.min.css%22/%3E%0A%20%20%20%20%3Clink%20rel%3D%22stylesheet%22%20href%3D%22https%3A//cdnjs.cloudflare.com/ajax/libs/Leaflet.awesome-markers/2.0.2/leaflet.awesome-markers.css%22/%3E%0A%20%20%20%20%3Clink%20rel%3D%22stylesheet%22%20href%3D%22https%3A//cdn.jsdelivr.net/gh/python-visualization/folium/folium/templates/leaflet.awesome.rotate.min.css%22/%3E%0A%20%20%20%20%0A%20%20%20%20%20%20%20%20%20%20%20%20%3Cmeta%20name%3D%22viewport%22%20content%3D%22width%3Ddevice-width%2C%0A%20%20%20%20%20%20%20%20%20%20%20%20%20%20%20%20initial-scale%3D1.0%2C%20maximum-scale%3D1.0%2C%20user-scalable%3Dno%22%20/%3E%0A%20%20%20%20%20%20%20%20%20%20%20%20%3Cstyle%3E%0A%20%20%20%20%20%20%20%20%20%20%20%20%20%20%20%20%23map_42efb046600f4cb1b6ccd37c872314e0%20%7B%0A%20%20%20%20%20%20%20%20%20%20%20%20%20%20%20%20%20%20%20%20position%3A%20relative%3B%0A%20%20%20%20%20%20%20%20%20%20%20%20%20%20%20%20%20%20%20%20width%3A%20100.0%25%3B%0A%20%20%20%20%20%20%20%20%20%20%20%20%20%20%20%20%20%20%20%20height%3A%20100.0%25%3B%0A%20%20%20%20%20%20%20%20%20%20%20%20%20%20%20%20%20%20%20%20left%3A%200.0%25%3B%0A%20%20%20%20%20%20%20%20%20%20%20%20%20%20%20%20%20%20%20%20top%3A%200.0%25%3B%0A%20%20%20%20%20%20%20%20%20%20%20%20%20%20%20%20%7D%0A%20%20%20%20%20%20%20%20%20%20%20%20%3C/style%3E%0A%20%20%20%20%20%20%20%20%0A%3C/head%3E%0A%3Cbody%3E%20%20%20%20%0A%20%20%20%20%0A%20%20%20%20%20%20%20%20%20%20%20%20%3Cdiv%20class%3D%22folium-map%22%20id%3D%22map_42efb046600f4cb1b6ccd37c872314e0%22%20%3E%3C/div%3E%0A%20%20%20%20%20%20%20%20%0A%3C/body%3E%0A%3Cscript%3E%20%20%20%20%0A%20%20%20%20%0A%20%20%20%20%20%20%20%20%20%20%20%20var%20map_42efb046600f4cb1b6ccd37c872314e0%20%3D%20L.map%28%0A%20%20%20%20%20%20%20%20%20%20%20%20%20%20%20%20%22map_42efb046600f4cb1b6ccd37c872314e0%22%2C%0A%20%20%20%20%20%20%20%20%20%20%20%20%20%20%20%20%7B%0A%20%20%20%20%20%20%20%20%20%20%20%20%20%20%20%20%20%20%20%20center%3A%20%5B40.7%2C%20-73.94%5D%2C%0A%20%20%20%20%20%20%20%20%20%20%20%20%20%20%20%20%20%20%20%20crs%3A%20L.CRS.EPSG3857%2C%0A%20%20%20%20%20%20%20%20%20%20%20%20%20%20%20%20%20%20%20%20zoom%3A%2010%2C%0A%20%20%20%20%20%20%20%20%20%20%20%20%20%20%20%20%20%20%20%20zoomControl%3A%20true%2C%0A%20%20%20%20%20%20%20%20%20%20%20%20%20%20%20%20%20%20%20%20preferCanvas%3A%20false%2C%0A%20%20%20%20%20%20%20%20%20%20%20%20%20%20%20%20%7D%0A%20%20%20%20%20%20%20%20%20%20%20%20%29%3B%0A%0A%20%20%20%20%20%20%20%20%20%20%20%20%0A%0A%20%20%20%20%20%20%20%20%0A%20%20%20%20%0A%20%20%20%20%20%20%20%20%20%20%20%20var%20tile_layer_14b8548b5b264e98a827e32874f73ec8%20%3D%20L.tileLayer%28%0A%20%20%20%20%20%20%20%20%20%20%20%20%20%20%20%20%22https%3A//cartodb-basemaps-%7Bs%7D.global.ssl.fastly.net/light_all/%7Bz%7D/%7Bx%7D/%7By%7D.png%22%2C%0A%20%20%20%20%20%20%20%20%20%20%20%20%20%20%20%20%7B%22attribution%22%3A%20%22%5Cu0026copy%3B%20%5Cu003ca%20href%3D%5C%22http%3A//www.openstreetmap.org/copyright%5C%22%5Cu003eOpenStreetMap%5Cu003c/a%5Cu003e%20contributors%20%5Cu0026copy%3B%20%5Cu003ca%20href%3D%5C%22http%3A//cartodb.com/attributions%5C%22%5Cu003eCartoDB%5Cu003c/a%5Cu003e%2C%20CartoDB%20%5Cu003ca%20href%20%3D%5C%22http%3A//cartodb.com/attributions%5C%22%5Cu003eattributions%5Cu003c/a%5Cu003e%22%2C%20%22detectRetina%22%3A%20false%2C%20%22maxNativeZoom%22%3A%2018%2C%20%22maxZoom%22%3A%2018%2C%20%22minZoom%22%3A%200%2C%20%22noWrap%22%3A%20false%2C%20%22opacity%22%3A%201%2C%20%22subdomains%22%3A%20%22abc%22%2C%20%22tms%22%3A%20false%7D%0A%20%20%20%20%20%20%20%20%20%20%20%20%29.addTo%28map_42efb046600f4cb1b6ccd37c872314e0%29%3B%0A%20%20%20%20%20%20%20%20%0A%20%20%20%20%0A%20%20%20%20%20%20%20%20function%20geo_json_55c611045ef54b58a805922d82c4a192_styler%28feature%29%20%7B%0A%20%20%20%20%20%20%20%20%20%20%20%20switch%28feature.id%29%20%7B%0A%20%20%20%20%20%20%20%20%20%20%20%20%20%20%20%20default%3A%0A%20%20%20%20%20%20%20%20%20%20%20%20%20%20%20%20%20%20%20%20return%20%7B%22fillColor%22%3A%20%22orange%22%7D%3B%0A%20%20%20%20%20%20%20%20%20%20%20%20%7D%0A%20%20%20%20%20%20%20%20%7D%0A%0A%20%20%20%20%20%20%20%20function%20geo_json_55c611045ef54b58a805922d82c4a192_onEachFeature%28feature%2C%20layer%29%20%7B%0A%20%20%20%20%20%20%20%20%20%20%20%20layer.on%28%7B%0A%20%20%20%20%20%20%20%20%20%20%20%20%7D%29%3B%0A%20%20%20%20%20%20%20%20%7D%3B%0A%20%20%20%20%20%20%20%20var%20geo_json_55c611045ef54b58a805922d82c4a192%20%3D%20L.geoJson%28null%2C%20%7B%0A%20%20%20%20%20%20%20%20%20%20%20%20%20%20%20%20onEachFeature%3A%20geo_json_55c611045ef54b58a805922d82c4a192_onEachFeature%2C%0A%20%20%20%20%20%20%20%20%20%20%20%20%0A%20%20%20%20%20%20%20%20%20%20%20%20%20%20%20%20style%3A%20geo_json_55c611045ef54b58a805922d82c4a192_styler%2C%0A%20%20%20%20%20%20%20%20%7D%29%3B%0A%0A%20%20%20%20%20%20%20%20function%20geo_json_55c611045ef54b58a805922d82c4a192_add%20%28data%29%20%7B%0A%20%20%20%20%20%20%20%20%20%20%20%20geo_json_55c611045ef54b58a805922d82c4a192%0A%20%20%20%20%20%20%20%20%20%20%20%20%20%20%20%20.addData%28data%29%0A%20%20%20%20%20%20%20%20%20%20%20%20%20%20%20%20.addTo%28map_42efb046600f4cb1b6ccd37c872314e0%29%3B%0A%20%20%20%20%20%20%20%20%7D%0A%20%20%20%20%20%20%20%20%20%20%20%20geo_json_55c611045ef54b58a805922d82c4a192_add%28%7B%22bbox%22%3A%20%5B-54.11015897376988%2C%20-46.54134016269543%2C%20-42.86048846065483%2C%20-32.66613702480613%5D%2C%20%22features%22%3A%20%5B%7B%22bbox%22%3A%20%5B-54.11015897376988%2C%20-46.54134016269543%2C%20-42.86048846065483%2C%20-32.66613702480613%5D%2C%20%22geometry%22%3A%20%7B%22coordinates%22%3A%20%5B%5B%5B-42.86048846065483%2C%20-32.66613702480613%5D%2C%20%5B-54.11015897376988%2C%20-46.54134016269543%5D%2C%20%5B-54.11015897376988%2C%20-32.66613702480613%5D%2C%20%5B-42.86048846065483%2C%20-32.66613702480613%5D%5D%5D%2C%20%22type%22%3A%20%22Polygon%22%7D%2C%20%22id%22%3A%20%220%22%2C%20%22properties%22%3A%20%7B%7D%2C%20%22type%22%3A%20%22Feature%22%7D%5D%2C%20%22type%22%3A%20%22FeatureCollection%22%7D%29%3B%0A%0A%20%20%20%20%20%20%20%20%0A%20%20%20%20%0A%20%20%20%20%20%20%20%20var%20popup_d89a128aed3248ecadfdade21c3e1517%20%3D%20L.popup%28%7B%22maxWidth%22%3A%20%22100%25%22%7D%29%3B%0A%0A%20%20%20%20%20%20%20%20%0A%0A%20%20%20%20%20%20%20%20geo_json_55c611045ef54b58a805922d82c4a192.bindPopup%28popup_d89a128aed3248ecadfdade21c3e1517%29%0A%20%20%20%20%20%20%20%20%3B%0A%0A%20%20%20%20%20%20%20%20%0A%20%20%20%20%0A%20%20%20%20%0A%20%20%20%20%20%20%20%20function%20geo_json_9f7e4d51a46e43c790ba21ce5c4f92eb_styler%28feature%29%20%7B%0A%20%20%20%20%20%20%20%20%20%20%20%20switch%28feature.id%29%20%7B%0A%20%20%20%20%20%20%20%20%20%20%20%20%20%20%20%20default%3A%0A%20%20%20%20%20%20%20%20%20%20%20%20%20%20%20%20%20%20%20%20return%20%7B%22fillColor%22%3A%20%22orange%22%7D%3B%0A%20%20%20%20%20%20%20%20%20%20%20%20%7D%0A%20%20%20%20%20%20%20%20%7D%0A%0A%20%20%20%20%20%20%20%20function%20geo_json_9f7e4d51a46e43c790ba21ce5c4f92eb_onEachFeature%28feature%2C%20layer%29%20%7B%0A%20%20%20%20%20%20%20%20%20%20%20%20layer.on%28%7B%0A%20%20%20%20%20%20%20%20%20%20%20%20%7D%29%3B%0A%20%20%20%20%20%20%20%20%7D%3B%0A%20%20%20%20%20%20%20%20var%20geo_json_9f7e4d51a46e43c790ba21ce5c4f92eb%20%3D%20L.geoJson%28null%2C%20%7B%0A%20%20%20%20%20%20%20%20%20%20%20%20%20%20%20%20onEachFeature%3A%20geo_json_9f7e4d51a46e43c790ba21ce5c4f92eb_onEachFeature%2C%0A%20%20%20%20%20%20%20%20%20%20%20%20%0A%20%20%20%20%20%20%20%20%20%20%20%20%20%20%20%20style%3A%20geo_json_9f7e4d51a46e43c790ba21ce5c4f92eb_styler%2C%0A%20%20%20%20%20%20%20%20%7D%29%3B%0A%0A%20%20%20%20%20%20%20%20function%20geo_json_9f7e4d51a46e43c790ba21ce5c4f92eb_add%20%28data%29%20%7B%0A%20%20%20%20%20%20%20%20%20%20%20%20geo_json_9f7e4d51a46e43c790ba21ce5c4f92eb%0A%20%20%20%20%20%20%20%20%20%20%20%20%20%20%20%20.addData%28data%29%0A%20%20%20%20%20%20%20%20%20%20%20%20%20%20%20%20.addTo%28map_42efb046600f4cb1b6ccd37c872314e0%29%3B%0A%20%20%20%20%20%20%20%20%7D%0A%20%20%20%20%20%20%20%20%20%20%20%20geo_json_9f7e4d51a46e43c790ba21ce5c4f92eb_add%28%7B%22bbox%22%3A%20%5B-103.03175%2C%2011.04372287936359%2C%20-96.4261875%2C%2015.89670560204073%5D%2C%20%22features%22%3A%20%5B%7B%22bbox%22%3A%20%5B-103.03175%2C%2011.04372287936359%2C%20-96.4261875%2C%2015.89670560204073%5D%2C%20%22geometry%22%3A%20%7B%22coordinates%22%3A%20%5B%5B%5B-96.4261875%2C%2011.04372287936359%5D%2C%20%5B-103.03175%2C%2011.04372287936359%5D%2C%20%5B-103.03175%2C%2015.89670560204073%5D%2C%20%5B-96.4261875%2C%2015.89670560204073%5D%2C%20%5B-96.4261875%2C%2011.04372287936359%5D%5D%5D%2C%20%22type%22%3A%20%22Polygon%22%7D%2C%20%22id%22%3A%20%220%22%2C%20%22properties%22%3A%20%7B%7D%2C%20%22type%22%3A%20%22Feature%22%7D%5D%2C%20%22type%22%3A%20%22FeatureCollection%22%7D%29%3B%0A%0A%20%20%20%20%20%20%20%20%0A%20%20%20%20%0A%20%20%20%20%20%20%20%20var%20popup_3c838c698e2f41daba4945d827c6b9bf%20%3D%20L.popup%28%7B%22maxWidth%22%3A%20%22100%25%22%7D%29%3B%0A%0A%20%20%20%20%20%20%20%20%0A%0A%20%20%20%20%20%20%20%20geo_json_9f7e4d51a46e43c790ba21ce5c4f92eb.bindPopup%28popup_3c838c698e2f41daba4945d827c6b9bf%29%0A%20%20%20%20%20%20%20%20%3B%0A%0A%20%20%20%20%20%20%20%20%0A%20%20%20%20%0A%20%20%20%20%0A%20%20%20%20%20%20%20%20function%20geo_json_0d6d375e1a6f48fea54c168a0d17ce24_styler%28feature%29%20%7B%0A%20%20%20%20%20%20%20%20%20%20%20%20switch%28feature.id%29%20%7B%0A%20%20%20%20%20%20%20%20%20%20%20%20%20%20%20%20default%3A%0A%20%20%20%20%20%20%20%20%20%20%20%20%20%20%20%20%20%20%20%20return%20%7B%22fillColor%22%3A%20%22orange%22%7D%3B%0A%20%20%20%20%20%20%20%20%20%20%20%20%7D%0A%20%20%20%20%20%20%20%20%7D%0A%0A%20%20%20%20%20%20%20%20function%20geo_json_0d6d375e1a6f48fea54c168a0d17ce24_onEachFeature%28feature%2C%20layer%29%20%7B%0A%20%20%20%20%20%20%20%20%20%20%20%20layer.on%28%7B%0A%20%20%20%20%20%20%20%20%20%20%20%20%7D%29%3B%0A%20%20%20%20%20%20%20%20%7D%3B%0A%20%20%20%20%20%20%20%20var%20geo_json_0d6d375e1a6f48fea54c168a0d17ce24%20%3D%20L.geoJson%28null%2C%20%7B%0A%20%20%20%20%20%20%20%20%20%20%20%20%20%20%20%20onEachFeature%3A%20geo_json_0d6d375e1a6f48fea54c168a0d17ce24_onEachFeature%2C%0A%20%20%20%20%20%20%20%20%20%20%20%20%0A%20%20%20%20%20%20%20%20%20%20%20%20%20%20%20%20style%3A%20geo_json_0d6d375e1a6f48fea54c168a0d17ce24_styler%2C%0A%20%20%20%20%20%20%20%20%7D%29%3B%0A%0A%20%20%20%20%20%20%20%20function%20geo_json_0d6d375e1a6f48fea54c168a0d17ce24_add%20%28data%29%20%7B%0A%20%20%20%20%20%20%20%20%20%20%20%20geo_json_0d6d375e1a6f48fea54c168a0d17ce24%0A%20%20%20%20%20%20%20%20%20%20%20%20%20%20%20%20.addData%28data%29%0A%20%20%20%20%20%20%20%20%20%20%20%20%20%20%20%20.addTo%28map_42efb046600f4cb1b6ccd37c872314e0%29%3B%0A%20%20%20%20%20%20%20%20%7D%0A%20%20%20%20%20%20%20%20%20%20%20%20geo_json_0d6d375e1a6f48fea54c168a0d17ce24_add%28%7B%22bbox%22%3A%20%5B-48.48532371721236%2C%20-25.72853545586148%2C%20-45.6729060889336%2C%20-23.99413506362532%5D%2C%20%22features%22%3A%20%5B%7B%22bbox%22%3A%20%5B-48.48532371721236%2C%20-25.72853545586148%2C%20-45.6729060889336%2C%20-23.99413506362532%5D%2C%20%22geometry%22%3A%20%7B%22coordinates%22%3A%20%5B%5B%5B-45.6729060889336%2C%20-25.72853545586148%5D%2C%20%5B-48.48532371721236%2C%20-25.72853545586148%5D%2C%20%5B-48.48532371721236%2C%20-23.99413506362532%5D%2C%20%5B-45.6729060889336%2C%20-23.99413506362532%5D%2C%20%5B-45.6729060889336%2C%20-25.72853545586148%5D%5D%5D%2C%20%22type%22%3A%20%22Polygon%22%7D%2C%20%22id%22%3A%20%220%22%2C%20%22properties%22%3A%20%7B%7D%2C%20%22type%22%3A%20%22Feature%22%7D%5D%2C%20%22type%22%3A%20%22FeatureCollection%22%7D%29%3B%0A%0A%20%20%20%20%20%20%20%20%0A%20%20%20%20%0A%20%20%20%20%20%20%20%20var%20popup_31116968a3f34ed1ab00dbc26b4b49da%20%3D%20L.popup%28%7B%22maxWidth%22%3A%20%22100%25%22%7D%29%3B%0A%0A%20%20%20%20%20%20%20%20%0A%0A%20%20%20%20%20%20%20%20geo_json_0d6d375e1a6f48fea54c168a0d17ce24.bindPopup%28popup_31116968a3f34ed1ab00dbc26b4b49da%29%0A%20%20%20%20%20%20%20%20%3B%0A%0A%20%20%20%20%20%20%20%20%0A%20%20%20%20%0A%20%20%20%20%0A%20%20%20%20%20%20%20%20function%20geo_json_79de577fd5ee497eb3ee07633b03ce7f_styler%28feature%29%20%7B%0A%20%20%20%20%20%20%20%20%20%20%20%20switch%28feature.id%29%20%7B%0A%20%20%20%20%20%20%20%20%20%20%20%20%20%20%20%20default%3A%0A%20%20%20%20%20%20%20%20%20%20%20%20%20%20%20%20%20%20%20%20return%20%7B%22fillColor%22%3A%20%22orange%22%7D%3B%0A%20%20%20%20%20%20%20%20%20%20%20%20%7D%0A%20%20%20%20%20%20%20%20%7D%0A%0A%20%20%20%20%20%20%20%20function%20geo_json_79de577fd5ee497eb3ee07633b03ce7f_onEachFeature%28feature%2C%20layer%29%20%7B%0A%20%20%20%20%20%20%20%20%20%20%20%20layer.on%28%7B%0A%20%20%20%20%20%20%20%20%20%20%20%20%7D%29%3B%0A%20%20%20%20%20%20%20%20%7D%3B%0A%20%20%20%20%20%20%20%20var%20geo_json_79de577fd5ee497eb3ee07633b03ce7f%20%3D%20L.geoJson%28null%2C%20%7B%0A%20%20%20%20%20%20%20%20%20%20%20%20%20%20%20%20onEachFeature%3A%20geo_json_79de577fd5ee497eb3ee07633b03ce7f_onEachFeature%2C%0A%20%20%20%20%20%20%20%20%20%20%20%20%0A%20%20%20%20%20%20%20%20%20%20%20%20%20%20%20%20style%3A%20geo_json_79de577fd5ee497eb3ee07633b03ce7f_styler%2C%0A%20%20%20%20%20%20%20%20%7D%29%3B%0A%0A%20%20%20%20%20%20%20%20function%20geo_json_79de577fd5ee497eb3ee07633b03ce7f_add%20%28data%29%20%7B%0A%20%20%20%20%20%20%20%20%20%20%20%20geo_json_79de577fd5ee497eb3ee07633b03ce7f%0A%20%20%20%20%20%20%20%20%20%20%20%20%20%20%20%20.addData%28data%29%0A%20%20%20%20%20%20%20%20%20%20%20%20%20%20%20%20.addTo%28map_42efb046600f4cb1b6ccd37c872314e0%29%3B%0A%20%20%20%20%20%20%20%20%7D%0A%20%20%20%20%20%20%20%20%20%20%20%20geo_json_79de577fd5ee497eb3ee07633b03ce7f_add%28%7B%22bbox%22%3A%20%5B-70.0039375%2C%202.170599169624747%2C%20-63.398375%2C%2012.65136569789554%5D%2C%20%22features%22%3A%20%5B%7B%22bbox%22%3A%20%5B-70.0039375%2C%202.170599169624747%2C%20-63.398375%2C%2012.65136569789554%5D%2C%20%22geometry%22%3A%20%7B%22coordinates%22%3A%20%5B%5B%5B-63.398375%2C%2012.65136569789554%5D%2C%20%5B-63.398375%2C%202.170599169624747%5D%2C%20%5B-70.0039375%2C%202.170599169624747%5D%2C%20%5B-70.0039375%2C%2012.65136569789554%5D%2C%20%5B-63.398375%2C%2012.65136569789554%5D%5D%5D%2C%20%22type%22%3A%20%22Polygon%22%7D%2C%20%22id%22%3A%20%220%22%2C%20%22properties%22%3A%20%7B%7D%2C%20%22type%22%3A%20%22Feature%22%7D%5D%2C%20%22type%22%3A%20%22FeatureCollection%22%7D%29%3B%0A%0A%20%20%20%20%20%20%20%20%0A%20%20%20%20%0A%20%20%20%20%20%20%20%20var%20popup_dd37171e7d70434cb506148f6670fd06%20%3D%20L.popup%28%7B%22maxWidth%22%3A%20%22100%25%22%7D%29%3B%0A%0A%20%20%20%20%20%20%20%20%0A%0A%20%20%20%20%20%20%20%20geo_json_79de577fd5ee497eb3ee07633b03ce7f.bindPopup%28popup_dd37171e7d70434cb506148f6670fd06%29%0A%20%20%20%20%20%20%20%20%3B%0A%0A%20%20%20%20%20%20%20%20%0A%20%20%20%20%0A%20%20%20%20%0A%20%20%20%20%20%20%20%20function%20geo_json_af87678eb88e44ae93b24b8ce7bbb7ec_styler%28feature%29%20%7B%0A%20%20%20%20%20%20%20%20%20%20%20%20switch%28feature.id%29%20%7B%0A%20%20%20%20%20%20%20%20%20%20%20%20%20%20%20%20default%3A%0A%20%20%20%20%20%20%20%20%20%20%20%20%20%20%20%20%20%20%20%20return%20%7B%22fillColor%22%3A%20%22orange%22%7D%3B%0A%20%20%20%20%20%20%20%20%20%20%20%20%7D%0A%20%20%20%20%20%20%20%20%7D%0A%0A%20%20%20%20%20%20%20%20function%20geo_json_af87678eb88e44ae93b24b8ce7bbb7ec_onEachFeature%28feature%2C%20layer%29%20%7B%0A%20%20%20%20%20%20%20%20%20%20%20%20layer.on%28%7B%0A%20%20%20%20%20%20%20%20%20%20%20%20%7D%29%3B%0A%20%20%20%20%20%20%20%20%7D%3B%0A%20%20%20%20%20%20%20%20var%20geo_json_af87678eb88e44ae93b24b8ce7bbb7ec%20%3D%20L.geoJson%28null%2C%20%7B%0A%20%20%20%20%20%20%20%20%20%20%20%20%20%20%20%20onEachFeature%3A%20geo_json_af87678eb88e44ae93b24b8ce7bbb7ec_onEachFeature%2C%0A%20%20%20%20%20%20%20%20%20%20%20%20%0A%20%20%20%20%20%20%20%20%20%20%20%20%20%20%20%20style%3A%20geo_json_af87678eb88e44ae93b24b8ce7bbb7ec_styler%2C%0A%20%20%20%20%20%20%20%20%7D%29%3B%0A%0A%20%20%20%20%20%20%20%20function%20geo_json_af87678eb88e44ae93b24b8ce7bbb7ec_add%20%28data%29%20%7B%0A%20%20%20%20%20%20%20%20%20%20%20%20geo_json_af87678eb88e44ae93b24b8ce7bbb7ec%0A%20%20%20%20%20%20%20%20%20%20%20%20%20%20%20%20.addData%28data%29%0A%20%20%20%20%20%20%20%20%20%20%20%20%20%20%20%20.addTo%28map_42efb046600f4cb1b6ccd37c872314e0%29%3B%0A%20%20%20%20%20%20%20%20%7D%0A%20%20%20%20%20%20%20%20%20%20%20%20geo_json_af87678eb88e44ae93b24b8ce7bbb7ec_add%28%7B%22bbox%22%3A%20%5B-63.398375%2C%202.170599169624747%2C%20-50.18725%2C%2014.35428993905152%5D%2C%20%22features%22%3A%20%5B%7B%22bbox%22%3A%20%5B-63.398375%2C%202.170599169624747%2C%20-50.18725%2C%2014.35428993905152%5D%2C%20%22geometry%22%3A%20%7B%22coordinates%22%3A%20%5B%5B%5B-63.398375%2C%2014.35428993905152%5D%2C%20%5B-50.18725%2C%206.531526626034342%5D%2C%20%5B-50.18725%2C%202.170599169624747%5D%2C%20%5B-63.398375%2C%202.170599169624747%5D%2C%20%5B-63.398375%2C%2014.35428993905152%5D%5D%5D%2C%20%22type%22%3A%20%22Polygon%22%7D%2C%20%22id%22%3A%20%220%22%2C%20%22properties%22%3A%20%7B%7D%2C%20%22type%22%3A%20%22Feature%22%7D%5D%2C%20%22type%22%3A%20%22FeatureCollection%22%7D%29%3B%0A%0A%20%20%20%20%20%20%20%20%0A%20%20%20%20%0A%20%20%20%20%20%20%20%20var%20popup_09ea2226c6e64b419447cdad3f07de34%20%3D%20L.popup%28%7B%22maxWidth%22%3A%20%22100%25%22%7D%29%3B%0A%0A%20%20%20%20%20%20%20%20%0A%0A%20%20%20%20%20%20%20%20geo_json_af87678eb88e44ae93b24b8ce7bbb7ec.bindPopup%28popup_09ea2226c6e64b419447cdad3f07de34%29%0A%20%20%20%20%20%20%20%20%3B%0A%0A%20%20%20%20%20%20%20%20%0A%20%20%20%20%0A%20%20%20%20%0A%20%20%20%20%20%20%20%20function%20geo_json_c95f62166df141ab8c1c8aaa0941583c_styler%28feature%29%20%7B%0A%20%20%20%20%20%20%20%20%20%20%20%20switch%28feature.id%29%20%7B%0A%20%20%20%20%20%20%20%20%20%20%20%20%20%20%20%20default%3A%0A%20%20%20%20%20%20%20%20%20%20%20%20%20%20%20%20%20%20%20%20return%20%7B%22fillColor%22%3A%20%22orange%22%7D%3B%0A%20%20%20%20%20%20%20%20%20%20%20%20%7D%0A%20%20%20%20%20%20%20%20%7D%0A%0A%20%20%20%20%20%20%20%20function%20geo_json_c95f62166df141ab8c1c8aaa0941583c_onEachFeature%28feature%2C%20layer%29%20%7B%0A%20%20%20%20%20%20%20%20%20%20%20%20layer.on%28%7B%0A%20%20%20%20%20%20%20%20%20%20%20%20%7D%29%3B%0A%20%20%20%20%20%20%20%20%7D%3B%0A%20%20%20%20%20%20%20%20var%20geo_json_c95f62166df141ab8c1c8aaa0941583c%20%3D%20L.geoJson%28null%2C%20%7B%0A%20%20%20%20%20%20%20%20%20%20%20%20%20%20%20%20onEachFeature%3A%20geo_json_c95f62166df141ab8c1c8aaa0941583c_onEachFeature%2C%0A%20%20%20%20%20%20%20%20%20%20%20%20%0A%20%20%20%20%20%20%20%20%20%20%20%20%20%20%20%20style%3A%20geo_json_c95f62166df141ab8c1c8aaa0941583c_styler%2C%0A%20%20%20%20%20%20%20%20%7D%29%3B%0A%0A%20%20%20%20%20%20%20%20function%20geo_json_c95f62166df141ab8c1c8aaa0941583c_add%20%28data%29%20%7B%0A%20%20%20%20%20%20%20%20%20%20%20%20geo_json_c95f62166df141ab8c1c8aaa0941583c%0A%20%20%20%20%20%20%20%20%20%20%20%20%20%20%20%20.addData%28data%29%0A%20%20%20%20%20%20%20%20%20%20%20%20%20%20%20%20.addTo%28map_42efb046600f4cb1b6ccd37c872314e0%29%3B%0A%20%20%20%20%20%20%20%20%7D%0A%20%20%20%20%20%20%20%20%20%20%20%20geo_json_c95f62166df141ab8c1c8aaa0941583c_add%28%7B%22bbox%22%3A%20%5B-76.6095%2C%20-60.714%2C%20-54.11015897376988%2C%20-39.75246694345842%5D%2C%20%22features%22%3A%20%5B%7B%22bbox%22%3A%20%5B-76.6095%2C%20-60.714%2C%20-54.11015897376988%2C%20-39.75246694345842%5D%2C%20%22geometry%22%3A%20%7B%22coordinates%22%3A%20%5B%5B%5B-54.11015897376988%2C%20-46.54134016269543%5D%2C%20%5B-65.601%2C%20-60.714%5D%2C%20%5B-76.6095%2C%20-53.97441602268991%5D%2C%20%5B-76.6095%2C%20-39.75246694345842%5D%2C%20%5B-54.11015897376988%2C%20-39.75246694345842%5D%2C%20%5B-54.11015897376988%2C%20-46.54134016269543%5D%5D%5D%2C%20%22type%22%3A%20%22Polygon%22%7D%2C%20%22id%22%3A%20%220%22%2C%20%22properties%22%3A%20%7B%7D%2C%20%22type%22%3A%20%22Feature%22%7D%5D%2C%20%22type%22%3A%20%22FeatureCollection%22%7D%29%3B%0A%0A%20%20%20%20%20%20%20%20%0A%20%20%20%20%0A%20%20%20%20%20%20%20%20var%20popup_984e2afd8217436886bb2426064aaba4%20%3D%20L.popup%28%7B%22maxWidth%22%3A%20%22100%25%22%7D%29%3B%0A%0A%20%20%20%20%20%20%20%20%0A%0A%20%20%20%20%20%20%20%20geo_json_c95f62166df141ab8c1c8aaa0941583c.bindPopup%28popup_984e2afd8217436886bb2426064aaba4%29%0A%20%20%20%20%20%20%20%20%3B%0A%0A%20%20%20%20%20%20%20%20%0A%20%20%20%20%0A%20%20%20%20%0A%20%20%20%20%20%20%20%20function%20geo_json_f2ed17f9595c498e9e683b42a8f6e492_styler%28feature%29%20%7B%0A%20%20%20%20%20%20%20%20%20%20%20%20switch%28feature.id%29%20%7B%0A%20%20%20%20%20%20%20%20%20%20%20%20%20%20%20%20default%3A%0A%20%20%20%20%20%20%20%20%20%20%20%20%20%20%20%20%20%20%20%20return%20%7B%22fillColor%22%3A%20%22orange%22%7D%3B%0A%20%20%20%20%20%20%20%20%20%20%20%20%7D%0A%20%20%20%20%20%20%20%20%7D%0A%0A%20%20%20%20%20%20%20%20function%20geo_json_f2ed17f9595c498e9e683b42a8f6e492_onEachFeature%28feature%2C%20layer%29%20%7B%0A%20%20%20%20%20%20%20%20%20%20%20%20layer.on%28%7B%0A%20%20%20%20%20%20%20%20%20%20%20%20%7D%29%3B%0A%20%20%20%20%20%20%20%20%7D%3B%0A%20%20%20%20%20%20%20%20var%20geo_json_f2ed17f9595c498e9e683b42a8f6e492%20%3D%20L.geoJson%28null%2C%20%7B%0A%20%20%20%20%20%20%20%20%20%20%20%20%20%20%20%20onEachFeature%3A%20geo_json_f2ed17f9595c498e9e683b42a8f6e492_onEachFeature%2C%0A%20%20%20%20%20%20%20%20%20%20%20%20%0A%20%20%20%20%20%20%20%20%20%20%20%20%20%20%20%20style%3A%20geo_json_f2ed17f9595c498e9e683b42a8f6e492_styler%2C%0A%20%20%20%20%20%20%20%20%7D%29%3B%0A%0A%20%20%20%20%20%20%20%20function%20geo_json_f2ed17f9595c498e9e683b42a8f6e492_add%20%28data%29%20%7B%0A%20%20%20%20%20%20%20%20%20%20%20%20geo_json_f2ed17f9595c498e9e683b42a8f6e492%0A%20%20%20%20%20%20%20%20%20%20%20%20%20%20%20%20.addData%28data%29%0A%20%20%20%20%20%20%20%20%20%20%20%20%20%20%20%20.addTo%28map_42efb046600f4cb1b6ccd37c872314e0%29%3B%0A%20%20%20%20%20%20%20%20%7D%0A%20%20%20%20%20%20%20%20%20%20%20%20geo_json_f2ed17f9595c498e9e683b42a8f6e492_add%28%7B%22bbox%22%3A%20%5B-48.48532371721236%2C%20-23.99413506362532%2C%20-47.07911490307298%2C%20-22.25973467138916%5D%2C%20%22features%22%3A%20%5B%7B%22bbox%22%3A%20%5B-48.48532371721236%2C%20-23.99413506362532%2C%20-47.07911490307298%2C%20-22.25973467138916%5D%2C%20%22geometry%22%3A%20%7B%22coordinates%22%3A%20%5B%5B%5B-48.48532371721236%2C%20-23.99413506362532%5D%2C%20%5B-48.48532371721236%2C%20-22.25973467138916%5D%2C%20%5B-47.07911490307298%2C%20-22.25973467138916%5D%2C%20%5B-47.07911490307298%2C%20-23.99413506362532%5D%2C%20%5B-48.48532371721236%2C%20-23.99413506362532%5D%5D%5D%2C%20%22type%22%3A%20%22Polygon%22%7D%2C%20%22id%22%3A%20%220%22%2C%20%22properties%22%3A%20%7B%7D%2C%20%22type%22%3A%20%22Feature%22%7D%5D%2C%20%22type%22%3A%20%22FeatureCollection%22%7D%29%3B%0A%0A%20%20%20%20%20%20%20%20%0A%20%20%20%20%0A%20%20%20%20%20%20%20%20var%20popup_ab41dd57a7a0482ababda84de0f9e39b%20%3D%20L.popup%28%7B%22maxWidth%22%3A%20%22100%25%22%7D%29%3B%0A%0A%20%20%20%20%20%20%20%20%0A%0A%20%20%20%20%20%20%20%20geo_json_f2ed17f9595c498e9e683b42a8f6e492.bindPopup%28popup_ab41dd57a7a0482ababda84de0f9e39b%29%0A%20%20%20%20%20%20%20%20%3B%0A%0A%20%20%20%20%20%20%20%20%0A%20%20%20%20%0A%20%20%20%20%0A%20%20%20%20%20%20%20%20function%20geo_json_aed31b384cd8428dace7d8951d4c71f7_styler%28feature%29%20%7B%0A%20%20%20%20%20%20%20%20%20%20%20%20switch%28feature.id%29%20%7B%0A%20%20%20%20%20%20%20%20%20%20%20%20%20%20%20%20default%3A%0A%20%20%20%20%20%20%20%20%20%20%20%20%20%20%20%20%20%20%20%20return%20%7B%22fillColor%22%3A%20%22orange%22%7D%3B%0A%20%20%20%20%20%20%20%20%20%20%20%20%7D%0A%20%20%20%20%20%20%20%20%7D%0A%0A%20%20%20%20%20%20%20%20function%20geo_json_aed31b384cd8428dace7d8951d4c71f7_onEachFeature%28feature%2C%20layer%29%20%7B%0A%20%20%20%20%20%20%20%20%20%20%20%20layer.on%28%7B%0A%20%20%20%20%20%20%20%20%20%20%20%20%7D%29%3B%0A%20%20%20%20%20%20%20%20%7D%3B%0A%20%20%20%20%20%20%20%20var%20geo_json_aed31b384cd8428dace7d8951d4c71f7%20%3D%20L.geoJson%28null%2C%20%7B%0A%20%20%20%20%20%20%20%20%20%20%20%20%20%20%20%20onEachFeature%3A%20geo_json_aed31b384cd8428dace7d8951d4c71f7_onEachFeature%2C%0A%20%20%20%20%20%20%20%20%20%20%20%20%0A%20%20%20%20%20%20%20%20%20%20%20%20%20%20%20%20style%3A%20geo_json_aed31b384cd8428dace7d8951d4c71f7_styler%2C%0A%20%20%20%20%20%20%20%20%7D%29%3B%0A%0A%20%20%20%20%20%20%20%20function%20geo_json_aed31b384cd8428dace7d8951d4c71f7_add%20%28data%29%20%7B%0A%20%20%20%20%20%20%20%20%20%20%20%20geo_json_aed31b384cd8428dace7d8951d4c71f7%0A%20%20%20%20%20%20%20%20%20%20%20%20%20%20%20%20.addData%28data%29%0A%20%20%20%20%20%20%20%20%20%20%20%20%20%20%20%20.addTo%28map_42efb046600f4cb1b6ccd37c872314e0%29%3B%0A%20%20%20%20%20%20%20%20%7D%0A%20%20%20%20%20%20%20%20%20%20%20%20geo_json_aed31b384cd8428dace7d8951d4c71f7_add%28%7B%22bbox%22%3A%20%5B-103.03175%2C%2015.89670560204073%2C%20-99.72896875%2C%2020.74968832471787%5D%2C%20%22features%22%3A%20%5B%7B%22bbox%22%3A%20%5B-103.03175%2C%2015.89670560204073%2C%20-99.72896875%2C%2020.74968832471787%5D%2C%20%22geometry%22%3A%20%7B%22coordinates%22%3A%20%5B%5B%5B-103.03175%2C%2015.89670560204073%5D%2C%20%5B-103.03175%2C%2020.74968832471787%5D%2C%20%5B-99.72896875%2C%2020.74968832471787%5D%2C%20%5B-99.72896875%2C%2015.89670560204073%5D%2C%20%5B-103.03175%2C%2015.89670560204073%5D%5D%5D%2C%20%22type%22%3A%20%22Polygon%22%7D%2C%20%22id%22%3A%20%220%22%2C%20%22properties%22%3A%20%7B%7D%2C%20%22type%22%3A%20%22Feature%22%7D%5D%2C%20%22type%22%3A%20%22FeatureCollection%22%7D%29%3B%0A%0A%20%20%20%20%20%20%20%20%0A%20%20%20%20%0A%20%20%20%20%20%20%20%20var%20popup_e670478f15054727860f6b61020e4fa6%20%3D%20L.popup%28%7B%22maxWidth%22%3A%20%22100%25%22%7D%29%3B%0A%0A%20%20%20%20%20%20%20%20%0A%0A%20%20%20%20%20%20%20%20geo_json_aed31b384cd8428dace7d8951d4c71f7.bindPopup%28popup_e670478f15054727860f6b61020e4fa6%29%0A%20%20%20%20%20%20%20%20%3B%0A%0A%20%20%20%20%20%20%20%20%0A%20%20%20%20%0A%20%20%20%20%0A%20%20%20%20%20%20%20%20function%20geo_json_18aaf15249404bd59ef73c72981fea67_styler%28feature%29%20%7B%0A%20%20%20%20%20%20%20%20%20%20%20%20switch%28feature.id%29%20%7B%0A%20%20%20%20%20%20%20%20%20%20%20%20%20%20%20%20default%3A%0A%20%20%20%20%20%20%20%20%20%20%20%20%20%20%20%20%20%20%20%20return%20%7B%22fillColor%22%3A%20%22orange%22%7D%3B%0A%20%20%20%20%20%20%20%20%20%20%20%20%7D%0A%20%20%20%20%20%20%20%20%7D%0A%0A%20%20%20%20%20%20%20%20function%20geo_json_18aaf15249404bd59ef73c72981fea67_onEachFeature%28feature%2C%20layer%29%20%7B%0A%20%20%20%20%20%20%20%20%20%20%20%20layer.on%28%7B%0A%20%20%20%20%20%20%20%20%20%20%20%20%7D%29%3B%0A%20%20%20%20%20%20%20%20%7D%3B%0A%20%20%20%20%20%20%20%20var%20geo_json_18aaf15249404bd59ef73c72981fea67%20%3D%20L.geoJson%28null%2C%20%7B%0A%20%20%20%20%20%20%20%20%20%20%20%20%20%20%20%20onEachFeature%3A%20geo_json_18aaf15249404bd59ef73c72981fea67_onEachFeature%2C%0A%20%20%20%20%20%20%20%20%20%20%20%20%0A%20%20%20%20%20%20%20%20%20%20%20%20%20%20%20%20style%3A%20geo_json_18aaf15249404bd59ef73c72981fea67_styler%2C%0A%20%20%20%20%20%20%20%20%7D%29%3B%0A%0A%20%20%20%20%20%20%20%20function%20geo_json_18aaf15249404bd59ef73c72981fea67_add%20%28data%29%20%7B%0A%20%20%20%20%20%20%20%20%20%20%20%20geo_json_18aaf15249404bd59ef73c72981fea67%0A%20%20%20%20%20%20%20%20%20%20%20%20%20%20%20%20.addData%28data%29%0A%20%20%20%20%20%20%20%20%20%20%20%20%20%20%20%20.addTo%28map_42efb046600f4cb1b6ccd37c872314e0%29%3B%0A%20%20%20%20%20%20%20%20%7D%0A%20%20%20%20%20%20%20%20%20%20%20%20geo_json_18aaf15249404bd59ef73c72981fea67_add%28%7B%22bbox%22%3A%20%5B-42.86048846065484%2C%20-32.66613702480613%2C%20-31.61081794753978%2C%20-18.79093388691683%5D%2C%20%22features%22%3A%20%5B%7B%22bbox%22%3A%20%5B-42.86048846065484%2C%20-32.66613702480613%2C%20-31.61081794753978%2C%20-18.79093388691683%5D%2C%20%22geometry%22%3A%20%7B%22coordinates%22%3A%20%5B%5B%5B-31.61081794753978%2C%20-18.79093388691683%5D%2C%20%5B-42.86048846065483%2C%20-32.66613702480613%5D%2C%20%5B-42.86048846065484%2C%20-32.66613702480613%5D%2C%20%5B-42.86048846065484%2C%20-18.79093388691683%5D%2C%20%5B-31.61081794753978%2C%20-18.79093388691683%5D%5D%5D%2C%20%22type%22%3A%20%22Polygon%22%7D%2C%20%22id%22%3A%20%220%22%2C%20%22properties%22%3A%20%7B%7D%2C%20%22type%22%3A%20%22Feature%22%7D%5D%2C%20%22type%22%3A%20%22FeatureCollection%22%7D%29%3B%0A%0A%20%20%20%20%20%20%20%20%0A%20%20%20%20%0A%20%20%20%20%20%20%20%20var%20popup_0311231a0a8b4216af1611f346fb536a%20%3D%20L.popup%28%7B%22maxWidth%22%3A%20%22100%25%22%7D%29%3B%0A%0A%20%20%20%20%20%20%20%20%0A%0A%20%20%20%20%20%20%20%20geo_json_18aaf15249404bd59ef73c72981fea67.bindPopup%28popup_0311231a0a8b4216af1611f346fb536a%29%0A%20%20%20%20%20%20%20%20%3B%0A%0A%20%20%20%20%20%20%20%20%0A%20%20%20%20%0A%20%20%20%20%0A%20%20%20%20%20%20%20%20function%20geo_json_9f37a5cd05a2413889016c6c634a41fe_styler%28feature%29%20%7B%0A%20%20%20%20%20%20%20%20%20%20%20%20switch%28feature.id%29%20%7B%0A%20%20%20%20%20%20%20%20%20%20%20%20%20%20%20%20default%3A%0A%20%20%20%20%20%20%20%20%20%20%20%20%20%20%20%20%20%20%20%20return%20%7B%22fillColor%22%3A%20%22orange%22%7D%3B%0A%20%20%20%20%20%20%20%20%20%20%20%20%7D%0A%20%20%20%20%20%20%20%20%7D%0A%0A%20%20%20%20%20%20%20%20function%20geo_json_9f37a5cd05a2413889016c6c634a41fe_onEachFeature%28feature%2C%20layer%29%20%7B%0A%20%20%20%20%20%20%20%20%20%20%20%20layer.on%28%7B%0A%20%20%20%20%20%20%20%20%20%20%20%20%7D%29%3B%0A%20%20%20%20%20%20%20%20%7D%3B%0A%20%20%20%20%20%20%20%20var%20geo_json_9f37a5cd05a2413889016c6c634a41fe%20%3D%20L.geoJson%28null%2C%20%7B%0A%20%20%20%20%20%20%20%20%20%20%20%20%20%20%20%20onEachFeature%3A%20geo_json_9f37a5cd05a2413889016c6c634a41fe_onEachFeature%2C%0A%20%20%20%20%20%20%20%20%20%20%20%20%0A%20%20%20%20%20%20%20%20%20%20%20%20%20%20%20%20style%3A%20geo_json_9f37a5cd05a2413889016c6c634a41fe_styler%2C%0A%20%20%20%20%20%20%20%20%7D%29%3B%0A%0A%20%20%20%20%20%20%20%20function%20geo_json_9f37a5cd05a2413889016c6c634a41fe_add%20%28data%29%20%7B%0A%20%20%20%20%20%20%20%20%20%20%20%20geo_json_9f37a5cd05a2413889016c6c634a41fe%0A%20%20%20%20%20%20%20%20%20%20%20%20%20%20%20%20.addData%28data%29%0A%20%20%20%20%20%20%20%20%20%20%20%20%20%20%20%20.addTo%28map_42efb046600f4cb1b6ccd37c872314e0%29%3B%0A%20%20%20%20%20%20%20%20%7D%0A%20%20%20%20%20%20%20%20%20%20%20%20geo_json_9f37a5cd05a2413889016c6c634a41fe_add%28%7B%22bbox%22%3A%20%5B-76.6095%2C%207.410982433760142%2C%20-70.0039375%2C%2012.65136569789554%5D%2C%20%22features%22%3A%20%5B%7B%22bbox%22%3A%20%5B-76.6095%2C%207.410982433760142%2C%20-70.0039375%2C%2012.65136569789554%5D%2C%20%22geometry%22%3A%20%7B%22coordinates%22%3A%20%5B%5B%5B-76.6095%2C%207.410982433760142%5D%2C%20%5B-76.6095%2C%2012.65136569789554%5D%2C%20%5B-70.0039375%2C%2012.65136569789554%5D%2C%20%5B-70.0039375%2C%207.410982433760142%5D%2C%20%5B-76.6095%2C%207.410982433760142%5D%5D%5D%2C%20%22type%22%3A%20%22Polygon%22%7D%2C%20%22id%22%3A%20%220%22%2C%20%22properties%22%3A%20%7B%7D%2C%20%22type%22%3A%20%22Feature%22%7D%5D%2C%20%22type%22%3A%20%22FeatureCollection%22%7D%29%3B%0A%0A%20%20%20%20%20%20%20%20%0A%20%20%20%20%0A%20%20%20%20%20%20%20%20var%20popup_7cbae9480b0249af9ec72063da0eb467%20%3D%20L.popup%28%7B%22maxWidth%22%3A%20%22100%25%22%7D%29%3B%0A%0A%20%20%20%20%20%20%20%20%0A%0A%20%20%20%20%20%20%20%20geo_json_9f37a5cd05a2413889016c6c634a41fe.bindPopup%28popup_7cbae9480b0249af9ec72063da0eb467%29%0A%20%20%20%20%20%20%20%20%3B%0A%0A%20%20%20%20%20%20%20%20%0A%20%20%20%20%0A%20%20%20%20%0A%20%20%20%20%20%20%20%20function%20geo_json_143a911b59eb44dfb9b5cd38b7d03c6f_styler%28feature%29%20%7B%0A%20%20%20%20%20%20%20%20%20%20%20%20switch%28feature.id%29%20%7B%0A%20%20%20%20%20%20%20%20%20%20%20%20%20%20%20%20default%3A%0A%20%20%20%20%20%20%20%20%20%20%20%20%20%20%20%20%20%20%20%20return%20%7B%22fillColor%22%3A%20%22orange%22%7D%3B%0A%20%20%20%20%20%20%20%20%20%20%20%20%7D%0A%20%20%20%20%20%20%20%20%7D%0A%0A%20%20%20%20%20%20%20%20function%20geo_json_143a911b59eb44dfb9b5cd38b7d03c6f_onEachFeature%28feature%2C%20layer%29%20%7B%0A%20%20%20%20%20%20%20%20%20%20%20%20layer.on%28%7B%0A%20%20%20%20%20%20%20%20%20%20%20%20%7D%29%3B%0A%20%20%20%20%20%20%20%20%7D%3B%0A%20%20%20%20%20%20%20%20var%20geo_json_143a911b59eb44dfb9b5cd38b7d03c6f%20%3D%20L.geoJson%28null%2C%20%7B%0A%20%20%20%20%20%20%20%20%20%20%20%20%20%20%20%20onEachFeature%3A%20geo_json_143a911b59eb44dfb9b5cd38b7d03c6f_onEachFeature%2C%0A%20%20%20%20%20%20%20%20%20%20%20%20%0A%20%20%20%20%20%20%20%20%20%20%20%20%20%20%20%20style%3A%20geo_json_143a911b59eb44dfb9b5cd38b7d03c6f_styler%2C%0A%20%20%20%20%20%20%20%20%7D%29%3B%0A%0A%20%20%20%20%20%20%20%20function%20geo_json_143a911b59eb44dfb9b5cd38b7d03c6f_add%20%28data%29%20%7B%0A%20%20%20%20%20%20%20%20%20%20%20%20geo_json_143a911b59eb44dfb9b5cd38b7d03c6f%0A%20%20%20%20%20%20%20%20%20%20%20%20%20%20%20%20.addData%28data%29%0A%20%20%20%20%20%20%20%20%20%20%20%20%20%20%20%20.addTo%28map_42efb046600f4cb1b6ccd37c872314e0%29%3B%0A%20%20%20%20%20%20%20%20%7D%0A%20%20%20%20%20%20%20%20%20%20%20%20geo_json_143a911b59eb44dfb9b5cd38b7d03c6f_add%28%7B%22bbox%22%3A%20%5B-36.976125%2C%20-18.79093388691683%2C%20-23.765%2C%20-1.291236686982832%5D%2C%20%22features%22%3A%20%5B%7B%22bbox%22%3A%20%5B-36.976125%2C%20-18.79093388691683%2C%20-23.765%2C%20-1.291236686982832%5D%2C%20%22geometry%22%3A%20%7B%22coordinates%22%3A%20%5B%5B%5B-36.976125%2C%20-1.291236686982832%5D%2C%20%5B-23.765%2C%20-9.114%5D%2C%20%5B-31.61081794753978%2C%20-18.79093388691683%5D%2C%20%5B-36.976125%2C%20-18.79093388691683%5D%2C%20%5B-36.976125%2C%20-1.291236686982832%5D%5D%5D%2C%20%22type%22%3A%20%22Polygon%22%7D%2C%20%22id%22%3A%20%220%22%2C%20%22properties%22%3A%20%7B%7D%2C%20%22type%22%3A%20%22Feature%22%7D%5D%2C%20%22type%22%3A%20%22FeatureCollection%22%7D%29%3B%0A%0A%20%20%20%20%20%20%20%20%0A%20%20%20%20%0A%20%20%20%20%20%20%20%20var%20popup_d0f80be54cc74c70a7e8c5f2eb5ca9a8%20%3D%20L.popup%28%7B%22maxWidth%22%3A%20%22100%25%22%7D%29%3B%0A%0A%20%20%20%20%20%20%20%20%0A%0A%20%20%20%20%20%20%20%20geo_json_143a911b59eb44dfb9b5cd38b7d03c6f.bindPopup%28popup_d0f80be54cc74c70a7e8c5f2eb5ca9a8%29%0A%20%20%20%20%20%20%20%20%3B%0A%0A%20%20%20%20%20%20%20%20%0A%20%20%20%20%0A%20%20%20%20%0A%20%20%20%20%20%20%20%20function%20geo_json_ed2807e9fb444858bc00899d397a785b_styler%28feature%29%20%7B%0A%20%20%20%20%20%20%20%20%20%20%20%20switch%28feature.id%29%20%7B%0A%20%20%20%20%20%20%20%20%20%20%20%20%20%20%20%20default%3A%0A%20%20%20%20%20%20%20%20%20%20%20%20%20%20%20%20%20%20%20%20return%20%7B%22fillColor%22%3A%20%22orange%22%7D%3B%0A%20%20%20%20%20%20%20%20%20%20%20%20%7D%0A%20%20%20%20%20%20%20%20%7D%0A%0A%20%20%20%20%20%20%20%20function%20geo_json_ed2807e9fb444858bc00899d397a785b_onEachFeature%28feature%2C%20layer%29%20%7B%0A%20%20%20%20%20%20%20%20%20%20%20%20layer.on%28%7B%0A%20%20%20%20%20%20%20%20%20%20%20%20%7D%29%3B%0A%20%20%20%20%20%20%20%20%7D%3B%0A%20%20%20%20%20%20%20%20var%20geo_json_ed2807e9fb444858bc00899d397a785b%20%3D%20L.geoJson%28null%2C%20%7B%0A%20%20%20%20%20%20%20%20%20%20%20%20%20%20%20%20onEachFeature%3A%20geo_json_ed2807e9fb444858bc00899d397a785b_onEachFeature%2C%0A%20%20%20%20%20%20%20%20%20%20%20%20%0A%20%20%20%20%20%20%20%20%20%20%20%20%20%20%20%20style%3A%20geo_json_ed2807e9fb444858bc00899d397a785b_styler%2C%0A%20%20%20%20%20%20%20%20%7D%29%3B%0A%0A%20%20%20%20%20%20%20%20function%20geo_json_ed2807e9fb444858bc00899d397a785b_add%20%28data%29%20%7B%0A%20%20%20%20%20%20%20%20%20%20%20%20geo_json_ed2807e9fb444858bc00899d397a785b%0A%20%20%20%20%20%20%20%20%20%20%20%20%20%20%20%20.addData%28data%29%0A%20%20%20%20%20%20%20%20%20%20%20%20%20%20%20%20.addTo%28map_42efb046600f4cb1b6ccd37c872314e0%29%3B%0A%20%20%20%20%20%20%20%20%7D%0A%20%20%20%20%20%20%20%20%20%20%20%20geo_json_ed2807e9fb444858bc00899d397a785b_add%28%7B%22bbox%22%3A%20%5B-127.1758303127887%2C%20-53.97441602268991%2C%20-76.6095%2C%20-8.368208011344954%5D%2C%20%22features%22%3A%20%5B%7B%22bbox%22%3A%20%5B-127.1758303127887%2C%20-53.97441602268991%2C%20-76.6095%2C%20-8.368208011344954%5D%2C%20%22geometry%22%3A%20%7B%22coordinates%22%3A%20%5B%5B%5B-76.6095%2C%20-8.368208011344954%5D%2C%20%5B-76.6095%2C%20-53.97441602268991%5D%2C%20%5B-126.421%2C%20-23.479%5D%2C%20%5B-127.1758303127887%2C%20-8.368208011344954%5D%2C%20%5B-76.6095%2C%20-8.368208011344954%5D%5D%5D%2C%20%22type%22%3A%20%22Polygon%22%7D%2C%20%22id%22%3A%20%220%22%2C%20%22properties%22%3A%20%7B%7D%2C%20%22type%22%3A%20%22Feature%22%7D%5D%2C%20%22type%22%3A%20%22FeatureCollection%22%7D%29%3B%0A%0A%20%20%20%20%20%20%20%20%0A%20%20%20%20%0A%20%20%20%20%20%20%20%20var%20popup_fa0a7146ee3d4bc488b3ddd9ffa74157%20%3D%20L.popup%28%7B%22maxWidth%22%3A%20%22100%25%22%7D%29%3B%0A%0A%20%20%20%20%20%20%20%20%0A%0A%20%20%20%20%20%20%20%20geo_json_ed2807e9fb444858bc00899d397a785b.bindPopup%28popup_fa0a7146ee3d4bc488b3ddd9ffa74157%29%0A%20%20%20%20%20%20%20%20%3B%0A%0A%20%20%20%20%20%20%20%20%0A%20%20%20%20%0A%20%20%20%20%0A%20%20%20%20%20%20%20%20function%20geo_json_44a5c6a22eee4801ad16dfa0c7ac518f_styler%28feature%29%20%7B%0A%20%20%20%20%20%20%20%20%20%20%20%20switch%28feature.id%29%20%7B%0A%20%20%20%20%20%20%20%20%20%20%20%20%20%20%20%20default%3A%0A%20%20%20%20%20%20%20%20%20%20%20%20%20%20%20%20%20%20%20%20return%20%7B%22fillColor%22%3A%20%22orange%22%7D%3B%0A%20%20%20%20%20%20%20%20%20%20%20%20%7D%0A%20%20%20%20%20%20%20%20%7D%0A%0A%20%20%20%20%20%20%20%20function%20geo_json_44a5c6a22eee4801ad16dfa0c7ac518f_onEachFeature%28feature%2C%20layer%29%20%7B%0A%20%20%20%20%20%20%20%20%20%20%20%20layer.on%28%7B%0A%20%20%20%20%20%20%20%20%20%20%20%20%7D%29%3B%0A%20%20%20%20%20%20%20%20%7D%3B%0A%20%20%20%20%20%20%20%20var%20geo_json_44a5c6a22eee4801ad16dfa0c7ac518f%20%3D%20L.geoJson%28null%2C%20%7B%0A%20%20%20%20%20%20%20%20%20%20%20%20%20%20%20%20onEachFeature%3A%20geo_json_44a5c6a22eee4801ad16dfa0c7ac518f_onEachFeature%2C%0A%20%20%20%20%20%20%20%20%20%20%20%20%0A%20%20%20%20%20%20%20%20%20%20%20%20%20%20%20%20style%3A%20geo_json_44a5c6a22eee4801ad16dfa0c7ac518f_styler%2C%0A%20%20%20%20%20%20%20%20%7D%29%3B%0A%0A%20%20%20%20%20%20%20%20function%20geo_json_44a5c6a22eee4801ad16dfa0c7ac518f_add%20%28data%29%20%7B%0A%20%20%20%20%20%20%20%20%20%20%20%20geo_json_44a5c6a22eee4801ad16dfa0c7ac518f%0A%20%20%20%20%20%20%20%20%20%20%20%20%20%20%20%20.addData%28data%29%0A%20%20%20%20%20%20%20%20%20%20%20%20%20%20%20%20.addTo%28map_42efb046600f4cb1b6ccd37c872314e0%29%3B%0A%20%20%20%20%20%20%20%20%7D%0A%20%20%20%20%20%20%20%20%20%20%20%20geo_json_44a5c6a22eee4801ad16dfa0c7ac518f_add%28%7B%22bbox%22%3A%20%5B-76.6095%2C%2012.65136569789554%2C%20-63.398375%2C%2023.13213222616633%5D%2C%20%22features%22%3A%20%5B%7B%22bbox%22%3A%20%5B-76.6095%2C%2012.65136569789554%2C%20-63.398375%2C%2023.13213222616633%5D%2C%20%22geometry%22%3A%20%7B%22coordinates%22%3A%20%5B%5B%5B-76.6095%2C%2023.13213222616633%5D%2C%20%5B-67.117%2C%2020.333%5D%2C%20%5B-68.721%2C%2017.506%5D%2C%20%5B-63.398375%2C%2014.35428993905152%5D%2C%20%5B-63.398375%2C%2012.65136569789554%5D%2C%20%5B-76.6095%2C%2012.65136569789554%5D%2C%20%5B-76.6095%2C%2023.13213222616633%5D%5D%5D%2C%20%22type%22%3A%20%22Polygon%22%7D%2C%20%22id%22%3A%20%220%22%2C%20%22properties%22%3A%20%7B%7D%2C%20%22type%22%3A%20%22Feature%22%7D%5D%2C%20%22type%22%3A%20%22FeatureCollection%22%7D%29%3B%0A%0A%20%20%20%20%20%20%20%20%0A%20%20%20%20%0A%20%20%20%20%20%20%20%20var%20popup_d454f6e19c044c9f92b2b349da2c8841%20%3D%20L.popup%28%7B%22maxWidth%22%3A%20%22100%25%22%7D%29%3B%0A%0A%20%20%20%20%20%20%20%20%0A%0A%20%20%20%20%20%20%20%20geo_json_44a5c6a22eee4801ad16dfa0c7ac518f.bindPopup%28popup_d454f6e19c044c9f92b2b349da2c8841%29%0A%20%20%20%20%20%20%20%20%3B%0A%0A%20%20%20%20%20%20%20%20%0A%20%20%20%20%0A%20%20%20%20%0A%20%20%20%20%20%20%20%20function%20geo_json_587ff5252a7942fcaa85cbbac5e9c792_styler%28feature%29%20%7B%0A%20%20%20%20%20%20%20%20%20%20%20%20switch%28feature.id%29%20%7B%0A%20%20%20%20%20%20%20%20%20%20%20%20%20%20%20%20default%3A%0A%20%20%20%20%20%20%20%20%20%20%20%20%20%20%20%20%20%20%20%20return%20%7B%22fillColor%22%3A%20%22orange%22%7D%3B%0A%20%20%20%20%20%20%20%20%20%20%20%20%7D%0A%20%20%20%20%20%20%20%20%7D%0A%0A%20%20%20%20%20%20%20%20function%20geo_json_587ff5252a7942fcaa85cbbac5e9c792_onEachFeature%28feature%2C%20layer%29%20%7B%0A%20%20%20%20%20%20%20%20%20%20%20%20layer.on%28%7B%0A%20%20%20%20%20%20%20%20%20%20%20%20%7D%29%3B%0A%20%20%20%20%20%20%20%20%7D%3B%0A%20%20%20%20%20%20%20%20var%20geo_json_587ff5252a7942fcaa85cbbac5e9c792%20%3D%20L.geoJson%28null%2C%20%7B%0A%20%20%20%20%20%20%20%20%20%20%20%20%20%20%20%20onEachFeature%3A%20geo_json_587ff5252a7942fcaa85cbbac5e9c792_onEachFeature%2C%0A%20%20%20%20%20%20%20%20%20%20%20%20%0A%20%20%20%20%20%20%20%20%20%20%20%20%20%20%20%20style%3A%20geo_json_587ff5252a7942fcaa85cbbac5e9c792_styler%2C%0A%20%20%20%20%20%20%20%20%7D%29%3B%0A%0A%20%20%20%20%20%20%20%20function%20geo_json_587ff5252a7942fcaa85cbbac5e9c792_add%20%28data%29%20%7B%0A%20%20%20%20%20%20%20%20%20%20%20%20geo_json_587ff5252a7942fcaa85cbbac5e9c792%0A%20%20%20%20%20%20%20%20%20%20%20%20%20%20%20%20.addData%28data%29%0A%20%20%20%20%20%20%20%20%20%20%20%20%20%20%20%20.addTo%28map_42efb046600f4cb1b6ccd37c872314e0%29%3B%0A%20%20%20%20%20%20%20%20%7D%0A%20%20%20%20%20%20%20%20%20%20%20%20geo_json_587ff5252a7942fcaa85cbbac5e9c792_add%28%7B%22bbox%22%3A%20%5B-96.4261875%2C%2011.04372287936359%2C%20-89.820625%2C%2020.74968832471787%5D%2C%20%22features%22%3A%20%5B%7B%22bbox%22%3A%20%5B-96.4261875%2C%2011.04372287936359%2C%20-89.820625%2C%2020.74968832471787%5D%2C%20%22geometry%22%3A%20%7B%22coordinates%22%3A%20%5B%5B%5B-89.820625%2C%2020.74968832471787%5D%2C%20%5B-89.820625%2C%2011.04372287936359%5D%2C%20%5B-96.4261875%2C%2011.04372287936359%5D%2C%20%5B-96.4261875%2C%2020.74968832471787%5D%2C%20%5B-89.820625%2C%2020.74968832471787%5D%5D%5D%2C%20%22type%22%3A%20%22Polygon%22%7D%2C%20%22id%22%3A%20%220%22%2C%20%22properties%22%3A%20%7B%7D%2C%20%22type%22%3A%20%22Feature%22%7D%5D%2C%20%22type%22%3A%20%22FeatureCollection%22%7D%29%3B%0A%0A%20%20%20%20%20%20%20%20%0A%20%20%20%20%0A%20%20%20%20%20%20%20%20var%20popup_8044ddd47a05482096b86dee6e892f2e%20%3D%20L.popup%28%7B%22maxWidth%22%3A%20%22100%25%22%7D%29%3B%0A%0A%20%20%20%20%20%20%20%20%0A%0A%20%20%20%20%20%20%20%20geo_json_587ff5252a7942fcaa85cbbac5e9c792.bindPopup%28popup_8044ddd47a05482096b86dee6e892f2e%29%0A%20%20%20%20%20%20%20%20%3B%0A%0A%20%20%20%20%20%20%20%20%0A%20%20%20%20%0A%20%20%20%20%0A%20%20%20%20%20%20%20%20function%20geo_json_884bb83f18de4203b5420ec05565481f_styler%28feature%29%20%7B%0A%20%20%20%20%20%20%20%20%20%20%20%20switch%28feature.id%29%20%7B%0A%20%20%20%20%20%20%20%20%20%20%20%20%20%20%20%20default%3A%0A%20%20%20%20%20%20%20%20%20%20%20%20%20%20%20%20%20%20%20%20return%20%7B%22fillColor%22%3A%20%22orange%22%7D%3B%0A%20%20%20%20%20%20%20%20%20%20%20%20%7D%0A%20%20%20%20%20%20%20%20%7D%0A%0A%20%20%20%20%20%20%20%20function%20geo_json_884bb83f18de4203b5420ec05565481f_onEachFeature%28feature%2C%20layer%29%20%7B%0A%20%20%20%20%20%20%20%20%20%20%20%20layer.on%28%7B%0A%20%20%20%20%20%20%20%20%20%20%20%20%7D%29%3B%0A%20%20%20%20%20%20%20%20%7D%3B%0A%20%20%20%20%20%20%20%20var%20geo_json_884bb83f18de4203b5420ec05565481f%20%3D%20L.geoJson%28null%2C%20%7B%0A%20%20%20%20%20%20%20%20%20%20%20%20%20%20%20%20onEachFeature%3A%20geo_json_884bb83f18de4203b5420ec05565481f_onEachFeature%2C%0A%20%20%20%20%20%20%20%20%20%20%20%20%0A%20%20%20%20%20%20%20%20%20%20%20%20%20%20%20%20style%3A%20geo_json_884bb83f18de4203b5420ec05565481f_styler%2C%0A%20%20%20%20%20%20%20%20%7D%29%3B%0A%0A%20%20%20%20%20%20%20%20function%20geo_json_884bb83f18de4203b5420ec05565481f_add%20%28data%29%20%7B%0A%20%20%20%20%20%20%20%20%20%20%20%20geo_json_884bb83f18de4203b5420ec05565481f%0A%20%20%20%20%20%20%20%20%20%20%20%20%20%20%20%20.addData%28data%29%0A%20%20%20%20%20%20%20%20%20%20%20%20%20%20%20%20.addTo%28map_42efb046600f4cb1b6ccd37c872314e0%29%3B%0A%20%20%20%20%20%20%20%20%7D%0A%20%20%20%20%20%20%20%20%20%20%20%20geo_json_884bb83f18de4203b5420ec05565481f_add%28%7B%22bbox%22%3A%20%5B-103.03175%2C%2020.74968832471787%2C%20-89.820625%2C%2030.45565377007214%5D%2C%20%22features%22%3A%20%5B%7B%22bbox%22%3A%20%5B-103.03175%2C%2020.74968832471787%2C%20-89.820625%2C%2030.45565377007214%5D%2C%20%22geometry%22%3A%20%7B%22coordinates%22%3A%20%5B%5B%5B-103.03175%2C%2030.45565377007214%5D%2C%20%5B-90.781%2C%2027.311%5D%2C%20%5B-89.820625%2C%2027.02780625633874%5D%2C%20%5B-89.820625%2C%2020.74968832471787%5D%2C%20%5B-103.03175%2C%2020.74968832471787%5D%2C%20%5B-103.03175%2C%2030.45565377007214%5D%5D%5D%2C%20%22type%22%3A%20%22Polygon%22%7D%2C%20%22id%22%3A%20%220%22%2C%20%22properties%22%3A%20%7B%7D%2C%20%22type%22%3A%20%22Feature%22%7D%5D%2C%20%22type%22%3A%20%22FeatureCollection%22%7D%29%3B%0A%0A%20%20%20%20%20%20%20%20%0A%20%20%20%20%0A%20%20%20%20%20%20%20%20var%20popup_2893d2de60134fc1ae65e2d0cfd56789%20%3D%20L.popup%28%7B%22maxWidth%22%3A%20%22100%25%22%7D%29%3B%0A%0A%20%20%20%20%20%20%20%20%0A%0A%20%20%20%20%20%20%20%20geo_json_884bb83f18de4203b5420ec05565481f.bindPopup%28popup_2893d2de60134fc1ae65e2d0cfd56789%29%0A%20%20%20%20%20%20%20%20%3B%0A%0A%20%20%20%20%20%20%20%20%0A%20%20%20%20%0A%20%20%20%20%0A%20%20%20%20%20%20%20%20function%20geo_json_30bbb622382147b2b3a4dc551d6bf8c6_styler%28feature%29%20%7B%0A%20%20%20%20%20%20%20%20%20%20%20%20switch%28feature.id%29%20%7B%0A%20%20%20%20%20%20%20%20%20%20%20%20%20%20%20%20default%3A%0A%20%20%20%20%20%20%20%20%20%20%20%20%20%20%20%20%20%20%20%20return%20%7B%22fillColor%22%3A%20%22orange%22%7D%3B%0A%20%20%20%20%20%20%20%20%20%20%20%20%7D%0A%20%20%20%20%20%20%20%20%7D%0A%0A%20%20%20%20%20%20%20%20function%20geo_json_30bbb622382147b2b3a4dc551d6bf8c6_onEachFeature%28feature%2C%20layer%29%20%7B%0A%20%20%20%20%20%20%20%20%20%20%20%20layer.on%28%7B%0A%20%20%20%20%20%20%20%20%20%20%20%20%7D%29%3B%0A%20%20%20%20%20%20%20%20%7D%3B%0A%20%20%20%20%20%20%20%20var%20geo_json_30bbb622382147b2b3a4dc551d6bf8c6%20%3D%20L.geoJson%28null%2C%20%7B%0A%20%20%20%20%20%20%20%20%20%20%20%20%20%20%20%20onEachFeature%3A%20geo_json_30bbb622382147b2b3a4dc551d6bf8c6_onEachFeature%2C%0A%20%20%20%20%20%20%20%20%20%20%20%20%0A%20%20%20%20%20%20%20%20%20%20%20%20%20%20%20%20style%3A%20geo_json_30bbb622382147b2b3a4dc551d6bf8c6_styler%2C%0A%20%20%20%20%20%20%20%20%7D%29%3B%0A%0A%20%20%20%20%20%20%20%20function%20geo_json_30bbb622382147b2b3a4dc551d6bf8c6_add%20%28data%29%20%7B%0A%20%20%20%20%20%20%20%20%20%20%20%20geo_json_30bbb622382147b2b3a4dc551d6bf8c6%0A%20%20%20%20%20%20%20%20%20%20%20%20%20%20%20%20.addData%28data%29%0A%20%20%20%20%20%20%20%20%20%20%20%20%20%20%20%20.addTo%28map_42efb046600f4cb1b6ccd37c872314e0%29%3B%0A%20%20%20%20%20%20%20%20%7D%0A%20%20%20%20%20%20%20%20%20%20%20%20geo_json_30bbb622382147b2b3a4dc551d6bf8c6_add%28%7B%22bbox%22%3A%20%5B-76.6095%2C%20-18.79093388691683%2C%20-50.18725%2C%202.170599169624747%5D%2C%20%22features%22%3A%20%5B%7B%22bbox%22%3A%20%5B-76.6095%2C%20-18.79093388691683%2C%20-50.18725%2C%202.170599169624747%5D%2C%20%22geometry%22%3A%20%7B%22coordinates%22%3A%20%5B%5B%5B-50.18725%2C%202.170599169624747%5D%2C%20%5B-50.18725%2C%20-18.79093388691683%5D%2C%20%5B-76.6095%2C%20-18.79093388691683%5D%2C%20%5B-76.6095%2C%202.170599169624747%5D%2C%20%5B-50.18725%2C%202.170599169624747%5D%5D%5D%2C%20%22type%22%3A%20%22Polygon%22%7D%2C%20%22id%22%3A%20%220%22%2C%20%22properties%22%3A%20%7B%7D%2C%20%22type%22%3A%20%22Feature%22%7D%5D%2C%20%22type%22%3A%20%22FeatureCollection%22%7D%29%3B%0A%0A%20%20%20%20%20%20%20%20%0A%20%20%20%20%0A%20%20%20%20%20%20%20%20var%20popup_685a151df73c4fd695929c50bf3bb4fb%20%3D%20L.popup%28%7B%22maxWidth%22%3A%20%22100%25%22%7D%29%3B%0A%0A%20%20%20%20%20%20%20%20%0A%0A%20%20%20%20%20%20%20%20geo_json_30bbb622382147b2b3a4dc551d6bf8c6.bindPopup%28popup_685a151df73c4fd695929c50bf3bb4fb%29%0A%20%20%20%20%20%20%20%20%3B%0A%0A%20%20%20%20%20%20%20%20%0A%20%20%20%20%0A%20%20%20%20%0A%20%20%20%20%20%20%20%20function%20geo_json_289591df01554fca9b0a14c197c1264f_styler%28feature%29%20%7B%0A%20%20%20%20%20%20%20%20%20%20%20%20switch%28feature.id%29%20%7B%0A%20%20%20%20%20%20%20%20%20%20%20%20%20%20%20%20default%3A%0A%20%20%20%20%20%20%20%20%20%20%20%20%20%20%20%20%20%20%20%20return%20%7B%22fillColor%22%3A%20%22orange%22%7D%3B%0A%20%20%20%20%20%20%20%20%20%20%20%20%7D%0A%20%20%20%20%20%20%20%20%7D%0A%0A%20%20%20%20%20%20%20%20function%20geo_json_289591df01554fca9b0a14c197c1264f_onEachFeature%28feature%2C%20layer%29%20%7B%0A%20%20%20%20%20%20%20%20%20%20%20%20layer.on%28%7B%0A%20%20%20%20%20%20%20%20%20%20%20%20%7D%29%3B%0A%20%20%20%20%20%20%20%20%7D%3B%0A%20%20%20%20%20%20%20%20var%20geo_json_289591df01554fca9b0a14c197c1264f%20%3D%20L.geoJson%28null%2C%20%7B%0A%20%20%20%20%20%20%20%20%20%20%20%20%20%20%20%20onEachFeature%3A%20geo_json_289591df01554fca9b0a14c197c1264f_onEachFeature%2C%0A%20%20%20%20%20%20%20%20%20%20%20%20%0A%20%20%20%20%20%20%20%20%20%20%20%20%20%20%20%20style%3A%20geo_json_289591df01554fca9b0a14c197c1264f_styler%2C%0A%20%20%20%20%20%20%20%20%7D%29%3B%0A%0A%20%20%20%20%20%20%20%20function%20geo_json_289591df01554fca9b0a14c197c1264f_add%20%28data%29%20%7B%0A%20%20%20%20%20%20%20%20%20%20%20%20geo_json_289591df01554fca9b0a14c197c1264f%0A%20%20%20%20%20%20%20%20%20%20%20%20%20%20%20%20.addData%28data%29%0A%20%20%20%20%20%20%20%20%20%20%20%20%20%20%20%20.addTo%28map_42efb046600f4cb1b6ccd37c872314e0%29%3B%0A%20%20%20%20%20%20%20%20%7D%0A%20%20%20%20%20%20%20%20%20%20%20%20geo_json_289591df01554fca9b0a14c197c1264f_add%28%7B%22bbox%22%3A%20%5B-89.820625%2C%2011.04372287936359%2C%20-76.6095%2C%2027.02780625633874%5D%2C%20%22features%22%3A%20%5B%7B%22bbox%22%3A%20%5B-89.820625%2C%2011.04372287936359%2C%20-76.6095%2C%2027.02780625633874%5D%2C%20%22geometry%22%3A%20%7B%22coordinates%22%3A%20%5B%5B%5B-89.820625%2C%2027.02780625633874%5D%2C%20%5B-76.6095%2C%2023.13213222616633%5D%2C%20%5B-76.6095%2C%2011.04372287936359%5D%2C%20%5B-89.820625%2C%2011.04372287936359%5D%2C%20%5B-89.820625%2C%2027.02780625633874%5D%5D%5D%2C%20%22type%22%3A%20%22Polygon%22%7D%2C%20%22id%22%3A%20%220%22%2C%20%22properties%22%3A%20%7B%7D%2C%20%22type%22%3A%20%22Feature%22%7D%5D%2C%20%22type%22%3A%20%22FeatureCollection%22%7D%29%3B%0A%0A%20%20%20%20%20%20%20%20%0A%20%20%20%20%0A%20%20%20%20%20%20%20%20var%20popup_c9070fcf9dc74c38a5c85f1fc79b7290%20%3D%20L.popup%28%7B%22maxWidth%22%3A%20%22100%25%22%7D%29%3B%0A%0A%20%20%20%20%20%20%20%20%0A%0A%20%20%20%20%20%20%20%20geo_json_289591df01554fca9b0a14c197c1264f.bindPopup%28popup_c9070fcf9dc74c38a5c85f1fc79b7290%29%0A%20%20%20%20%20%20%20%20%3B%0A%0A%20%20%20%20%20%20%20%20%0A%20%20%20%20%0A%20%20%20%20%0A%20%20%20%20%20%20%20%20function%20geo_json_6eea40b8aedf426c84f19b7964222ea8_styler%28feature%29%20%7B%0A%20%20%20%20%20%20%20%20%20%20%20%20switch%28feature.id%29%20%7B%0A%20%20%20%20%20%20%20%20%20%20%20%20%20%20%20%20default%3A%0A%20%20%20%20%20%20%20%20%20%20%20%20%20%20%20%20%20%20%20%20return%20%7B%22fillColor%22%3A%20%22orange%22%7D%3B%0A%20%20%20%20%20%20%20%20%20%20%20%20%7D%0A%20%20%20%20%20%20%20%20%7D%0A%0A%20%20%20%20%20%20%20%20function%20geo_json_6eea40b8aedf426c84f19b7964222ea8_onEachFeature%28feature%2C%20layer%29%20%7B%0A%20%20%20%20%20%20%20%20%20%20%20%20layer.on%28%7B%0A%20%20%20%20%20%20%20%20%20%20%20%20%7D%29%3B%0A%20%20%20%20%20%20%20%20%7D%3B%0A%20%20%20%20%20%20%20%20var%20geo_json_6eea40b8aedf426c84f19b7964222ea8%20%3D%20L.geoJson%28null%2C%20%7B%0A%20%20%20%20%20%20%20%20%20%20%20%20%20%20%20%20onEachFeature%3A%20geo_json_6eea40b8aedf426c84f19b7964222ea8_onEachFeature%2C%0A%20%20%20%20%20%20%20%20%20%20%20%20%0A%20%20%20%20%20%20%20%20%20%20%20%20%20%20%20%20style%3A%20geo_json_6eea40b8aedf426c84f19b7964222ea8_styler%2C%0A%20%20%20%20%20%20%20%20%7D%29%3B%0A%0A%20%20%20%20%20%20%20%20function%20geo_json_6eea40b8aedf426c84f19b7964222ea8_add%20%28data%29%20%7B%0A%20%20%20%20%20%20%20%20%20%20%20%20geo_json_6eea40b8aedf426c84f19b7964222ea8%0A%20%20%20%20%20%20%20%20%20%20%20%20%20%20%20%20.addData%28data%29%0A%20%20%20%20%20%20%20%20%20%20%20%20%20%20%20%20.addTo%28map_42efb046600f4cb1b6ccd37c872314e0%29%3B%0A%20%20%20%20%20%20%20%20%7D%0A%20%20%20%20%20%20%20%20%20%20%20%20geo_json_6eea40b8aedf426c84f19b7964222ea8_add%28%7B%22bbox%22%3A%20%5B-45.6729060889336%2C%20-25.72853545586148%2C%20-42.86048846065484%2C%20-22.25973467138916%5D%2C%20%22features%22%3A%20%5B%7B%22bbox%22%3A%20%5B-45.6729060889336%2C%20-25.72853545586148%2C%20-42.86048846065484%2C%20-22.25973467138916%5D%2C%20%22geometry%22%3A%20%7B%22coordinates%22%3A%20%5B%5B%5B-42.86048846065484%2C%20-22.25973467138916%5D%2C%20%5B-42.86048846065484%2C%20-25.72853545586148%5D%2C%20%5B-45.6729060889336%2C%20-25.72853545586148%5D%2C%20%5B-45.6729060889336%2C%20-22.25973467138916%5D%2C%20%5B-42.86048846065484%2C%20-22.25973467138916%5D%5D%5D%2C%20%22type%22%3A%20%22Polygon%22%7D%2C%20%22id%22%3A%20%220%22%2C%20%22properties%22%3A%20%7B%7D%2C%20%22type%22%3A%20%22Feature%22%7D%5D%2C%20%22type%22%3A%20%22FeatureCollection%22%7D%29%3B%0A%0A%20%20%20%20%20%20%20%20%0A%20%20%20%20%0A%20%20%20%20%20%20%20%20var%20popup_eecef50a55a347a09f75198784d84b3c%20%3D%20L.popup%28%7B%22maxWidth%22%3A%20%22100%25%22%7D%29%3B%0A%0A%20%20%20%20%20%20%20%20%0A%0A%20%20%20%20%20%20%20%20geo_json_6eea40b8aedf426c84f19b7964222ea8.bindPopup%28popup_eecef50a55a347a09f75198784d84b3c%29%0A%20%20%20%20%20%20%20%20%3B%0A%0A%20%20%20%20%20%20%20%20%0A%20%20%20%20%0A%20%20%20%20%0A%20%20%20%20%20%20%20%20function%20geo_json_a6864cc28dbd4ec8aa823a72776dbdd0_styler%28feature%29%20%7B%0A%20%20%20%20%20%20%20%20%20%20%20%20switch%28feature.id%29%20%7B%0A%20%20%20%20%20%20%20%20%20%20%20%20%20%20%20%20default%3A%0A%20%20%20%20%20%20%20%20%20%20%20%20%20%20%20%20%20%20%20%20return%20%7B%22fillColor%22%3A%20%22orange%22%7D%3B%0A%20%20%20%20%20%20%20%20%20%20%20%20%7D%0A%20%20%20%20%20%20%20%20%7D%0A%0A%20%20%20%20%20%20%20%20function%20geo_json_a6864cc28dbd4ec8aa823a72776dbdd0_onEachFeature%28feature%2C%20layer%29%20%7B%0A%20%20%20%20%20%20%20%20%20%20%20%20layer.on%28%7B%0A%20%20%20%20%20%20%20%20%20%20%20%20%7D%29%3B%0A%20%20%20%20%20%20%20%20%7D%3B%0A%20%20%20%20%20%20%20%20var%20geo_json_a6864cc28dbd4ec8aa823a72776dbdd0%20%3D%20L.geoJson%28null%2C%20%7B%0A%20%20%20%20%20%20%20%20%20%20%20%20%20%20%20%20onEachFeature%3A%20geo_json_a6864cc28dbd4ec8aa823a72776dbdd0_onEachFeature%2C%0A%20%20%20%20%20%20%20%20%20%20%20%20%0A%20%20%20%20%20%20%20%20%20%20%20%20%20%20%20%20style%3A%20geo_json_a6864cc28dbd4ec8aa823a72776dbdd0_styler%2C%0A%20%20%20%20%20%20%20%20%7D%29%3B%0A%0A%20%20%20%20%20%20%20%20function%20geo_json_a6864cc28dbd4ec8aa823a72776dbdd0_add%20%28data%29%20%7B%0A%20%20%20%20%20%20%20%20%20%20%20%20geo_json_a6864cc28dbd4ec8aa823a72776dbdd0%0A%20%20%20%20%20%20%20%20%20%20%20%20%20%20%20%20.addData%28data%29%0A%20%20%20%20%20%20%20%20%20%20%20%20%20%20%20%20.addTo%28map_42efb046600f4cb1b6ccd37c872314e0%29%3B%0A%20%20%20%20%20%20%20%20%7D%0A%20%20%20%20%20%20%20%20%20%20%20%20geo_json_a6864cc28dbd4ec8aa823a72776dbdd0_add%28%7B%22bbox%22%3A%20%5B-54.11015897376988%2C%20-25.72853545586148%2C%20-48.48532371721236%2C%20-18.79093388691683%5D%2C%20%22features%22%3A%20%5B%7B%22bbox%22%3A%20%5B-54.11015897376988%2C%20-25.72853545586148%2C%20-48.48532371721236%2C%20-18.79093388691683%5D%2C%20%22geometry%22%3A%20%7B%22coordinates%22%3A%20%5B%5B%5B-54.11015897376988%2C%20-25.72853545586148%5D%2C%20%5B-54.11015897376988%2C%20-18.79093388691683%5D%2C%20%5B-48.48532371721236%2C%20-18.79093388691683%5D%2C%20%5B-48.48532371721236%2C%20-25.72853545586148%5D%2C%20%5B-54.11015897376988%2C%20-25.72853545586148%5D%5D%5D%2C%20%22type%22%3A%20%22Polygon%22%7D%2C%20%22id%22%3A%20%220%22%2C%20%22properties%22%3A%20%7B%7D%2C%20%22type%22%3A%20%22Feature%22%7D%5D%2C%20%22type%22%3A%20%22FeatureCollection%22%7D%29%3B%0A%0A%20%20%20%20%20%20%20%20%0A%20%20%20%20%0A%20%20%20%20%20%20%20%20var%20popup_4d1ce88362fc457fb8c1469a5b295879%20%3D%20L.popup%28%7B%22maxWidth%22%3A%20%22100%25%22%7D%29%3B%0A%0A%20%20%20%20%20%20%20%20%0A%0A%20%20%20%20%20%20%20%20geo_json_a6864cc28dbd4ec8aa823a72776dbdd0.bindPopup%28popup_4d1ce88362fc457fb8c1469a5b295879%29%0A%20%20%20%20%20%20%20%20%3B%0A%0A%20%20%20%20%20%20%20%20%0A%20%20%20%20%0A%20%20%20%20%0A%20%20%20%20%20%20%20%20function%20geo_json_af9df866634d490daa3450afa7f0e23f_styler%28feature%29%20%7B%0A%20%20%20%20%20%20%20%20%20%20%20%20switch%28feature.id%29%20%7B%0A%20%20%20%20%20%20%20%20%20%20%20%20%20%20%20%20default%3A%0A%20%20%20%20%20%20%20%20%20%20%20%20%20%20%20%20%20%20%20%20return%20%7B%22fillColor%22%3A%20%22orange%22%7D%3B%0A%20%20%20%20%20%20%20%20%20%20%20%20%7D%0A%20%20%20%20%20%20%20%20%7D%0A%0A%20%20%20%20%20%20%20%20function%20geo_json_af9df866634d490daa3450afa7f0e23f_onEachFeature%28feature%2C%20layer%29%20%7B%0A%20%20%20%20%20%20%20%20%20%20%20%20layer.on%28%7B%0A%20%20%20%20%20%20%20%20%20%20%20%20%7D%29%3B%0A%20%20%20%20%20%20%20%20%7D%3B%0A%20%20%20%20%20%20%20%20var%20geo_json_af9df866634d490daa3450afa7f0e23f%20%3D%20L.geoJson%28null%2C%20%7B%0A%20%20%20%20%20%20%20%20%20%20%20%20%20%20%20%20onEachFeature%3A%20geo_json_af9df866634d490daa3450afa7f0e23f_onEachFeature%2C%0A%20%20%20%20%20%20%20%20%20%20%20%20%0A%20%20%20%20%20%20%20%20%20%20%20%20%20%20%20%20style%3A%20geo_json_af9df866634d490daa3450afa7f0e23f_styler%2C%0A%20%20%20%20%20%20%20%20%7D%29%3B%0A%0A%20%20%20%20%20%20%20%20function%20geo_json_af9df866634d490daa3450afa7f0e23f_add%20%28data%29%20%7B%0A%20%20%20%20%20%20%20%20%20%20%20%20geo_json_af9df866634d490daa3450afa7f0e23f%0A%20%20%20%20%20%20%20%20%20%20%20%20%20%20%20%20.addData%28data%29%0A%20%20%20%20%20%20%20%20%20%20%20%20%20%20%20%20.addTo%28map_42efb046600f4cb1b6ccd37c872314e0%29%3B%0A%20%20%20%20%20%20%20%20%7D%0A%20%20%20%20%20%20%20%20%20%20%20%20geo_json_af9df866634d490daa3450afa7f0e23f_add%28%7B%22bbox%22%3A%20%5B-129.454%2C%20-8.368208011344954%2C%20-103.03175%2C%2037.238%5D%2C%20%22features%22%3A%20%5B%7B%22bbox%22%3A%20%5B-129.454%2C%20-8.368208011344954%2C%20-103.03175%2C%2037.238%5D%2C%20%22geometry%22%3A%20%7B%22coordinates%22%3A%20%5B%5B%5B-129.454%2C%2037.238%5D%2C%20%5B-103.03175%2C%2030.45565377007214%5D%2C%20%5B-103.03175%2C%20-8.368208011344954%5D%2C%20%5B-127.1758303127887%2C%20-8.368208011344954%5D%2C%20%5B-129.454%2C%2037.238%5D%5D%5D%2C%20%22type%22%3A%20%22Polygon%22%7D%2C%20%22id%22%3A%20%220%22%2C%20%22properties%22%3A%20%7B%7D%2C%20%22type%22%3A%20%22Feature%22%7D%5D%2C%20%22type%22%3A%20%22FeatureCollection%22%7D%29%3B%0A%0A%20%20%20%20%20%20%20%20%0A%20%20%20%20%0A%20%20%20%20%20%20%20%20var%20popup_355fe5f623404805824aee7511bce9c4%20%3D%20L.popup%28%7B%22maxWidth%22%3A%20%22100%25%22%7D%29%3B%0A%0A%20%20%20%20%20%20%20%20%0A%0A%20%20%20%20%20%20%20%20geo_json_af9df866634d490daa3450afa7f0e23f.bindPopup%28popup_355fe5f623404805824aee7511bce9c4%29%0A%20%20%20%20%20%20%20%20%3B%0A%0A%20%20%20%20%20%20%20%20%0A%20%20%20%20%0A%20%20%20%20%0A%20%20%20%20%20%20%20%20function%20geo_json_d7254724eda2427095806eb0a8376df1_styler%28feature%29%20%7B%0A%20%20%20%20%20%20%20%20%20%20%20%20switch%28feature.id%29%20%7B%0A%20%20%20%20%20%20%20%20%20%20%20%20%20%20%20%20default%3A%0A%20%20%20%20%20%20%20%20%20%20%20%20%20%20%20%20%20%20%20%20return%20%7B%22fillColor%22%3A%20%22orange%22%7D%3B%0A%20%20%20%20%20%20%20%20%20%20%20%20%7D%0A%20%20%20%20%20%20%20%20%7D%0A%0A%20%20%20%20%20%20%20%20function%20geo_json_d7254724eda2427095806eb0a8376df1_onEachFeature%28feature%2C%20layer%29%20%7B%0A%20%20%20%20%20%20%20%20%20%20%20%20layer.on%28%7B%0A%20%20%20%20%20%20%20%20%20%20%20%20%7D%29%3B%0A%20%20%20%20%20%20%20%20%7D%3B%0A%20%20%20%20%20%20%20%20var%20geo_json_d7254724eda2427095806eb0a8376df1%20%3D%20L.geoJson%28null%2C%20%7B%0A%20%20%20%20%20%20%20%20%20%20%20%20%20%20%20%20onEachFeature%3A%20geo_json_d7254724eda2427095806eb0a8376df1_onEachFeature%2C%0A%20%20%20%20%20%20%20%20%20%20%20%20%0A%20%20%20%20%20%20%20%20%20%20%20%20%20%20%20%20style%3A%20geo_json_d7254724eda2427095806eb0a8376df1_styler%2C%0A%20%20%20%20%20%20%20%20%7D%29%3B%0A%0A%20%20%20%20%20%20%20%20function%20geo_json_d7254724eda2427095806eb0a8376df1_add%20%28data%29%20%7B%0A%20%20%20%20%20%20%20%20%20%20%20%20geo_json_d7254724eda2427095806eb0a8376df1%0A%20%20%20%20%20%20%20%20%20%20%20%20%20%20%20%20.addData%28data%29%0A%20%20%20%20%20%20%20%20%20%20%20%20%20%20%20%20.addTo%28map_42efb046600f4cb1b6ccd37c872314e0%29%3B%0A%20%20%20%20%20%20%20%20%7D%0A%20%20%20%20%20%20%20%20%20%20%20%20geo_json_d7254724eda2427095806eb0a8376df1_add%28%7B%22bbox%22%3A%20%5B-48.48532371721236%2C%20-22.25973467138916%2C%20-42.86048846065484%2C%20-18.79093388691683%5D%2C%20%22features%22%3A%20%5B%7B%22bbox%22%3A%20%5B-48.48532371721236%2C%20-22.25973467138916%2C%20-42.86048846065484%2C%20-18.79093388691683%5D%2C%20%22geometry%22%3A%20%7B%22coordinates%22%3A%20%5B%5B%5B-48.48532371721236%2C%20-18.79093388691683%5D%2C%20%5B-42.86048846065484%2C%20-18.79093388691683%5D%2C%20%5B-42.86048846065484%2C%20-22.25973467138916%5D%2C%20%5B-48.48532371721236%2C%20-22.25973467138916%5D%2C%20%5B-48.48532371721236%2C%20-18.79093388691683%5D%5D%5D%2C%20%22type%22%3A%20%22Polygon%22%7D%2C%20%22id%22%3A%20%220%22%2C%20%22properties%22%3A%20%7B%7D%2C%20%22type%22%3A%20%22Feature%22%7D%5D%2C%20%22type%22%3A%20%22FeatureCollection%22%7D%29%3B%0A%0A%20%20%20%20%20%20%20%20%0A%20%20%20%20%0A%20%20%20%20%20%20%20%20var%20popup_a00f5420a7ed4f32967d4a9ba7ee6d42%20%3D%20L.popup%28%7B%22maxWidth%22%3A%20%22100%25%22%7D%29%3B%0A%0A%20%20%20%20%20%20%20%20%0A%0A%20%20%20%20%20%20%20%20geo_json_d7254724eda2427095806eb0a8376df1.bindPopup%28popup_a00f5420a7ed4f32967d4a9ba7ee6d42%29%0A%20%20%20%20%20%20%20%20%3B%0A%0A%20%20%20%20%20%20%20%20%0A%20%20%20%20%0A%20%20%20%20%0A%20%20%20%20%20%20%20%20function%20geo_json_bb0eb9a57f2e4da0bbd4e775ebaaa8bb_styler%28feature%29%20%7B%0A%20%20%20%20%20%20%20%20%20%20%20%20switch%28feature.id%29%20%7B%0A%20%20%20%20%20%20%20%20%20%20%20%20%20%20%20%20default%3A%0A%20%20%20%20%20%20%20%20%20%20%20%20%20%20%20%20%20%20%20%20return%20%7B%22fillColor%22%3A%20%22orange%22%7D%3B%0A%20%20%20%20%20%20%20%20%20%20%20%20%7D%0A%20%20%20%20%20%20%20%20%7D%0A%0A%20%20%20%20%20%20%20%20function%20geo_json_bb0eb9a57f2e4da0bbd4e775ebaaa8bb_onEachFeature%28feature%2C%20layer%29%20%7B%0A%20%20%20%20%20%20%20%20%20%20%20%20layer.on%28%7B%0A%20%20%20%20%20%20%20%20%20%20%20%20%7D%29%3B%0A%20%20%20%20%20%20%20%20%7D%3B%0A%20%20%20%20%20%20%20%20var%20geo_json_bb0eb9a57f2e4da0bbd4e775ebaaa8bb%20%3D%20L.geoJson%28null%2C%20%7B%0A%20%20%20%20%20%20%20%20%20%20%20%20%20%20%20%20onEachFeature%3A%20geo_json_bb0eb9a57f2e4da0bbd4e775ebaaa8bb_onEachFeature%2C%0A%20%20%20%20%20%20%20%20%20%20%20%20%0A%20%20%20%20%20%20%20%20%20%20%20%20%20%20%20%20style%3A%20geo_json_bb0eb9a57f2e4da0bbd4e775ebaaa8bb_styler%2C%0A%20%20%20%20%20%20%20%20%7D%29%3B%0A%0A%20%20%20%20%20%20%20%20function%20geo_json_bb0eb9a57f2e4da0bbd4e775ebaaa8bb_add%20%28data%29%20%7B%0A%20%20%20%20%20%20%20%20%20%20%20%20geo_json_bb0eb9a57f2e4da0bbd4e775ebaaa8bb%0A%20%20%20%20%20%20%20%20%20%20%20%20%20%20%20%20.addData%28data%29%0A%20%20%20%20%20%20%20%20%20%20%20%20%20%20%20%20.addTo%28map_42efb046600f4cb1b6ccd37c872314e0%29%3B%0A%20%20%20%20%20%20%20%20%7D%0A%20%20%20%20%20%20%20%20%20%20%20%20geo_json_bb0eb9a57f2e4da0bbd4e775ebaaa8bb_add%28%7B%22bbox%22%3A%20%5B-54.11015897376988%2C%20-32.66613702480613%2C%20-42.86048846065484%2C%20-25.72853545586148%5D%2C%20%22features%22%3A%20%5B%7B%22bbox%22%3A%20%5B-54.11015897376988%2C%20-32.66613702480613%2C%20-42.86048846065484%2C%20-25.72853545586148%5D%2C%20%22geometry%22%3A%20%7B%22coordinates%22%3A%20%5B%5B%5B-42.86048846065484%2C%20-32.66613702480613%5D%2C%20%5B-54.11015897376988%2C%20-32.66613702480613%5D%2C%20%5B-54.11015897376988%2C%20-25.72853545586148%5D%2C%20%5B-42.86048846065484%2C%20-25.72853545586148%5D%2C%20%5B-42.86048846065484%2C%20-32.66613702480613%5D%5D%5D%2C%20%22type%22%3A%20%22Polygon%22%7D%2C%20%22id%22%3A%20%220%22%2C%20%22properties%22%3A%20%7B%7D%2C%20%22type%22%3A%20%22Feature%22%7D%5D%2C%20%22type%22%3A%20%22FeatureCollection%22%7D%29%3B%0A%0A%20%20%20%20%20%20%20%20%0A%20%20%20%20%0A%20%20%20%20%20%20%20%20var%20popup_1e8a22bbeb1f4e14ae35c142378f39f4%20%3D%20L.popup%28%7B%22maxWidth%22%3A%20%22100%25%22%7D%29%3B%0A%0A%20%20%20%20%20%20%20%20%0A%0A%20%20%20%20%20%20%20%20geo_json_bb0eb9a57f2e4da0bbd4e775ebaaa8bb.bindPopup%28popup_1e8a22bbeb1f4e14ae35c142378f39f4%29%0A%20%20%20%20%20%20%20%20%3B%0A%0A%20%20%20%20%20%20%20%20%0A%20%20%20%20%0A%20%20%20%20%0A%20%20%20%20%20%20%20%20function%20geo_json_6b37560df1414a31940327d0169f7651_styler%28feature%29%20%7B%0A%20%20%20%20%20%20%20%20%20%20%20%20switch%28feature.id%29%20%7B%0A%20%20%20%20%20%20%20%20%20%20%20%20%20%20%20%20default%3A%0A%20%20%20%20%20%20%20%20%20%20%20%20%20%20%20%20%20%20%20%20return%20%7B%22fillColor%22%3A%20%22orange%22%7D%3B%0A%20%20%20%20%20%20%20%20%20%20%20%20%7D%0A%20%20%20%20%20%20%20%20%7D%0A%0A%20%20%20%20%20%20%20%20function%20geo_json_6b37560df1414a31940327d0169f7651_onEachFeature%28feature%2C%20layer%29%20%7B%0A%20%20%20%20%20%20%20%20%20%20%20%20layer.on%28%7B%0A%20%20%20%20%20%20%20%20%20%20%20%20%7D%29%3B%0A%20%20%20%20%20%20%20%20%7D%3B%0A%20%20%20%20%20%20%20%20var%20geo_json_6b37560df1414a31940327d0169f7651%20%3D%20L.geoJson%28null%2C%20%7B%0A%20%20%20%20%20%20%20%20%20%20%20%20%20%20%20%20onEachFeature%3A%20geo_json_6b37560df1414a31940327d0169f7651_onEachFeature%2C%0A%20%20%20%20%20%20%20%20%20%20%20%20%0A%20%20%20%20%20%20%20%20%20%20%20%20%20%20%20%20style%3A%20geo_json_6b37560df1414a31940327d0169f7651_styler%2C%0A%20%20%20%20%20%20%20%20%7D%29%3B%0A%0A%20%20%20%20%20%20%20%20function%20geo_json_6b37560df1414a31940327d0169f7651_add%20%28data%29%20%7B%0A%20%20%20%20%20%20%20%20%20%20%20%20geo_json_6b37560df1414a31940327d0169f7651%0A%20%20%20%20%20%20%20%20%20%20%20%20%20%20%20%20.addData%28data%29%0A%20%20%20%20%20%20%20%20%20%20%20%20%20%20%20%20.addTo%28map_42efb046600f4cb1b6ccd37c872314e0%29%3B%0A%20%20%20%20%20%20%20%20%7D%0A%20%20%20%20%20%20%20%20%20%20%20%20geo_json_6b37560df1414a31940327d0169f7651_add%28%7B%22bbox%22%3A%20%5B-103.03175%2C%20-8.368208011344954%2C%20-76.6095%2C%2011.04372287936359%5D%2C%20%22features%22%3A%20%5B%7B%22bbox%22%3A%20%5B-103.03175%2C%20-8.368208011344954%2C%20-76.6095%2C%2011.04372287936359%5D%2C%20%22geometry%22%3A%20%7B%22coordinates%22%3A%20%5B%5B%5B-76.6095%2C%2011.04372287936359%5D%2C%20%5B-76.6095%2C%20-8.368208011344954%5D%2C%20%5B-103.03175%2C%20-8.368208011344954%5D%2C%20%5B-103.03175%2C%2011.04372287936359%5D%2C%20%5B-76.6095%2C%2011.04372287936359%5D%5D%5D%2C%20%22type%22%3A%20%22Polygon%22%7D%2C%20%22id%22%3A%20%220%22%2C%20%22properties%22%3A%20%7B%7D%2C%20%22type%22%3A%20%22Feature%22%7D%5D%2C%20%22type%22%3A%20%22FeatureCollection%22%7D%29%3B%0A%0A%20%20%20%20%20%20%20%20%0A%20%20%20%20%0A%20%20%20%20%20%20%20%20var%20popup_c1c20631f25e4c5a95d8c0e459ae82f0%20%3D%20L.popup%28%7B%22maxWidth%22%3A%20%22100%25%22%7D%29%3B%0A%0A%20%20%20%20%20%20%20%20%0A%0A%20%20%20%20%20%20%20%20geo_json_6b37560df1414a31940327d0169f7651.bindPopup%28popup_c1c20631f25e4c5a95d8c0e459ae82f0%29%0A%20%20%20%20%20%20%20%20%3B%0A%0A%20%20%20%20%20%20%20%20%0A%20%20%20%20%0A%20%20%20%20%0A%20%20%20%20%20%20%20%20function%20geo_json_b9b96b261e734e49a9c3a601cbd6a379_styler%28feature%29%20%7B%0A%20%20%20%20%20%20%20%20%20%20%20%20switch%28feature.id%29%20%7B%0A%20%20%20%20%20%20%20%20%20%20%20%20%20%20%20%20default%3A%0A%20%20%20%20%20%20%20%20%20%20%20%20%20%20%20%20%20%20%20%20return%20%7B%22fillColor%22%3A%20%22orange%22%7D%3B%0A%20%20%20%20%20%20%20%20%20%20%20%20%7D%0A%20%20%20%20%20%20%20%20%7D%0A%0A%20%20%20%20%20%20%20%20function%20geo_json_b9b96b261e734e49a9c3a601cbd6a379_onEachFeature%28feature%2C%20layer%29%20%7B%0A%20%20%20%20%20%20%20%20%20%20%20%20layer.on%28%7B%0A%20%20%20%20%20%20%20%20%20%20%20%20%7D%29%3B%0A%20%20%20%20%20%20%20%20%7D%3B%0A%20%20%20%20%20%20%20%20var%20geo_json_b9b96b261e734e49a9c3a601cbd6a379%20%3D%20L.geoJson%28null%2C%20%7B%0A%20%20%20%20%20%20%20%20%20%20%20%20%20%20%20%20onEachFeature%3A%20geo_json_b9b96b261e734e49a9c3a601cbd6a379_onEachFeature%2C%0A%20%20%20%20%20%20%20%20%20%20%20%20%0A%20%20%20%20%20%20%20%20%20%20%20%20%20%20%20%20style%3A%20geo_json_b9b96b261e734e49a9c3a601cbd6a379_styler%2C%0A%20%20%20%20%20%20%20%20%7D%29%3B%0A%0A%20%20%20%20%20%20%20%20function%20geo_json_b9b96b261e734e49a9c3a601cbd6a379_add%20%28data%29%20%7B%0A%20%20%20%20%20%20%20%20%20%20%20%20geo_json_b9b96b261e734e49a9c3a601cbd6a379%0A%20%20%20%20%20%20%20%20%20%20%20%20%20%20%20%20.addData%28data%29%0A%20%20%20%20%20%20%20%20%20%20%20%20%20%20%20%20.addTo%28map_42efb046600f4cb1b6ccd37c872314e0%29%3B%0A%20%20%20%20%20%20%20%20%7D%0A%20%20%20%20%20%20%20%20%20%20%20%20geo_json_b9b96b261e734e49a9c3a601cbd6a379_add%28%7B%22bbox%22%3A%20%5B-65.35982948688493%2C%20-39.75246694345842%2C%20-54.11015897376988%2C%20-18.79093388691683%5D%2C%20%22features%22%3A%20%5B%7B%22bbox%22%3A%20%5B-65.35982948688493%2C%20-39.75246694345842%2C%20-54.11015897376988%2C%20-18.79093388691683%5D%2C%20%22geometry%22%3A%20%7B%22coordinates%22%3A%20%5B%5B%5B-65.35982948688493%2C%20-18.79093388691683%5D%2C%20%5B-54.11015897376988%2C%20-18.79093388691683%5D%2C%20%5B-54.11015897376988%2C%20-39.75246694345842%5D%2C%20%5B-65.35982948688493%2C%20-39.75246694345842%5D%2C%20%5B-65.35982948688493%2C%20-18.79093388691683%5D%5D%5D%2C%20%22type%22%3A%20%22Polygon%22%7D%2C%20%22id%22%3A%20%220%22%2C%20%22properties%22%3A%20%7B%7D%2C%20%22type%22%3A%20%22Feature%22%7D%5D%2C%20%22type%22%3A%20%22FeatureCollection%22%7D%29%3B%0A%0A%20%20%20%20%20%20%20%20%0A%20%20%20%20%0A%20%20%20%20%20%20%20%20var%20popup_b50c422fdcd54e3dbbe300544125ab85%20%3D%20L.popup%28%7B%22maxWidth%22%3A%20%22100%25%22%7D%29%3B%0A%0A%20%20%20%20%20%20%20%20%0A%0A%20%20%20%20%20%20%20%20geo_json_b9b96b261e734e49a9c3a601cbd6a379.bindPopup%28popup_b50c422fdcd54e3dbbe300544125ab85%29%0A%20%20%20%20%20%20%20%20%3B%0A%0A%20%20%20%20%20%20%20%20%0A%20%20%20%20%0A%20%20%20%20%0A%20%20%20%20%20%20%20%20function%20geo_json_f199cc6ca09c4ae68e67a3ee6361f501_styler%28feature%29%20%7B%0A%20%20%20%20%20%20%20%20%20%20%20%20switch%28feature.id%29%20%7B%0A%20%20%20%20%20%20%20%20%20%20%20%20%20%20%20%20default%3A%0A%20%20%20%20%20%20%20%20%20%20%20%20%20%20%20%20%20%20%20%20return%20%7B%22fillColor%22%3A%20%22orange%22%7D%3B%0A%20%20%20%20%20%20%20%20%20%20%20%20%7D%0A%20%20%20%20%20%20%20%20%7D%0A%0A%20%20%20%20%20%20%20%20function%20geo_json_f199cc6ca09c4ae68e67a3ee6361f501_onEachFeature%28feature%2C%20layer%29%20%7B%0A%20%20%20%20%20%20%20%20%20%20%20%20layer.on%28%7B%0A%20%20%20%20%20%20%20%20%20%20%20%20%7D%29%3B%0A%20%20%20%20%20%20%20%20%7D%3B%0A%20%20%20%20%20%20%20%20var%20geo_json_f199cc6ca09c4ae68e67a3ee6361f501%20%3D%20L.geoJson%28null%2C%20%7B%0A%20%20%20%20%20%20%20%20%20%20%20%20%20%20%20%20onEachFeature%3A%20geo_json_f199cc6ca09c4ae68e67a3ee6361f501_onEachFeature%2C%0A%20%20%20%20%20%20%20%20%20%20%20%20%0A%20%20%20%20%20%20%20%20%20%20%20%20%20%20%20%20style%3A%20geo_json_f199cc6ca09c4ae68e67a3ee6361f501_styler%2C%0A%20%20%20%20%20%20%20%20%7D%29%3B%0A%0A%20%20%20%20%20%20%20%20function%20geo_json_f199cc6ca09c4ae68e67a3ee6361f501_add%20%28data%29%20%7B%0A%20%20%20%20%20%20%20%20%20%20%20%20geo_json_f199cc6ca09c4ae68e67a3ee6361f501%0A%20%20%20%20%20%20%20%20%20%20%20%20%20%20%20%20.addData%28data%29%0A%20%20%20%20%20%20%20%20%20%20%20%20%20%20%20%20.addTo%28map_42efb046600f4cb1b6ccd37c872314e0%29%3B%0A%20%20%20%20%20%20%20%20%7D%0A%20%20%20%20%20%20%20%20%20%20%20%20geo_json_f199cc6ca09c4ae68e67a3ee6361f501_add%28%7B%22bbox%22%3A%20%5B-50.18725%2C%20-18.79093388691683%2C%20-36.976125%2C%206.531526626034342%5D%2C%20%22features%22%3A%20%5B%7B%22bbox%22%3A%20%5B-50.18725%2C%20-18.79093388691683%2C%20-36.976125%2C%206.531526626034342%5D%2C%20%22geometry%22%3A%20%7B%22coordinates%22%3A%20%5B%5B%5B-50.18725%2C%206.531526626034342%5D%2C%20%5B-36.976125%2C%20-1.291236686982832%5D%2C%20%5B-36.976125%2C%20-18.79093388691683%5D%2C%20%5B-50.18725%2C%20-18.79093388691683%5D%2C%20%5B-50.18725%2C%206.531526626034342%5D%5D%5D%2C%20%22type%22%3A%20%22Polygon%22%7D%2C%20%22id%22%3A%20%220%22%2C%20%22properties%22%3A%20%7B%7D%2C%20%22type%22%3A%20%22Feature%22%7D%5D%2C%20%22type%22%3A%20%22FeatureCollection%22%7D%29%3B%0A%0A%20%20%20%20%20%20%20%20%0A%20%20%20%20%0A%20%20%20%20%20%20%20%20var%20popup_0ffe09078a8f41709f16f43dd0e5b729%20%3D%20L.popup%28%7B%22maxWidth%22%3A%20%22100%25%22%7D%29%3B%0A%0A%20%20%20%20%20%20%20%20%0A%0A%20%20%20%20%20%20%20%20geo_json_f199cc6ca09c4ae68e67a3ee6361f501.bindPopup%28popup_0ffe09078a8f41709f16f43dd0e5b729%29%0A%20%20%20%20%20%20%20%20%3B%0A%0A%20%20%20%20%20%20%20%20%0A%20%20%20%20%0A%20%20%20%20%0A%20%20%20%20%20%20%20%20function%20geo_json_bce2309d6d6b489eacb5038e2c4cf61f_styler%28feature%29%20%7B%0A%20%20%20%20%20%20%20%20%20%20%20%20switch%28feature.id%29%20%7B%0A%20%20%20%20%20%20%20%20%20%20%20%20%20%20%20%20default%3A%0A%20%20%20%20%20%20%20%20%20%20%20%20%20%20%20%20%20%20%20%20return%20%7B%22fillColor%22%3A%20%22orange%22%7D%3B%0A%20%20%20%20%20%20%20%20%20%20%20%20%7D%0A%20%20%20%20%20%20%20%20%7D%0A%0A%20%20%20%20%20%20%20%20function%20geo_json_bce2309d6d6b489eacb5038e2c4cf61f_onEachFeature%28feature%2C%20layer%29%20%7B%0A%20%20%20%20%20%20%20%20%20%20%20%20layer.on%28%7B%0A%20%20%20%20%20%20%20%20%20%20%20%20%7D%29%3B%0A%20%20%20%20%20%20%20%20%7D%3B%0A%20%20%20%20%20%20%20%20var%20geo_json_bce2309d6d6b489eacb5038e2c4cf61f%20%3D%20L.geoJson%28null%2C%20%7B%0A%20%20%20%20%20%20%20%20%20%20%20%20%20%20%20%20onEachFeature%3A%20geo_json_bce2309d6d6b489eacb5038e2c4cf61f_onEachFeature%2C%0A%20%20%20%20%20%20%20%20%20%20%20%20%0A%20%20%20%20%20%20%20%20%20%20%20%20%20%20%20%20style%3A%20geo_json_bce2309d6d6b489eacb5038e2c4cf61f_styler%2C%0A%20%20%20%20%20%20%20%20%7D%29%3B%0A%0A%20%20%20%20%20%20%20%20function%20geo_json_bce2309d6d6b489eacb5038e2c4cf61f_add%20%28data%29%20%7B%0A%20%20%20%20%20%20%20%20%20%20%20%20geo_json_bce2309d6d6b489eacb5038e2c4cf61f%0A%20%20%20%20%20%20%20%20%20%20%20%20%20%20%20%20.addData%28data%29%0A%20%20%20%20%20%20%20%20%20%20%20%20%20%20%20%20.addTo%28map_42efb046600f4cb1b6ccd37c872314e0%29%3B%0A%20%20%20%20%20%20%20%20%7D%0A%20%20%20%20%20%20%20%20%20%20%20%20geo_json_bce2309d6d6b489eacb5038e2c4cf61f_add%28%7B%22bbox%22%3A%20%5B-76.6095%2C%20-39.75246694345842%2C%20-65.35982948688493%2C%20-18.79093388691683%5D%2C%20%22features%22%3A%20%5B%7B%22bbox%22%3A%20%5B-76.6095%2C%20-39.75246694345842%2C%20-65.35982948688493%2C%20-18.79093388691683%5D%2C%20%22geometry%22%3A%20%7B%22coordinates%22%3A%20%5B%5B%5B-76.6095%2C%20-39.75246694345842%5D%2C%20%5B-76.6095%2C%20-18.79093388691683%5D%2C%20%5B-65.35982948688493%2C%20-18.79093388691683%5D%2C%20%5B-65.35982948688493%2C%20-39.75246694345842%5D%2C%20%5B-76.6095%2C%20-39.75246694345842%5D%5D%5D%2C%20%22type%22%3A%20%22Polygon%22%7D%2C%20%22id%22%3A%20%220%22%2C%20%22properties%22%3A%20%7B%7D%2C%20%22type%22%3A%20%22Feature%22%7D%5D%2C%20%22type%22%3A%20%22FeatureCollection%22%7D%29%3B%0A%0A%20%20%20%20%20%20%20%20%0A%20%20%20%20%0A%20%20%20%20%20%20%20%20var%20popup_0293b8b1a5624d6d9493e31e1797e230%20%3D%20L.popup%28%7B%22maxWidth%22%3A%20%22100%25%22%7D%29%3B%0A%0A%20%20%20%20%20%20%20%20%0A%0A%20%20%20%20%20%20%20%20geo_json_bce2309d6d6b489eacb5038e2c4cf61f.bindPopup%28popup_0293b8b1a5624d6d9493e31e1797e230%29%0A%20%20%20%20%20%20%20%20%3B%0A%0A%20%20%20%20%20%20%20%20%0A%20%20%20%20%0A%20%20%20%20%0A%20%20%20%20%20%20%20%20function%20geo_json_de06e3ebbbb44ed8994aa0f82b831275_styler%28feature%29%20%7B%0A%20%20%20%20%20%20%20%20%20%20%20%20switch%28feature.id%29%20%7B%0A%20%20%20%20%20%20%20%20%20%20%20%20%20%20%20%20default%3A%0A%20%20%20%20%20%20%20%20%20%20%20%20%20%20%20%20%20%20%20%20return%20%7B%22fillColor%22%3A%20%22orange%22%7D%3B%0A%20%20%20%20%20%20%20%20%20%20%20%20%7D%0A%20%20%20%20%20%20%20%20%7D%0A%0A%20%20%20%20%20%20%20%20function%20geo_json_de06e3ebbbb44ed8994aa0f82b831275_onEachFeature%28feature%2C%20layer%29%20%7B%0A%20%20%20%20%20%20%20%20%20%20%20%20layer.on%28%7B%0A%20%20%20%20%20%20%20%20%20%20%20%20%7D%29%3B%0A%20%20%20%20%20%20%20%20%7D%3B%0A%20%20%20%20%20%20%20%20var%20geo_json_de06e3ebbbb44ed8994aa0f82b831275%20%3D%20L.geoJson%28null%2C%20%7B%0A%20%20%20%20%20%20%20%20%20%20%20%20%20%20%20%20onEachFeature%3A%20geo_json_de06e3ebbbb44ed8994aa0f82b831275_onEachFeature%2C%0A%20%20%20%20%20%20%20%20%20%20%20%20%0A%20%20%20%20%20%20%20%20%20%20%20%20%20%20%20%20style%3A%20geo_json_de06e3ebbbb44ed8994aa0f82b831275_styler%2C%0A%20%20%20%20%20%20%20%20%7D%29%3B%0A%0A%20%20%20%20%20%20%20%20function%20geo_json_de06e3ebbbb44ed8994aa0f82b831275_add%20%28data%29%20%7B%0A%20%20%20%20%20%20%20%20%20%20%20%20geo_json_de06e3ebbbb44ed8994aa0f82b831275%0A%20%20%20%20%20%20%20%20%20%20%20%20%20%20%20%20.addData%28data%29%0A%20%20%20%20%20%20%20%20%20%20%20%20%20%20%20%20.addTo%28map_42efb046600f4cb1b6ccd37c872314e0%29%3B%0A%20%20%20%20%20%20%20%20%7D%0A%20%20%20%20%20%20%20%20%20%20%20%20geo_json_de06e3ebbbb44ed8994aa0f82b831275_add%28%7B%22bbox%22%3A%20%5B-76.6095%2C%202.170599169624747%2C%20-70.0039375%2C%207.410982433760142%5D%2C%20%22features%22%3A%20%5B%7B%22bbox%22%3A%20%5B-76.6095%2C%202.170599169624747%2C%20-70.0039375%2C%207.410982433760142%5D%2C%20%22geometry%22%3A%20%7B%22coordinates%22%3A%20%5B%5B%5B-70.0039375%2C%202.170599169624747%5D%2C%20%5B-76.6095%2C%202.170599169624747%5D%2C%20%5B-76.6095%2C%207.410982433760142%5D%2C%20%5B-70.0039375%2C%207.410982433760142%5D%2C%20%5B-70.0039375%2C%202.170599169624747%5D%5D%5D%2C%20%22type%22%3A%20%22Polygon%22%7D%2C%20%22id%22%3A%20%220%22%2C%20%22properties%22%3A%20%7B%7D%2C%20%22type%22%3A%20%22Feature%22%7D%5D%2C%20%22type%22%3A%20%22FeatureCollection%22%7D%29%3B%0A%0A%20%20%20%20%20%20%20%20%0A%20%20%20%20%0A%20%20%20%20%20%20%20%20var%20popup_b895bd83871145f983d877e8599433e5%20%3D%20L.popup%28%7B%22maxWidth%22%3A%20%22100%25%22%7D%29%3B%0A%0A%20%20%20%20%20%20%20%20%0A%0A%20%20%20%20%20%20%20%20geo_json_de06e3ebbbb44ed8994aa0f82b831275.bindPopup%28popup_b895bd83871145f983d877e8599433e5%29%0A%20%20%20%20%20%20%20%20%3B%0A%0A%20%20%20%20%20%20%20%20%0A%20%20%20%20%0A%20%20%20%20%0A%20%20%20%20%20%20%20%20function%20geo_json_71fe0928ad7c46fba9cbd62720266cf3_styler%28feature%29%20%7B%0A%20%20%20%20%20%20%20%20%20%20%20%20switch%28feature.id%29%20%7B%0A%20%20%20%20%20%20%20%20%20%20%20%20%20%20%20%20default%3A%0A%20%20%20%20%20%20%20%20%20%20%20%20%20%20%20%20%20%20%20%20return%20%7B%22fillColor%22%3A%20%22orange%22%7D%3B%0A%20%20%20%20%20%20%20%20%20%20%20%20%7D%0A%20%20%20%20%20%20%20%20%7D%0A%0A%20%20%20%20%20%20%20%20function%20geo_json_71fe0928ad7c46fba9cbd62720266cf3_onEachFeature%28feature%2C%20layer%29%20%7B%0A%20%20%20%20%20%20%20%20%20%20%20%20layer.on%28%7B%0A%20%20%20%20%20%20%20%20%20%20%20%20%7D%29%3B%0A%20%20%20%20%20%20%20%20%7D%3B%0A%20%20%20%20%20%20%20%20var%20geo_json_71fe0928ad7c46fba9cbd62720266cf3%20%3D%20L.geoJson%28null%2C%20%7B%0A%20%20%20%20%20%20%20%20%20%20%20%20%20%20%20%20onEachFeature%3A%20geo_json_71fe0928ad7c46fba9cbd62720266cf3_onEachFeature%2C%0A%20%20%20%20%20%20%20%20%20%20%20%20%0A%20%20%20%20%20%20%20%20%20%20%20%20%20%20%20%20style%3A%20geo_json_71fe0928ad7c46fba9cbd62720266cf3_styler%2C%0A%20%20%20%20%20%20%20%20%7D%29%3B%0A%0A%20%20%20%20%20%20%20%20function%20geo_json_71fe0928ad7c46fba9cbd62720266cf3_add%20%28data%29%20%7B%0A%20%20%20%20%20%20%20%20%20%20%20%20geo_json_71fe0928ad7c46fba9cbd62720266cf3%0A%20%20%20%20%20%20%20%20%20%20%20%20%20%20%20%20.addData%28data%29%0A%20%20%20%20%20%20%20%20%20%20%20%20%20%20%20%20.addTo%28map_42efb046600f4cb1b6ccd37c872314e0%29%3B%0A%20%20%20%20%20%20%20%20%7D%0A%20%20%20%20%20%20%20%20%20%20%20%20geo_json_71fe0928ad7c46fba9cbd62720266cf3_add%28%7B%22bbox%22%3A%20%5B-47.07911490307298%2C%20-23.99413506362532%2C%20-45.6729060889336%2C%20-22.25973467138916%5D%2C%20%22features%22%3A%20%5B%7B%22bbox%22%3A%20%5B-47.07911490307298%2C%20-23.99413506362532%2C%20-45.6729060889336%2C%20-22.25973467138916%5D%2C%20%22geometry%22%3A%20%7B%22coordinates%22%3A%20%5B%5B%5B-47.07911490307298%2C%20-22.25973467138916%5D%2C%20%5B-45.6729060889336%2C%20-22.25973467138916%5D%2C%20%5B-45.6729060889336%2C%20-23.99413506362532%5D%2C%20%5B-47.07911490307298%2C%20-23.99413506362532%5D%2C%20%5B-47.07911490307298%2C%20-22.25973467138916%5D%5D%5D%2C%20%22type%22%3A%20%22Polygon%22%7D%2C%20%22id%22%3A%20%220%22%2C%20%22properties%22%3A%20%7B%7D%2C%20%22type%22%3A%20%22Feature%22%7D%5D%2C%20%22type%22%3A%20%22FeatureCollection%22%7D%29%3B%0A%0A%20%20%20%20%20%20%20%20%0A%20%20%20%20%0A%20%20%20%20%20%20%20%20var%20popup_a6968ecd2ccf4cafbe01116b4b8b3cae%20%3D%20L.popup%28%7B%22maxWidth%22%3A%20%22100%25%22%7D%29%3B%0A%0A%20%20%20%20%20%20%20%20%0A%0A%20%20%20%20%20%20%20%20geo_json_71fe0928ad7c46fba9cbd62720266cf3.bindPopup%28popup_a6968ecd2ccf4cafbe01116b4b8b3cae%29%0A%20%20%20%20%20%20%20%20%3B%0A%0A%20%20%20%20%20%20%20%20%0A%20%20%20%20%0A%20%20%20%20%0A%20%20%20%20%20%20%20%20function%20geo_json_ad6a799eb11640c093c1e8c396168e81_styler%28feature%29%20%7B%0A%20%20%20%20%20%20%20%20%20%20%20%20switch%28feature.id%29%20%7B%0A%20%20%20%20%20%20%20%20%20%20%20%20%20%20%20%20default%3A%0A%20%20%20%20%20%20%20%20%20%20%20%20%20%20%20%20%20%20%20%20return%20%7B%22fillColor%22%3A%20%22orange%22%7D%3B%0A%20%20%20%20%20%20%20%20%20%20%20%20%7D%0A%20%20%20%20%20%20%20%20%7D%0A%0A%20%20%20%20%20%20%20%20function%20geo_json_ad6a799eb11640c093c1e8c396168e81_onEachFeature%28feature%2C%20layer%29%20%7B%0A%20%20%20%20%20%20%20%20%20%20%20%20layer.on%28%7B%0A%20%20%20%20%20%20%20%20%20%20%20%20%7D%29%3B%0A%20%20%20%20%20%20%20%20%7D%3B%0A%20%20%20%20%20%20%20%20var%20geo_json_ad6a799eb11640c093c1e8c396168e81%20%3D%20L.geoJson%28null%2C%20%7B%0A%20%20%20%20%20%20%20%20%20%20%20%20%20%20%20%20onEachFeature%3A%20geo_json_ad6a799eb11640c093c1e8c396168e81_onEachFeature%2C%0A%20%20%20%20%20%20%20%20%20%20%20%20%0A%20%20%20%20%20%20%20%20%20%20%20%20%20%20%20%20style%3A%20geo_json_ad6a799eb11640c093c1e8c396168e81_styler%2C%0A%20%20%20%20%20%20%20%20%7D%29%3B%0A%0A%20%20%20%20%20%20%20%20function%20geo_json_ad6a799eb11640c093c1e8c396168e81_add%20%28data%29%20%7B%0A%20%20%20%20%20%20%20%20%20%20%20%20geo_json_ad6a799eb11640c093c1e8c396168e81%0A%20%20%20%20%20%20%20%20%20%20%20%20%20%20%20%20.addData%28data%29%0A%20%20%20%20%20%20%20%20%20%20%20%20%20%20%20%20.addTo%28map_42efb046600f4cb1b6ccd37c872314e0%29%3B%0A%20%20%20%20%20%20%20%20%7D%0A%20%20%20%20%20%20%20%20%20%20%20%20geo_json_ad6a799eb11640c093c1e8c396168e81_add%28%7B%22bbox%22%3A%20%5B-99.72896875%2C%2015.89670560204073%2C%20-96.4261875%2C%2020.74968832471787%5D%2C%20%22features%22%3A%20%5B%7B%22bbox%22%3A%20%5B-99.72896875%2C%2015.89670560204073%2C%20-96.4261875%2C%2020.74968832471787%5D%2C%20%22geometry%22%3A%20%7B%22coordinates%22%3A%20%5B%5B%5B-99.72896875%2C%2020.74968832471787%5D%2C%20%5B-96.4261875%2C%2020.74968832471787%5D%2C%20%5B-96.4261875%2C%2015.89670560204073%5D%2C%20%5B-99.72896875%2C%2015.89670560204073%5D%2C%20%5B-99.72896875%2C%2020.74968832471787%5D%5D%5D%2C%20%22type%22%3A%20%22Polygon%22%7D%2C%20%22id%22%3A%20%220%22%2C%20%22properties%22%3A%20%7B%7D%2C%20%22type%22%3A%20%22Feature%22%7D%5D%2C%20%22type%22%3A%20%22FeatureCollection%22%7D%29%3B%0A%0A%20%20%20%20%20%20%20%20%0A%20%20%20%20%0A%20%20%20%20%20%20%20%20var%20popup_f43dc57e0083475cbf9038284ded31f8%20%3D%20L.popup%28%7B%22maxWidth%22%3A%20%22100%25%22%7D%29%3B%0A%0A%20%20%20%20%20%20%20%20%0A%0A%20%20%20%20%20%20%20%20geo_json_ad6a799eb11640c093c1e8c396168e81.bindPopup%28popup_f43dc57e0083475cbf9038284ded31f8%29%0A%20%20%20%20%20%20%20%20%3B%0A%0A%20%20%20%20%20%20%20%20%0A%20%20%20%20%0A%3C/script%3E onload=\"this.contentDocument.open();this.contentDocument.write(    decodeURIComponent(this.getAttribute('data-html')));this.contentDocument.close();\" allowfullscreen webkitallowfullscreen mozallowfullscreen></iframe></div></div>"
      ],
      "text/plain": [
       "<folium.folium.Map at 0x7f5b03a5c510>"
      ]
     },
     "execution_count": 49,
     "metadata": {},
     "output_type": "execute_result"
    }
   ],
   "source": [
    "df = tab\n",
    "m = folium.Map(location=[40.70, -73.94], zoom_start=10, tiles='CartoDB positron')\n",
    "for _, r in df.iterrows():\n",
    "    # Without simplifying the representation of each borough,\n",
    "    # the map might not be displayed\n",
    "    sim_geo = gpd.GeoSeries(r['geometry']).simplify(tolerance=0.001)\n",
    "    geo_j = sim_geo.to_json()\n",
    "    geo_j = folium.GeoJson(data=geo_j,\n",
    "                           style_function=lambda x: {'fillColor': 'orange'})\n",
    "    folium.Popup(r['lines']).add_to(geo_j)\n",
    "    geo_j.add_to(m)\n",
    "m"
   ]
  },
  {
   "cell_type": "code",
   "execution_count": 50,
   "metadata": {},
   "outputs": [],
   "source": [
    "#centroid = tiles[0].geometry.centroid\n",
    "#m = folium.Map(location=(centroid.latitude, centroid.longitude))\n"
   ]
  },
  {
   "cell_type": "code",
   "execution_count": 5,
   "metadata": {},
   "outputs": [],
   "source": [
    "for tile in tiles:\n",
    "    folium.GeoJson(tile.geometry.geojson).add_to(m)\n",
    "m"
   ]
  },
  {
   "cell_type": "code",
   "execution_count": null,
   "metadata": {},
   "outputs": [],
   "source": []
  }
 ],
 "metadata": {
  "kernelspec": {
   "display_name": "waze_coronavirus",
   "language": "python",
   "name": "waze_coronavirus"
  },
  "language_info": {
   "codemirror_mode": {
    "name": "ipython",
    "version": 3
   },
   "file_extension": ".py",
   "mimetype": "text/x-python",
   "name": "python",
   "nbconvert_exporter": "python",
   "pygments_lexer": "ipython3",
   "version": "3.7.11"
  },
  "toc": {
   "base_numbering": 1,
   "nav_menu": {},
   "number_sections": true,
   "sideBar": true,
   "skip_h1_title": false,
   "title_cell": "Table of Contents",
   "title_sidebar": "Contents",
   "toc_cell": false,
   "toc_position": {},
   "toc_section_display": true,
   "toc_window_display": true
  }
 },
 "nbformat": 4,
 "nbformat_minor": 2
}
