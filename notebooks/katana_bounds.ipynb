{
 "cells": [
  {
   "cell_type": "markdown",
   "metadata": {},
   "source": [
    "# Split lines into grid"
   ]
  },
  {
   "cell_type": "code",
   "execution_count": 2,
   "metadata": {},
   "outputs": [
    {
     "data": {
      "text/plain": [
       "'202108231708'"
      ]
     },
     "execution_count": 2,
     "metadata": {},
     "output_type": "execute_result"
    }
   ],
   "source": [
    "# %load first_cell.py\n",
    "%reload_ext autoreload\n",
    "%autoreload 2\n",
    "from pathlib import Path\n",
    "import os\n",
    "\n",
    "# system paths\n",
    "import sys\n",
    "home = str(Path.home())\n",
    "sys.path = sys.path + [f'{home}/.conda/envs/norm_env/lib/python37.zip', \n",
    "                       f'{home}/.conda/envs/norm_env/lib/python3.7', \n",
    "                       f'{home}/.conda/envs/norm_env/lib/python3.7/lib-dynload', \n",
    "                       f'{home}/.conda/envs/norm_env/lib/python3.7/site-packages']\n",
    "sys.prefix = '/home/soniame/.conda/envs/norm_env'\n",
    "from paths import RAW_PATH, TREAT_PATH, OUTPUT_PATH, FIGURES_PATH\n",
    "\n",
    "# aws connection*\n",
    "import boto3\n",
    "import awswrangler as wr\n",
    "\n",
    "# local libraries\n",
    "from src import utils\n",
    "\n",
    "# analysis libraries\n",
    "from datetime import datetime, timedelta\n",
    "import pandas as pd\n",
    "import numpy as np\n",
    "import geopandas as gpd\n",
    "import random\n",
    "import itertools\n",
    "\n",
    "import matplotlib.pyplot as plt\n",
    "\n",
    "from shapely.geometry import box, Polygon, MultiPolygon, LineString, GeometryCollection, shape\n",
    "from shapely import wkt\n",
    "from shapely.ops import transform\n",
    "from babelgrid import Babel\n",
    "\n",
    "from multiprocessing.pool import Pool\n",
    "from functools import partial\n",
    "\n",
    "from loguru import logger\n",
    "\n",
    "cm = str(datetime.today().strftime(\"%Y%m%d%H%m\"))\n",
    "cm"
   ]
  },
  {
   "cell_type": "markdown",
   "metadata": {},
   "source": [
    "## Sample dates\n",
    "\n",
    "Executing 50 dates to sample from jams data set"
   ]
  },
  {
   "cell_type": "code",
   "execution_count": null,
   "metadata": {},
   "outputs": [],
   "source": [
    "from src.runners.sample_jams import _sample_dates"
   ]
  },
  {
   "cell_type": "code",
   "execution_count": null,
   "metadata": {},
   "outputs": [],
   "source": [
    "df = _sample_dates(start_date = '2019-01-01', end_date = '2021-08-12')"
   ]
  },
  {
   "cell_type": "code",
   "execution_count": null,
   "metadata": {},
   "outputs": [],
   "source": [
    "print(df.date_filter[0])"
   ]
  },
  {
   "cell_type": "code",
   "execution_count": null,
   "metadata": {},
   "outputs": [],
   "source": []
  },
  {
   "cell_type": "markdown",
   "metadata": {},
   "source": [
    "## Sample lines counts\n",
    "\n",
    "Run a query to download unique lines and number of appearance. \n",
    "\n",
    "- Lines 21,904,128\n",
    "- Jams 507,139,112\n",
    "- 50 weekdays sampled\n",
    "\n",
    "Data is split in 6 groups to run each intersection with grids. Function `_split_groups()`. Each split contains 3,650,688 lines."
   ]
  },
  {
   "cell_type": "code",
   "execution_count": 3,
   "metadata": {},
   "outputs": [],
   "source": [
    "from src.runners.split_polygon import _get_lines"
   ]
  },
  {
   "cell_type": "code",
   "execution_count": 4,
   "metadata": {},
   "outputs": [
    {
     "name": "stderr",
     "output_type": "stream",
     "text": [
      "2021-08-23 17:10:40.578 | INFO     | src.runners.split_polygon:_get_lines:62 - Lines\n",
      "2021-08-23 17:10:40.579 | DEBUG    | src.runners.split_polygon:_get_lines:77 - Reading lines\n",
      "2021-08-23 17:10:40.580 | DEBUG    | src.runners.split_polygon:_get_lines:80 - From /home/soniame/private/projects/corona_geo_id/lines/line_wkt_count_202010712.csv\n",
      "2021-08-23 17:12:43.522 | DEBUG    | src.runners.split_polygon:_get_lines:84 - L: 21904128\n"
     ]
    }
   ],
   "source": [
    "df_lines = _get_lines(update_data = False)"
   ]
  },
  {
   "cell_type": "code",
   "execution_count": 5,
   "metadata": {},
   "outputs": [
    {
     "name": "stdout",
     "output_type": "stream",
     "text": [
      "(21904128, 3)\n",
      "507139112\n"
     ]
    },
    {
     "data": {
      "text/html": [
       "<div>\n",
       "<style scoped>\n",
       "    .dataframe tbody tr th:only-of-type {\n",
       "        vertical-align: middle;\n",
       "    }\n",
       "\n",
       "    .dataframe tbody tr th {\n",
       "        vertical-align: top;\n",
       "    }\n",
       "\n",
       "    .dataframe thead th {\n",
       "        text-align: right;\n",
       "    }\n",
       "</style>\n",
       "<table border=\"1\" class=\"dataframe\">\n",
       "  <thead>\n",
       "    <tr style=\"text-align: right;\">\n",
       "      <th></th>\n",
       "      <th>line_wkt</th>\n",
       "      <th>count_lines</th>\n",
       "      <th>split</th>\n",
       "    </tr>\n",
       "  </thead>\n",
       "  <tbody>\n",
       "    <tr>\n",
       "      <th>0</th>\n",
       "      <td>linestring (-35.232974 -5.731801,-35.233194 -5...</td>\n",
       "      <td>26</td>\n",
       "      <td>1</td>\n",
       "    </tr>\n",
       "    <tr>\n",
       "      <th>1</th>\n",
       "      <td>linestring (-103.34963 20.733682,-103.350022 2...</td>\n",
       "      <td>84</td>\n",
       "      <td>1</td>\n",
       "    </tr>\n",
       "    <tr>\n",
       "      <th>2</th>\n",
       "      <td>linestring (-103.270292 20.663531,-103.270276 ...</td>\n",
       "      <td>83</td>\n",
       "      <td>1</td>\n",
       "    </tr>\n",
       "  </tbody>\n",
       "</table>\n",
       "</div>"
      ],
      "text/plain": [
       "                                            line_wkt  count_lines  split\n",
       "0  linestring (-35.232974 -5.731801,-35.233194 -5...           26      1\n",
       "1  linestring (-103.34963 20.733682,-103.350022 2...           84      1\n",
       "2  linestring (-103.270292 20.663531,-103.270276 ...           83      1"
      ]
     },
     "execution_count": 5,
     "metadata": {},
     "output_type": "execute_result"
    }
   ],
   "source": [
    "print(df_lines.shape)\n",
    "print(sum(df_lines.count_lines))\n",
    "df_lines.head(3)"
   ]
  },
  {
   "cell_type": "code",
   "execution_count": null,
   "metadata": {},
   "outputs": [],
   "source": [
    "from siuba import group_by, summarize, _\n",
    "(df_lines\n",
    "  >> group_by(_.split)\n",
    "  >> summarize(lines = _.line_wkt.count())\n",
    "  )"
   ]
  },
  {
   "cell_type": "code",
   "execution_count": null,
   "metadata": {},
   "outputs": [],
   "source": []
  },
  {
   "cell_type": "code",
   "execution_count": null,
   "metadata": {},
   "outputs": [],
   "source": []
  },
  {
   "cell_type": "markdown",
   "metadata": {},
   "source": [
    "## Coarse grid split"
   ]
  },
  {
   "cell_type": "code",
   "execution_count": null,
   "metadata": {},
   "outputs": [],
   "source": [
    "from src.runners import split_polygon"
   ]
  },
  {
   "cell_type": "code",
   "execution_count": null,
   "metadata": {
    "scrolled": true
   },
   "outputs": [],
   "source": [
    "# Plotting H3 cells\n",
    "\n",
    "# H3 cells grid\n",
    "tiles = Babel('h3').polyfill(geometry, resolution=1)\n",
    "# S2 cells grid\n",
    "#tiles = Babel('s2').polyfill(geometry, resolution=4)\n",
    "len(tiles)\n",
    "\n",
    "if False:\n",
    "    tiles_gdf = gpd.GeoDataFrame([t.to_dict() for t in tiles], geometry='shapely')\n",
    "    df = tiles_gdf\n",
    "    m = folium.Map(location=[40.70, -73.94], zoom_start=2, tiles='CartoDB positron')\n",
    "    for _, r in df.iterrows():\n",
    "        # Without simplifying the representation of each borough,\n",
    "        # the map might not be displayed\n",
    "        sim_geo = gpd.GeoSeries(r['shapely']).simplify(tolerance=0.001)\n",
    "        geo_j = sim_geo.to_json()\n",
    "        geo_j = folium.GeoJson(data=geo_j,\n",
    "                               style_function=lambda x: {'fillColor': 'orange'})\n",
    "        geo_j.add_to(m)\n",
    "    m"
   ]
  },
  {
   "cell_type": "code",
   "execution_count": null,
   "metadata": {},
   "outputs": [],
   "source": [
    "tiles[0].geometry.wkt"
   ]
  },
  {
   "cell_type": "code",
   "execution_count": 8,
   "metadata": {},
   "outputs": [
    {
     "name": "stderr",
     "output_type": "stream",
     "text": [
      "2021-08-23 17:14:01.674 | WARNING  | __main__:<module>:2 - Better to run it from terminal in different instances\n"
     ]
    }
   ],
   "source": [
    "# Run this in 6 separated instances \n",
    "logger.warning('Better to run it from terminal in different instances')\n",
    "# df_coarse_split = _create_coarse_grid(df_lines, tiles, split = )"
   ]
  },
  {
   "cell_type": "code",
   "execution_count": null,
   "metadata": {},
   "outputs": [],
   "source": []
  },
  {
   "cell_type": "markdown",
   "metadata": {},
   "source": [
    "### Coarse grid union\n",
    "\n",
    "Union of results from parallelization in 6 instances. \n",
    "\n",
    "- Cells: 57\n",
    "- Lines: 22,214,341\n",
    "- Run time per instance: 3 hrs."
   ]
  },
  {
   "cell_type": "code",
   "execution_count": 9,
   "metadata": {},
   "outputs": [],
   "source": [
    "from src.runners.split_polygon import _coarse_union"
   ]
  },
  {
   "cell_type": "code",
   "execution_count": null,
   "metadata": {},
   "outputs": [],
   "source": [
    "mypath = \"/home/soniame/private/projects/corona_geo_id/coarse_grid/\"\n",
    "csv_files = [os.path.join(mypath, x) for x in os.listdir(mypath)]"
   ]
  },
  {
   "cell_type": "code",
   "execution_count": null,
   "metadata": {},
   "outputs": [],
   "source": [
    "# Sample: union of lines\n",
    "csv_files = ['/home/soniame/private/projects/corona_geo_id/coarse_grid/coarse_id.csv',\n",
    " '/home/soniame/private/projects/corona_geo_id/coarse_grid/coarse_id_new_1.csv',\n",
    " '/home/soniame/private/projects/corona_geo_id/coarse_grid/coarse_id_new_2.csv',\n",
    " '/home/soniame/private/projects/corona_geo_id/coarse_grid/coarse_id_new_3.csv',\n",
    " '/home/soniame/private/projects/corona_geo_id/coarse_grid/coarse_id_new_4.csv',\n",
    " '/home/soniame/private/projects/corona_geo_id/coarse_grid/coarse_id_new_5.csv',\n",
    " '/home/soniame/private/projects/corona_geo_id/coarse_grid/coarse_id_new_6.csv']\n",
    "csv_files\n",
    "df_coarse = _coarse_union(csv_files)"
   ]
  },
  {
   "cell_type": "code",
   "execution_count": 66,
   "metadata": {},
   "outputs": [],
   "source": [
    "# Export to csv \n",
    "coarse_path = '/home/soniame/shared/spd-sdv-omitnik-waze/corona/geo_partition/coarse_id/coarse_grid_sample.csv'\n",
    "df_coarse.to_csv(coarse_path, index = False)"
   ]
  },
  {
   "cell_type": "code",
   "execution_count": null,
   "metadata": {},
   "outputs": [],
   "source": []
  },
  {
   "cell_type": "markdown",
   "metadata": {},
   "source": [
    "### Coarse grid distribution"
   ]
  },
  {
   "cell_type": "code",
   "execution_count": 21,
   "metadata": {},
   "outputs": [],
   "source": [
    "coarse_path = '/home/soniame/shared/spd-sdv-omitnik-waze/corona/geo_partition/coarse_id/coarse_grid_sample.csv'\n",
    "df_coarse_R1 = pd.read_csv(coarse_path)\n",
    "df_coarse_R1 = df_coarse_R1.rename(columns = {'line':'line_wkt'})"
   ]
  },
  {
   "cell_type": "code",
   "execution_count": null,
   "metadata": {},
   "outputs": [],
   "source": [
    "print(df_coarse_R1.shape)\n",
    "print(df_coarse_R1.coarse_wkt.nunique())\n",
    "print(df_coarse_R1.line_wkt.nunique())\n",
    "# df_coarse_R1.head()"
   ]
  },
  {
   "cell_type": "code",
   "execution_count": null,
   "metadata": {},
   "outputs": [],
   "source": [
    "# Union de coarse y merge con count of jams\n",
    "df_merge = df_coarse_R1.merge(df_lines, how = 'left', on = 'line_wkt')\n",
    "print(df_merge.shape)\n",
    "df_merge.head()"
   ]
  },
  {
   "cell_type": "code",
   "execution_count": null,
   "metadata": {},
   "outputs": [],
   "source": [
    "from siuba import group_by, ungroup, arrange, summarize, _\n",
    "\n",
    "# Table of distribution pero H3 Cell\n",
    "tab = (df_merge\n",
    "  >> group_by(_.coarse_wkt)\n",
    "  >> summarize(lines = _.line_wkt.count(),\n",
    "               jams  = _.count_lines.sum())\n",
    "  >> ungroup()\n",
    "  >> arrange(-_.lines)\n",
    "  )\n",
    "tab.head()"
   ]
  },
  {
   "cell_type": "code",
   "execution_count": null,
   "metadata": {},
   "outputs": [],
   "source": [
    "# Export to csv \n",
    "tab.to_csv('/home/soniame/shared/spd-sdv-omitnik-waze/corona/geo_partition/figures/coarse_grid_distribution.csv', index = False)"
   ]
  },
  {
   "cell_type": "code",
   "execution_count": null,
   "metadata": {},
   "outputs": [],
   "source": []
  },
  {
   "cell_type": "markdown",
   "metadata": {},
   "source": [
    "Plots"
   ]
  },
  {
   "cell_type": "code",
   "execution_count": 13,
   "metadata": {},
   "outputs": [],
   "source": [
    "tab = pd.read_csv('/home/soniame/shared/spd-sdv-omitnik-waze/corona/geo_partition/figures/coarse_grid_distribution.csv')"
   ]
  },
  {
   "cell_type": "code",
   "execution_count": 14,
   "metadata": {},
   "outputs": [
    {
     "data": {
      "image/png": "[encoded data removed]",
      "text/plain": [
       "<Figure size 432x288 with 2 Axes>"
      ]
     },
     "metadata": {
      "needs_background": "light"
     },
     "output_type": "display_data"
    }
   ],
   "source": [
    "tab['geometry'] = gpd.GeoSeries.from_wkt(tab['coarse_wkt'])\n",
    "tab = gpd.GeoDataFrame(tab, geometry='geometry')\n",
    "fig, ax = plt.subplots(1, 1)\n",
    "tab.plot(column='lines', ax=ax, \n",
    "         legend=True, cmap='OrRd')\n",
    "plt.title('Coarse Grid 1 - Number of lines')\n",
    "plt.savefig('/home/soniame/shared/spd-sdv-omitnik-waze/corona/geo_partition/figures/coarse_map_LinesR1.pdf')"
   ]
  },
  {
   "cell_type": "code",
   "execution_count": 15,
   "metadata": {},
   "outputs": [
    {
     "data": {
      "image/png": "[encoded data removed]",
      "text/plain": [
       "<Figure size 432x288 with 2 Axes>"
      ]
     },
     "metadata": {
      "needs_background": "light"
     },
     "output_type": "display_data"
    }
   ],
   "source": [
    "tab['geometry'] = gpd.GeoSeries.from_wkt(tab['coarse_wkt'])\n",
    "tab = gpd.GeoDataFrame(tab, geometry='geometry')\n",
    "fig, ax = plt.subplots(1, 1)\n",
    "tab.plot(column='jams', ax=ax, \n",
    "         legend=True, cmap='OrRd')\n",
    "plt.title('Coarse Grid 1 - Number of Jams')\n",
    "plt.savefig('/home/soniame/shared/spd-sdv-omitnik-waze/corona/geo_partition/figures/coarse_map_JamsR1.pdf')"
   ]
  },
  {
   "cell_type": "code",
   "execution_count": 122,
   "metadata": {},
   "outputs": [
    {
     "data": {
      "text/plain": [
       "<matplotlib.collections.PathCollection at 0x7f3205413d90>"
      ]
     },
     "execution_count": 122,
     "metadata": {},
     "output_type": "execute_result"
    },
    {
     "data": {
      "image/png": "[encoded data removed]",
      "text/plain": [
       "<Figure size 432x288 with 1 Axes>"
      ]
     },
     "metadata": {
      "needs_background": "light"
     },
     "output_type": "display_data"
    }
   ],
   "source": [
    "plt.scatter(tab.jams, tab.lines)"
   ]
  },
  {
   "cell_type": "code",
   "execution_count": null,
   "metadata": {},
   "outputs": [],
   "source": []
  },
  {
   "cell_type": "markdown",
   "metadata": {},
   "source": [
    "### Coarse grid union Big Polygons (R2)\n",
    "\n",
    "Union of results from parallelization in 6 instances. \n",
    "\n",
    "- Cells: \n",
    "- Lines: 22,214,341\n",
    "- Run time per polygon: 2 hrs."
   ]
  },
  {
   "cell_type": "code",
   "execution_count": 22,
   "metadata": {},
   "outputs": [],
   "source": [
    "from src.runners.split_polygon import _new_res_coarse_grid\n",
    "from siuba import group_by, ungroup, arrange, summarize, _"
   ]
  },
  {
   "cell_type": "code",
   "execution_count": 23,
   "metadata": {},
   "outputs": [
    {
     "name": "stderr",
     "output_type": "stream",
     "text": [
      "2021-08-23 17:22:13.172 | WARNING  | __main__:<module>:2 - Only run to update resolution 2\n"
     ]
    }
   ],
   "source": [
    "# Ran in terminal\n",
    "logger.warning(\"Only run to update resolution 2\")\n",
    "# _new_res_coarse_grid()"
   ]
  },
  {
   "cell_type": "code",
   "execution_count": 24,
   "metadata": {},
   "outputs": [],
   "source": [
    "from src.runners.split_polygon import _coarse_union\n",
    "mypath = \"/home/soniame/private/projects/corona_geo_id/coarse_grid/\"\n",
    "csv_files = [os.path.join(mypath, x) for x in os.listdir(mypath)]"
   ]
  },
  {
   "cell_type": "code",
   "execution_count": 25,
   "metadata": {},
   "outputs": [
    {
     "name": "stderr",
     "output_type": "stream",
     "text": [
      "2021-08-23 17:22:13.361 | DEBUG    | src.runners.split_polygon:_coarse_union:32 - /home/soniame/private/projects/corona_geo_id/coarse_grid/coarse_id_new_R2_1.csv\n",
      "2021-08-23 17:22:46.574 | DEBUG    | src.runners.split_polygon:_coarse_union:34 - File: 3568141\n",
      "2021-08-23 17:22:46.642 | DEBUG    | src.runners.split_polygon:_coarse_union:37 - Union: 3568141\n",
      "2021-08-23 17:22:46.643 | DEBUG    | src.runners.split_polygon:_coarse_union:32 - /home/soniame/private/projects/corona_geo_id/coarse_grid/coarse_id_new_R2_2.csv\n",
      "2021-08-23 17:23:11.973 | DEBUG    | src.runners.split_polygon:_coarse_union:34 - File: 2775396\n",
      "2021-08-23 17:23:12.268 | DEBUG    | src.runners.split_polygon:_coarse_union:37 - Union: 6343537\n",
      "2021-08-23 17:23:12.269 | DEBUG    | src.runners.split_polygon:_coarse_union:32 - /home/soniame/private/projects/corona_geo_id/coarse_grid/coarse_id_new_R2_3.csv\n",
      "2021-08-23 17:23:32.717 | DEBUG    | src.runners.split_polygon:_coarse_union:34 - File: 1828350\n",
      "2021-08-23 17:23:33.124 | DEBUG    | src.runners.split_polygon:_coarse_union:37 - Union: 8171887\n",
      "2021-08-23 17:23:33.125 | DEBUG    | src.runners.split_polygon:_coarse_union:32 - /home/soniame/private/projects/corona_geo_id/coarse_grid/coarse_id_new_R2_4.csv\n",
      "2021-08-23 17:23:46.394 | DEBUG    | src.runners.split_polygon:_coarse_union:34 - File: 1283647\n",
      "2021-08-23 17:23:46.874 | DEBUG    | src.runners.split_polygon:_coarse_union:37 - Union: 9455534\n",
      "2021-08-23 17:23:46.875 | DEBUG    | src.runners.split_polygon:_coarse_union:32 - /home/soniame/private/projects/corona_geo_id/coarse_grid/coarse_id_new_R2_5.csv\n",
      "2021-08-23 17:24:01.129 | DEBUG    | src.runners.split_polygon:_coarse_union:34 - File: 1221259\n",
      "2021-08-23 17:24:01.688 | DEBUG    | src.runners.split_polygon:_coarse_union:37 - Union: 10676793\n",
      "2021-08-23 17:24:01.689 | DEBUG    | src.runners.split_polygon:_coarse_union:32 - /home/soniame/private/projects/corona_geo_id/coarse_grid/coarse_id_new_R2_6.csv\n",
      "2021-08-23 17:24:10.487 | DEBUG    | src.runners.split_polygon:_coarse_union:34 - File: 1201619\n",
      "2021-08-23 17:24:11.096 | DEBUG    | src.runners.split_polygon:_coarse_union:37 - Union: 11878412\n",
      "2021-08-23 17:24:11.097 | DEBUG    | src.runners.split_polygon:_coarse_union:39 - (11878412, 2)\n",
      "2021-08-23 17:24:35.876 | DEBUG    | src.runners.split_polygon:_coarse_union:40 - (11878412, 2)\n"
     ]
    }
   ],
   "source": [
    "# Sample: union of lines for resolution 2\n",
    "csv_files = [\n",
    " '/home/soniame/private/projects/corona_geo_id/coarse_grid/coarse_id_new_R2_1.csv',\n",
    " '/home/soniame/private/projects/corona_geo_id/coarse_grid/coarse_id_new_R2_2.csv',\n",
    " '/home/soniame/private/projects/corona_geo_id/coarse_grid/coarse_id_new_R2_3.csv',\n",
    " '/home/soniame/private/projects/corona_geo_id/coarse_grid/coarse_id_new_R2_4.csv',\n",
    " '/home/soniame/private/projects/corona_geo_id/coarse_grid/coarse_id_new_R2_5.csv',\n",
    " '/home/soniame/private/projects/corona_geo_id/coarse_grid/coarse_id_new_R2_6.csv']\n",
    "csv_files\n",
    "df_coarse_R2 = _coarse_union(csv_files)\n",
    "df_coarse_R2 = df_coarse_R2.rename(columns={'coarse_wkt':'coarse_wkt_2', 'line':'line_wkt'})"
   ]
  },
  {
   "cell_type": "code",
   "execution_count": 30,
   "metadata": {},
   "outputs": [
    {
     "name": "stdout",
     "output_type": "stream",
     "text": [
      "11878412\n",
      "22242051\n",
      "21904128\n"
     ]
    }
   ],
   "source": [
    "print(len(df_coarse_R2))\n",
    "print(len(df_coarse_R1))\n",
    "print(len(df_lines))"
   ]
  },
  {
   "cell_type": "code",
   "execution_count": 34,
   "metadata": {},
   "outputs": [
    {
     "data": {
      "text/html": [
       "<div>\n",
       "<style scoped>\n",
       "    .dataframe tbody tr th:only-of-type {\n",
       "        vertical-align: middle;\n",
       "    }\n",
       "\n",
       "    .dataframe tbody tr th {\n",
       "        vertical-align: top;\n",
       "    }\n",
       "\n",
       "    .dataframe thead th {\n",
       "        text-align: right;\n",
       "    }\n",
       "</style>\n",
       "<table border=\"1\" class=\"dataframe\">\n",
       "  <thead>\n",
       "    <tr style=\"text-align: right;\">\n",
       "      <th></th>\n",
       "      <th>line_wkt</th>\n",
       "      <th>coarse_wkt_2</th>\n",
       "    </tr>\n",
       "  </thead>\n",
       "  <tbody>\n",
       "    <tr>\n",
       "      <th>0</th>\n",
       "      <td>LINESTRING(-48.609037 -27.600528, -48.609256 -...</td>\n",
       "      <td>NaN</td>\n",
       "    </tr>\n",
       "    <tr>\n",
       "      <th>1</th>\n",
       "      <td>LINESTRING(-48.683081 -26.878482, -48.682622 -...</td>\n",
       "      <td>POLYGON ((-47.4611710082754144 -27.76004373820...</td>\n",
       "    </tr>\n",
       "    <tr>\n",
       "      <th>2</th>\n",
       "      <td>LINESTRING(-48.629117 -27.570321, -48.626976 -...</td>\n",
       "      <td>NaN</td>\n",
       "    </tr>\n",
       "    <tr>\n",
       "      <th>3</th>\n",
       "      <td>LINESTRING(-49.092657 -26.482017, -49.093678 -...</td>\n",
       "      <td>POLYGON ((-47.4611710082754144 -27.76004373820...</td>\n",
       "    </tr>\n",
       "    <tr>\n",
       "      <th>4</th>\n",
       "      <td>LINESTRING(-48.682734 -27.640463, -48.680677 -...</td>\n",
       "      <td>NaN</td>\n",
       "    </tr>\n",
       "  </tbody>\n",
       "</table>\n",
       "</div>"
      ],
      "text/plain": [
       "                                            line_wkt  \\\n",
       "0  LINESTRING(-48.609037 -27.600528, -48.609256 -...   \n",
       "1  LINESTRING(-48.683081 -26.878482, -48.682622 -...   \n",
       "2  LINESTRING(-48.629117 -27.570321, -48.626976 -...   \n",
       "3  LINESTRING(-49.092657 -26.482017, -49.093678 -...   \n",
       "4  LINESTRING(-48.682734 -27.640463, -48.680677 -...   \n",
       "\n",
       "                                        coarse_wkt_2  \n",
       "0                                                NaN  \n",
       "1  POLYGON ((-47.4611710082754144 -27.76004373820...  \n",
       "2                                                NaN  \n",
       "3  POLYGON ((-47.4611710082754144 -27.76004373820...  \n",
       "4                                                NaN  "
      ]
     },
     "execution_count": 34,
     "metadata": {},
     "output_type": "execute_result"
    }
   ],
   "source": [
    "df_coarse_R2.head()"
   ]
  },
  {
   "cell_type": "code",
   "execution_count": 29,
   "metadata": {},
   "outputs": [],
   "source": [
    "tab = pd.read_csv('/home/soniame/shared/spd-sdv-omitnik-waze/corona/geo_partition/figures/coarse_grid_distribution.csv')\n",
    "bp = tab.sort_values('lines', ascending=False)[:6][['coarse_wkt']]\n",
    "bp['bp'] = [1, 2, 3, 4, 5, 6]"
   ]
  },
  {
   "cell_type": "code",
   "execution_count": 127,
   "metadata": {},
   "outputs": [
    {
     "name": "stdout",
     "output_type": "stream",
     "text": [
      "21904128\n"
     ]
    }
   ],
   "source": [
    "# Union of previous coarse_wkt, big polygons and line jams\n",
    "# Merge of coarse wkt R1 and R2\n",
    "df_coarse_R = df_lines.\\\n",
    "     merge(df_coarse_R1, how = 'left', on = 'line_wkt'). \\\n",
    "     merge(df_coarse_R2, how = 'left', on = 'line_wkt'). \\\n",
    "     merge(bp, how = 'left', on = 'coarse_wkt'). \\\n",
    "     drop_duplicates()\n",
    " \n",
    "print(len(df_coarse_R))\n",
    "#df_coarse_R.head()"
   ]
  },
  {
   "cell_type": "code",
   "execution_count": 128,
   "metadata": {},
   "outputs": [
    {
     "name": "stdout",
     "output_type": "stream",
     "text": [
      "952800\n",
      "0\n"
     ]
    }
   ],
   "source": [
    "# Replace nulls for values\n",
    "df_coarse_R['coarse_wkt_R'] = np.where(df_coarse_R['bp'].isna(), \n",
    "                                       df_coarse_R['coarse_wkt'], \n",
    "                                       df_coarse_R['coarse_wkt_2'])\n",
    "print(sum(df_coarse_R['coarse_wkt_R'].isna()))\n",
    "\n",
    "df_coarse_R['coarse_wkt_R'] = np.where(df_coarse_R['coarse_wkt_R'].isna(), \n",
    "                                       '(MISSING)', \n",
    "                                       df_coarse_R['coarse_wkt_R'])\n",
    "print(sum(df_coarse_R['coarse_wkt_R'].isna()))"
   ]
  },
  {
   "cell_type": "code",
   "execution_count": 129,
   "metadata": {},
   "outputs": [],
   "source": [
    "# Table of distribution pero wkt union\n",
    "#df_dist = (df_coarse_R\n",
    "#  >> group_by(_.coarse_wkt_R)\n",
    "#  >> summarize(lines = _.line_wkt.count(),\n",
    "#               jams  = _.count_lines.sum(), \n",
    "#               bp = _.bp.max())\n",
    "#  >> ungroup()\n",
    "#  >> arrange(-_.lines)\n",
    "#  )\n",
    "#min_wkt = str(df_dist.sort_values('lines', ascending=True)[:1].coarse_wkt_R)"
   ]
  },
  {
   "cell_type": "code",
   "execution_count": null,
   "metadata": {},
   "outputs": [],
   "source": [
    "# Export to csv \n",
    "coarse_R_path = '/home/soniame/shared/spd-sdv-omitnik-waze/corona/geo_partition/coarse_id/coarse_grid_sample_R2.csv'\n",
    "df_coarse_R[['line_wkt', 'count_lines', 'bp', 'coarse_wkt_R']].to_csv(coarse_R_path, index = False)"
   ]
  },
  {
   "cell_type": "code",
   "execution_count": null,
   "metadata": {},
   "outputs": [],
   "source": []
  },
  {
   "cell_type": "markdown",
   "metadata": {},
   "source": [
    "### Coarse grid distribution Big Polygons"
   ]
  },
  {
   "cell_type": "code",
   "execution_count": 65,
   "metadata": {},
   "outputs": [],
   "source": [
    "from siuba import group_by, ungroup, arrange, summarize, _"
   ]
  },
  {
   "cell_type": "code",
   "execution_count": 62,
   "metadata": {},
   "outputs": [],
   "source": [
    "df_coarse_R = pd.read_csv(coarse_R_path)"
   ]
  },
  {
   "cell_type": "code",
   "execution_count": 120,
   "metadata": {},
   "outputs": [
    {
     "name": "stdout",
     "output_type": "stream",
     "text": [
      "(21904128, 7)\n",
      "91\n",
      "21904128\n"
     ]
    },
    {
     "data": {
      "text/html": [
       "<div>\n",
       "<style scoped>\n",
       "    .dataframe tbody tr th:only-of-type {\n",
       "        vertical-align: middle;\n",
       "    }\n",
       "\n",
       "    .dataframe tbody tr th {\n",
       "        vertical-align: top;\n",
       "    }\n",
       "\n",
       "    .dataframe thead th {\n",
       "        text-align: right;\n",
       "    }\n",
       "</style>\n",
       "<table border=\"1\" class=\"dataframe\">\n",
       "  <thead>\n",
       "    <tr style=\"text-align: right;\">\n",
       "      <th></th>\n",
       "      <th>line_wkt</th>\n",
       "      <th>count_lines</th>\n",
       "      <th>split</th>\n",
       "      <th>coarse_wkt</th>\n",
       "      <th>coarse_wkt_2</th>\n",
       "      <th>bp</th>\n",
       "      <th>coarse_wkt_R</th>\n",
       "    </tr>\n",
       "  </thead>\n",
       "  <tbody>\n",
       "    <tr>\n",
       "      <th>0</th>\n",
       "      <td>linestring (-35.232974 -5.731801,-35.233194 -5...</td>\n",
       "      <td>26</td>\n",
       "      <td>1</td>\n",
       "      <td>POLYGON ((-32.5775356729615666 -12.75415506823...</td>\n",
       "      <td>NaN</td>\n",
       "      <td>NaN</td>\n",
       "      <td>POLYGON ((-32.5775356729615666 -12.75415506823...</td>\n",
       "    </tr>\n",
       "    <tr>\n",
       "      <th>1</th>\n",
       "      <td>linestring (-103.34963 20.733682,-103.350022 2...</td>\n",
       "      <td>84</td>\n",
       "      <td>1</td>\n",
       "      <td>POLYGON ((-99.0040860771203626 15.551320300550...</td>\n",
       "      <td>POLYGON ((-104.0069793612885434 17.72755605260...</td>\n",
       "      <td>2.0</td>\n",
       "      <td>POLYGON ((-104.0069793612885434 17.72755605260...</td>\n",
       "    </tr>\n",
       "    <tr>\n",
       "      <th>2</th>\n",
       "      <td>linestring (-103.270292 20.663531,-103.270276 ...</td>\n",
       "      <td>83</td>\n",
       "      <td>1</td>\n",
       "      <td>POLYGON ((-99.0040860771203626 15.551320300550...</td>\n",
       "      <td>POLYGON ((-104.0069793612885434 17.72755605260...</td>\n",
       "      <td>2.0</td>\n",
       "      <td>POLYGON ((-104.0069793612885434 17.72755605260...</td>\n",
       "    </tr>\n",
       "    <tr>\n",
       "      <th>3</th>\n",
       "      <td>linestring (-99.14832 19.479112,-99.148334 19....</td>\n",
       "      <td>577</td>\n",
       "      <td>1</td>\n",
       "      <td>POLYGON ((-99.0040860771203626 15.551320300550...</td>\n",
       "      <td>POLYGON ((-97.5919371226761996 18.289686316263...</td>\n",
       "      <td>2.0</td>\n",
       "      <td>POLYGON ((-97.5919371226761996 18.289686316263...</td>\n",
       "    </tr>\n",
       "    <tr>\n",
       "      <th>4</th>\n",
       "      <td>linestring (-47.221241 -22.858412,-47.221295 -...</td>\n",
       "      <td>71</td>\n",
       "      <td>1</td>\n",
       "      <td>POLYGON ((-47.4611710082754144 -27.76004373820...</td>\n",
       "      <td>POLYGON ((-46.3295683609798701 -25.28520383079...</td>\n",
       "      <td>1.0</td>\n",
       "      <td>POLYGON ((-46.3295683609798701 -25.28520383079...</td>\n",
       "    </tr>\n",
       "  </tbody>\n",
       "</table>\n",
       "</div>"
      ],
      "text/plain": [
       "                                            line_wkt  count_lines  split  \\\n",
       "0  linestring (-35.232974 -5.731801,-35.233194 -5...           26      1   \n",
       "1  linestring (-103.34963 20.733682,-103.350022 2...           84      1   \n",
       "2  linestring (-103.270292 20.663531,-103.270276 ...           83      1   \n",
       "3  linestring (-99.14832 19.479112,-99.148334 19....          577      1   \n",
       "4  linestring (-47.221241 -22.858412,-47.221295 -...           71      1   \n",
       "\n",
       "                                          coarse_wkt  \\\n",
       "0  POLYGON ((-32.5775356729615666 -12.75415506823...   \n",
       "1  POLYGON ((-99.0040860771203626 15.551320300550...   \n",
       "2  POLYGON ((-99.0040860771203626 15.551320300550...   \n",
       "3  POLYGON ((-99.0040860771203626 15.551320300550...   \n",
       "4  POLYGON ((-47.4611710082754144 -27.76004373820...   \n",
       "\n",
       "                                        coarse_wkt_2   bp  \\\n",
       "0                                                NaN  NaN   \n",
       "1  POLYGON ((-104.0069793612885434 17.72755605260...  2.0   \n",
       "2  POLYGON ((-104.0069793612885434 17.72755605260...  2.0   \n",
       "3  POLYGON ((-97.5919371226761996 18.289686316263...  2.0   \n",
       "4  POLYGON ((-46.3295683609798701 -25.28520383079...  1.0   \n",
       "\n",
       "                                        coarse_wkt_R  \n",
       "0  POLYGON ((-32.5775356729615666 -12.75415506823...  \n",
       "1  POLYGON ((-104.0069793612885434 17.72755605260...  \n",
       "2  POLYGON ((-104.0069793612885434 17.72755605260...  \n",
       "3  POLYGON ((-97.5919371226761996 18.289686316263...  \n",
       "4  POLYGON ((-46.3295683609798701 -25.28520383079...  "
      ]
     },
     "execution_count": 120,
     "metadata": {},
     "output_type": "execute_result"
    }
   ],
   "source": [
    "print(df_coarse_R.shape)\n",
    "print(df_coarse_R.coarse_wkt_R.nunique())\n",
    "print(df_coarse_R.line_wkt.nunique())\n",
    "df_coarse_R.head()"
   ]
  },
  {
   "cell_type": "code",
   "execution_count": 123,
   "metadata": {},
   "outputs": [],
   "source": [
    "# Table of distribution pero wkt union\n",
    "tab = (df_coarse_R\n",
    "  >> group_by(_.coarse_wkt_R)\n",
    "  >> summarize(lines = _.line_wkt.count(),\n",
    "               jams  = _.count_lines.sum(), \n",
    "               bp = _.bp.max())\n",
    "  >> ungroup()\n",
    "  >> arrange(-_.lines)\n",
    "  )"
   ]
  },
  {
   "cell_type": "code",
   "execution_count": 124,
   "metadata": {},
   "outputs": [],
   "source": [
    "# Export to csv \n",
    "tab.to_csv('/home/soniame/shared/spd-sdv-omitnik-waze/corona/geo_partition/figures/coarse_grid_distribution_R.csv', index = False)"
   ]
  },
  {
   "cell_type": "code",
   "execution_count": null,
   "metadata": {},
   "outputs": [],
   "source": []
  },
  {
   "cell_type": "markdown",
   "metadata": {},
   "source": [
    "Plots"
   ]
  },
  {
   "cell_type": "code",
   "execution_count": 76,
   "metadata": {},
   "outputs": [],
   "source": [
    "tab = pd.read_csv('/home/soniame/shared/spd-sdv-omitnik-waze/corona/geo_partition/figures/coarse_grid_distribution_R.csv')"
   ]
  },
  {
   "cell_type": "code",
   "execution_count": 125,
   "metadata": {},
   "outputs": [
    {
     "name": "stderr",
     "output_type": "stream",
     "text": [
      "ERROR|%|s\n"
     ]
    },
    {
     "ename": "WKTReadingError",
     "evalue": "Could not create geometry because of errors while reading input.",
     "output_type": "error",
     "traceback": [
      "\u001b[0;31m---------------------------------------------------------------------------\u001b[0m",
      "\u001b[0;31mWKTReadingError\u001b[0m                           Traceback (most recent call last)",
      "\u001b[0;32m/tmp/ipykernel_4093/3632373806.py\u001b[0m in \u001b[0;36m<module>\u001b[0;34m\u001b[0m\n\u001b[0;32m----> 1\u001b[0;31m \u001b[0mtab\u001b[0m\u001b[0;34m[\u001b[0m\u001b[0;34m'geometry'\u001b[0m\u001b[0;34m]\u001b[0m \u001b[0;34m=\u001b[0m \u001b[0mgpd\u001b[0m\u001b[0;34m.\u001b[0m\u001b[0mGeoSeries\u001b[0m\u001b[0;34m.\u001b[0m\u001b[0mfrom_wkt\u001b[0m\u001b[0;34m(\u001b[0m\u001b[0mtab\u001b[0m\u001b[0;34m[\u001b[0m\u001b[0;34m'coarse_wkt_R'\u001b[0m\u001b[0;34m]\u001b[0m\u001b[0;34m)\u001b[0m\u001b[0;34m\u001b[0m\u001b[0;34m\u001b[0m\u001b[0m\n\u001b[0m\u001b[1;32m      2\u001b[0m \u001b[0mtab\u001b[0m \u001b[0;34m=\u001b[0m \u001b[0mgpd\u001b[0m\u001b[0;34m.\u001b[0m\u001b[0mGeoDataFrame\u001b[0m\u001b[0;34m(\u001b[0m\u001b[0mtab\u001b[0m\u001b[0;34m,\u001b[0m \u001b[0mgeometry\u001b[0m\u001b[0;34m=\u001b[0m\u001b[0;34m'geometry'\u001b[0m\u001b[0;34m)\u001b[0m\u001b[0;34m\u001b[0m\u001b[0;34m\u001b[0m\u001b[0m\n\u001b[1;32m      3\u001b[0m \u001b[0mfig\u001b[0m\u001b[0;34m,\u001b[0m \u001b[0max\u001b[0m \u001b[0;34m=\u001b[0m \u001b[0mplt\u001b[0m\u001b[0;34m.\u001b[0m\u001b[0msubplots\u001b[0m\u001b[0;34m(\u001b[0m\u001b[0;36m1\u001b[0m\u001b[0;34m,\u001b[0m \u001b[0;36m1\u001b[0m\u001b[0;34m)\u001b[0m\u001b[0;34m\u001b[0m\u001b[0;34m\u001b[0m\u001b[0m\n\u001b[1;32m      4\u001b[0m tab.plot(column='lines', ax=ax, \n\u001b[1;32m      5\u001b[0m          legend=True, cmap='OrRd')\n",
      "\u001b[0;32m~/.conda/envs/waze_coronavirus/lib/python3.7/site-packages/geopandas/geoseries.py\u001b[0m in \u001b[0;36mfrom_wkt\u001b[0;34m(cls, data, index, crs, **kwargs)\u001b[0m\n\u001b[1;32m    444\u001b[0m         \u001b[0mdtype\u001b[0m\u001b[0;34m:\u001b[0m \u001b[0mgeometry\u001b[0m\u001b[0;34m\u001b[0m\u001b[0;34m\u001b[0m\u001b[0m\n\u001b[1;32m    445\u001b[0m         \"\"\"\n\u001b[0;32m--> 446\u001b[0;31m         \u001b[0;32mreturn\u001b[0m \u001b[0mcls\u001b[0m\u001b[0;34m.\u001b[0m\u001b[0m_from_wkb_or_wkb\u001b[0m\u001b[0;34m(\u001b[0m\u001b[0mfrom_wkt\u001b[0m\u001b[0;34m,\u001b[0m \u001b[0mdata\u001b[0m\u001b[0;34m,\u001b[0m \u001b[0mindex\u001b[0m\u001b[0;34m=\u001b[0m\u001b[0mindex\u001b[0m\u001b[0;34m,\u001b[0m \u001b[0mcrs\u001b[0m\u001b[0;34m=\u001b[0m\u001b[0mcrs\u001b[0m\u001b[0;34m,\u001b[0m \u001b[0;34m**\u001b[0m\u001b[0mkwargs\u001b[0m\u001b[0;34m)\u001b[0m\u001b[0;34m\u001b[0m\u001b[0;34m\u001b[0m\u001b[0m\n\u001b[0m\u001b[1;32m    447\u001b[0m \u001b[0;34m\u001b[0m\u001b[0m\n\u001b[1;32m    448\u001b[0m     \u001b[0;34m@\u001b[0m\u001b[0mclassmethod\u001b[0m\u001b[0;34m\u001b[0m\u001b[0;34m\u001b[0m\u001b[0m\n",
      "\u001b[0;32m~/.conda/envs/waze_coronavirus/lib/python3.7/site-packages/geopandas/geoseries.py\u001b[0m in \u001b[0;36m_from_wkb_or_wkb\u001b[0;34m(cls, from_wkb_or_wkt_function, data, index, crs, **kwargs)\u001b[0m\n\u001b[1;32m    457\u001b[0m                 \u001b[0mindex\u001b[0m \u001b[0;34m=\u001b[0m \u001b[0mdata\u001b[0m\u001b[0;34m.\u001b[0m\u001b[0mindex\u001b[0m\u001b[0;34m\u001b[0m\u001b[0;34m\u001b[0m\u001b[0m\n\u001b[1;32m    458\u001b[0m             \u001b[0mdata\u001b[0m \u001b[0;34m=\u001b[0m \u001b[0mdata\u001b[0m\u001b[0;34m.\u001b[0m\u001b[0mvalues\u001b[0m\u001b[0;34m\u001b[0m\u001b[0;34m\u001b[0m\u001b[0m\n\u001b[0;32m--> 459\u001b[0;31m         \u001b[0;32mreturn\u001b[0m \u001b[0mcls\u001b[0m\u001b[0;34m(\u001b[0m\u001b[0mfrom_wkb_or_wkt_function\u001b[0m\u001b[0;34m(\u001b[0m\u001b[0mdata\u001b[0m\u001b[0;34m,\u001b[0m \u001b[0mcrs\u001b[0m\u001b[0;34m=\u001b[0m\u001b[0mcrs\u001b[0m\u001b[0;34m)\u001b[0m\u001b[0;34m,\u001b[0m \u001b[0mindex\u001b[0m\u001b[0;34m=\u001b[0m\u001b[0mindex\u001b[0m\u001b[0;34m,\u001b[0m \u001b[0;34m**\u001b[0m\u001b[0mkwargs\u001b[0m\u001b[0;34m)\u001b[0m\u001b[0;34m\u001b[0m\u001b[0;34m\u001b[0m\u001b[0m\n\u001b[0m\u001b[1;32m    460\u001b[0m \u001b[0;34m\u001b[0m\u001b[0m\n\u001b[1;32m    461\u001b[0m     \u001b[0;34m@\u001b[0m\u001b[0mproperty\u001b[0m\u001b[0;34m\u001b[0m\u001b[0;34m\u001b[0m\u001b[0m\n",
      "\u001b[0;32m~/.conda/envs/waze_coronavirus/lib/python3.7/site-packages/geopandas/array.py\u001b[0m in \u001b[0;36mfrom_wkt\u001b[0;34m(data, crs)\u001b[0m\n\u001b[1;32m    218\u001b[0m \u001b[0;34m\u001b[0m\u001b[0m\n\u001b[1;32m    219\u001b[0m     \"\"\"\n\u001b[0;32m--> 220\u001b[0;31m     \u001b[0;32mreturn\u001b[0m \u001b[0mGeometryArray\u001b[0m\u001b[0;34m(\u001b[0m\u001b[0mvectorized\u001b[0m\u001b[0;34m.\u001b[0m\u001b[0mfrom_wkt\u001b[0m\u001b[0;34m(\u001b[0m\u001b[0mdata\u001b[0m\u001b[0;34m)\u001b[0m\u001b[0;34m,\u001b[0m \u001b[0mcrs\u001b[0m\u001b[0;34m=\u001b[0m\u001b[0mcrs\u001b[0m\u001b[0;34m)\u001b[0m\u001b[0;34m\u001b[0m\u001b[0;34m\u001b[0m\u001b[0m\n\u001b[0m\u001b[1;32m    221\u001b[0m \u001b[0;34m\u001b[0m\u001b[0m\n\u001b[1;32m    222\u001b[0m \u001b[0;34m\u001b[0m\u001b[0m\n",
      "\u001b[0;32m~/.conda/envs/waze_coronavirus/lib/python3.7/site-packages/geopandas/_vectorized.py\u001b[0m in \u001b[0;36mfrom_wkt\u001b[0;34m(data)\u001b[0m\n\u001b[1;32m    204\u001b[0m             \u001b[0;32mif\u001b[0m \u001b[0misinstance\u001b[0m\u001b[0;34m(\u001b[0m\u001b[0mgeom\u001b[0m\u001b[0;34m,\u001b[0m \u001b[0mbytes\u001b[0m\u001b[0;34m)\u001b[0m\u001b[0;34m:\u001b[0m\u001b[0;34m\u001b[0m\u001b[0;34m\u001b[0m\u001b[0m\n\u001b[1;32m    205\u001b[0m                 \u001b[0mgeom\u001b[0m \u001b[0;34m=\u001b[0m \u001b[0mgeom\u001b[0m\u001b[0;34m.\u001b[0m\u001b[0mdecode\u001b[0m\u001b[0;34m(\u001b[0m\u001b[0;34m\"utf-8\"\u001b[0m\u001b[0;34m)\u001b[0m\u001b[0;34m\u001b[0m\u001b[0;34m\u001b[0m\u001b[0m\n\u001b[0;32m--> 206\u001b[0;31m             \u001b[0mgeom\u001b[0m \u001b[0;34m=\u001b[0m \u001b[0mshapely\u001b[0m\u001b[0;34m.\u001b[0m\u001b[0mwkt\u001b[0m\u001b[0;34m.\u001b[0m\u001b[0mloads\u001b[0m\u001b[0;34m(\u001b[0m\u001b[0mgeom\u001b[0m\u001b[0;34m)\u001b[0m\u001b[0;34m\u001b[0m\u001b[0;34m\u001b[0m\u001b[0m\n\u001b[0m\u001b[1;32m    207\u001b[0m         \u001b[0;32melse\u001b[0m\u001b[0;34m:\u001b[0m\u001b[0;34m\u001b[0m\u001b[0;34m\u001b[0m\u001b[0m\n\u001b[1;32m    208\u001b[0m             \u001b[0mgeom\u001b[0m \u001b[0;34m=\u001b[0m \u001b[0;32mNone\u001b[0m\u001b[0;34m\u001b[0m\u001b[0;34m\u001b[0m\u001b[0m\n",
      "\u001b[0;32m~/.conda/envs/waze_coronavirus/lib/python3.7/site-packages/shapely/wkt.py\u001b[0m in \u001b[0;36mloads\u001b[0;34m(data)\u001b[0m\n\u001b[1;32m      8\u001b[0m \u001b[0;32mdef\u001b[0m \u001b[0mloads\u001b[0m\u001b[0;34m(\u001b[0m\u001b[0mdata\u001b[0m\u001b[0;34m)\u001b[0m\u001b[0;34m:\u001b[0m\u001b[0;34m\u001b[0m\u001b[0;34m\u001b[0m\u001b[0m\n\u001b[1;32m      9\u001b[0m     \u001b[0;34m\"\"\"Load a geometry from a WKT string.\"\"\"\u001b[0m\u001b[0;34m\u001b[0m\u001b[0;34m\u001b[0m\u001b[0m\n\u001b[0;32m---> 10\u001b[0;31m     \u001b[0;32mreturn\u001b[0m \u001b[0mgeos\u001b[0m\u001b[0;34m.\u001b[0m\u001b[0mWKTReader\u001b[0m\u001b[0;34m(\u001b[0m\u001b[0mgeos\u001b[0m\u001b[0;34m.\u001b[0m\u001b[0mlgeos\u001b[0m\u001b[0;34m)\u001b[0m\u001b[0;34m.\u001b[0m\u001b[0mread\u001b[0m\u001b[0;34m(\u001b[0m\u001b[0mdata\u001b[0m\u001b[0;34m)\u001b[0m\u001b[0;34m\u001b[0m\u001b[0;34m\u001b[0m\u001b[0m\n\u001b[0m\u001b[1;32m     11\u001b[0m \u001b[0;34m\u001b[0m\u001b[0m\n\u001b[1;32m     12\u001b[0m \u001b[0;32mdef\u001b[0m \u001b[0mload\u001b[0m\u001b[0;34m(\u001b[0m\u001b[0mfp\u001b[0m\u001b[0;34m)\u001b[0m\u001b[0;34m:\u001b[0m\u001b[0;34m\u001b[0m\u001b[0;34m\u001b[0m\u001b[0m\n",
      "\u001b[0;32m~/.conda/envs/waze_coronavirus/lib/python3.7/site-packages/shapely/geos.py\u001b[0m in \u001b[0;36mread\u001b[0;34m(self, text)\u001b[0m\n\u001b[1;32m    284\u001b[0m         \u001b[0;32mif\u001b[0m \u001b[0;32mnot\u001b[0m \u001b[0mgeom\u001b[0m\u001b[0;34m:\u001b[0m\u001b[0;34m\u001b[0m\u001b[0;34m\u001b[0m\u001b[0m\n\u001b[1;32m    285\u001b[0m             raise WKTReadingError(\n\u001b[0;32m--> 286\u001b[0;31m                 \u001b[0;34m\"Could not create geometry because of errors \"\u001b[0m\u001b[0;34m\u001b[0m\u001b[0;34m\u001b[0m\u001b[0m\n\u001b[0m\u001b[1;32m    287\u001b[0m                 \"while reading input.\")\n\u001b[1;32m    288\u001b[0m         \u001b[0;31m# avoid circular import dependency\u001b[0m\u001b[0;34m\u001b[0m\u001b[0;34m\u001b[0m\u001b[0;34m\u001b[0m\u001b[0m\n",
      "\u001b[0;31mWKTReadingError\u001b[0m: Could not create geometry because of errors while reading input."
     ]
    }
   ],
   "source": [
    "tab['geometry'] = gpd.GeoSeries.from_wkt(tab['coarse_wkt_R'])\n",
    "tab = gpd.GeoDataFrame(tab, geometry='geometry')\n",
    "fig, ax = plt.subplots(1, 1)\n",
    "tab.plot(column='lines', ax=ax, \n",
    "         legend=True, cmap='OrRd')\n",
    "plt.title('Coarse Grid 1 - Number of lines')\n",
    "plt.savefig('/home/soniame/shared/spd-sdv-omitnik-waze/corona/geo_partition/figures/coarse_map_LinesR2.pdf')"
   ]
  },
  {
   "cell_type": "code",
   "execution_count": null,
   "metadata": {},
   "outputs": [],
   "source": [
    "fig, ax = plt.subplots(1, 1)\n",
    "tab.plot(column='jams', ax=ax, \n",
    "         legend=True, cmap='OrRd')\n",
    "plt.title('Coarse Grid 1 - Number of Jams')\n",
    "plt.savefig('/home/soniame/shared/spd-sdv-omitnik-waze/corona/geo_partition/figures/coarse_map_JamsR2.pdf')"
   ]
  },
  {
   "cell_type": "code",
   "execution_count": null,
   "metadata": {},
   "outputs": [],
   "source": []
  },
  {
   "cell_type": "markdown",
   "metadata": {},
   "source": [
    "## Creating squares"
   ]
  },
  {
   "cell_type": "code",
   "execution_count": 3,
   "metadata": {},
   "outputs": [],
   "source": [
    "from src.runners import split_polygon"
   ]
  },
  {
   "cell_type": "code",
   "execution_count": 14,
   "metadata": {},
   "outputs": [],
   "source": [
    "from shapely.geometry import box, Polygon, MultiPolygon, GeometryCollection\n",
    "from shapely.wkt import loads"
   ]
  },
  {
   "cell_type": "code",
   "execution_count": 82,
   "metadata": {},
   "outputs": [
    {
     "name": "stdout",
     "output_type": "stream",
     "text": [
      "5970.269755\n"
     ]
    }
   ],
   "source": [
    "# - Example \n",
    "# polygon = 'POLYGON((2.0117187499999822 44.38657313925715,-19.433593750000018 19.207272119703983,19.414062499999982 6.904449621538131,64.94140624999999 -3.096801256840523,81.46484374999999 37.21269961002643,45.78124999999998 24.106495997107682,53.69140624999998 51.22054369437158,3.7695312499999822 37.07257833232809,2.0117187499999822 44.38657313925715))'\n",
    "# - Latin America \n",
    "# polygon = 'POLYGON ((-127.265625 34.30714385628804, -128.671875 -56.94497418085159, -28.4765625 -57.70414723434192, -29.8828125 16.97274101999902, -84.72656249999999 25.48295117535531, -116.71874999999999 35.746512259918504, -127.265625 34.30714385628804))'\n",
    "# - Triángulo \n",
    "# polygon = Polygon([(0, 0), (5, 5), (5, 0)])\n",
    "# - Peru\n",
    "# polygon = 'POLYGON ((-77.10205078124999 -13.004557745339769, -72.158203125 -13.004557745339769, -72.158203125 -8.90678000752024, -77.10205078124999 -8.90678000752024, -77.10205078124999 -13.004557745339769))'\n",
    "# - Latin america BID\n",
    "polygon = 'POLYGON((-129.454 37.238,-90.781 27.311,-67.117 20.333,-68.721 17.506,-23.765 -9.114,-65.601 -60.714,-126.421 -23.479,-129.454 37.238))'\n",
    "geometry = wkt.loads(polygon)\n",
    "print(geometry.area)\n",
    "#geometry"
   ]
  },
  {
   "cell_type": "code",
   "execution_count": 83,
   "metadata": {},
   "outputs": [
    {
     "data": {
      "text/html": [
       "<div>\n",
       "<style scoped>\n",
       "    .dataframe tbody tr th:only-of-type {\n",
       "        vertical-align: middle;\n",
       "    }\n",
       "\n",
       "    .dataframe tbody tr th {\n",
       "        vertical-align: top;\n",
       "    }\n",
       "\n",
       "    .dataframe thead th {\n",
       "        text-align: right;\n",
       "    }\n",
       "</style>\n",
       "<table border=\"1\" class=\"dataframe\">\n",
       "  <thead>\n",
       "    <tr style=\"text-align: right;\">\n",
       "      <th></th>\n",
       "      <th>line_wkt</th>\n",
       "      <th>count_lines</th>\n",
       "      <th>split</th>\n",
       "    </tr>\n",
       "  </thead>\n",
       "  <tbody>\n",
       "    <tr>\n",
       "      <th>0</th>\n",
       "      <td>linestring (-35.232974 -5.731801,-35.233194 -5...</td>\n",
       "      <td>26</td>\n",
       "      <td>1</td>\n",
       "    </tr>\n",
       "    <tr>\n",
       "      <th>1</th>\n",
       "      <td>linestring (-103.34963 20.733682,-103.350022 2...</td>\n",
       "      <td>84</td>\n",
       "      <td>1</td>\n",
       "    </tr>\n",
       "    <tr>\n",
       "      <th>2</th>\n",
       "      <td>linestring (-103.270292 20.663531,-103.270276 ...</td>\n",
       "      <td>83</td>\n",
       "      <td>1</td>\n",
       "    </tr>\n",
       "    <tr>\n",
       "      <th>3</th>\n",
       "      <td>linestring (-99.14832 19.479112,-99.148334 19....</td>\n",
       "      <td>577</td>\n",
       "      <td>1</td>\n",
       "    </tr>\n",
       "    <tr>\n",
       "      <th>4</th>\n",
       "      <td>linestring (-47.221241 -22.858412,-47.221295 -...</td>\n",
       "      <td>71</td>\n",
       "      <td>1</td>\n",
       "    </tr>\n",
       "  </tbody>\n",
       "</table>\n",
       "</div>"
      ],
      "text/plain": [
       "                                            line_wkt  count_lines  split\n",
       "0  linestring (-35.232974 -5.731801,-35.233194 -5...           26      1\n",
       "1  linestring (-103.34963 20.733682,-103.350022 2...           84      1\n",
       "2  linestring (-103.270292 20.663531,-103.270276 ...           83      1\n",
       "3  linestring (-99.14832 19.479112,-99.148334 19....          577      1\n",
       "4  linestring (-47.221241 -22.858412,-47.221295 -...           71      1"
      ]
     },
     "execution_count": 83,
     "metadata": {},
     "output_type": "execute_result"
    }
   ],
   "source": [
    "df_lines = split_polygon._get_lines()"
   ]
  },
  {
   "cell_type": "code",
   "execution_count": 86,
   "metadata": {},
   "outputs": [],
   "source": [
    "df_coarse = split_polygon._get_coarse_grid()"
   ]
  },
  {
   "cell_type": "code",
   "execution_count": 87,
   "metadata": {},
   "outputs": [],
   "source": [
    "df_dist   = pd.read_csv('/home/soniame/shared/spd-sdv-omitnik-waze/corona/geo_partition/figures/coarse_grid_distribution_R.csv')"
   ]
  },
  {
   "cell_type": "code",
   "execution_count": 106,
   "metadata": {},
   "outputs": [
    {
     "name": "stdout",
     "output_type": "stream",
     "text": [
      "21904128\n",
      "21904128\n",
      "91\n"
     ]
    }
   ],
   "source": [
    "print(len(df_lines.line_wkt))\n",
    "print(len(df_coarse.coarse_wkt))\n",
    "print(len(df_dist))"
   ]
  },
  {
   "cell_type": "code",
   "execution_count": 104,
   "metadata": {},
   "outputs": [
    {
     "data": {
      "text/plain": [
       "90    POLYGON ((-75.0277174687797981 -48.66996537978...\n",
       "Name: coarse_wkt_R, dtype: object"
      ]
     },
     "execution_count": 104,
     "metadata": {},
     "output_type": "execute_result"
    }
   ],
   "source": []
  },
  {
   "cell_type": "code",
   "execution_count": 89,
   "metadata": {},
   "outputs": [],
   "source": [
    "def _intersection_geometry(geometry, wkt_str, jams = None):\n",
    "\n",
    "    intersection = int(geometry.intersection(wkt.loads(wkt_str)).is_empty == False)\n",
    "    \n",
    "    if jams == None:\n",
    "        result = intersection\n",
    "    else:     \n",
    "        result = intersection*jams\n",
    "    \n",
    "    return(result)\n",
    "\n",
    "def _intersection_coarse(geometry, df_dist):\n",
    "    \n",
    "    in_jams = [_intersection_geometry(geometry, row['coarse_wkt_R'], row['jams']) for index, row in df_dist.iterrows()]\n",
    "    in_polygons = df_dist[[x > 0 for x in in_jams]]\n",
    "    \n",
    "    return(in_jams, in_polygons)\n",
    "\n",
    "\n",
    "def _threshold_density_func(geometry, threshold_value, df_dist, df_coarse):\n",
    "    \"\"\"\n",
    "    Compares in coarse grid\n",
    "    \"\"\"\n",
    "    # Coarse check\n",
    "    in_jams, in_polygons = _intersection_coarse(geometry, df_dist)\n",
    "    th_coarse = sum(in_jams)/sum(df_dist.jams)\n",
    "    logger.debug(f\"TC{th_coarse}\") \n",
    "    \n",
    "    if times/total > threshold_value:\n",
    "        return(False)\n",
    "    if times/total < threshold_value:\n",
    "        # Intersection of lines withing coarse grid\n",
    "        in_polygons = df_dist[[x > 0 for x in in_jams]]\n",
    "        df_lines = df_coarse[['line_wkt', 'coarse_wkt_R']].merge(in_polygons, how='inner', on = 'coarse_wkt_R')\n",
    "        # Intersection of lines withing katana grid\n",
    "        \n",
    "        # times = [_intersection_geomentry(line, geometry) for line in df_lines.line_wkt]\n",
    "        # total_lines = df_lines.count_lines\n",
    "    \n",
    "    \n",
    "    return (inter/total) < (threshold_value)"
   ]
  },
  {
   "cell_type": "code",
   "execution_count": 90,
   "metadata": {},
   "outputs": [
    {
     "name": "stderr",
     "output_type": "stream",
     "text": [
      "ERROR|%|s\n"
     ]
    },
    {
     "ename": "WKTReadingError",
     "evalue": "Could not create geometry because of errors while reading input.",
     "output_type": "error",
     "traceback": [
      "\u001b[0;31m---------------------------------------------------------------------------\u001b[0m",
      "\u001b[0;31mWKTReadingError\u001b[0m                           Traceback (most recent call last)",
      "\u001b[0;32m/tmp/ipykernel_4093/165067990.py\u001b[0m in \u001b[0;36m<module>\u001b[0;34m\u001b[0m\n\u001b[0;32m----> 1\u001b[0;31m \u001b[0min_jams\u001b[0m\u001b[0;34m,\u001b[0m \u001b[0min_polygons\u001b[0m \u001b[0;34m=\u001b[0m \u001b[0m_intersection_coarse\u001b[0m\u001b[0;34m(\u001b[0m\u001b[0mgeometry\u001b[0m\u001b[0;34m,\u001b[0m \u001b[0mdf_dist\u001b[0m\u001b[0;34m)\u001b[0m\u001b[0;34m\u001b[0m\u001b[0;34m\u001b[0m\u001b[0m\n\u001b[0m\u001b[1;32m      2\u001b[0m \u001b[0mdf_lines\u001b[0m \u001b[0;34m=\u001b[0m \u001b[0mdf_coarse\u001b[0m\u001b[0;34m[\u001b[0m\u001b[0;34m[\u001b[0m\u001b[0;34m'line_wkt'\u001b[0m\u001b[0;34m,\u001b[0m \u001b[0;34m'coarse_wkt_R'\u001b[0m\u001b[0;34m]\u001b[0m\u001b[0;34m]\u001b[0m\u001b[0;34m.\u001b[0m\u001b[0mmerge\u001b[0m\u001b[0;34m(\u001b[0m\u001b[0min_polygons\u001b[0m\u001b[0;34m,\u001b[0m \u001b[0mhow\u001b[0m\u001b[0;34m=\u001b[0m\u001b[0;34m'inner'\u001b[0m\u001b[0;34m,\u001b[0m \u001b[0mon\u001b[0m \u001b[0;34m=\u001b[0m \u001b[0;34m'coarse_wkt_R'\u001b[0m\u001b[0;34m)\u001b[0m\u001b[0;34m\u001b[0m\u001b[0;34m\u001b[0m\u001b[0m\n\u001b[1;32m      3\u001b[0m \u001b[0mprint\u001b[0m\u001b[0;34m(\u001b[0m\u001b[0mdf_coarse\u001b[0m\u001b[0;34m.\u001b[0m\u001b[0mshape\u001b[0m\u001b[0;34m)\u001b[0m\u001b[0;34m\u001b[0m\u001b[0;34m\u001b[0m\u001b[0m\n\u001b[1;32m      4\u001b[0m \u001b[0mprint\u001b[0m\u001b[0;34m(\u001b[0m\u001b[0mdf_coarse\u001b[0m\u001b[0;34m.\u001b[0m\u001b[0mshape\u001b[0m\u001b[0;34m)\u001b[0m\u001b[0;34m\u001b[0m\u001b[0;34m\u001b[0m\u001b[0m\n\u001b[1;32m      5\u001b[0m \u001b[0mprint\u001b[0m\u001b[0;34m(\u001b[0m\u001b[0mdf_lines\u001b[0m\u001b[0;34m.\u001b[0m\u001b[0mshape\u001b[0m\u001b[0;34m)\u001b[0m\u001b[0;34m\u001b[0m\u001b[0;34m\u001b[0m\u001b[0m\n",
      "\u001b[0;32m/tmp/ipykernel_4093/1110924862.py\u001b[0m in \u001b[0;36m_intersection_coarse\u001b[0;34m(geometry, df_dist)\u001b[0m\n\u001b[1;32m     12\u001b[0m \u001b[0;32mdef\u001b[0m \u001b[0m_intersection_coarse\u001b[0m\u001b[0;34m(\u001b[0m\u001b[0mgeometry\u001b[0m\u001b[0;34m,\u001b[0m \u001b[0mdf_dist\u001b[0m\u001b[0;34m)\u001b[0m\u001b[0;34m:\u001b[0m\u001b[0;34m\u001b[0m\u001b[0;34m\u001b[0m\u001b[0m\n\u001b[1;32m     13\u001b[0m \u001b[0;34m\u001b[0m\u001b[0m\n\u001b[0;32m---> 14\u001b[0;31m     \u001b[0min_jams\u001b[0m \u001b[0;34m=\u001b[0m \u001b[0;34m[\u001b[0m\u001b[0m_intersection_geometry\u001b[0m\u001b[0;34m(\u001b[0m\u001b[0mgeometry\u001b[0m\u001b[0;34m,\u001b[0m \u001b[0mrow\u001b[0m\u001b[0;34m[\u001b[0m\u001b[0;34m'coarse_wkt_R'\u001b[0m\u001b[0;34m]\u001b[0m\u001b[0;34m,\u001b[0m \u001b[0mrow\u001b[0m\u001b[0;34m[\u001b[0m\u001b[0;34m'jams'\u001b[0m\u001b[0;34m]\u001b[0m\u001b[0;34m)\u001b[0m \u001b[0;32mfor\u001b[0m \u001b[0mindex\u001b[0m\u001b[0;34m,\u001b[0m \u001b[0mrow\u001b[0m \u001b[0;32min\u001b[0m \u001b[0mdf_dist\u001b[0m\u001b[0;34m.\u001b[0m\u001b[0miterrows\u001b[0m\u001b[0;34m(\u001b[0m\u001b[0;34m)\u001b[0m\u001b[0;34m]\u001b[0m\u001b[0;34m\u001b[0m\u001b[0;34m\u001b[0m\u001b[0m\n\u001b[0m\u001b[1;32m     15\u001b[0m     \u001b[0min_polygons\u001b[0m \u001b[0;34m=\u001b[0m \u001b[0mdf_dist\u001b[0m\u001b[0;34m[\u001b[0m\u001b[0;34m[\u001b[0m\u001b[0mx\u001b[0m \u001b[0;34m>\u001b[0m \u001b[0;36m0\u001b[0m \u001b[0;32mfor\u001b[0m \u001b[0mx\u001b[0m \u001b[0;32min\u001b[0m \u001b[0min_jams\u001b[0m\u001b[0;34m]\u001b[0m\u001b[0;34m]\u001b[0m\u001b[0;34m\u001b[0m\u001b[0;34m\u001b[0m\u001b[0m\n\u001b[1;32m     16\u001b[0m \u001b[0;34m\u001b[0m\u001b[0m\n",
      "\u001b[0;32m/tmp/ipykernel_4093/1110924862.py\u001b[0m in \u001b[0;36m<listcomp>\u001b[0;34m(.0)\u001b[0m\n\u001b[1;32m     12\u001b[0m \u001b[0;32mdef\u001b[0m \u001b[0m_intersection_coarse\u001b[0m\u001b[0;34m(\u001b[0m\u001b[0mgeometry\u001b[0m\u001b[0;34m,\u001b[0m \u001b[0mdf_dist\u001b[0m\u001b[0;34m)\u001b[0m\u001b[0;34m:\u001b[0m\u001b[0;34m\u001b[0m\u001b[0;34m\u001b[0m\u001b[0m\n\u001b[1;32m     13\u001b[0m \u001b[0;34m\u001b[0m\u001b[0m\n\u001b[0;32m---> 14\u001b[0;31m     \u001b[0min_jams\u001b[0m \u001b[0;34m=\u001b[0m \u001b[0;34m[\u001b[0m\u001b[0m_intersection_geometry\u001b[0m\u001b[0;34m(\u001b[0m\u001b[0mgeometry\u001b[0m\u001b[0;34m,\u001b[0m \u001b[0mrow\u001b[0m\u001b[0;34m[\u001b[0m\u001b[0;34m'coarse_wkt_R'\u001b[0m\u001b[0;34m]\u001b[0m\u001b[0;34m,\u001b[0m \u001b[0mrow\u001b[0m\u001b[0;34m[\u001b[0m\u001b[0;34m'jams'\u001b[0m\u001b[0;34m]\u001b[0m\u001b[0;34m)\u001b[0m \u001b[0;32mfor\u001b[0m \u001b[0mindex\u001b[0m\u001b[0;34m,\u001b[0m \u001b[0mrow\u001b[0m \u001b[0;32min\u001b[0m \u001b[0mdf_dist\u001b[0m\u001b[0;34m.\u001b[0m\u001b[0miterrows\u001b[0m\u001b[0;34m(\u001b[0m\u001b[0;34m)\u001b[0m\u001b[0;34m]\u001b[0m\u001b[0;34m\u001b[0m\u001b[0;34m\u001b[0m\u001b[0m\n\u001b[0m\u001b[1;32m     15\u001b[0m     \u001b[0min_polygons\u001b[0m \u001b[0;34m=\u001b[0m \u001b[0mdf_dist\u001b[0m\u001b[0;34m[\u001b[0m\u001b[0;34m[\u001b[0m\u001b[0mx\u001b[0m \u001b[0;34m>\u001b[0m \u001b[0;36m0\u001b[0m \u001b[0;32mfor\u001b[0m \u001b[0mx\u001b[0m \u001b[0;32min\u001b[0m \u001b[0min_jams\u001b[0m\u001b[0;34m]\u001b[0m\u001b[0;34m]\u001b[0m\u001b[0;34m\u001b[0m\u001b[0;34m\u001b[0m\u001b[0m\n\u001b[1;32m     16\u001b[0m \u001b[0;34m\u001b[0m\u001b[0m\n",
      "\u001b[0;32m/tmp/ipykernel_4093/1110924862.py\u001b[0m in \u001b[0;36m_intersection_geometry\u001b[0;34m(geometry, wkt_str, jams)\u001b[0m\n\u001b[1;32m      1\u001b[0m \u001b[0;32mdef\u001b[0m \u001b[0m_intersection_geometry\u001b[0m\u001b[0;34m(\u001b[0m\u001b[0mgeometry\u001b[0m\u001b[0;34m,\u001b[0m \u001b[0mwkt_str\u001b[0m\u001b[0;34m,\u001b[0m \u001b[0mjams\u001b[0m \u001b[0;34m=\u001b[0m \u001b[0;32mNone\u001b[0m\u001b[0;34m)\u001b[0m\u001b[0;34m:\u001b[0m\u001b[0;34m\u001b[0m\u001b[0;34m\u001b[0m\u001b[0m\n\u001b[1;32m      2\u001b[0m \u001b[0;34m\u001b[0m\u001b[0m\n\u001b[0;32m----> 3\u001b[0;31m     \u001b[0mintersection\u001b[0m \u001b[0;34m=\u001b[0m \u001b[0mint\u001b[0m\u001b[0;34m(\u001b[0m\u001b[0mgeometry\u001b[0m\u001b[0;34m.\u001b[0m\u001b[0mintersection\u001b[0m\u001b[0;34m(\u001b[0m\u001b[0mwkt\u001b[0m\u001b[0;34m.\u001b[0m\u001b[0mloads\u001b[0m\u001b[0;34m(\u001b[0m\u001b[0mwkt_str\u001b[0m\u001b[0;34m)\u001b[0m\u001b[0;34m)\u001b[0m\u001b[0;34m.\u001b[0m\u001b[0mis_empty\u001b[0m \u001b[0;34m==\u001b[0m \u001b[0;32mFalse\u001b[0m\u001b[0;34m)\u001b[0m\u001b[0;34m\u001b[0m\u001b[0;34m\u001b[0m\u001b[0m\n\u001b[0m\u001b[1;32m      4\u001b[0m \u001b[0;34m\u001b[0m\u001b[0m\n\u001b[1;32m      5\u001b[0m     \u001b[0;32mif\u001b[0m \u001b[0mjams\u001b[0m \u001b[0;34m==\u001b[0m \u001b[0;32mNone\u001b[0m\u001b[0;34m:\u001b[0m\u001b[0;34m\u001b[0m\u001b[0;34m\u001b[0m\u001b[0m\n",
      "\u001b[0;32m~/.conda/envs/waze_coronavirus/lib/python3.7/site-packages/shapely/wkt.py\u001b[0m in \u001b[0;36mloads\u001b[0;34m(data)\u001b[0m\n\u001b[1;32m      8\u001b[0m \u001b[0;32mdef\u001b[0m \u001b[0mloads\u001b[0m\u001b[0;34m(\u001b[0m\u001b[0mdata\u001b[0m\u001b[0;34m)\u001b[0m\u001b[0;34m:\u001b[0m\u001b[0;34m\u001b[0m\u001b[0;34m\u001b[0m\u001b[0m\n\u001b[1;32m      9\u001b[0m     \u001b[0;34m\"\"\"Load a geometry from a WKT string.\"\"\"\u001b[0m\u001b[0;34m\u001b[0m\u001b[0;34m\u001b[0m\u001b[0m\n\u001b[0;32m---> 10\u001b[0;31m     \u001b[0;32mreturn\u001b[0m \u001b[0mgeos\u001b[0m\u001b[0;34m.\u001b[0m\u001b[0mWKTReader\u001b[0m\u001b[0;34m(\u001b[0m\u001b[0mgeos\u001b[0m\u001b[0;34m.\u001b[0m\u001b[0mlgeos\u001b[0m\u001b[0;34m)\u001b[0m\u001b[0;34m.\u001b[0m\u001b[0mread\u001b[0m\u001b[0;34m(\u001b[0m\u001b[0mdata\u001b[0m\u001b[0;34m)\u001b[0m\u001b[0;34m\u001b[0m\u001b[0;34m\u001b[0m\u001b[0m\n\u001b[0m\u001b[1;32m     11\u001b[0m \u001b[0;34m\u001b[0m\u001b[0m\n\u001b[1;32m     12\u001b[0m \u001b[0;32mdef\u001b[0m \u001b[0mload\u001b[0m\u001b[0;34m(\u001b[0m\u001b[0mfp\u001b[0m\u001b[0;34m)\u001b[0m\u001b[0;34m:\u001b[0m\u001b[0;34m\u001b[0m\u001b[0;34m\u001b[0m\u001b[0m\n",
      "\u001b[0;32m~/.conda/envs/waze_coronavirus/lib/python3.7/site-packages/shapely/geos.py\u001b[0m in \u001b[0;36mread\u001b[0;34m(self, text)\u001b[0m\n\u001b[1;32m    284\u001b[0m         \u001b[0;32mif\u001b[0m \u001b[0;32mnot\u001b[0m \u001b[0mgeom\u001b[0m\u001b[0;34m:\u001b[0m\u001b[0;34m\u001b[0m\u001b[0;34m\u001b[0m\u001b[0m\n\u001b[1;32m    285\u001b[0m             raise WKTReadingError(\n\u001b[0;32m--> 286\u001b[0;31m                 \u001b[0;34m\"Could not create geometry because of errors \"\u001b[0m\u001b[0;34m\u001b[0m\u001b[0;34m\u001b[0m\u001b[0m\n\u001b[0m\u001b[1;32m    287\u001b[0m                 \"while reading input.\")\n\u001b[1;32m    288\u001b[0m         \u001b[0;31m# avoid circular import dependency\u001b[0m\u001b[0;34m\u001b[0m\u001b[0;34m\u001b[0m\u001b[0;34m\u001b[0m\u001b[0m\n",
      "\u001b[0;31mWKTReadingError\u001b[0m: Could not create geometry because of errors while reading input."
     ]
    }
   ],
   "source": [
    "in_jams, in_polygons = _intersection_coarse(geometry, df_dist)\n",
    "df_lines = df_coarse[['line_wkt', 'coarse_wkt_R']].merge(in_polygons, how='inner', on = 'coarse_wkt_R')\n",
    "print(df_coarse.shape)\n",
    "print(df_coarse.shape)\n",
    "print(df_lines.shape)\n",
    "df_lines.head()"
   ]
  },
  {
   "cell_type": "code",
   "execution_count": 124,
   "metadata": {},
   "outputs": [
    {
     "data": {
      "text/html": [
       "<div>\n",
       "<style scoped>\n",
       "    .dataframe tbody tr th:only-of-type {\n",
       "        vertical-align: middle;\n",
       "    }\n",
       "\n",
       "    .dataframe tbody tr th {\n",
       "        vertical-align: top;\n",
       "    }\n",
       "\n",
       "    .dataframe thead th {\n",
       "        text-align: right;\n",
       "    }\n",
       "</style>\n",
       "<table border=\"1\" class=\"dataframe\">\n",
       "  <thead>\n",
       "    <tr style=\"text-align: right;\">\n",
       "      <th></th>\n",
       "      <th>line_wkt</th>\n",
       "      <th>coarse_wkt_R</th>\n",
       "      <th>lines</th>\n",
       "      <th>jams</th>\n",
       "      <th>bp</th>\n",
       "    </tr>\n",
       "  </thead>\n",
       "  <tbody>\n",
       "    <tr>\n",
       "      <th>0</th>\n",
       "      <td>LINESTRING(-75.097855 4.448101, -75.098718 4.4...</td>\n",
       "      <td>POLYGON ((-74.4857705226650779 5.7379220187705...</td>\n",
       "      <td>829379</td>\n",
       "      <td>26693710.0</td>\n",
       "      <td>4.0</td>\n",
       "    </tr>\n",
       "    <tr>\n",
       "      <th>1</th>\n",
       "      <td>LINESTRING(-75.224942 4.442335, -75.225095 4.4...</td>\n",
       "      <td>POLYGON ((-74.4857705226650779 5.7379220187705...</td>\n",
       "      <td>829379</td>\n",
       "      <td>26693710.0</td>\n",
       "      <td>4.0</td>\n",
       "    </tr>\n",
       "    <tr>\n",
       "      <th>2</th>\n",
       "      <td>LINESTRING(-75.609066 4.517257, -75.609271 4.5...</td>\n",
       "      <td>POLYGON ((-74.4857705226650779 5.7379220187705...</td>\n",
       "      <td>829379</td>\n",
       "      <td>26693710.0</td>\n",
       "      <td>4.0</td>\n",
       "    </tr>\n",
       "    <tr>\n",
       "      <th>3</th>\n",
       "      <td>LINESTRING(-75.227672 4.439367, -75.226699 4.4...</td>\n",
       "      <td>POLYGON ((-74.4857705226650779 5.7379220187705...</td>\n",
       "      <td>829379</td>\n",
       "      <td>26693710.0</td>\n",
       "      <td>4.0</td>\n",
       "    </tr>\n",
       "    <tr>\n",
       "      <th>4</th>\n",
       "      <td>LINESTRING(-75.680051 4.82871, -75.679933 4.82...</td>\n",
       "      <td>POLYGON ((-74.4857705226650779 5.7379220187705...</td>\n",
       "      <td>829379</td>\n",
       "      <td>26693710.0</td>\n",
       "      <td>4.0</td>\n",
       "    </tr>\n",
       "  </tbody>\n",
       "</table>\n",
       "</div>"
      ],
      "text/plain": [
       "                                            line_wkt  \\\n",
       "0  LINESTRING(-75.097855 4.448101, -75.098718 4.4...   \n",
       "1  LINESTRING(-75.224942 4.442335, -75.225095 4.4...   \n",
       "2  LINESTRING(-75.609066 4.517257, -75.609271 4.5...   \n",
       "3  LINESTRING(-75.227672 4.439367, -75.226699 4.4...   \n",
       "4  LINESTRING(-75.680051 4.82871, -75.679933 4.82...   \n",
       "\n",
       "                                        coarse_wkt_R   lines        jams   bp  \n",
       "0  POLYGON ((-74.4857705226650779 5.7379220187705...  829379  26693710.0  4.0  \n",
       "1  POLYGON ((-74.4857705226650779 5.7379220187705...  829379  26693710.0  4.0  \n",
       "2  POLYGON ((-74.4857705226650779 5.7379220187705...  829379  26693710.0  4.0  \n",
       "3  POLYGON ((-74.4857705226650779 5.7379220187705...  829379  26693710.0  4.0  \n",
       "4  POLYGON ((-74.4857705226650779 5.7379220187705...  829379  26693710.0  4.0  "
      ]
     },
     "execution_count": 124,
     "metadata": {},
     "output_type": "execute_result"
    }
   ],
   "source": [
    "df_lines.head()"
   ]
  },
  {
   "cell_type": "code",
   "execution_count": 122,
   "metadata": {},
   "outputs": [
    {
     "data": {
      "text/plain": [
       "[26693710.0, 26693710.0, 26693710.0, 26693710.0, 26693710.0]"
      ]
     },
     "execution_count": 122,
     "metadata": {},
     "output_type": "execute_result"
    }
   ],
   "source": [
    "[_intersection_geometry(geometry, row['coarse_wkt_R'], row['jams']) for index, row in df_lines.head().iterrows()]"
   ]
  },
  {
   "cell_type": "code",
   "execution_count": null,
   "metadata": {},
   "outputs": [],
   "source": []
  },
  {
   "cell_type": "code",
   "execution_count": null,
   "metadata": {},
   "outputs": [],
   "source": []
  },
  {
   "cell_type": "code",
   "execution_count": 86,
   "metadata": {},
   "outputs": [
    {
     "data": {
      "text/plain": [
       "0     POLYGON ((-46.3295683609798701 -25.28520383079...\n",
       "1     POLYGON ((-97.5919371226761996 18.289686316263...\n",
       "2     POLYGON ((-58.2234046176493081 -36.62959823345...\n",
       "3     POLYGON ((-71.7010092672017549 -32.45742269990...\n",
       "4     POLYGON ((-74.4857705226650779 5.7379220187705...\n",
       "                            ...                        \n",
       "85    POLYGON ((-72.7537225963263836 3.3309531859964...\n",
       "86    POLYGON ((-107.5508918258564961 -29.3304117185...\n",
       "87    POLYGON ((-71.0160747003524904 0.9012742714960...\n",
       "88    POLYGON ((-91.1200710613694156 7.0595086138102...\n",
       "89    POLYGON ((-75.0277174687797981 -48.66996537978...\n",
       "Name: coarse_wkt_R, Length: 90, dtype: object"
      ]
     },
     "execution_count": 86,
     "metadata": {},
     "output_type": "execute_result"
    }
   ],
   "source": []
  },
  {
   "cell_type": "code",
   "execution_count": 37,
   "metadata": {},
   "outputs": [],
   "source": [
    "df_dist[:1]\n",
    "total = sum(df_dist.lines)"
   ]
  },
  {
   "cell_type": "code",
   "execution_count": 35,
   "metadata": {},
   "outputs": [
    {
     "data": {
      "text/plain": [
       "1383554"
      ]
     },
     "execution_count": 35,
     "metadata": {},
     "output_type": "execute_result"
    }
   ],
   "source": [
    "wkt_str = df_dist.coarse_wkt_R[1]\n",
    "lines_n = df_dist.lines[1]\n",
    "\n"
   ]
  },
  {
   "cell_type": "code",
   "execution_count": null,
   "metadata": {},
   "outputs": [],
   "source": [
    "geometry = wkt.loads(polygon)"
   ]
  },
  {
   "cell_type": "code",
   "execution_count": null,
   "metadata": {},
   "outputs": [],
   "source": [
    "df_coarse. df_dist.coarse_wkt[df_dist.lines == max(df_dist.lines)]"
   ]
  },
  {
   "cell_type": "code",
   "execution_count": null,
   "metadata": {},
   "outputs": [],
   "source": [
    "result = katana(geometry, \n",
    "                threshold_func = threshold_density_func, \n",
    "                threshold_value = 110000, \n",
    "                count = 100)"
   ]
  },
  {
   "cell_type": "code",
   "execution_count": null,
   "metadata": {},
   "outputs": [],
   "source": [
    "len(result)"
   ]
  },
  {
   "cell_type": "code",
   "execution_count": null,
   "metadata": {},
   "outputs": [],
   "source": [
    "multipolygon = MultiPolygon(result)\n",
    "multipolygon"
   ]
  },
  {
   "cell_type": "code",
   "execution_count": null,
   "metadata": {},
   "outputs": [],
   "source": [
    "grid = list()\n",
    "for polygon in MultiPolygon(result):  # same for multipolygon.geoms\n",
    "    grid.append(str(polygon))"
   ]
  },
  {
   "cell_type": "code",
   "execution_count": null,
   "metadata": {},
   "outputs": [],
   "source": [
    "cm = str(datetime.today().strftime(\"%Y%m%d%H%m%s\"))\n",
    "print(cm)"
   ]
  },
  {
   "cell_type": "code",
   "execution_count": null,
   "metadata": {},
   "outputs": [],
   "source": [
    "outdf = gpd.GeoDataFrame(columns=['geometry'])\n",
    "outdf['geometry'] = grid"
   ]
  },
  {
   "cell_type": "code",
   "execution_count": null,
   "metadata": {},
   "outputs": [],
   "source": [
    "# Export to csv \n",
    "outdf.to_csv(f\"~/private/geo_id_polygon/geo_grid_area_{cm}.csv\")"
   ]
  },
  {
   "cell_type": "code",
   "execution_count": null,
   "metadata": {},
   "outputs": [],
   "source": []
  },
  {
   "cell_type": "markdown",
   "metadata": {},
   "source": [
    "## Lines intersection per square\n",
    "\n"
   ]
  },
  {
   "cell_type": "code",
   "execution_count": null,
   "metadata": {},
   "outputs": [],
   "source": [
    "def intersection_line(line, geometry):\n",
    "    #print(line)\n",
    "    line_wkt = wkt.loads(str(line))\n",
    "    result = geometry.intersection(line_wkt)\n",
    "    \n",
    "    return(result)"
   ]
  },
  {
   "cell_type": "code",
   "execution_count": null,
   "metadata": {},
   "outputs": [],
   "source": [
    "df_lines['geo_id'] = \"\"\n",
    "#df_lines.head()"
   ]
  },
  {
   "cell_type": "code",
   "execution_count": null,
   "metadata": {},
   "outputs": [],
   "source": [
    "for polygon in outdf.geometry:\n",
    "    print(polygon)\n",
    "    \n",
    "    geometry = wkt.loads(polygon)\n",
    "    lines = df_lines[df_lines['geo_id'] == ''].line_wkt\n",
    "    if len(lines) > 0:\n",
    "        # print(len(lines))\n",
    "        intersect = [intersection_func(line, geometry) for line in df_lines.line_wkt]\n",
    "        df_lines.loc[[x > 0 for x in intersect], 'geo_id'] = polygon\n",
    "    "
   ]
  },
  {
   "cell_type": "code",
   "execution_count": null,
   "metadata": {},
   "outputs": [],
   "source": [
    "# Export to csv\n",
    "df_lines.to_csv(f\"~/private/geo_id_polygon/line_wkt_area_geo_id_{cm}.csv\", index = False)"
   ]
  },
  {
   "cell_type": "code",
   "execution_count": null,
   "metadata": {},
   "outputs": [],
   "source": []
  },
  {
   "cell_type": "markdown",
   "metadata": {},
   "source": [
    "### Distribution of lines/jams per square"
   ]
  },
  {
   "cell_type": "code",
   "execution_count": null,
   "metadata": {},
   "outputs": [],
   "source": [
    "from siuba import group_by, ungroup, arrange, summarize, _\n",
    "import geopandas as gpd\n",
    "import folium"
   ]
  },
  {
   "cell_type": "code",
   "execution_count": null,
   "metadata": {},
   "outputs": [],
   "source": [
    "#df_geo_id = pd.read_csv(f\"/home/soniame/private/projects/corona_geo_id/intersection/geo_grid_area_geo_id_2021073017071627679286.csv\")\n",
    "print(df_geo_id.shape)\n",
    "df_geo_id.head()"
   ]
  },
  {
   "cell_type": "code",
   "execution_count": null,
   "metadata": {},
   "outputs": [],
   "source": [
    "tab = (df_geo_id\n",
    "  >> group_by(_.geo_id)\n",
    "  >> summarize(lines = _.line_wkt.count())\n",
    "  >> ungroup()\n",
    "  >> arrange(\"lines\")\n",
    "  )\n",
    "tab['geometry'] = gpd.GeoSeries.from_wkt(tab['geo_id'])\n",
    "tab = gpd.GeoDataFrame(tab, geometry='geometry')\n",
    "\n",
    "tab.head()"
   ]
  },
  {
   "cell_type": "code",
   "execution_count": null,
   "metadata": {},
   "outputs": [],
   "source": [
    "import matplotlib.pyplot as plt\n",
    "fig, ax = plt.subplots(1, 1)\n",
    "tab.plot(column='lines', ax=ax, legend=True, cmap='OrRd')"
   ]
  },
  {
   "cell_type": "code",
   "execution_count": null,
   "metadata": {
    "scrolled": true
   },
   "outputs": [],
   "source": [
    "df = tab\n",
    "m = folium.Map(location=[40.70, -73.94], zoom_start=10, tiles='CartoDB positron')\n",
    "for _, r in df.iterrows():\n",
    "    # Without simplifying the representation of each borough,\n",
    "    # the map might not be displayed\n",
    "    sim_geo = gpd.GeoSeries(r['geometry']).simplify(tolerance=0.001)\n",
    "    geo_j = sim_geo.to_json()\n",
    "    geo_j = folium.GeoJson(data=geo_j,\n",
    "                           style_function=lambda x: {'fillColor': 'orange'})\n",
    "    folium.Popup(r['lines']).add_to(geo_j)\n",
    "    geo_j.add_to(m)\n",
    "m"
   ]
  },
  {
   "cell_type": "code",
   "execution_count": null,
   "metadata": {},
   "outputs": [],
   "source": [
    "#centroid = tiles[0].geometry.centroid\n",
    "#m = folium.Map(location=(centroid.latitude, centroid.longitude))\n"
   ]
  },
  {
   "cell_type": "code",
   "execution_count": null,
   "metadata": {},
   "outputs": [],
   "source": [
    "for tile in tiles:\n",
    "    folium.GeoJson(tile.geometry.geojson).add_to(m)\n",
    "m"
   ]
  },
  {
   "cell_type": "code",
   "execution_count": null,
   "metadata": {},
   "outputs": [],
   "source": []
  }
 ],
 "metadata": {
  "kernelspec": {
   "display_name": "waze_coronavirus",
   "language": "python",
   "name": "waze_coronavirus"
  },
  "language_info": {
   "codemirror_mode": {
    "name": "ipython",
    "version": 3
   },
   "file_extension": ".py",
   "mimetype": "text/x-python",
   "name": "python",
   "nbconvert_exporter": "python",
   "pygments_lexer": "ipython3",
   "version": "3.7.11"
  },
  "toc": {
   "base_numbering": 1,
   "nav_menu": {},
   "number_sections": true,
   "sideBar": true,
   "skip_h1_title": false,
   "title_cell": "Table of Contents",
   "title_sidebar": "Contents",
   "toc_cell": false,
   "toc_position": {
    "height": "calc(100% - 180px)",
    "left": "10px",
    "top": "150px",
    "width": "240.797px"
   },
   "toc_section_display": true,
   "toc_window_display": true
  }
 },
 "nbformat": 4,
 "nbformat_minor": 2
}
