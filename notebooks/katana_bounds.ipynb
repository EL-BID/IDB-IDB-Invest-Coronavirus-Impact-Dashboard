{
 "cells": [
  {
   "cell_type": "markdown",
   "metadata": {},
   "source": [
    "# Split lines into grid"
   ]
  },
  {
   "cell_type": "code",
   "execution_count": 1,
   "metadata": {},
   "outputs": [
    {
     "data": {
      "text/plain": [
       "'202108201708'"
      ]
     },
     "execution_count": 1,
     "metadata": {},
     "output_type": "execute_result"
    }
   ],
   "source": [
    "# %load first_cell.py\n",
    "%reload_ext autoreload\n",
    "%autoreload 2\n",
    "from pathlib import Path\n",
    "import os\n",
    "\n",
    "# system paths\n",
    "import sys\n",
    "home = str(Path.home())\n",
    "sys.path = sys.path + [f'{home}/.conda/envs/norm_env/lib/python37.zip', \n",
    "                       f'{home}/.conda/envs/norm_env/lib/python3.7', \n",
    "                       f'{home}/.conda/envs/norm_env/lib/python3.7/lib-dynload', \n",
    "                       f'{home}/.conda/envs/norm_env/lib/python3.7/site-packages']\n",
    "sys.prefix = '/home/soniame/.conda/envs/norm_env'\n",
    "from paths import RAW_PATH, TREAT_PATH, OUTPUT_PATH, FIGURES_PATH\n",
    "\n",
    "# aws connection*\n",
    "import boto3\n",
    "import awswrangler as wr\n",
    "\n",
    "# local libraries\n",
    "from src import utils\n",
    "\n",
    "# analysis libraries\n",
    "from datetime import datetime, timedelta\n",
    "import pandas as pd\n",
    "import numpy as np\n",
    "import geopandas as gpd\n",
    "import random\n",
    "import itertools\n",
    "\n",
    "import matplotlib.pyplot as plt\n",
    "\n",
    "from shapely.geometry import box, Polygon, MultiPolygon, LineString, GeometryCollection, shape\n",
    "from shapely import wkt\n",
    "from shapely.ops import transform\n",
    "from babelgrid import Babel\n",
    "\n",
    "from multiprocessing.pool import Pool\n",
    "from functools import partial\n",
    "\n",
    "from loguru import logger\n",
    "\n",
    "cm = str(datetime.today().strftime(\"%Y%m%d%H%m\"))\n",
    "cm"
   ]
  },
  {
   "cell_type": "markdown",
   "metadata": {},
   "source": [
    "## Sample dates\n",
    "\n",
    "Executing 50 dates to sample from jams data set"
   ]
  },
  {
   "cell_type": "code",
   "execution_count": null,
   "metadata": {},
   "outputs": [],
   "source": [
    "from src.runners.sample_jams import _sample_dates"
   ]
  },
  {
   "cell_type": "code",
   "execution_count": null,
   "metadata": {},
   "outputs": [],
   "source": [
    "df = _sample_dates(start_date = '2019-01-01', end_date = '2021-08-12')"
   ]
  },
  {
   "cell_type": "code",
   "execution_count": null,
   "metadata": {},
   "outputs": [],
   "source": [
    "print(df.date_filter[0])"
   ]
  },
  {
   "cell_type": "code",
   "execution_count": null,
   "metadata": {},
   "outputs": [],
   "source": []
  },
  {
   "cell_type": "markdown",
   "metadata": {},
   "source": [
    "## Sample lines counts\n",
    "\n",
    "Run a query to download unique lines and number of appearance. \n",
    "\n",
    "- Lines 21,904,128\n",
    "- Jams 507,139,112\n",
    "- 50 weekdays sampled\n",
    "\n",
    "Data is split in 6 groups to run each intersection with grids. Function `_split_groups()`. Each split contains 3,650,688 lines."
   ]
  },
  {
   "cell_type": "code",
   "execution_count": 80,
   "metadata": {},
   "outputs": [],
   "source": [
    "from src.runners.split_polygon import _get_lines"
   ]
  },
  {
   "cell_type": "code",
   "execution_count": 81,
   "metadata": {},
   "outputs": [
    {
     "name": "stderr",
     "output_type": "stream",
     "text": [
      "2021-08-20 19:34:02.932 | INFO     | src.runners.split_polygon:_get_lines:63 - Lines\n",
      "2021-08-20 19:34:02.933 | DEBUG    | src.runners.split_polygon:_get_lines:78 - Reading lines\n",
      "2021-08-20 19:34:02.934 | DEBUG    | src.runners.split_polygon:_get_lines:81 - From /home/soniame/private/projects/corona_geo_id/lines/line_wkt_count_202010712.csv\n",
      "2021-08-20 19:35:55.601 | DEBUG    | src.runners.split_polygon:_get_lines:85 - Lines: 21904128\n"
     ]
    }
   ],
   "source": [
    "df_lines = _get_lines(update_data = False)"
   ]
  },
  {
   "cell_type": "code",
   "execution_count": null,
   "metadata": {},
   "outputs": [],
   "source": [
    "print(df_lines.shape)\n",
    "print(sum(df_lines.count_lines))\n",
    "df_lines.head(3)"
   ]
  },
  {
   "cell_type": "code",
   "execution_count": null,
   "metadata": {},
   "outputs": [],
   "source": [
    "from siuba import group_by, summarize, _\n",
    "(df_lines\n",
    "  >> group_by(_.split)\n",
    "  >> summarize(lines = _.line_wkt.count())\n",
    "  )"
   ]
  },
  {
   "cell_type": "code",
   "execution_count": null,
   "metadata": {},
   "outputs": [],
   "source": []
  },
  {
   "cell_type": "code",
   "execution_count": null,
   "metadata": {},
   "outputs": [],
   "source": []
  },
  {
   "cell_type": "markdown",
   "metadata": {},
   "source": [
    "## Polygons definitions"
   ]
  },
  {
   "cell_type": "code",
   "execution_count": null,
   "metadata": {},
   "outputs": [],
   "source": [
    "# - Example \n",
    "# polygon = 'POLYGON((2.0117187499999822 44.38657313925715,-19.433593750000018 19.207272119703983,19.414062499999982 6.904449621538131,64.94140624999999 -3.096801256840523,81.46484374999999 37.21269961002643,45.78124999999998 24.106495997107682,53.69140624999998 51.22054369437158,3.7695312499999822 37.07257833232809,2.0117187499999822 44.38657313925715))'\n",
    "# - Latin America \n",
    "# polygon = 'POLYGON ((-127.265625 34.30714385628804, -128.671875 -56.94497418085159, -28.4765625 -57.70414723434192, -29.8828125 16.97274101999902, -84.72656249999999 25.48295117535531, -116.71874999999999 35.746512259918504, -127.265625 34.30714385628804))'\n",
    "# - Triángulo \n",
    "# polygon = Polygon([(0, 0), (5, 5), (5, 0)])\n",
    "# - Peru\n",
    "# polygon = 'POLYGON ((-77.10205078124999 -13.004557745339769, -72.158203125 -13.004557745339769, -72.158203125 -8.90678000752024, -77.10205078124999 -8.90678000752024, -77.10205078124999 -13.004557745339769))'\n",
    "# - Latin america BID\n",
    "polygon = 'POLYGON((-129.454 37.238,-90.781 27.311,-67.117 20.333,-68.721 17.506,-23.765 -9.114,-65.601 -60.714,-126.421 -23.479,-129.454 37.238))'\n",
    "geometry = wkt.loads(polygon)\n",
    "print(geometry.area)\n",
    "geometry"
   ]
  },
  {
   "cell_type": "code",
   "execution_count": null,
   "metadata": {},
   "outputs": [],
   "source": []
  },
  {
   "cell_type": "markdown",
   "metadata": {},
   "source": [
    "## Coarse grid split"
   ]
  },
  {
   "cell_type": "code",
   "execution_count": null,
   "metadata": {},
   "outputs": [],
   "source": [
    "from src.runners import split_polygon"
   ]
  },
  {
   "cell_type": "code",
   "execution_count": null,
   "metadata": {
    "scrolled": true
   },
   "outputs": [],
   "source": [
    "# Plotting H3 cells\n",
    "\n",
    "# H3 cells grid\n",
    "tiles = Babel('h3').polyfill(geometry, resolution=1)\n",
    "# S2 cells grid\n",
    "#tiles = Babel('s2').polyfill(geometry, resolution=4)\n",
    "len(tiles)\n",
    "\n",
    "if False:\n",
    "    tiles_gdf = gpd.GeoDataFrame([t.to_dict() for t in tiles], geometry='shapely')\n",
    "    df = tiles_gdf\n",
    "    m = folium.Map(location=[40.70, -73.94], zoom_start=2, tiles='CartoDB positron')\n",
    "    for _, r in df.iterrows():\n",
    "        # Without simplifying the representation of each borough,\n",
    "        # the map might not be displayed\n",
    "        sim_geo = gpd.GeoSeries(r['shapely']).simplify(tolerance=0.001)\n",
    "        geo_j = sim_geo.to_json()\n",
    "        geo_j = folium.GeoJson(data=geo_j,\n",
    "                               style_function=lambda x: {'fillColor': 'orange'})\n",
    "        geo_j.add_to(m)\n",
    "    m"
   ]
  },
  {
   "cell_type": "code",
   "execution_count": null,
   "metadata": {},
   "outputs": [],
   "source": [
    "tiles[0].geometry.wkt"
   ]
  },
  {
   "cell_type": "code",
   "execution_count": null,
   "metadata": {},
   "outputs": [],
   "source": [
    "# Run this in 6 separated instances \n",
    "# df_coarse_split = _create_coarse_grid(df_lines, tiles, split = )"
   ]
  },
  {
   "cell_type": "code",
   "execution_count": null,
   "metadata": {},
   "outputs": [],
   "source": []
  },
  {
   "cell_type": "markdown",
   "metadata": {},
   "source": [
    "### Coarse grid union\n",
    "\n",
    "Union of results from parallelization in 6 instances. \n",
    "\n",
    "- Cells: 57\n",
    "- Lines: 22,214,341\n",
    "- Run time per instance: 3 hrs."
   ]
  },
  {
   "cell_type": "code",
   "execution_count": null,
   "metadata": {},
   "outputs": [],
   "source": [
    "from src.runners.split_polygon import _coarse_union"
   ]
  },
  {
   "cell_type": "code",
   "execution_count": null,
   "metadata": {},
   "outputs": [],
   "source": [
    "mypath = \"/home/soniame/private/projects/corona_geo_id/coarse_grid/\"\n",
    "csv_files = [os.path.join(mypath, x) for x in os.listdir(mypath)]"
   ]
  },
  {
   "cell_type": "code",
   "execution_count": null,
   "metadata": {},
   "outputs": [],
   "source": [
    "# Sample: union of lines\n",
    "csv_files = ['/home/soniame/private/projects/corona_geo_id/coarse_grid/coarse_id.csv',\n",
    " '/home/soniame/private/projects/corona_geo_id/coarse_grid/coarse_id_new_1.csv',\n",
    " '/home/soniame/private/projects/corona_geo_id/coarse_grid/coarse_id_new_2.csv',\n",
    " '/home/soniame/private/projects/corona_geo_id/coarse_grid/coarse_id_new_3.csv',\n",
    " '/home/soniame/private/projects/corona_geo_id/coarse_grid/coarse_id_new_4.csv',\n",
    " '/home/soniame/private/projects/corona_geo_id/coarse_grid/coarse_id_new_5.csv',\n",
    " '/home/soniame/private/projects/corona_geo_id/coarse_grid/coarse_id_new_6.csv']\n",
    "csv_files\n",
    "df_coarse = _coarse_union(csv_files)"
   ]
  },
  {
   "cell_type": "code",
   "execution_count": 66,
   "metadata": {},
   "outputs": [],
   "source": [
    "# Export to csv \n",
    "coarse_path = '/home/soniame/shared/spd-sdv-omitnik-waze/corona/geo_partition/coarse_id/coarse_grid_sample.csv'\n",
    "df_coarse.to_csv(coarse_path, index = False)"
   ]
  },
  {
   "cell_type": "code",
   "execution_count": 65,
   "metadata": {},
   "outputs": [
    {
     "data": {
      "text/html": [
       "<div>\n",
       "<style scoped>\n",
       "    .dataframe tbody tr th:only-of-type {\n",
       "        vertical-align: middle;\n",
       "    }\n",
       "\n",
       "    .dataframe tbody tr th {\n",
       "        vertical-align: top;\n",
       "    }\n",
       "\n",
       "    .dataframe thead th {\n",
       "        text-align: right;\n",
       "    }\n",
       "</style>\n",
       "<table border=\"1\" class=\"dataframe\">\n",
       "  <thead>\n",
       "    <tr style=\"text-align: right;\">\n",
       "      <th></th>\n",
       "      <th>line</th>\n",
       "      <th>coarse_wkt</th>\n",
       "    </tr>\n",
       "  </thead>\n",
       "  <tbody>\n",
       "    <tr>\n",
       "      <th>0</th>\n",
       "      <td>LINESTRING(-75.097855 4.448101, -75.098718 4.4...</td>\n",
       "      <td>POLYGON ((-77.4406988355037527 5.5631423675199...</td>\n",
       "    </tr>\n",
       "    <tr>\n",
       "      <th>1</th>\n",
       "      <td>LINESTRING(-100.921694 22.14878, -100.921864 2...</td>\n",
       "      <td>POLYGON ((-99.0040860771203626 15.551320300550...</td>\n",
       "    </tr>\n",
       "    <tr>\n",
       "      <th>2</th>\n",
       "      <td>LINESTRING(-84.073469 9.962173, -84.073921 9.9...</td>\n",
       "      <td>POLYGON ((-89.8649065476102322 14.465456015426...</td>\n",
       "    </tr>\n",
       "    <tr>\n",
       "      <th>3</th>\n",
       "      <td>LINESTRING(-101.001843 22.19166, -101.002284 2...</td>\n",
       "      <td>POLYGON ((-99.0040860771203626 15.551320300550...</td>\n",
       "    </tr>\n",
       "    <tr>\n",
       "      <th>4</th>\n",
       "      <td>LINESTRING(-75.554978 6.3126, -75.554667 6.313...</td>\n",
       "      <td>POLYGON ((-76.7016783072784705 12.819508275225...</td>\n",
       "    </tr>\n",
       "  </tbody>\n",
       "</table>\n",
       "</div>"
      ],
      "text/plain": [
       "                                                line  \\\n",
       "0  LINESTRING(-75.097855 4.448101, -75.098718 4.4...   \n",
       "1  LINESTRING(-100.921694 22.14878, -100.921864 2...   \n",
       "2  LINESTRING(-84.073469 9.962173, -84.073921 9.9...   \n",
       "3  LINESTRING(-101.001843 22.19166, -101.002284 2...   \n",
       "4  LINESTRING(-75.554978 6.3126, -75.554667 6.313...   \n",
       "\n",
       "                                          coarse_wkt  \n",
       "0  POLYGON ((-77.4406988355037527 5.5631423675199...  \n",
       "1  POLYGON ((-99.0040860771203626 15.551320300550...  \n",
       "2  POLYGON ((-89.8649065476102322 14.465456015426...  \n",
       "3  POLYGON ((-99.0040860771203626 15.551320300550...  \n",
       "4  POLYGON ((-76.7016783072784705 12.819508275225...  "
      ]
     },
     "execution_count": 65,
     "metadata": {},
     "output_type": "execute_result"
    }
   ],
   "source": []
  },
  {
   "cell_type": "markdown",
   "metadata": {},
   "source": [
    "### Coarse grid distribution"
   ]
  },
  {
   "cell_type": "code",
   "execution_count": 67,
   "metadata": {},
   "outputs": [],
   "source": [
    "#coarse_path = '/home/soniame/shared/spd-sdv-omitnik-waze/corona/geo_partition/coarse_id/coarse_grid_sample.csv'\n",
    "#df_coarse = pd.read_csv(coarse_path)\n",
    "df_coarse = df_coarse.rename(columns = {'line':'line_wkt'})"
   ]
  },
  {
   "cell_type": "code",
   "execution_count": 68,
   "metadata": {},
   "outputs": [
    {
     "name": "stdout",
     "output_type": "stream",
     "text": [
      "(22242051, 2)\n",
      "57\n",
      "22214341\n"
     ]
    },
    {
     "data": {
      "text/html": [
       "<div>\n",
       "<style scoped>\n",
       "    .dataframe tbody tr th:only-of-type {\n",
       "        vertical-align: middle;\n",
       "    }\n",
       "\n",
       "    .dataframe tbody tr th {\n",
       "        vertical-align: top;\n",
       "    }\n",
       "\n",
       "    .dataframe thead th {\n",
       "        text-align: right;\n",
       "    }\n",
       "</style>\n",
       "<table border=\"1\" class=\"dataframe\">\n",
       "  <thead>\n",
       "    <tr style=\"text-align: right;\">\n",
       "      <th></th>\n",
       "      <th>line_wkt</th>\n",
       "      <th>coarse_wkt</th>\n",
       "    </tr>\n",
       "  </thead>\n",
       "  <tbody>\n",
       "    <tr>\n",
       "      <th>0</th>\n",
       "      <td>LINESTRING(-75.097855 4.448101, -75.098718 4.4...</td>\n",
       "      <td>POLYGON ((-77.4406988355037527 5.5631423675199...</td>\n",
       "    </tr>\n",
       "    <tr>\n",
       "      <th>1</th>\n",
       "      <td>LINESTRING(-100.921694 22.14878, -100.921864 2...</td>\n",
       "      <td>POLYGON ((-99.0040860771203626 15.551320300550...</td>\n",
       "    </tr>\n",
       "    <tr>\n",
       "      <th>2</th>\n",
       "      <td>LINESTRING(-84.073469 9.962173, -84.073921 9.9...</td>\n",
       "      <td>POLYGON ((-89.8649065476102322 14.465456015426...</td>\n",
       "    </tr>\n",
       "    <tr>\n",
       "      <th>3</th>\n",
       "      <td>LINESTRING(-101.001843 22.19166, -101.002284 2...</td>\n",
       "      <td>POLYGON ((-99.0040860771203626 15.551320300550...</td>\n",
       "    </tr>\n",
       "    <tr>\n",
       "      <th>4</th>\n",
       "      <td>LINESTRING(-75.554978 6.3126, -75.554667 6.313...</td>\n",
       "      <td>POLYGON ((-76.7016783072784705 12.819508275225...</td>\n",
       "    </tr>\n",
       "  </tbody>\n",
       "</table>\n",
       "</div>"
      ],
      "text/plain": [
       "                                            line_wkt  \\\n",
       "0  LINESTRING(-75.097855 4.448101, -75.098718 4.4...   \n",
       "1  LINESTRING(-100.921694 22.14878, -100.921864 2...   \n",
       "2  LINESTRING(-84.073469 9.962173, -84.073921 9.9...   \n",
       "3  LINESTRING(-101.001843 22.19166, -101.002284 2...   \n",
       "4  LINESTRING(-75.554978 6.3126, -75.554667 6.313...   \n",
       "\n",
       "                                          coarse_wkt  \n",
       "0  POLYGON ((-77.4406988355037527 5.5631423675199...  \n",
       "1  POLYGON ((-99.0040860771203626 15.551320300550...  \n",
       "2  POLYGON ((-89.8649065476102322 14.465456015426...  \n",
       "3  POLYGON ((-99.0040860771203626 15.551320300550...  \n",
       "4  POLYGON ((-76.7016783072784705 12.819508275225...  "
      ]
     },
     "execution_count": 68,
     "metadata": {},
     "output_type": "execute_result"
    }
   ],
   "source": [
    "print(df_coarse.shape)\n",
    "print(df_coarse.coarse_wkt.nunique())\n",
    "print(df_coarse.line_wkt.nunique())\n",
    "df_coarse.head()"
   ]
  },
  {
   "cell_type": "code",
   "execution_count": null,
   "metadata": {},
   "outputs": [],
   "source": [
    "# Union de coarse y merge con count of jams\n",
    "df_merge = df_coarse.merge(df_lines, how = 'left', on = 'line_wkt')\n",
    "print(df_merge.shape)\n",
    "df_merge.head()"
   ]
  },
  {
   "cell_type": "code",
   "execution_count": null,
   "metadata": {},
   "outputs": [],
   "source": [
    "from siuba import group_by, ungroup, arrange, summarize, _\n",
    "\n",
    "# Table of distribution pero H3 Cell\n",
    "tab = (df_merge\n",
    "  >> group_by(_.coarse_wkt)\n",
    "  >> summarize(lines = _.line_wkt.count(),\n",
    "               jams  = _.count_lines.sum())\n",
    "  >> ungroup()\n",
    "  >> arrange(-_.lines)\n",
    "  )\n",
    "tab.head()"
   ]
  },
  {
   "cell_type": "code",
   "execution_count": null,
   "metadata": {},
   "outputs": [],
   "source": [
    "# Export to csv \n",
    "tab.to_csv('/home/soniame/shared/spd-sdv-omitnik-waze/corona/geo_partition/figures/coarse_grid_distribution.csv', index = False)"
   ]
  },
  {
   "cell_type": "code",
   "execution_count": null,
   "metadata": {},
   "outputs": [],
   "source": []
  },
  {
   "cell_type": "markdown",
   "metadata": {},
   "source": [
    "Plots"
   ]
  },
  {
   "cell_type": "code",
   "execution_count": 119,
   "metadata": {},
   "outputs": [],
   "source": [
    "tab = pd.read_csv('/home/soniame/shared/spd-sdv-omitnik-waze/corona/geo_partition/figures/coarse_grid_distribution.csv')"
   ]
  },
  {
   "cell_type": "code",
   "execution_count": 120,
   "metadata": {},
   "outputs": [
    {
     "data": {
      "image/png": "[encoded data removed]",
      "text/plain": [
       "<Figure size 432x288 with 2 Axes>"
      ]
     },
     "metadata": {
      "needs_background": "light"
     },
     "output_type": "display_data"
    }
   ],
   "source": [
    "tab['geometry'] = gpd.GeoSeries.from_wkt(tab['coarse_wkt'])\n",
    "tab = gpd.GeoDataFrame(tab, geometry='geometry')\n",
    "fig, ax = plt.subplots(1, 1)\n",
    "tab.plot(column='lines', ax=ax, \n",
    "         legend=True, cmap='OrRd')\n",
    "plt.title('Coarse Grid 1 - Number of lines')\n",
    "plt.savefig('/home/soniame/shared/spd-sdv-omitnik-waze/corona/geo_partition/figures/coarse_map_LinesR1.pdf')"
   ]
  },
  {
   "cell_type": "code",
   "execution_count": 121,
   "metadata": {},
   "outputs": [
    {
     "data": {
      "image/png": "[encoded data removed]",
      "text/plain": [
       "<Figure size 432x288 with 2 Axes>"
      ]
     },
     "metadata": {
      "needs_background": "light"
     },
     "output_type": "display_data"
    }
   ],
   "source": [
    "tab['geometry'] = gpd.GeoSeries.from_wkt(tab['coarse_wkt'])\n",
    "tab = gpd.GeoDataFrame(tab, geometry='geometry')\n",
    "fig, ax = plt.subplots(1, 1)\n",
    "tab.plot(column='jams', ax=ax, \n",
    "         legend=True, cmap='OrRd')\n",
    "plt.title('Coarse Grid 1 - Number of Jams')\n",
    "plt.savefig('/home/soniame/shared/spd-sdv-omitnik-waze/corona/geo_partition/figures/coarse_map_JamsR1.pdf')"
   ]
  },
  {
   "cell_type": "code",
   "execution_count": 122,
   "metadata": {},
   "outputs": [
    {
     "data": {
      "text/plain": [
       "<matplotlib.collections.PathCollection at 0x7f3205413d90>"
      ]
     },
     "execution_count": 122,
     "metadata": {},
     "output_type": "execute_result"
    },
    {
     "data": {
      "image/png": "[encoded data removed]",
      "text/plain": [
       "<Figure size 432x288 with 1 Axes>"
      ]
     },
     "metadata": {
      "needs_background": "light"
     },
     "output_type": "display_data"
    }
   ],
   "source": [
    "plt.scatter(tab.jams, tab.lines)"
   ]
  },
  {
   "cell_type": "code",
   "execution_count": null,
   "metadata": {},
   "outputs": [],
   "source": []
  },
  {
   "cell_type": "markdown",
   "metadata": {},
   "source": [
    "### Coarse grid union Big Polygons (R2)\n",
    "\n",
    "Union of results from parallelization in 6 instances. \n",
    "\n",
    "- Cells: \n",
    "- Lines: 22,214,341\n",
    "- Run time per polygon: 2 hrs."
   ]
  },
  {
   "cell_type": "code",
   "execution_count": null,
   "metadata": {},
   "outputs": [],
   "source": [
    "from src.runners.split_polygon import _new_res_coarse_grid"
   ]
  },
  {
   "cell_type": "code",
   "execution_count": 2,
   "metadata": {},
   "outputs": [],
   "source": [
    "# Ran in terminal\n",
    "# _new_res_coarse_grid()"
   ]
  },
  {
   "cell_type": "code",
   "execution_count": 33,
   "metadata": {},
   "outputs": [],
   "source": [
    "from src.runners.split_polygon import _coarse_union\n",
    "mypath = \"/home/soniame/private/projects/corona_geo_id/coarse_grid/\"\n",
    "csv_files = [os.path.join(mypath, x) for x in os.listdir(mypath)]"
   ]
  },
  {
   "cell_type": "code",
   "execution_count": 53,
   "metadata": {},
   "outputs": [
    {
     "name": "stderr",
     "output_type": "stream",
     "text": [
      "2021-08-20 18:37:20.888 | DEBUG    | src.runners.split_polygon:_coarse_union:28 - /home/soniame/private/projects/corona_geo_id/coarse_grid/coarse_id_new_R2_1.csv\n",
      "2021-08-20 18:37:37.129 | DEBUG    | src.runners.split_polygon:_coarse_union:30 - File: 3568141\n",
      "2021-08-20 18:37:37.202 | DEBUG    | src.runners.split_polygon:_coarse_union:33 - Union: 3568141\n",
      "2021-08-20 18:37:37.203 | DEBUG    | src.runners.split_polygon:_coarse_union:28 - /home/soniame/private/projects/corona_geo_id/coarse_grid/coarse_id_new_R2_2.csv\n",
      "2021-08-20 18:37:49.308 | DEBUG    | src.runners.split_polygon:_coarse_union:30 - File: 2775396\n",
      "2021-08-20 18:37:49.626 | DEBUG    | src.runners.split_polygon:_coarse_union:33 - Union: 6343537\n",
      "2021-08-20 18:37:49.627 | DEBUG    | src.runners.split_polygon:_coarse_union:28 - /home/soniame/private/projects/corona_geo_id/coarse_grid/coarse_id_new_R2_3.csv\n",
      "2021-08-20 18:37:59.203 | DEBUG    | src.runners.split_polygon:_coarse_union:30 - File: 1828350\n",
      "2021-08-20 18:37:59.640 | DEBUG    | src.runners.split_polygon:_coarse_union:33 - Union: 8171887\n",
      "2021-08-20 18:37:59.642 | DEBUG    | src.runners.split_polygon:_coarse_union:28 - /home/soniame/private/projects/corona_geo_id/coarse_grid/coarse_id_new_R2_4.csv\n",
      "2021-08-20 18:38:06.130 | DEBUG    | src.runners.split_polygon:_coarse_union:30 - File: 1283647\n",
      "2021-08-20 18:38:06.642 | DEBUG    | src.runners.split_polygon:_coarse_union:33 - Union: 9455534\n",
      "2021-08-20 18:38:06.643 | DEBUG    | src.runners.split_polygon:_coarse_union:28 - /home/soniame/private/projects/corona_geo_id/coarse_grid/coarse_id_new_R2_5.csv\n",
      "2021-08-20 18:38:12.666 | DEBUG    | src.runners.split_polygon:_coarse_union:30 - File: 1221259\n",
      "2021-08-20 18:38:13.250 | DEBUG    | src.runners.split_polygon:_coarse_union:33 - Union: 10676793\n",
      "2021-08-20 18:38:13.251 | DEBUG    | src.runners.split_polygon:_coarse_union:28 - /home/soniame/private/projects/corona_geo_id/coarse_grid/coarse_id_new_R2_6.csv\n",
      "2021-08-20 18:38:17.592 | DEBUG    | src.runners.split_polygon:_coarse_union:30 - File: 1201619\n",
      "2021-08-20 18:38:18.328 | DEBUG    | src.runners.split_polygon:_coarse_union:33 - Union: 11878412\n",
      "2021-08-20 18:38:18.329 | DEBUG    | src.runners.split_polygon:_coarse_union:35 - (11878412, 2)\n",
      "2021-08-20 18:38:43.884 | DEBUG    | src.runners.split_polygon:_coarse_union:36 - (11878412, 2)\n"
     ]
    }
   ],
   "source": [
    "# Sample: union of lines for resolution 2\n",
    "csv_files = [\n",
    " '/home/soniame/private/projects/corona_geo_id/coarse_grid/coarse_id_new_R2_1.csv',\n",
    " '/home/soniame/private/projects/corona_geo_id/coarse_grid/coarse_id_new_R2_2.csv',\n",
    " '/home/soniame/private/projects/corona_geo_id/coarse_grid/coarse_id_new_R2_3.csv',\n",
    " '/home/soniame/private/projects/corona_geo_id/coarse_grid/coarse_id_new_R2_4.csv',\n",
    " '/home/soniame/private/projects/corona_geo_id/coarse_grid/coarse_id_new_R2_5.csv',\n",
    " '/home/soniame/private/projects/corona_geo_id/coarse_grid/coarse_id_new_R2_6.csv']\n",
    "csv_files\n",
    "df_coarse_R2 = _coarse_union(csv_files)\n",
    "df_coarse_R2 = df_coarse_R2.rename(columns={'coarse_wkt':'coarse_wkt_2', 'line':'line_wkt'})"
   ]
  },
  {
   "cell_type": "code",
   "execution_count": 54,
   "metadata": {},
   "outputs": [
    {
     "name": "stdout",
     "output_type": "stream",
     "text": [
      "11878412\n",
      "22242051\n"
     ]
    }
   ],
   "source": [
    "print(len(df_coarse_R2))\n",
    "print(len(df_coarse))"
   ]
  },
  {
   "cell_type": "code",
   "execution_count": 55,
   "metadata": {},
   "outputs": [
    {
     "data": {
      "text/html": [
       "<div>\n",
       "<style scoped>\n",
       "    .dataframe tbody tr th:only-of-type {\n",
       "        vertical-align: middle;\n",
       "    }\n",
       "\n",
       "    .dataframe tbody tr th {\n",
       "        vertical-align: top;\n",
       "    }\n",
       "\n",
       "    .dataframe thead th {\n",
       "        text-align: right;\n",
       "    }\n",
       "</style>\n",
       "<table border=\"1\" class=\"dataframe\">\n",
       "  <thead>\n",
       "    <tr style=\"text-align: right;\">\n",
       "      <th></th>\n",
       "      <th>line_wkt</th>\n",
       "      <th>coarse_wkt</th>\n",
       "    </tr>\n",
       "  </thead>\n",
       "  <tbody>\n",
       "    <tr>\n",
       "      <th>0</th>\n",
       "      <td>LINESTRING(-75.097855 4.448101, -75.098718 4.4...</td>\n",
       "      <td>POLYGON ((-77.4406988355037527 5.5631423675199...</td>\n",
       "    </tr>\n",
       "    <tr>\n",
       "      <th>1</th>\n",
       "      <td>LINESTRING(-100.921694 22.14878, -100.921864 2...</td>\n",
       "      <td>POLYGON ((-99.0040860771203626 15.551320300550...</td>\n",
       "    </tr>\n",
       "    <tr>\n",
       "      <th>2</th>\n",
       "      <td>LINESTRING(-84.073469 9.962173, -84.073921 9.9...</td>\n",
       "      <td>POLYGON ((-89.8649065476102322 14.465456015426...</td>\n",
       "    </tr>\n",
       "    <tr>\n",
       "      <th>3</th>\n",
       "      <td>LINESTRING(-101.001843 22.19166, -101.002284 2...</td>\n",
       "      <td>POLYGON ((-99.0040860771203626 15.551320300550...</td>\n",
       "    </tr>\n",
       "    <tr>\n",
       "      <th>4</th>\n",
       "      <td>LINESTRING(-75.554978 6.3126, -75.554667 6.313...</td>\n",
       "      <td>POLYGON ((-76.7016783072784705 12.819508275225...</td>\n",
       "    </tr>\n",
       "  </tbody>\n",
       "</table>\n",
       "</div>"
      ],
      "text/plain": [
       "                                            line_wkt  \\\n",
       "0  LINESTRING(-75.097855 4.448101, -75.098718 4.4...   \n",
       "1  LINESTRING(-100.921694 22.14878, -100.921864 2...   \n",
       "2  LINESTRING(-84.073469 9.962173, -84.073921 9.9...   \n",
       "3  LINESTRING(-101.001843 22.19166, -101.002284 2...   \n",
       "4  LINESTRING(-75.554978 6.3126, -75.554667 6.313...   \n",
       "\n",
       "                                          coarse_wkt  \n",
       "0  POLYGON ((-77.4406988355037527 5.5631423675199...  \n",
       "1  POLYGON ((-99.0040860771203626 15.551320300550...  \n",
       "2  POLYGON ((-89.8649065476102322 14.465456015426...  \n",
       "3  POLYGON ((-99.0040860771203626 15.551320300550...  \n",
       "4  POLYGON ((-76.7016783072784705 12.819508275225...  "
      ]
     },
     "execution_count": 55,
     "metadata": {},
     "output_type": "execute_result"
    }
   ],
   "source": [
    "df_coarse.head()"
   ]
  },
  {
   "cell_type": "code",
   "execution_count": 56,
   "metadata": {},
   "outputs": [],
   "source": [
    "tab = pd.read_csv('/home/soniame/shared/spd-sdv-omitnik-waze/corona/geo_partition/figures/coarse_grid_distribution.csv')\n",
    "bp = tab.sort_values('lines', ascending=False)[:6][['coarse_wkt']]\n",
    "bp['bp'] = [1, 2, 3, 4, 5, 6]"
   ]
  },
  {
   "cell_type": "code",
   "execution_count": 57,
   "metadata": {},
   "outputs": [
    {
     "name": "stdout",
     "output_type": "stream",
     "text": [
      "22242051\n"
     ]
    }
   ],
   "source": [
    "# Union of previous coarse_wkt and big polygons\n",
    "df_coarse_R = df_coarse.\\\n",
    "    merge(df_coarse_R2, how = 'left', on = 'line_wkt'). \\\n",
    "    merge(bp, how = 'left', on = 'coarse_wkt')\n",
    "print(len(df_coarse_R))\n",
    "\n",
    "# Merge of coarse wkt R1 and R2\n",
    "df_coarse_R['coarse_wkt_R'] = np.where(df_coarse_R['bp'].isna(), df_coarse_R['coarse_wkt'], df_coarse_R['coarse_wkt_2'])"
   ]
  },
  {
   "cell_type": "code",
   "execution_count": 75,
   "metadata": {},
   "outputs": [],
   "source": [
    "# Export to csv \n",
    "coarse_R_path = '/home/soniame/shared/spd-sdv-omitnik-waze/corona/geo_partition/coarse_id/coarse_grid_sample_R2.csv'\n",
    "df_coarse_R.to_csv(coarse_R_path, index = False)"
   ]
  },
  {
   "cell_type": "code",
   "execution_count": null,
   "metadata": {},
   "outputs": [],
   "source": []
  },
  {
   "cell_type": "markdown",
   "metadata": {},
   "source": [
    "### Coarse grid distribution Big Polygons"
   ]
  },
  {
   "cell_type": "code",
   "execution_count": null,
   "metadata": {},
   "outputs": [],
   "source": [
    "df_coarse_R = pd.read_csv(coarse_R_path, index = False)"
   ]
  },
  {
   "cell_type": "code",
   "execution_count": 78,
   "metadata": {},
   "outputs": [
    {
     "name": "stdout",
     "output_type": "stream",
     "text": [
      "(22242051, 5)\n",
      "90\n",
      "22214341\n"
     ]
    },
    {
     "data": {
      "text/html": [
       "<div>\n",
       "<style scoped>\n",
       "    .dataframe tbody tr th:only-of-type {\n",
       "        vertical-align: middle;\n",
       "    }\n",
       "\n",
       "    .dataframe tbody tr th {\n",
       "        vertical-align: top;\n",
       "    }\n",
       "\n",
       "    .dataframe thead th {\n",
       "        text-align: right;\n",
       "    }\n",
       "</style>\n",
       "<table border=\"1\" class=\"dataframe\">\n",
       "  <thead>\n",
       "    <tr style=\"text-align: right;\">\n",
       "      <th></th>\n",
       "      <th>line_wkt</th>\n",
       "      <th>coarse_wkt</th>\n",
       "      <th>coarse_wkt_2</th>\n",
       "      <th>bp</th>\n",
       "      <th>coarse_wkt_R</th>\n",
       "    </tr>\n",
       "  </thead>\n",
       "  <tbody>\n",
       "    <tr>\n",
       "      <th>0</th>\n",
       "      <td>LINESTRING(-75.097855 4.448101, -75.098718 4.4...</td>\n",
       "      <td>POLYGON ((-77.4406988355037527 5.5631423675199...</td>\n",
       "      <td>POLYGON ((-74.4857705226650779 5.7379220187705...</td>\n",
       "      <td>4.0</td>\n",
       "      <td>POLYGON ((-74.4857705226650779 5.7379220187705...</td>\n",
       "    </tr>\n",
       "    <tr>\n",
       "      <th>1</th>\n",
       "      <td>LINESTRING(-100.921694 22.14878, -100.921864 2...</td>\n",
       "      <td>POLYGON ((-99.0040860771203626 15.551320300550...</td>\n",
       "      <td>POLYGON ((-99.3723874295785663 20.819245417262...</td>\n",
       "      <td>2.0</td>\n",
       "      <td>POLYGON ((-99.3723874295785663 20.819245417262...</td>\n",
       "    </tr>\n",
       "    <tr>\n",
       "      <th>2</th>\n",
       "      <td>LINESTRING(-84.073469 9.962173, -84.073921 9.9...</td>\n",
       "      <td>POLYGON ((-89.8649065476102322 14.465456015426...</td>\n",
       "      <td>NaN</td>\n",
       "      <td>NaN</td>\n",
       "      <td>POLYGON ((-89.8649065476102322 14.465456015426...</td>\n",
       "    </tr>\n",
       "    <tr>\n",
       "      <th>3</th>\n",
       "      <td>LINESTRING(-101.001843 22.19166, -101.002284 2...</td>\n",
       "      <td>POLYGON ((-99.0040860771203626 15.551320300550...</td>\n",
       "      <td>POLYGON ((-99.3723874295785663 20.819245417262...</td>\n",
       "      <td>2.0</td>\n",
       "      <td>POLYGON ((-99.3723874295785663 20.819245417262...</td>\n",
       "    </tr>\n",
       "    <tr>\n",
       "      <th>4</th>\n",
       "      <td>LINESTRING(-75.554978 6.3126, -75.554667 6.313...</td>\n",
       "      <td>POLYGON ((-76.7016783072784705 12.819508275225...</td>\n",
       "      <td>NaN</td>\n",
       "      <td>NaN</td>\n",
       "      <td>POLYGON ((-76.7016783072784705 12.819508275225...</td>\n",
       "    </tr>\n",
       "  </tbody>\n",
       "</table>\n",
       "</div>"
      ],
      "text/plain": [
       "                                            line_wkt  \\\n",
       "0  LINESTRING(-75.097855 4.448101, -75.098718 4.4...   \n",
       "1  LINESTRING(-100.921694 22.14878, -100.921864 2...   \n",
       "2  LINESTRING(-84.073469 9.962173, -84.073921 9.9...   \n",
       "3  LINESTRING(-101.001843 22.19166, -101.002284 2...   \n",
       "4  LINESTRING(-75.554978 6.3126, -75.554667 6.313...   \n",
       "\n",
       "                                          coarse_wkt  \\\n",
       "0  POLYGON ((-77.4406988355037527 5.5631423675199...   \n",
       "1  POLYGON ((-99.0040860771203626 15.551320300550...   \n",
       "2  POLYGON ((-89.8649065476102322 14.465456015426...   \n",
       "3  POLYGON ((-99.0040860771203626 15.551320300550...   \n",
       "4  POLYGON ((-76.7016783072784705 12.819508275225...   \n",
       "\n",
       "                                        coarse_wkt_2   bp  \\\n",
       "0  POLYGON ((-74.4857705226650779 5.7379220187705...  4.0   \n",
       "1  POLYGON ((-99.3723874295785663 20.819245417262...  2.0   \n",
       "2                                                NaN  NaN   \n",
       "3  POLYGON ((-99.3723874295785663 20.819245417262...  2.0   \n",
       "4                                                NaN  NaN   \n",
       "\n",
       "                                        coarse_wkt_R  \n",
       "0  POLYGON ((-74.4857705226650779 5.7379220187705...  \n",
       "1  POLYGON ((-99.3723874295785663 20.819245417262...  \n",
       "2  POLYGON ((-89.8649065476102322 14.465456015426...  \n",
       "3  POLYGON ((-99.3723874295785663 20.819245417262...  \n",
       "4  POLYGON ((-76.7016783072784705 12.819508275225...  "
      ]
     },
     "execution_count": 78,
     "metadata": {},
     "output_type": "execute_result"
    }
   ],
   "source": [
    "print(df_coarse_R.shape)\n",
    "print(df_coarse_R.coarse_wkt_R.nunique())\n",
    "print(df_coarse_R.line_wkt.nunique())\n",
    "df_coarse_R.head()"
   ]
  },
  {
   "cell_type": "code",
   "execution_count": 82,
   "metadata": {},
   "outputs": [],
   "source": [
    "# merge of lines and coarse wkt\n",
    "df_merge = df_coarse_R.merge(df_lines, how = 'left', on = 'line_wkt')"
   ]
  },
  {
   "cell_type": "code",
   "execution_count": 98,
   "metadata": {},
   "outputs": [],
   "source": [
    "from siuba import group_by, ungroup, arrange, summarize, _"
   ]
  },
  {
   "cell_type": "code",
   "execution_count": 104,
   "metadata": {},
   "outputs": [],
   "source": [
    "# Table of distribution pero wkt union\n",
    "tab = (df_merge\n",
    "  >> group_by(_.coarse_wkt_R)\n",
    "  >> summarize(lines = _.line_wkt.count(),\n",
    "               jams  = _.count_lines.sum(), \n",
    "               bp = _.bp.max())\n",
    "  >> ungroup()\n",
    "  >> arrange(-_.lines)\n",
    "  )"
   ]
  },
  {
   "cell_type": "code",
   "execution_count": 106,
   "metadata": {},
   "outputs": [
    {
     "data": {
      "text/html": [
       "<div>\n",
       "<style scoped>\n",
       "    .dataframe tbody tr th:only-of-type {\n",
       "        vertical-align: middle;\n",
       "    }\n",
       "\n",
       "    .dataframe tbody tr th {\n",
       "        vertical-align: top;\n",
       "    }\n",
       "\n",
       "    .dataframe thead th {\n",
       "        text-align: right;\n",
       "    }\n",
       "</style>\n",
       "<table border=\"1\" class=\"dataframe\">\n",
       "  <thead>\n",
       "    <tr style=\"text-align: right;\">\n",
       "      <th></th>\n",
       "      <th>coarse_wkt_R</th>\n",
       "      <th>lines</th>\n",
       "      <th>jams</th>\n",
       "      <th>bp</th>\n",
       "    </tr>\n",
       "  </thead>\n",
       "  <tbody>\n",
       "    <tr>\n",
       "      <th>18</th>\n",
       "      <td>POLYGON ((-46.3295683609798701 -25.28520383079...</td>\n",
       "      <td>1999202</td>\n",
       "      <td>50221999.0</td>\n",
       "      <td>1.0</td>\n",
       "    </tr>\n",
       "    <tr>\n",
       "      <th>86</th>\n",
       "      <td>POLYGON ((-97.5919371226761996 18.289686316263...</td>\n",
       "      <td>1383554</td>\n",
       "      <td>41592239.0</td>\n",
       "      <td>2.0</td>\n",
       "    </tr>\n",
       "    <tr>\n",
       "      <th>39</th>\n",
       "      <td>POLYGON ((-58.2234046176493081 -36.62959823345...</td>\n",
       "      <td>934879</td>\n",
       "      <td>23401623.0</td>\n",
       "      <td>6.0</td>\n",
       "    </tr>\n",
       "    <tr>\n",
       "      <th>60</th>\n",
       "      <td>POLYGON ((-71.7010092672017549 -32.45742269990...</td>\n",
       "      <td>910001</td>\n",
       "      <td>16207796.0</td>\n",
       "      <td>5.0</td>\n",
       "    </tr>\n",
       "    <tr>\n",
       "      <th>66</th>\n",
       "      <td>POLYGON ((-74.4857705226650779 5.7379220187705...</td>\n",
       "      <td>829379</td>\n",
       "      <td>26693710.0</td>\n",
       "      <td>4.0</td>\n",
       "    </tr>\n",
       "    <tr>\n",
       "      <th>...</th>\n",
       "      <td>...</td>\n",
       "      <td>...</td>\n",
       "      <td>...</td>\n",
       "      <td>...</td>\n",
       "    </tr>\n",
       "    <tr>\n",
       "      <th>62</th>\n",
       "      <td>POLYGON ((-72.7537225963263836 3.3309531859964...</td>\n",
       "      <td>474</td>\n",
       "      <td>1318.0</td>\n",
       "      <td>4.0</td>\n",
       "    </tr>\n",
       "    <tr>\n",
       "      <th>5</th>\n",
       "      <td>POLYGON ((-107.5508918258564961 -29.3304117185...</td>\n",
       "      <td>206</td>\n",
       "      <td>937.0</td>\n",
       "      <td>NaN</td>\n",
       "    </tr>\n",
       "    <tr>\n",
       "      <th>58</th>\n",
       "      <td>POLYGON ((-71.0160747003524904 0.9012742714960...</td>\n",
       "      <td>58</td>\n",
       "      <td>1749.0</td>\n",
       "      <td>NaN</td>\n",
       "    </tr>\n",
       "    <tr>\n",
       "      <th>83</th>\n",
       "      <td>POLYGON ((-91.1200710613694156 7.0595086138102...</td>\n",
       "      <td>53</td>\n",
       "      <td>130.0</td>\n",
       "      <td>NaN</td>\n",
       "    </tr>\n",
       "    <tr>\n",
       "      <th>67</th>\n",
       "      <td>POLYGON ((-75.0277174687797981 -48.66996537978...</td>\n",
       "      <td>3</td>\n",
       "      <td>11.0</td>\n",
       "      <td>NaN</td>\n",
       "    </tr>\n",
       "  </tbody>\n",
       "</table>\n",
       "<p>90 rows × 4 columns</p>\n",
       "</div>"
      ],
      "text/plain": [
       "                                         coarse_wkt_R    lines        jams  \\\n",
       "18  POLYGON ((-46.3295683609798701 -25.28520383079...  1999202  50221999.0   \n",
       "86  POLYGON ((-97.5919371226761996 18.289686316263...  1383554  41592239.0   \n",
       "39  POLYGON ((-58.2234046176493081 -36.62959823345...   934879  23401623.0   \n",
       "60  POLYGON ((-71.7010092672017549 -32.45742269990...   910001  16207796.0   \n",
       "66  POLYGON ((-74.4857705226650779 5.7379220187705...   829379  26693710.0   \n",
       "..                                                ...      ...         ...   \n",
       "62  POLYGON ((-72.7537225963263836 3.3309531859964...      474      1318.0   \n",
       "5   POLYGON ((-107.5508918258564961 -29.3304117185...      206       937.0   \n",
       "58  POLYGON ((-71.0160747003524904 0.9012742714960...       58      1749.0   \n",
       "83  POLYGON ((-91.1200710613694156 7.0595086138102...       53       130.0   \n",
       "67  POLYGON ((-75.0277174687797981 -48.66996537978...        3        11.0   \n",
       "\n",
       "     bp  \n",
       "18  1.0  \n",
       "86  2.0  \n",
       "39  6.0  \n",
       "60  5.0  \n",
       "66  4.0  \n",
       "..  ...  \n",
       "62  4.0  \n",
       "5   NaN  \n",
       "58  NaN  \n",
       "83  NaN  \n",
       "67  NaN  \n",
       "\n",
       "[90 rows x 4 columns]"
      ]
     },
     "execution_count": 106,
     "metadata": {},
     "output_type": "execute_result"
    }
   ],
   "source": [
    "tab"
   ]
  },
  {
   "cell_type": "code",
   "execution_count": 107,
   "metadata": {},
   "outputs": [],
   "source": [
    "# Export to csv \n",
    "tab.to_csv('/home/soniame/shared/spd-sdv-omitnik-waze/corona/geo_partition/figures/coarse_grid_distribution_R.csv', index = False)"
   ]
  },
  {
   "cell_type": "markdown",
   "metadata": {},
   "source": [
    "Plots"
   ]
  },
  {
   "cell_type": "code",
   "execution_count": 116,
   "metadata": {},
   "outputs": [],
   "source": [
    "tab = pd.read_csv('/home/soniame/shared/spd-sdv-omitnik-waze/corona/geo_partition/figures/coarse_grid_distribution_R.csv')"
   ]
  },
  {
   "cell_type": "code",
   "execution_count": 117,
   "metadata": {},
   "outputs": [
    {
     "data": {
      "image/png": "[encoded data removed]",
      "text/plain": [
       "<Figure size 432x288 with 2 Axes>"
      ]
     },
     "metadata": {
      "needs_background": "light"
     },
     "output_type": "display_data"
    }
   ],
   "source": [
    "tab['geometry'] = gpd.GeoSeries.from_wkt(tab['coarse_wkt_R'])\n",
    "tab = gpd.GeoDataFrame(tab, geometry='geometry')\n",
    "fig, ax = plt.subplots(1, 1)\n",
    "tab.plot(column='lines', ax=ax, \n",
    "         legend=True, cmap='OrRd')\n",
    "plt.title('Coarse Grid 1 - Number of lines')\n",
    "plt.savefig('/home/soniame/shared/spd-sdv-omitnik-waze/corona/geo_partition/figures/coarse_map_LinesR2.pdf')"
   ]
  },
  {
   "cell_type": "code",
   "execution_count": 118,
   "metadata": {},
   "outputs": [
    {
     "data": {
      "image/png": "[encoded data removed]",
      "text/plain": [
       "<Figure size 432x288 with 2 Axes>"
      ]
     },
     "metadata": {
      "needs_background": "light"
     },
     "output_type": "display_data"
    }
   ],
   "source": [
    "tab['geometry'] = gpd.GeoSeries.from_wkt(tab['coarse_wkt_R'])\n",
    "tab = gpd.GeoDataFrame(tab, geometry='geometry')\n",
    "fig, ax = plt.subplots(1, 1)\n",
    "tab.plot(column='jams', ax=ax, \n",
    "         legend=True, cmap='OrRd')\n",
    "plt.title('Coarse Grid 1 - Number of Jams')\n",
    "plt.savefig('/home/soniame/shared/spd-sdv-omitnik-waze/corona/geo_partition/figures/coarse_map_JamsR2.pdf')"
   ]
  },
  {
   "cell_type": "code",
   "execution_count": null,
   "metadata": {},
   "outputs": [],
   "source": []
  },
  {
   "cell_type": "markdown",
   "metadata": {},
   "source": [
    "## Creating squares"
   ]
  },
  {
   "cell_type": "code",
   "execution_count": null,
   "metadata": {},
   "outputs": [],
   "source": [
    "from src.runners import split_polygon"
   ]
  },
  {
   "cell_type": "code",
   "execution_count": null,
   "metadata": {},
   "outputs": [],
   "source": [
    "from shapely.geometry import box, Polygon, MultiPolygon, GeometryCollection\n",
    "from shapely.wkt import loads"
   ]
  },
  {
   "cell_type": "code",
   "execution_count": null,
   "metadata": {},
   "outputs": [],
   "source": [
    "df_lines = split_polygon._get_lines()"
   ]
  },
  {
   "cell_type": "code",
   "execution_count": null,
   "metadata": {},
   "outputs": [],
   "source": [
    "df_coarse = split_polygon._get_coarse_grid()"
   ]
  },
  {
   "cell_type": "code",
   "execution_count": null,
   "metadata": {},
   "outputs": [],
   "source": [
    "df_dist   = pd.read_csv('/home/soniame/private/projects/corona_geo_id/coarse_grid_distribution.csv')"
   ]
  },
  {
   "cell_type": "code",
   "execution_count": null,
   "metadata": {},
   "outputs": [],
   "source": [
    "print(len(df_lines.line_wkt))\n",
    "print(len(df_coarse.coarse_wkt))\n",
    "print(len(df_dist))"
   ]
  },
  {
   "cell_type": "code",
   "execution_count": null,
   "metadata": {},
   "outputs": [],
   "source": [
    "df_coarse.head()"
   ]
  },
  {
   "cell_type": "code",
   "execution_count": null,
   "metadata": {},
   "outputs": [],
   "source": [
    "df_coarse. df_dist.coarse_wkt[df_dist.lines == max(df_dist.lines)]"
   ]
  },
  {
   "cell_type": "code",
   "execution_count": null,
   "metadata": {},
   "outputs": [],
   "source": [
    "result = katana(geometry, \n",
    "                threshold_func = threshold_density_func, \n",
    "                threshold_value = 110000, \n",
    "                count = 100)"
   ]
  },
  {
   "cell_type": "code",
   "execution_count": null,
   "metadata": {},
   "outputs": [],
   "source": [
    "len(result)"
   ]
  },
  {
   "cell_type": "code",
   "execution_count": null,
   "metadata": {},
   "outputs": [],
   "source": [
    "multipolygon = MultiPolygon(result)\n",
    "multipolygon"
   ]
  },
  {
   "cell_type": "code",
   "execution_count": null,
   "metadata": {},
   "outputs": [],
   "source": [
    "grid = list()\n",
    "for polygon in MultiPolygon(result):  # same for multipolygon.geoms\n",
    "    grid.append(str(polygon))"
   ]
  },
  {
   "cell_type": "code",
   "execution_count": null,
   "metadata": {},
   "outputs": [],
   "source": [
    "cm = str(datetime.today().strftime(\"%Y%m%d%H%m%s\"))\n",
    "print(cm)"
   ]
  },
  {
   "cell_type": "code",
   "execution_count": null,
   "metadata": {},
   "outputs": [],
   "source": [
    "outdf = gpd.GeoDataFrame(columns=['geometry'])\n",
    "outdf['geometry'] = grid"
   ]
  },
  {
   "cell_type": "code",
   "execution_count": null,
   "metadata": {},
   "outputs": [],
   "source": [
    "# Export to csv \n",
    "outdf.to_csv(f\"~/private/geo_id_polygon/geo_grid_area_{cm}.csv\")"
   ]
  },
  {
   "cell_type": "code",
   "execution_count": null,
   "metadata": {},
   "outputs": [],
   "source": []
  },
  {
   "cell_type": "markdown",
   "metadata": {},
   "source": [
    "## Lines intersection per square\n",
    "\n"
   ]
  },
  {
   "cell_type": "code",
   "execution_count": null,
   "metadata": {},
   "outputs": [],
   "source": [
    "def intersection_line(line, geometry):\n",
    "    #print(line)\n",
    "    line_wkt = wkt.loads(str(line))\n",
    "    result = geometry.intersection(line_wkt)\n",
    "    \n",
    "    return(result)"
   ]
  },
  {
   "cell_type": "code",
   "execution_count": null,
   "metadata": {},
   "outputs": [],
   "source": [
    "df_lines['geo_id'] = \"\"\n",
    "#df_lines.head()"
   ]
  },
  {
   "cell_type": "code",
   "execution_count": null,
   "metadata": {},
   "outputs": [],
   "source": [
    "for polygon in outdf.geometry:\n",
    "    print(polygon)\n",
    "    \n",
    "    geometry = wkt.loads(polygon)\n",
    "    lines = df_lines[df_lines['geo_id'] == ''].line_wkt\n",
    "    if len(lines) > 0:\n",
    "        # print(len(lines))\n",
    "        intersect = [intersection_func(line, geometry) for line in df_lines.line_wkt]\n",
    "        df_lines.loc[[x > 0 for x in intersect], 'geo_id'] = polygon\n",
    "    "
   ]
  },
  {
   "cell_type": "code",
   "execution_count": null,
   "metadata": {},
   "outputs": [],
   "source": [
    "# Export to csv\n",
    "df_lines.to_csv(f\"~/private/geo_id_polygon/line_wkt_area_geo_id_{cm}.csv\", index = False)"
   ]
  },
  {
   "cell_type": "code",
   "execution_count": null,
   "metadata": {},
   "outputs": [],
   "source": []
  },
  {
   "cell_type": "markdown",
   "metadata": {},
   "source": [
    "### Distribution of lines/jams per square"
   ]
  },
  {
   "cell_type": "code",
   "execution_count": null,
   "metadata": {},
   "outputs": [],
   "source": [
    "from siuba import group_by, ungroup, arrange, summarize, _\n",
    "import geopandas as gpd\n",
    "import folium"
   ]
  },
  {
   "cell_type": "code",
   "execution_count": null,
   "metadata": {},
   "outputs": [],
   "source": [
    "#df_geo_id = pd.read_csv(f\"/home/soniame/private/projects/corona_geo_id/intersection/geo_grid_area_geo_id_2021073017071627679286.csv\")\n",
    "print(df_geo_id.shape)\n",
    "df_geo_id.head()"
   ]
  },
  {
   "cell_type": "code",
   "execution_count": null,
   "metadata": {},
   "outputs": [],
   "source": [
    "tab = (df_geo_id\n",
    "  >> group_by(_.geo_id)\n",
    "  >> summarize(lines = _.line_wkt.count())\n",
    "  >> ungroup()\n",
    "  >> arrange(\"lines\")\n",
    "  )\n",
    "tab['geometry'] = gpd.GeoSeries.from_wkt(tab['geo_id'])\n",
    "tab = gpd.GeoDataFrame(tab, geometry='geometry')\n",
    "\n",
    "tab.head()"
   ]
  },
  {
   "cell_type": "code",
   "execution_count": null,
   "metadata": {},
   "outputs": [],
   "source": [
    "import matplotlib.pyplot as plt\n",
    "fig, ax = plt.subplots(1, 1)\n",
    "tab.plot(column='lines', ax=ax, legend=True, cmap='OrRd')"
   ]
  },
  {
   "cell_type": "code",
   "execution_count": null,
   "metadata": {
    "scrolled": true
   },
   "outputs": [],
   "source": [
    "df = tab\n",
    "m = folium.Map(location=[40.70, -73.94], zoom_start=10, tiles='CartoDB positron')\n",
    "for _, r in df.iterrows():\n",
    "    # Without simplifying the representation of each borough,\n",
    "    # the map might not be displayed\n",
    "    sim_geo = gpd.GeoSeries(r['geometry']).simplify(tolerance=0.001)\n",
    "    geo_j = sim_geo.to_json()\n",
    "    geo_j = folium.GeoJson(data=geo_j,\n",
    "                           style_function=lambda x: {'fillColor': 'orange'})\n",
    "    folium.Popup(r['lines']).add_to(geo_j)\n",
    "    geo_j.add_to(m)\n",
    "m"
   ]
  },
  {
   "cell_type": "code",
   "execution_count": null,
   "metadata": {},
   "outputs": [],
   "source": [
    "#centroid = tiles[0].geometry.centroid\n",
    "#m = folium.Map(location=(centroid.latitude, centroid.longitude))\n"
   ]
  },
  {
   "cell_type": "code",
   "execution_count": null,
   "metadata": {},
   "outputs": [],
   "source": [
    "for tile in tiles:\n",
    "    folium.GeoJson(tile.geometry.geojson).add_to(m)\n",
    "m"
   ]
  },
  {
   "cell_type": "code",
   "execution_count": null,
   "metadata": {},
   "outputs": [],
   "source": []
  }
 ],
 "metadata": {
  "kernelspec": {
   "display_name": "waze_coronavirus",
   "language": "python",
   "name": "waze_coronavirus"
  },
  "language_info": {
   "codemirror_mode": {
    "name": "ipython",
    "version": 3
   },
   "file_extension": ".py",
   "mimetype": "text/x-python",
   "name": "python",
   "nbconvert_exporter": "python",
   "pygments_lexer": "ipython3",
   "version": "3.7.11"
  },
  "toc": {
   "base_numbering": 1,
   "nav_menu": {},
   "number_sections": true,
   "sideBar": true,
   "skip_h1_title": false,
   "title_cell": "Table of Contents",
   "title_sidebar": "Contents",
   "toc_cell": false,
   "toc_position": {
    "height": "calc(100% - 180px)",
    "left": "10px",
    "top": "150px",
    "width": "240.797px"
   },
   "toc_section_display": true,
   "toc_window_display": true
  }
 },
 "nbformat": 4,
 "nbformat_minor": 2
}
