{
 "cells": [
  {
   "cell_type": "code",
   "execution_count": 122,
   "metadata": {},
   "outputs": [
    {
     "ename": "ModuleNotFoundError",
     "evalue": "No module named 'logger'",
     "output_type": "error",
     "traceback": [
      "\u001b[0;31m---------------------------------------------------------------------------\u001b[0m",
      "\u001b[0;31mModuleNotFoundError\u001b[0m                       Traceback (most recent call last)",
      "\u001b[0;32m/tmp/ipykernel_12123/700669149.py\u001b[0m in \u001b[0;36m<module>\u001b[0;34m\u001b[0m\n\u001b[1;32m     29\u001b[0m \u001b[0;32mfrom\u001b[0m \u001b[0mshapely\u001b[0m\u001b[0;34m.\u001b[0m\u001b[0mops\u001b[0m \u001b[0;32mimport\u001b[0m \u001b[0mtransform\u001b[0m\u001b[0;34m\u001b[0m\u001b[0;34m\u001b[0m\u001b[0m\n\u001b[1;32m     30\u001b[0m \u001b[0;32mimport\u001b[0m \u001b[0mshapely\u001b[0m\u001b[0;34m\u001b[0m\u001b[0;34m\u001b[0m\u001b[0m\n\u001b[0;32m---> 31\u001b[0;31m \u001b[0;32mfrom\u001b[0m \u001b[0mlogger\u001b[0m \u001b[0;32mimport\u001b[0m \u001b[0mlogger\u001b[0m\u001b[0;34m\u001b[0m\u001b[0;34m\u001b[0m\u001b[0m\n\u001b[0m\u001b[1;32m     32\u001b[0m \u001b[0;34m\u001b[0m\u001b[0m\n\u001b[1;32m     33\u001b[0m \u001b[0mcm\u001b[0m \u001b[0;34m=\u001b[0m \u001b[0mstr\u001b[0m\u001b[0;34m(\u001b[0m\u001b[0mdatetime\u001b[0m\u001b[0;34m.\u001b[0m\u001b[0mtoday\u001b[0m\u001b[0;34m(\u001b[0m\u001b[0;34m)\u001b[0m\u001b[0;34m.\u001b[0m\u001b[0mstrftime\u001b[0m\u001b[0;34m(\u001b[0m\u001b[0;34m\"%Y%m%d%H%m\"\u001b[0m\u001b[0;34m)\u001b[0m\u001b[0;34m)\u001b[0m\u001b[0;34m\u001b[0m\u001b[0;34m\u001b[0m\u001b[0m\n",
      "\u001b[0;31mModuleNotFoundError\u001b[0m: No module named 'logger'"
     ]
    }
   ],
   "source": [
    "# %load first_cell.py\n",
    "%reload_ext autoreload\n",
    "%autoreload 2\n",
    "from pathlib import Path\n",
    "\n",
    "# system paths\n",
    "import sys\n",
    "home = str(Path.home())\n",
    "sys.path = sys.path + [f'{home}/.conda/envs/norm_env/lib/python37.zip', \n",
    "                       f'{home}/.conda/envs/norm_env/lib/python3.7', \n",
    "                       f'{home}/.conda/envs/norm_env/lib/python3.7/lib-dynload', \n",
    "                       f'{home}/.conda/envs/norm_env/lib/python3.7/site-packages']\n",
    "sys.prefix = '/home/soniame/.conda/envs/norm_env'\n",
    "from paths import RAW_PATH, TREAT_PATH, OUTPUT_PATH, FIGURES_PATH\n",
    "\n",
    "# aws connection\n",
    "import boto3\n",
    "import awswrangler as wr\n",
    "\n",
    "# local libraries\n",
    "from src import utils\n",
    "\n",
    "# analysis libraries\n",
    "from datetime import datetime\n",
    "import pandas as pd\n",
    "import osmpy\n",
    "from shapely.geometry import box, Polygon, MultiPolygon, GeometryCollection, shape\n",
    "from shapely import wkt\n",
    "from shapely.ops import transform\n",
    "import shapely\n",
    "\n",
    "cm = str(datetime.today().strftime(\"%Y%m%d%H%m\"))"
   ]
  },
  {
   "cell_type": "code",
   "execution_count": 2,
   "metadata": {},
   "outputs": [
    {
     "name": "stderr",
     "output_type": "stream",
     "text": [
      "../src/utils.py:159: YAMLLoadWarning: calling yaml.load() without Loader=... is deprecated, as the default Loader is unsafe. Please read https://msg.pyyaml.org/load for full details.\n",
      "  athena_config = yaml.load(open(path, \"r\"))\n"
     ]
    }
   ],
   "source": [
    "conn = utils.connect_athena(path='../configs/athena.yaml')"
   ]
  },
  {
   "cell_type": "code",
   "execution_count": 3,
   "metadata": {},
   "outputs": [],
   "source": [
    "df_sample = pd.read_sql_query(f\"\"\"\n",
    "    select *\n",
    "    from spd_sdv_waze_corona.raw_copy_jams\n",
    "    limit 100\"\"\", conn)"
   ]
  },
  {
   "cell_type": "code",
   "execution_count": 120,
   "metadata": {},
   "outputs": [
    {
     "name": "stdout",
     "output_type": "stream",
     "text": [
      "8212.166278549086\n"
     ]
    },
    {
     "data": {
      "image/svg+xml": [
       "<svg xmlns=\"http://www.w3.org/2000/svg\" xmlns:xlink=\"http://www.w3.org/1999/xlink\" width=\"108.2109375\" height=\"101.46628449426042\" viewBox=\"-132.6796875 -61.71195973434192 108.2109375 101.46628449426042\" preserveAspectRatio=\"xMinYMin meet\"><g transform=\"matrix(1,0,0,-1,0,-21.957634974423414)\"><path fill-rule=\"evenodd\" fill=\"#66cc99\" stroke=\"#555555\" stroke-width=\"2.0\" opacity=\"0.6\" d=\"M -127.265625,34.30714385628804 L -128.671875,-56.94497418085159 L -28.4765625,-57.70414723434192 L -29.8828125,16.97274101999902 L -84.72656249999999,25.48295117535531 L -116.71874999999999,35.746512259918504 L -127.265625,34.30714385628804 z\" /></g></svg>"
      ],
      "text/plain": [
       "<shapely.geometry.polygon.Polygon at 0x7f36b6155310>"
      ]
     },
     "execution_count": 120,
     "metadata": {},
     "output_type": "execute_result"
    }
   ],
   "source": [
    "#polygon = 'POLYGON((2.0117187499999822 44.38657313925715,-19.433593750000018 19.207272119703983,19.414062499999982 6.904449621538131,64.94140624999999 -3.096801256840523,81.46484374999999 37.21269961002643,45.78124999999998 24.106495997107682,53.69140624999998 51.22054369437158,3.7695312499999822 37.07257833232809,2.0117187499999822 44.38657313925715))'\n",
    "polygon = 'POLYGON ((-127.265625 34.30714385628804, -128.671875 -56.94497418085159, -28.4765625 -57.70414723434192, -29.8828125 16.97274101999902, -84.72656249999999 25.48295117535531, -116.71874999999999 35.746512259918504, -127.265625 34.30714385628804))'\n",
    "geometry = wkt.loads(polygon)\n",
    "print(geometry.area)\n",
    "#geometry"
   ]
  },
  {
   "cell_type": "code",
   "execution_count": 88,
   "metadata": {},
   "outputs": [
    {
     "name": "stdout",
     "output_type": "stream",
     "text": [
      "12.5\n"
     ]
    }
   ],
   "source": [
    "polygon = Polygon([(0, 0), (5, 5), (5, 0)])\n",
    "print(polygon.area)"
   ]
  },
  {
   "cell_type": "code",
   "execution_count": 99,
   "metadata": {},
   "outputs": [],
   "source": [
    "geometry = polygon\n",
    "result = osmpy.core.katana(geometry, \n",
    "                           threshold_func = osmpy.core.threshold_func, \n",
    "                           threshold_value = 50, \n",
    "                           count = 30)\n",
    "multipolygon = MultiPolygon(result)"
   ]
  },
  {
   "cell_type": "code",
   "execution_count": 110,
   "metadata": {},
   "outputs": [
    {
     "name": "stderr",
     "output_type": "stream",
     "text": [
      "INFO|%|s\n"
     ]
    },
    {
     "name": "stdout",
     "output_type": "stream",
     "text": [
      "16\n"
     ]
    },
    {
     "data": {
      "image/svg+xml": [
       "<svg xmlns=\"http://www.w3.org/2000/svg\" xmlns:xlink=\"http://www.w3.org/1999/xlink\" width=\"100.0\" height=\"100.0\" viewBox=\"4.675 4.675 0.33750000000000036 0.33750000000000036\" preserveAspectRatio=\"xMinYMin meet\"><g transform=\"matrix(1,0,0,-1,0,9.6875)\"><g><path fill-rule=\"evenodd\" fill=\"#ff3333\" stroke=\"#555555\" stroke-width=\"0.006750000000000007\" opacity=\"0.6\" d=\"M 4.6875,4.6875 L 4.765625,4.765625 L 4.765625,4.6875 L 4.6875,4.6875 z\" /><path fill-rule=\"evenodd\" fill=\"#ff3333\" stroke=\"#555555\" stroke-width=\"0.006750000000000007\" opacity=\"0.6\" d=\"M 4.84375,4.7265625 L 4.84375,4.6875 L 4.765625,4.6875 L 4.765625,4.7265625 L 4.84375,4.7265625 z\" /><path fill-rule=\"evenodd\" fill=\"#ff3333\" stroke=\"#555555\" stroke-width=\"0.006750000000000007\" opacity=\"0.6\" d=\"M 4.765625,4.765625 L 4.84375,4.765625 L 4.84375,4.7265625 L 4.765625,4.7265625 L 4.765625,4.765625 z\" /><path fill-rule=\"evenodd\" fill=\"#ff3333\" stroke=\"#555555\" stroke-width=\"0.006750000000000007\" opacity=\"0.6\" d=\"M 4.765625,4.765625 L 4.84375,4.84375 L 4.84375,4.765625 L 4.765625,4.765625 z\" /><path fill-rule=\"evenodd\" fill=\"#ff3333\" stroke=\"#555555\" stroke-width=\"0.006750000000000007\" opacity=\"0.6\" d=\"M 4.921875,4.6875 L 4.84375,4.6875 L 4.84375,4.7265625 L 4.921875,4.7265625 L 4.921875,4.6875 z\" /><path fill-rule=\"evenodd\" fill=\"#ff3333\" stroke=\"#555555\" stroke-width=\"0.006750000000000007\" opacity=\"0.6\" d=\"M 4.84375,4.7265625 L 4.84375,4.765625 L 4.921875,4.765625 L 4.921875,4.7265625 L 4.84375,4.7265625 z\" /><path fill-rule=\"evenodd\" fill=\"#ff3333\" stroke=\"#555555\" stroke-width=\"0.006750000000000007\" opacity=\"0.6\" d=\"M 5.0,4.7265625 L 5.0,4.6875 L 4.921875,4.6875 L 4.921875,4.7265625 L 5.0,4.7265625 z\" /><path fill-rule=\"evenodd\" fill=\"#ff3333\" stroke=\"#555555\" stroke-width=\"0.006750000000000007\" opacity=\"0.6\" d=\"M 5.0,4.765625 L 5.0,4.7265625 L 4.921875,4.7265625 L 4.921875,4.765625 L 5.0,4.765625 z\" /><path fill-rule=\"evenodd\" fill=\"#ff3333\" stroke=\"#555555\" stroke-width=\"0.006750000000000007\" opacity=\"0.6\" d=\"M 4.921875,4.8046875 L 4.921875,4.765625 L 4.84375,4.765625 L 4.84375,4.8046875 L 4.921875,4.8046875 z\" /><path fill-rule=\"evenodd\" fill=\"#ff3333\" stroke=\"#555555\" stroke-width=\"0.006750000000000007\" opacity=\"0.6\" d=\"M 4.84375,4.84375 L 4.921875,4.84375 L 4.921875,4.8046875 L 4.84375,4.8046875 L 4.84375,4.84375 z\" /><path fill-rule=\"evenodd\" fill=\"#ff3333\" stroke=\"#555555\" stroke-width=\"0.006750000000000007\" opacity=\"0.6\" d=\"M 5.0,4.8046875 L 5.0,4.765625 L 4.921875,4.765625 L 4.921875,4.8046875 L 5.0,4.8046875 z\" /><path fill-rule=\"evenodd\" fill=\"#ff3333\" stroke=\"#555555\" stroke-width=\"0.006750000000000007\" opacity=\"0.6\" d=\"M 4.921875,4.84375 L 5.0,4.84375 L 5.0,4.8046875 L 4.921875,4.8046875 L 4.921875,4.84375 z\" /><path fill-rule=\"evenodd\" fill=\"#ff3333\" stroke=\"#555555\" stroke-width=\"0.006750000000000007\" opacity=\"0.6\" d=\"M 4.84375,4.84375 L 4.921875,4.921875 L 4.921875,4.84375 L 4.84375,4.84375 z\" /><path fill-rule=\"evenodd\" fill=\"#ff3333\" stroke=\"#555555\" stroke-width=\"0.006750000000000007\" opacity=\"0.6\" d=\"M 5.0,4.8828125 L 5.0,4.84375 L 4.921875,4.84375 L 4.921875,4.8828125 L 5.0,4.8828125 z\" /><path fill-rule=\"evenodd\" fill=\"#ff3333\" stroke=\"#555555\" stroke-width=\"0.006750000000000007\" opacity=\"0.6\" d=\"M 4.921875,4.921875 L 5.0,4.921875 L 5.0,4.8828125 L 4.921875,4.8828125 L 4.921875,4.921875 z\" /><path fill-rule=\"evenodd\" fill=\"#ff3333\" stroke=\"#555555\" stroke-width=\"0.006750000000000007\" opacity=\"0.6\" d=\"M 4.921875,4.921875 L 5.0,5.0 L 5.0,4.921875 L 4.921875,4.921875 z\" /></g></g></svg>"
      ],
      "text/plain": [
       "<shapely.geometry.multipolygon.MultiPolygon at 0x7f36c4604a10>"
      ]
     },
     "execution_count": 110,
     "metadata": {},
     "output_type": "execute_result"
    }
   ],
   "source": [
    "print(len(MultiPolygon(result).geoms))\n",
    "multipolygon"
   ]
  },
  {
   "cell_type": "code",
   "execution_count": 111,
   "metadata": {},
   "outputs": [],
   "source": [
    "grid = list()\n",
    "for polygon in MultiPolygon(result):  # same for multipolygon.geoms\n",
    "    grid.append(str(polygon))"
   ]
  },
  {
   "cell_type": "code",
   "execution_count": 96,
   "metadata": {},
   "outputs": [],
   "source": [
    "outdf = gpd.GeoDataFrame(columns=['geometry'])\n",
    "outdf['geometry'] = grid\n",
    "outdf.to_csv(\"/home/soniame/private/testing/geo_grid_area_{cm}.csv\")"
   ]
  },
  {
   "cell_type": "code",
   "execution_count": null,
   "metadata": {},
   "outputs": [],
   "source": []
  }
 ],
 "metadata": {
  "kernelspec": {
   "display_name": "waze_coronavirus",
   "language": "python",
   "name": "waze_coronavirus"
  },
  "language_info": {
   "codemirror_mode": {
    "name": "ipython",
    "version": 3
   },
   "file_extension": ".py",
   "mimetype": "text/x-python",
   "name": "python",
   "nbconvert_exporter": "python",
   "pygments_lexer": "ipython3",
   "version": "3.7.10"
  },
  "toc": {
   "base_numbering": 1,
   "nav_menu": {},
   "number_sections": true,
   "sideBar": true,
   "skip_h1_title": false,
   "title_cell": "Table of Contents",
   "title_sidebar": "Contents",
   "toc_cell": false,
   "toc_position": {},
   "toc_section_display": true,
   "toc_window_display": false
  }
 },
 "nbformat": 4,
 "nbformat_minor": 2
}
