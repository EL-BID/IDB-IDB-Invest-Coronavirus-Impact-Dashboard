{
 "cells": [
  {
   "cell_type": "code",
   "execution_count": 107,
   "metadata": {},
   "outputs": [
    {
     "data": {
      "text/html": [
       "        <script type=\"text/javascript\">\n",
       "        window.PlotlyConfig = {MathJaxConfig: 'local'};\n",
       "        if (window.MathJax) {MathJax.Hub.Config({SVG: {font: \"STIX-Web\"}});}\n",
       "        if (typeof require !== 'undefined') {\n",
       "        require.undef(\"plotly\");\n",
       "        requirejs.config({\n",
       "            paths: {\n",
       "                'plotly': ['https://cdn.plot.ly/plotly-latest.min']\n",
       "            }\n",
       "        });\n",
       "        require(['plotly'], function(Plotly) {\n",
       "            window._Plotly = Plotly;\n",
       "        });\n",
       "        }\n",
       "        </script>\n",
       "        "
      ]
     },
     "metadata": {},
     "output_type": "display_data"
    },
    {
     "data": {
      "text/html": [
       "        <script type=\"text/javascript\">\n",
       "        window.PlotlyConfig = {MathJaxConfig: 'local'};\n",
       "        if (window.MathJax) {MathJax.Hub.Config({SVG: {font: \"STIX-Web\"}});}\n",
       "        if (typeof require !== 'undefined') {\n",
       "        require.undef(\"plotly\");\n",
       "        requirejs.config({\n",
       "            paths: {\n",
       "                'plotly': ['https://cdn.plot.ly/plotly-latest.min']\n",
       "            }\n",
       "        });\n",
       "        require(['plotly'], function(Plotly) {\n",
       "            window._Plotly = Plotly;\n",
       "        });\n",
       "        }\n",
       "        </script>\n",
       "        "
      ]
     },
     "metadata": {},
     "output_type": "display_data"
    }
   ],
   "source": [
    "# %load first_cell.py\n",
    "%reload_ext autoreload\n",
    "%autoreload 2\n",
    "from pathlib import Path\n",
    "home = str(Path.home())\n",
    "\n",
    "import sys\n",
    "sys.path = sys.path + [f'{home}/.conda/envs/norm_env/lib/python37.zip', \n",
    "                       f'{home}/.conda/envs/norm_env/lib/python3.7', \n",
    "                       f'{home}/.conda/envs/norm_env/lib/python3.7/lib-dynload', \n",
    "                       f'{home}/.conda/envs/norm_env/lib/python3.7/site-packages',\n",
    "                     '../src']\n",
    "sys.prefix = '/home/joaom/.conda/envs/norm_env'\n",
    "\n",
    "from paths import RAW_PATH, TREAT_PATH, OUTPUT_PATH, FIGURES_PATH\n",
    "\n",
    "from copy import deepcopy\n",
    "import numpy as np\n",
    "import pandas as pd\n",
    "pd.options.display.max_columns = 999\n",
    "import yaml\n",
    "import matplotlib.pyplot as plt \n",
    "import datetime\n",
    "\n",
    "import warnings\n",
    "warnings.filterwarnings('ignore')\n",
    "\n",
    "# Plotting\n",
    "import plotly\n",
    "import plotly.graph_objs as go\n",
    "import cufflinks as cf\n",
    "plotly.offline.init_notebook_mode(connected=True)\n",
    "\n",
    "def iplottitle(title, width=40):\n",
    "    return '<br>'.join(textwrap.wrap(title, width))\n",
    "\n",
    "# Setting cufflinks\n",
    "import textwrap\n",
    "import cufflinks as cf\n",
    "cf.go_offline()\n",
    "cf.set_config_file(offline=False, world_readable=True)\n",
    "import yaml\n",
    "from jinja2 import Template\n",
    "cf.themes.THEMES['custom'] = yaml.load(open('cufflinks_template.yaml', 'r'))"
   ]
  },
  {
   "cell_type": "markdown",
   "metadata": {},
   "source": [
    "# Imports"
   ]
  },
  {
   "cell_type": "code",
   "execution_count": 108,
   "metadata": {},
   "outputs": [],
   "source": [
    "sys.path.append('../')\n",
    "from src import utils\n",
    "from shapely import wkt\n",
    "conn = utils.connect_athena(path='../configs/athena.yaml')\n",
    "import json"
   ]
  },
  {
   "cell_type": "code",
   "execution_count": 109,
   "metadata": {},
   "outputs": [],
   "source": [
    "metadata = pd.read_sql_query(f\"\"\"\n",
    "select \n",
    "    *\n",
    "from spd_sdv_waze_corona.prod_analysis_metadata_variation\n",
    "\"\"\", conn)"
   ]
  },
  {
   "cell_type": "code",
   "execution_count": 52,
   "metadata": {},
   "outputs": [],
   "source": [
    "def get_length(j):\n",
    "    a = pd.DataFrame([r['tags'] for r in j['elements']])\n",
    "    if len(a):\n",
    "        return round(a['length'].astype(float).sum(), 2)\n",
    "\n",
    "paths = (RAW_PATH / 'osm_region_length')\n",
    "names = [p.name for p in paths.glob('*')]\n",
    "length = [get_length(json.load(open(s, 'r'))) for s in paths.glob('*')]\n",
    "length = pd.DataFrame(list(zip(names, length)), columns=['region_slug', 'total_length'])\n",
    "length['region_slug'] = length['region_slug'].apply(lambda x: '_'.join(x.split('_')[:-1]))\n",
    "length = length.groupby('region_slug').sum().sort_values(by='total_length').reset_index()"
   ]
  },
  {
   "cell_type": "raw",
   "metadata": {},
   "source": [
    "length = pd.concat([pd.read_csv(f, index_col='country_name').T for f in (RAW_PATH / 'osm_region_length').glob('*')])\n",
    "length = length[[str(i) for i in range(1, 6)] + ['region_slug']]"
   ]
  },
  {
   "cell_type": "code",
   "execution_count": 53,
   "metadata": {},
   "outputs": [],
   "source": [
    "df = metadata.merge(length, on='region_slug', how='outer')"
   ]
  },
  {
   "cell_type": "code",
   "execution_count": 110,
   "metadata": {},
   "outputs": [],
   "source": [
    "df = metadata"
   ]
  },
  {
   "cell_type": "code",
   "execution_count": 111,
   "metadata": {},
   "outputs": [],
   "source": [
    "df = df.dropna(subset=['region_shapefile_wkt'])"
   ]
  },
  {
   "cell_type": "code",
   "execution_count": 91,
   "metadata": {},
   "outputs": [
    {
     "ename": "ModuleNotFoundError",
     "evalue": "No module named 'numpy.core._multiarray_umath'",
     "output_type": "error",
     "traceback": [
      "\u001b[0;31m---------------------------------------------------------------------------\u001b[0m",
      "\u001b[0;31mModuleNotFoundError\u001b[0m                       Traceback (most recent call last)",
      "\u001b[0;31mModuleNotFoundError\u001b[0m: No module named 'numpy.core._multiarray_umath'"
     ]
    }
   ],
   "source": [
    "df.to_csv(OUTPUT_PATH / 'TCI_osmlength.csv', index=False, encoding='latin1')"
   ]
  },
  {
   "cell_type": "code",
   "execution_count": 92,
   "metadata": {},
   "outputs": [
    {
     "data": {
      "text/html": [
       "<div>\n",
       "<style scoped>\n",
       "    .dataframe tbody tr th:only-of-type {\n",
       "        vertical-align: middle;\n",
       "    }\n",
       "\n",
       "    .dataframe tbody tr th {\n",
       "        vertical-align: top;\n",
       "    }\n",
       "\n",
       "    .dataframe thead th {\n",
       "        text-align: right;\n",
       "    }\n",
       "</style>\n",
       "<table border=\"1\" class=\"dataframe\">\n",
       "  <thead>\n",
       "    <tr style=\"text-align: right;\">\n",
       "      <th></th>\n",
       "      <th>country_name</th>\n",
       "      <th>country_iso</th>\n",
       "      <th>region_slug</th>\n",
       "      <th>region_name</th>\n",
       "      <th>region_type</th>\n",
       "      <th>population</th>\n",
       "      <th>dashboard</th>\n",
       "      <th>timezone</th>\n",
       "      <th>region_shapefile_wkt</th>\n",
       "      <th>rerun</th>\n",
       "      <th>osm_length</th>\n",
       "      <th>idb_code</th>\n",
       "      <th>waze_code</th>\n",
       "      <th>country_name_idb_eng</th>\n",
       "      <th>region_shapefile_binary</th>\n",
       "      <th>area</th>\n",
       "      <th>n_days</th>\n",
       "      <th>daily_mean</th>\n",
       "      <th>daily_std</th>\n",
       "      <th>daily_coef_var</th>\n",
       "      <th>weekly_mean</th>\n",
       "      <th>weekly_std</th>\n",
       "      <th>weekly_coef_var</th>\n",
       "      <th>daily_osm_ratio</th>\n",
       "      <th>weekly_osm_ratio</th>\n",
       "      <th>daily_approved</th>\n",
       "      <th>weekly_approved</th>\n",
       "    </tr>\n",
       "  </thead>\n",
       "  <tbody>\n",
       "    <tr>\n",
       "      <th>0</th>\n",
       "      <td>Jamaica</td>\n",
       "      <td>JM</td>\n",
       "      <td>kingston</td>\n",
       "      <td>Kingston</td>\n",
       "      <td>city</td>\n",
       "      <td>585459</td>\n",
       "      <td>TRUE</td>\n",
       "      <td>America/Jamaica</td>\n",
       "      <td>Polygon ((-76.80041645747992618 18.08291869684...</td>\n",
       "      <td>FALSE</td>\n",
       "      <td>1.377157e+06</td>\n",
       "      <td>JA</td>\n",
       "      <td>JM</td>\n",
       "      <td>Jamaica</td>\n",
       "      <td>b'\\x00\\x00\\x00\\x00\\x03\\x05\\x00\\x00\\x00\\x9e{B[\\...</td>\n",
       "      <td>0.013125</td>\n",
       "      <td>365.0</td>\n",
       "      <td>5.576439e+05</td>\n",
       "      <td>2.739867e+05</td>\n",
       "      <td>0.491329</td>\n",
       "      <td>3.840378e+06</td>\n",
       "      <td>1.035802e+06</td>\n",
       "      <td>0.269713</td>\n",
       "      <td>0.404924</td>\n",
       "      <td>0.398375</td>\n",
       "      <td>True</td>\n",
       "      <td>True</td>\n",
       "    </tr>\n",
       "    <tr>\n",
       "      <th>1</th>\n",
       "      <td>Honduras</td>\n",
       "      <td>HN</td>\n",
       "      <td>tegucigalpa</td>\n",
       "      <td>Tegucigalpa</td>\n",
       "      <td>city</td>\n",
       "      <td>564067</td>\n",
       "      <td>TRUE</td>\n",
       "      <td>America/Tegucigalpa</td>\n",
       "      <td>Polygon ((-87.21708244142224942 14.18291843040...</td>\n",
       "      <td>FALSE</td>\n",
       "      <td>2.036947e+06</td>\n",
       "      <td>HO</td>\n",
       "      <td>HO</td>\n",
       "      <td>Honduras</td>\n",
       "      <td>b'\\x00\\x00\\x00\\x00\\x03\\x05\\x00\\x00\\x00\\r\\xde/%...</td>\n",
       "      <td>0.024583</td>\n",
       "      <td>365.0</td>\n",
       "      <td>2.030470e+06</td>\n",
       "      <td>9.516658e+05</td>\n",
       "      <td>0.468692</td>\n",
       "      <td>1.398342e+07</td>\n",
       "      <td>4.804925e+06</td>\n",
       "      <td>0.343616</td>\n",
       "      <td>0.996820</td>\n",
       "      <td>0.980699</td>\n",
       "      <td>True</td>\n",
       "      <td>True</td>\n",
       "    </tr>\n",
       "    <tr>\n",
       "      <th>2</th>\n",
       "      <td>Costa Rica</td>\n",
       "      <td>CR</td>\n",
       "      <td>country_costa_rica</td>\n",
       "      <td>Costa Rica</td>\n",
       "      <td>country</td>\n",
       "      <td>5094114</td>\n",
       "      <td>TRUE</td>\n",
       "      <td>America/Costa_Rica</td>\n",
       "      <td>MULTIPOLYGON (((-85.7025586498513 11.074584884...</td>\n",
       "      <td>FALSE</td>\n",
       "      <td>4.192138e+07</td>\n",
       "      <td>CR</td>\n",
       "      <td>CS</td>\n",
       "      <td>Costa Rica</td>\n",
       "      <td>b'\\x00\\x00\\x00\\x00\\x06\\x05\\x00\\x00\\x00\\xf0\\xa1...</td>\n",
       "      <td>4.365439</td>\n",
       "      <td>365.0</td>\n",
       "      <td>8.168918e+07</td>\n",
       "      <td>1.785129e+07</td>\n",
       "      <td>0.218527</td>\n",
       "      <td>5.625764e+08</td>\n",
       "      <td>8.850142e+07</td>\n",
       "      <td>0.157314</td>\n",
       "      <td>1.948628</td>\n",
       "      <td>1.917114</td>\n",
       "      <td>True</td>\n",
       "      <td>True</td>\n",
       "    </tr>\n",
       "    <tr>\n",
       "      <th>3</th>\n",
       "      <td>The Bahamas</td>\n",
       "      <td>BS</td>\n",
       "      <td>country_the_bahamas</td>\n",
       "      <td>The Bahamas</td>\n",
       "      <td>country</td>\n",
       "      <td>393248</td>\n",
       "      <td>TRUE</td>\n",
       "      <td>America/Nassau</td>\n",
       "      <td>POLYGON ((-80.700194 23.910715, -80.524446 24....</td>\n",
       "      <td>FALSE</td>\n",
       "      <td>5.977117e+06</td>\n",
       "      <td>BH</td>\n",
       "      <td>BF</td>\n",
       "      <td>Bahamas</td>\n",
       "      <td>b'\\x00\\x00\\x00\\x00\\x03\\x05\\x00\\x00\\x00\\xbf\\xb6...</td>\n",
       "      <td>26.702328</td>\n",
       "      <td>365.0</td>\n",
       "      <td>2.441384e+05</td>\n",
       "      <td>1.091057e+05</td>\n",
       "      <td>0.446901</td>\n",
       "      <td>1.681331e+06</td>\n",
       "      <td>5.442985e+05</td>\n",
       "      <td>0.323731</td>\n",
       "      <td>0.040846</td>\n",
       "      <td>0.040185</td>\n",
       "      <td>False</td>\n",
       "      <td>False</td>\n",
       "    </tr>\n",
       "    <tr>\n",
       "      <th>4</th>\n",
       "      <td>Chile</td>\n",
       "      <td>CL</td>\n",
       "      <td>ch_comunas_lo_prado</td>\n",
       "      <td>LO PRADO</td>\n",
       "      <td>submetro</td>\n",
       "      <td>96249</td>\n",
       "      <td>FALSE</td>\n",
       "      <td>America/Santiago</td>\n",
       "      <td>POLYGON ((-70.70558600981737 -33.4571600757547...</td>\n",
       "      <td>FALSE</td>\n",
       "      <td>1.454056e+05</td>\n",
       "      <td>CH</td>\n",
       "      <td>CI</td>\n",
       "      <td>Chile</td>\n",
       "      <td>b'\\x00\\x00\\x00\\x00\\x03\\x05\\x00\\x00\\x00RH\\xb6Vi...</td>\n",
       "      <td>0.000642</td>\n",
       "      <td>365.0</td>\n",
       "      <td>2.686769e+05</td>\n",
       "      <td>1.044837e+05</td>\n",
       "      <td>0.388882</td>\n",
       "      <td>1.850322e+06</td>\n",
       "      <td>5.901058e+05</td>\n",
       "      <td>0.318921</td>\n",
       "      <td>1.847776</td>\n",
       "      <td>1.817893</td>\n",
       "      <td>True</td>\n",
       "      <td>True</td>\n",
       "    </tr>\n",
       "    <tr>\n",
       "      <th>5</th>\n",
       "      <td>Chile</td>\n",
       "      <td>CL</td>\n",
       "      <td>ch_comunas_lampa</td>\n",
       "      <td>LAMPA</td>\n",
       "      <td>submetro</td>\n",
       "      <td>102034</td>\n",
       "      <td>FALSE</td>\n",
       "      <td>America/Santiago</td>\n",
       "      <td>POLYGON ((-70.79438009896514 -33.1718882159303...</td>\n",
       "      <td>FALSE</td>\n",
       "      <td>5.838576e+05</td>\n",
       "      <td>CH</td>\n",
       "      <td>CI</td>\n",
       "      <td>Chile</td>\n",
       "      <td>b'\\x00\\x00\\x00\\x00\\x03\\x05\\x00\\x00\\x00;\\x15\\x9...</td>\n",
       "      <td>0.043495</td>\n",
       "      <td>365.0</td>\n",
       "      <td>1.197822e+06</td>\n",
       "      <td>5.434043e+05</td>\n",
       "      <td>0.453660</td>\n",
       "      <td>8.249151e+06</td>\n",
       "      <td>2.418809e+06</td>\n",
       "      <td>0.293219</td>\n",
       "      <td>2.051565</td>\n",
       "      <td>2.018386</td>\n",
       "      <td>True</td>\n",
       "      <td>True</td>\n",
       "    </tr>\n",
       "    <tr>\n",
       "      <th>6</th>\n",
       "      <td>Mexico</td>\n",
       "      <td>MX</td>\n",
       "      <td>torreon</td>\n",
       "      <td>Torreón</td>\n",
       "      <td>city</td>\n",
       "      <td>1098998</td>\n",
       "      <td>TRUE</td>\n",
       "      <td>America/Monterrey</td>\n",
       "      <td>Polygon ((-103.3920813812878805 25.64958588044...</td>\n",
       "      <td>FALSE</td>\n",
       "      <td>4.492773e+06</td>\n",
       "      <td>ME</td>\n",
       "      <td>MX</td>\n",
       "      <td>Mexico</td>\n",
       "      <td>b'\\x00\\x00\\x00\\x00\\x03\\x05\\x00\\x00\\x00\\x8ab\\xa...</td>\n",
       "      <td>0.026458</td>\n",
       "      <td>365.0</td>\n",
       "      <td>2.957517e+06</td>\n",
       "      <td>1.505250e+06</td>\n",
       "      <td>0.508957</td>\n",
       "      <td>2.036780e+07</td>\n",
       "      <td>9.251570e+06</td>\n",
       "      <td>0.454225</td>\n",
       "      <td>0.658283</td>\n",
       "      <td>0.647637</td>\n",
       "      <td>False</td>\n",
       "      <td>True</td>\n",
       "    </tr>\n",
       "    <tr>\n",
       "      <th>7</th>\n",
       "      <td>Brasil</td>\n",
       "      <td>BR</td>\n",
       "      <td>br_states_mato_grosso</td>\n",
       "      <td>Mato Grosso</td>\n",
       "      <td>state</td>\n",
       "      <td></td>\n",
       "      <td>FALSE</td>\n",
       "      <td></td>\n",
       "      <td>POLYGON ((-54.89485339361059 -17.6215039881558...</td>\n",
       "      <td>FALSE</td>\n",
       "      <td>1.238181e+08</td>\n",
       "      <td>BR</td>\n",
       "      <td>BR</td>\n",
       "      <td>Brazil</td>\n",
       "      <td>b'\\x00\\x00\\x00\\x00\\x03\\x05\\x00\\x00\\x00C\\x81\\xa...</td>\n",
       "      <td>75.198337</td>\n",
       "      <td>365.0</td>\n",
       "      <td>2.820081e+07</td>\n",
       "      <td>9.818665e+06</td>\n",
       "      <td>0.348170</td>\n",
       "      <td>1.942131e+08</td>\n",
       "      <td>6.144397e+07</td>\n",
       "      <td>0.316374</td>\n",
       "      <td>0.227760</td>\n",
       "      <td>0.224076</td>\n",
       "      <td>True</td>\n",
       "      <td>True</td>\n",
       "    </tr>\n",
       "    <tr>\n",
       "      <th>8</th>\n",
       "      <td>Colombia</td>\n",
       "      <td>CO</td>\n",
       "      <td>medellin</td>\n",
       "      <td>Medellín</td>\n",
       "      <td>city</td>\n",
       "      <td>3550671</td>\n",
       "      <td>TRUE</td>\n",
       "      <td>America/Bogota</td>\n",
       "      <td>Polygon ((-75.54208320661969367 6.382917897523...</td>\n",
       "      <td>FALSE</td>\n",
       "      <td>3.636567e+06</td>\n",
       "      <td>CO</td>\n",
       "      <td>CO</td>\n",
       "      <td>Colombia</td>\n",
       "      <td>b'\\x00\\x00\\x00\\x00\\x03\\x05\\x00\\x00\\x00\\xec!\\xc...</td>\n",
       "      <td>0.039653</td>\n",
       "      <td>365.0</td>\n",
       "      <td>2.328588e+07</td>\n",
       "      <td>8.197524e+06</td>\n",
       "      <td>0.352038</td>\n",
       "      <td>1.603650e+08</td>\n",
       "      <td>3.831025e+07</td>\n",
       "      <td>0.238894</td>\n",
       "      <td>6.403259</td>\n",
       "      <td>6.299702</td>\n",
       "      <td>True</td>\n",
       "      <td>True</td>\n",
       "    </tr>\n",
       "    <tr>\n",
       "      <th>9</th>\n",
       "      <td>El Salvador</td>\n",
       "      <td>SV</td>\n",
       "      <td>sansalvador</td>\n",
       "      <td>San Salvador</td>\n",
       "      <td>city</td>\n",
       "      <td>1610523</td>\n",
       "      <td>TRUE</td>\n",
       "      <td>America/El_Salvador</td>\n",
       "      <td>Polygon ((-89.19208231197771397 13.83291840649...</td>\n",
       "      <td>FALSE</td>\n",
       "      <td>2.680897e+06</td>\n",
       "      <td>ES</td>\n",
       "      <td>ES</td>\n",
       "      <td>El Salvador</td>\n",
       "      <td>b'\\x00\\x00\\x00\\x00\\x03\\x05\\x00\\x00\\x00\\xcf+\\x1...</td>\n",
       "      <td>0.030347</td>\n",
       "      <td>365.0</td>\n",
       "      <td>1.618139e+07</td>\n",
       "      <td>6.522647e+06</td>\n",
       "      <td>0.403096</td>\n",
       "      <td>1.114379e+08</td>\n",
       "      <td>2.668422e+07</td>\n",
       "      <td>0.239454</td>\n",
       "      <td>6.035814</td>\n",
       "      <td>5.938199</td>\n",
       "      <td>True</td>\n",
       "      <td>True</td>\n",
       "    </tr>\n",
       "    <tr>\n",
       "      <th>10</th>\n",
       "      <td>Panama</td>\n",
       "      <td>PA</td>\n",
       "      <td>country_panama</td>\n",
       "      <td>Panama</td>\n",
       "      <td>country</td>\n",
       "      <td>4314768</td>\n",
       "      <td>TRUE</td>\n",
       "      <td>America/Panama</td>\n",
       "      <td>MULTIPOLYGON (((-83.051725 8.333426,-82.839498...</td>\n",
       "      <td>FALSE</td>\n",
       "      <td>2.329607e+07</td>\n",
       "      <td>PN</td>\n",
       "      <td>PM</td>\n",
       "      <td>Panama</td>\n",
       "      <td>b'\\x00\\x00\\x00\\x00\\x06\\x05\\x00\\x00\\x00\\xae\\xd8...</td>\n",
       "      <td>6.248581</td>\n",
       "      <td>365.0</td>\n",
       "      <td>3.783897e+07</td>\n",
       "      <td>1.016808e+07</td>\n",
       "      <td>0.268720</td>\n",
       "      <td>2.605891e+08</td>\n",
       "      <td>4.440365e+07</td>\n",
       "      <td>0.170397</td>\n",
       "      <td>1.624264</td>\n",
       "      <td>1.597996</td>\n",
       "      <td>True</td>\n",
       "      <td>True</td>\n",
       "    </tr>\n",
       "    <tr>\n",
       "      <th>11</th>\n",
       "      <td>Jamaica</td>\n",
       "      <td>JM</td>\n",
       "      <td>country_jamaica</td>\n",
       "      <td>Jamaica</td>\n",
       "      <td>country</td>\n",
       "      <td>2961161</td>\n",
       "      <td>TRUE</td>\n",
       "      <td>America/Jamaica</td>\n",
       "      <td>POLYGON ((-78.578237 18.269051, -78.5195510000...</td>\n",
       "      <td>FALSE</td>\n",
       "      <td>1.729616e+07</td>\n",
       "      <td>JA</td>\n",
       "      <td>JM</td>\n",
       "      <td>Jamaica</td>\n",
       "      <td>b'\\x00\\x00\\x00\\x00\\x03\\x05\\x00\\x00\\x00\\x94\\x15...</td>\n",
       "      <td>4.310919</td>\n",
       "      <td>365.0</td>\n",
       "      <td>2.156681e+06</td>\n",
       "      <td>5.364529e+05</td>\n",
       "      <td>0.248740</td>\n",
       "      <td>1.485262e+07</td>\n",
       "      <td>2.719899e+06</td>\n",
       "      <td>0.183126</td>\n",
       "      <td>0.124691</td>\n",
       "      <td>0.122675</td>\n",
       "      <td>True</td>\n",
       "      <td>True</td>\n",
       "    </tr>\n",
       "    <tr>\n",
       "      <th>12</th>\n",
       "      <td>Chile</td>\n",
       "      <td>CL</td>\n",
       "      <td>ch_comunas_isla_de_maipo</td>\n",
       "      <td>ISLA DE MAIPO</td>\n",
       "      <td>submetro</td>\n",
       "      <td>36219</td>\n",
       "      <td>FALSE</td>\n",
       "      <td>America/Santiago</td>\n",
       "      <td>POLYGON ((-70.849534384208 -33.71463322083598,...</td>\n",
       "      <td>FALSE</td>\n",
       "      <td>1.640059e+05</td>\n",
       "      <td>CH</td>\n",
       "      <td>CI</td>\n",
       "      <td>Chile</td>\n",
       "      <td>b\"\\x00\\x00\\x00\\x00\\x03\\x05\\x00\\x00\\x00\\xe3%\\xd...</td>\n",
       "      <td>0.018196</td>\n",
       "      <td>365.0</td>\n",
       "      <td>2.006472e+05</td>\n",
       "      <td>9.333100e+04</td>\n",
       "      <td>0.465150</td>\n",
       "      <td>1.381816e+06</td>\n",
       "      <td>4.474502e+05</td>\n",
       "      <td>0.323813</td>\n",
       "      <td>1.223415</td>\n",
       "      <td>1.203629</td>\n",
       "      <td>True</td>\n",
       "      <td>True</td>\n",
       "    </tr>\n",
       "    <tr>\n",
       "      <th>13</th>\n",
       "      <td>Chile</td>\n",
       "      <td>CL</td>\n",
       "      <td>ch_comunas_santiago</td>\n",
       "      <td>SANTIAGO</td>\n",
       "      <td>submetro</td>\n",
       "      <td>404495</td>\n",
       "      <td>FALSE</td>\n",
       "      <td>America/Santiago</td>\n",
       "      <td>POLYGON ((-70.67158854755513 -33.4763598849684...</td>\n",
       "      <td>FALSE</td>\n",
       "      <td>3.973415e+05</td>\n",
       "      <td>CH</td>\n",
       "      <td>CI</td>\n",
       "      <td>Chile</td>\n",
       "      <td>b'\\x00\\x00\\x00\\x00\\x03\\x05\\x00\\x00\\x00\\x1b\\xe7...</td>\n",
       "      <td>0.002213</td>\n",
       "      <td>365.0</td>\n",
       "      <td>7.441265e+06</td>\n",
       "      <td>3.902098e+06</td>\n",
       "      <td>0.524386</td>\n",
       "      <td>5.124644e+07</td>\n",
       "      <td>1.430949e+07</td>\n",
       "      <td>0.279229</td>\n",
       "      <td>18.727630</td>\n",
       "      <td>18.424757</td>\n",
       "      <td>False</td>\n",
       "      <td>True</td>\n",
       "    </tr>\n",
       "    <tr>\n",
       "      <th>14</th>\n",
       "      <td>Brasil</td>\n",
       "      <td>BR</td>\n",
       "      <td>br_states_bahia</td>\n",
       "      <td>Bahia</td>\n",
       "      <td>state</td>\n",
       "      <td></td>\n",
       "      <td>FALSE</td>\n",
       "      <td></td>\n",
       "      <td>POLYGON ((-39.36445641136687 -8.53784955370083...</td>\n",
       "      <td>FALSE</td>\n",
       "      <td>2.252903e+08</td>\n",
       "      <td>BR</td>\n",
       "      <td>BR</td>\n",
       "      <td>Brazil</td>\n",
       "      <td>b'\\x00\\x00\\x00\\x00\\x03\\x05\\x00\\x00\\x00\\xdd\\xcd...</td>\n",
       "      <td>47.052913</td>\n",
       "      <td>365.0</td>\n",
       "      <td>7.475847e+07</td>\n",
       "      <td>2.035207e+07</td>\n",
       "      <td>0.272238</td>\n",
       "      <td>5.148461e+08</td>\n",
       "      <td>1.289327e+08</td>\n",
       "      <td>0.250430</td>\n",
       "      <td>0.331832</td>\n",
       "      <td>0.326465</td>\n",
       "      <td>True</td>\n",
       "      <td>True</td>\n",
       "    </tr>\n",
       "    <tr>\n",
       "      <th>15</th>\n",
       "      <td>Uruguay</td>\n",
       "      <td>UY</td>\n",
       "      <td>montevideo</td>\n",
       "      <td>Montevideo</td>\n",
       "      <td>city</td>\n",
       "      <td>1363552</td>\n",
       "      <td>TRUE</td>\n",
       "      <td>America/Montevideo</td>\n",
       "      <td>Polygon ((-56.23375113878419995 -34.7587515798...</td>\n",
       "      <td>FALSE</td>\n",
       "      <td>3.473006e+06</td>\n",
       "      <td>UR</td>\n",
       "      <td>UY</td>\n",
       "      <td>Uruguay</td>\n",
       "      <td>b'\\x00\\x00\\x00\\x00\\x03\\x05\\x00\\x00\\x00\\xc4H;(\\...</td>\n",
       "      <td>0.030000</td>\n",
       "      <td>365.0</td>\n",
       "      <td>1.016254e+07</td>\n",
       "      <td>2.652933e+06</td>\n",
       "      <td>0.261050</td>\n",
       "      <td>6.998732e+07</td>\n",
       "      <td>1.380456e+07</td>\n",
       "      <td>0.197244</td>\n",
       "      <td>2.926151</td>\n",
       "      <td>2.878828</td>\n",
       "      <td>True</td>\n",
       "      <td>True</td>\n",
       "    </tr>\n",
       "    <tr>\n",
       "      <th>16</th>\n",
       "      <td>Chile</td>\n",
       "      <td>CL</td>\n",
       "      <td>ch_comunas_cerrillos</td>\n",
       "      <td>CERRILLOS</td>\n",
       "      <td>submetro</td>\n",
       "      <td>80832</td>\n",
       "      <td>FALSE</td>\n",
       "      <td>America/Santiago</td>\n",
       "      <td>POLYGON ((-70.71227805442958 -33.4820444772248...</td>\n",
       "      <td>FALSE</td>\n",
       "      <td>1.955210e+05</td>\n",
       "      <td>CH</td>\n",
       "      <td>CI</td>\n",
       "      <td>Chile</td>\n",
       "      <td>b'\\x00\\x00\\x00\\x00\\x03\\x05\\x00\\x00\\x00dDw\\x96]...</td>\n",
       "      <td>0.001610</td>\n",
       "      <td>365.0</td>\n",
       "      <td>1.496116e+06</td>\n",
       "      <td>1.000040e+06</td>\n",
       "      <td>0.668424</td>\n",
       "      <td>1.030344e+07</td>\n",
       "      <td>3.662528e+06</td>\n",
       "      <td>0.355466</td>\n",
       "      <td>7.651947</td>\n",
       "      <td>7.528195</td>\n",
       "      <td>False</td>\n",
       "      <td>True</td>\n",
       "    </tr>\n",
       "    <tr>\n",
       "      <th>17</th>\n",
       "      <td>Mexico</td>\n",
       "      <td>MX</td>\n",
       "      <td>merida</td>\n",
       "      <td>Mérida</td>\n",
       "      <td>city</td>\n",
       "      <td>980031</td>\n",
       "      <td>TRUE</td>\n",
       "      <td>America/Merida</td>\n",
       "      <td>Polygon ((-89.66708228084547727 21.08291890179...</td>\n",
       "      <td>FALSE</td>\n",
       "      <td>4.426804e+06</td>\n",
       "      <td>ME</td>\n",
       "      <td>MX</td>\n",
       "      <td>Mexico</td>\n",
       "      <td>b\"\\x00\\x00\\x00\\x00\\x03\\x05\\x00\\x00\\x00q\\x91 \\x...</td>\n",
       "      <td>0.023542</td>\n",
       "      <td>365.0</td>\n",
       "      <td>6.039871e+06</td>\n",
       "      <td>1.962742e+06</td>\n",
       "      <td>0.324964</td>\n",
       "      <td>4.159534e+07</td>\n",
       "      <td>9.243964e+06</td>\n",
       "      <td>0.222236</td>\n",
       "      <td>1.364386</td>\n",
       "      <td>1.342321</td>\n",
       "      <td>True</td>\n",
       "      <td>True</td>\n",
       "    </tr>\n",
       "    <tr>\n",
       "      <th>18</th>\n",
       "      <td>Chile</td>\n",
       "      <td>CL</td>\n",
       "      <td>ch_comunas_quilicura</td>\n",
       "      <td>QUILICURA</td>\n",
       "      <td>submetro</td>\n",
       "      <td>210410</td>\n",
       "      <td>FALSE</td>\n",
       "      <td>America/Santiago</td>\n",
       "      <td>POLYGON ((-70.76877132635084 -33.3762754420778...</td>\n",
       "      <td>FALSE</td>\n",
       "      <td>4.219004e+05</td>\n",
       "      <td>CH</td>\n",
       "      <td>CI</td>\n",
       "      <td>Chile</td>\n",
       "      <td>b\"\\x00\\x00\\x00\\x00\\x03\\x05\\x00\\x00\\x00\\xb9\\xd6...</td>\n",
       "      <td>0.005511</td>\n",
       "      <td>365.0</td>\n",
       "      <td>1.686574e+06</td>\n",
       "      <td>8.816922e+05</td>\n",
       "      <td>0.522771</td>\n",
       "      <td>1.161509e+07</td>\n",
       "      <td>3.360598e+06</td>\n",
       "      <td>0.289330</td>\n",
       "      <td>3.997564</td>\n",
       "      <td>3.932914</td>\n",
       "      <td>False</td>\n",
       "      <td>True</td>\n",
       "    </tr>\n",
       "    <tr>\n",
       "      <th>19</th>\n",
       "      <td>Mexico</td>\n",
       "      <td>MX</td>\n",
       "      <td>tijuana</td>\n",
       "      <td>Tijuana</td>\n",
       "      <td>city</td>\n",
       "      <td>1690278</td>\n",
       "      <td>FALSE</td>\n",
       "      <td>America/Tijuana</td>\n",
       "      <td>Polygon ((-116.95874715877437211 32.4079196754...</td>\n",
       "      <td>FALSE</td>\n",
       "      <td>5.000934e+06</td>\n",
       "      <td>ME</td>\n",
       "      <td>MX</td>\n",
       "      <td>Mexico</td>\n",
       "      <td>b'\\x00\\x00\\x00\\x00\\x03\\x05\\x00\\x00\\x00k\\xf4\\xa...</td>\n",
       "      <td>0.031111</td>\n",
       "      <td>365.0</td>\n",
       "      <td>1.304442e+07</td>\n",
       "      <td>7.013791e+06</td>\n",
       "      <td>0.537685</td>\n",
       "      <td>8.983420e+07</td>\n",
       "      <td>4.602049e+07</td>\n",
       "      <td>0.512283</td>\n",
       "      <td>2.608396</td>\n",
       "      <td>2.566212</td>\n",
       "      <td>False</td>\n",
       "      <td>False</td>\n",
       "    </tr>\n",
       "    <tr>\n",
       "      <th>20</th>\n",
       "      <td>Chile</td>\n",
       "      <td>CL</td>\n",
       "      <td>ch_comunas_pudahuel</td>\n",
       "      <td>PUDAHUEL</td>\n",
       "      <td>submetro</td>\n",
       "      <td>230293</td>\n",
       "      <td>FALSE</td>\n",
       "      <td>America/Santiago</td>\n",
       "      <td>POLYGON ((-70.78977743736861 -33.3604762587196...</td>\n",
       "      <td>FALSE</td>\n",
       "      <td>6.213907e+05</td>\n",
       "      <td>CH</td>\n",
       "      <td>CI</td>\n",
       "      <td>Chile</td>\n",
       "      <td>b'\\x00\\x00\\x00\\x00\\x03\\x05\\x00\\x00\\x00\\xcb6\\xe...</td>\n",
       "      <td>0.019211</td>\n",
       "      <td>365.0</td>\n",
       "      <td>2.410684e+06</td>\n",
       "      <td>9.518137e+05</td>\n",
       "      <td>0.394831</td>\n",
       "      <td>1.660188e+07</td>\n",
       "      <td>2.959037e+06</td>\n",
       "      <td>0.178235</td>\n",
       "      <td>3.879497</td>\n",
       "      <td>3.816756</td>\n",
       "      <td>True</td>\n",
       "      <td>True</td>\n",
       "    </tr>\n",
       "    <tr>\n",
       "      <th>21</th>\n",
       "      <td>Brasil</td>\n",
       "      <td>BR</td>\n",
       "      <td>br_states_goias</td>\n",
       "      <td>Goias</td>\n",
       "      <td>state</td>\n",
       "      <td></td>\n",
       "      <td>FALSE</td>\n",
       "      <td></td>\n",
       "      <td>POLYGON ((-50.16014656394112 -12.4200735183983...</td>\n",
       "      <td>FALSE</td>\n",
       "      <td>1.047488e+08</td>\n",
       "      <td>BR</td>\n",
       "      <td>BR</td>\n",
       "      <td>Brazil</td>\n",
       "      <td>b'\\x00\\x00\\x00\\x00\\x03\\x05\\x00\\x00\\x00\\xf2\\xc6...</td>\n",
       "      <td>28.689048</td>\n",
       "      <td>365.0</td>\n",
       "      <td>5.880772e+07</td>\n",
       "      <td>1.632547e+07</td>\n",
       "      <td>0.277608</td>\n",
       "      <td>4.049966e+08</td>\n",
       "      <td>1.050881e+08</td>\n",
       "      <td>0.259479</td>\n",
       "      <td>0.561417</td>\n",
       "      <td>0.552337</td>\n",
       "      <td>True</td>\n",
       "      <td>True</td>\n",
       "    </tr>\n",
       "    <tr>\n",
       "      <th>22</th>\n",
       "      <td>Venezuela</td>\n",
       "      <td>VE</td>\n",
       "      <td>country_venezuela</td>\n",
       "      <td>Venezuela</td>\n",
       "      <td>country</td>\n",
       "      <td>28435943</td>\n",
       "      <td>TRUE</td>\n",
       "      <td>America/Caracas</td>\n",
       "      <td>MULTIPOLYGON (((-73.352963 9.21753,-72.945436 ...</td>\n",
       "      <td>FALSE</td>\n",
       "      <td>1.375754e+08</td>\n",
       "      <td>VE</td>\n",
       "      <td>VE</td>\n",
       "      <td>Venezuela</td>\n",
       "      <td>b'\\x00\\x00\\x00\\x00\\x06\\x05\\x00\\x00\\x00\\xadl\\x1...</td>\n",
       "      <td>74.818202</td>\n",
       "      <td>365.0</td>\n",
       "      <td>5.554329e+06</td>\n",
       "      <td>3.353561e+06</td>\n",
       "      <td>0.603774</td>\n",
       "      <td>3.825151e+07</td>\n",
       "      <td>1.713590e+07</td>\n",
       "      <td>0.447980</td>\n",
       "      <td>0.040373</td>\n",
       "      <td>0.039720</td>\n",
       "      <td>False</td>\n",
       "      <td>False</td>\n",
       "    </tr>\n",
       "    <tr>\n",
       "      <th>23</th>\n",
       "      <td>Chile</td>\n",
       "      <td>CL</td>\n",
       "      <td>santiago</td>\n",
       "      <td>Santiago</td>\n",
       "      <td>city</td>\n",
       "      <td>5688218</td>\n",
       "      <td>TRUE</td>\n",
       "      <td>America/Chile</td>\n",
       "      <td>Polygon ((-70.63375019498607799 -33.2420848095...</td>\n",
       "      <td>FALSE</td>\n",
       "      <td>1.060461e+07</td>\n",
       "      <td>CH</td>\n",
       "      <td>CI</td>\n",
       "      <td>Chile</td>\n",
       "      <td>b'\\x00\\x00\\x00\\x00\\x03\\x05\\x00\\x00\\x00YN(\\xa1\\...</td>\n",
       "      <td>0.097847</td>\n",
       "      <td>365.0</td>\n",
       "      <td>5.016579e+07</td>\n",
       "      <td>2.307495e+07</td>\n",
       "      <td>0.459974</td>\n",
       "      <td>3.454814e+08</td>\n",
       "      <td>9.582126e+07</td>\n",
       "      <td>0.277356</td>\n",
       "      <td>4.730566</td>\n",
       "      <td>4.654061</td>\n",
       "      <td>True</td>\n",
       "      <td>True</td>\n",
       "    </tr>\n",
       "    <tr>\n",
       "      <th>24</th>\n",
       "      <td>Brasil</td>\n",
       "      <td>BR</td>\n",
       "      <td>fortaleza</td>\n",
       "      <td>Fortaleza</td>\n",
       "      <td>city</td>\n",
       "      <td>3316343</td>\n",
       "      <td>TRUE</td>\n",
       "      <td>America/Fortaleza</td>\n",
       "      <td>Polygon ((-38.675418956251022 -3.6670827890691...</td>\n",
       "      <td>FALSE</td>\n",
       "      <td>6.658619e+06</td>\n",
       "      <td>BR</td>\n",
       "      <td>BR</td>\n",
       "      <td>Brazil</td>\n",
       "      <td>b'\\x00\\x00\\x00\\x00\\x03\\x05\\x00\\x00\\x00\\xc4\\xe2...</td>\n",
       "      <td>0.040069</td>\n",
       "      <td>365.0</td>\n",
       "      <td>2.364875e+07</td>\n",
       "      <td>7.610351e+06</td>\n",
       "      <td>0.321808</td>\n",
       "      <td>1.628640e+08</td>\n",
       "      <td>3.413869e+07</td>\n",
       "      <td>0.209615</td>\n",
       "      <td>3.551600</td>\n",
       "      <td>3.494161</td>\n",
       "      <td>True</td>\n",
       "      <td>True</td>\n",
       "    </tr>\n",
       "    <tr>\n",
       "      <th>25</th>\n",
       "      <td>Chile</td>\n",
       "      <td>CL</td>\n",
       "      <td>ch_comunas_recoleta</td>\n",
       "      <td>RECOLETA</td>\n",
       "      <td>submetro</td>\n",
       "      <td>157851</td>\n",
       "      <td>FALSE</td>\n",
       "      <td>America/Santiago</td>\n",
       "      <td>POLYGON ((-70.65618880869798 -33.3767778882918...</td>\n",
       "      <td>FALSE</td>\n",
       "      <td>2.733824e+05</td>\n",
       "      <td>CH</td>\n",
       "      <td>CI</td>\n",
       "      <td>Chile</td>\n",
       "      <td>b\"\\x00\\x00\\x00\\x00\\x03\\x05\\x00\\x00\\x00J\\xcb\\xc...</td>\n",
       "      <td>0.001525</td>\n",
       "      <td>365.0</td>\n",
       "      <td>2.080667e+06</td>\n",
       "      <td>1.092223e+06</td>\n",
       "      <td>0.524939</td>\n",
       "      <td>1.432912e+07</td>\n",
       "      <td>4.301908e+06</td>\n",
       "      <td>0.300221</td>\n",
       "      <td>7.610831</td>\n",
       "      <td>7.487745</td>\n",
       "      <td>False</td>\n",
       "      <td>True</td>\n",
       "    </tr>\n",
       "    <tr>\n",
       "      <th>26</th>\n",
       "      <td>Colombia</td>\n",
       "      <td>CO</td>\n",
       "      <td>bogota</td>\n",
       "      <td>Bogotá</td>\n",
       "      <td>city</td>\n",
       "      <td>8770058</td>\n",
       "      <td>TRUE</td>\n",
       "      <td>America/Bogota</td>\n",
       "      <td>Polygon ((-74.04208330493199242 4.932917798462...</td>\n",
       "      <td>FALSE</td>\n",
       "      <td>8.366023e+06</td>\n",
       "      <td>CO</td>\n",
       "      <td>CO</td>\n",
       "      <td>Colombia</td>\n",
       "      <td>b'\\x00\\x00\\x00\\x00\\x03\\x05\\x00\\x00\\x00\\x04\\x01...</td>\n",
       "      <td>0.071528</td>\n",
       "      <td>365.0</td>\n",
       "      <td>1.087251e+08</td>\n",
       "      <td>3.117015e+07</td>\n",
       "      <td>0.286688</td>\n",
       "      <td>7.487673e+08</td>\n",
       "      <td>1.654535e+08</td>\n",
       "      <td>0.220968</td>\n",
       "      <td>12.996034</td>\n",
       "      <td>12.785856</td>\n",
       "      <td>True</td>\n",
       "      <td>True</td>\n",
       "    </tr>\n",
       "    <tr>\n",
       "      <th>27</th>\n",
       "      <td>Brasil</td>\n",
       "      <td>BR</td>\n",
       "      <td>natal</td>\n",
       "      <td>Natal</td>\n",
       "      <td>city</td>\n",
       "      <td>3316343</td>\n",
       "      <td>TRUE</td>\n",
       "      <td>America/Fortaleza</td>\n",
       "      <td>Polygon ((-38.675418956251022 -3.6670827890691...</td>\n",
       "      <td>FALSE</td>\n",
       "      <td>6.658619e+06</td>\n",
       "      <td>BR</td>\n",
       "      <td>BR</td>\n",
       "      <td>Brazil</td>\n",
       "      <td>b'\\x00\\x00\\x00\\x00\\x03\\x05\\x00\\x00\\x00\\xc4\\xe2...</td>\n",
       "      <td>0.040069</td>\n",
       "      <td>365.0</td>\n",
       "      <td>2.364874e+07</td>\n",
       "      <td>7.610349e+06</td>\n",
       "      <td>0.321808</td>\n",
       "      <td>1.628640e+08</td>\n",
       "      <td>3.413869e+07</td>\n",
       "      <td>0.209615</td>\n",
       "      <td>3.551599</td>\n",
       "      <td>3.494160</td>\n",
       "      <td>True</td>\n",
       "      <td>True</td>\n",
       "    </tr>\n",
       "    <tr>\n",
       "      <th>28</th>\n",
       "      <td>Brasil</td>\n",
       "      <td>BR</td>\n",
       "      <td>joinville</td>\n",
       "      <td>Joinville</td>\n",
       "      <td>city</td>\n",
       "      <td>466875</td>\n",
       "      <td>FALSE</td>\n",
       "      <td>America/Sao_Paulo</td>\n",
       "      <td>Polygon ((-48.82541829100442499 -26.2254176635...</td>\n",
       "      <td>FALSE</td>\n",
       "      <td>1.605009e+06</td>\n",
       "      <td>BR</td>\n",
       "      <td>BR</td>\n",
       "      <td>Brazil</td>\n",
       "      <td>b'\\x00\\x00\\x00\\x00\\x03\\x05\\x00\\x00\\x00\\xccj9\\x...</td>\n",
       "      <td>0.013125</td>\n",
       "      <td>365.0</td>\n",
       "      <td>3.891869e+06</td>\n",
       "      <td>2.038894e+06</td>\n",
       "      <td>0.523886</td>\n",
       "      <td>2.680249e+07</td>\n",
       "      <td>7.973369e+06</td>\n",
       "      <td>0.297486</td>\n",
       "      <td>2.424826</td>\n",
       "      <td>2.385611</td>\n",
       "      <td>False</td>\n",
       "      <td>True</td>\n",
       "    </tr>\n",
       "    <tr>\n",
       "      <th>29</th>\n",
       "      <td>Belize</td>\n",
       "      <td>BZ</td>\n",
       "      <td>country_belize</td>\n",
       "      <td>Belize</td>\n",
       "      <td>country</td>\n",
       "      <td>397621</td>\n",
       "      <td>TRUE</td>\n",
       "      <td>America/Belize</td>\n",
       "      <td>MULTIPOLYGON (((-89.227325 15.896013,-89.15195...</td>\n",
       "      <td>FALSE</td>\n",
       "      <td>6.859379e+06</td>\n",
       "      <td>BL</td>\n",
       "      <td>BH</td>\n",
       "      <td>Belize</td>\n",
       "      <td>b'\\x00\\x00\\x00\\x00\\x06\\x05\\x00\\x00\\x00\\x0b$(~\\...</td>\n",
       "      <td>1.888247</td>\n",
       "      <td>365.0</td>\n",
       "      <td>3.225253e+05</td>\n",
       "      <td>2.140616e+05</td>\n",
       "      <td>0.663705</td>\n",
       "      <td>2.221165e+06</td>\n",
       "      <td>1.132415e+06</td>\n",
       "      <td>0.509829</td>\n",
       "      <td>0.047020</td>\n",
       "      <td>0.046259</td>\n",
       "      <td>False</td>\n",
       "      <td>False</td>\n",
       "    </tr>\n",
       "    <tr>\n",
       "      <th>...</th>\n",
       "      <td>...</td>\n",
       "      <td>...</td>\n",
       "      <td>...</td>\n",
       "      <td>...</td>\n",
       "      <td>...</td>\n",
       "      <td>...</td>\n",
       "      <td>...</td>\n",
       "      <td>...</td>\n",
       "      <td>...</td>\n",
       "      <td>...</td>\n",
       "      <td>...</td>\n",
       "      <td>...</td>\n",
       "      <td>...</td>\n",
       "      <td>...</td>\n",
       "      <td>...</td>\n",
       "      <td>...</td>\n",
       "      <td>...</td>\n",
       "      <td>...</td>\n",
       "      <td>...</td>\n",
       "      <td>...</td>\n",
       "      <td>...</td>\n",
       "      <td>...</td>\n",
       "      <td>...</td>\n",
       "      <td>...</td>\n",
       "      <td>...</td>\n",
       "      <td>...</td>\n",
       "      <td>...</td>\n",
       "    </tr>\n",
       "    <tr>\n",
       "      <th>167</th>\n",
       "      <td>Chile</td>\n",
       "      <td>CL</td>\n",
       "      <td>ch_comunas_providencia</td>\n",
       "      <td>PROVIDENCIA</td>\n",
       "      <td>submetro</td>\n",
       "      <td>142079</td>\n",
       "      <td>FALSE</td>\n",
       "      <td>America/Santiago</td>\n",
       "      <td>POLYGON ((-70.58483861292153 -33.4312587878066...</td>\n",
       "      <td>FALSE</td>\n",
       "      <td>2.641453e+05</td>\n",
       "      <td>CH</td>\n",
       "      <td>CI</td>\n",
       "      <td>Chile</td>\n",
       "      <td>b'\\x00\\x00\\x00\\x00\\x03\\x05\\x00\\x00\\x00\\xc2t}3\\...</td>\n",
       "      <td>0.001397</td>\n",
       "      <td>365.0</td>\n",
       "      <td>4.301876e+06</td>\n",
       "      <td>2.801396e+06</td>\n",
       "      <td>0.651203</td>\n",
       "      <td>2.962613e+07</td>\n",
       "      <td>1.005447e+07</td>\n",
       "      <td>0.339378</td>\n",
       "      <td>16.286022</td>\n",
       "      <td>16.022636</td>\n",
       "      <td>False</td>\n",
       "      <td>True</td>\n",
       "    </tr>\n",
       "    <tr>\n",
       "      <th>168</th>\n",
       "      <td>Chile</td>\n",
       "      <td>CL</td>\n",
       "      <td>ch_comunas_las_condes</td>\n",
       "      <td>LAS CONDES</td>\n",
       "      <td>submetro</td>\n",
       "      <td>294838</td>\n",
       "      <td>FALSE</td>\n",
       "      <td>America/Santiago</td>\n",
       "      <td>POLYGON ((-70.53235176218874 -33.3821684107016...</td>\n",
       "      <td>FALSE</td>\n",
       "      <td>5.989083e+05</td>\n",
       "      <td>CH</td>\n",
       "      <td>CI</td>\n",
       "      <td>Chile</td>\n",
       "      <td>b'\\x00\\x00\\x00\\x00\\x03\\x05\\x00\\x00\\x00\\xe5)\\x1...</td>\n",
       "      <td>0.009553</td>\n",
       "      <td>365.0</td>\n",
       "      <td>4.646948e+06</td>\n",
       "      <td>2.838229e+06</td>\n",
       "      <td>0.610773</td>\n",
       "      <td>3.200257e+07</td>\n",
       "      <td>1.140265e+07</td>\n",
       "      <td>0.356304</td>\n",
       "      <td>7.759030</td>\n",
       "      <td>7.633547</td>\n",
       "      <td>False</td>\n",
       "      <td>True</td>\n",
       "    </tr>\n",
       "    <tr>\n",
       "      <th>169</th>\n",
       "      <td>Brasil</td>\n",
       "      <td>BR</td>\n",
       "      <td>br_states_rio_grande_do_norte</td>\n",
       "      <td>Rio Grande Do Norte</td>\n",
       "      <td>state</td>\n",
       "      <td></td>\n",
       "      <td>FALSE</td>\n",
       "      <td></td>\n",
       "      <td>POLYGON ((-37.25329112484679 -4.83155550793584...</td>\n",
       "      <td>FALSE</td>\n",
       "      <td>4.015850e+07</td>\n",
       "      <td>BR</td>\n",
       "      <td>BR</td>\n",
       "      <td>Brazil</td>\n",
       "      <td>b'\\x00\\x00\\x00\\x00\\x03\\x05\\x00\\x00\\x00\\xbdV\\xe...</td>\n",
       "      <td>4.306704</td>\n",
       "      <td>365.0</td>\n",
       "      <td>1.798740e+07</td>\n",
       "      <td>5.317016e+06</td>\n",
       "      <td>0.295597</td>\n",
       "      <td>1.238755e+08</td>\n",
       "      <td>2.872464e+07</td>\n",
       "      <td>0.231883</td>\n",
       "      <td>0.447910</td>\n",
       "      <td>0.440666</td>\n",
       "      <td>True</td>\n",
       "      <td>True</td>\n",
       "    </tr>\n",
       "    <tr>\n",
       "      <th>170</th>\n",
       "      <td>Chile</td>\n",
       "      <td>CL</td>\n",
       "      <td>ch_comunas_san_ramon</td>\n",
       "      <td>SAN RAMON</td>\n",
       "      <td>submetro</td>\n",
       "      <td>82900</td>\n",
       "      <td>FALSE</td>\n",
       "      <td>America/Santiago</td>\n",
       "      <td>POLYGON ((-70.63810714414637 -33.5186807632613...</td>\n",
       "      <td>FALSE</td>\n",
       "      <td>1.811073e+05</td>\n",
       "      <td>CH</td>\n",
       "      <td>CI</td>\n",
       "      <td>Chile</td>\n",
       "      <td>b'\\x00\\x00\\x00\\x00\\x03\\x05\\x00\\x00\\x00nk\\x91\\x...</td>\n",
       "      <td>0.000614</td>\n",
       "      <td>365.0</td>\n",
       "      <td>6.887250e+05</td>\n",
       "      <td>3.930646e+05</td>\n",
       "      <td>0.570713</td>\n",
       "      <td>4.743106e+06</td>\n",
       "      <td>1.579368e+06</td>\n",
       "      <td>0.332982</td>\n",
       "      <td>3.802855</td>\n",
       "      <td>3.741354</td>\n",
       "      <td>False</td>\n",
       "      <td>True</td>\n",
       "    </tr>\n",
       "    <tr>\n",
       "      <th>171</th>\n",
       "      <td>Brasil</td>\n",
       "      <td>BR</td>\n",
       "      <td>br_states_tocantins</td>\n",
       "      <td>Tocantins</td>\n",
       "      <td>state</td>\n",
       "      <td></td>\n",
       "      <td>FALSE</td>\n",
       "      <td></td>\n",
       "      <td>POLYGON ((-48.3587821730257 -5.170084717906753...</td>\n",
       "      <td>FALSE</td>\n",
       "      <td>7.604330e+07</td>\n",
       "      <td>BR</td>\n",
       "      <td>BR</td>\n",
       "      <td>Brazil</td>\n",
       "      <td>b'\\x00\\x00\\x00\\x00\\x03\\x05\\x00\\x00\\x00a\\xb6\\xb...</td>\n",
       "      <td>22.898700</td>\n",
       "      <td>365.0</td>\n",
       "      <td>1.195534e+07</td>\n",
       "      <td>5.329557e+06</td>\n",
       "      <td>0.445789</td>\n",
       "      <td>8.233396e+07</td>\n",
       "      <td>3.571257e+07</td>\n",
       "      <td>0.433753</td>\n",
       "      <td>0.157218</td>\n",
       "      <td>0.154675</td>\n",
       "      <td>True</td>\n",
       "      <td>True</td>\n",
       "    </tr>\n",
       "    <tr>\n",
       "      <th>172</th>\n",
       "      <td>Peru</td>\n",
       "      <td>PE</td>\n",
       "      <td>lima_metro2</td>\n",
       "      <td>Lima Bottom</td>\n",
       "      <td>submetro</td>\n",
       "      <td>6320659</td>\n",
       "      <td>FALSE</td>\n",
       "      <td>America/Lima</td>\n",
       "      <td>Polygon ((-77.19486998846033998 -11.8087874752...</td>\n",
       "      <td>FALSE</td>\n",
       "      <td>1.224790e+07</td>\n",
       "      <td>PE</td>\n",
       "      <td>PE</td>\n",
       "      <td>Peru</td>\n",
       "      <td>b'\\x00\\x00\\x00\\x00\\x03\\x05\\x00\\x00\\x00.\\xda\\xf...</td>\n",
       "      <td>0.217135</td>\n",
       "      <td>NaN</td>\n",
       "      <td>NaN</td>\n",
       "      <td>NaN</td>\n",
       "      <td>NaN</td>\n",
       "      <td>NaN</td>\n",
       "      <td>NaN</td>\n",
       "      <td>NaN</td>\n",
       "      <td>NaN</td>\n",
       "      <td>NaN</td>\n",
       "      <td>False</td>\n",
       "      <td>False</td>\n",
       "    </tr>\n",
       "    <tr>\n",
       "      <th>173</th>\n",
       "      <td>Brasil</td>\n",
       "      <td>BR</td>\n",
       "      <td>santos</td>\n",
       "      <td>Santos</td>\n",
       "      <td>city</td>\n",
       "      <td>1416021</td>\n",
       "      <td>TRUE</td>\n",
       "      <td>America/Sao_Paulo</td>\n",
       "      <td>Polygon ((-46.44208511387842009 -23.8587508351...</td>\n",
       "      <td>FALSE</td>\n",
       "      <td>2.911221e+06</td>\n",
       "      <td>BR</td>\n",
       "      <td>BR</td>\n",
       "      <td>Brazil</td>\n",
       "      <td>b'\\x00\\x00\\x00\\x00\\x03\\x05\\x00\\x00\\x008\\x97\\x9...</td>\n",
       "      <td>0.027222</td>\n",
       "      <td>365.0</td>\n",
       "      <td>1.139234e+07</td>\n",
       "      <td>4.040926e+06</td>\n",
       "      <td>0.354706</td>\n",
       "      <td>7.845666e+07</td>\n",
       "      <td>2.083809e+07</td>\n",
       "      <td>0.265600</td>\n",
       "      <td>3.913250</td>\n",
       "      <td>3.849963</td>\n",
       "      <td>True</td>\n",
       "      <td>True</td>\n",
       "    </tr>\n",
       "    <tr>\n",
       "      <th>174</th>\n",
       "      <td>Brazil</td>\n",
       "      <td>BR</td>\n",
       "      <td>country_brazil</td>\n",
       "      <td>Brasil</td>\n",
       "      <td>country</td>\n",
       "      <td>212559409</td>\n",
       "      <td>TRUE</td>\n",
       "      <td></td>\n",
       "      <td>MULTIPOLYGON (((-73.983063 -7.534734,-73.95117...</td>\n",
       "      <td>TRUE</td>\n",
       "      <td>2.422501e+09</td>\n",
       "      <td>BR</td>\n",
       "      <td>BR</td>\n",
       "      <td>Brazil</td>\n",
       "      <td>b'\\x00\\x00\\x00\\x00\\x06\\x05\\x00\\x00\\x00\\x17\\xba...</td>\n",
       "      <td>708.049894</td>\n",
       "      <td>364.0</td>\n",
       "      <td>1.408422e+09</td>\n",
       "      <td>4.145040e+08</td>\n",
       "      <td>0.294304</td>\n",
       "      <td>9.858955e+09</td>\n",
       "      <td>2.170049e+09</td>\n",
       "      <td>0.220109</td>\n",
       "      <td>0.581392</td>\n",
       "      <td>0.581392</td>\n",
       "      <td>True</td>\n",
       "      <td>True</td>\n",
       "    </tr>\n",
       "    <tr>\n",
       "      <th>175</th>\n",
       "      <td>Chile</td>\n",
       "      <td>CL</td>\n",
       "      <td>ch_comunas_pirque</td>\n",
       "      <td>PIRQUE</td>\n",
       "      <td>submetro</td>\n",
       "      <td>26521</td>\n",
       "      <td>FALSE</td>\n",
       "      <td>America/Santiago</td>\n",
       "      <td>POLYGON ((-70.44388781590685 -33.5825231117321...</td>\n",
       "      <td>FALSE</td>\n",
       "      <td>3.040421e+05</td>\n",
       "      <td>CH</td>\n",
       "      <td>CI</td>\n",
       "      <td>Chile</td>\n",
       "      <td>b'\\x00\\x00\\x00\\x00\\x03\\x05\\x00\\x00\\x00\\xf0\\x0b...</td>\n",
       "      <td>0.043277</td>\n",
       "      <td>365.0</td>\n",
       "      <td>4.438966e+05</td>\n",
       "      <td>1.411846e+05</td>\n",
       "      <td>0.318058</td>\n",
       "      <td>3.057023e+06</td>\n",
       "      <td>6.246092e+05</td>\n",
       "      <td>0.204319</td>\n",
       "      <td>1.459984</td>\n",
       "      <td>1.436372</td>\n",
       "      <td>True</td>\n",
       "      <td>True</td>\n",
       "    </tr>\n",
       "    <tr>\n",
       "      <th>176</th>\n",
       "      <td>Brasil</td>\n",
       "      <td>BR</td>\n",
       "      <td>br_states_mato_grosso_do_sul</td>\n",
       "      <td>Mato Grosso Do Sul</td>\n",
       "      <td>state</td>\n",
       "      <td></td>\n",
       "      <td>FALSE</td>\n",
       "      <td></td>\n",
       "      <td>POLYGON ((-56.10370222395111 -17.1735386766350...</td>\n",
       "      <td>FALSE</td>\n",
       "      <td>6.827884e+07</td>\n",
       "      <td>BR</td>\n",
       "      <td>BR</td>\n",
       "      <td>Brazil</td>\n",
       "      <td>b'\\x00\\x00\\x00\\x00\\x03\\x05\\x00\\x00\\x00\\xc4\\xb4...</td>\n",
       "      <td>30.877164</td>\n",
       "      <td>NaN</td>\n",
       "      <td>NaN</td>\n",
       "      <td>NaN</td>\n",
       "      <td>NaN</td>\n",
       "      <td>NaN</td>\n",
       "      <td>NaN</td>\n",
       "      <td>NaN</td>\n",
       "      <td>NaN</td>\n",
       "      <td>NaN</td>\n",
       "      <td>False</td>\n",
       "      <td>False</td>\n",
       "    </tr>\n",
       "    <tr>\n",
       "      <th>177</th>\n",
       "      <td>Brasil</td>\n",
       "      <td>BR</td>\n",
       "      <td>maceio</td>\n",
       "      <td>Maceió</td>\n",
       "      <td>city</td>\n",
       "      <td>1029073</td>\n",
       "      <td>TRUE</td>\n",
       "      <td>America/Maceio</td>\n",
       "      <td>Polygon ((-35.8170858102572538 -9.500416520922...</td>\n",
       "      <td>FALSE</td>\n",
       "      <td>2.072539e+06</td>\n",
       "      <td>BR</td>\n",
       "      <td>BR</td>\n",
       "      <td>Brazil</td>\n",
       "      <td>b'\\x00\\x00\\x00\\x00\\x03\\x05\\x00\\x00\\x00\\x1co\\xa...</td>\n",
       "      <td>0.015000</td>\n",
       "      <td>365.0</td>\n",
       "      <td>8.658827e+06</td>\n",
       "      <td>3.080178e+06</td>\n",
       "      <td>0.355727</td>\n",
       "      <td>5.963154e+07</td>\n",
       "      <td>1.078913e+07</td>\n",
       "      <td>0.180930</td>\n",
       "      <td>4.177883</td>\n",
       "      <td>4.110316</td>\n",
       "      <td>True</td>\n",
       "      <td>True</td>\n",
       "    </tr>\n",
       "    <tr>\n",
       "      <th>178</th>\n",
       "      <td>Brasil</td>\n",
       "      <td>BR</td>\n",
       "      <td>br_states_pernambuco</td>\n",
       "      <td>Pernambuco</td>\n",
       "      <td>state</td>\n",
       "      <td></td>\n",
       "      <td>FALSE</td>\n",
       "      <td></td>\n",
       "      <td>POLYGON ((-37.23361241146348 -7.27439652181116...</td>\n",
       "      <td>FALSE</td>\n",
       "      <td>7.885327e+07</td>\n",
       "      <td>BR</td>\n",
       "      <td>BR</td>\n",
       "      <td>Brazil</td>\n",
       "      <td>b'\\x00\\x00\\x00\\x00\\x03\\x05\\x00\\x00\\x00\\xdfW\\xc...</td>\n",
       "      <td>8.048714</td>\n",
       "      <td>365.0</td>\n",
       "      <td>5.640954e+07</td>\n",
       "      <td>1.471124e+07</td>\n",
       "      <td>0.260793</td>\n",
       "      <td>3.884808e+08</td>\n",
       "      <td>8.124071e+07</td>\n",
       "      <td>0.209124</td>\n",
       "      <td>0.715373</td>\n",
       "      <td>0.703804</td>\n",
       "      <td>True</td>\n",
       "      <td>True</td>\n",
       "    </tr>\n",
       "    <tr>\n",
       "      <th>179</th>\n",
       "      <td>Ecuador</td>\n",
       "      <td>EC</td>\n",
       "      <td>guayaquil</td>\n",
       "      <td>Guayaquil</td>\n",
       "      <td>city</td>\n",
       "      <td>2513491</td>\n",
       "      <td>TRUE</td>\n",
       "      <td>America/Guayaquil</td>\n",
       "      <td>Polygon ((-79.95874958381124031 -2.01708267634...</td>\n",
       "      <td>FALSE</td>\n",
       "      <td>4.903045e+06</td>\n",
       "      <td>EC</td>\n",
       "      <td>EC</td>\n",
       "      <td>Ecuador</td>\n",
       "      <td>b'\\x00\\x00\\x00\\x00\\x03\\x05\\x00\\x00\\x00\\xactvk\\...</td>\n",
       "      <td>0.035486</td>\n",
       "      <td>365.0</td>\n",
       "      <td>9.348243e+06</td>\n",
       "      <td>3.455864e+06</td>\n",
       "      <td>0.369681</td>\n",
       "      <td>6.437941e+07</td>\n",
       "      <td>1.403783e+07</td>\n",
       "      <td>0.218048</td>\n",
       "      <td>1.906620</td>\n",
       "      <td>1.875785</td>\n",
       "      <td>True</td>\n",
       "      <td>True</td>\n",
       "    </tr>\n",
       "    <tr>\n",
       "      <th>180</th>\n",
       "      <td>Mexico</td>\n",
       "      <td>MX</td>\n",
       "      <td>aguascalientes</td>\n",
       "      <td>Aguascalientes</td>\n",
       "      <td>city</td>\n",
       "      <td>911397</td>\n",
       "      <td>TRUE</td>\n",
       "      <td>America/Mexico_City</td>\n",
       "      <td>Polygon ((-102.36708144846795676 21.9829189632...</td>\n",
       "      <td>FALSE</td>\n",
       "      <td>3.064830e+06</td>\n",
       "      <td>ME</td>\n",
       "      <td>MX</td>\n",
       "      <td>Mexico</td>\n",
       "      <td>b'\\x00\\x00\\x00\\x00\\x03\\x05\\x00\\x00\\x00\\xd8\\x08...</td>\n",
       "      <td>0.018333</td>\n",
       "      <td>365.0</td>\n",
       "      <td>4.104238e+06</td>\n",
       "      <td>1.424775e+06</td>\n",
       "      <td>0.347147</td>\n",
       "      <td>2.826504e+07</td>\n",
       "      <td>8.080694e+06</td>\n",
       "      <td>0.285890</td>\n",
       "      <td>1.339140</td>\n",
       "      <td>1.317483</td>\n",
       "      <td>True</td>\n",
       "      <td>True</td>\n",
       "    </tr>\n",
       "    <tr>\n",
       "      <th>181</th>\n",
       "      <td>Chile</td>\n",
       "      <td>CL</td>\n",
       "      <td>ch_comunas_puente_alto</td>\n",
       "      <td>PUENTE ALTO</td>\n",
       "      <td>submetro</td>\n",
       "      <td>568106</td>\n",
       "      <td>FALSE</td>\n",
       "      <td>America/Santiago</td>\n",
       "      <td>POLYGON ((-70.50469128549443 -33.5463762921157...</td>\n",
       "      <td>FALSE</td>\n",
       "      <td>9.362034e+05</td>\n",
       "      <td>CH</td>\n",
       "      <td>CI</td>\n",
       "      <td>Chile</td>\n",
       "      <td>b'\\x00\\x00\\x00\\x00\\x03\\x05\\x00\\x00\\x00DC\\n#f\\x...</td>\n",
       "      <td>0.008535</td>\n",
       "      <td>365.0</td>\n",
       "      <td>2.137837e+06</td>\n",
       "      <td>7.759239e+05</td>\n",
       "      <td>0.362948</td>\n",
       "      <td>1.472284e+07</td>\n",
       "      <td>4.319037e+06</td>\n",
       "      <td>0.293356</td>\n",
       "      <td>2.283518</td>\n",
       "      <td>2.246588</td>\n",
       "      <td>True</td>\n",
       "      <td>True</td>\n",
       "    </tr>\n",
       "    <tr>\n",
       "      <th>182</th>\n",
       "      <td>Peru</td>\n",
       "      <td>PE</td>\n",
       "      <td>lima</td>\n",
       "      <td>Lima</td>\n",
       "      <td>city</td>\n",
       "      <td>9609692</td>\n",
       "      <td>TRUE</td>\n",
       "      <td>America/Lima</td>\n",
       "      <td>Polygon ((-77.16708310011469507 -11.7004166712...</td>\n",
       "      <td>FALSE</td>\n",
       "      <td>1.713727e+07</td>\n",
       "      <td>PE</td>\n",
       "      <td>PE</td>\n",
       "      <td>Peru</td>\n",
       "      <td>b'\\x00\\x00\\x00\\x00\\x03\\x05\\x00\\x00\\x00\\xd8vp\\x...</td>\n",
       "      <td>0.175625</td>\n",
       "      <td>365.0</td>\n",
       "      <td>7.883747e+07</td>\n",
       "      <td>1.953916e+07</td>\n",
       "      <td>0.247841</td>\n",
       "      <td>5.429373e+08</td>\n",
       "      <td>8.412851e+07</td>\n",
       "      <td>0.154951</td>\n",
       "      <td>4.600353</td>\n",
       "      <td>4.525953</td>\n",
       "      <td>True</td>\n",
       "      <td>True</td>\n",
       "    </tr>\n",
       "    <tr>\n",
       "      <th>183</th>\n",
       "      <td>Suriname</td>\n",
       "      <td>SR</td>\n",
       "      <td>country_suriname</td>\n",
       "      <td>Suriname</td>\n",
       "      <td>country</td>\n",
       "      <td>586634</td>\n",
       "      <td>TRUE</td>\n",
       "      <td>America/Paramaribo</td>\n",
       "      <td>MULTIPOLYGON (((-58.070833 4.1525,-57.843889 4...</td>\n",
       "      <td>FALSE</td>\n",
       "      <td>5.549575e+06</td>\n",
       "      <td>SU</td>\n",
       "      <td>NS</td>\n",
       "      <td>Suriname</td>\n",
       "      <td>b'\\x00\\x00\\x00\\x00\\x06\\x05\\x00\\x00\\x00!=E\\x0e\\...</td>\n",
       "      <td>11.798382</td>\n",
       "      <td>365.0</td>\n",
       "      <td>4.611933e+05</td>\n",
       "      <td>2.156324e+05</td>\n",
       "      <td>0.467553</td>\n",
       "      <td>3.176142e+06</td>\n",
       "      <td>1.098011e+06</td>\n",
       "      <td>0.345706</td>\n",
       "      <td>0.083104</td>\n",
       "      <td>0.081760</td>\n",
       "      <td>False</td>\n",
       "      <td>False</td>\n",
       "    </tr>\n",
       "    <tr>\n",
       "      <th>184</th>\n",
       "      <td>Venezuela</td>\n",
       "      <td>VE</td>\n",
       "      <td>valencia</td>\n",
       "      <td>Valencia</td>\n",
       "      <td>city</td>\n",
       "      <td>1615285</td>\n",
       "      <td>FALSE</td>\n",
       "      <td></td>\n",
       "      <td>Polygon ((-68.04208369818121582 10.31625149957...</td>\n",
       "      <td>FALSE</td>\n",
       "      <td>3.302450e+06</td>\n",
       "      <td>VE</td>\n",
       "      <td>VE</td>\n",
       "      <td>Venezuela</td>\n",
       "      <td>b'\\x00\\x00\\x00\\x00\\x03\\x05\\x00\\x00\\x00\\x1e\\xa2...</td>\n",
       "      <td>0.038681</td>\n",
       "      <td>365.0</td>\n",
       "      <td>1.945526e+05</td>\n",
       "      <td>1.499671e+05</td>\n",
       "      <td>0.770830</td>\n",
       "      <td>1.339844e+06</td>\n",
       "      <td>5.909286e+05</td>\n",
       "      <td>0.441043</td>\n",
       "      <td>0.058912</td>\n",
       "      <td>0.057959</td>\n",
       "      <td>False</td>\n",
       "      <td>False</td>\n",
       "    </tr>\n",
       "    <tr>\n",
       "      <th>185</th>\n",
       "      <td>Brasil</td>\n",
       "      <td>BR</td>\n",
       "      <td>saoluis</td>\n",
       "      <td>São Luís</td>\n",
       "      <td>city</td>\n",
       "      <td>1215204</td>\n",
       "      <td>TRUE</td>\n",
       "      <td>America/Fortaleza</td>\n",
       "      <td>Polygon ((-44.23375192528264677 -2.60874938343...</td>\n",
       "      <td>FALSE</td>\n",
       "      <td>3.617293e+06</td>\n",
       "      <td>BR</td>\n",
       "      <td>BR</td>\n",
       "      <td>Brazil</td>\n",
       "      <td>b'\\x00\\x00\\x00\\x00\\x03\\x05\\x00\\x00\\x00FmS\\xb7\\...</td>\n",
       "      <td>0.024792</td>\n",
       "      <td>365.0</td>\n",
       "      <td>9.123424e+06</td>\n",
       "      <td>3.285178e+06</td>\n",
       "      <td>0.360082</td>\n",
       "      <td>6.283113e+07</td>\n",
       "      <td>1.557761e+07</td>\n",
       "      <td>0.247928</td>\n",
       "      <td>2.522169</td>\n",
       "      <td>2.481379</td>\n",
       "      <td>True</td>\n",
       "      <td>True</td>\n",
       "    </tr>\n",
       "    <tr>\n",
       "      <th>186</th>\n",
       "      <td>Brasil</td>\n",
       "      <td>BR</td>\n",
       "      <td>sorocaba</td>\n",
       "      <td>Sorocaba</td>\n",
       "      <td>city</td>\n",
       "      <td>669302</td>\n",
       "      <td>FALSE</td>\n",
       "      <td>America/Sao_Paulo</td>\n",
       "      <td>Polygon ((-47.43375171554973235 -23.4087508044...</td>\n",
       "      <td>FALSE</td>\n",
       "      <td>2.410594e+06</td>\n",
       "      <td>BR</td>\n",
       "      <td>BR</td>\n",
       "      <td>Brazil</td>\n",
       "      <td>b'\\x00\\x00\\x00\\x00\\x03\\x05\\x00\\x00\\x00\\xfa(\\xd...</td>\n",
       "      <td>0.016389</td>\n",
       "      <td>365.0</td>\n",
       "      <td>2.794657e+06</td>\n",
       "      <td>1.042967e+06</td>\n",
       "      <td>0.373201</td>\n",
       "      <td>1.924622e+07</td>\n",
       "      <td>4.096218e+06</td>\n",
       "      <td>0.212832</td>\n",
       "      <td>1.159323</td>\n",
       "      <td>1.140574</td>\n",
       "      <td>True</td>\n",
       "      <td>True</td>\n",
       "    </tr>\n",
       "    <tr>\n",
       "      <th>187</th>\n",
       "      <td>Bolivia</td>\n",
       "      <td>BO</td>\n",
       "      <td>cochabamba</td>\n",
       "      <td>Cochabamba</td>\n",
       "      <td>city</td>\n",
       "      <td>665851</td>\n",
       "      <td>FALSE</td>\n",
       "      <td>America/La_Paz</td>\n",
       "      <td>Polygon ((-66.18375048664591986 -17.3087503877...</td>\n",
       "      <td>FALSE</td>\n",
       "      <td>3.262906e+06</td>\n",
       "      <td>BO</td>\n",
       "      <td>BL</td>\n",
       "      <td>Bolivia</td>\n",
       "      <td>b\"\\x00\\x00\\x00\\x00\\x03\\x05\\x00\\x00\\x00\\xc66.^\\...</td>\n",
       "      <td>0.020903</td>\n",
       "      <td>365.0</td>\n",
       "      <td>7.151436e+04</td>\n",
       "      <td>2.790124e+04</td>\n",
       "      <td>0.390149</td>\n",
       "      <td>4.925045e+05</td>\n",
       "      <td>1.184550e+05</td>\n",
       "      <td>0.240516</td>\n",
       "      <td>0.021917</td>\n",
       "      <td>0.021563</td>\n",
       "      <td>False</td>\n",
       "      <td>False</td>\n",
       "    </tr>\n",
       "    <tr>\n",
       "      <th>188</th>\n",
       "      <td>Brasil</td>\n",
       "      <td>BR</td>\n",
       "      <td>br_states_rio_grande_do_sul</td>\n",
       "      <td>Rio Grande Do Sul</td>\n",
       "      <td>state</td>\n",
       "      <td></td>\n",
       "      <td>FALSE</td>\n",
       "      <td></td>\n",
       "      <td>POLYGON ((-51.90485567848292 -27.4593476999797...</td>\n",
       "      <td>FALSE</td>\n",
       "      <td>1.866301e+08</td>\n",
       "      <td>BR</td>\n",
       "      <td>BR</td>\n",
       "      <td>Brazil</td>\n",
       "      <td>b'\\x00\\x00\\x00\\x00\\x03\\x05\\x00\\x00\\x00\\x17\\xac...</td>\n",
       "      <td>25.139722</td>\n",
       "      <td>365.0</td>\n",
       "      <td>1.079391e+08</td>\n",
       "      <td>3.488499e+07</td>\n",
       "      <td>0.323192</td>\n",
       "      <td>7.433539e+08</td>\n",
       "      <td>1.874918e+08</td>\n",
       "      <td>0.252224</td>\n",
       "      <td>0.578358</td>\n",
       "      <td>0.569005</td>\n",
       "      <td>True</td>\n",
       "      <td>True</td>\n",
       "    </tr>\n",
       "    <tr>\n",
       "      <th>189</th>\n",
       "      <td>Haiti</td>\n",
       "      <td>HT</td>\n",
       "      <td>country_haiti</td>\n",
       "      <td>Haiti</td>\n",
       "      <td>country</td>\n",
       "      <td>11402533</td>\n",
       "      <td>FALSE</td>\n",
       "      <td>America/Port-au-Prince</td>\n",
       "      <td>MULTIPOLYGON (((-74.65753599999999 18.422522, ...</td>\n",
       "      <td>FALSE</td>\n",
       "      <td>2.149465e+07</td>\n",
       "      <td>HA</td>\n",
       "      <td>HA</td>\n",
       "      <td>Haiti</td>\n",
       "      <td>b'\\x00\\x00\\x00\\x00\\x06\\x05\\x00\\x00\\x00\\xae\\xd5...</td>\n",
       "      <td>4.172228</td>\n",
       "      <td>365.0</td>\n",
       "      <td>4.341728e+05</td>\n",
       "      <td>3.646120e+05</td>\n",
       "      <td>0.839785</td>\n",
       "      <td>2.990058e+06</td>\n",
       "      <td>1.932910e+06</td>\n",
       "      <td>0.646446</td>\n",
       "      <td>0.020199</td>\n",
       "      <td>0.019872</td>\n",
       "      <td>False</td>\n",
       "      <td>False</td>\n",
       "    </tr>\n",
       "    <tr>\n",
       "      <th>190</th>\n",
       "      <td>Brasil</td>\n",
       "      <td>BR</td>\n",
       "      <td>br_states_parana</td>\n",
       "      <td>Parana</td>\n",
       "      <td>state</td>\n",
       "      <td></td>\n",
       "      <td>FALSE</td>\n",
       "      <td></td>\n",
       "      <td>POLYGON ((-52.05187783852555 -22.5393269345519...</td>\n",
       "      <td>FALSE</td>\n",
       "      <td>2.024309e+08</td>\n",
       "      <td>BR</td>\n",
       "      <td>BR</td>\n",
       "      <td>Brazil</td>\n",
       "      <td>b'\\x00\\x00\\x00\\x00\\x03\\x05\\x00\\x00\\x005\\xd5\\xd...</td>\n",
       "      <td>17.796730</td>\n",
       "      <td>NaN</td>\n",
       "      <td>NaN</td>\n",
       "      <td>NaN</td>\n",
       "      <td>NaN</td>\n",
       "      <td>NaN</td>\n",
       "      <td>NaN</td>\n",
       "      <td>NaN</td>\n",
       "      <td>NaN</td>\n",
       "      <td>NaN</td>\n",
       "      <td>False</td>\n",
       "      <td>False</td>\n",
       "    </tr>\n",
       "    <tr>\n",
       "      <th>191</th>\n",
       "      <td>Brasil</td>\n",
       "      <td>BR</td>\n",
       "      <td>joaopessoa</td>\n",
       "      <td>João Pessoa</td>\n",
       "      <td>city</td>\n",
       "      <td>1020103</td>\n",
       "      <td>TRUE</td>\n",
       "      <td>America/Fortaleza</td>\n",
       "      <td>Polygon ((-34.94208586760609592 -7.16708302818...</td>\n",
       "      <td>FALSE</td>\n",
       "      <td>2.957637e+06</td>\n",
       "      <td>BR</td>\n",
       "      <td>BR</td>\n",
       "      <td>Brazil</td>\n",
       "      <td>b'\\x00\\x00\\x00\\x00\\x03\\x05\\x00\\x00\\x00\\x96\\xd8...</td>\n",
       "      <td>0.019514</td>\n",
       "      <td>365.0</td>\n",
       "      <td>5.945612e+06</td>\n",
       "      <td>2.173691e+06</td>\n",
       "      <td>0.365596</td>\n",
       "      <td>4.094620e+07</td>\n",
       "      <td>8.565202e+06</td>\n",
       "      <td>0.209182</td>\n",
       "      <td>2.010258</td>\n",
       "      <td>1.977747</td>\n",
       "      <td>True</td>\n",
       "      <td>True</td>\n",
       "    </tr>\n",
       "    <tr>\n",
       "      <th>192</th>\n",
       "      <td>Chile</td>\n",
       "      <td>CL</td>\n",
       "      <td>ch_comunas_san_miguel</td>\n",
       "      <td>SAN MIGUEL</td>\n",
       "      <td>submetro</td>\n",
       "      <td>107954</td>\n",
       "      <td>FALSE</td>\n",
       "      <td>America/Santiago</td>\n",
       "      <td>POLYGON ((-70.63659489265227 -33.518728535458,...</td>\n",
       "      <td>FALSE</td>\n",
       "      <td>1.901539e+05</td>\n",
       "      <td>CH</td>\n",
       "      <td>CI</td>\n",
       "      <td>Chile</td>\n",
       "      <td>b'\\x00\\x00\\x00\\x00\\x03\\x05\\x00\\x00\\x00V\\xe4x\\x...</td>\n",
       "      <td>0.000927</td>\n",
       "      <td>365.0</td>\n",
       "      <td>1.450118e+06</td>\n",
       "      <td>8.823884e+05</td>\n",
       "      <td>0.608494</td>\n",
       "      <td>9.986662e+06</td>\n",
       "      <td>3.716485e+06</td>\n",
       "      <td>0.372145</td>\n",
       "      <td>7.626025</td>\n",
       "      <td>7.502693</td>\n",
       "      <td>False</td>\n",
       "      <td>True</td>\n",
       "    </tr>\n",
       "    <tr>\n",
       "      <th>193</th>\n",
       "      <td>Mexico</td>\n",
       "      <td>MX</td>\n",
       "      <td>mexicocity</td>\n",
       "      <td>Ciudad de México</td>\n",
       "      <td>city</td>\n",
       "      <td>22381714</td>\n",
       "      <td>TRUE</td>\n",
       "      <td>America/Mexico_City</td>\n",
       "      <td>Polygon ((-99.22541498771096258 19.79958548078...</td>\n",
       "      <td>FALSE</td>\n",
       "      <td>3.956057e+07</td>\n",
       "      <td>ME</td>\n",
       "      <td>MX</td>\n",
       "      <td>Mexico</td>\n",
       "      <td>b'\\x00\\x00\\x00\\x00\\x03\\x05\\x00\\x00\\x00\\xcf\\xff...</td>\n",
       "      <td>0.229375</td>\n",
       "      <td>365.0</td>\n",
       "      <td>2.067183e+08</td>\n",
       "      <td>5.999457e+07</td>\n",
       "      <td>0.290224</td>\n",
       "      <td>1.423626e+09</td>\n",
       "      <td>2.878109e+08</td>\n",
       "      <td>0.202167</td>\n",
       "      <td>5.225364</td>\n",
       "      <td>5.140856</td>\n",
       "      <td>True</td>\n",
       "      <td>True</td>\n",
       "    </tr>\n",
       "    <tr>\n",
       "      <th>194</th>\n",
       "      <td>Bahamas</td>\n",
       "      <td>BS</td>\n",
       "      <td>nassau</td>\n",
       "      <td>New Providence</td>\n",
       "      <td>city</td>\n",
       "      <td>159211</td>\n",
       "      <td>FALSE</td>\n",
       "      <td>America/Nassau</td>\n",
       "      <td>Polygon ((-77.39166666669134997 25.03333333330...</td>\n",
       "      <td>FALSE</td>\n",
       "      <td>9.579249e+05</td>\n",
       "      <td>BH</td>\n",
       "      <td>BF</td>\n",
       "      <td>Bahamas</td>\n",
       "      <td>b'\\x00\\x00\\x00\\x00\\x03\\x05\\x00\\x00\\x00\\x1e\\xa1...</td>\n",
       "      <td>0.007778</td>\n",
       "      <td>365.0</td>\n",
       "      <td>6.297122e+04</td>\n",
       "      <td>3.774474e+04</td>\n",
       "      <td>0.599397</td>\n",
       "      <td>4.336697e+05</td>\n",
       "      <td>1.549878e+05</td>\n",
       "      <td>0.357387</td>\n",
       "      <td>0.065737</td>\n",
       "      <td>0.064674</td>\n",
       "      <td>False</td>\n",
       "      <td>False</td>\n",
       "    </tr>\n",
       "    <tr>\n",
       "      <th>195</th>\n",
       "      <td>Guatemala</td>\n",
       "      <td>GT</td>\n",
       "      <td>country_guatemala</td>\n",
       "      <td>Guatemala</td>\n",
       "      <td>country</td>\n",
       "      <td>17915567</td>\n",
       "      <td>TRUE</td>\n",
       "      <td>America/Guatemala</td>\n",
       "      <td>MULTIPOLYGON (((-92.2393264773401 14.541251788...</td>\n",
       "      <td>FALSE</td>\n",
       "      <td>5.659439e+07</td>\n",
       "      <td>GU</td>\n",
       "      <td>GT</td>\n",
       "      <td>Guatemala</td>\n",
       "      <td>b'\\x00\\x00\\x00\\x00\\x06\\x05\\x00\\x00\\x00\\x87O\\x0...</td>\n",
       "      <td>9.091557</td>\n",
       "      <td>365.0</td>\n",
       "      <td>6.213769e+07</td>\n",
       "      <td>1.596946e+07</td>\n",
       "      <td>0.257001</td>\n",
       "      <td>4.279294e+08</td>\n",
       "      <td>8.582651e+07</td>\n",
       "      <td>0.200562</td>\n",
       "      <td>1.097948</td>\n",
       "      <td>1.080191</td>\n",
       "      <td>True</td>\n",
       "      <td>True</td>\n",
       "    </tr>\n",
       "    <tr>\n",
       "      <th>196</th>\n",
       "      <td>Bolivia</td>\n",
       "      <td>BO</td>\n",
       "      <td>lapaz</td>\n",
       "      <td>La Paz</td>\n",
       "      <td>city</td>\n",
       "      <td>918441</td>\n",
       "      <td>FALSE</td>\n",
       "      <td>America/La_Paz</td>\n",
       "      <td>Polygon ((-68.16666666669357255 -16.4500000000...</td>\n",
       "      <td>FALSE</td>\n",
       "      <td>3.846708e+06</td>\n",
       "      <td>BO</td>\n",
       "      <td>BL</td>\n",
       "      <td>Bolivia</td>\n",
       "      <td>b'\\x00\\x00\\x00\\x00\\x03\\x05\\x00\\x00\\x00\\xbe\\x91...</td>\n",
       "      <td>0.015833</td>\n",
       "      <td>365.0</td>\n",
       "      <td>1.825866e+05</td>\n",
       "      <td>6.894398e+04</td>\n",
       "      <td>0.377596</td>\n",
       "      <td>1.257436e+06</td>\n",
       "      <td>3.525840e+05</td>\n",
       "      <td>0.280399</td>\n",
       "      <td>0.047466</td>\n",
       "      <td>0.046698</td>\n",
       "      <td>False</td>\n",
       "      <td>False</td>\n",
       "    </tr>\n",
       "  </tbody>\n",
       "</table>\n",
       "<p>197 rows × 27 columns</p>\n",
       "</div>"
      ],
      "text/plain": [
       "    country_name country_iso                    region_slug  \\\n",
       "0        Jamaica          JM                       kingston   \n",
       "1       Honduras          HN                    tegucigalpa   \n",
       "2     Costa Rica          CR             country_costa_rica   \n",
       "3    The Bahamas          BS            country_the_bahamas   \n",
       "4          Chile          CL            ch_comunas_lo_prado   \n",
       "5          Chile          CL               ch_comunas_lampa   \n",
       "6         Mexico          MX                        torreon   \n",
       "7         Brasil          BR          br_states_mato_grosso   \n",
       "8       Colombia          CO                       medellin   \n",
       "9    El Salvador          SV                    sansalvador   \n",
       "10        Panama          PA                 country_panama   \n",
       "11       Jamaica          JM                country_jamaica   \n",
       "12         Chile          CL       ch_comunas_isla_de_maipo   \n",
       "13         Chile          CL            ch_comunas_santiago   \n",
       "14        Brasil          BR                br_states_bahia   \n",
       "15       Uruguay          UY                     montevideo   \n",
       "16         Chile          CL           ch_comunas_cerrillos   \n",
       "17        Mexico          MX                         merida   \n",
       "18         Chile          CL           ch_comunas_quilicura   \n",
       "19        Mexico          MX                        tijuana   \n",
       "20         Chile          CL            ch_comunas_pudahuel   \n",
       "21        Brasil          BR                br_states_goias   \n",
       "22     Venezuela          VE              country_venezuela   \n",
       "23         Chile          CL                       santiago   \n",
       "24        Brasil          BR                      fortaleza   \n",
       "25         Chile          CL            ch_comunas_recoleta   \n",
       "26      Colombia          CO                         bogota   \n",
       "27        Brasil          BR                          natal   \n",
       "28        Brasil          BR                      joinville   \n",
       "29        Belize          BZ                 country_belize   \n",
       "..           ...         ...                            ...   \n",
       "167        Chile          CL         ch_comunas_providencia   \n",
       "168        Chile          CL          ch_comunas_las_condes   \n",
       "169       Brasil          BR  br_states_rio_grande_do_norte   \n",
       "170        Chile          CL           ch_comunas_san_ramon   \n",
       "171       Brasil          BR            br_states_tocantins   \n",
       "172         Peru          PE                    lima_metro2   \n",
       "173       Brasil          BR                         santos   \n",
       "174       Brazil          BR                 country_brazil   \n",
       "175        Chile          CL              ch_comunas_pirque   \n",
       "176       Brasil          BR   br_states_mato_grosso_do_sul   \n",
       "177       Brasil          BR                         maceio   \n",
       "178       Brasil          BR           br_states_pernambuco   \n",
       "179      Ecuador          EC                      guayaquil   \n",
       "180       Mexico          MX                 aguascalientes   \n",
       "181        Chile          CL         ch_comunas_puente_alto   \n",
       "182         Peru          PE                           lima   \n",
       "183     Suriname          SR               country_suriname   \n",
       "184    Venezuela          VE                       valencia   \n",
       "185       Brasil          BR                        saoluis   \n",
       "186       Brasil          BR                       sorocaba   \n",
       "187      Bolivia          BO                     cochabamba   \n",
       "188       Brasil          BR    br_states_rio_grande_do_sul   \n",
       "189        Haiti          HT                  country_haiti   \n",
       "190       Brasil          BR               br_states_parana   \n",
       "191       Brasil          BR                     joaopessoa   \n",
       "192        Chile          CL          ch_comunas_san_miguel   \n",
       "193       Mexico          MX                     mexicocity   \n",
       "194      Bahamas          BS                         nassau   \n",
       "195    Guatemala          GT              country_guatemala   \n",
       "196      Bolivia          BO                          lapaz   \n",
       "\n",
       "             region_name region_type population dashboard  \\\n",
       "0               Kingston        city     585459      TRUE   \n",
       "1            Tegucigalpa        city     564067      TRUE   \n",
       "2             Costa Rica     country    5094114      TRUE   \n",
       "3            The Bahamas     country     393248      TRUE   \n",
       "4               LO PRADO    submetro      96249     FALSE   \n",
       "5                  LAMPA    submetro     102034     FALSE   \n",
       "6                Torreón        city    1098998      TRUE   \n",
       "7            Mato Grosso       state                FALSE   \n",
       "8               Medellín        city    3550671      TRUE   \n",
       "9           San Salvador        city    1610523      TRUE   \n",
       "10                Panama     country    4314768      TRUE   \n",
       "11               Jamaica     country    2961161      TRUE   \n",
       "12         ISLA DE MAIPO    submetro      36219     FALSE   \n",
       "13              SANTIAGO    submetro     404495     FALSE   \n",
       "14                 Bahia       state                FALSE   \n",
       "15            Montevideo        city    1363552      TRUE   \n",
       "16             CERRILLOS    submetro      80832     FALSE   \n",
       "17                Mérida        city     980031      TRUE   \n",
       "18             QUILICURA    submetro     210410     FALSE   \n",
       "19               Tijuana        city    1690278     FALSE   \n",
       "20              PUDAHUEL    submetro     230293     FALSE   \n",
       "21                 Goias       state                FALSE   \n",
       "22             Venezuela     country   28435943      TRUE   \n",
       "23              Santiago        city    5688218      TRUE   \n",
       "24             Fortaleza        city    3316343      TRUE   \n",
       "25              RECOLETA    submetro     157851     FALSE   \n",
       "26                Bogotá        city    8770058      TRUE   \n",
       "27                 Natal        city    3316343      TRUE   \n",
       "28             Joinville        city     466875     FALSE   \n",
       "29                Belize     country     397621      TRUE   \n",
       "..                   ...         ...        ...       ...   \n",
       "167          PROVIDENCIA    submetro     142079     FALSE   \n",
       "168           LAS CONDES    submetro     294838     FALSE   \n",
       "169  Rio Grande Do Norte       state                FALSE   \n",
       "170            SAN RAMON    submetro      82900     FALSE   \n",
       "171            Tocantins       state                FALSE   \n",
       "172          Lima Bottom    submetro    6320659     FALSE   \n",
       "173               Santos        city    1416021      TRUE   \n",
       "174               Brasil     country  212559409      TRUE   \n",
       "175               PIRQUE    submetro      26521     FALSE   \n",
       "176   Mato Grosso Do Sul       state                FALSE   \n",
       "177               Maceió        city    1029073      TRUE   \n",
       "178           Pernambuco       state                FALSE   \n",
       "179            Guayaquil        city    2513491      TRUE   \n",
       "180       Aguascalientes        city     911397      TRUE   \n",
       "181          PUENTE ALTO    submetro     568106     FALSE   \n",
       "182                 Lima        city    9609692      TRUE   \n",
       "183             Suriname     country     586634      TRUE   \n",
       "184             Valencia        city    1615285     FALSE   \n",
       "185             São Luís        city    1215204      TRUE   \n",
       "186             Sorocaba        city     669302     FALSE   \n",
       "187           Cochabamba        city     665851     FALSE   \n",
       "188    Rio Grande Do Sul       state                FALSE   \n",
       "189                Haiti     country   11402533     FALSE   \n",
       "190               Parana       state                FALSE   \n",
       "191          João Pessoa        city    1020103      TRUE   \n",
       "192           SAN MIGUEL    submetro     107954     FALSE   \n",
       "193     Ciudad de México        city   22381714      TRUE   \n",
       "194       New Providence        city     159211     FALSE   \n",
       "195            Guatemala     country   17915567      TRUE   \n",
       "196               La Paz        city     918441     FALSE   \n",
       "\n",
       "                   timezone  \\\n",
       "0           America/Jamaica   \n",
       "1       America/Tegucigalpa   \n",
       "2        America/Costa_Rica   \n",
       "3            America/Nassau   \n",
       "4          America/Santiago   \n",
       "5          America/Santiago   \n",
       "6         America/Monterrey   \n",
       "7                             \n",
       "8            America/Bogota   \n",
       "9       America/El_Salvador   \n",
       "10           America/Panama   \n",
       "11          America/Jamaica   \n",
       "12         America/Santiago   \n",
       "13         America/Santiago   \n",
       "14                            \n",
       "15       America/Montevideo   \n",
       "16         America/Santiago   \n",
       "17           America/Merida   \n",
       "18         America/Santiago   \n",
       "19          America/Tijuana   \n",
       "20         America/Santiago   \n",
       "21                            \n",
       "22          America/Caracas   \n",
       "23            America/Chile   \n",
       "24        America/Fortaleza   \n",
       "25         America/Santiago   \n",
       "26           America/Bogota   \n",
       "27        America/Fortaleza   \n",
       "28        America/Sao_Paulo   \n",
       "29           America/Belize   \n",
       "..                      ...   \n",
       "167        America/Santiago   \n",
       "168        America/Santiago   \n",
       "169                           \n",
       "170        America/Santiago   \n",
       "171                           \n",
       "172            America/Lima   \n",
       "173       America/Sao_Paulo   \n",
       "174                           \n",
       "175        America/Santiago   \n",
       "176                           \n",
       "177          America/Maceio   \n",
       "178                           \n",
       "179       America/Guayaquil   \n",
       "180     America/Mexico_City   \n",
       "181        America/Santiago   \n",
       "182            America/Lima   \n",
       "183      America/Paramaribo   \n",
       "184                           \n",
       "185       America/Fortaleza   \n",
       "186       America/Sao_Paulo   \n",
       "187          America/La_Paz   \n",
       "188                           \n",
       "189  America/Port-au-Prince   \n",
       "190                           \n",
       "191       America/Fortaleza   \n",
       "192        America/Santiago   \n",
       "193     America/Mexico_City   \n",
       "194          America/Nassau   \n",
       "195       America/Guatemala   \n",
       "196          America/La_Paz   \n",
       "\n",
       "                                  region_shapefile_wkt  rerun    osm_length  \\\n",
       "0    Polygon ((-76.80041645747992618 18.08291869684...  FALSE  1.377157e+06   \n",
       "1    Polygon ((-87.21708244142224942 14.18291843040...  FALSE  2.036947e+06   \n",
       "2    MULTIPOLYGON (((-85.7025586498513 11.074584884...  FALSE  4.192138e+07   \n",
       "3    POLYGON ((-80.700194 23.910715, -80.524446 24....  FALSE  5.977117e+06   \n",
       "4    POLYGON ((-70.70558600981737 -33.4571600757547...  FALSE  1.454056e+05   \n",
       "5    POLYGON ((-70.79438009896514 -33.1718882159303...  FALSE  5.838576e+05   \n",
       "6    Polygon ((-103.3920813812878805 25.64958588044...  FALSE  4.492773e+06   \n",
       "7    POLYGON ((-54.89485339361059 -17.6215039881558...  FALSE  1.238181e+08   \n",
       "8    Polygon ((-75.54208320661969367 6.382917897523...  FALSE  3.636567e+06   \n",
       "9    Polygon ((-89.19208231197771397 13.83291840649...  FALSE  2.680897e+06   \n",
       "10   MULTIPOLYGON (((-83.051725 8.333426,-82.839498...  FALSE  2.329607e+07   \n",
       "11   POLYGON ((-78.578237 18.269051, -78.5195510000...  FALSE  1.729616e+07   \n",
       "12   POLYGON ((-70.849534384208 -33.71463322083598,...  FALSE  1.640059e+05   \n",
       "13   POLYGON ((-70.67158854755513 -33.4763598849684...  FALSE  3.973415e+05   \n",
       "14   POLYGON ((-39.36445641136687 -8.53784955370083...  FALSE  2.252903e+08   \n",
       "15   Polygon ((-56.23375113878419995 -34.7587515798...  FALSE  3.473006e+06   \n",
       "16   POLYGON ((-70.71227805442958 -33.4820444772248...  FALSE  1.955210e+05   \n",
       "17   Polygon ((-89.66708228084547727 21.08291890179...  FALSE  4.426804e+06   \n",
       "18   POLYGON ((-70.76877132635084 -33.3762754420778...  FALSE  4.219004e+05   \n",
       "19   Polygon ((-116.95874715877437211 32.4079196754...  FALSE  5.000934e+06   \n",
       "20   POLYGON ((-70.78977743736861 -33.3604762587196...  FALSE  6.213907e+05   \n",
       "21   POLYGON ((-50.16014656394112 -12.4200735183983...  FALSE  1.047488e+08   \n",
       "22   MULTIPOLYGON (((-73.352963 9.21753,-72.945436 ...  FALSE  1.375754e+08   \n",
       "23   Polygon ((-70.63375019498607799 -33.2420848095...  FALSE  1.060461e+07   \n",
       "24   Polygon ((-38.675418956251022 -3.6670827890691...  FALSE  6.658619e+06   \n",
       "25   POLYGON ((-70.65618880869798 -33.3767778882918...  FALSE  2.733824e+05   \n",
       "26   Polygon ((-74.04208330493199242 4.932917798462...  FALSE  8.366023e+06   \n",
       "27   Polygon ((-38.675418956251022 -3.6670827890691...  FALSE  6.658619e+06   \n",
       "28   Polygon ((-48.82541829100442499 -26.2254176635...  FALSE  1.605009e+06   \n",
       "29   MULTIPOLYGON (((-89.227325 15.896013,-89.15195...  FALSE  6.859379e+06   \n",
       "..                                                 ...    ...           ...   \n",
       "167  POLYGON ((-70.58483861292153 -33.4312587878066...  FALSE  2.641453e+05   \n",
       "168  POLYGON ((-70.53235176218874 -33.3821684107016...  FALSE  5.989083e+05   \n",
       "169  POLYGON ((-37.25329112484679 -4.83155550793584...  FALSE  4.015850e+07   \n",
       "170  POLYGON ((-70.63810714414637 -33.5186807632613...  FALSE  1.811073e+05   \n",
       "171  POLYGON ((-48.3587821730257 -5.170084717906753...  FALSE  7.604330e+07   \n",
       "172  Polygon ((-77.19486998846033998 -11.8087874752...  FALSE  1.224790e+07   \n",
       "173  Polygon ((-46.44208511387842009 -23.8587508351...  FALSE  2.911221e+06   \n",
       "174  MULTIPOLYGON (((-73.983063 -7.534734,-73.95117...   TRUE  2.422501e+09   \n",
       "175  POLYGON ((-70.44388781590685 -33.5825231117321...  FALSE  3.040421e+05   \n",
       "176  POLYGON ((-56.10370222395111 -17.1735386766350...  FALSE  6.827884e+07   \n",
       "177  Polygon ((-35.8170858102572538 -9.500416520922...  FALSE  2.072539e+06   \n",
       "178  POLYGON ((-37.23361241146348 -7.27439652181116...  FALSE  7.885327e+07   \n",
       "179  Polygon ((-79.95874958381124031 -2.01708267634...  FALSE  4.903045e+06   \n",
       "180  Polygon ((-102.36708144846795676 21.9829189632...  FALSE  3.064830e+06   \n",
       "181  POLYGON ((-70.50469128549443 -33.5463762921157...  FALSE  9.362034e+05   \n",
       "182  Polygon ((-77.16708310011469507 -11.7004166712...  FALSE  1.713727e+07   \n",
       "183  MULTIPOLYGON (((-58.070833 4.1525,-57.843889 4...  FALSE  5.549575e+06   \n",
       "184  Polygon ((-68.04208369818121582 10.31625149957...  FALSE  3.302450e+06   \n",
       "185  Polygon ((-44.23375192528264677 -2.60874938343...  FALSE  3.617293e+06   \n",
       "186  Polygon ((-47.43375171554973235 -23.4087508044...  FALSE  2.410594e+06   \n",
       "187  Polygon ((-66.18375048664591986 -17.3087503877...  FALSE  3.262906e+06   \n",
       "188  POLYGON ((-51.90485567848292 -27.4593476999797...  FALSE  1.866301e+08   \n",
       "189  MULTIPOLYGON (((-74.65753599999999 18.422522, ...  FALSE  2.149465e+07   \n",
       "190  POLYGON ((-52.05187783852555 -22.5393269345519...  FALSE  2.024309e+08   \n",
       "191  Polygon ((-34.94208586760609592 -7.16708302818...  FALSE  2.957637e+06   \n",
       "192  POLYGON ((-70.63659489265227 -33.518728535458,...  FALSE  1.901539e+05   \n",
       "193  Polygon ((-99.22541498771096258 19.79958548078...  FALSE  3.956057e+07   \n",
       "194  Polygon ((-77.39166666669134997 25.03333333330...  FALSE  9.579249e+05   \n",
       "195  MULTIPOLYGON (((-92.2393264773401 14.541251788...  FALSE  5.659439e+07   \n",
       "196  Polygon ((-68.16666666669357255 -16.4500000000...  FALSE  3.846708e+06   \n",
       "\n",
       "    idb_code waze_code country_name_idb_eng  \\\n",
       "0         JA        JM              Jamaica   \n",
       "1         HO        HO             Honduras   \n",
       "2         CR        CS           Costa Rica   \n",
       "3         BH        BF              Bahamas   \n",
       "4         CH        CI                Chile   \n",
       "5         CH        CI                Chile   \n",
       "6         ME        MX               Mexico   \n",
       "7         BR        BR               Brazil   \n",
       "8         CO        CO             Colombia   \n",
       "9         ES        ES          El Salvador   \n",
       "10        PN        PM               Panama   \n",
       "11        JA        JM              Jamaica   \n",
       "12        CH        CI                Chile   \n",
       "13        CH        CI                Chile   \n",
       "14        BR        BR               Brazil   \n",
       "15        UR        UY              Uruguay   \n",
       "16        CH        CI                Chile   \n",
       "17        ME        MX               Mexico   \n",
       "18        CH        CI                Chile   \n",
       "19        ME        MX               Mexico   \n",
       "20        CH        CI                Chile   \n",
       "21        BR        BR               Brazil   \n",
       "22        VE        VE            Venezuela   \n",
       "23        CH        CI                Chile   \n",
       "24        BR        BR               Brazil   \n",
       "25        CH        CI                Chile   \n",
       "26        CO        CO             Colombia   \n",
       "27        BR        BR               Brazil   \n",
       "28        BR        BR               Brazil   \n",
       "29        BL        BH               Belize   \n",
       "..       ...       ...                  ...   \n",
       "167       CH        CI                Chile   \n",
       "168       CH        CI                Chile   \n",
       "169       BR        BR               Brazil   \n",
       "170       CH        CI                Chile   \n",
       "171       BR        BR               Brazil   \n",
       "172       PE        PE                 Peru   \n",
       "173       BR        BR               Brazil   \n",
       "174       BR        BR               Brazil   \n",
       "175       CH        CI                Chile   \n",
       "176       BR        BR               Brazil   \n",
       "177       BR        BR               Brazil   \n",
       "178       BR        BR               Brazil   \n",
       "179       EC        EC              Ecuador   \n",
       "180       ME        MX               Mexico   \n",
       "181       CH        CI                Chile   \n",
       "182       PE        PE                 Peru   \n",
       "183       SU        NS             Suriname   \n",
       "184       VE        VE            Venezuela   \n",
       "185       BR        BR               Brazil   \n",
       "186       BR        BR               Brazil   \n",
       "187       BO        BL              Bolivia   \n",
       "188       BR        BR               Brazil   \n",
       "189       HA        HA                Haiti   \n",
       "190       BR        BR               Brazil   \n",
       "191       BR        BR               Brazil   \n",
       "192       CH        CI                Chile   \n",
       "193       ME        MX               Mexico   \n",
       "194       BH        BF              Bahamas   \n",
       "195       GU        GT            Guatemala   \n",
       "196       BO        BL              Bolivia   \n",
       "\n",
       "                               region_shapefile_binary        area  n_days  \\\n",
       "0    b'\\x00\\x00\\x00\\x00\\x03\\x05\\x00\\x00\\x00\\x9e{B[\\...    0.013125   365.0   \n",
       "1    b'\\x00\\x00\\x00\\x00\\x03\\x05\\x00\\x00\\x00\\r\\xde/%...    0.024583   365.0   \n",
       "2    b'\\x00\\x00\\x00\\x00\\x06\\x05\\x00\\x00\\x00\\xf0\\xa1...    4.365439   365.0   \n",
       "3    b'\\x00\\x00\\x00\\x00\\x03\\x05\\x00\\x00\\x00\\xbf\\xb6...   26.702328   365.0   \n",
       "4    b'\\x00\\x00\\x00\\x00\\x03\\x05\\x00\\x00\\x00RH\\xb6Vi...    0.000642   365.0   \n",
       "5    b'\\x00\\x00\\x00\\x00\\x03\\x05\\x00\\x00\\x00;\\x15\\x9...    0.043495   365.0   \n",
       "6    b'\\x00\\x00\\x00\\x00\\x03\\x05\\x00\\x00\\x00\\x8ab\\xa...    0.026458   365.0   \n",
       "7    b'\\x00\\x00\\x00\\x00\\x03\\x05\\x00\\x00\\x00C\\x81\\xa...   75.198337   365.0   \n",
       "8    b'\\x00\\x00\\x00\\x00\\x03\\x05\\x00\\x00\\x00\\xec!\\xc...    0.039653   365.0   \n",
       "9    b'\\x00\\x00\\x00\\x00\\x03\\x05\\x00\\x00\\x00\\xcf+\\x1...    0.030347   365.0   \n",
       "10   b'\\x00\\x00\\x00\\x00\\x06\\x05\\x00\\x00\\x00\\xae\\xd8...    6.248581   365.0   \n",
       "11   b'\\x00\\x00\\x00\\x00\\x03\\x05\\x00\\x00\\x00\\x94\\x15...    4.310919   365.0   \n",
       "12   b\"\\x00\\x00\\x00\\x00\\x03\\x05\\x00\\x00\\x00\\xe3%\\xd...    0.018196   365.0   \n",
       "13   b'\\x00\\x00\\x00\\x00\\x03\\x05\\x00\\x00\\x00\\x1b\\xe7...    0.002213   365.0   \n",
       "14   b'\\x00\\x00\\x00\\x00\\x03\\x05\\x00\\x00\\x00\\xdd\\xcd...   47.052913   365.0   \n",
       "15   b'\\x00\\x00\\x00\\x00\\x03\\x05\\x00\\x00\\x00\\xc4H;(\\...    0.030000   365.0   \n",
       "16   b'\\x00\\x00\\x00\\x00\\x03\\x05\\x00\\x00\\x00dDw\\x96]...    0.001610   365.0   \n",
       "17   b\"\\x00\\x00\\x00\\x00\\x03\\x05\\x00\\x00\\x00q\\x91 \\x...    0.023542   365.0   \n",
       "18   b\"\\x00\\x00\\x00\\x00\\x03\\x05\\x00\\x00\\x00\\xb9\\xd6...    0.005511   365.0   \n",
       "19   b'\\x00\\x00\\x00\\x00\\x03\\x05\\x00\\x00\\x00k\\xf4\\xa...    0.031111   365.0   \n",
       "20   b'\\x00\\x00\\x00\\x00\\x03\\x05\\x00\\x00\\x00\\xcb6\\xe...    0.019211   365.0   \n",
       "21   b'\\x00\\x00\\x00\\x00\\x03\\x05\\x00\\x00\\x00\\xf2\\xc6...   28.689048   365.0   \n",
       "22   b'\\x00\\x00\\x00\\x00\\x06\\x05\\x00\\x00\\x00\\xadl\\x1...   74.818202   365.0   \n",
       "23   b'\\x00\\x00\\x00\\x00\\x03\\x05\\x00\\x00\\x00YN(\\xa1\\...    0.097847   365.0   \n",
       "24   b'\\x00\\x00\\x00\\x00\\x03\\x05\\x00\\x00\\x00\\xc4\\xe2...    0.040069   365.0   \n",
       "25   b\"\\x00\\x00\\x00\\x00\\x03\\x05\\x00\\x00\\x00J\\xcb\\xc...    0.001525   365.0   \n",
       "26   b'\\x00\\x00\\x00\\x00\\x03\\x05\\x00\\x00\\x00\\x04\\x01...    0.071528   365.0   \n",
       "27   b'\\x00\\x00\\x00\\x00\\x03\\x05\\x00\\x00\\x00\\xc4\\xe2...    0.040069   365.0   \n",
       "28   b'\\x00\\x00\\x00\\x00\\x03\\x05\\x00\\x00\\x00\\xccj9\\x...    0.013125   365.0   \n",
       "29   b'\\x00\\x00\\x00\\x00\\x06\\x05\\x00\\x00\\x00\\x0b$(~\\...    1.888247   365.0   \n",
       "..                                                 ...         ...     ...   \n",
       "167  b'\\x00\\x00\\x00\\x00\\x03\\x05\\x00\\x00\\x00\\xc2t}3\\...    0.001397   365.0   \n",
       "168  b'\\x00\\x00\\x00\\x00\\x03\\x05\\x00\\x00\\x00\\xe5)\\x1...    0.009553   365.0   \n",
       "169  b'\\x00\\x00\\x00\\x00\\x03\\x05\\x00\\x00\\x00\\xbdV\\xe...    4.306704   365.0   \n",
       "170  b'\\x00\\x00\\x00\\x00\\x03\\x05\\x00\\x00\\x00nk\\x91\\x...    0.000614   365.0   \n",
       "171  b'\\x00\\x00\\x00\\x00\\x03\\x05\\x00\\x00\\x00a\\xb6\\xb...   22.898700   365.0   \n",
       "172  b'\\x00\\x00\\x00\\x00\\x03\\x05\\x00\\x00\\x00.\\xda\\xf...    0.217135     NaN   \n",
       "173  b'\\x00\\x00\\x00\\x00\\x03\\x05\\x00\\x00\\x008\\x97\\x9...    0.027222   365.0   \n",
       "174  b'\\x00\\x00\\x00\\x00\\x06\\x05\\x00\\x00\\x00\\x17\\xba...  708.049894   364.0   \n",
       "175  b'\\x00\\x00\\x00\\x00\\x03\\x05\\x00\\x00\\x00\\xf0\\x0b...    0.043277   365.0   \n",
       "176  b'\\x00\\x00\\x00\\x00\\x03\\x05\\x00\\x00\\x00\\xc4\\xb4...   30.877164     NaN   \n",
       "177  b'\\x00\\x00\\x00\\x00\\x03\\x05\\x00\\x00\\x00\\x1co\\xa...    0.015000   365.0   \n",
       "178  b'\\x00\\x00\\x00\\x00\\x03\\x05\\x00\\x00\\x00\\xdfW\\xc...    8.048714   365.0   \n",
       "179  b'\\x00\\x00\\x00\\x00\\x03\\x05\\x00\\x00\\x00\\xactvk\\...    0.035486   365.0   \n",
       "180  b'\\x00\\x00\\x00\\x00\\x03\\x05\\x00\\x00\\x00\\xd8\\x08...    0.018333   365.0   \n",
       "181  b'\\x00\\x00\\x00\\x00\\x03\\x05\\x00\\x00\\x00DC\\n#f\\x...    0.008535   365.0   \n",
       "182  b'\\x00\\x00\\x00\\x00\\x03\\x05\\x00\\x00\\x00\\xd8vp\\x...    0.175625   365.0   \n",
       "183  b'\\x00\\x00\\x00\\x00\\x06\\x05\\x00\\x00\\x00!=E\\x0e\\...   11.798382   365.0   \n",
       "184  b'\\x00\\x00\\x00\\x00\\x03\\x05\\x00\\x00\\x00\\x1e\\xa2...    0.038681   365.0   \n",
       "185  b'\\x00\\x00\\x00\\x00\\x03\\x05\\x00\\x00\\x00FmS\\xb7\\...    0.024792   365.0   \n",
       "186  b'\\x00\\x00\\x00\\x00\\x03\\x05\\x00\\x00\\x00\\xfa(\\xd...    0.016389   365.0   \n",
       "187  b\"\\x00\\x00\\x00\\x00\\x03\\x05\\x00\\x00\\x00\\xc66.^\\...    0.020903   365.0   \n",
       "188  b'\\x00\\x00\\x00\\x00\\x03\\x05\\x00\\x00\\x00\\x17\\xac...   25.139722   365.0   \n",
       "189  b'\\x00\\x00\\x00\\x00\\x06\\x05\\x00\\x00\\x00\\xae\\xd5...    4.172228   365.0   \n",
       "190  b'\\x00\\x00\\x00\\x00\\x03\\x05\\x00\\x00\\x005\\xd5\\xd...   17.796730     NaN   \n",
       "191  b'\\x00\\x00\\x00\\x00\\x03\\x05\\x00\\x00\\x00\\x96\\xd8...    0.019514   365.0   \n",
       "192  b'\\x00\\x00\\x00\\x00\\x03\\x05\\x00\\x00\\x00V\\xe4x\\x...    0.000927   365.0   \n",
       "193  b'\\x00\\x00\\x00\\x00\\x03\\x05\\x00\\x00\\x00\\xcf\\xff...    0.229375   365.0   \n",
       "194  b'\\x00\\x00\\x00\\x00\\x03\\x05\\x00\\x00\\x00\\x1e\\xa1...    0.007778   365.0   \n",
       "195  b'\\x00\\x00\\x00\\x00\\x06\\x05\\x00\\x00\\x00\\x87O\\x0...    9.091557   365.0   \n",
       "196  b'\\x00\\x00\\x00\\x00\\x03\\x05\\x00\\x00\\x00\\xbe\\x91...    0.015833   365.0   \n",
       "\n",
       "       daily_mean     daily_std  daily_coef_var   weekly_mean    weekly_std  \\\n",
       "0    5.576439e+05  2.739867e+05        0.491329  3.840378e+06  1.035802e+06   \n",
       "1    2.030470e+06  9.516658e+05        0.468692  1.398342e+07  4.804925e+06   \n",
       "2    8.168918e+07  1.785129e+07        0.218527  5.625764e+08  8.850142e+07   \n",
       "3    2.441384e+05  1.091057e+05        0.446901  1.681331e+06  5.442985e+05   \n",
       "4    2.686769e+05  1.044837e+05        0.388882  1.850322e+06  5.901058e+05   \n",
       "5    1.197822e+06  5.434043e+05        0.453660  8.249151e+06  2.418809e+06   \n",
       "6    2.957517e+06  1.505250e+06        0.508957  2.036780e+07  9.251570e+06   \n",
       "7    2.820081e+07  9.818665e+06        0.348170  1.942131e+08  6.144397e+07   \n",
       "8    2.328588e+07  8.197524e+06        0.352038  1.603650e+08  3.831025e+07   \n",
       "9    1.618139e+07  6.522647e+06        0.403096  1.114379e+08  2.668422e+07   \n",
       "10   3.783897e+07  1.016808e+07        0.268720  2.605891e+08  4.440365e+07   \n",
       "11   2.156681e+06  5.364529e+05        0.248740  1.485262e+07  2.719899e+06   \n",
       "12   2.006472e+05  9.333100e+04        0.465150  1.381816e+06  4.474502e+05   \n",
       "13   7.441265e+06  3.902098e+06        0.524386  5.124644e+07  1.430949e+07   \n",
       "14   7.475847e+07  2.035207e+07        0.272238  5.148461e+08  1.289327e+08   \n",
       "15   1.016254e+07  2.652933e+06        0.261050  6.998732e+07  1.380456e+07   \n",
       "16   1.496116e+06  1.000040e+06        0.668424  1.030344e+07  3.662528e+06   \n",
       "17   6.039871e+06  1.962742e+06        0.324964  4.159534e+07  9.243964e+06   \n",
       "18   1.686574e+06  8.816922e+05        0.522771  1.161509e+07  3.360598e+06   \n",
       "19   1.304442e+07  7.013791e+06        0.537685  8.983420e+07  4.602049e+07   \n",
       "20   2.410684e+06  9.518137e+05        0.394831  1.660188e+07  2.959037e+06   \n",
       "21   5.880772e+07  1.632547e+07        0.277608  4.049966e+08  1.050881e+08   \n",
       "22   5.554329e+06  3.353561e+06        0.603774  3.825151e+07  1.713590e+07   \n",
       "23   5.016579e+07  2.307495e+07        0.459974  3.454814e+08  9.582126e+07   \n",
       "24   2.364875e+07  7.610351e+06        0.321808  1.628640e+08  3.413869e+07   \n",
       "25   2.080667e+06  1.092223e+06        0.524939  1.432912e+07  4.301908e+06   \n",
       "26   1.087251e+08  3.117015e+07        0.286688  7.487673e+08  1.654535e+08   \n",
       "27   2.364874e+07  7.610349e+06        0.321808  1.628640e+08  3.413869e+07   \n",
       "28   3.891869e+06  2.038894e+06        0.523886  2.680249e+07  7.973369e+06   \n",
       "29   3.225253e+05  2.140616e+05        0.663705  2.221165e+06  1.132415e+06   \n",
       "..            ...           ...             ...           ...           ...   \n",
       "167  4.301876e+06  2.801396e+06        0.651203  2.962613e+07  1.005447e+07   \n",
       "168  4.646948e+06  2.838229e+06        0.610773  3.200257e+07  1.140265e+07   \n",
       "169  1.798740e+07  5.317016e+06        0.295597  1.238755e+08  2.872464e+07   \n",
       "170  6.887250e+05  3.930646e+05        0.570713  4.743106e+06  1.579368e+06   \n",
       "171  1.195534e+07  5.329557e+06        0.445789  8.233396e+07  3.571257e+07   \n",
       "172           NaN           NaN             NaN           NaN           NaN   \n",
       "173  1.139234e+07  4.040926e+06        0.354706  7.845666e+07  2.083809e+07   \n",
       "174  1.408422e+09  4.145040e+08        0.294304  9.858955e+09  2.170049e+09   \n",
       "175  4.438966e+05  1.411846e+05        0.318058  3.057023e+06  6.246092e+05   \n",
       "176           NaN           NaN             NaN           NaN           NaN   \n",
       "177  8.658827e+06  3.080178e+06        0.355727  5.963154e+07  1.078913e+07   \n",
       "178  5.640954e+07  1.471124e+07        0.260793  3.884808e+08  8.124071e+07   \n",
       "179  9.348243e+06  3.455864e+06        0.369681  6.437941e+07  1.403783e+07   \n",
       "180  4.104238e+06  1.424775e+06        0.347147  2.826504e+07  8.080694e+06   \n",
       "181  2.137837e+06  7.759239e+05        0.362948  1.472284e+07  4.319037e+06   \n",
       "182  7.883747e+07  1.953916e+07        0.247841  5.429373e+08  8.412851e+07   \n",
       "183  4.611933e+05  2.156324e+05        0.467553  3.176142e+06  1.098011e+06   \n",
       "184  1.945526e+05  1.499671e+05        0.770830  1.339844e+06  5.909286e+05   \n",
       "185  9.123424e+06  3.285178e+06        0.360082  6.283113e+07  1.557761e+07   \n",
       "186  2.794657e+06  1.042967e+06        0.373201  1.924622e+07  4.096218e+06   \n",
       "187  7.151436e+04  2.790124e+04        0.390149  4.925045e+05  1.184550e+05   \n",
       "188  1.079391e+08  3.488499e+07        0.323192  7.433539e+08  1.874918e+08   \n",
       "189  4.341728e+05  3.646120e+05        0.839785  2.990058e+06  1.932910e+06   \n",
       "190           NaN           NaN             NaN           NaN           NaN   \n",
       "191  5.945612e+06  2.173691e+06        0.365596  4.094620e+07  8.565202e+06   \n",
       "192  1.450118e+06  8.823884e+05        0.608494  9.986662e+06  3.716485e+06   \n",
       "193  2.067183e+08  5.999457e+07        0.290224  1.423626e+09  2.878109e+08   \n",
       "194  6.297122e+04  3.774474e+04        0.599397  4.336697e+05  1.549878e+05   \n",
       "195  6.213769e+07  1.596946e+07        0.257001  4.279294e+08  8.582651e+07   \n",
       "196  1.825866e+05  6.894398e+04        0.377596  1.257436e+06  3.525840e+05   \n",
       "\n",
       "     weekly_coef_var  daily_osm_ratio  weekly_osm_ratio  daily_approved  \\\n",
       "0           0.269713         0.404924          0.398375            True   \n",
       "1           0.343616         0.996820          0.980699            True   \n",
       "2           0.157314         1.948628          1.917114            True   \n",
       "3           0.323731         0.040846          0.040185           False   \n",
       "4           0.318921         1.847776          1.817893            True   \n",
       "5           0.293219         2.051565          2.018386            True   \n",
       "6           0.454225         0.658283          0.647637           False   \n",
       "7           0.316374         0.227760          0.224076            True   \n",
       "8           0.238894         6.403259          6.299702            True   \n",
       "9           0.239454         6.035814          5.938199            True   \n",
       "10          0.170397         1.624264          1.597996            True   \n",
       "11          0.183126         0.124691          0.122675            True   \n",
       "12          0.323813         1.223415          1.203629            True   \n",
       "13          0.279229        18.727630         18.424757           False   \n",
       "14          0.250430         0.331832          0.326465            True   \n",
       "15          0.197244         2.926151          2.878828            True   \n",
       "16          0.355466         7.651947          7.528195           False   \n",
       "17          0.222236         1.364386          1.342321            True   \n",
       "18          0.289330         3.997564          3.932914           False   \n",
       "19          0.512283         2.608396          2.566212           False   \n",
       "20          0.178235         3.879497          3.816756            True   \n",
       "21          0.259479         0.561417          0.552337            True   \n",
       "22          0.447980         0.040373          0.039720           False   \n",
       "23          0.277356         4.730566          4.654061            True   \n",
       "24          0.209615         3.551600          3.494161            True   \n",
       "25          0.300221         7.610831          7.487745           False   \n",
       "26          0.220968        12.996034         12.785856            True   \n",
       "27          0.209615         3.551599          3.494160            True   \n",
       "28          0.297486         2.424826          2.385611           False   \n",
       "29          0.509829         0.047020          0.046259           False   \n",
       "..               ...              ...               ...             ...   \n",
       "167         0.339378        16.286022         16.022636           False   \n",
       "168         0.356304         7.759030          7.633547           False   \n",
       "169         0.231883         0.447910          0.440666            True   \n",
       "170         0.332982         3.802855          3.741354           False   \n",
       "171         0.433753         0.157218          0.154675            True   \n",
       "172              NaN              NaN               NaN           False   \n",
       "173         0.265600         3.913250          3.849963            True   \n",
       "174         0.220109         0.581392          0.581392            True   \n",
       "175         0.204319         1.459984          1.436372            True   \n",
       "176              NaN              NaN               NaN           False   \n",
       "177         0.180930         4.177883          4.110316            True   \n",
       "178         0.209124         0.715373          0.703804            True   \n",
       "179         0.218048         1.906620          1.875785            True   \n",
       "180         0.285890         1.339140          1.317483            True   \n",
       "181         0.293356         2.283518          2.246588            True   \n",
       "182         0.154951         4.600353          4.525953            True   \n",
       "183         0.345706         0.083104          0.081760           False   \n",
       "184         0.441043         0.058912          0.057959           False   \n",
       "185         0.247928         2.522169          2.481379            True   \n",
       "186         0.212832         1.159323          1.140574            True   \n",
       "187         0.240516         0.021917          0.021563           False   \n",
       "188         0.252224         0.578358          0.569005            True   \n",
       "189         0.646446         0.020199          0.019872           False   \n",
       "190              NaN              NaN               NaN           False   \n",
       "191         0.209182         2.010258          1.977747            True   \n",
       "192         0.372145         7.626025          7.502693           False   \n",
       "193         0.202167         5.225364          5.140856            True   \n",
       "194         0.357387         0.065737          0.064674           False   \n",
       "195         0.200562         1.097948          1.080191            True   \n",
       "196         0.280399         0.047466          0.046698           False   \n",
       "\n",
       "     weekly_approved  \n",
       "0               True  \n",
       "1               True  \n",
       "2               True  \n",
       "3              False  \n",
       "4               True  \n",
       "5               True  \n",
       "6               True  \n",
       "7               True  \n",
       "8               True  \n",
       "9               True  \n",
       "10              True  \n",
       "11              True  \n",
       "12              True  \n",
       "13              True  \n",
       "14              True  \n",
       "15              True  \n",
       "16              True  \n",
       "17              True  \n",
       "18              True  \n",
       "19             False  \n",
       "20              True  \n",
       "21              True  \n",
       "22             False  \n",
       "23              True  \n",
       "24              True  \n",
       "25              True  \n",
       "26              True  \n",
       "27              True  \n",
       "28              True  \n",
       "29             False  \n",
       "..               ...  \n",
       "167             True  \n",
       "168             True  \n",
       "169             True  \n",
       "170             True  \n",
       "171             True  \n",
       "172            False  \n",
       "173             True  \n",
       "174             True  \n",
       "175             True  \n",
       "176            False  \n",
       "177             True  \n",
       "178             True  \n",
       "179             True  \n",
       "180             True  \n",
       "181             True  \n",
       "182             True  \n",
       "183            False  \n",
       "184            False  \n",
       "185             True  \n",
       "186             True  \n",
       "187            False  \n",
       "188             True  \n",
       "189            False  \n",
       "190            False  \n",
       "191             True  \n",
       "192             True  \n",
       "193             True  \n",
       "194            False  \n",
       "195             True  \n",
       "196            False  \n",
       "\n",
       "[197 rows x 27 columns]"
      ]
     },
     "execution_count": 92,
     "metadata": {},
     "output_type": "execute_result"
    }
   ],
   "source": [
    "df"
   ]
  },
  {
   "cell_type": "markdown",
   "metadata": {},
   "source": [
    "# CV Distributions"
   ]
  },
  {
   "cell_type": "code",
   "execution_count": 57,
   "metadata": {},
   "outputs": [
    {
     "data": {
      "application/vnd.plotly.v1+json": {
       "config": {
        "linkText": "Export to plot.ly",
        "plotlyServerURL": "https://plot.ly",
        "showLink": true
       },
       "data": [
        {
         "histfunc": "count",
         "histnorm": "",
         "marker": {
          "color": "rgba(255, 153, 51, 1.0)",
          "line": {
           "color": "#666666",
           "width": 2
          }
         },
         "name": "city",
         "opacity": 0.8,
         "orientation": "v",
         "type": "histogram",
         "x": [
          0.3471476256721193,
          0.3293463788343317,
          0.5024926494510125,
          0.6327443923284488,
          0.3163910324449694,
          0.3373353933393028,
          0.3701770949326142,
          0.286687662643728,
          null,
          null,
          null,
          null,
          null,
          null,
          null,
          null,
          null,
          null,
          null,
          null,
          null,
          null,
          null,
          null,
          null,
          null,
          null,
          null,
          null,
          null,
          null,
          null,
          null,
          null,
          null,
          null,
          null,
          0.4273620854617822,
          0.6461886109826176,
          0.3485025391703524,
          0.3260660410011728,
          0.32744906787280204,
          0.40524945878448937,
          0.7585159205269386,
          0.2780462537994965,
          0.9066220072286058,
          0.3901488336454791,
          0.6082979716525952,
          null,
          null,
          null,
          null,
          null,
          null,
          null,
          null,
          null,
          null,
          null,
          null,
          null,
          null,
          null,
          null,
          null,
          null,
          null,
          null,
          null,
          null,
          null,
          null,
          null,
          0.3687136406207601,
          0.42672931063487374,
          0.4186142215253612,
          0.5351597012964407,
          0.3218078552150265,
          0.6622589958240079,
          0.38130140623440745,
          0.2789510545475381,
          0.3335739853631477,
          0.3696814397926295,
          0.3655957268206133,
          0.5238835892328816,
          0.5369215735760726,
          0.4913199438629126,
          0.377591115337318,
          0.36042032822319375,
          0.24784106107936546,
          null,
          null,
          0.3557268854932578,
          0.3629514173828339,
          0.36492219865273307,
          0.8193474859061922,
          0.7313373114292863,
          0.35203764596985515,
          0.5064936515589152,
          0.32496415626767394,
          0.2902237749522706,
          0.38381424639318334,
          0.2610481192533073,
          0.5993929668036775,
          0.3218078349339457,
          0.4293121020093684,
          0.5819431106660168,
          0.3632141233098592,
          0.6332340212421065,
          0.3978839761328267,
          0.5838682256868514,
          0.2542411161495161,
          0.3112002843246247,
          0.3347288418028682,
          0.3334482519623064,
          0.3491878604154344,
          0.34350378923962294,
          0.4023471521516148,
          0.5842253311109938,
          0.3625308614440186,
          0.3980516132737778,
          0.5099230688810314,
          0.40309466693187546,
          0.3835259014471612,
          0.47455358827483296,
          0.4599735641538645,
          0.345393403270178,
          0.3562465186615954,
          0.3547067910132126,
          0.3851238441317576,
          0.3600816246476056,
          0.38178256776564856,
          0.37320057041447896,
          0.4686928338648748,
          0.35529926125508643,
          0.537685041140292,
          0.3057780385086514,
          0.5089592897685637,
          0.7708302668025113,
          0.3782760731958649
         ]
        },
        {
         "histfunc": "count",
         "histnorm": "",
         "marker": {
          "color": "rgba(55, 128, 191, 1.0)",
          "line": {
           "color": "#666666",
           "width": 2
          }
         },
         "name": "country",
         "opacity": 0.8,
         "orientation": "v",
         "type": "histogram",
         "x": [
          null,
          null,
          null,
          null,
          null,
          null,
          null,
          null,
          null,
          null,
          null,
          null,
          null,
          null,
          null,
          null,
          null,
          null,
          null,
          null,
          null,
          null,
          null,
          null,
          null,
          null,
          null,
          null,
          null,
          null,
          null,
          null,
          null,
          null,
          null,
          null,
          null,
          null,
          null,
          null,
          null,
          null,
          null,
          null,
          null,
          null,
          null,
          null,
          0.2912960017701939,
          0.4334737156391757,
          0.6636937815775654,
          0.32478331853071696,
          0.23369150608189435,
          0.2289632940046689,
          0.21852737281934345,
          0.2954177233140175,
          0.24641806677734066,
          0.3276504000971684,
          0.2570009170262702,
          0.8408325580616669,
          0.8397854133052594,
          0.3139711127545384,
          0.24874123108136825,
          0.279870068750045,
          0.2720620028090954,
          0.26871986528755604,
          0.4502005869871279,
          0.19768579932496216,
          0.4675533198608427,
          0.4468837917815035,
          0.4486804310597353,
          0.36451897112327225,
          0.6037744080533433,
          null,
          null,
          null,
          null,
          null,
          null,
          null,
          null,
          null,
          null,
          null,
          null,
          null,
          null,
          null,
          null,
          null,
          null,
          null,
          null,
          null,
          null,
          null,
          null,
          null,
          null,
          null,
          null,
          null,
          null,
          null,
          null,
          null,
          null,
          null,
          null,
          null,
          null,
          null,
          null,
          null,
          null,
          null,
          null,
          null,
          null,
          null,
          null,
          null,
          null,
          null,
          null,
          null,
          null,
          null,
          null,
          null,
          null,
          null,
          null,
          null,
          null,
          null,
          null,
          null,
          null,
          null
         ]
        },
        {
         "histfunc": "count",
         "histnorm": "",
         "marker": {
          "color": "rgba(50, 171, 96, 1.0)",
          "line": {
           "color": "#666666",
           "width": 2
          }
         },
         "name": "state",
         "opacity": 0.8,
         "orientation": "v",
         "type": "histogram",
         "x": [
          null,
          null,
          null,
          null,
          null,
          null,
          null,
          null,
          null,
          null,
          0.4047245233571951,
          0.2631354363427174,
          0.3689282415418469,
          0.3427045803597393,
          0.2722376795527333,
          0.30203396659725584,
          0.3535119332487892,
          0.2983339227721357,
          0.2776074275479336,
          0.3558850086262803,
          0.3481698076642023,
          0.3332254857215594,
          0.2523440402803457,
          0.3501118346683844,
          0.2596467853169876,
          0.3445840638489446,
          0.2607934022173383,
          0.3959760012503454,
          0.29971699371031885,
          0.2955963379326049,
          0.3231918056443795,
          0.33653619016486264,
          0.35242730719822885,
          0.3191762376958843,
          0.2853556982855925,
          0.2324383651526673,
          0.44578869163924295,
          null,
          null,
          null,
          null,
          null,
          null,
          null,
          null,
          null,
          null,
          null,
          null,
          null,
          null,
          null,
          null,
          null,
          null,
          null,
          null,
          null,
          null,
          null,
          null,
          null,
          null,
          null,
          null,
          null,
          null,
          null,
          null,
          null,
          null,
          null,
          null,
          null,
          null,
          null,
          null,
          null,
          null,
          null,
          null,
          null,
          null,
          null,
          null,
          null,
          null,
          null,
          null,
          null,
          null,
          null,
          null,
          null,
          null,
          null,
          null,
          null,
          null,
          null,
          null,
          null,
          null,
          null,
          null,
          null,
          null,
          null,
          null,
          null,
          null,
          null,
          null,
          null,
          null,
          null,
          null,
          null,
          null,
          null,
          null,
          null,
          null,
          null,
          null,
          null,
          null,
          null,
          null,
          null,
          null,
          null,
          null,
          null,
          null,
          null,
          null,
          null,
          null,
          null
         ]
        },
        {
         "histfunc": "count",
         "histnorm": "",
         "marker": {
          "color": "rgba(128, 0, 128, 1.0)",
          "line": {
           "color": "#666666",
           "width": 2
          }
         },
         "name": "submetro",
         "opacity": 0.8,
         "orientation": "v",
         "type": "histogram",
         "x": [
          null,
          null,
          null,
          null,
          null,
          null,
          null,
          null,
          0.34849264712983274,
          0.2613597399371207,
          null,
          null,
          null,
          null,
          null,
          null,
          null,
          null,
          null,
          null,
          null,
          null,
          null,
          null,
          null,
          null,
          null,
          null,
          null,
          null,
          null,
          null,
          null,
          null,
          null,
          null,
          null,
          null,
          null,
          null,
          null,
          null,
          null,
          null,
          null,
          null,
          null,
          null,
          null,
          null,
          null,
          null,
          null,
          null,
          null,
          null,
          null,
          null,
          null,
          null,
          null,
          null,
          null,
          null,
          null,
          null,
          null,
          null,
          null,
          null,
          null,
          null,
          null,
          null,
          null,
          null,
          null,
          null,
          null,
          null,
          null,
          null,
          null,
          null,
          null,
          null,
          null,
          null,
          null,
          null,
          0.3631105754913515,
          0.19449973753520394,
          null,
          null,
          null,
          null,
          null,
          null,
          null,
          null,
          null,
          null,
          null,
          null,
          null,
          null,
          null,
          null,
          null,
          null,
          null,
          null,
          null,
          null,
          null,
          null,
          null,
          null,
          null,
          null,
          null,
          null,
          null,
          null,
          null,
          null,
          null,
          null,
          null,
          null,
          null,
          null,
          null,
          null,
          null,
          null,
          null,
          null,
          null,
          null
         ]
        }
       ],
       "layout": {
        "barmode": "overlay",
        "height": 500,
        "legend": {
         "bgcolor": "#FFFFFF",
         "bordercolor": "#444444",
         "borderwidth": 0,
         "font": {
          "size": 12
         },
         "itemclick": "toggle",
         "itemdoubleclick": "toggleothers",
         "itemsizing": "trace",
         "traceorder": "normal"
        },
        "paper_bgcolor": "#FFFFFF",
        "plot_bgcolor": "#FFFFFF",
        "template": {
         "data": {
          "bar": [
           {
            "error_x": {
             "color": "#2a3f5f"
            },
            "error_y": {
             "color": "#2a3f5f"
            },
            "marker": {
             "line": {
              "color": "#E5ECF6",
              "width": 0.5
             }
            },
            "type": "bar"
           }
          ],
          "barpolar": [
           {
            "marker": {
             "line": {
              "color": "#E5ECF6",
              "width": 0.5
             }
            },
            "type": "barpolar"
           }
          ],
          "carpet": [
           {
            "aaxis": {
             "endlinecolor": "#2a3f5f",
             "gridcolor": "white",
             "linecolor": "white",
             "minorgridcolor": "white",
             "startlinecolor": "#2a3f5f"
            },
            "baxis": {
             "endlinecolor": "#2a3f5f",
             "gridcolor": "white",
             "linecolor": "white",
             "minorgridcolor": "white",
             "startlinecolor": "#2a3f5f"
            },
            "type": "carpet"
           }
          ],
          "choropleth": [
           {
            "colorbar": {
             "outlinewidth": 0,
             "ticks": ""
            },
            "type": "choropleth"
           }
          ],
          "contour": [
           {
            "colorbar": {
             "outlinewidth": 0,
             "ticks": ""
            },
            "colorscale": [
             [
              0,
              "#0d0887"
             ],
             [
              0.1111111111111111,
              "#46039f"
             ],
             [
              0.2222222222222222,
              "#7201a8"
             ],
             [
              0.3333333333333333,
              "#9c179e"
             ],
             [
              0.4444444444444444,
              "#bd3786"
             ],
             [
              0.5555555555555556,
              "#d8576b"
             ],
             [
              0.6666666666666666,
              "#ed7953"
             ],
             [
              0.7777777777777778,
              "#fb9f3a"
             ],
             [
              0.8888888888888888,
              "#fdca26"
             ],
             [
              1,
              "#f0f921"
             ]
            ],
            "type": "contour"
           }
          ],
          "contourcarpet": [
           {
            "colorbar": {
             "outlinewidth": 0,
             "ticks": ""
            },
            "type": "contourcarpet"
           }
          ],
          "heatmap": [
           {
            "colorbar": {
             "outlinewidth": 0,
             "ticks": ""
            },
            "colorscale": [
             [
              0,
              "#0d0887"
             ],
             [
              0.1111111111111111,
              "#46039f"
             ],
             [
              0.2222222222222222,
              "#7201a8"
             ],
             [
              0.3333333333333333,
              "#9c179e"
             ],
             [
              0.4444444444444444,
              "#bd3786"
             ],
             [
              0.5555555555555556,
              "#d8576b"
             ],
             [
              0.6666666666666666,
              "#ed7953"
             ],
             [
              0.7777777777777778,
              "#fb9f3a"
             ],
             [
              0.8888888888888888,
              "#fdca26"
             ],
             [
              1,
              "#f0f921"
             ]
            ],
            "type": "heatmap"
           }
          ],
          "heatmapgl": [
           {
            "colorbar": {
             "outlinewidth": 0,
             "ticks": ""
            },
            "colorscale": [
             [
              0,
              "#0d0887"
             ],
             [
              0.1111111111111111,
              "#46039f"
             ],
             [
              0.2222222222222222,
              "#7201a8"
             ],
             [
              0.3333333333333333,
              "#9c179e"
             ],
             [
              0.4444444444444444,
              "#bd3786"
             ],
             [
              0.5555555555555556,
              "#d8576b"
             ],
             [
              0.6666666666666666,
              "#ed7953"
             ],
             [
              0.7777777777777778,
              "#fb9f3a"
             ],
             [
              0.8888888888888888,
              "#fdca26"
             ],
             [
              1,
              "#f0f921"
             ]
            ],
            "type": "heatmapgl"
           }
          ],
          "histogram": [
           {
            "marker": {
             "colorbar": {
              "outlinewidth": 0,
              "ticks": ""
             }
            },
            "type": "histogram"
           }
          ],
          "histogram2d": [
           {
            "colorbar": {
             "outlinewidth": 0,
             "ticks": ""
            },
            "colorscale": [
             [
              0,
              "#0d0887"
             ],
             [
              0.1111111111111111,
              "#46039f"
             ],
             [
              0.2222222222222222,
              "#7201a8"
             ],
             [
              0.3333333333333333,
              "#9c179e"
             ],
             [
              0.4444444444444444,
              "#bd3786"
             ],
             [
              0.5555555555555556,
              "#d8576b"
             ],
             [
              0.6666666666666666,
              "#ed7953"
             ],
             [
              0.7777777777777778,
              "#fb9f3a"
             ],
             [
              0.8888888888888888,
              "#fdca26"
             ],
             [
              1,
              "#f0f921"
             ]
            ],
            "type": "histogram2d"
           }
          ],
          "histogram2dcontour": [
           {
            "colorbar": {
             "outlinewidth": 0,
             "ticks": ""
            },
            "colorscale": [
             [
              0,
              "#0d0887"
             ],
             [
              0.1111111111111111,
              "#46039f"
             ],
             [
              0.2222222222222222,
              "#7201a8"
             ],
             [
              0.3333333333333333,
              "#9c179e"
             ],
             [
              0.4444444444444444,
              "#bd3786"
             ],
             [
              0.5555555555555556,
              "#d8576b"
             ],
             [
              0.6666666666666666,
              "#ed7953"
             ],
             [
              0.7777777777777778,
              "#fb9f3a"
             ],
             [
              0.8888888888888888,
              "#fdca26"
             ],
             [
              1,
              "#f0f921"
             ]
            ],
            "type": "histogram2dcontour"
           }
          ],
          "mesh3d": [
           {
            "colorbar": {
             "outlinewidth": 0,
             "ticks": ""
            },
            "type": "mesh3d"
           }
          ],
          "parcoords": [
           {
            "line": {
             "colorbar": {
              "outlinewidth": 0,
              "ticks": ""
             }
            },
            "type": "parcoords"
           }
          ],
          "pie": [
           {
            "automargin": true,
            "type": "pie"
           }
          ],
          "scatter": [
           {
            "marker": {
             "colorbar": {
              "outlinewidth": 0,
              "ticks": ""
             }
            },
            "type": "scatter"
           }
          ],
          "scatter3d": [
           {
            "line": {
             "colorbar": {
              "outlinewidth": 0,
              "ticks": ""
             }
            },
            "marker": {
             "colorbar": {
              "outlinewidth": 0,
              "ticks": ""
             }
            },
            "type": "scatter3d"
           }
          ],
          "scattercarpet": [
           {
            "marker": {
             "colorbar": {
              "outlinewidth": 0,
              "ticks": ""
             }
            },
            "type": "scattercarpet"
           }
          ],
          "scattergeo": [
           {
            "marker": {
             "colorbar": {
              "outlinewidth": 0,
              "ticks": ""
             }
            },
            "type": "scattergeo"
           }
          ],
          "scattergl": [
           {
            "marker": {
             "colorbar": {
              "outlinewidth": 0,
              "ticks": ""
             }
            },
            "type": "scattergl"
           }
          ],
          "scattermapbox": [
           {
            "marker": {
             "colorbar": {
              "outlinewidth": 0,
              "ticks": ""
             }
            },
            "type": "scattermapbox"
           }
          ],
          "scatterpolar": [
           {
            "marker": {
             "colorbar": {
              "outlinewidth": 0,
              "ticks": ""
             }
            },
            "type": "scatterpolar"
           }
          ],
          "scatterpolargl": [
           {
            "marker": {
             "colorbar": {
              "outlinewidth": 0,
              "ticks": ""
             }
            },
            "type": "scatterpolargl"
           }
          ],
          "scatterternary": [
           {
            "marker": {
             "colorbar": {
              "outlinewidth": 0,
              "ticks": ""
             }
            },
            "type": "scatterternary"
           }
          ],
          "surface": [
           {
            "colorbar": {
             "outlinewidth": 0,
             "ticks": ""
            },
            "colorscale": [
             [
              0,
              "#0d0887"
             ],
             [
              0.1111111111111111,
              "#46039f"
             ],
             [
              0.2222222222222222,
              "#7201a8"
             ],
             [
              0.3333333333333333,
              "#9c179e"
             ],
             [
              0.4444444444444444,
              "#bd3786"
             ],
             [
              0.5555555555555556,
              "#d8576b"
             ],
             [
              0.6666666666666666,
              "#ed7953"
             ],
             [
              0.7777777777777778,
              "#fb9f3a"
             ],
             [
              0.8888888888888888,
              "#fdca26"
             ],
             [
              1,
              "#f0f921"
             ]
            ],
            "type": "surface"
           }
          ],
          "table": [
           {
            "cells": {
             "fill": {
              "color": "#EBF0F8"
             },
             "line": {
              "color": "white"
             }
            },
            "header": {
             "fill": {
              "color": "#C8D4E3"
             },
             "line": {
              "color": "white"
             }
            },
            "type": "table"
           }
          ]
         },
         "layout": {
          "annotationdefaults": {
           "arrowcolor": "#2a3f5f",
           "arrowhead": 0,
           "arrowwidth": 1
          },
          "coloraxis": {
           "colorbar": {
            "outlinewidth": 0,
            "ticks": ""
           }
          },
          "colorscale": {
           "diverging": [
            [
             0,
             "#8e0152"
            ],
            [
             0.1,
             "#c51b7d"
            ],
            [
             0.2,
             "#de77ae"
            ],
            [
             0.3,
             "#f1b6da"
            ],
            [
             0.4,
             "#fde0ef"
            ],
            [
             0.5,
             "#f7f7f7"
            ],
            [
             0.6,
             "#e6f5d0"
            ],
            [
             0.7,
             "#b8e186"
            ],
            [
             0.8,
             "#7fbc41"
            ],
            [
             0.9,
             "#4d9221"
            ],
            [
             1,
             "#276419"
            ]
           ],
           "sequential": [
            [
             0,
             "#0d0887"
            ],
            [
             0.1111111111111111,
             "#46039f"
            ],
            [
             0.2222222222222222,
             "#7201a8"
            ],
            [
             0.3333333333333333,
             "#9c179e"
            ],
            [
             0.4444444444444444,
             "#bd3786"
            ],
            [
             0.5555555555555556,
             "#d8576b"
            ],
            [
             0.6666666666666666,
             "#ed7953"
            ],
            [
             0.7777777777777778,
             "#fb9f3a"
            ],
            [
             0.8888888888888888,
             "#fdca26"
            ],
            [
             1,
             "#f0f921"
            ]
           ],
           "sequentialminus": [
            [
             0,
             "#0d0887"
            ],
            [
             0.1111111111111111,
             "#46039f"
            ],
            [
             0.2222222222222222,
             "#7201a8"
            ],
            [
             0.3333333333333333,
             "#9c179e"
            ],
            [
             0.4444444444444444,
             "#bd3786"
            ],
            [
             0.5555555555555556,
             "#d8576b"
            ],
            [
             0.6666666666666666,
             "#ed7953"
            ],
            [
             0.7777777777777778,
             "#fb9f3a"
            ],
            [
             0.8888888888888888,
             "#fdca26"
            ],
            [
             1,
             "#f0f921"
            ]
           ]
          },
          "colorway": [
           "#636efa",
           "#EF553B",
           "#00cc96",
           "#ab63fa",
           "#FFA15A",
           "#19d3f3",
           "#FF6692",
           "#B6E880",
           "#FF97FF",
           "#FECB52"
          ],
          "font": {
           "color": "#2a3f5f"
          },
          "geo": {
           "bgcolor": "white",
           "lakecolor": "white",
           "landcolor": "#E5ECF6",
           "showlakes": true,
           "showland": true,
           "subunitcolor": "white"
          },
          "hoverlabel": {
           "align": "left"
          },
          "hovermode": "closest",
          "mapbox": {
           "style": "light"
          },
          "paper_bgcolor": "white",
          "plot_bgcolor": "#E5ECF6",
          "polar": {
           "angularaxis": {
            "gridcolor": "white",
            "linecolor": "white",
            "ticks": ""
           },
           "bgcolor": "#E5ECF6",
           "radialaxis": {
            "gridcolor": "white",
            "linecolor": "white",
            "ticks": ""
           }
          },
          "scene": {
           "xaxis": {
            "backgroundcolor": "#E5ECF6",
            "gridcolor": "white",
            "gridwidth": 2,
            "linecolor": "white",
            "showbackground": true,
            "ticks": "",
            "zerolinecolor": "white"
           },
           "yaxis": {
            "backgroundcolor": "#E5ECF6",
            "gridcolor": "white",
            "gridwidth": 2,
            "linecolor": "white",
            "showbackground": true,
            "ticks": "",
            "zerolinecolor": "white"
           },
           "zaxis": {
            "backgroundcolor": "#E5ECF6",
            "gridcolor": "white",
            "gridwidth": 2,
            "linecolor": "white",
            "showbackground": true,
            "ticks": "",
            "zerolinecolor": "white"
           }
          },
          "shapedefaults": {
           "line": {
            "color": "#2a3f5f"
           }
          },
          "ternary": {
           "aaxis": {
            "gridcolor": "white",
            "linecolor": "white",
            "ticks": ""
           },
           "baxis": {
            "gridcolor": "white",
            "linecolor": "white",
            "ticks": ""
           },
           "bgcolor": "#E5ECF6",
           "caxis": {
            "gridcolor": "white",
            "linecolor": "white",
            "ticks": ""
           }
          },
          "title": {
           "x": 0.05
          },
          "xaxis": {
           "automargin": true,
           "gridcolor": "white",
           "linecolor": "white",
           "ticks": "",
           "title": {
            "standoff": 15
           },
           "zerolinecolor": "white",
           "zerolinewidth": 2
          },
          "yaxis": {
           "automargin": true,
           "gridcolor": "white",
           "linecolor": "white",
           "ticks": "",
           "title": {
            "standoff": 15
           },
           "zerolinecolor": "white",
           "zerolinewidth": 2
          }
         }
        },
        "title": {
         "font": {
          "color": "#4D5663",
          "size": 17
         },
         "text": "Distribution of Daily CV",
         "x": 0.5
        },
        "width": 700,
        "xaxis": {
         "automargin": true,
         "gridcolor": "#E1E5ED",
         "linecolor": "#000000",
         "mirror": "ticks",
         "showline": true,
         "tickfont": {
          "size": 15
         },
         "title": {
          "font": {
           "color": "#666666",
           "size": 16
          },
          "text": "CV"
         },
         "zerolinecolor": "#000000",
         "zerolinewidth": 2
        },
        "yaxis": {
         "automargin": true,
         "gridcolor": "#E1E5ED",
         "linecolor": "#000000",
         "mirror": "ticks",
         "showline": true,
         "tickfont": {
          "size": 15
         },
         "title": {
          "font": {
           "color": "#666666",
           "size": 16
          },
          "text": "# regions"
         },
         "zerolinecolor": "#000000",
         "zerolinewidth": 2
        }
       }
      },
      "text/html": [
       "<div>\n",
       "        \n",
       "        \n",
       "            <div id=\"d50ed5c8-c5a0-44fd-a5d3-ff5a9d66bbd7\" class=\"plotly-graph-div\" style=\"height:500px; width:700px;\"></div>\n",
       "            <script type=\"text/javascript\">\n",
       "                require([\"plotly\"], function(Plotly) {\n",
       "                    window.PLOTLYENV=window.PLOTLYENV || {};\n",
       "                    window.PLOTLYENV.BASE_URL='https://plot.ly';\n",
       "                    \n",
       "                if (document.getElementById(\"d50ed5c8-c5a0-44fd-a5d3-ff5a9d66bbd7\")) {\n",
       "                    Plotly.newPlot(\n",
       "                        'd50ed5c8-c5a0-44fd-a5d3-ff5a9d66bbd7',\n",
       "                        [{\"histfunc\": \"count\", \"histnorm\": \"\", \"marker\": {\"color\": \"rgba(255, 153, 51, 1.0)\", \"line\": {\"color\": \"#666666\", \"width\": 2}}, \"name\": \"city\", \"opacity\": 0.8, \"orientation\": \"v\", \"type\": \"histogram\", \"x\": [0.3471476256721193, 0.3293463788343317, 0.5024926494510125, 0.6327443923284488, 0.3163910324449694, 0.3373353933393028, 0.3701770949326142, 0.286687662643728, null, null, null, null, null, null, null, null, null, null, null, null, null, null, null, null, null, null, null, null, null, null, null, null, null, null, null, null, null, 0.4273620854617822, 0.6461886109826176, 0.3485025391703524, 0.3260660410011728, 0.32744906787280204, 0.40524945878448937, 0.7585159205269386, 0.2780462537994965, 0.9066220072286058, 0.3901488336454791, 0.6082979716525952, null, null, null, null, null, null, null, null, null, null, null, null, null, null, null, null, null, null, null, null, null, null, null, null, null, 0.3687136406207601, 0.42672931063487374, 0.4186142215253612, 0.5351597012964407, 0.3218078552150265, 0.6622589958240079, 0.38130140623440745, 0.2789510545475381, 0.3335739853631477, 0.3696814397926295, 0.3655957268206133, 0.5238835892328816, 0.5369215735760726, 0.4913199438629126, 0.377591115337318, 0.36042032822319375, 0.24784106107936546, null, null, 0.3557268854932578, 0.3629514173828339, 0.36492219865273307, 0.8193474859061922, 0.7313373114292863, 0.35203764596985515, 0.5064936515589152, 0.32496415626767394, 0.2902237749522706, 0.38381424639318334, 0.2610481192533073, 0.5993929668036775, 0.3218078349339457, 0.4293121020093684, 0.5819431106660168, 0.3632141233098592, 0.6332340212421065, 0.3978839761328267, 0.5838682256868514, 0.2542411161495161, 0.3112002843246247, 0.3347288418028682, 0.3334482519623064, 0.3491878604154344, 0.34350378923962294, 0.4023471521516148, 0.5842253311109938, 0.3625308614440186, 0.3980516132737778, 0.5099230688810314, 0.40309466693187546, 0.3835259014471612, 0.47455358827483296, 0.4599735641538645, 0.345393403270178, 0.3562465186615954, 0.3547067910132126, 0.3851238441317576, 0.3600816246476056, 0.38178256776564856, 0.37320057041447896, 0.4686928338648748, 0.35529926125508643, 0.537685041140292, 0.3057780385086514, 0.5089592897685637, 0.7708302668025113, 0.3782760731958649]}, {\"histfunc\": \"count\", \"histnorm\": \"\", \"marker\": {\"color\": \"rgba(55, 128, 191, 1.0)\", \"line\": {\"color\": \"#666666\", \"width\": 2}}, \"name\": \"country\", \"opacity\": 0.8, \"orientation\": \"v\", \"type\": \"histogram\", \"x\": [null, null, null, null, null, null, null, null, null, null, null, null, null, null, null, null, null, null, null, null, null, null, null, null, null, null, null, null, null, null, null, null, null, null, null, null, null, null, null, null, null, null, null, null, null, null, null, null, 0.2912960017701939, 0.4334737156391757, 0.6636937815775654, 0.32478331853071696, 0.23369150608189435, 0.2289632940046689, 0.21852737281934345, 0.2954177233140175, 0.24641806677734066, 0.3276504000971684, 0.2570009170262702, 0.8408325580616669, 0.8397854133052594, 0.3139711127545384, 0.24874123108136825, 0.279870068750045, 0.2720620028090954, 0.26871986528755604, 0.4502005869871279, 0.19768579932496216, 0.4675533198608427, 0.4468837917815035, 0.4486804310597353, 0.36451897112327225, 0.6037744080533433, null, null, null, null, null, null, null, null, null, null, null, null, null, null, null, null, null, null, null, null, null, null, null, null, null, null, null, null, null, null, null, null, null, null, null, null, null, null, null, null, null, null, null, null, null, null, null, null, null, null, null, null, null, null, null, null, null, null, null, null, null, null, null, null, null, null, null]}, {\"histfunc\": \"count\", \"histnorm\": \"\", \"marker\": {\"color\": \"rgba(50, 171, 96, 1.0)\", \"line\": {\"color\": \"#666666\", \"width\": 2}}, \"name\": \"state\", \"opacity\": 0.8, \"orientation\": \"v\", \"type\": \"histogram\", \"x\": [null, null, null, null, null, null, null, null, null, null, 0.4047245233571951, 0.2631354363427174, 0.3689282415418469, 0.3427045803597393, 0.2722376795527333, 0.30203396659725584, 0.3535119332487892, 0.2983339227721357, 0.2776074275479336, 0.3558850086262803, 0.3481698076642023, 0.3332254857215594, 0.2523440402803457, 0.3501118346683844, 0.2596467853169876, 0.3445840638489446, 0.2607934022173383, 0.3959760012503454, 0.29971699371031885, 0.2955963379326049, 0.3231918056443795, 0.33653619016486264, 0.35242730719822885, 0.3191762376958843, 0.2853556982855925, 0.2324383651526673, 0.44578869163924295, null, null, null, null, null, null, null, null, null, null, null, null, null, null, null, null, null, null, null, null, null, null, null, null, null, null, null, null, null, null, null, null, null, null, null, null, null, null, null, null, null, null, null, null, null, null, null, null, null, null, null, null, null, null, null, null, null, null, null, null, null, null, null, null, null, null, null, null, null, null, null, null, null, null, null, null, null, null, null, null, null, null, null, null, null, null, null, null, null, null, null, null, null, null, null, null, null, null, null, null, null, null, null]}, {\"histfunc\": \"count\", \"histnorm\": \"\", \"marker\": {\"color\": \"rgba(128, 0, 128, 1.0)\", \"line\": {\"color\": \"#666666\", \"width\": 2}}, \"name\": \"submetro\", \"opacity\": 0.8, \"orientation\": \"v\", \"type\": \"histogram\", \"x\": [null, null, null, null, null, null, null, null, 0.34849264712983274, 0.2613597399371207, null, null, null, null, null, null, null, null, null, null, null, null, null, null, null, null, null, null, null, null, null, null, null, null, null, null, null, null, null, null, null, null, null, null, null, null, null, null, null, null, null, null, null, null, null, null, null, null, null, null, null, null, null, null, null, null, null, null, null, null, null, null, null, null, null, null, null, null, null, null, null, null, null, null, null, null, null, null, null, null, 0.3631105754913515, 0.19449973753520394, null, null, null, null, null, null, null, null, null, null, null, null, null, null, null, null, null, null, null, null, null, null, null, null, null, null, null, null, null, null, null, null, null, null, null, null, null, null, null, null, null, null, null, null, null, null, null, null]}],\n",
       "                        {\"barmode\": \"overlay\", \"height\": 500, \"legend\": {\"bgcolor\": \"#FFFFFF\", \"bordercolor\": \"#444444\", \"borderwidth\": 0, \"font\": {\"size\": 12}, \"itemclick\": \"toggle\", \"itemdoubleclick\": \"toggleothers\", \"itemsizing\": \"trace\", \"traceorder\": \"normal\"}, \"paper_bgcolor\": \"#FFFFFF\", \"plot_bgcolor\": \"#FFFFFF\", \"template\": {\"data\": {\"bar\": [{\"error_x\": {\"color\": \"#2a3f5f\"}, \"error_y\": {\"color\": \"#2a3f5f\"}, \"marker\": {\"line\": {\"color\": \"#E5ECF6\", \"width\": 0.5}}, \"type\": \"bar\"}], \"barpolar\": [{\"marker\": {\"line\": {\"color\": \"#E5ECF6\", \"width\": 0.5}}, \"type\": \"barpolar\"}], \"carpet\": [{\"aaxis\": {\"endlinecolor\": \"#2a3f5f\", \"gridcolor\": \"white\", \"linecolor\": \"white\", \"minorgridcolor\": \"white\", \"startlinecolor\": \"#2a3f5f\"}, \"baxis\": {\"endlinecolor\": \"#2a3f5f\", \"gridcolor\": \"white\", \"linecolor\": \"white\", \"minorgridcolor\": \"white\", \"startlinecolor\": \"#2a3f5f\"}, \"type\": \"carpet\"}], \"choropleth\": [{\"colorbar\": {\"outlinewidth\": 0, \"ticks\": \"\"}, \"type\": \"choropleth\"}], \"contour\": [{\"colorbar\": {\"outlinewidth\": 0, \"ticks\": \"\"}, \"colorscale\": [[0.0, \"#0d0887\"], [0.1111111111111111, \"#46039f\"], [0.2222222222222222, \"#7201a8\"], [0.3333333333333333, \"#9c179e\"], [0.4444444444444444, \"#bd3786\"], [0.5555555555555556, \"#d8576b\"], [0.6666666666666666, \"#ed7953\"], [0.7777777777777778, \"#fb9f3a\"], [0.8888888888888888, \"#fdca26\"], [1.0, \"#f0f921\"]], \"type\": \"contour\"}], \"contourcarpet\": [{\"colorbar\": {\"outlinewidth\": 0, \"ticks\": \"\"}, \"type\": \"contourcarpet\"}], \"heatmap\": [{\"colorbar\": {\"outlinewidth\": 0, \"ticks\": \"\"}, \"colorscale\": [[0.0, \"#0d0887\"], [0.1111111111111111, \"#46039f\"], [0.2222222222222222, \"#7201a8\"], [0.3333333333333333, \"#9c179e\"], [0.4444444444444444, \"#bd3786\"], [0.5555555555555556, \"#d8576b\"], [0.6666666666666666, \"#ed7953\"], [0.7777777777777778, \"#fb9f3a\"], [0.8888888888888888, \"#fdca26\"], [1.0, \"#f0f921\"]], \"type\": \"heatmap\"}], \"heatmapgl\": [{\"colorbar\": {\"outlinewidth\": 0, \"ticks\": \"\"}, \"colorscale\": [[0.0, \"#0d0887\"], [0.1111111111111111, \"#46039f\"], [0.2222222222222222, \"#7201a8\"], [0.3333333333333333, \"#9c179e\"], [0.4444444444444444, \"#bd3786\"], [0.5555555555555556, \"#d8576b\"], [0.6666666666666666, \"#ed7953\"], [0.7777777777777778, \"#fb9f3a\"], [0.8888888888888888, \"#fdca26\"], [1.0, \"#f0f921\"]], \"type\": \"heatmapgl\"}], \"histogram\": [{\"marker\": {\"colorbar\": {\"outlinewidth\": 0, \"ticks\": \"\"}}, \"type\": \"histogram\"}], \"histogram2d\": [{\"colorbar\": {\"outlinewidth\": 0, \"ticks\": \"\"}, \"colorscale\": [[0.0, \"#0d0887\"], [0.1111111111111111, \"#46039f\"], [0.2222222222222222, \"#7201a8\"], [0.3333333333333333, \"#9c179e\"], [0.4444444444444444, \"#bd3786\"], [0.5555555555555556, \"#d8576b\"], [0.6666666666666666, \"#ed7953\"], [0.7777777777777778, \"#fb9f3a\"], [0.8888888888888888, \"#fdca26\"], [1.0, \"#f0f921\"]], \"type\": \"histogram2d\"}], \"histogram2dcontour\": [{\"colorbar\": {\"outlinewidth\": 0, \"ticks\": \"\"}, \"colorscale\": [[0.0, \"#0d0887\"], [0.1111111111111111, \"#46039f\"], [0.2222222222222222, \"#7201a8\"], [0.3333333333333333, \"#9c179e\"], [0.4444444444444444, \"#bd3786\"], [0.5555555555555556, \"#d8576b\"], [0.6666666666666666, \"#ed7953\"], [0.7777777777777778, \"#fb9f3a\"], [0.8888888888888888, \"#fdca26\"], [1.0, \"#f0f921\"]], \"type\": \"histogram2dcontour\"}], \"mesh3d\": [{\"colorbar\": {\"outlinewidth\": 0, \"ticks\": \"\"}, \"type\": \"mesh3d\"}], \"parcoords\": [{\"line\": {\"colorbar\": {\"outlinewidth\": 0, \"ticks\": \"\"}}, \"type\": \"parcoords\"}], \"pie\": [{\"automargin\": true, \"type\": \"pie\"}], \"scatter\": [{\"marker\": {\"colorbar\": {\"outlinewidth\": 0, \"ticks\": \"\"}}, \"type\": \"scatter\"}], \"scatter3d\": [{\"line\": {\"colorbar\": {\"outlinewidth\": 0, \"ticks\": \"\"}}, \"marker\": {\"colorbar\": {\"outlinewidth\": 0, \"ticks\": \"\"}}, \"type\": \"scatter3d\"}], \"scattercarpet\": [{\"marker\": {\"colorbar\": {\"outlinewidth\": 0, \"ticks\": \"\"}}, \"type\": \"scattercarpet\"}], \"scattergeo\": [{\"marker\": {\"colorbar\": {\"outlinewidth\": 0, \"ticks\": \"\"}}, \"type\": \"scattergeo\"}], \"scattergl\": [{\"marker\": {\"colorbar\": {\"outlinewidth\": 0, \"ticks\": \"\"}}, \"type\": \"scattergl\"}], \"scattermapbox\": [{\"marker\": {\"colorbar\": {\"outlinewidth\": 0, \"ticks\": \"\"}}, \"type\": \"scattermapbox\"}], \"scatterpolar\": [{\"marker\": {\"colorbar\": {\"outlinewidth\": 0, \"ticks\": \"\"}}, \"type\": \"scatterpolar\"}], \"scatterpolargl\": [{\"marker\": {\"colorbar\": {\"outlinewidth\": 0, \"ticks\": \"\"}}, \"type\": \"scatterpolargl\"}], \"scatterternary\": [{\"marker\": {\"colorbar\": {\"outlinewidth\": 0, \"ticks\": \"\"}}, \"type\": \"scatterternary\"}], \"surface\": [{\"colorbar\": {\"outlinewidth\": 0, \"ticks\": \"\"}, \"colorscale\": [[0.0, \"#0d0887\"], [0.1111111111111111, \"#46039f\"], [0.2222222222222222, \"#7201a8\"], [0.3333333333333333, \"#9c179e\"], [0.4444444444444444, \"#bd3786\"], [0.5555555555555556, \"#d8576b\"], [0.6666666666666666, \"#ed7953\"], [0.7777777777777778, \"#fb9f3a\"], [0.8888888888888888, \"#fdca26\"], [1.0, \"#f0f921\"]], \"type\": \"surface\"}], \"table\": [{\"cells\": {\"fill\": {\"color\": \"#EBF0F8\"}, \"line\": {\"color\": \"white\"}}, \"header\": {\"fill\": {\"color\": \"#C8D4E3\"}, \"line\": {\"color\": \"white\"}}, \"type\": \"table\"}]}, \"layout\": {\"annotationdefaults\": {\"arrowcolor\": \"#2a3f5f\", \"arrowhead\": 0, \"arrowwidth\": 1}, \"coloraxis\": {\"colorbar\": {\"outlinewidth\": 0, \"ticks\": \"\"}}, \"colorscale\": {\"diverging\": [[0, \"#8e0152\"], [0.1, \"#c51b7d\"], [0.2, \"#de77ae\"], [0.3, \"#f1b6da\"], [0.4, \"#fde0ef\"], [0.5, \"#f7f7f7\"], [0.6, \"#e6f5d0\"], [0.7, \"#b8e186\"], [0.8, \"#7fbc41\"], [0.9, \"#4d9221\"], [1, \"#276419\"]], \"sequential\": [[0.0, \"#0d0887\"], [0.1111111111111111, \"#46039f\"], [0.2222222222222222, \"#7201a8\"], [0.3333333333333333, \"#9c179e\"], [0.4444444444444444, \"#bd3786\"], [0.5555555555555556, \"#d8576b\"], [0.6666666666666666, \"#ed7953\"], [0.7777777777777778, \"#fb9f3a\"], [0.8888888888888888, \"#fdca26\"], [1.0, \"#f0f921\"]], \"sequentialminus\": [[0.0, \"#0d0887\"], [0.1111111111111111, \"#46039f\"], [0.2222222222222222, \"#7201a8\"], [0.3333333333333333, \"#9c179e\"], [0.4444444444444444, \"#bd3786\"], [0.5555555555555556, \"#d8576b\"], [0.6666666666666666, \"#ed7953\"], [0.7777777777777778, \"#fb9f3a\"], [0.8888888888888888, \"#fdca26\"], [1.0, \"#f0f921\"]]}, \"colorway\": [\"#636efa\", \"#EF553B\", \"#00cc96\", \"#ab63fa\", \"#FFA15A\", \"#19d3f3\", \"#FF6692\", \"#B6E880\", \"#FF97FF\", \"#FECB52\"], \"font\": {\"color\": \"#2a3f5f\"}, \"geo\": {\"bgcolor\": \"white\", \"lakecolor\": \"white\", \"landcolor\": \"#E5ECF6\", \"showlakes\": true, \"showland\": true, \"subunitcolor\": \"white\"}, \"hoverlabel\": {\"align\": \"left\"}, \"hovermode\": \"closest\", \"mapbox\": {\"style\": \"light\"}, \"paper_bgcolor\": \"white\", \"plot_bgcolor\": \"#E5ECF6\", \"polar\": {\"angularaxis\": {\"gridcolor\": \"white\", \"linecolor\": \"white\", \"ticks\": \"\"}, \"bgcolor\": \"#E5ECF6\", \"radialaxis\": {\"gridcolor\": \"white\", \"linecolor\": \"white\", \"ticks\": \"\"}}, \"scene\": {\"xaxis\": {\"backgroundcolor\": \"#E5ECF6\", \"gridcolor\": \"white\", \"gridwidth\": 2, \"linecolor\": \"white\", \"showbackground\": true, \"ticks\": \"\", \"zerolinecolor\": \"white\"}, \"yaxis\": {\"backgroundcolor\": \"#E5ECF6\", \"gridcolor\": \"white\", \"gridwidth\": 2, \"linecolor\": \"white\", \"showbackground\": true, \"ticks\": \"\", \"zerolinecolor\": \"white\"}, \"zaxis\": {\"backgroundcolor\": \"#E5ECF6\", \"gridcolor\": \"white\", \"gridwidth\": 2, \"linecolor\": \"white\", \"showbackground\": true, \"ticks\": \"\", \"zerolinecolor\": \"white\"}}, \"shapedefaults\": {\"line\": {\"color\": \"#2a3f5f\"}}, \"ternary\": {\"aaxis\": {\"gridcolor\": \"white\", \"linecolor\": \"white\", \"ticks\": \"\"}, \"baxis\": {\"gridcolor\": \"white\", \"linecolor\": \"white\", \"ticks\": \"\"}, \"bgcolor\": \"#E5ECF6\", \"caxis\": {\"gridcolor\": \"white\", \"linecolor\": \"white\", \"ticks\": \"\"}}, \"title\": {\"x\": 0.05}, \"xaxis\": {\"automargin\": true, \"gridcolor\": \"white\", \"linecolor\": \"white\", \"ticks\": \"\", \"title\": {\"standoff\": 15}, \"zerolinecolor\": \"white\", \"zerolinewidth\": 2}, \"yaxis\": {\"automargin\": true, \"gridcolor\": \"white\", \"linecolor\": \"white\", \"ticks\": \"\", \"title\": {\"standoff\": 15}, \"zerolinecolor\": \"white\", \"zerolinewidth\": 2}}}, \"title\": {\"font\": {\"color\": \"#4D5663\", \"size\": 17}, \"text\": \"Distribution of Daily CV\", \"x\": 0.5}, \"width\": 700, \"xaxis\": {\"automargin\": true, \"gridcolor\": \"#E1E5ED\", \"linecolor\": \"#000000\", \"mirror\": \"ticks\", \"showline\": true, \"tickfont\": {\"size\": 15}, \"title\": {\"font\": {\"color\": \"#666666\", \"size\": 16}, \"text\": \"CV\"}, \"zerolinecolor\": \"#000000\", \"zerolinewidth\": 2}, \"yaxis\": {\"automargin\": true, \"gridcolor\": \"#E1E5ED\", \"linecolor\": \"#000000\", \"mirror\": \"ticks\", \"showline\": true, \"tickfont\": {\"size\": 15}, \"title\": {\"font\": {\"color\": \"#666666\", \"size\": 16}, \"text\": \"# regions\"}, \"zerolinecolor\": \"#000000\", \"zerolinewidth\": 2}},\n",
       "                        {\"showLink\": true, \"linkText\": \"Export to plot.ly\", \"plotlyServerURL\": \"https://plot.ly\", \"responsive\": true}\n",
       "                    ).then(function(){\n",
       "                            \n",
       "var gd = document.getElementById('d50ed5c8-c5a0-44fd-a5d3-ff5a9d66bbd7');\n",
       "var x = new MutationObserver(function (mutations, observer) {{\n",
       "        var display = window.getComputedStyle(gd).display;\n",
       "        if (!display || display === 'none') {{\n",
       "            console.log([gd, 'removed!']);\n",
       "            Plotly.purge(gd);\n",
       "            observer.disconnect();\n",
       "        }}\n",
       "}});\n",
       "\n",
       "// Listen for the removal of the full notebook cells\n",
       "var notebookContainer = gd.closest('#notebook-container');\n",
       "if (notebookContainer) {{\n",
       "    x.observe(notebookContainer, {childList: true});\n",
       "}}\n",
       "\n",
       "// Listen for the clearing of the current output cell\n",
       "var outputEl = gd.closest('.output');\n",
       "if (outputEl) {{\n",
       "    x.observe(outputEl, {childList: true});\n",
       "}}\n",
       "\n",
       "                        })\n",
       "                };\n",
       "                });\n",
       "            </script>\n",
       "        </div>"
      ]
     },
     "metadata": {},
     "output_type": "display_data"
    }
   ],
   "source": [
    "df.query('daily_coef_var < 1').pivot_table(columns='region_type', values='daily_coef_var', index='region_slug').iplot(\n",
    "    kind='hist', theme='custom',\n",
    "    title='Distribution of Daily CV',\n",
    "    xTitle='CV', yTitle='# regions',\n",
    ")"
   ]
  },
  {
   "cell_type": "code",
   "execution_count": 58,
   "metadata": {},
   "outputs": [
    {
     "data": {
      "application/vnd.plotly.v1+json": {
       "config": {
        "linkText": "Export to plot.ly",
        "plotlyServerURL": "https://plot.ly",
        "showLink": true
       },
       "data": [
        {
         "histfunc": "count",
         "histnorm": "",
         "marker": {
          "color": "rgba(255, 153, 51, 1.0)",
          "line": {
           "color": "#666666",
           "width": 2
          }
         },
         "name": "city",
         "opacity": 0.8,
         "orientation": "v",
         "type": "histogram",
         "x": [
          0.2858905222233324,
          0.22510118436950916,
          0.4169301953025549,
          0.3709345916025836,
          0.18923278080027145,
          0.244930626992786,
          0.235304139033558,
          0.6774975611154525,
          0.22096798554580474,
          null,
          null,
          null,
          null,
          null,
          null,
          null,
          null,
          null,
          null,
          null,
          null,
          null,
          null,
          null,
          null,
          null,
          null,
          null,
          null,
          null,
          null,
          null,
          null,
          null,
          null,
          null,
          null,
          null,
          0.25993903858281525,
          0.32032648582959355,
          0.2459011047620025,
          0.21789833888380455,
          0.2095956890935539,
          0.2335480327717783,
          0.5812667167360133,
          0.2078034360462011,
          0.4428155590820333,
          0.24051556660857526,
          0.4601185111786109,
          null,
          null,
          null,
          null,
          null,
          null,
          null,
          null,
          null,
          null,
          null,
          null,
          null,
          null,
          null,
          null,
          null,
          null,
          null,
          null,
          null,
          null,
          null,
          null,
          null,
          0.29579109826551864,
          0.3111308342523457,
          0.2502064088037572,
          0.2736954307109535,
          0.20961466972502488,
          0.3707753352821059,
          0.2218559323892664,
          0.20838641046882725,
          0.21896381138541535,
          0.2180476988632588,
          0.20918194747213925,
          0.29748302024755396,
          0.5093110602832025,
          0.26970757518525823,
          0.2803889276562378,
          0.2624091921791272,
          0.15495059666023855,
          null,
          null,
          0.1809299192006453,
          0.22980497780756334,
          0.19954454504165453,
          0.4897049795059035,
          0.4639472737633041,
          0.2388930675362972,
          0.3638223602254846,
          0.22223563471872007,
          0.20216747631142426,
          0.25027617454863643,
          0.19724288190850295,
          0.3573886863330825,
          0.20961467269565415,
          0.20396751933714047,
          0.3961864216341421,
          0.28759596978176816,
          0.5524137314985547,
          0.2303046903821204,
          0.2949474533930781,
          0.18769216005108413,
          0.2125587371544555,
          0.21219800824828725,
          0.19300546296201712,
          0.20723206370488265,
          0.23523766761586945,
          0.2014954753623732,
          0.3112687768164055,
          0.2436975054152345,
          0.28831439995402464,
          0.35315838211307765,
          0.2394546467778669,
          0.3575468208807489,
          0.4116827862728698,
          0.2773549978358809,
          0.19917076487734828,
          0.2298446356961427,
          0.2656015605833746,
          0.22395960784432276,
          0.2479280408695712,
          0.2360140289177365,
          0.212832167069768,
          0.3436163835363011,
          0.25218330319264154,
          0.5122827134615497,
          0.21618008376814224,
          0.4542269958408945,
          0.4410429130991756,
          0.20496160447805045
         ]
        },
        {
         "histfunc": "count",
         "histnorm": "",
         "marker": {
          "color": "rgba(55, 128, 191, 1.0)",
          "line": {
           "color": "#666666",
           "width": 2
          }
         },
         "name": "country",
         "opacity": 0.8,
         "orientation": "v",
         "type": "histogram",
         "x": [
          null,
          null,
          null,
          null,
          null,
          null,
          null,
          null,
          null,
          null,
          null,
          null,
          null,
          null,
          null,
          null,
          null,
          null,
          null,
          null,
          null,
          null,
          null,
          null,
          null,
          null,
          null,
          null,
          null,
          null,
          null,
          null,
          null,
          null,
          null,
          null,
          null,
          null,
          null,
          null,
          null,
          null,
          null,
          null,
          null,
          null,
          null,
          null,
          null,
          0.2236955552035937,
          0.2609976054326644,
          0.5098418751655216,
          0.3076454063999359,
          0.14916533084950026,
          0.1913106207096777,
          0.15731685871168113,
          0.2085866140625696,
          0.17726038444200906,
          0.2655842352351394,
          0.20056175605853305,
          0.43420137163684697,
          0.6464455735587956,
          0.26486123590308946,
          0.183131433518718,
          0.2576985357129717,
          0.23692876055613016,
          0.17039879400674116,
          0.40375961053711423,
          0.16606182047466286,
          0.34570571691687074,
          0.3237263464389799,
          0.2566211608853609,
          0.293816728768831,
          0.44797949182570185,
          null,
          null,
          null,
          null,
          null,
          null,
          null,
          null,
          null,
          null,
          null,
          null,
          null,
          null,
          null,
          null,
          null,
          null,
          null,
          null,
          null,
          null,
          null,
          null,
          null,
          null,
          null,
          null,
          null,
          null,
          null,
          null,
          null,
          null,
          null,
          null,
          null,
          null,
          null,
          null,
          null,
          null,
          null,
          null,
          null,
          null,
          null,
          null,
          null,
          null,
          null,
          null,
          null,
          null,
          null,
          null,
          null,
          null,
          null,
          null,
          null,
          null,
          null,
          null,
          null,
          null,
          null
         ]
        },
        {
         "histfunc": "count",
         "histnorm": "",
         "marker": {
          "color": "rgba(50, 171, 96, 1.0)",
          "line": {
           "color": "#666666",
           "width": 2
          }
         },
         "name": "state",
         "opacity": 0.8,
         "orientation": "v",
         "type": "histogram",
         "x": [
          null,
          null,
          null,
          null,
          null,
          null,
          null,
          null,
          null,
          null,
          null,
          0.34958579117521216,
          0.1852987792107371,
          0.30825695694590977,
          0.19560868350528174,
          0.25042953423016634,
          0.2776241532738791,
          0.2506200309923385,
          0.18411171220025035,
          0.2594784308499088,
          0.3295381777417441,
          0.3163742138419414,
          0.2953086590705622,
          0.2258525675517441,
          0.31515304648226744,
          0.213571657530338,
          0.26733718867784023,
          0.20912414862972448,
          0.3743815336303252,
          0.19048682567417055,
          0.2318830012018617,
          0.25222449171732514,
          0.2980603071486284,
          0.27297652860059923,
          0.23552062436615226,
          0.19734755282659275,
          0.20206002778330964,
          0.4337525353976512,
          null,
          null,
          null,
          null,
          null,
          null,
          null,
          null,
          null,
          null,
          null,
          null,
          null,
          null,
          null,
          null,
          null,
          null,
          null,
          null,
          null,
          null,
          null,
          null,
          null,
          null,
          null,
          null,
          null,
          null,
          null,
          null,
          null,
          null,
          null,
          null,
          null,
          null,
          null,
          null,
          null,
          null,
          null,
          null,
          null,
          null,
          null,
          null,
          null,
          null,
          null,
          null,
          null,
          null,
          null,
          null,
          null,
          null,
          null,
          null,
          null,
          null,
          null,
          null,
          null,
          null,
          null,
          null,
          null,
          null,
          null,
          null,
          null,
          null,
          null,
          null,
          null,
          null,
          null,
          null,
          null,
          null,
          null,
          null,
          null,
          null,
          null,
          null,
          null,
          null,
          null,
          null,
          null,
          null,
          null,
          null,
          null,
          null,
          null,
          null,
          null,
          null,
          null
         ]
        },
        {
         "histfunc": "count",
         "histnorm": "",
         "marker": {
          "color": "rgba(128, 0, 128, 1.0)",
          "line": {
           "color": "#666666",
           "width": 2
          }
         },
         "name": "submetro",
         "opacity": 0.8,
         "orientation": "v",
         "type": "histogram",
         "x": [
          null,
          null,
          null,
          null,
          null,
          null,
          null,
          null,
          null,
          0.24201630048067016,
          0.21323732080200386,
          null,
          null,
          null,
          null,
          null,
          null,
          null,
          null,
          null,
          null,
          null,
          null,
          null,
          null,
          null,
          null,
          null,
          null,
          null,
          null,
          null,
          null,
          null,
          null,
          null,
          null,
          null,
          null,
          null,
          null,
          null,
          null,
          null,
          null,
          null,
          null,
          null,
          null,
          null,
          null,
          null,
          null,
          null,
          null,
          null,
          null,
          null,
          null,
          null,
          null,
          null,
          null,
          null,
          null,
          null,
          null,
          null,
          null,
          null,
          null,
          null,
          null,
          null,
          null,
          null,
          null,
          null,
          null,
          null,
          null,
          null,
          null,
          null,
          null,
          null,
          null,
          null,
          null,
          null,
          null,
          0.1926646945426957,
          0.14376211871883973,
          null,
          null,
          null,
          null,
          null,
          null,
          null,
          null,
          null,
          null,
          null,
          null,
          null,
          null,
          null,
          null,
          null,
          null,
          null,
          null,
          null,
          null,
          null,
          null,
          null,
          null,
          null,
          null,
          null,
          null,
          null,
          null,
          null,
          null,
          null,
          null,
          null,
          null,
          null,
          null,
          null,
          null,
          null,
          null,
          null,
          null,
          null,
          null
         ]
        }
       ],
       "layout": {
        "barmode": "overlay",
        "height": 500,
        "legend": {
         "bgcolor": "#FFFFFF",
         "bordercolor": "#444444",
         "borderwidth": 0,
         "font": {
          "size": 12
         },
         "itemclick": "toggle",
         "itemdoubleclick": "toggleothers",
         "itemsizing": "trace",
         "traceorder": "normal"
        },
        "paper_bgcolor": "#FFFFFF",
        "plot_bgcolor": "#FFFFFF",
        "template": {
         "data": {
          "bar": [
           {
            "error_x": {
             "color": "#2a3f5f"
            },
            "error_y": {
             "color": "#2a3f5f"
            },
            "marker": {
             "line": {
              "color": "#E5ECF6",
              "width": 0.5
             }
            },
            "type": "bar"
           }
          ],
          "barpolar": [
           {
            "marker": {
             "line": {
              "color": "#E5ECF6",
              "width": 0.5
             }
            },
            "type": "barpolar"
           }
          ],
          "carpet": [
           {
            "aaxis": {
             "endlinecolor": "#2a3f5f",
             "gridcolor": "white",
             "linecolor": "white",
             "minorgridcolor": "white",
             "startlinecolor": "#2a3f5f"
            },
            "baxis": {
             "endlinecolor": "#2a3f5f",
             "gridcolor": "white",
             "linecolor": "white",
             "minorgridcolor": "white",
             "startlinecolor": "#2a3f5f"
            },
            "type": "carpet"
           }
          ],
          "choropleth": [
           {
            "colorbar": {
             "outlinewidth": 0,
             "ticks": ""
            },
            "type": "choropleth"
           }
          ],
          "contour": [
           {
            "colorbar": {
             "outlinewidth": 0,
             "ticks": ""
            },
            "colorscale": [
             [
              0,
              "#0d0887"
             ],
             [
              0.1111111111111111,
              "#46039f"
             ],
             [
              0.2222222222222222,
              "#7201a8"
             ],
             [
              0.3333333333333333,
              "#9c179e"
             ],
             [
              0.4444444444444444,
              "#bd3786"
             ],
             [
              0.5555555555555556,
              "#d8576b"
             ],
             [
              0.6666666666666666,
              "#ed7953"
             ],
             [
              0.7777777777777778,
              "#fb9f3a"
             ],
             [
              0.8888888888888888,
              "#fdca26"
             ],
             [
              1,
              "#f0f921"
             ]
            ],
            "type": "contour"
           }
          ],
          "contourcarpet": [
           {
            "colorbar": {
             "outlinewidth": 0,
             "ticks": ""
            },
            "type": "contourcarpet"
           }
          ],
          "heatmap": [
           {
            "colorbar": {
             "outlinewidth": 0,
             "ticks": ""
            },
            "colorscale": [
             [
              0,
              "#0d0887"
             ],
             [
              0.1111111111111111,
              "#46039f"
             ],
             [
              0.2222222222222222,
              "#7201a8"
             ],
             [
              0.3333333333333333,
              "#9c179e"
             ],
             [
              0.4444444444444444,
              "#bd3786"
             ],
             [
              0.5555555555555556,
              "#d8576b"
             ],
             [
              0.6666666666666666,
              "#ed7953"
             ],
             [
              0.7777777777777778,
              "#fb9f3a"
             ],
             [
              0.8888888888888888,
              "#fdca26"
             ],
             [
              1,
              "#f0f921"
             ]
            ],
            "type": "heatmap"
           }
          ],
          "heatmapgl": [
           {
            "colorbar": {
             "outlinewidth": 0,
             "ticks": ""
            },
            "colorscale": [
             [
              0,
              "#0d0887"
             ],
             [
              0.1111111111111111,
              "#46039f"
             ],
             [
              0.2222222222222222,
              "#7201a8"
             ],
             [
              0.3333333333333333,
              "#9c179e"
             ],
             [
              0.4444444444444444,
              "#bd3786"
             ],
             [
              0.5555555555555556,
              "#d8576b"
             ],
             [
              0.6666666666666666,
              "#ed7953"
             ],
             [
              0.7777777777777778,
              "#fb9f3a"
             ],
             [
              0.8888888888888888,
              "#fdca26"
             ],
             [
              1,
              "#f0f921"
             ]
            ],
            "type": "heatmapgl"
           }
          ],
          "histogram": [
           {
            "marker": {
             "colorbar": {
              "outlinewidth": 0,
              "ticks": ""
             }
            },
            "type": "histogram"
           }
          ],
          "histogram2d": [
           {
            "colorbar": {
             "outlinewidth": 0,
             "ticks": ""
            },
            "colorscale": [
             [
              0,
              "#0d0887"
             ],
             [
              0.1111111111111111,
              "#46039f"
             ],
             [
              0.2222222222222222,
              "#7201a8"
             ],
             [
              0.3333333333333333,
              "#9c179e"
             ],
             [
              0.4444444444444444,
              "#bd3786"
             ],
             [
              0.5555555555555556,
              "#d8576b"
             ],
             [
              0.6666666666666666,
              "#ed7953"
             ],
             [
              0.7777777777777778,
              "#fb9f3a"
             ],
             [
              0.8888888888888888,
              "#fdca26"
             ],
             [
              1,
              "#f0f921"
             ]
            ],
            "type": "histogram2d"
           }
          ],
          "histogram2dcontour": [
           {
            "colorbar": {
             "outlinewidth": 0,
             "ticks": ""
            },
            "colorscale": [
             [
              0,
              "#0d0887"
             ],
             [
              0.1111111111111111,
              "#46039f"
             ],
             [
              0.2222222222222222,
              "#7201a8"
             ],
             [
              0.3333333333333333,
              "#9c179e"
             ],
             [
              0.4444444444444444,
              "#bd3786"
             ],
             [
              0.5555555555555556,
              "#d8576b"
             ],
             [
              0.6666666666666666,
              "#ed7953"
             ],
             [
              0.7777777777777778,
              "#fb9f3a"
             ],
             [
              0.8888888888888888,
              "#fdca26"
             ],
             [
              1,
              "#f0f921"
             ]
            ],
            "type": "histogram2dcontour"
           }
          ],
          "mesh3d": [
           {
            "colorbar": {
             "outlinewidth": 0,
             "ticks": ""
            },
            "type": "mesh3d"
           }
          ],
          "parcoords": [
           {
            "line": {
             "colorbar": {
              "outlinewidth": 0,
              "ticks": ""
             }
            },
            "type": "parcoords"
           }
          ],
          "pie": [
           {
            "automargin": true,
            "type": "pie"
           }
          ],
          "scatter": [
           {
            "marker": {
             "colorbar": {
              "outlinewidth": 0,
              "ticks": ""
             }
            },
            "type": "scatter"
           }
          ],
          "scatter3d": [
           {
            "line": {
             "colorbar": {
              "outlinewidth": 0,
              "ticks": ""
             }
            },
            "marker": {
             "colorbar": {
              "outlinewidth": 0,
              "ticks": ""
             }
            },
            "type": "scatter3d"
           }
          ],
          "scattercarpet": [
           {
            "marker": {
             "colorbar": {
              "outlinewidth": 0,
              "ticks": ""
             }
            },
            "type": "scattercarpet"
           }
          ],
          "scattergeo": [
           {
            "marker": {
             "colorbar": {
              "outlinewidth": 0,
              "ticks": ""
             }
            },
            "type": "scattergeo"
           }
          ],
          "scattergl": [
           {
            "marker": {
             "colorbar": {
              "outlinewidth": 0,
              "ticks": ""
             }
            },
            "type": "scattergl"
           }
          ],
          "scattermapbox": [
           {
            "marker": {
             "colorbar": {
              "outlinewidth": 0,
              "ticks": ""
             }
            },
            "type": "scattermapbox"
           }
          ],
          "scatterpolar": [
           {
            "marker": {
             "colorbar": {
              "outlinewidth": 0,
              "ticks": ""
             }
            },
            "type": "scatterpolar"
           }
          ],
          "scatterpolargl": [
           {
            "marker": {
             "colorbar": {
              "outlinewidth": 0,
              "ticks": ""
             }
            },
            "type": "scatterpolargl"
           }
          ],
          "scatterternary": [
           {
            "marker": {
             "colorbar": {
              "outlinewidth": 0,
              "ticks": ""
             }
            },
            "type": "scatterternary"
           }
          ],
          "surface": [
           {
            "colorbar": {
             "outlinewidth": 0,
             "ticks": ""
            },
            "colorscale": [
             [
              0,
              "#0d0887"
             ],
             [
              0.1111111111111111,
              "#46039f"
             ],
             [
              0.2222222222222222,
              "#7201a8"
             ],
             [
              0.3333333333333333,
              "#9c179e"
             ],
             [
              0.4444444444444444,
              "#bd3786"
             ],
             [
              0.5555555555555556,
              "#d8576b"
             ],
             [
              0.6666666666666666,
              "#ed7953"
             ],
             [
              0.7777777777777778,
              "#fb9f3a"
             ],
             [
              0.8888888888888888,
              "#fdca26"
             ],
             [
              1,
              "#f0f921"
             ]
            ],
            "type": "surface"
           }
          ],
          "table": [
           {
            "cells": {
             "fill": {
              "color": "#EBF0F8"
             },
             "line": {
              "color": "white"
             }
            },
            "header": {
             "fill": {
              "color": "#C8D4E3"
             },
             "line": {
              "color": "white"
             }
            },
            "type": "table"
           }
          ]
         },
         "layout": {
          "annotationdefaults": {
           "arrowcolor": "#2a3f5f",
           "arrowhead": 0,
           "arrowwidth": 1
          },
          "coloraxis": {
           "colorbar": {
            "outlinewidth": 0,
            "ticks": ""
           }
          },
          "colorscale": {
           "diverging": [
            [
             0,
             "#8e0152"
            ],
            [
             0.1,
             "#c51b7d"
            ],
            [
             0.2,
             "#de77ae"
            ],
            [
             0.3,
             "#f1b6da"
            ],
            [
             0.4,
             "#fde0ef"
            ],
            [
             0.5,
             "#f7f7f7"
            ],
            [
             0.6,
             "#e6f5d0"
            ],
            [
             0.7,
             "#b8e186"
            ],
            [
             0.8,
             "#7fbc41"
            ],
            [
             0.9,
             "#4d9221"
            ],
            [
             1,
             "#276419"
            ]
           ],
           "sequential": [
            [
             0,
             "#0d0887"
            ],
            [
             0.1111111111111111,
             "#46039f"
            ],
            [
             0.2222222222222222,
             "#7201a8"
            ],
            [
             0.3333333333333333,
             "#9c179e"
            ],
            [
             0.4444444444444444,
             "#bd3786"
            ],
            [
             0.5555555555555556,
             "#d8576b"
            ],
            [
             0.6666666666666666,
             "#ed7953"
            ],
            [
             0.7777777777777778,
             "#fb9f3a"
            ],
            [
             0.8888888888888888,
             "#fdca26"
            ],
            [
             1,
             "#f0f921"
            ]
           ],
           "sequentialminus": [
            [
             0,
             "#0d0887"
            ],
            [
             0.1111111111111111,
             "#46039f"
            ],
            [
             0.2222222222222222,
             "#7201a8"
            ],
            [
             0.3333333333333333,
             "#9c179e"
            ],
            [
             0.4444444444444444,
             "#bd3786"
            ],
            [
             0.5555555555555556,
             "#d8576b"
            ],
            [
             0.6666666666666666,
             "#ed7953"
            ],
            [
             0.7777777777777778,
             "#fb9f3a"
            ],
            [
             0.8888888888888888,
             "#fdca26"
            ],
            [
             1,
             "#f0f921"
            ]
           ]
          },
          "colorway": [
           "#636efa",
           "#EF553B",
           "#00cc96",
           "#ab63fa",
           "#FFA15A",
           "#19d3f3",
           "#FF6692",
           "#B6E880",
           "#FF97FF",
           "#FECB52"
          ],
          "font": {
           "color": "#2a3f5f"
          },
          "geo": {
           "bgcolor": "white",
           "lakecolor": "white",
           "landcolor": "#E5ECF6",
           "showlakes": true,
           "showland": true,
           "subunitcolor": "white"
          },
          "hoverlabel": {
           "align": "left"
          },
          "hovermode": "closest",
          "mapbox": {
           "style": "light"
          },
          "paper_bgcolor": "white",
          "plot_bgcolor": "#E5ECF6",
          "polar": {
           "angularaxis": {
            "gridcolor": "white",
            "linecolor": "white",
            "ticks": ""
           },
           "bgcolor": "#E5ECF6",
           "radialaxis": {
            "gridcolor": "white",
            "linecolor": "white",
            "ticks": ""
           }
          },
          "scene": {
           "xaxis": {
            "backgroundcolor": "#E5ECF6",
            "gridcolor": "white",
            "gridwidth": 2,
            "linecolor": "white",
            "showbackground": true,
            "ticks": "",
            "zerolinecolor": "white"
           },
           "yaxis": {
            "backgroundcolor": "#E5ECF6",
            "gridcolor": "white",
            "gridwidth": 2,
            "linecolor": "white",
            "showbackground": true,
            "ticks": "",
            "zerolinecolor": "white"
           },
           "zaxis": {
            "backgroundcolor": "#E5ECF6",
            "gridcolor": "white",
            "gridwidth": 2,
            "linecolor": "white",
            "showbackground": true,
            "ticks": "",
            "zerolinecolor": "white"
           }
          },
          "shapedefaults": {
           "line": {
            "color": "#2a3f5f"
           }
          },
          "ternary": {
           "aaxis": {
            "gridcolor": "white",
            "linecolor": "white",
            "ticks": ""
           },
           "baxis": {
            "gridcolor": "white",
            "linecolor": "white",
            "ticks": ""
           },
           "bgcolor": "#E5ECF6",
           "caxis": {
            "gridcolor": "white",
            "linecolor": "white",
            "ticks": ""
           }
          },
          "title": {
           "x": 0.05
          },
          "xaxis": {
           "automargin": true,
           "gridcolor": "white",
           "linecolor": "white",
           "ticks": "",
           "title": {
            "standoff": 15
           },
           "zerolinecolor": "white",
           "zerolinewidth": 2
          },
          "yaxis": {
           "automargin": true,
           "gridcolor": "white",
           "linecolor": "white",
           "ticks": "",
           "title": {
            "standoff": 15
           },
           "zerolinecolor": "white",
           "zerolinewidth": 2
          }
         }
        },
        "title": {
         "font": {
          "color": "#4D5663",
          "size": 17
         },
         "text": "Distribution of Weekly CV",
         "x": 0.5
        },
        "width": 700,
        "xaxis": {
         "automargin": true,
         "gridcolor": "#E1E5ED",
         "linecolor": "#000000",
         "mirror": "ticks",
         "showline": true,
         "tickfont": {
          "size": 15
         },
         "title": {
          "font": {
           "color": "#666666",
           "size": 16
          },
          "text": "CV"
         },
         "zerolinecolor": "#000000",
         "zerolinewidth": 2
        },
        "yaxis": {
         "automargin": true,
         "gridcolor": "#E1E5ED",
         "linecolor": "#000000",
         "mirror": "ticks",
         "showline": true,
         "tickfont": {
          "size": 15
         },
         "title": {
          "font": {
           "color": "#666666",
           "size": 16
          },
          "text": "# regions"
         },
         "zerolinecolor": "#000000",
         "zerolinewidth": 2
        }
       }
      },
      "text/html": [
       "<div>\n",
       "        \n",
       "        \n",
       "            <div id=\"36ca6b7f-6e50-4165-9fb2-6ee6773306b3\" class=\"plotly-graph-div\" style=\"height:500px; width:700px;\"></div>\n",
       "            <script type=\"text/javascript\">\n",
       "                require([\"plotly\"], function(Plotly) {\n",
       "                    window.PLOTLYENV=window.PLOTLYENV || {};\n",
       "                    window.PLOTLYENV.BASE_URL='https://plot.ly';\n",
       "                    \n",
       "                if (document.getElementById(\"36ca6b7f-6e50-4165-9fb2-6ee6773306b3\")) {\n",
       "                    Plotly.newPlot(\n",
       "                        '36ca6b7f-6e50-4165-9fb2-6ee6773306b3',\n",
       "                        [{\"histfunc\": \"count\", \"histnorm\": \"\", \"marker\": {\"color\": \"rgba(255, 153, 51, 1.0)\", \"line\": {\"color\": \"#666666\", \"width\": 2}}, \"name\": \"city\", \"opacity\": 0.8, \"orientation\": \"v\", \"type\": \"histogram\", \"x\": [0.2858905222233324, 0.22510118436950916, 0.4169301953025549, 0.3709345916025836, 0.18923278080027145, 0.244930626992786, 0.235304139033558, 0.6774975611154525, 0.22096798554580474, null, null, null, null, null, null, null, null, null, null, null, null, null, null, null, null, null, null, null, null, null, null, null, null, null, null, null, null, null, 0.25993903858281525, 0.32032648582959355, 0.2459011047620025, 0.21789833888380455, 0.2095956890935539, 0.2335480327717783, 0.5812667167360133, 0.2078034360462011, 0.4428155590820333, 0.24051556660857526, 0.4601185111786109, null, null, null, null, null, null, null, null, null, null, null, null, null, null, null, null, null, null, null, null, null, null, null, null, null, 0.29579109826551864, 0.3111308342523457, 0.2502064088037572, 0.2736954307109535, 0.20961466972502488, 0.3707753352821059, 0.2218559323892664, 0.20838641046882725, 0.21896381138541535, 0.2180476988632588, 0.20918194747213925, 0.29748302024755396, 0.5093110602832025, 0.26970757518525823, 0.2803889276562378, 0.2624091921791272, 0.15495059666023855, null, null, 0.1809299192006453, 0.22980497780756334, 0.19954454504165453, 0.4897049795059035, 0.4639472737633041, 0.2388930675362972, 0.3638223602254846, 0.22223563471872007, 0.20216747631142426, 0.25027617454863643, 0.19724288190850295, 0.3573886863330825, 0.20961467269565415, 0.20396751933714047, 0.3961864216341421, 0.28759596978176816, 0.5524137314985547, 0.2303046903821204, 0.2949474533930781, 0.18769216005108413, 0.2125587371544555, 0.21219800824828725, 0.19300546296201712, 0.20723206370488265, 0.23523766761586945, 0.2014954753623732, 0.3112687768164055, 0.2436975054152345, 0.28831439995402464, 0.35315838211307765, 0.2394546467778669, 0.3575468208807489, 0.4116827862728698, 0.2773549978358809, 0.19917076487734828, 0.2298446356961427, 0.2656015605833746, 0.22395960784432276, 0.2479280408695712, 0.2360140289177365, 0.212832167069768, 0.3436163835363011, 0.25218330319264154, 0.5122827134615497, 0.21618008376814224, 0.4542269958408945, 0.4410429130991756, 0.20496160447805045]}, {\"histfunc\": \"count\", \"histnorm\": \"\", \"marker\": {\"color\": \"rgba(55, 128, 191, 1.0)\", \"line\": {\"color\": \"#666666\", \"width\": 2}}, \"name\": \"country\", \"opacity\": 0.8, \"orientation\": \"v\", \"type\": \"histogram\", \"x\": [null, null, null, null, null, null, null, null, null, null, null, null, null, null, null, null, null, null, null, null, null, null, null, null, null, null, null, null, null, null, null, null, null, null, null, null, null, null, null, null, null, null, null, null, null, null, null, null, null, 0.2236955552035937, 0.2609976054326644, 0.5098418751655216, 0.3076454063999359, 0.14916533084950026, 0.1913106207096777, 0.15731685871168113, 0.2085866140625696, 0.17726038444200906, 0.2655842352351394, 0.20056175605853305, 0.43420137163684697, 0.6464455735587956, 0.26486123590308946, 0.183131433518718, 0.2576985357129717, 0.23692876055613016, 0.17039879400674116, 0.40375961053711423, 0.16606182047466286, 0.34570571691687074, 0.3237263464389799, 0.2566211608853609, 0.293816728768831, 0.44797949182570185, null, null, null, null, null, null, null, null, null, null, null, null, null, null, null, null, null, null, null, null, null, null, null, null, null, null, null, null, null, null, null, null, null, null, null, null, null, null, null, null, null, null, null, null, null, null, null, null, null, null, null, null, null, null, null, null, null, null, null, null, null, null, null, null, null, null, null]}, {\"histfunc\": \"count\", \"histnorm\": \"\", \"marker\": {\"color\": \"rgba(50, 171, 96, 1.0)\", \"line\": {\"color\": \"#666666\", \"width\": 2}}, \"name\": \"state\", \"opacity\": 0.8, \"orientation\": \"v\", \"type\": \"histogram\", \"x\": [null, null, null, null, null, null, null, null, null, null, null, 0.34958579117521216, 0.1852987792107371, 0.30825695694590977, 0.19560868350528174, 0.25042953423016634, 0.2776241532738791, 0.2506200309923385, 0.18411171220025035, 0.2594784308499088, 0.3295381777417441, 0.3163742138419414, 0.2953086590705622, 0.2258525675517441, 0.31515304648226744, 0.213571657530338, 0.26733718867784023, 0.20912414862972448, 0.3743815336303252, 0.19048682567417055, 0.2318830012018617, 0.25222449171732514, 0.2980603071486284, 0.27297652860059923, 0.23552062436615226, 0.19734755282659275, 0.20206002778330964, 0.4337525353976512, null, null, null, null, null, null, null, null, null, null, null, null, null, null, null, null, null, null, null, null, null, null, null, null, null, null, null, null, null, null, null, null, null, null, null, null, null, null, null, null, null, null, null, null, null, null, null, null, null, null, null, null, null, null, null, null, null, null, null, null, null, null, null, null, null, null, null, null, null, null, null, null, null, null, null, null, null, null, null, null, null, null, null, null, null, null, null, null, null, null, null, null, null, null, null, null, null, null, null, null, null, null, null]}, {\"histfunc\": \"count\", \"histnorm\": \"\", \"marker\": {\"color\": \"rgba(128, 0, 128, 1.0)\", \"line\": {\"color\": \"#666666\", \"width\": 2}}, \"name\": \"submetro\", \"opacity\": 0.8, \"orientation\": \"v\", \"type\": \"histogram\", \"x\": [null, null, null, null, null, null, null, null, null, 0.24201630048067016, 0.21323732080200386, null, null, null, null, null, null, null, null, null, null, null, null, null, null, null, null, null, null, null, null, null, null, null, null, null, null, null, null, null, null, null, null, null, null, null, null, null, null, null, null, null, null, null, null, null, null, null, null, null, null, null, null, null, null, null, null, null, null, null, null, null, null, null, null, null, null, null, null, null, null, null, null, null, null, null, null, null, null, null, null, 0.1926646945426957, 0.14376211871883973, null, null, null, null, null, null, null, null, null, null, null, null, null, null, null, null, null, null, null, null, null, null, null, null, null, null, null, null, null, null, null, null, null, null, null, null, null, null, null, null, null, null, null, null, null, null, null, null]}],\n",
       "                        {\"barmode\": \"overlay\", \"height\": 500, \"legend\": {\"bgcolor\": \"#FFFFFF\", \"bordercolor\": \"#444444\", \"borderwidth\": 0, \"font\": {\"size\": 12}, \"itemclick\": \"toggle\", \"itemdoubleclick\": \"toggleothers\", \"itemsizing\": \"trace\", \"traceorder\": \"normal\"}, \"paper_bgcolor\": \"#FFFFFF\", \"plot_bgcolor\": \"#FFFFFF\", \"template\": {\"data\": {\"bar\": [{\"error_x\": {\"color\": \"#2a3f5f\"}, \"error_y\": {\"color\": \"#2a3f5f\"}, \"marker\": {\"line\": {\"color\": \"#E5ECF6\", \"width\": 0.5}}, \"type\": \"bar\"}], \"barpolar\": [{\"marker\": {\"line\": {\"color\": \"#E5ECF6\", \"width\": 0.5}}, \"type\": \"barpolar\"}], \"carpet\": [{\"aaxis\": {\"endlinecolor\": \"#2a3f5f\", \"gridcolor\": \"white\", \"linecolor\": \"white\", \"minorgridcolor\": \"white\", \"startlinecolor\": \"#2a3f5f\"}, \"baxis\": {\"endlinecolor\": \"#2a3f5f\", \"gridcolor\": \"white\", \"linecolor\": \"white\", \"minorgridcolor\": \"white\", \"startlinecolor\": \"#2a3f5f\"}, \"type\": \"carpet\"}], \"choropleth\": [{\"colorbar\": {\"outlinewidth\": 0, \"ticks\": \"\"}, \"type\": \"choropleth\"}], \"contour\": [{\"colorbar\": {\"outlinewidth\": 0, \"ticks\": \"\"}, \"colorscale\": [[0.0, \"#0d0887\"], [0.1111111111111111, \"#46039f\"], [0.2222222222222222, \"#7201a8\"], [0.3333333333333333, \"#9c179e\"], [0.4444444444444444, \"#bd3786\"], [0.5555555555555556, \"#d8576b\"], [0.6666666666666666, \"#ed7953\"], [0.7777777777777778, \"#fb9f3a\"], [0.8888888888888888, \"#fdca26\"], [1.0, \"#f0f921\"]], \"type\": \"contour\"}], \"contourcarpet\": [{\"colorbar\": {\"outlinewidth\": 0, \"ticks\": \"\"}, \"type\": \"contourcarpet\"}], \"heatmap\": [{\"colorbar\": {\"outlinewidth\": 0, \"ticks\": \"\"}, \"colorscale\": [[0.0, \"#0d0887\"], [0.1111111111111111, \"#46039f\"], [0.2222222222222222, \"#7201a8\"], [0.3333333333333333, \"#9c179e\"], [0.4444444444444444, \"#bd3786\"], [0.5555555555555556, \"#d8576b\"], [0.6666666666666666, \"#ed7953\"], [0.7777777777777778, \"#fb9f3a\"], [0.8888888888888888, \"#fdca26\"], [1.0, \"#f0f921\"]], \"type\": \"heatmap\"}], \"heatmapgl\": [{\"colorbar\": {\"outlinewidth\": 0, \"ticks\": \"\"}, \"colorscale\": [[0.0, \"#0d0887\"], [0.1111111111111111, \"#46039f\"], [0.2222222222222222, \"#7201a8\"], [0.3333333333333333, \"#9c179e\"], [0.4444444444444444, \"#bd3786\"], [0.5555555555555556, \"#d8576b\"], [0.6666666666666666, \"#ed7953\"], [0.7777777777777778, \"#fb9f3a\"], [0.8888888888888888, \"#fdca26\"], [1.0, \"#f0f921\"]], \"type\": \"heatmapgl\"}], \"histogram\": [{\"marker\": {\"colorbar\": {\"outlinewidth\": 0, \"ticks\": \"\"}}, \"type\": \"histogram\"}], \"histogram2d\": [{\"colorbar\": {\"outlinewidth\": 0, \"ticks\": \"\"}, \"colorscale\": [[0.0, \"#0d0887\"], [0.1111111111111111, \"#46039f\"], [0.2222222222222222, \"#7201a8\"], [0.3333333333333333, \"#9c179e\"], [0.4444444444444444, \"#bd3786\"], [0.5555555555555556, \"#d8576b\"], [0.6666666666666666, \"#ed7953\"], [0.7777777777777778, \"#fb9f3a\"], [0.8888888888888888, \"#fdca26\"], [1.0, \"#f0f921\"]], \"type\": \"histogram2d\"}], \"histogram2dcontour\": [{\"colorbar\": {\"outlinewidth\": 0, \"ticks\": \"\"}, \"colorscale\": [[0.0, \"#0d0887\"], [0.1111111111111111, \"#46039f\"], [0.2222222222222222, \"#7201a8\"], [0.3333333333333333, \"#9c179e\"], [0.4444444444444444, \"#bd3786\"], [0.5555555555555556, \"#d8576b\"], [0.6666666666666666, \"#ed7953\"], [0.7777777777777778, \"#fb9f3a\"], [0.8888888888888888, \"#fdca26\"], [1.0, \"#f0f921\"]], \"type\": \"histogram2dcontour\"}], \"mesh3d\": [{\"colorbar\": {\"outlinewidth\": 0, \"ticks\": \"\"}, \"type\": \"mesh3d\"}], \"parcoords\": [{\"line\": {\"colorbar\": {\"outlinewidth\": 0, \"ticks\": \"\"}}, \"type\": \"parcoords\"}], \"pie\": [{\"automargin\": true, \"type\": \"pie\"}], \"scatter\": [{\"marker\": {\"colorbar\": {\"outlinewidth\": 0, \"ticks\": \"\"}}, \"type\": \"scatter\"}], \"scatter3d\": [{\"line\": {\"colorbar\": {\"outlinewidth\": 0, \"ticks\": \"\"}}, \"marker\": {\"colorbar\": {\"outlinewidth\": 0, \"ticks\": \"\"}}, \"type\": \"scatter3d\"}], \"scattercarpet\": [{\"marker\": {\"colorbar\": {\"outlinewidth\": 0, \"ticks\": \"\"}}, \"type\": \"scattercarpet\"}], \"scattergeo\": [{\"marker\": {\"colorbar\": {\"outlinewidth\": 0, \"ticks\": \"\"}}, \"type\": \"scattergeo\"}], \"scattergl\": [{\"marker\": {\"colorbar\": {\"outlinewidth\": 0, \"ticks\": \"\"}}, \"type\": \"scattergl\"}], \"scattermapbox\": [{\"marker\": {\"colorbar\": {\"outlinewidth\": 0, \"ticks\": \"\"}}, \"type\": \"scattermapbox\"}], \"scatterpolar\": [{\"marker\": {\"colorbar\": {\"outlinewidth\": 0, \"ticks\": \"\"}}, \"type\": \"scatterpolar\"}], \"scatterpolargl\": [{\"marker\": {\"colorbar\": {\"outlinewidth\": 0, \"ticks\": \"\"}}, \"type\": \"scatterpolargl\"}], \"scatterternary\": [{\"marker\": {\"colorbar\": {\"outlinewidth\": 0, \"ticks\": \"\"}}, \"type\": \"scatterternary\"}], \"surface\": [{\"colorbar\": {\"outlinewidth\": 0, \"ticks\": \"\"}, \"colorscale\": [[0.0, \"#0d0887\"], [0.1111111111111111, \"#46039f\"], [0.2222222222222222, \"#7201a8\"], [0.3333333333333333, \"#9c179e\"], [0.4444444444444444, \"#bd3786\"], [0.5555555555555556, \"#d8576b\"], [0.6666666666666666, \"#ed7953\"], [0.7777777777777778, \"#fb9f3a\"], [0.8888888888888888, \"#fdca26\"], [1.0, \"#f0f921\"]], \"type\": \"surface\"}], \"table\": [{\"cells\": {\"fill\": {\"color\": \"#EBF0F8\"}, \"line\": {\"color\": \"white\"}}, \"header\": {\"fill\": {\"color\": \"#C8D4E3\"}, \"line\": {\"color\": \"white\"}}, \"type\": \"table\"}]}, \"layout\": {\"annotationdefaults\": {\"arrowcolor\": \"#2a3f5f\", \"arrowhead\": 0, \"arrowwidth\": 1}, \"coloraxis\": {\"colorbar\": {\"outlinewidth\": 0, \"ticks\": \"\"}}, \"colorscale\": {\"diverging\": [[0, \"#8e0152\"], [0.1, \"#c51b7d\"], [0.2, \"#de77ae\"], [0.3, \"#f1b6da\"], [0.4, \"#fde0ef\"], [0.5, \"#f7f7f7\"], [0.6, \"#e6f5d0\"], [0.7, \"#b8e186\"], [0.8, \"#7fbc41\"], [0.9, \"#4d9221\"], [1, \"#276419\"]], \"sequential\": [[0.0, \"#0d0887\"], [0.1111111111111111, \"#46039f\"], [0.2222222222222222, \"#7201a8\"], [0.3333333333333333, \"#9c179e\"], [0.4444444444444444, \"#bd3786\"], [0.5555555555555556, \"#d8576b\"], [0.6666666666666666, \"#ed7953\"], [0.7777777777777778, \"#fb9f3a\"], [0.8888888888888888, \"#fdca26\"], [1.0, \"#f0f921\"]], \"sequentialminus\": [[0.0, \"#0d0887\"], [0.1111111111111111, \"#46039f\"], [0.2222222222222222, \"#7201a8\"], [0.3333333333333333, \"#9c179e\"], [0.4444444444444444, \"#bd3786\"], [0.5555555555555556, \"#d8576b\"], [0.6666666666666666, \"#ed7953\"], [0.7777777777777778, \"#fb9f3a\"], [0.8888888888888888, \"#fdca26\"], [1.0, \"#f0f921\"]]}, \"colorway\": [\"#636efa\", \"#EF553B\", \"#00cc96\", \"#ab63fa\", \"#FFA15A\", \"#19d3f3\", \"#FF6692\", \"#B6E880\", \"#FF97FF\", \"#FECB52\"], \"font\": {\"color\": \"#2a3f5f\"}, \"geo\": {\"bgcolor\": \"white\", \"lakecolor\": \"white\", \"landcolor\": \"#E5ECF6\", \"showlakes\": true, \"showland\": true, \"subunitcolor\": \"white\"}, \"hoverlabel\": {\"align\": \"left\"}, \"hovermode\": \"closest\", \"mapbox\": {\"style\": \"light\"}, \"paper_bgcolor\": \"white\", \"plot_bgcolor\": \"#E5ECF6\", \"polar\": {\"angularaxis\": {\"gridcolor\": \"white\", \"linecolor\": \"white\", \"ticks\": \"\"}, \"bgcolor\": \"#E5ECF6\", \"radialaxis\": {\"gridcolor\": \"white\", \"linecolor\": \"white\", \"ticks\": \"\"}}, \"scene\": {\"xaxis\": {\"backgroundcolor\": \"#E5ECF6\", \"gridcolor\": \"white\", \"gridwidth\": 2, \"linecolor\": \"white\", \"showbackground\": true, \"ticks\": \"\", \"zerolinecolor\": \"white\"}, \"yaxis\": {\"backgroundcolor\": \"#E5ECF6\", \"gridcolor\": \"white\", \"gridwidth\": 2, \"linecolor\": \"white\", \"showbackground\": true, \"ticks\": \"\", \"zerolinecolor\": \"white\"}, \"zaxis\": {\"backgroundcolor\": \"#E5ECF6\", \"gridcolor\": \"white\", \"gridwidth\": 2, \"linecolor\": \"white\", \"showbackground\": true, \"ticks\": \"\", \"zerolinecolor\": \"white\"}}, \"shapedefaults\": {\"line\": {\"color\": \"#2a3f5f\"}}, \"ternary\": {\"aaxis\": {\"gridcolor\": \"white\", \"linecolor\": \"white\", \"ticks\": \"\"}, \"baxis\": {\"gridcolor\": \"white\", \"linecolor\": \"white\", \"ticks\": \"\"}, \"bgcolor\": \"#E5ECF6\", \"caxis\": {\"gridcolor\": \"white\", \"linecolor\": \"white\", \"ticks\": \"\"}}, \"title\": {\"x\": 0.05}, \"xaxis\": {\"automargin\": true, \"gridcolor\": \"white\", \"linecolor\": \"white\", \"ticks\": \"\", \"title\": {\"standoff\": 15}, \"zerolinecolor\": \"white\", \"zerolinewidth\": 2}, \"yaxis\": {\"automargin\": true, \"gridcolor\": \"white\", \"linecolor\": \"white\", \"ticks\": \"\", \"title\": {\"standoff\": 15}, \"zerolinecolor\": \"white\", \"zerolinewidth\": 2}}}, \"title\": {\"font\": {\"color\": \"#4D5663\", \"size\": 17}, \"text\": \"Distribution of Weekly CV\", \"x\": 0.5}, \"width\": 700, \"xaxis\": {\"automargin\": true, \"gridcolor\": \"#E1E5ED\", \"linecolor\": \"#000000\", \"mirror\": \"ticks\", \"showline\": true, \"tickfont\": {\"size\": 15}, \"title\": {\"font\": {\"color\": \"#666666\", \"size\": 16}, \"text\": \"CV\"}, \"zerolinecolor\": \"#000000\", \"zerolinewidth\": 2}, \"yaxis\": {\"automargin\": true, \"gridcolor\": \"#E1E5ED\", \"linecolor\": \"#000000\", \"mirror\": \"ticks\", \"showline\": true, \"tickfont\": {\"size\": 15}, \"title\": {\"font\": {\"color\": \"#666666\", \"size\": 16}, \"text\": \"# regions\"}, \"zerolinecolor\": \"#000000\", \"zerolinewidth\": 2}},\n",
       "                        {\"showLink\": true, \"linkText\": \"Export to plot.ly\", \"plotlyServerURL\": \"https://plot.ly\", \"responsive\": true}\n",
       "                    ).then(function(){\n",
       "                            \n",
       "var gd = document.getElementById('36ca6b7f-6e50-4165-9fb2-6ee6773306b3');\n",
       "var x = new MutationObserver(function (mutations, observer) {{\n",
       "        var display = window.getComputedStyle(gd).display;\n",
       "        if (!display || display === 'none') {{\n",
       "            console.log([gd, 'removed!']);\n",
       "            Plotly.purge(gd);\n",
       "            observer.disconnect();\n",
       "        }}\n",
       "}});\n",
       "\n",
       "// Listen for the removal of the full notebook cells\n",
       "var notebookContainer = gd.closest('#notebook-container');\n",
       "if (notebookContainer) {{\n",
       "    x.observe(notebookContainer, {childList: true});\n",
       "}}\n",
       "\n",
       "// Listen for the clearing of the current output cell\n",
       "var outputEl = gd.closest('.output');\n",
       "if (outputEl) {{\n",
       "    x.observe(outputEl, {childList: true});\n",
       "}}\n",
       "\n",
       "                        })\n",
       "                };\n",
       "                });\n",
       "            </script>\n",
       "        </div>"
      ]
     },
     "metadata": {},
     "output_type": "display_data"
    }
   ],
   "source": [
    "df.query('weekly_coef_var < 1').pivot_table(columns='region_type', values='weekly_coef_var', index='region_slug').iplot(\n",
    "    kind='hist', theme='custom',\n",
    "    title='Distribution of Weekly CV',\n",
    "    xTitle='CV', yTitle='# regions',\n",
    ")"
   ]
  },
  {
   "cell_type": "code",
   "execution_count": 59,
   "metadata": {},
   "outputs": [
    {
     "data": {
      "application/vnd.plotly.v1+json": {
       "config": {
        "plotlyServerURL": "https://plot.ly"
       },
       "data": [
        {
         "hoverlabel": {
          "namelength": 0
         },
         "hovertemplate": "<b>%{hovertext}</b><br><br>region_type=city<br>weekly_coef_var=%{x}<br>daily_coef_var=%{y}",
         "hovertext": [
          "bogota",
          "managua",
          "kingston",
          "natal",
          "mendoza",
          "curitiba",
          "toluca",
          "barranquilla",
          "buenosaires",
          "paramaribo",
          "santodomingo",
          "saojosedoscampos",
          "panamacity",
          "sanfernado",
          "santiago",
          "fortaleza",
          "salvador",
          "manaus",
          "saopaulo",
          "teresina",
          "tegucigalpa",
          "georgetown",
          "ciudad_guayana",
          "montevideo",
          "merida",
          "porto_alergre",
          "arequipa",
          "tijuana",
          "saoluis",
          "cochabamba",
          "sorocaba",
          "joaopessoa",
          "mexicocity",
          "brasilia",
          "guadalajara",
          "lapaz",
          "nassau",
          "pereira",
          "asuncion",
          "santacruzdelasierra",
          "santiagocaballeros",
          "recife",
          "monterrey",
          "goiania",
          "guayaquil",
          "caracas",
          "guatemala",
          "cartagena",
          "belem",
          "pueble",
          "bridgetown",
          "riodejaneiro",
          "cucuta",
          "rosario",
          "quito",
          "campinas",
          "sanpedrosula",
          "maceio",
          "aguascalientes",
          "leon",
          "queretaro",
          "portauprince",
          "maracaibo",
          "cuenca",
          "barcelona",
          "medellin",
          "bucaramanga",
          "cordoba",
          "santos",
          "sanjose",
          "portofspain",
          "juarez",
          "sanluispotosi",
          "sansalvador",
          "santamarta",
          "valencia",
          "belohorizonte",
          "joinville",
          "vitoria",
          "maracay",
          "lima",
          "cali",
          "florianopolis",
          "torreon"
         ],
         "legendgroup": "region_type=city",
         "marker": {
          "color": "#636efa",
          "symbol": "circle"
         },
         "mode": "markers",
         "name": "region_type=city",
         "showlegend": true,
         "type": "scatter",
         "x": [
          0.22096798554580474,
          0.22980497780756334,
          0.26970757518525823,
          0.20961467269565415,
          0.3638223602254846,
          0.2502064088037572,
          0.21618008376814224,
          0.18923278080027145,
          0.21789833888380455,
          0.3961864216341421,
          0.2298446356961427,
          0.22395960784432276,
          0.20396751933714047,
          0.3112687768164055,
          0.2773549978358809,
          0.20961466972502488,
          0.2014954753623732,
          0.19954454504165453,
          0.2360140289177365,
          0.25218330319264154,
          0.3436163835363011,
          0.3707753352821059,
          0.4428155590820333,
          0.19724288190850295,
          0.22223563471872007,
          0.2303046903821204,
          0.22510118436950916,
          0.5122827134615497,
          0.2479280408695712,
          0.24051556660857526,
          0.212832167069768,
          0.20918194747213925,
          0.20216747631142426,
          0.25993903858281525,
          0.20838641046882725,
          0.2803889276562378,
          0.3573886863330825,
          0.28759596978176816,
          0.4169301953025549,
          0.3575468208807489,
          0.19917076487734828,
          0.19300546296201712,
          0.25027617454863643,
          0.2218559323892664,
          0.2180476988632588,
          0.5812667167360133,
          0.21896381138541535,
          0.2078034360462011,
          0.244930626992786,
          0.18769216005108413,
          0.32032648582959355,
          0.20723206370488265,
          0.29579109826551864,
          0.23523766761586945,
          0.21219800824828725,
          0.2335480327717783,
          0.35315838211307765,
          0.1809299192006453,
          0.2858905222233324,
          0.2624091921791272,
          0.2125587371544555,
          0.5524137314985547,
          0.4897049795059035,
          0.3111308342523457,
          0.3709345916025836,
          0.2388930675362972,
          0.2459011047620025,
          0.4601185111786109,
          0.2656015605833746,
          0.2436975054152345,
          0.2949474533930781,
          0.5093110602832025,
          0.28831439995402464,
          0.2394546467778669,
          0.4116827862728698,
          0.4410429130991756,
          0.235304139033558,
          0.29748302024755396,
          0.20496160447805045,
          0.4639472737633041,
          0.15495059666023855,
          0.2095956890935539,
          0.2736954307109535,
          0.4542269958408945
         ],
         "xaxis": "x",
         "y": [
          0.286687662643728,
          0.3629514173828339,
          0.4913199438629126,
          0.3218078349339457,
          0.5064936515589152,
          0.4186142215253612,
          0.3057780385086514,
          0.3163910324449694,
          0.3260660410011728,
          0.5819431106660168,
          0.3562465186615954,
          0.3851238441317576,
          0.4293121020093684,
          0.5842253311109938,
          0.4599735641538645,
          0.3218078552150265,
          0.4023471521516148,
          0.36492219865273307,
          0.38178256776564856,
          0.35529926125508643,
          0.4686928338648748,
          0.6622589958240079,
          0.9066220072286058,
          0.2610481192533073,
          0.32496415626767394,
          0.3978839761328267,
          0.3293463788343317,
          0.537685041140292,
          0.3600816246476056,
          0.3901488336454791,
          0.37320057041447896,
          0.3655957268206133,
          0.2902237749522706,
          0.4273620854617822,
          0.2789510545475381,
          0.377591115337318,
          0.5993929668036775,
          0.3632141233098592,
          0.5024926494510125,
          0.3835259014471612,
          0.345393403270178,
          0.3334482519623064,
          0.38381424639318334,
          0.38130140623440745,
          0.3696814397926295,
          0.7585159205269386,
          0.3335739853631477,
          0.2780462537994965,
          0.3373353933393028,
          0.2542411161495161,
          0.6461886109826176,
          0.3491878604154344,
          0.3687136406207601,
          0.34350378923962294,
          0.3347288418028682,
          0.40524945878448937,
          0.5099230688810314,
          0.3557268854932578,
          0.3471476256721193,
          0.36042032822319375,
          0.3112002843246247,
          0.6332340212421065,
          0.8193474859061922,
          0.42672931063487374,
          0.6327443923284488,
          0.35203764596985515,
          0.3485025391703524,
          0.6082979716525952,
          0.3547067910132126,
          0.3625308614440186,
          0.5838682256868514,
          0.5369215735760726,
          0.3980516132737778,
          0.40309466693187546,
          0.47455358827483296,
          0.7708302668025113,
          0.3701770949326142,
          0.5238835892328816,
          0.3782760731958649,
          0.7313373114292863,
          0.24784106107936546,
          0.32744906787280204,
          0.5351597012964407,
          0.5089592897685637
         ],
         "yaxis": "y"
        },
        {
         "hoverlabel": {
          "namelength": 0
         },
         "hovertemplate": "<b>OLS trendline</b><br>daily_coef_var = 1.177411 * weekly_coef_var + 0.096125<br>R<sup>2</sup>=0.691302<br><br>region_type=city<br>weekly_coef_var=%{x}<br>daily_coef_var=%{y} <b>(trend)</b>",
         "legendgroup": "region_type=city",
         "marker": {
          "color": "#636efa",
          "symbol": "circle"
         },
         "mode": "lines",
         "name": "region_type=city",
         "showlegend": false,
         "type": "scatter",
         "x": [
          0.15495059666023855,
          0.1809299192006453,
          0.18769216005108413,
          0.18923278080027145,
          0.19300546296201712,
          0.19724288190850295,
          0.19917076487734828,
          0.19954454504165453,
          0.2014954753623732,
          0.20216747631142426,
          0.20396751933714047,
          0.20496160447805045,
          0.20723206370488265,
          0.2078034360462011,
          0.20838641046882725,
          0.20918194747213925,
          0.2095956890935539,
          0.20961466972502488,
          0.20961467269565415,
          0.21219800824828725,
          0.2125587371544555,
          0.212832167069768,
          0.21618008376814224,
          0.21789833888380455,
          0.2180476988632588,
          0.21896381138541535,
          0.22096798554580474,
          0.2218559323892664,
          0.22223563471872007,
          0.22395960784432276,
          0.22510118436950916,
          0.22980497780756334,
          0.2298446356961427,
          0.2303046903821204,
          0.2335480327717783,
          0.23523766761586945,
          0.235304139033558,
          0.2360140289177365,
          0.2388930675362972,
          0.2394546467778669,
          0.24051556660857526,
          0.2436975054152345,
          0.244930626992786,
          0.2459011047620025,
          0.2479280408695712,
          0.2502064088037572,
          0.25027617454863643,
          0.25218330319264154,
          0.25993903858281525,
          0.2624091921791272,
          0.2656015605833746,
          0.26970757518525823,
          0.2736954307109535,
          0.2773549978358809,
          0.2803889276562378,
          0.2858905222233324,
          0.28759596978176816,
          0.28831439995402464,
          0.2949474533930781,
          0.29579109826551864,
          0.29748302024755396,
          0.3111308342523457,
          0.3112687768164055,
          0.32032648582959355,
          0.3436163835363011,
          0.35315838211307765,
          0.3573886863330825,
          0.3575468208807489,
          0.3638223602254846,
          0.3707753352821059,
          0.3709345916025836,
          0.3961864216341421,
          0.4116827862728698,
          0.4169301953025549,
          0.4410429130991756,
          0.4428155590820333,
          0.4542269958408945,
          0.4601185111786109,
          0.4639472737633041,
          0.4897049795059035,
          0.5093110602832025,
          0.5122827134615497,
          0.5524137314985547,
          0.5812667167360133
         ],
         "xaxis": "x",
         "y": [
          0.2785659975237659,
          0.3091543335884631,
          0.3171162692918261,
          0.31893021286757145,
          0.32337220975372116,
          0.32836139276957643,
          0.3306313030820077,
          0.33107139590053036,
          0.3333684424149702,
          0.3341596636191952,
          0.33627905379635953,
          0.33744950042058475,
          0.34012276373388006,
          0.34079550372419887,
          0.34148190413085594,
          0.3424185780249254,
          0.3429057218963678,
          0.3429280698976773,
          0.3429280733953285,
          0.34596972068728227,
          0.3463944468129525,
          0.34671638616016653,
          0.35065825958381736,
          0.35268135178882065,
          0.35285720984820834,
          0.3539358506656206,
          0.35629558705423603,
          0.3573410652961396,
          0.3577881309361236,
          0.35981795558803376,
          0.36116206016742225,
          0.3667003575667611,
          0.3667470511948029,
          0.36728872457065553,
          0.3711074710692769,
          0.3730968654561897,
          0.3731751296241561,
          0.3740109616714471,
          0.3774007729596669,
          0.3780619824481505,
          0.3793111209608633,
          0.38305757021503506,
          0.3845094609317429,
          0.3856521119805506,
          0.38803864853259307,
          0.39072122364368456,
          0.390803366588207,
          0.39304884053352285,
          0.4021805274808833,
          0.40508891311018114,
          0.40884764228564596,
          0.4136821084012895,
          0.4183774527393762,
          0.4226862667546183,
          0.4262584486233888,
          0.4327360857229806,
          0.4347440981712273,
          0.43558998564630746,
          0.44339981469066747,
          0.4443931313115044,
          0.44638521859943314,
          0.4624543027981358,
          0.46261671786883396,
          0.47328136267782417,
          0.500703140780666,
          0.5119379933731977,
          0.516918799432946,
          0.5171049887640934,
          0.5244938768371155,
          0.5326803850630555,
          0.5328678951816748,
          0.5625996736779216,
          0.5808452614376967,
          0.5870236177292931,
          0.6154141931282116,
          0.6175013257300357,
          0.6309372751093231,
          0.6378740091523335,
          0.6423820357365672,
          0.6727094377804342,
          0.6957938498852864,
          0.6992927065604607,
          0.74654340235613,
          0.7805152200407691
         ],
         "yaxis": "y"
        },
        {
         "hoverlabel": {
          "namelength": 0
         },
         "hovertemplate": "<b>%{hovertext}</b><br><br>region_type=country<br>weekly_coef_var=%{x}<br>daily_coef_var=%{y}",
         "hovertext": [
          "country_guyana",
          "country_ecuador",
          "country_nicaragua",
          "country_venezuela",
          "country_barbados",
          "country_costa_rica",
          "country_haiti",
          "country_uruguay",
          "country_bolivia",
          "country_guatemala",
          "country_peru",
          "country_colombia",
          "country_chile",
          "country_argentina",
          "country_paraguay",
          "country_honduras",
          "country_el_salvador",
          "country_trinidad_and_tobago",
          "country_jamaica",
          "country_panama",
          "country_the_bahamas",
          "country_suriname",
          "country_belize",
          "country_mexico",
          "country_dominican_republic"
         ],
         "legendgroup": "region_type=country",
         "marker": {
          "color": "#EF553B",
          "symbol": "circle"
         },
         "mode": "markers",
         "name": "region_type=country",
         "showlegend": true,
         "type": "scatter",
         "x": [
          0.43420137163684697,
          0.17726038444200906,
          0.23692876055613016,
          0.44797949182570185,
          0.2609976054326644,
          0.15731685871168113,
          0.6464455735587956,
          0.293816728768831,
          0.3076454063999359,
          0.20056175605853305,
          0.16606182047466286,
          0.1913106207096777,
          0.14916533084950026,
          0.2236955552035937,
          0.40375961053711423,
          0.26486123590308946,
          0.2655842352351394,
          0.2566211608853609,
          0.183131433518718,
          0.17039879400674116,
          0.3237263464389799,
          0.34570571691687074,
          0.5098418751655216,
          0.2576985357129717,
          0.2085866140625696
         ],
         "xaxis": "x",
         "y": [
          0.8408325580616669,
          0.24641806677734066,
          0.2720620028090954,
          0.6037744080533433,
          0.4334737156391757,
          0.21852737281934345,
          0.8397854133052594,
          0.36451897112327225,
          0.32478331853071696,
          0.2570009170262702,
          0.19768579932496216,
          0.2289632940046689,
          0.23369150608189435,
          0.2912960017701939,
          0.4502005869871279,
          0.3139711127545384,
          0.3276504000971684,
          0.4486804310597353,
          0.24874123108136825,
          0.26871986528755604,
          0.4468837917815035,
          0.4675533198608427,
          0.6636937815775654,
          0.279870068750045,
          0.2954177233140175
         ],
         "yaxis": "y"
        },
        {
         "hoverlabel": {
          "namelength": 0
         },
         "hovertemplate": "<b>OLS trendline</b><br>daily_coef_var = 1.361393 * weekly_coef_var + -0.003159<br>R<sup>2</sup>=0.853145<br><br>region_type=country<br>weekly_coef_var=%{x}<br>daily_coef_var=%{y} <b>(trend)</b>",
         "legendgroup": "region_type=country",
         "marker": {
          "color": "#EF553B",
          "symbol": "circle"
         },
         "mode": "lines",
         "name": "region_type=country",
         "showlegend": false,
         "type": "scatter",
         "x": [
          0.14916533084950026,
          0.15731685871168113,
          0.16606182047466286,
          0.17039879400674116,
          0.17726038444200906,
          0.183131433518718,
          0.1913106207096777,
          0.20056175605853305,
          0.2085866140625696,
          0.2236955552035937,
          0.23692876055613016,
          0.2566211608853609,
          0.2576985357129717,
          0.2609976054326644,
          0.26486123590308946,
          0.2655842352351394,
          0.293816728768831,
          0.3076454063999359,
          0.3237263464389799,
          0.34570571691687074,
          0.40375961053711423,
          0.43420137163684697,
          0.44797949182570185,
          0.5098418751655216,
          0.6464455735587956
         ],
         "xaxis": "x",
         "y": [
          0.1999140440830131,
          0.21101148095982827,
          0.22291681487950993,
          0.228821142365398,
          0.23816246684068135,
          0.24615527476957802,
          0.25729036687623075,
          0.269884802215047,
          0.2808097915729776,
          0.30137900551947466,
          0.319394604994886,
          0.34620371039223236,
          0.34767044145715953,
          0.3521617734608641,
          0.3574216947892088,
          0.3584059813653032,
          0.39684151396267475,
          0.41566778551515327,
          0.4375602724231715,
          0.46748284406795165,
          0.5465170362827633,
          0.5879602513382767,
          0.6067176943185528,
          0.6909367396030672,
          0.8769081238256659
         ],
         "yaxis": "y"
        },
        {
         "hoverlabel": {
          "namelength": 0
         },
         "hovertemplate": "<b>%{hovertext}</b><br><br>region_type=state<br>weekly_coef_var=%{x}<br>daily_coef_var=%{y}",
         "hovertext": [
          "br_states_paraiba",
          "br_states_sao_paulo",
          "br_states_amapa",
          "br_states_tocantins",
          "br_states_sergipe",
          "br_states_espirito_santo",
          "br_states_alagoas",
          "br_states_goias",
          "br_states_para",
          "br_states_roraima",
          "br_states_amazonas",
          "br_states_santa_catarina",
          "br_states_rondonia",
          "br_states_rio_grande_do_sul",
          "br_states_ceara",
          "br_states_mato_grosso_do_sul",
          "br_states_bahia",
          "br_states_maranhao",
          "br_states_acre",
          "br_states_minas_gerais",
          "br_states_rio_de_janeiro",
          "br_states_pernambuco",
          "br_states_piaui",
          "br_states_mato_grosso",
          "br_states_rio_grande_do_norte",
          "br_states_parana",
          "br_states_distrito_federal"
         ],
         "legendgroup": "region_type=state",
         "marker": {
          "color": "#00cc96",
          "symbol": "circle"
         },
         "mode": "markers",
         "name": "region_type=state",
         "showlegend": true,
         "type": "scatter",
         "x": [
          0.213571657530338,
          0.19734755282659275,
          0.30825695694590977,
          0.4337525353976512,
          0.20206002778330964,
          0.18411171220025035,
          0.1852987792107371,
          0.2594784308499088,
          0.31515304648226744,
          0.27297652860059923,
          0.19560868350528174,
          0.23552062436615226,
          0.2980603071486284,
          0.25222449171732514,
          0.2776241532738791,
          0.2953086590705622,
          0.25042953423016634,
          0.3295381777417441,
          0.34958579117521216,
          0.2258525675517441,
          0.19048682567417055,
          0.20912414862972448,
          0.3743815336303252,
          0.3163742138419414,
          0.2318830012018617,
          0.26733718867784023,
          0.2506200309923385
         ],
         "xaxis": "x",
         "y": [
          0.2596467853169876,
          0.2853556982855925,
          0.3689282415418469,
          0.44578869163924295,
          0.2324383651526673,
          0.2983339227721357,
          0.2631354363427174,
          0.2776074275479336,
          0.3501118346683844,
          0.35242730719822885,
          0.3427045803597393,
          0.3191762376958843,
          0.33653619016486264,
          0.3231918056443795,
          0.30203396659725584,
          0.3332254857215594,
          0.2722376795527333,
          0.3558850086262803,
          0.4047245233571951,
          0.2523440402803457,
          0.29971699371031885,
          0.2607934022173383,
          0.3959760012503454,
          0.3481698076642023,
          0.2955963379326049,
          0.3445840638489446,
          0.3535119332487892
         ],
         "yaxis": "y"
        },
        {
         "hoverlabel": {
          "namelength": 0
         },
         "hovertemplate": "<b>OLS trendline</b><br>daily_coef_var = 0.677424 * weekly_coef_var + 0.142577<br>R<sup>2</sup>=0.697265<br><br>region_type=state<br>weekly_coef_var=%{x}<br>daily_coef_var=%{y} <b>(trend)</b>",
         "legendgroup": "region_type=state",
         "marker": {
          "color": "#00cc96",
          "symbol": "circle"
         },
         "mode": "lines",
         "name": "region_type=state",
         "showlegend": false,
         "type": "scatter",
         "x": [
          0.18411171220025035,
          0.1852987792107371,
          0.19048682567417055,
          0.19560868350528174,
          0.19734755282659275,
          0.20206002778330964,
          0.20912414862972448,
          0.213571657530338,
          0.2258525675517441,
          0.2318830012018617,
          0.23552062436615226,
          0.25042953423016634,
          0.2506200309923385,
          0.25222449171732514,
          0.2594784308499088,
          0.26733718867784023,
          0.27297652860059923,
          0.2776241532738791,
          0.2953086590705622,
          0.2980603071486284,
          0.30825695694590977,
          0.31515304648226744,
          0.3163742138419414,
          0.3295381777417441,
          0.34958579117521216,
          0.3743815336303252,
          0.4337525353976512
         ],
         "xaxis": "x",
         "y": [
          0.2672991348483883,
          0.2681032821688957,
          0.2716177877742087,
          0.27508745563164416,
          0.27626540691248325,
          0.27945774911045923,
          0.28424315195646666,
          0.28725599986965616,
          0.2955753793148457,
          0.299660537960819,
          0.3021247500859461,
          0.3122243988950871,
          0.3123534459156114,
          0.313440345628483,
          0.3183543358792936,
          0.32367804464553773,
          0.3274982671336157,
          0.33064667821296123,
          0.34262658147475666,
          0.3444906130832578,
          0.35139806526598993,
          0.35606963972105554,
          0.3568968874261116,
          0.3658144684925264,
          0.37939519686141665,
          0.3961924203366899,
          0.4364117437323064
         ],
         "yaxis": "y"
        },
        {
         "hoverlabel": {
          "namelength": 0
         },
         "hovertemplate": "<b>%{hovertext}</b><br><br>region_type=submetro<br>weekly_coef_var=%{x}<br>daily_coef_var=%{y}",
         "hovertext": [
          "lima_metro1",
          "bogota_metro1",
          "lima_metro2",
          "bogota_metro2"
         ],
         "legendgroup": "region_type=submetro",
         "marker": {
          "color": "#ab63fa",
          "symbol": "circle"
         },
         "mode": "markers",
         "name": "region_type=submetro",
         "showlegend": true,
         "type": "scatter",
         "x": [
          0.1926646945426957,
          0.24201630048067016,
          0.14376211871883973,
          0.21323732080200386
         ],
         "xaxis": "x",
         "y": [
          0.3631105754913515,
          0.34849264712983274,
          0.19449973753520394,
          0.2613597399371207
         ],
         "yaxis": "y"
        },
        {
         "hoverlabel": {
          "namelength": 0
         },
         "hovertemplate": "<b>OLS trendline</b><br>daily_coef_var = 1.348008 * weekly_coef_var + 0.025068<br>R<sup>2</sup>=0.499629<br><br>region_type=submetro<br>weekly_coef_var=%{x}<br>daily_coef_var=%{y} <b>(trend)</b>",
         "legendgroup": "region_type=submetro",
         "marker": {
          "color": "#ab63fa",
          "symbol": "circle"
         },
         "mode": "lines",
         "name": "region_type=submetro",
         "showlegend": false,
         "type": "scatter",
         "x": [
          0.14376211871883973,
          0.1926646945426957,
          0.21323732080200386,
          0.24201630048067016
         ],
         "xaxis": "x",
         "y": [
          0.21886026474163853,
          0.2847813341408512,
          0.3125134014300827,
          0.351307699780936
         ],
         "yaxis": "y"
        }
       ],
       "layout": {
        "height": 600,
        "legend": {
         "tracegroupgap": 0
        },
        "margin": {
         "t": 60
        },
        "template": {
         "data": {
          "bar": [
           {
            "error_x": {
             "color": "#2a3f5f"
            },
            "error_y": {
             "color": "#2a3f5f"
            },
            "marker": {
             "line": {
              "color": "white",
              "width": 0.5
             }
            },
            "type": "bar"
           }
          ],
          "barpolar": [
           {
            "marker": {
             "line": {
              "color": "white",
              "width": 0.5
             }
            },
            "type": "barpolar"
           }
          ],
          "carpet": [
           {
            "aaxis": {
             "endlinecolor": "#2a3f5f",
             "gridcolor": "#C8D4E3",
             "linecolor": "#C8D4E3",
             "minorgridcolor": "#C8D4E3",
             "startlinecolor": "#2a3f5f"
            },
            "baxis": {
             "endlinecolor": "#2a3f5f",
             "gridcolor": "#C8D4E3",
             "linecolor": "#C8D4E3",
             "minorgridcolor": "#C8D4E3",
             "startlinecolor": "#2a3f5f"
            },
            "type": "carpet"
           }
          ],
          "choropleth": [
           {
            "colorbar": {
             "outlinewidth": 0,
             "ticks": ""
            },
            "type": "choropleth"
           }
          ],
          "contour": [
           {
            "colorbar": {
             "outlinewidth": 0,
             "ticks": ""
            },
            "colorscale": [
             [
              0,
              "#0d0887"
             ],
             [
              0.1111111111111111,
              "#46039f"
             ],
             [
              0.2222222222222222,
              "#7201a8"
             ],
             [
              0.3333333333333333,
              "#9c179e"
             ],
             [
              0.4444444444444444,
              "#bd3786"
             ],
             [
              0.5555555555555556,
              "#d8576b"
             ],
             [
              0.6666666666666666,
              "#ed7953"
             ],
             [
              0.7777777777777778,
              "#fb9f3a"
             ],
             [
              0.8888888888888888,
              "#fdca26"
             ],
             [
              1,
              "#f0f921"
             ]
            ],
            "type": "contour"
           }
          ],
          "contourcarpet": [
           {
            "colorbar": {
             "outlinewidth": 0,
             "ticks": ""
            },
            "type": "contourcarpet"
           }
          ],
          "heatmap": [
           {
            "colorbar": {
             "outlinewidth": 0,
             "ticks": ""
            },
            "colorscale": [
             [
              0,
              "#0d0887"
             ],
             [
              0.1111111111111111,
              "#46039f"
             ],
             [
              0.2222222222222222,
              "#7201a8"
             ],
             [
              0.3333333333333333,
              "#9c179e"
             ],
             [
              0.4444444444444444,
              "#bd3786"
             ],
             [
              0.5555555555555556,
              "#d8576b"
             ],
             [
              0.6666666666666666,
              "#ed7953"
             ],
             [
              0.7777777777777778,
              "#fb9f3a"
             ],
             [
              0.8888888888888888,
              "#fdca26"
             ],
             [
              1,
              "#f0f921"
             ]
            ],
            "type": "heatmap"
           }
          ],
          "heatmapgl": [
           {
            "colorbar": {
             "outlinewidth": 0,
             "ticks": ""
            },
            "colorscale": [
             [
              0,
              "#0d0887"
             ],
             [
              0.1111111111111111,
              "#46039f"
             ],
             [
              0.2222222222222222,
              "#7201a8"
             ],
             [
              0.3333333333333333,
              "#9c179e"
             ],
             [
              0.4444444444444444,
              "#bd3786"
             ],
             [
              0.5555555555555556,
              "#d8576b"
             ],
             [
              0.6666666666666666,
              "#ed7953"
             ],
             [
              0.7777777777777778,
              "#fb9f3a"
             ],
             [
              0.8888888888888888,
              "#fdca26"
             ],
             [
              1,
              "#f0f921"
             ]
            ],
            "type": "heatmapgl"
           }
          ],
          "histogram": [
           {
            "marker": {
             "colorbar": {
              "outlinewidth": 0,
              "ticks": ""
             }
            },
            "type": "histogram"
           }
          ],
          "histogram2d": [
           {
            "colorbar": {
             "outlinewidth": 0,
             "ticks": ""
            },
            "colorscale": [
             [
              0,
              "#0d0887"
             ],
             [
              0.1111111111111111,
              "#46039f"
             ],
             [
              0.2222222222222222,
              "#7201a8"
             ],
             [
              0.3333333333333333,
              "#9c179e"
             ],
             [
              0.4444444444444444,
              "#bd3786"
             ],
             [
              0.5555555555555556,
              "#d8576b"
             ],
             [
              0.6666666666666666,
              "#ed7953"
             ],
             [
              0.7777777777777778,
              "#fb9f3a"
             ],
             [
              0.8888888888888888,
              "#fdca26"
             ],
             [
              1,
              "#f0f921"
             ]
            ],
            "type": "histogram2d"
           }
          ],
          "histogram2dcontour": [
           {
            "colorbar": {
             "outlinewidth": 0,
             "ticks": ""
            },
            "colorscale": [
             [
              0,
              "#0d0887"
             ],
             [
              0.1111111111111111,
              "#46039f"
             ],
             [
              0.2222222222222222,
              "#7201a8"
             ],
             [
              0.3333333333333333,
              "#9c179e"
             ],
             [
              0.4444444444444444,
              "#bd3786"
             ],
             [
              0.5555555555555556,
              "#d8576b"
             ],
             [
              0.6666666666666666,
              "#ed7953"
             ],
             [
              0.7777777777777778,
              "#fb9f3a"
             ],
             [
              0.8888888888888888,
              "#fdca26"
             ],
             [
              1,
              "#f0f921"
             ]
            ],
            "type": "histogram2dcontour"
           }
          ],
          "mesh3d": [
           {
            "colorbar": {
             "outlinewidth": 0,
             "ticks": ""
            },
            "type": "mesh3d"
           }
          ],
          "parcoords": [
           {
            "line": {
             "colorbar": {
              "outlinewidth": 0,
              "ticks": ""
             }
            },
            "type": "parcoords"
           }
          ],
          "pie": [
           {
            "automargin": true,
            "type": "pie"
           }
          ],
          "scatter": [
           {
            "marker": {
             "colorbar": {
              "outlinewidth": 0,
              "ticks": ""
             }
            },
            "type": "scatter"
           }
          ],
          "scatter3d": [
           {
            "line": {
             "colorbar": {
              "outlinewidth": 0,
              "ticks": ""
             }
            },
            "marker": {
             "colorbar": {
              "outlinewidth": 0,
              "ticks": ""
             }
            },
            "type": "scatter3d"
           }
          ],
          "scattercarpet": [
           {
            "marker": {
             "colorbar": {
              "outlinewidth": 0,
              "ticks": ""
             }
            },
            "type": "scattercarpet"
           }
          ],
          "scattergeo": [
           {
            "marker": {
             "colorbar": {
              "outlinewidth": 0,
              "ticks": ""
             }
            },
            "type": "scattergeo"
           }
          ],
          "scattergl": [
           {
            "marker": {
             "colorbar": {
              "outlinewidth": 0,
              "ticks": ""
             }
            },
            "type": "scattergl"
           }
          ],
          "scattermapbox": [
           {
            "marker": {
             "colorbar": {
              "outlinewidth": 0,
              "ticks": ""
             }
            },
            "type": "scattermapbox"
           }
          ],
          "scatterpolar": [
           {
            "marker": {
             "colorbar": {
              "outlinewidth": 0,
              "ticks": ""
             }
            },
            "type": "scatterpolar"
           }
          ],
          "scatterpolargl": [
           {
            "marker": {
             "colorbar": {
              "outlinewidth": 0,
              "ticks": ""
             }
            },
            "type": "scatterpolargl"
           }
          ],
          "scatterternary": [
           {
            "marker": {
             "colorbar": {
              "outlinewidth": 0,
              "ticks": ""
             }
            },
            "type": "scatterternary"
           }
          ],
          "surface": [
           {
            "colorbar": {
             "outlinewidth": 0,
             "ticks": ""
            },
            "colorscale": [
             [
              0,
              "#0d0887"
             ],
             [
              0.1111111111111111,
              "#46039f"
             ],
             [
              0.2222222222222222,
              "#7201a8"
             ],
             [
              0.3333333333333333,
              "#9c179e"
             ],
             [
              0.4444444444444444,
              "#bd3786"
             ],
             [
              0.5555555555555556,
              "#d8576b"
             ],
             [
              0.6666666666666666,
              "#ed7953"
             ],
             [
              0.7777777777777778,
              "#fb9f3a"
             ],
             [
              0.8888888888888888,
              "#fdca26"
             ],
             [
              1,
              "#f0f921"
             ]
            ],
            "type": "surface"
           }
          ],
          "table": [
           {
            "cells": {
             "fill": {
              "color": "#EBF0F8"
             },
             "line": {
              "color": "white"
             }
            },
            "header": {
             "fill": {
              "color": "#C8D4E3"
             },
             "line": {
              "color": "white"
             }
            },
            "type": "table"
           }
          ]
         },
         "layout": {
          "annotationdefaults": {
           "arrowcolor": "#2a3f5f",
           "arrowhead": 0,
           "arrowwidth": 1
          },
          "coloraxis": {
           "colorbar": {
            "outlinewidth": 0,
            "ticks": ""
           }
          },
          "colorscale": {
           "diverging": [
            [
             0,
             "#8e0152"
            ],
            [
             0.1,
             "#c51b7d"
            ],
            [
             0.2,
             "#de77ae"
            ],
            [
             0.3,
             "#f1b6da"
            ],
            [
             0.4,
             "#fde0ef"
            ],
            [
             0.5,
             "#f7f7f7"
            ],
            [
             0.6,
             "#e6f5d0"
            ],
            [
             0.7,
             "#b8e186"
            ],
            [
             0.8,
             "#7fbc41"
            ],
            [
             0.9,
             "#4d9221"
            ],
            [
             1,
             "#276419"
            ]
           ],
           "sequential": [
            [
             0,
             "#0d0887"
            ],
            [
             0.1111111111111111,
             "#46039f"
            ],
            [
             0.2222222222222222,
             "#7201a8"
            ],
            [
             0.3333333333333333,
             "#9c179e"
            ],
            [
             0.4444444444444444,
             "#bd3786"
            ],
            [
             0.5555555555555556,
             "#d8576b"
            ],
            [
             0.6666666666666666,
             "#ed7953"
            ],
            [
             0.7777777777777778,
             "#fb9f3a"
            ],
            [
             0.8888888888888888,
             "#fdca26"
            ],
            [
             1,
             "#f0f921"
            ]
           ],
           "sequentialminus": [
            [
             0,
             "#0d0887"
            ],
            [
             0.1111111111111111,
             "#46039f"
            ],
            [
             0.2222222222222222,
             "#7201a8"
            ],
            [
             0.3333333333333333,
             "#9c179e"
            ],
            [
             0.4444444444444444,
             "#bd3786"
            ],
            [
             0.5555555555555556,
             "#d8576b"
            ],
            [
             0.6666666666666666,
             "#ed7953"
            ],
            [
             0.7777777777777778,
             "#fb9f3a"
            ],
            [
             0.8888888888888888,
             "#fdca26"
            ],
            [
             1,
             "#f0f921"
            ]
           ]
          },
          "colorway": [
           "#636efa",
           "#EF553B",
           "#00cc96",
           "#ab63fa",
           "#FFA15A",
           "#19d3f3",
           "#FF6692",
           "#B6E880",
           "#FF97FF",
           "#FECB52"
          ],
          "font": {
           "color": "#2a3f5f"
          },
          "geo": {
           "bgcolor": "white",
           "lakecolor": "white",
           "landcolor": "white",
           "showlakes": true,
           "showland": true,
           "subunitcolor": "#C8D4E3"
          },
          "hoverlabel": {
           "align": "left"
          },
          "hovermode": "closest",
          "mapbox": {
           "style": "light"
          },
          "paper_bgcolor": "white",
          "plot_bgcolor": "white",
          "polar": {
           "angularaxis": {
            "gridcolor": "#EBF0F8",
            "linecolor": "#EBF0F8",
            "ticks": ""
           },
           "bgcolor": "white",
           "radialaxis": {
            "gridcolor": "#EBF0F8",
            "linecolor": "#EBF0F8",
            "ticks": ""
           }
          },
          "scene": {
           "xaxis": {
            "backgroundcolor": "white",
            "gridcolor": "#DFE8F3",
            "gridwidth": 2,
            "linecolor": "#EBF0F8",
            "showbackground": true,
            "ticks": "",
            "zerolinecolor": "#EBF0F8"
           },
           "yaxis": {
            "backgroundcolor": "white",
            "gridcolor": "#DFE8F3",
            "gridwidth": 2,
            "linecolor": "#EBF0F8",
            "showbackground": true,
            "ticks": "",
            "zerolinecolor": "#EBF0F8"
           },
           "zaxis": {
            "backgroundcolor": "white",
            "gridcolor": "#DFE8F3",
            "gridwidth": 2,
            "linecolor": "#EBF0F8",
            "showbackground": true,
            "ticks": "",
            "zerolinecolor": "#EBF0F8"
           }
          },
          "shapedefaults": {
           "line": {
            "color": "#2a3f5f"
           }
          },
          "ternary": {
           "aaxis": {
            "gridcolor": "#DFE8F3",
            "linecolor": "#A2B1C6",
            "ticks": ""
           },
           "baxis": {
            "gridcolor": "#DFE8F3",
            "linecolor": "#A2B1C6",
            "ticks": ""
           },
           "bgcolor": "white",
           "caxis": {
            "gridcolor": "#DFE8F3",
            "linecolor": "#A2B1C6",
            "ticks": ""
           }
          },
          "title": {
           "x": 0.05
          },
          "xaxis": {
           "automargin": true,
           "gridcolor": "#EBF0F8",
           "linecolor": "#EBF0F8",
           "ticks": "",
           "title": {
            "standoff": 15
           },
           "zerolinecolor": "#EBF0F8",
           "zerolinewidth": 2
          },
          "yaxis": {
           "automargin": true,
           "gridcolor": "#EBF0F8",
           "linecolor": "#EBF0F8",
           "ticks": "",
           "title": {
            "standoff": 15
           },
           "zerolinecolor": "#EBF0F8",
           "zerolinewidth": 2
          }
         }
        },
        "xaxis": {
         "anchor": "y",
         "domain": [
          0,
          1
         ],
         "title": {
          "text": "weekly_coef_var"
         }
        },
        "yaxis": {
         "anchor": "x",
         "domain": [
          0,
          1
         ],
         "title": {
          "text": "daily_coef_var"
         }
        }
       }
      },
      "text/html": [
       "<div>\n",
       "        \n",
       "        \n",
       "            <div id=\"8c4c0df7-0a7f-458a-9810-8de45055798a\" class=\"plotly-graph-div\" style=\"height:600px; width:100%;\"></div>\n",
       "            <script type=\"text/javascript\">\n",
       "                require([\"plotly\"], function(Plotly) {\n",
       "                    window.PLOTLYENV=window.PLOTLYENV || {};\n",
       "                    \n",
       "                if (document.getElementById(\"8c4c0df7-0a7f-458a-9810-8de45055798a\")) {\n",
       "                    Plotly.newPlot(\n",
       "                        '8c4c0df7-0a7f-458a-9810-8de45055798a',\n",
       "                        [{\"hoverlabel\": {\"namelength\": 0}, \"hovertemplate\": \"<b>%{hovertext}</b><br><br>region_type=city<br>weekly_coef_var=%{x}<br>daily_coef_var=%{y}\", \"hovertext\": [\"bogota\", \"managua\", \"kingston\", \"natal\", \"mendoza\", \"curitiba\", \"toluca\", \"barranquilla\", \"buenosaires\", \"paramaribo\", \"santodomingo\", \"saojosedoscampos\", \"panamacity\", \"sanfernado\", \"santiago\", \"fortaleza\", \"salvador\", \"manaus\", \"saopaulo\", \"teresina\", \"tegucigalpa\", \"georgetown\", \"ciudad_guayana\", \"montevideo\", \"merida\", \"porto_alergre\", \"arequipa\", \"tijuana\", \"saoluis\", \"cochabamba\", \"sorocaba\", \"joaopessoa\", \"mexicocity\", \"brasilia\", \"guadalajara\", \"lapaz\", \"nassau\", \"pereira\", \"asuncion\", \"santacruzdelasierra\", \"santiagocaballeros\", \"recife\", \"monterrey\", \"goiania\", \"guayaquil\", \"caracas\", \"guatemala\", \"cartagena\", \"belem\", \"pueble\", \"bridgetown\", \"riodejaneiro\", \"cucuta\", \"rosario\", \"quito\", \"campinas\", \"sanpedrosula\", \"maceio\", \"aguascalientes\", \"leon\", \"queretaro\", \"portauprince\", \"maracaibo\", \"cuenca\", \"barcelona\", \"medellin\", \"bucaramanga\", \"cordoba\", \"santos\", \"sanjose\", \"portofspain\", \"juarez\", \"sanluispotosi\", \"sansalvador\", \"santamarta\", \"valencia\", \"belohorizonte\", \"joinville\", \"vitoria\", \"maracay\", \"lima\", \"cali\", \"florianopolis\", \"torreon\"], \"legendgroup\": \"region_type=city\", \"marker\": {\"color\": \"#636efa\", \"symbol\": \"circle\"}, \"mode\": \"markers\", \"name\": \"region_type=city\", \"showlegend\": true, \"type\": \"scatter\", \"x\": [0.22096798554580474, 0.22980497780756334, 0.26970757518525823, 0.20961467269565415, 0.3638223602254846, 0.2502064088037572, 0.21618008376814224, 0.18923278080027145, 0.21789833888380455, 0.3961864216341421, 0.2298446356961427, 0.22395960784432276, 0.20396751933714047, 0.3112687768164055, 0.2773549978358809, 0.20961466972502488, 0.2014954753623732, 0.19954454504165453, 0.2360140289177365, 0.25218330319264154, 0.3436163835363011, 0.3707753352821059, 0.4428155590820333, 0.19724288190850295, 0.22223563471872007, 0.2303046903821204, 0.22510118436950916, 0.5122827134615497, 0.2479280408695712, 0.24051556660857526, 0.212832167069768, 0.20918194747213925, 0.20216747631142426, 0.25993903858281525, 0.20838641046882725, 0.2803889276562378, 0.3573886863330825, 0.28759596978176816, 0.4169301953025549, 0.3575468208807489, 0.19917076487734828, 0.19300546296201712, 0.25027617454863643, 0.2218559323892664, 0.2180476988632588, 0.5812667167360133, 0.21896381138541535, 0.2078034360462011, 0.244930626992786, 0.18769216005108413, 0.32032648582959355, 0.20723206370488265, 0.29579109826551864, 0.23523766761586945, 0.21219800824828725, 0.2335480327717783, 0.35315838211307765, 0.1809299192006453, 0.2858905222233324, 0.2624091921791272, 0.2125587371544555, 0.5524137314985547, 0.4897049795059035, 0.3111308342523457, 0.3709345916025836, 0.2388930675362972, 0.2459011047620025, 0.4601185111786109, 0.2656015605833746, 0.2436975054152345, 0.2949474533930781, 0.5093110602832025, 0.28831439995402464, 0.2394546467778669, 0.4116827862728698, 0.4410429130991756, 0.235304139033558, 0.29748302024755396, 0.20496160447805045, 0.4639472737633041, 0.15495059666023855, 0.2095956890935539, 0.2736954307109535, 0.4542269958408945], \"xaxis\": \"x\", \"y\": [0.286687662643728, 0.3629514173828339, 0.4913199438629126, 0.3218078349339457, 0.5064936515589152, 0.4186142215253612, 0.3057780385086514, 0.3163910324449694, 0.3260660410011728, 0.5819431106660168, 0.3562465186615954, 0.3851238441317576, 0.4293121020093684, 0.5842253311109938, 0.4599735641538645, 0.3218078552150265, 0.4023471521516148, 0.36492219865273307, 0.38178256776564856, 0.35529926125508643, 0.4686928338648748, 0.6622589958240079, 0.9066220072286058, 0.2610481192533073, 0.32496415626767394, 0.3978839761328267, 0.3293463788343317, 0.537685041140292, 0.3600816246476056, 0.3901488336454791, 0.37320057041447896, 0.3655957268206133, 0.2902237749522706, 0.4273620854617822, 0.2789510545475381, 0.377591115337318, 0.5993929668036775, 0.3632141233098592, 0.5024926494510125, 0.3835259014471612, 0.345393403270178, 0.3334482519623064, 0.38381424639318334, 0.38130140623440745, 0.3696814397926295, 0.7585159205269386, 0.3335739853631477, 0.2780462537994965, 0.3373353933393028, 0.2542411161495161, 0.6461886109826176, 0.3491878604154344, 0.3687136406207601, 0.34350378923962294, 0.3347288418028682, 0.40524945878448937, 0.5099230688810314, 0.3557268854932578, 0.3471476256721193, 0.36042032822319375, 0.3112002843246247, 0.6332340212421065, 0.8193474859061922, 0.42672931063487374, 0.6327443923284488, 0.35203764596985515, 0.3485025391703524, 0.6082979716525952, 0.3547067910132126, 0.3625308614440186, 0.5838682256868514, 0.5369215735760726, 0.3980516132737778, 0.40309466693187546, 0.47455358827483296, 0.7708302668025113, 0.3701770949326142, 0.5238835892328816, 0.3782760731958649, 0.7313373114292863, 0.24784106107936546, 0.32744906787280204, 0.5351597012964407, 0.5089592897685637], \"yaxis\": \"y\"}, {\"hoverlabel\": {\"namelength\": 0}, \"hovertemplate\": \"<b>OLS trendline</b><br>daily_coef_var = 1.177411 * weekly_coef_var + 0.096125<br>R<sup>2</sup>=0.691302<br><br>region_type=city<br>weekly_coef_var=%{x}<br>daily_coef_var=%{y} <b>(trend)</b>\", \"legendgroup\": \"region_type=city\", \"marker\": {\"color\": \"#636efa\", \"symbol\": \"circle\"}, \"mode\": \"lines\", \"name\": \"region_type=city\", \"showlegend\": false, \"type\": \"scatter\", \"x\": [0.15495059666023855, 0.1809299192006453, 0.18769216005108413, 0.18923278080027145, 0.19300546296201712, 0.19724288190850295, 0.19917076487734828, 0.19954454504165453, 0.2014954753623732, 0.20216747631142426, 0.20396751933714047, 0.20496160447805045, 0.20723206370488265, 0.2078034360462011, 0.20838641046882725, 0.20918194747213925, 0.2095956890935539, 0.20961466972502488, 0.20961467269565415, 0.21219800824828725, 0.2125587371544555, 0.212832167069768, 0.21618008376814224, 0.21789833888380455, 0.2180476988632588, 0.21896381138541535, 0.22096798554580474, 0.2218559323892664, 0.22223563471872007, 0.22395960784432276, 0.22510118436950916, 0.22980497780756334, 0.2298446356961427, 0.2303046903821204, 0.2335480327717783, 0.23523766761586945, 0.235304139033558, 0.2360140289177365, 0.2388930675362972, 0.2394546467778669, 0.24051556660857526, 0.2436975054152345, 0.244930626992786, 0.2459011047620025, 0.2479280408695712, 0.2502064088037572, 0.25027617454863643, 0.25218330319264154, 0.25993903858281525, 0.2624091921791272, 0.2656015605833746, 0.26970757518525823, 0.2736954307109535, 0.2773549978358809, 0.2803889276562378, 0.2858905222233324, 0.28759596978176816, 0.28831439995402464, 0.2949474533930781, 0.29579109826551864, 0.29748302024755396, 0.3111308342523457, 0.3112687768164055, 0.32032648582959355, 0.3436163835363011, 0.35315838211307765, 0.3573886863330825, 0.3575468208807489, 0.3638223602254846, 0.3707753352821059, 0.3709345916025836, 0.3961864216341421, 0.4116827862728698, 0.4169301953025549, 0.4410429130991756, 0.4428155590820333, 0.4542269958408945, 0.4601185111786109, 0.4639472737633041, 0.4897049795059035, 0.5093110602832025, 0.5122827134615497, 0.5524137314985547, 0.5812667167360133], \"xaxis\": \"x\", \"y\": [0.2785659975237659, 0.3091543335884631, 0.3171162692918261, 0.31893021286757145, 0.32337220975372116, 0.32836139276957643, 0.3306313030820077, 0.33107139590053036, 0.3333684424149702, 0.3341596636191952, 0.33627905379635953, 0.33744950042058475, 0.34012276373388006, 0.34079550372419887, 0.34148190413085594, 0.3424185780249254, 0.3429057218963678, 0.3429280698976773, 0.3429280733953285, 0.34596972068728227, 0.3463944468129525, 0.34671638616016653, 0.35065825958381736, 0.35268135178882065, 0.35285720984820834, 0.3539358506656206, 0.35629558705423603, 0.3573410652961396, 0.3577881309361236, 0.35981795558803376, 0.36116206016742225, 0.3667003575667611, 0.3667470511948029, 0.36728872457065553, 0.3711074710692769, 0.3730968654561897, 0.3731751296241561, 0.3740109616714471, 0.3774007729596669, 0.3780619824481505, 0.3793111209608633, 0.38305757021503506, 0.3845094609317429, 0.3856521119805506, 0.38803864853259307, 0.39072122364368456, 0.390803366588207, 0.39304884053352285, 0.4021805274808833, 0.40508891311018114, 0.40884764228564596, 0.4136821084012895, 0.4183774527393762, 0.4226862667546183, 0.4262584486233888, 0.4327360857229806, 0.4347440981712273, 0.43558998564630746, 0.44339981469066747, 0.4443931313115044, 0.44638521859943314, 0.4624543027981358, 0.46261671786883396, 0.47328136267782417, 0.500703140780666, 0.5119379933731977, 0.516918799432946, 0.5171049887640934, 0.5244938768371155, 0.5326803850630555, 0.5328678951816748, 0.5625996736779216, 0.5808452614376967, 0.5870236177292931, 0.6154141931282116, 0.6175013257300357, 0.6309372751093231, 0.6378740091523335, 0.6423820357365672, 0.6727094377804342, 0.6957938498852864, 0.6992927065604607, 0.74654340235613, 0.7805152200407691], \"yaxis\": \"y\"}, {\"hoverlabel\": {\"namelength\": 0}, \"hovertemplate\": \"<b>%{hovertext}</b><br><br>region_type=country<br>weekly_coef_var=%{x}<br>daily_coef_var=%{y}\", \"hovertext\": [\"country_guyana\", \"country_ecuador\", \"country_nicaragua\", \"country_venezuela\", \"country_barbados\", \"country_costa_rica\", \"country_haiti\", \"country_uruguay\", \"country_bolivia\", \"country_guatemala\", \"country_peru\", \"country_colombia\", \"country_chile\", \"country_argentina\", \"country_paraguay\", \"country_honduras\", \"country_el_salvador\", \"country_trinidad_and_tobago\", \"country_jamaica\", \"country_panama\", \"country_the_bahamas\", \"country_suriname\", \"country_belize\", \"country_mexico\", \"country_dominican_republic\"], \"legendgroup\": \"region_type=country\", \"marker\": {\"color\": \"#EF553B\", \"symbol\": \"circle\"}, \"mode\": \"markers\", \"name\": \"region_type=country\", \"showlegend\": true, \"type\": \"scatter\", \"x\": [0.43420137163684697, 0.17726038444200906, 0.23692876055613016, 0.44797949182570185, 0.2609976054326644, 0.15731685871168113, 0.6464455735587956, 0.293816728768831, 0.3076454063999359, 0.20056175605853305, 0.16606182047466286, 0.1913106207096777, 0.14916533084950026, 0.2236955552035937, 0.40375961053711423, 0.26486123590308946, 0.2655842352351394, 0.2566211608853609, 0.183131433518718, 0.17039879400674116, 0.3237263464389799, 0.34570571691687074, 0.5098418751655216, 0.2576985357129717, 0.2085866140625696], \"xaxis\": \"x\", \"y\": [0.8408325580616669, 0.24641806677734066, 0.2720620028090954, 0.6037744080533433, 0.4334737156391757, 0.21852737281934345, 0.8397854133052594, 0.36451897112327225, 0.32478331853071696, 0.2570009170262702, 0.19768579932496216, 0.2289632940046689, 0.23369150608189435, 0.2912960017701939, 0.4502005869871279, 0.3139711127545384, 0.3276504000971684, 0.4486804310597353, 0.24874123108136825, 0.26871986528755604, 0.4468837917815035, 0.4675533198608427, 0.6636937815775654, 0.279870068750045, 0.2954177233140175], \"yaxis\": \"y\"}, {\"hoverlabel\": {\"namelength\": 0}, \"hovertemplate\": \"<b>OLS trendline</b><br>daily_coef_var = 1.361393 * weekly_coef_var + -0.003159<br>R<sup>2</sup>=0.853145<br><br>region_type=country<br>weekly_coef_var=%{x}<br>daily_coef_var=%{y} <b>(trend)</b>\", \"legendgroup\": \"region_type=country\", \"marker\": {\"color\": \"#EF553B\", \"symbol\": \"circle\"}, \"mode\": \"lines\", \"name\": \"region_type=country\", \"showlegend\": false, \"type\": \"scatter\", \"x\": [0.14916533084950026, 0.15731685871168113, 0.16606182047466286, 0.17039879400674116, 0.17726038444200906, 0.183131433518718, 0.1913106207096777, 0.20056175605853305, 0.2085866140625696, 0.2236955552035937, 0.23692876055613016, 0.2566211608853609, 0.2576985357129717, 0.2609976054326644, 0.26486123590308946, 0.2655842352351394, 0.293816728768831, 0.3076454063999359, 0.3237263464389799, 0.34570571691687074, 0.40375961053711423, 0.43420137163684697, 0.44797949182570185, 0.5098418751655216, 0.6464455735587956], \"xaxis\": \"x\", \"y\": [0.1999140440830131, 0.21101148095982827, 0.22291681487950993, 0.228821142365398, 0.23816246684068135, 0.24615527476957802, 0.25729036687623075, 0.269884802215047, 0.2808097915729776, 0.30137900551947466, 0.319394604994886, 0.34620371039223236, 0.34767044145715953, 0.3521617734608641, 0.3574216947892088, 0.3584059813653032, 0.39684151396267475, 0.41566778551515327, 0.4375602724231715, 0.46748284406795165, 0.5465170362827633, 0.5879602513382767, 0.6067176943185528, 0.6909367396030672, 0.8769081238256659], \"yaxis\": \"y\"}, {\"hoverlabel\": {\"namelength\": 0}, \"hovertemplate\": \"<b>%{hovertext}</b><br><br>region_type=state<br>weekly_coef_var=%{x}<br>daily_coef_var=%{y}\", \"hovertext\": [\"br_states_paraiba\", \"br_states_sao_paulo\", \"br_states_amapa\", \"br_states_tocantins\", \"br_states_sergipe\", \"br_states_espirito_santo\", \"br_states_alagoas\", \"br_states_goias\", \"br_states_para\", \"br_states_roraima\", \"br_states_amazonas\", \"br_states_santa_catarina\", \"br_states_rondonia\", \"br_states_rio_grande_do_sul\", \"br_states_ceara\", \"br_states_mato_grosso_do_sul\", \"br_states_bahia\", \"br_states_maranhao\", \"br_states_acre\", \"br_states_minas_gerais\", \"br_states_rio_de_janeiro\", \"br_states_pernambuco\", \"br_states_piaui\", \"br_states_mato_grosso\", \"br_states_rio_grande_do_norte\", \"br_states_parana\", \"br_states_distrito_federal\"], \"legendgroup\": \"region_type=state\", \"marker\": {\"color\": \"#00cc96\", \"symbol\": \"circle\"}, \"mode\": \"markers\", \"name\": \"region_type=state\", \"showlegend\": true, \"type\": \"scatter\", \"x\": [0.213571657530338, 0.19734755282659275, 0.30825695694590977, 0.4337525353976512, 0.20206002778330964, 0.18411171220025035, 0.1852987792107371, 0.2594784308499088, 0.31515304648226744, 0.27297652860059923, 0.19560868350528174, 0.23552062436615226, 0.2980603071486284, 0.25222449171732514, 0.2776241532738791, 0.2953086590705622, 0.25042953423016634, 0.3295381777417441, 0.34958579117521216, 0.2258525675517441, 0.19048682567417055, 0.20912414862972448, 0.3743815336303252, 0.3163742138419414, 0.2318830012018617, 0.26733718867784023, 0.2506200309923385], \"xaxis\": \"x\", \"y\": [0.2596467853169876, 0.2853556982855925, 0.3689282415418469, 0.44578869163924295, 0.2324383651526673, 0.2983339227721357, 0.2631354363427174, 0.2776074275479336, 0.3501118346683844, 0.35242730719822885, 0.3427045803597393, 0.3191762376958843, 0.33653619016486264, 0.3231918056443795, 0.30203396659725584, 0.3332254857215594, 0.2722376795527333, 0.3558850086262803, 0.4047245233571951, 0.2523440402803457, 0.29971699371031885, 0.2607934022173383, 0.3959760012503454, 0.3481698076642023, 0.2955963379326049, 0.3445840638489446, 0.3535119332487892], \"yaxis\": \"y\"}, {\"hoverlabel\": {\"namelength\": 0}, \"hovertemplate\": \"<b>OLS trendline</b><br>daily_coef_var = 0.677424 * weekly_coef_var + 0.142577<br>R<sup>2</sup>=0.697265<br><br>region_type=state<br>weekly_coef_var=%{x}<br>daily_coef_var=%{y} <b>(trend)</b>\", \"legendgroup\": \"region_type=state\", \"marker\": {\"color\": \"#00cc96\", \"symbol\": \"circle\"}, \"mode\": \"lines\", \"name\": \"region_type=state\", \"showlegend\": false, \"type\": \"scatter\", \"x\": [0.18411171220025035, 0.1852987792107371, 0.19048682567417055, 0.19560868350528174, 0.19734755282659275, 0.20206002778330964, 0.20912414862972448, 0.213571657530338, 0.2258525675517441, 0.2318830012018617, 0.23552062436615226, 0.25042953423016634, 0.2506200309923385, 0.25222449171732514, 0.2594784308499088, 0.26733718867784023, 0.27297652860059923, 0.2776241532738791, 0.2953086590705622, 0.2980603071486284, 0.30825695694590977, 0.31515304648226744, 0.3163742138419414, 0.3295381777417441, 0.34958579117521216, 0.3743815336303252, 0.4337525353976512], \"xaxis\": \"x\", \"y\": [0.2672991348483883, 0.2681032821688957, 0.2716177877742087, 0.27508745563164416, 0.27626540691248325, 0.27945774911045923, 0.28424315195646666, 0.28725599986965616, 0.2955753793148457, 0.299660537960819, 0.3021247500859461, 0.3122243988950871, 0.3123534459156114, 0.313440345628483, 0.3183543358792936, 0.32367804464553773, 0.3274982671336157, 0.33064667821296123, 0.34262658147475666, 0.3444906130832578, 0.35139806526598993, 0.35606963972105554, 0.3568968874261116, 0.3658144684925264, 0.37939519686141665, 0.3961924203366899, 0.4364117437323064], \"yaxis\": \"y\"}, {\"hoverlabel\": {\"namelength\": 0}, \"hovertemplate\": \"<b>%{hovertext}</b><br><br>region_type=submetro<br>weekly_coef_var=%{x}<br>daily_coef_var=%{y}\", \"hovertext\": [\"lima_metro1\", \"bogota_metro1\", \"lima_metro2\", \"bogota_metro2\"], \"legendgroup\": \"region_type=submetro\", \"marker\": {\"color\": \"#ab63fa\", \"symbol\": \"circle\"}, \"mode\": \"markers\", \"name\": \"region_type=submetro\", \"showlegend\": true, \"type\": \"scatter\", \"x\": [0.1926646945426957, 0.24201630048067016, 0.14376211871883973, 0.21323732080200386], \"xaxis\": \"x\", \"y\": [0.3631105754913515, 0.34849264712983274, 0.19449973753520394, 0.2613597399371207], \"yaxis\": \"y\"}, {\"hoverlabel\": {\"namelength\": 0}, \"hovertemplate\": \"<b>OLS trendline</b><br>daily_coef_var = 1.348008 * weekly_coef_var + 0.025068<br>R<sup>2</sup>=0.499629<br><br>region_type=submetro<br>weekly_coef_var=%{x}<br>daily_coef_var=%{y} <b>(trend)</b>\", \"legendgroup\": \"region_type=submetro\", \"marker\": {\"color\": \"#ab63fa\", \"symbol\": \"circle\"}, \"mode\": \"lines\", \"name\": \"region_type=submetro\", \"showlegend\": false, \"type\": \"scatter\", \"x\": [0.14376211871883973, 0.1926646945426957, 0.21323732080200386, 0.24201630048067016], \"xaxis\": \"x\", \"y\": [0.21886026474163853, 0.2847813341408512, 0.3125134014300827, 0.351307699780936], \"yaxis\": \"y\"}],\n",
       "                        {\"height\": 600, \"legend\": {\"tracegroupgap\": 0}, \"margin\": {\"t\": 60}, \"template\": {\"data\": {\"bar\": [{\"error_x\": {\"color\": \"#2a3f5f\"}, \"error_y\": {\"color\": \"#2a3f5f\"}, \"marker\": {\"line\": {\"color\": \"white\", \"width\": 0.5}}, \"type\": \"bar\"}], \"barpolar\": [{\"marker\": {\"line\": {\"color\": \"white\", \"width\": 0.5}}, \"type\": \"barpolar\"}], \"carpet\": [{\"aaxis\": {\"endlinecolor\": \"#2a3f5f\", \"gridcolor\": \"#C8D4E3\", \"linecolor\": \"#C8D4E3\", \"minorgridcolor\": \"#C8D4E3\", \"startlinecolor\": \"#2a3f5f\"}, \"baxis\": {\"endlinecolor\": \"#2a3f5f\", \"gridcolor\": \"#C8D4E3\", \"linecolor\": \"#C8D4E3\", \"minorgridcolor\": \"#C8D4E3\", \"startlinecolor\": \"#2a3f5f\"}, \"type\": \"carpet\"}], \"choropleth\": [{\"colorbar\": {\"outlinewidth\": 0, \"ticks\": \"\"}, \"type\": \"choropleth\"}], \"contour\": [{\"colorbar\": {\"outlinewidth\": 0, \"ticks\": \"\"}, \"colorscale\": [[0.0, \"#0d0887\"], [0.1111111111111111, \"#46039f\"], [0.2222222222222222, \"#7201a8\"], [0.3333333333333333, \"#9c179e\"], [0.4444444444444444, \"#bd3786\"], [0.5555555555555556, \"#d8576b\"], [0.6666666666666666, \"#ed7953\"], [0.7777777777777778, \"#fb9f3a\"], [0.8888888888888888, \"#fdca26\"], [1.0, \"#f0f921\"]], \"type\": \"contour\"}], \"contourcarpet\": [{\"colorbar\": {\"outlinewidth\": 0, \"ticks\": \"\"}, \"type\": \"contourcarpet\"}], \"heatmap\": [{\"colorbar\": {\"outlinewidth\": 0, \"ticks\": \"\"}, \"colorscale\": [[0.0, \"#0d0887\"], [0.1111111111111111, \"#46039f\"], [0.2222222222222222, \"#7201a8\"], [0.3333333333333333, \"#9c179e\"], [0.4444444444444444, \"#bd3786\"], [0.5555555555555556, \"#d8576b\"], [0.6666666666666666, \"#ed7953\"], [0.7777777777777778, \"#fb9f3a\"], [0.8888888888888888, \"#fdca26\"], [1.0, \"#f0f921\"]], \"type\": \"heatmap\"}], \"heatmapgl\": [{\"colorbar\": {\"outlinewidth\": 0, \"ticks\": \"\"}, \"colorscale\": [[0.0, \"#0d0887\"], [0.1111111111111111, \"#46039f\"], [0.2222222222222222, \"#7201a8\"], [0.3333333333333333, \"#9c179e\"], [0.4444444444444444, \"#bd3786\"], [0.5555555555555556, \"#d8576b\"], [0.6666666666666666, \"#ed7953\"], [0.7777777777777778, \"#fb9f3a\"], [0.8888888888888888, \"#fdca26\"], [1.0, \"#f0f921\"]], \"type\": \"heatmapgl\"}], \"histogram\": [{\"marker\": {\"colorbar\": {\"outlinewidth\": 0, \"ticks\": \"\"}}, \"type\": \"histogram\"}], \"histogram2d\": [{\"colorbar\": {\"outlinewidth\": 0, \"ticks\": \"\"}, \"colorscale\": [[0.0, \"#0d0887\"], [0.1111111111111111, \"#46039f\"], [0.2222222222222222, \"#7201a8\"], [0.3333333333333333, \"#9c179e\"], [0.4444444444444444, \"#bd3786\"], [0.5555555555555556, \"#d8576b\"], [0.6666666666666666, \"#ed7953\"], [0.7777777777777778, \"#fb9f3a\"], [0.8888888888888888, \"#fdca26\"], [1.0, \"#f0f921\"]], \"type\": \"histogram2d\"}], \"histogram2dcontour\": [{\"colorbar\": {\"outlinewidth\": 0, \"ticks\": \"\"}, \"colorscale\": [[0.0, \"#0d0887\"], [0.1111111111111111, \"#46039f\"], [0.2222222222222222, \"#7201a8\"], [0.3333333333333333, \"#9c179e\"], [0.4444444444444444, \"#bd3786\"], [0.5555555555555556, \"#d8576b\"], [0.6666666666666666, \"#ed7953\"], [0.7777777777777778, \"#fb9f3a\"], [0.8888888888888888, \"#fdca26\"], [1.0, \"#f0f921\"]], \"type\": \"histogram2dcontour\"}], \"mesh3d\": [{\"colorbar\": {\"outlinewidth\": 0, \"ticks\": \"\"}, \"type\": \"mesh3d\"}], \"parcoords\": [{\"line\": {\"colorbar\": {\"outlinewidth\": 0, \"ticks\": \"\"}}, \"type\": \"parcoords\"}], \"pie\": [{\"automargin\": true, \"type\": \"pie\"}], \"scatter\": [{\"marker\": {\"colorbar\": {\"outlinewidth\": 0, \"ticks\": \"\"}}, \"type\": \"scatter\"}], \"scatter3d\": [{\"line\": {\"colorbar\": {\"outlinewidth\": 0, \"ticks\": \"\"}}, \"marker\": {\"colorbar\": {\"outlinewidth\": 0, \"ticks\": \"\"}}, \"type\": \"scatter3d\"}], \"scattercarpet\": [{\"marker\": {\"colorbar\": {\"outlinewidth\": 0, \"ticks\": \"\"}}, \"type\": \"scattercarpet\"}], \"scattergeo\": [{\"marker\": {\"colorbar\": {\"outlinewidth\": 0, \"ticks\": \"\"}}, \"type\": \"scattergeo\"}], \"scattergl\": [{\"marker\": {\"colorbar\": {\"outlinewidth\": 0, \"ticks\": \"\"}}, \"type\": \"scattergl\"}], \"scattermapbox\": [{\"marker\": {\"colorbar\": {\"outlinewidth\": 0, \"ticks\": \"\"}}, \"type\": \"scattermapbox\"}], \"scatterpolar\": [{\"marker\": {\"colorbar\": {\"outlinewidth\": 0, \"ticks\": \"\"}}, \"type\": \"scatterpolar\"}], \"scatterpolargl\": [{\"marker\": {\"colorbar\": {\"outlinewidth\": 0, \"ticks\": \"\"}}, \"type\": \"scatterpolargl\"}], \"scatterternary\": [{\"marker\": {\"colorbar\": {\"outlinewidth\": 0, \"ticks\": \"\"}}, \"type\": \"scatterternary\"}], \"surface\": [{\"colorbar\": {\"outlinewidth\": 0, \"ticks\": \"\"}, \"colorscale\": [[0.0, \"#0d0887\"], [0.1111111111111111, \"#46039f\"], [0.2222222222222222, \"#7201a8\"], [0.3333333333333333, \"#9c179e\"], [0.4444444444444444, \"#bd3786\"], [0.5555555555555556, \"#d8576b\"], [0.6666666666666666, \"#ed7953\"], [0.7777777777777778, \"#fb9f3a\"], [0.8888888888888888, \"#fdca26\"], [1.0, \"#f0f921\"]], \"type\": \"surface\"}], \"table\": [{\"cells\": {\"fill\": {\"color\": \"#EBF0F8\"}, \"line\": {\"color\": \"white\"}}, \"header\": {\"fill\": {\"color\": \"#C8D4E3\"}, \"line\": {\"color\": \"white\"}}, \"type\": \"table\"}]}, \"layout\": {\"annotationdefaults\": {\"arrowcolor\": \"#2a3f5f\", \"arrowhead\": 0, \"arrowwidth\": 1}, \"coloraxis\": {\"colorbar\": {\"outlinewidth\": 0, \"ticks\": \"\"}}, \"colorscale\": {\"diverging\": [[0, \"#8e0152\"], [0.1, \"#c51b7d\"], [0.2, \"#de77ae\"], [0.3, \"#f1b6da\"], [0.4, \"#fde0ef\"], [0.5, \"#f7f7f7\"], [0.6, \"#e6f5d0\"], [0.7, \"#b8e186\"], [0.8, \"#7fbc41\"], [0.9, \"#4d9221\"], [1, \"#276419\"]], \"sequential\": [[0.0, \"#0d0887\"], [0.1111111111111111, \"#46039f\"], [0.2222222222222222, \"#7201a8\"], [0.3333333333333333, \"#9c179e\"], [0.4444444444444444, \"#bd3786\"], [0.5555555555555556, \"#d8576b\"], [0.6666666666666666, \"#ed7953\"], [0.7777777777777778, \"#fb9f3a\"], [0.8888888888888888, \"#fdca26\"], [1.0, \"#f0f921\"]], \"sequentialminus\": [[0.0, \"#0d0887\"], [0.1111111111111111, \"#46039f\"], [0.2222222222222222, \"#7201a8\"], [0.3333333333333333, \"#9c179e\"], [0.4444444444444444, \"#bd3786\"], [0.5555555555555556, \"#d8576b\"], [0.6666666666666666, \"#ed7953\"], [0.7777777777777778, \"#fb9f3a\"], [0.8888888888888888, \"#fdca26\"], [1.0, \"#f0f921\"]]}, \"colorway\": [\"#636efa\", \"#EF553B\", \"#00cc96\", \"#ab63fa\", \"#FFA15A\", \"#19d3f3\", \"#FF6692\", \"#B6E880\", \"#FF97FF\", \"#FECB52\"], \"font\": {\"color\": \"#2a3f5f\"}, \"geo\": {\"bgcolor\": \"white\", \"lakecolor\": \"white\", \"landcolor\": \"white\", \"showlakes\": true, \"showland\": true, \"subunitcolor\": \"#C8D4E3\"}, \"hoverlabel\": {\"align\": \"left\"}, \"hovermode\": \"closest\", \"mapbox\": {\"style\": \"light\"}, \"paper_bgcolor\": \"white\", \"plot_bgcolor\": \"white\", \"polar\": {\"angularaxis\": {\"gridcolor\": \"#EBF0F8\", \"linecolor\": \"#EBF0F8\", \"ticks\": \"\"}, \"bgcolor\": \"white\", \"radialaxis\": {\"gridcolor\": \"#EBF0F8\", \"linecolor\": \"#EBF0F8\", \"ticks\": \"\"}}, \"scene\": {\"xaxis\": {\"backgroundcolor\": \"white\", \"gridcolor\": \"#DFE8F3\", \"gridwidth\": 2, \"linecolor\": \"#EBF0F8\", \"showbackground\": true, \"ticks\": \"\", \"zerolinecolor\": \"#EBF0F8\"}, \"yaxis\": {\"backgroundcolor\": \"white\", \"gridcolor\": \"#DFE8F3\", \"gridwidth\": 2, \"linecolor\": \"#EBF0F8\", \"showbackground\": true, \"ticks\": \"\", \"zerolinecolor\": \"#EBF0F8\"}, \"zaxis\": {\"backgroundcolor\": \"white\", \"gridcolor\": \"#DFE8F3\", \"gridwidth\": 2, \"linecolor\": \"#EBF0F8\", \"showbackground\": true, \"ticks\": \"\", \"zerolinecolor\": \"#EBF0F8\"}}, \"shapedefaults\": {\"line\": {\"color\": \"#2a3f5f\"}}, \"ternary\": {\"aaxis\": {\"gridcolor\": \"#DFE8F3\", \"linecolor\": \"#A2B1C6\", \"ticks\": \"\"}, \"baxis\": {\"gridcolor\": \"#DFE8F3\", \"linecolor\": \"#A2B1C6\", \"ticks\": \"\"}, \"bgcolor\": \"white\", \"caxis\": {\"gridcolor\": \"#DFE8F3\", \"linecolor\": \"#A2B1C6\", \"ticks\": \"\"}}, \"title\": {\"x\": 0.05}, \"xaxis\": {\"automargin\": true, \"gridcolor\": \"#EBF0F8\", \"linecolor\": \"#EBF0F8\", \"ticks\": \"\", \"title\": {\"standoff\": 15}, \"zerolinecolor\": \"#EBF0F8\", \"zerolinewidth\": 2}, \"yaxis\": {\"automargin\": true, \"gridcolor\": \"#EBF0F8\", \"linecolor\": \"#EBF0F8\", \"ticks\": \"\", \"title\": {\"standoff\": 15}, \"zerolinecolor\": \"#EBF0F8\", \"zerolinewidth\": 2}}}, \"xaxis\": {\"anchor\": \"y\", \"domain\": [0.0, 1.0], \"title\": {\"text\": \"weekly_coef_var\"}}, \"yaxis\": {\"anchor\": \"x\", \"domain\": [0.0, 1.0], \"title\": {\"text\": \"daily_coef_var\"}}},\n",
       "                        {\"responsive\": true}\n",
       "                    ).then(function(){\n",
       "                            \n",
       "var gd = document.getElementById('8c4c0df7-0a7f-458a-9810-8de45055798a');\n",
       "var x = new MutationObserver(function (mutations, observer) {{\n",
       "        var display = window.getComputedStyle(gd).display;\n",
       "        if (!display || display === 'none') {{\n",
       "            console.log([gd, 'removed!']);\n",
       "            Plotly.purge(gd);\n",
       "            observer.disconnect();\n",
       "        }}\n",
       "}});\n",
       "\n",
       "// Listen for the removal of the full notebook cells\n",
       "var notebookContainer = gd.closest('#notebook-container');\n",
       "if (notebookContainer) {{\n",
       "    x.observe(notebookContainer, {childList: true});\n",
       "}}\n",
       "\n",
       "// Listen for the clearing of the current output cell\n",
       "var outputEl = gd.closest('.output');\n",
       "if (outputEl) {{\n",
       "    x.observe(outputEl, {childList: true});\n",
       "}}\n",
       "\n",
       "                        })\n",
       "                };\n",
       "                });\n",
       "            </script>\n",
       "        </div>"
      ]
     },
     "metadata": {},
     "output_type": "display_data"
    }
   ],
   "source": [
    "import plotly.express as px\n",
    "\n",
    "px.scatter(df.dropna(subset=['weekly_coef_var', 'daily_coef_var'])\\\n",
    "             .query('weekly_coef_var < 1').query('daily_coef_var < 1'),\n",
    "            x=\"weekly_coef_var\", y=\"daily_coef_var\", color='region_type',\n",
    "            hover_name=\"region_slug\", template='plotly_white', trendline='ols').show()"
   ]
  },
  {
   "cell_type": "code",
   "execution_count": 60,
   "metadata": {},
   "outputs": [
    {
     "data": {
      "application/vnd.plotly.v1+json": {
       "config": {
        "plotlyServerURL": "https://plot.ly"
       },
       "data": [
        {
         "hoverlabel": {
          "namelength": 0
         },
         "hovertemplate": "<b>%{hovertext}</b><br><br>region_type=city<br>daily_mean=%{x}<br>daily_coef_var=%{y}",
         "hovertext": [
          "bogota",
          "managua",
          "kingston",
          "natal",
          "barquisimeto",
          "mendoza",
          "curitiba",
          "toluca",
          "barranquilla",
          "buenosaires",
          "paramaribo",
          "santodomingo",
          "saojosedoscampos",
          "panamacity",
          "sanfernado",
          "santiago",
          "fortaleza",
          "salvador",
          "manaus",
          "saopaulo",
          "teresina",
          "tegucigalpa",
          "georgetown",
          "ciudad_guayana",
          "montevideo",
          "merida",
          "belpoman",
          "porto_alergre",
          "arequipa",
          "tijuana",
          "saoluis",
          "cochabamba",
          "sorocaba",
          "joaopessoa",
          "mexicocity",
          "brasilia",
          "guadalajara",
          "lapaz",
          "nassau",
          "pereira",
          "asuncion",
          "santacruzdelasierra",
          "santiagocaballeros",
          "recife",
          "monterrey",
          "goiania",
          "guayaquil",
          "caracas",
          "guatemala",
          "cartagena",
          "belem",
          "pueble",
          "bridgetown",
          "riodejaneiro",
          "cucuta",
          "rosario",
          "quito",
          "campinas",
          "sanpedrosula",
          "maceio",
          "aguascalientes",
          "leon",
          "queretaro",
          "portauprince",
          "maracaibo",
          "cuenca",
          "barcelona",
          "medellin",
          "bucaramanga",
          "cordoba",
          "santos",
          "sanjose",
          "portofspain",
          "juarez",
          "sanluispotosi",
          "sansalvador",
          "santamarta",
          "valencia",
          "belohorizonte",
          "joinville",
          "vitoria",
          "maracay",
          "lima",
          "cali",
          "florianopolis",
          "torreon"
         ],
         "legendgroup": "region_type=city",
         "marker": {
          "color": "#636efa",
          "symbol": "circle"
         },
         "mode": "markers",
         "name": "region_type=city",
         "showlegend": true,
         "type": "scatter",
         "x": [
          108725100.7041096,
          2400172.98630137,
          557639.402739726,
          23648749.646575347,
          66070.49589041095,
          1254893.7506849314,
          22681555.51506849,
          16045936.161643835,
          11689385.487671236,
          80850103.72054794,
          258157.12328767125,
          34210987.84109589,
          4030446.2356164395,
          21536276.01917808,
          2388487.134246575,
          50165808.71232877,
          23648749.657534245,
          23497129.71506849,
          15598951.97260274,
          183228626.5589041,
          6010425.249315067,
          2030473.6246575343,
          26407.378082191783,
          8975.016438356164,
          10162542.701369863,
          6039867.3643835625,
          942.837912087912,
          26363607.9260274,
          4027590.739726028,
          13044426.290410958,
          9123424.4630137,
          71514.35616438357,
          2794657.789041096,
          5945605.180821918,
          206718381.8027397,
          11089420.775342466,
          41796690.43561644,
          182588.36438356165,
          62971.06575342466,
          3852287.336986302,
          8845599.953424657,
          4742519.7260273965,
          6269621.734246575,
          29658158.334246576,
          30138101.136986304,
          12937496.778082192,
          9348242.032876713,
          4252677.909589041,
          37697472.42739726,
          4602740.26849315,
          14521029.646575345,
          17472610.243835617,
          282391.2821917808,
          81501708.83835617,
          767252.9397260273,
          1506847.7232876713,
          22871203.89589041,
          11329321.457534244,
          1116528.1424657535,
          8658823.52328767,
          4104239.484931506,
          7567803.8575342465,
          11231065.369863013,
          177534.23287671234,
          12764.961643835615,
          277345.75616438355,
          39335.18904109589,
          23285899.583561644,
          3687313.4986301367,
          3129291.350684932,
          11392350.484931504,
          30049895.01369863,
          4875202.709589041,
          6403636.4821917815,
          7183587.391780823,
          16181388.383561645,
          1239564.016438356,
          194552.6410958904,
          33959904.4,
          3891869.4712328766,
          10184478.221917808,
          138373.42739726027,
          78837465.56438357,
          15923213.534246575,
          2718240.6493150685,
          2957524.7397260275
         ],
         "xaxis": "x",
         "y": [
          0.286687662643728,
          0.3629514173828339,
          0.4913199438629126,
          0.3218078349339457,
          5.000836624039025,
          0.5064936515589152,
          0.4186142215253612,
          0.3057780385086514,
          0.3163910324449694,
          0.3260660410011728,
          0.5819431106660168,
          0.3562465186615954,
          0.3851238441317576,
          0.4293121020093684,
          0.5842253311109938,
          0.4599735641538645,
          0.3218078552150265,
          0.4023471521516148,
          0.36492219865273307,
          0.38178256776564856,
          0.35529926125508643,
          0.4686928338648748,
          0.6622589958240079,
          0.9066220072286058,
          0.2610481192533073,
          0.32496415626767394,
          1.912415393818084,
          0.3978839761328267,
          0.3293463788343317,
          0.537685041140292,
          0.3600816246476056,
          0.3901488336454791,
          0.37320057041447896,
          0.3655957268206133,
          0.2902237749522706,
          0.4273620854617822,
          0.2789510545475381,
          0.377591115337318,
          0.5993929668036775,
          0.3632141233098592,
          0.5024926494510125,
          0.3835259014471612,
          0.345393403270178,
          0.3334482519623064,
          0.38381424639318334,
          0.38130140623440745,
          0.3696814397926295,
          0.7585159205269386,
          0.3335739853631477,
          0.2780462537994965,
          0.3373353933393028,
          0.2542411161495161,
          0.6461886109826176,
          0.3491878604154344,
          0.3687136406207601,
          0.34350378923962294,
          0.3347288418028682,
          0.40524945878448937,
          0.5099230688810314,
          0.3557268854932578,
          0.3471476256721193,
          0.36042032822319375,
          0.3112002843246247,
          0.6332340212421065,
          0.8193474859061922,
          0.42672931063487374,
          0.6327443923284488,
          0.35203764596985515,
          0.3485025391703524,
          0.6082979716525952,
          0.3547067910132126,
          0.3625308614440186,
          0.5838682256868514,
          0.5369215735760726,
          0.3980516132737778,
          0.40309466693187546,
          0.47455358827483296,
          0.7708302668025113,
          0.3701770949326142,
          0.5238835892328816,
          0.3782760731958649,
          0.7313373114292863,
          0.24784106107936546,
          0.32744906787280204,
          0.5351597012964407,
          0.5089592897685637
         ],
         "yaxis": "y"
        },
        {
         "hoverlabel": {
          "namelength": 0
         },
         "hovertemplate": "<b>%{hovertext}</b><br><br>region_type=submetro<br>daily_mean=%{x}<br>daily_coef_var=%{y}",
         "hovertext": [
          "ch_comunas_renca",
          "lima_metro1",
          "ch_comunas_san_joaquin",
          "ch_comunas_el_monte",
          "ch_comunas_melipilla",
          "ch_comunas_maipu",
          "ch_comunas_alhue",
          "ch_comunas_recoleta",
          "ch_comunas_pudahuel",
          "ch_comunas_vitacura",
          "ch_comunas_la_reina",
          "ch_comunas_calera_de_tango",
          "ch_comunas_colina",
          "ch_comunas_pedro_aguirre_cerda",
          "ch_comunas_cerrillos",
          "ch_comunas_independencia",
          "ch_comunas_macul",
          "ch_comunas_quilicura",
          "ch_comunas_lampa",
          "ch_comunas_san_miguel",
          "bogota_metro1",
          "ch_comunas_lo_espejo",
          "ch_comunas_penaflor",
          "ch_comunas_la_pintana",
          "ch_comunas_quinta_normal",
          "ch_comunas_padre_hurtado",
          "ch_comunas_santiago",
          "ch_comunas_conchali",
          "ch_comunas_san_bernardo",
          "ch_comunas_huechuraba",
          "ch_comunas_san_jose_de_maipo",
          "ch_comunas_penalolen",
          "lima_metro2",
          "ch_comunas_providencia",
          "ch_comunas_las_condes",
          "ch_comunas_talagante",
          "ch_comunas_puente_alto",
          "ch_comunas_san_pedro",
          "ch_comunas_el_bosque",
          "ch_comunas_paine",
          "ch_comunas_estacion_central",
          "ch_comunas_san_ramon",
          "ch_comunas_pirque",
          "ch_comunas_cerro_navia",
          "ch_comunas_lo_barnechea",
          "ch_comunas_buin",
          "ch_comunas_la_granja",
          "bogota_metro2",
          "ch_comunas_isla_de_maipo",
          "ch_comunas_lo_prado",
          "ch_comunas_curacavi",
          "ch_comunas_tiltil",
          "ch_comunas_nunoa",
          "ch_comunas_la_florida",
          "ch_comunas_maria_pinto",
          "ch_comunas_la_cisterna"
         ],
         "legendgroup": "region_type=submetro",
         "marker": {
          "color": "#EF553B",
          "symbol": "circle"
         },
         "mode": "markers",
         "name": "region_type=submetro",
         "showlegend": true,
         "type": "scatter",
         "x": [
          0,
          30487091.8,
          0,
          0,
          0,
          0,
          0,
          0,
          0,
          0,
          0,
          0,
          0,
          0,
          0,
          0,
          0,
          0,
          0,
          0,
          55064886.89863014,
          0,
          0,
          0,
          0,
          0,
          0,
          0,
          0,
          0,
          0,
          0,
          42903338.16712329,
          0,
          0,
          0,
          0,
          0,
          0,
          0,
          0,
          0,
          0,
          0,
          0,
          0,
          0,
          61776124.24657534,
          0,
          0,
          0,
          0,
          0,
          0,
          0,
          0
         ],
         "xaxis": "x",
         "y": [
          null,
          0.3631105754913515,
          null,
          null,
          null,
          null,
          null,
          null,
          null,
          null,
          null,
          null,
          null,
          null,
          null,
          null,
          null,
          null,
          null,
          null,
          0.34849264712983274,
          null,
          null,
          null,
          null,
          null,
          null,
          null,
          null,
          null,
          null,
          null,
          0.19449973753520394,
          null,
          null,
          null,
          null,
          null,
          null,
          null,
          null,
          null,
          null,
          null,
          null,
          null,
          null,
          0.2613597399371207,
          null,
          null,
          null,
          null,
          null,
          null,
          null,
          null
         ],
         "yaxis": "y"
        },
        {
         "hoverlabel": {
          "namelength": 0
         },
         "hovertemplate": "<b>%{hovertext}</b><br><br>region_type=country<br>daily_mean=%{x}<br>daily_coef_var=%{y}",
         "hovertext": [
          "country_guyana",
          "country_ecuador",
          "country_nicaragua",
          "country_venezuela",
          "country_barbados",
          "country_costa_rica",
          "country_haiti",
          "country_uruguay",
          "country_bolivia",
          "country_guatemala",
          "country_peru",
          "country_colombia",
          "country_chile",
          "country_brazil",
          "country_argentina",
          "country_paraguay",
          "country_honduras",
          "country_el_salvador",
          "country_trinidad_and_tobago",
          "country_jamaica",
          "country_panama",
          "country_the_bahamas",
          "country_suriname",
          "country_belize",
          "country_mexico",
          "country_dominican_republic"
         ],
         "legendgroup": "region_type=country",
         "marker": {
          "color": "#00cc96",
          "symbol": "circle"
         },
         "mode": "markers",
         "name": "region_type=country",
         "showlegend": true,
         "type": "scatter",
         "x": [
          69317.35342465753,
          42614814.63013699,
          7429310.493150685,
          5554330.7534246575,
          408588.0219178082,
          81689115.89315069,
          434172.7671232877,
          16952157.421917807,
          6684187.868493151,
          62137752.36712329,
          126676605.80547944,
          279069727.4438356,
          159754799.81095892,
          null,
          162209757.31232876,
          11104420.6,
          7993598.353424657,
          28786777.783561643,
          15676135.49589041,
          2156668.128767124,
          37838900.263013706,
          244137.57260273967,
          461193.2520547945,
          322534.3287671233,
          824721948.3452054,
          46700577.91232877
         ],
         "xaxis": "x",
         "y": [
          0.8408325580616669,
          0.24641806677734066,
          0.2720620028090954,
          0.6037744080533433,
          0.4334737156391757,
          0.21852737281934345,
          0.8397854133052594,
          0.36451897112327225,
          0.32478331853071696,
          0.2570009170262702,
          0.19768579932496216,
          0.2289632940046689,
          0.23369150608189435,
          null,
          0.2912960017701939,
          0.4502005869871279,
          0.3139711127545384,
          0.3276504000971684,
          0.4486804310597353,
          0.24874123108136825,
          0.26871986528755604,
          0.4468837917815035,
          0.4675533198608427,
          0.6636937815775654,
          0.279870068750045,
          0.2954177233140175
         ],
         "yaxis": "y"
        },
        {
         "hoverlabel": {
          "namelength": 0
         },
         "hovertemplate": "<b>%{hovertext}</b><br><br>region_type=state<br>daily_mean=%{x}<br>daily_coef_var=%{y}",
         "hovertext": [
          "br_states_paraiba",
          "br_states_sao_paulo",
          "br_states_amapa",
          "br_states_tocantins",
          "br_states_sergipe",
          "br_states_espirito_santo",
          "br_states_alagoas",
          "br_states_goias",
          "br_states_para",
          "br_states_roraima",
          "br_states_amazonas",
          "br_states_santa_catarina",
          "br_states_rondonia",
          "br_states_rio_grande_do_sul",
          "br_states_ceara",
          "br_states_mato_grosso_do_sul",
          "br_states_bahia",
          "br_states_maranhao",
          "br_states_acre",
          "br_states_minas_gerais",
          "br_states_rio_de_janeiro",
          "br_states_pernambuco",
          "br_states_piaui",
          "br_states_mato_grosso",
          "br_states_rio_grande_do_norte",
          "br_states_parana",
          "br_states_distrito_federal"
         ],
         "legendgroup": "region_type=state",
         "marker": {
          "color": "#ab63fa",
          "symbol": "circle"
         },
         "mode": "markers",
         "name": "region_type=state",
         "showlegend": true,
         "type": "scatter",
         "x": [
          15481362.2,
          347707654.46027404,
          3907808.98630137,
          11955343.136986302,
          11403168.2,
          21157469.265753426,
          12163957.989041096,
          58807749.29041096,
          36354958.82465754,
          1751681.208219178,
          16286035.205479452,
          77992488.55890411,
          8490739.087671233,
          107939053.81369863,
          49874861.80273973,
          26435424.375342466,
          74758473.72328767,
          34795381.3369863,
          3321895.5452054795,
          212089532.49315068,
          126737508.80821918,
          56409534.44383562,
          16721082.501369866,
          28200803.742465757,
          17987381.301369864,
          126168144.5178082,
          15694743.515068496
         ],
         "xaxis": "x",
         "y": [
          0.2596467853169876,
          0.2853556982855925,
          0.3689282415418469,
          0.44578869163924295,
          0.2324383651526673,
          0.2983339227721357,
          0.2631354363427174,
          0.2776074275479336,
          0.3501118346683844,
          0.35242730719822885,
          0.3427045803597393,
          0.3191762376958843,
          0.33653619016486264,
          0.3231918056443795,
          0.30203396659725584,
          0.3332254857215594,
          0.2722376795527333,
          0.3558850086262803,
          0.4047245233571951,
          0.2523440402803457,
          0.29971699371031885,
          0.2607934022173383,
          0.3959760012503454,
          0.3481698076642023,
          0.2955963379326049,
          0.3445840638489446,
          0.3535119332487892
         ],
         "yaxis": "y"
        }
       ],
       "layout": {
        "height": 600,
        "legend": {
         "tracegroupgap": 0
        },
        "margin": {
         "t": 60
        },
        "template": {
         "data": {
          "bar": [
           {
            "error_x": {
             "color": "#2a3f5f"
            },
            "error_y": {
             "color": "#2a3f5f"
            },
            "marker": {
             "line": {
              "color": "white",
              "width": 0.5
             }
            },
            "type": "bar"
           }
          ],
          "barpolar": [
           {
            "marker": {
             "line": {
              "color": "white",
              "width": 0.5
             }
            },
            "type": "barpolar"
           }
          ],
          "carpet": [
           {
            "aaxis": {
             "endlinecolor": "#2a3f5f",
             "gridcolor": "#C8D4E3",
             "linecolor": "#C8D4E3",
             "minorgridcolor": "#C8D4E3",
             "startlinecolor": "#2a3f5f"
            },
            "baxis": {
             "endlinecolor": "#2a3f5f",
             "gridcolor": "#C8D4E3",
             "linecolor": "#C8D4E3",
             "minorgridcolor": "#C8D4E3",
             "startlinecolor": "#2a3f5f"
            },
            "type": "carpet"
           }
          ],
          "choropleth": [
           {
            "colorbar": {
             "outlinewidth": 0,
             "ticks": ""
            },
            "type": "choropleth"
           }
          ],
          "contour": [
           {
            "colorbar": {
             "outlinewidth": 0,
             "ticks": ""
            },
            "colorscale": [
             [
              0,
              "#0d0887"
             ],
             [
              0.1111111111111111,
              "#46039f"
             ],
             [
              0.2222222222222222,
              "#7201a8"
             ],
             [
              0.3333333333333333,
              "#9c179e"
             ],
             [
              0.4444444444444444,
              "#bd3786"
             ],
             [
              0.5555555555555556,
              "#d8576b"
             ],
             [
              0.6666666666666666,
              "#ed7953"
             ],
             [
              0.7777777777777778,
              "#fb9f3a"
             ],
             [
              0.8888888888888888,
              "#fdca26"
             ],
             [
              1,
              "#f0f921"
             ]
            ],
            "type": "contour"
           }
          ],
          "contourcarpet": [
           {
            "colorbar": {
             "outlinewidth": 0,
             "ticks": ""
            },
            "type": "contourcarpet"
           }
          ],
          "heatmap": [
           {
            "colorbar": {
             "outlinewidth": 0,
             "ticks": ""
            },
            "colorscale": [
             [
              0,
              "#0d0887"
             ],
             [
              0.1111111111111111,
              "#46039f"
             ],
             [
              0.2222222222222222,
              "#7201a8"
             ],
             [
              0.3333333333333333,
              "#9c179e"
             ],
             [
              0.4444444444444444,
              "#bd3786"
             ],
             [
              0.5555555555555556,
              "#d8576b"
             ],
             [
              0.6666666666666666,
              "#ed7953"
             ],
             [
              0.7777777777777778,
              "#fb9f3a"
             ],
             [
              0.8888888888888888,
              "#fdca26"
             ],
             [
              1,
              "#f0f921"
             ]
            ],
            "type": "heatmap"
           }
          ],
          "heatmapgl": [
           {
            "colorbar": {
             "outlinewidth": 0,
             "ticks": ""
            },
            "colorscale": [
             [
              0,
              "#0d0887"
             ],
             [
              0.1111111111111111,
              "#46039f"
             ],
             [
              0.2222222222222222,
              "#7201a8"
             ],
             [
              0.3333333333333333,
              "#9c179e"
             ],
             [
              0.4444444444444444,
              "#bd3786"
             ],
             [
              0.5555555555555556,
              "#d8576b"
             ],
             [
              0.6666666666666666,
              "#ed7953"
             ],
             [
              0.7777777777777778,
              "#fb9f3a"
             ],
             [
              0.8888888888888888,
              "#fdca26"
             ],
             [
              1,
              "#f0f921"
             ]
            ],
            "type": "heatmapgl"
           }
          ],
          "histogram": [
           {
            "marker": {
             "colorbar": {
              "outlinewidth": 0,
              "ticks": ""
             }
            },
            "type": "histogram"
           }
          ],
          "histogram2d": [
           {
            "colorbar": {
             "outlinewidth": 0,
             "ticks": ""
            },
            "colorscale": [
             [
              0,
              "#0d0887"
             ],
             [
              0.1111111111111111,
              "#46039f"
             ],
             [
              0.2222222222222222,
              "#7201a8"
             ],
             [
              0.3333333333333333,
              "#9c179e"
             ],
             [
              0.4444444444444444,
              "#bd3786"
             ],
             [
              0.5555555555555556,
              "#d8576b"
             ],
             [
              0.6666666666666666,
              "#ed7953"
             ],
             [
              0.7777777777777778,
              "#fb9f3a"
             ],
             [
              0.8888888888888888,
              "#fdca26"
             ],
             [
              1,
              "#f0f921"
             ]
            ],
            "type": "histogram2d"
           }
          ],
          "histogram2dcontour": [
           {
            "colorbar": {
             "outlinewidth": 0,
             "ticks": ""
            },
            "colorscale": [
             [
              0,
              "#0d0887"
             ],
             [
              0.1111111111111111,
              "#46039f"
             ],
             [
              0.2222222222222222,
              "#7201a8"
             ],
             [
              0.3333333333333333,
              "#9c179e"
             ],
             [
              0.4444444444444444,
              "#bd3786"
             ],
             [
              0.5555555555555556,
              "#d8576b"
             ],
             [
              0.6666666666666666,
              "#ed7953"
             ],
             [
              0.7777777777777778,
              "#fb9f3a"
             ],
             [
              0.8888888888888888,
              "#fdca26"
             ],
             [
              1,
              "#f0f921"
             ]
            ],
            "type": "histogram2dcontour"
           }
          ],
          "mesh3d": [
           {
            "colorbar": {
             "outlinewidth": 0,
             "ticks": ""
            },
            "type": "mesh3d"
           }
          ],
          "parcoords": [
           {
            "line": {
             "colorbar": {
              "outlinewidth": 0,
              "ticks": ""
             }
            },
            "type": "parcoords"
           }
          ],
          "pie": [
           {
            "automargin": true,
            "type": "pie"
           }
          ],
          "scatter": [
           {
            "marker": {
             "colorbar": {
              "outlinewidth": 0,
              "ticks": ""
             }
            },
            "type": "scatter"
           }
          ],
          "scatter3d": [
           {
            "line": {
             "colorbar": {
              "outlinewidth": 0,
              "ticks": ""
             }
            },
            "marker": {
             "colorbar": {
              "outlinewidth": 0,
              "ticks": ""
             }
            },
            "type": "scatter3d"
           }
          ],
          "scattercarpet": [
           {
            "marker": {
             "colorbar": {
              "outlinewidth": 0,
              "ticks": ""
             }
            },
            "type": "scattercarpet"
           }
          ],
          "scattergeo": [
           {
            "marker": {
             "colorbar": {
              "outlinewidth": 0,
              "ticks": ""
             }
            },
            "type": "scattergeo"
           }
          ],
          "scattergl": [
           {
            "marker": {
             "colorbar": {
              "outlinewidth": 0,
              "ticks": ""
             }
            },
            "type": "scattergl"
           }
          ],
          "scattermapbox": [
           {
            "marker": {
             "colorbar": {
              "outlinewidth": 0,
              "ticks": ""
             }
            },
            "type": "scattermapbox"
           }
          ],
          "scatterpolar": [
           {
            "marker": {
             "colorbar": {
              "outlinewidth": 0,
              "ticks": ""
             }
            },
            "type": "scatterpolar"
           }
          ],
          "scatterpolargl": [
           {
            "marker": {
             "colorbar": {
              "outlinewidth": 0,
              "ticks": ""
             }
            },
            "type": "scatterpolargl"
           }
          ],
          "scatterternary": [
           {
            "marker": {
             "colorbar": {
              "outlinewidth": 0,
              "ticks": ""
             }
            },
            "type": "scatterternary"
           }
          ],
          "surface": [
           {
            "colorbar": {
             "outlinewidth": 0,
             "ticks": ""
            },
            "colorscale": [
             [
              0,
              "#0d0887"
             ],
             [
              0.1111111111111111,
              "#46039f"
             ],
             [
              0.2222222222222222,
              "#7201a8"
             ],
             [
              0.3333333333333333,
              "#9c179e"
             ],
             [
              0.4444444444444444,
              "#bd3786"
             ],
             [
              0.5555555555555556,
              "#d8576b"
             ],
             [
              0.6666666666666666,
              "#ed7953"
             ],
             [
              0.7777777777777778,
              "#fb9f3a"
             ],
             [
              0.8888888888888888,
              "#fdca26"
             ],
             [
              1,
              "#f0f921"
             ]
            ],
            "type": "surface"
           }
          ],
          "table": [
           {
            "cells": {
             "fill": {
              "color": "#EBF0F8"
             },
             "line": {
              "color": "white"
             }
            },
            "header": {
             "fill": {
              "color": "#C8D4E3"
             },
             "line": {
              "color": "white"
             }
            },
            "type": "table"
           }
          ]
         },
         "layout": {
          "annotationdefaults": {
           "arrowcolor": "#2a3f5f",
           "arrowhead": 0,
           "arrowwidth": 1
          },
          "coloraxis": {
           "colorbar": {
            "outlinewidth": 0,
            "ticks": ""
           }
          },
          "colorscale": {
           "diverging": [
            [
             0,
             "#8e0152"
            ],
            [
             0.1,
             "#c51b7d"
            ],
            [
             0.2,
             "#de77ae"
            ],
            [
             0.3,
             "#f1b6da"
            ],
            [
             0.4,
             "#fde0ef"
            ],
            [
             0.5,
             "#f7f7f7"
            ],
            [
             0.6,
             "#e6f5d0"
            ],
            [
             0.7,
             "#b8e186"
            ],
            [
             0.8,
             "#7fbc41"
            ],
            [
             0.9,
             "#4d9221"
            ],
            [
             1,
             "#276419"
            ]
           ],
           "sequential": [
            [
             0,
             "#0d0887"
            ],
            [
             0.1111111111111111,
             "#46039f"
            ],
            [
             0.2222222222222222,
             "#7201a8"
            ],
            [
             0.3333333333333333,
             "#9c179e"
            ],
            [
             0.4444444444444444,
             "#bd3786"
            ],
            [
             0.5555555555555556,
             "#d8576b"
            ],
            [
             0.6666666666666666,
             "#ed7953"
            ],
            [
             0.7777777777777778,
             "#fb9f3a"
            ],
            [
             0.8888888888888888,
             "#fdca26"
            ],
            [
             1,
             "#f0f921"
            ]
           ],
           "sequentialminus": [
            [
             0,
             "#0d0887"
            ],
            [
             0.1111111111111111,
             "#46039f"
            ],
            [
             0.2222222222222222,
             "#7201a8"
            ],
            [
             0.3333333333333333,
             "#9c179e"
            ],
            [
             0.4444444444444444,
             "#bd3786"
            ],
            [
             0.5555555555555556,
             "#d8576b"
            ],
            [
             0.6666666666666666,
             "#ed7953"
            ],
            [
             0.7777777777777778,
             "#fb9f3a"
            ],
            [
             0.8888888888888888,
             "#fdca26"
            ],
            [
             1,
             "#f0f921"
            ]
           ]
          },
          "colorway": [
           "#636efa",
           "#EF553B",
           "#00cc96",
           "#ab63fa",
           "#FFA15A",
           "#19d3f3",
           "#FF6692",
           "#B6E880",
           "#FF97FF",
           "#FECB52"
          ],
          "font": {
           "color": "#2a3f5f"
          },
          "geo": {
           "bgcolor": "white",
           "lakecolor": "white",
           "landcolor": "white",
           "showlakes": true,
           "showland": true,
           "subunitcolor": "#C8D4E3"
          },
          "hoverlabel": {
           "align": "left"
          },
          "hovermode": "closest",
          "mapbox": {
           "style": "light"
          },
          "paper_bgcolor": "white",
          "plot_bgcolor": "white",
          "polar": {
           "angularaxis": {
            "gridcolor": "#EBF0F8",
            "linecolor": "#EBF0F8",
            "ticks": ""
           },
           "bgcolor": "white",
           "radialaxis": {
            "gridcolor": "#EBF0F8",
            "linecolor": "#EBF0F8",
            "ticks": ""
           }
          },
          "scene": {
           "xaxis": {
            "backgroundcolor": "white",
            "gridcolor": "#DFE8F3",
            "gridwidth": 2,
            "linecolor": "#EBF0F8",
            "showbackground": true,
            "ticks": "",
            "zerolinecolor": "#EBF0F8"
           },
           "yaxis": {
            "backgroundcolor": "white",
            "gridcolor": "#DFE8F3",
            "gridwidth": 2,
            "linecolor": "#EBF0F8",
            "showbackground": true,
            "ticks": "",
            "zerolinecolor": "#EBF0F8"
           },
           "zaxis": {
            "backgroundcolor": "white",
            "gridcolor": "#DFE8F3",
            "gridwidth": 2,
            "linecolor": "#EBF0F8",
            "showbackground": true,
            "ticks": "",
            "zerolinecolor": "#EBF0F8"
           }
          },
          "shapedefaults": {
           "line": {
            "color": "#2a3f5f"
           }
          },
          "ternary": {
           "aaxis": {
            "gridcolor": "#DFE8F3",
            "linecolor": "#A2B1C6",
            "ticks": ""
           },
           "baxis": {
            "gridcolor": "#DFE8F3",
            "linecolor": "#A2B1C6",
            "ticks": ""
           },
           "bgcolor": "white",
           "caxis": {
            "gridcolor": "#DFE8F3",
            "linecolor": "#A2B1C6",
            "ticks": ""
           }
          },
          "title": {
           "x": 0.05
          },
          "xaxis": {
           "automargin": true,
           "gridcolor": "#EBF0F8",
           "linecolor": "#EBF0F8",
           "ticks": "",
           "title": {
            "standoff": 15
           },
           "zerolinecolor": "#EBF0F8",
           "zerolinewidth": 2
          },
          "yaxis": {
           "automargin": true,
           "gridcolor": "#EBF0F8",
           "linecolor": "#EBF0F8",
           "ticks": "",
           "title": {
            "standoff": 15
           },
           "zerolinecolor": "#EBF0F8",
           "zerolinewidth": 2
          }
         }
        },
        "xaxis": {
         "anchor": "y",
         "domain": [
          0,
          1
         ],
         "title": {
          "text": "Daily TCI Mean (m)"
         },
         "type": "log"
        },
        "yaxis": {
         "anchor": "x",
         "domain": [
          0,
          1
         ],
         "title": {
          "text": "Daily CV"
         }
        }
       }
      },
      "text/html": [
       "<div>\n",
       "        \n",
       "        \n",
       "            <div id=\"4d09a3ec-5c36-493b-9906-65e04617153e\" class=\"plotly-graph-div\" style=\"height:600px; width:100%;\"></div>\n",
       "            <script type=\"text/javascript\">\n",
       "                require([\"plotly\"], function(Plotly) {\n",
       "                    window.PLOTLYENV=window.PLOTLYENV || {};\n",
       "                    \n",
       "                if (document.getElementById(\"4d09a3ec-5c36-493b-9906-65e04617153e\")) {\n",
       "                    Plotly.newPlot(\n",
       "                        '4d09a3ec-5c36-493b-9906-65e04617153e',\n",
       "                        [{\"hoverlabel\": {\"namelength\": 0}, \"hovertemplate\": \"<b>%{hovertext}</b><br><br>region_type=city<br>daily_mean=%{x}<br>daily_coef_var=%{y}\", \"hovertext\": [\"bogota\", \"managua\", \"kingston\", \"natal\", \"barquisimeto\", \"mendoza\", \"curitiba\", \"toluca\", \"barranquilla\", \"buenosaires\", \"paramaribo\", \"santodomingo\", \"saojosedoscampos\", \"panamacity\", \"sanfernado\", \"santiago\", \"fortaleza\", \"salvador\", \"manaus\", \"saopaulo\", \"teresina\", \"tegucigalpa\", \"georgetown\", \"ciudad_guayana\", \"montevideo\", \"merida\", \"belpoman\", \"porto_alergre\", \"arequipa\", \"tijuana\", \"saoluis\", \"cochabamba\", \"sorocaba\", \"joaopessoa\", \"mexicocity\", \"brasilia\", \"guadalajara\", \"lapaz\", \"nassau\", \"pereira\", \"asuncion\", \"santacruzdelasierra\", \"santiagocaballeros\", \"recife\", \"monterrey\", \"goiania\", \"guayaquil\", \"caracas\", \"guatemala\", \"cartagena\", \"belem\", \"pueble\", \"bridgetown\", \"riodejaneiro\", \"cucuta\", \"rosario\", \"quito\", \"campinas\", \"sanpedrosula\", \"maceio\", \"aguascalientes\", \"leon\", \"queretaro\", \"portauprince\", \"maracaibo\", \"cuenca\", \"barcelona\", \"medellin\", \"bucaramanga\", \"cordoba\", \"santos\", \"sanjose\", \"portofspain\", \"juarez\", \"sanluispotosi\", \"sansalvador\", \"santamarta\", \"valencia\", \"belohorizonte\", \"joinville\", \"vitoria\", \"maracay\", \"lima\", \"cali\", \"florianopolis\", \"torreon\"], \"legendgroup\": \"region_type=city\", \"marker\": {\"color\": \"#636efa\", \"symbol\": \"circle\"}, \"mode\": \"markers\", \"name\": \"region_type=city\", \"showlegend\": true, \"type\": \"scatter\", \"x\": [108725100.7041096, 2400172.98630137, 557639.402739726, 23648749.646575347, 66070.49589041095, 1254893.7506849314, 22681555.51506849, 16045936.161643835, 11689385.487671236, 80850103.72054794, 258157.12328767125, 34210987.84109589, 4030446.2356164395, 21536276.01917808, 2388487.134246575, 50165808.71232877, 23648749.657534245, 23497129.71506849, 15598951.97260274, 183228626.5589041, 6010425.249315067, 2030473.6246575343, 26407.378082191783, 8975.016438356164, 10162542.701369863, 6039867.3643835625, 942.837912087912, 26363607.9260274, 4027590.739726028, 13044426.290410958, 9123424.4630137, 71514.35616438357, 2794657.789041096, 5945605.180821918, 206718381.8027397, 11089420.775342466, 41796690.43561644, 182588.36438356165, 62971.06575342466, 3852287.336986302, 8845599.953424657, 4742519.7260273965, 6269621.734246575, 29658158.334246576, 30138101.136986304, 12937496.778082192, 9348242.032876713, 4252677.909589041, 37697472.42739726, 4602740.26849315, 14521029.646575345, 17472610.243835617, 282391.2821917808, 81501708.83835617, 767252.9397260273, 1506847.7232876713, 22871203.89589041, 11329321.457534244, 1116528.1424657535, 8658823.52328767, 4104239.484931506, 7567803.8575342465, 11231065.369863013, 177534.23287671234, 12764.961643835615, 277345.75616438355, 39335.18904109589, 23285899.583561644, 3687313.4986301367, 3129291.350684932, 11392350.484931504, 30049895.01369863, 4875202.709589041, 6403636.4821917815, 7183587.391780823, 16181388.383561645, 1239564.016438356, 194552.6410958904, 33959904.4, 3891869.4712328766, 10184478.221917808, 138373.42739726027, 78837465.56438357, 15923213.534246575, 2718240.6493150685, 2957524.7397260275], \"xaxis\": \"x\", \"y\": [0.286687662643728, 0.3629514173828339, 0.4913199438629126, 0.3218078349339457, 5.000836624039025, 0.5064936515589152, 0.4186142215253612, 0.3057780385086514, 0.3163910324449694, 0.3260660410011728, 0.5819431106660168, 0.3562465186615954, 0.3851238441317576, 0.4293121020093684, 0.5842253311109938, 0.4599735641538645, 0.3218078552150265, 0.4023471521516148, 0.36492219865273307, 0.38178256776564856, 0.35529926125508643, 0.4686928338648748, 0.6622589958240079, 0.9066220072286058, 0.2610481192533073, 0.32496415626767394, 1.912415393818084, 0.3978839761328267, 0.3293463788343317, 0.537685041140292, 0.3600816246476056, 0.3901488336454791, 0.37320057041447896, 0.3655957268206133, 0.2902237749522706, 0.4273620854617822, 0.2789510545475381, 0.377591115337318, 0.5993929668036775, 0.3632141233098592, 0.5024926494510125, 0.3835259014471612, 0.345393403270178, 0.3334482519623064, 0.38381424639318334, 0.38130140623440745, 0.3696814397926295, 0.7585159205269386, 0.3335739853631477, 0.2780462537994965, 0.3373353933393028, 0.2542411161495161, 0.6461886109826176, 0.3491878604154344, 0.3687136406207601, 0.34350378923962294, 0.3347288418028682, 0.40524945878448937, 0.5099230688810314, 0.3557268854932578, 0.3471476256721193, 0.36042032822319375, 0.3112002843246247, 0.6332340212421065, 0.8193474859061922, 0.42672931063487374, 0.6327443923284488, 0.35203764596985515, 0.3485025391703524, 0.6082979716525952, 0.3547067910132126, 0.3625308614440186, 0.5838682256868514, 0.5369215735760726, 0.3980516132737778, 0.40309466693187546, 0.47455358827483296, 0.7708302668025113, 0.3701770949326142, 0.5238835892328816, 0.3782760731958649, 0.7313373114292863, 0.24784106107936546, 0.32744906787280204, 0.5351597012964407, 0.5089592897685637], \"yaxis\": \"y\"}, {\"hoverlabel\": {\"namelength\": 0}, \"hovertemplate\": \"<b>%{hovertext}</b><br><br>region_type=submetro<br>daily_mean=%{x}<br>daily_coef_var=%{y}\", \"hovertext\": [\"ch_comunas_renca\", \"lima_metro1\", \"ch_comunas_san_joaquin\", \"ch_comunas_el_monte\", \"ch_comunas_melipilla\", \"ch_comunas_maipu\", \"ch_comunas_alhue\", \"ch_comunas_recoleta\", \"ch_comunas_pudahuel\", \"ch_comunas_vitacura\", \"ch_comunas_la_reina\", \"ch_comunas_calera_de_tango\", \"ch_comunas_colina\", \"ch_comunas_pedro_aguirre_cerda\", \"ch_comunas_cerrillos\", \"ch_comunas_independencia\", \"ch_comunas_macul\", \"ch_comunas_quilicura\", \"ch_comunas_lampa\", \"ch_comunas_san_miguel\", \"bogota_metro1\", \"ch_comunas_lo_espejo\", \"ch_comunas_penaflor\", \"ch_comunas_la_pintana\", \"ch_comunas_quinta_normal\", \"ch_comunas_padre_hurtado\", \"ch_comunas_santiago\", \"ch_comunas_conchali\", \"ch_comunas_san_bernardo\", \"ch_comunas_huechuraba\", \"ch_comunas_san_jose_de_maipo\", \"ch_comunas_penalolen\", \"lima_metro2\", \"ch_comunas_providencia\", \"ch_comunas_las_condes\", \"ch_comunas_talagante\", \"ch_comunas_puente_alto\", \"ch_comunas_san_pedro\", \"ch_comunas_el_bosque\", \"ch_comunas_paine\", \"ch_comunas_estacion_central\", \"ch_comunas_san_ramon\", \"ch_comunas_pirque\", \"ch_comunas_cerro_navia\", \"ch_comunas_lo_barnechea\", \"ch_comunas_buin\", \"ch_comunas_la_granja\", \"bogota_metro2\", \"ch_comunas_isla_de_maipo\", \"ch_comunas_lo_prado\", \"ch_comunas_curacavi\", \"ch_comunas_tiltil\", \"ch_comunas_nunoa\", \"ch_comunas_la_florida\", \"ch_comunas_maria_pinto\", \"ch_comunas_la_cisterna\"], \"legendgroup\": \"region_type=submetro\", \"marker\": {\"color\": \"#EF553B\", \"symbol\": \"circle\"}, \"mode\": \"markers\", \"name\": \"region_type=submetro\", \"showlegend\": true, \"type\": \"scatter\", \"x\": [0.0, 30487091.8, 0.0, 0.0, 0.0, 0.0, 0.0, 0.0, 0.0, 0.0, 0.0, 0.0, 0.0, 0.0, 0.0, 0.0, 0.0, 0.0, 0.0, 0.0, 55064886.89863014, 0.0, 0.0, 0.0, 0.0, 0.0, 0.0, 0.0, 0.0, 0.0, 0.0, 0.0, 42903338.16712329, 0.0, 0.0, 0.0, 0.0, 0.0, 0.0, 0.0, 0.0, 0.0, 0.0, 0.0, 0.0, 0.0, 0.0, 61776124.24657534, 0.0, 0.0, 0.0, 0.0, 0.0, 0.0, 0.0, 0.0], \"xaxis\": \"x\", \"y\": [null, 0.3631105754913515, null, null, null, null, null, null, null, null, null, null, null, null, null, null, null, null, null, null, 0.34849264712983274, null, null, null, null, null, null, null, null, null, null, null, 0.19449973753520394, null, null, null, null, null, null, null, null, null, null, null, null, null, null, 0.2613597399371207, null, null, null, null, null, null, null, null], \"yaxis\": \"y\"}, {\"hoverlabel\": {\"namelength\": 0}, \"hovertemplate\": \"<b>%{hovertext}</b><br><br>region_type=country<br>daily_mean=%{x}<br>daily_coef_var=%{y}\", \"hovertext\": [\"country_guyana\", \"country_ecuador\", \"country_nicaragua\", \"country_venezuela\", \"country_barbados\", \"country_costa_rica\", \"country_haiti\", \"country_uruguay\", \"country_bolivia\", \"country_guatemala\", \"country_peru\", \"country_colombia\", \"country_chile\", \"country_brazil\", \"country_argentina\", \"country_paraguay\", \"country_honduras\", \"country_el_salvador\", \"country_trinidad_and_tobago\", \"country_jamaica\", \"country_panama\", \"country_the_bahamas\", \"country_suriname\", \"country_belize\", \"country_mexico\", \"country_dominican_republic\"], \"legendgroup\": \"region_type=country\", \"marker\": {\"color\": \"#00cc96\", \"symbol\": \"circle\"}, \"mode\": \"markers\", \"name\": \"region_type=country\", \"showlegend\": true, \"type\": \"scatter\", \"x\": [69317.35342465753, 42614814.63013699, 7429310.493150685, 5554330.7534246575, 408588.0219178082, 81689115.89315069, 434172.7671232877, 16952157.421917807, 6684187.868493151, 62137752.36712329, 126676605.80547944, 279069727.4438356, 159754799.81095892, null, 162209757.31232876, 11104420.6, 7993598.353424657, 28786777.783561643, 15676135.49589041, 2156668.128767124, 37838900.263013706, 244137.57260273967, 461193.2520547945, 322534.3287671233, 824721948.3452054, 46700577.91232877], \"xaxis\": \"x\", \"y\": [0.8408325580616669, 0.24641806677734066, 0.2720620028090954, 0.6037744080533433, 0.4334737156391757, 0.21852737281934345, 0.8397854133052594, 0.36451897112327225, 0.32478331853071696, 0.2570009170262702, 0.19768579932496216, 0.2289632940046689, 0.23369150608189435, null, 0.2912960017701939, 0.4502005869871279, 0.3139711127545384, 0.3276504000971684, 0.4486804310597353, 0.24874123108136825, 0.26871986528755604, 0.4468837917815035, 0.4675533198608427, 0.6636937815775654, 0.279870068750045, 0.2954177233140175], \"yaxis\": \"y\"}, {\"hoverlabel\": {\"namelength\": 0}, \"hovertemplate\": \"<b>%{hovertext}</b><br><br>region_type=state<br>daily_mean=%{x}<br>daily_coef_var=%{y}\", \"hovertext\": [\"br_states_paraiba\", \"br_states_sao_paulo\", \"br_states_amapa\", \"br_states_tocantins\", \"br_states_sergipe\", \"br_states_espirito_santo\", \"br_states_alagoas\", \"br_states_goias\", \"br_states_para\", \"br_states_roraima\", \"br_states_amazonas\", \"br_states_santa_catarina\", \"br_states_rondonia\", \"br_states_rio_grande_do_sul\", \"br_states_ceara\", \"br_states_mato_grosso_do_sul\", \"br_states_bahia\", \"br_states_maranhao\", \"br_states_acre\", \"br_states_minas_gerais\", \"br_states_rio_de_janeiro\", \"br_states_pernambuco\", \"br_states_piaui\", \"br_states_mato_grosso\", \"br_states_rio_grande_do_norte\", \"br_states_parana\", \"br_states_distrito_federal\"], \"legendgroup\": \"region_type=state\", \"marker\": {\"color\": \"#ab63fa\", \"symbol\": \"circle\"}, \"mode\": \"markers\", \"name\": \"region_type=state\", \"showlegend\": true, \"type\": \"scatter\", \"x\": [15481362.2, 347707654.46027404, 3907808.98630137, 11955343.136986302, 11403168.2, 21157469.265753426, 12163957.989041096, 58807749.29041096, 36354958.82465754, 1751681.208219178, 16286035.205479452, 77992488.55890411, 8490739.087671233, 107939053.81369863, 49874861.80273973, 26435424.375342466, 74758473.72328767, 34795381.3369863, 3321895.5452054795, 212089532.49315068, 126737508.80821918, 56409534.44383562, 16721082.501369866, 28200803.742465757, 17987381.301369864, 126168144.5178082, 15694743.515068496], \"xaxis\": \"x\", \"y\": [0.2596467853169876, 0.2853556982855925, 0.3689282415418469, 0.44578869163924295, 0.2324383651526673, 0.2983339227721357, 0.2631354363427174, 0.2776074275479336, 0.3501118346683844, 0.35242730719822885, 0.3427045803597393, 0.3191762376958843, 0.33653619016486264, 0.3231918056443795, 0.30203396659725584, 0.3332254857215594, 0.2722376795527333, 0.3558850086262803, 0.4047245233571951, 0.2523440402803457, 0.29971699371031885, 0.2607934022173383, 0.3959760012503454, 0.3481698076642023, 0.2955963379326049, 0.3445840638489446, 0.3535119332487892], \"yaxis\": \"y\"}],\n",
       "                        {\"height\": 600, \"legend\": {\"tracegroupgap\": 0}, \"margin\": {\"t\": 60}, \"template\": {\"data\": {\"bar\": [{\"error_x\": {\"color\": \"#2a3f5f\"}, \"error_y\": {\"color\": \"#2a3f5f\"}, \"marker\": {\"line\": {\"color\": \"white\", \"width\": 0.5}}, \"type\": \"bar\"}], \"barpolar\": [{\"marker\": {\"line\": {\"color\": \"white\", \"width\": 0.5}}, \"type\": \"barpolar\"}], \"carpet\": [{\"aaxis\": {\"endlinecolor\": \"#2a3f5f\", \"gridcolor\": \"#C8D4E3\", \"linecolor\": \"#C8D4E3\", \"minorgridcolor\": \"#C8D4E3\", \"startlinecolor\": \"#2a3f5f\"}, \"baxis\": {\"endlinecolor\": \"#2a3f5f\", \"gridcolor\": \"#C8D4E3\", \"linecolor\": \"#C8D4E3\", \"minorgridcolor\": \"#C8D4E3\", \"startlinecolor\": \"#2a3f5f\"}, \"type\": \"carpet\"}], \"choropleth\": [{\"colorbar\": {\"outlinewidth\": 0, \"ticks\": \"\"}, \"type\": \"choropleth\"}], \"contour\": [{\"colorbar\": {\"outlinewidth\": 0, \"ticks\": \"\"}, \"colorscale\": [[0.0, \"#0d0887\"], [0.1111111111111111, \"#46039f\"], [0.2222222222222222, \"#7201a8\"], [0.3333333333333333, \"#9c179e\"], [0.4444444444444444, \"#bd3786\"], [0.5555555555555556, \"#d8576b\"], [0.6666666666666666, \"#ed7953\"], [0.7777777777777778, \"#fb9f3a\"], [0.8888888888888888, \"#fdca26\"], [1.0, \"#f0f921\"]], \"type\": \"contour\"}], \"contourcarpet\": [{\"colorbar\": {\"outlinewidth\": 0, \"ticks\": \"\"}, \"type\": \"contourcarpet\"}], \"heatmap\": [{\"colorbar\": {\"outlinewidth\": 0, \"ticks\": \"\"}, \"colorscale\": [[0.0, \"#0d0887\"], [0.1111111111111111, \"#46039f\"], [0.2222222222222222, \"#7201a8\"], [0.3333333333333333, \"#9c179e\"], [0.4444444444444444, \"#bd3786\"], [0.5555555555555556, \"#d8576b\"], [0.6666666666666666, \"#ed7953\"], [0.7777777777777778, \"#fb9f3a\"], [0.8888888888888888, \"#fdca26\"], [1.0, \"#f0f921\"]], \"type\": \"heatmap\"}], \"heatmapgl\": [{\"colorbar\": {\"outlinewidth\": 0, \"ticks\": \"\"}, \"colorscale\": [[0.0, \"#0d0887\"], [0.1111111111111111, \"#46039f\"], [0.2222222222222222, \"#7201a8\"], [0.3333333333333333, \"#9c179e\"], [0.4444444444444444, \"#bd3786\"], [0.5555555555555556, \"#d8576b\"], [0.6666666666666666, \"#ed7953\"], [0.7777777777777778, \"#fb9f3a\"], [0.8888888888888888, \"#fdca26\"], [1.0, \"#f0f921\"]], \"type\": \"heatmapgl\"}], \"histogram\": [{\"marker\": {\"colorbar\": {\"outlinewidth\": 0, \"ticks\": \"\"}}, \"type\": \"histogram\"}], \"histogram2d\": [{\"colorbar\": {\"outlinewidth\": 0, \"ticks\": \"\"}, \"colorscale\": [[0.0, \"#0d0887\"], [0.1111111111111111, \"#46039f\"], [0.2222222222222222, \"#7201a8\"], [0.3333333333333333, \"#9c179e\"], [0.4444444444444444, \"#bd3786\"], [0.5555555555555556, \"#d8576b\"], [0.6666666666666666, \"#ed7953\"], [0.7777777777777778, \"#fb9f3a\"], [0.8888888888888888, \"#fdca26\"], [1.0, \"#f0f921\"]], \"type\": \"histogram2d\"}], \"histogram2dcontour\": [{\"colorbar\": {\"outlinewidth\": 0, \"ticks\": \"\"}, \"colorscale\": [[0.0, \"#0d0887\"], [0.1111111111111111, \"#46039f\"], [0.2222222222222222, \"#7201a8\"], [0.3333333333333333, \"#9c179e\"], [0.4444444444444444, \"#bd3786\"], [0.5555555555555556, \"#d8576b\"], [0.6666666666666666, \"#ed7953\"], [0.7777777777777778, \"#fb9f3a\"], [0.8888888888888888, \"#fdca26\"], [1.0, \"#f0f921\"]], \"type\": \"histogram2dcontour\"}], \"mesh3d\": [{\"colorbar\": {\"outlinewidth\": 0, \"ticks\": \"\"}, \"type\": \"mesh3d\"}], \"parcoords\": [{\"line\": {\"colorbar\": {\"outlinewidth\": 0, \"ticks\": \"\"}}, \"type\": \"parcoords\"}], \"pie\": [{\"automargin\": true, \"type\": \"pie\"}], \"scatter\": [{\"marker\": {\"colorbar\": {\"outlinewidth\": 0, \"ticks\": \"\"}}, \"type\": \"scatter\"}], \"scatter3d\": [{\"line\": {\"colorbar\": {\"outlinewidth\": 0, \"ticks\": \"\"}}, \"marker\": {\"colorbar\": {\"outlinewidth\": 0, \"ticks\": \"\"}}, \"type\": \"scatter3d\"}], \"scattercarpet\": [{\"marker\": {\"colorbar\": {\"outlinewidth\": 0, \"ticks\": \"\"}}, \"type\": \"scattercarpet\"}], \"scattergeo\": [{\"marker\": {\"colorbar\": {\"outlinewidth\": 0, \"ticks\": \"\"}}, \"type\": \"scattergeo\"}], \"scattergl\": [{\"marker\": {\"colorbar\": {\"outlinewidth\": 0, \"ticks\": \"\"}}, \"type\": \"scattergl\"}], \"scattermapbox\": [{\"marker\": {\"colorbar\": {\"outlinewidth\": 0, \"ticks\": \"\"}}, \"type\": \"scattermapbox\"}], \"scatterpolar\": [{\"marker\": {\"colorbar\": {\"outlinewidth\": 0, \"ticks\": \"\"}}, \"type\": \"scatterpolar\"}], \"scatterpolargl\": [{\"marker\": {\"colorbar\": {\"outlinewidth\": 0, \"ticks\": \"\"}}, \"type\": \"scatterpolargl\"}], \"scatterternary\": [{\"marker\": {\"colorbar\": {\"outlinewidth\": 0, \"ticks\": \"\"}}, \"type\": \"scatterternary\"}], \"surface\": [{\"colorbar\": {\"outlinewidth\": 0, \"ticks\": \"\"}, \"colorscale\": [[0.0, \"#0d0887\"], [0.1111111111111111, \"#46039f\"], [0.2222222222222222, \"#7201a8\"], [0.3333333333333333, \"#9c179e\"], [0.4444444444444444, \"#bd3786\"], [0.5555555555555556, \"#d8576b\"], [0.6666666666666666, \"#ed7953\"], [0.7777777777777778, \"#fb9f3a\"], [0.8888888888888888, \"#fdca26\"], [1.0, \"#f0f921\"]], \"type\": \"surface\"}], \"table\": [{\"cells\": {\"fill\": {\"color\": \"#EBF0F8\"}, \"line\": {\"color\": \"white\"}}, \"header\": {\"fill\": {\"color\": \"#C8D4E3\"}, \"line\": {\"color\": \"white\"}}, \"type\": \"table\"}]}, \"layout\": {\"annotationdefaults\": {\"arrowcolor\": \"#2a3f5f\", \"arrowhead\": 0, \"arrowwidth\": 1}, \"coloraxis\": {\"colorbar\": {\"outlinewidth\": 0, \"ticks\": \"\"}}, \"colorscale\": {\"diverging\": [[0, \"#8e0152\"], [0.1, \"#c51b7d\"], [0.2, \"#de77ae\"], [0.3, \"#f1b6da\"], [0.4, \"#fde0ef\"], [0.5, \"#f7f7f7\"], [0.6, \"#e6f5d0\"], [0.7, \"#b8e186\"], [0.8, \"#7fbc41\"], [0.9, \"#4d9221\"], [1, \"#276419\"]], \"sequential\": [[0.0, \"#0d0887\"], [0.1111111111111111, \"#46039f\"], [0.2222222222222222, \"#7201a8\"], [0.3333333333333333, \"#9c179e\"], [0.4444444444444444, \"#bd3786\"], [0.5555555555555556, \"#d8576b\"], [0.6666666666666666, \"#ed7953\"], [0.7777777777777778, \"#fb9f3a\"], [0.8888888888888888, \"#fdca26\"], [1.0, \"#f0f921\"]], \"sequentialminus\": [[0.0, \"#0d0887\"], [0.1111111111111111, \"#46039f\"], [0.2222222222222222, \"#7201a8\"], [0.3333333333333333, \"#9c179e\"], [0.4444444444444444, \"#bd3786\"], [0.5555555555555556, \"#d8576b\"], [0.6666666666666666, \"#ed7953\"], [0.7777777777777778, \"#fb9f3a\"], [0.8888888888888888, \"#fdca26\"], [1.0, \"#f0f921\"]]}, \"colorway\": [\"#636efa\", \"#EF553B\", \"#00cc96\", \"#ab63fa\", \"#FFA15A\", \"#19d3f3\", \"#FF6692\", \"#B6E880\", \"#FF97FF\", \"#FECB52\"], \"font\": {\"color\": \"#2a3f5f\"}, \"geo\": {\"bgcolor\": \"white\", \"lakecolor\": \"white\", \"landcolor\": \"white\", \"showlakes\": true, \"showland\": true, \"subunitcolor\": \"#C8D4E3\"}, \"hoverlabel\": {\"align\": \"left\"}, \"hovermode\": \"closest\", \"mapbox\": {\"style\": \"light\"}, \"paper_bgcolor\": \"white\", \"plot_bgcolor\": \"white\", \"polar\": {\"angularaxis\": {\"gridcolor\": \"#EBF0F8\", \"linecolor\": \"#EBF0F8\", \"ticks\": \"\"}, \"bgcolor\": \"white\", \"radialaxis\": {\"gridcolor\": \"#EBF0F8\", \"linecolor\": \"#EBF0F8\", \"ticks\": \"\"}}, \"scene\": {\"xaxis\": {\"backgroundcolor\": \"white\", \"gridcolor\": \"#DFE8F3\", \"gridwidth\": 2, \"linecolor\": \"#EBF0F8\", \"showbackground\": true, \"ticks\": \"\", \"zerolinecolor\": \"#EBF0F8\"}, \"yaxis\": {\"backgroundcolor\": \"white\", \"gridcolor\": \"#DFE8F3\", \"gridwidth\": 2, \"linecolor\": \"#EBF0F8\", \"showbackground\": true, \"ticks\": \"\", \"zerolinecolor\": \"#EBF0F8\"}, \"zaxis\": {\"backgroundcolor\": \"white\", \"gridcolor\": \"#DFE8F3\", \"gridwidth\": 2, \"linecolor\": \"#EBF0F8\", \"showbackground\": true, \"ticks\": \"\", \"zerolinecolor\": \"#EBF0F8\"}}, \"shapedefaults\": {\"line\": {\"color\": \"#2a3f5f\"}}, \"ternary\": {\"aaxis\": {\"gridcolor\": \"#DFE8F3\", \"linecolor\": \"#A2B1C6\", \"ticks\": \"\"}, \"baxis\": {\"gridcolor\": \"#DFE8F3\", \"linecolor\": \"#A2B1C6\", \"ticks\": \"\"}, \"bgcolor\": \"white\", \"caxis\": {\"gridcolor\": \"#DFE8F3\", \"linecolor\": \"#A2B1C6\", \"ticks\": \"\"}}, \"title\": {\"x\": 0.05}, \"xaxis\": {\"automargin\": true, \"gridcolor\": \"#EBF0F8\", \"linecolor\": \"#EBF0F8\", \"ticks\": \"\", \"title\": {\"standoff\": 15}, \"zerolinecolor\": \"#EBF0F8\", \"zerolinewidth\": 2}, \"yaxis\": {\"automargin\": true, \"gridcolor\": \"#EBF0F8\", \"linecolor\": \"#EBF0F8\", \"ticks\": \"\", \"title\": {\"standoff\": 15}, \"zerolinecolor\": \"#EBF0F8\", \"zerolinewidth\": 2}}}, \"xaxis\": {\"anchor\": \"y\", \"domain\": [0.0, 1.0], \"title\": {\"text\": \"Daily TCI Mean (m)\"}, \"type\": \"log\"}, \"yaxis\": {\"anchor\": \"x\", \"domain\": [0.0, 1.0], \"title\": {\"text\": \"Daily CV\"}}},\n",
       "                        {\"responsive\": true}\n",
       "                    ).then(function(){\n",
       "                            \n",
       "var gd = document.getElementById('4d09a3ec-5c36-493b-9906-65e04617153e');\n",
       "var x = new MutationObserver(function (mutations, observer) {{\n",
       "        var display = window.getComputedStyle(gd).display;\n",
       "        if (!display || display === 'none') {{\n",
       "            console.log([gd, 'removed!']);\n",
       "            Plotly.purge(gd);\n",
       "            observer.disconnect();\n",
       "        }}\n",
       "}});\n",
       "\n",
       "// Listen for the removal of the full notebook cells\n",
       "var notebookContainer = gd.closest('#notebook-container');\n",
       "if (notebookContainer) {{\n",
       "    x.observe(notebookContainer, {childList: true});\n",
       "}}\n",
       "\n",
       "// Listen for the clearing of the current output cell\n",
       "var outputEl = gd.closest('.output');\n",
       "if (outputEl) {{\n",
       "    x.observe(outputEl, {childList: true});\n",
       "}}\n",
       "\n",
       "                        })\n",
       "                };\n",
       "                });\n",
       "            </script>\n",
       "        </div>"
      ]
     },
     "metadata": {},
     "output_type": "display_data"
    }
   ],
   "source": [
    "fig = px.scatter(df,\n",
    "            x=\"daily_mean\", y=\"daily_coef_var\", color='region_type',\n",
    "            hover_name=\"region_slug\", template='plotly_white', \n",
    "            log_x=True\n",
    "          )\n",
    "fig.update_xaxes(title_text='Daily TCI Mean (m)')\n",
    "fig.update_yaxes(title_text='Daily CV')\n",
    "\n",
    "fig.show()"
   ]
  },
  {
   "cell_type": "code",
   "execution_count": 61,
   "metadata": {},
   "outputs": [
    {
     "data": {
      "application/vnd.plotly.v1+json": {
       "config": {
        "plotlyServerURL": "https://plot.ly"
       },
       "data": [
        {
         "hoverlabel": {
          "namelength": 0
         },
         "hovertemplate": "<b>%{hovertext}</b><br><br>region_type=city<br>weekly_mean=%{x}<br>weekly_coef_var=%{y}",
         "hovertext": [
          "bogota",
          "managua",
          "kingston",
          "natal",
          "barquisimeto",
          "mendoza",
          "curitiba",
          "toluca",
          "barranquilla",
          "buenosaires",
          "paramaribo",
          "santodomingo",
          "saojosedoscampos",
          "panamacity",
          "sanfernado",
          "santiago",
          "fortaleza",
          "salvador",
          "manaus",
          "saopaulo",
          "teresina",
          "tegucigalpa",
          "georgetown",
          "ciudad_guayana",
          "montevideo",
          "merida",
          "belpoman",
          "porto_alergre",
          "arequipa",
          "tijuana",
          "saoluis",
          "cochabamba",
          "sorocaba",
          "joaopessoa",
          "mexicocity",
          "brasilia",
          "guadalajara",
          "lapaz",
          "nassau",
          "pereira",
          "asuncion",
          "santacruzdelasierra",
          "santiagocaballeros",
          "recife",
          "monterrey",
          "goiania",
          "guayaquil",
          "caracas",
          "guatemala",
          "cartagena",
          "belem",
          "pueble",
          "bridgetown",
          "riodejaneiro",
          "cucuta",
          "rosario",
          "quito",
          "campinas",
          "sanpedrosula",
          "maceio",
          "aguascalientes",
          "leon",
          "queretaro",
          "portauprince",
          "maracaibo",
          "cuenca",
          "barcelona",
          "medellin",
          "bucaramanga",
          "cordoba",
          "santos",
          "sanjose",
          "portofspain",
          "juarez",
          "sanluispotosi",
          "sansalvador",
          "santamarta",
          "valencia",
          "belohorizonte",
          "joinville",
          "vitoria",
          "maracay",
          "lima",
          "cali",
          "florianopolis",
          "torreon"
         ],
         "legendgroup": "region_type=city",
         "marker": {
          "color": "#636efa",
          "symbol": "circle"
         },
         "mode": "markers",
         "name": "region_type=city",
         "showlegend": true,
         "type": "scatter",
         "x": [
          748767202.9622643,
          16529493.20754717,
          3840346.8301886786,
          162864030.58490565,
          455013.79245283024,
          8642192.811320756,
          156203165.33962265,
          110505032.05660376,
          80502371.75471698,
          556797884.1132076,
          1777874.528301887,
          235603972.8679245,
          27756846.71698113,
          148315863.1509434,
          16449015.16981132,
          345481512.8301887,
          162864030.66037735,
          161819855.58490565,
          107426744.71698111,
          1261857522.528302,
          41392551.24528302,
          13983450.433962265,
          181862.13207547172,
          61809.07547169812,
          69987322.3773585,
          41595312.98113208,
          6599.865384615385,
          181560696.0943396,
          27737181.50943396,
          89834256.52830188,
          62831130.73584906,
          492504.5283018868,
          19246228.16981132,
          40946148.88679245,
          1423626591.6603773,
          76370539.3018868,
          287845132.245283,
          1257448.1698113207,
          433668.6603773585,
          26529903.35849057,
          60917811,
          32660749.05660377,
          43177583.64150944,
          204249580.9811321,
          207554847.45283017,
          89097855.16981132,
          64379402.67924529,
          29287310.13207547,
          259614668.6037736,
          31698116.943396226,
          100003317.3773585,
          120330240.35849056,
          1944770.150943396,
          561285353.3207548,
          5283911.754716981,
          10377347.528301887,
          157509234.3773585,
          78022685.50943395,
          7689297.584905662,
          59631520.49056604,
          28265045.50943396,
          52117894.49056604,
          77346016.22641508,
          1222641.4150943395,
          87909.64150943396,
          1910022.6603773586,
          270893.28301886795,
          160365157.50943395,
          25393762.773584906,
          21550780.05660377,
          78456753.33962265,
          206947390.18867925,
          33574509.2264151,
          44100515.39622641,
          49471875.43396226,
          111437863.39622642,
          8536620.113207547,
          1339843.6603773586,
          233874813.32075468,
          26802497.301886793,
          70138387.75471698,
          952949.075471698,
          542937262.8490566,
          109659866.79245284,
          18719959.188679244,
          20367859.05660377
         ],
         "xaxis": "x",
         "y": [
          0.22096798554580474,
          0.22980497780756334,
          0.26970757518525823,
          0.20961467269565415,
          2.0813263221664227,
          0.3638223602254846,
          0.2502064088037572,
          0.21618008376814224,
          0.18923278080027145,
          0.21789833888380455,
          0.3961864216341421,
          0.2298446356961427,
          0.22395960784432276,
          0.20396751933714047,
          0.3112687768164055,
          0.2773549978358809,
          0.20961466972502488,
          0.2014954753623732,
          0.19954454504165453,
          0.2360140289177365,
          0.25218330319264154,
          0.3436163835363011,
          0.3707753352821059,
          0.4428155590820333,
          0.19724288190850295,
          0.22223563471872007,
          0.6774975611154525,
          0.2303046903821204,
          0.22510118436950916,
          0.5122827134615497,
          0.2479280408695712,
          0.24051556660857526,
          0.212832167069768,
          0.20918194747213925,
          0.20216747631142426,
          0.25993903858281525,
          0.20838641046882725,
          0.2803889276562378,
          0.3573886863330825,
          0.28759596978176816,
          0.4169301953025549,
          0.3575468208807489,
          0.19917076487734828,
          0.19300546296201712,
          0.25027617454863643,
          0.2218559323892664,
          0.2180476988632588,
          0.5812667167360133,
          0.21896381138541535,
          0.2078034360462011,
          0.244930626992786,
          0.18769216005108413,
          0.32032648582959355,
          0.20723206370488265,
          0.29579109826551864,
          0.23523766761586945,
          0.21219800824828725,
          0.2335480327717783,
          0.35315838211307765,
          0.1809299192006453,
          0.2858905222233324,
          0.2624091921791272,
          0.2125587371544555,
          0.5524137314985547,
          0.4897049795059035,
          0.3111308342523457,
          0.3709345916025836,
          0.2388930675362972,
          0.2459011047620025,
          0.4601185111786109,
          0.2656015605833746,
          0.2436975054152345,
          0.2949474533930781,
          0.5093110602832025,
          0.28831439995402464,
          0.2394546467778669,
          0.4116827862728698,
          0.4410429130991756,
          0.235304139033558,
          0.29748302024755396,
          0.20496160447805045,
          0.4639472737633041,
          0.15495059666023855,
          0.2095956890935539,
          0.2736954307109535,
          0.4542269958408945
         ],
         "yaxis": "y"
        },
        {
         "hoverlabel": {
          "namelength": 0
         },
         "hovertemplate": "<b>%{hovertext}</b><br><br>region_type=submetro<br>weekly_mean=%{x}<br>weekly_coef_var=%{y}",
         "hovertext": [
          "ch_comunas_renca",
          "lima_metro1",
          "ch_comunas_san_joaquin",
          "ch_comunas_el_monte",
          "ch_comunas_melipilla",
          "ch_comunas_maipu",
          "ch_comunas_alhue",
          "ch_comunas_recoleta",
          "ch_comunas_pudahuel",
          "ch_comunas_vitacura",
          "ch_comunas_la_reina",
          "ch_comunas_calera_de_tango",
          "ch_comunas_colina",
          "ch_comunas_pedro_aguirre_cerda",
          "ch_comunas_cerrillos",
          "ch_comunas_independencia",
          "ch_comunas_macul",
          "ch_comunas_quilicura",
          "ch_comunas_lampa",
          "ch_comunas_san_miguel",
          "bogota_metro1",
          "ch_comunas_lo_espejo",
          "ch_comunas_penaflor",
          "ch_comunas_la_pintana",
          "ch_comunas_quinta_normal",
          "ch_comunas_padre_hurtado",
          "ch_comunas_santiago",
          "ch_comunas_conchali",
          "ch_comunas_san_bernardo",
          "ch_comunas_huechuraba",
          "ch_comunas_san_jose_de_maipo",
          "ch_comunas_penalolen",
          "lima_metro2",
          "ch_comunas_providencia",
          "ch_comunas_las_condes",
          "ch_comunas_talagante",
          "ch_comunas_puente_alto",
          "ch_comunas_san_pedro",
          "ch_comunas_el_bosque",
          "ch_comunas_paine",
          "ch_comunas_estacion_central",
          "ch_comunas_san_ramon",
          "ch_comunas_pirque",
          "ch_comunas_cerro_navia",
          "ch_comunas_lo_barnechea",
          "ch_comunas_buin",
          "ch_comunas_la_granja",
          "bogota_metro2",
          "ch_comunas_isla_de_maipo",
          "ch_comunas_lo_prado",
          "ch_comunas_curacavi",
          "ch_comunas_tiltil",
          "ch_comunas_nunoa",
          "ch_comunas_la_florida",
          "ch_comunas_maria_pinto",
          "ch_comunas_la_cisterna"
         ],
         "legendgroup": "region_type=submetro",
         "marker": {
          "color": "#EF553B",
          "symbol": "circle"
         },
         "mode": "markers",
         "name": "region_type=submetro",
         "showlegend": true,
         "type": "scatter",
         "x": [
          0,
          209958273.71698117,
          0,
          0,
          0,
          0,
          0,
          0,
          0,
          0,
          0,
          0,
          0,
          0,
          0,
          0,
          0,
          0,
          0,
          0,
          379220447.509434,
          0,
          0,
          0,
          0,
          0,
          0,
          0,
          0,
          0,
          0,
          0,
          295466385.490566,
          0,
          0,
          0,
          0,
          0,
          0,
          0,
          0,
          0,
          0,
          0,
          0,
          0,
          0,
          425439346.22641516,
          0,
          0,
          0,
          0,
          0,
          0,
          0,
          0
         ],
         "xaxis": "x",
         "y": [
          null,
          0.1926646945426957,
          null,
          null,
          null,
          null,
          null,
          null,
          null,
          null,
          null,
          null,
          null,
          null,
          null,
          null,
          null,
          null,
          null,
          null,
          0.24201630048067016,
          null,
          null,
          null,
          null,
          null,
          null,
          null,
          null,
          null,
          null,
          null,
          0.14376211871883973,
          null,
          null,
          null,
          null,
          null,
          null,
          null,
          null,
          null,
          null,
          null,
          null,
          null,
          null,
          0.21323732080200386,
          null,
          null,
          null,
          null,
          null,
          null,
          null,
          null
         ],
         "yaxis": "y"
        },
        {
         "hoverlabel": {
          "namelength": 0
         },
         "hovertemplate": "<b>%{hovertext}</b><br><br>region_type=country<br>weekly_mean=%{x}<br>weekly_coef_var=%{y}",
         "hovertext": [
          "country_guyana",
          "country_ecuador",
          "country_nicaragua",
          "country_venezuela",
          "country_barbados",
          "country_costa_rica",
          "country_haiti",
          "country_uruguay",
          "country_bolivia",
          "country_guatemala",
          "country_peru",
          "country_colombia",
          "country_chile",
          "country_brazil",
          "country_argentina",
          "country_paraguay",
          "country_honduras",
          "country_el_salvador",
          "country_trinidad_and_tobago",
          "country_jamaica",
          "country_panama",
          "country_the_bahamas",
          "country_suriname",
          "country_belize",
          "country_mexico",
          "country_dominican_republic"
         ],
         "legendgroup": "region_type=country",
         "marker": {
          "color": "#00cc96",
          "symbol": "circle"
         },
         "mode": "markers",
         "name": "region_type=country",
         "showlegend": true,
         "type": "scatter",
         "x": [
          477374.2264150944,
          293479383.77358484,
          51164119.43396226,
          38251523.11320755,
          2813860.9056603773,
          562575986.8113208,
          2990057.7358490564,
          116745989.79245284,
          46032614.56603774,
          427929804.0377358,
          872395492.8113207,
          1921895292.7735848,
          1100198149.6415095,
          null,
          1117104932.4339623,
          76473839.98113208,
          55050252.81132075,
          198248563.9811321,
          107958291.6226415,
          14852525.79245283,
          260588652.754717,
          1681324.79245283,
          3176142.207547169,
          2221226.981132076,
          5679688889.547171,
          321617187.509434
         ],
         "xaxis": "x",
         "y": [
          0.43420137163684697,
          0.17726038444200906,
          0.23692876055613016,
          0.44797949182570185,
          0.2609976054326644,
          0.15731685871168113,
          0.6464455735587956,
          0.293816728768831,
          0.3076454063999359,
          0.20056175605853305,
          0.16606182047466286,
          0.1913106207096777,
          0.14916533084950026,
          null,
          0.2236955552035937,
          0.40375961053711423,
          0.26486123590308946,
          0.2655842352351394,
          0.2566211608853609,
          0.183131433518718,
          0.17039879400674116,
          0.3237263464389799,
          0.34570571691687074,
          0.5098418751655216,
          0.2576985357129717,
          0.2085866140625696
         ],
         "yaxis": "y"
        },
        {
         "hoverlabel": {
          "namelength": 0
         },
         "hovertemplate": "<b>%{hovertext}</b><br><br>region_type=state<br>weekly_mean=%{x}<br>weekly_coef_var=%{y}",
         "hovertext": [
          "br_states_paraiba",
          "br_states_sao_paulo",
          "br_states_amapa",
          "br_states_tocantins",
          "br_states_sergipe",
          "br_states_espirito_santo",
          "br_states_alagoas",
          "br_states_goias",
          "br_states_para",
          "br_states_roraima",
          "br_states_amazonas",
          "br_states_santa_catarina",
          "br_states_rondonia",
          "br_states_rio_grande_do_sul",
          "br_states_ceara",
          "br_states_mato_grosso_do_sul",
          "br_states_bahia",
          "br_states_maranhao",
          "br_states_acre",
          "br_states_minas_gerais",
          "br_states_rio_de_janeiro",
          "br_states_pernambuco",
          "br_states_piaui",
          "br_states_mato_grosso",
          "br_states_rio_grande_do_norte",
          "br_states_parana",
          "br_states_distrito_federal"
         ],
         "legendgroup": "region_type=state",
         "marker": {
          "color": "#ab63fa",
          "symbol": "circle"
         },
         "mode": "markers",
         "name": "region_type=state",
         "showlegend": true,
         "type": "scatter",
         "x": [
          106616928.35849056,
          2394590450.5283017,
          26912269.433962263,
          82333966.88679245,
          78531252.6981132,
          145707099.66037735,
          83770654.0754717,
          404996763.98113215,
          250369056.05660376,
          12063464.924528304,
          112158544.33962265,
          537118081.5849056,
          58473957.86792453,
          743353861.1698114,
          343477821.84905666,
          182055281.07547167,
          514846092.6226415,
          239628569.58490565,
          22877205.16981132,
          1460616591.6981132,
          872814919.1509434,
          388480756.0754717,
          115154624.77358492,
          194213082.3773585,
          123875361.79245284,
          868893825.4528303,
          108086441.18867923
         ],
         "xaxis": "x",
         "y": [
          0.213571657530338,
          0.19734755282659275,
          0.30825695694590977,
          0.4337525353976512,
          0.20206002778330964,
          0.18411171220025035,
          0.1852987792107371,
          0.2594784308499088,
          0.31515304648226744,
          0.27297652860059923,
          0.19560868350528174,
          0.23552062436615226,
          0.2980603071486284,
          0.25222449171732514,
          0.2776241532738791,
          0.2953086590705622,
          0.25042953423016634,
          0.3295381777417441,
          0.34958579117521216,
          0.2258525675517441,
          0.19048682567417055,
          0.20912414862972448,
          0.3743815336303252,
          0.3163742138419414,
          0.2318830012018617,
          0.26733718867784023,
          0.2506200309923385
         ],
         "yaxis": "y"
        }
       ],
       "layout": {
        "height": 600,
        "legend": {
         "tracegroupgap": 0
        },
        "margin": {
         "t": 60
        },
        "template": {
         "data": {
          "bar": [
           {
            "error_x": {
             "color": "#2a3f5f"
            },
            "error_y": {
             "color": "#2a3f5f"
            },
            "marker": {
             "line": {
              "color": "white",
              "width": 0.5
             }
            },
            "type": "bar"
           }
          ],
          "barpolar": [
           {
            "marker": {
             "line": {
              "color": "white",
              "width": 0.5
             }
            },
            "type": "barpolar"
           }
          ],
          "carpet": [
           {
            "aaxis": {
             "endlinecolor": "#2a3f5f",
             "gridcolor": "#C8D4E3",
             "linecolor": "#C8D4E3",
             "minorgridcolor": "#C8D4E3",
             "startlinecolor": "#2a3f5f"
            },
            "baxis": {
             "endlinecolor": "#2a3f5f",
             "gridcolor": "#C8D4E3",
             "linecolor": "#C8D4E3",
             "minorgridcolor": "#C8D4E3",
             "startlinecolor": "#2a3f5f"
            },
            "type": "carpet"
           }
          ],
          "choropleth": [
           {
            "colorbar": {
             "outlinewidth": 0,
             "ticks": ""
            },
            "type": "choropleth"
           }
          ],
          "contour": [
           {
            "colorbar": {
             "outlinewidth": 0,
             "ticks": ""
            },
            "colorscale": [
             [
              0,
              "#0d0887"
             ],
             [
              0.1111111111111111,
              "#46039f"
             ],
             [
              0.2222222222222222,
              "#7201a8"
             ],
             [
              0.3333333333333333,
              "#9c179e"
             ],
             [
              0.4444444444444444,
              "#bd3786"
             ],
             [
              0.5555555555555556,
              "#d8576b"
             ],
             [
              0.6666666666666666,
              "#ed7953"
             ],
             [
              0.7777777777777778,
              "#fb9f3a"
             ],
             [
              0.8888888888888888,
              "#fdca26"
             ],
             [
              1,
              "#f0f921"
             ]
            ],
            "type": "contour"
           }
          ],
          "contourcarpet": [
           {
            "colorbar": {
             "outlinewidth": 0,
             "ticks": ""
            },
            "type": "contourcarpet"
           }
          ],
          "heatmap": [
           {
            "colorbar": {
             "outlinewidth": 0,
             "ticks": ""
            },
            "colorscale": [
             [
              0,
              "#0d0887"
             ],
             [
              0.1111111111111111,
              "#46039f"
             ],
             [
              0.2222222222222222,
              "#7201a8"
             ],
             [
              0.3333333333333333,
              "#9c179e"
             ],
             [
              0.4444444444444444,
              "#bd3786"
             ],
             [
              0.5555555555555556,
              "#d8576b"
             ],
             [
              0.6666666666666666,
              "#ed7953"
             ],
             [
              0.7777777777777778,
              "#fb9f3a"
             ],
             [
              0.8888888888888888,
              "#fdca26"
             ],
             [
              1,
              "#f0f921"
             ]
            ],
            "type": "heatmap"
           }
          ],
          "heatmapgl": [
           {
            "colorbar": {
             "outlinewidth": 0,
             "ticks": ""
            },
            "colorscale": [
             [
              0,
              "#0d0887"
             ],
             [
              0.1111111111111111,
              "#46039f"
             ],
             [
              0.2222222222222222,
              "#7201a8"
             ],
             [
              0.3333333333333333,
              "#9c179e"
             ],
             [
              0.4444444444444444,
              "#bd3786"
             ],
             [
              0.5555555555555556,
              "#d8576b"
             ],
             [
              0.6666666666666666,
              "#ed7953"
             ],
             [
              0.7777777777777778,
              "#fb9f3a"
             ],
             [
              0.8888888888888888,
              "#fdca26"
             ],
             [
              1,
              "#f0f921"
             ]
            ],
            "type": "heatmapgl"
           }
          ],
          "histogram": [
           {
            "marker": {
             "colorbar": {
              "outlinewidth": 0,
              "ticks": ""
             }
            },
            "type": "histogram"
           }
          ],
          "histogram2d": [
           {
            "colorbar": {
             "outlinewidth": 0,
             "ticks": ""
            },
            "colorscale": [
             [
              0,
              "#0d0887"
             ],
             [
              0.1111111111111111,
              "#46039f"
             ],
             [
              0.2222222222222222,
              "#7201a8"
             ],
             [
              0.3333333333333333,
              "#9c179e"
             ],
             [
              0.4444444444444444,
              "#bd3786"
             ],
             [
              0.5555555555555556,
              "#d8576b"
             ],
             [
              0.6666666666666666,
              "#ed7953"
             ],
             [
              0.7777777777777778,
              "#fb9f3a"
             ],
             [
              0.8888888888888888,
              "#fdca26"
             ],
             [
              1,
              "#f0f921"
             ]
            ],
            "type": "histogram2d"
           }
          ],
          "histogram2dcontour": [
           {
            "colorbar": {
             "outlinewidth": 0,
             "ticks": ""
            },
            "colorscale": [
             [
              0,
              "#0d0887"
             ],
             [
              0.1111111111111111,
              "#46039f"
             ],
             [
              0.2222222222222222,
              "#7201a8"
             ],
             [
              0.3333333333333333,
              "#9c179e"
             ],
             [
              0.4444444444444444,
              "#bd3786"
             ],
             [
              0.5555555555555556,
              "#d8576b"
             ],
             [
              0.6666666666666666,
              "#ed7953"
             ],
             [
              0.7777777777777778,
              "#fb9f3a"
             ],
             [
              0.8888888888888888,
              "#fdca26"
             ],
             [
              1,
              "#f0f921"
             ]
            ],
            "type": "histogram2dcontour"
           }
          ],
          "mesh3d": [
           {
            "colorbar": {
             "outlinewidth": 0,
             "ticks": ""
            },
            "type": "mesh3d"
           }
          ],
          "parcoords": [
           {
            "line": {
             "colorbar": {
              "outlinewidth": 0,
              "ticks": ""
             }
            },
            "type": "parcoords"
           }
          ],
          "pie": [
           {
            "automargin": true,
            "type": "pie"
           }
          ],
          "scatter": [
           {
            "marker": {
             "colorbar": {
              "outlinewidth": 0,
              "ticks": ""
             }
            },
            "type": "scatter"
           }
          ],
          "scatter3d": [
           {
            "line": {
             "colorbar": {
              "outlinewidth": 0,
              "ticks": ""
             }
            },
            "marker": {
             "colorbar": {
              "outlinewidth": 0,
              "ticks": ""
             }
            },
            "type": "scatter3d"
           }
          ],
          "scattercarpet": [
           {
            "marker": {
             "colorbar": {
              "outlinewidth": 0,
              "ticks": ""
             }
            },
            "type": "scattercarpet"
           }
          ],
          "scattergeo": [
           {
            "marker": {
             "colorbar": {
              "outlinewidth": 0,
              "ticks": ""
             }
            },
            "type": "scattergeo"
           }
          ],
          "scattergl": [
           {
            "marker": {
             "colorbar": {
              "outlinewidth": 0,
              "ticks": ""
             }
            },
            "type": "scattergl"
           }
          ],
          "scattermapbox": [
           {
            "marker": {
             "colorbar": {
              "outlinewidth": 0,
              "ticks": ""
             }
            },
            "type": "scattermapbox"
           }
          ],
          "scatterpolar": [
           {
            "marker": {
             "colorbar": {
              "outlinewidth": 0,
              "ticks": ""
             }
            },
            "type": "scatterpolar"
           }
          ],
          "scatterpolargl": [
           {
            "marker": {
             "colorbar": {
              "outlinewidth": 0,
              "ticks": ""
             }
            },
            "type": "scatterpolargl"
           }
          ],
          "scatterternary": [
           {
            "marker": {
             "colorbar": {
              "outlinewidth": 0,
              "ticks": ""
             }
            },
            "type": "scatterternary"
           }
          ],
          "surface": [
           {
            "colorbar": {
             "outlinewidth": 0,
             "ticks": ""
            },
            "colorscale": [
             [
              0,
              "#0d0887"
             ],
             [
              0.1111111111111111,
              "#46039f"
             ],
             [
              0.2222222222222222,
              "#7201a8"
             ],
             [
              0.3333333333333333,
              "#9c179e"
             ],
             [
              0.4444444444444444,
              "#bd3786"
             ],
             [
              0.5555555555555556,
              "#d8576b"
             ],
             [
              0.6666666666666666,
              "#ed7953"
             ],
             [
              0.7777777777777778,
              "#fb9f3a"
             ],
             [
              0.8888888888888888,
              "#fdca26"
             ],
             [
              1,
              "#f0f921"
             ]
            ],
            "type": "surface"
           }
          ],
          "table": [
           {
            "cells": {
             "fill": {
              "color": "#EBF0F8"
             },
             "line": {
              "color": "white"
             }
            },
            "header": {
             "fill": {
              "color": "#C8D4E3"
             },
             "line": {
              "color": "white"
             }
            },
            "type": "table"
           }
          ]
         },
         "layout": {
          "annotationdefaults": {
           "arrowcolor": "#2a3f5f",
           "arrowhead": 0,
           "arrowwidth": 1
          },
          "coloraxis": {
           "colorbar": {
            "outlinewidth": 0,
            "ticks": ""
           }
          },
          "colorscale": {
           "diverging": [
            [
             0,
             "#8e0152"
            ],
            [
             0.1,
             "#c51b7d"
            ],
            [
             0.2,
             "#de77ae"
            ],
            [
             0.3,
             "#f1b6da"
            ],
            [
             0.4,
             "#fde0ef"
            ],
            [
             0.5,
             "#f7f7f7"
            ],
            [
             0.6,
             "#e6f5d0"
            ],
            [
             0.7,
             "#b8e186"
            ],
            [
             0.8,
             "#7fbc41"
            ],
            [
             0.9,
             "#4d9221"
            ],
            [
             1,
             "#276419"
            ]
           ],
           "sequential": [
            [
             0,
             "#0d0887"
            ],
            [
             0.1111111111111111,
             "#46039f"
            ],
            [
             0.2222222222222222,
             "#7201a8"
            ],
            [
             0.3333333333333333,
             "#9c179e"
            ],
            [
             0.4444444444444444,
             "#bd3786"
            ],
            [
             0.5555555555555556,
             "#d8576b"
            ],
            [
             0.6666666666666666,
             "#ed7953"
            ],
            [
             0.7777777777777778,
             "#fb9f3a"
            ],
            [
             0.8888888888888888,
             "#fdca26"
            ],
            [
             1,
             "#f0f921"
            ]
           ],
           "sequentialminus": [
            [
             0,
             "#0d0887"
            ],
            [
             0.1111111111111111,
             "#46039f"
            ],
            [
             0.2222222222222222,
             "#7201a8"
            ],
            [
             0.3333333333333333,
             "#9c179e"
            ],
            [
             0.4444444444444444,
             "#bd3786"
            ],
            [
             0.5555555555555556,
             "#d8576b"
            ],
            [
             0.6666666666666666,
             "#ed7953"
            ],
            [
             0.7777777777777778,
             "#fb9f3a"
            ],
            [
             0.8888888888888888,
             "#fdca26"
            ],
            [
             1,
             "#f0f921"
            ]
           ]
          },
          "colorway": [
           "#636efa",
           "#EF553B",
           "#00cc96",
           "#ab63fa",
           "#FFA15A",
           "#19d3f3",
           "#FF6692",
           "#B6E880",
           "#FF97FF",
           "#FECB52"
          ],
          "font": {
           "color": "#2a3f5f"
          },
          "geo": {
           "bgcolor": "white",
           "lakecolor": "white",
           "landcolor": "white",
           "showlakes": true,
           "showland": true,
           "subunitcolor": "#C8D4E3"
          },
          "hoverlabel": {
           "align": "left"
          },
          "hovermode": "closest",
          "mapbox": {
           "style": "light"
          },
          "paper_bgcolor": "white",
          "plot_bgcolor": "white",
          "polar": {
           "angularaxis": {
            "gridcolor": "#EBF0F8",
            "linecolor": "#EBF0F8",
            "ticks": ""
           },
           "bgcolor": "white",
           "radialaxis": {
            "gridcolor": "#EBF0F8",
            "linecolor": "#EBF0F8",
            "ticks": ""
           }
          },
          "scene": {
           "xaxis": {
            "backgroundcolor": "white",
            "gridcolor": "#DFE8F3",
            "gridwidth": 2,
            "linecolor": "#EBF0F8",
            "showbackground": true,
            "ticks": "",
            "zerolinecolor": "#EBF0F8"
           },
           "yaxis": {
            "backgroundcolor": "white",
            "gridcolor": "#DFE8F3",
            "gridwidth": 2,
            "linecolor": "#EBF0F8",
            "showbackground": true,
            "ticks": "",
            "zerolinecolor": "#EBF0F8"
           },
           "zaxis": {
            "backgroundcolor": "white",
            "gridcolor": "#DFE8F3",
            "gridwidth": 2,
            "linecolor": "#EBF0F8",
            "showbackground": true,
            "ticks": "",
            "zerolinecolor": "#EBF0F8"
           }
          },
          "shapedefaults": {
           "line": {
            "color": "#2a3f5f"
           }
          },
          "ternary": {
           "aaxis": {
            "gridcolor": "#DFE8F3",
            "linecolor": "#A2B1C6",
            "ticks": ""
           },
           "baxis": {
            "gridcolor": "#DFE8F3",
            "linecolor": "#A2B1C6",
            "ticks": ""
           },
           "bgcolor": "white",
           "caxis": {
            "gridcolor": "#DFE8F3",
            "linecolor": "#A2B1C6",
            "ticks": ""
           }
          },
          "title": {
           "x": 0.05
          },
          "xaxis": {
           "automargin": true,
           "gridcolor": "#EBF0F8",
           "linecolor": "#EBF0F8",
           "ticks": "",
           "title": {
            "standoff": 15
           },
           "zerolinecolor": "#EBF0F8",
           "zerolinewidth": 2
          },
          "yaxis": {
           "automargin": true,
           "gridcolor": "#EBF0F8",
           "linecolor": "#EBF0F8",
           "ticks": "",
           "title": {
            "standoff": 15
           },
           "zerolinecolor": "#EBF0F8",
           "zerolinewidth": 2
          }
         }
        },
        "xaxis": {
         "anchor": "y",
         "domain": [
          0,
          1
         ],
         "title": {
          "text": "Weekly TCI Mean (m)"
         },
         "type": "log"
        },
        "yaxis": {
         "anchor": "x",
         "domain": [
          0,
          1
         ],
         "title": {
          "text": "Weekly CV"
         }
        }
       }
      },
      "text/html": [
       "<div>\n",
       "        \n",
       "        \n",
       "            <div id=\"87cbb5d3-6f87-4746-b753-fc48dee6b4ab\" class=\"plotly-graph-div\" style=\"height:600px; width:100%;\"></div>\n",
       "            <script type=\"text/javascript\">\n",
       "                require([\"plotly\"], function(Plotly) {\n",
       "                    window.PLOTLYENV=window.PLOTLYENV || {};\n",
       "                    \n",
       "                if (document.getElementById(\"87cbb5d3-6f87-4746-b753-fc48dee6b4ab\")) {\n",
       "                    Plotly.newPlot(\n",
       "                        '87cbb5d3-6f87-4746-b753-fc48dee6b4ab',\n",
       "                        [{\"hoverlabel\": {\"namelength\": 0}, \"hovertemplate\": \"<b>%{hovertext}</b><br><br>region_type=city<br>weekly_mean=%{x}<br>weekly_coef_var=%{y}\", \"hovertext\": [\"bogota\", \"managua\", \"kingston\", \"natal\", \"barquisimeto\", \"mendoza\", \"curitiba\", \"toluca\", \"barranquilla\", \"buenosaires\", \"paramaribo\", \"santodomingo\", \"saojosedoscampos\", \"panamacity\", \"sanfernado\", \"santiago\", \"fortaleza\", \"salvador\", \"manaus\", \"saopaulo\", \"teresina\", \"tegucigalpa\", \"georgetown\", \"ciudad_guayana\", \"montevideo\", \"merida\", \"belpoman\", \"porto_alergre\", \"arequipa\", \"tijuana\", \"saoluis\", \"cochabamba\", \"sorocaba\", \"joaopessoa\", \"mexicocity\", \"brasilia\", \"guadalajara\", \"lapaz\", \"nassau\", \"pereira\", \"asuncion\", \"santacruzdelasierra\", \"santiagocaballeros\", \"recife\", \"monterrey\", \"goiania\", \"guayaquil\", \"caracas\", \"guatemala\", \"cartagena\", \"belem\", \"pueble\", \"bridgetown\", \"riodejaneiro\", \"cucuta\", \"rosario\", \"quito\", \"campinas\", \"sanpedrosula\", \"maceio\", \"aguascalientes\", \"leon\", \"queretaro\", \"portauprince\", \"maracaibo\", \"cuenca\", \"barcelona\", \"medellin\", \"bucaramanga\", \"cordoba\", \"santos\", \"sanjose\", \"portofspain\", \"juarez\", \"sanluispotosi\", \"sansalvador\", \"santamarta\", \"valencia\", \"belohorizonte\", \"joinville\", \"vitoria\", \"maracay\", \"lima\", \"cali\", \"florianopolis\", \"torreon\"], \"legendgroup\": \"region_type=city\", \"marker\": {\"color\": \"#636efa\", \"symbol\": \"circle\"}, \"mode\": \"markers\", \"name\": \"region_type=city\", \"showlegend\": true, \"type\": \"scatter\", \"x\": [748767202.9622643, 16529493.20754717, 3840346.8301886786, 162864030.58490565, 455013.79245283024, 8642192.811320756, 156203165.33962265, 110505032.05660376, 80502371.75471698, 556797884.1132076, 1777874.528301887, 235603972.8679245, 27756846.71698113, 148315863.1509434, 16449015.16981132, 345481512.8301887, 162864030.66037735, 161819855.58490565, 107426744.71698111, 1261857522.528302, 41392551.24528302, 13983450.433962265, 181862.13207547172, 61809.07547169812, 69987322.3773585, 41595312.98113208, 6599.865384615385, 181560696.0943396, 27737181.50943396, 89834256.52830188, 62831130.73584906, 492504.5283018868, 19246228.16981132, 40946148.88679245, 1423626591.6603773, 76370539.3018868, 287845132.245283, 1257448.1698113207, 433668.6603773585, 26529903.35849057, 60917811.0, 32660749.05660377, 43177583.64150944, 204249580.9811321, 207554847.45283017, 89097855.16981132, 64379402.67924529, 29287310.13207547, 259614668.6037736, 31698116.943396226, 100003317.3773585, 120330240.35849056, 1944770.150943396, 561285353.3207548, 5283911.754716981, 10377347.528301887, 157509234.3773585, 78022685.50943395, 7689297.584905662, 59631520.49056604, 28265045.50943396, 52117894.49056604, 77346016.22641508, 1222641.4150943395, 87909.64150943396, 1910022.6603773586, 270893.28301886795, 160365157.50943395, 25393762.773584906, 21550780.05660377, 78456753.33962265, 206947390.18867925, 33574509.2264151, 44100515.39622641, 49471875.43396226, 111437863.39622642, 8536620.113207547, 1339843.6603773586, 233874813.32075468, 26802497.301886793, 70138387.75471698, 952949.075471698, 542937262.8490566, 109659866.79245284, 18719959.188679244, 20367859.05660377], \"xaxis\": \"x\", \"y\": [0.22096798554580474, 0.22980497780756334, 0.26970757518525823, 0.20961467269565415, 2.0813263221664227, 0.3638223602254846, 0.2502064088037572, 0.21618008376814224, 0.18923278080027145, 0.21789833888380455, 0.3961864216341421, 0.2298446356961427, 0.22395960784432276, 0.20396751933714047, 0.3112687768164055, 0.2773549978358809, 0.20961466972502488, 0.2014954753623732, 0.19954454504165453, 0.2360140289177365, 0.25218330319264154, 0.3436163835363011, 0.3707753352821059, 0.4428155590820333, 0.19724288190850295, 0.22223563471872007, 0.6774975611154525, 0.2303046903821204, 0.22510118436950916, 0.5122827134615497, 0.2479280408695712, 0.24051556660857526, 0.212832167069768, 0.20918194747213925, 0.20216747631142426, 0.25993903858281525, 0.20838641046882725, 0.2803889276562378, 0.3573886863330825, 0.28759596978176816, 0.4169301953025549, 0.3575468208807489, 0.19917076487734828, 0.19300546296201712, 0.25027617454863643, 0.2218559323892664, 0.2180476988632588, 0.5812667167360133, 0.21896381138541535, 0.2078034360462011, 0.244930626992786, 0.18769216005108413, 0.32032648582959355, 0.20723206370488265, 0.29579109826551864, 0.23523766761586945, 0.21219800824828725, 0.2335480327717783, 0.35315838211307765, 0.1809299192006453, 0.2858905222233324, 0.2624091921791272, 0.2125587371544555, 0.5524137314985547, 0.4897049795059035, 0.3111308342523457, 0.3709345916025836, 0.2388930675362972, 0.2459011047620025, 0.4601185111786109, 0.2656015605833746, 0.2436975054152345, 0.2949474533930781, 0.5093110602832025, 0.28831439995402464, 0.2394546467778669, 0.4116827862728698, 0.4410429130991756, 0.235304139033558, 0.29748302024755396, 0.20496160447805045, 0.4639472737633041, 0.15495059666023855, 0.2095956890935539, 0.2736954307109535, 0.4542269958408945], \"yaxis\": \"y\"}, {\"hoverlabel\": {\"namelength\": 0}, \"hovertemplate\": \"<b>%{hovertext}</b><br><br>region_type=submetro<br>weekly_mean=%{x}<br>weekly_coef_var=%{y}\", \"hovertext\": [\"ch_comunas_renca\", \"lima_metro1\", \"ch_comunas_san_joaquin\", \"ch_comunas_el_monte\", \"ch_comunas_melipilla\", \"ch_comunas_maipu\", \"ch_comunas_alhue\", \"ch_comunas_recoleta\", \"ch_comunas_pudahuel\", \"ch_comunas_vitacura\", \"ch_comunas_la_reina\", \"ch_comunas_calera_de_tango\", \"ch_comunas_colina\", \"ch_comunas_pedro_aguirre_cerda\", \"ch_comunas_cerrillos\", \"ch_comunas_independencia\", \"ch_comunas_macul\", \"ch_comunas_quilicura\", \"ch_comunas_lampa\", \"ch_comunas_san_miguel\", \"bogota_metro1\", \"ch_comunas_lo_espejo\", \"ch_comunas_penaflor\", \"ch_comunas_la_pintana\", \"ch_comunas_quinta_normal\", \"ch_comunas_padre_hurtado\", \"ch_comunas_santiago\", \"ch_comunas_conchali\", \"ch_comunas_san_bernardo\", \"ch_comunas_huechuraba\", \"ch_comunas_san_jose_de_maipo\", \"ch_comunas_penalolen\", \"lima_metro2\", \"ch_comunas_providencia\", \"ch_comunas_las_condes\", \"ch_comunas_talagante\", \"ch_comunas_puente_alto\", \"ch_comunas_san_pedro\", \"ch_comunas_el_bosque\", \"ch_comunas_paine\", \"ch_comunas_estacion_central\", \"ch_comunas_san_ramon\", \"ch_comunas_pirque\", \"ch_comunas_cerro_navia\", \"ch_comunas_lo_barnechea\", \"ch_comunas_buin\", \"ch_comunas_la_granja\", \"bogota_metro2\", \"ch_comunas_isla_de_maipo\", \"ch_comunas_lo_prado\", \"ch_comunas_curacavi\", \"ch_comunas_tiltil\", \"ch_comunas_nunoa\", \"ch_comunas_la_florida\", \"ch_comunas_maria_pinto\", \"ch_comunas_la_cisterna\"], \"legendgroup\": \"region_type=submetro\", \"marker\": {\"color\": \"#EF553B\", \"symbol\": \"circle\"}, \"mode\": \"markers\", \"name\": \"region_type=submetro\", \"showlegend\": true, \"type\": \"scatter\", \"x\": [0.0, 209958273.71698117, 0.0, 0.0, 0.0, 0.0, 0.0, 0.0, 0.0, 0.0, 0.0, 0.0, 0.0, 0.0, 0.0, 0.0, 0.0, 0.0, 0.0, 0.0, 379220447.509434, 0.0, 0.0, 0.0, 0.0, 0.0, 0.0, 0.0, 0.0, 0.0, 0.0, 0.0, 295466385.490566, 0.0, 0.0, 0.0, 0.0, 0.0, 0.0, 0.0, 0.0, 0.0, 0.0, 0.0, 0.0, 0.0, 0.0, 425439346.22641516, 0.0, 0.0, 0.0, 0.0, 0.0, 0.0, 0.0, 0.0], \"xaxis\": \"x\", \"y\": [null, 0.1926646945426957, null, null, null, null, null, null, null, null, null, null, null, null, null, null, null, null, null, null, 0.24201630048067016, null, null, null, null, null, null, null, null, null, null, null, 0.14376211871883973, null, null, null, null, null, null, null, null, null, null, null, null, null, null, 0.21323732080200386, null, null, null, null, null, null, null, null], \"yaxis\": \"y\"}, {\"hoverlabel\": {\"namelength\": 0}, \"hovertemplate\": \"<b>%{hovertext}</b><br><br>region_type=country<br>weekly_mean=%{x}<br>weekly_coef_var=%{y}\", \"hovertext\": [\"country_guyana\", \"country_ecuador\", \"country_nicaragua\", \"country_venezuela\", \"country_barbados\", \"country_costa_rica\", \"country_haiti\", \"country_uruguay\", \"country_bolivia\", \"country_guatemala\", \"country_peru\", \"country_colombia\", \"country_chile\", \"country_brazil\", \"country_argentina\", \"country_paraguay\", \"country_honduras\", \"country_el_salvador\", \"country_trinidad_and_tobago\", \"country_jamaica\", \"country_panama\", \"country_the_bahamas\", \"country_suriname\", \"country_belize\", \"country_mexico\", \"country_dominican_republic\"], \"legendgroup\": \"region_type=country\", \"marker\": {\"color\": \"#00cc96\", \"symbol\": \"circle\"}, \"mode\": \"markers\", \"name\": \"region_type=country\", \"showlegend\": true, \"type\": \"scatter\", \"x\": [477374.2264150944, 293479383.77358484, 51164119.43396226, 38251523.11320755, 2813860.9056603773, 562575986.8113208, 2990057.7358490564, 116745989.79245284, 46032614.56603774, 427929804.0377358, 872395492.8113207, 1921895292.7735848, 1100198149.6415095, null, 1117104932.4339623, 76473839.98113208, 55050252.81132075, 198248563.9811321, 107958291.6226415, 14852525.79245283, 260588652.754717, 1681324.79245283, 3176142.207547169, 2221226.981132076, 5679688889.547171, 321617187.509434], \"xaxis\": \"x\", \"y\": [0.43420137163684697, 0.17726038444200906, 0.23692876055613016, 0.44797949182570185, 0.2609976054326644, 0.15731685871168113, 0.6464455735587956, 0.293816728768831, 0.3076454063999359, 0.20056175605853305, 0.16606182047466286, 0.1913106207096777, 0.14916533084950026, null, 0.2236955552035937, 0.40375961053711423, 0.26486123590308946, 0.2655842352351394, 0.2566211608853609, 0.183131433518718, 0.17039879400674116, 0.3237263464389799, 0.34570571691687074, 0.5098418751655216, 0.2576985357129717, 0.2085866140625696], \"yaxis\": \"y\"}, {\"hoverlabel\": {\"namelength\": 0}, \"hovertemplate\": \"<b>%{hovertext}</b><br><br>region_type=state<br>weekly_mean=%{x}<br>weekly_coef_var=%{y}\", \"hovertext\": [\"br_states_paraiba\", \"br_states_sao_paulo\", \"br_states_amapa\", \"br_states_tocantins\", \"br_states_sergipe\", \"br_states_espirito_santo\", \"br_states_alagoas\", \"br_states_goias\", \"br_states_para\", \"br_states_roraima\", \"br_states_amazonas\", \"br_states_santa_catarina\", \"br_states_rondonia\", \"br_states_rio_grande_do_sul\", \"br_states_ceara\", \"br_states_mato_grosso_do_sul\", \"br_states_bahia\", \"br_states_maranhao\", \"br_states_acre\", \"br_states_minas_gerais\", \"br_states_rio_de_janeiro\", \"br_states_pernambuco\", \"br_states_piaui\", \"br_states_mato_grosso\", \"br_states_rio_grande_do_norte\", \"br_states_parana\", \"br_states_distrito_federal\"], \"legendgroup\": \"region_type=state\", \"marker\": {\"color\": \"#ab63fa\", \"symbol\": \"circle\"}, \"mode\": \"markers\", \"name\": \"region_type=state\", \"showlegend\": true, \"type\": \"scatter\", \"x\": [106616928.35849056, 2394590450.5283017, 26912269.433962263, 82333966.88679245, 78531252.6981132, 145707099.66037735, 83770654.0754717, 404996763.98113215, 250369056.05660376, 12063464.924528304, 112158544.33962265, 537118081.5849056, 58473957.86792453, 743353861.1698114, 343477821.84905666, 182055281.07547167, 514846092.6226415, 239628569.58490565, 22877205.16981132, 1460616591.6981132, 872814919.1509434, 388480756.0754717, 115154624.77358492, 194213082.3773585, 123875361.79245284, 868893825.4528303, 108086441.18867923], \"xaxis\": \"x\", \"y\": [0.213571657530338, 0.19734755282659275, 0.30825695694590977, 0.4337525353976512, 0.20206002778330964, 0.18411171220025035, 0.1852987792107371, 0.2594784308499088, 0.31515304648226744, 0.27297652860059923, 0.19560868350528174, 0.23552062436615226, 0.2980603071486284, 0.25222449171732514, 0.2776241532738791, 0.2953086590705622, 0.25042953423016634, 0.3295381777417441, 0.34958579117521216, 0.2258525675517441, 0.19048682567417055, 0.20912414862972448, 0.3743815336303252, 0.3163742138419414, 0.2318830012018617, 0.26733718867784023, 0.2506200309923385], \"yaxis\": \"y\"}],\n",
       "                        {\"height\": 600, \"legend\": {\"tracegroupgap\": 0}, \"margin\": {\"t\": 60}, \"template\": {\"data\": {\"bar\": [{\"error_x\": {\"color\": \"#2a3f5f\"}, \"error_y\": {\"color\": \"#2a3f5f\"}, \"marker\": {\"line\": {\"color\": \"white\", \"width\": 0.5}}, \"type\": \"bar\"}], \"barpolar\": [{\"marker\": {\"line\": {\"color\": \"white\", \"width\": 0.5}}, \"type\": \"barpolar\"}], \"carpet\": [{\"aaxis\": {\"endlinecolor\": \"#2a3f5f\", \"gridcolor\": \"#C8D4E3\", \"linecolor\": \"#C8D4E3\", \"minorgridcolor\": \"#C8D4E3\", \"startlinecolor\": \"#2a3f5f\"}, \"baxis\": {\"endlinecolor\": \"#2a3f5f\", \"gridcolor\": \"#C8D4E3\", \"linecolor\": \"#C8D4E3\", \"minorgridcolor\": \"#C8D4E3\", \"startlinecolor\": \"#2a3f5f\"}, \"type\": \"carpet\"}], \"choropleth\": [{\"colorbar\": {\"outlinewidth\": 0, \"ticks\": \"\"}, \"type\": \"choropleth\"}], \"contour\": [{\"colorbar\": {\"outlinewidth\": 0, \"ticks\": \"\"}, \"colorscale\": [[0.0, \"#0d0887\"], [0.1111111111111111, \"#46039f\"], [0.2222222222222222, \"#7201a8\"], [0.3333333333333333, \"#9c179e\"], [0.4444444444444444, \"#bd3786\"], [0.5555555555555556, \"#d8576b\"], [0.6666666666666666, \"#ed7953\"], [0.7777777777777778, \"#fb9f3a\"], [0.8888888888888888, \"#fdca26\"], [1.0, \"#f0f921\"]], \"type\": \"contour\"}], \"contourcarpet\": [{\"colorbar\": {\"outlinewidth\": 0, \"ticks\": \"\"}, \"type\": \"contourcarpet\"}], \"heatmap\": [{\"colorbar\": {\"outlinewidth\": 0, \"ticks\": \"\"}, \"colorscale\": [[0.0, \"#0d0887\"], [0.1111111111111111, \"#46039f\"], [0.2222222222222222, \"#7201a8\"], [0.3333333333333333, \"#9c179e\"], [0.4444444444444444, \"#bd3786\"], [0.5555555555555556, \"#d8576b\"], [0.6666666666666666, \"#ed7953\"], [0.7777777777777778, \"#fb9f3a\"], [0.8888888888888888, \"#fdca26\"], [1.0, \"#f0f921\"]], \"type\": \"heatmap\"}], \"heatmapgl\": [{\"colorbar\": {\"outlinewidth\": 0, \"ticks\": \"\"}, \"colorscale\": [[0.0, \"#0d0887\"], [0.1111111111111111, \"#46039f\"], [0.2222222222222222, \"#7201a8\"], [0.3333333333333333, \"#9c179e\"], [0.4444444444444444, \"#bd3786\"], [0.5555555555555556, \"#d8576b\"], [0.6666666666666666, \"#ed7953\"], [0.7777777777777778, \"#fb9f3a\"], [0.8888888888888888, \"#fdca26\"], [1.0, \"#f0f921\"]], \"type\": \"heatmapgl\"}], \"histogram\": [{\"marker\": {\"colorbar\": {\"outlinewidth\": 0, \"ticks\": \"\"}}, \"type\": \"histogram\"}], \"histogram2d\": [{\"colorbar\": {\"outlinewidth\": 0, \"ticks\": \"\"}, \"colorscale\": [[0.0, \"#0d0887\"], [0.1111111111111111, \"#46039f\"], [0.2222222222222222, \"#7201a8\"], [0.3333333333333333, \"#9c179e\"], [0.4444444444444444, \"#bd3786\"], [0.5555555555555556, \"#d8576b\"], [0.6666666666666666, \"#ed7953\"], [0.7777777777777778, \"#fb9f3a\"], [0.8888888888888888, \"#fdca26\"], [1.0, \"#f0f921\"]], \"type\": \"histogram2d\"}], \"histogram2dcontour\": [{\"colorbar\": {\"outlinewidth\": 0, \"ticks\": \"\"}, \"colorscale\": [[0.0, \"#0d0887\"], [0.1111111111111111, \"#46039f\"], [0.2222222222222222, \"#7201a8\"], [0.3333333333333333, \"#9c179e\"], [0.4444444444444444, \"#bd3786\"], [0.5555555555555556, \"#d8576b\"], [0.6666666666666666, \"#ed7953\"], [0.7777777777777778, \"#fb9f3a\"], [0.8888888888888888, \"#fdca26\"], [1.0, \"#f0f921\"]], \"type\": \"histogram2dcontour\"}], \"mesh3d\": [{\"colorbar\": {\"outlinewidth\": 0, \"ticks\": \"\"}, \"type\": \"mesh3d\"}], \"parcoords\": [{\"line\": {\"colorbar\": {\"outlinewidth\": 0, \"ticks\": \"\"}}, \"type\": \"parcoords\"}], \"pie\": [{\"automargin\": true, \"type\": \"pie\"}], \"scatter\": [{\"marker\": {\"colorbar\": {\"outlinewidth\": 0, \"ticks\": \"\"}}, \"type\": \"scatter\"}], \"scatter3d\": [{\"line\": {\"colorbar\": {\"outlinewidth\": 0, \"ticks\": \"\"}}, \"marker\": {\"colorbar\": {\"outlinewidth\": 0, \"ticks\": \"\"}}, \"type\": \"scatter3d\"}], \"scattercarpet\": [{\"marker\": {\"colorbar\": {\"outlinewidth\": 0, \"ticks\": \"\"}}, \"type\": \"scattercarpet\"}], \"scattergeo\": [{\"marker\": {\"colorbar\": {\"outlinewidth\": 0, \"ticks\": \"\"}}, \"type\": \"scattergeo\"}], \"scattergl\": [{\"marker\": {\"colorbar\": {\"outlinewidth\": 0, \"ticks\": \"\"}}, \"type\": \"scattergl\"}], \"scattermapbox\": [{\"marker\": {\"colorbar\": {\"outlinewidth\": 0, \"ticks\": \"\"}}, \"type\": \"scattermapbox\"}], \"scatterpolar\": [{\"marker\": {\"colorbar\": {\"outlinewidth\": 0, \"ticks\": \"\"}}, \"type\": \"scatterpolar\"}], \"scatterpolargl\": [{\"marker\": {\"colorbar\": {\"outlinewidth\": 0, \"ticks\": \"\"}}, \"type\": \"scatterpolargl\"}], \"scatterternary\": [{\"marker\": {\"colorbar\": {\"outlinewidth\": 0, \"ticks\": \"\"}}, \"type\": \"scatterternary\"}], \"surface\": [{\"colorbar\": {\"outlinewidth\": 0, \"ticks\": \"\"}, \"colorscale\": [[0.0, \"#0d0887\"], [0.1111111111111111, \"#46039f\"], [0.2222222222222222, \"#7201a8\"], [0.3333333333333333, \"#9c179e\"], [0.4444444444444444, \"#bd3786\"], [0.5555555555555556, \"#d8576b\"], [0.6666666666666666, \"#ed7953\"], [0.7777777777777778, \"#fb9f3a\"], [0.8888888888888888, \"#fdca26\"], [1.0, \"#f0f921\"]], \"type\": \"surface\"}], \"table\": [{\"cells\": {\"fill\": {\"color\": \"#EBF0F8\"}, \"line\": {\"color\": \"white\"}}, \"header\": {\"fill\": {\"color\": \"#C8D4E3\"}, \"line\": {\"color\": \"white\"}}, \"type\": \"table\"}]}, \"layout\": {\"annotationdefaults\": {\"arrowcolor\": \"#2a3f5f\", \"arrowhead\": 0, \"arrowwidth\": 1}, \"coloraxis\": {\"colorbar\": {\"outlinewidth\": 0, \"ticks\": \"\"}}, \"colorscale\": {\"diverging\": [[0, \"#8e0152\"], [0.1, \"#c51b7d\"], [0.2, \"#de77ae\"], [0.3, \"#f1b6da\"], [0.4, \"#fde0ef\"], [0.5, \"#f7f7f7\"], [0.6, \"#e6f5d0\"], [0.7, \"#b8e186\"], [0.8, \"#7fbc41\"], [0.9, \"#4d9221\"], [1, \"#276419\"]], \"sequential\": [[0.0, \"#0d0887\"], [0.1111111111111111, \"#46039f\"], [0.2222222222222222, \"#7201a8\"], [0.3333333333333333, \"#9c179e\"], [0.4444444444444444, \"#bd3786\"], [0.5555555555555556, \"#d8576b\"], [0.6666666666666666, \"#ed7953\"], [0.7777777777777778, \"#fb9f3a\"], [0.8888888888888888, \"#fdca26\"], [1.0, \"#f0f921\"]], \"sequentialminus\": [[0.0, \"#0d0887\"], [0.1111111111111111, \"#46039f\"], [0.2222222222222222, \"#7201a8\"], [0.3333333333333333, \"#9c179e\"], [0.4444444444444444, \"#bd3786\"], [0.5555555555555556, \"#d8576b\"], [0.6666666666666666, \"#ed7953\"], [0.7777777777777778, \"#fb9f3a\"], [0.8888888888888888, \"#fdca26\"], [1.0, \"#f0f921\"]]}, \"colorway\": [\"#636efa\", \"#EF553B\", \"#00cc96\", \"#ab63fa\", \"#FFA15A\", \"#19d3f3\", \"#FF6692\", \"#B6E880\", \"#FF97FF\", \"#FECB52\"], \"font\": {\"color\": \"#2a3f5f\"}, \"geo\": {\"bgcolor\": \"white\", \"lakecolor\": \"white\", \"landcolor\": \"white\", \"showlakes\": true, \"showland\": true, \"subunitcolor\": \"#C8D4E3\"}, \"hoverlabel\": {\"align\": \"left\"}, \"hovermode\": \"closest\", \"mapbox\": {\"style\": \"light\"}, \"paper_bgcolor\": \"white\", \"plot_bgcolor\": \"white\", \"polar\": {\"angularaxis\": {\"gridcolor\": \"#EBF0F8\", \"linecolor\": \"#EBF0F8\", \"ticks\": \"\"}, \"bgcolor\": \"white\", \"radialaxis\": {\"gridcolor\": \"#EBF0F8\", \"linecolor\": \"#EBF0F8\", \"ticks\": \"\"}}, \"scene\": {\"xaxis\": {\"backgroundcolor\": \"white\", \"gridcolor\": \"#DFE8F3\", \"gridwidth\": 2, \"linecolor\": \"#EBF0F8\", \"showbackground\": true, \"ticks\": \"\", \"zerolinecolor\": \"#EBF0F8\"}, \"yaxis\": {\"backgroundcolor\": \"white\", \"gridcolor\": \"#DFE8F3\", \"gridwidth\": 2, \"linecolor\": \"#EBF0F8\", \"showbackground\": true, \"ticks\": \"\", \"zerolinecolor\": \"#EBF0F8\"}, \"zaxis\": {\"backgroundcolor\": \"white\", \"gridcolor\": \"#DFE8F3\", \"gridwidth\": 2, \"linecolor\": \"#EBF0F8\", \"showbackground\": true, \"ticks\": \"\", \"zerolinecolor\": \"#EBF0F8\"}}, \"shapedefaults\": {\"line\": {\"color\": \"#2a3f5f\"}}, \"ternary\": {\"aaxis\": {\"gridcolor\": \"#DFE8F3\", \"linecolor\": \"#A2B1C6\", \"ticks\": \"\"}, \"baxis\": {\"gridcolor\": \"#DFE8F3\", \"linecolor\": \"#A2B1C6\", \"ticks\": \"\"}, \"bgcolor\": \"white\", \"caxis\": {\"gridcolor\": \"#DFE8F3\", \"linecolor\": \"#A2B1C6\", \"ticks\": \"\"}}, \"title\": {\"x\": 0.05}, \"xaxis\": {\"automargin\": true, \"gridcolor\": \"#EBF0F8\", \"linecolor\": \"#EBF0F8\", \"ticks\": \"\", \"title\": {\"standoff\": 15}, \"zerolinecolor\": \"#EBF0F8\", \"zerolinewidth\": 2}, \"yaxis\": {\"automargin\": true, \"gridcolor\": \"#EBF0F8\", \"linecolor\": \"#EBF0F8\", \"ticks\": \"\", \"title\": {\"standoff\": 15}, \"zerolinecolor\": \"#EBF0F8\", \"zerolinewidth\": 2}}}, \"xaxis\": {\"anchor\": \"y\", \"domain\": [0.0, 1.0], \"title\": {\"text\": \"Weekly TCI Mean (m)\"}, \"type\": \"log\"}, \"yaxis\": {\"anchor\": \"x\", \"domain\": [0.0, 1.0], \"title\": {\"text\": \"Weekly CV\"}}},\n",
       "                        {\"responsive\": true}\n",
       "                    ).then(function(){\n",
       "                            \n",
       "var gd = document.getElementById('87cbb5d3-6f87-4746-b753-fc48dee6b4ab');\n",
       "var x = new MutationObserver(function (mutations, observer) {{\n",
       "        var display = window.getComputedStyle(gd).display;\n",
       "        if (!display || display === 'none') {{\n",
       "            console.log([gd, 'removed!']);\n",
       "            Plotly.purge(gd);\n",
       "            observer.disconnect();\n",
       "        }}\n",
       "}});\n",
       "\n",
       "// Listen for the removal of the full notebook cells\n",
       "var notebookContainer = gd.closest('#notebook-container');\n",
       "if (notebookContainer) {{\n",
       "    x.observe(notebookContainer, {childList: true});\n",
       "}}\n",
       "\n",
       "// Listen for the clearing of the current output cell\n",
       "var outputEl = gd.closest('.output');\n",
       "if (outputEl) {{\n",
       "    x.observe(outputEl, {childList: true});\n",
       "}}\n",
       "\n",
       "                        })\n",
       "                };\n",
       "                });\n",
       "            </script>\n",
       "        </div>"
      ]
     },
     "metadata": {},
     "output_type": "display_data"
    }
   ],
   "source": [
    "fig = px.scatter(df,\n",
    "            x=\"weekly_mean\", y=\"weekly_coef_var\", color='region_type',\n",
    "            hover_name=\"region_slug\", template='plotly_white', \n",
    "            log_x=True\n",
    "          )\n",
    "fig.update_xaxes(title_text='Weekly TCI Mean (m)')\n",
    "fig.update_yaxes(title_text='Weekly CV')\n",
    "\n",
    "fig.show()"
   ]
  },
  {
   "cell_type": "code",
   "execution_count": 62,
   "metadata": {},
   "outputs": [],
   "source": [
    "fig.write_html(open(OUTPUT_PATH / 'weeklyTCICV.html', 'w'))"
   ]
  },
  {
   "cell_type": "code",
   "execution_count": 63,
   "metadata": {},
   "outputs": [
    {
     "data": {
      "text/html": [
       "<div>\n",
       "<style scoped>\n",
       "    .dataframe tbody tr th:only-of-type {\n",
       "        vertical-align: middle;\n",
       "    }\n",
       "\n",
       "    .dataframe tbody tr th {\n",
       "        vertical-align: top;\n",
       "    }\n",
       "\n",
       "    .dataframe thead th {\n",
       "        text-align: right;\n",
       "    }\n",
       "</style>\n",
       "<table border=\"1\" class=\"dataframe\">\n",
       "  <thead>\n",
       "    <tr style=\"text-align: right;\">\n",
       "      <th></th>\n",
       "      <th>country_name</th>\n",
       "      <th>country_iso</th>\n",
       "      <th>region_slug</th>\n",
       "      <th>region_name</th>\n",
       "      <th>region_type</th>\n",
       "      <th>population</th>\n",
       "      <th>dashboard</th>\n",
       "      <th>timezone</th>\n",
       "      <th>region_shapefile_wkt</th>\n",
       "      <th>rerun</th>\n",
       "      <th>idb_code</th>\n",
       "      <th>waze_code</th>\n",
       "      <th>country_name_idb_eng</th>\n",
       "      <th>region_shapefile_binary</th>\n",
       "      <th>area</th>\n",
       "      <th>n_days</th>\n",
       "      <th>daily_mean</th>\n",
       "      <th>daily_std</th>\n",
       "      <th>daily_coef_var</th>\n",
       "      <th>weekly_mean</th>\n",
       "      <th>weekly_std</th>\n",
       "      <th>weekly_coef_var</th>\n",
       "      <th>daily_approved</th>\n",
       "      <th>weekly_approved</th>\n",
       "      <th>total_length</th>\n",
       "    </tr>\n",
       "  </thead>\n",
       "  <tbody>\n",
       "    <tr>\n",
       "      <th>0</th>\n",
       "      <td>Colombia</td>\n",
       "      <td>CO</td>\n",
       "      <td>bogota</td>\n",
       "      <td>Bogotá</td>\n",
       "      <td>city</td>\n",
       "      <td>8770058.0</td>\n",
       "      <td>True</td>\n",
       "      <td>America/Bogota</td>\n",
       "      <td>Polygon ((-74.04208330493199242 4.932917798462...</td>\n",
       "      <td>False</td>\n",
       "      <td>CO</td>\n",
       "      <td>CO</td>\n",
       "      <td>Colombia</td>\n",
       "      <td>b'\\x00\\x00\\x00\\x00\\x03\\x05\\x00\\x00\\x00\\x04\\x01...</td>\n",
       "      <td>7.152778e-02</td>\n",
       "      <td>365.0</td>\n",
       "      <td>1.087251e+08</td>\n",
       "      <td>3.117014e+07</td>\n",
       "      <td>0.286688</td>\n",
       "      <td>7.487672e+08</td>\n",
       "      <td>1.654536e+08</td>\n",
       "      <td>0.220968</td>\n",
       "      <td>True</td>\n",
       "      <td>True</td>\n",
       "      <td>8552341.21</td>\n",
       "    </tr>\n",
       "    <tr>\n",
       "      <th>1</th>\n",
       "      <td>Nicaragua</td>\n",
       "      <td>NI</td>\n",
       "      <td>managua</td>\n",
       "      <td>Managua</td>\n",
       "      <td>city</td>\n",
       "      <td>941824.0</td>\n",
       "      <td>True</td>\n",
       "      <td>America/Managua</td>\n",
       "      <td>Polygon ((-86.35874916434539728 12.17458495986...</td>\n",
       "      <td>False</td>\n",
       "      <td>NI</td>\n",
       "      <td>NU</td>\n",
       "      <td>Nicaragua</td>\n",
       "      <td>b'\\x00\\x00\\x00\\x00\\x03\\x05\\x00\\x00\\x00-\\xd1\\xb...</td>\n",
       "      <td>2.986111e-02</td>\n",
       "      <td>365.0</td>\n",
       "      <td>2.400173e+06</td>\n",
       "      <td>8.711462e+05</td>\n",
       "      <td>0.362951</td>\n",
       "      <td>1.652949e+07</td>\n",
       "      <td>3.798560e+06</td>\n",
       "      <td>0.229805</td>\n",
       "      <td>True</td>\n",
       "      <td>True</td>\n",
       "      <td>2239902.08</td>\n",
       "    </tr>\n",
       "    <tr>\n",
       "      <th>2</th>\n",
       "      <td>Chile</td>\n",
       "      <td>CL</td>\n",
       "      <td>ch_comunas_renca</td>\n",
       "      <td>RENCA</td>\n",
       "      <td>submetro</td>\n",
       "      <td>147151.0</td>\n",
       "      <td>False</td>\n",
       "      <td>America/Santiago</td>\n",
       "      <td>POLYGON ((334281.3190000001 6301401.4268, 3342...</td>\n",
       "      <td>False</td>\n",
       "      <td>CH</td>\n",
       "      <td>CI</td>\n",
       "      <td>Chile</td>\n",
       "      <td>b\"\\x00\\x00\\x00\\x00\\x03\\x05\\x00\\x00\\x00\\xa0\\x89...</td>\n",
       "      <td>2.398348e+07</td>\n",
       "      <td>364.0</td>\n",
       "      <td>0.000000e+00</td>\n",
       "      <td>0.000000e+00</td>\n",
       "      <td>NaN</td>\n",
       "      <td>0.000000e+00</td>\n",
       "      <td>0.000000e+00</td>\n",
       "      <td>NaN</td>\n",
       "      <td>False</td>\n",
       "      <td>False</td>\n",
       "      <td>353222.22</td>\n",
       "    </tr>\n",
       "    <tr>\n",
       "      <th>3</th>\n",
       "      <td>Guyana</td>\n",
       "      <td>GY</td>\n",
       "      <td>country_guyana</td>\n",
       "      <td>Guyana</td>\n",
       "      <td>country</td>\n",
       "      <td>786559.0</td>\n",
       "      <td>False</td>\n",
       "      <td>America/Guyana</td>\n",
       "      <td>MULTIPOLYGON (((-61.40894 5.971249,-61.124543 ...</td>\n",
       "      <td>False</td>\n",
       "      <td>GY</td>\n",
       "      <td>GY</td>\n",
       "      <td>Guyana</td>\n",
       "      <td>b'\\x00\\x00\\x00\\x00\\x06\\x05\\x00\\x00\\x00\\\\\\x03[%...</td>\n",
       "      <td>1.722914e+01</td>\n",
       "      <td>365.0</td>\n",
       "      <td>6.931735e+04</td>\n",
       "      <td>5.828429e+04</td>\n",
       "      <td>0.840833</td>\n",
       "      <td>4.773742e+05</td>\n",
       "      <td>2.072765e+05</td>\n",
       "      <td>0.434201</td>\n",
       "      <td>False</td>\n",
       "      <td>True</td>\n",
       "      <td>6241684.02</td>\n",
       "    </tr>\n",
       "    <tr>\n",
       "      <th>4</th>\n",
       "      <td>Jamaica</td>\n",
       "      <td>JM</td>\n",
       "      <td>kingston</td>\n",
       "      <td>Kingston</td>\n",
       "      <td>city</td>\n",
       "      <td>585459.0</td>\n",
       "      <td>True</td>\n",
       "      <td>America/Jamaica</td>\n",
       "      <td>Polygon ((-76.80041645747992618 18.08291869684...</td>\n",
       "      <td>False</td>\n",
       "      <td>JA</td>\n",
       "      <td>JM</td>\n",
       "      <td>Jamaica</td>\n",
       "      <td>b'\\x00\\x00\\x00\\x00\\x03\\x05\\x00\\x00\\x00\\x9e{B[\\...</td>\n",
       "      <td>1.312500e-02</td>\n",
       "      <td>365.0</td>\n",
       "      <td>5.576394e+05</td>\n",
       "      <td>2.739794e+05</td>\n",
       "      <td>0.491320</td>\n",
       "      <td>3.840347e+06</td>\n",
       "      <td>1.035771e+06</td>\n",
       "      <td>0.269708</td>\n",
       "      <td>True</td>\n",
       "      <td>True</td>\n",
       "      <td>1384098.48</td>\n",
       "    </tr>\n",
       "  </tbody>\n",
       "</table>\n",
       "</div>"
      ],
      "text/plain": [
       "  country_name country_iso       region_slug region_name region_type  \\\n",
       "0     Colombia          CO            bogota      Bogotá        city   \n",
       "1    Nicaragua          NI           managua     Managua        city   \n",
       "2        Chile          CL  ch_comunas_renca       RENCA    submetro   \n",
       "3       Guyana          GY    country_guyana      Guyana     country   \n",
       "4      Jamaica          JM          kingston    Kingston        city   \n",
       "\n",
       "   population dashboard          timezone  \\\n",
       "0   8770058.0      True    America/Bogota   \n",
       "1    941824.0      True   America/Managua   \n",
       "2    147151.0     False  America/Santiago   \n",
       "3    786559.0     False    America/Guyana   \n",
       "4    585459.0      True   America/Jamaica   \n",
       "\n",
       "                                region_shapefile_wkt  rerun idb_code  \\\n",
       "0  Polygon ((-74.04208330493199242 4.932917798462...  False       CO   \n",
       "1  Polygon ((-86.35874916434539728 12.17458495986...  False       NI   \n",
       "2  POLYGON ((334281.3190000001 6301401.4268, 3342...  False       CH   \n",
       "3  MULTIPOLYGON (((-61.40894 5.971249,-61.124543 ...  False       GY   \n",
       "4  Polygon ((-76.80041645747992618 18.08291869684...  False       JA   \n",
       "\n",
       "  waze_code country_name_idb_eng  \\\n",
       "0        CO             Colombia   \n",
       "1        NU            Nicaragua   \n",
       "2        CI                Chile   \n",
       "3        GY               Guyana   \n",
       "4        JM              Jamaica   \n",
       "\n",
       "                             region_shapefile_binary          area  n_days  \\\n",
       "0  b'\\x00\\x00\\x00\\x00\\x03\\x05\\x00\\x00\\x00\\x04\\x01...  7.152778e-02   365.0   \n",
       "1  b'\\x00\\x00\\x00\\x00\\x03\\x05\\x00\\x00\\x00-\\xd1\\xb...  2.986111e-02   365.0   \n",
       "2  b\"\\x00\\x00\\x00\\x00\\x03\\x05\\x00\\x00\\x00\\xa0\\x89...  2.398348e+07   364.0   \n",
       "3  b'\\x00\\x00\\x00\\x00\\x06\\x05\\x00\\x00\\x00\\\\\\x03[%...  1.722914e+01   365.0   \n",
       "4  b'\\x00\\x00\\x00\\x00\\x03\\x05\\x00\\x00\\x00\\x9e{B[\\...  1.312500e-02   365.0   \n",
       "\n",
       "     daily_mean     daily_std  daily_coef_var   weekly_mean    weekly_std  \\\n",
       "0  1.087251e+08  3.117014e+07        0.286688  7.487672e+08  1.654536e+08   \n",
       "1  2.400173e+06  8.711462e+05        0.362951  1.652949e+07  3.798560e+06   \n",
       "2  0.000000e+00  0.000000e+00             NaN  0.000000e+00  0.000000e+00   \n",
       "3  6.931735e+04  5.828429e+04        0.840833  4.773742e+05  2.072765e+05   \n",
       "4  5.576394e+05  2.739794e+05        0.491320  3.840347e+06  1.035771e+06   \n",
       "\n",
       "   weekly_coef_var daily_approved weekly_approved  total_length  \n",
       "0         0.220968           True            True    8552341.21  \n",
       "1         0.229805           True            True    2239902.08  \n",
       "2              NaN          False           False     353222.22  \n",
       "3         0.434201          False            True    6241684.02  \n",
       "4         0.269708           True            True    1384098.48  "
      ]
     },
     "execution_count": 63,
     "metadata": {},
     "output_type": "execute_result"
    }
   ],
   "source": [
    "df.head()"
   ]
  },
  {
   "cell_type": "markdown",
   "metadata": {},
   "source": [
    "# TCP by Network Length"
   ]
  },
  {
   "cell_type": "code",
   "execution_count": 64,
   "metadata": {},
   "outputs": [
    {
     "data": {
      "application/vnd.plotly.v1+json": {
       "config": {
        "plotlyServerURL": "https://plot.ly"
       },
       "data": [
        {
         "hoverlabel": {
          "namelength": 0
         },
         "hovertemplate": "<b>%{hovertext}</b><br><br>region_type=country<br>total_length=%{x}<br>daily_mean=%{y}",
         "hovertext": [
          "country_guyana",
          "country_ecuador",
          "country_nicaragua",
          "country_venezuela",
          "country_barbados",
          "country_costa_rica",
          "country_haiti",
          "country_uruguay",
          "country_bolivia",
          "country_guatemala",
          "country_peru",
          "country_colombia",
          "country_chile",
          "country_brazil",
          "country_argentina",
          "country_paraguay",
          "country_honduras",
          "country_el_salvador",
          "country_trinidad_and_tobago",
          "country_jamaica",
          "country_panama",
          "country_the_bahamas",
          "country_suriname",
          "country_belize",
          "country_mexico",
          "country_dominican_republic"
         ],
         "legendgroup": "region_type=country",
         "marker": {
          "color": "#636efa",
          "symbol": "circle"
         },
         "mode": "markers",
         "name": "region_type=country",
         "showlegend": true,
         "type": "scatter",
         "x": [
          6241684.02,
          110653842.64,
          25571690.41,
          139103484.21,
          2300315.87,
          42042600.16,
          21717748.35,
          44642077.17,
          199169227.23999998,
          56776843.35,
          245723531.16,
          198164320.3,
          151818163.85,
          1971852895.98,
          575779290.14,
          90047913.28,
          39274098.85,
          26153892.25,
          10123486.6,
          17337153.61,
          23366911.63,
          5999736.4,
          5602976.41,
          6865201.62,
          391093708.64,
          41058456.87
         ],
         "xaxis": "x",
         "y": [
          69317.35342465753,
          42614814.63013699,
          7429310.493150685,
          5554330.7534246575,
          408588.0219178082,
          81689115.89315069,
          434172.7671232877,
          16952157.421917807,
          6684187.868493151,
          62137752.36712329,
          126676605.80547944,
          279069727.4438356,
          159754799.81095892,
          null,
          162209757.31232876,
          11104420.6,
          7993598.353424657,
          28786777.783561643,
          15676135.49589041,
          2156668.128767124,
          37838900.263013706,
          244137.57260273967,
          461193.2520547945,
          322534.3287671233,
          824721948.3452054,
          46700577.91232877
         ],
         "yaxis": "y"
        },
        {
         "hoverlabel": {
          "namelength": 0
         },
         "hovertemplate": "<b>%{hovertext}</b><br><br>region_type=state<br>total_length=%{x}<br>daily_mean=%{y}",
         "hovertext": [
          "br_states_paraiba",
          "br_states_sao_paulo",
          "br_states_amapa",
          "br_states_tocantins",
          "br_states_sergipe",
          "br_states_espirito_santo",
          "br_states_alagoas",
          "br_states_goias",
          "br_states_para",
          "br_states_roraima",
          "br_states_amazonas",
          "br_states_santa_catarina",
          "br_states_rondonia",
          "br_states_rio_grande_do_sul",
          "br_states_ceara",
          "br_states_mato_grosso_do_sul",
          "br_states_bahia",
          "br_states_maranhao",
          "br_states_acre",
          "br_states_minas_gerais",
          "br_states_rio_de_janeiro",
          "br_states_pernambuco",
          "br_states_piaui",
          "br_states_mato_grosso",
          "br_states_rio_grande_do_norte",
          "br_states_parana",
          "br_states_distrito_federal"
         ],
         "legendgroup": "region_type=state",
         "marker": {
          "color": "#EF553B",
          "symbol": "circle"
         },
         "mode": "markers",
         "name": "region_type=state",
         "showlegend": true,
         "type": "scatter",
         "x": [
          72253143.23,
          273709516.51,
          5462361.03,
          76107560,
          22540443.72,
          41327657.31,
          33282330.11,
          104906080.7,
          124786922.61,
          15146401.7,
          22751484.98,
          94462391.46,
          45291487.7,
          187197331.4,
          85406556.83,
          68403977.79,
          223231660.91,
          77087019.08,
          11975028.15,
          262010818.81,
          68664253.02,
          78296049.52,
          60752747.03,
          123897981.14,
          39961645.34,
          203385365.37,
          13394669.38
         ],
         "xaxis": "x",
         "y": [
          15481362.2,
          347707654.46027404,
          3907808.98630137,
          11955343.136986302,
          11403168.2,
          21157469.265753426,
          12163957.989041096,
          58807749.29041096,
          36354958.82465754,
          1751681.208219178,
          16286035.205479452,
          77992488.55890411,
          8490739.087671233,
          107939053.81369863,
          49874861.80273973,
          26435424.375342466,
          74758473.72328767,
          34795381.3369863,
          3321895.5452054795,
          212089532.49315068,
          126737508.80821918,
          56409534.44383562,
          16721082.501369866,
          28200803.742465757,
          17987381.301369864,
          126168144.5178082,
          15694743.515068496
         ],
         "yaxis": "y"
        }
       ],
       "layout": {
        "height": 600,
        "legend": {
         "tracegroupgap": 0
        },
        "template": {
         "data": {
          "bar": [
           {
            "error_x": {
             "color": "#2a3f5f"
            },
            "error_y": {
             "color": "#2a3f5f"
            },
            "marker": {
             "line": {
              "color": "white",
              "width": 0.5
             }
            },
            "type": "bar"
           }
          ],
          "barpolar": [
           {
            "marker": {
             "line": {
              "color": "white",
              "width": 0.5
             }
            },
            "type": "barpolar"
           }
          ],
          "carpet": [
           {
            "aaxis": {
             "endlinecolor": "#2a3f5f",
             "gridcolor": "#C8D4E3",
             "linecolor": "#C8D4E3",
             "minorgridcolor": "#C8D4E3",
             "startlinecolor": "#2a3f5f"
            },
            "baxis": {
             "endlinecolor": "#2a3f5f",
             "gridcolor": "#C8D4E3",
             "linecolor": "#C8D4E3",
             "minorgridcolor": "#C8D4E3",
             "startlinecolor": "#2a3f5f"
            },
            "type": "carpet"
           }
          ],
          "choropleth": [
           {
            "colorbar": {
             "outlinewidth": 0,
             "ticks": ""
            },
            "type": "choropleth"
           }
          ],
          "contour": [
           {
            "colorbar": {
             "outlinewidth": 0,
             "ticks": ""
            },
            "colorscale": [
             [
              0,
              "#0d0887"
             ],
             [
              0.1111111111111111,
              "#46039f"
             ],
             [
              0.2222222222222222,
              "#7201a8"
             ],
             [
              0.3333333333333333,
              "#9c179e"
             ],
             [
              0.4444444444444444,
              "#bd3786"
             ],
             [
              0.5555555555555556,
              "#d8576b"
             ],
             [
              0.6666666666666666,
              "#ed7953"
             ],
             [
              0.7777777777777778,
              "#fb9f3a"
             ],
             [
              0.8888888888888888,
              "#fdca26"
             ],
             [
              1,
              "#f0f921"
             ]
            ],
            "type": "contour"
           }
          ],
          "contourcarpet": [
           {
            "colorbar": {
             "outlinewidth": 0,
             "ticks": ""
            },
            "type": "contourcarpet"
           }
          ],
          "heatmap": [
           {
            "colorbar": {
             "outlinewidth": 0,
             "ticks": ""
            },
            "colorscale": [
             [
              0,
              "#0d0887"
             ],
             [
              0.1111111111111111,
              "#46039f"
             ],
             [
              0.2222222222222222,
              "#7201a8"
             ],
             [
              0.3333333333333333,
              "#9c179e"
             ],
             [
              0.4444444444444444,
              "#bd3786"
             ],
             [
              0.5555555555555556,
              "#d8576b"
             ],
             [
              0.6666666666666666,
              "#ed7953"
             ],
             [
              0.7777777777777778,
              "#fb9f3a"
             ],
             [
              0.8888888888888888,
              "#fdca26"
             ],
             [
              1,
              "#f0f921"
             ]
            ],
            "type": "heatmap"
           }
          ],
          "heatmapgl": [
           {
            "colorbar": {
             "outlinewidth": 0,
             "ticks": ""
            },
            "colorscale": [
             [
              0,
              "#0d0887"
             ],
             [
              0.1111111111111111,
              "#46039f"
             ],
             [
              0.2222222222222222,
              "#7201a8"
             ],
             [
              0.3333333333333333,
              "#9c179e"
             ],
             [
              0.4444444444444444,
              "#bd3786"
             ],
             [
              0.5555555555555556,
              "#d8576b"
             ],
             [
              0.6666666666666666,
              "#ed7953"
             ],
             [
              0.7777777777777778,
              "#fb9f3a"
             ],
             [
              0.8888888888888888,
              "#fdca26"
             ],
             [
              1,
              "#f0f921"
             ]
            ],
            "type": "heatmapgl"
           }
          ],
          "histogram": [
           {
            "marker": {
             "colorbar": {
              "outlinewidth": 0,
              "ticks": ""
             }
            },
            "type": "histogram"
           }
          ],
          "histogram2d": [
           {
            "colorbar": {
             "outlinewidth": 0,
             "ticks": ""
            },
            "colorscale": [
             [
              0,
              "#0d0887"
             ],
             [
              0.1111111111111111,
              "#46039f"
             ],
             [
              0.2222222222222222,
              "#7201a8"
             ],
             [
              0.3333333333333333,
              "#9c179e"
             ],
             [
              0.4444444444444444,
              "#bd3786"
             ],
             [
              0.5555555555555556,
              "#d8576b"
             ],
             [
              0.6666666666666666,
              "#ed7953"
             ],
             [
              0.7777777777777778,
              "#fb9f3a"
             ],
             [
              0.8888888888888888,
              "#fdca26"
             ],
             [
              1,
              "#f0f921"
             ]
            ],
            "type": "histogram2d"
           }
          ],
          "histogram2dcontour": [
           {
            "colorbar": {
             "outlinewidth": 0,
             "ticks": ""
            },
            "colorscale": [
             [
              0,
              "#0d0887"
             ],
             [
              0.1111111111111111,
              "#46039f"
             ],
             [
              0.2222222222222222,
              "#7201a8"
             ],
             [
              0.3333333333333333,
              "#9c179e"
             ],
             [
              0.4444444444444444,
              "#bd3786"
             ],
             [
              0.5555555555555556,
              "#d8576b"
             ],
             [
              0.6666666666666666,
              "#ed7953"
             ],
             [
              0.7777777777777778,
              "#fb9f3a"
             ],
             [
              0.8888888888888888,
              "#fdca26"
             ],
             [
              1,
              "#f0f921"
             ]
            ],
            "type": "histogram2dcontour"
           }
          ],
          "mesh3d": [
           {
            "colorbar": {
             "outlinewidth": 0,
             "ticks": ""
            },
            "type": "mesh3d"
           }
          ],
          "parcoords": [
           {
            "line": {
             "colorbar": {
              "outlinewidth": 0,
              "ticks": ""
             }
            },
            "type": "parcoords"
           }
          ],
          "pie": [
           {
            "automargin": true,
            "type": "pie"
           }
          ],
          "scatter": [
           {
            "marker": {
             "colorbar": {
              "outlinewidth": 0,
              "ticks": ""
             }
            },
            "type": "scatter"
           }
          ],
          "scatter3d": [
           {
            "line": {
             "colorbar": {
              "outlinewidth": 0,
              "ticks": ""
             }
            },
            "marker": {
             "colorbar": {
              "outlinewidth": 0,
              "ticks": ""
             }
            },
            "type": "scatter3d"
           }
          ],
          "scattercarpet": [
           {
            "marker": {
             "colorbar": {
              "outlinewidth": 0,
              "ticks": ""
             }
            },
            "type": "scattercarpet"
           }
          ],
          "scattergeo": [
           {
            "marker": {
             "colorbar": {
              "outlinewidth": 0,
              "ticks": ""
             }
            },
            "type": "scattergeo"
           }
          ],
          "scattergl": [
           {
            "marker": {
             "colorbar": {
              "outlinewidth": 0,
              "ticks": ""
             }
            },
            "type": "scattergl"
           }
          ],
          "scattermapbox": [
           {
            "marker": {
             "colorbar": {
              "outlinewidth": 0,
              "ticks": ""
             }
            },
            "type": "scattermapbox"
           }
          ],
          "scatterpolar": [
           {
            "marker": {
             "colorbar": {
              "outlinewidth": 0,
              "ticks": ""
             }
            },
            "type": "scatterpolar"
           }
          ],
          "scatterpolargl": [
           {
            "marker": {
             "colorbar": {
              "outlinewidth": 0,
              "ticks": ""
             }
            },
            "type": "scatterpolargl"
           }
          ],
          "scatterternary": [
           {
            "marker": {
             "colorbar": {
              "outlinewidth": 0,
              "ticks": ""
             }
            },
            "type": "scatterternary"
           }
          ],
          "surface": [
           {
            "colorbar": {
             "outlinewidth": 0,
             "ticks": ""
            },
            "colorscale": [
             [
              0,
              "#0d0887"
             ],
             [
              0.1111111111111111,
              "#46039f"
             ],
             [
              0.2222222222222222,
              "#7201a8"
             ],
             [
              0.3333333333333333,
              "#9c179e"
             ],
             [
              0.4444444444444444,
              "#bd3786"
             ],
             [
              0.5555555555555556,
              "#d8576b"
             ],
             [
              0.6666666666666666,
              "#ed7953"
             ],
             [
              0.7777777777777778,
              "#fb9f3a"
             ],
             [
              0.8888888888888888,
              "#fdca26"
             ],
             [
              1,
              "#f0f921"
             ]
            ],
            "type": "surface"
           }
          ],
          "table": [
           {
            "cells": {
             "fill": {
              "color": "#EBF0F8"
             },
             "line": {
              "color": "white"
             }
            },
            "header": {
             "fill": {
              "color": "#C8D4E3"
             },
             "line": {
              "color": "white"
             }
            },
            "type": "table"
           }
          ]
         },
         "layout": {
          "annotationdefaults": {
           "arrowcolor": "#2a3f5f",
           "arrowhead": 0,
           "arrowwidth": 1
          },
          "coloraxis": {
           "colorbar": {
            "outlinewidth": 0,
            "ticks": ""
           }
          },
          "colorscale": {
           "diverging": [
            [
             0,
             "#8e0152"
            ],
            [
             0.1,
             "#c51b7d"
            ],
            [
             0.2,
             "#de77ae"
            ],
            [
             0.3,
             "#f1b6da"
            ],
            [
             0.4,
             "#fde0ef"
            ],
            [
             0.5,
             "#f7f7f7"
            ],
            [
             0.6,
             "#e6f5d0"
            ],
            [
             0.7,
             "#b8e186"
            ],
            [
             0.8,
             "#7fbc41"
            ],
            [
             0.9,
             "#4d9221"
            ],
            [
             1,
             "#276419"
            ]
           ],
           "sequential": [
            [
             0,
             "#0d0887"
            ],
            [
             0.1111111111111111,
             "#46039f"
            ],
            [
             0.2222222222222222,
             "#7201a8"
            ],
            [
             0.3333333333333333,
             "#9c179e"
            ],
            [
             0.4444444444444444,
             "#bd3786"
            ],
            [
             0.5555555555555556,
             "#d8576b"
            ],
            [
             0.6666666666666666,
             "#ed7953"
            ],
            [
             0.7777777777777778,
             "#fb9f3a"
            ],
            [
             0.8888888888888888,
             "#fdca26"
            ],
            [
             1,
             "#f0f921"
            ]
           ],
           "sequentialminus": [
            [
             0,
             "#0d0887"
            ],
            [
             0.1111111111111111,
             "#46039f"
            ],
            [
             0.2222222222222222,
             "#7201a8"
            ],
            [
             0.3333333333333333,
             "#9c179e"
            ],
            [
             0.4444444444444444,
             "#bd3786"
            ],
            [
             0.5555555555555556,
             "#d8576b"
            ],
            [
             0.6666666666666666,
             "#ed7953"
            ],
            [
             0.7777777777777778,
             "#fb9f3a"
            ],
            [
             0.8888888888888888,
             "#fdca26"
            ],
            [
             1,
             "#f0f921"
            ]
           ]
          },
          "colorway": [
           "#636efa",
           "#EF553B",
           "#00cc96",
           "#ab63fa",
           "#FFA15A",
           "#19d3f3",
           "#FF6692",
           "#B6E880",
           "#FF97FF",
           "#FECB52"
          ],
          "font": {
           "color": "#2a3f5f"
          },
          "geo": {
           "bgcolor": "white",
           "lakecolor": "white",
           "landcolor": "white",
           "showlakes": true,
           "showland": true,
           "subunitcolor": "#C8D4E3"
          },
          "hoverlabel": {
           "align": "left"
          },
          "hovermode": "closest",
          "mapbox": {
           "style": "light"
          },
          "paper_bgcolor": "white",
          "plot_bgcolor": "white",
          "polar": {
           "angularaxis": {
            "gridcolor": "#EBF0F8",
            "linecolor": "#EBF0F8",
            "ticks": ""
           },
           "bgcolor": "white",
           "radialaxis": {
            "gridcolor": "#EBF0F8",
            "linecolor": "#EBF0F8",
            "ticks": ""
           }
          },
          "scene": {
           "xaxis": {
            "backgroundcolor": "white",
            "gridcolor": "#DFE8F3",
            "gridwidth": 2,
            "linecolor": "#EBF0F8",
            "showbackground": true,
            "ticks": "",
            "zerolinecolor": "#EBF0F8"
           },
           "yaxis": {
            "backgroundcolor": "white",
            "gridcolor": "#DFE8F3",
            "gridwidth": 2,
            "linecolor": "#EBF0F8",
            "showbackground": true,
            "ticks": "",
            "zerolinecolor": "#EBF0F8"
           },
           "zaxis": {
            "backgroundcolor": "white",
            "gridcolor": "#DFE8F3",
            "gridwidth": 2,
            "linecolor": "#EBF0F8",
            "showbackground": true,
            "ticks": "",
            "zerolinecolor": "#EBF0F8"
           }
          },
          "shapedefaults": {
           "line": {
            "color": "#2a3f5f"
           }
          },
          "ternary": {
           "aaxis": {
            "gridcolor": "#DFE8F3",
            "linecolor": "#A2B1C6",
            "ticks": ""
           },
           "baxis": {
            "gridcolor": "#DFE8F3",
            "linecolor": "#A2B1C6",
            "ticks": ""
           },
           "bgcolor": "white",
           "caxis": {
            "gridcolor": "#DFE8F3",
            "linecolor": "#A2B1C6",
            "ticks": ""
           }
          },
          "title": {
           "x": 0.05
          },
          "xaxis": {
           "automargin": true,
           "gridcolor": "#EBF0F8",
           "linecolor": "#EBF0F8",
           "ticks": "",
           "title": {
            "standoff": 15
           },
           "zerolinecolor": "#EBF0F8",
           "zerolinewidth": 2
          },
          "yaxis": {
           "automargin": true,
           "gridcolor": "#EBF0F8",
           "linecolor": "#EBF0F8",
           "ticks": "",
           "title": {
            "standoff": 15
           },
           "zerolinecolor": "#EBF0F8",
           "zerolinewidth": 2
          }
         }
        },
        "title": {
         "text": "Daily TCI Mean by Network Length (m)"
        },
        "xaxis": {
         "anchor": "y",
         "domain": [
          0,
          1
         ],
         "title": {
          "text": "Total Network Length (m)"
         },
         "type": "log"
        },
        "yaxis": {
         "anchor": "x",
         "domain": [
          0,
          1
         ],
         "title": {
          "text": "Daily TCI Mean (m)"
         },
         "type": "log"
        }
       }
      },
      "text/html": [
       "<div>\n",
       "        \n",
       "        \n",
       "            <div id=\"fd4908b7-fb52-4474-a421-d0e3e2c5a254\" class=\"plotly-graph-div\" style=\"height:600px; width:100%;\"></div>\n",
       "            <script type=\"text/javascript\">\n",
       "                require([\"plotly\"], function(Plotly) {\n",
       "                    window.PLOTLYENV=window.PLOTLYENV || {};\n",
       "                    \n",
       "                if (document.getElementById(\"fd4908b7-fb52-4474-a421-d0e3e2c5a254\")) {\n",
       "                    Plotly.newPlot(\n",
       "                        'fd4908b7-fb52-4474-a421-d0e3e2c5a254',\n",
       "                        [{\"hoverlabel\": {\"namelength\": 0}, \"hovertemplate\": \"<b>%{hovertext}</b><br><br>region_type=country<br>total_length=%{x}<br>daily_mean=%{y}\", \"hovertext\": [\"country_guyana\", \"country_ecuador\", \"country_nicaragua\", \"country_venezuela\", \"country_barbados\", \"country_costa_rica\", \"country_haiti\", \"country_uruguay\", \"country_bolivia\", \"country_guatemala\", \"country_peru\", \"country_colombia\", \"country_chile\", \"country_brazil\", \"country_argentina\", \"country_paraguay\", \"country_honduras\", \"country_el_salvador\", \"country_trinidad_and_tobago\", \"country_jamaica\", \"country_panama\", \"country_the_bahamas\", \"country_suriname\", \"country_belize\", \"country_mexico\", \"country_dominican_republic\"], \"legendgroup\": \"region_type=country\", \"marker\": {\"color\": \"#636efa\", \"symbol\": \"circle\"}, \"mode\": \"markers\", \"name\": \"region_type=country\", \"showlegend\": true, \"type\": \"scatter\", \"x\": [6241684.02, 110653842.64, 25571690.41, 139103484.21, 2300315.87, 42042600.16, 21717748.35, 44642077.17, 199169227.23999998, 56776843.35, 245723531.16, 198164320.3, 151818163.85, 1971852895.98, 575779290.14, 90047913.28, 39274098.85, 26153892.25, 10123486.6, 17337153.61, 23366911.63, 5999736.4, 5602976.41, 6865201.62, 391093708.64, 41058456.87], \"xaxis\": \"x\", \"y\": [69317.35342465753, 42614814.63013699, 7429310.493150685, 5554330.7534246575, 408588.0219178082, 81689115.89315069, 434172.7671232877, 16952157.421917807, 6684187.868493151, 62137752.36712329, 126676605.80547944, 279069727.4438356, 159754799.81095892, null, 162209757.31232876, 11104420.6, 7993598.353424657, 28786777.783561643, 15676135.49589041, 2156668.128767124, 37838900.263013706, 244137.57260273967, 461193.2520547945, 322534.3287671233, 824721948.3452054, 46700577.91232877], \"yaxis\": \"y\"}, {\"hoverlabel\": {\"namelength\": 0}, \"hovertemplate\": \"<b>%{hovertext}</b><br><br>region_type=state<br>total_length=%{x}<br>daily_mean=%{y}\", \"hovertext\": [\"br_states_paraiba\", \"br_states_sao_paulo\", \"br_states_amapa\", \"br_states_tocantins\", \"br_states_sergipe\", \"br_states_espirito_santo\", \"br_states_alagoas\", \"br_states_goias\", \"br_states_para\", \"br_states_roraima\", \"br_states_amazonas\", \"br_states_santa_catarina\", \"br_states_rondonia\", \"br_states_rio_grande_do_sul\", \"br_states_ceara\", \"br_states_mato_grosso_do_sul\", \"br_states_bahia\", \"br_states_maranhao\", \"br_states_acre\", \"br_states_minas_gerais\", \"br_states_rio_de_janeiro\", \"br_states_pernambuco\", \"br_states_piaui\", \"br_states_mato_grosso\", \"br_states_rio_grande_do_norte\", \"br_states_parana\", \"br_states_distrito_federal\"], \"legendgroup\": \"region_type=state\", \"marker\": {\"color\": \"#EF553B\", \"symbol\": \"circle\"}, \"mode\": \"markers\", \"name\": \"region_type=state\", \"showlegend\": true, \"type\": \"scatter\", \"x\": [72253143.23, 273709516.51, 5462361.03, 76107560.0, 22540443.72, 41327657.31, 33282330.11, 104906080.7, 124786922.61, 15146401.7, 22751484.98, 94462391.46, 45291487.7, 187197331.4, 85406556.83, 68403977.79, 223231660.91, 77087019.08, 11975028.15, 262010818.81, 68664253.02, 78296049.52, 60752747.03, 123897981.14, 39961645.34, 203385365.37, 13394669.38], \"xaxis\": \"x\", \"y\": [15481362.2, 347707654.46027404, 3907808.98630137, 11955343.136986302, 11403168.2, 21157469.265753426, 12163957.989041096, 58807749.29041096, 36354958.82465754, 1751681.208219178, 16286035.205479452, 77992488.55890411, 8490739.087671233, 107939053.81369863, 49874861.80273973, 26435424.375342466, 74758473.72328767, 34795381.3369863, 3321895.5452054795, 212089532.49315068, 126737508.80821918, 56409534.44383562, 16721082.501369866, 28200803.742465757, 17987381.301369864, 126168144.5178082, 15694743.515068496], \"yaxis\": \"y\"}],\n",
       "                        {\"height\": 600, \"legend\": {\"tracegroupgap\": 0}, \"template\": {\"data\": {\"bar\": [{\"error_x\": {\"color\": \"#2a3f5f\"}, \"error_y\": {\"color\": \"#2a3f5f\"}, \"marker\": {\"line\": {\"color\": \"white\", \"width\": 0.5}}, \"type\": \"bar\"}], \"barpolar\": [{\"marker\": {\"line\": {\"color\": \"white\", \"width\": 0.5}}, \"type\": \"barpolar\"}], \"carpet\": [{\"aaxis\": {\"endlinecolor\": \"#2a3f5f\", \"gridcolor\": \"#C8D4E3\", \"linecolor\": \"#C8D4E3\", \"minorgridcolor\": \"#C8D4E3\", \"startlinecolor\": \"#2a3f5f\"}, \"baxis\": {\"endlinecolor\": \"#2a3f5f\", \"gridcolor\": \"#C8D4E3\", \"linecolor\": \"#C8D4E3\", \"minorgridcolor\": \"#C8D4E3\", \"startlinecolor\": \"#2a3f5f\"}, \"type\": \"carpet\"}], \"choropleth\": [{\"colorbar\": {\"outlinewidth\": 0, \"ticks\": \"\"}, \"type\": \"choropleth\"}], \"contour\": [{\"colorbar\": {\"outlinewidth\": 0, \"ticks\": \"\"}, \"colorscale\": [[0.0, \"#0d0887\"], [0.1111111111111111, \"#46039f\"], [0.2222222222222222, \"#7201a8\"], [0.3333333333333333, \"#9c179e\"], [0.4444444444444444, \"#bd3786\"], [0.5555555555555556, \"#d8576b\"], [0.6666666666666666, \"#ed7953\"], [0.7777777777777778, \"#fb9f3a\"], [0.8888888888888888, \"#fdca26\"], [1.0, \"#f0f921\"]], \"type\": \"contour\"}], \"contourcarpet\": [{\"colorbar\": {\"outlinewidth\": 0, \"ticks\": \"\"}, \"type\": \"contourcarpet\"}], \"heatmap\": [{\"colorbar\": {\"outlinewidth\": 0, \"ticks\": \"\"}, \"colorscale\": [[0.0, \"#0d0887\"], [0.1111111111111111, \"#46039f\"], [0.2222222222222222, \"#7201a8\"], [0.3333333333333333, \"#9c179e\"], [0.4444444444444444, \"#bd3786\"], [0.5555555555555556, \"#d8576b\"], [0.6666666666666666, \"#ed7953\"], [0.7777777777777778, \"#fb9f3a\"], [0.8888888888888888, \"#fdca26\"], [1.0, \"#f0f921\"]], \"type\": \"heatmap\"}], \"heatmapgl\": [{\"colorbar\": {\"outlinewidth\": 0, \"ticks\": \"\"}, \"colorscale\": [[0.0, \"#0d0887\"], [0.1111111111111111, \"#46039f\"], [0.2222222222222222, \"#7201a8\"], [0.3333333333333333, \"#9c179e\"], [0.4444444444444444, \"#bd3786\"], [0.5555555555555556, \"#d8576b\"], [0.6666666666666666, \"#ed7953\"], [0.7777777777777778, \"#fb9f3a\"], [0.8888888888888888, \"#fdca26\"], [1.0, \"#f0f921\"]], \"type\": \"heatmapgl\"}], \"histogram\": [{\"marker\": {\"colorbar\": {\"outlinewidth\": 0, \"ticks\": \"\"}}, \"type\": \"histogram\"}], \"histogram2d\": [{\"colorbar\": {\"outlinewidth\": 0, \"ticks\": \"\"}, \"colorscale\": [[0.0, \"#0d0887\"], [0.1111111111111111, \"#46039f\"], [0.2222222222222222, \"#7201a8\"], [0.3333333333333333, \"#9c179e\"], [0.4444444444444444, \"#bd3786\"], [0.5555555555555556, \"#d8576b\"], [0.6666666666666666, \"#ed7953\"], [0.7777777777777778, \"#fb9f3a\"], [0.8888888888888888, \"#fdca26\"], [1.0, \"#f0f921\"]], \"type\": \"histogram2d\"}], \"histogram2dcontour\": [{\"colorbar\": {\"outlinewidth\": 0, \"ticks\": \"\"}, \"colorscale\": [[0.0, \"#0d0887\"], [0.1111111111111111, \"#46039f\"], [0.2222222222222222, \"#7201a8\"], [0.3333333333333333, \"#9c179e\"], [0.4444444444444444, \"#bd3786\"], [0.5555555555555556, \"#d8576b\"], [0.6666666666666666, \"#ed7953\"], [0.7777777777777778, \"#fb9f3a\"], [0.8888888888888888, \"#fdca26\"], [1.0, \"#f0f921\"]], \"type\": \"histogram2dcontour\"}], \"mesh3d\": [{\"colorbar\": {\"outlinewidth\": 0, \"ticks\": \"\"}, \"type\": \"mesh3d\"}], \"parcoords\": [{\"line\": {\"colorbar\": {\"outlinewidth\": 0, \"ticks\": \"\"}}, \"type\": \"parcoords\"}], \"pie\": [{\"automargin\": true, \"type\": \"pie\"}], \"scatter\": [{\"marker\": {\"colorbar\": {\"outlinewidth\": 0, \"ticks\": \"\"}}, \"type\": \"scatter\"}], \"scatter3d\": [{\"line\": {\"colorbar\": {\"outlinewidth\": 0, \"ticks\": \"\"}}, \"marker\": {\"colorbar\": {\"outlinewidth\": 0, \"ticks\": \"\"}}, \"type\": \"scatter3d\"}], \"scattercarpet\": [{\"marker\": {\"colorbar\": {\"outlinewidth\": 0, \"ticks\": \"\"}}, \"type\": \"scattercarpet\"}], \"scattergeo\": [{\"marker\": {\"colorbar\": {\"outlinewidth\": 0, \"ticks\": \"\"}}, \"type\": \"scattergeo\"}], \"scattergl\": [{\"marker\": {\"colorbar\": {\"outlinewidth\": 0, \"ticks\": \"\"}}, \"type\": \"scattergl\"}], \"scattermapbox\": [{\"marker\": {\"colorbar\": {\"outlinewidth\": 0, \"ticks\": \"\"}}, \"type\": \"scattermapbox\"}], \"scatterpolar\": [{\"marker\": {\"colorbar\": {\"outlinewidth\": 0, \"ticks\": \"\"}}, \"type\": \"scatterpolar\"}], \"scatterpolargl\": [{\"marker\": {\"colorbar\": {\"outlinewidth\": 0, \"ticks\": \"\"}}, \"type\": \"scatterpolargl\"}], \"scatterternary\": [{\"marker\": {\"colorbar\": {\"outlinewidth\": 0, \"ticks\": \"\"}}, \"type\": \"scatterternary\"}], \"surface\": [{\"colorbar\": {\"outlinewidth\": 0, \"ticks\": \"\"}, \"colorscale\": [[0.0, \"#0d0887\"], [0.1111111111111111, \"#46039f\"], [0.2222222222222222, \"#7201a8\"], [0.3333333333333333, \"#9c179e\"], [0.4444444444444444, \"#bd3786\"], [0.5555555555555556, \"#d8576b\"], [0.6666666666666666, \"#ed7953\"], [0.7777777777777778, \"#fb9f3a\"], [0.8888888888888888, \"#fdca26\"], [1.0, \"#f0f921\"]], \"type\": \"surface\"}], \"table\": [{\"cells\": {\"fill\": {\"color\": \"#EBF0F8\"}, \"line\": {\"color\": \"white\"}}, \"header\": {\"fill\": {\"color\": \"#C8D4E3\"}, \"line\": {\"color\": \"white\"}}, \"type\": \"table\"}]}, \"layout\": {\"annotationdefaults\": {\"arrowcolor\": \"#2a3f5f\", \"arrowhead\": 0, \"arrowwidth\": 1}, \"coloraxis\": {\"colorbar\": {\"outlinewidth\": 0, \"ticks\": \"\"}}, \"colorscale\": {\"diverging\": [[0, \"#8e0152\"], [0.1, \"#c51b7d\"], [0.2, \"#de77ae\"], [0.3, \"#f1b6da\"], [0.4, \"#fde0ef\"], [0.5, \"#f7f7f7\"], [0.6, \"#e6f5d0\"], [0.7, \"#b8e186\"], [0.8, \"#7fbc41\"], [0.9, \"#4d9221\"], [1, \"#276419\"]], \"sequential\": [[0.0, \"#0d0887\"], [0.1111111111111111, \"#46039f\"], [0.2222222222222222, \"#7201a8\"], [0.3333333333333333, \"#9c179e\"], [0.4444444444444444, \"#bd3786\"], [0.5555555555555556, \"#d8576b\"], [0.6666666666666666, \"#ed7953\"], [0.7777777777777778, \"#fb9f3a\"], [0.8888888888888888, \"#fdca26\"], [1.0, \"#f0f921\"]], \"sequentialminus\": [[0.0, \"#0d0887\"], [0.1111111111111111, \"#46039f\"], [0.2222222222222222, \"#7201a8\"], [0.3333333333333333, \"#9c179e\"], [0.4444444444444444, \"#bd3786\"], [0.5555555555555556, \"#d8576b\"], [0.6666666666666666, \"#ed7953\"], [0.7777777777777778, \"#fb9f3a\"], [0.8888888888888888, \"#fdca26\"], [1.0, \"#f0f921\"]]}, \"colorway\": [\"#636efa\", \"#EF553B\", \"#00cc96\", \"#ab63fa\", \"#FFA15A\", \"#19d3f3\", \"#FF6692\", \"#B6E880\", \"#FF97FF\", \"#FECB52\"], \"font\": {\"color\": \"#2a3f5f\"}, \"geo\": {\"bgcolor\": \"white\", \"lakecolor\": \"white\", \"landcolor\": \"white\", \"showlakes\": true, \"showland\": true, \"subunitcolor\": \"#C8D4E3\"}, \"hoverlabel\": {\"align\": \"left\"}, \"hovermode\": \"closest\", \"mapbox\": {\"style\": \"light\"}, \"paper_bgcolor\": \"white\", \"plot_bgcolor\": \"white\", \"polar\": {\"angularaxis\": {\"gridcolor\": \"#EBF0F8\", \"linecolor\": \"#EBF0F8\", \"ticks\": \"\"}, \"bgcolor\": \"white\", \"radialaxis\": {\"gridcolor\": \"#EBF0F8\", \"linecolor\": \"#EBF0F8\", \"ticks\": \"\"}}, \"scene\": {\"xaxis\": {\"backgroundcolor\": \"white\", \"gridcolor\": \"#DFE8F3\", \"gridwidth\": 2, \"linecolor\": \"#EBF0F8\", \"showbackground\": true, \"ticks\": \"\", \"zerolinecolor\": \"#EBF0F8\"}, \"yaxis\": {\"backgroundcolor\": \"white\", \"gridcolor\": \"#DFE8F3\", \"gridwidth\": 2, \"linecolor\": \"#EBF0F8\", \"showbackground\": true, \"ticks\": \"\", \"zerolinecolor\": \"#EBF0F8\"}, \"zaxis\": {\"backgroundcolor\": \"white\", \"gridcolor\": \"#DFE8F3\", \"gridwidth\": 2, \"linecolor\": \"#EBF0F8\", \"showbackground\": true, \"ticks\": \"\", \"zerolinecolor\": \"#EBF0F8\"}}, \"shapedefaults\": {\"line\": {\"color\": \"#2a3f5f\"}}, \"ternary\": {\"aaxis\": {\"gridcolor\": \"#DFE8F3\", \"linecolor\": \"#A2B1C6\", \"ticks\": \"\"}, \"baxis\": {\"gridcolor\": \"#DFE8F3\", \"linecolor\": \"#A2B1C6\", \"ticks\": \"\"}, \"bgcolor\": \"white\", \"caxis\": {\"gridcolor\": \"#DFE8F3\", \"linecolor\": \"#A2B1C6\", \"ticks\": \"\"}}, \"title\": {\"x\": 0.05}, \"xaxis\": {\"automargin\": true, \"gridcolor\": \"#EBF0F8\", \"linecolor\": \"#EBF0F8\", \"ticks\": \"\", \"title\": {\"standoff\": 15}, \"zerolinecolor\": \"#EBF0F8\", \"zerolinewidth\": 2}, \"yaxis\": {\"automargin\": true, \"gridcolor\": \"#EBF0F8\", \"linecolor\": \"#EBF0F8\", \"ticks\": \"\", \"title\": {\"standoff\": 15}, \"zerolinecolor\": \"#EBF0F8\", \"zerolinewidth\": 2}}}, \"title\": {\"text\": \"Daily TCI Mean by Network Length (m)\"}, \"xaxis\": {\"anchor\": \"y\", \"domain\": [0.0, 1.0], \"title\": {\"text\": \"Total Network Length (m)\"}, \"type\": \"log\"}, \"yaxis\": {\"anchor\": \"x\", \"domain\": [0.0, 1.0], \"title\": {\"text\": \"Daily TCI Mean (m)\"}, \"type\": \"log\"}},\n",
       "                        {\"responsive\": true}\n",
       "                    ).then(function(){\n",
       "                            \n",
       "var gd = document.getElementById('fd4908b7-fb52-4474-a421-d0e3e2c5a254');\n",
       "var x = new MutationObserver(function (mutations, observer) {{\n",
       "        var display = window.getComputedStyle(gd).display;\n",
       "        if (!display || display === 'none') {{\n",
       "            console.log([gd, 'removed!']);\n",
       "            Plotly.purge(gd);\n",
       "            observer.disconnect();\n",
       "        }}\n",
       "}});\n",
       "\n",
       "// Listen for the removal of the full notebook cells\n",
       "var notebookContainer = gd.closest('#notebook-container');\n",
       "if (notebookContainer) {{\n",
       "    x.observe(notebookContainer, {childList: true});\n",
       "}}\n",
       "\n",
       "// Listen for the clearing of the current output cell\n",
       "var outputEl = gd.closest('.output');\n",
       "if (outputEl) {{\n",
       "    x.observe(outputEl, {childList: true});\n",
       "}}\n",
       "\n",
       "                        })\n",
       "                };\n",
       "                });\n",
       "            </script>\n",
       "        </div>"
      ]
     },
     "metadata": {},
     "output_type": "display_data"
    }
   ],
   "source": [
    "fig = px.scatter(df,\n",
    "            y=\"daily_mean\", x=\"total_length\", color='region_type',\n",
    "            hover_name=\"region_slug\", template='plotly_white', title='Daily TCI Mean by Network Length (m)',\n",
    "           log_x=True, log_y=True)\n",
    "fig.update_yaxes(title_text='Daily TCI Mean (m)')\n",
    "fig.update_xaxes(title_text='Total Network Length (m)')\n",
    "\n",
    "# fig.add_trace()\n",
    "\n",
    "fig.show()"
   ]
  },
  {
   "cell_type": "code",
   "execution_count": 65,
   "metadata": {},
   "outputs": [
    {
     "data": {
      "application/vnd.plotly.v1+json": {
       "config": {
        "plotlyServerURL": "https://plot.ly"
       },
       "data": [
        {
         "hoverlabel": {
          "namelength": 0
         },
         "hovertemplate": "<b>%{hovertext}</b><br><br>region_type=city<br>total_length=%{x}<br>daily_mean=%{y}",
         "hovertext": [
          "bogota",
          "managua",
          "kingston",
          "natal",
          "barquisimeto",
          "mendoza",
          "curitiba",
          "toluca",
          "barranquilla",
          "buenosaires",
          "paramaribo",
          "santodomingo",
          "saojosedoscampos",
          "panamacity",
          "sanfernado",
          "santiago",
          "fortaleza",
          "salvador",
          "manaus",
          "saopaulo",
          "teresina",
          "tegucigalpa",
          "georgetown",
          "ciudad_guayana",
          "montevideo",
          "merida",
          "belpoman",
          "porto_alergre",
          "arequipa",
          "tijuana",
          "saoluis",
          "cochabamba",
          "sorocaba",
          "joaopessoa",
          "mexicocity",
          "brasilia",
          "guadalajara",
          "lapaz",
          "nassau",
          "pereira",
          "asuncion",
          "santacruzdelasierra",
          "santiagocaballeros",
          "recife",
          "monterrey",
          "goiania",
          "guayaquil",
          "caracas",
          "guatemala",
          "cartagena",
          "belem",
          "pueble",
          "bridgetown",
          "riodejaneiro",
          "cucuta",
          "rosario",
          "quito",
          "campinas",
          "sanpedrosula",
          "maceio",
          "aguascalientes",
          "leon",
          "queretaro",
          "portauprince",
          "maracaibo",
          "cuenca",
          "barcelona",
          "medellin",
          "bucaramanga",
          "cordoba",
          "santos",
          "sanjose",
          "portofspain",
          "juarez",
          "sanluispotosi",
          "sansalvador",
          "santamarta",
          "valencia",
          "belohorizonte",
          "joinville",
          "vitoria",
          "maracay",
          "lima",
          "cali",
          "florianopolis",
          "torreon"
         ],
         "legendgroup": "region_type=city",
         "marker": {
          "color": "#636efa",
          "symbol": "circle"
         },
         "mode": "markers",
         "name": "region_type=city",
         "showlegend": true,
         "type": "scatter",
         "x": [
          8552341.21,
          2239902.08,
          1384098.48,
          6732125.97,
          2315542.51,
          3089897.23,
          7348502.6,
          6136666.17,
          2639515.32,
          30933171.94,
          1183306.95,
          7299170.72,
          2365061.2,
          2764961.01,
          917632.77,
          11004409.22,
          6732125.97,
          4206246.08,
          3659793.31,
          32536728.08,
          3320668.14,
          2085039.51,
          476718.56,
          2066247.33,
          3497729.6,
          4476866.04,
          134691.41,
          8391221.97,
          2047208.81,
          5112669.24,
          3647914.36,
          3283487.02,
          2453605.58,
          2976535.15,
          40190429.32,
          7185451.29,
          11643281.33,
          3856207.02,
          959262.78,
          946731.26,
          6101621.58,
          6751472.15,
          2282452.91,
          6614950.94,
          13334999.73,
          8119324.16,
          4986853.62,
          3361654.08,
          6262595.46,
          1284823.98,
          3420718.9,
          7571375.34,
          1158405.05,
          17365642.39,
          1840273.8,
          3369242.9,
          5492209.54,
          7684727.72,
          1618492.79,
          2079899.71,
          3105139.64,
          4408240.76,
          4116198.06,
          2449439.58,
          2788671.98,
          1403538.07,
          1138576.33,
          3745773.63,
          1689460.34,
          5101973.49,
          2982651.54,
          4473574.9,
          1008703.31,
          5715830.87,
          3459381.1,
          2744860.18,
          913226.04,
          3383362.92,
          9612852.93,
          1616469.46,
          4502136.87,
          2651811.68,
          17380502.07,
          3313356,
          362257.74,
          4555559.77
         ],
         "xaxis": "x",
         "y": [
          108725100.7041096,
          2400172.98630137,
          557639.402739726,
          23648749.646575347,
          66070.49589041095,
          1254893.7506849314,
          22681555.51506849,
          16045936.161643835,
          11689385.487671236,
          80850103.72054794,
          258157.12328767125,
          34210987.84109589,
          4030446.2356164395,
          21536276.01917808,
          2388487.134246575,
          50165808.71232877,
          23648749.657534245,
          23497129.71506849,
          15598951.97260274,
          183228626.5589041,
          6010425.249315067,
          2030473.6246575343,
          26407.378082191783,
          8975.016438356164,
          10162542.701369863,
          6039867.3643835625,
          942.837912087912,
          26363607.9260274,
          4027590.739726028,
          13044426.290410958,
          9123424.4630137,
          71514.35616438357,
          2794657.789041096,
          5945605.180821918,
          206718381.8027397,
          11089420.775342466,
          41796690.43561644,
          182588.36438356165,
          62971.06575342466,
          3852287.336986302,
          8845599.953424657,
          4742519.7260273965,
          6269621.734246575,
          29658158.334246576,
          30138101.136986304,
          12937496.778082192,
          9348242.032876713,
          4252677.909589041,
          37697472.42739726,
          4602740.26849315,
          14521029.646575345,
          17472610.243835617,
          282391.2821917808,
          81501708.83835617,
          767252.9397260273,
          1506847.7232876713,
          22871203.89589041,
          11329321.457534244,
          1116528.1424657535,
          8658823.52328767,
          4104239.484931506,
          7567803.8575342465,
          11231065.369863013,
          177534.23287671234,
          12764.961643835615,
          277345.75616438355,
          39335.18904109589,
          23285899.583561644,
          3687313.4986301367,
          3129291.350684932,
          11392350.484931504,
          30049895.01369863,
          4875202.709589041,
          6403636.4821917815,
          7183587.391780823,
          16181388.383561645,
          1239564.016438356,
          194552.6410958904,
          33959904.4,
          3891869.4712328766,
          10184478.221917808,
          138373.42739726027,
          78837465.56438357,
          15923213.534246575,
          2718240.6493150685,
          2957524.7397260275
         ],
         "yaxis": "y"
        },
        {
         "hoverlabel": {
          "namelength": 0
         },
         "hovertemplate": "<b>%{hovertext}</b><br><br>region_type=submetro<br>total_length=%{x}<br>daily_mean=%{y}",
         "hovertext": [
          "ch_comunas_renca",
          "lima_metro1",
          "ch_comunas_san_joaquin",
          "ch_comunas_el_monte",
          "ch_comunas_melipilla",
          "ch_comunas_maipu",
          "ch_comunas_alhue",
          "ch_comunas_recoleta",
          "ch_comunas_pudahuel",
          "ch_comunas_vitacura",
          "ch_comunas_la_reina",
          "ch_comunas_calera_de_tango",
          "ch_comunas_colina",
          "ch_comunas_pedro_aguirre_cerda",
          "ch_comunas_cerrillos",
          "ch_comunas_independencia",
          "ch_comunas_macul",
          "ch_comunas_quilicura",
          "ch_comunas_lampa",
          "ch_comunas_san_miguel",
          "bogota_metro1",
          "ch_comunas_lo_espejo",
          "ch_comunas_penaflor",
          "ch_comunas_la_pintana",
          "ch_comunas_quinta_normal",
          "ch_comunas_padre_hurtado",
          "ch_comunas_santiago",
          "ch_comunas_conchali",
          "ch_comunas_san_bernardo",
          "ch_comunas_huechuraba",
          "ch_comunas_san_jose_de_maipo",
          "ch_comunas_penalolen",
          "lima_metro2",
          "ch_comunas_providencia",
          "ch_comunas_las_condes",
          "ch_comunas_talagante",
          "ch_comunas_puente_alto",
          "ch_comunas_san_pedro",
          "ch_comunas_el_bosque",
          "ch_comunas_paine",
          "ch_comunas_estacion_central",
          "ch_comunas_san_ramon",
          "ch_comunas_pirque",
          "ch_comunas_cerro_navia",
          "ch_comunas_lo_barnechea",
          "ch_comunas_buin",
          "ch_comunas_la_granja",
          "bogota_metro2",
          "ch_comunas_isla_de_maipo",
          "ch_comunas_lo_prado",
          "ch_comunas_curacavi",
          "ch_comunas_tiltil",
          "ch_comunas_nunoa",
          "ch_comunas_la_florida",
          "ch_comunas_maria_pinto",
          "ch_comunas_la_cisterna"
         ],
         "legendgroup": "region_type=submetro",
         "marker": {
          "color": "#EF553B",
          "symbol": "circle"
         },
         "mode": "markers",
         "name": "region_type=submetro",
         "showlegend": true,
         "type": "scatter",
         "x": [
          353222.22,
          2842856.32,
          211597.54,
          171144.97,
          950427.73,
          1030046.23,
          115875.68,
          290195.7,
          651219.72,
          346265.19,
          257989.78,
          133223.45,
          1152116.74,
          158980.29,
          202747.94,
          163678.05,
          254374.37,
          435887.78,
          593497.59,
          193744.76,
          2974819.36,
          179547.44,
          255179.75,
          333527.54,
          226158.41,
          264748.44,
          405358.95,
          264513.68,
          833243.51,
          254491.52,
          443852.27,
          475098.3,
          13199025.83,
          272778.58,
          613199.85,
          353791.55,
          946071.81,
          330319.11,
          291516.43,
          623048.87,
          311068.54,
          181928.94,
          304215.92,
          166126.27,
          693117.68,
          515025.7,
          252333.61,
          5689517.58,
          164074.62,
          146227.61,
          426650.83,
          392287.51,
          275998.03,
          697943.75,
          151090.09,
          237163.7
         ],
         "xaxis": "x",
         "y": [
          0,
          30487091.8,
          0,
          0,
          0,
          0,
          0,
          0,
          0,
          0,
          0,
          0,
          0,
          0,
          0,
          0,
          0,
          0,
          0,
          0,
          55064886.89863014,
          0,
          0,
          0,
          0,
          0,
          0,
          0,
          0,
          0,
          0,
          0,
          42903338.16712329,
          0,
          0,
          0,
          0,
          0,
          0,
          0,
          0,
          0,
          0,
          0,
          0,
          0,
          0,
          61776124.24657534,
          0,
          0,
          0,
          0,
          0,
          0,
          0,
          0
         ],
         "yaxis": "y"
        },
        {
         "hoverlabel": {
          "namelength": 0
         },
         "hovertemplate": "<b>%{hovertext}</b><br><br>region_type=country<br>total_length=%{x}<br>daily_mean=%{y}",
         "hovertext": [
          "country_guyana",
          "country_ecuador",
          "country_nicaragua",
          "country_venezuela",
          "country_barbados",
          "country_costa_rica",
          "country_haiti",
          "country_uruguay",
          "country_bolivia",
          "country_guatemala",
          "country_peru",
          "country_colombia",
          "country_chile",
          "country_brazil",
          "country_argentina",
          "country_paraguay",
          "country_honduras",
          "country_el_salvador",
          "country_trinidad_and_tobago",
          "country_jamaica",
          "country_panama",
          "country_the_bahamas",
          "country_suriname",
          "country_belize",
          "country_mexico",
          "country_dominican_republic"
         ],
         "legendgroup": "region_type=country",
         "marker": {
          "color": "#00cc96",
          "symbol": "circle"
         },
         "mode": "markers",
         "name": "region_type=country",
         "showlegend": true,
         "type": "scatter",
         "x": [
          6241684.02,
          110653842.64,
          25571690.41,
          139103484.21,
          2300315.87,
          42042600.16,
          21717748.35,
          44642077.17,
          199169227.23999998,
          56776843.35,
          245723531.16,
          198164320.3,
          151818163.85,
          1971852895.98,
          575779290.14,
          90047913.28,
          39274098.85,
          26153892.25,
          10123486.6,
          17337153.61,
          23366911.63,
          5999736.4,
          5602976.41,
          6865201.62,
          391093708.64,
          41058456.87
         ],
         "xaxis": "x",
         "y": [
          69317.35342465753,
          42614814.63013699,
          7429310.493150685,
          5554330.7534246575,
          408588.0219178082,
          81689115.89315069,
          434172.7671232877,
          16952157.421917807,
          6684187.868493151,
          62137752.36712329,
          126676605.80547944,
          279069727.4438356,
          159754799.81095892,
          null,
          162209757.31232876,
          11104420.6,
          7993598.353424657,
          28786777.783561643,
          15676135.49589041,
          2156668.128767124,
          37838900.263013706,
          244137.57260273967,
          461193.2520547945,
          322534.3287671233,
          824721948.3452054,
          46700577.91232877
         ],
         "yaxis": "y"
        },
        {
         "hoverlabel": {
          "namelength": 0
         },
         "hovertemplate": "<b>%{hovertext}</b><br><br>region_type=state<br>total_length=%{x}<br>daily_mean=%{y}",
         "hovertext": [
          "br_states_paraiba",
          "br_states_sao_paulo",
          "br_states_amapa",
          "br_states_tocantins",
          "br_states_sergipe",
          "br_states_espirito_santo",
          "br_states_alagoas",
          "br_states_goias",
          "br_states_para",
          "br_states_roraima",
          "br_states_amazonas",
          "br_states_santa_catarina",
          "br_states_rondonia",
          "br_states_rio_grande_do_sul",
          "br_states_ceara",
          "br_states_mato_grosso_do_sul",
          "br_states_bahia",
          "br_states_maranhao",
          "br_states_acre",
          "br_states_minas_gerais",
          "br_states_rio_de_janeiro",
          "br_states_pernambuco",
          "br_states_piaui",
          "br_states_mato_grosso",
          "br_states_rio_grande_do_norte",
          "br_states_parana",
          "br_states_distrito_federal"
         ],
         "legendgroup": "region_type=state",
         "marker": {
          "color": "#ab63fa",
          "symbol": "circle"
         },
         "mode": "markers",
         "name": "region_type=state",
         "showlegend": true,
         "type": "scatter",
         "x": [
          72253143.23,
          273709516.51,
          5462361.03,
          76107560,
          22540443.72,
          41327657.31,
          33282330.11,
          104906080.7,
          124786922.61,
          15146401.7,
          22751484.98,
          94462391.46,
          45291487.7,
          187197331.4,
          85406556.83,
          68403977.79,
          223231660.91,
          77087019.08,
          11975028.15,
          262010818.81,
          68664253.02,
          78296049.52,
          60752747.03,
          123897981.14,
          39961645.34,
          203385365.37,
          13394669.38
         ],
         "xaxis": "x",
         "y": [
          15481362.2,
          347707654.46027404,
          3907808.98630137,
          11955343.136986302,
          11403168.2,
          21157469.265753426,
          12163957.989041096,
          58807749.29041096,
          36354958.82465754,
          1751681.208219178,
          16286035.205479452,
          77992488.55890411,
          8490739.087671233,
          107939053.81369863,
          49874861.80273973,
          26435424.375342466,
          74758473.72328767,
          34795381.3369863,
          3321895.5452054795,
          212089532.49315068,
          126737508.80821918,
          56409534.44383562,
          16721082.501369866,
          28200803.742465757,
          17987381.301369864,
          126168144.5178082,
          15694743.515068496
         ],
         "yaxis": "y"
        }
       ],
       "layout": {
        "height": 600,
        "legend": {
         "tracegroupgap": 0
        },
        "template": {
         "data": {
          "bar": [
           {
            "error_x": {
             "color": "#2a3f5f"
            },
            "error_y": {
             "color": "#2a3f5f"
            },
            "marker": {
             "line": {
              "color": "white",
              "width": 0.5
             }
            },
            "type": "bar"
           }
          ],
          "barpolar": [
           {
            "marker": {
             "line": {
              "color": "white",
              "width": 0.5
             }
            },
            "type": "barpolar"
           }
          ],
          "carpet": [
           {
            "aaxis": {
             "endlinecolor": "#2a3f5f",
             "gridcolor": "#C8D4E3",
             "linecolor": "#C8D4E3",
             "minorgridcolor": "#C8D4E3",
             "startlinecolor": "#2a3f5f"
            },
            "baxis": {
             "endlinecolor": "#2a3f5f",
             "gridcolor": "#C8D4E3",
             "linecolor": "#C8D4E3",
             "minorgridcolor": "#C8D4E3",
             "startlinecolor": "#2a3f5f"
            },
            "type": "carpet"
           }
          ],
          "choropleth": [
           {
            "colorbar": {
             "outlinewidth": 0,
             "ticks": ""
            },
            "type": "choropleth"
           }
          ],
          "contour": [
           {
            "colorbar": {
             "outlinewidth": 0,
             "ticks": ""
            },
            "colorscale": [
             [
              0,
              "#0d0887"
             ],
             [
              0.1111111111111111,
              "#46039f"
             ],
             [
              0.2222222222222222,
              "#7201a8"
             ],
             [
              0.3333333333333333,
              "#9c179e"
             ],
             [
              0.4444444444444444,
              "#bd3786"
             ],
             [
              0.5555555555555556,
              "#d8576b"
             ],
             [
              0.6666666666666666,
              "#ed7953"
             ],
             [
              0.7777777777777778,
              "#fb9f3a"
             ],
             [
              0.8888888888888888,
              "#fdca26"
             ],
             [
              1,
              "#f0f921"
             ]
            ],
            "type": "contour"
           }
          ],
          "contourcarpet": [
           {
            "colorbar": {
             "outlinewidth": 0,
             "ticks": ""
            },
            "type": "contourcarpet"
           }
          ],
          "heatmap": [
           {
            "colorbar": {
             "outlinewidth": 0,
             "ticks": ""
            },
            "colorscale": [
             [
              0,
              "#0d0887"
             ],
             [
              0.1111111111111111,
              "#46039f"
             ],
             [
              0.2222222222222222,
              "#7201a8"
             ],
             [
              0.3333333333333333,
              "#9c179e"
             ],
             [
              0.4444444444444444,
              "#bd3786"
             ],
             [
              0.5555555555555556,
              "#d8576b"
             ],
             [
              0.6666666666666666,
              "#ed7953"
             ],
             [
              0.7777777777777778,
              "#fb9f3a"
             ],
             [
              0.8888888888888888,
              "#fdca26"
             ],
             [
              1,
              "#f0f921"
             ]
            ],
            "type": "heatmap"
           }
          ],
          "heatmapgl": [
           {
            "colorbar": {
             "outlinewidth": 0,
             "ticks": ""
            },
            "colorscale": [
             [
              0,
              "#0d0887"
             ],
             [
              0.1111111111111111,
              "#46039f"
             ],
             [
              0.2222222222222222,
              "#7201a8"
             ],
             [
              0.3333333333333333,
              "#9c179e"
             ],
             [
              0.4444444444444444,
              "#bd3786"
             ],
             [
              0.5555555555555556,
              "#d8576b"
             ],
             [
              0.6666666666666666,
              "#ed7953"
             ],
             [
              0.7777777777777778,
              "#fb9f3a"
             ],
             [
              0.8888888888888888,
              "#fdca26"
             ],
             [
              1,
              "#f0f921"
             ]
            ],
            "type": "heatmapgl"
           }
          ],
          "histogram": [
           {
            "marker": {
             "colorbar": {
              "outlinewidth": 0,
              "ticks": ""
             }
            },
            "type": "histogram"
           }
          ],
          "histogram2d": [
           {
            "colorbar": {
             "outlinewidth": 0,
             "ticks": ""
            },
            "colorscale": [
             [
              0,
              "#0d0887"
             ],
             [
              0.1111111111111111,
              "#46039f"
             ],
             [
              0.2222222222222222,
              "#7201a8"
             ],
             [
              0.3333333333333333,
              "#9c179e"
             ],
             [
              0.4444444444444444,
              "#bd3786"
             ],
             [
              0.5555555555555556,
              "#d8576b"
             ],
             [
              0.6666666666666666,
              "#ed7953"
             ],
             [
              0.7777777777777778,
              "#fb9f3a"
             ],
             [
              0.8888888888888888,
              "#fdca26"
             ],
             [
              1,
              "#f0f921"
             ]
            ],
            "type": "histogram2d"
           }
          ],
          "histogram2dcontour": [
           {
            "colorbar": {
             "outlinewidth": 0,
             "ticks": ""
            },
            "colorscale": [
             [
              0,
              "#0d0887"
             ],
             [
              0.1111111111111111,
              "#46039f"
             ],
             [
              0.2222222222222222,
              "#7201a8"
             ],
             [
              0.3333333333333333,
              "#9c179e"
             ],
             [
              0.4444444444444444,
              "#bd3786"
             ],
             [
              0.5555555555555556,
              "#d8576b"
             ],
             [
              0.6666666666666666,
              "#ed7953"
             ],
             [
              0.7777777777777778,
              "#fb9f3a"
             ],
             [
              0.8888888888888888,
              "#fdca26"
             ],
             [
              1,
              "#f0f921"
             ]
            ],
            "type": "histogram2dcontour"
           }
          ],
          "mesh3d": [
           {
            "colorbar": {
             "outlinewidth": 0,
             "ticks": ""
            },
            "type": "mesh3d"
           }
          ],
          "parcoords": [
           {
            "line": {
             "colorbar": {
              "outlinewidth": 0,
              "ticks": ""
             }
            },
            "type": "parcoords"
           }
          ],
          "pie": [
           {
            "automargin": true,
            "type": "pie"
           }
          ],
          "scatter": [
           {
            "marker": {
             "colorbar": {
              "outlinewidth": 0,
              "ticks": ""
             }
            },
            "type": "scatter"
           }
          ],
          "scatter3d": [
           {
            "line": {
             "colorbar": {
              "outlinewidth": 0,
              "ticks": ""
             }
            },
            "marker": {
             "colorbar": {
              "outlinewidth": 0,
              "ticks": ""
             }
            },
            "type": "scatter3d"
           }
          ],
          "scattercarpet": [
           {
            "marker": {
             "colorbar": {
              "outlinewidth": 0,
              "ticks": ""
             }
            },
            "type": "scattercarpet"
           }
          ],
          "scattergeo": [
           {
            "marker": {
             "colorbar": {
              "outlinewidth": 0,
              "ticks": ""
             }
            },
            "type": "scattergeo"
           }
          ],
          "scattergl": [
           {
            "marker": {
             "colorbar": {
              "outlinewidth": 0,
              "ticks": ""
             }
            },
            "type": "scattergl"
           }
          ],
          "scattermapbox": [
           {
            "marker": {
             "colorbar": {
              "outlinewidth": 0,
              "ticks": ""
             }
            },
            "type": "scattermapbox"
           }
          ],
          "scatterpolar": [
           {
            "marker": {
             "colorbar": {
              "outlinewidth": 0,
              "ticks": ""
             }
            },
            "type": "scatterpolar"
           }
          ],
          "scatterpolargl": [
           {
            "marker": {
             "colorbar": {
              "outlinewidth": 0,
              "ticks": ""
             }
            },
            "type": "scatterpolargl"
           }
          ],
          "scatterternary": [
           {
            "marker": {
             "colorbar": {
              "outlinewidth": 0,
              "ticks": ""
             }
            },
            "type": "scatterternary"
           }
          ],
          "surface": [
           {
            "colorbar": {
             "outlinewidth": 0,
             "ticks": ""
            },
            "colorscale": [
             [
              0,
              "#0d0887"
             ],
             [
              0.1111111111111111,
              "#46039f"
             ],
             [
              0.2222222222222222,
              "#7201a8"
             ],
             [
              0.3333333333333333,
              "#9c179e"
             ],
             [
              0.4444444444444444,
              "#bd3786"
             ],
             [
              0.5555555555555556,
              "#d8576b"
             ],
             [
              0.6666666666666666,
              "#ed7953"
             ],
             [
              0.7777777777777778,
              "#fb9f3a"
             ],
             [
              0.8888888888888888,
              "#fdca26"
             ],
             [
              1,
              "#f0f921"
             ]
            ],
            "type": "surface"
           }
          ],
          "table": [
           {
            "cells": {
             "fill": {
              "color": "#EBF0F8"
             },
             "line": {
              "color": "white"
             }
            },
            "header": {
             "fill": {
              "color": "#C8D4E3"
             },
             "line": {
              "color": "white"
             }
            },
            "type": "table"
           }
          ]
         },
         "layout": {
          "annotationdefaults": {
           "arrowcolor": "#2a3f5f",
           "arrowhead": 0,
           "arrowwidth": 1
          },
          "coloraxis": {
           "colorbar": {
            "outlinewidth": 0,
            "ticks": ""
           }
          },
          "colorscale": {
           "diverging": [
            [
             0,
             "#8e0152"
            ],
            [
             0.1,
             "#c51b7d"
            ],
            [
             0.2,
             "#de77ae"
            ],
            [
             0.3,
             "#f1b6da"
            ],
            [
             0.4,
             "#fde0ef"
            ],
            [
             0.5,
             "#f7f7f7"
            ],
            [
             0.6,
             "#e6f5d0"
            ],
            [
             0.7,
             "#b8e186"
            ],
            [
             0.8,
             "#7fbc41"
            ],
            [
             0.9,
             "#4d9221"
            ],
            [
             1,
             "#276419"
            ]
           ],
           "sequential": [
            [
             0,
             "#0d0887"
            ],
            [
             0.1111111111111111,
             "#46039f"
            ],
            [
             0.2222222222222222,
             "#7201a8"
            ],
            [
             0.3333333333333333,
             "#9c179e"
            ],
            [
             0.4444444444444444,
             "#bd3786"
            ],
            [
             0.5555555555555556,
             "#d8576b"
            ],
            [
             0.6666666666666666,
             "#ed7953"
            ],
            [
             0.7777777777777778,
             "#fb9f3a"
            ],
            [
             0.8888888888888888,
             "#fdca26"
            ],
            [
             1,
             "#f0f921"
            ]
           ],
           "sequentialminus": [
            [
             0,
             "#0d0887"
            ],
            [
             0.1111111111111111,
             "#46039f"
            ],
            [
             0.2222222222222222,
             "#7201a8"
            ],
            [
             0.3333333333333333,
             "#9c179e"
            ],
            [
             0.4444444444444444,
             "#bd3786"
            ],
            [
             0.5555555555555556,
             "#d8576b"
            ],
            [
             0.6666666666666666,
             "#ed7953"
            ],
            [
             0.7777777777777778,
             "#fb9f3a"
            ],
            [
             0.8888888888888888,
             "#fdca26"
            ],
            [
             1,
             "#f0f921"
            ]
           ]
          },
          "colorway": [
           "#636efa",
           "#EF553B",
           "#00cc96",
           "#ab63fa",
           "#FFA15A",
           "#19d3f3",
           "#FF6692",
           "#B6E880",
           "#FF97FF",
           "#FECB52"
          ],
          "font": {
           "color": "#2a3f5f"
          },
          "geo": {
           "bgcolor": "white",
           "lakecolor": "white",
           "landcolor": "white",
           "showlakes": true,
           "showland": true,
           "subunitcolor": "#C8D4E3"
          },
          "hoverlabel": {
           "align": "left"
          },
          "hovermode": "closest",
          "mapbox": {
           "style": "light"
          },
          "paper_bgcolor": "white",
          "plot_bgcolor": "white",
          "polar": {
           "angularaxis": {
            "gridcolor": "#EBF0F8",
            "linecolor": "#EBF0F8",
            "ticks": ""
           },
           "bgcolor": "white",
           "radialaxis": {
            "gridcolor": "#EBF0F8",
            "linecolor": "#EBF0F8",
            "ticks": ""
           }
          },
          "scene": {
           "xaxis": {
            "backgroundcolor": "white",
            "gridcolor": "#DFE8F3",
            "gridwidth": 2,
            "linecolor": "#EBF0F8",
            "showbackground": true,
            "ticks": "",
            "zerolinecolor": "#EBF0F8"
           },
           "yaxis": {
            "backgroundcolor": "white",
            "gridcolor": "#DFE8F3",
            "gridwidth": 2,
            "linecolor": "#EBF0F8",
            "showbackground": true,
            "ticks": "",
            "zerolinecolor": "#EBF0F8"
           },
           "zaxis": {
            "backgroundcolor": "white",
            "gridcolor": "#DFE8F3",
            "gridwidth": 2,
            "linecolor": "#EBF0F8",
            "showbackground": true,
            "ticks": "",
            "zerolinecolor": "#EBF0F8"
           }
          },
          "shapedefaults": {
           "line": {
            "color": "#2a3f5f"
           }
          },
          "ternary": {
           "aaxis": {
            "gridcolor": "#DFE8F3",
            "linecolor": "#A2B1C6",
            "ticks": ""
           },
           "baxis": {
            "gridcolor": "#DFE8F3",
            "linecolor": "#A2B1C6",
            "ticks": ""
           },
           "bgcolor": "white",
           "caxis": {
            "gridcolor": "#DFE8F3",
            "linecolor": "#A2B1C6",
            "ticks": ""
           }
          },
          "title": {
           "x": 0.05
          },
          "xaxis": {
           "automargin": true,
           "gridcolor": "#EBF0F8",
           "linecolor": "#EBF0F8",
           "ticks": "",
           "title": {
            "standoff": 15
           },
           "zerolinecolor": "#EBF0F8",
           "zerolinewidth": 2
          },
          "yaxis": {
           "automargin": true,
           "gridcolor": "#EBF0F8",
           "linecolor": "#EBF0F8",
           "ticks": "",
           "title": {
            "standoff": 15
           },
           "zerolinecolor": "#EBF0F8",
           "zerolinewidth": 2
          }
         }
        },
        "title": {
         "text": "Daily TCI Mean by Network Length (m)"
        },
        "xaxis": {
         "anchor": "y",
         "domain": [
          0,
          1
         ],
         "title": {
          "text": "Total Network Length (m)"
         },
         "type": "log"
        },
        "yaxis": {
         "anchor": "x",
         "domain": [
          0,
          1
         ],
         "title": {
          "text": "Daily TCI Mean (m)"
         },
         "type": "log"
        }
       }
      },
      "text/html": [
       "<div>\n",
       "        \n",
       "        \n",
       "            <div id=\"1bf7c4b8-18d1-4b3f-aad7-6743f9b0373f\" class=\"plotly-graph-div\" style=\"height:600px; width:100%;\"></div>\n",
       "            <script type=\"text/javascript\">\n",
       "                require([\"plotly\"], function(Plotly) {\n",
       "                    window.PLOTLYENV=window.PLOTLYENV || {};\n",
       "                    \n",
       "                if (document.getElementById(\"1bf7c4b8-18d1-4b3f-aad7-6743f9b0373f\")) {\n",
       "                    Plotly.newPlot(\n",
       "                        '1bf7c4b8-18d1-4b3f-aad7-6743f9b0373f',\n",
       "                        [{\"hoverlabel\": {\"namelength\": 0}, \"hovertemplate\": \"<b>%{hovertext}</b><br><br>region_type=city<br>total_length=%{x}<br>daily_mean=%{y}\", \"hovertext\": [\"bogota\", \"managua\", \"kingston\", \"natal\", \"barquisimeto\", \"mendoza\", \"curitiba\", \"toluca\", \"barranquilla\", \"buenosaires\", \"paramaribo\", \"santodomingo\", \"saojosedoscampos\", \"panamacity\", \"sanfernado\", \"santiago\", \"fortaleza\", \"salvador\", \"manaus\", \"saopaulo\", \"teresina\", \"tegucigalpa\", \"georgetown\", \"ciudad_guayana\", \"montevideo\", \"merida\", \"belpoman\", \"porto_alergre\", \"arequipa\", \"tijuana\", \"saoluis\", \"cochabamba\", \"sorocaba\", \"joaopessoa\", \"mexicocity\", \"brasilia\", \"guadalajara\", \"lapaz\", \"nassau\", \"pereira\", \"asuncion\", \"santacruzdelasierra\", \"santiagocaballeros\", \"recife\", \"monterrey\", \"goiania\", \"guayaquil\", \"caracas\", \"guatemala\", \"cartagena\", \"belem\", \"pueble\", \"bridgetown\", \"riodejaneiro\", \"cucuta\", \"rosario\", \"quito\", \"campinas\", \"sanpedrosula\", \"maceio\", \"aguascalientes\", \"leon\", \"queretaro\", \"portauprince\", \"maracaibo\", \"cuenca\", \"barcelona\", \"medellin\", \"bucaramanga\", \"cordoba\", \"santos\", \"sanjose\", \"portofspain\", \"juarez\", \"sanluispotosi\", \"sansalvador\", \"santamarta\", \"valencia\", \"belohorizonte\", \"joinville\", \"vitoria\", \"maracay\", \"lima\", \"cali\", \"florianopolis\", \"torreon\"], \"legendgroup\": \"region_type=city\", \"marker\": {\"color\": \"#636efa\", \"symbol\": \"circle\"}, \"mode\": \"markers\", \"name\": \"region_type=city\", \"showlegend\": true, \"type\": \"scatter\", \"x\": [8552341.21, 2239902.08, 1384098.48, 6732125.97, 2315542.51, 3089897.23, 7348502.6, 6136666.17, 2639515.32, 30933171.94, 1183306.95, 7299170.72, 2365061.2, 2764961.01, 917632.77, 11004409.22, 6732125.97, 4206246.08, 3659793.31, 32536728.08, 3320668.14, 2085039.51, 476718.56, 2066247.33, 3497729.6, 4476866.04, 134691.41, 8391221.97, 2047208.81, 5112669.24, 3647914.36, 3283487.02, 2453605.58, 2976535.15, 40190429.32, 7185451.29, 11643281.33, 3856207.02, 959262.78, 946731.26, 6101621.58, 6751472.15, 2282452.91, 6614950.94, 13334999.73, 8119324.16, 4986853.62, 3361654.08, 6262595.46, 1284823.98, 3420718.9, 7571375.34, 1158405.05, 17365642.39, 1840273.8, 3369242.9, 5492209.54, 7684727.72, 1618492.79, 2079899.71, 3105139.64, 4408240.76, 4116198.06, 2449439.58, 2788671.98, 1403538.07, 1138576.33, 3745773.63, 1689460.34, 5101973.49, 2982651.54, 4473574.9, 1008703.31, 5715830.87, 3459381.1, 2744860.18, 913226.04, 3383362.92, 9612852.93, 1616469.46, 4502136.87, 2651811.68, 17380502.07, 3313356.0, 362257.74, 4555559.77], \"xaxis\": \"x\", \"y\": [108725100.7041096, 2400172.98630137, 557639.402739726, 23648749.646575347, 66070.49589041095, 1254893.7506849314, 22681555.51506849, 16045936.161643835, 11689385.487671236, 80850103.72054794, 258157.12328767125, 34210987.84109589, 4030446.2356164395, 21536276.01917808, 2388487.134246575, 50165808.71232877, 23648749.657534245, 23497129.71506849, 15598951.97260274, 183228626.5589041, 6010425.249315067, 2030473.6246575343, 26407.378082191783, 8975.016438356164, 10162542.701369863, 6039867.3643835625, 942.837912087912, 26363607.9260274, 4027590.739726028, 13044426.290410958, 9123424.4630137, 71514.35616438357, 2794657.789041096, 5945605.180821918, 206718381.8027397, 11089420.775342466, 41796690.43561644, 182588.36438356165, 62971.06575342466, 3852287.336986302, 8845599.953424657, 4742519.7260273965, 6269621.734246575, 29658158.334246576, 30138101.136986304, 12937496.778082192, 9348242.032876713, 4252677.909589041, 37697472.42739726, 4602740.26849315, 14521029.646575345, 17472610.243835617, 282391.2821917808, 81501708.83835617, 767252.9397260273, 1506847.7232876713, 22871203.89589041, 11329321.457534244, 1116528.1424657535, 8658823.52328767, 4104239.484931506, 7567803.8575342465, 11231065.369863013, 177534.23287671234, 12764.961643835615, 277345.75616438355, 39335.18904109589, 23285899.583561644, 3687313.4986301367, 3129291.350684932, 11392350.484931504, 30049895.01369863, 4875202.709589041, 6403636.4821917815, 7183587.391780823, 16181388.383561645, 1239564.016438356, 194552.6410958904, 33959904.4, 3891869.4712328766, 10184478.221917808, 138373.42739726027, 78837465.56438357, 15923213.534246575, 2718240.6493150685, 2957524.7397260275], \"yaxis\": \"y\"}, {\"hoverlabel\": {\"namelength\": 0}, \"hovertemplate\": \"<b>%{hovertext}</b><br><br>region_type=submetro<br>total_length=%{x}<br>daily_mean=%{y}\", \"hovertext\": [\"ch_comunas_renca\", \"lima_metro1\", \"ch_comunas_san_joaquin\", \"ch_comunas_el_monte\", \"ch_comunas_melipilla\", \"ch_comunas_maipu\", \"ch_comunas_alhue\", \"ch_comunas_recoleta\", \"ch_comunas_pudahuel\", \"ch_comunas_vitacura\", \"ch_comunas_la_reina\", \"ch_comunas_calera_de_tango\", \"ch_comunas_colina\", \"ch_comunas_pedro_aguirre_cerda\", \"ch_comunas_cerrillos\", \"ch_comunas_independencia\", \"ch_comunas_macul\", \"ch_comunas_quilicura\", \"ch_comunas_lampa\", \"ch_comunas_san_miguel\", \"bogota_metro1\", \"ch_comunas_lo_espejo\", \"ch_comunas_penaflor\", \"ch_comunas_la_pintana\", \"ch_comunas_quinta_normal\", \"ch_comunas_padre_hurtado\", \"ch_comunas_santiago\", \"ch_comunas_conchali\", \"ch_comunas_san_bernardo\", \"ch_comunas_huechuraba\", \"ch_comunas_san_jose_de_maipo\", \"ch_comunas_penalolen\", \"lima_metro2\", \"ch_comunas_providencia\", \"ch_comunas_las_condes\", \"ch_comunas_talagante\", \"ch_comunas_puente_alto\", \"ch_comunas_san_pedro\", \"ch_comunas_el_bosque\", \"ch_comunas_paine\", \"ch_comunas_estacion_central\", \"ch_comunas_san_ramon\", \"ch_comunas_pirque\", \"ch_comunas_cerro_navia\", \"ch_comunas_lo_barnechea\", \"ch_comunas_buin\", \"ch_comunas_la_granja\", \"bogota_metro2\", \"ch_comunas_isla_de_maipo\", \"ch_comunas_lo_prado\", \"ch_comunas_curacavi\", \"ch_comunas_tiltil\", \"ch_comunas_nunoa\", \"ch_comunas_la_florida\", \"ch_comunas_maria_pinto\", \"ch_comunas_la_cisterna\"], \"legendgroup\": \"region_type=submetro\", \"marker\": {\"color\": \"#EF553B\", \"symbol\": \"circle\"}, \"mode\": \"markers\", \"name\": \"region_type=submetro\", \"showlegend\": true, \"type\": \"scatter\", \"x\": [353222.22, 2842856.32, 211597.54, 171144.97, 950427.73, 1030046.23, 115875.68, 290195.7, 651219.72, 346265.19, 257989.78, 133223.45, 1152116.74, 158980.29, 202747.94, 163678.05, 254374.37, 435887.78, 593497.59, 193744.76, 2974819.36, 179547.44, 255179.75, 333527.54, 226158.41, 264748.44, 405358.95, 264513.68, 833243.51, 254491.52, 443852.27, 475098.3, 13199025.83, 272778.58, 613199.85, 353791.55, 946071.81, 330319.11, 291516.43, 623048.87, 311068.54, 181928.94, 304215.92, 166126.27, 693117.68, 515025.7, 252333.61, 5689517.58, 164074.62, 146227.61, 426650.83, 392287.51, 275998.03, 697943.75, 151090.09, 237163.7], \"xaxis\": \"x\", \"y\": [0.0, 30487091.8, 0.0, 0.0, 0.0, 0.0, 0.0, 0.0, 0.0, 0.0, 0.0, 0.0, 0.0, 0.0, 0.0, 0.0, 0.0, 0.0, 0.0, 0.0, 55064886.89863014, 0.0, 0.0, 0.0, 0.0, 0.0, 0.0, 0.0, 0.0, 0.0, 0.0, 0.0, 42903338.16712329, 0.0, 0.0, 0.0, 0.0, 0.0, 0.0, 0.0, 0.0, 0.0, 0.0, 0.0, 0.0, 0.0, 0.0, 61776124.24657534, 0.0, 0.0, 0.0, 0.0, 0.0, 0.0, 0.0, 0.0], \"yaxis\": \"y\"}, {\"hoverlabel\": {\"namelength\": 0}, \"hovertemplate\": \"<b>%{hovertext}</b><br><br>region_type=country<br>total_length=%{x}<br>daily_mean=%{y}\", \"hovertext\": [\"country_guyana\", \"country_ecuador\", \"country_nicaragua\", \"country_venezuela\", \"country_barbados\", \"country_costa_rica\", \"country_haiti\", \"country_uruguay\", \"country_bolivia\", \"country_guatemala\", \"country_peru\", \"country_colombia\", \"country_chile\", \"country_brazil\", \"country_argentina\", \"country_paraguay\", \"country_honduras\", \"country_el_salvador\", \"country_trinidad_and_tobago\", \"country_jamaica\", \"country_panama\", \"country_the_bahamas\", \"country_suriname\", \"country_belize\", \"country_mexico\", \"country_dominican_republic\"], \"legendgroup\": \"region_type=country\", \"marker\": {\"color\": \"#00cc96\", \"symbol\": \"circle\"}, \"mode\": \"markers\", \"name\": \"region_type=country\", \"showlegend\": true, \"type\": \"scatter\", \"x\": [6241684.02, 110653842.64, 25571690.41, 139103484.21, 2300315.87, 42042600.16, 21717748.35, 44642077.17, 199169227.23999998, 56776843.35, 245723531.16, 198164320.3, 151818163.85, 1971852895.98, 575779290.14, 90047913.28, 39274098.85, 26153892.25, 10123486.6, 17337153.61, 23366911.63, 5999736.4, 5602976.41, 6865201.62, 391093708.64, 41058456.87], \"xaxis\": \"x\", \"y\": [69317.35342465753, 42614814.63013699, 7429310.493150685, 5554330.7534246575, 408588.0219178082, 81689115.89315069, 434172.7671232877, 16952157.421917807, 6684187.868493151, 62137752.36712329, 126676605.80547944, 279069727.4438356, 159754799.81095892, null, 162209757.31232876, 11104420.6, 7993598.353424657, 28786777.783561643, 15676135.49589041, 2156668.128767124, 37838900.263013706, 244137.57260273967, 461193.2520547945, 322534.3287671233, 824721948.3452054, 46700577.91232877], \"yaxis\": \"y\"}, {\"hoverlabel\": {\"namelength\": 0}, \"hovertemplate\": \"<b>%{hovertext}</b><br><br>region_type=state<br>total_length=%{x}<br>daily_mean=%{y}\", \"hovertext\": [\"br_states_paraiba\", \"br_states_sao_paulo\", \"br_states_amapa\", \"br_states_tocantins\", \"br_states_sergipe\", \"br_states_espirito_santo\", \"br_states_alagoas\", \"br_states_goias\", \"br_states_para\", \"br_states_roraima\", \"br_states_amazonas\", \"br_states_santa_catarina\", \"br_states_rondonia\", \"br_states_rio_grande_do_sul\", \"br_states_ceara\", \"br_states_mato_grosso_do_sul\", \"br_states_bahia\", \"br_states_maranhao\", \"br_states_acre\", \"br_states_minas_gerais\", \"br_states_rio_de_janeiro\", \"br_states_pernambuco\", \"br_states_piaui\", \"br_states_mato_grosso\", \"br_states_rio_grande_do_norte\", \"br_states_parana\", \"br_states_distrito_federal\"], \"legendgroup\": \"region_type=state\", \"marker\": {\"color\": \"#ab63fa\", \"symbol\": \"circle\"}, \"mode\": \"markers\", \"name\": \"region_type=state\", \"showlegend\": true, \"type\": \"scatter\", \"x\": [72253143.23, 273709516.51, 5462361.03, 76107560.0, 22540443.72, 41327657.31, 33282330.11, 104906080.7, 124786922.61, 15146401.7, 22751484.98, 94462391.46, 45291487.7, 187197331.4, 85406556.83, 68403977.79, 223231660.91, 77087019.08, 11975028.15, 262010818.81, 68664253.02, 78296049.52, 60752747.03, 123897981.14, 39961645.34, 203385365.37, 13394669.38], \"xaxis\": \"x\", \"y\": [15481362.2, 347707654.46027404, 3907808.98630137, 11955343.136986302, 11403168.2, 21157469.265753426, 12163957.989041096, 58807749.29041096, 36354958.82465754, 1751681.208219178, 16286035.205479452, 77992488.55890411, 8490739.087671233, 107939053.81369863, 49874861.80273973, 26435424.375342466, 74758473.72328767, 34795381.3369863, 3321895.5452054795, 212089532.49315068, 126737508.80821918, 56409534.44383562, 16721082.501369866, 28200803.742465757, 17987381.301369864, 126168144.5178082, 15694743.515068496], \"yaxis\": \"y\"}],\n",
       "                        {\"height\": 600, \"legend\": {\"tracegroupgap\": 0}, \"template\": {\"data\": {\"bar\": [{\"error_x\": {\"color\": \"#2a3f5f\"}, \"error_y\": {\"color\": \"#2a3f5f\"}, \"marker\": {\"line\": {\"color\": \"white\", \"width\": 0.5}}, \"type\": \"bar\"}], \"barpolar\": [{\"marker\": {\"line\": {\"color\": \"white\", \"width\": 0.5}}, \"type\": \"barpolar\"}], \"carpet\": [{\"aaxis\": {\"endlinecolor\": \"#2a3f5f\", \"gridcolor\": \"#C8D4E3\", \"linecolor\": \"#C8D4E3\", \"minorgridcolor\": \"#C8D4E3\", \"startlinecolor\": \"#2a3f5f\"}, \"baxis\": {\"endlinecolor\": \"#2a3f5f\", \"gridcolor\": \"#C8D4E3\", \"linecolor\": \"#C8D4E3\", \"minorgridcolor\": \"#C8D4E3\", \"startlinecolor\": \"#2a3f5f\"}, \"type\": \"carpet\"}], \"choropleth\": [{\"colorbar\": {\"outlinewidth\": 0, \"ticks\": \"\"}, \"type\": \"choropleth\"}], \"contour\": [{\"colorbar\": {\"outlinewidth\": 0, \"ticks\": \"\"}, \"colorscale\": [[0.0, \"#0d0887\"], [0.1111111111111111, \"#46039f\"], [0.2222222222222222, \"#7201a8\"], [0.3333333333333333, \"#9c179e\"], [0.4444444444444444, \"#bd3786\"], [0.5555555555555556, \"#d8576b\"], [0.6666666666666666, \"#ed7953\"], [0.7777777777777778, \"#fb9f3a\"], [0.8888888888888888, \"#fdca26\"], [1.0, \"#f0f921\"]], \"type\": \"contour\"}], \"contourcarpet\": [{\"colorbar\": {\"outlinewidth\": 0, \"ticks\": \"\"}, \"type\": \"contourcarpet\"}], \"heatmap\": [{\"colorbar\": {\"outlinewidth\": 0, \"ticks\": \"\"}, \"colorscale\": [[0.0, \"#0d0887\"], [0.1111111111111111, \"#46039f\"], [0.2222222222222222, \"#7201a8\"], [0.3333333333333333, \"#9c179e\"], [0.4444444444444444, \"#bd3786\"], [0.5555555555555556, \"#d8576b\"], [0.6666666666666666, \"#ed7953\"], [0.7777777777777778, \"#fb9f3a\"], [0.8888888888888888, \"#fdca26\"], [1.0, \"#f0f921\"]], \"type\": \"heatmap\"}], \"heatmapgl\": [{\"colorbar\": {\"outlinewidth\": 0, \"ticks\": \"\"}, \"colorscale\": [[0.0, \"#0d0887\"], [0.1111111111111111, \"#46039f\"], [0.2222222222222222, \"#7201a8\"], [0.3333333333333333, \"#9c179e\"], [0.4444444444444444, \"#bd3786\"], [0.5555555555555556, \"#d8576b\"], [0.6666666666666666, \"#ed7953\"], [0.7777777777777778, \"#fb9f3a\"], [0.8888888888888888, \"#fdca26\"], [1.0, \"#f0f921\"]], \"type\": \"heatmapgl\"}], \"histogram\": [{\"marker\": {\"colorbar\": {\"outlinewidth\": 0, \"ticks\": \"\"}}, \"type\": \"histogram\"}], \"histogram2d\": [{\"colorbar\": {\"outlinewidth\": 0, \"ticks\": \"\"}, \"colorscale\": [[0.0, \"#0d0887\"], [0.1111111111111111, \"#46039f\"], [0.2222222222222222, \"#7201a8\"], [0.3333333333333333, \"#9c179e\"], [0.4444444444444444, \"#bd3786\"], [0.5555555555555556, \"#d8576b\"], [0.6666666666666666, \"#ed7953\"], [0.7777777777777778, \"#fb9f3a\"], [0.8888888888888888, \"#fdca26\"], [1.0, \"#f0f921\"]], \"type\": \"histogram2d\"}], \"histogram2dcontour\": [{\"colorbar\": {\"outlinewidth\": 0, \"ticks\": \"\"}, \"colorscale\": [[0.0, \"#0d0887\"], [0.1111111111111111, \"#46039f\"], [0.2222222222222222, \"#7201a8\"], [0.3333333333333333, \"#9c179e\"], [0.4444444444444444, \"#bd3786\"], [0.5555555555555556, \"#d8576b\"], [0.6666666666666666, \"#ed7953\"], [0.7777777777777778, \"#fb9f3a\"], [0.8888888888888888, \"#fdca26\"], [1.0, \"#f0f921\"]], \"type\": \"histogram2dcontour\"}], \"mesh3d\": [{\"colorbar\": {\"outlinewidth\": 0, \"ticks\": \"\"}, \"type\": \"mesh3d\"}], \"parcoords\": [{\"line\": {\"colorbar\": {\"outlinewidth\": 0, \"ticks\": \"\"}}, \"type\": \"parcoords\"}], \"pie\": [{\"automargin\": true, \"type\": \"pie\"}], \"scatter\": [{\"marker\": {\"colorbar\": {\"outlinewidth\": 0, \"ticks\": \"\"}}, \"type\": \"scatter\"}], \"scatter3d\": [{\"line\": {\"colorbar\": {\"outlinewidth\": 0, \"ticks\": \"\"}}, \"marker\": {\"colorbar\": {\"outlinewidth\": 0, \"ticks\": \"\"}}, \"type\": \"scatter3d\"}], \"scattercarpet\": [{\"marker\": {\"colorbar\": {\"outlinewidth\": 0, \"ticks\": \"\"}}, \"type\": \"scattercarpet\"}], \"scattergeo\": [{\"marker\": {\"colorbar\": {\"outlinewidth\": 0, \"ticks\": \"\"}}, \"type\": \"scattergeo\"}], \"scattergl\": [{\"marker\": {\"colorbar\": {\"outlinewidth\": 0, \"ticks\": \"\"}}, \"type\": \"scattergl\"}], \"scattermapbox\": [{\"marker\": {\"colorbar\": {\"outlinewidth\": 0, \"ticks\": \"\"}}, \"type\": \"scattermapbox\"}], \"scatterpolar\": [{\"marker\": {\"colorbar\": {\"outlinewidth\": 0, \"ticks\": \"\"}}, \"type\": \"scatterpolar\"}], \"scatterpolargl\": [{\"marker\": {\"colorbar\": {\"outlinewidth\": 0, \"ticks\": \"\"}}, \"type\": \"scatterpolargl\"}], \"scatterternary\": [{\"marker\": {\"colorbar\": {\"outlinewidth\": 0, \"ticks\": \"\"}}, \"type\": \"scatterternary\"}], \"surface\": [{\"colorbar\": {\"outlinewidth\": 0, \"ticks\": \"\"}, \"colorscale\": [[0.0, \"#0d0887\"], [0.1111111111111111, \"#46039f\"], [0.2222222222222222, \"#7201a8\"], [0.3333333333333333, \"#9c179e\"], [0.4444444444444444, \"#bd3786\"], [0.5555555555555556, \"#d8576b\"], [0.6666666666666666, \"#ed7953\"], [0.7777777777777778, \"#fb9f3a\"], [0.8888888888888888, \"#fdca26\"], [1.0, \"#f0f921\"]], \"type\": \"surface\"}], \"table\": [{\"cells\": {\"fill\": {\"color\": \"#EBF0F8\"}, \"line\": {\"color\": \"white\"}}, \"header\": {\"fill\": {\"color\": \"#C8D4E3\"}, \"line\": {\"color\": \"white\"}}, \"type\": \"table\"}]}, \"layout\": {\"annotationdefaults\": {\"arrowcolor\": \"#2a3f5f\", \"arrowhead\": 0, \"arrowwidth\": 1}, \"coloraxis\": {\"colorbar\": {\"outlinewidth\": 0, \"ticks\": \"\"}}, \"colorscale\": {\"diverging\": [[0, \"#8e0152\"], [0.1, \"#c51b7d\"], [0.2, \"#de77ae\"], [0.3, \"#f1b6da\"], [0.4, \"#fde0ef\"], [0.5, \"#f7f7f7\"], [0.6, \"#e6f5d0\"], [0.7, \"#b8e186\"], [0.8, \"#7fbc41\"], [0.9, \"#4d9221\"], [1, \"#276419\"]], \"sequential\": [[0.0, \"#0d0887\"], [0.1111111111111111, \"#46039f\"], [0.2222222222222222, \"#7201a8\"], [0.3333333333333333, \"#9c179e\"], [0.4444444444444444, \"#bd3786\"], [0.5555555555555556, \"#d8576b\"], [0.6666666666666666, \"#ed7953\"], [0.7777777777777778, \"#fb9f3a\"], [0.8888888888888888, \"#fdca26\"], [1.0, \"#f0f921\"]], \"sequentialminus\": [[0.0, \"#0d0887\"], [0.1111111111111111, \"#46039f\"], [0.2222222222222222, \"#7201a8\"], [0.3333333333333333, \"#9c179e\"], [0.4444444444444444, \"#bd3786\"], [0.5555555555555556, \"#d8576b\"], [0.6666666666666666, \"#ed7953\"], [0.7777777777777778, \"#fb9f3a\"], [0.8888888888888888, \"#fdca26\"], [1.0, \"#f0f921\"]]}, \"colorway\": [\"#636efa\", \"#EF553B\", \"#00cc96\", \"#ab63fa\", \"#FFA15A\", \"#19d3f3\", \"#FF6692\", \"#B6E880\", \"#FF97FF\", \"#FECB52\"], \"font\": {\"color\": \"#2a3f5f\"}, \"geo\": {\"bgcolor\": \"white\", \"lakecolor\": \"white\", \"landcolor\": \"white\", \"showlakes\": true, \"showland\": true, \"subunitcolor\": \"#C8D4E3\"}, \"hoverlabel\": {\"align\": \"left\"}, \"hovermode\": \"closest\", \"mapbox\": {\"style\": \"light\"}, \"paper_bgcolor\": \"white\", \"plot_bgcolor\": \"white\", \"polar\": {\"angularaxis\": {\"gridcolor\": \"#EBF0F8\", \"linecolor\": \"#EBF0F8\", \"ticks\": \"\"}, \"bgcolor\": \"white\", \"radialaxis\": {\"gridcolor\": \"#EBF0F8\", \"linecolor\": \"#EBF0F8\", \"ticks\": \"\"}}, \"scene\": {\"xaxis\": {\"backgroundcolor\": \"white\", \"gridcolor\": \"#DFE8F3\", \"gridwidth\": 2, \"linecolor\": \"#EBF0F8\", \"showbackground\": true, \"ticks\": \"\", \"zerolinecolor\": \"#EBF0F8\"}, \"yaxis\": {\"backgroundcolor\": \"white\", \"gridcolor\": \"#DFE8F3\", \"gridwidth\": 2, \"linecolor\": \"#EBF0F8\", \"showbackground\": true, \"ticks\": \"\", \"zerolinecolor\": \"#EBF0F8\"}, \"zaxis\": {\"backgroundcolor\": \"white\", \"gridcolor\": \"#DFE8F3\", \"gridwidth\": 2, \"linecolor\": \"#EBF0F8\", \"showbackground\": true, \"ticks\": \"\", \"zerolinecolor\": \"#EBF0F8\"}}, \"shapedefaults\": {\"line\": {\"color\": \"#2a3f5f\"}}, \"ternary\": {\"aaxis\": {\"gridcolor\": \"#DFE8F3\", \"linecolor\": \"#A2B1C6\", \"ticks\": \"\"}, \"baxis\": {\"gridcolor\": \"#DFE8F3\", \"linecolor\": \"#A2B1C6\", \"ticks\": \"\"}, \"bgcolor\": \"white\", \"caxis\": {\"gridcolor\": \"#DFE8F3\", \"linecolor\": \"#A2B1C6\", \"ticks\": \"\"}}, \"title\": {\"x\": 0.05}, \"xaxis\": {\"automargin\": true, \"gridcolor\": \"#EBF0F8\", \"linecolor\": \"#EBF0F8\", \"ticks\": \"\", \"title\": {\"standoff\": 15}, \"zerolinecolor\": \"#EBF0F8\", \"zerolinewidth\": 2}, \"yaxis\": {\"automargin\": true, \"gridcolor\": \"#EBF0F8\", \"linecolor\": \"#EBF0F8\", \"ticks\": \"\", \"title\": {\"standoff\": 15}, \"zerolinecolor\": \"#EBF0F8\", \"zerolinewidth\": 2}}}, \"title\": {\"text\": \"Daily TCI Mean by Network Length (m)\"}, \"xaxis\": {\"anchor\": \"y\", \"domain\": [0.0, 1.0], \"title\": {\"text\": \"Total Network Length (m)\"}, \"type\": \"log\"}, \"yaxis\": {\"anchor\": \"x\", \"domain\": [0.0, 1.0], \"title\": {\"text\": \"Daily TCI Mean (m)\"}, \"type\": \"log\"}},\n",
       "                        {\"responsive\": true}\n",
       "                    ).then(function(){\n",
       "                            \n",
       "var gd = document.getElementById('1bf7c4b8-18d1-4b3f-aad7-6743f9b0373f');\n",
       "var x = new MutationObserver(function (mutations, observer) {{\n",
       "        var display = window.getComputedStyle(gd).display;\n",
       "        if (!display || display === 'none') {{\n",
       "            console.log([gd, 'removed!']);\n",
       "            Plotly.purge(gd);\n",
       "            observer.disconnect();\n",
       "        }}\n",
       "}});\n",
       "\n",
       "// Listen for the removal of the full notebook cells\n",
       "var notebookContainer = gd.closest('#notebook-container');\n",
       "if (notebookContainer) {{\n",
       "    x.observe(notebookContainer, {childList: true});\n",
       "}}\n",
       "\n",
       "// Listen for the clearing of the current output cell\n",
       "var outputEl = gd.closest('.output');\n",
       "if (outputEl) {{\n",
       "    x.observe(outputEl, {childList: true});\n",
       "}}\n",
       "\n",
       "                        })\n",
       "                };\n",
       "                });\n",
       "            </script>\n",
       "        </div>"
      ]
     },
     "metadata": {},
     "output_type": "display_data"
    }
   ],
   "source": [
    "fig = px.scatter(df,\n",
    "            y=\"daily_mean\", x=\"total_length\", color='region_type',\n",
    "            hover_name=\"region_slug\", template='plotly_white', title='Daily TCI Mean by Network Length (m)',\n",
    "           log_x=True, log_y=True)\n",
    "fig.update_yaxes(title_text='Daily TCI Mean (m)')\n",
    "fig.update_xaxes(title_text='Total Network Length (m)')\n",
    "\n",
    "# fig.add_trace()\n",
    "\n",
    "fig.show()"
   ]
  },
  {
   "cell_type": "code",
   "execution_count": 67,
   "metadata": {},
   "outputs": [],
   "source": [
    "df['daily_length_ratio'] =  df['daily_mean'] / df['total_length']"
   ]
  },
  {
   "cell_type": "code",
   "execution_count": 68,
   "metadata": {},
   "outputs": [
    {
     "data": {
      "application/vnd.plotly.v1+json": {
       "config": {
        "linkText": "Export to plot.ly",
        "plotlyServerURL": "https://plot.ly",
        "showLink": true
       },
       "data": [
        {
         "histfunc": "count",
         "histnorm": "",
         "marker": {
          "color": "rgba(255, 153, 51, 1.0)",
          "line": {
           "color": "#666666",
           "width": 2
          }
         },
         "name": "daily_length_ratio",
         "opacity": 0.8,
         "orientation": "v",
         "type": "histogram",
         "x": [
          1.1042447991394753,
          0.030013510452464868,
          null,
          -1.954459806341116,
          -0.39481353833443633,
          -0.6690475735037917,
          0.545655949924231,
          0.10392435387229236,
          1.0303610877831706,
          -1.5446451920128712,
          -0.4144058964799445,
          -0.39133707848955457,
          0.48947398325436714,
          null,
          null,
          0.4174325614051245,
          0.6462674938203607,
          0.41725612580760696,
          -0.14544707381651642,
          null,
          null,
          -0.6612133023297474,
          -0.8038657531719027,
          -0.536810928704064,
          0.6708920931395029,
          0.23151074889865725,
          -0.2959369307619715,
          null,
          0.8914815972090225,
          0.4154539918106493,
          -0.2907770689903826,
          -0.4371388122821144,
          0.6588410857190633,
          -1.3987062702920836,
          null,
          -0.25136610379525054,
          0.5456559501254844,
          null,
          0.7471201375690539,
          -0.5356054175404503,
          0.6296388620014521,
          0.7506194484505871,
          null,
          -0.7505018448650749,
          null,
          null,
          0.2576797249048231,
          -0.9368543996826706,
          0.28847462829807097,
          -0.011516936469572043,
          null,
          -1.2565367771549636,
          -0.145194378868103,
          -2.3621470526944277,
          null,
          null,
          0.46321615113105397,
          0.1300533023031804,
          -0.08320615832014064,
          -2.154902861847582,
          -1.699152217060176,
          0.4971796348008778,
          -0.4205194171832039,
          null,
          null,
          0.29388319181714534,
          -0.7270710906589128,
          -1.4741735904938496,
          null,
          0.40677728575635297,
          0.39811324658668273,
          -1.6619420707216312,
          0.0565238846744921,
          -0.23912104659123723,
          null,
          -0.233609508295247,
          null,
          0.3004850508932131,
          0.7112564512454642,
          0.18845481293353064,
          1.2674141523397942,
          0.5550665034374167,
          -1.3246872426496166,
          0.03918429682245933,
          -1.1827965503188478,
          0.6094919558393291,
          0.16128202491701388,
          null,
          -0.1533893345536201,
          0.4388395130526058,
          null,
          null,
          null,
          null,
          0.6516175518165044,
          0.35412287471199505,
          -0.41289507065594744,
          0.2023303739016602,
          null,
          -0.4750953643530905,
          0.27290332758760705,
          null,
          null,
          -0.3454596515554217,
          0.10210946950090144,
          0.7795578734063887,
          -0.2877503294079828,
          0.5541728347563415,
          null,
          0.627880024897668,
          0.3631830131057505,
          null,
          -0.5568905707656302,
          -0.6130091568216564,
          0.6714758612760264,
          null,
          0.5119492057581393,
          -0.3799438820046126,
          -0.0917999895508849,
          0.14868726622500722,
          -0.34946295558826196,
          0.6195419274486139,
          null,
          null,
          0.022130180755184088,
          null,
          0.1685754151343777,
          0.2661744664002626,
          -0.5501790654125437,
          -0.16124109498111894,
          0.6194164939511986,
          -0.1423873345455529,
          0.12115155876056989,
          null,
          null,
          null,
          -0.9089777500638836,
          0.23470456161614864,
          -0.6913639059761649,
          -0.5603015303360024,
          null,
          0.43592469140664863,
          -1.1397846233365678,
          -2.3393779188250337,
          null,
          -0.7042026722054092,
          -1.4615809092820187,
          0.7935514923863074,
          -0.642802743617351,
          0.04165672514268328,
          0.33896206208535146,
          -0.21229219793239004,
          null,
          -0.3466754200725953,
          null,
          0.5820108193758748,
          0.8271882460032135,
          null,
          0.684229232313075,
          null,
          null,
          0.04934730053304035,
          0.18990889628330107,
          null,
          0.31734297117062665,
          1.0357452140670445,
          -0.9051944767462938,
          0.20933718959681238,
          null,
          0.7704955549986585,
          0.13269067392809264,
          -1.3904975477805055,
          null,
          -0.20736998378677912,
          -1.240311454518213,
          -1.0845358496846875,
          null,
          null,
          0.5481141610402194,
          -1.3280773509648922,
          0.3240267229108511,
          0.38159076222167876,
          0.3545200899337098,
          0.06882222440790992,
          0.05591963199118665,
          null,
          null,
          -1.2824899809508048,
          null,
          null,
          0.6566703365603553,
          0.6817626184437714,
          0.8752702293638832,
          -0.1876133628624422
         ]
        }
       ],
       "layout": {
        "barmode": "overlay",
        "height": 500,
        "legend": {
         "bgcolor": "#FFFFFF",
         "bordercolor": "#444444",
         "borderwidth": 0,
         "font": {
          "size": 12
         },
         "itemclick": "toggle",
         "itemdoubleclick": "toggleothers",
         "itemsizing": "trace",
         "traceorder": "normal"
        },
        "paper_bgcolor": "#FFFFFF",
        "plot_bgcolor": "#FFFFFF",
        "template": {
         "data": {
          "bar": [
           {
            "error_x": {
             "color": "#2a3f5f"
            },
            "error_y": {
             "color": "#2a3f5f"
            },
            "marker": {
             "line": {
              "color": "#E5ECF6",
              "width": 0.5
             }
            },
            "type": "bar"
           }
          ],
          "barpolar": [
           {
            "marker": {
             "line": {
              "color": "#E5ECF6",
              "width": 0.5
             }
            },
            "type": "barpolar"
           }
          ],
          "carpet": [
           {
            "aaxis": {
             "endlinecolor": "#2a3f5f",
             "gridcolor": "white",
             "linecolor": "white",
             "minorgridcolor": "white",
             "startlinecolor": "#2a3f5f"
            },
            "baxis": {
             "endlinecolor": "#2a3f5f",
             "gridcolor": "white",
             "linecolor": "white",
             "minorgridcolor": "white",
             "startlinecolor": "#2a3f5f"
            },
            "type": "carpet"
           }
          ],
          "choropleth": [
           {
            "colorbar": {
             "outlinewidth": 0,
             "ticks": ""
            },
            "type": "choropleth"
           }
          ],
          "contour": [
           {
            "colorbar": {
             "outlinewidth": 0,
             "ticks": ""
            },
            "colorscale": [
             [
              0,
              "#0d0887"
             ],
             [
              0.1111111111111111,
              "#46039f"
             ],
             [
              0.2222222222222222,
              "#7201a8"
             ],
             [
              0.3333333333333333,
              "#9c179e"
             ],
             [
              0.4444444444444444,
              "#bd3786"
             ],
             [
              0.5555555555555556,
              "#d8576b"
             ],
             [
              0.6666666666666666,
              "#ed7953"
             ],
             [
              0.7777777777777778,
              "#fb9f3a"
             ],
             [
              0.8888888888888888,
              "#fdca26"
             ],
             [
              1,
              "#f0f921"
             ]
            ],
            "type": "contour"
           }
          ],
          "contourcarpet": [
           {
            "colorbar": {
             "outlinewidth": 0,
             "ticks": ""
            },
            "type": "contourcarpet"
           }
          ],
          "heatmap": [
           {
            "colorbar": {
             "outlinewidth": 0,
             "ticks": ""
            },
            "colorscale": [
             [
              0,
              "#0d0887"
             ],
             [
              0.1111111111111111,
              "#46039f"
             ],
             [
              0.2222222222222222,
              "#7201a8"
             ],
             [
              0.3333333333333333,
              "#9c179e"
             ],
             [
              0.4444444444444444,
              "#bd3786"
             ],
             [
              0.5555555555555556,
              "#d8576b"
             ],
             [
              0.6666666666666666,
              "#ed7953"
             ],
             [
              0.7777777777777778,
              "#fb9f3a"
             ],
             [
              0.8888888888888888,
              "#fdca26"
             ],
             [
              1,
              "#f0f921"
             ]
            ],
            "type": "heatmap"
           }
          ],
          "heatmapgl": [
           {
            "colorbar": {
             "outlinewidth": 0,
             "ticks": ""
            },
            "colorscale": [
             [
              0,
              "#0d0887"
             ],
             [
              0.1111111111111111,
              "#46039f"
             ],
             [
              0.2222222222222222,
              "#7201a8"
             ],
             [
              0.3333333333333333,
              "#9c179e"
             ],
             [
              0.4444444444444444,
              "#bd3786"
             ],
             [
              0.5555555555555556,
              "#d8576b"
             ],
             [
              0.6666666666666666,
              "#ed7953"
             ],
             [
              0.7777777777777778,
              "#fb9f3a"
             ],
             [
              0.8888888888888888,
              "#fdca26"
             ],
             [
              1,
              "#f0f921"
             ]
            ],
            "type": "heatmapgl"
           }
          ],
          "histogram": [
           {
            "marker": {
             "colorbar": {
              "outlinewidth": 0,
              "ticks": ""
             }
            },
            "type": "histogram"
           }
          ],
          "histogram2d": [
           {
            "colorbar": {
             "outlinewidth": 0,
             "ticks": ""
            },
            "colorscale": [
             [
              0,
              "#0d0887"
             ],
             [
              0.1111111111111111,
              "#46039f"
             ],
             [
              0.2222222222222222,
              "#7201a8"
             ],
             [
              0.3333333333333333,
              "#9c179e"
             ],
             [
              0.4444444444444444,
              "#bd3786"
             ],
             [
              0.5555555555555556,
              "#d8576b"
             ],
             [
              0.6666666666666666,
              "#ed7953"
             ],
             [
              0.7777777777777778,
              "#fb9f3a"
             ],
             [
              0.8888888888888888,
              "#fdca26"
             ],
             [
              1,
              "#f0f921"
             ]
            ],
            "type": "histogram2d"
           }
          ],
          "histogram2dcontour": [
           {
            "colorbar": {
             "outlinewidth": 0,
             "ticks": ""
            },
            "colorscale": [
             [
              0,
              "#0d0887"
             ],
             [
              0.1111111111111111,
              "#46039f"
             ],
             [
              0.2222222222222222,
              "#7201a8"
             ],
             [
              0.3333333333333333,
              "#9c179e"
             ],
             [
              0.4444444444444444,
              "#bd3786"
             ],
             [
              0.5555555555555556,
              "#d8576b"
             ],
             [
              0.6666666666666666,
              "#ed7953"
             ],
             [
              0.7777777777777778,
              "#fb9f3a"
             ],
             [
              0.8888888888888888,
              "#fdca26"
             ],
             [
              1,
              "#f0f921"
             ]
            ],
            "type": "histogram2dcontour"
           }
          ],
          "mesh3d": [
           {
            "colorbar": {
             "outlinewidth": 0,
             "ticks": ""
            },
            "type": "mesh3d"
           }
          ],
          "parcoords": [
           {
            "line": {
             "colorbar": {
              "outlinewidth": 0,
              "ticks": ""
             }
            },
            "type": "parcoords"
           }
          ],
          "pie": [
           {
            "automargin": true,
            "type": "pie"
           }
          ],
          "scatter": [
           {
            "marker": {
             "colorbar": {
              "outlinewidth": 0,
              "ticks": ""
             }
            },
            "type": "scatter"
           }
          ],
          "scatter3d": [
           {
            "line": {
             "colorbar": {
              "outlinewidth": 0,
              "ticks": ""
             }
            },
            "marker": {
             "colorbar": {
              "outlinewidth": 0,
              "ticks": ""
             }
            },
            "type": "scatter3d"
           }
          ],
          "scattercarpet": [
           {
            "marker": {
             "colorbar": {
              "outlinewidth": 0,
              "ticks": ""
             }
            },
            "type": "scattercarpet"
           }
          ],
          "scattergeo": [
           {
            "marker": {
             "colorbar": {
              "outlinewidth": 0,
              "ticks": ""
             }
            },
            "type": "scattergeo"
           }
          ],
          "scattergl": [
           {
            "marker": {
             "colorbar": {
              "outlinewidth": 0,
              "ticks": ""
             }
            },
            "type": "scattergl"
           }
          ],
          "scattermapbox": [
           {
            "marker": {
             "colorbar": {
              "outlinewidth": 0,
              "ticks": ""
             }
            },
            "type": "scattermapbox"
           }
          ],
          "scatterpolar": [
           {
            "marker": {
             "colorbar": {
              "outlinewidth": 0,
              "ticks": ""
             }
            },
            "type": "scatterpolar"
           }
          ],
          "scatterpolargl": [
           {
            "marker": {
             "colorbar": {
              "outlinewidth": 0,
              "ticks": ""
             }
            },
            "type": "scatterpolargl"
           }
          ],
          "scatterternary": [
           {
            "marker": {
             "colorbar": {
              "outlinewidth": 0,
              "ticks": ""
             }
            },
            "type": "scatterternary"
           }
          ],
          "surface": [
           {
            "colorbar": {
             "outlinewidth": 0,
             "ticks": ""
            },
            "colorscale": [
             [
              0,
              "#0d0887"
             ],
             [
              0.1111111111111111,
              "#46039f"
             ],
             [
              0.2222222222222222,
              "#7201a8"
             ],
             [
              0.3333333333333333,
              "#9c179e"
             ],
             [
              0.4444444444444444,
              "#bd3786"
             ],
             [
              0.5555555555555556,
              "#d8576b"
             ],
             [
              0.6666666666666666,
              "#ed7953"
             ],
             [
              0.7777777777777778,
              "#fb9f3a"
             ],
             [
              0.8888888888888888,
              "#fdca26"
             ],
             [
              1,
              "#f0f921"
             ]
            ],
            "type": "surface"
           }
          ],
          "table": [
           {
            "cells": {
             "fill": {
              "color": "#EBF0F8"
             },
             "line": {
              "color": "white"
             }
            },
            "header": {
             "fill": {
              "color": "#C8D4E3"
             },
             "line": {
              "color": "white"
             }
            },
            "type": "table"
           }
          ]
         },
         "layout": {
          "annotationdefaults": {
           "arrowcolor": "#2a3f5f",
           "arrowhead": 0,
           "arrowwidth": 1
          },
          "coloraxis": {
           "colorbar": {
            "outlinewidth": 0,
            "ticks": ""
           }
          },
          "colorscale": {
           "diverging": [
            [
             0,
             "#8e0152"
            ],
            [
             0.1,
             "#c51b7d"
            ],
            [
             0.2,
             "#de77ae"
            ],
            [
             0.3,
             "#f1b6da"
            ],
            [
             0.4,
             "#fde0ef"
            ],
            [
             0.5,
             "#f7f7f7"
            ],
            [
             0.6,
             "#e6f5d0"
            ],
            [
             0.7,
             "#b8e186"
            ],
            [
             0.8,
             "#7fbc41"
            ],
            [
             0.9,
             "#4d9221"
            ],
            [
             1,
             "#276419"
            ]
           ],
           "sequential": [
            [
             0,
             "#0d0887"
            ],
            [
             0.1111111111111111,
             "#46039f"
            ],
            [
             0.2222222222222222,
             "#7201a8"
            ],
            [
             0.3333333333333333,
             "#9c179e"
            ],
            [
             0.4444444444444444,
             "#bd3786"
            ],
            [
             0.5555555555555556,
             "#d8576b"
            ],
            [
             0.6666666666666666,
             "#ed7953"
            ],
            [
             0.7777777777777778,
             "#fb9f3a"
            ],
            [
             0.8888888888888888,
             "#fdca26"
            ],
            [
             1,
             "#f0f921"
            ]
           ],
           "sequentialminus": [
            [
             0,
             "#0d0887"
            ],
            [
             0.1111111111111111,
             "#46039f"
            ],
            [
             0.2222222222222222,
             "#7201a8"
            ],
            [
             0.3333333333333333,
             "#9c179e"
            ],
            [
             0.4444444444444444,
             "#bd3786"
            ],
            [
             0.5555555555555556,
             "#d8576b"
            ],
            [
             0.6666666666666666,
             "#ed7953"
            ],
            [
             0.7777777777777778,
             "#fb9f3a"
            ],
            [
             0.8888888888888888,
             "#fdca26"
            ],
            [
             1,
             "#f0f921"
            ]
           ]
          },
          "colorway": [
           "#636efa",
           "#EF553B",
           "#00cc96",
           "#ab63fa",
           "#FFA15A",
           "#19d3f3",
           "#FF6692",
           "#B6E880",
           "#FF97FF",
           "#FECB52"
          ],
          "font": {
           "color": "#2a3f5f"
          },
          "geo": {
           "bgcolor": "white",
           "lakecolor": "white",
           "landcolor": "#E5ECF6",
           "showlakes": true,
           "showland": true,
           "subunitcolor": "white"
          },
          "hoverlabel": {
           "align": "left"
          },
          "hovermode": "closest",
          "mapbox": {
           "style": "light"
          },
          "paper_bgcolor": "white",
          "plot_bgcolor": "#E5ECF6",
          "polar": {
           "angularaxis": {
            "gridcolor": "white",
            "linecolor": "white",
            "ticks": ""
           },
           "bgcolor": "#E5ECF6",
           "radialaxis": {
            "gridcolor": "white",
            "linecolor": "white",
            "ticks": ""
           }
          },
          "scene": {
           "xaxis": {
            "backgroundcolor": "#E5ECF6",
            "gridcolor": "white",
            "gridwidth": 2,
            "linecolor": "white",
            "showbackground": true,
            "ticks": "",
            "zerolinecolor": "white"
           },
           "yaxis": {
            "backgroundcolor": "#E5ECF6",
            "gridcolor": "white",
            "gridwidth": 2,
            "linecolor": "white",
            "showbackground": true,
            "ticks": "",
            "zerolinecolor": "white"
           },
           "zaxis": {
            "backgroundcolor": "#E5ECF6",
            "gridcolor": "white",
            "gridwidth": 2,
            "linecolor": "white",
            "showbackground": true,
            "ticks": "",
            "zerolinecolor": "white"
           }
          },
          "shapedefaults": {
           "line": {
            "color": "#2a3f5f"
           }
          },
          "ternary": {
           "aaxis": {
            "gridcolor": "white",
            "linecolor": "white",
            "ticks": ""
           },
           "baxis": {
            "gridcolor": "white",
            "linecolor": "white",
            "ticks": ""
           },
           "bgcolor": "#E5ECF6",
           "caxis": {
            "gridcolor": "white",
            "linecolor": "white",
            "ticks": ""
           }
          },
          "title": {
           "x": 0.05
          },
          "xaxis": {
           "automargin": true,
           "gridcolor": "white",
           "linecolor": "white",
           "ticks": "",
           "title": {
            "standoff": 15
           },
           "zerolinecolor": "white",
           "zerolinewidth": 2
          },
          "yaxis": {
           "automargin": true,
           "gridcolor": "white",
           "linecolor": "white",
           "ticks": "",
           "title": {
            "standoff": 15
           },
           "zerolinecolor": "white",
           "zerolinewidth": 2
          }
         }
        },
        "title": {
         "font": {
          "color": "#4D5663",
          "size": 17
         },
         "text": "Daily TCP Mean over Network Lenth",
         "x": 0.5
        },
        "width": 700,
        "xaxis": {
         "automargin": true,
         "gridcolor": "#E1E5ED",
         "linecolor": "#000000",
         "mirror": "ticks",
         "showline": true,
         "tickfont": {
          "size": 15
         },
         "title": {
          "font": {
           "color": "#666666",
           "size": 16
          },
          "text": "Daily TCP Mean over Network Lenth (log10)"
         },
         "zerolinecolor": "#000000",
         "zerolinewidth": 2
        },
        "yaxis": {
         "automargin": true,
         "gridcolor": "#E1E5ED",
         "linecolor": "#000000",
         "mirror": "ticks",
         "showline": true,
         "tickfont": {
          "size": 15
         },
         "title": {
          "font": {
           "color": "#666666",
           "size": 16
          },
          "text": "# regions"
         },
         "zerolinecolor": "#000000",
         "zerolinewidth": 2
        }
       }
      },
      "text/html": [
       "<div>\n",
       "        \n",
       "        \n",
       "            <div id=\"c1719e0a-2dbc-41f8-9f31-ef6ab0da28e9\" class=\"plotly-graph-div\" style=\"height:500px; width:700px;\"></div>\n",
       "            <script type=\"text/javascript\">\n",
       "                require([\"plotly\"], function(Plotly) {\n",
       "                    window.PLOTLYENV=window.PLOTLYENV || {};\n",
       "                    window.PLOTLYENV.BASE_URL='https://plot.ly';\n",
       "                    \n",
       "                if (document.getElementById(\"c1719e0a-2dbc-41f8-9f31-ef6ab0da28e9\")) {\n",
       "                    Plotly.newPlot(\n",
       "                        'c1719e0a-2dbc-41f8-9f31-ef6ab0da28e9',\n",
       "                        [{\"histfunc\": \"count\", \"histnorm\": \"\", \"marker\": {\"color\": \"rgba(255, 153, 51, 1.0)\", \"line\": {\"color\": \"#666666\", \"width\": 2}}, \"name\": \"daily_length_ratio\", \"opacity\": 0.8, \"orientation\": \"v\", \"type\": \"histogram\", \"x\": [1.1042447991394753, 0.030013510452464868, null, -1.954459806341116, -0.39481353833443633, -0.6690475735037917, 0.545655949924231, 0.10392435387229236, 1.0303610877831706, -1.5446451920128712, -0.4144058964799445, -0.39133707848955457, 0.48947398325436714, null, null, 0.4174325614051245, 0.6462674938203607, 0.41725612580760696, -0.14544707381651642, null, null, -0.6612133023297474, -0.8038657531719027, -0.536810928704064, 0.6708920931395029, 0.23151074889865725, -0.2959369307619715, null, 0.8914815972090225, 0.4154539918106493, -0.2907770689903826, -0.4371388122821144, 0.6588410857190633, -1.3987062702920836, null, -0.25136610379525054, 0.5456559501254844, null, 0.7471201375690539, -0.5356054175404503, 0.6296388620014521, 0.7506194484505871, null, -0.7505018448650749, null, null, 0.2576797249048231, -0.9368543996826706, 0.28847462829807097, -0.011516936469572043, null, -1.2565367771549636, -0.145194378868103, -2.3621470526944277, null, null, 0.46321615113105397, 0.1300533023031804, -0.08320615832014064, -2.154902861847582, -1.699152217060176, 0.4971796348008778, -0.4205194171832039, null, null, 0.29388319181714534, -0.7270710906589128, -1.4741735904938496, null, 0.40677728575635297, 0.39811324658668273, -1.6619420707216312, 0.0565238846744921, -0.23912104659123723, null, -0.233609508295247, null, 0.3004850508932131, 0.7112564512454642, 0.18845481293353064, 1.2674141523397942, 0.5550665034374167, -1.3246872426496166, 0.03918429682245933, -1.1827965503188478, 0.6094919558393291, 0.16128202491701388, null, -0.1533893345536201, 0.4388395130526058, null, null, null, null, 0.6516175518165044, 0.35412287471199505, -0.41289507065594744, 0.2023303739016602, null, -0.4750953643530905, 0.27290332758760705, null, null, -0.3454596515554217, 0.10210946950090144, 0.7795578734063887, -0.2877503294079828, 0.5541728347563415, null, 0.627880024897668, 0.3631830131057505, null, -0.5568905707656302, -0.6130091568216564, 0.6714758612760264, null, 0.5119492057581393, -0.3799438820046126, -0.0917999895508849, 0.14868726622500722, -0.34946295558826196, 0.6195419274486139, null, null, 0.022130180755184088, null, 0.1685754151343777, 0.2661744664002626, -0.5501790654125437, -0.16124109498111894, 0.6194164939511986, -0.1423873345455529, 0.12115155876056989, null, null, null, -0.9089777500638836, 0.23470456161614864, -0.6913639059761649, -0.5603015303360024, null, 0.43592469140664863, -1.1397846233365678, -2.3393779188250337, null, -0.7042026722054092, -1.4615809092820187, 0.7935514923863074, -0.642802743617351, 0.04165672514268328, 0.33896206208535146, -0.21229219793239004, null, -0.3466754200725953, null, 0.5820108193758748, 0.8271882460032135, null, 0.684229232313075, null, null, 0.04934730053304035, 0.18990889628330107, null, 0.31734297117062665, 1.0357452140670445, -0.9051944767462938, 0.20933718959681238, null, 0.7704955549986585, 0.13269067392809264, -1.3904975477805055, null, -0.20736998378677912, -1.240311454518213, -1.0845358496846875, null, null, 0.5481141610402194, -1.3280773509648922, 0.3240267229108511, 0.38159076222167876, 0.3545200899337098, 0.06882222440790992, 0.05591963199118665, null, null, -1.2824899809508048, null, null, 0.6566703365603553, 0.6817626184437714, 0.8752702293638832, -0.1876133628624422]}],\n",
       "                        {\"barmode\": \"overlay\", \"height\": 500, \"legend\": {\"bgcolor\": \"#FFFFFF\", \"bordercolor\": \"#444444\", \"borderwidth\": 0, \"font\": {\"size\": 12}, \"itemclick\": \"toggle\", \"itemdoubleclick\": \"toggleothers\", \"itemsizing\": \"trace\", \"traceorder\": \"normal\"}, \"paper_bgcolor\": \"#FFFFFF\", \"plot_bgcolor\": \"#FFFFFF\", \"template\": {\"data\": {\"bar\": [{\"error_x\": {\"color\": \"#2a3f5f\"}, \"error_y\": {\"color\": \"#2a3f5f\"}, \"marker\": {\"line\": {\"color\": \"#E5ECF6\", \"width\": 0.5}}, \"type\": \"bar\"}], \"barpolar\": [{\"marker\": {\"line\": {\"color\": \"#E5ECF6\", \"width\": 0.5}}, \"type\": \"barpolar\"}], \"carpet\": [{\"aaxis\": {\"endlinecolor\": \"#2a3f5f\", \"gridcolor\": \"white\", \"linecolor\": \"white\", \"minorgridcolor\": \"white\", \"startlinecolor\": \"#2a3f5f\"}, \"baxis\": {\"endlinecolor\": \"#2a3f5f\", \"gridcolor\": \"white\", \"linecolor\": \"white\", \"minorgridcolor\": \"white\", \"startlinecolor\": \"#2a3f5f\"}, \"type\": \"carpet\"}], \"choropleth\": [{\"colorbar\": {\"outlinewidth\": 0, \"ticks\": \"\"}, \"type\": \"choropleth\"}], \"contour\": [{\"colorbar\": {\"outlinewidth\": 0, \"ticks\": \"\"}, \"colorscale\": [[0.0, \"#0d0887\"], [0.1111111111111111, \"#46039f\"], [0.2222222222222222, \"#7201a8\"], [0.3333333333333333, \"#9c179e\"], [0.4444444444444444, \"#bd3786\"], [0.5555555555555556, \"#d8576b\"], [0.6666666666666666, \"#ed7953\"], [0.7777777777777778, \"#fb9f3a\"], [0.8888888888888888, \"#fdca26\"], [1.0, \"#f0f921\"]], \"type\": \"contour\"}], \"contourcarpet\": [{\"colorbar\": {\"outlinewidth\": 0, \"ticks\": \"\"}, \"type\": \"contourcarpet\"}], \"heatmap\": [{\"colorbar\": {\"outlinewidth\": 0, \"ticks\": \"\"}, \"colorscale\": [[0.0, \"#0d0887\"], [0.1111111111111111, \"#46039f\"], [0.2222222222222222, \"#7201a8\"], [0.3333333333333333, \"#9c179e\"], [0.4444444444444444, \"#bd3786\"], [0.5555555555555556, \"#d8576b\"], [0.6666666666666666, \"#ed7953\"], [0.7777777777777778, \"#fb9f3a\"], [0.8888888888888888, \"#fdca26\"], [1.0, \"#f0f921\"]], \"type\": \"heatmap\"}], \"heatmapgl\": [{\"colorbar\": {\"outlinewidth\": 0, \"ticks\": \"\"}, \"colorscale\": [[0.0, \"#0d0887\"], [0.1111111111111111, \"#46039f\"], [0.2222222222222222, \"#7201a8\"], [0.3333333333333333, \"#9c179e\"], [0.4444444444444444, \"#bd3786\"], [0.5555555555555556, \"#d8576b\"], [0.6666666666666666, \"#ed7953\"], [0.7777777777777778, \"#fb9f3a\"], [0.8888888888888888, \"#fdca26\"], [1.0, \"#f0f921\"]], \"type\": \"heatmapgl\"}], \"histogram\": [{\"marker\": {\"colorbar\": {\"outlinewidth\": 0, \"ticks\": \"\"}}, \"type\": \"histogram\"}], \"histogram2d\": [{\"colorbar\": {\"outlinewidth\": 0, \"ticks\": \"\"}, \"colorscale\": [[0.0, \"#0d0887\"], [0.1111111111111111, \"#46039f\"], [0.2222222222222222, \"#7201a8\"], [0.3333333333333333, \"#9c179e\"], [0.4444444444444444, \"#bd3786\"], [0.5555555555555556, \"#d8576b\"], [0.6666666666666666, \"#ed7953\"], [0.7777777777777778, \"#fb9f3a\"], [0.8888888888888888, \"#fdca26\"], [1.0, \"#f0f921\"]], \"type\": \"histogram2d\"}], \"histogram2dcontour\": [{\"colorbar\": {\"outlinewidth\": 0, \"ticks\": \"\"}, \"colorscale\": [[0.0, \"#0d0887\"], [0.1111111111111111, \"#46039f\"], [0.2222222222222222, \"#7201a8\"], [0.3333333333333333, \"#9c179e\"], [0.4444444444444444, \"#bd3786\"], [0.5555555555555556, \"#d8576b\"], [0.6666666666666666, \"#ed7953\"], [0.7777777777777778, \"#fb9f3a\"], [0.8888888888888888, \"#fdca26\"], [1.0, \"#f0f921\"]], \"type\": \"histogram2dcontour\"}], \"mesh3d\": [{\"colorbar\": {\"outlinewidth\": 0, \"ticks\": \"\"}, \"type\": \"mesh3d\"}], \"parcoords\": [{\"line\": {\"colorbar\": {\"outlinewidth\": 0, \"ticks\": \"\"}}, \"type\": \"parcoords\"}], \"pie\": [{\"automargin\": true, \"type\": \"pie\"}], \"scatter\": [{\"marker\": {\"colorbar\": {\"outlinewidth\": 0, \"ticks\": \"\"}}, \"type\": \"scatter\"}], \"scatter3d\": [{\"line\": {\"colorbar\": {\"outlinewidth\": 0, \"ticks\": \"\"}}, \"marker\": {\"colorbar\": {\"outlinewidth\": 0, \"ticks\": \"\"}}, \"type\": \"scatter3d\"}], \"scattercarpet\": [{\"marker\": {\"colorbar\": {\"outlinewidth\": 0, \"ticks\": \"\"}}, \"type\": \"scattercarpet\"}], \"scattergeo\": [{\"marker\": {\"colorbar\": {\"outlinewidth\": 0, \"ticks\": \"\"}}, \"type\": \"scattergeo\"}], \"scattergl\": [{\"marker\": {\"colorbar\": {\"outlinewidth\": 0, \"ticks\": \"\"}}, \"type\": \"scattergl\"}], \"scattermapbox\": [{\"marker\": {\"colorbar\": {\"outlinewidth\": 0, \"ticks\": \"\"}}, \"type\": \"scattermapbox\"}], \"scatterpolar\": [{\"marker\": {\"colorbar\": {\"outlinewidth\": 0, \"ticks\": \"\"}}, \"type\": \"scatterpolar\"}], \"scatterpolargl\": [{\"marker\": {\"colorbar\": {\"outlinewidth\": 0, \"ticks\": \"\"}}, \"type\": \"scatterpolargl\"}], \"scatterternary\": [{\"marker\": {\"colorbar\": {\"outlinewidth\": 0, \"ticks\": \"\"}}, \"type\": \"scatterternary\"}], \"surface\": [{\"colorbar\": {\"outlinewidth\": 0, \"ticks\": \"\"}, \"colorscale\": [[0.0, \"#0d0887\"], [0.1111111111111111, \"#46039f\"], [0.2222222222222222, \"#7201a8\"], [0.3333333333333333, \"#9c179e\"], [0.4444444444444444, \"#bd3786\"], [0.5555555555555556, \"#d8576b\"], [0.6666666666666666, \"#ed7953\"], [0.7777777777777778, \"#fb9f3a\"], [0.8888888888888888, \"#fdca26\"], [1.0, \"#f0f921\"]], \"type\": \"surface\"}], \"table\": [{\"cells\": {\"fill\": {\"color\": \"#EBF0F8\"}, \"line\": {\"color\": \"white\"}}, \"header\": {\"fill\": {\"color\": \"#C8D4E3\"}, \"line\": {\"color\": \"white\"}}, \"type\": \"table\"}]}, \"layout\": {\"annotationdefaults\": {\"arrowcolor\": \"#2a3f5f\", \"arrowhead\": 0, \"arrowwidth\": 1}, \"coloraxis\": {\"colorbar\": {\"outlinewidth\": 0, \"ticks\": \"\"}}, \"colorscale\": {\"diverging\": [[0, \"#8e0152\"], [0.1, \"#c51b7d\"], [0.2, \"#de77ae\"], [0.3, \"#f1b6da\"], [0.4, \"#fde0ef\"], [0.5, \"#f7f7f7\"], [0.6, \"#e6f5d0\"], [0.7, \"#b8e186\"], [0.8, \"#7fbc41\"], [0.9, \"#4d9221\"], [1, \"#276419\"]], \"sequential\": [[0.0, \"#0d0887\"], [0.1111111111111111, \"#46039f\"], [0.2222222222222222, \"#7201a8\"], [0.3333333333333333, \"#9c179e\"], [0.4444444444444444, \"#bd3786\"], [0.5555555555555556, \"#d8576b\"], [0.6666666666666666, \"#ed7953\"], [0.7777777777777778, \"#fb9f3a\"], [0.8888888888888888, \"#fdca26\"], [1.0, \"#f0f921\"]], \"sequentialminus\": [[0.0, \"#0d0887\"], [0.1111111111111111, \"#46039f\"], [0.2222222222222222, \"#7201a8\"], [0.3333333333333333, \"#9c179e\"], [0.4444444444444444, \"#bd3786\"], [0.5555555555555556, \"#d8576b\"], [0.6666666666666666, \"#ed7953\"], [0.7777777777777778, \"#fb9f3a\"], [0.8888888888888888, \"#fdca26\"], [1.0, \"#f0f921\"]]}, \"colorway\": [\"#636efa\", \"#EF553B\", \"#00cc96\", \"#ab63fa\", \"#FFA15A\", \"#19d3f3\", \"#FF6692\", \"#B6E880\", \"#FF97FF\", \"#FECB52\"], \"font\": {\"color\": \"#2a3f5f\"}, \"geo\": {\"bgcolor\": \"white\", \"lakecolor\": \"white\", \"landcolor\": \"#E5ECF6\", \"showlakes\": true, \"showland\": true, \"subunitcolor\": \"white\"}, \"hoverlabel\": {\"align\": \"left\"}, \"hovermode\": \"closest\", \"mapbox\": {\"style\": \"light\"}, \"paper_bgcolor\": \"white\", \"plot_bgcolor\": \"#E5ECF6\", \"polar\": {\"angularaxis\": {\"gridcolor\": \"white\", \"linecolor\": \"white\", \"ticks\": \"\"}, \"bgcolor\": \"#E5ECF6\", \"radialaxis\": {\"gridcolor\": \"white\", \"linecolor\": \"white\", \"ticks\": \"\"}}, \"scene\": {\"xaxis\": {\"backgroundcolor\": \"#E5ECF6\", \"gridcolor\": \"white\", \"gridwidth\": 2, \"linecolor\": \"white\", \"showbackground\": true, \"ticks\": \"\", \"zerolinecolor\": \"white\"}, \"yaxis\": {\"backgroundcolor\": \"#E5ECF6\", \"gridcolor\": \"white\", \"gridwidth\": 2, \"linecolor\": \"white\", \"showbackground\": true, \"ticks\": \"\", \"zerolinecolor\": \"white\"}, \"zaxis\": {\"backgroundcolor\": \"#E5ECF6\", \"gridcolor\": \"white\", \"gridwidth\": 2, \"linecolor\": \"white\", \"showbackground\": true, \"ticks\": \"\", \"zerolinecolor\": \"white\"}}, \"shapedefaults\": {\"line\": {\"color\": \"#2a3f5f\"}}, \"ternary\": {\"aaxis\": {\"gridcolor\": \"white\", \"linecolor\": \"white\", \"ticks\": \"\"}, \"baxis\": {\"gridcolor\": \"white\", \"linecolor\": \"white\", \"ticks\": \"\"}, \"bgcolor\": \"#E5ECF6\", \"caxis\": {\"gridcolor\": \"white\", \"linecolor\": \"white\", \"ticks\": \"\"}}, \"title\": {\"x\": 0.05}, \"xaxis\": {\"automargin\": true, \"gridcolor\": \"white\", \"linecolor\": \"white\", \"ticks\": \"\", \"title\": {\"standoff\": 15}, \"zerolinecolor\": \"white\", \"zerolinewidth\": 2}, \"yaxis\": {\"automargin\": true, \"gridcolor\": \"white\", \"linecolor\": \"white\", \"ticks\": \"\", \"title\": {\"standoff\": 15}, \"zerolinecolor\": \"white\", \"zerolinewidth\": 2}}}, \"title\": {\"font\": {\"color\": \"#4D5663\", \"size\": 17}, \"text\": \"Daily TCP Mean over Network Lenth\", \"x\": 0.5}, \"width\": 700, \"xaxis\": {\"automargin\": true, \"gridcolor\": \"#E1E5ED\", \"linecolor\": \"#000000\", \"mirror\": \"ticks\", \"showline\": true, \"tickfont\": {\"size\": 15}, \"title\": {\"font\": {\"color\": \"#666666\", \"size\": 16}, \"text\": \"Daily TCP Mean over Network Lenth (log10)\"}, \"zerolinecolor\": \"#000000\", \"zerolinewidth\": 2}, \"yaxis\": {\"automargin\": true, \"gridcolor\": \"#E1E5ED\", \"linecolor\": \"#000000\", \"mirror\": \"ticks\", \"showline\": true, \"tickfont\": {\"size\": 15}, \"title\": {\"font\": {\"color\": \"#666666\", \"size\": 16}, \"text\": \"# regions\"}, \"zerolinecolor\": \"#000000\", \"zerolinewidth\": 2}},\n",
       "                        {\"showLink\": true, \"linkText\": \"Export to plot.ly\", \"plotlyServerURL\": \"https://plot.ly\", \"responsive\": true}\n",
       "                    ).then(function(){\n",
       "                            \n",
       "var gd = document.getElementById('c1719e0a-2dbc-41f8-9f31-ef6ab0da28e9');\n",
       "var x = new MutationObserver(function (mutations, observer) {{\n",
       "        var display = window.getComputedStyle(gd).display;\n",
       "        if (!display || display === 'none') {{\n",
       "            console.log([gd, 'removed!']);\n",
       "            Plotly.purge(gd);\n",
       "            observer.disconnect();\n",
       "        }}\n",
       "}});\n",
       "\n",
       "// Listen for the removal of the full notebook cells\n",
       "var notebookContainer = gd.closest('#notebook-container');\n",
       "if (notebookContainer) {{\n",
       "    x.observe(notebookContainer, {childList: true});\n",
       "}}\n",
       "\n",
       "// Listen for the clearing of the current output cell\n",
       "var outputEl = gd.closest('.output');\n",
       "if (outputEl) {{\n",
       "    x.observe(outputEl, {childList: true});\n",
       "}}\n",
       "\n",
       "                        })\n",
       "                };\n",
       "                });\n",
       "            </script>\n",
       "        </div>"
      ]
     },
     "metadata": {},
     "output_type": "display_data"
    }
   ],
   "source": [
    "df[df['daily_length_ratio'] < 200]['daily_length_ratio'].apply(np.log10).iplot(\n",
    "    kind='hist', theme='custom',\n",
    "    title='Daily TCP Mean over Network Lenth',\n",
    "    xTitle='Daily TCP Mean over Network Lenth (log10)', yTitle='# regions'\n",
    ")"
   ]
  },
  {
   "cell_type": "code",
   "execution_count": 69,
   "metadata": {},
   "outputs": [
    {
     "data": {
      "application/vnd.plotly.v1+json": {
       "config": {
        "plotlyServerURL": "https://plot.ly"
       },
       "data": [
        {
         "hoverlabel": {
          "namelength": 0
         },
         "hovertemplate": "<b>%{hovertext}</b><br><br>region_type=city<br>total_length=%{x}<br>weekly_mean=%{y}",
         "hovertext": [
          "bogota",
          "managua",
          "kingston",
          "natal",
          "mendoza",
          "curitiba",
          "toluca",
          "barranquilla",
          "buenosaires",
          "paramaribo",
          "santodomingo",
          "saojosedoscampos",
          "panamacity",
          "sanfernado",
          "santiago",
          "fortaleza",
          "salvador",
          "manaus",
          "saopaulo",
          "teresina",
          "tegucigalpa",
          "georgetown",
          "ciudad_guayana",
          "montevideo",
          "merida",
          "porto_alergre",
          "arequipa",
          "tijuana",
          "saoluis",
          "cochabamba",
          "sorocaba",
          "joaopessoa",
          "mexicocity",
          "brasilia",
          "guadalajara",
          "lapaz",
          "nassau",
          "pereira",
          "asuncion",
          "santacruzdelasierra",
          "santiagocaballeros",
          "recife",
          "monterrey",
          "goiania",
          "guayaquil",
          "caracas",
          "guatemala",
          "cartagena",
          "belem",
          "pueble",
          "bridgetown",
          "riodejaneiro",
          "cucuta",
          "rosario",
          "quito",
          "campinas",
          "sanpedrosula",
          "maceio",
          "aguascalientes",
          "leon",
          "queretaro",
          "portauprince",
          "maracaibo",
          "cuenca",
          "barcelona",
          "medellin",
          "bucaramanga",
          "cordoba",
          "santos",
          "sanjose",
          "portofspain",
          "juarez",
          "sanluispotosi",
          "sansalvador",
          "santamarta",
          "valencia",
          "belohorizonte",
          "joinville",
          "vitoria",
          "maracay",
          "lima",
          "cali",
          "florianopolis",
          "torreon"
         ],
         "legendgroup": "region_type=city",
         "marker": {
          "color": "#636efa",
          "symbol": "circle"
         },
         "mode": "markers",
         "name": "region_type=city",
         "showlegend": true,
         "type": "scatter",
         "x": [
          8552341.21,
          2239902.08,
          1384098.48,
          6732125.97,
          3089897.23,
          7348502.6,
          6136666.17,
          2639515.32,
          30933171.94,
          1183306.95,
          7299170.72,
          2365061.2,
          2764961.01,
          917632.77,
          11004409.22,
          6732125.97,
          4206246.08,
          3659793.31,
          32536728.08,
          3320668.14,
          2085039.51,
          476718.56,
          2066247.33,
          3497729.6,
          4476866.04,
          8391221.97,
          2047208.81,
          5112669.24,
          3647914.36,
          3283487.02,
          2453605.58,
          2976535.15,
          40190429.32,
          7185451.29,
          11643281.33,
          3856207.02,
          959262.78,
          946731.26,
          6101621.58,
          6751472.15,
          2282452.91,
          6614950.94,
          13334999.73,
          8119324.16,
          4986853.62,
          3361654.08,
          6262595.46,
          1284823.98,
          3420718.9,
          7571375.34,
          1158405.05,
          17365642.39,
          1840273.8,
          3369242.9,
          5492209.54,
          7684727.72,
          1618492.79,
          2079899.71,
          3105139.64,
          4408240.76,
          4116198.06,
          2449439.58,
          2788671.98,
          1403538.07,
          1138576.33,
          3745773.63,
          1689460.34,
          5101973.49,
          2982651.54,
          4473574.9,
          1008703.31,
          5715830.87,
          3459381.1,
          2744860.18,
          913226.04,
          3383362.92,
          9612852.93,
          1616469.46,
          4502136.87,
          2651811.68,
          17380502.07,
          3313356,
          362257.74,
          4555559.77
         ],
         "xaxis": "x",
         "y": [
          748767202.9622643,
          16529493.20754717,
          3840346.8301886786,
          162864030.58490565,
          8642192.811320756,
          156203165.33962265,
          110505032.05660376,
          80502371.75471698,
          556797884.1132076,
          1777874.528301887,
          235603972.8679245,
          27756846.71698113,
          148315863.1509434,
          16449015.16981132,
          345481512.8301887,
          162864030.66037735,
          161819855.58490565,
          107426744.71698111,
          1261857522.528302,
          41392551.24528302,
          13983450.433962265,
          181862.13207547172,
          61809.07547169812,
          69987322.3773585,
          41595312.98113208,
          181560696.0943396,
          27737181.50943396,
          89834256.52830188,
          62831130.73584906,
          492504.5283018868,
          19246228.16981132,
          40946148.88679245,
          1423626591.6603773,
          76370539.3018868,
          287845132.245283,
          1257448.1698113207,
          433668.6603773585,
          26529903.35849057,
          60917811,
          32660749.05660377,
          43177583.64150944,
          204249580.9811321,
          207554847.45283017,
          89097855.16981132,
          64379402.67924529,
          29287310.13207547,
          259614668.6037736,
          31698116.943396226,
          100003317.3773585,
          120330240.35849056,
          1944770.150943396,
          561285353.3207548,
          5283911.754716981,
          10377347.528301887,
          157509234.3773585,
          78022685.50943395,
          7689297.584905662,
          59631520.49056604,
          28265045.50943396,
          52117894.49056604,
          77346016.22641508,
          1222641.4150943395,
          87909.64150943396,
          1910022.6603773586,
          270893.28301886795,
          160365157.50943395,
          25393762.773584906,
          21550780.05660377,
          78456753.33962265,
          206947390.18867925,
          33574509.2264151,
          44100515.39622641,
          49471875.43396226,
          111437863.39622642,
          8536620.113207547,
          1339843.6603773586,
          233874813.32075468,
          26802497.301886793,
          70138387.75471698,
          952949.075471698,
          542937262.8490566,
          109659866.79245284,
          18719959.188679244,
          20367859.05660377
         ],
         "yaxis": "y"
        },
        {
         "hoverlabel": {
          "namelength": 0
         },
         "hovertemplate": "<b>%{hovertext}</b><br><br>region_type=country<br>total_length=%{x}<br>weekly_mean=%{y}",
         "hovertext": [
          "country_guyana",
          "country_ecuador",
          "country_nicaragua",
          "country_venezuela",
          "country_barbados",
          "country_costa_rica",
          "country_haiti",
          "country_uruguay",
          "country_bolivia",
          "country_guatemala",
          "country_peru",
          "country_colombia",
          "country_chile",
          "country_argentina",
          "country_paraguay",
          "country_honduras",
          "country_el_salvador",
          "country_trinidad_and_tobago",
          "country_jamaica",
          "country_panama",
          "country_the_bahamas",
          "country_suriname",
          "country_belize",
          "country_mexico",
          "country_dominican_republic"
         ],
         "legendgroup": "region_type=country",
         "marker": {
          "color": "#EF553B",
          "symbol": "circle"
         },
         "mode": "markers",
         "name": "region_type=country",
         "showlegend": true,
         "type": "scatter",
         "x": [
          6241684.02,
          110653842.64,
          25571690.41,
          139103484.21,
          2300315.87,
          42042600.16,
          21717748.35,
          44642077.17,
          199169227.23999998,
          56776843.35,
          245723531.16,
          198164320.3,
          151818163.85,
          575779290.14,
          90047913.28,
          39274098.85,
          26153892.25,
          10123486.6,
          17337153.61,
          23366911.63,
          5999736.4,
          5602976.41,
          6865201.62,
          391093708.64,
          41058456.87
         ],
         "xaxis": "x",
         "y": [
          477374.2264150944,
          293479383.77358484,
          51164119.43396226,
          38251523.11320755,
          2813860.9056603773,
          562575986.8113208,
          2990057.7358490564,
          116745989.79245284,
          46032614.56603774,
          427929804.0377358,
          872395492.8113207,
          1921895292.7735848,
          1100198149.6415095,
          1117104932.4339623,
          76473839.98113208,
          55050252.81132075,
          198248563.9811321,
          107958291.6226415,
          14852525.79245283,
          260588652.754717,
          1681324.79245283,
          3176142.207547169,
          2221226.981132076,
          5679688889.547171,
          321617187.509434
         ],
         "yaxis": "y"
        },
        {
         "hoverlabel": {
          "namelength": 0
         },
         "hovertemplate": "<b>%{hovertext}</b><br><br>region_type=state<br>total_length=%{x}<br>weekly_mean=%{y}",
         "hovertext": [
          "br_states_paraiba",
          "br_states_sao_paulo",
          "br_states_amapa",
          "br_states_tocantins",
          "br_states_sergipe",
          "br_states_espirito_santo",
          "br_states_alagoas",
          "br_states_goias",
          "br_states_para",
          "br_states_roraima",
          "br_states_amazonas",
          "br_states_santa_catarina",
          "br_states_rondonia",
          "br_states_rio_grande_do_sul",
          "br_states_ceara",
          "br_states_mato_grosso_do_sul",
          "br_states_bahia",
          "br_states_maranhao",
          "br_states_acre",
          "br_states_minas_gerais",
          "br_states_rio_de_janeiro",
          "br_states_pernambuco",
          "br_states_piaui",
          "br_states_mato_grosso",
          "br_states_rio_grande_do_norte",
          "br_states_parana",
          "br_states_distrito_federal"
         ],
         "legendgroup": "region_type=state",
         "marker": {
          "color": "#00cc96",
          "symbol": "circle"
         },
         "mode": "markers",
         "name": "region_type=state",
         "showlegend": true,
         "type": "scatter",
         "x": [
          72253143.23,
          273709516.51,
          5462361.03,
          76107560,
          22540443.72,
          41327657.31,
          33282330.11,
          104906080.7,
          124786922.61,
          15146401.7,
          22751484.98,
          94462391.46,
          45291487.7,
          187197331.4,
          85406556.83,
          68403977.79,
          223231660.91,
          77087019.08,
          11975028.15,
          262010818.81,
          68664253.02,
          78296049.52,
          60752747.03,
          123897981.14,
          39961645.34,
          203385365.37,
          13394669.38
         ],
         "xaxis": "x",
         "y": [
          106616928.35849056,
          2394590450.5283017,
          26912269.433962263,
          82333966.88679245,
          78531252.6981132,
          145707099.66037735,
          83770654.0754717,
          404996763.98113215,
          250369056.05660376,
          12063464.924528304,
          112158544.33962265,
          537118081.5849056,
          58473957.86792453,
          743353861.1698114,
          343477821.84905666,
          182055281.07547167,
          514846092.6226415,
          239628569.58490565,
          22877205.16981132,
          1460616591.6981132,
          872814919.1509434,
          388480756.0754717,
          115154624.77358492,
          194213082.3773585,
          123875361.79245284,
          868893825.4528303,
          108086441.18867923
         ],
         "yaxis": "y"
        },
        {
         "hoverlabel": {
          "namelength": 0
         },
         "hovertemplate": "<b>%{hovertext}</b><br><br>region_type=submetro<br>total_length=%{x}<br>weekly_mean=%{y}",
         "hovertext": [
          "lima_metro1",
          "bogota_metro1",
          "lima_metro2",
          "bogota_metro2"
         ],
         "legendgroup": "region_type=submetro",
         "marker": {
          "color": "#ab63fa",
          "symbol": "circle"
         },
         "mode": "markers",
         "name": "region_type=submetro",
         "showlegend": true,
         "type": "scatter",
         "x": [
          2842856.32,
          2974819.36,
          13199025.83,
          5689517.58
         ],
         "xaxis": "x",
         "y": [
          209958273.71698117,
          379220447.509434,
          295466385.490566,
          425439346.22641516
         ],
         "yaxis": "y"
        }
       ],
       "layout": {
        "height": 600,
        "legend": {
         "tracegroupgap": 0
        },
        "template": {
         "data": {
          "bar": [
           {
            "error_x": {
             "color": "#2a3f5f"
            },
            "error_y": {
             "color": "#2a3f5f"
            },
            "marker": {
             "line": {
              "color": "white",
              "width": 0.5
             }
            },
            "type": "bar"
           }
          ],
          "barpolar": [
           {
            "marker": {
             "line": {
              "color": "white",
              "width": 0.5
             }
            },
            "type": "barpolar"
           }
          ],
          "carpet": [
           {
            "aaxis": {
             "endlinecolor": "#2a3f5f",
             "gridcolor": "#C8D4E3",
             "linecolor": "#C8D4E3",
             "minorgridcolor": "#C8D4E3",
             "startlinecolor": "#2a3f5f"
            },
            "baxis": {
             "endlinecolor": "#2a3f5f",
             "gridcolor": "#C8D4E3",
             "linecolor": "#C8D4E3",
             "minorgridcolor": "#C8D4E3",
             "startlinecolor": "#2a3f5f"
            },
            "type": "carpet"
           }
          ],
          "choropleth": [
           {
            "colorbar": {
             "outlinewidth": 0,
             "ticks": ""
            },
            "type": "choropleth"
           }
          ],
          "contour": [
           {
            "colorbar": {
             "outlinewidth": 0,
             "ticks": ""
            },
            "colorscale": [
             [
              0,
              "#0d0887"
             ],
             [
              0.1111111111111111,
              "#46039f"
             ],
             [
              0.2222222222222222,
              "#7201a8"
             ],
             [
              0.3333333333333333,
              "#9c179e"
             ],
             [
              0.4444444444444444,
              "#bd3786"
             ],
             [
              0.5555555555555556,
              "#d8576b"
             ],
             [
              0.6666666666666666,
              "#ed7953"
             ],
             [
              0.7777777777777778,
              "#fb9f3a"
             ],
             [
              0.8888888888888888,
              "#fdca26"
             ],
             [
              1,
              "#f0f921"
             ]
            ],
            "type": "contour"
           }
          ],
          "contourcarpet": [
           {
            "colorbar": {
             "outlinewidth": 0,
             "ticks": ""
            },
            "type": "contourcarpet"
           }
          ],
          "heatmap": [
           {
            "colorbar": {
             "outlinewidth": 0,
             "ticks": ""
            },
            "colorscale": [
             [
              0,
              "#0d0887"
             ],
             [
              0.1111111111111111,
              "#46039f"
             ],
             [
              0.2222222222222222,
              "#7201a8"
             ],
             [
              0.3333333333333333,
              "#9c179e"
             ],
             [
              0.4444444444444444,
              "#bd3786"
             ],
             [
              0.5555555555555556,
              "#d8576b"
             ],
             [
              0.6666666666666666,
              "#ed7953"
             ],
             [
              0.7777777777777778,
              "#fb9f3a"
             ],
             [
              0.8888888888888888,
              "#fdca26"
             ],
             [
              1,
              "#f0f921"
             ]
            ],
            "type": "heatmap"
           }
          ],
          "heatmapgl": [
           {
            "colorbar": {
             "outlinewidth": 0,
             "ticks": ""
            },
            "colorscale": [
             [
              0,
              "#0d0887"
             ],
             [
              0.1111111111111111,
              "#46039f"
             ],
             [
              0.2222222222222222,
              "#7201a8"
             ],
             [
              0.3333333333333333,
              "#9c179e"
             ],
             [
              0.4444444444444444,
              "#bd3786"
             ],
             [
              0.5555555555555556,
              "#d8576b"
             ],
             [
              0.6666666666666666,
              "#ed7953"
             ],
             [
              0.7777777777777778,
              "#fb9f3a"
             ],
             [
              0.8888888888888888,
              "#fdca26"
             ],
             [
              1,
              "#f0f921"
             ]
            ],
            "type": "heatmapgl"
           }
          ],
          "histogram": [
           {
            "marker": {
             "colorbar": {
              "outlinewidth": 0,
              "ticks": ""
             }
            },
            "type": "histogram"
           }
          ],
          "histogram2d": [
           {
            "colorbar": {
             "outlinewidth": 0,
             "ticks": ""
            },
            "colorscale": [
             [
              0,
              "#0d0887"
             ],
             [
              0.1111111111111111,
              "#46039f"
             ],
             [
              0.2222222222222222,
              "#7201a8"
             ],
             [
              0.3333333333333333,
              "#9c179e"
             ],
             [
              0.4444444444444444,
              "#bd3786"
             ],
             [
              0.5555555555555556,
              "#d8576b"
             ],
             [
              0.6666666666666666,
              "#ed7953"
             ],
             [
              0.7777777777777778,
              "#fb9f3a"
             ],
             [
              0.8888888888888888,
              "#fdca26"
             ],
             [
              1,
              "#f0f921"
             ]
            ],
            "type": "histogram2d"
           }
          ],
          "histogram2dcontour": [
           {
            "colorbar": {
             "outlinewidth": 0,
             "ticks": ""
            },
            "colorscale": [
             [
              0,
              "#0d0887"
             ],
             [
              0.1111111111111111,
              "#46039f"
             ],
             [
              0.2222222222222222,
              "#7201a8"
             ],
             [
              0.3333333333333333,
              "#9c179e"
             ],
             [
              0.4444444444444444,
              "#bd3786"
             ],
             [
              0.5555555555555556,
              "#d8576b"
             ],
             [
              0.6666666666666666,
              "#ed7953"
             ],
             [
              0.7777777777777778,
              "#fb9f3a"
             ],
             [
              0.8888888888888888,
              "#fdca26"
             ],
             [
              1,
              "#f0f921"
             ]
            ],
            "type": "histogram2dcontour"
           }
          ],
          "mesh3d": [
           {
            "colorbar": {
             "outlinewidth": 0,
             "ticks": ""
            },
            "type": "mesh3d"
           }
          ],
          "parcoords": [
           {
            "line": {
             "colorbar": {
              "outlinewidth": 0,
              "ticks": ""
             }
            },
            "type": "parcoords"
           }
          ],
          "pie": [
           {
            "automargin": true,
            "type": "pie"
           }
          ],
          "scatter": [
           {
            "marker": {
             "colorbar": {
              "outlinewidth": 0,
              "ticks": ""
             }
            },
            "type": "scatter"
           }
          ],
          "scatter3d": [
           {
            "line": {
             "colorbar": {
              "outlinewidth": 0,
              "ticks": ""
             }
            },
            "marker": {
             "colorbar": {
              "outlinewidth": 0,
              "ticks": ""
             }
            },
            "type": "scatter3d"
           }
          ],
          "scattercarpet": [
           {
            "marker": {
             "colorbar": {
              "outlinewidth": 0,
              "ticks": ""
             }
            },
            "type": "scattercarpet"
           }
          ],
          "scattergeo": [
           {
            "marker": {
             "colorbar": {
              "outlinewidth": 0,
              "ticks": ""
             }
            },
            "type": "scattergeo"
           }
          ],
          "scattergl": [
           {
            "marker": {
             "colorbar": {
              "outlinewidth": 0,
              "ticks": ""
             }
            },
            "type": "scattergl"
           }
          ],
          "scattermapbox": [
           {
            "marker": {
             "colorbar": {
              "outlinewidth": 0,
              "ticks": ""
             }
            },
            "type": "scattermapbox"
           }
          ],
          "scatterpolar": [
           {
            "marker": {
             "colorbar": {
              "outlinewidth": 0,
              "ticks": ""
             }
            },
            "type": "scatterpolar"
           }
          ],
          "scatterpolargl": [
           {
            "marker": {
             "colorbar": {
              "outlinewidth": 0,
              "ticks": ""
             }
            },
            "type": "scatterpolargl"
           }
          ],
          "scatterternary": [
           {
            "marker": {
             "colorbar": {
              "outlinewidth": 0,
              "ticks": ""
             }
            },
            "type": "scatterternary"
           }
          ],
          "surface": [
           {
            "colorbar": {
             "outlinewidth": 0,
             "ticks": ""
            },
            "colorscale": [
             [
              0,
              "#0d0887"
             ],
             [
              0.1111111111111111,
              "#46039f"
             ],
             [
              0.2222222222222222,
              "#7201a8"
             ],
             [
              0.3333333333333333,
              "#9c179e"
             ],
             [
              0.4444444444444444,
              "#bd3786"
             ],
             [
              0.5555555555555556,
              "#d8576b"
             ],
             [
              0.6666666666666666,
              "#ed7953"
             ],
             [
              0.7777777777777778,
              "#fb9f3a"
             ],
             [
              0.8888888888888888,
              "#fdca26"
             ],
             [
              1,
              "#f0f921"
             ]
            ],
            "type": "surface"
           }
          ],
          "table": [
           {
            "cells": {
             "fill": {
              "color": "#EBF0F8"
             },
             "line": {
              "color": "white"
             }
            },
            "header": {
             "fill": {
              "color": "#C8D4E3"
             },
             "line": {
              "color": "white"
             }
            },
            "type": "table"
           }
          ]
         },
         "layout": {
          "annotationdefaults": {
           "arrowcolor": "#2a3f5f",
           "arrowhead": 0,
           "arrowwidth": 1
          },
          "coloraxis": {
           "colorbar": {
            "outlinewidth": 0,
            "ticks": ""
           }
          },
          "colorscale": {
           "diverging": [
            [
             0,
             "#8e0152"
            ],
            [
             0.1,
             "#c51b7d"
            ],
            [
             0.2,
             "#de77ae"
            ],
            [
             0.3,
             "#f1b6da"
            ],
            [
             0.4,
             "#fde0ef"
            ],
            [
             0.5,
             "#f7f7f7"
            ],
            [
             0.6,
             "#e6f5d0"
            ],
            [
             0.7,
             "#b8e186"
            ],
            [
             0.8,
             "#7fbc41"
            ],
            [
             0.9,
             "#4d9221"
            ],
            [
             1,
             "#276419"
            ]
           ],
           "sequential": [
            [
             0,
             "#0d0887"
            ],
            [
             0.1111111111111111,
             "#46039f"
            ],
            [
             0.2222222222222222,
             "#7201a8"
            ],
            [
             0.3333333333333333,
             "#9c179e"
            ],
            [
             0.4444444444444444,
             "#bd3786"
            ],
            [
             0.5555555555555556,
             "#d8576b"
            ],
            [
             0.6666666666666666,
             "#ed7953"
            ],
            [
             0.7777777777777778,
             "#fb9f3a"
            ],
            [
             0.8888888888888888,
             "#fdca26"
            ],
            [
             1,
             "#f0f921"
            ]
           ],
           "sequentialminus": [
            [
             0,
             "#0d0887"
            ],
            [
             0.1111111111111111,
             "#46039f"
            ],
            [
             0.2222222222222222,
             "#7201a8"
            ],
            [
             0.3333333333333333,
             "#9c179e"
            ],
            [
             0.4444444444444444,
             "#bd3786"
            ],
            [
             0.5555555555555556,
             "#d8576b"
            ],
            [
             0.6666666666666666,
             "#ed7953"
            ],
            [
             0.7777777777777778,
             "#fb9f3a"
            ],
            [
             0.8888888888888888,
             "#fdca26"
            ],
            [
             1,
             "#f0f921"
            ]
           ]
          },
          "colorway": [
           "#636efa",
           "#EF553B",
           "#00cc96",
           "#ab63fa",
           "#FFA15A",
           "#19d3f3",
           "#FF6692",
           "#B6E880",
           "#FF97FF",
           "#FECB52"
          ],
          "font": {
           "color": "#2a3f5f"
          },
          "geo": {
           "bgcolor": "white",
           "lakecolor": "white",
           "landcolor": "white",
           "showlakes": true,
           "showland": true,
           "subunitcolor": "#C8D4E3"
          },
          "hoverlabel": {
           "align": "left"
          },
          "hovermode": "closest",
          "mapbox": {
           "style": "light"
          },
          "paper_bgcolor": "white",
          "plot_bgcolor": "white",
          "polar": {
           "angularaxis": {
            "gridcolor": "#EBF0F8",
            "linecolor": "#EBF0F8",
            "ticks": ""
           },
           "bgcolor": "white",
           "radialaxis": {
            "gridcolor": "#EBF0F8",
            "linecolor": "#EBF0F8",
            "ticks": ""
           }
          },
          "scene": {
           "xaxis": {
            "backgroundcolor": "white",
            "gridcolor": "#DFE8F3",
            "gridwidth": 2,
            "linecolor": "#EBF0F8",
            "showbackground": true,
            "ticks": "",
            "zerolinecolor": "#EBF0F8"
           },
           "yaxis": {
            "backgroundcolor": "white",
            "gridcolor": "#DFE8F3",
            "gridwidth": 2,
            "linecolor": "#EBF0F8",
            "showbackground": true,
            "ticks": "",
            "zerolinecolor": "#EBF0F8"
           },
           "zaxis": {
            "backgroundcolor": "white",
            "gridcolor": "#DFE8F3",
            "gridwidth": 2,
            "linecolor": "#EBF0F8",
            "showbackground": true,
            "ticks": "",
            "zerolinecolor": "#EBF0F8"
           }
          },
          "shapedefaults": {
           "line": {
            "color": "#2a3f5f"
           }
          },
          "ternary": {
           "aaxis": {
            "gridcolor": "#DFE8F3",
            "linecolor": "#A2B1C6",
            "ticks": ""
           },
           "baxis": {
            "gridcolor": "#DFE8F3",
            "linecolor": "#A2B1C6",
            "ticks": ""
           },
           "bgcolor": "white",
           "caxis": {
            "gridcolor": "#DFE8F3",
            "linecolor": "#A2B1C6",
            "ticks": ""
           }
          },
          "title": {
           "x": 0.05
          },
          "xaxis": {
           "automargin": true,
           "gridcolor": "#EBF0F8",
           "linecolor": "#EBF0F8",
           "ticks": "",
           "title": {
            "standoff": 15
           },
           "zerolinecolor": "#EBF0F8",
           "zerolinewidth": 2
          },
          "yaxis": {
           "automargin": true,
           "gridcolor": "#EBF0F8",
           "linecolor": "#EBF0F8",
           "ticks": "",
           "title": {
            "standoff": 15
           },
           "zerolinecolor": "#EBF0F8",
           "zerolinewidth": 2
          }
         }
        },
        "title": {
         "text": "Weekly TCP by Network Length (m)"
        },
        "xaxis": {
         "anchor": "y",
         "domain": [
          0,
          1
         ],
         "title": {
          "text": "Total Network Length (m)"
         },
         "type": "log"
        },
        "yaxis": {
         "anchor": "x",
         "domain": [
          0,
          1
         ],
         "title": {
          "text": "Weekly TCP Mean (m)"
         },
         "type": "log"
        }
       }
      },
      "text/html": [
       "<div>\n",
       "        \n",
       "        \n",
       "            <div id=\"0bcb4160-9b15-4b5c-8f73-93ba11d066ad\" class=\"plotly-graph-div\" style=\"height:600px; width:100%;\"></div>\n",
       "            <script type=\"text/javascript\">\n",
       "                require([\"plotly\"], function(Plotly) {\n",
       "                    window.PLOTLYENV=window.PLOTLYENV || {};\n",
       "                    \n",
       "                if (document.getElementById(\"0bcb4160-9b15-4b5c-8f73-93ba11d066ad\")) {\n",
       "                    Plotly.newPlot(\n",
       "                        '0bcb4160-9b15-4b5c-8f73-93ba11d066ad',\n",
       "                        [{\"hoverlabel\": {\"namelength\": 0}, \"hovertemplate\": \"<b>%{hovertext}</b><br><br>region_type=city<br>total_length=%{x}<br>weekly_mean=%{y}\", \"hovertext\": [\"bogota\", \"managua\", \"kingston\", \"natal\", \"mendoza\", \"curitiba\", \"toluca\", \"barranquilla\", \"buenosaires\", \"paramaribo\", \"santodomingo\", \"saojosedoscampos\", \"panamacity\", \"sanfernado\", \"santiago\", \"fortaleza\", \"salvador\", \"manaus\", \"saopaulo\", \"teresina\", \"tegucigalpa\", \"georgetown\", \"ciudad_guayana\", \"montevideo\", \"merida\", \"porto_alergre\", \"arequipa\", \"tijuana\", \"saoluis\", \"cochabamba\", \"sorocaba\", \"joaopessoa\", \"mexicocity\", \"brasilia\", \"guadalajara\", \"lapaz\", \"nassau\", \"pereira\", \"asuncion\", \"santacruzdelasierra\", \"santiagocaballeros\", \"recife\", \"monterrey\", \"goiania\", \"guayaquil\", \"caracas\", \"guatemala\", \"cartagena\", \"belem\", \"pueble\", \"bridgetown\", \"riodejaneiro\", \"cucuta\", \"rosario\", \"quito\", \"campinas\", \"sanpedrosula\", \"maceio\", \"aguascalientes\", \"leon\", \"queretaro\", \"portauprince\", \"maracaibo\", \"cuenca\", \"barcelona\", \"medellin\", \"bucaramanga\", \"cordoba\", \"santos\", \"sanjose\", \"portofspain\", \"juarez\", \"sanluispotosi\", \"sansalvador\", \"santamarta\", \"valencia\", \"belohorizonte\", \"joinville\", \"vitoria\", \"maracay\", \"lima\", \"cali\", \"florianopolis\", \"torreon\"], \"legendgroup\": \"region_type=city\", \"marker\": {\"color\": \"#636efa\", \"symbol\": \"circle\"}, \"mode\": \"markers\", \"name\": \"region_type=city\", \"showlegend\": true, \"type\": \"scatter\", \"x\": [8552341.21, 2239902.08, 1384098.48, 6732125.97, 3089897.23, 7348502.6, 6136666.17, 2639515.32, 30933171.94, 1183306.95, 7299170.72, 2365061.2, 2764961.01, 917632.77, 11004409.22, 6732125.97, 4206246.08, 3659793.31, 32536728.08, 3320668.14, 2085039.51, 476718.56, 2066247.33, 3497729.6, 4476866.04, 8391221.97, 2047208.81, 5112669.24, 3647914.36, 3283487.02, 2453605.58, 2976535.15, 40190429.32, 7185451.29, 11643281.33, 3856207.02, 959262.78, 946731.26, 6101621.58, 6751472.15, 2282452.91, 6614950.94, 13334999.73, 8119324.16, 4986853.62, 3361654.08, 6262595.46, 1284823.98, 3420718.9, 7571375.34, 1158405.05, 17365642.39, 1840273.8, 3369242.9, 5492209.54, 7684727.72, 1618492.79, 2079899.71, 3105139.64, 4408240.76, 4116198.06, 2449439.58, 2788671.98, 1403538.07, 1138576.33, 3745773.63, 1689460.34, 5101973.49, 2982651.54, 4473574.9, 1008703.31, 5715830.87, 3459381.1, 2744860.18, 913226.04, 3383362.92, 9612852.93, 1616469.46, 4502136.87, 2651811.68, 17380502.07, 3313356.0, 362257.74, 4555559.77], \"xaxis\": \"x\", \"y\": [748767202.9622643, 16529493.20754717, 3840346.8301886786, 162864030.58490565, 8642192.811320756, 156203165.33962265, 110505032.05660376, 80502371.75471698, 556797884.1132076, 1777874.528301887, 235603972.8679245, 27756846.71698113, 148315863.1509434, 16449015.16981132, 345481512.8301887, 162864030.66037735, 161819855.58490565, 107426744.71698111, 1261857522.528302, 41392551.24528302, 13983450.433962265, 181862.13207547172, 61809.07547169812, 69987322.3773585, 41595312.98113208, 181560696.0943396, 27737181.50943396, 89834256.52830188, 62831130.73584906, 492504.5283018868, 19246228.16981132, 40946148.88679245, 1423626591.6603773, 76370539.3018868, 287845132.245283, 1257448.1698113207, 433668.6603773585, 26529903.35849057, 60917811.0, 32660749.05660377, 43177583.64150944, 204249580.9811321, 207554847.45283017, 89097855.16981132, 64379402.67924529, 29287310.13207547, 259614668.6037736, 31698116.943396226, 100003317.3773585, 120330240.35849056, 1944770.150943396, 561285353.3207548, 5283911.754716981, 10377347.528301887, 157509234.3773585, 78022685.50943395, 7689297.584905662, 59631520.49056604, 28265045.50943396, 52117894.49056604, 77346016.22641508, 1222641.4150943395, 87909.64150943396, 1910022.6603773586, 270893.28301886795, 160365157.50943395, 25393762.773584906, 21550780.05660377, 78456753.33962265, 206947390.18867925, 33574509.2264151, 44100515.39622641, 49471875.43396226, 111437863.39622642, 8536620.113207547, 1339843.6603773586, 233874813.32075468, 26802497.301886793, 70138387.75471698, 952949.075471698, 542937262.8490566, 109659866.79245284, 18719959.188679244, 20367859.05660377], \"yaxis\": \"y\"}, {\"hoverlabel\": {\"namelength\": 0}, \"hovertemplate\": \"<b>%{hovertext}</b><br><br>region_type=country<br>total_length=%{x}<br>weekly_mean=%{y}\", \"hovertext\": [\"country_guyana\", \"country_ecuador\", \"country_nicaragua\", \"country_venezuela\", \"country_barbados\", \"country_costa_rica\", \"country_haiti\", \"country_uruguay\", \"country_bolivia\", \"country_guatemala\", \"country_peru\", \"country_colombia\", \"country_chile\", \"country_argentina\", \"country_paraguay\", \"country_honduras\", \"country_el_salvador\", \"country_trinidad_and_tobago\", \"country_jamaica\", \"country_panama\", \"country_the_bahamas\", \"country_suriname\", \"country_belize\", \"country_mexico\", \"country_dominican_republic\"], \"legendgroup\": \"region_type=country\", \"marker\": {\"color\": \"#EF553B\", \"symbol\": \"circle\"}, \"mode\": \"markers\", \"name\": \"region_type=country\", \"showlegend\": true, \"type\": \"scatter\", \"x\": [6241684.02, 110653842.64, 25571690.41, 139103484.21, 2300315.87, 42042600.16, 21717748.35, 44642077.17, 199169227.23999998, 56776843.35, 245723531.16, 198164320.3, 151818163.85, 575779290.14, 90047913.28, 39274098.85, 26153892.25, 10123486.6, 17337153.61, 23366911.63, 5999736.4, 5602976.41, 6865201.62, 391093708.64, 41058456.87], \"xaxis\": \"x\", \"y\": [477374.2264150944, 293479383.77358484, 51164119.43396226, 38251523.11320755, 2813860.9056603773, 562575986.8113208, 2990057.7358490564, 116745989.79245284, 46032614.56603774, 427929804.0377358, 872395492.8113207, 1921895292.7735848, 1100198149.6415095, 1117104932.4339623, 76473839.98113208, 55050252.81132075, 198248563.9811321, 107958291.6226415, 14852525.79245283, 260588652.754717, 1681324.79245283, 3176142.207547169, 2221226.981132076, 5679688889.547171, 321617187.509434], \"yaxis\": \"y\"}, {\"hoverlabel\": {\"namelength\": 0}, \"hovertemplate\": \"<b>%{hovertext}</b><br><br>region_type=state<br>total_length=%{x}<br>weekly_mean=%{y}\", \"hovertext\": [\"br_states_paraiba\", \"br_states_sao_paulo\", \"br_states_amapa\", \"br_states_tocantins\", \"br_states_sergipe\", \"br_states_espirito_santo\", \"br_states_alagoas\", \"br_states_goias\", \"br_states_para\", \"br_states_roraima\", \"br_states_amazonas\", \"br_states_santa_catarina\", \"br_states_rondonia\", \"br_states_rio_grande_do_sul\", \"br_states_ceara\", \"br_states_mato_grosso_do_sul\", \"br_states_bahia\", \"br_states_maranhao\", \"br_states_acre\", \"br_states_minas_gerais\", \"br_states_rio_de_janeiro\", \"br_states_pernambuco\", \"br_states_piaui\", \"br_states_mato_grosso\", \"br_states_rio_grande_do_norte\", \"br_states_parana\", \"br_states_distrito_federal\"], \"legendgroup\": \"region_type=state\", \"marker\": {\"color\": \"#00cc96\", \"symbol\": \"circle\"}, \"mode\": \"markers\", \"name\": \"region_type=state\", \"showlegend\": true, \"type\": \"scatter\", \"x\": [72253143.23, 273709516.51, 5462361.03, 76107560.0, 22540443.72, 41327657.31, 33282330.11, 104906080.7, 124786922.61, 15146401.7, 22751484.98, 94462391.46, 45291487.7, 187197331.4, 85406556.83, 68403977.79, 223231660.91, 77087019.08, 11975028.15, 262010818.81, 68664253.02, 78296049.52, 60752747.03, 123897981.14, 39961645.34, 203385365.37, 13394669.38], \"xaxis\": \"x\", \"y\": [106616928.35849056, 2394590450.5283017, 26912269.433962263, 82333966.88679245, 78531252.6981132, 145707099.66037735, 83770654.0754717, 404996763.98113215, 250369056.05660376, 12063464.924528304, 112158544.33962265, 537118081.5849056, 58473957.86792453, 743353861.1698114, 343477821.84905666, 182055281.07547167, 514846092.6226415, 239628569.58490565, 22877205.16981132, 1460616591.6981132, 872814919.1509434, 388480756.0754717, 115154624.77358492, 194213082.3773585, 123875361.79245284, 868893825.4528303, 108086441.18867923], \"yaxis\": \"y\"}, {\"hoverlabel\": {\"namelength\": 0}, \"hovertemplate\": \"<b>%{hovertext}</b><br><br>region_type=submetro<br>total_length=%{x}<br>weekly_mean=%{y}\", \"hovertext\": [\"lima_metro1\", \"bogota_metro1\", \"lima_metro2\", \"bogota_metro2\"], \"legendgroup\": \"region_type=submetro\", \"marker\": {\"color\": \"#ab63fa\", \"symbol\": \"circle\"}, \"mode\": \"markers\", \"name\": \"region_type=submetro\", \"showlegend\": true, \"type\": \"scatter\", \"x\": [2842856.32, 2974819.36, 13199025.83, 5689517.58], \"xaxis\": \"x\", \"y\": [209958273.71698117, 379220447.509434, 295466385.490566, 425439346.22641516], \"yaxis\": \"y\"}],\n",
       "                        {\"height\": 600, \"legend\": {\"tracegroupgap\": 0}, \"template\": {\"data\": {\"bar\": [{\"error_x\": {\"color\": \"#2a3f5f\"}, \"error_y\": {\"color\": \"#2a3f5f\"}, \"marker\": {\"line\": {\"color\": \"white\", \"width\": 0.5}}, \"type\": \"bar\"}], \"barpolar\": [{\"marker\": {\"line\": {\"color\": \"white\", \"width\": 0.5}}, \"type\": \"barpolar\"}], \"carpet\": [{\"aaxis\": {\"endlinecolor\": \"#2a3f5f\", \"gridcolor\": \"#C8D4E3\", \"linecolor\": \"#C8D4E3\", \"minorgridcolor\": \"#C8D4E3\", \"startlinecolor\": \"#2a3f5f\"}, \"baxis\": {\"endlinecolor\": \"#2a3f5f\", \"gridcolor\": \"#C8D4E3\", \"linecolor\": \"#C8D4E3\", \"minorgridcolor\": \"#C8D4E3\", \"startlinecolor\": \"#2a3f5f\"}, \"type\": \"carpet\"}], \"choropleth\": [{\"colorbar\": {\"outlinewidth\": 0, \"ticks\": \"\"}, \"type\": \"choropleth\"}], \"contour\": [{\"colorbar\": {\"outlinewidth\": 0, \"ticks\": \"\"}, \"colorscale\": [[0.0, \"#0d0887\"], [0.1111111111111111, \"#46039f\"], [0.2222222222222222, \"#7201a8\"], [0.3333333333333333, \"#9c179e\"], [0.4444444444444444, \"#bd3786\"], [0.5555555555555556, \"#d8576b\"], [0.6666666666666666, \"#ed7953\"], [0.7777777777777778, \"#fb9f3a\"], [0.8888888888888888, \"#fdca26\"], [1.0, \"#f0f921\"]], \"type\": \"contour\"}], \"contourcarpet\": [{\"colorbar\": {\"outlinewidth\": 0, \"ticks\": \"\"}, \"type\": \"contourcarpet\"}], \"heatmap\": [{\"colorbar\": {\"outlinewidth\": 0, \"ticks\": \"\"}, \"colorscale\": [[0.0, \"#0d0887\"], [0.1111111111111111, \"#46039f\"], [0.2222222222222222, \"#7201a8\"], [0.3333333333333333, \"#9c179e\"], [0.4444444444444444, \"#bd3786\"], [0.5555555555555556, \"#d8576b\"], [0.6666666666666666, \"#ed7953\"], [0.7777777777777778, \"#fb9f3a\"], [0.8888888888888888, \"#fdca26\"], [1.0, \"#f0f921\"]], \"type\": \"heatmap\"}], \"heatmapgl\": [{\"colorbar\": {\"outlinewidth\": 0, \"ticks\": \"\"}, \"colorscale\": [[0.0, \"#0d0887\"], [0.1111111111111111, \"#46039f\"], [0.2222222222222222, \"#7201a8\"], [0.3333333333333333, \"#9c179e\"], [0.4444444444444444, \"#bd3786\"], [0.5555555555555556, \"#d8576b\"], [0.6666666666666666, \"#ed7953\"], [0.7777777777777778, \"#fb9f3a\"], [0.8888888888888888, \"#fdca26\"], [1.0, \"#f0f921\"]], \"type\": \"heatmapgl\"}], \"histogram\": [{\"marker\": {\"colorbar\": {\"outlinewidth\": 0, \"ticks\": \"\"}}, \"type\": \"histogram\"}], \"histogram2d\": [{\"colorbar\": {\"outlinewidth\": 0, \"ticks\": \"\"}, \"colorscale\": [[0.0, \"#0d0887\"], [0.1111111111111111, \"#46039f\"], [0.2222222222222222, \"#7201a8\"], [0.3333333333333333, \"#9c179e\"], [0.4444444444444444, \"#bd3786\"], [0.5555555555555556, \"#d8576b\"], [0.6666666666666666, \"#ed7953\"], [0.7777777777777778, \"#fb9f3a\"], [0.8888888888888888, \"#fdca26\"], [1.0, \"#f0f921\"]], \"type\": \"histogram2d\"}], \"histogram2dcontour\": [{\"colorbar\": {\"outlinewidth\": 0, \"ticks\": \"\"}, \"colorscale\": [[0.0, \"#0d0887\"], [0.1111111111111111, \"#46039f\"], [0.2222222222222222, \"#7201a8\"], [0.3333333333333333, \"#9c179e\"], [0.4444444444444444, \"#bd3786\"], [0.5555555555555556, \"#d8576b\"], [0.6666666666666666, \"#ed7953\"], [0.7777777777777778, \"#fb9f3a\"], [0.8888888888888888, \"#fdca26\"], [1.0, \"#f0f921\"]], \"type\": \"histogram2dcontour\"}], \"mesh3d\": [{\"colorbar\": {\"outlinewidth\": 0, \"ticks\": \"\"}, \"type\": \"mesh3d\"}], \"parcoords\": [{\"line\": {\"colorbar\": {\"outlinewidth\": 0, \"ticks\": \"\"}}, \"type\": \"parcoords\"}], \"pie\": [{\"automargin\": true, \"type\": \"pie\"}], \"scatter\": [{\"marker\": {\"colorbar\": {\"outlinewidth\": 0, \"ticks\": \"\"}}, \"type\": \"scatter\"}], \"scatter3d\": [{\"line\": {\"colorbar\": {\"outlinewidth\": 0, \"ticks\": \"\"}}, \"marker\": {\"colorbar\": {\"outlinewidth\": 0, \"ticks\": \"\"}}, \"type\": \"scatter3d\"}], \"scattercarpet\": [{\"marker\": {\"colorbar\": {\"outlinewidth\": 0, \"ticks\": \"\"}}, \"type\": \"scattercarpet\"}], \"scattergeo\": [{\"marker\": {\"colorbar\": {\"outlinewidth\": 0, \"ticks\": \"\"}}, \"type\": \"scattergeo\"}], \"scattergl\": [{\"marker\": {\"colorbar\": {\"outlinewidth\": 0, \"ticks\": \"\"}}, \"type\": \"scattergl\"}], \"scattermapbox\": [{\"marker\": {\"colorbar\": {\"outlinewidth\": 0, \"ticks\": \"\"}}, \"type\": \"scattermapbox\"}], \"scatterpolar\": [{\"marker\": {\"colorbar\": {\"outlinewidth\": 0, \"ticks\": \"\"}}, \"type\": \"scatterpolar\"}], \"scatterpolargl\": [{\"marker\": {\"colorbar\": {\"outlinewidth\": 0, \"ticks\": \"\"}}, \"type\": \"scatterpolargl\"}], \"scatterternary\": [{\"marker\": {\"colorbar\": {\"outlinewidth\": 0, \"ticks\": \"\"}}, \"type\": \"scatterternary\"}], \"surface\": [{\"colorbar\": {\"outlinewidth\": 0, \"ticks\": \"\"}, \"colorscale\": [[0.0, \"#0d0887\"], [0.1111111111111111, \"#46039f\"], [0.2222222222222222, \"#7201a8\"], [0.3333333333333333, \"#9c179e\"], [0.4444444444444444, \"#bd3786\"], [0.5555555555555556, \"#d8576b\"], [0.6666666666666666, \"#ed7953\"], [0.7777777777777778, \"#fb9f3a\"], [0.8888888888888888, \"#fdca26\"], [1.0, \"#f0f921\"]], \"type\": \"surface\"}], \"table\": [{\"cells\": {\"fill\": {\"color\": \"#EBF0F8\"}, \"line\": {\"color\": \"white\"}}, \"header\": {\"fill\": {\"color\": \"#C8D4E3\"}, \"line\": {\"color\": \"white\"}}, \"type\": \"table\"}]}, \"layout\": {\"annotationdefaults\": {\"arrowcolor\": \"#2a3f5f\", \"arrowhead\": 0, \"arrowwidth\": 1}, \"coloraxis\": {\"colorbar\": {\"outlinewidth\": 0, \"ticks\": \"\"}}, \"colorscale\": {\"diverging\": [[0, \"#8e0152\"], [0.1, \"#c51b7d\"], [0.2, \"#de77ae\"], [0.3, \"#f1b6da\"], [0.4, \"#fde0ef\"], [0.5, \"#f7f7f7\"], [0.6, \"#e6f5d0\"], [0.7, \"#b8e186\"], [0.8, \"#7fbc41\"], [0.9, \"#4d9221\"], [1, \"#276419\"]], \"sequential\": [[0.0, \"#0d0887\"], [0.1111111111111111, \"#46039f\"], [0.2222222222222222, \"#7201a8\"], [0.3333333333333333, \"#9c179e\"], [0.4444444444444444, \"#bd3786\"], [0.5555555555555556, \"#d8576b\"], [0.6666666666666666, \"#ed7953\"], [0.7777777777777778, \"#fb9f3a\"], [0.8888888888888888, \"#fdca26\"], [1.0, \"#f0f921\"]], \"sequentialminus\": [[0.0, \"#0d0887\"], [0.1111111111111111, \"#46039f\"], [0.2222222222222222, \"#7201a8\"], [0.3333333333333333, \"#9c179e\"], [0.4444444444444444, \"#bd3786\"], [0.5555555555555556, \"#d8576b\"], [0.6666666666666666, \"#ed7953\"], [0.7777777777777778, \"#fb9f3a\"], [0.8888888888888888, \"#fdca26\"], [1.0, \"#f0f921\"]]}, \"colorway\": [\"#636efa\", \"#EF553B\", \"#00cc96\", \"#ab63fa\", \"#FFA15A\", \"#19d3f3\", \"#FF6692\", \"#B6E880\", \"#FF97FF\", \"#FECB52\"], \"font\": {\"color\": \"#2a3f5f\"}, \"geo\": {\"bgcolor\": \"white\", \"lakecolor\": \"white\", \"landcolor\": \"white\", \"showlakes\": true, \"showland\": true, \"subunitcolor\": \"#C8D4E3\"}, \"hoverlabel\": {\"align\": \"left\"}, \"hovermode\": \"closest\", \"mapbox\": {\"style\": \"light\"}, \"paper_bgcolor\": \"white\", \"plot_bgcolor\": \"white\", \"polar\": {\"angularaxis\": {\"gridcolor\": \"#EBF0F8\", \"linecolor\": \"#EBF0F8\", \"ticks\": \"\"}, \"bgcolor\": \"white\", \"radialaxis\": {\"gridcolor\": \"#EBF0F8\", \"linecolor\": \"#EBF0F8\", \"ticks\": \"\"}}, \"scene\": {\"xaxis\": {\"backgroundcolor\": \"white\", \"gridcolor\": \"#DFE8F3\", \"gridwidth\": 2, \"linecolor\": \"#EBF0F8\", \"showbackground\": true, \"ticks\": \"\", \"zerolinecolor\": \"#EBF0F8\"}, \"yaxis\": {\"backgroundcolor\": \"white\", \"gridcolor\": \"#DFE8F3\", \"gridwidth\": 2, \"linecolor\": \"#EBF0F8\", \"showbackground\": true, \"ticks\": \"\", \"zerolinecolor\": \"#EBF0F8\"}, \"zaxis\": {\"backgroundcolor\": \"white\", \"gridcolor\": \"#DFE8F3\", \"gridwidth\": 2, \"linecolor\": \"#EBF0F8\", \"showbackground\": true, \"ticks\": \"\", \"zerolinecolor\": \"#EBF0F8\"}}, \"shapedefaults\": {\"line\": {\"color\": \"#2a3f5f\"}}, \"ternary\": {\"aaxis\": {\"gridcolor\": \"#DFE8F3\", \"linecolor\": \"#A2B1C6\", \"ticks\": \"\"}, \"baxis\": {\"gridcolor\": \"#DFE8F3\", \"linecolor\": \"#A2B1C6\", \"ticks\": \"\"}, \"bgcolor\": \"white\", \"caxis\": {\"gridcolor\": \"#DFE8F3\", \"linecolor\": \"#A2B1C6\", \"ticks\": \"\"}}, \"title\": {\"x\": 0.05}, \"xaxis\": {\"automargin\": true, \"gridcolor\": \"#EBF0F8\", \"linecolor\": \"#EBF0F8\", \"ticks\": \"\", \"title\": {\"standoff\": 15}, \"zerolinecolor\": \"#EBF0F8\", \"zerolinewidth\": 2}, \"yaxis\": {\"automargin\": true, \"gridcolor\": \"#EBF0F8\", \"linecolor\": \"#EBF0F8\", \"ticks\": \"\", \"title\": {\"standoff\": 15}, \"zerolinecolor\": \"#EBF0F8\", \"zerolinewidth\": 2}}}, \"title\": {\"text\": \"Weekly TCP by Network Length (m)\"}, \"xaxis\": {\"anchor\": \"y\", \"domain\": [0.0, 1.0], \"title\": {\"text\": \"Total Network Length (m)\"}, \"type\": \"log\"}, \"yaxis\": {\"anchor\": \"x\", \"domain\": [0.0, 1.0], \"title\": {\"text\": \"Weekly TCP Mean (m)\"}, \"type\": \"log\"}},\n",
       "                        {\"responsive\": true}\n",
       "                    ).then(function(){\n",
       "                            \n",
       "var gd = document.getElementById('0bcb4160-9b15-4b5c-8f73-93ba11d066ad');\n",
       "var x = new MutationObserver(function (mutations, observer) {{\n",
       "        var display = window.getComputedStyle(gd).display;\n",
       "        if (!display || display === 'none') {{\n",
       "            console.log([gd, 'removed!']);\n",
       "            Plotly.purge(gd);\n",
       "            observer.disconnect();\n",
       "        }}\n",
       "}});\n",
       "\n",
       "// Listen for the removal of the full notebook cells\n",
       "var notebookContainer = gd.closest('#notebook-container');\n",
       "if (notebookContainer) {{\n",
       "    x.observe(notebookContainer, {childList: true});\n",
       "}}\n",
       "\n",
       "// Listen for the clearing of the current output cell\n",
       "var outputEl = gd.closest('.output');\n",
       "if (outputEl) {{\n",
       "    x.observe(outputEl, {childList: true});\n",
       "}}\n",
       "\n",
       "                        })\n",
       "                };\n",
       "                });\n",
       "            </script>\n",
       "        </div>"
      ]
     },
     "metadata": {},
     "output_type": "display_data"
    }
   ],
   "source": [
    "fig = px.scatter(df.dropna(subset=['weekly_coef_var', 'daily_coef_var'])\\\n",
    "             .query('weekly_coef_var < 1').query('daily_coef_var < 1'),\n",
    "            y=\"weekly_mean\", x=\"total_length\", color='region_type',\n",
    "            hover_name=\"region_slug\", template='plotly_white', title='Weekly TCP by Network Length (m)',\n",
    "           log_x=True, log_y=True)\n",
    "fig.update_yaxes(title_text='Weekly TCP Mean (m)')\n",
    "fig.update_xaxes(title_text='Total Network Length (m)')\n",
    "\n",
    "fig.show()"
   ]
  },
  {
   "cell_type": "code",
   "execution_count": 70,
   "metadata": {},
   "outputs": [
    {
     "data": {
      "text/html": [
       "<div>\n",
       "<style scoped>\n",
       "    .dataframe tbody tr th:only-of-type {\n",
       "        vertical-align: middle;\n",
       "    }\n",
       "\n",
       "    .dataframe tbody tr th {\n",
       "        vertical-align: top;\n",
       "    }\n",
       "\n",
       "    .dataframe thead th {\n",
       "        text-align: right;\n",
       "    }\n",
       "</style>\n",
       "<table border=\"1\" class=\"dataframe\">\n",
       "  <thead>\n",
       "    <tr style=\"text-align: right;\">\n",
       "      <th></th>\n",
       "      <th>country_name</th>\n",
       "      <th>country_iso</th>\n",
       "      <th>region_slug</th>\n",
       "      <th>region_name</th>\n",
       "      <th>region_type</th>\n",
       "      <th>population</th>\n",
       "      <th>dashboard</th>\n",
       "      <th>timezone</th>\n",
       "      <th>region_shapefile_wkt</th>\n",
       "      <th>rerun</th>\n",
       "      <th>idb_code</th>\n",
       "      <th>waze_code</th>\n",
       "      <th>country_name_idb_eng</th>\n",
       "      <th>region_shapefile_binary</th>\n",
       "      <th>area</th>\n",
       "      <th>n_days</th>\n",
       "      <th>daily_mean</th>\n",
       "      <th>daily_std</th>\n",
       "      <th>daily_coef_var</th>\n",
       "      <th>weekly_mean</th>\n",
       "      <th>weekly_std</th>\n",
       "      <th>weekly_coef_var</th>\n",
       "      <th>daily_approved</th>\n",
       "      <th>weekly_approved</th>\n",
       "      <th>total_length</th>\n",
       "      <th>daily_length_ratio</th>\n",
       "    </tr>\n",
       "  </thead>\n",
       "  <tbody>\n",
       "    <tr>\n",
       "      <th>56</th>\n",
       "      <td>Uruguay</td>\n",
       "      <td>UY</td>\n",
       "      <td>montevideo</td>\n",
       "      <td>Montevideo</td>\n",
       "      <td>city</td>\n",
       "      <td>1363552.0</td>\n",
       "      <td>True</td>\n",
       "      <td>America/Montevideo</td>\n",
       "      <td>Polygon ((-56.23375113878419995 -34.7587515798...</td>\n",
       "      <td>False</td>\n",
       "      <td>UR</td>\n",
       "      <td>UY</td>\n",
       "      <td>Uruguay</td>\n",
       "      <td>b'\\x00\\x00\\x00\\x00\\x03\\x05\\x00\\x00\\x00\\xc4H;(\\...</td>\n",
       "      <td>0.03</td>\n",
       "      <td>365.0</td>\n",
       "      <td>1.016254e+07</td>\n",
       "      <td>2.652913e+06</td>\n",
       "      <td>0.261048</td>\n",
       "      <td>6.998732e+07</td>\n",
       "      <td>1.380450e+07</td>\n",
       "      <td>0.197243</td>\n",
       "      <td>True</td>\n",
       "      <td>True</td>\n",
       "      <td>3497729.6</td>\n",
       "      <td>2.905468</td>\n",
       "    </tr>\n",
       "  </tbody>\n",
       "</table>\n",
       "</div>"
      ],
      "text/plain": [
       "   country_name country_iso region_slug region_name region_type  population  \\\n",
       "56      Uruguay          UY  montevideo  Montevideo        city   1363552.0   \n",
       "\n",
       "   dashboard            timezone  \\\n",
       "56      True  America/Montevideo   \n",
       "\n",
       "                                 region_shapefile_wkt  rerun idb_code  \\\n",
       "56  Polygon ((-56.23375113878419995 -34.7587515798...  False       UR   \n",
       "\n",
       "   waze_code country_name_idb_eng  \\\n",
       "56        UY              Uruguay   \n",
       "\n",
       "                              region_shapefile_binary  area  n_days  \\\n",
       "56  b'\\x00\\x00\\x00\\x00\\x03\\x05\\x00\\x00\\x00\\xc4H;(\\...  0.03   365.0   \n",
       "\n",
       "      daily_mean     daily_std  daily_coef_var   weekly_mean    weekly_std  \\\n",
       "56  1.016254e+07  2.652913e+06        0.261048  6.998732e+07  1.380450e+07   \n",
       "\n",
       "    weekly_coef_var daily_approved weekly_approved  total_length  \\\n",
       "56         0.197243           True            True     3497729.6   \n",
       "\n",
       "    daily_length_ratio  \n",
       "56            2.905468  "
      ]
     },
     "execution_count": 70,
     "metadata": {},
     "output_type": "execute_result"
    }
   ],
   "source": [
    "df[df['region_slug'] == 'montevideo']"
   ]
  },
  {
   "cell_type": "code",
   "execution_count": 74,
   "metadata": {},
   "outputs": [
    {
     "data": {
      "application/vnd.plotly.v1+json": {
       "config": {
        "plotlyServerURL": "https://plot.ly"
       },
       "data": [
        {
         "hoverlabel": {
          "namelength": 0
         },
         "hovertemplate": "<b>%{hovertext}</b><br><br>region_type=city<br>total_length=%{x}<br>daily_coef_var=%{y}",
         "hovertext": [
          "bogota",
          "managua",
          "kingston",
          "natal",
          "mendoza",
          "curitiba",
          "toluca",
          "barranquilla",
          "buenosaires",
          "paramaribo",
          "santodomingo",
          "saojosedoscampos",
          "panamacity",
          "sanfernado",
          "santiago",
          "fortaleza",
          "salvador",
          "manaus",
          "saopaulo",
          "teresina",
          "tegucigalpa",
          "georgetown",
          "ciudad_guayana",
          "montevideo",
          "merida",
          "porto_alergre",
          "arequipa",
          "tijuana",
          "saoluis",
          "cochabamba",
          "sorocaba",
          "joaopessoa",
          "mexicocity",
          "brasilia",
          "guadalajara",
          "lapaz",
          "nassau",
          "pereira",
          "asuncion",
          "santacruzdelasierra",
          "santiagocaballeros",
          "recife",
          "monterrey",
          "goiania",
          "guayaquil",
          "caracas",
          "guatemala",
          "cartagena",
          "belem",
          "pueble",
          "bridgetown",
          "riodejaneiro",
          "cucuta",
          "rosario",
          "quito",
          "campinas",
          "sanpedrosula",
          "maceio",
          "aguascalientes",
          "leon",
          "queretaro",
          "portauprince",
          "maracaibo",
          "cuenca",
          "barcelona",
          "medellin",
          "bucaramanga",
          "cordoba",
          "santos",
          "sanjose",
          "portofspain",
          "juarez",
          "sanluispotosi",
          "sansalvador",
          "santamarta",
          "valencia",
          "belohorizonte",
          "joinville",
          "vitoria",
          "maracay",
          "lima",
          "cali",
          "florianopolis",
          "torreon"
         ],
         "legendgroup": "region_type=city",
         "marker": {
          "color": "#636efa",
          "symbol": "circle"
         },
         "mode": "markers",
         "name": "region_type=city",
         "showlegend": true,
         "type": "scatter",
         "x": [
          8552341.21,
          2239902.08,
          1384098.48,
          6732125.97,
          3089897.23,
          7348502.6,
          6136666.17,
          2639515.32,
          30933171.94,
          1183306.95,
          7299170.72,
          2365061.2,
          2764961.01,
          917632.77,
          11004409.22,
          6732125.97,
          4206246.08,
          3659793.31,
          32536728.08,
          3320668.14,
          2085039.51,
          476718.56,
          2066247.33,
          3497729.6,
          4476866.04,
          8391221.97,
          2047208.81,
          5112669.24,
          3647914.36,
          3283487.02,
          2453605.58,
          2976535.15,
          40190429.32,
          7185451.29,
          11643281.33,
          3856207.02,
          959262.78,
          946731.26,
          6101621.58,
          6751472.15,
          2282452.91,
          6614950.94,
          13334999.73,
          8119324.16,
          4986853.62,
          3361654.08,
          6262595.46,
          1284823.98,
          3420718.9,
          7571375.34,
          1158405.05,
          17365642.39,
          1840273.8,
          3369242.9,
          5492209.54,
          7684727.72,
          1618492.79,
          2079899.71,
          3105139.64,
          4408240.76,
          4116198.06,
          2449439.58,
          2788671.98,
          1403538.07,
          1138576.33,
          3745773.63,
          1689460.34,
          5101973.49,
          2982651.54,
          4473574.9,
          1008703.31,
          5715830.87,
          3459381.1,
          2744860.18,
          913226.04,
          3383362.92,
          9612852.93,
          1616469.46,
          4502136.87,
          2651811.68,
          17380502.07,
          3313356,
          362257.74,
          4555559.77
         ],
         "xaxis": "x",
         "y": [
          0.286687662643728,
          0.3629514173828339,
          0.4913199438629126,
          0.3218078349339457,
          0.5064936515589152,
          0.4186142215253612,
          0.3057780385086514,
          0.3163910324449694,
          0.3260660410011728,
          0.5819431106660168,
          0.3562465186615954,
          0.3851238441317576,
          0.4293121020093684,
          0.5842253311109938,
          0.4599735641538645,
          0.3218078552150265,
          0.4023471521516148,
          0.36492219865273307,
          0.38178256776564856,
          0.35529926125508643,
          0.4686928338648748,
          0.6622589958240079,
          0.9066220072286058,
          0.2610481192533073,
          0.32496415626767394,
          0.3978839761328267,
          0.3293463788343317,
          0.537685041140292,
          0.3600816246476056,
          0.3901488336454791,
          0.37320057041447896,
          0.3655957268206133,
          0.2902237749522706,
          0.4273620854617822,
          0.2789510545475381,
          0.377591115337318,
          0.5993929668036775,
          0.3632141233098592,
          0.5024926494510125,
          0.3835259014471612,
          0.345393403270178,
          0.3334482519623064,
          0.38381424639318334,
          0.38130140623440745,
          0.3696814397926295,
          0.7585159205269386,
          0.3335739853631477,
          0.2780462537994965,
          0.3373353933393028,
          0.2542411161495161,
          0.6461886109826176,
          0.3491878604154344,
          0.3687136406207601,
          0.34350378923962294,
          0.3347288418028682,
          0.40524945878448937,
          0.5099230688810314,
          0.3557268854932578,
          0.3471476256721193,
          0.36042032822319375,
          0.3112002843246247,
          0.6332340212421065,
          0.8193474859061922,
          0.42672931063487374,
          0.6327443923284488,
          0.35203764596985515,
          0.3485025391703524,
          0.6082979716525952,
          0.3547067910132126,
          0.3625308614440186,
          0.5838682256868514,
          0.5369215735760726,
          0.3980516132737778,
          0.40309466693187546,
          0.47455358827483296,
          0.7708302668025113,
          0.3701770949326142,
          0.5238835892328816,
          0.3782760731958649,
          0.7313373114292863,
          0.24784106107936546,
          0.32744906787280204,
          0.5351597012964407,
          0.5089592897685637
         ],
         "yaxis": "y"
        },
        {
         "hoverlabel": {
          "namelength": 0
         },
         "hovertemplate": "<b>%{hovertext}</b><br><br>region_type=country<br>total_length=%{x}<br>daily_coef_var=%{y}",
         "hovertext": [
          "country_guyana",
          "country_ecuador",
          "country_nicaragua",
          "country_venezuela",
          "country_barbados",
          "country_costa_rica",
          "country_haiti",
          "country_uruguay",
          "country_bolivia",
          "country_guatemala",
          "country_peru",
          "country_colombia",
          "country_chile",
          "country_argentina",
          "country_paraguay",
          "country_honduras",
          "country_el_salvador",
          "country_trinidad_and_tobago",
          "country_jamaica",
          "country_panama",
          "country_the_bahamas",
          "country_suriname",
          "country_belize",
          "country_mexico",
          "country_dominican_republic"
         ],
         "legendgroup": "region_type=country",
         "marker": {
          "color": "#EF553B",
          "symbol": "circle"
         },
         "mode": "markers",
         "name": "region_type=country",
         "showlegend": true,
         "type": "scatter",
         "x": [
          6241684.02,
          110653842.64,
          25571690.41,
          139103484.21,
          2300315.87,
          42042600.16,
          21717748.35,
          44642077.17,
          199169227.23999998,
          56776843.35,
          245723531.16,
          198164320.3,
          151818163.85,
          575779290.14,
          90047913.28,
          39274098.85,
          26153892.25,
          10123486.6,
          17337153.61,
          23366911.63,
          5999736.4,
          5602976.41,
          6865201.62,
          391093708.64,
          41058456.87
         ],
         "xaxis": "x",
         "y": [
          0.8408325580616669,
          0.24641806677734066,
          0.2720620028090954,
          0.6037744080533433,
          0.4334737156391757,
          0.21852737281934345,
          0.8397854133052594,
          0.36451897112327225,
          0.32478331853071696,
          0.2570009170262702,
          0.19768579932496216,
          0.2289632940046689,
          0.23369150608189435,
          0.2912960017701939,
          0.4502005869871279,
          0.3139711127545384,
          0.3276504000971684,
          0.4486804310597353,
          0.24874123108136825,
          0.26871986528755604,
          0.4468837917815035,
          0.4675533198608427,
          0.6636937815775654,
          0.279870068750045,
          0.2954177233140175
         ],
         "yaxis": "y"
        },
        {
         "hoverlabel": {
          "namelength": 0
         },
         "hovertemplate": "<b>%{hovertext}</b><br><br>region_type=state<br>total_length=%{x}<br>daily_coef_var=%{y}",
         "hovertext": [
          "br_states_paraiba",
          "br_states_sao_paulo",
          "br_states_amapa",
          "br_states_tocantins",
          "br_states_sergipe",
          "br_states_espirito_santo",
          "br_states_alagoas",
          "br_states_goias",
          "br_states_para",
          "br_states_roraima",
          "br_states_amazonas",
          "br_states_santa_catarina",
          "br_states_rondonia",
          "br_states_rio_grande_do_sul",
          "br_states_ceara",
          "br_states_mato_grosso_do_sul",
          "br_states_bahia",
          "br_states_maranhao",
          "br_states_acre",
          "br_states_minas_gerais",
          "br_states_rio_de_janeiro",
          "br_states_pernambuco",
          "br_states_piaui",
          "br_states_mato_grosso",
          "br_states_rio_grande_do_norte",
          "br_states_parana",
          "br_states_distrito_federal"
         ],
         "legendgroup": "region_type=state",
         "marker": {
          "color": "#00cc96",
          "symbol": "circle"
         },
         "mode": "markers",
         "name": "region_type=state",
         "showlegend": true,
         "type": "scatter",
         "x": [
          72253143.23,
          273709516.51,
          5462361.03,
          76107560,
          22540443.72,
          41327657.31,
          33282330.11,
          104906080.7,
          124786922.61,
          15146401.7,
          22751484.98,
          94462391.46,
          45291487.7,
          187197331.4,
          85406556.83,
          68403977.79,
          223231660.91,
          77087019.08,
          11975028.15,
          262010818.81,
          68664253.02,
          78296049.52,
          60752747.03,
          123897981.14,
          39961645.34,
          203385365.37,
          13394669.38
         ],
         "xaxis": "x",
         "y": [
          0.2596467853169876,
          0.2853556982855925,
          0.3689282415418469,
          0.44578869163924295,
          0.2324383651526673,
          0.2983339227721357,
          0.2631354363427174,
          0.2776074275479336,
          0.3501118346683844,
          0.35242730719822885,
          0.3427045803597393,
          0.3191762376958843,
          0.33653619016486264,
          0.3231918056443795,
          0.30203396659725584,
          0.3332254857215594,
          0.2722376795527333,
          0.3558850086262803,
          0.4047245233571951,
          0.2523440402803457,
          0.29971699371031885,
          0.2607934022173383,
          0.3959760012503454,
          0.3481698076642023,
          0.2955963379326049,
          0.3445840638489446,
          0.3535119332487892
         ],
         "yaxis": "y"
        },
        {
         "hoverlabel": {
          "namelength": 0
         },
         "hovertemplate": "<b>%{hovertext}</b><br><br>region_type=submetro<br>total_length=%{x}<br>daily_coef_var=%{y}",
         "hovertext": [
          "lima_metro1",
          "bogota_metro1",
          "lima_metro2",
          "bogota_metro2"
         ],
         "legendgroup": "region_type=submetro",
         "marker": {
          "color": "#ab63fa",
          "symbol": "circle"
         },
         "mode": "markers",
         "name": "region_type=submetro",
         "showlegend": true,
         "type": "scatter",
         "x": [
          2842856.32,
          2974819.36,
          13199025.83,
          5689517.58
         ],
         "xaxis": "x",
         "y": [
          0.3631105754913515,
          0.34849264712983274,
          0.19449973753520394,
          0.2613597399371207
         ],
         "yaxis": "y"
        }
       ],
       "layout": {
        "height": 600,
        "legend": {
         "tracegroupgap": 0
        },
        "template": {
         "data": {
          "bar": [
           {
            "error_x": {
             "color": "#2a3f5f"
            },
            "error_y": {
             "color": "#2a3f5f"
            },
            "marker": {
             "line": {
              "color": "white",
              "width": 0.5
             }
            },
            "type": "bar"
           }
          ],
          "barpolar": [
           {
            "marker": {
             "line": {
              "color": "white",
              "width": 0.5
             }
            },
            "type": "barpolar"
           }
          ],
          "carpet": [
           {
            "aaxis": {
             "endlinecolor": "#2a3f5f",
             "gridcolor": "#C8D4E3",
             "linecolor": "#C8D4E3",
             "minorgridcolor": "#C8D4E3",
             "startlinecolor": "#2a3f5f"
            },
            "baxis": {
             "endlinecolor": "#2a3f5f",
             "gridcolor": "#C8D4E3",
             "linecolor": "#C8D4E3",
             "minorgridcolor": "#C8D4E3",
             "startlinecolor": "#2a3f5f"
            },
            "type": "carpet"
           }
          ],
          "choropleth": [
           {
            "colorbar": {
             "outlinewidth": 0,
             "ticks": ""
            },
            "type": "choropleth"
           }
          ],
          "contour": [
           {
            "colorbar": {
             "outlinewidth": 0,
             "ticks": ""
            },
            "colorscale": [
             [
              0,
              "#0d0887"
             ],
             [
              0.1111111111111111,
              "#46039f"
             ],
             [
              0.2222222222222222,
              "#7201a8"
             ],
             [
              0.3333333333333333,
              "#9c179e"
             ],
             [
              0.4444444444444444,
              "#bd3786"
             ],
             [
              0.5555555555555556,
              "#d8576b"
             ],
             [
              0.6666666666666666,
              "#ed7953"
             ],
             [
              0.7777777777777778,
              "#fb9f3a"
             ],
             [
              0.8888888888888888,
              "#fdca26"
             ],
             [
              1,
              "#f0f921"
             ]
            ],
            "type": "contour"
           }
          ],
          "contourcarpet": [
           {
            "colorbar": {
             "outlinewidth": 0,
             "ticks": ""
            },
            "type": "contourcarpet"
           }
          ],
          "heatmap": [
           {
            "colorbar": {
             "outlinewidth": 0,
             "ticks": ""
            },
            "colorscale": [
             [
              0,
              "#0d0887"
             ],
             [
              0.1111111111111111,
              "#46039f"
             ],
             [
              0.2222222222222222,
              "#7201a8"
             ],
             [
              0.3333333333333333,
              "#9c179e"
             ],
             [
              0.4444444444444444,
              "#bd3786"
             ],
             [
              0.5555555555555556,
              "#d8576b"
             ],
             [
              0.6666666666666666,
              "#ed7953"
             ],
             [
              0.7777777777777778,
              "#fb9f3a"
             ],
             [
              0.8888888888888888,
              "#fdca26"
             ],
             [
              1,
              "#f0f921"
             ]
            ],
            "type": "heatmap"
           }
          ],
          "heatmapgl": [
           {
            "colorbar": {
             "outlinewidth": 0,
             "ticks": ""
            },
            "colorscale": [
             [
              0,
              "#0d0887"
             ],
             [
              0.1111111111111111,
              "#46039f"
             ],
             [
              0.2222222222222222,
              "#7201a8"
             ],
             [
              0.3333333333333333,
              "#9c179e"
             ],
             [
              0.4444444444444444,
              "#bd3786"
             ],
             [
              0.5555555555555556,
              "#d8576b"
             ],
             [
              0.6666666666666666,
              "#ed7953"
             ],
             [
              0.7777777777777778,
              "#fb9f3a"
             ],
             [
              0.8888888888888888,
              "#fdca26"
             ],
             [
              1,
              "#f0f921"
             ]
            ],
            "type": "heatmapgl"
           }
          ],
          "histogram": [
           {
            "marker": {
             "colorbar": {
              "outlinewidth": 0,
              "ticks": ""
             }
            },
            "type": "histogram"
           }
          ],
          "histogram2d": [
           {
            "colorbar": {
             "outlinewidth": 0,
             "ticks": ""
            },
            "colorscale": [
             [
              0,
              "#0d0887"
             ],
             [
              0.1111111111111111,
              "#46039f"
             ],
             [
              0.2222222222222222,
              "#7201a8"
             ],
             [
              0.3333333333333333,
              "#9c179e"
             ],
             [
              0.4444444444444444,
              "#bd3786"
             ],
             [
              0.5555555555555556,
              "#d8576b"
             ],
             [
              0.6666666666666666,
              "#ed7953"
             ],
             [
              0.7777777777777778,
              "#fb9f3a"
             ],
             [
              0.8888888888888888,
              "#fdca26"
             ],
             [
              1,
              "#f0f921"
             ]
            ],
            "type": "histogram2d"
           }
          ],
          "histogram2dcontour": [
           {
            "colorbar": {
             "outlinewidth": 0,
             "ticks": ""
            },
            "colorscale": [
             [
              0,
              "#0d0887"
             ],
             [
              0.1111111111111111,
              "#46039f"
             ],
             [
              0.2222222222222222,
              "#7201a8"
             ],
             [
              0.3333333333333333,
              "#9c179e"
             ],
             [
              0.4444444444444444,
              "#bd3786"
             ],
             [
              0.5555555555555556,
              "#d8576b"
             ],
             [
              0.6666666666666666,
              "#ed7953"
             ],
             [
              0.7777777777777778,
              "#fb9f3a"
             ],
             [
              0.8888888888888888,
              "#fdca26"
             ],
             [
              1,
              "#f0f921"
             ]
            ],
            "type": "histogram2dcontour"
           }
          ],
          "mesh3d": [
           {
            "colorbar": {
             "outlinewidth": 0,
             "ticks": ""
            },
            "type": "mesh3d"
           }
          ],
          "parcoords": [
           {
            "line": {
             "colorbar": {
              "outlinewidth": 0,
              "ticks": ""
             }
            },
            "type": "parcoords"
           }
          ],
          "pie": [
           {
            "automargin": true,
            "type": "pie"
           }
          ],
          "scatter": [
           {
            "marker": {
             "colorbar": {
              "outlinewidth": 0,
              "ticks": ""
             }
            },
            "type": "scatter"
           }
          ],
          "scatter3d": [
           {
            "line": {
             "colorbar": {
              "outlinewidth": 0,
              "ticks": ""
             }
            },
            "marker": {
             "colorbar": {
              "outlinewidth": 0,
              "ticks": ""
             }
            },
            "type": "scatter3d"
           }
          ],
          "scattercarpet": [
           {
            "marker": {
             "colorbar": {
              "outlinewidth": 0,
              "ticks": ""
             }
            },
            "type": "scattercarpet"
           }
          ],
          "scattergeo": [
           {
            "marker": {
             "colorbar": {
              "outlinewidth": 0,
              "ticks": ""
             }
            },
            "type": "scattergeo"
           }
          ],
          "scattergl": [
           {
            "marker": {
             "colorbar": {
              "outlinewidth": 0,
              "ticks": ""
             }
            },
            "type": "scattergl"
           }
          ],
          "scattermapbox": [
           {
            "marker": {
             "colorbar": {
              "outlinewidth": 0,
              "ticks": ""
             }
            },
            "type": "scattermapbox"
           }
          ],
          "scatterpolar": [
           {
            "marker": {
             "colorbar": {
              "outlinewidth": 0,
              "ticks": ""
             }
            },
            "type": "scatterpolar"
           }
          ],
          "scatterpolargl": [
           {
            "marker": {
             "colorbar": {
              "outlinewidth": 0,
              "ticks": ""
             }
            },
            "type": "scatterpolargl"
           }
          ],
          "scatterternary": [
           {
            "marker": {
             "colorbar": {
              "outlinewidth": 0,
              "ticks": ""
             }
            },
            "type": "scatterternary"
           }
          ],
          "surface": [
           {
            "colorbar": {
             "outlinewidth": 0,
             "ticks": ""
            },
            "colorscale": [
             [
              0,
              "#0d0887"
             ],
             [
              0.1111111111111111,
              "#46039f"
             ],
             [
              0.2222222222222222,
              "#7201a8"
             ],
             [
              0.3333333333333333,
              "#9c179e"
             ],
             [
              0.4444444444444444,
              "#bd3786"
             ],
             [
              0.5555555555555556,
              "#d8576b"
             ],
             [
              0.6666666666666666,
              "#ed7953"
             ],
             [
              0.7777777777777778,
              "#fb9f3a"
             ],
             [
              0.8888888888888888,
              "#fdca26"
             ],
             [
              1,
              "#f0f921"
             ]
            ],
            "type": "surface"
           }
          ],
          "table": [
           {
            "cells": {
             "fill": {
              "color": "#EBF0F8"
             },
             "line": {
              "color": "white"
             }
            },
            "header": {
             "fill": {
              "color": "#C8D4E3"
             },
             "line": {
              "color": "white"
             }
            },
            "type": "table"
           }
          ]
         },
         "layout": {
          "annotationdefaults": {
           "arrowcolor": "#2a3f5f",
           "arrowhead": 0,
           "arrowwidth": 1
          },
          "coloraxis": {
           "colorbar": {
            "outlinewidth": 0,
            "ticks": ""
           }
          },
          "colorscale": {
           "diverging": [
            [
             0,
             "#8e0152"
            ],
            [
             0.1,
             "#c51b7d"
            ],
            [
             0.2,
             "#de77ae"
            ],
            [
             0.3,
             "#f1b6da"
            ],
            [
             0.4,
             "#fde0ef"
            ],
            [
             0.5,
             "#f7f7f7"
            ],
            [
             0.6,
             "#e6f5d0"
            ],
            [
             0.7,
             "#b8e186"
            ],
            [
             0.8,
             "#7fbc41"
            ],
            [
             0.9,
             "#4d9221"
            ],
            [
             1,
             "#276419"
            ]
           ],
           "sequential": [
            [
             0,
             "#0d0887"
            ],
            [
             0.1111111111111111,
             "#46039f"
            ],
            [
             0.2222222222222222,
             "#7201a8"
            ],
            [
             0.3333333333333333,
             "#9c179e"
            ],
            [
             0.4444444444444444,
             "#bd3786"
            ],
            [
             0.5555555555555556,
             "#d8576b"
            ],
            [
             0.6666666666666666,
             "#ed7953"
            ],
            [
             0.7777777777777778,
             "#fb9f3a"
            ],
            [
             0.8888888888888888,
             "#fdca26"
            ],
            [
             1,
             "#f0f921"
            ]
           ],
           "sequentialminus": [
            [
             0,
             "#0d0887"
            ],
            [
             0.1111111111111111,
             "#46039f"
            ],
            [
             0.2222222222222222,
             "#7201a8"
            ],
            [
             0.3333333333333333,
             "#9c179e"
            ],
            [
             0.4444444444444444,
             "#bd3786"
            ],
            [
             0.5555555555555556,
             "#d8576b"
            ],
            [
             0.6666666666666666,
             "#ed7953"
            ],
            [
             0.7777777777777778,
             "#fb9f3a"
            ],
            [
             0.8888888888888888,
             "#fdca26"
            ],
            [
             1,
             "#f0f921"
            ]
           ]
          },
          "colorway": [
           "#636efa",
           "#EF553B",
           "#00cc96",
           "#ab63fa",
           "#FFA15A",
           "#19d3f3",
           "#FF6692",
           "#B6E880",
           "#FF97FF",
           "#FECB52"
          ],
          "font": {
           "color": "#2a3f5f"
          },
          "geo": {
           "bgcolor": "white",
           "lakecolor": "white",
           "landcolor": "white",
           "showlakes": true,
           "showland": true,
           "subunitcolor": "#C8D4E3"
          },
          "hoverlabel": {
           "align": "left"
          },
          "hovermode": "closest",
          "mapbox": {
           "style": "light"
          },
          "paper_bgcolor": "white",
          "plot_bgcolor": "white",
          "polar": {
           "angularaxis": {
            "gridcolor": "#EBF0F8",
            "linecolor": "#EBF0F8",
            "ticks": ""
           },
           "bgcolor": "white",
           "radialaxis": {
            "gridcolor": "#EBF0F8",
            "linecolor": "#EBF0F8",
            "ticks": ""
           }
          },
          "scene": {
           "xaxis": {
            "backgroundcolor": "white",
            "gridcolor": "#DFE8F3",
            "gridwidth": 2,
            "linecolor": "#EBF0F8",
            "showbackground": true,
            "ticks": "",
            "zerolinecolor": "#EBF0F8"
           },
           "yaxis": {
            "backgroundcolor": "white",
            "gridcolor": "#DFE8F3",
            "gridwidth": 2,
            "linecolor": "#EBF0F8",
            "showbackground": true,
            "ticks": "",
            "zerolinecolor": "#EBF0F8"
           },
           "zaxis": {
            "backgroundcolor": "white",
            "gridcolor": "#DFE8F3",
            "gridwidth": 2,
            "linecolor": "#EBF0F8",
            "showbackground": true,
            "ticks": "",
            "zerolinecolor": "#EBF0F8"
           }
          },
          "shapedefaults": {
           "line": {
            "color": "#2a3f5f"
           }
          },
          "ternary": {
           "aaxis": {
            "gridcolor": "#DFE8F3",
            "linecolor": "#A2B1C6",
            "ticks": ""
           },
           "baxis": {
            "gridcolor": "#DFE8F3",
            "linecolor": "#A2B1C6",
            "ticks": ""
           },
           "bgcolor": "white",
           "caxis": {
            "gridcolor": "#DFE8F3",
            "linecolor": "#A2B1C6",
            "ticks": ""
           }
          },
          "title": {
           "x": 0.05
          },
          "xaxis": {
           "automargin": true,
           "gridcolor": "#EBF0F8",
           "linecolor": "#EBF0F8",
           "ticks": "",
           "title": {
            "standoff": 15
           },
           "zerolinecolor": "#EBF0F8",
           "zerolinewidth": 2
          },
          "yaxis": {
           "automargin": true,
           "gridcolor": "#EBF0F8",
           "linecolor": "#EBF0F8",
           "ticks": "",
           "title": {
            "standoff": 15
           },
           "zerolinecolor": "#EBF0F8",
           "zerolinewidth": 2
          }
         }
        },
        "title": {
         "text": "Daily CV by Network Length (m)"
        },
        "xaxis": {
         "anchor": "y",
         "domain": [
          0,
          1
         ],
         "title": {
          "text": "Total Network Length (m)"
         },
         "type": "log"
        },
        "yaxis": {
         "anchor": "x",
         "domain": [
          0,
          1
         ],
         "title": {
          "text": "Daily CV (m)"
         }
        }
       }
      },
      "text/html": [
       "<div>\n",
       "        \n",
       "        \n",
       "            <div id=\"097b4b67-9ca1-41da-9646-7d64eb16a909\" class=\"plotly-graph-div\" style=\"height:600px; width:100%;\"></div>\n",
       "            <script type=\"text/javascript\">\n",
       "                require([\"plotly\"], function(Plotly) {\n",
       "                    window.PLOTLYENV=window.PLOTLYENV || {};\n",
       "                    \n",
       "                if (document.getElementById(\"097b4b67-9ca1-41da-9646-7d64eb16a909\")) {\n",
       "                    Plotly.newPlot(\n",
       "                        '097b4b67-9ca1-41da-9646-7d64eb16a909',\n",
       "                        [{\"hoverlabel\": {\"namelength\": 0}, \"hovertemplate\": \"<b>%{hovertext}</b><br><br>region_type=city<br>total_length=%{x}<br>daily_coef_var=%{y}\", \"hovertext\": [\"bogota\", \"managua\", \"kingston\", \"natal\", \"mendoza\", \"curitiba\", \"toluca\", \"barranquilla\", \"buenosaires\", \"paramaribo\", \"santodomingo\", \"saojosedoscampos\", \"panamacity\", \"sanfernado\", \"santiago\", \"fortaleza\", \"salvador\", \"manaus\", \"saopaulo\", \"teresina\", \"tegucigalpa\", \"georgetown\", \"ciudad_guayana\", \"montevideo\", \"merida\", \"porto_alergre\", \"arequipa\", \"tijuana\", \"saoluis\", \"cochabamba\", \"sorocaba\", \"joaopessoa\", \"mexicocity\", \"brasilia\", \"guadalajara\", \"lapaz\", \"nassau\", \"pereira\", \"asuncion\", \"santacruzdelasierra\", \"santiagocaballeros\", \"recife\", \"monterrey\", \"goiania\", \"guayaquil\", \"caracas\", \"guatemala\", \"cartagena\", \"belem\", \"pueble\", \"bridgetown\", \"riodejaneiro\", \"cucuta\", \"rosario\", \"quito\", \"campinas\", \"sanpedrosula\", \"maceio\", \"aguascalientes\", \"leon\", \"queretaro\", \"portauprince\", \"maracaibo\", \"cuenca\", \"barcelona\", \"medellin\", \"bucaramanga\", \"cordoba\", \"santos\", \"sanjose\", \"portofspain\", \"juarez\", \"sanluispotosi\", \"sansalvador\", \"santamarta\", \"valencia\", \"belohorizonte\", \"joinville\", \"vitoria\", \"maracay\", \"lima\", \"cali\", \"florianopolis\", \"torreon\"], \"legendgroup\": \"region_type=city\", \"marker\": {\"color\": \"#636efa\", \"symbol\": \"circle\"}, \"mode\": \"markers\", \"name\": \"region_type=city\", \"showlegend\": true, \"type\": \"scatter\", \"x\": [8552341.21, 2239902.08, 1384098.48, 6732125.97, 3089897.23, 7348502.6, 6136666.17, 2639515.32, 30933171.94, 1183306.95, 7299170.72, 2365061.2, 2764961.01, 917632.77, 11004409.22, 6732125.97, 4206246.08, 3659793.31, 32536728.08, 3320668.14, 2085039.51, 476718.56, 2066247.33, 3497729.6, 4476866.04, 8391221.97, 2047208.81, 5112669.24, 3647914.36, 3283487.02, 2453605.58, 2976535.15, 40190429.32, 7185451.29, 11643281.33, 3856207.02, 959262.78, 946731.26, 6101621.58, 6751472.15, 2282452.91, 6614950.94, 13334999.73, 8119324.16, 4986853.62, 3361654.08, 6262595.46, 1284823.98, 3420718.9, 7571375.34, 1158405.05, 17365642.39, 1840273.8, 3369242.9, 5492209.54, 7684727.72, 1618492.79, 2079899.71, 3105139.64, 4408240.76, 4116198.06, 2449439.58, 2788671.98, 1403538.07, 1138576.33, 3745773.63, 1689460.34, 5101973.49, 2982651.54, 4473574.9, 1008703.31, 5715830.87, 3459381.1, 2744860.18, 913226.04, 3383362.92, 9612852.93, 1616469.46, 4502136.87, 2651811.68, 17380502.07, 3313356.0, 362257.74, 4555559.77], \"xaxis\": \"x\", \"y\": [0.286687662643728, 0.3629514173828339, 0.4913199438629126, 0.3218078349339457, 0.5064936515589152, 0.4186142215253612, 0.3057780385086514, 0.3163910324449694, 0.3260660410011728, 0.5819431106660168, 0.3562465186615954, 0.3851238441317576, 0.4293121020093684, 0.5842253311109938, 0.4599735641538645, 0.3218078552150265, 0.4023471521516148, 0.36492219865273307, 0.38178256776564856, 0.35529926125508643, 0.4686928338648748, 0.6622589958240079, 0.9066220072286058, 0.2610481192533073, 0.32496415626767394, 0.3978839761328267, 0.3293463788343317, 0.537685041140292, 0.3600816246476056, 0.3901488336454791, 0.37320057041447896, 0.3655957268206133, 0.2902237749522706, 0.4273620854617822, 0.2789510545475381, 0.377591115337318, 0.5993929668036775, 0.3632141233098592, 0.5024926494510125, 0.3835259014471612, 0.345393403270178, 0.3334482519623064, 0.38381424639318334, 0.38130140623440745, 0.3696814397926295, 0.7585159205269386, 0.3335739853631477, 0.2780462537994965, 0.3373353933393028, 0.2542411161495161, 0.6461886109826176, 0.3491878604154344, 0.3687136406207601, 0.34350378923962294, 0.3347288418028682, 0.40524945878448937, 0.5099230688810314, 0.3557268854932578, 0.3471476256721193, 0.36042032822319375, 0.3112002843246247, 0.6332340212421065, 0.8193474859061922, 0.42672931063487374, 0.6327443923284488, 0.35203764596985515, 0.3485025391703524, 0.6082979716525952, 0.3547067910132126, 0.3625308614440186, 0.5838682256868514, 0.5369215735760726, 0.3980516132737778, 0.40309466693187546, 0.47455358827483296, 0.7708302668025113, 0.3701770949326142, 0.5238835892328816, 0.3782760731958649, 0.7313373114292863, 0.24784106107936546, 0.32744906787280204, 0.5351597012964407, 0.5089592897685637], \"yaxis\": \"y\"}, {\"hoverlabel\": {\"namelength\": 0}, \"hovertemplate\": \"<b>%{hovertext}</b><br><br>region_type=country<br>total_length=%{x}<br>daily_coef_var=%{y}\", \"hovertext\": [\"country_guyana\", \"country_ecuador\", \"country_nicaragua\", \"country_venezuela\", \"country_barbados\", \"country_costa_rica\", \"country_haiti\", \"country_uruguay\", \"country_bolivia\", \"country_guatemala\", \"country_peru\", \"country_colombia\", \"country_chile\", \"country_argentina\", \"country_paraguay\", \"country_honduras\", \"country_el_salvador\", \"country_trinidad_and_tobago\", \"country_jamaica\", \"country_panama\", \"country_the_bahamas\", \"country_suriname\", \"country_belize\", \"country_mexico\", \"country_dominican_republic\"], \"legendgroup\": \"region_type=country\", \"marker\": {\"color\": \"#EF553B\", \"symbol\": \"circle\"}, \"mode\": \"markers\", \"name\": \"region_type=country\", \"showlegend\": true, \"type\": \"scatter\", \"x\": [6241684.02, 110653842.64, 25571690.41, 139103484.21, 2300315.87, 42042600.16, 21717748.35, 44642077.17, 199169227.23999998, 56776843.35, 245723531.16, 198164320.3, 151818163.85, 575779290.14, 90047913.28, 39274098.85, 26153892.25, 10123486.6, 17337153.61, 23366911.63, 5999736.4, 5602976.41, 6865201.62, 391093708.64, 41058456.87], \"xaxis\": \"x\", \"y\": [0.8408325580616669, 0.24641806677734066, 0.2720620028090954, 0.6037744080533433, 0.4334737156391757, 0.21852737281934345, 0.8397854133052594, 0.36451897112327225, 0.32478331853071696, 0.2570009170262702, 0.19768579932496216, 0.2289632940046689, 0.23369150608189435, 0.2912960017701939, 0.4502005869871279, 0.3139711127545384, 0.3276504000971684, 0.4486804310597353, 0.24874123108136825, 0.26871986528755604, 0.4468837917815035, 0.4675533198608427, 0.6636937815775654, 0.279870068750045, 0.2954177233140175], \"yaxis\": \"y\"}, {\"hoverlabel\": {\"namelength\": 0}, \"hovertemplate\": \"<b>%{hovertext}</b><br><br>region_type=state<br>total_length=%{x}<br>daily_coef_var=%{y}\", \"hovertext\": [\"br_states_paraiba\", \"br_states_sao_paulo\", \"br_states_amapa\", \"br_states_tocantins\", \"br_states_sergipe\", \"br_states_espirito_santo\", \"br_states_alagoas\", \"br_states_goias\", \"br_states_para\", \"br_states_roraima\", \"br_states_amazonas\", \"br_states_santa_catarina\", \"br_states_rondonia\", \"br_states_rio_grande_do_sul\", \"br_states_ceara\", \"br_states_mato_grosso_do_sul\", \"br_states_bahia\", \"br_states_maranhao\", \"br_states_acre\", \"br_states_minas_gerais\", \"br_states_rio_de_janeiro\", \"br_states_pernambuco\", \"br_states_piaui\", \"br_states_mato_grosso\", \"br_states_rio_grande_do_norte\", \"br_states_parana\", \"br_states_distrito_federal\"], \"legendgroup\": \"region_type=state\", \"marker\": {\"color\": \"#00cc96\", \"symbol\": \"circle\"}, \"mode\": \"markers\", \"name\": \"region_type=state\", \"showlegend\": true, \"type\": \"scatter\", \"x\": [72253143.23, 273709516.51, 5462361.03, 76107560.0, 22540443.72, 41327657.31, 33282330.11, 104906080.7, 124786922.61, 15146401.7, 22751484.98, 94462391.46, 45291487.7, 187197331.4, 85406556.83, 68403977.79, 223231660.91, 77087019.08, 11975028.15, 262010818.81, 68664253.02, 78296049.52, 60752747.03, 123897981.14, 39961645.34, 203385365.37, 13394669.38], \"xaxis\": \"x\", \"y\": [0.2596467853169876, 0.2853556982855925, 0.3689282415418469, 0.44578869163924295, 0.2324383651526673, 0.2983339227721357, 0.2631354363427174, 0.2776074275479336, 0.3501118346683844, 0.35242730719822885, 0.3427045803597393, 0.3191762376958843, 0.33653619016486264, 0.3231918056443795, 0.30203396659725584, 0.3332254857215594, 0.2722376795527333, 0.3558850086262803, 0.4047245233571951, 0.2523440402803457, 0.29971699371031885, 0.2607934022173383, 0.3959760012503454, 0.3481698076642023, 0.2955963379326049, 0.3445840638489446, 0.3535119332487892], \"yaxis\": \"y\"}, {\"hoverlabel\": {\"namelength\": 0}, \"hovertemplate\": \"<b>%{hovertext}</b><br><br>region_type=submetro<br>total_length=%{x}<br>daily_coef_var=%{y}\", \"hovertext\": [\"lima_metro1\", \"bogota_metro1\", \"lima_metro2\", \"bogota_metro2\"], \"legendgroup\": \"region_type=submetro\", \"marker\": {\"color\": \"#ab63fa\", \"symbol\": \"circle\"}, \"mode\": \"markers\", \"name\": \"region_type=submetro\", \"showlegend\": true, \"type\": \"scatter\", \"x\": [2842856.32, 2974819.36, 13199025.83, 5689517.58], \"xaxis\": \"x\", \"y\": [0.3631105754913515, 0.34849264712983274, 0.19449973753520394, 0.2613597399371207], \"yaxis\": \"y\"}],\n",
       "                        {\"height\": 600, \"legend\": {\"tracegroupgap\": 0}, \"template\": {\"data\": {\"bar\": [{\"error_x\": {\"color\": \"#2a3f5f\"}, \"error_y\": {\"color\": \"#2a3f5f\"}, \"marker\": {\"line\": {\"color\": \"white\", \"width\": 0.5}}, \"type\": \"bar\"}], \"barpolar\": [{\"marker\": {\"line\": {\"color\": \"white\", \"width\": 0.5}}, \"type\": \"barpolar\"}], \"carpet\": [{\"aaxis\": {\"endlinecolor\": \"#2a3f5f\", \"gridcolor\": \"#C8D4E3\", \"linecolor\": \"#C8D4E3\", \"minorgridcolor\": \"#C8D4E3\", \"startlinecolor\": \"#2a3f5f\"}, \"baxis\": {\"endlinecolor\": \"#2a3f5f\", \"gridcolor\": \"#C8D4E3\", \"linecolor\": \"#C8D4E3\", \"minorgridcolor\": \"#C8D4E3\", \"startlinecolor\": \"#2a3f5f\"}, \"type\": \"carpet\"}], \"choropleth\": [{\"colorbar\": {\"outlinewidth\": 0, \"ticks\": \"\"}, \"type\": \"choropleth\"}], \"contour\": [{\"colorbar\": {\"outlinewidth\": 0, \"ticks\": \"\"}, \"colorscale\": [[0.0, \"#0d0887\"], [0.1111111111111111, \"#46039f\"], [0.2222222222222222, \"#7201a8\"], [0.3333333333333333, \"#9c179e\"], [0.4444444444444444, \"#bd3786\"], [0.5555555555555556, \"#d8576b\"], [0.6666666666666666, \"#ed7953\"], [0.7777777777777778, \"#fb9f3a\"], [0.8888888888888888, \"#fdca26\"], [1.0, \"#f0f921\"]], \"type\": \"contour\"}], \"contourcarpet\": [{\"colorbar\": {\"outlinewidth\": 0, \"ticks\": \"\"}, \"type\": \"contourcarpet\"}], \"heatmap\": [{\"colorbar\": {\"outlinewidth\": 0, \"ticks\": \"\"}, \"colorscale\": [[0.0, \"#0d0887\"], [0.1111111111111111, \"#46039f\"], [0.2222222222222222, \"#7201a8\"], [0.3333333333333333, \"#9c179e\"], [0.4444444444444444, \"#bd3786\"], [0.5555555555555556, \"#d8576b\"], [0.6666666666666666, \"#ed7953\"], [0.7777777777777778, \"#fb9f3a\"], [0.8888888888888888, \"#fdca26\"], [1.0, \"#f0f921\"]], \"type\": \"heatmap\"}], \"heatmapgl\": [{\"colorbar\": {\"outlinewidth\": 0, \"ticks\": \"\"}, \"colorscale\": [[0.0, \"#0d0887\"], [0.1111111111111111, \"#46039f\"], [0.2222222222222222, \"#7201a8\"], [0.3333333333333333, \"#9c179e\"], [0.4444444444444444, \"#bd3786\"], [0.5555555555555556, \"#d8576b\"], [0.6666666666666666, \"#ed7953\"], [0.7777777777777778, \"#fb9f3a\"], [0.8888888888888888, \"#fdca26\"], [1.0, \"#f0f921\"]], \"type\": \"heatmapgl\"}], \"histogram\": [{\"marker\": {\"colorbar\": {\"outlinewidth\": 0, \"ticks\": \"\"}}, \"type\": \"histogram\"}], \"histogram2d\": [{\"colorbar\": {\"outlinewidth\": 0, \"ticks\": \"\"}, \"colorscale\": [[0.0, \"#0d0887\"], [0.1111111111111111, \"#46039f\"], [0.2222222222222222, \"#7201a8\"], [0.3333333333333333, \"#9c179e\"], [0.4444444444444444, \"#bd3786\"], [0.5555555555555556, \"#d8576b\"], [0.6666666666666666, \"#ed7953\"], [0.7777777777777778, \"#fb9f3a\"], [0.8888888888888888, \"#fdca26\"], [1.0, \"#f0f921\"]], \"type\": \"histogram2d\"}], \"histogram2dcontour\": [{\"colorbar\": {\"outlinewidth\": 0, \"ticks\": \"\"}, \"colorscale\": [[0.0, \"#0d0887\"], [0.1111111111111111, \"#46039f\"], [0.2222222222222222, \"#7201a8\"], [0.3333333333333333, \"#9c179e\"], [0.4444444444444444, \"#bd3786\"], [0.5555555555555556, \"#d8576b\"], [0.6666666666666666, \"#ed7953\"], [0.7777777777777778, \"#fb9f3a\"], [0.8888888888888888, \"#fdca26\"], [1.0, \"#f0f921\"]], \"type\": \"histogram2dcontour\"}], \"mesh3d\": [{\"colorbar\": {\"outlinewidth\": 0, \"ticks\": \"\"}, \"type\": \"mesh3d\"}], \"parcoords\": [{\"line\": {\"colorbar\": {\"outlinewidth\": 0, \"ticks\": \"\"}}, \"type\": \"parcoords\"}], \"pie\": [{\"automargin\": true, \"type\": \"pie\"}], \"scatter\": [{\"marker\": {\"colorbar\": {\"outlinewidth\": 0, \"ticks\": \"\"}}, \"type\": \"scatter\"}], \"scatter3d\": [{\"line\": {\"colorbar\": {\"outlinewidth\": 0, \"ticks\": \"\"}}, \"marker\": {\"colorbar\": {\"outlinewidth\": 0, \"ticks\": \"\"}}, \"type\": \"scatter3d\"}], \"scattercarpet\": [{\"marker\": {\"colorbar\": {\"outlinewidth\": 0, \"ticks\": \"\"}}, \"type\": \"scattercarpet\"}], \"scattergeo\": [{\"marker\": {\"colorbar\": {\"outlinewidth\": 0, \"ticks\": \"\"}}, \"type\": \"scattergeo\"}], \"scattergl\": [{\"marker\": {\"colorbar\": {\"outlinewidth\": 0, \"ticks\": \"\"}}, \"type\": \"scattergl\"}], \"scattermapbox\": [{\"marker\": {\"colorbar\": {\"outlinewidth\": 0, \"ticks\": \"\"}}, \"type\": \"scattermapbox\"}], \"scatterpolar\": [{\"marker\": {\"colorbar\": {\"outlinewidth\": 0, \"ticks\": \"\"}}, \"type\": \"scatterpolar\"}], \"scatterpolargl\": [{\"marker\": {\"colorbar\": {\"outlinewidth\": 0, \"ticks\": \"\"}}, \"type\": \"scatterpolargl\"}], \"scatterternary\": [{\"marker\": {\"colorbar\": {\"outlinewidth\": 0, \"ticks\": \"\"}}, \"type\": \"scatterternary\"}], \"surface\": [{\"colorbar\": {\"outlinewidth\": 0, \"ticks\": \"\"}, \"colorscale\": [[0.0, \"#0d0887\"], [0.1111111111111111, \"#46039f\"], [0.2222222222222222, \"#7201a8\"], [0.3333333333333333, \"#9c179e\"], [0.4444444444444444, \"#bd3786\"], [0.5555555555555556, \"#d8576b\"], [0.6666666666666666, \"#ed7953\"], [0.7777777777777778, \"#fb9f3a\"], [0.8888888888888888, \"#fdca26\"], [1.0, \"#f0f921\"]], \"type\": \"surface\"}], \"table\": [{\"cells\": {\"fill\": {\"color\": \"#EBF0F8\"}, \"line\": {\"color\": \"white\"}}, \"header\": {\"fill\": {\"color\": \"#C8D4E3\"}, \"line\": {\"color\": \"white\"}}, \"type\": \"table\"}]}, \"layout\": {\"annotationdefaults\": {\"arrowcolor\": \"#2a3f5f\", \"arrowhead\": 0, \"arrowwidth\": 1}, \"coloraxis\": {\"colorbar\": {\"outlinewidth\": 0, \"ticks\": \"\"}}, \"colorscale\": {\"diverging\": [[0, \"#8e0152\"], [0.1, \"#c51b7d\"], [0.2, \"#de77ae\"], [0.3, \"#f1b6da\"], [0.4, \"#fde0ef\"], [0.5, \"#f7f7f7\"], [0.6, \"#e6f5d0\"], [0.7, \"#b8e186\"], [0.8, \"#7fbc41\"], [0.9, \"#4d9221\"], [1, \"#276419\"]], \"sequential\": [[0.0, \"#0d0887\"], [0.1111111111111111, \"#46039f\"], [0.2222222222222222, \"#7201a8\"], [0.3333333333333333, \"#9c179e\"], [0.4444444444444444, \"#bd3786\"], [0.5555555555555556, \"#d8576b\"], [0.6666666666666666, \"#ed7953\"], [0.7777777777777778, \"#fb9f3a\"], [0.8888888888888888, \"#fdca26\"], [1.0, \"#f0f921\"]], \"sequentialminus\": [[0.0, \"#0d0887\"], [0.1111111111111111, \"#46039f\"], [0.2222222222222222, \"#7201a8\"], [0.3333333333333333, \"#9c179e\"], [0.4444444444444444, \"#bd3786\"], [0.5555555555555556, \"#d8576b\"], [0.6666666666666666, \"#ed7953\"], [0.7777777777777778, \"#fb9f3a\"], [0.8888888888888888, \"#fdca26\"], [1.0, \"#f0f921\"]]}, \"colorway\": [\"#636efa\", \"#EF553B\", \"#00cc96\", \"#ab63fa\", \"#FFA15A\", \"#19d3f3\", \"#FF6692\", \"#B6E880\", \"#FF97FF\", \"#FECB52\"], \"font\": {\"color\": \"#2a3f5f\"}, \"geo\": {\"bgcolor\": \"white\", \"lakecolor\": \"white\", \"landcolor\": \"white\", \"showlakes\": true, \"showland\": true, \"subunitcolor\": \"#C8D4E3\"}, \"hoverlabel\": {\"align\": \"left\"}, \"hovermode\": \"closest\", \"mapbox\": {\"style\": \"light\"}, \"paper_bgcolor\": \"white\", \"plot_bgcolor\": \"white\", \"polar\": {\"angularaxis\": {\"gridcolor\": \"#EBF0F8\", \"linecolor\": \"#EBF0F8\", \"ticks\": \"\"}, \"bgcolor\": \"white\", \"radialaxis\": {\"gridcolor\": \"#EBF0F8\", \"linecolor\": \"#EBF0F8\", \"ticks\": \"\"}}, \"scene\": {\"xaxis\": {\"backgroundcolor\": \"white\", \"gridcolor\": \"#DFE8F3\", \"gridwidth\": 2, \"linecolor\": \"#EBF0F8\", \"showbackground\": true, \"ticks\": \"\", \"zerolinecolor\": \"#EBF0F8\"}, \"yaxis\": {\"backgroundcolor\": \"white\", \"gridcolor\": \"#DFE8F3\", \"gridwidth\": 2, \"linecolor\": \"#EBF0F8\", \"showbackground\": true, \"ticks\": \"\", \"zerolinecolor\": \"#EBF0F8\"}, \"zaxis\": {\"backgroundcolor\": \"white\", \"gridcolor\": \"#DFE8F3\", \"gridwidth\": 2, \"linecolor\": \"#EBF0F8\", \"showbackground\": true, \"ticks\": \"\", \"zerolinecolor\": \"#EBF0F8\"}}, \"shapedefaults\": {\"line\": {\"color\": \"#2a3f5f\"}}, \"ternary\": {\"aaxis\": {\"gridcolor\": \"#DFE8F3\", \"linecolor\": \"#A2B1C6\", \"ticks\": \"\"}, \"baxis\": {\"gridcolor\": \"#DFE8F3\", \"linecolor\": \"#A2B1C6\", \"ticks\": \"\"}, \"bgcolor\": \"white\", \"caxis\": {\"gridcolor\": \"#DFE8F3\", \"linecolor\": \"#A2B1C6\", \"ticks\": \"\"}}, \"title\": {\"x\": 0.05}, \"xaxis\": {\"automargin\": true, \"gridcolor\": \"#EBF0F8\", \"linecolor\": \"#EBF0F8\", \"ticks\": \"\", \"title\": {\"standoff\": 15}, \"zerolinecolor\": \"#EBF0F8\", \"zerolinewidth\": 2}, \"yaxis\": {\"automargin\": true, \"gridcolor\": \"#EBF0F8\", \"linecolor\": \"#EBF0F8\", \"ticks\": \"\", \"title\": {\"standoff\": 15}, \"zerolinecolor\": \"#EBF0F8\", \"zerolinewidth\": 2}}}, \"title\": {\"text\": \"Daily CV by Network Length (m)\"}, \"xaxis\": {\"anchor\": \"y\", \"domain\": [0.0, 1.0], \"title\": {\"text\": \"Total Network Length (m)\"}, \"type\": \"log\"}, \"yaxis\": {\"anchor\": \"x\", \"domain\": [0.0, 1.0], \"title\": {\"text\": \"Daily CV (m)\"}}},\n",
       "                        {\"responsive\": true}\n",
       "                    ).then(function(){\n",
       "                            \n",
       "var gd = document.getElementById('097b4b67-9ca1-41da-9646-7d64eb16a909');\n",
       "var x = new MutationObserver(function (mutations, observer) {{\n",
       "        var display = window.getComputedStyle(gd).display;\n",
       "        if (!display || display === 'none') {{\n",
       "            console.log([gd, 'removed!']);\n",
       "            Plotly.purge(gd);\n",
       "            observer.disconnect();\n",
       "        }}\n",
       "}});\n",
       "\n",
       "// Listen for the removal of the full notebook cells\n",
       "var notebookContainer = gd.closest('#notebook-container');\n",
       "if (notebookContainer) {{\n",
       "    x.observe(notebookContainer, {childList: true});\n",
       "}}\n",
       "\n",
       "// Listen for the clearing of the current output cell\n",
       "var outputEl = gd.closest('.output');\n",
       "if (outputEl) {{\n",
       "    x.observe(outputEl, {childList: true});\n",
       "}}\n",
       "\n",
       "                        })\n",
       "                };\n",
       "                });\n",
       "            </script>\n",
       "        </div>"
      ]
     },
     "metadata": {},
     "output_type": "display_data"
    }
   ],
   "source": [
    "fig = px.scatter(df.dropna(subset=['weekly_coef_var', 'daily_coef_var'])\\\n",
    "             .query('weekly_coef_var < 1').query('daily_coef_var < 1'),\n",
    "            y=\"daily_coef_var\", x=\"total_length\", color='region_type',\n",
    "            hover_name=\"region_slug\", template='plotly_white', title='Daily CV by Network Length (m)',\n",
    "           log_x=True)\n",
    "fig.update_yaxes(title_text='Daily CV (m)')\n",
    "fig.update_xaxes(title_text='Total Network Length (m)')\n",
    "\n",
    "fig.show()"
   ]
  },
  {
   "cell_type": "code",
   "execution_count": 112,
   "metadata": {},
   "outputs": [
    {
     "data": {
      "application/vnd.plotly.v1+json": {
       "config": {
        "plotlyServerURL": "https://plot.ly"
       },
       "data": [
        {
         "hoverlabel": {
          "namelength": 0
         },
         "hovertemplate": "<b>%{hovertext}</b><br><br>region_type=state<br>daily_osm_ratio=%{x}<br>daily_coef_var=%{y}",
         "hovertext": [
          "br_states_amazonas",
          "br_states_mato_grosso_do_sul",
          "br_states_parana",
          "br_states_acre",
          "br_states_rio_grande_do_sul",
          "br_states_ceara",
          "br_states_rio_grande_do_norte",
          "br_states_sergipe",
          "br_states_mato_grosso",
          "br_states_rio_de_janeiro",
          "br_states_paraiba",
          "br_states_distrito_federal",
          "br_states_amapa",
          "br_states_santa_catarina",
          "br_states_rondonia",
          "br_states_roraima",
          "br_states_minas_gerais",
          "br_states_alagoas",
          "br_states_espirito_santo",
          "br_states_bahia",
          "br_states_para",
          "br_states_goias",
          "br_states_piaui",
          "br_states_maranhao",
          "br_states_sao_paulo",
          "br_states_tocantins",
          "br_states_pernambuco"
         ],
         "legendgroup": "region_type=state",
         "marker": {
          "color": "#636efa",
          "symbol": "circle"
         },
         "mode": "markers",
         "name": "region_type=state",
         "showlegend": true,
         "type": "scatter",
         "x": [
          0.7185793123833542,
          0.3941254524581216,
          0.6418235791450306,
          0.2774338930867904,
          0.5783588900127838,
          0.575557829913139,
          0.46292551368728424,
          0.49648702943085843,
          0.2276667854383223,
          1.8594074754146432,
          0.2127843718474423,
          1.1960762365957773,
          0.7160013365406943,
          0.8949681119127314,
          0.18750739808983508,
          0.11859827394790348,
          0.8081376644277285,
          0.3632444457404412,
          0.5129557639182499,
          0.3297096128473022,
          0.2914026028379385,
          0.5611758362849311,
          0.2778623087553689,
          0.4462384494187606,
          1.2878967716387204,
          0.1572184360350262,
          0.70932076189726
         ],
         "xaxis": "x",
         "y": [
          0.34270458035973944,
          0.32869071101075326,
          0.3380504710563007,
          0.4047248820529346,
          0.32319153304274395,
          0.30203454218945675,
          0.28568241625828433,
          0.23243710401087828,
          0.3481695686385082,
          0.29971685599862447,
          0.2589462374420682,
          0.3535124646809541,
          0.3689280803032246,
          0.3010595050793401,
          0.33653580185604764,
          0.35242730719822873,
          0.252343869556849,
          0.2631353046792147,
          0.2983338500044998,
          0.2722376501394301,
          0.35011182662166684,
          0.27760766863621,
          0.3974879547862212,
          0.3556746878108039,
          0.2853557489296191,
          0.44578874482189684,
          0.2607934113352925
         ],
         "yaxis": "y"
        },
        {
         "hoverlabel": {
          "namelength": 0
         },
         "hovertemplate": "<b>%{hovertext}</b><br><br>region_type=city<br>daily_osm_ratio=%{x}<br>daily_coef_var=%{y}",
         "hovertext": [
          "ciudad_guayana",
          "joaopessoa",
          "mexicocity",
          "merida",
          "montevideo",
          "arequipa",
          "torreon",
          "saopaulo",
          "manaus",
          "lima",
          "fortaleza",
          "barranquilla",
          "buenosaires",
          "guatemala",
          "quito",
          "rosario",
          "kingston",
          "sansalvador",
          "tijuana",
          "guadalajara",
          "brasilia",
          "georgetown",
          "cucuta",
          "tegucigalpa",
          "cochabamba",
          "saoluis",
          "sorocaba",
          "juarez",
          "guayaquil",
          "bucaramanga",
          "cordoba",
          "santos",
          "medellin",
          "barquisimeto",
          "sanpedrosula",
          "vitoria",
          "riodejaneiro",
          "bridgetown",
          "toluca",
          "santamarta",
          "paramaribo",
          "belpoman",
          "sanluispotosi",
          "cartagena",
          "belem",
          "pueble",
          "bogota",
          "managua",
          "lapaz",
          "nassau",
          "valencia",
          "asuncion",
          "pereira",
          "santacruzdelasierra",
          "santiagocaballeros",
          "sanfernado",
          "panamacity",
          "goiania",
          "porto_alergre",
          "aguascalientes",
          "salvador",
          "santiago",
          "belohorizonte",
          "maracay",
          "leon",
          "queretaro",
          "caracas",
          "teresina",
          "maracaibo",
          "cuenca",
          "barcelona",
          "natal",
          "curitiba",
          "mendoza",
          "campinas",
          "santodomingo",
          "sanjose",
          "saojosedoscampos",
          "portofspain",
          "cali",
          "florianopolis",
          "recife",
          "joinville",
          "portauprince",
          "maceio",
          "monterrey"
         ],
         "legendgroup": "region_type=city",
         "marker": {
          "color": "#EF553B",
          "symbol": "circle"
         },
         "mode": "markers",
         "name": "region_type=city",
         "showlegend": true,
         "type": "scatter",
         "x": [
          0.004484246627057248,
          2.01025763114664,
          5.225306612586074,
          1.3643863045520819,
          4.317566120073066,
          2.0230418562004617,
          0.7024573571947778,
          5.837195667012971,
          4.299432236033078,
          4.811307531737534,
          null,
          4.480150966290643,
          2.6650833812579964,
          6.108819585955738,
          4.227752241657131,
          0.4558640968271716,
          0.40492391512959186,
          6.035763932970846,
          2.608693565064453,
          3.671910893895075,
          1.9569439849243526,
          0.055539780154356906,
          0.4219264740359812,
          0.9968203016605207,
          0.021917805444893496,
          2.522188964718214,
          1.1593226638998693,
          1.1345724459824316,
          1.9174279457101204,
          2.2308223895051946,
          1.069888683632262,
          3.9132502756837853,
          6.402951005933342,
          0.02900278324387338,
          0.6966672969884643,
          2.301305354654024,
          4.785418448910282,
          0.24444947606232525,
          2.642488485982017,
          1.5032724592964073,
          0.29322391716530716,
          0.007004636173098194,
          2.136485477219251,
          3.6199107219237137,
          4.337006990389498,
          2.3473349529869023,
          12.97851298340289,
          1.0804259141202004,
          0.047457350796675284,
          0.06573711847444044,
          0.05891161605107884,
          1.4567771978109216,
          4.122614880770942,
          0.7067410656082614,
          2.7673646641550222,
          2.637256373966579,
          8.043388193646965,
          1.6044791053859602,
          3.2089532225249497,
          1.3391404732130374,
          5.750109186363828,
          4.738144508063142,
          3.596589634704498,
          0.052996607451747134,
          1.7382671564002787,
          2.810867537403061,
          1.334112021311382,
          1.8188561237660816,
          0.004634863579844184,
          0.20552721092386245,
          0.035045762891937234,
          3.551598617542007,
          3.2282251372606585,
          0.4118175594072218,
          1.523046898290829,
          4.754540285895683,
          7.023485298663676,
          1.987931896876627,
          4.961844682101793,
          4.92317855783782,
          7.837085081599895,
          4.625501060584318,
          2.4248263894014896,
          0.07267759539583221,
          4.244696497579891,
          2.3158701245108357
         ],
         "xaxis": "x",
         "y": [
          0.9066220072286051,
          0.3655958312056823,
          0.2902237317080761,
          0.32496416087849855,
          0.20468089165248657,
          0.32934692608367744,
          0.48809945284770817,
          0.37636068077687135,
          0.36492225807681805,
          0.23876129112778036,
          null,
          0.31639189751065216,
          0.32606634511364446,
          0.33357462776076247,
          0.3347299959352709,
          0.34350559181800094,
          0.4913291726833447,
          0.40309553294909556,
          0.537685253323422,
          0.27895106834032424,
          0.34406161204145613,
          0.6622589958240076,
          0.3687175884818119,
          0.4686924540252124,
          0.39014883364547914,
          0.3600816855343443,
          0.373200561489382,
          0.536921884855973,
          0.3687076435201392,
          0.34850241567630474,
          0.3575820529839317,
          0.35470567958704524,
          0.3520384291831847,
          5.000836624039029,
          0.5099230295695194,
          0.3782760685057371,
          0.3491881292612089,
          0.6461872668454619,
          0.3057783161716411,
          0.4643124636430432,
          0.5139600018486953,
          1.9124153938180843,
          0.3980502863019545,
          0.2780440356966698,
          0.3333453499880895,
          0.2542412847083797,
          0.2866876584956238,
          0.36294052816805616,
          0.377596090987577,
          0.5993965854872565,
          0.7708302668025115,
          0.5024926785235193,
          0.36321671212309864,
          0.38352645272384767,
          0.34539339813362435,
          0.5828001765136647,
          0.4250830263588099,
          0.38130122856660387,
          0.39788423392994376,
          0.34714735820781484,
          0.40234689660051987,
          0.4599738309308236,
          0.3701771273115227,
          0.7313373114292862,
          0.3604209826420781,
          0.3112002112505185,
          0.7585161481714938,
          0.3552992369144361,
          0.8193474859061911,
          0.4353473727072898,
          0.6327443923284493,
          0.32180779929523895,
          0.40389542945084206,
          0.5064917725137037,
          0.4052491479572739,
          0.3562464928516007,
          0.349963955127426,
          0.3384913632669957,
          0.5838681867063404,
          0.3274479789476372,
          0.5351595673807292,
          0.3219486933740149,
          0.5238856056881268,
          0.6332300094555156,
          0.3510817391920265,
          0.3838139227543524
         ],
         "yaxis": "y"
        },
        {
         "hoverlabel": {
          "namelength": 0
         },
         "hovertemplate": "<b>%{hovertext}</b><br><br>region_type=submetro<br>daily_osm_ratio=%{x}<br>daily_coef_var=%{y}",
         "hovertext": [
          "ch_comunas_san_miguel",
          "ch_comunas_cerrillos",
          "ch_comunas_macul",
          "ch_comunas_independencia",
          "ch_comunas_vitacura",
          "bogota_metro2",
          "ch_comunas_isla_de_maipo",
          "ch_comunas_quilicura",
          "bogota_metro1",
          "ch_comunas_colina",
          "ch_comunas_san_jose_de_maipo",
          "ch_comunas_nunoa",
          "ch_comunas_la_florida",
          "ch_comunas_buin",
          "lima_metro1",
          "ch_comunas_san_ramon",
          "ch_comunas_pirque",
          "ch_comunas_alhue",
          "ch_comunas_providencia",
          "ch_comunas_las_condes",
          "ch_comunas_penalolen",
          "ch_comunas_melipilla",
          "ch_comunas_san_joaquin",
          "ch_comunas_el_monte",
          "ch_comunas_pedro_aguirre_cerda",
          "ch_comunas_maipu",
          "ch_comunas_curacavi",
          "ch_comunas_lo_prado",
          "ch_comunas_la_granja",
          "ch_comunas_huechuraba",
          "ch_comunas_renca",
          "ch_comunas_la_reina",
          "ch_comunas_lo_espejo",
          "ch_comunas_santiago",
          "ch_comunas_lampa",
          "ch_comunas_puente_alto",
          "ch_comunas_recoleta",
          "ch_comunas_pudahuel",
          "ch_comunas_tiltil",
          "ch_comunas_la_cisterna",
          "ch_comunas_maria_pinto",
          "ch_comunas_el_bosque",
          "ch_comunas_paine",
          "ch_comunas_san_bernardo",
          "ch_comunas_conchali",
          "ch_comunas_calera_de_tango",
          "ch_comunas_estacion_central",
          "ch_comunas_talagante",
          "ch_comunas_cerro_navia",
          "ch_comunas_lo_barnechea",
          "ch_comunas_san_pedro",
          "ch_comunas_quinta_normal",
          "ch_comunas_penaflor",
          "ch_comunas_la_pintana",
          "ch_comunas_padre_hurtado",
          "lima_metro2"
         ],
         "legendgroup": "region_type=submetro",
         "marker": {
          "color": "#00cc96",
          "symbol": "circle"
         },
         "mode": "markers",
         "name": "region_type=submetro",
         "showlegend": true,
         "type": "scatter",
         "x": [
          7.711553288466982,
          7.651970292673399,
          4.377651995176343,
          9.916886783804987,
          6.209334873088284,
          11.534987133306577,
          1.2233981755659191,
          4.51985095191497,
          19.763920352470233,
          1.3002938416736567,
          1.056075418930758,
          7.516807105278662,
          3.5754120373025486,
          1.8849888798641157,
          null,
          3.8028497654352225,
          1.4600141561925395,
          0.11947564370339443,
          16.285976988916822,
          7.759074330016357,
          3.339210783707968,
          1.5757436837013183,
          2.828596153239174,
          3.9208621314257504,
          3.6164087996524232,
          4.203412284121219,
          1.4229331593899226,
          1.8477461807507443,
          3.9904273873337517,
          5.324106101685326,
          3.0734434212369903,
          5.94684195735751,
          4.236590899161581,
          18.73692131303819,
          2.0515405157133726,
          2.2829503059383245,
          7.610852038573235,
          4.018546253426963,
          1.075890118946442,
          5.2730705792459,
          0.9940230211145146,
          1.4676577480295865,
          1.2422959584758737,
          5.097535333925444,
          2.4432968737373795,
          10.61611408782222,
          7.170499902247875,
          3.784359806771223,
          2.452708940960014,
          1.2015326496412293,
          1.5214849263860386,
          5.045392877315402,
          4.296974096450253,
          2.7759724268866934,
          3.5865542448345575,
          null
         ],
         "xaxis": "x",
         "y": [
          0.6084916725843549,
          0.6684229135655371,
          0.6109387748579097,
          0.5857725295000928,
          0.6729349859093304,
          0.25581161005232217,
          0.46514513736671736,
          0.46467325800817955,
          0.3388180766290231,
          0.40662008196680227,
          0.8090406881861733,
          0.578991780229477,
          0.458232575191991,
          0.3420271234348879,
          null,
          0.5707169179880194,
          0.31805080057514384,
          1.078131625106492,
          0.6512077622379593,
          0.6107678008378117,
          0.4771904113164088,
          0.4278382918627035,
          0.5017562886027293,
          0.7607652257979816,
          0.6586473987248482,
          0.4369292263147735,
          1.110467725603116,
          0.38888225163125045,
          0.4636023658401203,
          0.6186709762915342,
          0.7063312497386683,
          0.5214052398323856,
          0.5920728320429751,
          0.5243871557764146,
          0.45367465920147015,
          0.3629460981467281,
          0.5249367976361172,
          0.38044877141315026,
          0.5851819548529705,
          0.6202355088526681,
          0.49442028652045694,
          0.42323673557413904,
          0.7167887027523587,
          0.46949584060841704,
          0.5978698239739942,
          0.502429960560685,
          0.42276886224173754,
          0.5143083743914705,
          0.49909807443403065,
          0.5700826516041854,
          0.5583311828172288,
          0.36254823025770694,
          0.5553226121258814,
          0.29342487717173116,
          0.6236503730837831,
          null
         ],
         "yaxis": "y"
        },
        {
         "hoverlabel": {
          "namelength": 0
         },
         "hovertemplate": "<b>%{hovertext}</b><br><br>region_type=country<br>daily_osm_ratio=%{x}<br>daily_coef_var=%{y}",
         "hovertext": [
          "country_uruguay",
          "country_colombia",
          "country_jamaica",
          "country_panama",
          "country_costa_rica",
          "country_dominican_republic",
          "country_trinidad_and_tobago",
          "country_el_salvador",
          "country_brazil",
          "country_ecuador",
          "country_argentina",
          "country_haiti",
          "country_bolivia",
          "country_the_bahamas",
          "country_peru",
          "country_guyana",
          "country_guatemala",
          "country_suriname",
          "country_venezuela",
          "country_barbados",
          "country_paraguay",
          "country_honduras",
          "country_nicaragua",
          "country_mexico",
          "country_belize",
          "country_chile"
         ],
         "legendgroup": "region_type=country",
         "marker": {
          "color": "#ab63fa",
          "symbol": "circle"
         },
         "mode": "markers",
         "name": "region_type=country",
         "showlegend": true,
         "type": "scatter",
         "x": [
          0.5150916063462345,
          1.6053836619494881,
          0.12469103227438824,
          1.6207095759554053,
          2.0041679795303207,
          1.1537973213476993,
          1.579548406636602,
          1.1313036303463027,
          0.5798461128003746,
          0.3901701166011457,
          0.26488136373849763,
          0.020199110723755253,
          0.033600572119652936,
          0.04084551912290545,
          0.5177316922503449,
          0.01110715214579402,
          1.0970173616045136,
          0.08310424647788711,
          0.040372920279624545,
          0.1783028018200873,
          0.12361561300423887,
          0.20694914339387113,
          0.29120655264053324,
          0.8373607567261141,
          0.04695537499917587,
          1.0424155117582299
         ],
         "xaxis": "x",
         "y": [
          0.3195253591031879,
          0.2165932271976718,
          0.24873999173542552,
          0.26871972013224193,
          0.2108911326010436,
          0.2954176701432303,
          0.44243623945970767,
          0.3545758591822208,
          0.294303828364505,
          0.24641760251717057,
          0.27733339624314296,
          0.839785413305259,
          0.32478207675676024,
          0.4469010024911646,
          0.19768564156422747,
          0.8408325580616662,
          0.2570012487785124,
          0.46755331986084253,
          0.6037743487115133,
          0.4334737156391754,
          0.45020119783986,
          0.31396473518840023,
          0.27206233303729344,
          0.31167996362742945,
          0.6637048920017949,
          0.23369183905644395
         ],
         "yaxis": "y"
        },
        {
         "hoverlabel": {
          "namelength": 0
         },
         "hovertemplate": "<b>%{hovertext}</b><br><br>region_type=poi<br>daily_osm_ratio=%{x}<br>daily_coef_var=%{y}",
         "hovertext": [
          "santiago_place_of_marketplace",
          "santiago_place_of_worship"
         ],
         "legendgroup": "region_type=poi",
         "marker": {
          "color": "#FFA15A",
          "symbol": "circle"
         },
         "mode": "markers",
         "name": "region_type=poi",
         "showlegend": true,
         "type": "scatter",
         "x": [
          277.73241362700713,
          277.6678457515392
         ],
         "xaxis": "x",
         "y": [
          0.5129554912136075,
          0.5171876894323092
         ],
         "yaxis": "y"
        }
       ],
       "layout": {
        "height": 600,
        "legend": {
         "tracegroupgap": 0
        },
        "template": {
         "data": {
          "bar": [
           {
            "error_x": {
             "color": "#2a3f5f"
            },
            "error_y": {
             "color": "#2a3f5f"
            },
            "marker": {
             "line": {
              "color": "white",
              "width": 0.5
             }
            },
            "type": "bar"
           }
          ],
          "barpolar": [
           {
            "marker": {
             "line": {
              "color": "white",
              "width": 0.5
             }
            },
            "type": "barpolar"
           }
          ],
          "carpet": [
           {
            "aaxis": {
             "endlinecolor": "#2a3f5f",
             "gridcolor": "#C8D4E3",
             "linecolor": "#C8D4E3",
             "minorgridcolor": "#C8D4E3",
             "startlinecolor": "#2a3f5f"
            },
            "baxis": {
             "endlinecolor": "#2a3f5f",
             "gridcolor": "#C8D4E3",
             "linecolor": "#C8D4E3",
             "minorgridcolor": "#C8D4E3",
             "startlinecolor": "#2a3f5f"
            },
            "type": "carpet"
           }
          ],
          "choropleth": [
           {
            "colorbar": {
             "outlinewidth": 0,
             "ticks": ""
            },
            "type": "choropleth"
           }
          ],
          "contour": [
           {
            "colorbar": {
             "outlinewidth": 0,
             "ticks": ""
            },
            "colorscale": [
             [
              0,
              "#0d0887"
             ],
             [
              0.1111111111111111,
              "#46039f"
             ],
             [
              0.2222222222222222,
              "#7201a8"
             ],
             [
              0.3333333333333333,
              "#9c179e"
             ],
             [
              0.4444444444444444,
              "#bd3786"
             ],
             [
              0.5555555555555556,
              "#d8576b"
             ],
             [
              0.6666666666666666,
              "#ed7953"
             ],
             [
              0.7777777777777778,
              "#fb9f3a"
             ],
             [
              0.8888888888888888,
              "#fdca26"
             ],
             [
              1,
              "#f0f921"
             ]
            ],
            "type": "contour"
           }
          ],
          "contourcarpet": [
           {
            "colorbar": {
             "outlinewidth": 0,
             "ticks": ""
            },
            "type": "contourcarpet"
           }
          ],
          "heatmap": [
           {
            "colorbar": {
             "outlinewidth": 0,
             "ticks": ""
            },
            "colorscale": [
             [
              0,
              "#0d0887"
             ],
             [
              0.1111111111111111,
              "#46039f"
             ],
             [
              0.2222222222222222,
              "#7201a8"
             ],
             [
              0.3333333333333333,
              "#9c179e"
             ],
             [
              0.4444444444444444,
              "#bd3786"
             ],
             [
              0.5555555555555556,
              "#d8576b"
             ],
             [
              0.6666666666666666,
              "#ed7953"
             ],
             [
              0.7777777777777778,
              "#fb9f3a"
             ],
             [
              0.8888888888888888,
              "#fdca26"
             ],
             [
              1,
              "#f0f921"
             ]
            ],
            "type": "heatmap"
           }
          ],
          "heatmapgl": [
           {
            "colorbar": {
             "outlinewidth": 0,
             "ticks": ""
            },
            "colorscale": [
             [
              0,
              "#0d0887"
             ],
             [
              0.1111111111111111,
              "#46039f"
             ],
             [
              0.2222222222222222,
              "#7201a8"
             ],
             [
              0.3333333333333333,
              "#9c179e"
             ],
             [
              0.4444444444444444,
              "#bd3786"
             ],
             [
              0.5555555555555556,
              "#d8576b"
             ],
             [
              0.6666666666666666,
              "#ed7953"
             ],
             [
              0.7777777777777778,
              "#fb9f3a"
             ],
             [
              0.8888888888888888,
              "#fdca26"
             ],
             [
              1,
              "#f0f921"
             ]
            ],
            "type": "heatmapgl"
           }
          ],
          "histogram": [
           {
            "marker": {
             "colorbar": {
              "outlinewidth": 0,
              "ticks": ""
             }
            },
            "type": "histogram"
           }
          ],
          "histogram2d": [
           {
            "colorbar": {
             "outlinewidth": 0,
             "ticks": ""
            },
            "colorscale": [
             [
              0,
              "#0d0887"
             ],
             [
              0.1111111111111111,
              "#46039f"
             ],
             [
              0.2222222222222222,
              "#7201a8"
             ],
             [
              0.3333333333333333,
              "#9c179e"
             ],
             [
              0.4444444444444444,
              "#bd3786"
             ],
             [
              0.5555555555555556,
              "#d8576b"
             ],
             [
              0.6666666666666666,
              "#ed7953"
             ],
             [
              0.7777777777777778,
              "#fb9f3a"
             ],
             [
              0.8888888888888888,
              "#fdca26"
             ],
             [
              1,
              "#f0f921"
             ]
            ],
            "type": "histogram2d"
           }
          ],
          "histogram2dcontour": [
           {
            "colorbar": {
             "outlinewidth": 0,
             "ticks": ""
            },
            "colorscale": [
             [
              0,
              "#0d0887"
             ],
             [
              0.1111111111111111,
              "#46039f"
             ],
             [
              0.2222222222222222,
              "#7201a8"
             ],
             [
              0.3333333333333333,
              "#9c179e"
             ],
             [
              0.4444444444444444,
              "#bd3786"
             ],
             [
              0.5555555555555556,
              "#d8576b"
             ],
             [
              0.6666666666666666,
              "#ed7953"
             ],
             [
              0.7777777777777778,
              "#fb9f3a"
             ],
             [
              0.8888888888888888,
              "#fdca26"
             ],
             [
              1,
              "#f0f921"
             ]
            ],
            "type": "histogram2dcontour"
           }
          ],
          "mesh3d": [
           {
            "colorbar": {
             "outlinewidth": 0,
             "ticks": ""
            },
            "type": "mesh3d"
           }
          ],
          "parcoords": [
           {
            "line": {
             "colorbar": {
              "outlinewidth": 0,
              "ticks": ""
             }
            },
            "type": "parcoords"
           }
          ],
          "pie": [
           {
            "automargin": true,
            "type": "pie"
           }
          ],
          "scatter": [
           {
            "marker": {
             "colorbar": {
              "outlinewidth": 0,
              "ticks": ""
             }
            },
            "type": "scatter"
           }
          ],
          "scatter3d": [
           {
            "line": {
             "colorbar": {
              "outlinewidth": 0,
              "ticks": ""
             }
            },
            "marker": {
             "colorbar": {
              "outlinewidth": 0,
              "ticks": ""
             }
            },
            "type": "scatter3d"
           }
          ],
          "scattercarpet": [
           {
            "marker": {
             "colorbar": {
              "outlinewidth": 0,
              "ticks": ""
             }
            },
            "type": "scattercarpet"
           }
          ],
          "scattergeo": [
           {
            "marker": {
             "colorbar": {
              "outlinewidth": 0,
              "ticks": ""
             }
            },
            "type": "scattergeo"
           }
          ],
          "scattergl": [
           {
            "marker": {
             "colorbar": {
              "outlinewidth": 0,
              "ticks": ""
             }
            },
            "type": "scattergl"
           }
          ],
          "scattermapbox": [
           {
            "marker": {
             "colorbar": {
              "outlinewidth": 0,
              "ticks": ""
             }
            },
            "type": "scattermapbox"
           }
          ],
          "scatterpolar": [
           {
            "marker": {
             "colorbar": {
              "outlinewidth": 0,
              "ticks": ""
             }
            },
            "type": "scatterpolar"
           }
          ],
          "scatterpolargl": [
           {
            "marker": {
             "colorbar": {
              "outlinewidth": 0,
              "ticks": ""
             }
            },
            "type": "scatterpolargl"
           }
          ],
          "scatterternary": [
           {
            "marker": {
             "colorbar": {
              "outlinewidth": 0,
              "ticks": ""
             }
            },
            "type": "scatterternary"
           }
          ],
          "surface": [
           {
            "colorbar": {
             "outlinewidth": 0,
             "ticks": ""
            },
            "colorscale": [
             [
              0,
              "#0d0887"
             ],
             [
              0.1111111111111111,
              "#46039f"
             ],
             [
              0.2222222222222222,
              "#7201a8"
             ],
             [
              0.3333333333333333,
              "#9c179e"
             ],
             [
              0.4444444444444444,
              "#bd3786"
             ],
             [
              0.5555555555555556,
              "#d8576b"
             ],
             [
              0.6666666666666666,
              "#ed7953"
             ],
             [
              0.7777777777777778,
              "#fb9f3a"
             ],
             [
              0.8888888888888888,
              "#fdca26"
             ],
             [
              1,
              "#f0f921"
             ]
            ],
            "type": "surface"
           }
          ],
          "table": [
           {
            "cells": {
             "fill": {
              "color": "#EBF0F8"
             },
             "line": {
              "color": "white"
             }
            },
            "header": {
             "fill": {
              "color": "#C8D4E3"
             },
             "line": {
              "color": "white"
             }
            },
            "type": "table"
           }
          ]
         },
         "layout": {
          "annotationdefaults": {
           "arrowcolor": "#2a3f5f",
           "arrowhead": 0,
           "arrowwidth": 1
          },
          "coloraxis": {
           "colorbar": {
            "outlinewidth": 0,
            "ticks": ""
           }
          },
          "colorscale": {
           "diverging": [
            [
             0,
             "#8e0152"
            ],
            [
             0.1,
             "#c51b7d"
            ],
            [
             0.2,
             "#de77ae"
            ],
            [
             0.3,
             "#f1b6da"
            ],
            [
             0.4,
             "#fde0ef"
            ],
            [
             0.5,
             "#f7f7f7"
            ],
            [
             0.6,
             "#e6f5d0"
            ],
            [
             0.7,
             "#b8e186"
            ],
            [
             0.8,
             "#7fbc41"
            ],
            [
             0.9,
             "#4d9221"
            ],
            [
             1,
             "#276419"
            ]
           ],
           "sequential": [
            [
             0,
             "#0d0887"
            ],
            [
             0.1111111111111111,
             "#46039f"
            ],
            [
             0.2222222222222222,
             "#7201a8"
            ],
            [
             0.3333333333333333,
             "#9c179e"
            ],
            [
             0.4444444444444444,
             "#bd3786"
            ],
            [
             0.5555555555555556,
             "#d8576b"
            ],
            [
             0.6666666666666666,
             "#ed7953"
            ],
            [
             0.7777777777777778,
             "#fb9f3a"
            ],
            [
             0.8888888888888888,
             "#fdca26"
            ],
            [
             1,
             "#f0f921"
            ]
           ],
           "sequentialminus": [
            [
             0,
             "#0d0887"
            ],
            [
             0.1111111111111111,
             "#46039f"
            ],
            [
             0.2222222222222222,
             "#7201a8"
            ],
            [
             0.3333333333333333,
             "#9c179e"
            ],
            [
             0.4444444444444444,
             "#bd3786"
            ],
            [
             0.5555555555555556,
             "#d8576b"
            ],
            [
             0.6666666666666666,
             "#ed7953"
            ],
            [
             0.7777777777777778,
             "#fb9f3a"
            ],
            [
             0.8888888888888888,
             "#fdca26"
            ],
            [
             1,
             "#f0f921"
            ]
           ]
          },
          "colorway": [
           "#636efa",
           "#EF553B",
           "#00cc96",
           "#ab63fa",
           "#FFA15A",
           "#19d3f3",
           "#FF6692",
           "#B6E880",
           "#FF97FF",
           "#FECB52"
          ],
          "font": {
           "color": "#2a3f5f"
          },
          "geo": {
           "bgcolor": "white",
           "lakecolor": "white",
           "landcolor": "white",
           "showlakes": true,
           "showland": true,
           "subunitcolor": "#C8D4E3"
          },
          "hoverlabel": {
           "align": "left"
          },
          "hovermode": "closest",
          "mapbox": {
           "style": "light"
          },
          "paper_bgcolor": "white",
          "plot_bgcolor": "white",
          "polar": {
           "angularaxis": {
            "gridcolor": "#EBF0F8",
            "linecolor": "#EBF0F8",
            "ticks": ""
           },
           "bgcolor": "white",
           "radialaxis": {
            "gridcolor": "#EBF0F8",
            "linecolor": "#EBF0F8",
            "ticks": ""
           }
          },
          "scene": {
           "xaxis": {
            "backgroundcolor": "white",
            "gridcolor": "#DFE8F3",
            "gridwidth": 2,
            "linecolor": "#EBF0F8",
            "showbackground": true,
            "ticks": "",
            "zerolinecolor": "#EBF0F8"
           },
           "yaxis": {
            "backgroundcolor": "white",
            "gridcolor": "#DFE8F3",
            "gridwidth": 2,
            "linecolor": "#EBF0F8",
            "showbackground": true,
            "ticks": "",
            "zerolinecolor": "#EBF0F8"
           },
           "zaxis": {
            "backgroundcolor": "white",
            "gridcolor": "#DFE8F3",
            "gridwidth": 2,
            "linecolor": "#EBF0F8",
            "showbackground": true,
            "ticks": "",
            "zerolinecolor": "#EBF0F8"
           }
          },
          "shapedefaults": {
           "line": {
            "color": "#2a3f5f"
           }
          },
          "ternary": {
           "aaxis": {
            "gridcolor": "#DFE8F3",
            "linecolor": "#A2B1C6",
            "ticks": ""
           },
           "baxis": {
            "gridcolor": "#DFE8F3",
            "linecolor": "#A2B1C6",
            "ticks": ""
           },
           "bgcolor": "white",
           "caxis": {
            "gridcolor": "#DFE8F3",
            "linecolor": "#A2B1C6",
            "ticks": ""
           }
          },
          "title": {
           "x": 0.05
          },
          "xaxis": {
           "automargin": true,
           "gridcolor": "#EBF0F8",
           "linecolor": "#EBF0F8",
           "ticks": "",
           "title": {
            "standoff": 15
           },
           "zerolinecolor": "#EBF0F8",
           "zerolinewidth": 2
          },
          "yaxis": {
           "automargin": true,
           "gridcolor": "#EBF0F8",
           "linecolor": "#EBF0F8",
           "ticks": "",
           "title": {
            "standoff": 15
           },
           "zerolinecolor": "#EBF0F8",
           "zerolinewidth": 2
          }
         }
        },
        "title": {
         "text": "Daily CV by Network Length (m)"
        },
        "xaxis": {
         "anchor": "y",
         "domain": [
          0,
          1
         ],
         "title": {
          "text": "Daily TCI Mean over Network Lenth"
         },
         "type": "log"
        },
        "yaxis": {
         "anchor": "x",
         "domain": [
          0,
          1
         ],
         "title": {
          "text": "Daily CV (m)"
         }
        }
       }
      },
      "text/html": [
       "<div>\n",
       "        \n",
       "        \n",
       "            <div id=\"6d38e8fa-8fb1-46f2-88d6-6efb21b4e73a\" class=\"plotly-graph-div\" style=\"height:600px; width:100%;\"></div>\n",
       "            <script type=\"text/javascript\">\n",
       "                require([\"plotly\"], function(Plotly) {\n",
       "                    window.PLOTLYENV=window.PLOTLYENV || {};\n",
       "                    \n",
       "                if (document.getElementById(\"6d38e8fa-8fb1-46f2-88d6-6efb21b4e73a\")) {\n",
       "                    Plotly.newPlot(\n",
       "                        '6d38e8fa-8fb1-46f2-88d6-6efb21b4e73a',\n",
       "                        [{\"hoverlabel\": {\"namelength\": 0}, \"hovertemplate\": \"<b>%{hovertext}</b><br><br>region_type=state<br>daily_osm_ratio=%{x}<br>daily_coef_var=%{y}\", \"hovertext\": [\"br_states_amazonas\", \"br_states_mato_grosso_do_sul\", \"br_states_parana\", \"br_states_acre\", \"br_states_rio_grande_do_sul\", \"br_states_ceara\", \"br_states_rio_grande_do_norte\", \"br_states_sergipe\", \"br_states_mato_grosso\", \"br_states_rio_de_janeiro\", \"br_states_paraiba\", \"br_states_distrito_federal\", \"br_states_amapa\", \"br_states_santa_catarina\", \"br_states_rondonia\", \"br_states_roraima\", \"br_states_minas_gerais\", \"br_states_alagoas\", \"br_states_espirito_santo\", \"br_states_bahia\", \"br_states_para\", \"br_states_goias\", \"br_states_piaui\", \"br_states_maranhao\", \"br_states_sao_paulo\", \"br_states_tocantins\", \"br_states_pernambuco\"], \"legendgroup\": \"region_type=state\", \"marker\": {\"color\": \"#636efa\", \"symbol\": \"circle\"}, \"mode\": \"markers\", \"name\": \"region_type=state\", \"showlegend\": true, \"type\": \"scatter\", \"x\": [0.7185793123833542, 0.3941254524581216, 0.6418235791450306, 0.2774338930867904, 0.5783588900127838, 0.575557829913139, 0.46292551368728424, 0.49648702943085843, 0.2276667854383223, 1.8594074754146432, 0.2127843718474423, 1.1960762365957773, 0.7160013365406943, 0.8949681119127314, 0.18750739808983508, 0.11859827394790348, 0.8081376644277285, 0.3632444457404412, 0.5129557639182499, 0.3297096128473022, 0.2914026028379385, 0.5611758362849311, 0.2778623087553689, 0.4462384494187606, 1.2878967716387204, 0.1572184360350262, 0.70932076189726], \"xaxis\": \"x\", \"y\": [0.34270458035973944, 0.32869071101075326, 0.3380504710563007, 0.4047248820529346, 0.32319153304274395, 0.30203454218945675, 0.28568241625828433, 0.23243710401087828, 0.3481695686385082, 0.29971685599862447, 0.2589462374420682, 0.3535124646809541, 0.3689280803032246, 0.3010595050793401, 0.33653580185604764, 0.35242730719822873, 0.252343869556849, 0.2631353046792147, 0.2983338500044998, 0.2722376501394301, 0.35011182662166684, 0.27760766863621, 0.3974879547862212, 0.3556746878108039, 0.2853557489296191, 0.44578874482189684, 0.2607934113352925], \"yaxis\": \"y\"}, {\"hoverlabel\": {\"namelength\": 0}, \"hovertemplate\": \"<b>%{hovertext}</b><br><br>region_type=city<br>daily_osm_ratio=%{x}<br>daily_coef_var=%{y}\", \"hovertext\": [\"ciudad_guayana\", \"joaopessoa\", \"mexicocity\", \"merida\", \"montevideo\", \"arequipa\", \"torreon\", \"saopaulo\", \"manaus\", \"lima\", \"fortaleza\", \"barranquilla\", \"buenosaires\", \"guatemala\", \"quito\", \"rosario\", \"kingston\", \"sansalvador\", \"tijuana\", \"guadalajara\", \"brasilia\", \"georgetown\", \"cucuta\", \"tegucigalpa\", \"cochabamba\", \"saoluis\", \"sorocaba\", \"juarez\", \"guayaquil\", \"bucaramanga\", \"cordoba\", \"santos\", \"medellin\", \"barquisimeto\", \"sanpedrosula\", \"vitoria\", \"riodejaneiro\", \"bridgetown\", \"toluca\", \"santamarta\", \"paramaribo\", \"belpoman\", \"sanluispotosi\", \"cartagena\", \"belem\", \"pueble\", \"bogota\", \"managua\", \"lapaz\", \"nassau\", \"valencia\", \"asuncion\", \"pereira\", \"santacruzdelasierra\", \"santiagocaballeros\", \"sanfernado\", \"panamacity\", \"goiania\", \"porto_alergre\", \"aguascalientes\", \"salvador\", \"santiago\", \"belohorizonte\", \"maracay\", \"leon\", \"queretaro\", \"caracas\", \"teresina\", \"maracaibo\", \"cuenca\", \"barcelona\", \"natal\", \"curitiba\", \"mendoza\", \"campinas\", \"santodomingo\", \"sanjose\", \"saojosedoscampos\", \"portofspain\", \"cali\", \"florianopolis\", \"recife\", \"joinville\", \"portauprince\", \"maceio\", \"monterrey\"], \"legendgroup\": \"region_type=city\", \"marker\": {\"color\": \"#EF553B\", \"symbol\": \"circle\"}, \"mode\": \"markers\", \"name\": \"region_type=city\", \"showlegend\": true, \"type\": \"scatter\", \"x\": [0.004484246627057248, 2.01025763114664, 5.225306612586074, 1.3643863045520819, 4.317566120073066, 2.0230418562004617, 0.7024573571947778, 5.837195667012971, 4.299432236033078, 4.811307531737534, null, 4.480150966290643, 2.6650833812579964, 6.108819585955738, 4.227752241657131, 0.4558640968271716, 0.40492391512959186, 6.035763932970846, 2.608693565064453, 3.671910893895075, 1.9569439849243526, 0.055539780154356906, 0.4219264740359812, 0.9968203016605207, 0.021917805444893496, 2.522188964718214, 1.1593226638998693, 1.1345724459824316, 1.9174279457101204, 2.2308223895051946, 1.069888683632262, 3.9132502756837853, 6.402951005933342, 0.02900278324387338, 0.6966672969884643, 2.301305354654024, 4.785418448910282, 0.24444947606232525, 2.642488485982017, 1.5032724592964073, 0.29322391716530716, 0.007004636173098194, 2.136485477219251, 3.6199107219237137, 4.337006990389498, 2.3473349529869023, 12.97851298340289, 1.0804259141202004, 0.047457350796675284, 0.06573711847444044, 0.05891161605107884, 1.4567771978109216, 4.122614880770942, 0.7067410656082614, 2.7673646641550222, 2.637256373966579, 8.043388193646965, 1.6044791053859602, 3.2089532225249497, 1.3391404732130374, 5.750109186363828, 4.738144508063142, 3.596589634704498, 0.052996607451747134, 1.7382671564002787, 2.810867537403061, 1.334112021311382, 1.8188561237660816, 0.004634863579844184, 0.20552721092386245, 0.035045762891937234, 3.551598617542007, 3.2282251372606585, 0.4118175594072218, 1.523046898290829, 4.754540285895683, 7.023485298663676, 1.987931896876627, 4.961844682101793, 4.92317855783782, 7.837085081599895, 4.625501060584318, 2.4248263894014896, 0.07267759539583221, 4.244696497579891, 2.3158701245108357], \"xaxis\": \"x\", \"y\": [0.9066220072286051, 0.3655958312056823, 0.2902237317080761, 0.32496416087849855, 0.20468089165248657, 0.32934692608367744, 0.48809945284770817, 0.37636068077687135, 0.36492225807681805, 0.23876129112778036, null, 0.31639189751065216, 0.32606634511364446, 0.33357462776076247, 0.3347299959352709, 0.34350559181800094, 0.4913291726833447, 0.40309553294909556, 0.537685253323422, 0.27895106834032424, 0.34406161204145613, 0.6622589958240076, 0.3687175884818119, 0.4686924540252124, 0.39014883364547914, 0.3600816855343443, 0.373200561489382, 0.536921884855973, 0.3687076435201392, 0.34850241567630474, 0.3575820529839317, 0.35470567958704524, 0.3520384291831847, 5.000836624039029, 0.5099230295695194, 0.3782760685057371, 0.3491881292612089, 0.6461872668454619, 0.3057783161716411, 0.4643124636430432, 0.5139600018486953, 1.9124153938180843, 0.3980502863019545, 0.2780440356966698, 0.3333453499880895, 0.2542412847083797, 0.2866876584956238, 0.36294052816805616, 0.377596090987577, 0.5993965854872565, 0.7708302668025115, 0.5024926785235193, 0.36321671212309864, 0.38352645272384767, 0.34539339813362435, 0.5828001765136647, 0.4250830263588099, 0.38130122856660387, 0.39788423392994376, 0.34714735820781484, 0.40234689660051987, 0.4599738309308236, 0.3701771273115227, 0.7313373114292862, 0.3604209826420781, 0.3112002112505185, 0.7585161481714938, 0.3552992369144361, 0.8193474859061911, 0.4353473727072898, 0.6327443923284493, 0.32180779929523895, 0.40389542945084206, 0.5064917725137037, 0.4052491479572739, 0.3562464928516007, 0.349963955127426, 0.3384913632669957, 0.5838681867063404, 0.3274479789476372, 0.5351595673807292, 0.3219486933740149, 0.5238856056881268, 0.6332300094555156, 0.3510817391920265, 0.3838139227543524], \"yaxis\": \"y\"}, {\"hoverlabel\": {\"namelength\": 0}, \"hovertemplate\": \"<b>%{hovertext}</b><br><br>region_type=submetro<br>daily_osm_ratio=%{x}<br>daily_coef_var=%{y}\", \"hovertext\": [\"ch_comunas_san_miguel\", \"ch_comunas_cerrillos\", \"ch_comunas_macul\", \"ch_comunas_independencia\", \"ch_comunas_vitacura\", \"bogota_metro2\", \"ch_comunas_isla_de_maipo\", \"ch_comunas_quilicura\", \"bogota_metro1\", \"ch_comunas_colina\", \"ch_comunas_san_jose_de_maipo\", \"ch_comunas_nunoa\", \"ch_comunas_la_florida\", \"ch_comunas_buin\", \"lima_metro1\", \"ch_comunas_san_ramon\", \"ch_comunas_pirque\", \"ch_comunas_alhue\", \"ch_comunas_providencia\", \"ch_comunas_las_condes\", \"ch_comunas_penalolen\", \"ch_comunas_melipilla\", \"ch_comunas_san_joaquin\", \"ch_comunas_el_monte\", \"ch_comunas_pedro_aguirre_cerda\", \"ch_comunas_maipu\", \"ch_comunas_curacavi\", \"ch_comunas_lo_prado\", \"ch_comunas_la_granja\", \"ch_comunas_huechuraba\", \"ch_comunas_renca\", \"ch_comunas_la_reina\", \"ch_comunas_lo_espejo\", \"ch_comunas_santiago\", \"ch_comunas_lampa\", \"ch_comunas_puente_alto\", \"ch_comunas_recoleta\", \"ch_comunas_pudahuel\", \"ch_comunas_tiltil\", \"ch_comunas_la_cisterna\", \"ch_comunas_maria_pinto\", \"ch_comunas_el_bosque\", \"ch_comunas_paine\", \"ch_comunas_san_bernardo\", \"ch_comunas_conchali\", \"ch_comunas_calera_de_tango\", \"ch_comunas_estacion_central\", \"ch_comunas_talagante\", \"ch_comunas_cerro_navia\", \"ch_comunas_lo_barnechea\", \"ch_comunas_san_pedro\", \"ch_comunas_quinta_normal\", \"ch_comunas_penaflor\", \"ch_comunas_la_pintana\", \"ch_comunas_padre_hurtado\", \"lima_metro2\"], \"legendgroup\": \"region_type=submetro\", \"marker\": {\"color\": \"#00cc96\", \"symbol\": \"circle\"}, \"mode\": \"markers\", \"name\": \"region_type=submetro\", \"showlegend\": true, \"type\": \"scatter\", \"x\": [7.711553288466982, 7.651970292673399, 4.377651995176343, 9.916886783804987, 6.209334873088284, 11.534987133306577, 1.2233981755659191, 4.51985095191497, 19.763920352470233, 1.3002938416736567, 1.056075418930758, 7.516807105278662, 3.5754120373025486, 1.8849888798641157, null, 3.8028497654352225, 1.4600141561925395, 0.11947564370339443, 16.285976988916822, 7.759074330016357, 3.339210783707968, 1.5757436837013183, 2.828596153239174, 3.9208621314257504, 3.6164087996524232, 4.203412284121219, 1.4229331593899226, 1.8477461807507443, 3.9904273873337517, 5.324106101685326, 3.0734434212369903, 5.94684195735751, 4.236590899161581, 18.73692131303819, 2.0515405157133726, 2.2829503059383245, 7.610852038573235, 4.018546253426963, 1.075890118946442, 5.2730705792459, 0.9940230211145146, 1.4676577480295865, 1.2422959584758737, 5.097535333925444, 2.4432968737373795, 10.61611408782222, 7.170499902247875, 3.784359806771223, 2.452708940960014, 1.2015326496412293, 1.5214849263860386, 5.045392877315402, 4.296974096450253, 2.7759724268866934, 3.5865542448345575, null], \"xaxis\": \"x\", \"y\": [0.6084916725843549, 0.6684229135655371, 0.6109387748579097, 0.5857725295000928, 0.6729349859093304, 0.25581161005232217, 0.46514513736671736, 0.46467325800817955, 0.3388180766290231, 0.40662008196680227, 0.8090406881861733, 0.578991780229477, 0.458232575191991, 0.3420271234348879, null, 0.5707169179880194, 0.31805080057514384, 1.078131625106492, 0.6512077622379593, 0.6107678008378117, 0.4771904113164088, 0.4278382918627035, 0.5017562886027293, 0.7607652257979816, 0.6586473987248482, 0.4369292263147735, 1.110467725603116, 0.38888225163125045, 0.4636023658401203, 0.6186709762915342, 0.7063312497386683, 0.5214052398323856, 0.5920728320429751, 0.5243871557764146, 0.45367465920147015, 0.3629460981467281, 0.5249367976361172, 0.38044877141315026, 0.5851819548529705, 0.6202355088526681, 0.49442028652045694, 0.42323673557413904, 0.7167887027523587, 0.46949584060841704, 0.5978698239739942, 0.502429960560685, 0.42276886224173754, 0.5143083743914705, 0.49909807443403065, 0.5700826516041854, 0.5583311828172288, 0.36254823025770694, 0.5553226121258814, 0.29342487717173116, 0.6236503730837831, null], \"yaxis\": \"y\"}, {\"hoverlabel\": {\"namelength\": 0}, \"hovertemplate\": \"<b>%{hovertext}</b><br><br>region_type=country<br>daily_osm_ratio=%{x}<br>daily_coef_var=%{y}\", \"hovertext\": [\"country_uruguay\", \"country_colombia\", \"country_jamaica\", \"country_panama\", \"country_costa_rica\", \"country_dominican_republic\", \"country_trinidad_and_tobago\", \"country_el_salvador\", \"country_brazil\", \"country_ecuador\", \"country_argentina\", \"country_haiti\", \"country_bolivia\", \"country_the_bahamas\", \"country_peru\", \"country_guyana\", \"country_guatemala\", \"country_suriname\", \"country_venezuela\", \"country_barbados\", \"country_paraguay\", \"country_honduras\", \"country_nicaragua\", \"country_mexico\", \"country_belize\", \"country_chile\"], \"legendgroup\": \"region_type=country\", \"marker\": {\"color\": \"#ab63fa\", \"symbol\": \"circle\"}, \"mode\": \"markers\", \"name\": \"region_type=country\", \"showlegend\": true, \"type\": \"scatter\", \"x\": [0.5150916063462345, 1.6053836619494881, 0.12469103227438824, 1.6207095759554053, 2.0041679795303207, 1.1537973213476993, 1.579548406636602, 1.1313036303463027, 0.5798461128003746, 0.3901701166011457, 0.26488136373849763, 0.020199110723755253, 0.033600572119652936, 0.04084551912290545, 0.5177316922503449, 0.01110715214579402, 1.0970173616045136, 0.08310424647788711, 0.040372920279624545, 0.1783028018200873, 0.12361561300423887, 0.20694914339387113, 0.29120655264053324, 0.8373607567261141, 0.04695537499917587, 1.0424155117582299], \"xaxis\": \"x\", \"y\": [0.3195253591031879, 0.2165932271976718, 0.24873999173542552, 0.26871972013224193, 0.2108911326010436, 0.2954176701432303, 0.44243623945970767, 0.3545758591822208, 0.294303828364505, 0.24641760251717057, 0.27733339624314296, 0.839785413305259, 0.32478207675676024, 0.4469010024911646, 0.19768564156422747, 0.8408325580616662, 0.2570012487785124, 0.46755331986084253, 0.6037743487115133, 0.4334737156391754, 0.45020119783986, 0.31396473518840023, 0.27206233303729344, 0.31167996362742945, 0.6637048920017949, 0.23369183905644395], \"yaxis\": \"y\"}, {\"hoverlabel\": {\"namelength\": 0}, \"hovertemplate\": \"<b>%{hovertext}</b><br><br>region_type=poi<br>daily_osm_ratio=%{x}<br>daily_coef_var=%{y}\", \"hovertext\": [\"santiago_place_of_marketplace\", \"santiago_place_of_worship\"], \"legendgroup\": \"region_type=poi\", \"marker\": {\"color\": \"#FFA15A\", \"symbol\": \"circle\"}, \"mode\": \"markers\", \"name\": \"region_type=poi\", \"showlegend\": true, \"type\": \"scatter\", \"x\": [277.73241362700713, 277.6678457515392], \"xaxis\": \"x\", \"y\": [0.5129554912136075, 0.5171876894323092], \"yaxis\": \"y\"}],\n",
       "                        {\"height\": 600, \"legend\": {\"tracegroupgap\": 0}, \"template\": {\"data\": {\"bar\": [{\"error_x\": {\"color\": \"#2a3f5f\"}, \"error_y\": {\"color\": \"#2a3f5f\"}, \"marker\": {\"line\": {\"color\": \"white\", \"width\": 0.5}}, \"type\": \"bar\"}], \"barpolar\": [{\"marker\": {\"line\": {\"color\": \"white\", \"width\": 0.5}}, \"type\": \"barpolar\"}], \"carpet\": [{\"aaxis\": {\"endlinecolor\": \"#2a3f5f\", \"gridcolor\": \"#C8D4E3\", \"linecolor\": \"#C8D4E3\", \"minorgridcolor\": \"#C8D4E3\", \"startlinecolor\": \"#2a3f5f\"}, \"baxis\": {\"endlinecolor\": \"#2a3f5f\", \"gridcolor\": \"#C8D4E3\", \"linecolor\": \"#C8D4E3\", \"minorgridcolor\": \"#C8D4E3\", \"startlinecolor\": \"#2a3f5f\"}, \"type\": \"carpet\"}], \"choropleth\": [{\"colorbar\": {\"outlinewidth\": 0, \"ticks\": \"\"}, \"type\": \"choropleth\"}], \"contour\": [{\"colorbar\": {\"outlinewidth\": 0, \"ticks\": \"\"}, \"colorscale\": [[0.0, \"#0d0887\"], [0.1111111111111111, \"#46039f\"], [0.2222222222222222, \"#7201a8\"], [0.3333333333333333, \"#9c179e\"], [0.4444444444444444, \"#bd3786\"], [0.5555555555555556, \"#d8576b\"], [0.6666666666666666, \"#ed7953\"], [0.7777777777777778, \"#fb9f3a\"], [0.8888888888888888, \"#fdca26\"], [1.0, \"#f0f921\"]], \"type\": \"contour\"}], \"contourcarpet\": [{\"colorbar\": {\"outlinewidth\": 0, \"ticks\": \"\"}, \"type\": \"contourcarpet\"}], \"heatmap\": [{\"colorbar\": {\"outlinewidth\": 0, \"ticks\": \"\"}, \"colorscale\": [[0.0, \"#0d0887\"], [0.1111111111111111, \"#46039f\"], [0.2222222222222222, \"#7201a8\"], [0.3333333333333333, \"#9c179e\"], [0.4444444444444444, \"#bd3786\"], [0.5555555555555556, \"#d8576b\"], [0.6666666666666666, \"#ed7953\"], [0.7777777777777778, \"#fb9f3a\"], [0.8888888888888888, \"#fdca26\"], [1.0, \"#f0f921\"]], \"type\": \"heatmap\"}], \"heatmapgl\": [{\"colorbar\": {\"outlinewidth\": 0, \"ticks\": \"\"}, \"colorscale\": [[0.0, \"#0d0887\"], [0.1111111111111111, \"#46039f\"], [0.2222222222222222, \"#7201a8\"], [0.3333333333333333, \"#9c179e\"], [0.4444444444444444, \"#bd3786\"], [0.5555555555555556, \"#d8576b\"], [0.6666666666666666, \"#ed7953\"], [0.7777777777777778, \"#fb9f3a\"], [0.8888888888888888, \"#fdca26\"], [1.0, \"#f0f921\"]], \"type\": \"heatmapgl\"}], \"histogram\": [{\"marker\": {\"colorbar\": {\"outlinewidth\": 0, \"ticks\": \"\"}}, \"type\": \"histogram\"}], \"histogram2d\": [{\"colorbar\": {\"outlinewidth\": 0, \"ticks\": \"\"}, \"colorscale\": [[0.0, \"#0d0887\"], [0.1111111111111111, \"#46039f\"], [0.2222222222222222, \"#7201a8\"], [0.3333333333333333, \"#9c179e\"], [0.4444444444444444, \"#bd3786\"], [0.5555555555555556, \"#d8576b\"], [0.6666666666666666, \"#ed7953\"], [0.7777777777777778, \"#fb9f3a\"], [0.8888888888888888, \"#fdca26\"], [1.0, \"#f0f921\"]], \"type\": \"histogram2d\"}], \"histogram2dcontour\": [{\"colorbar\": {\"outlinewidth\": 0, \"ticks\": \"\"}, \"colorscale\": [[0.0, \"#0d0887\"], [0.1111111111111111, \"#46039f\"], [0.2222222222222222, \"#7201a8\"], [0.3333333333333333, \"#9c179e\"], [0.4444444444444444, \"#bd3786\"], [0.5555555555555556, \"#d8576b\"], [0.6666666666666666, \"#ed7953\"], [0.7777777777777778, \"#fb9f3a\"], [0.8888888888888888, \"#fdca26\"], [1.0, \"#f0f921\"]], \"type\": \"histogram2dcontour\"}], \"mesh3d\": [{\"colorbar\": {\"outlinewidth\": 0, \"ticks\": \"\"}, \"type\": \"mesh3d\"}], \"parcoords\": [{\"line\": {\"colorbar\": {\"outlinewidth\": 0, \"ticks\": \"\"}}, \"type\": \"parcoords\"}], \"pie\": [{\"automargin\": true, \"type\": \"pie\"}], \"scatter\": [{\"marker\": {\"colorbar\": {\"outlinewidth\": 0, \"ticks\": \"\"}}, \"type\": \"scatter\"}], \"scatter3d\": [{\"line\": {\"colorbar\": {\"outlinewidth\": 0, \"ticks\": \"\"}}, \"marker\": {\"colorbar\": {\"outlinewidth\": 0, \"ticks\": \"\"}}, \"type\": \"scatter3d\"}], \"scattercarpet\": [{\"marker\": {\"colorbar\": {\"outlinewidth\": 0, \"ticks\": \"\"}}, \"type\": \"scattercarpet\"}], \"scattergeo\": [{\"marker\": {\"colorbar\": {\"outlinewidth\": 0, \"ticks\": \"\"}}, \"type\": \"scattergeo\"}], \"scattergl\": [{\"marker\": {\"colorbar\": {\"outlinewidth\": 0, \"ticks\": \"\"}}, \"type\": \"scattergl\"}], \"scattermapbox\": [{\"marker\": {\"colorbar\": {\"outlinewidth\": 0, \"ticks\": \"\"}}, \"type\": \"scattermapbox\"}], \"scatterpolar\": [{\"marker\": {\"colorbar\": {\"outlinewidth\": 0, \"ticks\": \"\"}}, \"type\": \"scatterpolar\"}], \"scatterpolargl\": [{\"marker\": {\"colorbar\": {\"outlinewidth\": 0, \"ticks\": \"\"}}, \"type\": \"scatterpolargl\"}], \"scatterternary\": [{\"marker\": {\"colorbar\": {\"outlinewidth\": 0, \"ticks\": \"\"}}, \"type\": \"scatterternary\"}], \"surface\": [{\"colorbar\": {\"outlinewidth\": 0, \"ticks\": \"\"}, \"colorscale\": [[0.0, \"#0d0887\"], [0.1111111111111111, \"#46039f\"], [0.2222222222222222, \"#7201a8\"], [0.3333333333333333, \"#9c179e\"], [0.4444444444444444, \"#bd3786\"], [0.5555555555555556, \"#d8576b\"], [0.6666666666666666, \"#ed7953\"], [0.7777777777777778, \"#fb9f3a\"], [0.8888888888888888, \"#fdca26\"], [1.0, \"#f0f921\"]], \"type\": \"surface\"}], \"table\": [{\"cells\": {\"fill\": {\"color\": \"#EBF0F8\"}, \"line\": {\"color\": \"white\"}}, \"header\": {\"fill\": {\"color\": \"#C8D4E3\"}, \"line\": {\"color\": \"white\"}}, \"type\": \"table\"}]}, \"layout\": {\"annotationdefaults\": {\"arrowcolor\": \"#2a3f5f\", \"arrowhead\": 0, \"arrowwidth\": 1}, \"coloraxis\": {\"colorbar\": {\"outlinewidth\": 0, \"ticks\": \"\"}}, \"colorscale\": {\"diverging\": [[0, \"#8e0152\"], [0.1, \"#c51b7d\"], [0.2, \"#de77ae\"], [0.3, \"#f1b6da\"], [0.4, \"#fde0ef\"], [0.5, \"#f7f7f7\"], [0.6, \"#e6f5d0\"], [0.7, \"#b8e186\"], [0.8, \"#7fbc41\"], [0.9, \"#4d9221\"], [1, \"#276419\"]], \"sequential\": [[0.0, \"#0d0887\"], [0.1111111111111111, \"#46039f\"], [0.2222222222222222, \"#7201a8\"], [0.3333333333333333, \"#9c179e\"], [0.4444444444444444, \"#bd3786\"], [0.5555555555555556, \"#d8576b\"], [0.6666666666666666, \"#ed7953\"], [0.7777777777777778, \"#fb9f3a\"], [0.8888888888888888, \"#fdca26\"], [1.0, \"#f0f921\"]], \"sequentialminus\": [[0.0, \"#0d0887\"], [0.1111111111111111, \"#46039f\"], [0.2222222222222222, \"#7201a8\"], [0.3333333333333333, \"#9c179e\"], [0.4444444444444444, \"#bd3786\"], [0.5555555555555556, \"#d8576b\"], [0.6666666666666666, \"#ed7953\"], [0.7777777777777778, \"#fb9f3a\"], [0.8888888888888888, \"#fdca26\"], [1.0, \"#f0f921\"]]}, \"colorway\": [\"#636efa\", \"#EF553B\", \"#00cc96\", \"#ab63fa\", \"#FFA15A\", \"#19d3f3\", \"#FF6692\", \"#B6E880\", \"#FF97FF\", \"#FECB52\"], \"font\": {\"color\": \"#2a3f5f\"}, \"geo\": {\"bgcolor\": \"white\", \"lakecolor\": \"white\", \"landcolor\": \"white\", \"showlakes\": true, \"showland\": true, \"subunitcolor\": \"#C8D4E3\"}, \"hoverlabel\": {\"align\": \"left\"}, \"hovermode\": \"closest\", \"mapbox\": {\"style\": \"light\"}, \"paper_bgcolor\": \"white\", \"plot_bgcolor\": \"white\", \"polar\": {\"angularaxis\": {\"gridcolor\": \"#EBF0F8\", \"linecolor\": \"#EBF0F8\", \"ticks\": \"\"}, \"bgcolor\": \"white\", \"radialaxis\": {\"gridcolor\": \"#EBF0F8\", \"linecolor\": \"#EBF0F8\", \"ticks\": \"\"}}, \"scene\": {\"xaxis\": {\"backgroundcolor\": \"white\", \"gridcolor\": \"#DFE8F3\", \"gridwidth\": 2, \"linecolor\": \"#EBF0F8\", \"showbackground\": true, \"ticks\": \"\", \"zerolinecolor\": \"#EBF0F8\"}, \"yaxis\": {\"backgroundcolor\": \"white\", \"gridcolor\": \"#DFE8F3\", \"gridwidth\": 2, \"linecolor\": \"#EBF0F8\", \"showbackground\": true, \"ticks\": \"\", \"zerolinecolor\": \"#EBF0F8\"}, \"zaxis\": {\"backgroundcolor\": \"white\", \"gridcolor\": \"#DFE8F3\", \"gridwidth\": 2, \"linecolor\": \"#EBF0F8\", \"showbackground\": true, \"ticks\": \"\", \"zerolinecolor\": \"#EBF0F8\"}}, \"shapedefaults\": {\"line\": {\"color\": \"#2a3f5f\"}}, \"ternary\": {\"aaxis\": {\"gridcolor\": \"#DFE8F3\", \"linecolor\": \"#A2B1C6\", \"ticks\": \"\"}, \"baxis\": {\"gridcolor\": \"#DFE8F3\", \"linecolor\": \"#A2B1C6\", \"ticks\": \"\"}, \"bgcolor\": \"white\", \"caxis\": {\"gridcolor\": \"#DFE8F3\", \"linecolor\": \"#A2B1C6\", \"ticks\": \"\"}}, \"title\": {\"x\": 0.05}, \"xaxis\": {\"automargin\": true, \"gridcolor\": \"#EBF0F8\", \"linecolor\": \"#EBF0F8\", \"ticks\": \"\", \"title\": {\"standoff\": 15}, \"zerolinecolor\": \"#EBF0F8\", \"zerolinewidth\": 2}, \"yaxis\": {\"automargin\": true, \"gridcolor\": \"#EBF0F8\", \"linecolor\": \"#EBF0F8\", \"ticks\": \"\", \"title\": {\"standoff\": 15}, \"zerolinecolor\": \"#EBF0F8\", \"zerolinewidth\": 2}}}, \"title\": {\"text\": \"Daily CV by Network Length (m)\"}, \"xaxis\": {\"anchor\": \"y\", \"domain\": [0.0, 1.0], \"title\": {\"text\": \"Daily TCI Mean over Network Lenth\"}, \"type\": \"log\"}, \"yaxis\": {\"anchor\": \"x\", \"domain\": [0.0, 1.0], \"title\": {\"text\": \"Daily CV (m)\"}}},\n",
       "                        {\"responsive\": true}\n",
       "                    ).then(function(){\n",
       "                            \n",
       "var gd = document.getElementById('6d38e8fa-8fb1-46f2-88d6-6efb21b4e73a');\n",
       "var x = new MutationObserver(function (mutations, observer) {{\n",
       "        var display = window.getComputedStyle(gd).display;\n",
       "        if (!display || display === 'none') {{\n",
       "            console.log([gd, 'removed!']);\n",
       "            Plotly.purge(gd);\n",
       "            observer.disconnect();\n",
       "        }}\n",
       "}});\n",
       "\n",
       "// Listen for the removal of the full notebook cells\n",
       "var notebookContainer = gd.closest('#notebook-container');\n",
       "if (notebookContainer) {{\n",
       "    x.observe(notebookContainer, {childList: true});\n",
       "}}\n",
       "\n",
       "// Listen for the clearing of the current output cell\n",
       "var outputEl = gd.closest('.output');\n",
       "if (outputEl) {{\n",
       "    x.observe(outputEl, {childList: true});\n",
       "}}\n",
       "\n",
       "                        })\n",
       "                };\n",
       "                });\n",
       "            </script>\n",
       "        </div>"
      ]
     },
     "metadata": {},
     "output_type": "display_data"
    }
   ],
   "source": [
    "fig = px.scatter(df,\n",
    "            y=\"daily_coef_var\", x=\"daily_osm_ratio\", color='region_type',\n",
    "            hover_name=\"region_slug\", template='plotly_white', title='Daily CV by Network Length (m)',\n",
    "            log_x=True)\n",
    "fig.update_yaxes(title_text='Daily CV (m)')\n",
    "fig.update_xaxes(title_text='Daily TCI Mean over Network Lenth')\n",
    "\n",
    "fig.write_html(open(OUTPUT_PATH / 'daily-cv-osm.html', 'w'))\n",
    "fig.show()"
   ]
  },
  {
   "cell_type": "code",
   "execution_count": 113,
   "metadata": {},
   "outputs": [
    {
     "ename": "ValueError",
     "evalue": "Value of 'y' is not the name of a column in 'data_frame'. Expected one of ['country_name', 'country_iso', 'region_slug', 'region_name', 'region_type', 'population', 'dashboard', 'timezone', 'region_shapefile_wkt', 'rerun', 'osm_length', 'idb_code', 'waze_code', 'country_name_idb_eng', 'region_shapefile_binary', 'area', 'n_days', 'daily_mean', 'daily_std', 'weekly_mean', 'weekly_std', 'daily_coef_var', 'daily_mean_weekend', 'daily_std_weekend', 'daily_coef_var_weekend', 'daily_mean_weekday', 'daily_std_weekday', 'daily_coef_var_weekday', 'daily_osm_ratio', 'weekend_osm_ratio', 'weekday_osm_ratio', 'weekly_osm_ratio', 'daily_approved', 'weekly_approved'] but received: weekly_coef_var",
     "output_type": "error",
     "traceback": [
      "\u001b[0;31m---------------------------------------------------------------------------\u001b[0m",
      "\u001b[0;31mValueError\u001b[0m                                Traceback (most recent call last)",
      "\u001b[0;32m<ipython-input-113-9e9fb80e875c>\u001b[0m in \u001b[0;36m<module>\u001b[0;34m()\u001b[0m\n\u001b[1;32m      2\u001b[0m             \u001b[0my\u001b[0m\u001b[0;34m=\u001b[0m\u001b[0;34m\"weekly_coef_var\"\u001b[0m\u001b[0;34m,\u001b[0m \u001b[0mx\u001b[0m\u001b[0;34m=\u001b[0m\u001b[0;34m\"weekly_osm_ratio\"\u001b[0m\u001b[0;34m,\u001b[0m \u001b[0mcolor\u001b[0m\u001b[0;34m=\u001b[0m\u001b[0;34m'region_type'\u001b[0m\u001b[0;34m,\u001b[0m\u001b[0;34m\u001b[0m\u001b[0m\n\u001b[1;32m      3\u001b[0m             \u001b[0mhover_name\u001b[0m\u001b[0;34m=\u001b[0m\u001b[0;34m\"region_slug\"\u001b[0m\u001b[0;34m,\u001b[0m \u001b[0mtemplate\u001b[0m\u001b[0;34m=\u001b[0m\u001b[0;34m'plotly_white'\u001b[0m\u001b[0;34m,\u001b[0m \u001b[0mtitle\u001b[0m\u001b[0;34m=\u001b[0m\u001b[0;34m'Weekly CV by Network Length (m)'\u001b[0m\u001b[0;34m,\u001b[0m\u001b[0;34m\u001b[0m\u001b[0m\n\u001b[0;32m----> 4\u001b[0;31m             log_x=True)\n\u001b[0m\u001b[1;32m      5\u001b[0m \u001b[0mfig\u001b[0m\u001b[0;34m.\u001b[0m\u001b[0mupdate_yaxes\u001b[0m\u001b[0;34m(\u001b[0m\u001b[0mtitle_text\u001b[0m\u001b[0;34m=\u001b[0m\u001b[0;34m'Weekly CV (m)'\u001b[0m\u001b[0;34m)\u001b[0m\u001b[0;34m\u001b[0m\u001b[0m\n\u001b[1;32m      6\u001b[0m \u001b[0mfig\u001b[0m\u001b[0;34m.\u001b[0m\u001b[0mupdate_xaxes\u001b[0m\u001b[0;34m(\u001b[0m\u001b[0mtitle_text\u001b[0m\u001b[0;34m=\u001b[0m\u001b[0;34m'Weekly TCI Mean over Network Lenth'\u001b[0m\u001b[0;34m)\u001b[0m\u001b[0;34m\u001b[0m\u001b[0m\n",
      "\u001b[0;32m~/.conda/envs/norm_env/lib/python3.7/site-packages/plotly/express/_chart_types.py\u001b[0m in \u001b[0;36mscatter\u001b[0;34m(data_frame, x, y, color, symbol, size, hover_name, hover_data, custom_data, text, facet_row, facet_col, facet_col_wrap, error_x, error_x_minus, error_y, error_y_minus, animation_frame, animation_group, category_orders, labels, color_discrete_sequence, color_discrete_map, color_continuous_scale, range_color, color_continuous_midpoint, symbol_sequence, symbol_map, opacity, size_max, marginal_x, marginal_y, trendline, trendline_color_override, log_x, log_y, range_x, range_y, render_mode, title, template, width, height)\u001b[0m\n\u001b[1;32m     53\u001b[0m     \u001b[0;32min\u001b[0m \u001b[0;36m2\u001b[0m\u001b[0mD\u001b[0m \u001b[0mspace\u001b[0m\u001b[0;34m.\u001b[0m\u001b[0;34m\u001b[0m\u001b[0m\n\u001b[1;32m     54\u001b[0m     \"\"\"\n\u001b[0;32m---> 55\u001b[0;31m     \u001b[0;32mreturn\u001b[0m \u001b[0mmake_figure\u001b[0m\u001b[0;34m(\u001b[0m\u001b[0margs\u001b[0m\u001b[0;34m=\u001b[0m\u001b[0mlocals\u001b[0m\u001b[0;34m(\u001b[0m\u001b[0;34m)\u001b[0m\u001b[0;34m,\u001b[0m \u001b[0mconstructor\u001b[0m\u001b[0;34m=\u001b[0m\u001b[0mgo\u001b[0m\u001b[0;34m.\u001b[0m\u001b[0mScatter\u001b[0m\u001b[0;34m)\u001b[0m\u001b[0;34m\u001b[0m\u001b[0m\n\u001b[0m\u001b[1;32m     56\u001b[0m \u001b[0;34m\u001b[0m\u001b[0m\n\u001b[1;32m     57\u001b[0m \u001b[0;34m\u001b[0m\u001b[0m\n",
      "\u001b[0;32m~/.conda/envs/norm_env/lib/python3.7/site-packages/plotly/express/_core.py\u001b[0m in \u001b[0;36mmake_figure\u001b[0;34m(args, constructor, trace_patch, layout_patch)\u001b[0m\n\u001b[1;32m   1093\u001b[0m \u001b[0;34m\u001b[0m\u001b[0m\n\u001b[1;32m   1094\u001b[0m     args, trace_specs, grouped_mappings, sizeref, show_colorbar = infer_config(\n\u001b[0;32m-> 1095\u001b[0;31m         \u001b[0margs\u001b[0m\u001b[0;34m,\u001b[0m \u001b[0mconstructor\u001b[0m\u001b[0;34m,\u001b[0m \u001b[0mtrace_patch\u001b[0m\u001b[0;34m\u001b[0m\u001b[0m\n\u001b[0m\u001b[1;32m   1096\u001b[0m     )\n\u001b[1;32m   1097\u001b[0m     \u001b[0mgrouper\u001b[0m \u001b[0;34m=\u001b[0m \u001b[0;34m[\u001b[0m\u001b[0mx\u001b[0m\u001b[0;34m.\u001b[0m\u001b[0mgrouper\u001b[0m \u001b[0;32mor\u001b[0m \u001b[0mone_group\u001b[0m \u001b[0;32mfor\u001b[0m \u001b[0mx\u001b[0m \u001b[0;32min\u001b[0m \u001b[0mgrouped_mappings\u001b[0m\u001b[0;34m]\u001b[0m \u001b[0;32mor\u001b[0m \u001b[0;34m[\u001b[0m\u001b[0mone_group\u001b[0m\u001b[0;34m]\u001b[0m\u001b[0;34m\u001b[0m\u001b[0m\n",
      "\u001b[0;32m~/.conda/envs/norm_env/lib/python3.7/site-packages/plotly/express/_core.py\u001b[0m in \u001b[0;36minfer_config\u001b[0;34m(args, constructor, trace_patch)\u001b[0m\n\u001b[1;32m    969\u001b[0m             \u001b[0mall_attrables\u001b[0m \u001b[0;34m+=\u001b[0m \u001b[0;34m[\u001b[0m\u001b[0mgroup_attr\u001b[0m\u001b[0;34m]\u001b[0m\u001b[0;34m\u001b[0m\u001b[0m\n\u001b[1;32m    970\u001b[0m \u001b[0;34m\u001b[0m\u001b[0m\n\u001b[0;32m--> 971\u001b[0;31m     \u001b[0margs\u001b[0m \u001b[0;34m=\u001b[0m \u001b[0mbuild_dataframe\u001b[0m\u001b[0;34m(\u001b[0m\u001b[0margs\u001b[0m\u001b[0;34m,\u001b[0m \u001b[0mall_attrables\u001b[0m\u001b[0;34m,\u001b[0m \u001b[0marray_attrables\u001b[0m\u001b[0;34m)\u001b[0m\u001b[0;34m\u001b[0m\u001b[0m\n\u001b[0m\u001b[1;32m    972\u001b[0m \u001b[0;34m\u001b[0m\u001b[0m\n\u001b[1;32m    973\u001b[0m     \u001b[0mattrs\u001b[0m \u001b[0;34m=\u001b[0m \u001b[0;34m[\u001b[0m\u001b[0mk\u001b[0m \u001b[0;32mfor\u001b[0m \u001b[0mk\u001b[0m \u001b[0;32min\u001b[0m \u001b[0mattrables\u001b[0m \u001b[0;32mif\u001b[0m \u001b[0mk\u001b[0m \u001b[0;32min\u001b[0m \u001b[0margs\u001b[0m\u001b[0;34m]\u001b[0m\u001b[0;34m\u001b[0m\u001b[0m\n",
      "\u001b[0;32m~/.conda/envs/norm_env/lib/python3.7/site-packages/plotly/express/_core.py\u001b[0m in \u001b[0;36mbuild_dataframe\u001b[0;34m(args, attrables, array_attrables)\u001b[0m\n\u001b[1;32m    891\u001b[0m                             \u001b[0;34m\"\\n To use the index, pass it in directly as `df.index`.\"\u001b[0m\u001b[0;34m\u001b[0m\u001b[0m\n\u001b[1;32m    892\u001b[0m                         )\n\u001b[0;32m--> 893\u001b[0;31m                     \u001b[0;32mraise\u001b[0m \u001b[0mValueError\u001b[0m\u001b[0;34m(\u001b[0m\u001b[0merr_msg\u001b[0m\u001b[0;34m)\u001b[0m\u001b[0;34m\u001b[0m\u001b[0m\n\u001b[0m\u001b[1;32m    894\u001b[0m                 \u001b[0;32mif\u001b[0m \u001b[0mlength\u001b[0m \u001b[0;32mand\u001b[0m \u001b[0mlen\u001b[0m\u001b[0;34m(\u001b[0m\u001b[0mdf_input\u001b[0m\u001b[0;34m[\u001b[0m\u001b[0margument\u001b[0m\u001b[0;34m]\u001b[0m\u001b[0;34m)\u001b[0m \u001b[0;34m!=\u001b[0m \u001b[0mlength\u001b[0m\u001b[0;34m:\u001b[0m\u001b[0;34m\u001b[0m\u001b[0m\n\u001b[1;32m    895\u001b[0m                     raise ValueError(\n",
      "\u001b[0;31mValueError\u001b[0m: Value of 'y' is not the name of a column in 'data_frame'. Expected one of ['country_name', 'country_iso', 'region_slug', 'region_name', 'region_type', 'population', 'dashboard', 'timezone', 'region_shapefile_wkt', 'rerun', 'osm_length', 'idb_code', 'waze_code', 'country_name_idb_eng', 'region_shapefile_binary', 'area', 'n_days', 'daily_mean', 'daily_std', 'weekly_mean', 'weekly_std', 'daily_coef_var', 'daily_mean_weekend', 'daily_std_weekend', 'daily_coef_var_weekend', 'daily_mean_weekday', 'daily_std_weekday', 'daily_coef_var_weekday', 'daily_osm_ratio', 'weekend_osm_ratio', 'weekday_osm_ratio', 'weekly_osm_ratio', 'daily_approved', 'weekly_approved'] but received: weekly_coef_var"
     ]
    }
   ],
   "source": [
    "fig = px.scatter(df,\n",
    "            y=\"weekly_coef_var\", x=\"weekly_osm_ratio\", color='region_type',\n",
    "            hover_name=\"region_slug\", template='plotly_white', title='Weekly CV by Network Length (m)',\n",
    "            log_x=True)\n",
    "fig.update_yaxes(title_text='Weekly CV (m)')\n",
    "fig.update_xaxes(title_text='Weekly TCI Mean over Network Lenth')\n",
    "\n",
    "fig.show()"
   ]
  },
  {
   "cell_type": "code",
   "execution_count": 101,
   "metadata": {},
   "outputs": [],
   "source": [
    "fig.write_html(open(OUTPUT_PATH / 'weekly-cv-osm.html', 'w'))"
   ]
  },
  {
   "cell_type": "code",
   "execution_count": 227,
   "metadata": {},
   "outputs": [],
   "source": [
    "from IPython.display import Javascript\n",
    "from nbconvert import HTMLExporter\n",
    "\n",
    "def save_notebook():\n",
    "    display(\n",
    "        Javascript(\"IPython.notebook.save_notebook()\"),\n",
    "        include=['application/javascript']\n",
    "    )\n",
    "\n",
    "def output_HTML(read_file, output_file):\n",
    "    import codecs\n",
    "    import nbformat\n",
    "    exporter = HTMLExporter()\n",
    "    # read_file is '.ipynb', output_file is '.html'\n",
    "    output_notebook = nbformat.read(read_file, as_version=4)\n",
    "    output, resources = exporter.from_notebook_node(output_notebook)\n",
    "    codecs.open(output_file, 'w', encoding='utf-8').write(output)\n",
    "    \n",
    "def save_now():\n",
    "    \n",
    "    import time\n",
    "\n",
    "    save_notebook()\n",
    "    time.sleep(3)\n",
    "    current_file = 'CV and Road Length.ipynb'\n",
    "    output_file = str(OUTPUT_PATH / 'CV+TCI+ROADLENGTH.html')\n",
    "    output_HTML(current_file, output_file)"
   ]
  },
  {
   "cell_type": "code",
   "execution_count": null,
   "metadata": {},
   "outputs": [],
   "source": []
  }
 ],
 "metadata": {
  "kernelspec": {
   "display_name": "Python 3",
   "language": "python",
   "name": "python3"
  },
  "language_info": {
   "codemirror_mode": {
    "name": "ipython",
    "version": 3
   },
   "file_extension": ".py",
   "mimetype": "text/x-python",
   "name": "python",
   "nbconvert_exporter": "python",
   "pygments_lexer": "ipython3",
   "version": "3.7.0"
  },
  "toc": {
   "base_numbering": 1,
   "nav_menu": {},
   "number_sections": true,
   "sideBar": true,
   "skip_h1_title": false,
   "title_cell": "Table of Contents",
   "title_sidebar": "Contents",
   "toc_cell": false,
   "toc_position": {},
   "toc_section_display": true,
   "toc_window_display": false
  }
 },
 "nbformat": 4,
 "nbformat_minor": 2
}
