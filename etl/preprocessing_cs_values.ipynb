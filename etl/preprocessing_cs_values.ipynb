{
 "cells": [
  {
   "cell_type": "markdown",
   "metadata": {},
   "source": [
    "# Preprocess c file\n",
    "\n",
    "TCI percentiles per city-country\n",
    "\n",
    "`Last update`: 2021-04-15"
   ]
  },
  {
   "cell_type": "code",
   "execution_count": 532,
   "metadata": {},
   "outputs": [],
   "source": [
    "import subprocess\n",
    "import pandas as pd\n",
    "from loguru import logger \n",
    "\n",
    "def _create_cs_file(path_c):\n",
    "    \n",
    "    df = pd.read_csv(path_c)\n",
    "    a = set(df.region_slug)\n",
    "    \n",
    "    df = df \\\n",
    "        .drop_duplicates('region_slug') \n",
    "    b = set(df.region_slug)\n",
    "    \n",
    "    df = df\\\n",
    "        .dropna()\n",
    "    c = set(df.region_slug)\n",
    "\n",
    "    print (a.difference(b))\n",
    "    print (a.difference(c))\n",
    "    \n",
    "    for k in df.columns:\n",
    "        if k != 'region_slug':\n",
    "            df[k] = pd.to_numeric(df[k])\n",
    "        if k == 'region_slug':\n",
    "            df[k] = df[k].astype(str) \n",
    "\n",
    "    df_c = df \\\n",
    "        .assign(c_low_p01 = lambda x: (x['q25']-x['q01'])/(x['q75']-x['q25']),\n",
    "                c_upp_p99 = lambda x: (x['q99']-x['q75'])/(x['q75']-x['q25']),\n",
    "                c_low_p05 = lambda x: (x['q25']-x['q05'])/(x['q75']-x['q25']),\n",
    "                c_upp_p95 = lambda x: (x['q95']-x['q75'])/(x['q75']-x['q25'])\n",
    "               ) \\\n",
    "        [['region_slug', 'c_low_p01', 'c_upp_p99', 'c_low_p05', 'c_upp_p95']]\n",
    "    \n",
    "    df_c['c_min'] = df_c[['c_low_p01', 'c_upp_p99', 'c_low_p05', 'c_upp_p95']].min(axis=1)\n",
    "    df_c['c_max'] = df_c[['c_low_p01', 'c_upp_p99', 'c_low_p05', 'c_upp_p95']].max(axis=1)\n",
    "    df_c['c_avg'] = df_c[['c_low_p01', 'c_upp_p99', 'c_low_p05', 'c_upp_p95']].mean(axis=1)\n",
    "    \n",
    "    return df_c\n",
    "\n",
    "def _save_cs_file(): \n",
    "    \n",
    "    logger.debug('writing file')\n",
    "    \n",
    "    df_c = _create_cs_file(path_c = '~/shared/spd-sdv-omitnik-waze/corona/cleaning/data/staging/cities_iqr.csv')\n",
    "    print(df_c.shape)\n",
    "    print(df_c.describe())\n",
    "    df_c.to_csv('~/shared/spd-sdv-omitnik-waze/corona/cleaning/data/staging/cities_c_iqr.csv', index=False)\n",
    "    "
   ]
  },
  {
   "cell_type": "markdown",
   "metadata": {},
   "source": [
    "## Copy percentile"
   ]
  },
  {
   "cell_type": "code",
   "execution_count": 533,
   "metadata": {},
   "outputs": [],
   "source": [
    "!cp ~/shared/spd-sdv-omitnik-waze/waze_tci/region_quantiles/quantiles/regions_quantiles-20210420.csv ~/shared/spd-sdv-omitnik-waze/corona/cleaning/data/raw/regions_quantiles.csv\n",
    "\n",
    "!sed \"s/\\[//g;s/\\]//g;s/['\\\"]//g\" ~/shared/spd-sdv-omitnik-waze/corona/cleaning/data/raw/regions_quantiles.csv > ~/shared/spd-sdv-omitnik-waze/corona/cleaning/data/staging/cities_iqr_00.csv"
   ]
  },
  {
   "cell_type": "code",
   "execution_count": 534,
   "metadata": {},
   "outputs": [],
   "source": [
    "%%bash \n",
    "\n",
    "echo -e \"region_slug,mean,var_p, var_s,q10,q20,q30,q40,q50,q60,q70,q80,q90,q01,q99,q25,q75,q05,q95\" | cat - ~/shared/spd-sdv-omitnik-waze/corona/cleaning/data/staging/cities_iqr_00.csv > ~/shared/spd-sdv-omitnik-waze/corona/cleaning/data/staging/cities_iqr.csv"
   ]
  },
  {
   "cell_type": "code",
   "execution_count": 535,
   "metadata": {},
   "outputs": [],
   "source": [
    "!rm ~/shared/spd-sdv-omitnik-waze/corona/cleaning/data/staging/cities_iqr_00.csv"
   ]
  },
  {
   "cell_type": "code",
   "execution_count": 536,
   "metadata": {},
   "outputs": [
    {
     "name": "stdout",
     "output_type": "stream",
     "text": [
      "region_slug,mean,var_p, var_s,q10,q20,q30,q40,q50,q60,q70,q80,q90,q01,q99,q25,q75,q05,q95\r\n",
      "aguascalientes,8039136.868743886,8862843413565.455,8887326406420.607,3829261.1993683483,5605996.229991711,6600013.058713919,6932325.881132038,7473441.530126513,8626943.901942156,9718372.086622398,11136396.36923769,11136396.36923769,2151065.466800198,14393234.680959623,6215087.576892198,10248917.983242217,3349729.7486610203,12964231.367048915\r\n"
     ]
    }
   ],
   "source": [
    "!head -2 ~/shared/spd-sdv-omitnik-waze/corona/cleaning/data/staging/cities_iqr.csv"
   ]
  },
  {
   "cell_type": "code",
   "execution_count": 537,
   "metadata": {},
   "outputs": [
    {
     "name": "stdout",
     "output_type": "stream",
     "text": [
      "107 /home/soniame/shared/spd-sdv-omitnik-waze/corona/cleaning/data/staging/cities_iqr.csv\r\n"
     ]
    }
   ],
   "source": [
    "!wc -l ~/shared/spd-sdv-omitnik-waze/corona/cleaning/data/staging/cities_iqr.csv"
   ]
  },
  {
   "cell_type": "markdown",
   "metadata": {},
   "source": [
    "## Save c's file"
   ]
  },
  {
   "cell_type": "code",
   "execution_count": 519,
   "metadata": {},
   "outputs": [
    {
     "name": "stderr",
     "output_type": "stream",
     "text": [
      "2021-04-22 13:23:07.285 | DEBUG    | __main__:_save_cs_file:43 - writing file\n"
     ]
    },
    {
     "name": "stdout",
     "output_type": "stream",
     "text": [
      "set()\n",
      "{nan}\n",
      "(100, 8)\n",
      "        c_low_p01   c_upp_p99   c_low_p05   c_upp_p95       c_min       c_max  \\\n",
      "count  100.000000  100.000000  100.000000  100.000000  100.000000  100.000000   \n",
      "mean     0.872206    1.501374    0.654722    0.771653    0.531642    1.572998   \n",
      "std      0.423429    0.887724    0.342507    0.374849    0.220602    0.864893   \n",
      "min      0.213163    0.506459    0.165875    0.308937    0.165875    0.506459   \n",
      "25%      0.525674    0.965353    0.400885    0.517304    0.374315    1.034190   \n",
      "50%      0.737493    1.279874    0.556730    0.674209    0.494360    1.407540   \n",
      "75%      1.234659    1.694937    0.875145    0.900741    0.658642    1.788816   \n",
      "max      2.017849    5.851183    1.580424    2.572249    1.482831    5.851183   \n",
      "\n",
      "            c_avg  \n",
      "count  100.000000  \n",
      "mean     0.949989  \n",
      "std      0.347770  \n",
      "min      0.388697  \n",
      "25%      0.683010  \n",
      "50%      0.910712  \n",
      "75%      1.147068  \n",
      "max      2.285736  \n"
     ]
    }
   ],
   "source": [
    "_save_cs_file()"
   ]
  },
  {
   "cell_type": "code",
   "execution_count": null,
   "metadata": {},
   "outputs": [],
   "source": []
  },
  {
   "cell_type": "code",
   "execution_count": 538,
   "metadata": {},
   "outputs": [],
   "source": [
    "df = pd.read_csv('~/shared/spd-sdv-omitnik-waze/corona/cleaning/data/staging/cities_c_iqr.csv')"
   ]
  },
  {
   "cell_type": "code",
   "execution_count": 539,
   "metadata": {},
   "outputs": [
    {
     "data": {
      "text/html": [
       "<div>\n",
       "<style scoped>\n",
       "    .dataframe tbody tr th:only-of-type {\n",
       "        vertical-align: middle;\n",
       "    }\n",
       "\n",
       "    .dataframe tbody tr th {\n",
       "        vertical-align: top;\n",
       "    }\n",
       "\n",
       "    .dataframe thead th {\n",
       "        text-align: right;\n",
       "    }\n",
       "</style>\n",
       "<table border=\"1\" class=\"dataframe\">\n",
       "  <thead>\n",
       "    <tr style=\"text-align: right;\">\n",
       "      <th></th>\n",
       "      <th>region_slug</th>\n",
       "      <th>c_low_p01</th>\n",
       "      <th>c_upp_p99</th>\n",
       "      <th>c_low_p05</th>\n",
       "      <th>c_upp_p95</th>\n",
       "      <th>c_min</th>\n",
       "      <th>c_max</th>\n",
       "      <th>c_avg</th>\n",
       "    </tr>\n",
       "  </thead>\n",
       "  <tbody>\n",
       "    <tr>\n",
       "      <th>58</th>\n",
       "      <td>salvador</td>\n",
       "      <td>0.726099</td>\n",
       "      <td>0.757092</td>\n",
       "      <td>0.567365</td>\n",
       "      <td>0.360343</td>\n",
       "      <td>0.360343</td>\n",
       "      <td>0.757092</td>\n",
       "      <td>0.602725</td>\n",
       "    </tr>\n",
       "  </tbody>\n",
       "</table>\n",
       "</div>"
      ],
      "text/plain": [
       "   region_slug  c_low_p01  c_upp_p99  c_low_p05  c_upp_p95     c_min  \\\n",
       "58    salvador   0.726099   0.757092   0.567365   0.360343  0.360343   \n",
       "\n",
       "       c_max     c_avg  \n",
       "58  0.757092  0.602725  "
      ]
     },
     "execution_count": 539,
     "metadata": {},
     "output_type": "execute_result"
    }
   ],
   "source": [
    "df[df.region_slug == 'salvador']\n",
    "#df[75:]"
   ]
  },
  {
   "cell_type": "code",
   "execution_count": 540,
   "metadata": {},
   "outputs": [
    {
     "name": "stdout",
     "output_type": "stream",
     "text": [
      "100\n"
     ]
    }
   ],
   "source": [
    "print(len(df.region_slug.to_list()))\n",
    "#df.region_slug.to_list()"
   ]
  },
  {
   "cell_type": "markdown",
   "metadata": {},
   "source": [
    "### Regions missing"
   ]
  },
  {
   "cell_type": "code",
   "execution_count": 541,
   "metadata": {},
   "outputs": [],
   "source": [
    "# %load first_cell.py\n",
    "%reload_ext autoreload\n",
    "%autoreload 2\n",
    "#from pathlib import Path\n",
    "#home = str(Path.home())\n",
    "\n",
    "import sys\n",
    "sys.path.insert(0, '../')\n",
    "\n",
    "from src import utils"
   ]
  },
  {
   "cell_type": "code",
   "execution_count": 542,
   "metadata": {},
   "outputs": [
    {
     "name": "stderr",
     "output_type": "stream",
     "text": [
      "../src/utils.py:158: YAMLLoadWarning: calling yaml.load() without Loader=... is deprecated, as the default Loader is unsafe. Please read https://msg.pyyaml.org/load for full details.\n",
      "  athena_config = yaml.load(open(path, \"r\"))\n"
     ]
    }
   ],
   "source": [
    "conn = utils.connect_athena(path='../configs/athena.yaml')"
   ]
  },
  {
   "cell_type": "code",
   "execution_count": 543,
   "metadata": {},
   "outputs": [],
   "source": [
    "qry = \"\"\"\n",
    "    select distinct region_slug\n",
    "    from spd_sdv_waze_corona.prod_daily_daily_index\n",
    "\"\"\"\n",
    "dash_regions = pd.read_sql_query(qry, conn).sort_values('region_slug').region_slug.unique()"
   ]
  },
  {
   "cell_type": "code",
   "execution_count": 544,
   "metadata": {},
   "outputs": [],
   "source": [
    "cpar_regions = df.region_slug.to_list()"
   ]
  },
  {
   "cell_type": "code",
   "execution_count": 545,
   "metadata": {},
   "outputs": [
    {
     "data": {
      "text/plain": [
       "72"
      ]
     },
     "execution_count": 545,
     "metadata": {},
     "output_type": "execute_result"
    }
   ],
   "source": [
    "a = set(dash_regions)\n",
    "b = set(cpar_regions)\n",
    "len(a.intersection(b))"
   ]
  },
  {
   "cell_type": "code",
   "execution_count": 546,
   "metadata": {},
   "outputs": [
    {
     "data": {
      "text/plain": [
       "{'br_states_acre',\n",
       " 'br_states_alagoas',\n",
       " 'br_states_amapa',\n",
       " 'br_states_amazonas',\n",
       " 'br_states_bahia',\n",
       " 'br_states_ceara',\n",
       " 'br_states_distrito_federal',\n",
       " 'br_states_espirito_santo',\n",
       " 'br_states_goias',\n",
       " 'br_states_maranhao',\n",
       " 'br_states_mato_grosso',\n",
       " 'br_states_mato_grosso_do_sul',\n",
       " 'br_states_minas_gerais',\n",
       " 'br_states_para',\n",
       " 'br_states_paraiba',\n",
       " 'br_states_parana',\n",
       " 'br_states_pernambuco',\n",
       " 'br_states_piaui',\n",
       " 'br_states_rio_de_janeiro',\n",
       " 'br_states_rio_grande_do_norte',\n",
       " 'br_states_rio_grande_do_sul',\n",
       " 'br_states_rondonia',\n",
       " 'br_states_roraima',\n",
       " 'br_states_santa_catarina',\n",
       " 'br_states_sao_paulo',\n",
       " 'br_states_sergipe',\n",
       " 'br_states_tocantins',\n",
       " 'country_brazil',\n",
       " 'country_honduras',\n",
       " 'country_mexico',\n",
       " 'country_nicaragua',\n",
       " 'country_panama',\n",
       " 'country_paraguay',\n",
       " 'country_peru',\n",
       " 'country_trinidad_and_tobago',\n",
       " 'country_uruguay'}"
      ]
     },
     "execution_count": 546,
     "metadata": {},
     "output_type": "execute_result"
    }
   ],
   "source": [
    "a.difference(b)"
   ]
  },
  {
   "cell_type": "code",
   "execution_count": null,
   "metadata": {},
   "outputs": [],
   "source": []
  }
 ],
 "metadata": {
  "kernelspec": {
   "display_name": "IDB-IDB-Invest-Coronavirus-Impact-Dashboard",
   "language": "python",
   "name": "idb-idb-invest-coronavirus-impact-dashboard"
  },
  "language_info": {
   "codemirror_mode": {
    "name": "ipython",
    "version": 3
   },
   "file_extension": ".py",
   "mimetype": "text/x-python",
   "name": "python",
   "nbconvert_exporter": "python",
   "pygments_lexer": "ipython3",
   "version": "3.7.10"
  }
 },
 "nbformat": 4,
 "nbformat_minor": 2
}
