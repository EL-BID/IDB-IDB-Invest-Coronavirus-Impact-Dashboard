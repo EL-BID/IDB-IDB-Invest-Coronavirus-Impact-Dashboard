{
 "cells": [
  {
   "cell_type": "markdown",
   "metadata": {},
   "source": [
    "# Preprocess c file\n",
    "\n",
    "TCI percentiles per city-country\n",
    "\n",
    "`Last update`: 2021-04-15"
   ]
  },
  {
   "cell_type": "code",
   "execution_count": 89,
   "metadata": {},
   "outputs": [],
   "source": [
    "import subprocess\n",
    "import pandas as pd\n",
    "\n",
    "def _create_cs_file(path_c):\n",
    "    \n",
    "    df = pd.read_csv(path_c) \\\n",
    "        .drop_duplicates('region_slug') \\\n",
    "        .dropna()\n",
    "\n",
    "    for k in df.columns:\n",
    "        if k != 'region_slug':\n",
    "            df[k] = pd.to_numeric(df[k])\n",
    "        if k == 'region_slug':\n",
    "            df[k] = df[k].astype(str) \n",
    "\n",
    "    df_c = df \\\n",
    "        .assign(c_low_p01 = lambda x: (x['q25']-x['q01'])/(x['q75']-x['q25']),\n",
    "                c_upp_p99 = lambda x: (x['q99']-x['q75'])/(x['q75']-x['q25']),\n",
    "                c_low_p05 = lambda x: (x['q25']-x['q05'])/(x['q75']-x['q25']),\n",
    "                c_upp_p95 = lambda x: (x['q95']-x['q75'])/(x['q75']-x['q25'])\n",
    "               ) \\\n",
    "        [['region_slug', 'c_low_p01', 'c_upp_p99', 'c_low_p05', 'c_upp_p95']]\n",
    "    \n",
    "    df_c['c_min'] = df_c[['c_low_p01', 'c_upp_p99', 'c_low_p05', 'c_upp_p95']].min(axis=1)\n",
    "    \n",
    "    return df_c\n",
    "\n",
    "def _save_cs_file(): \n",
    "    \n",
    "    df_c = _create_cs_file(path_c = '~/shared/spd-sdv-omitnik-waze/corona/cleaning/data/staging/cities_iqr.csv')\n",
    "    print(df_c.shape)\n",
    "    print(df_c.describe())\n",
    "    df_c.to_csv('~/shared/spd-sdv-omitnik-waze/corona/cleaning/data/staging/cities_c_iqr.csv', index=False)\n",
    "    "
   ]
  },
  {
   "cell_type": "markdown",
   "metadata": {},
   "source": [
    "## Copy percentile"
   ]
  },
  {
   "cell_type": "code",
   "execution_count": 128,
   "metadata": {},
   "outputs": [],
   "source": [
    "!cp ~/shared/spd-sdv-omitnik-waze/waze_tci/region_quantiles/quantiles/regions_quantiles.csv ~/shared/spd-sdv-omitnik-waze/corona/cleaning/data/raw/regions_quantiles.csv\n",
    "\n",
    "!sed \"s/\\[//g;s/\\]//g;s/['\\\"]//g\" ~/shared/spd-sdv-omitnik-waze/corona/cleaning/data/raw/regions_quantiles.csv > ~/shared/spd-sdv-omitnik-waze/corona/cleaning/data/staging/cities_iqr_00.csv"
   ]
  },
  {
   "cell_type": "code",
   "execution_count": 129,
   "metadata": {},
   "outputs": [],
   "source": [
    "%%bash \n",
    "\n",
    "echo -e \"region_slug,mean,var_p, var_s,q10,q20,q30,q40,q50,q60,q70,q80,q90,q01,q99,q25,q75,q05,q95\" | cat - ~/shared/spd-sdv-omitnik-waze/corona/cleaning/data/staging/cities_iqr_00.csv > ~/shared/spd-sdv-omitnik-waze/corona/cleaning/data/staging/cities_iqr.csv"
   ]
  },
  {
   "cell_type": "code",
   "execution_count": 130,
   "metadata": {},
   "outputs": [],
   "source": [
    "!rm ~/shared/spd-sdv-omitnik-waze/corona/cleaning/data/staging/cities_iqr_00.csv"
   ]
  },
  {
   "cell_type": "code",
   "execution_count": 131,
   "metadata": {},
   "outputs": [
    {
     "name": "stdout",
     "output_type": "stream",
     "text": [
      "region_slug,mean,var_p, var_s,q10,q20,q30,q40,q50,q60,q70,q80,q90,q01,q99,q25,q75,q05,q95\r\n",
      "aguascalientes,8039136.868743886,8862843413565.455,8887326406420.607,3829261.1993683483,5605996.229991711,6600013.058713919,6932325.881132038,7473441.530126513,8626943.901942156,9718372.086622398,11136396.36923769,11136396.36923769,2151065.466800198,14393234.680959623,6215087.576892198,10248917.983242217,3349729.7486610203,12964231.367048915\r\n"
     ]
    }
   ],
   "source": [
    "!head -2 ~/shared/spd-sdv-omitnik-waze/corona/cleaning/data/staging/cities_iqr.csv"
   ]
  },
  {
   "cell_type": "code",
   "execution_count": 132,
   "metadata": {},
   "outputs": [
    {
     "name": "stdout",
     "output_type": "stream",
     "text": [
      "81 /home/soniame/shared/spd-sdv-omitnik-waze/corona/cleaning/data/staging/cities_iqr.csv\r\n"
     ]
    }
   ],
   "source": [
    "!wc -l ~/shared/spd-sdv-omitnik-waze/corona/cleaning/data/staging/cities_iqr.csv"
   ]
  },
  {
   "cell_type": "markdown",
   "metadata": {},
   "source": [
    "## Save c's file"
   ]
  },
  {
   "cell_type": "code",
   "execution_count": 133,
   "metadata": {},
   "outputs": [
    {
     "name": "stdout",
     "output_type": "stream",
     "text": [
      "(80, 6)\n",
      "       c_low_p01  c_upp_p99  c_low_p05  c_upp_p95      c_min\n",
      "count  80.000000  80.000000  80.000000  80.000000  80.000000\n",
      "mean    0.830407   1.428594   0.624415   0.723806   0.512360\n",
      "std     0.389538   0.837872   0.321490   0.316299   0.207626\n",
      "min     0.213163   0.506459   0.165875   0.308937   0.165875\n",
      "25%     0.524155   0.904405   0.392484   0.508035   0.367157\n",
      "50%     0.681661   1.227612   0.514479   0.646442   0.489973\n",
      "75%     1.098601   1.641614   0.778167   0.837884   0.620721\n",
      "max     1.766687   5.851183   1.580424   2.021423   1.482831\n"
     ]
    }
   ],
   "source": [
    "_save_cs_file()"
   ]
  },
  {
   "cell_type": "code",
   "execution_count": 134,
   "metadata": {},
   "outputs": [],
   "source": [
    "df = pd.read_csv('~/shared/spd-sdv-omitnik-waze/corona/cleaning/data/staging/cities_c_iqr.csv')"
   ]
  },
  {
   "cell_type": "code",
   "execution_count": 135,
   "metadata": {},
   "outputs": [
    {
     "data": {
      "text/html": [
       "<div>\n",
       "<style scoped>\n",
       "    .dataframe tbody tr th:only-of-type {\n",
       "        vertical-align: middle;\n",
       "    }\n",
       "\n",
       "    .dataframe tbody tr th {\n",
       "        vertical-align: top;\n",
       "    }\n",
       "\n",
       "    .dataframe thead th {\n",
       "        text-align: right;\n",
       "    }\n",
       "</style>\n",
       "<table border=\"1\" class=\"dataframe\">\n",
       "  <thead>\n",
       "    <tr style=\"text-align: right;\">\n",
       "      <th></th>\n",
       "      <th>region_slug</th>\n",
       "      <th>c_low_p01</th>\n",
       "      <th>c_upp_p99</th>\n",
       "      <th>c_low_p05</th>\n",
       "      <th>c_upp_p95</th>\n",
       "      <th>c_min</th>\n",
       "    </tr>\n",
       "  </thead>\n",
       "  <tbody>\n",
       "    <tr>\n",
       "      <th>0</th>\n",
       "      <td>aguascalientes</td>\n",
       "      <td>1.007485</td>\n",
       "      <td>1.027390</td>\n",
       "      <td>0.710332</td>\n",
       "      <td>0.673135</td>\n",
       "      <td>0.673135</td>\n",
       "    </tr>\n",
       "    <tr>\n",
       "      <th>1</th>\n",
       "      <td>arequipa</td>\n",
       "      <td>1.370780</td>\n",
       "      <td>1.318878</td>\n",
       "      <td>0.967781</td>\n",
       "      <td>0.620649</td>\n",
       "      <td>0.620649</td>\n",
       "    </tr>\n",
       "    <tr>\n",
       "      <th>2</th>\n",
       "      <td>asuncion</td>\n",
       "      <td>0.615222</td>\n",
       "      <td>1.589508</td>\n",
       "      <td>0.503198</td>\n",
       "      <td>0.604833</td>\n",
       "      <td>0.503198</td>\n",
       "    </tr>\n",
       "    <tr>\n",
       "      <th>3</th>\n",
       "      <td>barcelona</td>\n",
       "      <td>0.564193</td>\n",
       "      <td>1.984999</td>\n",
       "      <td>0.447251</td>\n",
       "      <td>1.037351</td>\n",
       "      <td>0.447251</td>\n",
       "    </tr>\n",
       "    <tr>\n",
       "      <th>4</th>\n",
       "      <td>barquisimeto</td>\n",
       "      <td>0.590701</td>\n",
       "      <td>1.705025</td>\n",
       "      <td>0.494875</td>\n",
       "      <td>0.761201</td>\n",
       "      <td>0.494875</td>\n",
       "    </tr>\n",
       "    <tr>\n",
       "      <th>...</th>\n",
       "      <td>...</td>\n",
       "      <td>...</td>\n",
       "      <td>...</td>\n",
       "      <td>...</td>\n",
       "      <td>...</td>\n",
       "      <td>...</td>\n",
       "    </tr>\n",
       "    <tr>\n",
       "      <th>75</th>\n",
       "      <td>tijuana</td>\n",
       "      <td>0.902337</td>\n",
       "      <td>1.229780</td>\n",
       "      <td>0.901946</td>\n",
       "      <td>0.596387</td>\n",
       "      <td>0.596387</td>\n",
       "    </tr>\n",
       "    <tr>\n",
       "      <th>76</th>\n",
       "      <td>toluca</td>\n",
       "      <td>1.073920</td>\n",
       "      <td>1.020487</td>\n",
       "      <td>0.755596</td>\n",
       "      <td>0.557825</td>\n",
       "      <td>0.557825</td>\n",
       "    </tr>\n",
       "    <tr>\n",
       "      <th>77</th>\n",
       "      <td>torreon</td>\n",
       "      <td>0.560243</td>\n",
       "      <td>0.784957</td>\n",
       "      <td>0.507468</td>\n",
       "      <td>0.552098</td>\n",
       "      <td>0.507468</td>\n",
       "    </tr>\n",
       "    <tr>\n",
       "      <th>78</th>\n",
       "      <td>valencia</td>\n",
       "      <td>0.315810</td>\n",
       "      <td>2.233693</td>\n",
       "      <td>0.259911</td>\n",
       "      <td>0.989889</td>\n",
       "      <td>0.259911</td>\n",
       "    </tr>\n",
       "    <tr>\n",
       "      <th>79</th>\n",
       "      <td>vitoria</td>\n",
       "      <td>0.469888</td>\n",
       "      <td>0.888070</td>\n",
       "      <td>0.380450</td>\n",
       "      <td>0.454737</td>\n",
       "      <td>0.380450</td>\n",
       "    </tr>\n",
       "  </tbody>\n",
       "</table>\n",
       "<p>80 rows × 6 columns</p>\n",
       "</div>"
      ],
      "text/plain": [
       "       region_slug  c_low_p01  c_upp_p99  c_low_p05  c_upp_p95     c_min\n",
       "0   aguascalientes   1.007485   1.027390   0.710332   0.673135  0.673135\n",
       "1         arequipa   1.370780   1.318878   0.967781   0.620649  0.620649\n",
       "2         asuncion   0.615222   1.589508   0.503198   0.604833  0.503198\n",
       "3        barcelona   0.564193   1.984999   0.447251   1.037351  0.447251\n",
       "4     barquisimeto   0.590701   1.705025   0.494875   0.761201  0.494875\n",
       "..             ...        ...        ...        ...        ...       ...\n",
       "75         tijuana   0.902337   1.229780   0.901946   0.596387  0.596387\n",
       "76          toluca   1.073920   1.020487   0.755596   0.557825  0.557825\n",
       "77         torreon   0.560243   0.784957   0.507468   0.552098  0.507468\n",
       "78        valencia   0.315810   2.233693   0.259911   0.989889  0.259911\n",
       "79         vitoria   0.469888   0.888070   0.380450   0.454737  0.380450\n",
       "\n",
       "[80 rows x 6 columns]"
      ]
     },
     "execution_count": 135,
     "metadata": {},
     "output_type": "execute_result"
    }
   ],
   "source": [
    "df"
   ]
  },
  {
   "cell_type": "code",
   "execution_count": 136,
   "metadata": {},
   "outputs": [
    {
     "name": "stdout",
     "output_type": "stream",
     "text": [
      "80\n"
     ]
    }
   ],
   "source": [
    "print(len(df.region_slug.to_list()))\n",
    "#df.region_slug.to_list()"
   ]
  },
  {
   "cell_type": "markdown",
   "metadata": {},
   "source": [
    "### Regions missing"
   ]
  },
  {
   "cell_type": "code",
   "execution_count": 137,
   "metadata": {},
   "outputs": [],
   "source": [
    "# %load first_cell.py\n",
    "%reload_ext autoreload\n",
    "%autoreload 2\n",
    "#from pathlib import Path\n",
    "#home = str(Path.home())\n",
    "\n",
    "import sys\n",
    "sys.path.insert(0, '../')\n",
    "\n",
    "from src import utils"
   ]
  },
  {
   "cell_type": "code",
   "execution_count": 138,
   "metadata": {},
   "outputs": [
    {
     "name": "stderr",
     "output_type": "stream",
     "text": [
      "../src/utils.py:158: YAMLLoadWarning: calling yaml.load() without Loader=... is deprecated, as the default Loader is unsafe. Please read https://msg.pyyaml.org/load for full details.\n",
      "  athena_config = yaml.load(open(path, \"r\"))\n"
     ]
    }
   ],
   "source": [
    "conn = utils.connect_athena(path='../configs/athena.yaml')"
   ]
  },
  {
   "cell_type": "code",
   "execution_count": 139,
   "metadata": {},
   "outputs": [],
   "source": [
    "qry = \"\"\"\n",
    "    select distinct region_slug\n",
    "    from spd_sdv_waze_corona.prod_daily_daily_index\n",
    "\"\"\"\n",
    "dash_regions = pd.read_sql_query(qry, conn).sort_values('region_slug').region_slug.unique()"
   ]
  },
  {
   "cell_type": "code",
   "execution_count": 140,
   "metadata": {},
   "outputs": [],
   "source": [
    "cpar_regions = df.region_slug.to_list()"
   ]
  },
  {
   "cell_type": "code",
   "execution_count": 141,
   "metadata": {},
   "outputs": [
    {
     "data": {
      "text/plain": [
       "56"
      ]
     },
     "execution_count": 141,
     "metadata": {},
     "output_type": "execute_result"
    }
   ],
   "source": [
    "a = set(dash_regions)\n",
    "b = set(cpar_regions)\n",
    "len(a.intersection(b))"
   ]
  },
  {
   "cell_type": "code",
   "execution_count": 142,
   "metadata": {},
   "outputs": [
    {
     "data": {
      "text/plain": [
       "{'bogota',\n",
       " 'br_states_acre',\n",
       " 'br_states_alagoas',\n",
       " 'br_states_amapa',\n",
       " 'br_states_amazonas',\n",
       " 'br_states_bahia',\n",
       " 'br_states_ceara',\n",
       " 'br_states_distrito_federal',\n",
       " 'br_states_espirito_santo',\n",
       " 'br_states_goias',\n",
       " 'br_states_maranhao',\n",
       " 'br_states_mato_grosso',\n",
       " 'br_states_mato_grosso_do_sul',\n",
       " 'br_states_minas_gerais',\n",
       " 'br_states_para',\n",
       " 'br_states_paraiba',\n",
       " 'br_states_parana',\n",
       " 'br_states_pernambuco',\n",
       " 'br_states_piaui',\n",
       " 'br_states_rio_de_janeiro',\n",
       " 'br_states_rio_grande_do_norte',\n",
       " 'br_states_rio_grande_do_sul',\n",
       " 'br_states_rondonia',\n",
       " 'br_states_roraima',\n",
       " 'br_states_santa_catarina',\n",
       " 'br_states_sao_paulo',\n",
       " 'br_states_sergipe',\n",
       " 'br_states_tocantins',\n",
       " 'country_argentina',\n",
       " 'country_barbados',\n",
       " 'country_brazil',\n",
       " 'country_chile',\n",
       " 'country_colombia',\n",
       " 'country_costa_rica',\n",
       " 'country_dominican_republic',\n",
       " 'country_ecuador',\n",
       " 'country_el_salvador',\n",
       " 'country_guatemala',\n",
       " 'country_honduras',\n",
       " 'country_jamaica',\n",
       " 'country_mexico',\n",
       " 'country_nicaragua',\n",
       " 'country_panama',\n",
       " 'country_paraguay',\n",
       " 'country_peru',\n",
       " 'country_trinidad_and_tobago',\n",
       " 'country_uruguay',\n",
       " 'mexicocity',\n",
       " 'monterrey',\n",
       " 'montevideo',\n",
       " 'riodejaneiro',\n",
       " 'saopaulo'}"
      ]
     },
     "execution_count": 142,
     "metadata": {},
     "output_type": "execute_result"
    }
   ],
   "source": [
    "a.difference(b)"
   ]
  },
  {
   "cell_type": "code",
   "execution_count": null,
   "metadata": {},
   "outputs": [],
   "source": []
  }
 ],
 "metadata": {
  "kernelspec": {
   "display_name": "IDB-IDB-Invest-Coronavirus-Impact-Dashboard",
   "language": "python",
   "name": "idb-idb-invest-coronavirus-impact-dashboard"
  },
  "language_info": {
   "codemirror_mode": {
    "name": "ipython",
    "version": 3
   },
   "file_extension": ".py",
   "mimetype": "text/x-python",
   "name": "python",
   "nbconvert_exporter": "python",
   "pygments_lexer": "ipython3",
   "version": "3.7.10"
  }
 },
 "nbformat": 4,
 "nbformat_minor": 2
}
