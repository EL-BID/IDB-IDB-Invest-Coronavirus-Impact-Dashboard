{
 "cells": [
  {
   "cell_type": "markdown",
   "metadata": {},
   "source": [
    "# Preprocess c file\n",
    "\n",
    "TCI percentiles per city-country\n",
    "\n",
    "`Last update`: 2021-04-15"
   ]
  },
  {
   "cell_type": "code",
   "execution_count": 518,
   "metadata": {},
   "outputs": [],
   "source": [
    "import subprocess\n",
    "import pandas as pd\n",
    "from loguru import logger \n",
    "\n",
    "def _create_cs_file(path_c):\n",
    "    \n",
    "    df = pd.read_csv(path_c)\n",
    "    a = set(df.region_slug)\n",
    "    \n",
    "    df = df \\\n",
    "        .drop_duplicates('region_slug') \n",
    "    b = set(df.region_slug)\n",
    "    \n",
    "    df = df\\\n",
    "        .dropna()\n",
    "    c = set(df.region_slug)\n",
    "\n",
    "    print (a.difference(b))\n",
    "    print (a.difference(c))\n",
    "    \n",
    "    for k in df.columns:\n",
    "        if k != 'region_slug':\n",
    "            df[k] = pd.to_numeric(df[k])\n",
    "        if k == 'region_slug':\n",
    "            df[k] = df[k].astype(str) \n",
    "\n",
    "    df_c = df \\\n",
    "        .assign(c_low_p01 = lambda x: (x['q25']-x['q01'])/(x['q75']-x['q25']),\n",
    "                c_upp_p99 = lambda x: (x['q99']-x['q75'])/(x['q75']-x['q25']),\n",
    "                c_low_p05 = lambda x: (x['q25']-x['q05'])/(x['q75']-x['q25']),\n",
    "                c_upp_p95 = lambda x: (x['q95']-x['q75'])/(x['q75']-x['q25'])\n",
    "               ) \\\n",
    "        [['region_slug', 'c_low_p01', 'c_upp_p99', 'c_low_p05', 'c_upp_p95']]\n",
    "    \n",
    "    df_c['c_min'] = df_c[['c_low_p01', 'c_upp_p99', 'c_low_p05', 'c_upp_p95']].min(axis=1)\n",
    "    df_c['c_max'] = df_c[['c_low_p01', 'c_upp_p99', 'c_low_p05', 'c_upp_p95']].max(axis=1)\n",
    "    df_c['c_avg'] = df_c[['c_low_p01', 'c_upp_p99', 'c_low_p05', 'c_upp_p95']].mean(axis=1)\n",
    "    \n",
    "    return df_c\n",
    "\n",
    "def _save_cs_file(): \n",
    "    \n",
    "    logger.debug('writing file')\n",
    "    \n",
    "    df_c = _create_cs_file(path_c = '~/shared/spd-sdv-omitnik-waze/corona/cleaning/data/staging/cities_iqr.csv')\n",
    "    print(df_c.shape)\n",
    "    print(df_c.describe())\n",
    "    df_c.to_csv('~/shared/spd-sdv-omitnik-waze/corona/cleaning/data/staging/cities_c_iqr.csv', index=False)\n",
    "    "
   ]
  },
  {
   "cell_type": "markdown",
   "metadata": {},
   "source": [
    "## Copy percentile"
   ]
  },
  {
   "cell_type": "code",
   "execution_count": 474,
   "metadata": {},
   "outputs": [],
   "source": [
    "!cp ~/shared/spd-sdv-omitnik-waze/waze_tci/region_quantiles/quantiles/regions_quantiles-20210420.csv ~/shared/spd-sdv-omitnik-waze/corona/cleaning/data/raw/regions_quantiles.csv\n",
    "\n",
    "!sed \"s/\\[//g;s/\\]//g;s/['\\\"]//g\" ~/shared/spd-sdv-omitnik-waze/corona/cleaning/data/raw/regions_quantiles.csv > ~/shared/spd-sdv-omitnik-waze/corona/cleaning/data/staging/cities_iqr_00.csv"
   ]
  },
  {
   "cell_type": "code",
   "execution_count": 475,
   "metadata": {},
   "outputs": [],
   "source": [
    "%%bash \n",
    "\n",
    "echo -e \"region_slug,mean,var_p, var_s,q10,q20,q30,q40,q50,q60,q70,q80,q90,q01,q99,q25,q75,q05,q95\" | cat - ~/shared/spd-sdv-omitnik-waze/corona/cleaning/data/staging/cities_iqr_00.csv > ~/shared/spd-sdv-omitnik-waze/corona/cleaning/data/staging/cities_iqr.csv"
   ]
  },
  {
   "cell_type": "code",
   "execution_count": 476,
   "metadata": {},
   "outputs": [],
   "source": [
    "!rm ~/shared/spd-sdv-omitnik-waze/corona/cleaning/data/staging/cities_iqr_00.csv"
   ]
  },
  {
   "cell_type": "code",
   "execution_count": 477,
   "metadata": {},
   "outputs": [
    {
     "name": "stdout",
     "output_type": "stream",
     "text": [
      "region_slug,mean,var_p, var_s,q10,q20,q30,q40,q50,q60,q70,q80,q90,q01,q99,q25,q75,q05,q95\r\n",
      "aguascalientes,8039136.868743886,8862843413565.455,8887326406420.607,3829261.1993683483,5605996.229991711,6600013.058713919,6932325.881132038,7473441.530126513,8626943.901942156,9718372.086622398,11136396.36923769,11136396.36923769,2151065.466800198,14393234.680959623,6215087.576892198,10248917.983242217,3349729.7486610203,12964231.367048915\r\n"
     ]
    }
   ],
   "source": [
    "!head -2 ~/shared/spd-sdv-omitnik-waze/corona/cleaning/data/staging/cities_iqr.csv"
   ]
  },
  {
   "cell_type": "code",
   "execution_count": 478,
   "metadata": {},
   "outputs": [
    {
     "name": "stdout",
     "output_type": "stream",
     "text": [
      "107 /home/soniame/shared/spd-sdv-omitnik-waze/corona/cleaning/data/staging/cities_iqr.csv\r\n"
     ]
    }
   ],
   "source": [
    "!wc -l ~/shared/spd-sdv-omitnik-waze/corona/cleaning/data/staging/cities_iqr.csv"
   ]
  },
  {
   "cell_type": "markdown",
   "metadata": {},
   "source": [
    "## Save c's file"
   ]
  },
  {
   "cell_type": "code",
   "execution_count": 519,
   "metadata": {},
   "outputs": [
    {
     "name": "stderr",
     "output_type": "stream",
     "text": [
      "2021-04-22 13:23:07.285 | DEBUG    | __main__:_save_cs_file:43 - writing file\n"
     ]
    },
    {
     "name": "stdout",
     "output_type": "stream",
     "text": [
      "set()\n",
      "{nan}\n",
      "(100, 8)\n",
      "        c_low_p01   c_upp_p99   c_low_p05   c_upp_p95       c_min       c_max  \\\n",
      "count  100.000000  100.000000  100.000000  100.000000  100.000000  100.000000   \n",
      "mean     0.872206    1.501374    0.654722    0.771653    0.531642    1.572998   \n",
      "std      0.423429    0.887724    0.342507    0.374849    0.220602    0.864893   \n",
      "min      0.213163    0.506459    0.165875    0.308937    0.165875    0.506459   \n",
      "25%      0.525674    0.965353    0.400885    0.517304    0.374315    1.034190   \n",
      "50%      0.737493    1.279874    0.556730    0.674209    0.494360    1.407540   \n",
      "75%      1.234659    1.694937    0.875145    0.900741    0.658642    1.788816   \n",
      "max      2.017849    5.851183    1.580424    2.572249    1.482831    5.851183   \n",
      "\n",
      "            c_avg  \n",
      "count  100.000000  \n",
      "mean     0.949989  \n",
      "std      0.347770  \n",
      "min      0.388697  \n",
      "25%      0.683010  \n",
      "50%      0.910712  \n",
      "75%      1.147068  \n",
      "max      2.285736  \n"
     ]
    }
   ],
   "source": [
    "_save_cs_file()"
   ]
  },
  {
   "cell_type": "code",
   "execution_count": null,
   "metadata": {},
   "outputs": [],
   "source": []
  },
  {
   "cell_type": "code",
   "execution_count": 513,
   "metadata": {},
   "outputs": [],
   "source": [
    "df = pd.read_csv('~/shared/spd-sdv-omitnik-waze/corona/cleaning/data/staging/cities_c_iqr.csv')"
   ]
  },
  {
   "cell_type": "code",
   "execution_count": 527,
   "metadata": {},
   "outputs": [
    {
     "data": {
      "text/html": [
       "<div>\n",
       "<style scoped>\n",
       "    .dataframe tbody tr th:only-of-type {\n",
       "        vertical-align: middle;\n",
       "    }\n",
       "\n",
       "    .dataframe tbody tr th {\n",
       "        vertical-align: top;\n",
       "    }\n",
       "\n",
       "    .dataframe thead th {\n",
       "        text-align: right;\n",
       "    }\n",
       "</style>\n",
       "<table border=\"1\" class=\"dataframe\">\n",
       "  <thead>\n",
       "    <tr style=\"text-align: right;\">\n",
       "      <th></th>\n",
       "      <th>region_slug</th>\n",
       "      <th>c_low_p01</th>\n",
       "      <th>c_upp_p99</th>\n",
       "      <th>c_low_p05</th>\n",
       "      <th>c_upp_p95</th>\n",
       "      <th>c_min</th>\n",
       "      <th>c_max</th>\n",
       "      <th>c_avg</th>\n",
       "    </tr>\n",
       "  </thead>\n",
       "  <tbody>\n",
       "    <tr>\n",
       "      <th>51</th>\n",
       "      <td>porto_alergre</td>\n",
       "      <td>0.440829</td>\n",
       "      <td>0.506459</td>\n",
       "      <td>0.276893</td>\n",
       "      <td>0.330608</td>\n",
       "      <td>0.276893</td>\n",
       "      <td>0.506459</td>\n",
       "      <td>0.388697</td>\n",
       "    </tr>\n",
       "    <tr>\n",
       "      <th>52</th>\n",
       "      <td>portofspain</td>\n",
       "      <td>0.391413</td>\n",
       "      <td>1.036457</td>\n",
       "      <td>0.341445</td>\n",
       "      <td>0.475205</td>\n",
       "      <td>0.341445</td>\n",
       "      <td>1.036457</td>\n",
       "      <td>0.561130</td>\n",
       "    </tr>\n",
       "    <tr>\n",
       "      <th>53</th>\n",
       "      <td>pueble</td>\n",
       "      <td>1.145335</td>\n",
       "      <td>0.719038</td>\n",
       "      <td>0.709114</td>\n",
       "      <td>0.488164</td>\n",
       "      <td>0.488164</td>\n",
       "      <td>1.145335</td>\n",
       "      <td>0.765413</td>\n",
       "    </tr>\n",
       "    <tr>\n",
       "      <th>54</th>\n",
       "      <td>queretaro</td>\n",
       "      <td>0.981920</td>\n",
       "      <td>1.021702</td>\n",
       "      <td>0.662248</td>\n",
       "      <td>0.531689</td>\n",
       "      <td>0.531689</td>\n",
       "      <td>1.021702</td>\n",
       "      <td>0.799390</td>\n",
       "    </tr>\n",
       "    <tr>\n",
       "      <th>55</th>\n",
       "      <td>quito</td>\n",
       "      <td>1.402096</td>\n",
       "      <td>1.115015</td>\n",
       "      <td>1.076028</td>\n",
       "      <td>0.658330</td>\n",
       "      <td>0.658330</td>\n",
       "      <td>1.402096</td>\n",
       "      <td>1.062867</td>\n",
       "    </tr>\n",
       "    <tr>\n",
       "      <th>56</th>\n",
       "      <td>recife</td>\n",
       "      <td>0.638923</td>\n",
       "      <td>0.727671</td>\n",
       "      <td>0.512852</td>\n",
       "      <td>0.388162</td>\n",
       "      <td>0.388162</td>\n",
       "      <td>0.727671</td>\n",
       "      <td>0.566902</td>\n",
       "    </tr>\n",
       "    <tr>\n",
       "      <th>57</th>\n",
       "      <td>rosario</td>\n",
       "      <td>1.042049</td>\n",
       "      <td>1.630064</td>\n",
       "      <td>0.458417</td>\n",
       "      <td>1.031120</td>\n",
       "      <td>0.458417</td>\n",
       "      <td>1.630064</td>\n",
       "      <td>1.040412</td>\n",
       "    </tr>\n",
       "    <tr>\n",
       "      <th>58</th>\n",
       "      <td>salvador</td>\n",
       "      <td>0.726099</td>\n",
       "      <td>0.757092</td>\n",
       "      <td>0.567365</td>\n",
       "      <td>0.360343</td>\n",
       "      <td>0.360343</td>\n",
       "      <td>0.757092</td>\n",
       "      <td>0.602725</td>\n",
       "    </tr>\n",
       "    <tr>\n",
       "      <th>59</th>\n",
       "      <td>sanfernado</td>\n",
       "      <td>0.514860</td>\n",
       "      <td>1.887546</td>\n",
       "      <td>0.463468</td>\n",
       "      <td>0.754692</td>\n",
       "      <td>0.463468</td>\n",
       "      <td>1.887546</td>\n",
       "      <td>0.905142</td>\n",
       "    </tr>\n",
       "    <tr>\n",
       "      <th>60</th>\n",
       "      <td>sanjose</td>\n",
       "      <td>1.472211</td>\n",
       "      <td>1.082695</td>\n",
       "      <td>1.123831</td>\n",
       "      <td>0.588683</td>\n",
       "      <td>0.588683</td>\n",
       "      <td>1.472211</td>\n",
       "      <td>1.066855</td>\n",
       "    </tr>\n",
       "    <tr>\n",
       "      <th>61</th>\n",
       "      <td>sanluispotosi</td>\n",
       "      <td>0.837345</td>\n",
       "      <td>1.655425</td>\n",
       "      <td>0.557186</td>\n",
       "      <td>0.392922</td>\n",
       "      <td>0.392922</td>\n",
       "      <td>1.655425</td>\n",
       "      <td>0.860720</td>\n",
       "    </tr>\n",
       "    <tr>\n",
       "      <th>62</th>\n",
       "      <td>sanpedrosula</td>\n",
       "      <td>1.231027</td>\n",
       "      <td>2.055828</td>\n",
       "      <td>1.055731</td>\n",
       "      <td>1.252042</td>\n",
       "      <td>1.055731</td>\n",
       "      <td>2.055828</td>\n",
       "      <td>1.398657</td>\n",
       "    </tr>\n",
       "    <tr>\n",
       "      <th>63</th>\n",
       "      <td>sansalvador</td>\n",
       "      <td>1.451241</td>\n",
       "      <td>1.251684</td>\n",
       "      <td>1.332917</td>\n",
       "      <td>0.709323</td>\n",
       "      <td>0.709323</td>\n",
       "      <td>1.451241</td>\n",
       "      <td>1.186291</td>\n",
       "    </tr>\n",
       "    <tr>\n",
       "      <th>64</th>\n",
       "      <td>santacruzdelasierra</td>\n",
       "      <td>1.247482</td>\n",
       "      <td>1.143623</td>\n",
       "      <td>1.072946</td>\n",
       "      <td>0.675283</td>\n",
       "      <td>0.675283</td>\n",
       "      <td>1.247482</td>\n",
       "      <td>1.034834</td>\n",
       "    </tr>\n",
       "    <tr>\n",
       "      <th>65</th>\n",
       "      <td>santamarta</td>\n",
       "      <td>0.817689</td>\n",
       "      <td>5.851183</td>\n",
       "      <td>0.452649</td>\n",
       "      <td>2.021423</td>\n",
       "      <td>0.452649</td>\n",
       "      <td>5.851183</td>\n",
       "      <td>2.285736</td>\n",
       "    </tr>\n",
       "    <tr>\n",
       "      <th>66</th>\n",
       "      <td>santiago</td>\n",
       "      <td>0.334874</td>\n",
       "      <td>0.723880</td>\n",
       "      <td>0.269006</td>\n",
       "      <td>0.443819</td>\n",
       "      <td>0.269006</td>\n",
       "      <td>0.723880</td>\n",
       "      <td>0.442895</td>\n",
       "    </tr>\n",
       "    <tr>\n",
       "      <th>67</th>\n",
       "      <td>santiagocaballeros</td>\n",
       "      <td>1.494337</td>\n",
       "      <td>1.351455</td>\n",
       "      <td>1.255152</td>\n",
       "      <td>0.739532</td>\n",
       "      <td>0.739532</td>\n",
       "      <td>1.494337</td>\n",
       "      <td>1.210119</td>\n",
       "    </tr>\n",
       "    <tr>\n",
       "      <th>68</th>\n",
       "      <td>santodomingo</td>\n",
       "      <td>1.352304</td>\n",
       "      <td>1.278807</td>\n",
       "      <td>1.115842</td>\n",
       "      <td>0.745186</td>\n",
       "      <td>0.745186</td>\n",
       "      <td>1.352304</td>\n",
       "      <td>1.123035</td>\n",
       "    </tr>\n",
       "    <tr>\n",
       "      <th>69</th>\n",
       "      <td>santos</td>\n",
       "      <td>0.887188</td>\n",
       "      <td>1.789603</td>\n",
       "      <td>0.666006</td>\n",
       "      <td>0.775894</td>\n",
       "      <td>0.666006</td>\n",
       "      <td>1.789603</td>\n",
       "      <td>1.029673</td>\n",
       "    </tr>\n",
       "    <tr>\n",
       "      <th>70</th>\n",
       "      <td>saojosedoscampos</td>\n",
       "      <td>0.599291</td>\n",
       "      <td>1.522367</td>\n",
       "      <td>0.434688</td>\n",
       "      <td>0.631454</td>\n",
       "      <td>0.434688</td>\n",
       "      <td>1.522367</td>\n",
       "      <td>0.796950</td>\n",
       "    </tr>\n",
       "    <tr>\n",
       "      <th>71</th>\n",
       "      <td>saoluis</td>\n",
       "      <td>0.642543</td>\n",
       "      <td>1.067083</td>\n",
       "      <td>0.519852</td>\n",
       "      <td>0.663655</td>\n",
       "      <td>0.519852</td>\n",
       "      <td>1.067083</td>\n",
       "      <td>0.723283</td>\n",
       "    </tr>\n",
       "    <tr>\n",
       "      <th>72</th>\n",
       "      <td>sorocaba</td>\n",
       "      <td>0.639825</td>\n",
       "      <td>1.351856</td>\n",
       "      <td>0.550959</td>\n",
       "      <td>0.712669</td>\n",
       "      <td>0.550959</td>\n",
       "      <td>1.351856</td>\n",
       "      <td>0.813827</td>\n",
       "    </tr>\n",
       "    <tr>\n",
       "      <th>73</th>\n",
       "      <td>tegucigalpa</td>\n",
       "      <td>0.710284</td>\n",
       "      <td>1.482506</td>\n",
       "      <td>0.624447</td>\n",
       "      <td>0.838008</td>\n",
       "      <td>0.624447</td>\n",
       "      <td>1.482506</td>\n",
       "      <td>0.913811</td>\n",
       "    </tr>\n",
       "    <tr>\n",
       "      <th>74</th>\n",
       "      <td>teresina</td>\n",
       "      <td>0.524216</td>\n",
       "      <td>0.972159</td>\n",
       "      <td>0.381889</td>\n",
       "      <td>0.600367</td>\n",
       "      <td>0.381889</td>\n",
       "      <td>0.972159</td>\n",
       "      <td>0.619658</td>\n",
       "    </tr>\n",
       "  </tbody>\n",
       "</table>\n",
       "</div>"
      ],
      "text/plain": [
       "            region_slug  c_low_p01  c_upp_p99  c_low_p05  c_upp_p95     c_min  \\\n",
       "51        porto_alergre   0.440829   0.506459   0.276893   0.330608  0.276893   \n",
       "52          portofspain   0.391413   1.036457   0.341445   0.475205  0.341445   \n",
       "53               pueble   1.145335   0.719038   0.709114   0.488164  0.488164   \n",
       "54            queretaro   0.981920   1.021702   0.662248   0.531689  0.531689   \n",
       "55                quito   1.402096   1.115015   1.076028   0.658330  0.658330   \n",
       "56               recife   0.638923   0.727671   0.512852   0.388162  0.388162   \n",
       "57              rosario   1.042049   1.630064   0.458417   1.031120  0.458417   \n",
       "58             salvador   0.726099   0.757092   0.567365   0.360343  0.360343   \n",
       "59           sanfernado   0.514860   1.887546   0.463468   0.754692  0.463468   \n",
       "60              sanjose   1.472211   1.082695   1.123831   0.588683  0.588683   \n",
       "61        sanluispotosi   0.837345   1.655425   0.557186   0.392922  0.392922   \n",
       "62         sanpedrosula   1.231027   2.055828   1.055731   1.252042  1.055731   \n",
       "63          sansalvador   1.451241   1.251684   1.332917   0.709323  0.709323   \n",
       "64  santacruzdelasierra   1.247482   1.143623   1.072946   0.675283  0.675283   \n",
       "65           santamarta   0.817689   5.851183   0.452649   2.021423  0.452649   \n",
       "66             santiago   0.334874   0.723880   0.269006   0.443819  0.269006   \n",
       "67   santiagocaballeros   1.494337   1.351455   1.255152   0.739532  0.739532   \n",
       "68         santodomingo   1.352304   1.278807   1.115842   0.745186  0.745186   \n",
       "69               santos   0.887188   1.789603   0.666006   0.775894  0.666006   \n",
       "70     saojosedoscampos   0.599291   1.522367   0.434688   0.631454  0.434688   \n",
       "71              saoluis   0.642543   1.067083   0.519852   0.663655  0.519852   \n",
       "72             sorocaba   0.639825   1.351856   0.550959   0.712669  0.550959   \n",
       "73          tegucigalpa   0.710284   1.482506   0.624447   0.838008  0.624447   \n",
       "74             teresina   0.524216   0.972159   0.381889   0.600367  0.381889   \n",
       "\n",
       "       c_max     c_avg  \n",
       "51  0.506459  0.388697  \n",
       "52  1.036457  0.561130  \n",
       "53  1.145335  0.765413  \n",
       "54  1.021702  0.799390  \n",
       "55  1.402096  1.062867  \n",
       "56  0.727671  0.566902  \n",
       "57  1.630064  1.040412  \n",
       "58  0.757092  0.602725  \n",
       "59  1.887546  0.905142  \n",
       "60  1.472211  1.066855  \n",
       "61  1.655425  0.860720  \n",
       "62  2.055828  1.398657  \n",
       "63  1.451241  1.186291  \n",
       "64  1.247482  1.034834  \n",
       "65  5.851183  2.285736  \n",
       "66  0.723880  0.442895  \n",
       "67  1.494337  1.210119  \n",
       "68  1.352304  1.123035  \n",
       "69  1.789603  1.029673  \n",
       "70  1.522367  0.796950  \n",
       "71  1.067083  0.723283  \n",
       "72  1.351856  0.813827  \n",
       "73  1.482506  0.913811  \n",
       "74  0.972159  0.619658  "
      ]
     },
     "execution_count": 527,
     "metadata": {},
     "output_type": "execute_result"
    }
   ],
   "source": [
    "#df[df.region_slug == 'saopaulo']\n",
    "df[51:75]"
   ]
  },
  {
   "cell_type": "code",
   "execution_count": 523,
   "metadata": {},
   "outputs": [
    {
     "name": "stdout",
     "output_type": "stream",
     "text": [
      "100\n"
     ]
    }
   ],
   "source": [
    "print(len(df.region_slug.to_list()))\n",
    "#df.region_slug.to_list()"
   ]
  },
  {
   "cell_type": "markdown",
   "metadata": {},
   "source": [
    "### Regions missing"
   ]
  },
  {
   "cell_type": "code",
   "execution_count": 500,
   "metadata": {},
   "outputs": [],
   "source": [
    "# %load first_cell.py\n",
    "%reload_ext autoreload\n",
    "%autoreload 2\n",
    "#from pathlib import Path\n",
    "#home = str(Path.home())\n",
    "\n",
    "import sys\n",
    "sys.path.insert(0, '../')\n",
    "\n",
    "from src import utils"
   ]
  },
  {
   "cell_type": "code",
   "execution_count": 501,
   "metadata": {},
   "outputs": [
    {
     "name": "stderr",
     "output_type": "stream",
     "text": [
      "../src/utils.py:158: YAMLLoadWarning: calling yaml.load() without Loader=... is deprecated, as the default Loader is unsafe. Please read https://msg.pyyaml.org/load for full details.\n",
      "  athena_config = yaml.load(open(path, \"r\"))\n"
     ]
    }
   ],
   "source": [
    "conn = utils.connect_athena(path='../configs/athena.yaml')"
   ]
  },
  {
   "cell_type": "code",
   "execution_count": 502,
   "metadata": {},
   "outputs": [],
   "source": [
    "qry = \"\"\"\n",
    "    select distinct region_slug\n",
    "    from spd_sdv_waze_corona.prod_daily_daily_index\n",
    "\"\"\"\n",
    "dash_regions = pd.read_sql_query(qry, conn).sort_values('region_slug').region_slug.unique()"
   ]
  },
  {
   "cell_type": "code",
   "execution_count": 503,
   "metadata": {},
   "outputs": [],
   "source": [
    "cpar_regions = df.region_slug.to_list()"
   ]
  },
  {
   "cell_type": "code",
   "execution_count": 504,
   "metadata": {},
   "outputs": [
    {
     "data": {
      "text/plain": [
       "72"
      ]
     },
     "execution_count": 504,
     "metadata": {},
     "output_type": "execute_result"
    }
   ],
   "source": [
    "a = set(dash_regions)\n",
    "b = set(cpar_regions)\n",
    "len(a.intersection(b))"
   ]
  },
  {
   "cell_type": "code",
   "execution_count": 505,
   "metadata": {},
   "outputs": [
    {
     "data": {
      "text/plain": [
       "{'br_states_acre',\n",
       " 'br_states_alagoas',\n",
       " 'br_states_amapa',\n",
       " 'br_states_amazonas',\n",
       " 'br_states_bahia',\n",
       " 'br_states_ceara',\n",
       " 'br_states_distrito_federal',\n",
       " 'br_states_espirito_santo',\n",
       " 'br_states_goias',\n",
       " 'br_states_maranhao',\n",
       " 'br_states_mato_grosso',\n",
       " 'br_states_mato_grosso_do_sul',\n",
       " 'br_states_minas_gerais',\n",
       " 'br_states_para',\n",
       " 'br_states_paraiba',\n",
       " 'br_states_parana',\n",
       " 'br_states_pernambuco',\n",
       " 'br_states_piaui',\n",
       " 'br_states_rio_de_janeiro',\n",
       " 'br_states_rio_grande_do_norte',\n",
       " 'br_states_rio_grande_do_sul',\n",
       " 'br_states_rondonia',\n",
       " 'br_states_roraima',\n",
       " 'br_states_santa_catarina',\n",
       " 'br_states_sao_paulo',\n",
       " 'br_states_sergipe',\n",
       " 'br_states_tocantins',\n",
       " 'country_brazil',\n",
       " 'country_honduras',\n",
       " 'country_mexico',\n",
       " 'country_nicaragua',\n",
       " 'country_panama',\n",
       " 'country_paraguay',\n",
       " 'country_peru',\n",
       " 'country_trinidad_and_tobago',\n",
       " 'country_uruguay'}"
      ]
     },
     "execution_count": 505,
     "metadata": {},
     "output_type": "execute_result"
    }
   ],
   "source": [
    "a.difference(b)"
   ]
  },
  {
   "cell_type": "code",
   "execution_count": null,
   "metadata": {},
   "outputs": [],
   "source": []
  }
 ],
 "metadata": {
  "kernelspec": {
   "display_name": "IDB-IDB-Invest-Coronavirus-Impact-Dashboard",
   "language": "python",
   "name": "idb-idb-invest-coronavirus-impact-dashboard"
  },
  "language_info": {
   "codemirror_mode": {
    "name": "ipython",
    "version": 3
   },
   "file_extension": ".py",
   "mimetype": "text/x-python",
   "name": "python",
   "nbconvert_exporter": "python",
   "pygments_lexer": "ipython3",
   "version": "3.7.10"
  }
 },
 "nbformat": 4,
 "nbformat_minor": 2
}
