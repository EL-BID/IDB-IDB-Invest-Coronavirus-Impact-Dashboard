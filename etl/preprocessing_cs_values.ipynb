{
 "cells": [
  {
   "cell_type": "markdown",
   "metadata": {},
   "source": [
    "# Preprocess c file\n",
    "\n",
    "TCI percentiles per city-country\n",
    "\n",
    "`Last update`: 2021-04-15"
   ]
  },
  {
   "cell_type": "code",
   "execution_count": 52,
   "metadata": {},
   "outputs": [],
   "source": [
    "import subprocess\n",
    "import pandas as pd\n",
    "from loguru import logger \n",
    "\n",
    "def _create_cs_file(path_c):\n",
    "    \n",
    "    df = pd.read_csv(path_c)\n",
    "    a = set(df.region_slug)\n",
    "    \n",
    "    df = df \\\n",
    "        .drop_duplicates('region_slug') \n",
    "    b = set(df.region_slug)\n",
    "    \n",
    "    df = df\\\n",
    "        .dropna()\n",
    "    c = set(df.region_slug)\n",
    "\n",
    "    print (a.difference(b))\n",
    "    print (a.difference(c))\n",
    "    \n",
    "    for k in df.columns:\n",
    "        if k != 'region_slug':\n",
    "            df[k] = pd.to_numeric(df[k])\n",
    "        if k == 'region_slug':\n",
    "            df[k] = df[k].astype(str) \n",
    "\n",
    "    df_c = df \\\n",
    "        .assign(c_low_p01 = lambda x: (x['q25']-x['q01'])/(x['q75']-x['q25']),\n",
    "                c_upp_p99 = lambda x: (x['q99']-x['q75'])/(x['q75']-x['q25']),\n",
    "                c_low_p05 = lambda x: (x['q25']-x['q05'])/(x['q75']-x['q25']),\n",
    "                c_upp_p95 = lambda x: (x['q95']-x['q75'])/(x['q75']-x['q25'])\n",
    "               ) \\\n",
    "        [['region_slug', 'c_low_p01', 'c_upp_p99', 'c_low_p05', 'c_upp_p95']]\n",
    "    \n",
    "    df_c['c_min'] = df_c[['c_low_p01', 'c_upp_p99', 'c_low_p05', 'c_upp_p95']].min(axis=1)\n",
    "    df_c['c_max'] = df_c[['c_low_p01', 'c_upp_p99', 'c_low_p05', 'c_upp_p95']].max(axis=1)\n",
    "    df_c['c_avg'] = df_c[['c_low_p01', 'c_upp_p99', 'c_low_p05', 'c_upp_p95']].mean(axis=1)\n",
    "    df_c['c_lsa'] = df_c['c_max']*1.5\n",
    "    df_c['c_lsb'] = df_c['c_max']*2\n",
    "    df_c['c_lsc'] = 100*df_c['c_max']/df_c['c_max']\n",
    "    \n",
    "    return df_c\n",
    "\n",
    "def _save_cs_file(): \n",
    "    \n",
    "    logger.debug('writing file')\n",
    "    \n",
    "    df_c = _create_cs_file(path_c = '~/shared/spd-sdv-omitnik-waze/corona/cleaning/data/staging/cities_iqr.csv')\n",
    "    print(df_c.shape)\n",
    "    print(df_c.describe())\n",
    "    df_c.to_csv('~/shared/spd-sdv-omitnik-waze/corona/cleaning/data/staging/cities_c_iqr.csv', index=False)\n",
    "    "
   ]
  },
  {
   "cell_type": "markdown",
   "metadata": {},
   "source": [
    "## Copy percentile"
   ]
  },
  {
   "cell_type": "code",
   "execution_count": 38,
   "metadata": {},
   "outputs": [],
   "source": [
    "!cp ~/shared/spd-sdv-omitnik-waze/waze_tci/region_quantiles/quantiles/regions_quantiles-20210510.csv ~/shared/spd-sdv-omitnik-waze/corona/cleaning/data/raw/regions_quantiles.csv\n",
    "\n",
    "!sed \"s/\\[//g;s/\\]//g;s/['\\\"]//g\" ~/shared/spd-sdv-omitnik-waze/corona/cleaning/data/raw/regions_quantiles.csv > ~/shared/spd-sdv-omitnik-waze/corona/cleaning/data/staging/cities_iqr_00.csv"
   ]
  },
  {
   "cell_type": "code",
   "execution_count": 39,
   "metadata": {},
   "outputs": [],
   "source": [
    "%%bash \n",
    "\n",
    "echo -e \"region_slug,mean,var_p, var_s,q10,q20,q30,q40,q50,q60,q70,q80,q90,q01,q99,q25,q75,q05,q95\" | cat - ~/shared/spd-sdv-omitnik-waze/corona/cleaning/data/staging/cities_iqr_00.csv > ~/shared/spd-sdv-omitnik-waze/corona/cleaning/data/staging/cities_iqr.csv"
   ]
  },
  {
   "cell_type": "code",
   "execution_count": 40,
   "metadata": {},
   "outputs": [],
   "source": [
    "!rm ~/shared/spd-sdv-omitnik-waze/corona/cleaning/data/staging/cities_iqr_00.csv"
   ]
  },
  {
   "cell_type": "code",
   "execution_count": 41,
   "metadata": {},
   "outputs": [
    {
     "name": "stdout",
     "output_type": "stream",
     "text": [
      "region_slug,mean,var_p, var_s,q10,q20,q30,q40,q50,q60,q70,q80,q90,q01,q99,q25,q75,q05,q95\r\n",
      "aguascalientes,8039136.868743886,8862843413565.455,8887326406420.607,3829261.1993683483,5605996.229991711,6600013.058713919,6932325.881132038,7473441.530126513,8626943.901942156,9718372.086622398,11136396.36923769,11136396.36923769,2151065.466800198,14393234.680959623,6215087.576892198,10248917.983242217,3349729.7486610203,12964231.367048915\r\n"
     ]
    }
   ],
   "source": [
    "!head -2 ~/shared/spd-sdv-omitnik-waze/corona/cleaning/data/staging/cities_iqr.csv"
   ]
  },
  {
   "cell_type": "code",
   "execution_count": 53,
   "metadata": {},
   "outputs": [
    {
     "name": "stdout",
     "output_type": "stream",
     "text": [
      "121 /home/soniame/shared/spd-sdv-omitnik-waze/corona/cleaning/data/staging/cities_iqr.csv\r\n"
     ]
    }
   ],
   "source": [
    "!wc -l ~/shared/spd-sdv-omitnik-waze/corona/cleaning/data/staging/cities_iqr.csv"
   ]
  },
  {
   "cell_type": "markdown",
   "metadata": {},
   "source": [
    "## Save c's file"
   ]
  },
  {
   "cell_type": "code",
   "execution_count": 145,
   "metadata": {},
   "outputs": [
    {
     "name": "stderr",
     "output_type": "stream",
     "text": [
      "2021-05-20 22:15:14.979 | DEBUG    | __main__:_save_cs_file:46 - writing file\n"
     ]
    },
    {
     "name": "stdout",
     "output_type": "stream",
     "text": [
      "set()\n",
      "{nan}\n",
      "(109, 11)\n",
      "        c_low_p01   c_upp_p99   c_low_p05   c_upp_p95       c_min       c_max  \\\n",
      "count  109.000000  109.000000  109.000000  109.000000  109.000000  109.000000   \n",
      "mean     0.873449    1.521658    0.653693    0.778328    0.528733    1.596001   \n",
      "std      0.421591    0.889621    0.342205    0.373704    0.216413    0.863302   \n",
      "min      0.213163    0.506459    0.165875    0.308937    0.165875    0.506459   \n",
      "25%      0.540299    0.972159    0.402509    0.529666    0.376233    1.052276   \n",
      "50%      0.726099    1.280941    0.556643    0.675283    0.493846    1.451241   \n",
      "75%      1.231027    1.763011    0.866212    0.922599    0.658330    1.789603   \n",
      "max      2.017849    5.851183    1.580424    2.572249    1.482831    5.851183   \n",
      "\n",
      "            c_avg       c_lsa       c_lsb         c_lsc  \n",
      "count  109.000000  109.000000  109.000000  1.090000e+02  \n",
      "mean     0.956782    2.394002    3.192003  1.000000e+02  \n",
      "std      0.345273    1.294953    1.726604  5.296073e-15  \n",
      "min      0.388697    0.759689    1.012918  1.000000e+02  \n",
      "25%      0.699421    1.578414    2.104552  1.000000e+02  \n",
      "50%      0.913811    2.176862    2.902482  1.000000e+02  \n",
      "75%      1.171566    2.684404    3.579205  1.000000e+02  \n",
      "max      2.285736    8.776774   11.702366  1.000000e+02  \n"
     ]
    }
   ],
   "source": [
    "_save_cs_file()"
   ]
  },
  {
   "cell_type": "code",
   "execution_count": 146,
   "metadata": {},
   "outputs": [
    {
     "name": "stdout",
     "output_type": "stream",
     "text": [
      "110\n"
     ]
    }
   ],
   "source": [
    "print(len(df.region_slug.to_list()))\n",
    "#df.region_slug.to_list()"
   ]
  },
  {
   "cell_type": "code",
   "execution_count": 125,
   "metadata": {},
   "outputs": [],
   "source": [
    "#df[85:]"
   ]
  },
  {
   "cell_type": "code",
   "execution_count": 126,
   "metadata": {},
   "outputs": [],
   "source": [
    "#df[df.region_slug == 'country_nicaragua']"
   ]
  },
  {
   "cell_type": "markdown",
   "metadata": {},
   "source": [
    "### Add Brazil average"
   ]
  },
  {
   "cell_type": "code",
   "execution_count": 147,
   "metadata": {},
   "outputs": [],
   "source": [
    "df = pd.read_csv('~/shared/spd-sdv-omitnik-waze/corona/cleaning/data/staging/cities_c_iqr.csv')"
   ]
  },
  {
   "cell_type": "code",
   "execution_count": 129,
   "metadata": {},
   "outputs": [
    {
     "name": "stderr",
     "output_type": "stream",
     "text": [
      "../src/utils.py:158: YAMLLoadWarning: calling yaml.load() without Loader=... is deprecated, as the default Loader is unsafe. Please read https://msg.pyyaml.org/load for full details.\n",
      "  athena_config = yaml.load(open(path, \"r\"))\n"
     ]
    }
   ],
   "source": [
    "#from src import utils\n",
    "#conn = utils.connect_athena(path='../configs/athena.yaml')\n",
    "#pd.read_sql_query(\"\"\"\n",
    "#select \n",
    "#    distinct country_iso_code, country_name,  region_slug\n",
    "#from spd_sdv_waze_corona.prod_daily_daily_index\n",
    "#where country_iso_code in ('BR', 'HN', 'UY') \n",
    "#    and region_slug NOT LIKE 'br_states%'\n",
    "#\"\"\", conn)"
   ]
  },
  {
   "cell_type": "code",
   "execution_count": 148,
   "metadata": {},
   "outputs": [
    {
     "name": "stderr",
     "output_type": "stream",
     "text": [
      "../src/utils.py:158: YAMLLoadWarning: calling yaml.load() without Loader=... is deprecated, as the default Loader is unsafe. Please read https://msg.pyyaml.org/load for full details.\n",
      "  athena_config = yaml.load(open(path, \"r\"))\n"
     ]
    }
   ],
   "source": [
    "from src import utils\n",
    "conn = utils.connect_athena(path='../configs/athena.yaml')\n",
    "br_regions = pd.read_sql_query(\"\"\"\n",
    "select \n",
    "    distinct region_slug\n",
    "from spd_sdv_waze_corona.prod_daily_daily_index\n",
    "where country_iso_code in ('BR')--, 'HN', 'UY') \n",
    "    and region_slug NOT LIKE 'br_states%'\n",
    "\"\"\", conn)"
   ]
  },
  {
   "cell_type": "code",
   "execution_count": 149,
   "metadata": {},
   "outputs": [
    {
     "data": {
      "text/plain": [
       "(22, 11)"
      ]
     },
     "execution_count": 149,
     "metadata": {},
     "output_type": "execute_result"
    }
   ],
   "source": [
    "df_br = df[df.region_slug.isin(br_regions.region_slug.to_list())]\n",
    "df_br.shape"
   ]
  },
  {
   "cell_type": "code",
   "execution_count": 150,
   "metadata": {},
   "outputs": [],
   "source": [
    "import numpy as np\n",
    "dicts_avg = {'region_slug':'country_brazil'}\n",
    "keys = df_br.select_dtypes(include=np.number).columns.tolist()\n",
    "for k in keys:\n",
    "        dicts_avg[k] =df_br[k].mean()"
   ]
  },
  {
   "cell_type": "code",
   "execution_count": 151,
   "metadata": {},
   "outputs": [
    {
     "name": "stdout",
     "output_type": "stream",
     "text": [
      "110\n"
     ]
    }
   ],
   "source": [
    "df_ap = df.append(dicts_avg, ignore_index=True)\n",
    "print(len(df_ap.region_slug.to_list()))\n",
    "df_ap.to_csv('~/shared/spd-sdv-omitnik-waze/corona/cleaning/data/staging/cities_c_iqr.csv', index=False)"
   ]
  },
  {
   "cell_type": "markdown",
   "metadata": {},
   "source": [
    "### Regions missing"
   ]
  },
  {
   "cell_type": "code",
   "execution_count": 152,
   "metadata": {},
   "outputs": [],
   "source": [
    "# %load first_cell.py\n",
    "%reload_ext autoreload\n",
    "%autoreload 2\n",
    "#from pathlib import Path\n",
    "#home = str(Path.home())\n",
    "\n",
    "import sys\n",
    "sys.path.insert(0, '../')\n",
    "\n",
    "from src import utils"
   ]
  },
  {
   "cell_type": "code",
   "execution_count": 153,
   "metadata": {},
   "outputs": [],
   "source": [
    "conn = utils.connect_athena(path='../configs/athena.yaml')"
   ]
  },
  {
   "cell_type": "code",
   "execution_count": 154,
   "metadata": {},
   "outputs": [],
   "source": [
    "qry = \"\"\"\n",
    "    select distinct region_slug\n",
    "    from spd_sdv_waze_corona.prod_daily_daily_index\n",
    "\"\"\"\n",
    "dash_regions = pd.read_sql_query(qry, conn).sort_values('region_slug').region_slug.unique()"
   ]
  },
  {
   "cell_type": "code",
   "execution_count": 155,
   "metadata": {},
   "outputs": [],
   "source": [
    "df = pd.read_csv('~/shared/spd-sdv-omitnik-waze/corona/cleaning/data/staging/cities_c_iqr.csv')\n",
    "cpar_regions = df.region_slug.to_list()"
   ]
  },
  {
   "cell_type": "code",
   "execution_count": 156,
   "metadata": {},
   "outputs": [
    {
     "data": {
      "text/plain": [
       "79"
      ]
     },
     "execution_count": 156,
     "metadata": {},
     "output_type": "execute_result"
    }
   ],
   "source": [
    "a = set(dash_regions)\n",
    "b = set(cpar_regions)\n",
    "len(a.intersection(b))"
   ]
  },
  {
   "cell_type": "code",
   "execution_count": 157,
   "metadata": {},
   "outputs": [
    {
     "data": {
      "text/plain": [
       "{'br_states_acre',\n",
       " 'br_states_alagoas',\n",
       " 'br_states_amapa',\n",
       " 'br_states_amazonas',\n",
       " 'br_states_bahia',\n",
       " 'br_states_ceara',\n",
       " 'br_states_distrito_federal',\n",
       " 'br_states_espirito_santo',\n",
       " 'br_states_goias',\n",
       " 'br_states_maranhao',\n",
       " 'br_states_mato_grosso',\n",
       " 'br_states_mato_grosso_do_sul',\n",
       " 'br_states_minas_gerais',\n",
       " 'br_states_para',\n",
       " 'br_states_paraiba',\n",
       " 'br_states_parana',\n",
       " 'br_states_pernambuco',\n",
       " 'br_states_piaui',\n",
       " 'br_states_rio_de_janeiro',\n",
       " 'br_states_rio_grande_do_norte',\n",
       " 'br_states_rio_grande_do_sul',\n",
       " 'br_states_rondonia',\n",
       " 'br_states_roraima',\n",
       " 'br_states_santa_catarina',\n",
       " 'br_states_sao_paulo',\n",
       " 'br_states_sergipe',\n",
       " 'br_states_tocantins',\n",
       " 'country_honduras',\n",
       " 'country_uruguay'}"
      ]
     },
     "execution_count": 157,
     "metadata": {},
     "output_type": "execute_result"
    }
   ],
   "source": [
    "a.difference(b)"
   ]
  },
  {
   "cell_type": "code",
   "execution_count": 158,
   "metadata": {},
   "outputs": [
    {
     "data": {
      "text/plain": [
       "{'asuncion',\n",
       " 'barcelona',\n",
       " 'barquisimeto',\n",
       " 'belpoman',\n",
       " 'bridgetown',\n",
       " 'caracas',\n",
       " 'ciudad_guayana',\n",
       " 'cochabamba',\n",
       " 'country_belize',\n",
       " 'country_bolivia',\n",
       " 'country_guyana',\n",
       " 'country_haiti',\n",
       " 'country_suriname',\n",
       " 'country_the_bahamas',\n",
       " 'country_venezuela',\n",
       " 'florianopolis',\n",
       " 'georgetown',\n",
       " 'joinville',\n",
       " 'juarez',\n",
       " 'lapaz',\n",
       " 'maracaibo',\n",
       " 'maracay',\n",
       " 'mendoza',\n",
       " 'nassau',\n",
       " 'paramaribo',\n",
       " 'portauprince',\n",
       " 'portofspain',\n",
       " 'sanfernado',\n",
       " 'sanpedrosula',\n",
       " 'tijuana',\n",
       " 'valencia'}"
      ]
     },
     "execution_count": 158,
     "metadata": {},
     "output_type": "execute_result"
    }
   ],
   "source": [
    "b.difference(a)"
   ]
  },
  {
   "cell_type": "code",
   "execution_count": null,
   "metadata": {},
   "outputs": [],
   "source": []
  },
  {
   "cell_type": "code",
   "execution_count": null,
   "metadata": {},
   "outputs": [],
   "source": []
  }
 ],
 "metadata": {
  "kernelspec": {
   "display_name": "IDB-IDB-Invest-Coronavirus-Impact-Dashboard",
   "language": "python",
   "name": "idb-idb-invest-coronavirus-impact-dashboard"
  },
  "language_info": {
   "codemirror_mode": {
    "name": "ipython",
    "version": 3
   },
   "file_extension": ".py",
   "mimetype": "text/x-python",
   "name": "python",
   "nbconvert_exporter": "python",
   "pygments_lexer": "ipython3",
   "version": "3.7.10"
  }
 },
 "nbformat": 4,
 "nbformat_minor": 2
}
