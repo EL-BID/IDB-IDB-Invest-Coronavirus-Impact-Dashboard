{
 "cells": [
  {
   "cell_type": "markdown",
   "metadata": {},
   "source": [
    "# Preprocess c file\n",
    "\n",
    "TCI percentiles per city-country\n",
    "\n",
    "`Last update`: 2021-04-15"
   ]
  },
  {
   "cell_type": "code",
   "execution_count": 518,
   "metadata": {},
   "outputs": [],
   "source": [
    "import subprocess\n",
    "import pandas as pd\n",
    "from loguru import logger \n",
    "\n",
    "def _create_cs_file(path_c):\n",
    "    \n",
    "    df = pd.read_csv(path_c)\n",
    "    a = set(df.region_slug)\n",
    "    \n",
    "    df = df \\\n",
    "        .drop_duplicates('region_slug') \n",
    "    b = set(df.region_slug)\n",
    "    \n",
    "    df = df\\\n",
    "        .dropna()\n",
    "    c = set(df.region_slug)\n",
    "\n",
    "    print (a.difference(b))\n",
    "    print (a.difference(c))\n",
    "    \n",
    "    for k in df.columns:\n",
    "        if k != 'region_slug':\n",
    "            df[k] = pd.to_numeric(df[k])\n",
    "        if k == 'region_slug':\n",
    "            df[k] = df[k].astype(str) \n",
    "\n",
    "    df_c = df \\\n",
    "        .assign(c_low_p01 = lambda x: (x['q25']-x['q01'])/(x['q75']-x['q25']),\n",
    "                c_upp_p99 = lambda x: (x['q99']-x['q75'])/(x['q75']-x['q25']),\n",
    "                c_low_p05 = lambda x: (x['q25']-x['q05'])/(x['q75']-x['q25']),\n",
    "                c_upp_p95 = lambda x: (x['q95']-x['q75'])/(x['q75']-x['q25'])\n",
    "               ) \\\n",
    "        [['region_slug', 'c_low_p01', 'c_upp_p99', 'c_low_p05', 'c_upp_p95']]\n",
    "    \n",
    "    df_c['c_min'] = df_c[['c_low_p01', 'c_upp_p99', 'c_low_p05', 'c_upp_p95']].min(axis=1)\n",
    "    df_c['c_max'] = df_c[['c_low_p01', 'c_upp_p99', 'c_low_p05', 'c_upp_p95']].max(axis=1)\n",
    "    df_c['c_avg'] = df_c[['c_low_p01', 'c_upp_p99', 'c_low_p05', 'c_upp_p95']].mean(axis=1)\n",
    "    \n",
    "    return df_c\n",
    "\n",
    "def _save_cs_file(): \n",
    "    \n",
    "    logger.debug('writing file')\n",
    "    \n",
    "    df_c = _create_cs_file(path_c = '~/shared/spd-sdv-omitnik-waze/corona/cleaning/data/staging/cities_iqr.csv')\n",
    "    print(df_c.shape)\n",
    "    print(df_c.describe())\n",
    "    df_c.to_csv('~/shared/spd-sdv-omitnik-waze/corona/cleaning/data/staging/cities_c_iqr.csv', index=False)\n",
    "    "
   ]
  },
  {
   "cell_type": "markdown",
   "metadata": {},
   "source": [
    "## Copy percentile"
   ]
  },
  {
   "cell_type": "code",
   "execution_count": 474,
   "metadata": {},
   "outputs": [],
   "source": [
    "!cp ~/shared/spd-sdv-omitnik-waze/waze_tci/region_quantiles/quantiles/regions_quantiles-20210420.csv ~/shared/spd-sdv-omitnik-waze/corona/cleaning/data/raw/regions_quantiles.csv\n",
    "\n",
    "!sed \"s/\\[//g;s/\\]//g;s/['\\\"]//g\" ~/shared/spd-sdv-omitnik-waze/corona/cleaning/data/raw/regions_quantiles.csv > ~/shared/spd-sdv-omitnik-waze/corona/cleaning/data/staging/cities_iqr_00.csv"
   ]
  },
  {
   "cell_type": "code",
   "execution_count": 475,
   "metadata": {},
   "outputs": [],
   "source": [
    "%%bash \n",
    "\n",
    "echo -e \"region_slug,mean,var_p, var_s,q10,q20,q30,q40,q50,q60,q70,q80,q90,q01,q99,q25,q75,q05,q95\" | cat - ~/shared/spd-sdv-omitnik-waze/corona/cleaning/data/staging/cities_iqr_00.csv > ~/shared/spd-sdv-omitnik-waze/corona/cleaning/data/staging/cities_iqr.csv"
   ]
  },
  {
   "cell_type": "code",
   "execution_count": 476,
   "metadata": {},
   "outputs": [],
   "source": [
    "!rm ~/shared/spd-sdv-omitnik-waze/corona/cleaning/data/staging/cities_iqr_00.csv"
   ]
  },
  {
   "cell_type": "code",
   "execution_count": 477,
   "metadata": {},
   "outputs": [
    {
     "name": "stdout",
     "output_type": "stream",
     "text": [
      "region_slug,mean,var_p, var_s,q10,q20,q30,q40,q50,q60,q70,q80,q90,q01,q99,q25,q75,q05,q95\r\n",
      "aguascalientes,8039136.868743886,8862843413565.455,8887326406420.607,3829261.1993683483,5605996.229991711,6600013.058713919,6932325.881132038,7473441.530126513,8626943.901942156,9718372.086622398,11136396.36923769,11136396.36923769,2151065.466800198,14393234.680959623,6215087.576892198,10248917.983242217,3349729.7486610203,12964231.367048915\r\n"
     ]
    }
   ],
   "source": [
    "!head -2 ~/shared/spd-sdv-omitnik-waze/corona/cleaning/data/staging/cities_iqr.csv"
   ]
  },
  {
   "cell_type": "code",
   "execution_count": 478,
   "metadata": {},
   "outputs": [
    {
     "name": "stdout",
     "output_type": "stream",
     "text": [
      "107 /home/soniame/shared/spd-sdv-omitnik-waze/corona/cleaning/data/staging/cities_iqr.csv\r\n"
     ]
    }
   ],
   "source": [
    "!wc -l ~/shared/spd-sdv-omitnik-waze/corona/cleaning/data/staging/cities_iqr.csv"
   ]
  },
  {
   "cell_type": "markdown",
   "metadata": {},
   "source": [
    "## Save c's file"
   ]
  },
  {
   "cell_type": "code",
   "execution_count": 519,
   "metadata": {},
   "outputs": [
    {
     "name": "stderr",
     "output_type": "stream",
     "text": [
      "2021-04-22 13:23:07.285 | DEBUG    | __main__:_save_cs_file:43 - writing file\n"
     ]
    },
    {
     "name": "stdout",
     "output_type": "stream",
     "text": [
      "set()\n",
      "{nan}\n",
      "(100, 8)\n",
      "        c_low_p01   c_upp_p99   c_low_p05   c_upp_p95       c_min       c_max  \\\n",
      "count  100.000000  100.000000  100.000000  100.000000  100.000000  100.000000   \n",
      "mean     0.872206    1.501374    0.654722    0.771653    0.531642    1.572998   \n",
      "std      0.423429    0.887724    0.342507    0.374849    0.220602    0.864893   \n",
      "min      0.213163    0.506459    0.165875    0.308937    0.165875    0.506459   \n",
      "25%      0.525674    0.965353    0.400885    0.517304    0.374315    1.034190   \n",
      "50%      0.737493    1.279874    0.556730    0.674209    0.494360    1.407540   \n",
      "75%      1.234659    1.694937    0.875145    0.900741    0.658642    1.788816   \n",
      "max      2.017849    5.851183    1.580424    2.572249    1.482831    5.851183   \n",
      "\n",
      "            c_avg  \n",
      "count  100.000000  \n",
      "mean     0.949989  \n",
      "std      0.347770  \n",
      "min      0.388697  \n",
      "25%      0.683010  \n",
      "50%      0.910712  \n",
      "75%      1.147068  \n",
      "max      2.285736  \n"
     ]
    }
   ],
   "source": [
    "_save_cs_file()"
   ]
  },
  {
   "cell_type": "code",
   "execution_count": null,
   "metadata": {},
   "outputs": [],
   "source": []
  },
  {
   "cell_type": "code",
   "execution_count": 513,
   "metadata": {},
   "outputs": [],
   "source": [
    "df = pd.read_csv('~/shared/spd-sdv-omitnik-waze/corona/cleaning/data/staging/cities_c_iqr.csv')"
   ]
  },
  {
   "cell_type": "code",
   "execution_count": 520,
   "metadata": {},
   "outputs": [
    {
     "data": {
      "text/html": [
       "<div>\n",
       "<style scoped>\n",
       "    .dataframe tbody tr th:only-of-type {\n",
       "        vertical-align: middle;\n",
       "    }\n",
       "\n",
       "    .dataframe tbody tr th {\n",
       "        vertical-align: top;\n",
       "    }\n",
       "\n",
       "    .dataframe thead th {\n",
       "        text-align: right;\n",
       "    }\n",
       "</style>\n",
       "<table border=\"1\" class=\"dataframe\">\n",
       "  <thead>\n",
       "    <tr style=\"text-align: right;\">\n",
       "      <th></th>\n",
       "      <th>region_slug</th>\n",
       "      <th>c_low_p01</th>\n",
       "      <th>c_upp_p99</th>\n",
       "      <th>c_low_p05</th>\n",
       "      <th>c_upp_p95</th>\n",
       "      <th>c_min</th>\n",
       "      <th>c_max</th>\n",
       "      <th>c_avg</th>\n",
       "    </tr>\n",
       "  </thead>\n",
       "  <tbody>\n",
       "    <tr>\n",
       "      <th>0</th>\n",
       "      <td>aguascalientes</td>\n",
       "      <td>1.007485</td>\n",
       "      <td>1.027390</td>\n",
       "      <td>0.710332</td>\n",
       "      <td>0.673135</td>\n",
       "      <td>0.673135</td>\n",
       "      <td>1.027390</td>\n",
       "      <td>0.854585</td>\n",
       "    </tr>\n",
       "    <tr>\n",
       "      <th>1</th>\n",
       "      <td>arequipa</td>\n",
       "      <td>1.370780</td>\n",
       "      <td>1.318878</td>\n",
       "      <td>0.967781</td>\n",
       "      <td>0.620649</td>\n",
       "      <td>0.620649</td>\n",
       "      <td>1.370780</td>\n",
       "      <td>1.069522</td>\n",
       "    </tr>\n",
       "    <tr>\n",
       "      <th>2</th>\n",
       "      <td>asuncion</td>\n",
       "      <td>0.615222</td>\n",
       "      <td>1.589508</td>\n",
       "      <td>0.503198</td>\n",
       "      <td>0.604833</td>\n",
       "      <td>0.503198</td>\n",
       "      <td>1.589508</td>\n",
       "      <td>0.828190</td>\n",
       "    </tr>\n",
       "    <tr>\n",
       "      <th>3</th>\n",
       "      <td>barcelona</td>\n",
       "      <td>0.564193</td>\n",
       "      <td>1.984999</td>\n",
       "      <td>0.447251</td>\n",
       "      <td>1.037351</td>\n",
       "      <td>0.447251</td>\n",
       "      <td>1.984999</td>\n",
       "      <td>1.008448</td>\n",
       "    </tr>\n",
       "    <tr>\n",
       "      <th>4</th>\n",
       "      <td>barquisimeto</td>\n",
       "      <td>0.590701</td>\n",
       "      <td>1.705025</td>\n",
       "      <td>0.494875</td>\n",
       "      <td>0.761201</td>\n",
       "      <td>0.494875</td>\n",
       "      <td>1.705025</td>\n",
       "      <td>0.887950</td>\n",
       "    </tr>\n",
       "    <tr>\n",
       "      <th>...</th>\n",
       "      <td>...</td>\n",
       "      <td>...</td>\n",
       "      <td>...</td>\n",
       "      <td>...</td>\n",
       "      <td>...</td>\n",
       "      <td>...</td>\n",
       "      <td>...</td>\n",
       "      <td>...</td>\n",
       "    </tr>\n",
       "    <tr>\n",
       "      <th>95</th>\n",
       "      <td>monterrey</td>\n",
       "      <td>0.855614</td>\n",
       "      <td>1.054114</td>\n",
       "      <td>0.628113</td>\n",
       "      <td>0.504658</td>\n",
       "      <td>0.504658</td>\n",
       "      <td>1.054114</td>\n",
       "      <td>0.760625</td>\n",
       "    </tr>\n",
       "    <tr>\n",
       "      <th>96</th>\n",
       "      <td>montevideo</td>\n",
       "      <td>0.387725</td>\n",
       "      <td>0.820026</td>\n",
       "      <td>0.300159</td>\n",
       "      <td>0.397569</td>\n",
       "      <td>0.300159</td>\n",
       "      <td>0.820026</td>\n",
       "      <td>0.476370</td>\n",
       "    </tr>\n",
       "    <tr>\n",
       "      <th>97</th>\n",
       "      <td>riodejaneiro</td>\n",
       "      <td>0.705107</td>\n",
       "      <td>0.680928</td>\n",
       "      <td>0.577489</td>\n",
       "      <td>0.387981</td>\n",
       "      <td>0.387981</td>\n",
       "      <td>0.705107</td>\n",
       "      <td>0.587876</td>\n",
       "    </tr>\n",
       "    <tr>\n",
       "      <th>98</th>\n",
       "      <td>saopaulo</td>\n",
       "      <td>0.748888</td>\n",
       "      <td>0.971687</td>\n",
       "      <td>0.577319</td>\n",
       "      <td>0.487433</td>\n",
       "      <td>0.487433</td>\n",
       "      <td>0.971687</td>\n",
       "      <td>0.696331</td>\n",
       "    </tr>\n",
       "    <tr>\n",
       "      <th>99</th>\n",
       "      <td>country_chile</td>\n",
       "      <td>0.408978</td>\n",
       "      <td>4.142745</td>\n",
       "      <td>0.272260</td>\n",
       "      <td>2.572249</td>\n",
       "      <td>0.272260</td>\n",
       "      <td>4.142745</td>\n",
       "      <td>1.849058</td>\n",
       "    </tr>\n",
       "  </tbody>\n",
       "</table>\n",
       "<p>100 rows × 8 columns</p>\n",
       "</div>"
      ],
      "text/plain": [
       "       region_slug  c_low_p01  c_upp_p99  c_low_p05  c_upp_p95     c_min  \\\n",
       "0   aguascalientes   1.007485   1.027390   0.710332   0.673135  0.673135   \n",
       "1         arequipa   1.370780   1.318878   0.967781   0.620649  0.620649   \n",
       "2         asuncion   0.615222   1.589508   0.503198   0.604833  0.503198   \n",
       "3        barcelona   0.564193   1.984999   0.447251   1.037351  0.447251   \n",
       "4     barquisimeto   0.590701   1.705025   0.494875   0.761201  0.494875   \n",
       "..             ...        ...        ...        ...        ...       ...   \n",
       "95       monterrey   0.855614   1.054114   0.628113   0.504658  0.504658   \n",
       "96      montevideo   0.387725   0.820026   0.300159   0.397569  0.300159   \n",
       "97    riodejaneiro   0.705107   0.680928   0.577489   0.387981  0.387981   \n",
       "98        saopaulo   0.748888   0.971687   0.577319   0.487433  0.487433   \n",
       "99   country_chile   0.408978   4.142745   0.272260   2.572249  0.272260   \n",
       "\n",
       "       c_max     c_avg  \n",
       "0   1.027390  0.854585  \n",
       "1   1.370780  1.069522  \n",
       "2   1.589508  0.828190  \n",
       "3   1.984999  1.008448  \n",
       "4   1.705025  0.887950  \n",
       "..       ...       ...  \n",
       "95  1.054114  0.760625  \n",
       "96  0.820026  0.476370  \n",
       "97  0.705107  0.587876  \n",
       "98  0.971687  0.696331  \n",
       "99  4.142745  1.849058  \n",
       "\n",
       "[100 rows x 8 columns]"
      ]
     },
     "execution_count": 520,
     "metadata": {},
     "output_type": "execute_result"
    }
   ],
   "source": [
    "#df[df.region_slug == 'saopaulo']\n",
    "df"
   ]
  },
  {
   "cell_type": "code",
   "execution_count": 499,
   "metadata": {},
   "outputs": [
    {
     "name": "stdout",
     "output_type": "stream",
     "text": [
      "100\n"
     ]
    },
    {
     "data": {
      "text/plain": [
       "['aguascalientes',\n",
       " 'arequipa',\n",
       " 'asuncion',\n",
       " 'barcelona',\n",
       " 'barquisimeto',\n",
       " 'barranquilla',\n",
       " 'belem',\n",
       " 'belohorizonte',\n",
       " 'belpoman',\n",
       " 'brasilia',\n",
       " 'bridgetown',\n",
       " 'bucaramanga',\n",
       " 'buenosaires',\n",
       " 'cali',\n",
       " 'campinas',\n",
       " 'caracas',\n",
       " 'cartagena',\n",
       " 'ciudad_guayana',\n",
       " 'cochabamba',\n",
       " 'cordoba',\n",
       " 'cucuta',\n",
       " 'cuenca',\n",
       " 'curitiba',\n",
       " 'florianopolis',\n",
       " 'fortaleza',\n",
       " 'georgetown',\n",
       " 'goiania',\n",
       " 'guadalajara',\n",
       " 'guatemala',\n",
       " 'guayaquil',\n",
       " 'joaopessoa',\n",
       " 'joinville',\n",
       " 'juarez',\n",
       " 'kingston',\n",
       " 'lapaz',\n",
       " 'leon',\n",
       " 'lima',\n",
       " 'maceio',\n",
       " 'managua',\n",
       " 'manaus',\n",
       " 'maracaibo',\n",
       " 'maracay',\n",
       " 'medellin',\n",
       " 'mendoza',\n",
       " 'merida',\n",
       " 'nassau',\n",
       " 'natal',\n",
       " 'panamacity',\n",
       " 'paramaribo',\n",
       " 'pereira',\n",
       " 'portauprince',\n",
       " 'porto_alergre',\n",
       " 'portofspain',\n",
       " 'pueble',\n",
       " 'queretaro',\n",
       " 'quito',\n",
       " 'recife',\n",
       " 'rosario',\n",
       " 'salvador',\n",
       " 'sanfernado',\n",
       " 'sanjose',\n",
       " 'sanluispotosi',\n",
       " 'sanpedrosula',\n",
       " 'sansalvador',\n",
       " 'santacruzdelasierra',\n",
       " 'santamarta',\n",
       " 'santiago',\n",
       " 'santiagocaballeros',\n",
       " 'santodomingo',\n",
       " 'santos',\n",
       " 'saojosedoscampos',\n",
       " 'saoluis',\n",
       " 'sorocaba',\n",
       " 'tegucigalpa',\n",
       " 'teresina',\n",
       " 'tijuana',\n",
       " 'toluca',\n",
       " 'torreon',\n",
       " 'valencia',\n",
       " 'vitoria',\n",
       " 'bogota',\n",
       " 'country_ecuador',\n",
       " 'country_argentina',\n",
       " 'country_barbados',\n",
       " 'country_belize',\n",
       " 'country_bolivia',\n",
       " 'country_colombia',\n",
       " 'country_costa_rica',\n",
       " 'country_dominican_republic',\n",
       " 'country_el_salvador',\n",
       " 'country_guatemala',\n",
       " 'country_guyana',\n",
       " 'country_haiti',\n",
       " 'country_jamaica',\n",
       " 'mexicocity',\n",
       " 'monterrey',\n",
       " 'montevideo',\n",
       " 'riodejaneiro',\n",
       " 'saopaulo',\n",
       " 'country_chile']"
      ]
     },
     "execution_count": 499,
     "metadata": {},
     "output_type": "execute_result"
    }
   ],
   "source": [
    "print(len(df.region_slug.to_list()))\n",
    "df.region_slug.to_list()"
   ]
  },
  {
   "cell_type": "markdown",
   "metadata": {},
   "source": [
    "### Regions missing"
   ]
  },
  {
   "cell_type": "code",
   "execution_count": 500,
   "metadata": {},
   "outputs": [],
   "source": [
    "# %load first_cell.py\n",
    "%reload_ext autoreload\n",
    "%autoreload 2\n",
    "#from pathlib import Path\n",
    "#home = str(Path.home())\n",
    "\n",
    "import sys\n",
    "sys.path.insert(0, '../')\n",
    "\n",
    "from src import utils"
   ]
  },
  {
   "cell_type": "code",
   "execution_count": 501,
   "metadata": {},
   "outputs": [
    {
     "name": "stderr",
     "output_type": "stream",
     "text": [
      "../src/utils.py:158: YAMLLoadWarning: calling yaml.load() without Loader=... is deprecated, as the default Loader is unsafe. Please read https://msg.pyyaml.org/load for full details.\n",
      "  athena_config = yaml.load(open(path, \"r\"))\n"
     ]
    }
   ],
   "source": [
    "conn = utils.connect_athena(path='../configs/athena.yaml')"
   ]
  },
  {
   "cell_type": "code",
   "execution_count": 502,
   "metadata": {},
   "outputs": [],
   "source": [
    "qry = \"\"\"\n",
    "    select distinct region_slug\n",
    "    from spd_sdv_waze_corona.prod_daily_daily_index\n",
    "\"\"\"\n",
    "dash_regions = pd.read_sql_query(qry, conn).sort_values('region_slug').region_slug.unique()"
   ]
  },
  {
   "cell_type": "code",
   "execution_count": 503,
   "metadata": {},
   "outputs": [],
   "source": [
    "cpar_regions = df.region_slug.to_list()"
   ]
  },
  {
   "cell_type": "code",
   "execution_count": 504,
   "metadata": {},
   "outputs": [
    {
     "data": {
      "text/plain": [
       "72"
      ]
     },
     "execution_count": 504,
     "metadata": {},
     "output_type": "execute_result"
    }
   ],
   "source": [
    "a = set(dash_regions)\n",
    "b = set(cpar_regions)\n",
    "len(a.intersection(b))"
   ]
  },
  {
   "cell_type": "code",
   "execution_count": 505,
   "metadata": {},
   "outputs": [
    {
     "data": {
      "text/plain": [
       "{'br_states_acre',\n",
       " 'br_states_alagoas',\n",
       " 'br_states_amapa',\n",
       " 'br_states_amazonas',\n",
       " 'br_states_bahia',\n",
       " 'br_states_ceara',\n",
       " 'br_states_distrito_federal',\n",
       " 'br_states_espirito_santo',\n",
       " 'br_states_goias',\n",
       " 'br_states_maranhao',\n",
       " 'br_states_mato_grosso',\n",
       " 'br_states_mato_grosso_do_sul',\n",
       " 'br_states_minas_gerais',\n",
       " 'br_states_para',\n",
       " 'br_states_paraiba',\n",
       " 'br_states_parana',\n",
       " 'br_states_pernambuco',\n",
       " 'br_states_piaui',\n",
       " 'br_states_rio_de_janeiro',\n",
       " 'br_states_rio_grande_do_norte',\n",
       " 'br_states_rio_grande_do_sul',\n",
       " 'br_states_rondonia',\n",
       " 'br_states_roraima',\n",
       " 'br_states_santa_catarina',\n",
       " 'br_states_sao_paulo',\n",
       " 'br_states_sergipe',\n",
       " 'br_states_tocantins',\n",
       " 'country_brazil',\n",
       " 'country_honduras',\n",
       " 'country_mexico',\n",
       " 'country_nicaragua',\n",
       " 'country_panama',\n",
       " 'country_paraguay',\n",
       " 'country_peru',\n",
       " 'country_trinidad_and_tobago',\n",
       " 'country_uruguay'}"
      ]
     },
     "execution_count": 505,
     "metadata": {},
     "output_type": "execute_result"
    }
   ],
   "source": [
    "a.difference(b)"
   ]
  },
  {
   "cell_type": "code",
   "execution_count": null,
   "metadata": {},
   "outputs": [],
   "source": []
  }
 ],
 "metadata": {
  "kernelspec": {
   "display_name": "IDB-IDB-Invest-Coronavirus-Impact-Dashboard",
   "language": "python",
   "name": "idb-idb-invest-coronavirus-impact-dashboard"
  },
  "language_info": {
   "codemirror_mode": {
    "name": "ipython",
    "version": 3
   },
   "file_extension": ".py",
   "mimetype": "text/x-python",
   "name": "python",
   "nbconvert_exporter": "python",
   "pygments_lexer": "ipython3",
   "version": "3.7.10"
  }
 },
 "nbformat": 4,
 "nbformat_minor": 2
}
