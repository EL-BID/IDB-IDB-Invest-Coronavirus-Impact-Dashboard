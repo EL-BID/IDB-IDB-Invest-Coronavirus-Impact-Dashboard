{
 "cells": [
  {
   "cell_type": "markdown",
   "metadata": {},
   "source": [
    "# Cleaning duplicated info S3 path\n",
    "\n",
    "Duplicate dates created when changing versions of daily step"
   ]
  },
  {
   "cell_type": "code",
   "execution_count": 1,
   "metadata": {},
   "outputs": [],
   "source": [
    "# libraries\n",
    "import glob\n",
    "import os\n",
    "from pathlib import Path\n",
    "import shutil"
   ]
  },
  {
   "cell_type": "code",
   "execution_count": 2,
   "metadata": {},
   "outputs": [],
   "source": [
    "# functions\n",
    "def rm_region_dir(daily_path, region_slug):\n",
    "    \n",
    "    # region path to search files \n",
    "    region_path = os.path.join(daily_path, region_slug)\n",
    "    # list of files in region_slug directory\n",
    "    region_files = os.listdir(region_path)\n",
    "    # intersection of files in directory and files to delete\n",
    "    region_rm = list(set(region_files) & set(files_remove))\n",
    "    print(f\"{str(len(region_rm))} files to rm in {region_slug} \")\n",
    "    # delete such files\n",
    "    [shutil.rmtree(os.path.join(region_path, k)) for k in region_rm]    \n",
    "    \n",
    "    return len(os.listdir(region_path))"
   ]
  },
  {
   "cell_type": "markdown",
   "metadata": {},
   "source": [
    "## DASHBOARD DEV DAILY"
   ]
  },
  {
   "cell_type": "code",
   "execution_count": 4,
   "metadata": {},
   "outputs": [
    {
     "name": "stdout",
     "output_type": "stream",
     "text": [
      "139\n"
     ]
    }
   ],
   "source": [
    "# Files to remove in dev\n",
    "daily_path = (Path.home() / \n",
    "\"shared/spd-sdv-omitnik-waze/corona/dev/v13/daily/daily/\")\n",
    "region_dirs = os.listdir(daily_path)\n",
    "print(len(region_dirs))\n",
    "\n",
    "# files to remove\n",
    "files_remove = ['year2020month03day09', 'year2020month03day10', \n",
    "                'year2020month08day19','year2020month08day20', \n",
    "                'year2020week35', 'year2021week22', \n",
    "                'year2021week23', 'year2021week24']\n"
   ]
  },
  {
   "cell_type": "code",
   "execution_count": 5,
   "metadata": {},
   "outputs": [
    {
     "name": "stdout",
     "output_type": "stream",
     "text": [
      "4 files to rm in region_slug=aguascalientes \n",
      "4 files to rm in region_slug=arequipa \n",
      "4 files to rm in region_slug=asuncion \n",
      "0 files to rm in region_slug=barcelona \n",
      "0 files to rm in region_slug=barquisimeto \n",
      "4 files to rm in region_slug=barranquilla \n",
      "4 files to rm in region_slug=belem \n",
      "4 files to rm in region_slug=belohorizonte \n",
      "0 files to rm in region_slug=belpoman \n",
      "4 files to rm in region_slug=bogota \n",
      "4 files to rm in region_slug=br_states_acre \n",
      "4 files to rm in region_slug=br_states_alagoas \n",
      "4 files to rm in region_slug=br_states_amapa \n",
      "4 files to rm in region_slug=br_states_amazonas \n",
      "4 files to rm in region_slug=br_states_bahia \n",
      "4 files to rm in region_slug=br_states_ceara \n",
      "4 files to rm in region_slug=br_states_distrito_federal \n",
      "4 files to rm in region_slug=br_states_espirito_santo \n",
      "4 files to rm in region_slug=br_states_goias \n",
      "4 files to rm in region_slug=br_states_maranhao \n",
      "4 files to rm in region_slug=br_states_mato_grosso \n",
      "4 files to rm in region_slug=br_states_mato_grosso_do_sul \n",
      "4 files to rm in region_slug=br_states_minas_gerais \n",
      "4 files to rm in region_slug=br_states_para \n",
      "4 files to rm in region_slug=br_states_paraiba \n",
      "4 files to rm in region_slug=br_states_parana \n",
      "4 files to rm in region_slug=br_states_pernambuco \n",
      "4 files to rm in region_slug=br_states_piaui \n",
      "4 files to rm in region_slug=br_states_rio_de_janeiro \n",
      "4 files to rm in region_slug=br_states_rio_grande_do_norte \n",
      "4 files to rm in region_slug=br_states_rio_grande_do_sul \n",
      "4 files to rm in region_slug=br_states_rondonia \n",
      "4 files to rm in region_slug=br_states_roraima \n",
      "4 files to rm in region_slug=br_states_santa_catarina \n",
      "4 files to rm in region_slug=br_states_sao_paulo \n",
      "4 files to rm in region_slug=br_states_sergipe \n",
      "4 files to rm in region_slug=br_states_tocantins \n",
      "4 files to rm in region_slug=brasilia \n",
      "0 files to rm in region_slug=bridgetown \n",
      "4 files to rm in region_slug=bucaramanga \n",
      "4 files to rm in region_slug=buenosaires \n",
      "4 files to rm in region_slug=cali \n",
      "4 files to rm in region_slug=campinas \n",
      "4 files to rm in region_slug=caracas \n",
      "4 files to rm in region_slug=cartagena \n",
      "0 files to rm in region_slug=ciudad_guayana \n",
      "0 files to rm in region_slug=cochabamba \n",
      "4 files to rm in region_slug=cordoba \n",
      "4 files to rm in region_slug=country_argentina \n",
      "4 files to rm in region_slug=country_barbados \n",
      "4 files to rm in region_slug=country_belize \n",
      "4 files to rm in region_slug=country_bolivia \n",
      "0 files to rm in region_slug=country_brazil \n",
      "4 files to rm in region_slug=country_chile \n",
      "4 files to rm in region_slug=country_colombia \n",
      "4 files to rm in region_slug=country_costa_rica \n",
      "4 files to rm in region_slug=country_dominican_republic \n",
      "4 files to rm in region_slug=country_ecuador \n",
      "4 files to rm in region_slug=country_el_salvador \n",
      "4 files to rm in region_slug=country_guatemala \n",
      "0 files to rm in region_slug=country_guyana \n",
      "4 files to rm in region_slug=country_haiti \n",
      "4 files to rm in region_slug=country_honduras \n",
      "4 files to rm in region_slug=country_jamaica \n",
      "0 files to rm in region_slug=country_mexico \n",
      "4 files to rm in region_slug=country_nicaragua \n",
      "4 files to rm in region_slug=country_panama \n",
      "4 files to rm in region_slug=country_paraguay \n",
      "4 files to rm in region_slug=country_peru \n",
      "0 files to rm in region_slug=country_suriname \n",
      "0 files to rm in region_slug=country_the_bahamas \n",
      "4 files to rm in region_slug=country_trinidad_and_tobago \n",
      "4 files to rm in region_slug=country_uruguay \n",
      "4 files to rm in region_slug=country_venezuela \n",
      "4 files to rm in region_slug=cucuta \n",
      "4 files to rm in region_slug=cuenca \n",
      "4 files to rm in region_slug=curitiba \n",
      "4 files to rm in region_slug=florianopolis \n",
      "4 files to rm in region_slug=fortaleza \n",
      "0 files to rm in region_slug=georgetown \n",
      "4 files to rm in region_slug=goiania \n",
      "4 files to rm in region_slug=guadalajara \n",
      "4 files to rm in region_slug=guatemala \n",
      "4 files to rm in region_slug=guayaquil \n",
      "4 files to rm in region_slug=joaopessoa \n",
      "4 files to rm in region_slug=joinville \n",
      "0 files to rm in region_slug=juarez \n",
      "4 files to rm in region_slug=kingston \n",
      "4 files to rm in region_slug=lapaz \n",
      "4 files to rm in region_slug=leon \n",
      "4 files to rm in region_slug=lima \n",
      "4 files to rm in region_slug=maceio \n",
      "4 files to rm in region_slug=managua \n",
      "4 files to rm in region_slug=manaus \n",
      "0 files to rm in region_slug=maracaibo \n",
      "4 files to rm in region_slug=maracay \n",
      "4 files to rm in region_slug=medellin \n",
      "4 files to rm in region_slug=mendoza \n",
      "4 files to rm in region_slug=merida \n",
      "4 files to rm in region_slug=mexicocity \n",
      "4 files to rm in region_slug=monterrey \n",
      "4 files to rm in region_slug=montevideo \n",
      "0 files to rm in region_slug=nassau \n",
      "4 files to rm in region_slug=natal \n",
      "4 files to rm in region_slug=panamacity \n",
      "0 files to rm in region_slug=paramaribo \n",
      "4 files to rm in region_slug=pereira \n",
      "0 files to rm in region_slug=portauprince \n",
      "4 files to rm in region_slug=porto_alergre \n",
      "4 files to rm in region_slug=portofspain \n",
      "4 files to rm in region_slug=pueble \n",
      "4 files to rm in region_slug=queretaro \n",
      "4 files to rm in region_slug=quito \n",
      "4 files to rm in region_slug=recife \n",
      "4 files to rm in region_slug=riodejaneiro \n",
      "4 files to rm in region_slug=rosario \n",
      "4 files to rm in region_slug=salvador \n",
      "4 files to rm in region_slug=sanfernado \n",
      "4 files to rm in region_slug=sanjose \n",
      "4 files to rm in region_slug=sanluispotosi \n",
      "4 files to rm in region_slug=sanpedrosula \n",
      "4 files to rm in region_slug=sansalvador \n",
      "4 files to rm in region_slug=santacruzdelasierra \n",
      "4 files to rm in region_slug=santamarta \n",
      "4 files to rm in region_slug=santiago \n",
      "4 files to rm in region_slug=santiagocaballeros \n",
      "4 files to rm in region_slug=santodomingo \n",
      "2 files to rm in region_slug=santos \n",
      "4 files to rm in region_slug=saojosedoscampos \n",
      "4 files to rm in region_slug=saoluis \n",
      "4 files to rm in region_slug=saopaulo \n",
      "4 files to rm in region_slug=sorocaba \n",
      "4 files to rm in region_slug=tegucigalpa \n",
      "4 files to rm in region_slug=teresina \n",
      "4 files to rm in region_slug=tijuana \n",
      "4 files to rm in region_slug=toluca \n",
      "4 files to rm in region_slug=torreon \n",
      "4 files to rm in region_slug=valencia \n",
      "4 files to rm in region_slug=vitoria \n"
     ]
    }
   ],
   "source": [
    "# Remove files from each region slug\n",
    "# Output is the final date partitions per region\n",
    "total_files = [rm_region_dir(daily_path, region_slug) for region_slug in region_dirs]    "
   ]
  },
  {
   "cell_type": "code",
   "execution_count": null,
   "metadata": {},
   "outputs": [],
   "source": []
  },
  {
   "cell_type": "markdown",
   "metadata": {},
   "source": [
    "## DASHBOARD PROD DAILY"
   ]
  },
  {
   "cell_type": "code",
   "execution_count": null,
   "metadata": {},
   "outputs": [],
   "source": [
    "# Files to remove in dev\n",
    "daily_path = (Path.home() / \n",
    "\"shared/spd-sdv-omitnik-waze/corona/prod/v12/daily/daily/\")\n",
    "region_dirs = os.listdir(daily_path)\n",
    "print(len(region_dirs))\n",
    "\n",
    "# files to remove\n",
    "files_remove = ['year2020month03day09', 'year2020month03day10']\n"
   ]
  }
 ],
 "metadata": {
  "kernelspec": {
   "display_name": "IDB-IDB-Invest-Coronavirus-Impact-Dashboard",
   "language": "python",
   "name": "idb-idb-invest-coronavirus-impact-dashboard"
  },
  "language_info": {
   "codemirror_mode": {
    "name": "ipython",
    "version": 3
   },
   "file_extension": ".py",
   "mimetype": "text/x-python",
   "name": "python",
   "nbconvert_exporter": "python",
   "pygments_lexer": "ipython3",
   "version": "3.7.10"
  },
  "toc": {
   "base_numbering": 1,
   "nav_menu": {},
   "number_sections": true,
   "sideBar": true,
   "skip_h1_title": false,
   "title_cell": "Table of Contents",
   "title_sidebar": "Contents",
   "toc_cell": false,
   "toc_position": {},
   "toc_section_display": true,
   "toc_window_display": true
  }
 },
 "nbformat": 4,
 "nbformat_minor": 2
}
